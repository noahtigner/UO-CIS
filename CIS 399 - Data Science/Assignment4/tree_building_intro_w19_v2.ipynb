{
 "cells": [
  {
   "cell_type": "markdown",
   "metadata": {
    "colab_type": "text",
    "id": "CwcJAxdSDSY7"
   },
   "source": [
    "<h1>\n",
    "<center>\n",
    "Module 4: Automating tree-building\n",
    "</center>\n",
    "</h1>\n",
    "<div class=h1_cell>\n",
    "<p>\n",
    "In this module we will generate trees automatically. The goal is to write a function that will take as arguments a table and a set of columns to consider as node splitters. The function will return a tree that is the best possible using Gini as a measure. Once we have the tree, we can use it to compute accuracy, F1, etc.\n",
    "<p>\n",
    "\n",
    "</div>"
   ]
  },
  {
   "cell_type": "code",
   "execution_count": 1,
   "metadata": {
    "colab": {
     "base_uri": "https://localhost:8080/",
     "height": 121
    },
    "colab_type": "code",
    "id": "sELIQgAoDSY8",
    "outputId": "2a2848c6-f403-4496-9c35-c8cadc508afb"
   },
   "outputs": [
    {
     "name": "stdout",
     "output_type": "stream",
     "text": [
      "Go to this URL in a browser: https://accounts.google.com/o/oauth2/auth?client_id=947318989803-6bn6qk8qdgf4n4g3pfee6491hc0brc4i.apps.googleusercontent.com&redirect_uri=urn%3Aietf%3Awg%3Aoauth%3A2.0%3Aoob&scope=email%20https%3A%2F%2Fwww.googleapis.com%2Fauth%2Fdocs.test%20https%3A%2F%2Fwww.googleapis.com%2Fauth%2Fdrive%20https%3A%2F%2Fwww.googleapis.com%2Fauth%2Fdrive.photos.readonly%20https%3A%2F%2Fwww.googleapis.com%2Fauth%2Fpeopleapi.readonly&response_type=code\n",
      "\n",
      "Enter your authorization code:\n",
      "··········\n",
      "Mounted at /content/gdrive\n"
     ]
    }
   ],
   "source": [
    "import pandas as pd\n",
    "\n",
    "from google.colab import drive\n",
    "drive.mount('/content/gdrive')"
   ]
  },
  {
   "cell_type": "code",
   "execution_count": 0,
   "metadata": {
    "colab": {},
    "colab_type": "code",
    "id": "xWGdycKLDli1"
   },
   "outputs": [],
   "source": [
    "with open('/content/gdrive/My Drive/class_tables/titanic_wrangled_week2.csv', 'r') as f:\n",
    "  titanic_table = pd.read_csv(f)"
   ]
  },
  {
   "cell_type": "code",
   "execution_count": 0,
   "metadata": {
    "colab": {},
    "colab_type": "code",
    "id": "13C7l595Aa_h"
   },
   "outputs": [],
   "source": [
    "with open('/content/gdrive/My Drive/class_tables/titanic_results_week2.csv', 'r') as f:\n",
    "  titanic_results = pd.read_csv(f)"
   ]
  },
  {
   "cell_type": "code",
   "execution_count": 0,
   "metadata": {
    "colab": {},
    "colab_type": "code",
    "id": "4a8oNjS1DSZB"
   },
   "outputs": [],
   "source": [
    "pd.set_option('display.max_columns', None)"
   ]
  },
  {
   "cell_type": "code",
   "execution_count": 5,
   "metadata": {
    "colab": {
     "base_uri": "https://localhost:8080/",
     "height": 147
    },
    "colab_type": "code",
    "id": "uYdkJRoGPZzd",
    "outputId": "2d07c62c-3692-463e-a6d0-a682f931c8e3"
   },
   "outputs": [
    {
     "data": {
      "text/html": [
       "<div>\n",
       "<style scoped>\n",
       "    .dataframe tbody tr th:only-of-type {\n",
       "        vertical-align: middle;\n",
       "    }\n",
       "\n",
       "    .dataframe tbody tr th {\n",
       "        vertical-align: top;\n",
       "    }\n",
       "\n",
       "    .dataframe thead th {\n",
       "        text-align: right;\n",
       "    }\n",
       "</style>\n",
       "<table border=\"1\" class=\"dataframe\">\n",
       "  <thead>\n",
       "    <tr style=\"text-align: right;\">\n",
       "      <th></th>\n",
       "      <th>Survived</th>\n",
       "      <th>Pclass</th>\n",
       "      <th>Name</th>\n",
       "      <th>Sex</th>\n",
       "      <th>Age</th>\n",
       "      <th>SibSp</th>\n",
       "      <th>Parch</th>\n",
       "      <th>Ticket</th>\n",
       "      <th>Fare</th>\n",
       "      <th>Cabin</th>\n",
       "      <th>Embarked</th>\n",
       "      <th>no_age</th>\n",
       "      <th>filled_age</th>\n",
       "      <th>emb_C</th>\n",
       "      <th>emb_Q</th>\n",
       "      <th>emb_S</th>\n",
       "      <th>emb_nan</th>\n",
       "      <th>age_bin</th>\n",
       "      <th>age_Child</th>\n",
       "      <th>age_Adult</th>\n",
       "      <th>age_Senior</th>\n",
       "      <th>sex_female</th>\n",
       "      <th>sex_male</th>\n",
       "      <th>ok_child</th>\n",
       "      <th>pclass_1</th>\n",
       "      <th>pclass_2</th>\n",
       "      <th>pclass_3</th>\n",
       "    </tr>\n",
       "  </thead>\n",
       "  <tbody>\n",
       "    <tr>\n",
       "      <th>0</th>\n",
       "      <td>0</td>\n",
       "      <td>3</td>\n",
       "      <td>Braund, Mr. Owen Harris</td>\n",
       "      <td>male</td>\n",
       "      <td>22.0</td>\n",
       "      <td>1</td>\n",
       "      <td>0</td>\n",
       "      <td>A/5 21171</td>\n",
       "      <td>7.25</td>\n",
       "      <td>NaN</td>\n",
       "      <td>S</td>\n",
       "      <td>0</td>\n",
       "      <td>22.0</td>\n",
       "      <td>0</td>\n",
       "      <td>0</td>\n",
       "      <td>1</td>\n",
       "      <td>0</td>\n",
       "      <td>Child</td>\n",
       "      <td>1</td>\n",
       "      <td>0</td>\n",
       "      <td>0</td>\n",
       "      <td>0</td>\n",
       "      <td>1</td>\n",
       "      <td>0</td>\n",
       "      <td>0</td>\n",
       "      <td>0</td>\n",
       "      <td>1</td>\n",
       "    </tr>\n",
       "  </tbody>\n",
       "</table>\n",
       "</div>"
      ],
      "text/plain": [
       "   Survived  Pclass                     Name   Sex   Age  SibSp  Parch  \\\n",
       "0         0       3  Braund, Mr. Owen Harris  male  22.0      1      0   \n",
       "\n",
       "      Ticket  Fare Cabin Embarked  no_age  filled_age  emb_C  emb_Q  emb_S  \\\n",
       "0  A/5 21171  7.25   NaN        S       0        22.0      0      0      1   \n",
       "\n",
       "   emb_nan age_bin  age_Child  age_Adult  age_Senior  sex_female  sex_male  \\\n",
       "0        0   Child          1          0           0           0         1   \n",
       "\n",
       "   ok_child  pclass_1  pclass_2  pclass_3  \n",
       "0         0         0         0         1  "
      ]
     },
     "execution_count": 5,
     "metadata": {
      "tags": []
     },
     "output_type": "execute_result"
    }
   ],
   "source": [
    "titanic_table.head(1)"
   ]
  },
  {
   "cell_type": "markdown",
   "metadata": {
    "colab_type": "text",
    "id": "Sm5PHwghDSZR"
   },
   "source": [
    "<h2>\n",
    "Import the library files\n",
    "</h2>\n",
    "<p>\n",
    "<div class=h1_cell>\n",
    "<p>\n",
    "We created 3 functions from module 3 that we will need in this module. Below assumes you have added the 3 new functions to a new file called `library_w19_week3.py` on your computer.\n",
    "</div>"
   ]
  },
  {
   "cell_type": "code",
   "execution_count": 6,
   "metadata": {
    "colab": {
     "base_uri": "https://localhost:8080/",
     "height": 34
    },
    "colab_type": "code",
    "id": "ZpXmusWM5UDd",
    "outputId": "3b9e230e-c629-4ab8-d656-c1fc119a4da4"
   },
   "outputs": [
    {
     "name": "stdout",
     "output_type": "stream",
     "text": [
      "rm: cannot remove 'library_w19_week3.py': No such file or directory\n"
     ]
    }
   ],
   "source": [
    "!rm library_w19_week3.py"
   ]
  },
  {
   "cell_type": "code",
   "execution_count": 7,
   "metadata": {
    "colab": {
     "base_uri": "https://localhost:8080/",
     "height": 106,
     "resources": {
      "http://localhost:8080/nbextensions/google.colab/files.js": {
       "data": "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",
       "headers": [
        [
         "content-type",
         "application/javascript"
        ]
       ],
       "ok": true,
       "status": 200,
       "status_text": ""
      }
     }
    },
    "colab_type": "code",
    "id": "t7CkkvNiDSZS",
    "outputId": "0f862ea2-0575-40af-953d-15b36d033cdf"
   },
   "outputs": [
    {
     "data": {
      "text/html": [
       "\n",
       "     <input type=\"file\" id=\"files-95768726-59c0-4422-bd9e-83bcde9943ca\" name=\"files[]\" multiple disabled />\n",
       "     <output id=\"result-95768726-59c0-4422-bd9e-83bcde9943ca\">\n",
       "      Upload widget is only available when the cell has been executed in the\n",
       "      current browser session. Please rerun this cell to enable.\n",
       "      </output>\n",
       "      <script src=\"/nbextensions/google.colab/files.js\"></script> "
      ],
      "text/plain": [
       "<IPython.core.display.HTML object>"
      ]
     },
     "metadata": {
      "tags": []
     },
     "output_type": "display_data"
    },
    {
     "name": "stdout",
     "output_type": "stream",
     "text": [
      "Saving library_w19_week3.py to library_w19_week3.py\n"
     ]
    },
    {
     "data": {
      "text/plain": [
       "{'library_w19_week3.py': b\"def predictor_case(row, pred, target):\\n\\tcase_dict = {(0,0): 'true_negative', (1,1): 'true_positive', (0,1): 'false_negative', (1,0): 'false_positive'}\\n\\tactual = row[target]\\n\\tprediction = row[pred]\\n\\tcase = case_dict[(prediction, actual)]\\n\\treturn case\\n\\ndef accuracy(cases):\\n    tp = cases['true_positive']\\n    tn = cases['true_negative']\\n    fp = cases['false_positive']\\n    fn = cases['false_negative']\\n    return (tp + tn)/(tp+tn+fp+fn)\\n\\ndef f1(cases):\\n    #the heart of the matrix\\n    tp = cases['true_positive']\\n    fn = cases['false_negative']\\n    tn = cases['true_negative']\\n    fp = cases['false_positive']\\n    \\n    #other measures we can derive\\n    recall = 1.0*tp/(tp+fn)  # positive correct divided by total positive in the table\\n    precision = 1.0*tp/(tp+fp) # positive correct divided by all positive predictions made\\n    \\n    #now for the one we want\\n    f1 = 2/(1/recall + 1/precision)\\n    \\n    return f1\\n\\ndef informedness(cases):\\n    tp = cases['true_positive']\\n    fn = cases['false_negative']\\n    tn = cases['true_negative']\\n    fp = cases['false_positive']\\n    recall = 1.0*tp/(tp+fn)  # positive correct divided by total positive in the table\\n    specificty = 1.0*tn/(tn+fp) # negative correct divided by total negative in the table\\n    J = (recall + specificty) - 1\\n    return J\\n\\n#starting week 3\\n\\ndef probabilities(counts):\\n    count_0 = 0 if 0 not in counts else counts[0]  #could have no 0 values\\n    count_1 = 0 if 1 not in counts else counts[1]\\n    total = count_0 + count_1\\n    probs = (0,0) if total == 0 else (count_0/total, count_1/total)  #build 2-tuple\\n    return probs\\n\\ndef gini(counts):\\n    (p0,p1) = probabilities(counts)\\n    sum_probs = p0**2 + p1**2\\n    gini = 1 - sum_probs\\n    return gini\\n\\ndef gig(starting_table, split_column, target_column):\\n    \\n    #split into two branches, i.e., two sub-tables\\n    true_table = starting_table.loc[starting_table[split_column] == 1]\\n    false_table = starting_table.loc[starting_table[split_column] == 0]\\n    \\n    #Now see how the target column is divided up in each sub-table (and the starting table)\\n    true_counts = true_table[target_column].value_counts()  # Note using true_table and not starting_table\\n    false_counts = false_table[target_column].value_counts()  # Note using false_table and not starting_table\\n    starting_counts = starting_table[target_column].value_counts() \\n    \\n    #compute the gini impurity for the 3 tables\\n    starting_gini = gini(starting_counts)\\n    true_gini = gini(true_counts)\\n    false_gini = gini(false_counts)\\n\\n    #compute the weights\\n    starting_size = len(starting_table.index)\\n    true_weight = 0.0 if starting_size == 0 else len(true_table.index)/starting_size\\n    false_weight = 0.0 if starting_size == 0 else len(false_table.index)/starting_size\\n    \\n    #wrap it up and put on a bow\\n    gig = starting_gini - (true_weight * true_gini + false_weight * false_gini)\\n    \\n    return gig\\n\\n'''\\ndef entropy(counts):\\n    (p0, p1) = probabilities(counts)\\n    term1 = -p0*math.log(p0,2) if p0 > 0 else 0\\n    term2 = -p1*math.log(p1,2) if p1 > 0 else 0\\n    entropy = term1 + term2\\n    return entropy\\n\\ndef IGain(starting_table, split_column, target_column):\\n    \\n    #split into two branches, i.e., two sub-tables\\n    true_table = starting_table.loc[starting_table[split_column] == 1]\\n    false_table = starting_table.loc[starting_table[split_column] == 0]\\n    \\n    #Now see how the target column is divided up in each sub-table (and the starting table)\\n    true_counts = true_table[target_column].value_counts()\\n    false_counts = false_table[target_column].value_counts()  # Note using true_table and not titanic_table\\n    starting_counts = starting_table[target_column].value_counts() \\n    \\n    #compute the entropy for the 3 tables\\n    starting_e = entropy(starting_counts)\\n    true_e = entropy(true_counts)\\n    false_e = entropy(false_counts)\\n\\n    #compute the weights\\n    starting_size = len(starting_table.index)\\n    true_weight = 0.0 if starting_size == 0 else 1.0*len(true_table.index)/starting_size\\n    false_weight = 0.0 if starting_size == 0 else 1.0*len(false_table.index)/starting_size\\n    \\n    #wrap it up and put on a bow\\n    infogain = starting_e - (true_weight * true_e + false_weight * false_e)\\n    \\n    return infogain\\n'''\"}"
      ]
     },
     "execution_count": 7,
     "metadata": {
      "tags": []
     },
     "output_type": "execute_result"
    }
   ],
   "source": [
    "from google.colab import files\n",
    "files.upload()\n",
    "# choose the file on your computer to upload it then\n"
   ]
  },
  {
   "cell_type": "code",
   "execution_count": 8,
   "metadata": {
    "colab": {
     "base_uri": "https://localhost:8080/",
     "height": 34
    },
    "colab_type": "code",
    "id": "PqHxaFA7RrzP",
    "outputId": "47acb1fe-9673-48d0-a6db-6cd8b5487eee"
   },
   "outputs": [
    {
     "name": "stdout",
     "output_type": "stream",
     "text": [
      "accuracy\t f1\t gig\t gini\t informedness\t predictor_case\t probabilities\t \n"
     ]
    }
   ],
   "source": [
    "from library_w19_week3 import *\n",
    "%who function"
   ]
  },
  {
   "cell_type": "markdown",
   "metadata": {
    "colab_type": "text",
    "id": "qk2l-HtmDSZi"
   },
   "source": [
    "<h2>\n",
    "What columns do we want to use\n",
    "</h2>\n",
    "<p>\n",
    "<div class=h1_cell>\n",
    "<p>\n",
    "I am going to use the columns below as candidates for splitting in my trees. Note that they are all binary columns.\n",
    "<p>\n",
    "Also note that here is where I could do the k-1 reduction discussed in module 1. I could remove things like `sex_male` or `pclass_1`, in essence do the same thing that `drop_first` does in `get_dummies`. But I choose not to at this point. I want all the debugging info I can get.\n",
    "</div>"
   ]
  },
  {
   "cell_type": "code",
   "execution_count": 0,
   "metadata": {
    "colab": {},
    "colab_type": "code",
    "id": "WjBh4kgrDSZj"
   },
   "outputs": [],
   "source": [
    "splitter_columns = [\n",
    " 'emb_C',\n",
    " 'emb_Q',\n",
    " 'emb_S',\n",
    " 'emb_nan',\n",
    " 'age_Child',\n",
    " 'age_Adult',\n",
    " 'age_Senior',\n",
    " 'no_age',\n",
    " 'ok_child',\n",
    " 'sex_female', \n",
    " 'pclass_1',\n",
    " 'pclass_2',\n",
    " 'pclass_3'\n",
    "]"
   ]
  },
  {
   "cell_type": "markdown",
   "metadata": {
    "colab_type": "text",
    "id": "lO_mYvxgDSZn"
   },
   "source": [
    "<h1>\n",
    "How to view a tree\n",
    "</h1>\n",
    "<p>\n",
    "<div class=h1_cell>\n",
    "<p>\n",
    "I want to move away from having trees represented as nested if-statements in functions. That is too limiting. Instead, I want to represent a tree as data.  Here is what I propose.\n",
    "<ul>\n",
    "<li>A tree has a set of paths where a path connects the root node with a leaf node.</li>\n",
    "<li>Each path represents a conjunction, e.g., `path1 = (sex_female and pclass_2 and emb_S)` represents a conjunction with 3 predicates/conjuncts. If all 3 are true the conjunction is true and path1 is true. If any are false, the conjunction is false and path1 is false.\n",
    "</li>\n",
    "<li>A path also contains a prediction: if the path is true then use the prediction attached to the path.</li>\n",
    "<li>Once we have the set of paths for a tree,  we find one that is true and return its prediction.</li>\n",
    "</ul>\n",
    "<p>\n",
    "I am using the terms conjuncts and predicates interchangeably. Actually, conjunct is the more general term for an item in a conjunction. More specifically, a predicate is a logical function that returns true or false. We will see next that our conjunctions have predicates as items."
   ]
  },
  {
   "cell_type": "markdown",
   "metadata": {
    "colab_type": "text",
    "id": "j6hnCW3sQS-q"
   },
   "source": [
    "<h1>\n",
    "How to build a tree\n",
    "</h1>\n",
    "<p>\n",
    "  The hard part is generating the set of paths for a tree. We can use Gig scores from our last module to make decisions. But still a bit complicated to incrementally build up all the paths. We will tackle that in this module.\n",
    "<p>\n",
    "I am going to break a path up into 2 pieces of data: the conjunction and the prediction. For the conjuncts in the conjunction, I am going to use lambda expressions. So a conjunct is a predicate that returns a true/false value.  Here is my function for building lambda expressions. The `branch` is the path we follow: 1 if true branch, 0 if false branch.\n",
    "</div>"
   ]
  },
  {
   "cell_type": "code",
   "execution_count": 0,
   "metadata": {
    "colab": {},
    "colab_type": "code",
    "id": "2z0bNfoVDSZp"
   },
   "outputs": [],
   "source": [
    "def build_pred(column, branch):\n",
    "    return lambda row: row[column] == branch"
   ]
  },
  {
   "cell_type": "markdown",
   "metadata": {
    "colab_type": "text",
    "id": "tNWO0vIeDSZt"
   },
   "source": [
    "<div class=h1_cell>\n",
    "<p>\n",
    "And here is a simple example of its use.\n",
    "</div>"
   ]
  },
  {
   "cell_type": "code",
   "execution_count": 11,
   "metadata": {
    "colab": {
     "base_uri": "https://localhost:8080/",
     "height": 67
    },
    "colab_type": "code",
    "id": "duzZQqdfDSZt",
    "outputId": "4a3d6ed6-9cb1-4d79-99b6-c660254c3c43"
   },
   "outputs": [
    {
     "data": {
      "text/plain": [
       "[<function __main__.build_pred.<locals>.<lambda>>,\n",
       " <function __main__.build_pred.<locals>.<lambda>>,\n",
       " <function __main__.build_pred.<locals>.<lambda>>]"
      ]
     },
     "execution_count": 11,
     "metadata": {
      "tags": []
     },
     "output_type": "execute_result"
    }
   ],
   "source": [
    "row1 = {'a': 1, 'b': 0, 'c': 0}\n",
    "\n",
    "conjunction1 = [build_pred('a', 1), build_pred('b', 0), build_pred('c', 0)]  # 3 conjuncts/predicates\n",
    "\n",
    "conjunction1  # a list of functions that return true or false, i.e., a list of predicates"
   ]
  },
  {
   "cell_type": "markdown",
   "metadata": {
    "colab_type": "text",
    "id": "3fFY9URZDSZz"
   },
   "source": [
    "<div class=h1_cell>\n",
    "  <h1>The good and bad of map</h1>\n",
    "<p>\n",
    "It seems a bit counter-intuitive, but there is not an ordering on the predicates in a path even though a tree implies\n",
    "\"going down a path\". Each predicate asks a question about a row value. Each question is independent. Hence, we can use a map function to do them independently. And what is way cool is that there is a version of map that actually works in parallel. So we could ask all the questions at once.\n",
    "</div>"
   ]
  },
  {
   "cell_type": "code",
   "execution_count": 12,
   "metadata": {
    "colab": {
     "base_uri": "https://localhost:8080/",
     "height": 34
    },
    "colab_type": "code",
    "id": "V5kFhDllDSZ0",
    "outputId": "09d7cbaf-6d77-4da2-a7c1-5e2aa295d846"
   },
   "outputs": [
    {
     "data": {
      "text/plain": [
       "[True, True, True]"
      ]
     },
     "execution_count": 12,
     "metadata": {
      "tags": []
     },
     "output_type": "execute_result"
    }
   ],
   "source": [
    "boolean_list1 = map(lambda f: f(row1), conjunction1)  #This has potential to be parallelized\n",
    "bl1 = list(boolean_list1) \n",
    "bl1"
   ]
  },
  {
   "cell_type": "markdown",
   "metadata": {
    "colab_type": "text",
    "id": "nA4iZXAywfW_"
   },
   "source": [
    "More `map` craziness. I showed you some of this in the module 0 warm-up. The `map` function returns a `map object` which is a generator. The prescribed way of getting a list from a map object is to turn it into a list. But notice the madness below. The length of `list(boolean_list1)` is 0. But once I assign it to a variable, it becomes 3. In essence, turning it into a list still keeps it in limbo. You have to do something with that list, like assign it to a var, to get the actual values out of it. Cray cray."
   ]
  },
  {
   "cell_type": "code",
   "execution_count": 13,
   "metadata": {
    "colab": {
     "base_uri": "https://localhost:8080/",
     "height": 34
    },
    "colab_type": "code",
    "id": "7ysf56wXy2xT",
    "outputId": "bd733c76-e1d5-4803-abde-daf693c11251"
   },
   "outputs": [
    {
     "data": {
      "text/plain": [
       "(0, 3)"
      ]
     },
     "execution_count": 13,
     "metadata": {
      "tags": []
     },
     "output_type": "execute_result"
    }
   ],
   "source": [
    "(len(list(boolean_list1)), len(bl1))  # Not good IMHO"
   ]
  },
  {
   "cell_type": "code",
   "execution_count": 14,
   "metadata": {
    "colab": {
     "base_uri": "https://localhost:8080/",
     "height": 34
    },
    "colab_type": "code",
    "id": "iEgs3CpLDSZ3",
    "outputId": "0add1967-b444-40ae-fb09-d7bb9db7c76f"
   },
   "outputs": [
    {
     "data": {
      "text/plain": [
       "[True, False, True]"
      ]
     },
     "execution_count": 14,
     "metadata": {
      "tags": []
     },
     "output_type": "execute_result"
    }
   ],
   "source": [
    "row2 = {'a': 1, 'b': 1, 'c': 0}\n",
    "boolean_list2 = map(lambda f: f(row2), conjunction1)\n",
    "bl2 = list(boolean_list2)\n",
    "bl2"
   ]
  },
  {
   "cell_type": "code",
   "execution_count": 15,
   "metadata": {
    "colab": {
     "base_uri": "https://localhost:8080/",
     "height": 34
    },
    "colab_type": "code",
    "id": "816KcHCyDSZ8",
    "outputId": "37f0b90e-d126-410f-d6e2-a65f8d5aae94"
   },
   "outputs": [
    {
     "data": {
      "text/plain": [
       "True"
      ]
     },
     "execution_count": 15,
     "metadata": {
      "tags": []
     },
     "output_type": "execute_result"
    }
   ],
   "source": [
    "all(bl1)  # all returns true if all items in list are true"
   ]
  },
  {
   "cell_type": "code",
   "execution_count": 16,
   "metadata": {
    "colab": {
     "base_uri": "https://localhost:8080/",
     "height": 34
    },
    "colab_type": "code",
    "id": "rqZYYsgnDSaB",
    "outputId": "91e97da9-714d-47d2-a7b2-d095fdb3847d"
   },
   "outputs": [
    {
     "data": {
      "text/plain": [
       "False"
      ]
     },
     "execution_count": 16,
     "metadata": {
      "tags": []
     },
     "output_type": "execute_result"
    }
   ],
   "source": [
    "all(bl2)"
   ]
  },
  {
   "cell_type": "code",
   "execution_count": 17,
   "metadata": {
    "colab": {
     "base_uri": "https://localhost:8080/",
     "height": 34
    },
    "colab_type": "code",
    "id": "NcX_7dkGv4OQ",
    "outputId": "760c3d66-2704-4514-9eee-1c249946794a"
   },
   "outputs": [
    {
     "data": {
      "text/plain": [
       "'[True, False, True]'"
      ]
     },
     "execution_count": 17,
     "metadata": {
      "tags": []
     },
     "output_type": "execute_result"
    }
   ],
   "source": [
    "repr(bl2)"
   ]
  },
  {
   "cell_type": "code",
   "execution_count": 18,
   "metadata": {
    "colab": {
     "base_uri": "https://localhost:8080/",
     "height": 34
    },
    "colab_type": "code",
    "id": "3I6f0px-x1HP",
    "outputId": "30c59593-2f99-49b6-80d6-b4f479c8b660"
   },
   "outputs": [
    {
     "data": {
      "text/plain": [
       "True"
      ]
     },
     "execution_count": 18,
     "metadata": {
      "tags": []
     },
     "output_type": "execute_result"
    }
   ],
   "source": [
    "#More on the crazy side\n",
    "\n",
    "all(list(boolean_list2))  #Should be false as seen above"
   ]
  },
  {
   "cell_type": "markdown",
   "metadata": {
    "colab_type": "text",
    "id": "G_lA0HYfx8HH"
   },
   "source": [
    "So the function `all` applied to a `map object` converted to a list returns true. You can see why above. The list is empty at this point. So same as:"
   ]
  },
  {
   "cell_type": "code",
   "execution_count": 19,
   "metadata": {
    "colab": {
     "base_uri": "https://localhost:8080/",
     "height": 34
    },
    "colab_type": "code",
    "id": "2CRLcpxOzrhD",
    "outputId": "ea71762c-e1d4-4ae5-e79b-00743b9005ca"
   },
   "outputs": [
    {
     "data": {
      "text/plain": [
       "True"
      ]
     },
     "execution_count": 19,
     "metadata": {
      "tags": []
     },
     "output_type": "execute_result"
    }
   ],
   "source": [
    "all([])"
   ]
  },
  {
   "cell_type": "markdown",
   "metadata": {
    "colab_type": "text",
    "id": "1TJhHELzDSaG"
   },
   "source": [
    "<h2>\n",
    "Path as dictionary\n",
    "</h2>\n",
    "<p>\n",
    "<div class=h1_cell>\n",
    "<p>\n",
    "I've decided to use a dictionary to represent a path. A path has a conjunction field and a prediction field.\n",
    "\n",
    "</div>"
   ]
  },
  {
   "cell_type": "code",
   "execution_count": 20,
   "metadata": {
    "colab": {
     "base_uri": "https://localhost:8080/",
     "height": 84
    },
    "colab_type": "code",
    "id": "OlhtNgKEDSaH",
    "outputId": "ce875ae7-0417-41d2-a89f-bd75cac6838d"
   },
   "outputs": [
    {
     "data": {
      "text/plain": [
       "{'conjunction': [<function __main__.build_pred.<locals>.<lambda>>,\n",
       "  <function __main__.build_pred.<locals>.<lambda>>,\n",
       "  <function __main__.build_pred.<locals>.<lambda>>],\n",
       " 'prediction': 1}"
      ]
     },
     "execution_count": 20,
     "metadata": {
      "tags": []
     },
     "output_type": "execute_result"
    }
   ],
   "source": [
    "path1 = {'conjunction': conjunction1, 'prediction': 1}  # I just made up the prediction of 1\n",
    "path1"
   ]
  },
  {
   "cell_type": "markdown",
   "metadata": {
    "colab_type": "text",
    "id": "f9eAyVo_DSaP"
   },
   "source": [
    "<h2>\n",
    "Add debugging info to conjunction\n",
    "</h2>\n",
    "<p>\n",
    "<div class=h1_cell>\n",
    "<p>\n",
    "To help with debugging I decided to make each predicate in a conjunction a 2-tuple. The first item is a string that describes the predicate and the second item is the lambda expression. So conjunction1 above becomes:\n",
    "\n",
    "</div>"
   ]
  },
  {
   "cell_type": "code",
   "execution_count": 21,
   "metadata": {
    "colab": {
     "base_uri": "https://localhost:8080/",
     "height": 67
    },
    "colab_type": "code",
    "id": "a5r8hYUVDSaQ",
    "outputId": "0d8f6343-9e95-487e-96a0-30c010a4d9ad"
   },
   "outputs": [
    {
     "data": {
      "text/plain": [
       "[('a_1', <function __main__.build_pred.<locals>.<lambda>>),\n",
       " ('b_0', <function __main__.build_pred.<locals>.<lambda>>),\n",
       " ('c_0', <function __main__.build_pred.<locals>.<lambda>>)]"
      ]
     },
     "execution_count": 21,
     "metadata": {
      "tags": []
     },
     "output_type": "execute_result"
    }
   ],
   "source": [
    "conjunction1_full = [('a_1', build_pred('a', 1)),\n",
    "                  ('b_0', build_pred('b', 0)),\n",
    "                  ('c_0', build_pred('c', 0))]\n",
    "conjunction1_full"
   ]
  },
  {
   "cell_type": "markdown",
   "metadata": {
    "colab_type": "text",
    "id": "NDR46ma6DSaT"
   },
   "source": [
    "<div class=h1_cell>\n",
    "<p>\n",
    "My 2-tuple idea is a little easier to read. And slightly more complicated to use. You can see I now have to pull the lambda from the tuple to apply it to the row.\n",
    "  <p>\n",
    " Stop and make sure you follow what is happening in the map below.\n",
    "</div>"
   ]
  },
  {
   "cell_type": "code",
   "execution_count": 59,
   "metadata": {
    "colab": {
     "base_uri": "https://localhost:8080/",
     "height": 34
    },
    "colab_type": "code",
    "id": "BLPUsxC7DSaU",
    "outputId": "9641bee4-e62f-4ad0-a3bc-4dec1f0b34bd"
   },
   "outputs": [
    {
     "data": {
      "text/plain": [
       "[True, True, True]"
      ]
     },
     "execution_count": 59,
     "metadata": {
      "tags": []
     },
     "output_type": "execute_result"
    }
   ],
   "source": [
    "boolean_list3 = map(lambda pair: pair[1](row1), conjunction1_full)  # conjunction1_full is a list of 2-tuples\n",
    "bl3 = list(boolean_list3)\n",
    "bl3"
   ]
  },
  {
   "cell_type": "markdown",
   "metadata": {
    "colab_type": "text",
    "id": "yVGhmSKGDSaY"
   },
   "source": [
    "<h2>\n",
    "A tree contains a list of paths\n",
    "</h2>\n",
    "<p>\n",
    "<div class=h1_cell>\n",
    "<p>\n",
    "Since a path is a dictionary, a tree contains a list of dictionaries. Note I am just making up predictions for now. We will have to deal with generating predictions for a path soon.\n",
    "<p>\n",
    "Also note that this is a made-up tree just to show the data structure. We will get to the actual Titanic data in a minute.\n",
    "</div>"
   ]
  },
  {
   "cell_type": "code",
   "execution_count": 22,
   "metadata": {
    "colab": {
     "base_uri": "https://localhost:8080/",
     "height": 151
    },
    "colab_type": "code",
    "id": "9oAhd-eaDSaY",
    "outputId": "671af487-cb63-4998-b5b6-a640269b1775"
   },
   "outputs": [
    {
     "data": {
      "text/plain": [
       "[{'oonjunction': [('a_1', <function __main__.build_pred.<locals>.<lambda>>),\n",
       "   ('b_0', <function __main__.build_pred.<locals>.<lambda>>),\n",
       "   ('c_0', <function __main__.build_pred.<locals>.<lambda>>)],\n",
       "  'prediction': 1},\n",
       " {'oonjunction': [('a_1', <function __main__.build_pred.<locals>.<lambda>>),\n",
       "   ('b_1', <function __main__.build_pred.<locals>.<lambda>>),\n",
       "   ('c_0', <function __main__.build_pred.<locals>.<lambda>>)],\n",
       "  'prediction': 0}]"
      ]
     },
     "execution_count": 22,
     "metadata": {
      "tags": []
     },
     "output_type": "execute_result"
    }
   ],
   "source": [
    "conjunction1_full = [('a_1', build_pred('a', 1)),\n",
    "                  ('b_0', build_pred('b', 0)),\n",
    "                  ('c_0', build_pred('c', 0))]\n",
    "\n",
    "path1 = {'oonjunction': conjunction1_full, 'prediction': 1}\n",
    "\n",
    "conjunction2_full = [('a_1', build_pred('a', 1)),\n",
    "                  ('b_1', build_pred('b', 1)),  # changed to a 1\n",
    "                  ('c_0', build_pred('c', 0))]\n",
    "\n",
    "path2 = {'oonjunction': conjunction2_full, 'prediction': 0}\n",
    "\n",
    "tree_paths = [path1, path2]\n",
    "tree_paths"
   ]
  },
  {
   "cell_type": "markdown",
   "metadata": {
    "colab_type": "text",
    "id": "uwmGPoIODSac"
   },
   "source": [
    "<h2>\n",
    "Choose the best splitter\n",
    "</h2>\n",
    "<p>\n",
    "<div class=h1_cell>\n",
    "<p>\n",
    "Ok, we know have a way to represent a tree as a list of dictionaries, where each ditionary represents one path. Let's move back to building the tree. We need a way to choose the best splitter (AKA feature or column), using gini and gig, from a candidate list of columns.\n",
    "I'd like a function that will\n",
    "return the sorted list where each item is a tuple (column_name, gig_score). The 0th element is the one with the highest gig score (which is the best).\n",
    "<p>\n",
    "Just to take an example, if we are working on the root node, the table would be the entire Titanic table. We are trying to find the best column/feature/splitter to use as the root node. We will try all of the ones in `choice_list` and compute the gig for each. We will return the list of columns sorted on their gig scores.\n",
    "</div>"
   ]
  },
  {
   "cell_type": "code",
   "execution_count": 0,
   "metadata": {
    "colab": {},
    "colab_type": "code",
    "id": "AbpDl4fHDSae"
   },
   "outputs": [],
   "source": [
    "def find_best_splitter(table, choice_list, target):\n",
    "  \n",
    "    assert (len(table)>0),\"Cannot split empty table\"\n",
    "    assert (target in table),\"Target must be column in table\"\n",
    "    \n",
    "    gig_scores = map(lambda col: (col, gig(table, col, target)), choice_list)  #compute tuple (col, gig) for each column\n",
    "    gig_sorted = sorted(gig_scores, key=lambda item: item[1], reverse=True)  # sort on gig\n",
    "    return gig_sorted"
   ]
  },
  {
   "cell_type": "code",
   "execution_count": 34,
   "metadata": {
    "colab": {
     "base_uri": "https://localhost:8080/",
     "height": 235
    },
    "colab_type": "code",
    "id": "ImkLmX8p9n80",
    "outputId": "b6c89e1f-42e3-4a7d-a44f-8bc5b9022665"
   },
   "outputs": [
    {
     "data": {
      "text/plain": [
       "[('sex_female', 0.1396479574728524),\n",
       " ('pclass_3', 0.049137852428292605),\n",
       " ('pclass_1', 0.03866453536487213),\n",
       " ('emb_C', 0.013388557365673015),\n",
       " ('emb_S', 0.011461161069371395),\n",
       " ('ok_child', 0.010321527428076904),\n",
       " ('pclass_2', 0.004121814088680398),\n",
       " ('no_age', 0.0040207042231273915),\n",
       " ('emb_nan', 0.0017082345882156735),\n",
       " ('age_Child', 0.0006257143143247879),\n",
       " ('age_Senior', 0.00048458255066557987),\n",
       " ('age_Adult', 0.00019771072603869122),\n",
       " ('emb_Q', 6.303036606203349e-06)]"
      ]
     },
     "execution_count": 34,
     "metadata": {
      "tags": []
     },
     "output_type": "execute_result"
    }
   ],
   "source": [
    "find_best_splitter(titanic_table, splitter_columns, 'Survived')"
   ]
  },
  {
   "cell_type": "markdown",
   "metadata": {
    "colab_type": "text",
    "id": "1RW7-nAfDSah"
   },
   "source": [
    "<h2>\n",
    "Follow a path to generate a sub-table\n",
    "</h2>\n",
    "<p>\n",
    "<div class=h1_cell>\n",
    "<p>\n",
    "As we are building our tree, we will need to know what the subtable looks like at the end of a path (as far as we have completed it). We need to know this so we can use `find_best_splitter` above. The sub-table we generate at the end of the path will be the `table` argument of `find_best_splitter`.\n",
    "<p>\n",
    "Assume we have a `conjunction` that is a list of tuples. The 0th item in the tuple is string and 1st item in tuple is the predicate (i.e., a lambda expression that returns 0 or 1). The general strategy is to go down the conjunction, one by one, and use each predicate to split the starting table (e.g., the `titanic_table`) into smaller and smaller sub-tables. We can do this with a simple pandas method, where f is the predicate.\n",
    "<p>\n",
    "`sub_table = sub_table.loc[f]`\n",
    "<p>\n",
    "Pretty cool, huh. In essence, build a new table with all rows where `f` returns true. The `loc` method will pass each row to `f` (happens behind the scenes).\n",
    "<p>\n",
    "Here is an iterative version of the function we need. It is probably the most readable.\n",
    "<p>\n",
    "<pre><code>\n",
    "def generate_table(table, conjunction):\n",
    "    sub_table = table\n",
    "    for pair in conjunction:\n",
    "        f = pair[1]  # the function is the 2nd item in the pair\n",
    "        sub_table = sub_table.loc[f]  # keep \"reducing\" the subtable by filtering on f\n",
    "    return sub_table\n",
    "</code></pre>\n",
    "<p>\n",
    "I've chosen to use a functional style instead, using `reduce`. I like both map and reduce because they have the potential of being parallelized. Make sure you can get your head around my code below. \n",
    "</div>"
   ]
  },
  {
   "cell_type": "code",
   "execution_count": 0,
   "metadata": {
    "colab": {},
    "colab_type": "code",
    "id": "hzhgq_XaDSai"
   },
   "outputs": [],
   "source": [
    "from functools import reduce\n",
    "\n",
    "def generate_table(table, conjunction):\n",
    "  \n",
    "    assert (len(table)>0),\"Cannot generate from empty table\"\n",
    "\n",
    "    sub_table = reduce(lambda subtable, pair: subtable.loc[pair[1]], conjunction, table)\n",
    "    return sub_table"
   ]
  },
  {
   "cell_type": "markdown",
   "metadata": {
    "colab_type": "text",
    "id": "oY2EozAQDSam"
   },
   "source": [
    "<div class=h1_cell>\n",
    "<p>\n",
    "I'll build a test conjunction and try it out. If you do it by hand, you will see that the resulting table only has 11 passengers, and all of them survived.\n",
    "</div>"
   ]
  },
  {
   "cell_type": "code",
   "execution_count": 0,
   "metadata": {
    "colab": {},
    "colab_type": "code",
    "id": "J4ueMr7PDSam"
   },
   "outputs": [],
   "source": [
    "conjunction_test = [('sex_female_0', build_pred('sex_female', 0)),\n",
    "   ('ok_child_1', build_pred('ok_child', 1)),\n",
    "   ('pclass_3_0', build_pred('pclass_3', 0))]\n",
    "\n",
    "res = generate_table(titanic_table, conjunction_test)"
   ]
  },
  {
   "cell_type": "code",
   "execution_count": 29,
   "metadata": {
    "colab": {
     "base_uri": "https://localhost:8080/",
     "height": 304
    },
    "colab_type": "code",
    "id": "j1Qp80PZ7hnA",
    "outputId": "37f81029-6aa2-42a2-b332-cef6d1efad93"
   },
   "outputs": [
    {
     "data": {
      "text/html": [
       "<div>\n",
       "<style scoped>\n",
       "    .dataframe tbody tr th:only-of-type {\n",
       "        vertical-align: middle;\n",
       "    }\n",
       "\n",
       "    .dataframe tbody tr th {\n",
       "        vertical-align: top;\n",
       "    }\n",
       "\n",
       "    .dataframe thead th {\n",
       "        text-align: right;\n",
       "    }\n",
       "</style>\n",
       "<table border=\"1\" class=\"dataframe\">\n",
       "  <thead>\n",
       "    <tr style=\"text-align: right;\">\n",
       "      <th></th>\n",
       "      <th>Survived</th>\n",
       "      <th>Pclass</th>\n",
       "      <th>Age</th>\n",
       "      <th>SibSp</th>\n",
       "      <th>Parch</th>\n",
       "      <th>Fare</th>\n",
       "      <th>no_age</th>\n",
       "      <th>filled_age</th>\n",
       "      <th>emb_C</th>\n",
       "      <th>emb_Q</th>\n",
       "      <th>emb_S</th>\n",
       "      <th>emb_nan</th>\n",
       "      <th>age_Child</th>\n",
       "      <th>age_Adult</th>\n",
       "      <th>age_Senior</th>\n",
       "      <th>sex_female</th>\n",
       "      <th>sex_male</th>\n",
       "      <th>ok_child</th>\n",
       "      <th>pclass_1</th>\n",
       "      <th>pclass_2</th>\n",
       "      <th>pclass_3</th>\n",
       "    </tr>\n",
       "  </thead>\n",
       "  <tbody>\n",
       "    <tr>\n",
       "      <th>count</th>\n",
       "      <td>11.0</td>\n",
       "      <td>11.000000</td>\n",
       "      <td>11.000000</td>\n",
       "      <td>11.000000</td>\n",
       "      <td>11.000000</td>\n",
       "      <td>11.000000</td>\n",
       "      <td>11.0</td>\n",
       "      <td>11.000000</td>\n",
       "      <td>11.000000</td>\n",
       "      <td>11.0</td>\n",
       "      <td>11.000000</td>\n",
       "      <td>11.0</td>\n",
       "      <td>11.0</td>\n",
       "      <td>11.0</td>\n",
       "      <td>11.0</td>\n",
       "      <td>11.0</td>\n",
       "      <td>11.0</td>\n",
       "      <td>11.0</td>\n",
       "      <td>11.000000</td>\n",
       "      <td>11.000000</td>\n",
       "      <td>11.0</td>\n",
       "    </tr>\n",
       "    <tr>\n",
       "      <th>mean</th>\n",
       "      <td>1.0</td>\n",
       "      <td>1.818182</td>\n",
       "      <td>2.295455</td>\n",
       "      <td>0.818182</td>\n",
       "      <td>1.363636</td>\n",
       "      <td>43.560227</td>\n",
       "      <td>0.0</td>\n",
       "      <td>2.295455</td>\n",
       "      <td>0.090909</td>\n",
       "      <td>0.0</td>\n",
       "      <td>0.909091</td>\n",
       "      <td>0.0</td>\n",
       "      <td>1.0</td>\n",
       "      <td>0.0</td>\n",
       "      <td>0.0</td>\n",
       "      <td>0.0</td>\n",
       "      <td>1.0</td>\n",
       "      <td>1.0</td>\n",
       "      <td>0.181818</td>\n",
       "      <td>0.818182</td>\n",
       "      <td>0.0</td>\n",
       "    </tr>\n",
       "    <tr>\n",
       "      <th>std</th>\n",
       "      <td>0.0</td>\n",
       "      <td>0.404520</td>\n",
       "      <td>2.207099</td>\n",
       "      <td>0.603023</td>\n",
       "      <td>0.504525</td>\n",
       "      <td>40.178358</td>\n",
       "      <td>0.0</td>\n",
       "      <td>2.207099</td>\n",
       "      <td>0.301511</td>\n",
       "      <td>0.0</td>\n",
       "      <td>0.301511</td>\n",
       "      <td>0.0</td>\n",
       "      <td>0.0</td>\n",
       "      <td>0.0</td>\n",
       "      <td>0.0</td>\n",
       "      <td>0.0</td>\n",
       "      <td>0.0</td>\n",
       "      <td>0.0</td>\n",
       "      <td>0.404520</td>\n",
       "      <td>0.404520</td>\n",
       "      <td>0.0</td>\n",
       "    </tr>\n",
       "    <tr>\n",
       "      <th>min</th>\n",
       "      <td>1.0</td>\n",
       "      <td>1.000000</td>\n",
       "      <td>0.670000</td>\n",
       "      <td>0.000000</td>\n",
       "      <td>1.000000</td>\n",
       "      <td>14.500000</td>\n",
       "      <td>0.0</td>\n",
       "      <td>0.670000</td>\n",
       "      <td>0.000000</td>\n",
       "      <td>0.0</td>\n",
       "      <td>0.000000</td>\n",
       "      <td>0.0</td>\n",
       "      <td>1.0</td>\n",
       "      <td>0.0</td>\n",
       "      <td>0.0</td>\n",
       "      <td>0.0</td>\n",
       "      <td>1.0</td>\n",
       "      <td>1.0</td>\n",
       "      <td>0.000000</td>\n",
       "      <td>0.000000</td>\n",
       "      <td>0.0</td>\n",
       "    </tr>\n",
       "    <tr>\n",
       "      <th>25%</th>\n",
       "      <td>1.0</td>\n",
       "      <td>2.000000</td>\n",
       "      <td>0.875000</td>\n",
       "      <td>0.500000</td>\n",
       "      <td>1.000000</td>\n",
       "      <td>22.375000</td>\n",
       "      <td>0.0</td>\n",
       "      <td>0.875000</td>\n",
       "      <td>0.000000</td>\n",
       "      <td>0.0</td>\n",
       "      <td>1.000000</td>\n",
       "      <td>0.0</td>\n",
       "      <td>1.0</td>\n",
       "      <td>0.0</td>\n",
       "      <td>0.0</td>\n",
       "      <td>0.0</td>\n",
       "      <td>1.0</td>\n",
       "      <td>1.0</td>\n",
       "      <td>0.000000</td>\n",
       "      <td>1.000000</td>\n",
       "      <td>0.0</td>\n",
       "    </tr>\n",
       "    <tr>\n",
       "      <th>50%</th>\n",
       "      <td>1.0</td>\n",
       "      <td>2.000000</td>\n",
       "      <td>1.000000</td>\n",
       "      <td>1.000000</td>\n",
       "      <td>1.000000</td>\n",
       "      <td>29.000000</td>\n",
       "      <td>0.0</td>\n",
       "      <td>1.000000</td>\n",
       "      <td>0.000000</td>\n",
       "      <td>0.0</td>\n",
       "      <td>1.000000</td>\n",
       "      <td>0.0</td>\n",
       "      <td>1.0</td>\n",
       "      <td>0.0</td>\n",
       "      <td>0.0</td>\n",
       "      <td>0.0</td>\n",
       "      <td>1.0</td>\n",
       "      <td>1.0</td>\n",
       "      <td>0.000000</td>\n",
       "      <td>1.000000</td>\n",
       "      <td>0.0</td>\n",
       "    </tr>\n",
       "    <tr>\n",
       "      <th>75%</th>\n",
       "      <td>1.0</td>\n",
       "      <td>2.000000</td>\n",
       "      <td>3.000000</td>\n",
       "      <td>1.000000</td>\n",
       "      <td>2.000000</td>\n",
       "      <td>38.002100</td>\n",
       "      <td>0.0</td>\n",
       "      <td>3.000000</td>\n",
       "      <td>0.000000</td>\n",
       "      <td>0.0</td>\n",
       "      <td>1.000000</td>\n",
       "      <td>0.0</td>\n",
       "      <td>1.0</td>\n",
       "      <td>0.0</td>\n",
       "      <td>0.0</td>\n",
       "      <td>0.0</td>\n",
       "      <td>1.0</td>\n",
       "      <td>1.0</td>\n",
       "      <td>0.000000</td>\n",
       "      <td>1.000000</td>\n",
       "      <td>0.0</td>\n",
       "    </tr>\n",
       "    <tr>\n",
       "      <th>max</th>\n",
       "      <td>1.0</td>\n",
       "      <td>2.000000</td>\n",
       "      <td>8.000000</td>\n",
       "      <td>2.000000</td>\n",
       "      <td>2.000000</td>\n",
       "      <td>151.550000</td>\n",
       "      <td>0.0</td>\n",
       "      <td>8.000000</td>\n",
       "      <td>1.000000</td>\n",
       "      <td>0.0</td>\n",
       "      <td>1.000000</td>\n",
       "      <td>0.0</td>\n",
       "      <td>1.0</td>\n",
       "      <td>0.0</td>\n",
       "      <td>0.0</td>\n",
       "      <td>0.0</td>\n",
       "      <td>1.0</td>\n",
       "      <td>1.0</td>\n",
       "      <td>1.000000</td>\n",
       "      <td>1.000000</td>\n",
       "      <td>0.0</td>\n",
       "    </tr>\n",
       "  </tbody>\n",
       "</table>\n",
       "</div>"
      ],
      "text/plain": [
       "       Survived     Pclass        Age      SibSp      Parch        Fare  \\\n",
       "count      11.0  11.000000  11.000000  11.000000  11.000000   11.000000   \n",
       "mean        1.0   1.818182   2.295455   0.818182   1.363636   43.560227   \n",
       "std         0.0   0.404520   2.207099   0.603023   0.504525   40.178358   \n",
       "min         1.0   1.000000   0.670000   0.000000   1.000000   14.500000   \n",
       "25%         1.0   2.000000   0.875000   0.500000   1.000000   22.375000   \n",
       "50%         1.0   2.000000   1.000000   1.000000   1.000000   29.000000   \n",
       "75%         1.0   2.000000   3.000000   1.000000   2.000000   38.002100   \n",
       "max         1.0   2.000000   8.000000   2.000000   2.000000  151.550000   \n",
       "\n",
       "       no_age  filled_age      emb_C  emb_Q      emb_S  emb_nan  age_Child  \\\n",
       "count    11.0   11.000000  11.000000   11.0  11.000000     11.0       11.0   \n",
       "mean      0.0    2.295455   0.090909    0.0   0.909091      0.0        1.0   \n",
       "std       0.0    2.207099   0.301511    0.0   0.301511      0.0        0.0   \n",
       "min       0.0    0.670000   0.000000    0.0   0.000000      0.0        1.0   \n",
       "25%       0.0    0.875000   0.000000    0.0   1.000000      0.0        1.0   \n",
       "50%       0.0    1.000000   0.000000    0.0   1.000000      0.0        1.0   \n",
       "75%       0.0    3.000000   0.000000    0.0   1.000000      0.0        1.0   \n",
       "max       0.0    8.000000   1.000000    0.0   1.000000      0.0        1.0   \n",
       "\n",
       "       age_Adult  age_Senior  sex_female  sex_male  ok_child   pclass_1  \\\n",
       "count       11.0        11.0        11.0      11.0      11.0  11.000000   \n",
       "mean         0.0         0.0         0.0       1.0       1.0   0.181818   \n",
       "std          0.0         0.0         0.0       0.0       0.0   0.404520   \n",
       "min          0.0         0.0         0.0       1.0       1.0   0.000000   \n",
       "25%          0.0         0.0         0.0       1.0       1.0   0.000000   \n",
       "50%          0.0         0.0         0.0       1.0       1.0   0.000000   \n",
       "75%          0.0         0.0         0.0       1.0       1.0   0.000000   \n",
       "max          0.0         0.0         0.0       1.0       1.0   1.000000   \n",
       "\n",
       "        pclass_2  pclass_3  \n",
       "count  11.000000      11.0  \n",
       "mean    0.818182       0.0  \n",
       "std     0.404520       0.0  \n",
       "min     0.000000       0.0  \n",
       "25%     1.000000       0.0  \n",
       "50%     1.000000       0.0  \n",
       "75%     1.000000       0.0  \n",
       "max     1.000000       0.0  "
      ]
     },
     "execution_count": 29,
     "metadata": {
      "tags": []
     },
     "output_type": "execute_result"
    }
   ],
   "source": [
    "res.describe()  # Notice the table always has 1 for Survived"
   ]
  },
  {
   "cell_type": "code",
   "execution_count": 30,
   "metadata": {
    "colab": {
     "base_uri": "https://localhost:8080/",
     "height": 50
    },
    "colab_type": "code",
    "id": "IZqLDPXKDSaq",
    "outputId": "6db35705-e8d4-4dc6-b19e-0e9962003503"
   },
   "outputs": [
    {
     "data": {
      "text/plain": [
       "1    11\n",
       "Name: Survived, dtype: int64"
      ]
     },
     "execution_count": 30,
     "metadata": {
      "tags": []
     },
     "output_type": "execute_result"
    }
   ],
   "source": [
    "vc = res['Survived'].value_counts() # Just to verify\n",
    "vc"
   ]
  },
  {
   "cell_type": "markdown",
   "metadata": {
    "colab_type": "text",
    "id": "iDOmO5YQ4Yzg"
   },
   "source": [
    "Note that the `value_counts` method does not list the count for 0, which would be 0. It only lists the values it sees. There are no 0s in the Survived column so no entry for 0. We will have to be careful with this later. For instance, this won't work"
   ]
  },
  {
   "cell_type": "code",
   "execution_count": 31,
   "metadata": {
    "colab": {
     "base_uri": "https://localhost:8080/",
     "height": 566
    },
    "colab_type": "code",
    "id": "vyZ4ZlaZ4yWk",
    "outputId": "5ac20fde-5517-458b-bc3d-0975eee6fa9f"
   },
   "outputs": [
    {
     "ename": "KeyError",
     "evalue": "ignored",
     "output_type": "error",
     "traceback": [
      "\u001b[0;31m---------------------------------------------------------------------------\u001b[0m",
      "\u001b[0;31mKeyError\u001b[0m                                  Traceback (most recent call last)",
      "\u001b[0;32m<ipython-input-31-4571b94bed92>\u001b[0m in \u001b[0;36m<module>\u001b[0;34m()\u001b[0m\n\u001b[0;32m----> 1\u001b[0;31m \u001b[0mvc\u001b[0m\u001b[0;34m[\u001b[0m\u001b[0;36m0\u001b[0m\u001b[0;34m]\u001b[0m  \u001b[0;31m#hope it will return 0 but get error instead\u001b[0m\u001b[0;34m\u001b[0m\u001b[0;34m\u001b[0m\u001b[0m\n\u001b[0m",
      "\u001b[0;32m/usr/local/lib/python3.6/dist-packages/pandas/core/series.py\u001b[0m in \u001b[0;36m__getitem__\u001b[0;34m(self, key)\u001b[0m\n\u001b[1;32m    621\u001b[0m         \u001b[0mkey\u001b[0m \u001b[0;34m=\u001b[0m \u001b[0mcom\u001b[0m\u001b[0;34m.\u001b[0m\u001b[0m_apply_if_callable\u001b[0m\u001b[0;34m(\u001b[0m\u001b[0mkey\u001b[0m\u001b[0;34m,\u001b[0m \u001b[0mself\u001b[0m\u001b[0;34m)\u001b[0m\u001b[0;34m\u001b[0m\u001b[0;34m\u001b[0m\u001b[0m\n\u001b[1;32m    622\u001b[0m         \u001b[0;32mtry\u001b[0m\u001b[0;34m:\u001b[0m\u001b[0;34m\u001b[0m\u001b[0;34m\u001b[0m\u001b[0m\n\u001b[0;32m--> 623\u001b[0;31m             \u001b[0mresult\u001b[0m \u001b[0;34m=\u001b[0m \u001b[0mself\u001b[0m\u001b[0;34m.\u001b[0m\u001b[0mindex\u001b[0m\u001b[0;34m.\u001b[0m\u001b[0mget_value\u001b[0m\u001b[0;34m(\u001b[0m\u001b[0mself\u001b[0m\u001b[0;34m,\u001b[0m \u001b[0mkey\u001b[0m\u001b[0;34m)\u001b[0m\u001b[0;34m\u001b[0m\u001b[0;34m\u001b[0m\u001b[0m\n\u001b[0m\u001b[1;32m    624\u001b[0m \u001b[0;34m\u001b[0m\u001b[0m\n\u001b[1;32m    625\u001b[0m             \u001b[0;32mif\u001b[0m \u001b[0;32mnot\u001b[0m \u001b[0mis_scalar\u001b[0m\u001b[0;34m(\u001b[0m\u001b[0mresult\u001b[0m\u001b[0;34m)\u001b[0m\u001b[0;34m:\u001b[0m\u001b[0;34m\u001b[0m\u001b[0;34m\u001b[0m\u001b[0m\n",
      "\u001b[0;32m/usr/local/lib/python3.6/dist-packages/pandas/core/indexes/base.py\u001b[0m in \u001b[0;36mget_value\u001b[0;34m(self, series, key)\u001b[0m\n\u001b[1;32m   2558\u001b[0m         \u001b[0;32mtry\u001b[0m\u001b[0;34m:\u001b[0m\u001b[0;34m\u001b[0m\u001b[0;34m\u001b[0m\u001b[0m\n\u001b[1;32m   2559\u001b[0m             return self._engine.get_value(s, k,\n\u001b[0;32m-> 2560\u001b[0;31m                                           tz=getattr(series.dtype, 'tz', None))\n\u001b[0m\u001b[1;32m   2561\u001b[0m         \u001b[0;32mexcept\u001b[0m \u001b[0mKeyError\u001b[0m \u001b[0;32mas\u001b[0m \u001b[0me1\u001b[0m\u001b[0;34m:\u001b[0m\u001b[0;34m\u001b[0m\u001b[0;34m\u001b[0m\u001b[0m\n\u001b[1;32m   2562\u001b[0m             \u001b[0;32mif\u001b[0m \u001b[0mlen\u001b[0m\u001b[0;34m(\u001b[0m\u001b[0mself\u001b[0m\u001b[0;34m)\u001b[0m \u001b[0;34m>\u001b[0m \u001b[0;36m0\u001b[0m \u001b[0;32mand\u001b[0m \u001b[0mself\u001b[0m\u001b[0;34m.\u001b[0m\u001b[0minferred_type\u001b[0m \u001b[0;32min\u001b[0m \u001b[0;34m[\u001b[0m\u001b[0;34m'integer'\u001b[0m\u001b[0;34m,\u001b[0m \u001b[0;34m'boolean'\u001b[0m\u001b[0;34m]\u001b[0m\u001b[0;34m:\u001b[0m\u001b[0;34m\u001b[0m\u001b[0;34m\u001b[0m\u001b[0m\n",
      "\u001b[0;32mpandas/_libs/index.pyx\u001b[0m in \u001b[0;36mpandas._libs.index.IndexEngine.get_value\u001b[0;34m()\u001b[0m\n",
      "\u001b[0;32mpandas/_libs/index.pyx\u001b[0m in \u001b[0;36mpandas._libs.index.IndexEngine.get_value\u001b[0;34m()\u001b[0m\n",
      "\u001b[0;32mpandas/_libs/index.pyx\u001b[0m in \u001b[0;36mpandas._libs.index.IndexEngine.get_loc\u001b[0;34m()\u001b[0m\n",
      "\u001b[0;32mpandas/_libs/hashtable_class_helper.pxi\u001b[0m in \u001b[0;36mpandas._libs.hashtable.Int64HashTable.get_item\u001b[0;34m()\u001b[0m\n",
      "\u001b[0;32mpandas/_libs/hashtable_class_helper.pxi\u001b[0m in \u001b[0;36mpandas._libs.hashtable.Int64HashTable.get_item\u001b[0;34m()\u001b[0m\n",
      "\u001b[0;31mKeyError\u001b[0m: 0"
     ]
    }
   ],
   "source": [
    "vc[0]  #hope it will return 0 but get error instead"
   ]
  },
  {
   "cell_type": "markdown",
   "metadata": {
    "colab_type": "text",
    "id": "l2UNUmbpDSat"
   },
   "source": [
    "<h2>\n",
    "Compute the prediction for a path\n",
    "</h2>\n",
    "<p>\n",
    "<div class=h1_cell>\n",
    "<p>\n",
    "First, we will assume that the leaf table has been computed by `generate_table` (see above). So we have the sub-table that is generated by filtering with the predicates in a conjunction. Now we can just count the values of 0 and 1 in the target column, which is `Survived` in our case. Largest case wins. Ties go to `0`.\n",
    "<p>\n",
    "\n",
    "</div>"
   ]
  },
  {
   "cell_type": "code",
   "execution_count": 0,
   "metadata": {
    "colab": {},
    "colab_type": "code",
    "id": "DKrk9dP0DSau"
   },
   "outputs": [],
   "source": [
    "def compute_prediction(table, target):\n",
    "  \n",
    "    assert (len(table)>0),\"Cannot predict from empty table\"\n",
    "    assert (target in table),\"Target must be column in table\"\n",
    "    \n",
    "    counts = table[target].value_counts()  # counts looks like {0: v1, 1: v2}\n",
    "\n",
    "    if 0 not in counts:\n",
    "        prediction = 1\n",
    "    elif 1 not in counts:\n",
    "        prediction = 0\n",
    "    elif counts[1] > counts[0]:  # ties go to 0 (negative)\n",
    "        prediction = 1\n",
    "    else:\n",
    "        prediction = 0\n",
    "\n",
    "    return prediction\n",
    "  "
   ]
  },
  {
   "cell_type": "markdown",
   "metadata": {
    "colab_type": "text",
    "id": "71nDVMcSDSax"
   },
   "source": [
    "<h2>\n",
    "Ok, the big enchilada\n",
    "</h2>\n",
    "<p>\n",
    "<div class=h1_cell>\n",
    "<p>\n",
    "The full tree-building function is below. I am going to go through the function a bit at a time.\n",
    "<div class=code_block>\n",
    "<pre>\n",
    "<code>\n",
    "def build_tree_iter(table, choices, target, hypers={} ):\n",
    "\n",
    "    assert (len(choices)>0),\"Must have at least one column in choices\"\n",
    "    assert (target in table), \"Target column not in table\"\n",
    "    assert (len(table) > 1), \"Table must have more than 1 row\"\n",
    "\n",
    "    k = hypers['max-depth'] if 'max-depth' in hypers else min(4, len(choices))\n",
    "    gig_cutoff = hypers['gig-cutoff'] if 'gig-cutoff' in hypers else 0.0\n",
    "    \n",
    "    def iterative_build(k):\n",
    "        columns_sorted = find_best_splitter(table, choices, target)\n",
    "        (best_column, gig_value) = columns_sorted[0]\n",
    "        \n",
    "        #Note I add _1 or _0 to make it more readable for debugging\n",
    "        current_paths = [{'conjunction': [(best_column+'_1', build_pred(best_column, 1))],\n",
    "                          'prediction': None,\n",
    "                          'gig_score': gig_value},\n",
    "                         {'conjunction': [(best_column+'_0', build_pred(best_column, 0))],\n",
    "                          'prediction': None,\n",
    "                          'gig_score': gig_value}\n",
    "                        ]\n",
    "        k -= 1  # we just built a level as seed so subtract 1 from k\n",
    "        tree_paths = []  # add completed paths here\n",
    "        \n",
    "        while k>0:\n",
    "            new_paths = []\n",
    "            for path in current_paths:\n",
    "                old_conjunction = path['conjunction']  # a list of (name, lambda)\n",
    "                before_table = generate_table(table, old_conjunction)  #the subtable the current conjunct leads to\n",
    "                columns_sorted = find_best_splitter(before_table, choices, target)\n",
    "                (best_column, gig_value) = columns_sorted[0]\n",
    "                if gig_value > gig_cutoff:\n",
    "                    new_path_1 = {'conjunction': old_conjunction + [(best_column+'_1', build_pred(best_column, 1))],\n",
    "                                'prediction': None,\n",
    "                                 'gig_score': gig_value}\n",
    "                    new_paths.append( new_path_1 ) #true\n",
    "                    new_path_0 = {'conjunction': old_conjunction + [(best_column+'_0', build_pred(best_column, 0))],\n",
    "                                'prediction': None,\n",
    "                                 'gig_score': gig_value}\n",
    "                    new_paths.append( new_path_0 ) #false\n",
    "                else:\n",
    "                    #not worth splitting so complete the path with a prediction\n",
    "                    path['prediction'] = compute_prediction(before_table, target)\n",
    "                    tree_paths.append(path)\n",
    "            #end for loop\n",
    "            \n",
    "            current_paths = new_paths\n",
    "            if current_paths != []:\n",
    "                k -= 1\n",
    "            else:\n",
    "                break  # nothing left to extend so have copied all paths to tree_paths\n",
    "        #end while loop\n",
    "\n",
    "        #Generate predictions for all paths that have None\n",
    "        for path in current_paths:\n",
    "            conjunction = path['conjunction']\n",
    "            before_table = generate_table(table, conjunction)\n",
    "            path['prediction'] = compute_prediction(before_table, target)\n",
    "            tree_paths.append(path)\n",
    "        return tree_paths\n",
    "\n",
    "    return {'paths': iterative_build(k), 'weight': None}\n",
    "</code>\n",
    "</pre>\n",
    "</div>\n",
    "</div>"
   ]
  },
  {
   "cell_type": "markdown",
   "metadata": {
    "colab_type": "text",
    "id": "cOH-8qf2DSaz"
   },
   "source": [
    "<div class=h1_cell>\n",
    "<p>\n",
    "Let's start with:\n",
    "<p>\n",
    "<pre><code>\n",
    "def build_tree_iter(table, choices, target, hypers={} ):\n",
    "\n",
    "    assert (len(choices)>0),\"Must have at least one column in choices\"\n",
    "    assert (target in table), \"Target column not in table\"\n",
    "    assert (len(table) > 1), \"Table must have more than 1 row\"\n",
    "\n",
    "    k = hypers['max-depth'] if 'max-depth' in hypers else min(4, len(choices))\n",
    "    gig_cutoff = hypers['gig-cutoff'] if 'gig-cutoff' in hypers else 0.0\n",
    "</code></pre>\n",
    "<p>\n",
    "Our tree building function takes 4 arguments: the table we are working with, the initial set of columns to consider when splitting, the target column, and a dictionary (hypers) with hyper parameters. You can see that I am checking for a key of `max-depth`. This will say how many levels deep we want our tree to be. The `gig-cutoff` is used to say when we believe new splitting won't get us very far - if the gig value on a path is not greater than this value, stop trying to add to the path. Time to call it quits and build a leaf node.\n",
    "<p>\n",
    "Remeber when we go to check the `gig-cutoff`, we want to use greater-than and not greater-than-or-equal. We want to avoid gig values of 0: they can lead to empty tables.\n",
    "</div>"
   ]
  },
  {
   "cell_type": "markdown",
   "metadata": {
    "colab_type": "text",
    "id": "6fttuM0vDSaz"
   },
   "source": [
    "<h2>\n",
    "The iterative cycle to generate levels\n",
    "</h2>\n",
    "<p>\n",
    "<div class=h1_cell>\n",
    "<p>\n",
    "The general idea is that we will iterate over a set of paths and continue to extend them until either we reach the target depth or the gig score is too low. Here is the head of the inner function that will do the building. What is going on is that the top code is only executed once: it is not in a loop. It does the initial splitting of the root table to produce 2 paths that are contained in `current_paths`. At this point we do not know if one or both paths will end up as a legit path. A legit path is formed by adding a prediction to the path. Legit paths are added to tree_paths. What is not a legit path? A path that still is being built up - it has not reached its end point yet.\n",
    "<p>\n",
    "<div class='code_block'>\n",
    "<pre><code>\n",
    "      def iterative_build(k):\n",
    "        columns_sorted = find_best_splitter(table, choices, target)\n",
    "        (best_column, gig_value) = columns_sorted[0]\n",
    "        \n",
    "        #Note I add _1 or _0 to make it more readable for debugging\n",
    "        current_paths = [{'conjunction': [(best_column+'_1', build_pred(best_column, 1))],\n",
    "                          'prediction': None,\n",
    "                          'gig_score': gig_value},\n",
    "                         {'conjunction': [(best_column+'_0', build_pred(best_column, 0))],\n",
    "                          'prediction': None,\n",
    "                          'gig_score': gig_value}\n",
    "                        ]\n",
    "        k -= 1  # we just built a level as seed so subtract 1 from k\n",
    "        tree_paths = []  # add completed paths here\n",
    "</code></pre>\n",
    "</div>\n",
    "We will use the variable `tree_paths` to store the paths we have generated. We start it as empty. Note that `tree_paths` does not need to be ordered. I could have also used a `set` to hold the paths.\n",
    "<p>\n",
    "We will seed the list of paths with the root node. We will find the best column to use as a splitter using the full table as the starting point. We will get back a tuple of `(best_column, value)` where `best_column` is the column name and `value`  is the gig value.\n",
    "<p>\n",
    "I seed `current_paths` with the 2 branches the column generates. Given we are generating a binary tree, we always get 2 branches from a single column. After I do this seeding, I have:\n",
    "<pre><code>\n",
    "current_paths = [[('sex_female_1', lambda row: row['sex_female'] == 1)],\n",
    "                     [('sex_female_0', lambda row: row['sex_female'] == 0)]]\n",
    "</code></pre>\n",
    "My goal now is to build these 2 paths up by continually splitting and adding on to them. If the value of k is 1, I am actually done at this point. I just have to get the predictions and add the 2 paths to tree_paths`. What if k is 2? Then I am not done. I have 2 partial paths and should eventually end up with 4 separate paths, each with 2 predicates. Convince yourself that a binary decision tree of depth 2 has 4 paths.\n",
    "<p>\n",
    "Why do I subtract 1 from my counter `k`? Because I just added a level, right? I seeded the root node. I set `tree_paths` to empty and will add completed paths to it as I go.\n",
    "<p>\n",
    "<pr><code>\n",
    "\n",
    "k -= 1  # we just built a level as seed so subtract 1 from k\n",
    "tree_paths = []  # add completed paths here\n",
    "</code></pre>\n",
    "</div>"
   ]
  },
  {
   "cell_type": "markdown",
   "metadata": {
    "colab_type": "text",
    "id": "TPaRtiVnDSa1"
   },
   "source": [
    "\n",
    "<h2>\n",
    "Start the iteration\n",
    "</h2>\n",
    "<p>\n",
    "<div class=h1_cell>\n",
    "<p>\n",
    "You can see I am using a while loop based on k (the max depth of the tree). So what I want to do on each iteration is build all the paths out a level. In this way, I am doing a breadth-first generation of the tree. For those looking for extra credit, see if you can build a depth-first version using recursion. It's not a slam-dunk!\n",
    "<p>\n",
    "<div class='code_block'>\n",
    "<pre>\n",
    "<code>\n",
    "        while k>0:\n",
    "            new_paths = []\n",
    "            for path in current_paths:\n",
    "                old_conjunction = path['conjunction']  # a list of (name, lambda)\n",
    "                before_table = generate_table(table, old_conjunction)  #the subtable the current conjunct leads to\n",
    "                columns_sorted = find_best_splitter(before_table, choices, target)\n",
    "                (best_column, gig_value) = columns_sorted[0]\n",
    "</code>\n",
    "</pre>\n",
    "</div>\n",
    "I'll use `new_paths` to store the modifications I make to existing paths. The for loop will go through each of the existing paths. As a reminder, a path conjunction is a list of tuples. Each tuple has a string that describes the choice being checked and a lambda that does the check.\n",
    "<p>\n",
    "For the conjunction in play, I first build the sub-table it generates using `generate_table`. I then find the best splitter. I now have the name of the best column and its gig_value. This sets me up for the next phase in the for loop.\n",
    "</div>"
   ]
  },
  {
   "cell_type": "markdown",
   "metadata": {
    "colab_type": "text",
    "id": "K8LWgt0ZDSa2"
   },
   "source": [
    "\n",
    "<h2>\n",
    "Extend the number of paths\n",
    "</h2>\n",
    "<p>\n",
    "<div class=h1_cell>\n",
    "<p>\n",
    "Let's assume that the gig value is greater than the cutoff: we are still feeling ok with the current path so will go ahead and extend it. In that case we want to replace the current path with 2 new paths based on the column we find that makes the best splitter. A split gives a true and a false branch so we add one each to get the 2 new paths. \n",
    "<p>\n",
    "<div class='code_block'>\n",
    "<pre><code>\n",
    "                if gig_value > gig_cutoff:\n",
    "                    new_path_1 = {'conjunction': old_conjunction + [(best_column+'_1', build_pred(best_column, 1))],\n",
    "                                'prediction': None,\n",
    "                                 'gig_score': gig_value}\n",
    "                    new_paths.append( new_path_1 ) #true\n",
    "                    new_path_0 = {'conjunction': old_conjunction + [(best_column+'_0', build_pred(best_column, 0))],\n",
    "                                'prediction': None,\n",
    "                                 'gig_score': gig_value}\n",
    "                    new_paths.append( new_path_0 ) #false\n",
    "                else:\n",
    "                    #not worth splitting so complete the path with a prediction\n",
    "                    path['prediction'] = compute_prediction(before_table, target)\n",
    "                    tree_paths.append(path)\n",
    "            #end for loop\n",
    "</code></pre>\n",
    "</div>\n",
    "  <p>\n",
    "To look at an example of the then clause above, assume that the current path we are looking at has a conjunction of this form:\n",
    "```\n",
    "[('sex_female_1, lambda ...)]\n",
    "```\n",
    "So it has a single conjunct/predicate. We now want to use it as the basis for 2 new conjunctions. Assume that `find_best_splitter` returns `pclass_3` as the best column. After we are done, we will have replaced the single conjunction with 2 new conjunctions as below:\n",
    "<p>\n",
    "<pre><code>\n",
    "[('sex_female_1', lambda ...), ('pclass_3_1', lambda ...)]  #true branch of split\n",
    "[('sex_female_1', lambda ...), ('pclass_3_0', lambda ...)]  #false branch of split\n",
    "</code></pre>\n",
    "<p>\n",
    "Both of these would be added to `new_paths`, replacing `[('sex_female_1, lambda ...)]`. It's kind of like a cell dividing: 1 cell splits into 2, 2 into 4, etc.\n",
    "<p>\n",
    "Where does the splitting stop? Looking at the else clause, if the gig value is not greater than the cutoff, we do not double the conjunction. Instead we treat it as leading to a leaf. We have to compute the prediction we will make for this leaf. The prediction is simply the target column value (0 or 1) with the highest probability in the table we generated. The last thing we do is add the completed path to tree_paths. Note that once the else clause is taken, the path is removed from further expansion. In particular, it is not copied to new_path.\n",
    "<p>\n",
    "The for loop will continue iterating over the set of paths we have currently. It is the cell splitter. Give it a set of cells (conjunctions), and it will split each into 2 by adding a new node and 2 branches.\n",
    "</div>"
   ]
  },
  {
   "cell_type": "markdown",
   "metadata": {
    "colab_type": "text",
    "id": "9p8KwBnYDSa2"
   },
   "source": [
    "\n",
    "<h2>\n",
    "End of for and while loops\n",
    "</h2>\n",
    "<p>\n",
    "<div class=h1_cell>\n",
    "<p>\n",
    "When we reach the end of the for loop, we have iterated over all the existing paths to try to extend them. In essence we have completed a new level. If new_paths is empty, we had no luck with extending any of them. We break out of the while loop - there is no point in iterating any further. Why would `new_paths` be empty? Because all the paths lead to a too-low gig score. If we have paths remaining we get set up for the next iteration through the while loop. Each iteration of the while loop adds a new level to the tree.\n",
    "<p>\n",
    "<pre><code>\n",
    "    #end for loop\n",
    "\n",
    "    current_paths = new_paths\n",
    "    if current_paths != []:\n",
    "        k -= 1\n",
    "    else:\n",
    "        break  # nothing left to extend so have copied all paths to tree_paths\n",
    "        \n",
    "#end while loop\n",
    "</code></pre>\n",
    "<p>\n",
    "\n",
    "</div>"
   ]
  },
  {
   "cell_type": "markdown",
   "metadata": {
    "colab_type": "text",
    "id": "ZVRRhXTWDSa4"
   },
   "source": [
    "<h2>\n",
    "Last step, generate predictions for paths that need them\n",
    "</h2>\n",
    "<p>\n",
    "<div class=h1_cell>\n",
    "<p>\n",
    "The paths in tree_paths have predictions. The paths in current_paths do not. Loop through and add a prediction to each.\n",
    "<p>\n",
    "<pre><code>\n",
    "#Generate predictions for all paths that have None\n",
    "for path in current_paths:\n",
    "    conjunction = path['conjunction']\n",
    "    before_table = generate_table(table, conjunction)\n",
    "    path['prediction'] = compute_prediction(before_table, target)\n",
    "    tree_paths.append(path)\n",
    "return tree_paths\n",
    "\n",
    "</code></pre>\n",
    "<p>\n",
    "Finally, package up the paths into a dictionary that will represent the tree. The `weight` key will be used in later modules when we look at giving a tree more or less say in a prediction. You can ignore it for now.\n",
    "<p>\n",
    "<pre><code>\n",
    "return {'paths': iterative_build(k), 'weight': None}\n",
    "</code></pre>\n",
    "</div>"
   ]
  },
  {
   "cell_type": "code",
   "execution_count": 0,
   "metadata": {
    "colab": {},
    "colab_type": "code",
    "id": "d5lCNq_uDSa5"
   },
   "outputs": [],
   "source": [
    "def build_tree_iter(table, choices, target, hypers={} ):\n",
    "\n",
    "    assert (len(choices)>0),\"Must have at least one column in choices\"\n",
    "    assert (target in table), \"Target column not in table\"\n",
    "    assert (len(table) > 1), \"Table must have more than 1 row\"\n",
    "    \n",
    "    k = hypers['max-depth'] if 'max-depth' in hypers else min(4, len(choices))\n",
    "    gig_cutoff = hypers['gig-cutoff'] if 'gig-cutoff' in hypers else 0.0\n",
    "    \n",
    "    def iterative_build(k):\n",
    "        columns_sorted = find_best_splitter(table, choices, target)\n",
    "        (best_column, gig_value) = columns_sorted[0]\n",
    "        \n",
    "        #Note I add _1 or _0 to make it more readable for debugging\n",
    "        current_paths = [{'conjunction': [(best_column+'_1', build_pred(best_column, 1))],\n",
    "                          'prediction': None,\n",
    "                          'gig_score': gig_value},\n",
    "                         {'conjunction': [(best_column+'_0', build_pred(best_column, 0))],\n",
    "                          'prediction': None,\n",
    "                          'gig_score': gig_value}\n",
    "                        ]\n",
    "        k -= 1  # we just built a level as seed so subtract 1 from k\n",
    "        tree_paths = []  # add completed paths here\n",
    "        \n",
    "        while k>0:\n",
    "            new_paths = []\n",
    "            for path in current_paths:\n",
    "                old_conjunction = path['conjunction']  # a list of (name, lambda)\n",
    "                before_table = generate_table(table, old_conjunction)  #the subtable the current conjunct leads to\n",
    "                columns_sorted = find_best_splitter(before_table, choices, target)\n",
    "                (best_column, gig_value) = columns_sorted[0]\n",
    "                if gig_value > gig_cutoff:\n",
    "                    new_path_1 = {'conjunction': old_conjunction + [(best_column+'_1', build_pred(best_column, 1))],\n",
    "                                'prediction': None,\n",
    "                                 'gig_score': gig_value}\n",
    "                    new_paths.append( new_path_1 ) #true\n",
    "                    new_path_0 = {'conjunction': old_conjunction + [(best_column+'_0', build_pred(best_column, 0))],\n",
    "                                'prediction': None,\n",
    "                                 'gig_score': gig_value}\n",
    "                    new_paths.append( new_path_0 ) #false\n",
    "                else:\n",
    "                    #not worth splitting so complete the path with a prediction\n",
    "                    path['prediction'] = compute_prediction(before_table, target)\n",
    "                    tree_paths.append(path)\n",
    "            #end for loop\n",
    "            \n",
    "            current_paths = new_paths\n",
    "            if current_paths != []:\n",
    "                k -= 1\n",
    "            else:\n",
    "                break  # nothing left to extend so have copied all paths to tree_paths\n",
    "        #end while loop\n",
    "\n",
    "        #Generate predictions for all paths that have None\n",
    "        for path in current_paths:\n",
    "            conjunction = path['conjunction']\n",
    "            before_table = generate_table(table, conjunction)\n",
    "            path['prediction'] = compute_prediction(before_table, target)\n",
    "            tree_paths.append(path)\n",
    "        return tree_paths\n",
    "\n",
    "    return {'paths': iterative_build(k), 'weight': None}"
   ]
  },
  {
   "cell_type": "markdown",
   "metadata": {
    "colab_type": "text",
    "id": "RQ1v5eDu_a-B"
   },
   "source": [
    "<h1>Try it out</h1>\n",
    "\n",
    "Let's test tree building with different values for hyper-parameters. Start with a stump."
   ]
  },
  {
   "cell_type": "code",
   "execution_count": 38,
   "metadata": {
    "colab": {
     "base_uri": "https://localhost:8080/",
     "height": 168
    },
    "colab_type": "code",
    "id": "JEULYQiA8i64",
    "outputId": "07cfce18-0b33-43f3-8efd-0784930e2b1c"
   },
   "outputs": [
    {
     "name": "stdout",
     "output_type": "stream",
     "text": [
      "2\n"
     ]
    },
    {
     "data": {
      "text/plain": [
       "[{'conjunction': [('sex_female_1',\n",
       "    <function __main__.build_pred.<locals>.<lambda>>)],\n",
       "  'gig_score': 0.1396479574728524,\n",
       "  'prediction': 1},\n",
       " {'conjunction': [('sex_female_0',\n",
       "    <function __main__.build_pred.<locals>.<lambda>>)],\n",
       "  'gig_score': 0.1396479574728524,\n",
       "  'prediction': 0}]"
      ]
     },
     "execution_count": 38,
     "metadata": {
      "tags": []
     },
     "output_type": "execute_result"
    }
   ],
   "source": [
    "treea = build_tree_iter(titanic_table, splitter_columns, 'Survived', {'max-depth':1}) # try at level 1\n",
    "print(len(treea['paths']))\n",
    "treea['paths']"
   ]
  },
  {
   "cell_type": "markdown",
   "metadata": {
    "colab_type": "text",
    "id": "W1MivlxM9EGk"
   },
   "source": [
    "We got our stump from last week!"
   ]
  },
  {
   "cell_type": "code",
   "execution_count": 76,
   "metadata": {
    "colab": {
     "base_uri": "https://localhost:8080/",
     "height": 370
    },
    "colab_type": "code",
    "id": "3G82YaSF9OZ-",
    "outputId": "42ac1244-b57a-43ff-dc8b-dc2601ef267e"
   },
   "outputs": [
    {
     "name": "stdout",
     "output_type": "stream",
     "text": [
      "4\n"
     ]
    },
    {
     "data": {
      "text/plain": [
       "[{'conjunction': [('sex_female_1',\n",
       "    <function __main__.build_pred.<locals>.<lambda>>),\n",
       "   ('pclass_3_1', <function __main__.build_pred.<locals>.<lambda>>)],\n",
       "  'gig_score': 0.0992456441378125,\n",
       "  'prediction': 0},\n",
       " {'conjunction': [('sex_female_1',\n",
       "    <function __main__.build_pred.<locals>.<lambda>>),\n",
       "   ('pclass_3_0', <function __main__.build_pred.<locals>.<lambda>>)],\n",
       "  'gig_score': 0.0992456441378125,\n",
       "  'prediction': 1},\n",
       " {'conjunction': [('sex_female_0',\n",
       "    <function __main__.build_pred.<locals>.<lambda>>),\n",
       "   ('ok_child_1', <function __main__.build_pred.<locals>.<lambda>>)],\n",
       "  'gig_score': 0.017842505175795997,\n",
       "  'prediction': 1},\n",
       " {'conjunction': [('sex_female_0',\n",
       "    <function __main__.build_pred.<locals>.<lambda>>),\n",
       "   ('ok_child_0', <function __main__.build_pred.<locals>.<lambda>>)],\n",
       "  'gig_score': 0.017842505175795997,\n",
       "  'prediction': 0}]"
      ]
     },
     "execution_count": 76,
     "metadata": {
      "tags": []
     },
     "output_type": "execute_result"
    }
   ],
   "source": [
    "treeb = build_tree_iter(titanic_table, splitter_columns, 'Survived', {'max-depth':2}) # try at level 2\n",
    "print(len(treeb['paths']))\n",
    "treeb['paths']"
   ]
  },
  {
   "cell_type": "markdown",
   "metadata": {
    "colab_type": "text",
    "id": "AD1q19EW-C5Y"
   },
   "source": [
    "I'd stop here and draw the tree on a piece of paper. Make sure you understand how a tree is being printed out above as 4 separate paths."
   ]
  },
  {
   "cell_type": "markdown",
   "metadata": {
    "colab_type": "text",
    "id": "R24zKsevDSa8"
   },
   "source": [
    "<div class=h1_cell>\n",
    "<p>\n",
    "Let's try it with all the columns we specified and with defaults for hypers: max-depth 4 and gig-cutoff 0 (remember, greater than 0).\n",
    "</div>"
   ]
  },
  {
   "cell_type": "code",
   "execution_count": 39,
   "metadata": {
    "colab": {
     "base_uri": "https://localhost:8080/",
     "height": 1781
    },
    "colab_type": "code",
    "id": "2Lb_bccpDSa8",
    "outputId": "36c3a24c-0b3e-49a9-f19b-ea7d5bdcb9f6"
   },
   "outputs": [
    {
     "name": "stdout",
     "output_type": "stream",
     "text": [
      "15\n"
     ]
    },
    {
     "data": {
      "text/plain": [
       "[{'conjunction': [('sex_female_0',\n",
       "    <function __main__.build_pred.<locals>.<lambda>>),\n",
       "   ('ok_child_1', <function __main__.build_pred.<locals>.<lambda>>),\n",
       "   ('pclass_3_0', <function __main__.build_pred.<locals>.<lambda>>)],\n",
       "  'gig_score': 0.19972989195678292,\n",
       "  'prediction': 1},\n",
       " {'conjunction': [('sex_female_1',\n",
       "    <function __main__.build_pred.<locals>.<lambda>>),\n",
       "   ('pclass_3_1', <function __main__.build_pred.<locals>.<lambda>>),\n",
       "   ('emb_S_1', <function __main__.build_pred.<locals>.<lambda>>),\n",
       "   ('no_age_1', <function __main__.build_pred.<locals>.<lambda>>)],\n",
       "  'gig_score': 0.013706140350877138,\n",
       "  'prediction': 0},\n",
       " {'conjunction': [('sex_female_1',\n",
       "    <function __main__.build_pred.<locals>.<lambda>>),\n",
       "   ('pclass_3_1', <function __main__.build_pred.<locals>.<lambda>>),\n",
       "   ('emb_S_1', <function __main__.build_pred.<locals>.<lambda>>),\n",
       "   ('no_age_0', <function __main__.build_pred.<locals>.<lambda>>)],\n",
       "  'gig_score': 0.013706140350877138,\n",
       "  'prediction': 0},\n",
       " {'conjunction': [('sex_female_1',\n",
       "    <function __main__.build_pred.<locals>.<lambda>>),\n",
       "   ('pclass_3_1', <function __main__.build_pred.<locals>.<lambda>>),\n",
       "   ('emb_S_0', <function __main__.build_pred.<locals>.<lambda>>),\n",
       "   ('ok_child_1', <function __main__.build_pred.<locals>.<lambda>>)],\n",
       "  'gig_score': 0.018069727891156517,\n",
       "  'prediction': 1},\n",
       " {'conjunction': [('sex_female_1',\n",
       "    <function __main__.build_pred.<locals>.<lambda>>),\n",
       "   ('pclass_3_1', <function __main__.build_pred.<locals>.<lambda>>),\n",
       "   ('emb_S_0', <function __main__.build_pred.<locals>.<lambda>>),\n",
       "   ('ok_child_0', <function __main__.build_pred.<locals>.<lambda>>)],\n",
       "  'gig_score': 0.018069727891156517,\n",
       "  'prediction': 1},\n",
       " {'conjunction': [('sex_female_1',\n",
       "    <function __main__.build_pred.<locals>.<lambda>>),\n",
       "   ('pclass_3_0', <function __main__.build_pred.<locals>.<lambda>>),\n",
       "   ('emb_S_1', <function __main__.build_pred.<locals>.<lambda>>),\n",
       "   ('age_Adult_1', <function __main__.build_pred.<locals>.<lambda>>)],\n",
       "  'gig_score': 0.0017154774332495681,\n",
       "  'prediction': 1},\n",
       " {'conjunction': [('sex_female_1',\n",
       "    <function __main__.build_pred.<locals>.<lambda>>),\n",
       "   ('pclass_3_0', <function __main__.build_pred.<locals>.<lambda>>),\n",
       "   ('emb_S_1', <function __main__.build_pred.<locals>.<lambda>>),\n",
       "   ('age_Adult_0', <function __main__.build_pred.<locals>.<lambda>>)],\n",
       "  'gig_score': 0.0017154774332495681,\n",
       "  'prediction': 1},\n",
       " {'conjunction': [('sex_female_1',\n",
       "    <function __main__.build_pred.<locals>.<lambda>>),\n",
       "   ('pclass_3_0', <function __main__.build_pred.<locals>.<lambda>>),\n",
       "   ('emb_S_0', <function __main__.build_pred.<locals>.<lambda>>),\n",
       "   ('age_Adult_1', <function __main__.build_pred.<locals>.<lambda>>)],\n",
       "  'gig_score': 0.00047520661157023775,\n",
       "  'prediction': 1},\n",
       " {'conjunction': [('sex_female_1',\n",
       "    <function __main__.build_pred.<locals>.<lambda>>),\n",
       "   ('pclass_3_0', <function __main__.build_pred.<locals>.<lambda>>),\n",
       "   ('emb_S_0', <function __main__.build_pred.<locals>.<lambda>>),\n",
       "   ('age_Adult_0', <function __main__.build_pred.<locals>.<lambda>>)],\n",
       "  'gig_score': 0.00047520661157023775,\n",
       "  'prediction': 1},\n",
       " {'conjunction': [('sex_female_0',\n",
       "    <function __main__.build_pred.<locals>.<lambda>>),\n",
       "   ('ok_child_1', <function __main__.build_pred.<locals>.<lambda>>),\n",
       "   ('pclass_3_1', <function __main__.build_pred.<locals>.<lambda>>),\n",
       "   ('emb_Q_1', <function __main__.build_pred.<locals>.<lambda>>)],\n",
       "  'gig_score': 0.076656907106734,\n",
       "  'prediction': 0},\n",
       " {'conjunction': [('sex_female_0',\n",
       "    <function __main__.build_pred.<locals>.<lambda>>),\n",
       "   ('ok_child_1', <function __main__.build_pred.<locals>.<lambda>>),\n",
       "   ('pclass_3_1', <function __main__.build_pred.<locals>.<lambda>>),\n",
       "   ('emb_Q_0', <function __main__.build_pred.<locals>.<lambda>>)],\n",
       "  'gig_score': 0.076656907106734,\n",
       "  'prediction': 0},\n",
       " {'conjunction': [('sex_female_0',\n",
       "    <function __main__.build_pred.<locals>.<lambda>>),\n",
       "   ('ok_child_0', <function __main__.build_pred.<locals>.<lambda>>),\n",
       "   ('pclass_1_1', <function __main__.build_pred.<locals>.<lambda>>),\n",
       "   ('age_Senior_1', <function __main__.build_pred.<locals>.<lambda>>)],\n",
       "  'gig_score': 0.022121469800041205,\n",
       "  'prediction': 0},\n",
       " {'conjunction': [('sex_female_0',\n",
       "    <function __main__.build_pred.<locals>.<lambda>>),\n",
       "   ('ok_child_0', <function __main__.build_pred.<locals>.<lambda>>),\n",
       "   ('pclass_1_1', <function __main__.build_pred.<locals>.<lambda>>),\n",
       "   ('age_Senior_0', <function __main__.build_pred.<locals>.<lambda>>)],\n",
       "  'gig_score': 0.022121469800041205,\n",
       "  'prediction': 0},\n",
       " {'conjunction': [('sex_female_0',\n",
       "    <function __main__.build_pred.<locals>.<lambda>>),\n",
       "   ('ok_child_0', <function __main__.build_pred.<locals>.<lambda>>),\n",
       "   ('pclass_1_0', <function __main__.build_pred.<locals>.<lambda>>),\n",
       "   ('emb_C_1', <function __main__.build_pred.<locals>.<lambda>>)],\n",
       "  'gig_score': 0.0018081922647944781,\n",
       "  'prediction': 0},\n",
       " {'conjunction': [('sex_female_0',\n",
       "    <function __main__.build_pred.<locals>.<lambda>>),\n",
       "   ('ok_child_0', <function __main__.build_pred.<locals>.<lambda>>),\n",
       "   ('pclass_1_0', <function __main__.build_pred.<locals>.<lambda>>),\n",
       "   ('emb_C_0', <function __main__.build_pred.<locals>.<lambda>>)],\n",
       "  'gig_score': 0.0018081922647944781,\n",
       "  'prediction': 0}]"
      ]
     },
     "execution_count": 39,
     "metadata": {
      "tags": []
     },
     "output_type": "execute_result"
    }
   ],
   "source": [
    "tree1 = build_tree_iter(titanic_table, splitter_columns, 'Survived', {}) # should get 15 paths\n",
    "print(len(tree1['paths']))\n",
    "tree1['paths']"
   ]
  },
  {
   "cell_type": "markdown",
   "metadata": {
    "colab_type": "text",
    "id": "N9Xdyh4rDSa_"
   },
   "source": [
    "<div class=h1_cell>\n",
    "<p>\n",
    "Why did we only get 15 paths? Because one path was cut short. If you look closely, you can see that the first path has only 3 predicates:\n",
    "<p>\n",
    "```\n",
    " {'conjunction': [('sex_female_0', <function __main__.<lambda>>),\n",
    "   ('ok_child_1', <function __main__.<lambda>>),\n",
    "   ('pclass_3_0', <function __main__.<lambda>>)],\n",
    "  'gig_score': 0.19972989195678292,\n",
    "  'prediction': 1},\n",
    "```\n",
    "</p>\n",
    "Let's verify that the gig cutoff for this path is correct. First I'll generate the table from the 3 predicates.\n",
    "</div>"
   ]
  },
  {
   "cell_type": "code",
   "execution_count": 0,
   "metadata": {
    "colab": {},
    "colab_type": "code",
    "id": "eG37cdzcDSbB"
   },
   "outputs": [],
   "source": [
    "# do by hand what generate_table does for us\n",
    "\n",
    "subtable = titanic_table.loc[titanic_table['sex_female'] == 0]\n",
    "subtable = subtable.loc[subtable['ok_child'] == 1]\n",
    "subtable = subtable.loc[subtable['pclass_3'] == 0]"
   ]
  },
  {
   "cell_type": "markdown",
   "metadata": {
    "colab_type": "text",
    "id": "w_XZZkz3DSbC"
   },
   "source": [
    "<div class=h1_cell>\n",
    "<p>\n",
    "Now I'll check how many 0s and 1s are in the Survived column.\n",
    "</div>"
   ]
  },
  {
   "cell_type": "code",
   "execution_count": 41,
   "metadata": {
    "colab": {
     "base_uri": "https://localhost:8080/",
     "height": 50
    },
    "colab_type": "code",
    "id": "t68RxwolDSbE",
    "outputId": "7a91a9d2-931e-44c2-ab55-cd5b6160e0dc"
   },
   "outputs": [
    {
     "data": {
      "text/plain": [
       "1    11\n",
       "Name: Survived, dtype: int64"
      ]
     },
     "execution_count": 41,
     "metadata": {
      "tags": []
     },
     "output_type": "execute_result"
    }
   ],
   "source": [
    "subtable['Survived'].value_counts()"
   ]
  },
  {
   "cell_type": "markdown",
   "metadata": {
    "colab_type": "text",
    "id": "wpR-U6Y8DSbJ"
   },
   "source": [
    "<div class=h1_cell>\n",
    "<p>\n",
    "The table only contains survivors! So there were 11 total passengers that were not female, were less than age 8 and were not in 3rd class. And all of them survived. Convince yourself that any attempt to further extend this path, i.e., try to split the table further, will lead to a gig score of 0. And hence not pass the cutoff.\n",
    "<p>\n",
    "And a note to myself: it might be worth while checking for homogeneity of `before_table` prior to uselessly trying to find a splitter. So something like this:\n",
    "<p>\n",
    "<div class='code_block'>\n",
    "<pre><code>\n",
    "before_table = generate_table(table, conjunct)\n",
    "if is_homogenous(before_table):\n",
    "    #compute prediction and add path to tree_paths - don't need to mess with new splitter\n",
    "else:\n",
    "    columns_sorted = find_best_splitter(before_table, choices, target)\n",
    "</code></pre>\n",
    "</div>\n",
    "<p>\n",
    "</div>"
   ]
  },
  {
   "cell_type": "markdown",
   "metadata": {
    "colab_type": "text",
    "id": "SQPi-PdxDSbN"
   },
   "source": [
    "<h2>\n",
    "Now ready to do predictions\n",
    "</h2>\n",
    "<p>\n",
    "<div class=h1_cell>\n",
    "<p>\n",
    "We don't need separate predictors any more. In our old-school way we were representing trees with code. Our new improved way represents trees as a data structure. We can use just a single predictor function to interpret any tree.\n",
    "</div>"
   ]
  },
  {
   "cell_type": "code",
   "execution_count": 0,
   "metadata": {
    "colab": {},
    "colab_type": "code",
    "id": "xUKIbr_rDSbN"
   },
   "outputs": [],
   "source": [
    "def tree_predictor(row, tree):\n",
    "    \n",
    "    #go through each path, one by one (could use a map instead of for loop?)\n",
    "    for path in tree['paths']:\n",
    "        conjuncts = path['conjunction']\n",
    "        result = map(lambda tuple: tuple[1](row), conjuncts)  # potential to be parallelized\n",
    "        if all(result):\n",
    "            return path['prediction']\n",
    "    raise LookupError('No true paths found for row: ' + str(row))"
   ]
  },
  {
   "cell_type": "markdown",
   "metadata": {
    "colab_type": "text",
    "id": "ZoFoIBLcDSbQ"
   },
   "source": [
    "<div class=h1_cell>\n",
    "<p>\n",
    "Let's pull out a row and test it out.\n",
    "</div>"
   ]
  },
  {
   "cell_type": "code",
   "execution_count": 43,
   "metadata": {
    "colab": {
     "base_uri": "https://localhost:8080/",
     "height": 487
    },
    "colab_type": "code",
    "id": "ypmEd-r1DSbR",
    "outputId": "efc3fe39-f247-45d6-a294-3d73f3c7569f"
   },
   "outputs": [
    {
     "data": {
      "text/plain": [
       "Survived                                                      1\n",
       "Pclass                                                        1\n",
       "Name          Cumings, Mrs. John Bradley (Florence Briggs Th...\n",
       "Sex                                                      female\n",
       "Age                                                          38\n",
       "SibSp                                                         1\n",
       "Parch                                                         0\n",
       "Ticket                                                 PC 17599\n",
       "Fare                                                    71.2833\n",
       "Cabin                                                       C85\n",
       "Embarked                                                      C\n",
       "no_age                                                        0\n",
       "filled_age                                                   38\n",
       "emb_C                                                         1\n",
       "emb_Q                                                         0\n",
       "emb_S                                                         0\n",
       "emb_nan                                                       0\n",
       "age_bin                                                   Adult\n",
       "age_Child                                                     0\n",
       "age_Adult                                                     1\n",
       "age_Senior                                                    0\n",
       "sex_female                                                    1\n",
       "sex_male                                                      0\n",
       "ok_child                                                      0\n",
       "pclass_1                                                      1\n",
       "pclass_2                                                      0\n",
       "pclass_3                                                      0\n",
       "Name: 1, dtype: object"
      ]
     },
     "execution_count": 43,
     "metadata": {
      "tags": []
     },
     "output_type": "execute_result"
    }
   ],
   "source": [
    "row1 = titanic_table.loc[1]\n",
    "row1"
   ]
  },
  {
   "cell_type": "code",
   "execution_count": 44,
   "metadata": {
    "colab": {
     "base_uri": "https://localhost:8080/",
     "height": 34
    },
    "colab_type": "code",
    "id": "hUmtzLxGDSbU",
    "outputId": "d5bf45b6-a2a5-45da-87c6-9541eb8e9e5a"
   },
   "outputs": [
    {
     "data": {
      "text/plain": [
       "1"
      ]
     },
     "execution_count": 44,
     "metadata": {
      "tags": []
     },
     "output_type": "execute_result"
    }
   ],
   "source": [
    "tree_predictor(row1, tree1)"
   ]
  },
  {
   "cell_type": "markdown",
   "metadata": {
    "colab_type": "text",
    "id": "cZJlhQK8DSbW"
   },
   "source": [
    "<div class=h1_cell>\n",
    "<p>\n",
    "Now try for entire table.\n",
    "</div>"
   ]
  },
  {
   "cell_type": "code",
   "execution_count": 45,
   "metadata": {
    "colab": {
     "base_uri": "https://localhost:8080/",
     "height": 195
    },
    "colab_type": "code",
    "id": "dteSuwbODSbZ",
    "outputId": "cae32f53-8180-4cb5-a22b-ec08e1a56e1c"
   },
   "outputs": [
    {
     "data": {
      "text/html": [
       "<div>\n",
       "<style scoped>\n",
       "    .dataframe tbody tr th:only-of-type {\n",
       "        vertical-align: middle;\n",
       "    }\n",
       "\n",
       "    .dataframe tbody tr th {\n",
       "        vertical-align: top;\n",
       "    }\n",
       "\n",
       "    .dataframe thead th {\n",
       "        text-align: right;\n",
       "    }\n",
       "</style>\n",
       "<table border=\"1\" class=\"dataframe\">\n",
       "  <thead>\n",
       "    <tr style=\"text-align: right;\">\n",
       "      <th></th>\n",
       "      <th>Survived</th>\n",
       "      <th>pred_1</th>\n",
       "      <th>pred_1_type</th>\n",
       "      <th>pred_2</th>\n",
       "      <th>pred_2_type</th>\n",
       "      <th>tree_1</th>\n",
       "    </tr>\n",
       "  </thead>\n",
       "  <tbody>\n",
       "    <tr>\n",
       "      <th>0</th>\n",
       "      <td>0</td>\n",
       "      <td>0</td>\n",
       "      <td>true_negative</td>\n",
       "      <td>0</td>\n",
       "      <td>true_negative</td>\n",
       "      <td>0</td>\n",
       "    </tr>\n",
       "    <tr>\n",
       "      <th>1</th>\n",
       "      <td>1</td>\n",
       "      <td>1</td>\n",
       "      <td>true_positive</td>\n",
       "      <td>1</td>\n",
       "      <td>true_positive</td>\n",
       "      <td>1</td>\n",
       "    </tr>\n",
       "    <tr>\n",
       "      <th>2</th>\n",
       "      <td>1</td>\n",
       "      <td>1</td>\n",
       "      <td>true_positive</td>\n",
       "      <td>0</td>\n",
       "      <td>false_negative</td>\n",
       "      <td>0</td>\n",
       "    </tr>\n",
       "    <tr>\n",
       "      <th>3</th>\n",
       "      <td>1</td>\n",
       "      <td>1</td>\n",
       "      <td>true_positive</td>\n",
       "      <td>1</td>\n",
       "      <td>true_positive</td>\n",
       "      <td>1</td>\n",
       "    </tr>\n",
       "    <tr>\n",
       "      <th>4</th>\n",
       "      <td>0</td>\n",
       "      <td>0</td>\n",
       "      <td>true_negative</td>\n",
       "      <td>0</td>\n",
       "      <td>true_negative</td>\n",
       "      <td>0</td>\n",
       "    </tr>\n",
       "  </tbody>\n",
       "</table>\n",
       "</div>"
      ],
      "text/plain": [
       "   Survived  pred_1    pred_1_type  pred_2     pred_2_type  tree_1\n",
       "0         0       0  true_negative       0   true_negative       0\n",
       "1         1       1  true_positive       1   true_positive       1\n",
       "2         1       1  true_positive       0  false_negative       0\n",
       "3         1       1  true_positive       1   true_positive       1\n",
       "4         0       0  true_negative       0   true_negative       0"
      ]
     },
     "execution_count": 45,
     "metadata": {
      "tags": []
     },
     "output_type": "execute_result"
    }
   ],
   "source": [
    "titanic_results['tree_1'] = titanic_table.apply(lambda row: tree_predictor(row, tree1), axis=1)\n",
    "\n",
    "titanic_results.head(5)"
   ]
  },
  {
   "cell_type": "code",
   "execution_count": 46,
   "metadata": {
    "colab": {
     "base_uri": "https://localhost:8080/",
     "height": 195
    },
    "colab_type": "code",
    "id": "w24xhZy8DSbc",
    "outputId": "18df0b96-c52c-438d-d8c2-e17ef2592fdd"
   },
   "outputs": [
    {
     "data": {
      "text/html": [
       "<div>\n",
       "<style scoped>\n",
       "    .dataframe tbody tr th:only-of-type {\n",
       "        vertical-align: middle;\n",
       "    }\n",
       "\n",
       "    .dataframe tbody tr th {\n",
       "        vertical-align: top;\n",
       "    }\n",
       "\n",
       "    .dataframe thead th {\n",
       "        text-align: right;\n",
       "    }\n",
       "</style>\n",
       "<table border=\"1\" class=\"dataframe\">\n",
       "  <thead>\n",
       "    <tr style=\"text-align: right;\">\n",
       "      <th></th>\n",
       "      <th>Survived</th>\n",
       "      <th>pred_1</th>\n",
       "      <th>pred_1_type</th>\n",
       "      <th>pred_2</th>\n",
       "      <th>pred_2_type</th>\n",
       "      <th>tree_1</th>\n",
       "      <th>tree_1_type</th>\n",
       "    </tr>\n",
       "  </thead>\n",
       "  <tbody>\n",
       "    <tr>\n",
       "      <th>0</th>\n",
       "      <td>0</td>\n",
       "      <td>0</td>\n",
       "      <td>true_negative</td>\n",
       "      <td>0</td>\n",
       "      <td>true_negative</td>\n",
       "      <td>0</td>\n",
       "      <td>true_negative</td>\n",
       "    </tr>\n",
       "    <tr>\n",
       "      <th>1</th>\n",
       "      <td>1</td>\n",
       "      <td>1</td>\n",
       "      <td>true_positive</td>\n",
       "      <td>1</td>\n",
       "      <td>true_positive</td>\n",
       "      <td>1</td>\n",
       "      <td>true_positive</td>\n",
       "    </tr>\n",
       "    <tr>\n",
       "      <th>2</th>\n",
       "      <td>1</td>\n",
       "      <td>1</td>\n",
       "      <td>true_positive</td>\n",
       "      <td>0</td>\n",
       "      <td>false_negative</td>\n",
       "      <td>0</td>\n",
       "      <td>false_negative</td>\n",
       "    </tr>\n",
       "    <tr>\n",
       "      <th>3</th>\n",
       "      <td>1</td>\n",
       "      <td>1</td>\n",
       "      <td>true_positive</td>\n",
       "      <td>1</td>\n",
       "      <td>true_positive</td>\n",
       "      <td>1</td>\n",
       "      <td>true_positive</td>\n",
       "    </tr>\n",
       "    <tr>\n",
       "      <th>4</th>\n",
       "      <td>0</td>\n",
       "      <td>0</td>\n",
       "      <td>true_negative</td>\n",
       "      <td>0</td>\n",
       "      <td>true_negative</td>\n",
       "      <td>0</td>\n",
       "      <td>true_negative</td>\n",
       "    </tr>\n",
       "  </tbody>\n",
       "</table>\n",
       "</div>"
      ],
      "text/plain": [
       "   Survived  pred_1    pred_1_type  pred_2     pred_2_type  tree_1  \\\n",
       "0         0       0  true_negative       0   true_negative       0   \n",
       "1         1       1  true_positive       1   true_positive       1   \n",
       "2         1       1  true_positive       0  false_negative       0   \n",
       "3         1       1  true_positive       1   true_positive       1   \n",
       "4         0       0  true_negative       0   true_negative       0   \n",
       "\n",
       "      tree_1_type  \n",
       "0   true_negative  \n",
       "1   true_positive  \n",
       "2  false_negative  \n",
       "3   true_positive  \n",
       "4   true_negative  "
      ]
     },
     "execution_count": 46,
     "metadata": {
      "tags": []
     },
     "output_type": "execute_result"
    }
   ],
   "source": [
    "titanic_results['tree_1_type'] = titanic_results.apply(lambda row: predictor_case(row, pred='tree_1', target='Survived'), axis=1)\n",
    "titanic_results.head()"
   ]
  },
  {
   "cell_type": "code",
   "execution_count": 47,
   "metadata": {
    "colab": {
     "base_uri": "https://localhost:8080/",
     "height": 101
    },
    "colab_type": "code",
    "id": "nTuUA02eDSbm",
    "outputId": "fe00bcd2-938f-4c0c-a2fc-114f924baafa"
   },
   "outputs": [
    {
     "data": {
      "text/plain": [
       "true_negative     523\n",
       "true_positive     211\n",
       "false_negative    131\n",
       "false_positive     26\n",
       "Name: tree_1_type, dtype: int64"
      ]
     },
     "execution_count": 47,
     "metadata": {
      "tags": []
     },
     "output_type": "execute_result"
    }
   ],
   "source": [
    "tree_1_types = titanic_results['tree_1_type'].value_counts()\n",
    "tree_1_types"
   ]
  },
  {
   "cell_type": "code",
   "execution_count": 48,
   "metadata": {
    "colab": {
     "base_uri": "https://localhost:8080/",
     "height": 389
    },
    "colab_type": "code",
    "id": "_pgDxr1ODSbq",
    "outputId": "21728cae-0000-404e-cf9b-450176a125eb"
   },
   "outputs": [
    {
     "data": {
      "text/plain": [
       "<matplotlib.axes._subplots.AxesSubplot at 0x7fbfc4748400>"
      ]
     },
     "execution_count": 48,
     "metadata": {
      "tags": []
     },
     "output_type": "execute_result"
    },
    {
     "data": {
      "image/png": "[encoded data removed]",
      "text/plain": [
       "<Figure size 432x432 with 1 Axes>"
      ]
     },
     "metadata": {
      "tags": []
     },
     "output_type": "display_data"
    }
   ],
   "source": [
    "%matplotlib inline\n",
    "tree_1_types.plot.pie(title='Tree1 Accuracy: '+str(accuracy(tree_1_types)), autopct='%.2f', fontsize=20, figsize=(6, 6))  # need figsize to get correct aspect"
   ]
  },
  {
   "cell_type": "code",
   "execution_count": 49,
   "metadata": {
    "colab": {
     "base_uri": "https://localhost:8080/",
     "height": 34
    },
    "colab_type": "code",
    "id": "kq5u5EkXDSbt",
    "outputId": "df81e467-28cb-4040-d50b-d06a57c41e03"
   },
   "outputs": [
    {
     "data": {
      "text/plain": [
       "0.7288428324697754"
      ]
     },
     "execution_count": 49,
     "metadata": {
      "tags": []
     },
     "output_type": "execute_result"
    }
   ],
   "source": [
    "f1(tree_1_types)"
   ]
  },
  {
   "cell_type": "code",
   "execution_count": 50,
   "metadata": {
    "colab": {
     "base_uri": "https://localhost:8080/",
     "height": 34
    },
    "colab_type": "code",
    "id": "OaIIQoP8DSbx",
    "outputId": "e9e3a454-45fd-4f42-f656-43d7b1acc916"
   },
   "outputs": [
    {
     "data": {
      "text/plain": [
       "0.5696002300834051"
      ]
     },
     "execution_count": 50,
     "metadata": {
      "tags": []
     },
     "output_type": "execute_result"
    }
   ],
   "source": [
    "informedness(tree_1_types)"
   ]
  },
  {
   "cell_type": "markdown",
   "metadata": {
    "colab_type": "text",
    "id": "PNg_2tMxDSb0"
   },
   "source": [
    "<h2>\n",
    "Our next step is to tune the tree\n",
    "</h2>\n",
    "<p>\n",
    "<div class=h1_cell>\n",
    "<p>\n",
    "We have two knobs we can twist: max depth (currently set at 4) and gig cutoff (currently set at 0). Let's try trees of different depths. First up, max depth of 3.\n",
    "</div>"
   ]
  },
  {
   "cell_type": "code",
   "execution_count": 51,
   "metadata": {
    "colab": {
     "base_uri": "https://localhost:8080/",
     "height": 840
    },
    "colab_type": "code",
    "id": "wFZQfW2BDSb1",
    "outputId": "083f341f-cd37-439c-9f33-21076b4f55c9"
   },
   "outputs": [
    {
     "name": "stdout",
     "output_type": "stream",
     "text": [
      "8\n"
     ]
    },
    {
     "data": {
      "text/plain": [
       "[{'conjunction': [('sex_female_1',\n",
       "    <function __main__.build_pred.<locals>.<lambda>>),\n",
       "   ('pclass_3_1', <function __main__.build_pred.<locals>.<lambda>>),\n",
       "   ('emb_S_1', <function __main__.build_pred.<locals>.<lambda>>)],\n",
       "  'gig_score': 0.049107142857142794,\n",
       "  'prediction': 0},\n",
       " {'conjunction': [('sex_female_1',\n",
       "    <function __main__.build_pred.<locals>.<lambda>>),\n",
       "   ('pclass_3_1', <function __main__.build_pred.<locals>.<lambda>>),\n",
       "   ('emb_S_0', <function __main__.build_pred.<locals>.<lambda>>)],\n",
       "  'gig_score': 0.049107142857142794,\n",
       "  'prediction': 1},\n",
       " {'conjunction': [('sex_female_1',\n",
       "    <function __main__.build_pred.<locals>.<lambda>>),\n",
       "   ('pclass_3_0', <function __main__.build_pred.<locals>.<lambda>>),\n",
       "   ('emb_S_1', <function __main__.build_pred.<locals>.<lambda>>)],\n",
       "  'gig_score': 0.0011556819891408443,\n",
       "  'prediction': 1},\n",
       " {'conjunction': [('sex_female_1',\n",
       "    <function __main__.build_pred.<locals>.<lambda>>),\n",
       "   ('pclass_3_0', <function __main__.build_pred.<locals>.<lambda>>),\n",
       "   ('emb_S_0', <function __main__.build_pred.<locals>.<lambda>>)],\n",
       "  'gig_score': 0.0011556819891408443,\n",
       "  'prediction': 1},\n",
       " {'conjunction': [('sex_female_0',\n",
       "    <function __main__.build_pred.<locals>.<lambda>>),\n",
       "   ('ok_child_1', <function __main__.build_pred.<locals>.<lambda>>),\n",
       "   ('pclass_3_1', <function __main__.build_pred.<locals>.<lambda>>)],\n",
       "  'gig_score': 0.19972989195678292,\n",
       "  'prediction': 0},\n",
       " {'conjunction': [('sex_female_0',\n",
       "    <function __main__.build_pred.<locals>.<lambda>>),\n",
       "   ('ok_child_1', <function __main__.build_pred.<locals>.<lambda>>),\n",
       "   ('pclass_3_0', <function __main__.build_pred.<locals>.<lambda>>)],\n",
       "  'gig_score': 0.19972989195678292,\n",
       "  'prediction': 1},\n",
       " {'conjunction': [('sex_female_0',\n",
       "    <function __main__.build_pred.<locals>.<lambda>>),\n",
       "   ('ok_child_0', <function __main__.build_pred.<locals>.<lambda>>),\n",
       "   ('pclass_1_1', <function __main__.build_pred.<locals>.<lambda>>)],\n",
       "  'gig_score': 0.02035682291437929,\n",
       "  'prediction': 0},\n",
       " {'conjunction': [('sex_female_0',\n",
       "    <function __main__.build_pred.<locals>.<lambda>>),\n",
       "   ('ok_child_0', <function __main__.build_pred.<locals>.<lambda>>),\n",
       "   ('pclass_1_0', <function __main__.build_pred.<locals>.<lambda>>)],\n",
       "  'gig_score': 0.02035682291437929,\n",
       "  'prediction': 0}]"
      ]
     },
     "execution_count": 51,
     "metadata": {
      "tags": []
     },
     "output_type": "execute_result"
    }
   ],
   "source": [
    "tree2 = build_tree_iter(titanic_table, splitter_columns, 'Survived', {'max-depth':3})\n",
    "print(len(tree2['paths']))\n",
    "tree2['paths']"
   ]
  },
  {
   "cell_type": "markdown",
   "metadata": {
    "colab_type": "text",
    "id": "biB0QvpzBAT8"
   },
   "source": [
    "We generated 8 paths so looks like no gig cutoff: we expect to get 8 paths in a binary tree of level 3."
   ]
  },
  {
   "cell_type": "code",
   "execution_count": 53,
   "metadata": {
    "colab": {
     "base_uri": "https://localhost:8080/",
     "height": 195
    },
    "colab_type": "code",
    "id": "hqAMSbPhDSb4",
    "outputId": "ec1105d5-50e0-4383-ec13-674d40bc126d"
   },
   "outputs": [
    {
     "data": {
      "text/html": [
       "<div>\n",
       "<style scoped>\n",
       "    .dataframe tbody tr th:only-of-type {\n",
       "        vertical-align: middle;\n",
       "    }\n",
       "\n",
       "    .dataframe tbody tr th {\n",
       "        vertical-align: top;\n",
       "    }\n",
       "\n",
       "    .dataframe thead th {\n",
       "        text-align: right;\n",
       "    }\n",
       "</style>\n",
       "<table border=\"1\" class=\"dataframe\">\n",
       "  <thead>\n",
       "    <tr style=\"text-align: right;\">\n",
       "      <th></th>\n",
       "      <th>Survived</th>\n",
       "      <th>pred_1</th>\n",
       "      <th>pred_1_type</th>\n",
       "      <th>pred_2</th>\n",
       "      <th>pred_2_type</th>\n",
       "      <th>tree_1</th>\n",
       "      <th>tree_1_type</th>\n",
       "      <th>tree_2</th>\n",
       "    </tr>\n",
       "  </thead>\n",
       "  <tbody>\n",
       "    <tr>\n",
       "      <th>0</th>\n",
       "      <td>0</td>\n",
       "      <td>0</td>\n",
       "      <td>true_negative</td>\n",
       "      <td>0</td>\n",
       "      <td>true_negative</td>\n",
       "      <td>0</td>\n",
       "      <td>true_negative</td>\n",
       "      <td>0</td>\n",
       "    </tr>\n",
       "    <tr>\n",
       "      <th>1</th>\n",
       "      <td>1</td>\n",
       "      <td>1</td>\n",
       "      <td>true_positive</td>\n",
       "      <td>1</td>\n",
       "      <td>true_positive</td>\n",
       "      <td>1</td>\n",
       "      <td>true_positive</td>\n",
       "      <td>1</td>\n",
       "    </tr>\n",
       "    <tr>\n",
       "      <th>2</th>\n",
       "      <td>1</td>\n",
       "      <td>1</td>\n",
       "      <td>true_positive</td>\n",
       "      <td>0</td>\n",
       "      <td>false_negative</td>\n",
       "      <td>0</td>\n",
       "      <td>false_negative</td>\n",
       "      <td>0</td>\n",
       "    </tr>\n",
       "    <tr>\n",
       "      <th>3</th>\n",
       "      <td>1</td>\n",
       "      <td>1</td>\n",
       "      <td>true_positive</td>\n",
       "      <td>1</td>\n",
       "      <td>true_positive</td>\n",
       "      <td>1</td>\n",
       "      <td>true_positive</td>\n",
       "      <td>1</td>\n",
       "    </tr>\n",
       "    <tr>\n",
       "      <th>4</th>\n",
       "      <td>0</td>\n",
       "      <td>0</td>\n",
       "      <td>true_negative</td>\n",
       "      <td>0</td>\n",
       "      <td>true_negative</td>\n",
       "      <td>0</td>\n",
       "      <td>true_negative</td>\n",
       "      <td>0</td>\n",
       "    </tr>\n",
       "  </tbody>\n",
       "</table>\n",
       "</div>"
      ],
      "text/plain": [
       "   Survived  pred_1    pred_1_type  pred_2     pred_2_type  tree_1  \\\n",
       "0         0       0  true_negative       0   true_negative       0   \n",
       "1         1       1  true_positive       1   true_positive       1   \n",
       "2         1       1  true_positive       0  false_negative       0   \n",
       "3         1       1  true_positive       1   true_positive       1   \n",
       "4         0       0  true_negative       0   true_negative       0   \n",
       "\n",
       "      tree_1_type  tree_2  \n",
       "0   true_negative       0  \n",
       "1   true_positive       1  \n",
       "2  false_negative       0  \n",
       "3   true_positive       1  \n",
       "4   true_negative       0  "
      ]
     },
     "execution_count": 53,
     "metadata": {
      "tags": []
     },
     "output_type": "execute_result"
    }
   ],
   "source": [
    "titanic_results['tree_2'] = titanic_table.apply(lambda row: tree_predictor(row, tree2), axis=1)\n",
    "\n",
    "titanic_results.head(5)"
   ]
  },
  {
   "cell_type": "code",
   "execution_count": 54,
   "metadata": {
    "colab": {
     "base_uri": "https://localhost:8080/",
     "height": 195
    },
    "colab_type": "code",
    "id": "P5pbi-rhDSb7",
    "outputId": "0194f2ff-9a8e-4a07-e14c-976a93b8cb5d"
   },
   "outputs": [
    {
     "data": {
      "text/html": [
       "<div>\n",
       "<style scoped>\n",
       "    .dataframe tbody tr th:only-of-type {\n",
       "        vertical-align: middle;\n",
       "    }\n",
       "\n",
       "    .dataframe tbody tr th {\n",
       "        vertical-align: top;\n",
       "    }\n",
       "\n",
       "    .dataframe thead th {\n",
       "        text-align: right;\n",
       "    }\n",
       "</style>\n",
       "<table border=\"1\" class=\"dataframe\">\n",
       "  <thead>\n",
       "    <tr style=\"text-align: right;\">\n",
       "      <th></th>\n",
       "      <th>Survived</th>\n",
       "      <th>pred_1</th>\n",
       "      <th>pred_1_type</th>\n",
       "      <th>pred_2</th>\n",
       "      <th>pred_2_type</th>\n",
       "      <th>tree_1</th>\n",
       "      <th>tree_1_type</th>\n",
       "      <th>tree_2</th>\n",
       "      <th>tree_2_type</th>\n",
       "    </tr>\n",
       "  </thead>\n",
       "  <tbody>\n",
       "    <tr>\n",
       "      <th>0</th>\n",
       "      <td>0</td>\n",
       "      <td>0</td>\n",
       "      <td>true_negative</td>\n",
       "      <td>0</td>\n",
       "      <td>true_negative</td>\n",
       "      <td>0</td>\n",
       "      <td>true_negative</td>\n",
       "      <td>0</td>\n",
       "      <td>true_negative</td>\n",
       "    </tr>\n",
       "    <tr>\n",
       "      <th>1</th>\n",
       "      <td>1</td>\n",
       "      <td>1</td>\n",
       "      <td>true_positive</td>\n",
       "      <td>1</td>\n",
       "      <td>true_positive</td>\n",
       "      <td>1</td>\n",
       "      <td>true_positive</td>\n",
       "      <td>1</td>\n",
       "      <td>true_positive</td>\n",
       "    </tr>\n",
       "    <tr>\n",
       "      <th>2</th>\n",
       "      <td>1</td>\n",
       "      <td>1</td>\n",
       "      <td>true_positive</td>\n",
       "      <td>0</td>\n",
       "      <td>false_negative</td>\n",
       "      <td>0</td>\n",
       "      <td>false_negative</td>\n",
       "      <td>0</td>\n",
       "      <td>false_negative</td>\n",
       "    </tr>\n",
       "    <tr>\n",
       "      <th>3</th>\n",
       "      <td>1</td>\n",
       "      <td>1</td>\n",
       "      <td>true_positive</td>\n",
       "      <td>1</td>\n",
       "      <td>true_positive</td>\n",
       "      <td>1</td>\n",
       "      <td>true_positive</td>\n",
       "      <td>1</td>\n",
       "      <td>true_positive</td>\n",
       "    </tr>\n",
       "    <tr>\n",
       "      <th>4</th>\n",
       "      <td>0</td>\n",
       "      <td>0</td>\n",
       "      <td>true_negative</td>\n",
       "      <td>0</td>\n",
       "      <td>true_negative</td>\n",
       "      <td>0</td>\n",
       "      <td>true_negative</td>\n",
       "      <td>0</td>\n",
       "      <td>true_negative</td>\n",
       "    </tr>\n",
       "  </tbody>\n",
       "</table>\n",
       "</div>"
      ],
      "text/plain": [
       "   Survived  pred_1    pred_1_type  pred_2     pred_2_type  tree_1  \\\n",
       "0         0       0  true_negative       0   true_negative       0   \n",
       "1         1       1  true_positive       1   true_positive       1   \n",
       "2         1       1  true_positive       0  false_negative       0   \n",
       "3         1       1  true_positive       1   true_positive       1   \n",
       "4         0       0  true_negative       0   true_negative       0   \n",
       "\n",
       "      tree_1_type  tree_2     tree_2_type  \n",
       "0   true_negative       0   true_negative  \n",
       "1   true_positive       1   true_positive  \n",
       "2  false_negative       0  false_negative  \n",
       "3   true_positive       1   true_positive  \n",
       "4   true_negative       0   true_negative  "
      ]
     },
     "execution_count": 54,
     "metadata": {
      "tags": []
     },
     "output_type": "execute_result"
    }
   ],
   "source": [
    "titanic_results['tree_2_type'] = titanic_results.apply(lambda row: predictor_case(row, pred='tree_2', target='Survived'), axis=1)\n",
    "titanic_results.head()"
   ]
  },
  {
   "cell_type": "code",
   "execution_count": 55,
   "metadata": {
    "colab": {
     "base_uri": "https://localhost:8080/",
     "height": 101
    },
    "colab_type": "code",
    "id": "ijptt_18DSb-",
    "outputId": "504954c5-edf5-41f6-f934-e115c8391474"
   },
   "outputs": [
    {
     "data": {
      "text/plain": [
       "true_negative     523\n",
       "true_positive     211\n",
       "false_negative    131\n",
       "false_positive     26\n",
       "Name: tree_2_type, dtype: int64"
      ]
     },
     "execution_count": 55,
     "metadata": {
      "tags": []
     },
     "output_type": "execute_result"
    }
   ],
   "source": [
    "tree_2_types = titanic_results['tree_2_type'].value_counts()\n",
    "tree_2_types"
   ]
  },
  {
   "cell_type": "code",
   "execution_count": 56,
   "metadata": {
    "colab": {
     "base_uri": "https://localhost:8080/",
     "height": 389
    },
    "colab_type": "code",
    "id": "stRWzsipDScA",
    "outputId": "5069cd73-33e9-4b76-f3fa-4994dca3261b"
   },
   "outputs": [
    {
     "data": {
      "text/plain": [
       "<matplotlib.axes._subplots.AxesSubplot at 0x7fbfc49b27f0>"
      ]
     },
     "execution_count": 56,
     "metadata": {
      "tags": []
     },
     "output_type": "execute_result"
    },
    {
     "data": {
      "image/png": "[encoded data removed]",
      "text/plain": [
       "<Figure size 432x432 with 1 Axes>"
      ]
     },
     "metadata": {
      "tags": []
     },
     "output_type": "display_data"
    }
   ],
   "source": [
    "tree_2_types.plot.pie(title='Tree2 Accuracy: '+str(accuracy(tree_2_types)), autopct='%.2f', fontsize=20, figsize=(6, 6))  # need figsize to get correct aspect"
   ]
  },
  {
   "cell_type": "code",
   "execution_count": 57,
   "metadata": {
    "colab": {
     "base_uri": "https://localhost:8080/",
     "height": 34
    },
    "colab_type": "code",
    "id": "nR4GQV2YDScD",
    "outputId": "b7e1ee1f-aaf7-4bf1-bbd3-599f6df4d318"
   },
   "outputs": [
    {
     "data": {
      "text/plain": [
       "0.7288428324697754"
      ]
     },
     "execution_count": 57,
     "metadata": {
      "tags": []
     },
     "output_type": "execute_result"
    }
   ],
   "source": [
    "f1(tree_2_types)"
   ]
  },
  {
   "cell_type": "code",
   "execution_count": 58,
   "metadata": {
    "colab": {
     "base_uri": "https://localhost:8080/",
     "height": 34
    },
    "colab_type": "code",
    "id": "bPHKDA5kDScG",
    "outputId": "086c1564-85e6-493a-ce6b-2564a3af3ff4"
   },
   "outputs": [
    {
     "data": {
      "text/plain": [
       "0.5696002300834051"
      ]
     },
     "execution_count": 58,
     "metadata": {
      "tags": []
     },
     "output_type": "execute_result"
    }
   ],
   "source": [
    "informedness(tree_2_types)"
   ]
  },
  {
   "cell_type": "markdown",
   "metadata": {
    "colab_type": "text",
    "id": "LMKoU_soDScI"
   },
   "source": [
    "<div class=h1_cell>\n",
    "<p>\n",
    "Exactly the same as with depth 4. Kind of interesting. It appears that adding a 4th level to the tree gave us no benefit. Let's keep going and try max level 2.\n",
    "</div>"
   ]
  },
  {
   "cell_type": "code",
   "execution_count": 60,
   "metadata": {
    "colab": {
     "base_uri": "https://localhost:8080/",
     "height": 370
    },
    "colab_type": "code",
    "id": "nm_yr7KlDScJ",
    "outputId": "8a7ba654-3217-46cd-b1f5-e00ff2f37fda"
   },
   "outputs": [
    {
     "name": "stdout",
     "output_type": "stream",
     "text": [
      "4\n"
     ]
    },
    {
     "data": {
      "text/plain": [
       "[{'conjunction': [('sex_female_1',\n",
       "    <function __main__.build_pred.<locals>.<lambda>>),\n",
       "   ('pclass_3_1', <function __main__.build_pred.<locals>.<lambda>>)],\n",
       "  'gig_score': 0.0992456441378125,\n",
       "  'prediction': 0},\n",
       " {'conjunction': [('sex_female_1',\n",
       "    <function __main__.build_pred.<locals>.<lambda>>),\n",
       "   ('pclass_3_0', <function __main__.build_pred.<locals>.<lambda>>)],\n",
       "  'gig_score': 0.0992456441378125,\n",
       "  'prediction': 1},\n",
       " {'conjunction': [('sex_female_0',\n",
       "    <function __main__.build_pred.<locals>.<lambda>>),\n",
       "   ('ok_child_1', <function __main__.build_pred.<locals>.<lambda>>)],\n",
       "  'gig_score': 0.017842505175795997,\n",
       "  'prediction': 1},\n",
       " {'conjunction': [('sex_female_0',\n",
       "    <function __main__.build_pred.<locals>.<lambda>>),\n",
       "   ('ok_child_0', <function __main__.build_pred.<locals>.<lambda>>)],\n",
       "  'gig_score': 0.017842505175795997,\n",
       "  'prediction': 0}]"
      ]
     },
     "execution_count": 60,
     "metadata": {
      "tags": []
     },
     "output_type": "execute_result"
    }
   ],
   "source": [
    "tree3 = build_tree_iter(titanic_table, splitter_columns, 'Survived', {'max-depth':2})\n",
    "print(len(tree3['paths']))\n",
    "tree3['paths']"
   ]
  },
  {
   "cell_type": "code",
   "execution_count": 61,
   "metadata": {
    "colab": {
     "base_uri": "https://localhost:8080/",
     "height": 101
    },
    "colab_type": "code",
    "id": "jo6HIRREDScL",
    "outputId": "cdee7d40-387f-4b47-ee22-1d44a7dbcdc9"
   },
   "outputs": [
    {
     "data": {
      "text/plain": [
       "true_negative     529\n",
       "true_positive     178\n",
       "false_negative    164\n",
       "false_positive     20\n",
       "Name: tree_3_type, dtype: int64"
      ]
     },
     "execution_count": 61,
     "metadata": {
      "tags": []
     },
     "output_type": "execute_result"
    }
   ],
   "source": [
    "titanic_results['tree_3'] = titanic_table.apply(lambda row: tree_predictor(row, tree3), axis=1)\n",
    "titanic_results['tree_3_type'] = titanic_results.apply(lambda row: predictor_case(row, pred='tree_3', target='Survived'), axis=1)\n",
    "tree_3_types = titanic_results['tree_3_type'].value_counts()\n",
    "tree_3_types"
   ]
  },
  {
   "cell_type": "code",
   "execution_count": 62,
   "metadata": {
    "colab": {
     "base_uri": "https://localhost:8080/",
     "height": 389
    },
    "colab_type": "code",
    "id": "qPTTr6tTDScR",
    "outputId": "6390f83b-67da-4003-f114-4c1b1d29476c"
   },
   "outputs": [
    {
     "data": {
      "text/plain": [
       "<matplotlib.axes._subplots.AxesSubplot at 0x7fbfc25154e0>"
      ]
     },
     "execution_count": 62,
     "metadata": {
      "tags": []
     },
     "output_type": "execute_result"
    },
    {
     "data": {
      "image/png": "[encoded data removed]",
      "text/plain": [
       "<Figure size 432x432 with 1 Axes>"
      ]
     },
     "metadata": {
      "tags": []
     },
     "output_type": "display_data"
    }
   ],
   "source": [
    "tree_3_types.plot.pie(title='Tree3 Accuracy: '+str(accuracy(tree_3_types)), autopct='%.2f', fontsize=20, figsize=(6, 6))  # need figsize to get correct aspect"
   ]
  },
  {
   "cell_type": "code",
   "execution_count": 63,
   "metadata": {
    "colab": {
     "base_uri": "https://localhost:8080/",
     "height": 34
    },
    "colab_type": "code",
    "id": "Sjxr8WMMDScU",
    "outputId": "1fa013b5-862d-4fde-aa10-6585c766d3aa"
   },
   "outputs": [
    {
     "data": {
      "text/plain": [
       "0.6592592592592593"
      ]
     },
     "execution_count": 63,
     "metadata": {
      "tags": []
     },
     "output_type": "execute_result"
    }
   ],
   "source": [
    "f1(tree_3_types)"
   ]
  },
  {
   "cell_type": "code",
   "execution_count": 64,
   "metadata": {
    "colab": {
     "base_uri": "https://localhost:8080/",
     "height": 34
    },
    "colab_type": "code",
    "id": "9lHmsdH_DScX",
    "outputId": "6b16a354-89ae-4cbd-b800-4c75972ff5a5"
   },
   "outputs": [
    {
     "data": {
      "text/plain": [
       "0.4840379637618637"
      ]
     },
     "execution_count": 64,
     "metadata": {
      "tags": []
     },
     "output_type": "execute_result"
    }
   ],
   "source": [
    "informedness(tree_3_types)"
   ]
  },
  {
   "cell_type": "markdown",
   "metadata": {
    "colab_type": "text",
    "id": "dB3wEuG2DScb"
   },
   "source": [
    "<div class=h1_cell>\n",
    "<p>\n",
    "We got worse in all measures, i.e., accuracy, F1, Informedness.\n",
    "<p>\n",
    "Let's explore the gig cutoff a bit. I'll use max depth 3 but change the cutoff.\n",
    "</div>"
   ]
  },
  {
   "cell_type": "code",
   "execution_count": 65,
   "metadata": {
    "colab": {
     "base_uri": "https://localhost:8080/",
     "height": 722
    },
    "colab_type": "code",
    "id": "Nx4ukpFnDScb",
    "outputId": "30935be3-1035-478b-b5f8-54e15edaa398"
   },
   "outputs": [
    {
     "name": "stdout",
     "output_type": "stream",
     "text": [
      "7\n"
     ]
    },
    {
     "data": {
      "text/plain": [
       "[{'conjunction': [('sex_female_1',\n",
       "    <function __main__.build_pred.<locals>.<lambda>>),\n",
       "   ('pclass_3_0', <function __main__.build_pred.<locals>.<lambda>>)],\n",
       "  'gig_score': 0.0992456441378125,\n",
       "  'prediction': 1},\n",
       " {'conjunction': [('sex_female_1',\n",
       "    <function __main__.build_pred.<locals>.<lambda>>),\n",
       "   ('pclass_3_1', <function __main__.build_pred.<locals>.<lambda>>),\n",
       "   ('emb_S_1', <function __main__.build_pred.<locals>.<lambda>>)],\n",
       "  'gig_score': 0.049107142857142794,\n",
       "  'prediction': 0},\n",
       " {'conjunction': [('sex_female_1',\n",
       "    <function __main__.build_pred.<locals>.<lambda>>),\n",
       "   ('pclass_3_1', <function __main__.build_pred.<locals>.<lambda>>),\n",
       "   ('emb_S_0', <function __main__.build_pred.<locals>.<lambda>>)],\n",
       "  'gig_score': 0.049107142857142794,\n",
       "  'prediction': 1},\n",
       " {'conjunction': [('sex_female_0',\n",
       "    <function __main__.build_pred.<locals>.<lambda>>),\n",
       "   ('ok_child_1', <function __main__.build_pred.<locals>.<lambda>>),\n",
       "   ('pclass_3_1', <function __main__.build_pred.<locals>.<lambda>>)],\n",
       "  'gig_score': 0.19972989195678292,\n",
       "  'prediction': 0},\n",
       " {'conjunction': [('sex_female_0',\n",
       "    <function __main__.build_pred.<locals>.<lambda>>),\n",
       "   ('ok_child_1', <function __main__.build_pred.<locals>.<lambda>>),\n",
       "   ('pclass_3_0', <function __main__.build_pred.<locals>.<lambda>>)],\n",
       "  'gig_score': 0.19972989195678292,\n",
       "  'prediction': 1},\n",
       " {'conjunction': [('sex_female_0',\n",
       "    <function __main__.build_pred.<locals>.<lambda>>),\n",
       "   ('ok_child_0', <function __main__.build_pred.<locals>.<lambda>>),\n",
       "   ('pclass_1_1', <function __main__.build_pred.<locals>.<lambda>>)],\n",
       "  'gig_score': 0.02035682291437929,\n",
       "  'prediction': 0},\n",
       " {'conjunction': [('sex_female_0',\n",
       "    <function __main__.build_pred.<locals>.<lambda>>),\n",
       "   ('ok_child_0', <function __main__.build_pred.<locals>.<lambda>>),\n",
       "   ('pclass_1_0', <function __main__.build_pred.<locals>.<lambda>>)],\n",
       "  'gig_score': 0.02035682291437929,\n",
       "  'prediction': 0}]"
      ]
     },
     "execution_count": 65,
     "metadata": {
      "tags": []
     },
     "output_type": "execute_result"
    }
   ],
   "source": [
    "tree4 = build_tree_iter(titanic_table, splitter_columns, 'Survived', {'max-depth':3, 'gig-cutoff': .01}) #increase from 0 to .01\n",
    "print(len(tree4['paths']))\n",
    "tree4['paths']"
   ]
  },
  {
   "cell_type": "markdown",
   "metadata": {
    "colab_type": "text",
    "id": "Z7Y1BOKrDSce"
   },
   "source": [
    "<div class=h1_cell>\n",
    "<p>We eliminated 1 path: instead of 8 we now have 7.\n",
    "</div>"
   ]
  },
  {
   "cell_type": "code",
   "execution_count": 1,
   "metadata": {
    "colab": {
     "base_uri": "https://localhost:8080/",
     "height": 101
    },
    "colab_type": "code",
    "id": "St67mJyIDSce",
    "outputId": "c678bd48-d4b6-4b5c-a284-28bd4e0821d6"
   },
   "outputs": [
    {
     "ename": "NameError",
     "evalue": "name 'titanic_table' is not defined",
     "output_type": "error",
     "traceback": [
      "\u001b[0;31m---------------------------------------------------------------------------\u001b[0m",
      "\u001b[0;31mNameError\u001b[0m                                 Traceback (most recent call last)",
      "\u001b[0;32m<ipython-input-1-554b744071ae>\u001b[0m in \u001b[0;36m<module>\u001b[0;34m\u001b[0m\n\u001b[0;32m----> 1\u001b[0;31m \u001b[0mtitanic_results\u001b[0m\u001b[0;34m[\u001b[0m\u001b[0;34m'tree_4'\u001b[0m\u001b[0;34m]\u001b[0m \u001b[0;34m=\u001b[0m \u001b[0mtitanic_table\u001b[0m\u001b[0;34m.\u001b[0m\u001b[0mapply\u001b[0m\u001b[0;34m(\u001b[0m\u001b[0;32mlambda\u001b[0m \u001b[0mrow\u001b[0m\u001b[0;34m:\u001b[0m \u001b[0mtree_predictor\u001b[0m\u001b[0;34m(\u001b[0m\u001b[0mrow\u001b[0m\u001b[0;34m,\u001b[0m \u001b[0mtree4\u001b[0m\u001b[0;34m)\u001b[0m\u001b[0;34m,\u001b[0m \u001b[0maxis\u001b[0m\u001b[0;34m=\u001b[0m\u001b[0;36m1\u001b[0m\u001b[0;34m)\u001b[0m\u001b[0;34m\u001b[0m\u001b[0;34m\u001b[0m\u001b[0m\n\u001b[0m\u001b[1;32m      2\u001b[0m \u001b[0mtitanic_results\u001b[0m\u001b[0;34m[\u001b[0m\u001b[0;34m'tree_4_type'\u001b[0m\u001b[0;34m]\u001b[0m \u001b[0;34m=\u001b[0m \u001b[0mtitanic_results\u001b[0m\u001b[0;34m.\u001b[0m\u001b[0mapply\u001b[0m\u001b[0;34m(\u001b[0m\u001b[0;32mlambda\u001b[0m \u001b[0mrow\u001b[0m\u001b[0;34m:\u001b[0m \u001b[0mpredictor_case\u001b[0m\u001b[0;34m(\u001b[0m\u001b[0mrow\u001b[0m\u001b[0;34m,\u001b[0m \u001b[0mpred\u001b[0m\u001b[0;34m=\u001b[0m\u001b[0;34m'tree_4'\u001b[0m\u001b[0;34m,\u001b[0m \u001b[0mtarget\u001b[0m\u001b[0;34m=\u001b[0m\u001b[0;34m'Survived'\u001b[0m\u001b[0;34m)\u001b[0m\u001b[0;34m,\u001b[0m \u001b[0maxis\u001b[0m\u001b[0;34m=\u001b[0m\u001b[0;36m1\u001b[0m\u001b[0;34m)\u001b[0m\u001b[0;34m\u001b[0m\u001b[0;34m\u001b[0m\u001b[0m\n\u001b[1;32m      3\u001b[0m \u001b[0mtree_4_types\u001b[0m \u001b[0;34m=\u001b[0m \u001b[0mtitanic_results\u001b[0m\u001b[0;34m[\u001b[0m\u001b[0;34m'tree_4_type'\u001b[0m\u001b[0;34m]\u001b[0m\u001b[0;34m.\u001b[0m\u001b[0mvalue_counts\u001b[0m\u001b[0;34m(\u001b[0m\u001b[0;34m)\u001b[0m\u001b[0;34m\u001b[0m\u001b[0;34m\u001b[0m\u001b[0m\n\u001b[1;32m      4\u001b[0m \u001b[0mtree_4_types\u001b[0m\u001b[0;34m\u001b[0m\u001b[0;34m\u001b[0m\u001b[0m\n",
      "\u001b[0;31mNameError\u001b[0m: name 'titanic_table' is not defined"
     ]
    }
   ],
   "source": [
    "titanic_results['tree_4'] = titanic_table.apply(lambda row: tree_predictor(row, tree4), axis=1)\n",
    "titanic_results['tree_4_type'] = titanic_results.apply(lambda row: predictor_case(row, pred='tree_4', target='Survived'), axis=1)\n",
    "tree_4_types = titanic_results['tree_4_type'].value_counts()\n",
    "tree_4_types"
   ]
  },
  {
   "cell_type": "code",
   "execution_count": 67,
   "metadata": {
    "colab": {
     "base_uri": "https://localhost:8080/",
     "height": 389
    },
    "colab_type": "code",
    "id": "JrzWAnb9DScj",
    "outputId": "3afe966f-2eb7-4f0b-d469-1f2c2030f855"
   },
   "outputs": [
    {
     "data": {
      "text/plain": [
       "<matplotlib.axes._subplots.AxesSubplot at 0x7fbfc24e6d68>"
      ]
     },
     "execution_count": 67,
     "metadata": {
      "tags": []
     },
     "output_type": "execute_result"
    },
    {
     "data": {
      "image/png": "[encoded data removed]",
      "text/plain": [
       "<Figure size 432x432 with 1 Axes>"
      ]
     },
     "metadata": {
      "tags": []
     },
     "output_type": "display_data"
    }
   ],
   "source": [
    "tree_4_types.plot.pie(title='Tre4 Accuracy: '+str(accuracy(tree_4_types)), autopct='%.2f', fontsize=20, figsize=(6, 6))  # need figsize to get correct aspect"
   ]
  },
  {
   "cell_type": "code",
   "execution_count": 68,
   "metadata": {
    "colab": {
     "base_uri": "https://localhost:8080/",
     "height": 34
    },
    "colab_type": "code",
    "id": "XzRSSe0nDSco",
    "outputId": "fbae2a6c-eaba-448e-81b2-8c0dc0eb69ec"
   },
   "outputs": [
    {
     "data": {
      "text/plain": [
       "0.7288428324697754"
      ]
     },
     "execution_count": 68,
     "metadata": {
      "tags": []
     },
     "output_type": "execute_result"
    }
   ],
   "source": [
    "f1(tree_4_types)"
   ]
  },
  {
   "cell_type": "code",
   "execution_count": 69,
   "metadata": {
    "colab": {
     "base_uri": "https://localhost:8080/",
     "height": 34
    },
    "colab_type": "code",
    "id": "IRNjURoSDScs",
    "outputId": "ec9d8c62-ed3e-4672-8d43-961c339d8681"
   },
   "outputs": [
    {
     "data": {
      "text/plain": [
       "0.5696002300834051"
      ]
     },
     "execution_count": 69,
     "metadata": {
      "tags": []
     },
     "output_type": "execute_result"
    }
   ],
   "source": [
    "informedness(tree_4_types)"
   ]
  },
  {
   "cell_type": "markdown",
   "metadata": {
    "colab_type": "text",
    "id": "OVIZjU_gDScy"
   },
   "source": [
    "<div class=h1_cell>\n",
    "<p>\n",
    "Looks like exact same results as with level 3 and cutoff 0. But now with a slightly slimmer tree, which we will see is a good thing in future modules.\n",
    "<p>\n",
    "Let's try bumping the cutoff slightly.\n",
    "</div>"
   ]
  },
  {
   "cell_type": "code",
   "execution_count": 70,
   "metadata": {
    "colab": {
     "base_uri": "https://localhost:8080/",
     "height": 269
    },
    "colab_type": "code",
    "id": "D3FWmxnrDScz",
    "outputId": "241c9ff0-f164-4f31-d657-b05a07366e76"
   },
   "outputs": [
    {
     "name": "stdout",
     "output_type": "stream",
     "text": [
      "3\n"
     ]
    },
    {
     "data": {
      "text/plain": [
       "[{'conjunction': [('sex_female_0',\n",
       "    <function __main__.build_pred.<locals>.<lambda>>)],\n",
       "  'gig_score': 0.1396479574728524,\n",
       "  'prediction': 0},\n",
       " {'conjunction': [('sex_female_1',\n",
       "    <function __main__.build_pred.<locals>.<lambda>>),\n",
       "   ('pclass_3_1', <function __main__.build_pred.<locals>.<lambda>>)],\n",
       "  'gig_score': 0.0992456441378125,\n",
       "  'prediction': 0},\n",
       " {'conjunction': [('sex_female_1',\n",
       "    <function __main__.build_pred.<locals>.<lambda>>),\n",
       "   ('pclass_3_0', <function __main__.build_pred.<locals>.<lambda>>)],\n",
       "  'gig_score': 0.0992456441378125,\n",
       "  'prediction': 1}]"
      ]
     },
     "execution_count": 70,
     "metadata": {
      "tags": []
     },
     "output_type": "execute_result"
    }
   ],
   "source": [
    "tree5 = build_tree_iter(titanic_table, splitter_columns, 'Survived', {'max-depth':3, 'gig-cutoff': .05})\n",
    "print(len(tree5['paths']))\n",
    "tree5['paths']"
   ]
  },
  {
   "cell_type": "markdown",
   "metadata": {
    "colab_type": "text",
    "id": "R3Mp-3CPDSc6"
   },
   "source": [
    "<div class=h1_cell>\n",
    "<p>\n",
    "Well, we trimmed the paths to 3. Let's see if improvement.\n",
    "</div>"
   ]
  },
  {
   "cell_type": "code",
   "execution_count": 71,
   "metadata": {
    "colab": {
     "base_uri": "https://localhost:8080/",
     "height": 101
    },
    "colab_type": "code",
    "id": "8rihQ1KMDSc6",
    "outputId": "797d5c4f-bbca-4826-8079-9f3e232badaf"
   },
   "outputs": [
    {
     "data": {
      "text/plain": [
       "true_negative     540\n",
       "false_negative    181\n",
       "true_positive     161\n",
       "false_positive      9\n",
       "Name: tree_5_type, dtype: int64"
      ]
     },
     "execution_count": 71,
     "metadata": {
      "tags": []
     },
     "output_type": "execute_result"
    }
   ],
   "source": [
    "titanic_results['tree_5'] = titanic_table.apply(lambda row: tree_predictor(row, tree5), axis=1)\n",
    "titanic_results['tree_5_type'] = titanic_results.apply(lambda row: predictor_case(row, pred='tree_5', target='Survived'), axis=1)\n",
    "tree_5_types = titanic_results['tree_5_type'].value_counts()\n",
    "tree_5_types"
   ]
  },
  {
   "cell_type": "code",
   "execution_count": 72,
   "metadata": {
    "colab": {
     "base_uri": "https://localhost:8080/",
     "height": 389
    },
    "colab_type": "code",
    "id": "ddr4MiRBDSc7",
    "outputId": "1fcfada3-2081-4222-c4c6-1bb401f219bb"
   },
   "outputs": [
    {
     "data": {
      "text/plain": [
       "<matplotlib.axes._subplots.AxesSubplot at 0x7fbfc24a1b00>"
      ]
     },
     "execution_count": 72,
     "metadata": {
      "tags": []
     },
     "output_type": "execute_result"
    },
    {
     "data": {
      "image/png": "[encoded data removed]",
      "text/plain": [
       "<Figure size 432x432 with 1 Axes>"
      ]
     },
     "metadata": {
      "tags": []
     },
     "output_type": "display_data"
    }
   ],
   "source": [
    "tree_5_types.plot.pie(title='Tree5 Accuracy: '+str(accuracy(tree_5_types)), autopct='%.2f', fontsize=20, figsize=(6, 6))  # need figsize to get correct aspect"
   ]
  },
  {
   "cell_type": "code",
   "execution_count": 73,
   "metadata": {
    "colab": {
     "base_uri": "https://localhost:8080/",
     "height": 34
    },
    "colab_type": "code",
    "id": "JPATWkf5DSc_",
    "outputId": "287dae00-5296-41f0-c705-b16c25bf3d98"
   },
   "outputs": [
    {
     "data": {
      "text/plain": [
       "0.62890625"
      ]
     },
     "execution_count": 73,
     "metadata": {
      "tags": []
     },
     "output_type": "execute_result"
    }
   ],
   "source": [
    "f1(tree_5_types)"
   ]
  },
  {
   "cell_type": "code",
   "execution_count": 74,
   "metadata": {
    "colab": {
     "base_uri": "https://localhost:8080/",
     "height": 34
    },
    "colab_type": "code",
    "id": "6nzasq3mDSdB",
    "outputId": "985de925-8f42-425c-faa2-6c3095ee8c4a"
   },
   "outputs": [
    {
     "data": {
      "text/plain": [
       "0.4543667912951779"
      ]
     },
     "execution_count": 74,
     "metadata": {
      "tags": []
     },
     "output_type": "execute_result"
    }
   ],
   "source": [
    "informedness(tree_5_types)  # slightly better than depth 4"
   ]
  },
  {
   "cell_type": "markdown",
   "metadata": {
    "colab_type": "text",
    "id": "AA3Cp4CaDSdD"
   },
   "source": [
    "<div class=h1_cell>\n",
    "<p>\n",
    "We've gone down on all measures. But we have squeezed false positives down even further. If false positives were a big concern for us, then perhaps we would be willing to live with less accuracy.\n",
    "<p>\n",
    "I'll stop exploration here but certainly more that could be done.\n",
    "</div>"
   ]
  },
  {
   "cell_type": "markdown",
   "metadata": {
    "colab_type": "text",
    "id": "pZIOGz0YDSdD"
   },
   "source": [
    "<h2>\n",
    "Could this be automated?\n",
    "</h2>\n",
    "<p>\n",
    "<div class=h1_cell>\n",
    "<p>\n",
    "Setting hyper-parameters is a major problem in machine learning. Instead of trying out different values ourselves, could we build a function that will search for us? In essence, take a tree and table in as input, and try reasonable combinations of the hyper-parameters. The returned result would be the best choice of hyper-parameters.\n",
    "<p>\n",
    "Of course the answer is yes. I might assign it as a problem in the future :)\n",
    "</div>"
   ]
  },
  {
   "cell_type": "markdown",
   "metadata": {
    "colab_type": "text",
    "id": "sy1tiHZbDSdE"
   },
   "source": [
    "<h2>\n",
    "Another approach: Pruning\n",
    "</h2>\n",
    "<p>\n",
    "<div class=h1_cell>\n",
    "<p>\n",
    "You will sometimes hear about tree pruning. This is another approach to reduce the tree by getting rid of non-useful sub-trees. In general, we would attempt to build out a full tree to its maximum depth, i.e., not attempt to limit splitting with something like gig-cutoff. Then do a bottom-up pruning process by looking at sub-trees and determining if they give us useful results. It not, replace the root of the sub-tree with a leaf.\n",
    "<p>\n",
    "Can this be automated? Again the answer is yes. Is it an active area of research? Not really. The reason is that newer methods have evolved to keep trees slim. We will see them soon in upcoming modules.\n",
    "</div>"
   ]
  },
  {
   "cell_type": "markdown",
   "metadata": {
    "colab_type": "text",
    "id": "gAF0STunDSdE"
   },
   "source": [
    "<h2>\n",
    "Does our tree building algorithm have a name?\n",
    "</h2>\n",
    "<p>\n",
    "<div class=h1_cell>\n",
    "<p>\n",
    "Not that I know of. Maybe we should name it! On the other hand, it is pretty much equivalent to the CART algorithm: ftp://ftp.boulder.ibm.com/software/analytics/spss/support/Stats/Docs/Statistics/Algorithms/14.0/TREE-CART.pdf. It is greedy (does not do backtracking). It uses Gini. The only difference is that our algorithm is breadth-first and CART is depth-first. I claim they are equivalent in terms of function. They may differ in terms of performance but nothing that should bother us.\n",
    "</div>"
   ]
  },
  {
   "cell_type": "markdown",
   "metadata": {
    "colab_type": "text",
    "id": "Kble5XdEDSdG"
   },
   "source": [
    "<h2>\n",
    "What about empties?\n",
    "</h2>\n",
    "<p>\n",
    "<div class=h1_cell>\n",
    "<p>\n",
    "We have been finessing the problem with empty values by wrangling. We have made sure (by wrangling) that all of the columns we use have non-empty values in the Titanic data. Ditto for the Loan table. But what if a new loan applicant comes in in the future and is missing a value we need to know? For instance, what if they are missing a value for credit history? We have two choices: (1) wrangle any new rows that come in to make sure no critical empty values once tree is called to make a prediction, e.g., fill-in the value with the mean, or (2) allow empty values and handle them in the tree itself. The CART paper above suggests the latter. It suggests building \"back up\" splitters at each node (called surrogates officially) that can be called upon if the main splitter is handed an empty value. Of course, the value the surrogate needs can also by empty. This response lists other means of dealing with empties: https://stats.stackexchange.com/a/96458. One interesting approach listed is to go ahead and pass the row to both branches and obtain multiple predictions. Then take the majority vote. Perhaps flip a coin if a tie. I view this approach as close to a full-blown embrace of multiple predictions and voting we will see in a future module. Stay tuned.\n",
    "</div>"
   ]
  },
  {
   "cell_type": "markdown",
   "metadata": {
    "colab_type": "text",
    "collapsed": true,
    "id": "25icpWlbDSdH"
   },
   "source": [
    "<hr>\n",
    "<h1>Write it out</h1>\n",
    "<div class=h1_cell>\n",
    "\n",
    "We did not change the main table so no need to write it out.\n",
    "  <p>\n",
    "    We did change the results table so write that out.\n",
    "</div>"
   ]
  },
  {
   "cell_type": "code",
   "execution_count": 0,
   "metadata": {
    "colab": {},
    "colab_type": "code",
    "id": "LUxXFBfIDSdH"
   },
   "outputs": [],
   "source": [
    "with open('/content/gdrive/My Drive/class_tables/titanic_results_week4.csv', 'w') as f:\n",
    "  titanic_results.to_csv(f, encoding='utf-8', index=False)"
   ]
  },
  {
   "cell_type": "markdown",
   "metadata": {
    "colab_type": "text",
    "id": "I29PQbkTDpMY"
   },
   "source": [
    "<hr>\n",
    "<h1>Build a new library!</h1>\n",
    "<div class=h1_cell>\n",
    "\n",
    "We defined important new functions that go in `library_w19_week4.py`.\n",
    "</div>"
   ]
  },
  {
   "cell_type": "markdown",
   "metadata": {
    "colab_type": "text",
    "id": "wjPLG5JhDSdI"
   },
   "source": [
    "\n",
    "<h2>\n",
    "Next up\n",
    "</h2>\n",
    "<p>\n",
    "<div class=h1_cell>\n",
    "What we are doing is exploring the best value for depth. In the next module, I'd like to look at a more thorough way to do this exploration.\n",
    "</div>"
   ]
  },
  {
   "cell_type": "markdown",
   "metadata": {
    "colab_type": "text",
    "id": "s995NshJDSdJ"
   },
   "source": [
    "<h2>\n",
    "One last thing\n",
    "</h2>\n",
    "<p>\n",
    "<div class=h1_cell>\n",
    "We are saving our table out to file so we can read it again. What about saving our trees out to file so we can read them in again? The problem is that a tree contains functions (lambda expressions). Seems hard to write code out to file. But it looks like the dill package can help. You can see below I am writing out tree1 then reading it back in again. And then testing to make sure what I read in behaves the same as the original. It looks like it does!\n",
    "</div>"
   ]
  },
  {
   "cell_type": "code",
   "execution_count": 76,
   "metadata": {
    "colab": {
     "base_uri": "https://localhost:8080/",
     "height": 1781
    },
    "colab_type": "code",
    "id": "MZwAYmJBDSdK",
    "outputId": "090c9c66-1e58-4934-cfe4-e20d54efb7b3"
   },
   "outputs": [
    {
     "data": {
      "text/plain": [
       "{'paths': [{'conjunction': [('sex_female_0',\n",
       "     <function __main__.build_pred.<locals>.<lambda>>),\n",
       "    ('ok_child_1', <function __main__.build_pred.<locals>.<lambda>>),\n",
       "    ('pclass_3_0', <function __main__.build_pred.<locals>.<lambda>>)],\n",
       "   'gig_score': 0.19972989195678292,\n",
       "   'prediction': 1},\n",
       "  {'conjunction': [('sex_female_1',\n",
       "     <function __main__.build_pred.<locals>.<lambda>>),\n",
       "    ('pclass_3_1', <function __main__.build_pred.<locals>.<lambda>>),\n",
       "    ('emb_S_1', <function __main__.build_pred.<locals>.<lambda>>),\n",
       "    ('no_age_1', <function __main__.build_pred.<locals>.<lambda>>)],\n",
       "   'gig_score': 0.013706140350877138,\n",
       "   'prediction': 0},\n",
       "  {'conjunction': [('sex_female_1',\n",
       "     <function __main__.build_pred.<locals>.<lambda>>),\n",
       "    ('pclass_3_1', <function __main__.build_pred.<locals>.<lambda>>),\n",
       "    ('emb_S_1', <function __main__.build_pred.<locals>.<lambda>>),\n",
       "    ('no_age_0', <function __main__.build_pred.<locals>.<lambda>>)],\n",
       "   'gig_score': 0.013706140350877138,\n",
       "   'prediction': 0},\n",
       "  {'conjunction': [('sex_female_1',\n",
       "     <function __main__.build_pred.<locals>.<lambda>>),\n",
       "    ('pclass_3_1', <function __main__.build_pred.<locals>.<lambda>>),\n",
       "    ('emb_S_0', <function __main__.build_pred.<locals>.<lambda>>),\n",
       "    ('ok_child_1', <function __main__.build_pred.<locals>.<lambda>>)],\n",
       "   'gig_score': 0.018069727891156517,\n",
       "   'prediction': 1},\n",
       "  {'conjunction': [('sex_female_1',\n",
       "     <function __main__.build_pred.<locals>.<lambda>>),\n",
       "    ('pclass_3_1', <function __main__.build_pred.<locals>.<lambda>>),\n",
       "    ('emb_S_0', <function __main__.build_pred.<locals>.<lambda>>),\n",
       "    ('ok_child_0', <function __main__.build_pred.<locals>.<lambda>>)],\n",
       "   'gig_score': 0.018069727891156517,\n",
       "   'prediction': 1},\n",
       "  {'conjunction': [('sex_female_1',\n",
       "     <function __main__.build_pred.<locals>.<lambda>>),\n",
       "    ('pclass_3_0', <function __main__.build_pred.<locals>.<lambda>>),\n",
       "    ('emb_S_1', <function __main__.build_pred.<locals>.<lambda>>),\n",
       "    ('age_Adult_1', <function __main__.build_pred.<locals>.<lambda>>)],\n",
       "   'gig_score': 0.0017154774332495681,\n",
       "   'prediction': 1},\n",
       "  {'conjunction': [('sex_female_1',\n",
       "     <function __main__.build_pred.<locals>.<lambda>>),\n",
       "    ('pclass_3_0', <function __main__.build_pred.<locals>.<lambda>>),\n",
       "    ('emb_S_1', <function __main__.build_pred.<locals>.<lambda>>),\n",
       "    ('age_Adult_0', <function __main__.build_pred.<locals>.<lambda>>)],\n",
       "   'gig_score': 0.0017154774332495681,\n",
       "   'prediction': 1},\n",
       "  {'conjunction': [('sex_female_1',\n",
       "     <function __main__.build_pred.<locals>.<lambda>>),\n",
       "    ('pclass_3_0', <function __main__.build_pred.<locals>.<lambda>>),\n",
       "    ('emb_S_0', <function __main__.build_pred.<locals>.<lambda>>),\n",
       "    ('age_Adult_1', <function __main__.build_pred.<locals>.<lambda>>)],\n",
       "   'gig_score': 0.00047520661157023775,\n",
       "   'prediction': 1},\n",
       "  {'conjunction': [('sex_female_1',\n",
       "     <function __main__.build_pred.<locals>.<lambda>>),\n",
       "    ('pclass_3_0', <function __main__.build_pred.<locals>.<lambda>>),\n",
       "    ('emb_S_0', <function __main__.build_pred.<locals>.<lambda>>),\n",
       "    ('age_Adult_0', <function __main__.build_pred.<locals>.<lambda>>)],\n",
       "   'gig_score': 0.00047520661157023775,\n",
       "   'prediction': 1},\n",
       "  {'conjunction': [('sex_female_0',\n",
       "     <function __main__.build_pred.<locals>.<lambda>>),\n",
       "    ('ok_child_1', <function __main__.build_pred.<locals>.<lambda>>),\n",
       "    ('pclass_3_1', <function __main__.build_pred.<locals>.<lambda>>),\n",
       "    ('emb_Q_1', <function __main__.build_pred.<locals>.<lambda>>)],\n",
       "   'gig_score': 0.076656907106734,\n",
       "   'prediction': 0},\n",
       "  {'conjunction': [('sex_female_0',\n",
       "     <function __main__.build_pred.<locals>.<lambda>>),\n",
       "    ('ok_child_1', <function __main__.build_pred.<locals>.<lambda>>),\n",
       "    ('pclass_3_1', <function __main__.build_pred.<locals>.<lambda>>),\n",
       "    ('emb_Q_0', <function __main__.build_pred.<locals>.<lambda>>)],\n",
       "   'gig_score': 0.076656907106734,\n",
       "   'prediction': 0},\n",
       "  {'conjunction': [('sex_female_0',\n",
       "     <function __main__.build_pred.<locals>.<lambda>>),\n",
       "    ('ok_child_0', <function __main__.build_pred.<locals>.<lambda>>),\n",
       "    ('pclass_1_1', <function __main__.build_pred.<locals>.<lambda>>),\n",
       "    ('age_Senior_1', <function __main__.build_pred.<locals>.<lambda>>)],\n",
       "   'gig_score': 0.022121469800041205,\n",
       "   'prediction': 0},\n",
       "  {'conjunction': [('sex_female_0',\n",
       "     <function __main__.build_pred.<locals>.<lambda>>),\n",
       "    ('ok_child_0', <function __main__.build_pred.<locals>.<lambda>>),\n",
       "    ('pclass_1_1', <function __main__.build_pred.<locals>.<lambda>>),\n",
       "    ('age_Senior_0', <function __main__.build_pred.<locals>.<lambda>>)],\n",
       "   'gig_score': 0.022121469800041205,\n",
       "   'prediction': 0},\n",
       "  {'conjunction': [('sex_female_0',\n",
       "     <function __main__.build_pred.<locals>.<lambda>>),\n",
       "    ('ok_child_0', <function __main__.build_pred.<locals>.<lambda>>),\n",
       "    ('pclass_1_0', <function __main__.build_pred.<locals>.<lambda>>),\n",
       "    ('emb_C_1', <function __main__.build_pred.<locals>.<lambda>>)],\n",
       "   'gig_score': 0.0018081922647944781,\n",
       "   'prediction': 0},\n",
       "  {'conjunction': [('sex_female_0',\n",
       "     <function __main__.build_pred.<locals>.<lambda>>),\n",
       "    ('ok_child_0', <function __main__.build_pred.<locals>.<lambda>>),\n",
       "    ('pclass_1_0', <function __main__.build_pred.<locals>.<lambda>>),\n",
       "    ('emb_C_0', <function __main__.build_pred.<locals>.<lambda>>)],\n",
       "   'gig_score': 0.0018081922647944781,\n",
       "   'prediction': 0}],\n",
       " 'weight': None}"
      ]
     },
     "execution_count": 76,
     "metadata": {
      "tags": []
     },
     "output_type": "execute_result"
    }
   ],
   "source": [
    "tree1  # just to see what it looks like"
   ]
  },
  {
   "cell_type": "code",
   "execution_count": 0,
   "metadata": {
    "colab": {},
    "colab_type": "code",
    "id": "MmX85d0ADSdL"
   },
   "outputs": [],
   "source": [
    "#cool new code that writes tree1, lambdas and all, out to txt file.\n",
    "\n",
    "import dill as pickle\n",
    "\n",
    "pickle.dump(tree1, open(\"tree1.txt\", 'wb'))\n",
    "\n",
    "tree1_b = pickle.load(open(\"tree1.txt\", 'rb'))  # read it back in"
   ]
  },
  {
   "cell_type": "code",
   "execution_count": 78,
   "metadata": {
    "colab": {
     "base_uri": "https://localhost:8080/",
     "height": 1529
    },
    "colab_type": "code",
    "id": "Xx0kfO_qDSdO",
    "outputId": "6a96e246-b018-408f-f27f-d2f09accb979"
   },
   "outputs": [
    {
     "data": {
      "text/plain": [
       "{'paths': [{'conjunction': [('sex_female_0', <function __main__.<lambda>>),\n",
       "    ('ok_child_1', <function __main__.<lambda>>),\n",
       "    ('pclass_3_0', <function __main__.<lambda>>)],\n",
       "   'gig_score': 0.19972989195678292,\n",
       "   'prediction': 1},\n",
       "  {'conjunction': [('sex_female_1', <function __main__.<lambda>>),\n",
       "    ('pclass_3_1', <function __main__.<lambda>>),\n",
       "    ('emb_S_1', <function __main__.<lambda>>),\n",
       "    ('no_age_1', <function __main__.<lambda>>)],\n",
       "   'gig_score': 0.013706140350877138,\n",
       "   'prediction': 0},\n",
       "  {'conjunction': [('sex_female_1', <function __main__.<lambda>>),\n",
       "    ('pclass_3_1', <function __main__.<lambda>>),\n",
       "    ('emb_S_1', <function __main__.<lambda>>),\n",
       "    ('no_age_0', <function __main__.<lambda>>)],\n",
       "   'gig_score': 0.013706140350877138,\n",
       "   'prediction': 0},\n",
       "  {'conjunction': [('sex_female_1', <function __main__.<lambda>>),\n",
       "    ('pclass_3_1', <function __main__.<lambda>>),\n",
       "    ('emb_S_0', <function __main__.<lambda>>),\n",
       "    ('ok_child_1', <function __main__.<lambda>>)],\n",
       "   'gig_score': 0.018069727891156517,\n",
       "   'prediction': 1},\n",
       "  {'conjunction': [('sex_female_1', <function __main__.<lambda>>),\n",
       "    ('pclass_3_1', <function __main__.<lambda>>),\n",
       "    ('emb_S_0', <function __main__.<lambda>>),\n",
       "    ('ok_child_0', <function __main__.<lambda>>)],\n",
       "   'gig_score': 0.018069727891156517,\n",
       "   'prediction': 1},\n",
       "  {'conjunction': [('sex_female_1', <function __main__.<lambda>>),\n",
       "    ('pclass_3_0', <function __main__.<lambda>>),\n",
       "    ('emb_S_1', <function __main__.<lambda>>),\n",
       "    ('age_Adult_1', <function __main__.<lambda>>)],\n",
       "   'gig_score': 0.0017154774332495681,\n",
       "   'prediction': 1},\n",
       "  {'conjunction': [('sex_female_1', <function __main__.<lambda>>),\n",
       "    ('pclass_3_0', <function __main__.<lambda>>),\n",
       "    ('emb_S_1', <function __main__.<lambda>>),\n",
       "    ('age_Adult_0', <function __main__.<lambda>>)],\n",
       "   'gig_score': 0.0017154774332495681,\n",
       "   'prediction': 1},\n",
       "  {'conjunction': [('sex_female_1', <function __main__.<lambda>>),\n",
       "    ('pclass_3_0', <function __main__.<lambda>>),\n",
       "    ('emb_S_0', <function __main__.<lambda>>),\n",
       "    ('age_Adult_1', <function __main__.<lambda>>)],\n",
       "   'gig_score': 0.00047520661157023775,\n",
       "   'prediction': 1},\n",
       "  {'conjunction': [('sex_female_1', <function __main__.<lambda>>),\n",
       "    ('pclass_3_0', <function __main__.<lambda>>),\n",
       "    ('emb_S_0', <function __main__.<lambda>>),\n",
       "    ('age_Adult_0', <function __main__.<lambda>>)],\n",
       "   'gig_score': 0.00047520661157023775,\n",
       "   'prediction': 1},\n",
       "  {'conjunction': [('sex_female_0', <function __main__.<lambda>>),\n",
       "    ('ok_child_1', <function __main__.<lambda>>),\n",
       "    ('pclass_3_1', <function __main__.<lambda>>),\n",
       "    ('emb_Q_1', <function __main__.<lambda>>)],\n",
       "   'gig_score': 0.076656907106734,\n",
       "   'prediction': 0},\n",
       "  {'conjunction': [('sex_female_0', <function __main__.<lambda>>),\n",
       "    ('ok_child_1', <function __main__.<lambda>>),\n",
       "    ('pclass_3_1', <function __main__.<lambda>>),\n",
       "    ('emb_Q_0', <function __main__.<lambda>>)],\n",
       "   'gig_score': 0.076656907106734,\n",
       "   'prediction': 0},\n",
       "  {'conjunction': [('sex_female_0', <function __main__.<lambda>>),\n",
       "    ('ok_child_0', <function __main__.<lambda>>),\n",
       "    ('pclass_1_1', <function __main__.<lambda>>),\n",
       "    ('age_Senior_1', <function __main__.<lambda>>)],\n",
       "   'gig_score': 0.022121469800041205,\n",
       "   'prediction': 0},\n",
       "  {'conjunction': [('sex_female_0', <function __main__.<lambda>>),\n",
       "    ('ok_child_0', <function __main__.<lambda>>),\n",
       "    ('pclass_1_1', <function __main__.<lambda>>),\n",
       "    ('age_Senior_0', <function __main__.<lambda>>)],\n",
       "   'gig_score': 0.022121469800041205,\n",
       "   'prediction': 0},\n",
       "  {'conjunction': [('sex_female_0', <function __main__.<lambda>>),\n",
       "    ('ok_child_0', <function __main__.<lambda>>),\n",
       "    ('pclass_1_0', <function __main__.<lambda>>),\n",
       "    ('emb_C_1', <function __main__.<lambda>>)],\n",
       "   'gig_score': 0.0018081922647944781,\n",
       "   'prediction': 0},\n",
       "  {'conjunction': [('sex_female_0', <function __main__.<lambda>>),\n",
       "    ('ok_child_0', <function __main__.<lambda>>),\n",
       "    ('pclass_1_0', <function __main__.<lambda>>),\n",
       "    ('emb_C_0', <function __main__.<lambda>>)],\n",
       "   'gig_score': 0.0018081922647944781,\n",
       "   'prediction': 0}],\n",
       " 'weight': None}"
      ]
     },
     "execution_count": 78,
     "metadata": {
      "tags": []
     },
     "output_type": "execute_result"
    }
   ],
   "source": [
    "#looks about the same.\n",
    "tree1_b"
   ]
  },
  {
   "cell_type": "code",
   "execution_count": 79,
   "metadata": {
    "colab": {
     "base_uri": "https://localhost:8080/",
     "height": 101
    },
    "colab_type": "code",
    "id": "KfKv_JwdDSdQ",
    "outputId": "194be47a-501b-472a-a972-c809b9afc59b"
   },
   "outputs": [
    {
     "data": {
      "text/plain": [
       "true_negative     523\n",
       "true_positive     211\n",
       "false_negative    131\n",
       "false_positive     26\n",
       "Name: tree_1b_type, dtype: int64"
      ]
     },
     "execution_count": 79,
     "metadata": {
      "tags": []
     },
     "output_type": "execute_result"
    }
   ],
   "source": [
    "#make sure tree we read in behaves same as original tree1\n",
    "\n",
    "titanic_results['tree_1b'] = titanic_table.apply(lambda row: tree_predictor(row, tree1_b), axis=1)\n",
    "\n",
    "titanic_results['tree_1b_type'] = titanic_results.apply(lambda row: predictor_case(row, pred='tree_1b', target='Survived'), axis=1)\n",
    "\n",
    "tree_1b_types = titanic_results['tree_1b_type'].value_counts()\n",
    "tree_1b_types"
   ]
  },
  {
   "cell_type": "markdown",
   "metadata": {
    "colab_type": "text",
    "id": "m2DoJTGUFhhL"
   },
   "source": [
    "Here is what I copied from tree1:\n",
    "<pre>\n",
    "true_negative     523\n",
    "true_positive     211\n",
    "false_negative    131\n",
    "false_positive     26\n",
    "Name: tree_1_type, dtype: int64\n",
    "</pre>\n",
    "<p>\n",
    "  Looks the same to me!\n",
    "  <p>\n",
    "    I won't ask you to do this pickling but it is useful to know you can do it if you want."
   ]
  }
 ],
 "metadata": {
  "colab": {
   "collapsed_sections": [],
   "name": "tree_building_intro_w19_v2.ipynb",
   "provenance": [],
   "version": "0.3.2"
  },
  "kernelspec": {
   "display_name": "Python 3",
   "language": "python",
   "name": "python3"
  },
  "language_info": {
   "codemirror_mode": {
    "name": "ipython",
    "version": 3
   },
   "file_extension": ".py",
   "mimetype": "text/x-python",
   "name": "python",
   "nbconvert_exporter": "python",
   "pygments_lexer": "ipython3",
   "version": "3.7.1"
  }
 },
 "nbformat": 4,
 "nbformat_minor": 1
}
