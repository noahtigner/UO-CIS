{
 "cells": [
  {
   "cell_type": "markdown",
   "metadata": {
    "colab_type": "text",
    "id": "0-tWg0DJ2Tus"
   },
   "source": [
    "<h1>\n",
    "<center>\n",
    "Module 4: Tree Building assignment\n",
    "</center>\n",
    "</h1>\n",
    "<div class=h1_cell>\n",
    "\n",
    "You will be working with the loan table again.\n",
    "\n",
    "</div>"
   ]
  },
  {
   "cell_type": "code",
   "execution_count": 0,
   "metadata": {
    "colab": {
     "base_uri": "https://localhost:8080/",
     "height": 121
    },
    "colab_type": "code",
    "id": "Qae_5pV22Tuu",
    "outputId": "0b8e6dd0-4ede-4b92-e759-ffc9670499d4"
   },
   "outputs": [
    {
     "name": "stdout",
     "output_type": "stream",
     "text": [
      "Go to this URL in a browser: https://accounts.google.com/o/oauth2/auth?client_id=947318989803-6bn6qk8qdgf4n4g3pfee6491hc0brc4i.apps.googleusercontent.com&redirect_uri=urn%3Aietf%3Awg%3Aoauth%3A2.0%3Aoob&scope=email%20https%3A%2F%2Fwww.googleapis.com%2Fauth%2Fdocs.test%20https%3A%2F%2Fwww.googleapis.com%2Fauth%2Fdrive%20https%3A%2F%2Fwww.googleapis.com%2Fauth%2Fdrive.photos.readonly%20https%3A%2F%2Fwww.googleapis.com%2Fauth%2Fpeopleapi.readonly&response_type=code\n",
      "\n",
      "Enter your authorization code:\n",
      "··········\n",
      "Mounted at /content/gdrive\n"
     ]
    }
   ],
   "source": [
    "import pandas as pd\n",
    "\n",
    "from google.colab import drive\n",
    "drive.mount('/content/gdrive')\n"
   ]
  },
  {
   "cell_type": "code",
   "execution_count": 0,
   "metadata": {
    "colab": {},
    "colab_type": "code",
    "id": "_X50VIiifSTm"
   },
   "outputs": [],
   "source": [
    "with open('/content/gdrive/My Drive/class_tables/loan_wrangled_week3.csv', 'r') as f:\n",
    "  loan_table = pd.read_csv(f)"
   ]
  },
  {
   "cell_type": "code",
   "execution_count": 0,
   "metadata": {
    "colab": {},
    "colab_type": "code",
    "id": "m3Kedy38fkPI"
   },
   "outputs": [],
   "source": [
    "with open('/content/gdrive/My Drive/class_tables/loan_results_week2.csv', 'r') as f:\n",
    "  loan_results = pd.read_csv(f)"
   ]
  },
  {
   "cell_type": "code",
   "execution_count": 0,
   "metadata": {
    "colab": {
     "base_uri": "https://localhost:8080/",
     "height": 34
    },
    "colab_type": "code",
    "id": "6XSj7d7Kf8G2",
    "outputId": "2d806038-e9f9-48a8-f3bc-2cd2a29b0f6f"
   },
   "outputs": [
    {
     "name": "stdout",
     "output_type": "stream",
     "text": [
      "rm: cannot remove 'library_w19_week4.py': No such file or directory\n"
     ]
    }
   ],
   "source": [
    "!rm library_w19_week4.py"
   ]
  },
  {
   "cell_type": "code",
   "execution_count": 0,
   "metadata": {
    "colab": {
     "base_uri": "https://localhost:8080/",
     "height": 106,
     "resources": {
      "http://localhost:8080/nbextensions/google.colab/files.js": {
       "data": "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",
       "headers": [
        [
         "content-type",
         "application/javascript"
        ]
       ],
       "ok": true,
       "status": 200,
       "status_text": ""
      }
     }
    },
    "colab_type": "code",
    "id": "1miQZtPRfksk",
    "outputId": "002f172e-6e41-4a4d-d75c-bd91388ea7d9"
   },
   "outputs": [
    {
     "data": {
      "text/html": [
       "\n",
       "     <input type=\"file\" id=\"files-2b19eaac-edc6-4cc4-a28e-c0c9c15d7e5c\" name=\"files[]\" multiple disabled />\n",
       "     <output id=\"result-2b19eaac-edc6-4cc4-a28e-c0c9c15d7e5c\">\n",
       "      Upload widget is only available when the cell has been executed in the\n",
       "      current browser session. Please rerun this cell to enable.\n",
       "      </output>\n",
       "      <script src=\"/nbextensions/google.colab/files.js\"></script> "
      ],
      "text/plain": [
       "<IPython.core.display.HTML object>"
      ]
     },
     "metadata": {
      "tags": []
     },
     "output_type": "display_data"
    },
    {
     "name": "stdout",
     "output_type": "stream",
     "text": [
      "Saving library_w19_week4.py to library_w19_week4.py\n"
     ]
    },
    {
     "data": {
      "text/plain": [
       "{'library_w19_week4.py': b'def predictor_case(row, pred, target):\\n\\tcase_dict = {(0,0): \\'true_negative\\', (1,1): \\'true_positive\\', (0,1): \\'false_negative\\', (1,0): \\'false_positive\\'}\\n\\tactual = row[target]\\n\\tprediction = row[pred]\\n\\tcase = case_dict[(prediction, actual)]\\n\\treturn case\\n\\ndef accuracy(cases):\\n    tp = cases[\\'true_positive\\']\\n    tn = cases[\\'true_negative\\']\\n    fp = cases[\\'false_positive\\']\\n    fn = cases[\\'false_negative\\']\\n    return (tp + tn)/(tp+tn+fp+fn)\\n\\ndef f1(cases):\\n    #the heart of the matrix\\n    tp = cases[\\'true_positive\\']\\n    fn = cases[\\'false_negative\\']\\n    tn = cases[\\'true_negative\\']\\n    fp = cases[\\'false_positive\\']\\n    \\n    #other measures we can derive\\n    recall = 1.0*tp/(tp+fn)  # positive correct divided by total positive in the table\\n    precision = 1.0*tp/(tp+fp) # positive correct divided by all positive predictions made\\n    \\n    #now for the one we want\\n    f1 = 2/(1/recall + 1/precision)\\n    \\n    return f1\\n\\ndef informedness(cases):\\n    tp = cases[\\'true_positive\\']\\n    fn = cases[\\'false_negative\\']\\n    tn = cases[\\'true_negative\\']\\n    fp = cases[\\'false_positive\\']\\n    recall = 1.0*tp/(tp+fn)  # positive correct divided by total positive in the table\\n    specificty = 1.0*tn/(tn+fp) # negative correct divided by total negative in the table\\n    J = (recall + specificty) - 1\\n    return J\\n\\n#starting week 3\\n\\ndef probabilities(counts):\\n    count_0 = 0 if 0 not in counts else counts[0]  #could have no 0 values\\n    count_1 = 0 if 1 not in counts else counts[1]\\n    total = count_0 + count_1\\n    probs = (0,0) if total == 0 else (count_0/total, count_1/total)  #build 2-tuple\\n    return probs\\n\\ndef gini(counts):\\n    (p0,p1) = probabilities(counts)\\n    sum_probs = p0**2 + p1**2\\n    gini = 1 - sum_probs\\n    return gini\\n\\ndef gig(starting_table, split_column, target_column):\\n    \\n    #split into two branches, i.e., two sub-tables\\n    true_table = starting_table.loc[starting_table[split_column] == 1]\\n    false_table = starting_table.loc[starting_table[split_column] == 0]\\n    \\n    #Now see how the target column is divided up in each sub-table (and the starting table)\\n    true_counts = true_table[target_column].value_counts()  # Note using true_table and not starting_table\\n    false_counts = false_table[target_column].value_counts()  # Note using false_table and not starting_table\\n    starting_counts = starting_table[target_column].value_counts() \\n    \\n    #compute the gini impurity for the 3 tables\\n    starting_gini = gini(starting_counts)\\n    true_gini = gini(true_counts)\\n    false_gini = gini(false_counts)\\n\\n    #compute the weights\\n    starting_size = len(starting_table.index)\\n    true_weight = 0.0 if starting_size == 0 else len(true_table.index)/starting_size\\n    false_weight = 0.0 if starting_size == 0 else len(false_table.index)/starting_size\\n    \\n    #wrap it up and put on a bow\\n    gig = starting_gini - (true_weight * true_gini + false_weight * false_gini)\\n    \\n    return gig\\n\\n\\'\\'\\'\\ndef entropy(counts):\\n    (p0, p1) = probabilities(counts)\\n    term1 = -p0*math.log(p0,2) if p0 > 0 else 0\\n    term2 = -p1*math.log(p1,2) if p1 > 0 else 0\\n    entropy = term1 + term2\\n    return entropy\\n\\ndef IGain(starting_table, split_column, target_column):\\n    \\n    #split into two branches, i.e., two sub-tables\\n    true_table = starting_table.loc[starting_table[split_column] == 1]\\n    false_table = starting_table.loc[starting_table[split_column] == 0]\\n    \\n    #Now see how the target column is divided up in each sub-table (and the starting table)\\n    true_counts = true_table[target_column].value_counts()\\n    false_counts = false_table[target_column].value_counts()  # Note using true_table and not titanic_table\\n    starting_counts = starting_table[target_column].value_counts() \\n    \\n    #compute the entropy for the 3 tables\\n    starting_e = entropy(starting_counts)\\n    true_e = entropy(true_counts)\\n    false_e = entropy(false_counts)\\n\\n    #compute the weights\\n    starting_size = len(starting_table.index)\\n    true_weight = 0.0 if starting_size == 0 else 1.0*len(true_table.index)/starting_size\\n    false_weight = 0.0 if starting_size == 0 else 1.0*len(false_table.index)/starting_size\\n    \\n    #wrap it up and put on a bow\\n    infogain = starting_e - (true_weight * true_e + false_weight * false_e)\\n    \\n    return infogain\\n\\'\\'\\'\\n\\n#week 4\\n\\ndef build_pred(column, branch):\\n    return lambda row: row[column] == branch\\n\\ndef find_best_splitter(table, choice_list, target):\\n  \\n    assert (len(table)>0),\"Cannot split empty table\"\\n    assert (target in table),\"Target must be column in table\"\\n    \\n    gig_scores = map(lambda col: (col, gig(table, col, target)), choice_list)  #compute tuple (col, gig) for each column\\n    gig_sorted = sorted(gig_scores, key=lambda item: item[1], reverse=True)  # sort on gig\\n    return gig_sorted\\n\\nfrom functools import reduce\\n\\ndef generate_table(table, conjunction):\\n  \\n    assert (len(table)>0),\"Cannot generate from empty table\"\\n\\n    sub_table = reduce(lambda subtable, pair: subtable.loc[pair[1]], conjunction, table)\\n    return sub_table\\n\\ndef compute_prediction(table, target):\\n  \\n    assert (len(table)>0),\"Cannot predict from empty table\"\\n    assert (target in table),\"Target must be column in table\"\\n    \\n    counts = table[target].value_counts()  # counts looks like {0: v1, 1: v2}\\n\\n    if 0 not in counts:\\n        prediction = 1\\n    elif 1 not in counts:\\n        prediction = 0\\n    elif counts[1] > counts[0]:  # ties go to 0 (negative)\\n        prediction = 1\\n    else:\\n        prediction = 0\\n\\n    return prediction\\n\\ndef build_tree_iter(table, choices, target, hypers={} ):\\n\\n    assert (len(choices)>0),\"Must have at least one column in choices\"\\n    assert (target in table), \"Target column not in table\"\\n    assert (len(table) > 1), \"Table must have more than 1 row\"\\n    \\n    k = hypers[\\'max-depth\\'] if \\'max-depth\\' in hypers else min(4, len(choices))\\n    gig_cutoff = hypers[\\'gig-cutoff\\'] if \\'gig-cutoff\\' in hypers else 0.0\\n    \\n    def iterative_build(k):\\n        columns_sorted = find_best_splitter(table, choices, target)\\n        (best_column, gig_value) = columns_sorted[0]\\n        \\n        #Note I add _1 or _0 to make it more readable for debugging\\n        current_paths = [{\\'conjunction\\': [(best_column+\\'_1\\', build_pred(best_column, 1))],\\n                          \\'prediction\\': None,\\n                          \\'gig_score\\': gig_value},\\n                         {\\'conjunction\\': [(best_column+\\'_0\\', build_pred(best_column, 0))],\\n                          \\'prediction\\': None,\\n                          \\'gig_score\\': gig_value}\\n                        ]\\n        k -= 1  # we just built a level as seed so subtract 1 from k\\n        tree_paths = []  # add completed paths here\\n        \\n        while k>0:\\n            new_paths = []\\n            for path in current_paths:\\n                old_conjunction = path[\\'conjunction\\']  # a list of (name, lambda)\\n                before_table = generate_table(table, old_conjunction)  #the subtable the current conjunct leads to\\n                columns_sorted = find_best_splitter(before_table, choices, target)\\n                (best_column, gig_value) = columns_sorted[0]\\n                if gig_value > gig_cutoff:\\n                    new_path_1 = {\\'conjunction\\': old_conjunction + [(best_column+\\'_1\\', build_pred(best_column, 1))],\\n                                \\'prediction\\': None,\\n                                 \\'gig_score\\': gig_value}\\n                    new_paths.append( new_path_1 ) #true\\n                    new_path_0 = {\\'conjunction\\': old_conjunction + [(best_column+\\'_0\\', build_pred(best_column, 0))],\\n                                \\'prediction\\': None,\\n                                 \\'gig_score\\': gig_value}\\n                    new_paths.append( new_path_0 ) #false\\n                else:\\n                    #not worth splitting so complete the path with a prediction\\n                    path[\\'prediction\\'] = compute_prediction(before_table, target)\\n                    tree_paths.append(path)\\n            #end for loop\\n            \\n            current_paths = new_paths\\n            if current_paths != []:\\n                k -= 1\\n            else:\\n                break  # nothing left to extend so have copied all paths to tree_paths\\n        #end while loop\\n\\n        #Generate predictions for all paths that have None\\n        for path in current_paths:\\n            conjunction = path[\\'conjunction\\']\\n            before_table = generate_table(table, conjunction)\\n            path[\\'prediction\\'] = compute_prediction(before_table, target)\\n            tree_paths.append(path)\\n        return tree_paths\\n\\n    return {\\'paths\\': iterative_build(k), \\'weight\\': None}\\n\\ndef tree_predictor(row, tree):\\n  \\n    assert (len(tree[\\'paths\\']) > 0), \"Tree must have at least one path\"\\n    \\n    #go through each path, one by one (could use a map instead of for loop?)\\n    for path in tree[\\'paths\\']:\\n        conjuncts = path[\\'conjunction\\']\\n        result = map(lambda tuple: tuple[1](row), conjuncts)  # potential to be parallelized\\n        if all(result):\\n            return path[\\'prediction\\']\\n    raise LookupError(\\'No true paths found for row: \\' + str(row))\\n\\n'}"
      ]
     },
     "execution_count": 5,
     "metadata": {
      "tags": []
     },
     "output_type": "execute_result"
    }
   ],
   "source": [
    "from google.colab import files\n",
    "files.upload()"
   ]
  },
  {
   "cell_type": "code",
   "execution_count": 0,
   "metadata": {
    "colab": {
     "base_uri": "https://localhost:8080/",
     "height": 50
    },
    "colab_type": "code",
    "id": "_5bTdr8qf63i",
    "outputId": "6299eff4-f2ff-492c-ddfd-828a20657cc3"
   },
   "outputs": [
    {
     "name": "stdout",
     "output_type": "stream",
     "text": [
      "accuracy\t build_pred\t build_tree_iter\t compute_prediction\t f1\t find_best_splitter\t generate_table\t gig\t gini\t \n",
      "informedness\t predictor_case\t probabilities\t tree_predictor\t \n"
     ]
    }
   ],
   "source": [
    "from library_w19_week4 import *\n",
    "%who function"
   ]
  },
  {
   "cell_type": "code",
   "execution_count": 0,
   "metadata": {
    "colab": {
     "base_uri": "https://localhost:8080/",
     "height": 232
    },
    "colab_type": "code",
    "id": "ztfR-1BO2Tu8",
    "outputId": "bb5500cc-5836-4940-c602-38aa2ba848a7",
    "scrolled": true
   },
   "outputs": [
    {
     "data": {
      "text/html": [
       "<div>\n",
       "<style scoped>\n",
       "    .dataframe tbody tr th:only-of-type {\n",
       "        vertical-align: middle;\n",
       "    }\n",
       "\n",
       "    .dataframe tbody tr th {\n",
       "        vertical-align: top;\n",
       "    }\n",
       "\n",
       "    .dataframe thead th {\n",
       "        text-align: right;\n",
       "    }\n",
       "</style>\n",
       "<table border=\"1\" class=\"dataframe\">\n",
       "  <thead>\n",
       "    <tr style=\"text-align: right;\">\n",
       "      <th></th>\n",
       "      <th>Gender</th>\n",
       "      <th>Married</th>\n",
       "      <th>Dependents</th>\n",
       "      <th>Education</th>\n",
       "      <th>Self_Employed</th>\n",
       "      <th>ApplicantIncome</th>\n",
       "      <th>CoapplicantIncome</th>\n",
       "      <th>LoanAmount</th>\n",
       "      <th>Loan_Amount_Term</th>\n",
       "      <th>Credit_History</th>\n",
       "      <th>Property_Area</th>\n",
       "      <th>Loan_Status</th>\n",
       "      <th>no_lam</th>\n",
       "      <th>filled_lam</th>\n",
       "      <th>pa_Rural</th>\n",
       "      <th>pa_Semiurban</th>\n",
       "      <th>pa_Urban</th>\n",
       "      <th>pa_nan</th>\n",
       "      <th>lam_bin</th>\n",
       "      <th>lam_Low</th>\n",
       "      <th>lam_Average</th>\n",
       "      <th>lam_High</th>\n",
       "      <th>ch_bad</th>\n",
       "      <th>ch_good</th>\n",
       "      <th>ch_nan</th>\n",
       "      <th>apin_binned</th>\n",
       "      <th>apin_low</th>\n",
       "      <th>apin_average</th>\n",
       "      <th>apin_high</th>\n",
       "      <th>apin_nan</th>\n",
       "    </tr>\n",
       "  </thead>\n",
       "  <tbody>\n",
       "    <tr>\n",
       "      <th>0</th>\n",
       "      <td>Male</td>\n",
       "      <td>No</td>\n",
       "      <td>0</td>\n",
       "      <td>Graduate</td>\n",
       "      <td>No</td>\n",
       "      <td>5849</td>\n",
       "      <td>0.0</td>\n",
       "      <td>NaN</td>\n",
       "      <td>360.0</td>\n",
       "      <td>1.0</td>\n",
       "      <td>Urban</td>\n",
       "      <td>1</td>\n",
       "      <td>1</td>\n",
       "      <td>146.412162</td>\n",
       "      <td>0</td>\n",
       "      <td>0</td>\n",
       "      <td>1</td>\n",
       "      <td>0</td>\n",
       "      <td>Low</td>\n",
       "      <td>1</td>\n",
       "      <td>0</td>\n",
       "      <td>0</td>\n",
       "      <td>0</td>\n",
       "      <td>1</td>\n",
       "      <td>0</td>\n",
       "      <td>low</td>\n",
       "      <td>1</td>\n",
       "      <td>0</td>\n",
       "      <td>0</td>\n",
       "      <td>0</td>\n",
       "    </tr>\n",
       "    <tr>\n",
       "      <th>1</th>\n",
       "      <td>Male</td>\n",
       "      <td>Yes</td>\n",
       "      <td>1</td>\n",
       "      <td>Graduate</td>\n",
       "      <td>No</td>\n",
       "      <td>4583</td>\n",
       "      <td>1508.0</td>\n",
       "      <td>128.0</td>\n",
       "      <td>360.0</td>\n",
       "      <td>1.0</td>\n",
       "      <td>Rural</td>\n",
       "      <td>0</td>\n",
       "      <td>0</td>\n",
       "      <td>128.000000</td>\n",
       "      <td>1</td>\n",
       "      <td>0</td>\n",
       "      <td>0</td>\n",
       "      <td>0</td>\n",
       "      <td>Low</td>\n",
       "      <td>1</td>\n",
       "      <td>0</td>\n",
       "      <td>0</td>\n",
       "      <td>0</td>\n",
       "      <td>1</td>\n",
       "      <td>0</td>\n",
       "      <td>low</td>\n",
       "      <td>1</td>\n",
       "      <td>0</td>\n",
       "      <td>0</td>\n",
       "      <td>0</td>\n",
       "    </tr>\n",
       "    <tr>\n",
       "      <th>2</th>\n",
       "      <td>Male</td>\n",
       "      <td>Yes</td>\n",
       "      <td>0</td>\n",
       "      <td>Graduate</td>\n",
       "      <td>Yes</td>\n",
       "      <td>3000</td>\n",
       "      <td>0.0</td>\n",
       "      <td>66.0</td>\n",
       "      <td>360.0</td>\n",
       "      <td>1.0</td>\n",
       "      <td>Urban</td>\n",
       "      <td>1</td>\n",
       "      <td>0</td>\n",
       "      <td>66.000000</td>\n",
       "      <td>0</td>\n",
       "      <td>0</td>\n",
       "      <td>1</td>\n",
       "      <td>0</td>\n",
       "      <td>Low</td>\n",
       "      <td>1</td>\n",
       "      <td>0</td>\n",
       "      <td>0</td>\n",
       "      <td>0</td>\n",
       "      <td>1</td>\n",
       "      <td>0</td>\n",
       "      <td>low</td>\n",
       "      <td>1</td>\n",
       "      <td>0</td>\n",
       "      <td>0</td>\n",
       "      <td>0</td>\n",
       "    </tr>\n",
       "    <tr>\n",
       "      <th>3</th>\n",
       "      <td>Male</td>\n",
       "      <td>Yes</td>\n",
       "      <td>0</td>\n",
       "      <td>Not Graduate</td>\n",
       "      <td>No</td>\n",
       "      <td>2583</td>\n",
       "      <td>2358.0</td>\n",
       "      <td>120.0</td>\n",
       "      <td>360.0</td>\n",
       "      <td>1.0</td>\n",
       "      <td>Urban</td>\n",
       "      <td>1</td>\n",
       "      <td>0</td>\n",
       "      <td>120.000000</td>\n",
       "      <td>0</td>\n",
       "      <td>0</td>\n",
       "      <td>1</td>\n",
       "      <td>0</td>\n",
       "      <td>Low</td>\n",
       "      <td>1</td>\n",
       "      <td>0</td>\n",
       "      <td>0</td>\n",
       "      <td>0</td>\n",
       "      <td>1</td>\n",
       "      <td>0</td>\n",
       "      <td>low</td>\n",
       "      <td>1</td>\n",
       "      <td>0</td>\n",
       "      <td>0</td>\n",
       "      <td>0</td>\n",
       "    </tr>\n",
       "    <tr>\n",
       "      <th>4</th>\n",
       "      <td>Male</td>\n",
       "      <td>No</td>\n",
       "      <td>0</td>\n",
       "      <td>Graduate</td>\n",
       "      <td>No</td>\n",
       "      <td>6000</td>\n",
       "      <td>0.0</td>\n",
       "      <td>141.0</td>\n",
       "      <td>360.0</td>\n",
       "      <td>1.0</td>\n",
       "      <td>Urban</td>\n",
       "      <td>1</td>\n",
       "      <td>0</td>\n",
       "      <td>141.000000</td>\n",
       "      <td>0</td>\n",
       "      <td>0</td>\n",
       "      <td>1</td>\n",
       "      <td>0</td>\n",
       "      <td>Low</td>\n",
       "      <td>1</td>\n",
       "      <td>0</td>\n",
       "      <td>0</td>\n",
       "      <td>0</td>\n",
       "      <td>1</td>\n",
       "      <td>0</td>\n",
       "      <td>low</td>\n",
       "      <td>1</td>\n",
       "      <td>0</td>\n",
       "      <td>0</td>\n",
       "      <td>0</td>\n",
       "    </tr>\n",
       "  </tbody>\n",
       "</table>\n",
       "</div>"
      ],
      "text/plain": [
       "  Gender Married Dependents     Education Self_Employed  ApplicantIncome  \\\n",
       "0   Male      No          0      Graduate            No             5849   \n",
       "1   Male     Yes          1      Graduate            No             4583   \n",
       "2   Male     Yes          0      Graduate           Yes             3000   \n",
       "3   Male     Yes          0  Not Graduate            No             2583   \n",
       "4   Male      No          0      Graduate            No             6000   \n",
       "\n",
       "   CoapplicantIncome  LoanAmount  Loan_Amount_Term  Credit_History  \\\n",
       "0                0.0         NaN             360.0             1.0   \n",
       "1             1508.0       128.0             360.0             1.0   \n",
       "2                0.0        66.0             360.0             1.0   \n",
       "3             2358.0       120.0             360.0             1.0   \n",
       "4                0.0       141.0             360.0             1.0   \n",
       "\n",
       "  Property_Area  Loan_Status  no_lam  filled_lam  pa_Rural  pa_Semiurban  \\\n",
       "0         Urban            1       1  146.412162         0             0   \n",
       "1         Rural            0       0  128.000000         1             0   \n",
       "2         Urban            1       0   66.000000         0             0   \n",
       "3         Urban            1       0  120.000000         0             0   \n",
       "4         Urban            1       0  141.000000         0             0   \n",
       "\n",
       "   pa_Urban  pa_nan lam_bin  lam_Low  lam_Average  lam_High  ch_bad  ch_good  \\\n",
       "0         1       0     Low        1            0         0       0        1   \n",
       "1         0       0     Low        1            0         0       0        1   \n",
       "2         1       0     Low        1            0         0       0        1   \n",
       "3         1       0     Low        1            0         0       0        1   \n",
       "4         1       0     Low        1            0         0       0        1   \n",
       "\n",
       "   ch_nan apin_binned  apin_low  apin_average  apin_high  apin_nan  \n",
       "0       0         low         1             0          0         0  \n",
       "1       0         low         1             0          0         0  \n",
       "2       0         low         1             0          0         0  \n",
       "3       0         low         1             0          0         0  \n",
       "4       0         low         1             0          0         0  "
      ]
     },
     "execution_count": 7,
     "metadata": {
      "tags": []
     },
     "output_type": "execute_result"
    }
   ],
   "source": [
    "pd.set_option('display.max_columns', None)\n",
    "loan_table.head()"
   ]
  },
  {
   "cell_type": "code",
   "execution_count": 0,
   "metadata": {
    "colab": {
     "base_uri": "https://localhost:8080/",
     "height": 134
    },
    "colab_type": "code",
    "id": "y_BkESex2TvB",
    "outputId": "94677e72-d870-4823-ba6c-53c15fb099fc"
   },
   "outputs": [
    {
     "data": {
      "text/plain": [
       "array(['Gender', 'Married', 'Dependents', 'Education', 'Self_Employed',\n",
       "       'ApplicantIncome', 'CoapplicantIncome', 'LoanAmount',\n",
       "       'Loan_Amount_Term', 'Credit_History', 'Property_Area',\n",
       "       'Loan_Status', 'no_lam', 'filled_lam', 'pa_Rural', 'pa_Semiurban',\n",
       "       'pa_Urban', 'pa_nan', 'lam_bin', 'lam_Low', 'lam_Average',\n",
       "       'lam_High', 'ch_bad', 'ch_good', 'ch_nan', 'apin_binned',\n",
       "       'apin_low', 'apin_average', 'apin_high', 'apin_nan'], dtype=object)"
      ]
     },
     "execution_count": 8,
     "metadata": {
      "tags": []
     },
     "output_type": "execute_result"
    }
   ],
   "source": [
    "loan_table.columns.values"
   ]
  },
  {
   "cell_type": "markdown",
   "metadata": {
    "colab_type": "text",
    "id": "hgqAyLO6SLSP"
   },
   "source": [
    "<hr>\n",
    "<h1>\n",
    "1: OHE Dependents\n",
    "</h1>\n",
    "If you take a look at the Dependents column below, you will see that it is viewed as a categorical column with 4 unique values. So we should be able to use get_dummies on it."
   ]
  },
  {
   "cell_type": "code",
   "execution_count": 0,
   "metadata": {
    "colab": {
     "base_uri": "https://localhost:8080/",
     "height": 393
    },
    "colab_type": "code",
    "id": "dksdERWQRoXx",
    "outputId": "0069f59d-5ed6-411c-f831-b2a41042a7c6"
   },
   "outputs": [
    {
     "data": {
      "text/html": [
       "<div>\n",
       "<style scoped>\n",
       "    .dataframe tbody tr th:only-of-type {\n",
       "        vertical-align: middle;\n",
       "    }\n",
       "\n",
       "    .dataframe tbody tr th {\n",
       "        vertical-align: top;\n",
       "    }\n",
       "\n",
       "    .dataframe thead th {\n",
       "        text-align: right;\n",
       "    }\n",
       "</style>\n",
       "<table border=\"1\" class=\"dataframe\">\n",
       "  <thead>\n",
       "    <tr style=\"text-align: right;\">\n",
       "      <th></th>\n",
       "      <th>Gender</th>\n",
       "      <th>Married</th>\n",
       "      <th>Dependents</th>\n",
       "      <th>Education</th>\n",
       "      <th>Self_Employed</th>\n",
       "      <th>ApplicantIncome</th>\n",
       "      <th>CoapplicantIncome</th>\n",
       "      <th>LoanAmount</th>\n",
       "      <th>Loan_Amount_Term</th>\n",
       "      <th>Credit_History</th>\n",
       "      <th>Property_Area</th>\n",
       "      <th>Loan_Status</th>\n",
       "      <th>no_lam</th>\n",
       "      <th>filled_lam</th>\n",
       "      <th>pa_Rural</th>\n",
       "      <th>pa_Semiurban</th>\n",
       "      <th>pa_Urban</th>\n",
       "      <th>pa_nan</th>\n",
       "      <th>lam_bin</th>\n",
       "      <th>lam_Low</th>\n",
       "      <th>lam_Average</th>\n",
       "      <th>lam_High</th>\n",
       "      <th>ch_bad</th>\n",
       "      <th>ch_good</th>\n",
       "      <th>ch_nan</th>\n",
       "      <th>apin_binned</th>\n",
       "      <th>apin_low</th>\n",
       "      <th>apin_average</th>\n",
       "      <th>apin_high</th>\n",
       "      <th>apin_nan</th>\n",
       "    </tr>\n",
       "  </thead>\n",
       "  <tbody>\n",
       "    <tr>\n",
       "      <th>count</th>\n",
       "      <td>601</td>\n",
       "      <td>611</td>\n",
       "      <td>599</td>\n",
       "      <td>614</td>\n",
       "      <td>582</td>\n",
       "      <td>614.000000</td>\n",
       "      <td>614.000000</td>\n",
       "      <td>592.000000</td>\n",
       "      <td>600.00000</td>\n",
       "      <td>564.000000</td>\n",
       "      <td>614</td>\n",
       "      <td>614.000000</td>\n",
       "      <td>614.000000</td>\n",
       "      <td>614.000000</td>\n",
       "      <td>614.000000</td>\n",
       "      <td>614.000000</td>\n",
       "      <td>614.000000</td>\n",
       "      <td>614.0</td>\n",
       "      <td>614</td>\n",
       "      <td>614.000000</td>\n",
       "      <td>614.000000</td>\n",
       "      <td>614.000000</td>\n",
       "      <td>614.000000</td>\n",
       "      <td>614.000000</td>\n",
       "      <td>614.000000</td>\n",
       "      <td>614</td>\n",
       "      <td>614.000000</td>\n",
       "      <td>614.000000</td>\n",
       "      <td>614.000000</td>\n",
       "      <td>614.0</td>\n",
       "    </tr>\n",
       "    <tr>\n",
       "      <th>unique</th>\n",
       "      <td>2</td>\n",
       "      <td>2</td>\n",
       "      <td>4</td>\n",
       "      <td>2</td>\n",
       "      <td>2</td>\n",
       "      <td>NaN</td>\n",
       "      <td>NaN</td>\n",
       "      <td>NaN</td>\n",
       "      <td>NaN</td>\n",
       "      <td>NaN</td>\n",
       "      <td>3</td>\n",
       "      <td>NaN</td>\n",
       "      <td>NaN</td>\n",
       "      <td>NaN</td>\n",
       "      <td>NaN</td>\n",
       "      <td>NaN</td>\n",
       "      <td>NaN</td>\n",
       "      <td>NaN</td>\n",
       "      <td>3</td>\n",
       "      <td>NaN</td>\n",
       "      <td>NaN</td>\n",
       "      <td>NaN</td>\n",
       "      <td>NaN</td>\n",
       "      <td>NaN</td>\n",
       "      <td>NaN</td>\n",
       "      <td>3</td>\n",
       "      <td>NaN</td>\n",
       "      <td>NaN</td>\n",
       "      <td>NaN</td>\n",
       "      <td>NaN</td>\n",
       "    </tr>\n",
       "    <tr>\n",
       "      <th>top</th>\n",
       "      <td>Male</td>\n",
       "      <td>Yes</td>\n",
       "      <td>0</td>\n",
       "      <td>Graduate</td>\n",
       "      <td>No</td>\n",
       "      <td>NaN</td>\n",
       "      <td>NaN</td>\n",
       "      <td>NaN</td>\n",
       "      <td>NaN</td>\n",
       "      <td>NaN</td>\n",
       "      <td>Semiurban</td>\n",
       "      <td>NaN</td>\n",
       "      <td>NaN</td>\n",
       "      <td>NaN</td>\n",
       "      <td>NaN</td>\n",
       "      <td>NaN</td>\n",
       "      <td>NaN</td>\n",
       "      <td>NaN</td>\n",
       "      <td>Low</td>\n",
       "      <td>NaN</td>\n",
       "      <td>NaN</td>\n",
       "      <td>NaN</td>\n",
       "      <td>NaN</td>\n",
       "      <td>NaN</td>\n",
       "      <td>NaN</td>\n",
       "      <td>low</td>\n",
       "      <td>NaN</td>\n",
       "      <td>NaN</td>\n",
       "      <td>NaN</td>\n",
       "      <td>NaN</td>\n",
       "    </tr>\n",
       "    <tr>\n",
       "      <th>freq</th>\n",
       "      <td>489</td>\n",
       "      <td>398</td>\n",
       "      <td>345</td>\n",
       "      <td>480</td>\n",
       "      <td>500</td>\n",
       "      <td>NaN</td>\n",
       "      <td>NaN</td>\n",
       "      <td>NaN</td>\n",
       "      <td>NaN</td>\n",
       "      <td>NaN</td>\n",
       "      <td>233</td>\n",
       "      <td>NaN</td>\n",
       "      <td>NaN</td>\n",
       "      <td>NaN</td>\n",
       "      <td>NaN</td>\n",
       "      <td>NaN</td>\n",
       "      <td>NaN</td>\n",
       "      <td>NaN</td>\n",
       "      <td>556</td>\n",
       "      <td>NaN</td>\n",
       "      <td>NaN</td>\n",
       "      <td>NaN</td>\n",
       "      <td>NaN</td>\n",
       "      <td>NaN</td>\n",
       "      <td>NaN</td>\n",
       "      <td>607</td>\n",
       "      <td>NaN</td>\n",
       "      <td>NaN</td>\n",
       "      <td>NaN</td>\n",
       "      <td>NaN</td>\n",
       "    </tr>\n",
       "    <tr>\n",
       "      <th>mean</th>\n",
       "      <td>NaN</td>\n",
       "      <td>NaN</td>\n",
       "      <td>NaN</td>\n",
       "      <td>NaN</td>\n",
       "      <td>NaN</td>\n",
       "      <td>5403.459283</td>\n",
       "      <td>1621.245798</td>\n",
       "      <td>146.412162</td>\n",
       "      <td>342.00000</td>\n",
       "      <td>0.842199</td>\n",
       "      <td>NaN</td>\n",
       "      <td>0.687296</td>\n",
       "      <td>0.035831</td>\n",
       "      <td>146.412162</td>\n",
       "      <td>0.291531</td>\n",
       "      <td>0.379479</td>\n",
       "      <td>0.328990</td>\n",
       "      <td>0.0</td>\n",
       "      <td>NaN</td>\n",
       "      <td>0.905537</td>\n",
       "      <td>0.074919</td>\n",
       "      <td>0.019544</td>\n",
       "      <td>0.144951</td>\n",
       "      <td>0.773616</td>\n",
       "      <td>0.081433</td>\n",
       "      <td>NaN</td>\n",
       "      <td>0.988599</td>\n",
       "      <td>0.008143</td>\n",
       "      <td>0.003257</td>\n",
       "      <td>0.0</td>\n",
       "    </tr>\n",
       "    <tr>\n",
       "      <th>std</th>\n",
       "      <td>NaN</td>\n",
       "      <td>NaN</td>\n",
       "      <td>NaN</td>\n",
       "      <td>NaN</td>\n",
       "      <td>NaN</td>\n",
       "      <td>6109.041673</td>\n",
       "      <td>2926.248369</td>\n",
       "      <td>85.587325</td>\n",
       "      <td>65.12041</td>\n",
       "      <td>0.364878</td>\n",
       "      <td>NaN</td>\n",
       "      <td>0.463973</td>\n",
       "      <td>0.186019</td>\n",
       "      <td>84.037468</td>\n",
       "      <td>0.454838</td>\n",
       "      <td>0.485653</td>\n",
       "      <td>0.470229</td>\n",
       "      <td>0.0</td>\n",
       "      <td>NaN</td>\n",
       "      <td>0.292710</td>\n",
       "      <td>0.263475</td>\n",
       "      <td>0.138540</td>\n",
       "      <td>0.352339</td>\n",
       "      <td>0.418832</td>\n",
       "      <td>0.273722</td>\n",
       "      <td>NaN</td>\n",
       "      <td>0.106250</td>\n",
       "      <td>0.089945</td>\n",
       "      <td>0.057026</td>\n",
       "      <td>0.0</td>\n",
       "    </tr>\n",
       "    <tr>\n",
       "      <th>min</th>\n",
       "      <td>NaN</td>\n",
       "      <td>NaN</td>\n",
       "      <td>NaN</td>\n",
       "      <td>NaN</td>\n",
       "      <td>NaN</td>\n",
       "      <td>150.000000</td>\n",
       "      <td>0.000000</td>\n",
       "      <td>9.000000</td>\n",
       "      <td>12.00000</td>\n",
       "      <td>0.000000</td>\n",
       "      <td>NaN</td>\n",
       "      <td>0.000000</td>\n",
       "      <td>0.000000</td>\n",
       "      <td>9.000000</td>\n",
       "      <td>0.000000</td>\n",
       "      <td>0.000000</td>\n",
       "      <td>0.000000</td>\n",
       "      <td>0.0</td>\n",
       "      <td>NaN</td>\n",
       "      <td>0.000000</td>\n",
       "      <td>0.000000</td>\n",
       "      <td>0.000000</td>\n",
       "      <td>0.000000</td>\n",
       "      <td>0.000000</td>\n",
       "      <td>0.000000</td>\n",
       "      <td>NaN</td>\n",
       "      <td>0.000000</td>\n",
       "      <td>0.000000</td>\n",
       "      <td>0.000000</td>\n",
       "      <td>0.0</td>\n",
       "    </tr>\n",
       "    <tr>\n",
       "      <th>25%</th>\n",
       "      <td>NaN</td>\n",
       "      <td>NaN</td>\n",
       "      <td>NaN</td>\n",
       "      <td>NaN</td>\n",
       "      <td>NaN</td>\n",
       "      <td>2877.500000</td>\n",
       "      <td>0.000000</td>\n",
       "      <td>100.000000</td>\n",
       "      <td>360.00000</td>\n",
       "      <td>1.000000</td>\n",
       "      <td>NaN</td>\n",
       "      <td>0.000000</td>\n",
       "      <td>0.000000</td>\n",
       "      <td>100.250000</td>\n",
       "      <td>0.000000</td>\n",
       "      <td>0.000000</td>\n",
       "      <td>0.000000</td>\n",
       "      <td>0.0</td>\n",
       "      <td>NaN</td>\n",
       "      <td>1.000000</td>\n",
       "      <td>0.000000</td>\n",
       "      <td>0.000000</td>\n",
       "      <td>0.000000</td>\n",
       "      <td>1.000000</td>\n",
       "      <td>0.000000</td>\n",
       "      <td>NaN</td>\n",
       "      <td>1.000000</td>\n",
       "      <td>0.000000</td>\n",
       "      <td>0.000000</td>\n",
       "      <td>0.0</td>\n",
       "    </tr>\n",
       "    <tr>\n",
       "      <th>50%</th>\n",
       "      <td>NaN</td>\n",
       "      <td>NaN</td>\n",
       "      <td>NaN</td>\n",
       "      <td>NaN</td>\n",
       "      <td>NaN</td>\n",
       "      <td>3812.500000</td>\n",
       "      <td>1188.500000</td>\n",
       "      <td>128.000000</td>\n",
       "      <td>360.00000</td>\n",
       "      <td>1.000000</td>\n",
       "      <td>NaN</td>\n",
       "      <td>1.000000</td>\n",
       "      <td>0.000000</td>\n",
       "      <td>129.000000</td>\n",
       "      <td>0.000000</td>\n",
       "      <td>0.000000</td>\n",
       "      <td>0.000000</td>\n",
       "      <td>0.0</td>\n",
       "      <td>NaN</td>\n",
       "      <td>1.000000</td>\n",
       "      <td>0.000000</td>\n",
       "      <td>0.000000</td>\n",
       "      <td>0.000000</td>\n",
       "      <td>1.000000</td>\n",
       "      <td>0.000000</td>\n",
       "      <td>NaN</td>\n",
       "      <td>1.000000</td>\n",
       "      <td>0.000000</td>\n",
       "      <td>0.000000</td>\n",
       "      <td>0.0</td>\n",
       "    </tr>\n",
       "    <tr>\n",
       "      <th>75%</th>\n",
       "      <td>NaN</td>\n",
       "      <td>NaN</td>\n",
       "      <td>NaN</td>\n",
       "      <td>NaN</td>\n",
       "      <td>NaN</td>\n",
       "      <td>5795.000000</td>\n",
       "      <td>2297.250000</td>\n",
       "      <td>168.000000</td>\n",
       "      <td>360.00000</td>\n",
       "      <td>1.000000</td>\n",
       "      <td>NaN</td>\n",
       "      <td>1.000000</td>\n",
       "      <td>0.000000</td>\n",
       "      <td>164.750000</td>\n",
       "      <td>1.000000</td>\n",
       "      <td>1.000000</td>\n",
       "      <td>1.000000</td>\n",
       "      <td>0.0</td>\n",
       "      <td>NaN</td>\n",
       "      <td>1.000000</td>\n",
       "      <td>0.000000</td>\n",
       "      <td>0.000000</td>\n",
       "      <td>0.000000</td>\n",
       "      <td>1.000000</td>\n",
       "      <td>0.000000</td>\n",
       "      <td>NaN</td>\n",
       "      <td>1.000000</td>\n",
       "      <td>0.000000</td>\n",
       "      <td>0.000000</td>\n",
       "      <td>0.0</td>\n",
       "    </tr>\n",
       "    <tr>\n",
       "      <th>max</th>\n",
       "      <td>NaN</td>\n",
       "      <td>NaN</td>\n",
       "      <td>NaN</td>\n",
       "      <td>NaN</td>\n",
       "      <td>NaN</td>\n",
       "      <td>81000.000000</td>\n",
       "      <td>41667.000000</td>\n",
       "      <td>700.000000</td>\n",
       "      <td>480.00000</td>\n",
       "      <td>1.000000</td>\n",
       "      <td>NaN</td>\n",
       "      <td>1.000000</td>\n",
       "      <td>1.000000</td>\n",
       "      <td>700.000000</td>\n",
       "      <td>1.000000</td>\n",
       "      <td>1.000000</td>\n",
       "      <td>1.000000</td>\n",
       "      <td>0.0</td>\n",
       "      <td>NaN</td>\n",
       "      <td>1.000000</td>\n",
       "      <td>1.000000</td>\n",
       "      <td>1.000000</td>\n",
       "      <td>1.000000</td>\n",
       "      <td>1.000000</td>\n",
       "      <td>1.000000</td>\n",
       "      <td>NaN</td>\n",
       "      <td>1.000000</td>\n",
       "      <td>1.000000</td>\n",
       "      <td>1.000000</td>\n",
       "      <td>0.0</td>\n",
       "    </tr>\n",
       "  </tbody>\n",
       "</table>\n",
       "</div>"
      ],
      "text/plain": [
       "       Gender Married Dependents Education Self_Employed  ApplicantIncome  \\\n",
       "count     601     611        599       614           582       614.000000   \n",
       "unique      2       2          4         2             2              NaN   \n",
       "top      Male     Yes          0  Graduate            No              NaN   \n",
       "freq      489     398        345       480           500              NaN   \n",
       "mean      NaN     NaN        NaN       NaN           NaN      5403.459283   \n",
       "std       NaN     NaN        NaN       NaN           NaN      6109.041673   \n",
       "min       NaN     NaN        NaN       NaN           NaN       150.000000   \n",
       "25%       NaN     NaN        NaN       NaN           NaN      2877.500000   \n",
       "50%       NaN     NaN        NaN       NaN           NaN      3812.500000   \n",
       "75%       NaN     NaN        NaN       NaN           NaN      5795.000000   \n",
       "max       NaN     NaN        NaN       NaN           NaN     81000.000000   \n",
       "\n",
       "        CoapplicantIncome  LoanAmount  Loan_Amount_Term  Credit_History  \\\n",
       "count          614.000000  592.000000         600.00000      564.000000   \n",
       "unique                NaN         NaN               NaN             NaN   \n",
       "top                   NaN         NaN               NaN             NaN   \n",
       "freq                  NaN         NaN               NaN             NaN   \n",
       "mean          1621.245798  146.412162         342.00000        0.842199   \n",
       "std           2926.248369   85.587325          65.12041        0.364878   \n",
       "min              0.000000    9.000000          12.00000        0.000000   \n",
       "25%              0.000000  100.000000         360.00000        1.000000   \n",
       "50%           1188.500000  128.000000         360.00000        1.000000   \n",
       "75%           2297.250000  168.000000         360.00000        1.000000   \n",
       "max          41667.000000  700.000000         480.00000        1.000000   \n",
       "\n",
       "       Property_Area  Loan_Status      no_lam  filled_lam    pa_Rural  \\\n",
       "count            614   614.000000  614.000000  614.000000  614.000000   \n",
       "unique             3          NaN         NaN         NaN         NaN   \n",
       "top        Semiurban          NaN         NaN         NaN         NaN   \n",
       "freq             233          NaN         NaN         NaN         NaN   \n",
       "mean             NaN     0.687296    0.035831  146.412162    0.291531   \n",
       "std              NaN     0.463973    0.186019   84.037468    0.454838   \n",
       "min              NaN     0.000000    0.000000    9.000000    0.000000   \n",
       "25%              NaN     0.000000    0.000000  100.250000    0.000000   \n",
       "50%              NaN     1.000000    0.000000  129.000000    0.000000   \n",
       "75%              NaN     1.000000    0.000000  164.750000    1.000000   \n",
       "max              NaN     1.000000    1.000000  700.000000    1.000000   \n",
       "\n",
       "        pa_Semiurban    pa_Urban  pa_nan lam_bin     lam_Low  lam_Average  \\\n",
       "count     614.000000  614.000000   614.0     614  614.000000   614.000000   \n",
       "unique           NaN         NaN     NaN       3         NaN          NaN   \n",
       "top              NaN         NaN     NaN     Low         NaN          NaN   \n",
       "freq             NaN         NaN     NaN     556         NaN          NaN   \n",
       "mean        0.379479    0.328990     0.0     NaN    0.905537     0.074919   \n",
       "std         0.485653    0.470229     0.0     NaN    0.292710     0.263475   \n",
       "min         0.000000    0.000000     0.0     NaN    0.000000     0.000000   \n",
       "25%         0.000000    0.000000     0.0     NaN    1.000000     0.000000   \n",
       "50%         0.000000    0.000000     0.0     NaN    1.000000     0.000000   \n",
       "75%         1.000000    1.000000     0.0     NaN    1.000000     0.000000   \n",
       "max         1.000000    1.000000     0.0     NaN    1.000000     1.000000   \n",
       "\n",
       "          lam_High      ch_bad     ch_good      ch_nan apin_binned  \\\n",
       "count   614.000000  614.000000  614.000000  614.000000         614   \n",
       "unique         NaN         NaN         NaN         NaN           3   \n",
       "top            NaN         NaN         NaN         NaN         low   \n",
       "freq           NaN         NaN         NaN         NaN         607   \n",
       "mean      0.019544    0.144951    0.773616    0.081433         NaN   \n",
       "std       0.138540    0.352339    0.418832    0.273722         NaN   \n",
       "min       0.000000    0.000000    0.000000    0.000000         NaN   \n",
       "25%       0.000000    0.000000    1.000000    0.000000         NaN   \n",
       "50%       0.000000    0.000000    1.000000    0.000000         NaN   \n",
       "75%       0.000000    0.000000    1.000000    0.000000         NaN   \n",
       "max       1.000000    1.000000    1.000000    1.000000         NaN   \n",
       "\n",
       "          apin_low  apin_average   apin_high  apin_nan  \n",
       "count   614.000000    614.000000  614.000000     614.0  \n",
       "unique         NaN           NaN         NaN       NaN  \n",
       "top            NaN           NaN         NaN       NaN  \n",
       "freq           NaN           NaN         NaN       NaN  \n",
       "mean      0.988599      0.008143    0.003257       0.0  \n",
       "std       0.106250      0.089945    0.057026       0.0  \n",
       "min       0.000000      0.000000    0.000000       0.0  \n",
       "25%       1.000000      0.000000    0.000000       0.0  \n",
       "50%       1.000000      0.000000    0.000000       0.0  \n",
       "75%       1.000000      0.000000    0.000000       0.0  \n",
       "max       1.000000      1.000000    1.000000       0.0  "
      ]
     },
     "execution_count": 9,
     "metadata": {
      "tags": []
     },
     "output_type": "execute_result"
    }
   ],
   "source": [
    "loan_table.describe(include='all')"
   ]
  },
  {
   "cell_type": "markdown",
   "metadata": {
    "colab_type": "text",
    "id": "T88CzBhRVDhY"
   },
   "source": [
    "Go ahead and ohe the `Dependents` column - use `dep` as prefix. And look at above to see the count. It has empties, right? So set the appropriate flag."
   ]
  },
  {
   "cell_type": "code",
   "execution_count": 0,
   "metadata": {
    "colab": {},
    "colab_type": "code",
    "id": "yVs4uNuT2TvR"
   },
   "outputs": [],
   "source": [
    "#ohe code here\n"
   ]
  },
  {
   "cell_type": "code",
   "execution_count": 0,
   "metadata": {
    "colab": {
     "base_uri": "https://localhost:8080/",
     "height": 97
    },
    "colab_type": "code",
    "id": "kEYo8s892TvT",
    "outputId": "56cf2e2b-5b19-438a-d079-50a5b358cb9d"
   },
   "outputs": [
    {
     "data": {
      "text/html": [
       "<div>\n",
       "<style scoped>\n",
       "    .dataframe tbody tr th:only-of-type {\n",
       "        vertical-align: middle;\n",
       "    }\n",
       "\n",
       "    .dataframe tbody tr th {\n",
       "        vertical-align: top;\n",
       "    }\n",
       "\n",
       "    .dataframe thead th {\n",
       "        text-align: right;\n",
       "    }\n",
       "</style>\n",
       "<table border=\"1\" class=\"dataframe\">\n",
       "  <thead>\n",
       "    <tr style=\"text-align: right;\">\n",
       "      <th></th>\n",
       "      <th>Gender</th>\n",
       "      <th>Married</th>\n",
       "      <th>Dependents</th>\n",
       "      <th>Education</th>\n",
       "      <th>Self_Employed</th>\n",
       "      <th>ApplicantIncome</th>\n",
       "      <th>CoapplicantIncome</th>\n",
       "      <th>LoanAmount</th>\n",
       "      <th>Loan_Amount_Term</th>\n",
       "      <th>Credit_History</th>\n",
       "      <th>Property_Area</th>\n",
       "      <th>Loan_Status</th>\n",
       "      <th>no_lam</th>\n",
       "      <th>filled_lam</th>\n",
       "      <th>pa_Rural</th>\n",
       "      <th>pa_Semiurban</th>\n",
       "      <th>pa_Urban</th>\n",
       "      <th>pa_nan</th>\n",
       "      <th>lam_bin</th>\n",
       "      <th>lam_Low</th>\n",
       "      <th>lam_Average</th>\n",
       "      <th>lam_High</th>\n",
       "      <th>ch_bad</th>\n",
       "      <th>ch_good</th>\n",
       "      <th>ch_nan</th>\n",
       "      <th>apin_binned</th>\n",
       "      <th>apin_low</th>\n",
       "      <th>apin_average</th>\n",
       "      <th>apin_high</th>\n",
       "      <th>apin_nan</th>\n",
       "      <th>dep_0</th>\n",
       "      <th>dep_1</th>\n",
       "      <th>dep_2</th>\n",
       "      <th>dep_3+</th>\n",
       "      <th>dep_nan</th>\n",
       "    </tr>\n",
       "  </thead>\n",
       "  <tbody>\n",
       "    <tr>\n",
       "      <th>0</th>\n",
       "      <td>Male</td>\n",
       "      <td>No</td>\n",
       "      <td>0</td>\n",
       "      <td>Graduate</td>\n",
       "      <td>No</td>\n",
       "      <td>5849</td>\n",
       "      <td>0.0</td>\n",
       "      <td>NaN</td>\n",
       "      <td>360.0</td>\n",
       "      <td>1.0</td>\n",
       "      <td>Urban</td>\n",
       "      <td>1</td>\n",
       "      <td>1</td>\n",
       "      <td>146.412162</td>\n",
       "      <td>0</td>\n",
       "      <td>0</td>\n",
       "      <td>1</td>\n",
       "      <td>0</td>\n",
       "      <td>Low</td>\n",
       "      <td>1</td>\n",
       "      <td>0</td>\n",
       "      <td>0</td>\n",
       "      <td>0</td>\n",
       "      <td>1</td>\n",
       "      <td>0</td>\n",
       "      <td>low</td>\n",
       "      <td>1</td>\n",
       "      <td>0</td>\n",
       "      <td>0</td>\n",
       "      <td>0</td>\n",
       "      <td>1</td>\n",
       "      <td>0</td>\n",
       "      <td>0</td>\n",
       "      <td>0</td>\n",
       "      <td>0</td>\n",
       "    </tr>\n",
       "  </tbody>\n",
       "</table>\n",
       "</div>"
      ],
      "text/plain": [
       "  Gender Married Dependents Education Self_Employed  ApplicantIncome  \\\n",
       "0   Male      No          0  Graduate            No             5849   \n",
       "\n",
       "   CoapplicantIncome  LoanAmount  Loan_Amount_Term  Credit_History  \\\n",
       "0                0.0         NaN             360.0             1.0   \n",
       "\n",
       "  Property_Area  Loan_Status  no_lam  filled_lam  pa_Rural  pa_Semiurban  \\\n",
       "0         Urban            1       1  146.412162         0             0   \n",
       "\n",
       "   pa_Urban  pa_nan lam_bin  lam_Low  lam_Average  lam_High  ch_bad  ch_good  \\\n",
       "0         1       0     Low        1            0         0       0        1   \n",
       "\n",
       "   ch_nan apin_binned  apin_low  apin_average  apin_high  apin_nan  dep_0  \\\n",
       "0       0         low         1             0          0         0      1   \n",
       "\n",
       "   dep_1  dep_2  dep_3+  dep_nan  \n",
       "0      0      0       0        0  "
      ]
     },
     "execution_count": 12,
     "metadata": {
      "tags": []
     },
     "output_type": "execute_result"
    }
   ],
   "source": [
    "loan_table.head(1)"
   ]
  },
  {
   "cell_type": "markdown",
   "metadata": {
    "colab_type": "text",
    "id": "w7je4s_D2Tvb"
   },
   "source": [
    "<hr>\n",
    "<h1>\n",
    "2: Find the best depth\n",
    "</h1>\n",
    "<p>\n",
    "<div class=h1_cell>\n",
    "<p>\n",
    "Explore depths from 1 to 5. Build a tree for each depth and test it. Plot the results.\n",
    "<p>\n",
    "First, define the columns to use. I do that for you below.\n",
    "</div>"
   ]
  },
  {
   "cell_type": "code",
   "execution_count": 0,
   "metadata": {
    "colab": {},
    "colab_type": "code",
    "id": "adKCxRIv2Tve"
   },
   "outputs": [],
   "source": [
    "column_candidates = [\n",
    "        #Dependents\n",
    "        'dep_0', 'dep_1', 'dep_2', 'dep_3+',\n",
    "        #ApplicantIncome\n",
    "       'apin_low', 'apin_high', 'apin_average',\n",
    "        #Property_Area\n",
    "        'pa_Rural', 'pa_Semiurban','pa_Urban',\n",
    "        #LoanAmount\n",
    "        'lam_Low', 'lam_Average', 'lam_High',\n",
    "        #Credit_History\n",
    "        'ch_bad', 'ch_good']"
   ]
  },
  {
   "cell_type": "code",
   "execution_count": 0,
   "metadata": {
    "colab": {
     "base_uri": "https://localhost:8080/",
     "height": 168
    },
    "colab_type": "code",
    "id": "Z59ByCSt2Tvk",
    "outputId": "6b5e41af-f403-4656-8f76-41fbda1c9cb8"
   },
   "outputs": [
    {
     "name": "stdout",
     "output_type": "stream",
     "text": [
      "2\n"
     ]
    },
    {
     "data": {
      "text/plain": [
       "[{'conjunction': [('ch_bad_1',\n",
       "    <function library_w19_week4.build_pred.<locals>.<lambda>>)],\n",
       "  'gig_score': 0.12559965113188631,\n",
       "  'prediction': 0},\n",
       " {'conjunction': [('ch_bad_0',\n",
       "    <function library_w19_week4.build_pred.<locals>.<lambda>>)],\n",
       "  'gig_score': 0.12559965113188631,\n",
       "  'prediction': 1}]"
      ]
     },
     "execution_count": 14,
     "metadata": {
      "tags": []
     },
     "output_type": "execute_result"
    }
   ],
   "source": [
    "tree1 = build_tree_iter(loan_table, column_candidates, 'Loan_Status', {'max-depth': 1}) # should get 2 paths\n",
    "print(len(tree1['paths']))\n",
    "tree1['paths']"
   ]
  },
  {
   "cell_type": "markdown",
   "metadata": {
    "colab_type": "text",
    "id": "N_S4mM6I2Tvo"
   },
   "source": [
    "<div class=h1_cell>\n",
    "<p>\n",
    "As reminder, a tree with only one splitter node is called a stump. You can see that `ch_bad` is the best splitter with only one node. Thought question: As we build deeper trees below, is it possible for the root node to be something other than `ch_bad`?\n",
    "</div>"
   ]
  },
  {
   "cell_type": "code",
   "execution_count": 0,
   "metadata": {
    "colab": {
     "base_uri": "https://localhost:8080/",
     "height": 437
    },
    "colab_type": "code",
    "id": "w7cv_V162Tvp",
    "outputId": "84831ade-69fc-482d-d1a4-c0d9366e2bb6"
   },
   "outputs": [
    {
     "name": "stdout",
     "output_type": "stream",
     "text": [
      "4\n"
     ]
    },
    {
     "data": {
      "text/plain": [
       "[{'conjunction': [('ch_bad_1',\n",
       "    <function library_w19_week4.build_pred.<locals>.<lambda>>),\n",
       "   ('apin_average_1',\n",
       "    <function library_w19_week4.build_pred.<locals>.<lambda>>)],\n",
       "  'gig_score': 0.019292789018833467,\n",
       "  'prediction': 1},\n",
       " {'conjunction': [('ch_bad_1',\n",
       "    <function library_w19_week4.build_pred.<locals>.<lambda>>),\n",
       "   ('apin_average_0',\n",
       "    <function library_w19_week4.build_pred.<locals>.<lambda>>)],\n",
       "  'gig_score': 0.019292789018833467,\n",
       "  'prediction': 0},\n",
       " {'conjunction': [('ch_bad_0',\n",
       "    <function library_w19_week4.build_pred.<locals>.<lambda>>),\n",
       "   ('pa_Semiurban_1',\n",
       "    <function library_w19_week4.build_pred.<locals>.<lambda>>)],\n",
       "  'gig_score': 0.006462619030620731,\n",
       "  'prediction': 1},\n",
       " {'conjunction': [('ch_bad_0',\n",
       "    <function library_w19_week4.build_pred.<locals>.<lambda>>),\n",
       "   ('pa_Semiurban_0',\n",
       "    <function library_w19_week4.build_pred.<locals>.<lambda>>)],\n",
       "  'gig_score': 0.006462619030620731,\n",
       "  'prediction': 1}]"
      ]
     },
     "execution_count": 15,
     "metadata": {
      "tags": []
     },
     "output_type": "execute_result"
    }
   ],
   "source": [
    "tree2 = build_tree_iter(loan_table, column_candidates, 'Loan_Status', {'max-depth': 2}) # should get 4 paths\n",
    "print(len(tree2['paths']))\n",
    "tree2['paths']"
   ]
  },
  {
   "cell_type": "code",
   "execution_count": 0,
   "metadata": {
    "colab": {
     "base_uri": "https://localhost:8080/",
     "height": 874
    },
    "colab_type": "code",
    "id": "8jIhyyWb2Tvu",
    "outputId": "f1c8c456-848e-4f71-aa06-1cf06062fa46"
   },
   "outputs": [
    {
     "name": "stdout",
     "output_type": "stream",
     "text": [
      "7\n"
     ]
    },
    {
     "data": {
      "text/plain": [
       "[{'conjunction': [('ch_bad_1',\n",
       "    <function library_w19_week4.build_pred.<locals>.<lambda>>),\n",
       "   ('apin_average_1',\n",
       "    <function library_w19_week4.build_pred.<locals>.<lambda>>)],\n",
       "  'gig_score': 0.019292789018833467,\n",
       "  'prediction': 1},\n",
       " {'conjunction': [('ch_bad_1',\n",
       "    <function library_w19_week4.build_pred.<locals>.<lambda>>),\n",
       "   ('apin_average_0',\n",
       "    <function library_w19_week4.build_pred.<locals>.<lambda>>),\n",
       "   ('pa_Urban_1', <function library_w19_week4.build_pred.<locals>.<lambda>>)],\n",
       "  'gig_score': 0.0014037192421204325,\n",
       "  'prediction': 0},\n",
       " {'conjunction': [('ch_bad_1',\n",
       "    <function library_w19_week4.build_pred.<locals>.<lambda>>),\n",
       "   ('apin_average_0',\n",
       "    <function library_w19_week4.build_pred.<locals>.<lambda>>),\n",
       "   ('pa_Urban_0', <function library_w19_week4.build_pred.<locals>.<lambda>>)],\n",
       "  'gig_score': 0.0014037192421204325,\n",
       "  'prediction': 0},\n",
       " {'conjunction': [('ch_bad_0',\n",
       "    <function library_w19_week4.build_pred.<locals>.<lambda>>),\n",
       "   ('pa_Semiurban_1',\n",
       "    <function library_w19_week4.build_pred.<locals>.<lambda>>),\n",
       "   ('lam_Average_1',\n",
       "    <function library_w19_week4.build_pred.<locals>.<lambda>>)],\n",
       "  'gig_score': 0.0052148575352743975,\n",
       "  'prediction': 1},\n",
       " {'conjunction': [('ch_bad_0',\n",
       "    <function library_w19_week4.build_pred.<locals>.<lambda>>),\n",
       "   ('pa_Semiurban_1',\n",
       "    <function library_w19_week4.build_pred.<locals>.<lambda>>),\n",
       "   ('lam_Average_0',\n",
       "    <function library_w19_week4.build_pred.<locals>.<lambda>>)],\n",
       "  'gig_score': 0.0052148575352743975,\n",
       "  'prediction': 1},\n",
       " {'conjunction': [('ch_bad_0',\n",
       "    <function library_w19_week4.build_pred.<locals>.<lambda>>),\n",
       "   ('pa_Semiurban_0',\n",
       "    <function library_w19_week4.build_pred.<locals>.<lambda>>),\n",
       "   ('dep_2_1', <function library_w19_week4.build_pred.<locals>.<lambda>>)],\n",
       "  'gig_score': 0.0021858669417437193,\n",
       "  'prediction': 1},\n",
       " {'conjunction': [('ch_bad_0',\n",
       "    <function library_w19_week4.build_pred.<locals>.<lambda>>),\n",
       "   ('pa_Semiurban_0',\n",
       "    <function library_w19_week4.build_pred.<locals>.<lambda>>),\n",
       "   ('dep_2_0', <function library_w19_week4.build_pred.<locals>.<lambda>>)],\n",
       "  'gig_score': 0.0021858669417437193,\n",
       "  'prediction': 1}]"
      ]
     },
     "execution_count": 16,
     "metadata": {
      "tags": []
     },
     "output_type": "execute_result"
    }
   ],
   "source": [
    "tree3 = build_tree_iter(loan_table, column_candidates, 'Loan_Status', {'max-depth': 3}) # should get 7 paths\n",
    "print(len(tree3['paths']))\n",
    "tree3['paths']"
   ]
  },
  {
   "cell_type": "code",
   "execution_count": 0,
   "metadata": {
    "colab": {
     "base_uri": "https://localhost:8080/",
     "height": 34
    },
    "colab_type": "code",
    "id": "YbKPxh7r2Tvy",
    "outputId": "227e4583-1b4a-42a6-bf78-54d970602769"
   },
   "outputs": [
    {
     "name": "stdout",
     "output_type": "stream",
     "text": [
      "13\n"
     ]
    }
   ],
   "source": [
    "tree4 = build_tree_iter(loan_table, column_candidates, 'Loan_Status', {'max-depth': 4}) # should get 13 paths\n",
    "print(len(tree4['paths']))\n",
    "#tree4['paths']"
   ]
  },
  {
   "cell_type": "code",
   "execution_count": 0,
   "metadata": {
    "colab": {
     "base_uri": "https://localhost:8080/",
     "height": 34
    },
    "colab_type": "code",
    "id": "kWbdEnEn2Tv4",
    "outputId": "b4eb2a1a-c0e2-49e6-acf2-8d9c944bf969"
   },
   "outputs": [
    {
     "name": "stdout",
     "output_type": "stream",
     "text": [
      "20\n"
     ]
    }
   ],
   "source": [
    "tree5 = build_tree_iter(loan_table, column_candidates, 'Loan_Status', {'max-depth': 5}) # should get 20 paths\n",
    "print(len(tree5['paths']))\n",
    "#tree5['paths']"
   ]
  },
  {
   "cell_type": "markdown",
   "metadata": {
    "colab_type": "text",
    "id": "xeYnFsNu2Tv7"
   },
   "source": [
    "<div class=h1_cell>\n",
    "  <h1>You have your 5 trees</h1>\n",
    "<p>\n",
    "Add them to your results table.\n",
    "</div>"
   ]
  },
  {
   "cell_type": "code",
   "execution_count": 0,
   "metadata": {
    "colab": {
     "base_uri": "https://localhost:8080/",
     "height": 77
    },
    "colab_type": "code",
    "id": "VLY_eAw52Tv9",
    "outputId": "80b72a7f-bd55-45bb-acf1-cbd82720c292"
   },
   "outputs": [
    {
     "data": {
      "text/html": [
       "<div>\n",
       "<style scoped>\n",
       "    .dataframe tbody tr th:only-of-type {\n",
       "        vertical-align: middle;\n",
       "    }\n",
       "\n",
       "    .dataframe tbody tr th {\n",
       "        vertical-align: top;\n",
       "    }\n",
       "\n",
       "    .dataframe thead th {\n",
       "        text-align: right;\n",
       "    }\n",
       "</style>\n",
       "<table border=\"1\" class=\"dataframe\">\n",
       "  <thead>\n",
       "    <tr style=\"text-align: right;\">\n",
       "      <th></th>\n",
       "      <th>Loan_Status</th>\n",
       "      <th>pred_1</th>\n",
       "      <th>pred_1_type</th>\n",
       "      <th>pred_2</th>\n",
       "      <th>pred_2_type</th>\n",
       "      <th>tree_1</th>\n",
       "      <th>tree_1_type</th>\n",
       "    </tr>\n",
       "  </thead>\n",
       "  <tbody>\n",
       "    <tr>\n",
       "      <th>0</th>\n",
       "      <td>1</td>\n",
       "      <td>1</td>\n",
       "      <td>true_positive</td>\n",
       "      <td>1</td>\n",
       "      <td>true_positive</td>\n",
       "      <td>1</td>\n",
       "      <td>true_positive</td>\n",
       "    </tr>\n",
       "  </tbody>\n",
       "</table>\n",
       "</div>"
      ],
      "text/plain": [
       "   Loan_Status  pred_1    pred_1_type  pred_2    pred_2_type  tree_1  \\\n",
       "0            1       1  true_positive       1  true_positive       1   \n",
       "\n",
       "     tree_1_type  \n",
       "0  true_positive  "
      ]
     },
     "execution_count": 19,
     "metadata": {
      "tags": []
     },
     "output_type": "execute_result"
    }
   ],
   "source": [
    "\n",
    "loan_results.head(1)"
   ]
  },
  {
   "cell_type": "code",
   "execution_count": 0,
   "metadata": {
    "colab": {
     "base_uri": "https://localhost:8080/",
     "height": 77
    },
    "colab_type": "code",
    "id": "-Zwqkovw2TwC",
    "outputId": "74014efd-9a15-417c-a84c-06fc64f082db"
   },
   "outputs": [
    {
     "data": {
      "text/html": [
       "<div>\n",
       "<style scoped>\n",
       "    .dataframe tbody tr th:only-of-type {\n",
       "        vertical-align: middle;\n",
       "    }\n",
       "\n",
       "    .dataframe tbody tr th {\n",
       "        vertical-align: top;\n",
       "    }\n",
       "\n",
       "    .dataframe thead th {\n",
       "        text-align: right;\n",
       "    }\n",
       "</style>\n",
       "<table border=\"1\" class=\"dataframe\">\n",
       "  <thead>\n",
       "    <tr style=\"text-align: right;\">\n",
       "      <th></th>\n",
       "      <th>Loan_Status</th>\n",
       "      <th>pred_1</th>\n",
       "      <th>pred_1_type</th>\n",
       "      <th>pred_2</th>\n",
       "      <th>pred_2_type</th>\n",
       "      <th>tree_1</th>\n",
       "      <th>tree_1_type</th>\n",
       "      <th>tree_2</th>\n",
       "      <th>tree_2_type</th>\n",
       "    </tr>\n",
       "  </thead>\n",
       "  <tbody>\n",
       "    <tr>\n",
       "      <th>0</th>\n",
       "      <td>1</td>\n",
       "      <td>1</td>\n",
       "      <td>true_positive</td>\n",
       "      <td>1</td>\n",
       "      <td>true_positive</td>\n",
       "      <td>1</td>\n",
       "      <td>true_positive</td>\n",
       "      <td>1</td>\n",
       "      <td>true_positive</td>\n",
       "    </tr>\n",
       "  </tbody>\n",
       "</table>\n",
       "</div>"
      ],
      "text/plain": [
       "   Loan_Status  pred_1    pred_1_type  pred_2    pred_2_type  tree_1  \\\n",
       "0            1       1  true_positive       1  true_positive       1   \n",
       "\n",
       "     tree_1_type  tree_2    tree_2_type  \n",
       "0  true_positive       1  true_positive  "
      ]
     },
     "execution_count": 20,
     "metadata": {
      "tags": []
     },
     "output_type": "execute_result"
    }
   ],
   "source": [
    "\n",
    "loan_results.head(1)"
   ]
  },
  {
   "cell_type": "code",
   "execution_count": 0,
   "metadata": {
    "colab": {
     "base_uri": "https://localhost:8080/",
     "height": 77
    },
    "colab_type": "code",
    "id": "yY74Vkkq2TwG",
    "outputId": "5fec0bac-7c5a-424a-c16d-6bfd718ffb57"
   },
   "outputs": [
    {
     "data": {
      "text/html": [
       "<div>\n",
       "<style scoped>\n",
       "    .dataframe tbody tr th:only-of-type {\n",
       "        vertical-align: middle;\n",
       "    }\n",
       "\n",
       "    .dataframe tbody tr th {\n",
       "        vertical-align: top;\n",
       "    }\n",
       "\n",
       "    .dataframe thead th {\n",
       "        text-align: right;\n",
       "    }\n",
       "</style>\n",
       "<table border=\"1\" class=\"dataframe\">\n",
       "  <thead>\n",
       "    <tr style=\"text-align: right;\">\n",
       "      <th></th>\n",
       "      <th>Loan_Status</th>\n",
       "      <th>pred_1</th>\n",
       "      <th>pred_1_type</th>\n",
       "      <th>pred_2</th>\n",
       "      <th>pred_2_type</th>\n",
       "      <th>tree_1</th>\n",
       "      <th>tree_1_type</th>\n",
       "      <th>tree_2</th>\n",
       "      <th>tree_2_type</th>\n",
       "      <th>tree_3</th>\n",
       "      <th>tree_3_type</th>\n",
       "    </tr>\n",
       "  </thead>\n",
       "  <tbody>\n",
       "    <tr>\n",
       "      <th>0</th>\n",
       "      <td>1</td>\n",
       "      <td>1</td>\n",
       "      <td>true_positive</td>\n",
       "      <td>1</td>\n",
       "      <td>true_positive</td>\n",
       "      <td>1</td>\n",
       "      <td>true_positive</td>\n",
       "      <td>1</td>\n",
       "      <td>true_positive</td>\n",
       "      <td>1</td>\n",
       "      <td>true_positive</td>\n",
       "    </tr>\n",
       "  </tbody>\n",
       "</table>\n",
       "</div>"
      ],
      "text/plain": [
       "   Loan_Status  pred_1    pred_1_type  pred_2    pred_2_type  tree_1  \\\n",
       "0            1       1  true_positive       1  true_positive       1   \n",
       "\n",
       "     tree_1_type  tree_2    tree_2_type  tree_3    tree_3_type  \n",
       "0  true_positive       1  true_positive       1  true_positive  "
      ]
     },
     "execution_count": 21,
     "metadata": {
      "tags": []
     },
     "output_type": "execute_result"
    }
   ],
   "source": [
    "\n",
    "loan_results.head(1)"
   ]
  },
  {
   "cell_type": "code",
   "execution_count": 0,
   "metadata": {
    "colab": {
     "base_uri": "https://localhost:8080/",
     "height": 77
    },
    "colab_type": "code",
    "id": "l9Xa9tRD2TwK",
    "outputId": "c0759724-f7b7-464b-a419-305f0527586c"
   },
   "outputs": [
    {
     "data": {
      "text/html": [
       "<div>\n",
       "<style scoped>\n",
       "    .dataframe tbody tr th:only-of-type {\n",
       "        vertical-align: middle;\n",
       "    }\n",
       "\n",
       "    .dataframe tbody tr th {\n",
       "        vertical-align: top;\n",
       "    }\n",
       "\n",
       "    .dataframe thead th {\n",
       "        text-align: right;\n",
       "    }\n",
       "</style>\n",
       "<table border=\"1\" class=\"dataframe\">\n",
       "  <thead>\n",
       "    <tr style=\"text-align: right;\">\n",
       "      <th></th>\n",
       "      <th>Loan_Status</th>\n",
       "      <th>pred_1</th>\n",
       "      <th>pred_1_type</th>\n",
       "      <th>pred_2</th>\n",
       "      <th>pred_2_type</th>\n",
       "      <th>tree_1</th>\n",
       "      <th>tree_1_type</th>\n",
       "      <th>tree_2</th>\n",
       "      <th>tree_2_type</th>\n",
       "      <th>tree_3</th>\n",
       "      <th>tree_3_type</th>\n",
       "      <th>tree_4</th>\n",
       "      <th>tree_4_type</th>\n",
       "    </tr>\n",
       "  </thead>\n",
       "  <tbody>\n",
       "    <tr>\n",
       "      <th>0</th>\n",
       "      <td>1</td>\n",
       "      <td>1</td>\n",
       "      <td>true_positive</td>\n",
       "      <td>1</td>\n",
       "      <td>true_positive</td>\n",
       "      <td>1</td>\n",
       "      <td>true_positive</td>\n",
       "      <td>1</td>\n",
       "      <td>true_positive</td>\n",
       "      <td>1</td>\n",
       "      <td>true_positive</td>\n",
       "      <td>1</td>\n",
       "      <td>true_positive</td>\n",
       "    </tr>\n",
       "  </tbody>\n",
       "</table>\n",
       "</div>"
      ],
      "text/plain": [
       "   Loan_Status  pred_1    pred_1_type  pred_2    pred_2_type  tree_1  \\\n",
       "0            1       1  true_positive       1  true_positive       1   \n",
       "\n",
       "     tree_1_type  tree_2    tree_2_type  tree_3    tree_3_type  tree_4  \\\n",
       "0  true_positive       1  true_positive       1  true_positive       1   \n",
       "\n",
       "     tree_4_type  \n",
       "0  true_positive  "
      ]
     },
     "execution_count": 22,
     "metadata": {
      "tags": []
     },
     "output_type": "execute_result"
    }
   ],
   "source": [
    "\n",
    "loan_results.head(1)"
   ]
  },
  {
   "cell_type": "code",
   "execution_count": 0,
   "metadata": {
    "colab": {
     "base_uri": "https://localhost:8080/",
     "height": 77
    },
    "colab_type": "code",
    "id": "CiUbsy8t2TwO",
    "outputId": "57a0e4fc-86c4-44c7-d49d-15946beb1b36"
   },
   "outputs": [
    {
     "data": {
      "text/html": [
       "<div>\n",
       "<style scoped>\n",
       "    .dataframe tbody tr th:only-of-type {\n",
       "        vertical-align: middle;\n",
       "    }\n",
       "\n",
       "    .dataframe tbody tr th {\n",
       "        vertical-align: top;\n",
       "    }\n",
       "\n",
       "    .dataframe thead th {\n",
       "        text-align: right;\n",
       "    }\n",
       "</style>\n",
       "<table border=\"1\" class=\"dataframe\">\n",
       "  <thead>\n",
       "    <tr style=\"text-align: right;\">\n",
       "      <th></th>\n",
       "      <th>Loan_Status</th>\n",
       "      <th>pred_1</th>\n",
       "      <th>pred_1_type</th>\n",
       "      <th>pred_2</th>\n",
       "      <th>pred_2_type</th>\n",
       "      <th>tree_1</th>\n",
       "      <th>tree_1_type</th>\n",
       "      <th>tree_2</th>\n",
       "      <th>tree_2_type</th>\n",
       "      <th>tree_3</th>\n",
       "      <th>tree_3_type</th>\n",
       "      <th>tree_4</th>\n",
       "      <th>tree_4_type</th>\n",
       "      <th>tree_5</th>\n",
       "      <th>tree_5_type</th>\n",
       "    </tr>\n",
       "  </thead>\n",
       "  <tbody>\n",
       "    <tr>\n",
       "      <th>0</th>\n",
       "      <td>1</td>\n",
       "      <td>1</td>\n",
       "      <td>true_positive</td>\n",
       "      <td>1</td>\n",
       "      <td>true_positive</td>\n",
       "      <td>1</td>\n",
       "      <td>true_positive</td>\n",
       "      <td>1</td>\n",
       "      <td>true_positive</td>\n",
       "      <td>1</td>\n",
       "      <td>true_positive</td>\n",
       "      <td>1</td>\n",
       "      <td>true_positive</td>\n",
       "      <td>1</td>\n",
       "      <td>true_positive</td>\n",
       "    </tr>\n",
       "  </tbody>\n",
       "</table>\n",
       "</div>"
      ],
      "text/plain": [
       "   Loan_Status  pred_1    pred_1_type  pred_2    pred_2_type  tree_1  \\\n",
       "0            1       1  true_positive       1  true_positive       1   \n",
       "\n",
       "     tree_1_type  tree_2    tree_2_type  tree_3    tree_3_type  tree_4  \\\n",
       "0  true_positive       1  true_positive       1  true_positive       1   \n",
       "\n",
       "     tree_4_type  tree_5    tree_5_type  \n",
       "0  true_positive       1  true_positive  "
      ]
     },
     "execution_count": 23,
     "metadata": {
      "tags": []
     },
     "output_type": "execute_result"
    }
   ],
   "source": [
    "\n",
    "loan_results.head(1)"
   ]
  },
  {
   "cell_type": "markdown",
   "metadata": {
    "colab_type": "text",
    "id": "iF3d8mIvkxzZ"
   },
   "source": [
    "Get the value counts on each tree."
   ]
  },
  {
   "cell_type": "code",
   "execution_count": 0,
   "metadata": {
    "colab": {},
    "colab_type": "code",
    "id": "A6NU_F1X2TwS"
   },
   "outputs": [],
   "source": [
    "tree_1_types = loan_results['tree_1_type'].value_counts()\n",
    "tree_2_types = loan_results['tree_2_type'].value_counts()\n",
    "tree_3_types = loan_results['tree_3_type'].value_counts()\n",
    "tree_4_types = loan_results['tree_4_type'].value_counts()\n",
    "tree_5_types = loan_results['tree_5_type'].value_counts()"
   ]
  },
  {
   "cell_type": "markdown",
   "metadata": {
    "colab_type": "text",
    "id": "XjohqjUXkrvm"
   },
   "source": [
    "ok, ready to check out our measures."
   ]
  },
  {
   "cell_type": "code",
   "execution_count": 0,
   "metadata": {
    "colab": {
     "base_uri": "https://localhost:8080/",
     "height": 34
    },
    "colab_type": "code",
    "id": "gRDeEg032TwZ",
    "outputId": "b1fb7ab2-2e02-4c2a-fe2c-04e45d456985",
    "scrolled": true
   },
   "outputs": [
    {
     "name": "stdout",
     "output_type": "stream",
     "text": [
      "(0.8094462540716613, 0.8764519535374868, 0.4104956556082149)\n"
     ]
    }
   ],
   "source": [
    "print((accuracy(tree_1_types), f1(tree_1_types), informedness(tree_1_types)))"
   ]
  },
  {
   "cell_type": "code",
   "execution_count": 0,
   "metadata": {
    "colab": {
     "base_uri": "https://localhost:8080/",
     "height": 34
    },
    "colab_type": "code",
    "id": "dimYyqDN2Twe",
    "outputId": "a2b5ee2b-019e-4a33-8181-7f5c9c6b2104"
   },
   "outputs": [
    {
     "name": "stdout",
     "output_type": "stream",
     "text": [
      "(0.8110749185667753, 0.8776371308016878, 0.41286532385466024)\n"
     ]
    }
   ],
   "source": [
    "print((accuracy(tree_2_types), f1(tree_2_types), informedness(tree_2_types)))"
   ]
  },
  {
   "cell_type": "code",
   "execution_count": 0,
   "metadata": {
    "colab": {
     "base_uri": "https://localhost:8080/",
     "height": 34
    },
    "colab_type": "code",
    "id": "dqa69nZJ2Twi",
    "outputId": "f106fb39-24bb-4a39-e650-4fb5d0ae60b7"
   },
   "outputs": [
    {
     "name": "stdout",
     "output_type": "stream",
     "text": [
      "(0.8110749185667753, 0.8776371308016878, 0.41286532385466024)\n"
     ]
    }
   ],
   "source": [
    "print((accuracy(tree_3_types), f1(tree_3_types), informedness(tree_3_types)))"
   ]
  },
  {
   "cell_type": "code",
   "execution_count": 0,
   "metadata": {
    "colab": {
     "base_uri": "https://localhost:8080/",
     "height": 34
    },
    "colab_type": "code",
    "id": "BMi_jWrB2Twm",
    "outputId": "0dec0ac2-8fb2-4bf4-cca4-caff70f8e73f"
   },
   "outputs": [
    {
     "name": "stdout",
     "output_type": "stream",
     "text": [
      "(0.8127035830618893, 0.8785638859556495, 0.4180736571879937)\n"
     ]
    }
   ],
   "source": [
    "print((accuracy(tree_4_types), f1(tree_4_types), informedness(tree_4_types)))"
   ]
  },
  {
   "cell_type": "code",
   "execution_count": 0,
   "metadata": {
    "colab": {
     "base_uri": "https://localhost:8080/",
     "height": 34
    },
    "colab_type": "code",
    "id": "IkmLIVhd2Twp",
    "outputId": "ca2a9643-e1bb-4b3a-946a-0a7bc70901ba"
   },
   "outputs": [
    {
     "name": "stdout",
     "output_type": "stream",
     "text": [
      "(0.8192182410423453, 0.8802588996763754, 0.46161631121642976)\n"
     ]
    }
   ],
   "source": [
    "print((accuracy(tree_5_types), f1(tree_5_types), informedness(tree_5_types)))"
   ]
  },
  {
   "cell_type": "markdown",
   "metadata": {
    "colab_type": "text",
    "id": "oaeHxhZZ2Twy"
   },
   "source": [
    "<div class=h1_cell>\n",
    "<p>\n",
    "Should we stop at 5? It looks like our measures are continuing to go up. I'll let you stop here but in practice it would be good to find where depth is optimal.\n",
    "  <p>\n",
    "Let's try at least one change to the gig cutoff. Use `0.01` and level 5.\n",
    "</div>"
   ]
  },
  {
   "cell_type": "code",
   "execution_count": 0,
   "metadata": {
    "colab": {
     "base_uri": "https://localhost:8080/",
     "height": 34
    },
    "colab_type": "code",
    "id": "6sUQDSrLY6S-",
    "outputId": "4ba20b58-a514-48b2-bc97-30be94515f17"
   },
   "outputs": [
    {
     "name": "stdout",
     "output_type": "stream",
     "text": [
      "3\n"
     ]
    }
   ],
   "source": [
    "\n",
    "print(len(tree6['paths']))\n",
    "#tree6['paths']"
   ]
  },
  {
   "cell_type": "markdown",
   "metadata": {
    "colab_type": "text",
    "id": "-1cpk1ECZto2"
   },
   "source": [
    "Wow. We went from 20 paths to 3 by using gig-cutoff. See how tree6 does."
   ]
  },
  {
   "cell_type": "code",
   "execution_count": 0,
   "metadata": {
    "colab": {
     "base_uri": "https://localhost:8080/",
     "height": 77
    },
    "colab_type": "code",
    "id": "9ruuZ7vNZ0nn",
    "outputId": "cfa2d77e-b722-4b41-d454-21a62c89e66e"
   },
   "outputs": [
    {
     "data": {
      "text/html": [
       "<div>\n",
       "<style scoped>\n",
       "    .dataframe tbody tr th:only-of-type {\n",
       "        vertical-align: middle;\n",
       "    }\n",
       "\n",
       "    .dataframe tbody tr th {\n",
       "        vertical-align: top;\n",
       "    }\n",
       "\n",
       "    .dataframe thead th {\n",
       "        text-align: right;\n",
       "    }\n",
       "</style>\n",
       "<table border=\"1\" class=\"dataframe\">\n",
       "  <thead>\n",
       "    <tr style=\"text-align: right;\">\n",
       "      <th></th>\n",
       "      <th>Loan_Status</th>\n",
       "      <th>pred_1</th>\n",
       "      <th>pred_1_type</th>\n",
       "      <th>pred_2</th>\n",
       "      <th>pred_2_type</th>\n",
       "      <th>tree_1</th>\n",
       "      <th>tree_1_type</th>\n",
       "      <th>tree_2</th>\n",
       "      <th>tree_2_type</th>\n",
       "      <th>tree_3</th>\n",
       "      <th>tree_3_type</th>\n",
       "      <th>tree_4</th>\n",
       "      <th>tree_4_type</th>\n",
       "      <th>tree_5</th>\n",
       "      <th>tree_5_type</th>\n",
       "      <th>tree_6</th>\n",
       "      <th>tree_6_type</th>\n",
       "    </tr>\n",
       "  </thead>\n",
       "  <tbody>\n",
       "    <tr>\n",
       "      <th>0</th>\n",
       "      <td>1</td>\n",
       "      <td>1</td>\n",
       "      <td>true_positive</td>\n",
       "      <td>1</td>\n",
       "      <td>true_positive</td>\n",
       "      <td>1</td>\n",
       "      <td>true_positive</td>\n",
       "      <td>1</td>\n",
       "      <td>true_positive</td>\n",
       "      <td>1</td>\n",
       "      <td>true_positive</td>\n",
       "      <td>1</td>\n",
       "      <td>true_positive</td>\n",
       "      <td>1</td>\n",
       "      <td>true_positive</td>\n",
       "      <td>1</td>\n",
       "      <td>true_positive</td>\n",
       "    </tr>\n",
       "  </tbody>\n",
       "</table>\n",
       "</div>"
      ],
      "text/plain": [
       "   Loan_Status  pred_1    pred_1_type  pred_2    pred_2_type  tree_1  \\\n",
       "0            1       1  true_positive       1  true_positive       1   \n",
       "\n",
       "     tree_1_type  tree_2    tree_2_type  tree_3    tree_3_type  tree_4  \\\n",
       "0  true_positive       1  true_positive       1  true_positive       1   \n",
       "\n",
       "     tree_4_type  tree_5    tree_5_type  tree_6    tree_6_type  \n",
       "0  true_positive       1  true_positive       1  true_positive  "
      ]
     },
     "execution_count": 30,
     "metadata": {
      "tags": []
     },
     "output_type": "execute_result"
    }
   ],
   "source": [
    "\n",
    "loan_results.head(1)"
   ]
  },
  {
   "cell_type": "code",
   "execution_count": 0,
   "metadata": {
    "colab": {
     "base_uri": "https://localhost:8080/",
     "height": 34
    },
    "colab_type": "code",
    "id": "LC8KtbZcaBZt",
    "outputId": "f9496294-0e6a-40de-9ec6-723a6deba413"
   },
   "outputs": [
    {
     "name": "stdout",
     "output_type": "stream",
     "text": [
      "(0.8110749185667753, 0.8776371308016878, 0.41286532385466024)\n"
     ]
    }
   ],
   "source": [
    "tree_6_types = loan_results['tree_6_type'].value_counts()\n",
    "print((accuracy(tree_6_types), f1(tree_6_types), informedness(tree_6_types)))\n"
   ]
  },
  {
   "cell_type": "markdown",
   "metadata": {
    "colab_type": "text",
    "id": "mfctNHKOagYs"
   },
   "source": [
    "Same as tree3 but with 4 fewer paths: 3 instead of 7."
   ]
  },
  {
   "cell_type": "markdown",
   "metadata": {
    "colab_type": "text",
    "id": "6mAOfwOo2Twz"
   },
   "source": [
    "<hr>\n",
    "<h1>\n",
    "3: Order the paths in a tree according to most used\n",
    "</h1>\n",
    "<p>\n",
    "<div class=h1_cell>\n",
    "<p>\n",
    "One of the cool things about building our own code for doing predictions with decision trees is that we can explore various options directly. Let's do that now. Look at this code in `tree_predictor`:\n",
    "<p>\n",
    "```\n",
    "for path in tree['paths']:\n",
    "```\n",
    "<p>\n",
    "It is doing a sequential and ordered enumeration of the paths in a tree. We can gain some efficiency by ordering the paths, right? If we can determine which paths are most likely to succeed, we can try those paths first. In practice, this means reordeing the list of dictionaries in tree['paths'] so most used path is first, and least used path is last. I'd like you to write some code that will reorder `tree['paths']` on this basis of most used.\n",
    "<p>\n",
    "I'll break it up into pieces. First, define a function `path_id` that accepts a row and a tree and returns the index of the path that succeeded. So if the first path in tree['paths'] succeeded, you would return its index 0.\n",
    "</div>"
   ]
  },
  {
   "cell_type": "code",
   "execution_count": 0,
   "metadata": {
    "colab": {},
    "colab_type": "code",
    "id": "0FclMVm12Tw0"
   },
   "outputs": [],
   "source": [
    "def path_id(row, tree):\n",
    "  \n",
    "    assert (len(tree['paths']) > 0), \"Tree must have at least one path\"\n",
    "    \n"
   ]
  },
  {
   "cell_type": "markdown",
   "metadata": {
    "colab_type": "text",
    "id": "JRAIJBF_2Tw2"
   },
   "source": [
    "<div class=h1_cell>\n",
    "\n",
    "Now apply the function against the loan table using tree1 and produce a series called `pcounts1`. Remember that tree1 has only 2 paths.\n",
    "</div>"
   ]
  },
  {
   "cell_type": "code",
   "execution_count": 0,
   "metadata": {
    "colab": {
     "base_uri": "https://localhost:8080/",
     "height": 67
    },
    "colab_type": "code",
    "id": "XyRe_pxg2Tw4",
    "outputId": "328aab45-7ce2-41e9-9436-ad1c488eab80"
   },
   "outputs": [
    {
     "data": {
      "text/plain": [
       "1    525\n",
       "0     89\n",
       "dtype: int64"
      ]
     },
     "execution_count": 33,
     "metadata": {
      "tags": []
     },
     "output_type": "execute_result"
    }
   ],
   "source": [
    "pcounts1 = loan_table.apply(lambda row: path_id(row, tree1), axis=1)\n",
    "\n",
    "pcounts1.value_counts()"
   ]
  },
  {
   "cell_type": "markdown",
   "metadata": {
    "colab_type": "text",
    "id": "B4MHw1kc2Tw_"
   },
   "source": [
    "<div class=h1_cell>\n",
    "Looks like path 1 (i.e., `tree1['paths'][1]`) is the big winner.\n",
    "  <p>\n",
    "    Let's see what tree2 looks like. It has 4 paths.\n",
    "</div>"
   ]
  },
  {
   "cell_type": "code",
   "execution_count": 0,
   "metadata": {
    "colab": {
     "base_uri": "https://localhost:8080/",
     "height": 101
    },
    "colab_type": "code",
    "id": "UUXnlh7a2Tw_",
    "outputId": "392244c2-4e5f-404e-ae82-ff4a46d075be"
   },
   "outputs": [
    {
     "data": {
      "text/plain": [
       "3    322\n",
       "2    203\n",
       "1     88\n",
       "0      1\n",
       "dtype: int64"
      ]
     },
     "execution_count": 45,
     "metadata": {
      "tags": []
     },
     "output_type": "execute_result"
    }
   ],
   "source": [
    "pcounts2 = loan_table.apply(lambda row: path_id(row, tree2), axis=1)\n",
    "\n",
    "pcounts2.value_counts()"
   ]
  },
  {
   "cell_type": "markdown",
   "metadata": {
    "colab_type": "text",
    "id": "jgJJhv_82TxD"
   },
   "source": [
    "<div class=h1_cell>\n",
    "  Looks like path 0 should definitely be tried last. In fact, it looks like the list is in exactly reverse order in terms of path usage.\n",
    "  <p>\n",
    "Let's look at tree3.\n",
    "</div>"
   ]
  },
  {
   "cell_type": "code",
   "execution_count": 0,
   "metadata": {
    "colab": {
     "base_uri": "https://localhost:8080/",
     "height": 151
    },
    "colab_type": "code",
    "id": "yhcZddAc2TxE",
    "outputId": "1d5dc07f-8c6c-4758-bfda-126548ef0c59"
   },
   "outputs": [
    {
     "data": {
      "text/plain": [
       "6    267\n",
       "4    187\n",
       "2     57\n",
       "5     55\n",
       "1     31\n",
       "3     16\n",
       "0      1\n",
       "dtype: int64"
      ]
     },
     "execution_count": 34,
     "metadata": {
      "tags": []
     },
     "output_type": "execute_result"
    }
   ],
   "source": [
    "pcounts3 = loan_table.apply(lambda row: path_id(row, tree3), axis=1)\n",
    "\n",
    "pcounts3.value_counts()"
   ]
  },
  {
   "cell_type": "markdown",
   "metadata": {
    "colab_type": "text",
    "id": "HJN-D18r2TxM"
   },
   "source": [
    "<div class=h1_cell>\n",
    "\n",
    "Let's use `tree3` (i.e., `pcounts3`) as our focus. Turn `pcounts3.value_counts()` into a dictionary.\n",
    "</div>"
   ]
  },
  {
   "cell_type": "code",
   "execution_count": 0,
   "metadata": {
    "colab": {
     "base_uri": "https://localhost:8080/",
     "height": 34
    },
    "colab_type": "code",
    "id": "lgC6Seuw2TxM",
    "outputId": "b87f0a94-5f73-493b-eba0-f400d7eba91c"
   },
   "outputs": [
    {
     "data": {
      "text/plain": [
       "{0: 1, 1: 31, 2: 57, 3: 16, 4: 187, 5: 55, 6: 267}"
      ]
     },
     "execution_count": 36,
     "metadata": {
      "tags": []
     },
     "output_type": "execute_result"
    }
   ],
   "source": [
    "\n",
    "pdict3"
   ]
  },
  {
   "cell_type": "markdown",
   "metadata": {
    "colab_type": "text",
    "id": "hCsgLqEG2TxS"
   },
   "source": [
    "<div class=h1_cell>\n",
    "\n",
    "Now turn the dictionary into a list of tuples. Be careful. Generators can bite you.\n",
    "</div>"
   ]
  },
  {
   "cell_type": "code",
   "execution_count": 0,
   "metadata": {
    "colab": {
     "base_uri": "https://localhost:8080/",
     "height": 34
    },
    "colab_type": "code",
    "id": "jhvdPWHV2TxT",
    "outputId": "6429e79d-cb57-4b79-9d17-1ac6f9de8ab5"
   },
   "outputs": [
    {
     "data": {
      "text/plain": [
       "[(6, 267), (4, 187), (2, 57), (5, 55), (1, 31), (3, 16), (0, 1)]"
      ]
     },
     "execution_count": 37,
     "metadata": {
      "tags": []
     },
     "output_type": "execute_result"
    }
   ],
   "source": [
    "\n",
    "plist3"
   ]
  },
  {
   "cell_type": "markdown",
   "metadata": {
    "colab_type": "text",
    "id": "qZpnH48B2TxZ"
   },
   "source": [
    "<div class=h1_cell>\n",
    "This is kind of odd. It appears that converting to a list of tuples has also sorted the list by value in reverse order. I cannot find any documentation that says this should happen. So I am not taking chances. I am going to go ahead and sort `plist3` in a separate function. You shoud too unless you can point me to documentation that says pulling tuples from a dictionary does sorting.\n",
    "</div>"
   ]
  },
  {
   "cell_type": "code",
   "execution_count": 0,
   "metadata": {
    "colab": {
     "base_uri": "https://localhost:8080/",
     "height": 34
    },
    "colab_type": "code",
    "id": "Pi7qLB0s2Txb",
    "outputId": "1c5e1220-fae1-4c08-b08b-8b7c701578af"
   },
   "outputs": [
    {
     "data": {
      "text/plain": [
       "[(6, 267), (4, 187), (2, 57), (5, 55), (1, 31), (3, 16), (0, 1)]"
      ]
     },
     "execution_count": 38,
     "metadata": {
      "tags": []
     },
     "output_type": "execute_result"
    }
   ],
   "source": [
    "\n",
    "plist3"
   ]
  },
  {
   "cell_type": "markdown",
   "metadata": {
    "colab_type": "text",
    "id": "p2haHa8n2Txe"
   },
   "source": [
    "<div class=h1_cell>\n",
    "Finally, build a new path list using plist3 as a guide.\n",
    "</div>"
   ]
  },
  {
   "cell_type": "code",
   "execution_count": 0,
   "metadata": {
    "colab": {
     "base_uri": "https://localhost:8080/",
     "height": 857
    },
    "colab_type": "code",
    "id": "tdW55urt2Txf",
    "outputId": "7e6ed259-33ff-48ff-dc6d-330d13c2de69"
   },
   "outputs": [
    {
     "data": {
      "text/plain": [
       "[{'conjunction': [('ch_bad_0',\n",
       "    <function library_w19_week4.build_pred.<locals>.<lambda>>),\n",
       "   ('pa_Semiurban_0',\n",
       "    <function library_w19_week4.build_pred.<locals>.<lambda>>),\n",
       "   ('dep_2_0', <function library_w19_week4.build_pred.<locals>.<lambda>>)],\n",
       "  'gig_score': 0.0021858669417437193,\n",
       "  'prediction': 1},\n",
       " {'conjunction': [('ch_bad_0',\n",
       "    <function library_w19_week4.build_pred.<locals>.<lambda>>),\n",
       "   ('pa_Semiurban_1',\n",
       "    <function library_w19_week4.build_pred.<locals>.<lambda>>),\n",
       "   ('lam_Average_0',\n",
       "    <function library_w19_week4.build_pred.<locals>.<lambda>>)],\n",
       "  'gig_score': 0.0052148575352743975,\n",
       "  'prediction': 1},\n",
       " {'conjunction': [('ch_bad_1',\n",
       "    <function library_w19_week4.build_pred.<locals>.<lambda>>),\n",
       "   ('apin_average_0',\n",
       "    <function library_w19_week4.build_pred.<locals>.<lambda>>),\n",
       "   ('pa_Urban_0', <function library_w19_week4.build_pred.<locals>.<lambda>>)],\n",
       "  'gig_score': 0.0014037192421204325,\n",
       "  'prediction': 0},\n",
       " {'conjunction': [('ch_bad_0',\n",
       "    <function library_w19_week4.build_pred.<locals>.<lambda>>),\n",
       "   ('pa_Semiurban_0',\n",
       "    <function library_w19_week4.build_pred.<locals>.<lambda>>),\n",
       "   ('dep_2_1', <function library_w19_week4.build_pred.<locals>.<lambda>>)],\n",
       "  'gig_score': 0.0021858669417437193,\n",
       "  'prediction': 1},\n",
       " {'conjunction': [('ch_bad_1',\n",
       "    <function library_w19_week4.build_pred.<locals>.<lambda>>),\n",
       "   ('apin_average_0',\n",
       "    <function library_w19_week4.build_pred.<locals>.<lambda>>),\n",
       "   ('pa_Urban_1', <function library_w19_week4.build_pred.<locals>.<lambda>>)],\n",
       "  'gig_score': 0.0014037192421204325,\n",
       "  'prediction': 0},\n",
       " {'conjunction': [('ch_bad_0',\n",
       "    <function library_w19_week4.build_pred.<locals>.<lambda>>),\n",
       "   ('pa_Semiurban_1',\n",
       "    <function library_w19_week4.build_pred.<locals>.<lambda>>),\n",
       "   ('lam_Average_1',\n",
       "    <function library_w19_week4.build_pred.<locals>.<lambda>>)],\n",
       "  'gig_score': 0.0052148575352743975,\n",
       "  'prediction': 1},\n",
       " {'conjunction': [('ch_bad_1',\n",
       "    <function library_w19_week4.build_pred.<locals>.<lambda>>),\n",
       "   ('apin_average_1',\n",
       "    <function library_w19_week4.build_pred.<locals>.<lambda>>)],\n",
       "  'gig_score': 0.019292789018833467,\n",
       "  'prediction': 1}]"
      ]
     },
     "execution_count": 39,
     "metadata": {
      "tags": []
     },
     "output_type": "execute_result"
    }
   ],
   "source": [
    "\n",
    "\n",
    "new_paths"
   ]
  },
  {
   "cell_type": "markdown",
   "metadata": {
    "colab_type": "text",
    "id": "1mOxu2TweS0P"
   },
   "source": [
    "I can now reset `tree3[\"paths\"]` to `new_paths`. Cool."
   ]
  },
  {
   "cell_type": "markdown",
   "metadata": {
    "colab_type": "text",
    "id": "sgub6M2D2Txj"
   },
   "source": [
    "<hr>\n",
    "<h2>\n",
    "Put it all together in a function\n",
    "</h2>\n",
    "<p>\n",
    "<div class=h1_cell>\n",
    "<p>\n",
    "Please write `reorder_paths` to produce a list of paths that is sorted on most frequently used. You can use the output of the function as:\n",
    "<p>\n",
    "<pre>\n",
    "    ordered_paths3 = reorder_paths(loan_table, tree3)\n",
    "    tree3['paths'] = ordered_paths3\n",
    "</pre>\n",
    "<p>\n",
    "I'll give you some examples below that you can test on - match my output. Note that I am printing some debugging info from inside my function. I am printing the sorted list I come up with. You do not have to print this but it is useful for debugging.\n",
    "</div>"
   ]
  },
  {
   "cell_type": "code",
   "execution_count": 0,
   "metadata": {
    "colab": {},
    "colab_type": "code",
    "id": "Pn0UCmmk2Txm"
   },
   "outputs": [],
   "source": [
    "def reorder_paths(table, tree):\n",
    "  \n"
   ]
  },
  {
   "cell_type": "code",
   "execution_count": 0,
   "metadata": {
    "colab": {
     "base_uri": "https://localhost:8080/",
     "height": 151
    },
    "colab_type": "code",
    "id": "1b1zM4a22Txq",
    "outputId": "70936bde-4178-4464-a9da-2d71ed9ee813"
   },
   "outputs": [
    {
     "data": {
      "text/plain": [
       "[{'conjunction': [('ch_bad_1',\n",
       "    <function library_w19_week4.build_pred.<locals>.<lambda>>)],\n",
       "  'gig_score': 0.12559965113188631,\n",
       "  'prediction': 0},\n",
       " {'conjunction': [('ch_bad_0',\n",
       "    <function library_w19_week4.build_pred.<locals>.<lambda>>)],\n",
       "  'gig_score': 0.12559965113188631,\n",
       "  'prediction': 1}]"
      ]
     },
     "execution_count": 41,
     "metadata": {
      "tags": []
     },
     "output_type": "execute_result"
    }
   ],
   "source": [
    "tree1['paths']  #before we reorder"
   ]
  },
  {
   "cell_type": "code",
   "execution_count": 0,
   "metadata": {
    "colab": {
     "base_uri": "https://localhost:8080/",
     "height": 168
    },
    "colab_type": "code",
    "id": "eglNNQDv2Txt",
    "outputId": "a3967dd4-c894-4703-d0ed-9f7fe695c89f"
   },
   "outputs": [
    {
     "name": "stdout",
     "output_type": "stream",
     "text": [
      "[(1, 525), (0, 89)]\n"
     ]
    },
    {
     "data": {
      "text/plain": [
       "[{'conjunction': [('ch_bad_0',\n",
       "    <function library_w19_week4.build_pred.<locals>.<lambda>>)],\n",
       "  'gig_score': 0.12559965113188631,\n",
       "  'prediction': 1},\n",
       " {'conjunction': [('ch_bad_1',\n",
       "    <function library_w19_week4.build_pred.<locals>.<lambda>>)],\n",
       "  'gig_score': 0.12559965113188631,\n",
       "  'prediction': 0}]"
      ]
     },
     "execution_count": 43,
     "metadata": {
      "tags": []
     },
     "output_type": "execute_result"
    }
   ],
   "source": [
    "reorder_paths(loan_table, tree1)  # First line printed is just for debugging"
   ]
  },
  {
   "cell_type": "code",
   "execution_count": 0,
   "metadata": {
    "colab": {
     "base_uri": "https://localhost:8080/",
     "height": 420
    },
    "colab_type": "code",
    "id": "3D0q0_s9gxxd",
    "outputId": "fd4061e9-6fe8-4744-a480-b848127b287e"
   },
   "outputs": [
    {
     "data": {
      "text/plain": [
       "[{'conjunction': [('ch_bad_1',\n",
       "    <function library_w19_week4.build_pred.<locals>.<lambda>>),\n",
       "   ('apin_average_1',\n",
       "    <function library_w19_week4.build_pred.<locals>.<lambda>>)],\n",
       "  'gig_score': 0.019292789018833467,\n",
       "  'prediction': 1},\n",
       " {'conjunction': [('ch_bad_1',\n",
       "    <function library_w19_week4.build_pred.<locals>.<lambda>>),\n",
       "   ('apin_average_0',\n",
       "    <function library_w19_week4.build_pred.<locals>.<lambda>>)],\n",
       "  'gig_score': 0.019292789018833467,\n",
       "  'prediction': 0},\n",
       " {'conjunction': [('ch_bad_0',\n",
       "    <function library_w19_week4.build_pred.<locals>.<lambda>>),\n",
       "   ('pa_Semiurban_1',\n",
       "    <function library_w19_week4.build_pred.<locals>.<lambda>>)],\n",
       "  'gig_score': 0.006462619030620731,\n",
       "  'prediction': 1},\n",
       " {'conjunction': [('ch_bad_0',\n",
       "    <function library_w19_week4.build_pred.<locals>.<lambda>>),\n",
       "   ('pa_Semiurban_0',\n",
       "    <function library_w19_week4.build_pred.<locals>.<lambda>>)],\n",
       "  'gig_score': 0.006462619030620731,\n",
       "  'prediction': 1}]"
      ]
     },
     "execution_count": 44,
     "metadata": {
      "tags": []
     },
     "output_type": "execute_result"
    }
   ],
   "source": [
    "tree2['paths']  #before we reorder"
   ]
  },
  {
   "cell_type": "code",
   "execution_count": 0,
   "metadata": {
    "colab": {
     "base_uri": "https://localhost:8080/",
     "height": 437
    },
    "colab_type": "code",
    "id": "LEGh7Tez2Txw",
    "outputId": "639bde55-8e09-463c-89c4-ba4556305315"
   },
   "outputs": [
    {
     "name": "stdout",
     "output_type": "stream",
     "text": [
      "[(3, 322), (2, 203), (1, 88), (0, 1)]\n"
     ]
    },
    {
     "data": {
      "text/plain": [
       "[{'conjunction': [('ch_bad_0',\n",
       "    <function library_w19_week4.build_pred.<locals>.<lambda>>),\n",
       "   ('pa_Semiurban_0',\n",
       "    <function library_w19_week4.build_pred.<locals>.<lambda>>)],\n",
       "  'gig_score': 0.006462619030620731,\n",
       "  'prediction': 1},\n",
       " {'conjunction': [('ch_bad_0',\n",
       "    <function library_w19_week4.build_pred.<locals>.<lambda>>),\n",
       "   ('pa_Semiurban_1',\n",
       "    <function library_w19_week4.build_pred.<locals>.<lambda>>)],\n",
       "  'gig_score': 0.006462619030620731,\n",
       "  'prediction': 1},\n",
       " {'conjunction': [('ch_bad_1',\n",
       "    <function library_w19_week4.build_pred.<locals>.<lambda>>),\n",
       "   ('apin_average_0',\n",
       "    <function library_w19_week4.build_pred.<locals>.<lambda>>)],\n",
       "  'gig_score': 0.019292789018833467,\n",
       "  'prediction': 0},\n",
       " {'conjunction': [('ch_bad_1',\n",
       "    <function library_w19_week4.build_pred.<locals>.<lambda>>),\n",
       "   ('apin_average_1',\n",
       "    <function library_w19_week4.build_pred.<locals>.<lambda>>)],\n",
       "  'gig_score': 0.019292789018833467,\n",
       "  'prediction': 1}]"
      ]
     },
     "execution_count": 45,
     "metadata": {
      "tags": []
     },
     "output_type": "execute_result"
    }
   ],
   "source": [
    "reorder_paths(loan_table, tree2)"
   ]
  },
  {
   "cell_type": "code",
   "execution_count": 0,
   "metadata": {
    "colab": {
     "base_uri": "https://localhost:8080/",
     "height": 874
    },
    "colab_type": "code",
    "id": "hkKC-xsP2Tx1",
    "outputId": "fc5a9830-435a-4616-f660-059667d9ecf6"
   },
   "outputs": [
    {
     "name": "stdout",
     "output_type": "stream",
     "text": [
      "[(6, 267), (4, 187), (2, 57), (5, 55), (1, 31), (3, 16), (0, 1)]\n"
     ]
    },
    {
     "data": {
      "text/plain": [
       "[{'conjunction': [('ch_bad_0',\n",
       "    <function library_w19_week4.build_pred.<locals>.<lambda>>),\n",
       "   ('pa_Semiurban_0',\n",
       "    <function library_w19_week4.build_pred.<locals>.<lambda>>),\n",
       "   ('dep_2_0', <function library_w19_week4.build_pred.<locals>.<lambda>>)],\n",
       "  'gig_score': 0.0021858669417437193,\n",
       "  'prediction': 1},\n",
       " {'conjunction': [('ch_bad_0',\n",
       "    <function library_w19_week4.build_pred.<locals>.<lambda>>),\n",
       "   ('pa_Semiurban_1',\n",
       "    <function library_w19_week4.build_pred.<locals>.<lambda>>),\n",
       "   ('lam_Average_0',\n",
       "    <function library_w19_week4.build_pred.<locals>.<lambda>>)],\n",
       "  'gig_score': 0.0052148575352743975,\n",
       "  'prediction': 1},\n",
       " {'conjunction': [('ch_bad_1',\n",
       "    <function library_w19_week4.build_pred.<locals>.<lambda>>),\n",
       "   ('apin_average_0',\n",
       "    <function library_w19_week4.build_pred.<locals>.<lambda>>),\n",
       "   ('pa_Urban_0', <function library_w19_week4.build_pred.<locals>.<lambda>>)],\n",
       "  'gig_score': 0.0014037192421204325,\n",
       "  'prediction': 0},\n",
       " {'conjunction': [('ch_bad_0',\n",
       "    <function library_w19_week4.build_pred.<locals>.<lambda>>),\n",
       "   ('pa_Semiurban_0',\n",
       "    <function library_w19_week4.build_pred.<locals>.<lambda>>),\n",
       "   ('dep_2_1', <function library_w19_week4.build_pred.<locals>.<lambda>>)],\n",
       "  'gig_score': 0.0021858669417437193,\n",
       "  'prediction': 1},\n",
       " {'conjunction': [('ch_bad_1',\n",
       "    <function library_w19_week4.build_pred.<locals>.<lambda>>),\n",
       "   ('apin_average_0',\n",
       "    <function library_w19_week4.build_pred.<locals>.<lambda>>),\n",
       "   ('pa_Urban_1', <function library_w19_week4.build_pred.<locals>.<lambda>>)],\n",
       "  'gig_score': 0.0014037192421204325,\n",
       "  'prediction': 0},\n",
       " {'conjunction': [('ch_bad_0',\n",
       "    <function library_w19_week4.build_pred.<locals>.<lambda>>),\n",
       "   ('pa_Semiurban_1',\n",
       "    <function library_w19_week4.build_pred.<locals>.<lambda>>),\n",
       "   ('lam_Average_1',\n",
       "    <function library_w19_week4.build_pred.<locals>.<lambda>>)],\n",
       "  'gig_score': 0.0052148575352743975,\n",
       "  'prediction': 1},\n",
       " {'conjunction': [('ch_bad_1',\n",
       "    <function library_w19_week4.build_pred.<locals>.<lambda>>),\n",
       "   ('apin_average_1',\n",
       "    <function library_w19_week4.build_pred.<locals>.<lambda>>)],\n",
       "  'gig_score': 0.019292789018833467,\n",
       "  'prediction': 1}]"
      ]
     },
     "execution_count": 46,
     "metadata": {
      "tags": []
     },
     "output_type": "execute_result"
    }
   ],
   "source": [
    "reorder_paths(loan_table, tree3)"
   ]
  },
  {
   "cell_type": "markdown",
   "metadata": {
    "colab_type": "text",
    "collapsed": true,
    "id": "ji-VXUTc2Tx4"
   },
   "source": [
    "<hr>\n",
    "<h1>Write it out</h1>\n",
    "<div class=h1_cell>\n",
    "\n",
    "We changed both loan_table and loan results. Write them out.\n",
    "</div>"
   ]
  },
  {
   "cell_type": "code",
   "execution_count": 0,
   "metadata": {
    "colab": {},
    "colab_type": "code",
    "id": "HZakuDB42Tx4"
   },
   "outputs": [],
   "source": [
    "with open('/content/gdrive/My Drive/class_tables/loan_table_week4.csv', 'w') as f:\n",
    "  loan_table.to_csv(f, encoding='utf-8', index=False)\n",
    "  \n",
    "with open('/content/gdrive/My Drive/class_tables/loan_results_week4.csv', 'w') as f:\n",
    "  loan_results.to_csv(f, encoding='utf-8', index=False)"
   ]
  },
  {
   "cell_type": "markdown",
   "metadata": {
    "colab_type": "text",
    "id": "eyLXfBnWhXb3"
   },
   "source": [
    "<hr>\n",
    "<h1>Don't forget library functions</h1>\n",
    "<div class=h1_cell>\n",
    "\n",
    "Add them to `library_w19_week4b.py`. You defined `library_w19_week4.py` in intro module. You are now defining a new version of it with functions from this notebook. I added the `b` to keep them clear.\n",
    "</div>"
   ]
  }
 ],
 "metadata": {
  "colab": {
   "collapsed_sections": [],
   "name": "tree_building_assignment_w19.ipynb",
   "provenance": [],
   "version": "0.3.2"
  },
  "kernelspec": {
   "display_name": "Python 3",
   "language": "python",
   "name": "python3"
  },
  "language_info": {
   "codemirror_mode": {
    "name": "ipython",
    "version": 3
   },
   "file_extension": ".py",
   "mimetype": "text/x-python",
   "name": "python",
   "nbconvert_exporter": "python",
   "pygments_lexer": "ipython3",
   "version": "3.7.1"
  }
 },
 "nbformat": 4,
 "nbformat_minor": 1
}
