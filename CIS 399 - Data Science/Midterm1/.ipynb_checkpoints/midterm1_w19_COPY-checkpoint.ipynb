{
 "cells": [
  {
   "cell_type": "markdown",
   "metadata": {
    "colab_type": "text",
    "id": "KNw3ZQHrnW7C"
   },
   "source": [
    "<h1>\n",
    "<center>\n",
    "Midterm 1\n",
    "</center>\n",
    "</h1>\n",
    "<div class=h1_cell>\n",
    "\n",
    "You will be working with a new table. It contains data from movies.\n",
    "  <p>\n",
    "Note I am trying something new to help you check your answers against mine. I am putting my answers into the text cell that introduces the question. Once you get your answer you can scroll up to see if matches my answer.\n",
    "</div>"
   ]
  },
  {
   "cell_type": "code",
   "execution_count": null,
   "metadata": {
    "colab": {
     "base_uri": "https://localhost:8080/",
     "height": 34
    },
    "colab_type": "code",
    "id": "xMcG-rA1nW7D",
    "outputId": "20d089f5-b554-480e-dd0b-571726a3ef72"
   },
   "outputs": [],
   "source": [
    "import pandas as pd\n",
    "import os\n",
    "\n",
    "url = 'https://docs.google.com/spreadsheets/d/e/2PACX-1vTST3CURFkC0lHSfR9mGzBAvCmLWl06kw9NSBC3UuD9hA1SlPjh807BRxfnvhq5hrFyRz5ZCTGrs7fr/pub?output=csv'\n",
    "movie_table = pd.read_csv(url)\n",
    "len(movie_table)"
   ]
  },
  {
   "cell_type": "code",
   "execution_count": 0,
   "metadata": {
    "colab": {},
    "colab_type": "code",
    "id": "Ep4klhp43yKD"
   },
   "outputs": [],
   "source": [
    "!rm library_w19_week4b.py"
   ]
  },
  {
   "cell_type": "code",
   "execution_count": null,
   "metadata": {
    "colab": {
     "base_uri": "https://localhost:8080/",
     "height": 106,
     "resources": {
      "http://localhost:8080/nbextensions/google.colab/files.js": {
       "data": "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",
       "headers": [
        [
         "content-type",
         "application/javascript"
        ]
       ],
       "ok": true,
       "status": 200,
       "status_text": ""
      }
     }
    },
    "colab_type": "code",
    "id": "Ymq7yHk4nW7M",
    "outputId": "922ad6fc-8b42-4fdf-d98b-1dcfda3508f4"
   },
   "outputs": [],
   "source": [
    "#load the lbirary from week 4\n",
    "from google.colab import files\n",
    "files.upload()"
   ]
  },
  {
   "cell_type": "code",
   "execution_count": 0,
   "metadata": {
    "colab": {
     "base_uri": "https://localhost:8080/",
     "height": 50
    },
    "colab_type": "code",
    "id": "iuYUFdX_3_FJ",
    "outputId": "e45bda91-3720-418b-dc54-2053353d69ab"
   },
   "outputs": [
    {
     "name": "stdout",
     "output_type": "stream",
     "text": [
      "accuracy\t build_pred\t build_tree_iter\t compute_prediction\t f1\t find_best_splitter\t generate_table\t gig\t gini\t \n",
      "informedness\t path_id\t predictor_case\t probabilities\t reorder_paths\t tree_predictor\t \n"
     ]
    }
   ],
   "source": [
    "from library_w19_week4b import *\n",
    "%who function"
   ]
  },
  {
   "cell_type": "markdown",
   "metadata": {
    "colab_type": "text",
    "id": "iYSJMcJsnW7c"
   },
   "source": [
    "<div class=h1_cell>\n",
    "\n",
    "Roughly 5000 rows x 29 columns.\n",
    "\n",
    "</div>"
   ]
  },
  {
   "cell_type": "markdown",
   "metadata": {
    "colab_type": "text",
    "id": "YzKyXI9inW7h"
   },
   "source": [
    "<div class=h1_cell>\n",
    "\n",
    "Let's drop columns we will not be using in this practice midterm.\n",
    "\n",
    "</div>"
   ]
  },
  {
   "cell_type": "code",
   "execution_count": 0,
   "metadata": {
    "colab": {},
    "colab_type": "code",
    "id": "2yxgStHInW7j"
   },
   "outputs": [],
   "source": [
    "drop_list = [\n",
    "     'director_name',\n",
    "     'num_critic_for_reviews',\n",
    "     'duration',\n",
    "     'director_facebook_likes',\n",
    "     'actor_3_facebook_likes',\n",
    "     'actor_2_name',\n",
    "     'actor_1_facebook_likes',\n",
    "     'gross',\n",
    "     'actor_1_name',\n",
    "     'movie_title',\n",
    "     'num_voted_users',\n",
    "     'cast_total_facebook_likes',\n",
    "     'actor_3_name',\n",
    "     'facenumber_in_poster',\n",
    "     'plot_keywords',\n",
    "     'movie_imdb_link',\n",
    "     'num_user_for_reviews',\n",
    "     'language',\n",
    "     'content_rating',\n",
    "     'title_year',\n",
    "     'actor_2_facebook_likes',\n",
    "     'aspect_ratio',\n",
    "     'movie_facebook_likes'\n",
    "]"
   ]
  },
  {
   "cell_type": "code",
   "execution_count": 0,
   "metadata": {
    "colab": {
     "base_uri": "https://localhost:8080/",
     "height": 195
    },
    "colab_type": "code",
    "id": "7f7XphKFnW7m",
    "outputId": "59418f2b-484d-41aa-adb3-5390ee462451"
   },
   "outputs": [
    {
     "data": {
      "text/html": [
       "<div>\n",
       "<style scoped>\n",
       "    .dataframe tbody tr th:only-of-type {\n",
       "        vertical-align: middle;\n",
       "    }\n",
       "\n",
       "    .dataframe tbody tr th {\n",
       "        vertical-align: top;\n",
       "    }\n",
       "\n",
       "    .dataframe thead th {\n",
       "        text-align: right;\n",
       "    }\n",
       "</style>\n",
       "<table border=\"1\" class=\"dataframe\">\n",
       "  <thead>\n",
       "    <tr style=\"text-align: right;\">\n",
       "      <th></th>\n",
       "      <th>color</th>\n",
       "      <th>genres</th>\n",
       "      <th>country</th>\n",
       "      <th>budget</th>\n",
       "      <th>imdb_score</th>\n",
       "    </tr>\n",
       "  </thead>\n",
       "  <tbody>\n",
       "    <tr>\n",
       "      <th>0</th>\n",
       "      <td>Color</td>\n",
       "      <td>Action|Adventure|Fantasy|Sci-Fi</td>\n",
       "      <td>USA</td>\n",
       "      <td>237000000.0</td>\n",
       "      <td>7.9</td>\n",
       "    </tr>\n",
       "    <tr>\n",
       "      <th>1</th>\n",
       "      <td>Color</td>\n",
       "      <td>Action|Adventure|Fantasy</td>\n",
       "      <td>USA</td>\n",
       "      <td>300000000.0</td>\n",
       "      <td>7.1</td>\n",
       "    </tr>\n",
       "    <tr>\n",
       "      <th>2</th>\n",
       "      <td>Color</td>\n",
       "      <td>Action|Adventure|Thriller</td>\n",
       "      <td>UK</td>\n",
       "      <td>245000000.0</td>\n",
       "      <td>6.8</td>\n",
       "    </tr>\n",
       "    <tr>\n",
       "      <th>3</th>\n",
       "      <td>Color</td>\n",
       "      <td>Action|Thriller</td>\n",
       "      <td>USA</td>\n",
       "      <td>250000000.0</td>\n",
       "      <td>8.5</td>\n",
       "    </tr>\n",
       "    <tr>\n",
       "      <th>4</th>\n",
       "      <td>NaN</td>\n",
       "      <td>Documentary</td>\n",
       "      <td>NaN</td>\n",
       "      <td>NaN</td>\n",
       "      <td>7.1</td>\n",
       "    </tr>\n",
       "  </tbody>\n",
       "</table>\n",
       "</div>"
      ],
      "text/plain": [
       "   color                           genres country       budget  imdb_score\n",
       "0  Color  Action|Adventure|Fantasy|Sci-Fi     USA  237000000.0         7.9\n",
       "1  Color         Action|Adventure|Fantasy     USA  300000000.0         7.1\n",
       "2  Color        Action|Adventure|Thriller      UK  245000000.0         6.8\n",
       "3  Color                  Action|Thriller     USA  250000000.0         8.5\n",
       "4    NaN                      Documentary     NaN          NaN         7.1"
      ]
     },
     "execution_count": 6,
     "metadata": {
      "tags": []
     },
     "output_type": "execute_result"
    }
   ],
   "source": [
    "movie_table = movie_table.drop(drop_list, axis=1)\n",
    "movie_table.head()"
   ]
  },
  {
   "cell_type": "code",
   "execution_count": 0,
   "metadata": {
    "colab": {},
    "colab_type": "code",
    "id": "SDgxSMYfnW7R",
    "scrolled": true
   },
   "outputs": [],
   "source": [
    "pd.set_option('display.max_columns', None)\n"
   ]
  },
  {
   "cell_type": "code",
   "execution_count": 0,
   "metadata": {
    "colab": {
     "base_uri": "https://localhost:8080/",
     "height": 373
    },
    "colab_type": "code",
    "id": "uxQQ3S24nW7X",
    "outputId": "aba94246-b5ab-404e-c450-08fbc3c7a64a"
   },
   "outputs": [
    {
     "data": {
      "text/html": [
       "<div>\n",
       "<style scoped>\n",
       "    .dataframe tbody tr th:only-of-type {\n",
       "        vertical-align: middle;\n",
       "    }\n",
       "\n",
       "    .dataframe tbody tr th {\n",
       "        vertical-align: top;\n",
       "    }\n",
       "\n",
       "    .dataframe thead th {\n",
       "        text-align: right;\n",
       "    }\n",
       "</style>\n",
       "<table border=\"1\" class=\"dataframe\">\n",
       "  <thead>\n",
       "    <tr style=\"text-align: right;\">\n",
       "      <th></th>\n",
       "      <th>color</th>\n",
       "      <th>genres</th>\n",
       "      <th>country</th>\n",
       "      <th>budget</th>\n",
       "      <th>imdb_score</th>\n",
       "    </tr>\n",
       "  </thead>\n",
       "  <tbody>\n",
       "    <tr>\n",
       "      <th>count</th>\n",
       "      <td>5024</td>\n",
       "      <td>5043</td>\n",
       "      <td>5038</td>\n",
       "      <td>4.551000e+03</td>\n",
       "      <td>5043.000000</td>\n",
       "    </tr>\n",
       "    <tr>\n",
       "      <th>unique</th>\n",
       "      <td>2</td>\n",
       "      <td>914</td>\n",
       "      <td>65</td>\n",
       "      <td>NaN</td>\n",
       "      <td>NaN</td>\n",
       "    </tr>\n",
       "    <tr>\n",
       "      <th>top</th>\n",
       "      <td>Color</td>\n",
       "      <td>Drama</td>\n",
       "      <td>USA</td>\n",
       "      <td>NaN</td>\n",
       "      <td>NaN</td>\n",
       "    </tr>\n",
       "    <tr>\n",
       "      <th>freq</th>\n",
       "      <td>4815</td>\n",
       "      <td>236</td>\n",
       "      <td>3807</td>\n",
       "      <td>NaN</td>\n",
       "      <td>NaN</td>\n",
       "    </tr>\n",
       "    <tr>\n",
       "      <th>mean</th>\n",
       "      <td>NaN</td>\n",
       "      <td>NaN</td>\n",
       "      <td>NaN</td>\n",
       "      <td>3.975262e+07</td>\n",
       "      <td>6.442138</td>\n",
       "    </tr>\n",
       "    <tr>\n",
       "      <th>std</th>\n",
       "      <td>NaN</td>\n",
       "      <td>NaN</td>\n",
       "      <td>NaN</td>\n",
       "      <td>2.061149e+08</td>\n",
       "      <td>1.125116</td>\n",
       "    </tr>\n",
       "    <tr>\n",
       "      <th>min</th>\n",
       "      <td>NaN</td>\n",
       "      <td>NaN</td>\n",
       "      <td>NaN</td>\n",
       "      <td>2.180000e+02</td>\n",
       "      <td>1.600000</td>\n",
       "    </tr>\n",
       "    <tr>\n",
       "      <th>25%</th>\n",
       "      <td>NaN</td>\n",
       "      <td>NaN</td>\n",
       "      <td>NaN</td>\n",
       "      <td>6.000000e+06</td>\n",
       "      <td>5.800000</td>\n",
       "    </tr>\n",
       "    <tr>\n",
       "      <th>50%</th>\n",
       "      <td>NaN</td>\n",
       "      <td>NaN</td>\n",
       "      <td>NaN</td>\n",
       "      <td>2.000000e+07</td>\n",
       "      <td>6.600000</td>\n",
       "    </tr>\n",
       "    <tr>\n",
       "      <th>75%</th>\n",
       "      <td>NaN</td>\n",
       "      <td>NaN</td>\n",
       "      <td>NaN</td>\n",
       "      <td>4.500000e+07</td>\n",
       "      <td>7.200000</td>\n",
       "    </tr>\n",
       "    <tr>\n",
       "      <th>max</th>\n",
       "      <td>NaN</td>\n",
       "      <td>NaN</td>\n",
       "      <td>NaN</td>\n",
       "      <td>1.221550e+10</td>\n",
       "      <td>9.500000</td>\n",
       "    </tr>\n",
       "  </tbody>\n",
       "</table>\n",
       "</div>"
      ],
      "text/plain": [
       "        color genres country        budget   imdb_score\n",
       "count    5024   5043    5038  4.551000e+03  5043.000000\n",
       "unique      2    914      65           NaN          NaN\n",
       "top     Color  Drama     USA           NaN          NaN\n",
       "freq     4815    236    3807           NaN          NaN\n",
       "mean      NaN    NaN     NaN  3.975262e+07     6.442138\n",
       "std       NaN    NaN     NaN  2.061149e+08     1.125116\n",
       "min       NaN    NaN     NaN  2.180000e+02     1.600000\n",
       "25%       NaN    NaN     NaN  6.000000e+06     5.800000\n",
       "50%       NaN    NaN     NaN  2.000000e+07     6.600000\n",
       "75%       NaN    NaN     NaN  4.500000e+07     7.200000\n",
       "max       NaN    NaN     NaN  1.221550e+10     9.500000"
      ]
     },
     "execution_count": 8,
     "metadata": {
      "tags": []
     },
     "output_type": "execute_result"
    }
   ],
   "source": [
    "movie_table.describe(include='all')"
   ]
  },
  {
   "cell_type": "markdown",
   "metadata": {
    "colab_type": "text",
    "collapsed": true,
    "id": "nU4YPvy4nW7r"
   },
   "source": [
    "<hr>\n",
    "<h1>\n",
    "1: Produce new target column (10 points)\n",
    "</h1>\n",
    "<p>\n",
    "<div class=h1_cell>\n",
    "<p>\n",
    "I'd like a new binary column that will act as our target. Call the new column `winner`. Set its value as follows:\n",
    "if `imdb_score >= 7.5` the value is `1` else `0`.\n",
    "<p>\n",
    "</div>"
   ]
  },
  {
   "cell_type": "markdown",
   "metadata": {
    "colab_type": "text",
    "id": "grVms5PdjyTG"
   },
   "source": [
    "<hr>\n",
    "<center><h3>My output to use as target</h3></center>\n",
    "<DIV ALIGN=RIGHT>\n",
    "<img src='https://www.dropbox.com/s/zuqw01czvet00jv/q1.png?raw=1'>\n",
    "  </div>\n",
    "<hr>"
   ]
  },
  {
   "cell_type": "code",
   "execution_count": 0,
   "metadata": {
    "colab": {},
    "colab_type": "code",
    "id": "Zekjylx9nW7t",
    "scrolled": true
   },
   "outputs": [],
   "source": [
    "#Your code here\n",
    "\n"
   ]
  },
  {
   "cell_type": "code",
   "execution_count": 0,
   "metadata": {
    "colab": {
     "base_uri": "https://localhost:8080/",
     "height": 195
    },
    "colab_type": "code",
    "id": "ZaEf4qJdnW7y",
    "outputId": "689f8e2c-3574-4007-f7df-9e04d956bec6"
   },
   "outputs": [
    {
     "data": {
      "text/html": [
       "<div>\n",
       "<style scoped>\n",
       "    .dataframe tbody tr th:only-of-type {\n",
       "        vertical-align: middle;\n",
       "    }\n",
       "\n",
       "    .dataframe tbody tr th {\n",
       "        vertical-align: top;\n",
       "    }\n",
       "\n",
       "    .dataframe thead th {\n",
       "        text-align: right;\n",
       "    }\n",
       "</style>\n",
       "<table border=\"1\" class=\"dataframe\">\n",
       "  <thead>\n",
       "    <tr style=\"text-align: right;\">\n",
       "      <th></th>\n",
       "      <th>color</th>\n",
       "      <th>genres</th>\n",
       "      <th>country</th>\n",
       "      <th>budget</th>\n",
       "      <th>imdb_score</th>\n",
       "      <th>winner</th>\n",
       "    </tr>\n",
       "  </thead>\n",
       "  <tbody>\n",
       "    <tr>\n",
       "      <th>0</th>\n",
       "      <td>Color</td>\n",
       "      <td>Action|Adventure|Fantasy|Sci-Fi</td>\n",
       "      <td>USA</td>\n",
       "      <td>237000000.0</td>\n",
       "      <td>7.9</td>\n",
       "      <td>1</td>\n",
       "    </tr>\n",
       "    <tr>\n",
       "      <th>1</th>\n",
       "      <td>Color</td>\n",
       "      <td>Action|Adventure|Fantasy</td>\n",
       "      <td>USA</td>\n",
       "      <td>300000000.0</td>\n",
       "      <td>7.1</td>\n",
       "      <td>0</td>\n",
       "    </tr>\n",
       "    <tr>\n",
       "      <th>2</th>\n",
       "      <td>Color</td>\n",
       "      <td>Action|Adventure|Thriller</td>\n",
       "      <td>UK</td>\n",
       "      <td>245000000.0</td>\n",
       "      <td>6.8</td>\n",
       "      <td>0</td>\n",
       "    </tr>\n",
       "    <tr>\n",
       "      <th>3</th>\n",
       "      <td>Color</td>\n",
       "      <td>Action|Thriller</td>\n",
       "      <td>USA</td>\n",
       "      <td>250000000.0</td>\n",
       "      <td>8.5</td>\n",
       "      <td>1</td>\n",
       "    </tr>\n",
       "    <tr>\n",
       "      <th>4</th>\n",
       "      <td>NaN</td>\n",
       "      <td>Documentary</td>\n",
       "      <td>NaN</td>\n",
       "      <td>NaN</td>\n",
       "      <td>7.1</td>\n",
       "      <td>0</td>\n",
       "    </tr>\n",
       "  </tbody>\n",
       "</table>\n",
       "</div>"
      ],
      "text/plain": [
       "   color                           genres country       budget  imdb_score  \\\n",
       "0  Color  Action|Adventure|Fantasy|Sci-Fi     USA  237000000.0         7.9   \n",
       "1  Color         Action|Adventure|Fantasy     USA  300000000.0         7.1   \n",
       "2  Color        Action|Adventure|Thriller      UK  245000000.0         6.8   \n",
       "3  Color                  Action|Thriller     USA  250000000.0         8.5   \n",
       "4    NaN                      Documentary     NaN          NaN         7.1   \n",
       "\n",
       "   winner  \n",
       "0       1  \n",
       "1       0  \n",
       "2       0  \n",
       "3       1  \n",
       "4       0  "
      ]
     },
     "execution_count": 11,
     "metadata": {
      "tags": []
     },
     "output_type": "execute_result"
    }
   ],
   "source": [
    "movie_table.head()  #check your answer against above"
   ]
  },
  {
   "cell_type": "markdown",
   "metadata": {
    "colab_type": "text",
    "id": "RfRH54XbnW73"
   },
   "source": [
    "<hr>\n",
    "<h1>\n",
    "2: Bin `budget` then one hot encode (20 points)\n",
    "</h1>\n",
    "<p>\n",
    "<div class=h1_cell>\n",
    "<p>\n",
    "Use bins ['low', 'medium', 'high'].\n",
    "<p>\n",
    "  <b>Important</b>: produce equal sized bins in terms of rows in those bins. `qcut` will do this for you.\n",
    "<p>\n",
    "</div>"
   ]
  },
  {
   "cell_type": "markdown",
   "metadata": {
    "colab_type": "text",
    "id": "xyAbry0jlSbd"
   },
   "source": [
    "<hr>\n",
    "<center><h3>My output to use as target</h3></center>\n",
    "<DIV ALIGN=RIGHT>\n",
    "<img src='https://www.dropbox.com/s/vr78cq4fo9z2tem/q2.png?raw=1'>\n",
    "  </div>\n",
    "<hr>"
   ]
  },
  {
   "cell_type": "code",
   "execution_count": 0,
   "metadata": {
    "colab": {},
    "colab_type": "code",
    "id": "aacyowSanW73"
   },
   "outputs": [],
   "source": [
    "#your binning code here - remember the qcut\n",
    "\n"
   ]
  },
  {
   "cell_type": "code",
   "execution_count": 0,
   "metadata": {
    "colab": {
     "base_uri": "https://localhost:8080/",
     "height": 195
    },
    "colab_type": "code",
    "id": "pQ9E60MSnW78",
    "outputId": "4f871c6f-4411-4cf3-b948-abaf65551787",
    "scrolled": true
   },
   "outputs": [
    {
     "data": {
      "text/html": [
       "<div>\n",
       "<style scoped>\n",
       "    .dataframe tbody tr th:only-of-type {\n",
       "        vertical-align: middle;\n",
       "    }\n",
       "\n",
       "    .dataframe tbody tr th {\n",
       "        vertical-align: top;\n",
       "    }\n",
       "\n",
       "    .dataframe thead th {\n",
       "        text-align: right;\n",
       "    }\n",
       "</style>\n",
       "<table border=\"1\" class=\"dataframe\">\n",
       "  <thead>\n",
       "    <tr style=\"text-align: right;\">\n",
       "      <th></th>\n",
       "      <th>color</th>\n",
       "      <th>genres</th>\n",
       "      <th>country</th>\n",
       "      <th>budget</th>\n",
       "      <th>imdb_score</th>\n",
       "      <th>winner</th>\n",
       "      <th>budget_bin</th>\n",
       "    </tr>\n",
       "  </thead>\n",
       "  <tbody>\n",
       "    <tr>\n",
       "      <th>0</th>\n",
       "      <td>Color</td>\n",
       "      <td>Action|Adventure|Fantasy|Sci-Fi</td>\n",
       "      <td>USA</td>\n",
       "      <td>237000000.0</td>\n",
       "      <td>7.9</td>\n",
       "      <td>1</td>\n",
       "      <td>high</td>\n",
       "    </tr>\n",
       "    <tr>\n",
       "      <th>1</th>\n",
       "      <td>Color</td>\n",
       "      <td>Action|Adventure|Fantasy</td>\n",
       "      <td>USA</td>\n",
       "      <td>300000000.0</td>\n",
       "      <td>7.1</td>\n",
       "      <td>0</td>\n",
       "      <td>high</td>\n",
       "    </tr>\n",
       "    <tr>\n",
       "      <th>2</th>\n",
       "      <td>Color</td>\n",
       "      <td>Action|Adventure|Thriller</td>\n",
       "      <td>UK</td>\n",
       "      <td>245000000.0</td>\n",
       "      <td>6.8</td>\n",
       "      <td>0</td>\n",
       "      <td>high</td>\n",
       "    </tr>\n",
       "    <tr>\n",
       "      <th>3</th>\n",
       "      <td>Color</td>\n",
       "      <td>Action|Thriller</td>\n",
       "      <td>USA</td>\n",
       "      <td>250000000.0</td>\n",
       "      <td>8.5</td>\n",
       "      <td>1</td>\n",
       "      <td>high</td>\n",
       "    </tr>\n",
       "    <tr>\n",
       "      <th>4</th>\n",
       "      <td>NaN</td>\n",
       "      <td>Documentary</td>\n",
       "      <td>NaN</td>\n",
       "      <td>NaN</td>\n",
       "      <td>7.1</td>\n",
       "      <td>0</td>\n",
       "      <td>NaN</td>\n",
       "    </tr>\n",
       "  </tbody>\n",
       "</table>\n",
       "</div>"
      ],
      "text/plain": [
       "   color                           genres country       budget  imdb_score  \\\n",
       "0  Color  Action|Adventure|Fantasy|Sci-Fi     USA  237000000.0         7.9   \n",
       "1  Color         Action|Adventure|Fantasy     USA  300000000.0         7.1   \n",
       "2  Color        Action|Adventure|Thriller      UK  245000000.0         6.8   \n",
       "3  Color                  Action|Thriller     USA  250000000.0         8.5   \n",
       "4    NaN                      Documentary     NaN          NaN         7.1   \n",
       "\n",
       "   winner budget_bin  \n",
       "0       1       high  \n",
       "1       0       high  \n",
       "2       0       high  \n",
       "3       1       high  \n",
       "4       0        NaN  "
      ]
     },
     "execution_count": 13,
     "metadata": {
      "tags": []
     },
     "output_type": "execute_result"
    }
   ],
   "source": [
    "movie_table.head()  #check against above budget_bin column"
   ]
  },
  {
   "cell_type": "markdown",
   "metadata": {
    "colab_type": "text",
    "id": "6WCE5gtPpMnk"
   },
   "source": [
    "Get value counts and compare with mine:\n",
    "<pre>\n",
    "low       1592\n",
    "high      1508\n",
    "medium    1451\n",
    "</pre>"
   ]
  },
  {
   "cell_type": "code",
   "execution_count": 0,
   "metadata": {
    "colab": {
     "base_uri": "https://localhost:8080/",
     "height": 84
    },
    "colab_type": "code",
    "id": "PFjAJ7U6nW8A",
    "outputId": "82a73c7a-8094-4718-a177-0213df1829d9"
   },
   "outputs": [
    {
     "data": {
      "text/plain": [
       "low       1592\n",
       "high      1508\n",
       "medium    1451\n",
       "Name: budget_bin, dtype: int64"
      ]
     },
     "execution_count": 14,
     "metadata": {
      "tags": []
     },
     "output_type": "execute_result"
    }
   ],
   "source": [
    "#compute value counts and compare with above\n",
    "\n",
    "movie_table['budget_bin'].value_counts()"
   ]
  },
  {
   "cell_type": "markdown",
   "metadata": {
    "colab_type": "text",
    "id": "RR8Gz4d7nW8F"
   },
   "source": [
    "Now ohe the `budget_bin` column using `budget` as the prefix. Check against above."
   ]
  },
  {
   "cell_type": "code",
   "execution_count": 0,
   "metadata": {
    "colab": {},
    "colab_type": "code",
    "id": "0kXiSBepnW8I"
   },
   "outputs": [],
   "source": [
    "#your code here\n"
   ]
  },
  {
   "cell_type": "code",
   "execution_count": 0,
   "metadata": {
    "colab": {
     "base_uri": "https://localhost:8080/",
     "height": 195
    },
    "colab_type": "code",
    "id": "7JpSQs7snjtW",
    "outputId": "85c8abcd-8ab8-43e6-b1e0-6b994782387a"
   },
   "outputs": [
    {
     "data": {
      "text/html": [
       "<div>\n",
       "<style scoped>\n",
       "    .dataframe tbody tr th:only-of-type {\n",
       "        vertical-align: middle;\n",
       "    }\n",
       "\n",
       "    .dataframe tbody tr th {\n",
       "        vertical-align: top;\n",
       "    }\n",
       "\n",
       "    .dataframe thead th {\n",
       "        text-align: right;\n",
       "    }\n",
       "</style>\n",
       "<table border=\"1\" class=\"dataframe\">\n",
       "  <thead>\n",
       "    <tr style=\"text-align: right;\">\n",
       "      <th></th>\n",
       "      <th>color</th>\n",
       "      <th>genres</th>\n",
       "      <th>country</th>\n",
       "      <th>budget</th>\n",
       "      <th>imdb_score</th>\n",
       "      <th>winner</th>\n",
       "      <th>budget_bin</th>\n",
       "      <th>budget_low</th>\n",
       "      <th>budget_medium</th>\n",
       "      <th>budget_high</th>\n",
       "      <th>budget_nan</th>\n",
       "    </tr>\n",
       "  </thead>\n",
       "  <tbody>\n",
       "    <tr>\n",
       "      <th>0</th>\n",
       "      <td>Color</td>\n",
       "      <td>Action|Adventure|Fantasy|Sci-Fi</td>\n",
       "      <td>USA</td>\n",
       "      <td>237000000.0</td>\n",
       "      <td>7.9</td>\n",
       "      <td>1</td>\n",
       "      <td>high</td>\n",
       "      <td>0</td>\n",
       "      <td>0</td>\n",
       "      <td>1</td>\n",
       "      <td>0</td>\n",
       "    </tr>\n",
       "    <tr>\n",
       "      <th>1</th>\n",
       "      <td>Color</td>\n",
       "      <td>Action|Adventure|Fantasy</td>\n",
       "      <td>USA</td>\n",
       "      <td>300000000.0</td>\n",
       "      <td>7.1</td>\n",
       "      <td>0</td>\n",
       "      <td>high</td>\n",
       "      <td>0</td>\n",
       "      <td>0</td>\n",
       "      <td>1</td>\n",
       "      <td>0</td>\n",
       "    </tr>\n",
       "    <tr>\n",
       "      <th>2</th>\n",
       "      <td>Color</td>\n",
       "      <td>Action|Adventure|Thriller</td>\n",
       "      <td>UK</td>\n",
       "      <td>245000000.0</td>\n",
       "      <td>6.8</td>\n",
       "      <td>0</td>\n",
       "      <td>high</td>\n",
       "      <td>0</td>\n",
       "      <td>0</td>\n",
       "      <td>1</td>\n",
       "      <td>0</td>\n",
       "    </tr>\n",
       "    <tr>\n",
       "      <th>3</th>\n",
       "      <td>Color</td>\n",
       "      <td>Action|Thriller</td>\n",
       "      <td>USA</td>\n",
       "      <td>250000000.0</td>\n",
       "      <td>8.5</td>\n",
       "      <td>1</td>\n",
       "      <td>high</td>\n",
       "      <td>0</td>\n",
       "      <td>0</td>\n",
       "      <td>1</td>\n",
       "      <td>0</td>\n",
       "    </tr>\n",
       "    <tr>\n",
       "      <th>4</th>\n",
       "      <td>NaN</td>\n",
       "      <td>Documentary</td>\n",
       "      <td>NaN</td>\n",
       "      <td>NaN</td>\n",
       "      <td>7.1</td>\n",
       "      <td>0</td>\n",
       "      <td>NaN</td>\n",
       "      <td>0</td>\n",
       "      <td>0</td>\n",
       "      <td>0</td>\n",
       "      <td>1</td>\n",
       "    </tr>\n",
       "  </tbody>\n",
       "</table>\n",
       "</div>"
      ],
      "text/plain": [
       "   color                           genres country       budget  imdb_score  \\\n",
       "0  Color  Action|Adventure|Fantasy|Sci-Fi     USA  237000000.0         7.9   \n",
       "1  Color         Action|Adventure|Fantasy     USA  300000000.0         7.1   \n",
       "2  Color        Action|Adventure|Thriller      UK  245000000.0         6.8   \n",
       "3  Color                  Action|Thriller     USA  250000000.0         8.5   \n",
       "4    NaN                      Documentary     NaN          NaN         7.1   \n",
       "\n",
       "   winner budget_bin  budget_low  budget_medium  budget_high  budget_nan  \n",
       "0       1       high           0              0            1           0  \n",
       "1       0       high           0              0            1           0  \n",
       "2       0       high           0              0            1           0  \n",
       "3       1       high           0              0            1           0  \n",
       "4       0        NaN           0              0            0           1  "
      ]
     },
     "execution_count": 16,
     "metadata": {
      "tags": []
     },
     "output_type": "execute_result"
    }
   ],
   "source": [
    "movie_table.head()  #check against above"
   ]
  },
  {
   "cell_type": "markdown",
   "metadata": {
    "colab_type": "text",
    "id": "S1PjmhrSnW8N"
   },
   "source": [
    "<hr>\n",
    "<h1>\n",
    "3: Create a new column for thrillers (5 points)\n",
    "</h1>\n",
    "<p>\n",
    "<div class=h1_cell>\n",
    "<p>\n",
    "Create a new colum `thriller`. Its value is 1 if the `genres` column contains the word Thriller else 0.\n",
    "<p>\n",
    "</div>"
   ]
  },
  {
   "cell_type": "markdown",
   "metadata": {
    "colab_type": "text",
    "id": "E3AIQDL3mfpK"
   },
   "source": [
    "<hr>\n",
    "<center><h3>My output to use as target</h3></center>\n",
    "<DIV ALIGN=RIGHT>\n",
    "<img src='https://www.dropbox.com/s/if2vpz0o1pa9bo6/q3.png?raw=1'>\n",
    "  </div>\n",
    "<hr>\n"
   ]
  },
  {
   "cell_type": "code",
   "execution_count": 0,
   "metadata": {
    "colab": {},
    "colab_type": "code",
    "id": "GPtFNVRknW8P"
   },
   "outputs": [],
   "source": [
    "#your code goes here\n",
    "\n"
   ]
  },
  {
   "cell_type": "code",
   "execution_count": 0,
   "metadata": {
    "colab": {
     "base_uri": "https://localhost:8080/",
     "height": 195
    },
    "colab_type": "code",
    "id": "lHA-7hkhnW8S",
    "outputId": "b44d8fcb-9031-4771-fdda-327817ce33f0",
    "scrolled": false
   },
   "outputs": [
    {
     "data": {
      "text/html": [
       "<div>\n",
       "<style scoped>\n",
       "    .dataframe tbody tr th:only-of-type {\n",
       "        vertical-align: middle;\n",
       "    }\n",
       "\n",
       "    .dataframe tbody tr th {\n",
       "        vertical-align: top;\n",
       "    }\n",
       "\n",
       "    .dataframe thead th {\n",
       "        text-align: right;\n",
       "    }\n",
       "</style>\n",
       "<table border=\"1\" class=\"dataframe\">\n",
       "  <thead>\n",
       "    <tr style=\"text-align: right;\">\n",
       "      <th></th>\n",
       "      <th>color</th>\n",
       "      <th>genres</th>\n",
       "      <th>country</th>\n",
       "      <th>budget</th>\n",
       "      <th>imdb_score</th>\n",
       "      <th>winner</th>\n",
       "      <th>budget_bin</th>\n",
       "      <th>budget_low</th>\n",
       "      <th>budget_medium</th>\n",
       "      <th>budget_high</th>\n",
       "      <th>budget_nan</th>\n",
       "      <th>thriller</th>\n",
       "    </tr>\n",
       "  </thead>\n",
       "  <tbody>\n",
       "    <tr>\n",
       "      <th>0</th>\n",
       "      <td>Color</td>\n",
       "      <td>Action|Adventure|Fantasy|Sci-Fi</td>\n",
       "      <td>USA</td>\n",
       "      <td>237000000.0</td>\n",
       "      <td>7.9</td>\n",
       "      <td>1</td>\n",
       "      <td>high</td>\n",
       "      <td>0</td>\n",
       "      <td>0</td>\n",
       "      <td>1</td>\n",
       "      <td>0</td>\n",
       "      <td>0</td>\n",
       "    </tr>\n",
       "    <tr>\n",
       "      <th>1</th>\n",
       "      <td>Color</td>\n",
       "      <td>Action|Adventure|Fantasy</td>\n",
       "      <td>USA</td>\n",
       "      <td>300000000.0</td>\n",
       "      <td>7.1</td>\n",
       "      <td>0</td>\n",
       "      <td>high</td>\n",
       "      <td>0</td>\n",
       "      <td>0</td>\n",
       "      <td>1</td>\n",
       "      <td>0</td>\n",
       "      <td>0</td>\n",
       "    </tr>\n",
       "    <tr>\n",
       "      <th>2</th>\n",
       "      <td>Color</td>\n",
       "      <td>Action|Adventure|Thriller</td>\n",
       "      <td>UK</td>\n",
       "      <td>245000000.0</td>\n",
       "      <td>6.8</td>\n",
       "      <td>0</td>\n",
       "      <td>high</td>\n",
       "      <td>0</td>\n",
       "      <td>0</td>\n",
       "      <td>1</td>\n",
       "      <td>0</td>\n",
       "      <td>1</td>\n",
       "    </tr>\n",
       "    <tr>\n",
       "      <th>3</th>\n",
       "      <td>Color</td>\n",
       "      <td>Action|Thriller</td>\n",
       "      <td>USA</td>\n",
       "      <td>250000000.0</td>\n",
       "      <td>8.5</td>\n",
       "      <td>1</td>\n",
       "      <td>high</td>\n",
       "      <td>0</td>\n",
       "      <td>0</td>\n",
       "      <td>1</td>\n",
       "      <td>0</td>\n",
       "      <td>1</td>\n",
       "    </tr>\n",
       "    <tr>\n",
       "      <th>4</th>\n",
       "      <td>NaN</td>\n",
       "      <td>Documentary</td>\n",
       "      <td>NaN</td>\n",
       "      <td>NaN</td>\n",
       "      <td>7.1</td>\n",
       "      <td>0</td>\n",
       "      <td>NaN</td>\n",
       "      <td>0</td>\n",
       "      <td>0</td>\n",
       "      <td>0</td>\n",
       "      <td>1</td>\n",
       "      <td>0</td>\n",
       "    </tr>\n",
       "  </tbody>\n",
       "</table>\n",
       "</div>"
      ],
      "text/plain": [
       "   color                           genres country       budget  imdb_score  \\\n",
       "0  Color  Action|Adventure|Fantasy|Sci-Fi     USA  237000000.0         7.9   \n",
       "1  Color         Action|Adventure|Fantasy     USA  300000000.0         7.1   \n",
       "2  Color        Action|Adventure|Thriller      UK  245000000.0         6.8   \n",
       "3  Color                  Action|Thriller     USA  250000000.0         8.5   \n",
       "4    NaN                      Documentary     NaN          NaN         7.1   \n",
       "\n",
       "   winner budget_bin  budget_low  budget_medium  budget_high  budget_nan  \\\n",
       "0       1       high           0              0            1           0   \n",
       "1       0       high           0              0            1           0   \n",
       "2       0       high           0              0            1           0   \n",
       "3       1       high           0              0            1           0   \n",
       "4       0        NaN           0              0            0           1   \n",
       "\n",
       "   thriller  \n",
       "0         0  \n",
       "1         0  \n",
       "2         1  \n",
       "3         1  \n",
       "4         0  "
      ]
     },
     "execution_count": 18,
     "metadata": {
      "tags": []
     },
     "output_type": "execute_result"
    }
   ],
   "source": [
    "movie_table.head()  #check against my answer"
   ]
  },
  {
   "cell_type": "markdown",
   "metadata": {
    "colab_type": "text",
    "id": "WsWhMbK4nW8W"
   },
   "source": [
    "<hr>\n",
    "<h1>\n",
    "4: New column usa_made (5 points)\n",
    "</h1>\n",
    "<p>\n",
    "<div class=h1_cell>\n",
    "<p>\n",
    "Create a new column `usa_made` that has 1 if the `country` column is USA and 0 otherwise.\n",
    "<p>\n",
    "</div>"
   ]
  },
  {
   "cell_type": "markdown",
   "metadata": {
    "colab_type": "text",
    "id": "SJmtvMQhsP-_"
   },
   "source": [
    "<hr>\n",
    "<center><h3>My output to use as target</h3></center>\n",
    "<DIV ALIGN=RIGHT>\n",
    "<img src='https://www.dropbox.com/s/jhhlwqbtkzoy09l/q4.png?raw=1'>\n",
    "  </div>\n",
    "<hr>\n"
   ]
  },
  {
   "cell_type": "code",
   "execution_count": 0,
   "metadata": {
    "colab": {},
    "colab_type": "code",
    "id": "yLHy8pHinW8X"
   },
   "outputs": [],
   "source": [
    "#your code goes here\n",
    "\n"
   ]
  },
  {
   "cell_type": "code",
   "execution_count": 0,
   "metadata": {
    "colab": {
     "base_uri": "https://localhost:8080/",
     "height": 195
    },
    "colab_type": "code",
    "id": "zYisgV0InW8e",
    "outputId": "569ddd6a-5883-45c7-d974-09c1fb217205",
    "scrolled": true
   },
   "outputs": [
    {
     "data": {
      "text/html": [
       "<div>\n",
       "<style scoped>\n",
       "    .dataframe tbody tr th:only-of-type {\n",
       "        vertical-align: middle;\n",
       "    }\n",
       "\n",
       "    .dataframe tbody tr th {\n",
       "        vertical-align: top;\n",
       "    }\n",
       "\n",
       "    .dataframe thead th {\n",
       "        text-align: right;\n",
       "    }\n",
       "</style>\n",
       "<table border=\"1\" class=\"dataframe\">\n",
       "  <thead>\n",
       "    <tr style=\"text-align: right;\">\n",
       "      <th></th>\n",
       "      <th>color</th>\n",
       "      <th>genres</th>\n",
       "      <th>country</th>\n",
       "      <th>budget</th>\n",
       "      <th>imdb_score</th>\n",
       "      <th>winner</th>\n",
       "      <th>budget_bin</th>\n",
       "      <th>budget_low</th>\n",
       "      <th>budget_medium</th>\n",
       "      <th>budget_high</th>\n",
       "      <th>budget_nan</th>\n",
       "      <th>thriller</th>\n",
       "      <th>usa_made</th>\n",
       "    </tr>\n",
       "  </thead>\n",
       "  <tbody>\n",
       "    <tr>\n",
       "      <th>0</th>\n",
       "      <td>Color</td>\n",
       "      <td>Action|Adventure|Fantasy|Sci-Fi</td>\n",
       "      <td>USA</td>\n",
       "      <td>237000000.0</td>\n",
       "      <td>7.9</td>\n",
       "      <td>1</td>\n",
       "      <td>high</td>\n",
       "      <td>0</td>\n",
       "      <td>0</td>\n",
       "      <td>1</td>\n",
       "      <td>0</td>\n",
       "      <td>0</td>\n",
       "      <td>1</td>\n",
       "    </tr>\n",
       "    <tr>\n",
       "      <th>1</th>\n",
       "      <td>Color</td>\n",
       "      <td>Action|Adventure|Fantasy</td>\n",
       "      <td>USA</td>\n",
       "      <td>300000000.0</td>\n",
       "      <td>7.1</td>\n",
       "      <td>0</td>\n",
       "      <td>high</td>\n",
       "      <td>0</td>\n",
       "      <td>0</td>\n",
       "      <td>1</td>\n",
       "      <td>0</td>\n",
       "      <td>0</td>\n",
       "      <td>1</td>\n",
       "    </tr>\n",
       "    <tr>\n",
       "      <th>2</th>\n",
       "      <td>Color</td>\n",
       "      <td>Action|Adventure|Thriller</td>\n",
       "      <td>UK</td>\n",
       "      <td>245000000.0</td>\n",
       "      <td>6.8</td>\n",
       "      <td>0</td>\n",
       "      <td>high</td>\n",
       "      <td>0</td>\n",
       "      <td>0</td>\n",
       "      <td>1</td>\n",
       "      <td>0</td>\n",
       "      <td>1</td>\n",
       "      <td>0</td>\n",
       "    </tr>\n",
       "    <tr>\n",
       "      <th>3</th>\n",
       "      <td>Color</td>\n",
       "      <td>Action|Thriller</td>\n",
       "      <td>USA</td>\n",
       "      <td>250000000.0</td>\n",
       "      <td>8.5</td>\n",
       "      <td>1</td>\n",
       "      <td>high</td>\n",
       "      <td>0</td>\n",
       "      <td>0</td>\n",
       "      <td>1</td>\n",
       "      <td>0</td>\n",
       "      <td>1</td>\n",
       "      <td>1</td>\n",
       "    </tr>\n",
       "    <tr>\n",
       "      <th>4</th>\n",
       "      <td>NaN</td>\n",
       "      <td>Documentary</td>\n",
       "      <td>NaN</td>\n",
       "      <td>NaN</td>\n",
       "      <td>7.1</td>\n",
       "      <td>0</td>\n",
       "      <td>NaN</td>\n",
       "      <td>0</td>\n",
       "      <td>0</td>\n",
       "      <td>0</td>\n",
       "      <td>1</td>\n",
       "      <td>0</td>\n",
       "      <td>0</td>\n",
       "    </tr>\n",
       "  </tbody>\n",
       "</table>\n",
       "</div>"
      ],
      "text/plain": [
       "   color                           genres country       budget  imdb_score  \\\n",
       "0  Color  Action|Adventure|Fantasy|Sci-Fi     USA  237000000.0         7.9   \n",
       "1  Color         Action|Adventure|Fantasy     USA  300000000.0         7.1   \n",
       "2  Color        Action|Adventure|Thriller      UK  245000000.0         6.8   \n",
       "3  Color                  Action|Thriller     USA  250000000.0         8.5   \n",
       "4    NaN                      Documentary     NaN          NaN         7.1   \n",
       "\n",
       "   winner budget_bin  budget_low  budget_medium  budget_high  budget_nan  \\\n",
       "0       1       high           0              0            1           0   \n",
       "1       0       high           0              0            1           0   \n",
       "2       0       high           0              0            1           0   \n",
       "3       1       high           0              0            1           0   \n",
       "4       0        NaN           0              0            0           1   \n",
       "\n",
       "   thriller  usa_made  \n",
       "0         0         1  \n",
       "1         0         1  \n",
       "2         1         0  \n",
       "3         1         1  \n",
       "4         0         0  "
      ]
     },
     "execution_count": 20,
     "metadata": {
      "tags": []
     },
     "output_type": "execute_result"
    }
   ],
   "source": [
    "movie_table.head() #check against my answer"
   ]
  },
  {
   "cell_type": "markdown",
   "metadata": {
    "colab_type": "text",
    "id": "KUrXxHwLsvCv"
   },
   "source": [
    "<hr>\n",
    "<h1>\n",
    "5: OHE `color` (10 points)\n",
    "</h1>\n",
    "<p>\n",
    "<div class=h1_cell>\n",
    "<p>\n",
    "ohe the column `color` using `film_type` as the prefix.\n",
    "<p>\n",
    "</div>"
   ]
  },
  {
   "cell_type": "markdown",
   "metadata": {
    "colab_type": "text",
    "id": "KY-EDHaRtI8S"
   },
   "source": [
    "<hr>\n",
    "<center><h3>My output to use as target</h3></center>\n",
    "<DIV ALIGN=RIGHT>\n",
    "<img src='https://www.dropbox.com/s/td5k13eiwg4yw11/q5.png?raw=1'>\n",
    "  </div>\n",
    "<hr>"
   ]
  },
  {
   "cell_type": "code",
   "execution_count": 0,
   "metadata": {
    "colab": {},
    "colab_type": "code",
    "id": "IHq_KKfXnW8j"
   },
   "outputs": [],
   "source": [
    "#your code here\n",
    "\n",
    "\n"
   ]
  },
  {
   "cell_type": "code",
   "execution_count": 0,
   "metadata": {
    "colab": {
     "base_uri": "https://localhost:8080/",
     "height": 229
    },
    "colab_type": "code",
    "id": "6eeI92Q2tqgS",
    "outputId": "2a4746e3-6410-46ae-9068-e2ec676dc997"
   },
   "outputs": [
    {
     "data": {
      "text/html": [
       "<div>\n",
       "<style scoped>\n",
       "    .dataframe tbody tr th:only-of-type {\n",
       "        vertical-align: middle;\n",
       "    }\n",
       "\n",
       "    .dataframe tbody tr th {\n",
       "        vertical-align: top;\n",
       "    }\n",
       "\n",
       "    .dataframe thead th {\n",
       "        text-align: right;\n",
       "    }\n",
       "</style>\n",
       "<table border=\"1\" class=\"dataframe\">\n",
       "  <thead>\n",
       "    <tr style=\"text-align: right;\">\n",
       "      <th></th>\n",
       "      <th>color</th>\n",
       "      <th>genres</th>\n",
       "      <th>country</th>\n",
       "      <th>budget</th>\n",
       "      <th>imdb_score</th>\n",
       "      <th>winner</th>\n",
       "      <th>budget_bin</th>\n",
       "      <th>budget_low</th>\n",
       "      <th>budget_medium</th>\n",
       "      <th>budget_high</th>\n",
       "      <th>budget_nan</th>\n",
       "      <th>thriller</th>\n",
       "      <th>usa_made</th>\n",
       "      <th>film_type_Black and White</th>\n",
       "      <th>film_type_Color</th>\n",
       "      <th>film_type_nan</th>\n",
       "    </tr>\n",
       "  </thead>\n",
       "  <tbody>\n",
       "    <tr>\n",
       "      <th>0</th>\n",
       "      <td>Color</td>\n",
       "      <td>Action|Adventure|Fantasy|Sci-Fi</td>\n",
       "      <td>USA</td>\n",
       "      <td>237000000.0</td>\n",
       "      <td>7.9</td>\n",
       "      <td>1</td>\n",
       "      <td>high</td>\n",
       "      <td>0</td>\n",
       "      <td>0</td>\n",
       "      <td>1</td>\n",
       "      <td>0</td>\n",
       "      <td>0</td>\n",
       "      <td>1</td>\n",
       "      <td>0</td>\n",
       "      <td>1</td>\n",
       "      <td>0</td>\n",
       "    </tr>\n",
       "    <tr>\n",
       "      <th>1</th>\n",
       "      <td>Color</td>\n",
       "      <td>Action|Adventure|Fantasy</td>\n",
       "      <td>USA</td>\n",
       "      <td>300000000.0</td>\n",
       "      <td>7.1</td>\n",
       "      <td>0</td>\n",
       "      <td>high</td>\n",
       "      <td>0</td>\n",
       "      <td>0</td>\n",
       "      <td>1</td>\n",
       "      <td>0</td>\n",
       "      <td>0</td>\n",
       "      <td>1</td>\n",
       "      <td>0</td>\n",
       "      <td>1</td>\n",
       "      <td>0</td>\n",
       "    </tr>\n",
       "    <tr>\n",
       "      <th>2</th>\n",
       "      <td>Color</td>\n",
       "      <td>Action|Adventure|Thriller</td>\n",
       "      <td>UK</td>\n",
       "      <td>245000000.0</td>\n",
       "      <td>6.8</td>\n",
       "      <td>0</td>\n",
       "      <td>high</td>\n",
       "      <td>0</td>\n",
       "      <td>0</td>\n",
       "      <td>1</td>\n",
       "      <td>0</td>\n",
       "      <td>1</td>\n",
       "      <td>0</td>\n",
       "      <td>0</td>\n",
       "      <td>1</td>\n",
       "      <td>0</td>\n",
       "    </tr>\n",
       "    <tr>\n",
       "      <th>3</th>\n",
       "      <td>Color</td>\n",
       "      <td>Action|Thriller</td>\n",
       "      <td>USA</td>\n",
       "      <td>250000000.0</td>\n",
       "      <td>8.5</td>\n",
       "      <td>1</td>\n",
       "      <td>high</td>\n",
       "      <td>0</td>\n",
       "      <td>0</td>\n",
       "      <td>1</td>\n",
       "      <td>0</td>\n",
       "      <td>1</td>\n",
       "      <td>1</td>\n",
       "      <td>0</td>\n",
       "      <td>1</td>\n",
       "      <td>0</td>\n",
       "    </tr>\n",
       "    <tr>\n",
       "      <th>4</th>\n",
       "      <td>NaN</td>\n",
       "      <td>Documentary</td>\n",
       "      <td>NaN</td>\n",
       "      <td>NaN</td>\n",
       "      <td>7.1</td>\n",
       "      <td>0</td>\n",
       "      <td>NaN</td>\n",
       "      <td>0</td>\n",
       "      <td>0</td>\n",
       "      <td>0</td>\n",
       "      <td>1</td>\n",
       "      <td>0</td>\n",
       "      <td>0</td>\n",
       "      <td>0</td>\n",
       "      <td>0</td>\n",
       "      <td>1</td>\n",
       "    </tr>\n",
       "  </tbody>\n",
       "</table>\n",
       "</div>"
      ],
      "text/plain": [
       "   color                           genres country       budget  imdb_score  \\\n",
       "0  Color  Action|Adventure|Fantasy|Sci-Fi     USA  237000000.0         7.9   \n",
       "1  Color         Action|Adventure|Fantasy     USA  300000000.0         7.1   \n",
       "2  Color        Action|Adventure|Thriller      UK  245000000.0         6.8   \n",
       "3  Color                  Action|Thriller     USA  250000000.0         8.5   \n",
       "4    NaN                      Documentary     NaN          NaN         7.1   \n",
       "\n",
       "   winner budget_bin  budget_low  budget_medium  budget_high  budget_nan  \\\n",
       "0       1       high           0              0            1           0   \n",
       "1       0       high           0              0            1           0   \n",
       "2       0       high           0              0            1           0   \n",
       "3       1       high           0              0            1           0   \n",
       "4       0        NaN           0              0            0           1   \n",
       "\n",
       "   thriller  usa_made  film_type_Black and White  film_type_Color  \\\n",
       "0         0         1                          0                1   \n",
       "1         0         1                          0                1   \n",
       "2         1         0                          0                1   \n",
       "3         1         1                          0                1   \n",
       "4         0         0                          0                0   \n",
       "\n",
       "   film_type_nan  \n",
       "0              0  \n",
       "1              0  \n",
       "2              0  \n",
       "3              0  \n",
       "4              1  "
      ]
     },
     "execution_count": 22,
     "metadata": {
      "tags": []
     },
     "output_type": "execute_result"
    }
   ],
   "source": [
    "movie_table.head()  #check against above (only shows the last 3 columns)"
   ]
  },
  {
   "cell_type": "markdown",
   "metadata": {
    "colab_type": "text",
    "id": "m8Rgh0Q4nW8m"
   },
   "source": [
    "<hr>\n",
    "<h1>\n",
    "6: Build a tree with depth 3 and default gig-cutoff (5 points)\n",
    "</h1>\n",
    "<p>\n",
    "<div class=h1_cell>\n",
    "<p>\n",
    "Call your tree `tree1`. I'll give you the splitter column candidates to use below. Use `winner` as the target column.\n",
    "<p>\n",
    "</div>"
   ]
  },
  {
   "cell_type": "markdown",
   "metadata": {
    "colab_type": "text",
    "id": "Jx-x-UM4u6ET"
   },
   "source": [
    "<hr>\n",
    "<center><h3>My output to use as target</h3></center>\n",
    "<DIV ALIGN=RIGHT>\n",
    "<img src='https://www.dropbox.com/s/ap24g3bpau2i10z/q6.png?raw=1'>\n",
    "  </div>\n",
    "<hr>\n",
    "\n"
   ]
  },
  {
   "cell_type": "code",
   "execution_count": 0,
   "metadata": {
    "colab": {},
    "colab_type": "code",
    "id": "u4sGvCiEnW8n"
   },
   "outputs": [],
   "source": [
    "column_candidates = [\n",
    "        'thriller',\n",
    "        'budget_low', 'budget_medium', 'budget_high', 'budget_nan',\n",
    "        'usa_made',\n",
    "        'film_type_Color', 'film_type_Black and White', 'film_type_nan'\n",
    "]"
   ]
  },
  {
   "cell_type": "code",
   "execution_count": 0,
   "metadata": {
    "colab": {},
    "colab_type": "code",
    "id": "PbJZ9zz_nW8s",
    "scrolled": true
   },
   "outputs": [],
   "source": [
    "#your code here\n",
    "\n"
   ]
  },
  {
   "cell_type": "code",
   "execution_count": 0,
   "metadata": {
    "colab": {
     "base_uri": "https://localhost:8080/",
     "height": 941
    },
    "colab_type": "code",
    "id": "-83DfwnMuOv4",
    "outputId": "80c2efd0-9944-4fbe-e338-6c8ce8feb75b"
   },
   "outputs": [
    {
     "name": "stdout",
     "output_type": "stream",
     "text": [
      "8\n"
     ]
    },
    {
     "data": {
      "text/plain": [
       "[{'conjunction': [('film_type_Black and White_1',\n",
       "    <function library_w19_week4b.build_pred.<locals>.<lambda>>),\n",
       "   ('budget_low_1',\n",
       "    <function library_w19_week4b.build_pred.<locals>.<lambda>>),\n",
       "   ('thriller_1', <function library_w19_week4b.build_pred.<locals>.<lambda>>)],\n",
       "  'gig_score': 0.005303667858896077,\n",
       "  'prediction': 1},\n",
       " {'conjunction': [('film_type_Black and White_1',\n",
       "    <function library_w19_week4b.build_pred.<locals>.<lambda>>),\n",
       "   ('budget_low_1',\n",
       "    <function library_w19_week4b.build_pred.<locals>.<lambda>>),\n",
       "   ('thriller_0', <function library_w19_week4b.build_pred.<locals>.<lambda>>)],\n",
       "  'gig_score': 0.005303667858896077,\n",
       "  'prediction': 1},\n",
       " {'conjunction': [('film_type_Black and White_1',\n",
       "    <function library_w19_week4b.build_pred.<locals>.<lambda>>),\n",
       "   ('budget_low_0',\n",
       "    <function library_w19_week4b.build_pred.<locals>.<lambda>>),\n",
       "   ('usa_made_1', <function library_w19_week4b.build_pred.<locals>.<lambda>>)],\n",
       "  'gig_score': 0.019071756174530274,\n",
       "  'prediction': 0},\n",
       " {'conjunction': [('film_type_Black and White_1',\n",
       "    <function library_w19_week4b.build_pred.<locals>.<lambda>>),\n",
       "   ('budget_low_0',\n",
       "    <function library_w19_week4b.build_pred.<locals>.<lambda>>),\n",
       "   ('usa_made_0', <function library_w19_week4b.build_pred.<locals>.<lambda>>)],\n",
       "  'gig_score': 0.019071756174530274,\n",
       "  'prediction': 0},\n",
       " {'conjunction': [('film_type_Black and White_0',\n",
       "    <function library_w19_week4b.build_pred.<locals>.<lambda>>),\n",
       "   ('usa_made_1', <function library_w19_week4b.build_pred.<locals>.<lambda>>),\n",
       "   ('budget_nan_1',\n",
       "    <function library_w19_week4b.build_pred.<locals>.<lambda>>)],\n",
       "  'gig_score': 0.0010395942970248817,\n",
       "  'prediction': 0},\n",
       " {'conjunction': [('film_type_Black and White_0',\n",
       "    <function library_w19_week4b.build_pred.<locals>.<lambda>>),\n",
       "   ('usa_made_1', <function library_w19_week4b.build_pred.<locals>.<lambda>>),\n",
       "   ('budget_nan_0',\n",
       "    <function library_w19_week4b.build_pred.<locals>.<lambda>>)],\n",
       "  'gig_score': 0.0010395942970248817,\n",
       "  'prediction': 0},\n",
       " {'conjunction': [('film_type_Black and White_0',\n",
       "    <function library_w19_week4b.build_pred.<locals>.<lambda>>),\n",
       "   ('usa_made_0', <function library_w19_week4b.build_pred.<locals>.<lambda>>),\n",
       "   ('thriller_1', <function library_w19_week4b.build_pred.<locals>.<lambda>>)],\n",
       "  'gig_score': 0.0045063979136308885,\n",
       "  'prediction': 0},\n",
       " {'conjunction': [('film_type_Black and White_0',\n",
       "    <function library_w19_week4b.build_pred.<locals>.<lambda>>),\n",
       "   ('usa_made_0', <function library_w19_week4b.build_pred.<locals>.<lambda>>),\n",
       "   ('thriller_0', <function library_w19_week4b.build_pred.<locals>.<lambda>>)],\n",
       "  'gig_score': 0.0045063979136308885,\n",
       "  'prediction': 0}]"
      ]
     },
     "execution_count": 25,
     "metadata": {
      "tags": []
     },
     "output_type": "execute_result"
    }
   ],
   "source": [
    "print(len(tree1['paths']))  #check against my answer\n",
    "tree1['paths']"
   ]
  },
  {
   "cell_type": "markdown",
   "metadata": {
    "colab_type": "text",
    "id": "cQ6OZy2vnW8w"
   },
   "source": [
    "<hr>\n",
    "<h1>\n",
    "7: Compute scores for tree1 (5 points)\n",
    "</h1>\n",
    "<p>\n",
    "<div class=h1_cell>\n",
    "<p>\n",
    "Print accuracy, f1 and informedness scores.\n",
    "<p>\n",
    "</div>\n"
   ]
  },
  {
   "cell_type": "markdown",
   "metadata": {
    "colab_type": "text",
    "id": "uBdWVjcYJ-YP"
   },
   "source": [
    "<hr>\n",
    "<center><h3>My output to use as target</h3></center>\n",
    "<DIV ALIGN=left>\n",
    "<pre>\n",
    "true_negative     4104\n",
    "false_negative     827\n",
    "true_positive       60\n",
    "false_positive      52\n",
    "(0.825698988697204, 0.12012012012012013, 0.055131712154931733)\n",
    "</pre>\n",
    "  </div>\n",
    "<hr>"
   ]
  },
  {
   "cell_type": "code",
   "execution_count": 0,
   "metadata": {
    "colab": {},
    "colab_type": "code",
    "id": "gvp92mn4nW8x"
   },
   "outputs": [],
   "source": [
    "#your code here\n",
    "\n"
   ]
  },
  {
   "cell_type": "code",
   "execution_count": 0,
   "metadata": {
    "colab": {
     "base_uri": "https://localhost:8080/",
     "height": 101
    },
    "colab_type": "code",
    "id": "3DQdmZPUnW82",
    "outputId": "60d1d73c-548b-4566-e36d-92cb7699c454"
   },
   "outputs": [
    {
     "data": {
      "text/plain": [
       "true_negative     4104\n",
       "false_negative     827\n",
       "true_positive       60\n",
       "false_positive      52\n",
       "Name: tree_1_type, dtype: int64"
      ]
     },
     "execution_count": 28,
     "metadata": {
      "tags": []
     },
     "output_type": "execute_result"
    }
   ],
   "source": [
    "tree_1_types  #check against above"
   ]
  },
  {
   "cell_type": "code",
   "execution_count": 0,
   "metadata": {
    "colab": {
     "base_uri": "https://localhost:8080/",
     "height": 34
    },
    "colab_type": "code",
    "id": "TzWOr04anW85",
    "outputId": "b98a94f0-af80-4149-a67f-57c0044b12b3"
   },
   "outputs": [
    {
     "name": "stdout",
     "output_type": "stream",
     "text": [
      "(0.825698988697204, 0.12012012012012013, 0.055131712154931733)\n"
     ]
    }
   ],
   "source": [
    "print((accuracy(tree_1_types), f1(tree_1_types), informedness(tree_1_types))) # (0.825698988697204, 0.12012012012012013, 0.055131712154931733)"
   ]
  },
  {
   "cell_type": "markdown",
   "metadata": {
    "colab_type": "text",
    "id": "txDtnfXznW88"
   },
   "source": [
    "<hr>\n",
    "<h1>\n",
    "8. Do the same for tree2 (10 points)\n",
    "</h1>\n",
    "<p>\n",
    "<div class=h1_cell>\n",
    "<p>\n",
    "Build a tree with depth of 4 and then print accuracy, f1 and informedness scores.\n",
    "<p>\n",
    "</div>"
   ]
  },
  {
   "cell_type": "markdown",
   "metadata": {
    "colab_type": "text",
    "id": "QO_Sys5YK05u"
   },
   "source": [
    "<hr>\n",
    "<center><h3>My output to use as target</h3></center>\n",
    "<DIV ALIGN=left>\n",
    "<pre>\n",
    "true_negative     4108\n",
    "false_negative     826\n",
    "true_positive       61\n",
    "false_positive      48\n",
    "(0.8266904620265715, 0.12248995983935741, 0.05722157177843146)\n",
    "</pre>\n",
    "  </div>\n",
    "<hr>"
   ]
  },
  {
   "cell_type": "code",
   "execution_count": 0,
   "metadata": {
    "colab": {},
    "colab_type": "code",
    "id": "p9xvyZ7QnW9D"
   },
   "outputs": [],
   "source": [
    "#your code here for building tree2\n",
    "\n"
   ]
  },
  {
   "cell_type": "code",
   "execution_count": 0,
   "metadata": {
    "colab": {
     "base_uri": "https://localhost:8080/",
     "height": 34
    },
    "colab_type": "code",
    "id": "s0eoTOqcLNT8",
    "outputId": "68398e06-93f6-4cbd-b278-b9b197b518b7"
   },
   "outputs": [
    {
     "name": "stdout",
     "output_type": "stream",
     "text": [
      "16\n"
     ]
    }
   ],
   "source": [
    "print(len(tree2['paths']))  #should be 16\n",
    "#tree2['paths']"
   ]
  },
  {
   "cell_type": "code",
   "execution_count": 0,
   "metadata": {
    "colab": {},
    "colab_type": "code",
    "id": "vh0BeufJnW9H"
   },
   "outputs": [],
   "source": [
    "#your code here for generating scores\n",
    "\n"
   ]
  },
  {
   "cell_type": "code",
   "execution_count": 0,
   "metadata": {
    "colab": {
     "base_uri": "https://localhost:8080/",
     "height": 101
    },
    "colab_type": "code",
    "id": "AvyN6Yw7nW9K",
    "outputId": "e109a8d4-84dc-48cd-eb07-8c58c38cfd81"
   },
   "outputs": [
    {
     "data": {
      "text/plain": [
       "true_negative     4108\n",
       "false_negative     826\n",
       "true_positive       61\n",
       "false_positive      48\n",
       "Name: tree_2_type, dtype: int64"
      ]
     },
     "execution_count": 33,
     "metadata": {
      "tags": []
     },
     "output_type": "execute_result"
    }
   ],
   "source": [
    "tree_2_types  #check against above"
   ]
  },
  {
   "cell_type": "code",
   "execution_count": 0,
   "metadata": {
    "colab": {
     "base_uri": "https://localhost:8080/",
     "height": 34
    },
    "colab_type": "code",
    "id": "-E4CUt1bnW9P",
    "outputId": "48cea78e-d7e9-453c-9d0f-755b380b56f1"
   },
   "outputs": [
    {
     "name": "stdout",
     "output_type": "stream",
     "text": [
      "(0.8266904620265715, 0.12248995983935741, 0.05722157177843146)\n"
     ]
    }
   ],
   "source": [
    "print((accuracy(tree_2_types), f1(tree_2_types), informedness(tree_2_types))) #(0.8266904620265715, 0.12248995983935741, 0.05722157177843146)"
   ]
  },
  {
   "cell_type": "markdown",
   "metadata": {
    "colab_type": "text",
    "id": "eCAjefJqnW9T"
   },
   "source": [
    "<hr>\n",
    "<h1>\n",
    "9: Write a function to find out how many times a column is used in a tree (30 points)\n",
    "</h1>\n",
    "<p>\n",
    "<div class=h1_cell>\n",
    "<p>\n",
    "For a specific tree, which columns actually get used when building the tree? And how many times do they appear? Write a function `column_counts` that takes a tree in as input and produces a dictionary of columns that the tree uses as keys and how often as values. Test it on tree1 and tree2.\n",
    "  <p>\n",
    "    Note that this has nothing to do with a table. It is just an analysis of the structure of the tree.\n",
    "<p>\n",
    "Here are my results for tree1:\n",
    "<p>\n",
    "<pre>\n",
    "{'budget_low': 4,\n",
    " 'budget_nan': 2,\n",
    " 'film_type_Black and White': 8,\n",
    " 'thriller': 4,\n",
    " 'usa_made': 6}\n",
    "</pre>\n",
    "<p>\n",
    "</div>"
   ]
  },
  {
   "cell_type": "code",
   "execution_count": 0,
   "metadata": {
    "colab": {},
    "colab_type": "code",
    "id": "NoPUC5aRnW9T"
   },
   "outputs": [],
   "source": [
    "#define function here\n",
    "\n",
    "def column_counts(tree):\n"
   ]
  },
  {
   "cell_type": "code",
   "execution_count": 0,
   "metadata": {
    "colab": {
     "base_uri": "https://localhost:8080/",
     "height": 101
    },
    "colab_type": "code",
    "id": "b_nRhcounW9W",
    "outputId": "28701393-e93c-4bd5-86d7-ad51d6a52f52"
   },
   "outputs": [
    {
     "data": {
      "text/plain": [
       "{'budget_low': 4,\n",
       " 'budget_nan': 2,\n",
       " 'film_type_Black and White': 8,\n",
       " 'thriller': 4,\n",
       " 'usa_made': 6}"
      ]
     },
     "execution_count": 36,
     "metadata": {
      "tags": []
     },
     "output_type": "execute_result"
    }
   ],
   "source": [
    "column_counts(tree1)  #check results against above"
   ]
  },
  {
   "cell_type": "markdown",
   "metadata": {
    "colab_type": "text",
    "id": "KH_BuQUqnW9b"
   },
   "source": [
    "<div class=h1_cell>\n",
    "\n",
    "Here are my results for tree2:\n",
    "<p>\n",
    "<pre>\n",
    "{'budget_high': 4,\n",
    " 'budget_low': 8,\n",
    " 'budget_nan': 6,\n",
    " 'film_type_Black and White': 16,\n",
    " 'thriller': 14,\n",
    " 'usa_made': 16}\n",
    "</pre>\n",
    "<p>\n",
    "</div>"
   ]
  },
  {
   "cell_type": "code",
   "execution_count": 0,
   "metadata": {
    "colab": {
     "base_uri": "https://localhost:8080/",
     "height": 118
    },
    "colab_type": "code",
    "id": "R9BD5I3VnW9b",
    "outputId": "da2ad5c2-518b-4103-8344-d3d3cfa601c3"
   },
   "outputs": [
    {
     "data": {
      "text/plain": [
       "{'budget_high': 4,\n",
       " 'budget_low': 8,\n",
       " 'budget_nan': 6,\n",
       " 'film_type_Black and White': 16,\n",
       " 'thriller': 14,\n",
       " 'usa_made': 16}"
      ]
     },
     "execution_count": 37,
     "metadata": {
      "tags": []
     },
     "output_type": "execute_result"
    }
   ],
   "source": [
    "column_counts(tree2)  #check against above"
   ]
  },
  {
   "cell_type": "markdown",
   "metadata": {
    "colab_type": "text",
    "id": "V6bgNPGNnW9h"
   },
   "source": [
    "<hr>\n",
    "<h1>\n",
    "Extra credit: Find shortest path in tree\n",
    "</h1>\n",
    "<p>\n",
    "<div class=h1_cell>\n",
    "<p>\n",
    "Write a function to find the shortest paths in a tree. If there is a unique shortest path then your list will just have one path. If there are ties, the list will include all that tied.\n",
    "<p>\n",
    "</div>"
   ]
  },
  {
   "cell_type": "code",
   "execution_count": 0,
   "metadata": {
    "colab": {},
    "colab_type": "code",
    "id": "RASCYprunW9i"
   },
   "outputs": [],
   "source": [
    "#your function here\n",
    "\n",
    "def list_of_shortest(tree):\n"
   ]
  },
  {
   "cell_type": "markdown",
   "metadata": {
    "colab_type": "text",
    "id": "3plt6AjNnW9l"
   },
   "source": [
    "<hr>\n",
    "<h1>\n",
    "Here is some testing code\n",
    "</h1>\n",
    "<p>\n",
    "<div class=h1_cell>\n",
    "<p>\n",
    "I am making a copy of tree1 then manipulating the first path, i.e., I am slicing it. I can slice it down to one predicate, 2 predicates, etc.\n",
    "<p>\n",
    "You can change the value of n from 1 to longest path. For each value of n run your function to make sure you get correct result.\n",
    "<p>\n",
    "</div>"
   ]
  },
  {
   "cell_type": "code",
   "execution_count": 0,
   "metadata": {
    "colab": {},
    "colab_type": "code",
    "id": "9a-6BipinW9o"
   },
   "outputs": [],
   "source": [
    "import copy\n",
    "\n",
    "def path_tester(tree, n):\n",
    "  tree_test = copy.deepcopy(tree)\n",
    "  slice = tree_test['paths'][0:n]  #slice\n",
    "  tree_test['paths'] = slice\n",
    "  print(('length of paths considered', len(slice)))\n",
    "  return list_of_shortest(tree_test)"
   ]
  },
  {
   "cell_type": "code",
   "execution_count": 0,
   "metadata": {
    "colab": {
     "base_uri": "https://localhost:8080/",
     "height": 151
    },
    "colab_type": "code",
    "id": "axD949YlnW9q",
    "outputId": "47fdedce-2479-4c73-f5d7-7669bc1b60fb"
   },
   "outputs": [
    {
     "name": "stdout",
     "output_type": "stream",
     "text": [
      "('length of paths considered', 1)\n"
     ]
    },
    {
     "data": {
      "text/plain": [
       "[{'conjunction': [('film_type_Black and White_1',\n",
       "    <function library_w19_week4b.build_pred.<locals>.<lambda>>),\n",
       "   ('budget_low_1',\n",
       "    <function library_w19_week4b.build_pred.<locals>.<lambda>>),\n",
       "   ('thriller_1', <function library_w19_week4b.build_pred.<locals>.<lambda>>)],\n",
       "  'gig_score': 0.005303667858896077,\n",
       "  'prediction': 1}]"
      ]
     },
     "execution_count": 41,
     "metadata": {
      "tags": []
     },
     "output_type": "execute_result"
    }
   ],
   "source": [
    "path_tester(tree1, 1)  #list of one path of length 3"
   ]
  },
  {
   "cell_type": "code",
   "execution_count": 0,
   "metadata": {
    "colab": {
     "base_uri": "https://localhost:8080/",
     "height": 269
    },
    "colab_type": "code",
    "id": "vMf_GhCIdaVy",
    "outputId": "a75cf06e-78a6-475b-f258-13e49f4e0be5"
   },
   "outputs": [
    {
     "name": "stdout",
     "output_type": "stream",
     "text": [
      "('length of paths considered', 2)\n"
     ]
    },
    {
     "data": {
      "text/plain": [
       "[{'conjunction': [('film_type_Black and White_1',\n",
       "    <function library_w19_week4b.build_pred.<locals>.<lambda>>),\n",
       "   ('budget_low_1',\n",
       "    <function library_w19_week4b.build_pred.<locals>.<lambda>>),\n",
       "   ('thriller_1', <function library_w19_week4b.build_pred.<locals>.<lambda>>)],\n",
       "  'gig_score': 0.005303667858896077,\n",
       "  'prediction': 1},\n",
       " {'conjunction': [('film_type_Black and White_1',\n",
       "    <function library_w19_week4b.build_pred.<locals>.<lambda>>),\n",
       "   ('budget_low_1',\n",
       "    <function library_w19_week4b.build_pred.<locals>.<lambda>>),\n",
       "   ('thriller_0', <function library_w19_week4b.build_pred.<locals>.<lambda>>)],\n",
       "  'gig_score': 0.005303667858896077,\n",
       "  'prediction': 1}]"
      ]
     },
     "execution_count": 42,
     "metadata": {
      "tags": []
     },
     "output_type": "execute_result"
    }
   ],
   "source": [
    "path_tester(tree1, 2)  #list of 2 paths of length 3"
   ]
  },
  {
   "cell_type": "code",
   "execution_count": 0,
   "metadata": {
    "colab": {
     "base_uri": "https://localhost:8080/",
     "height": 386
    },
    "colab_type": "code",
    "id": "Bj4ssDMbhe5s",
    "outputId": "0b873f98-c3a3-4361-c981-dac72cf456f0"
   },
   "outputs": [
    {
     "name": "stdout",
     "output_type": "stream",
     "text": [
      "('length of paths considered', 3)\n"
     ]
    },
    {
     "data": {
      "text/plain": [
       "[{'conjunction': [('film_type_Black and White_1',\n",
       "    <function library_w19_week4b.build_pred.<locals>.<lambda>>),\n",
       "   ('budget_low_1',\n",
       "    <function library_w19_week4b.build_pred.<locals>.<lambda>>),\n",
       "   ('thriller_1', <function library_w19_week4b.build_pred.<locals>.<lambda>>)],\n",
       "  'gig_score': 0.005303667858896077,\n",
       "  'prediction': 1},\n",
       " {'conjunction': [('film_type_Black and White_1',\n",
       "    <function library_w19_week4b.build_pred.<locals>.<lambda>>),\n",
       "   ('budget_low_1',\n",
       "    <function library_w19_week4b.build_pred.<locals>.<lambda>>),\n",
       "   ('thriller_0', <function library_w19_week4b.build_pred.<locals>.<lambda>>)],\n",
       "  'gig_score': 0.005303667858896077,\n",
       "  'prediction': 1},\n",
       " {'conjunction': [('film_type_Black and White_1',\n",
       "    <function library_w19_week4b.build_pred.<locals>.<lambda>>),\n",
       "   ('budget_low_0',\n",
       "    <function library_w19_week4b.build_pred.<locals>.<lambda>>),\n",
       "   ('usa_made_1', <function library_w19_week4b.build_pred.<locals>.<lambda>>)],\n",
       "  'gig_score': 0.019071756174530274,\n",
       "  'prediction': 0}]"
      ]
     },
     "execution_count": 43,
     "metadata": {
      "tags": []
     },
     "output_type": "execute_result"
    }
   ],
   "source": [
    "path_tester(tree1, 3)  #list of 3 paths of length 3"
   ]
  },
  {
   "cell_type": "code",
   "execution_count": 0,
   "metadata": {
    "colab": {
     "base_uri": "https://localhost:8080/",
     "height": 941
    },
    "colab_type": "code",
    "id": "-Zv7VV3EhznY",
    "outputId": "97369e3d-36c6-4e50-80ae-46b145ff33b8"
   },
   "outputs": [
    {
     "name": "stdout",
     "output_type": "stream",
     "text": [
      "('length of paths considered', 8)\n"
     ]
    },
    {
     "data": {
      "text/plain": [
       "[{'conjunction': [('film_type_Black and White_1',\n",
       "    <function library_w19_week4b.build_pred.<locals>.<lambda>>),\n",
       "   ('budget_low_1',\n",
       "    <function library_w19_week4b.build_pred.<locals>.<lambda>>),\n",
       "   ('thriller_1', <function library_w19_week4b.build_pred.<locals>.<lambda>>)],\n",
       "  'gig_score': 0.005303667858896077,\n",
       "  'prediction': 1},\n",
       " {'conjunction': [('film_type_Black and White_1',\n",
       "    <function library_w19_week4b.build_pred.<locals>.<lambda>>),\n",
       "   ('budget_low_1',\n",
       "    <function library_w19_week4b.build_pred.<locals>.<lambda>>),\n",
       "   ('thriller_0', <function library_w19_week4b.build_pred.<locals>.<lambda>>)],\n",
       "  'gig_score': 0.005303667858896077,\n",
       "  'prediction': 1},\n",
       " {'conjunction': [('film_type_Black and White_1',\n",
       "    <function library_w19_week4b.build_pred.<locals>.<lambda>>),\n",
       "   ('budget_low_0',\n",
       "    <function library_w19_week4b.build_pred.<locals>.<lambda>>),\n",
       "   ('usa_made_1', <function library_w19_week4b.build_pred.<locals>.<lambda>>)],\n",
       "  'gig_score': 0.019071756174530274,\n",
       "  'prediction': 0},\n",
       " {'conjunction': [('film_type_Black and White_1',\n",
       "    <function library_w19_week4b.build_pred.<locals>.<lambda>>),\n",
       "   ('budget_low_0',\n",
       "    <function library_w19_week4b.build_pred.<locals>.<lambda>>),\n",
       "   ('usa_made_0', <function library_w19_week4b.build_pred.<locals>.<lambda>>)],\n",
       "  'gig_score': 0.019071756174530274,\n",
       "  'prediction': 0},\n",
       " {'conjunction': [('film_type_Black and White_0',\n",
       "    <function library_w19_week4b.build_pred.<locals>.<lambda>>),\n",
       "   ('usa_made_1', <function library_w19_week4b.build_pred.<locals>.<lambda>>),\n",
       "   ('budget_nan_1',\n",
       "    <function library_w19_week4b.build_pred.<locals>.<lambda>>)],\n",
       "  'gig_score': 0.0010395942970248817,\n",
       "  'prediction': 0},\n",
       " {'conjunction': [('film_type_Black and White_0',\n",
       "    <function library_w19_week4b.build_pred.<locals>.<lambda>>),\n",
       "   ('usa_made_1', <function library_w19_week4b.build_pred.<locals>.<lambda>>),\n",
       "   ('budget_nan_0',\n",
       "    <function library_w19_week4b.build_pred.<locals>.<lambda>>)],\n",
       "  'gig_score': 0.0010395942970248817,\n",
       "  'prediction': 0},\n",
       " {'conjunction': [('film_type_Black and White_0',\n",
       "    <function library_w19_week4b.build_pred.<locals>.<lambda>>),\n",
       "   ('usa_made_0', <function library_w19_week4b.build_pred.<locals>.<lambda>>),\n",
       "   ('thriller_1', <function library_w19_week4b.build_pred.<locals>.<lambda>>)],\n",
       "  'gig_score': 0.0045063979136308885,\n",
       "  'prediction': 0},\n",
       " {'conjunction': [('film_type_Black and White_0',\n",
       "    <function library_w19_week4b.build_pred.<locals>.<lambda>>),\n",
       "   ('usa_made_0', <function library_w19_week4b.build_pred.<locals>.<lambda>>),\n",
       "   ('thriller_0', <function library_w19_week4b.build_pred.<locals>.<lambda>>)],\n",
       "  'gig_score': 0.0045063979136308885,\n",
       "  'prediction': 0}]"
      ]
     },
     "execution_count": 44,
     "metadata": {
      "tags": []
     },
     "output_type": "execute_result"
    }
   ],
   "source": [
    "path_tester(tree1, len(tree1['paths']))  #list of 8 paths of length 3"
   ]
  }
 ],
 "metadata": {
  "colab": {
   "collapsed_sections": [],
   "name": "midterm1_w19.ipynb",
   "provenance": [],
   "version": "0.3.2"
  },
  "kernelspec": {
   "display_name": "Python 3",
   "language": "python",
   "name": "python3"
  },
  "language_info": {
   "codemirror_mode": {
    "name": "ipython",
    "version": 3
   },
   "file_extension": ".py",
   "mimetype": "text/x-python",
   "name": "python",
   "nbconvert_exporter": "python",
   "pygments_lexer": "ipython3",
   "version": "3.7.1"
  },
  "toc": {
   "base_numbering": 1,
   "nav_menu": {},
   "number_sections": true,
   "sideBar": true,
   "skip_h1_title": false,
   "title_cell": "Table of Contents",
   "title_sidebar": "Contents",
   "toc_cell": false,
   "toc_position": {},
   "toc_section_display": true,
   "toc_window_display": false
  }
 },
 "nbformat": 4,
 "nbformat_minor": 1
}
