{
 "cells": [
  {
   "cell_type": "markdown",
   "metadata": {
    "colab_type": "text",
    "id": "ry7gzGe3kLgW"
   },
   "source": [
    "<h1>\n",
    "<center>\n",
    "Module 2: Working with Decision Trees\n",
    "</center>\n",
    "</h1>\n",
    "<div class=h1_cell>\n",
    "\n",
    "<p>We will continue to work with the loan data. And we will put to use the wrangling concepts we saw in module 1.\n",
    "\n",
    "</div>"
   ]
  },
  {
   "cell_type": "markdown",
   "metadata": {
    "colab_type": "text",
    "id": "TPBhsNr4kLgX"
   },
   "source": [
    "<hr>\n",
    "<h1>\n",
    "1: Read in your data from assignment 1.\n",
    "</h1>\n",
    "<p>\n",
    "<div class=h1_cell>\n",
    "Here is what my added columns look like.\n",
    "<p>\n",
    "<img src='https://www.dropbox.com/s/krrytcxssezbn4i/week1_columns.png?raw=1'>\n",
    "</div>"
   ]
  },
  {
   "cell_type": "code",
   "execution_count": 20,
   "metadata": {
    "colab": {
     "base_uri": "https://localhost:8080/",
     "height": 35
    },
    "colab_type": "code",
    "id": "bRdyKcvOkLgZ",
    "outputId": "a391e9e6-3cf8-43d4-cde2-b67f3ea38cc6"
   },
   "outputs": [
    {
     "data": {
      "text/html": [
       "<div>\n",
       "<style scoped>\n",
       "    .dataframe tbody tr th:only-of-type {\n",
       "        vertical-align: middle;\n",
       "    }\n",
       "\n",
       "    .dataframe tbody tr th {\n",
       "        vertical-align: top;\n",
       "    }\n",
       "\n",
       "    .dataframe thead th {\n",
       "        text-align: right;\n",
       "    }\n",
       "</style>\n",
       "<table border=\"1\" class=\"dataframe\">\n",
       "  <thead>\n",
       "    <tr style=\"text-align: right;\">\n",
       "      <th></th>\n",
       "      <th>Gender</th>\n",
       "      <th>Married</th>\n",
       "      <th>Dependents</th>\n",
       "      <th>Education</th>\n",
       "      <th>Self_Employed</th>\n",
       "      <th>ApplicantIncome</th>\n",
       "      <th>CoapplicantIncome</th>\n",
       "      <th>LoanAmount</th>\n",
       "      <th>Loan_Amount_Term</th>\n",
       "      <th>Credit_History</th>\n",
       "      <th>Property_Area</th>\n",
       "      <th>Loan_Status</th>\n",
       "      <th>no_lam</th>\n",
       "      <th>filled_lam</th>\n",
       "      <th>pa_Rural</th>\n",
       "      <th>pa_Semiurban</th>\n",
       "      <th>pa_Urban</th>\n",
       "      <th>pa_nan</th>\n",
       "      <th>lam_bin</th>\n",
       "      <th>lam_Low</th>\n",
       "      <th>lam_Average</th>\n",
       "      <th>lam_High</th>\n",
       "    </tr>\n",
       "  </thead>\n",
       "  <tbody>\n",
       "    <tr>\n",
       "      <th>0</th>\n",
       "      <td>Male</td>\n",
       "      <td>No</td>\n",
       "      <td>0</td>\n",
       "      <td>Graduate</td>\n",
       "      <td>No</td>\n",
       "      <td>5849</td>\n",
       "      <td>0.0</td>\n",
       "      <td>NaN</td>\n",
       "      <td>360.0</td>\n",
       "      <td>1.0</td>\n",
       "      <td>Urban</td>\n",
       "      <td>Y</td>\n",
       "      <td>1</td>\n",
       "      <td>146.412162</td>\n",
       "      <td>0</td>\n",
       "      <td>0</td>\n",
       "      <td>1</td>\n",
       "      <td>0</td>\n",
       "      <td>Low</td>\n",
       "      <td>1</td>\n",
       "      <td>0</td>\n",
       "      <td>0</td>\n",
       "    </tr>\n",
       "    <tr>\n",
       "      <th>1</th>\n",
       "      <td>Male</td>\n",
       "      <td>Yes</td>\n",
       "      <td>1</td>\n",
       "      <td>Graduate</td>\n",
       "      <td>No</td>\n",
       "      <td>4583</td>\n",
       "      <td>1508.0</td>\n",
       "      <td>128.0</td>\n",
       "      <td>360.0</td>\n",
       "      <td>1.0</td>\n",
       "      <td>Rural</td>\n",
       "      <td>N</td>\n",
       "      <td>0</td>\n",
       "      <td>128.000000</td>\n",
       "      <td>1</td>\n",
       "      <td>0</td>\n",
       "      <td>0</td>\n",
       "      <td>0</td>\n",
       "      <td>Low</td>\n",
       "      <td>1</td>\n",
       "      <td>0</td>\n",
       "      <td>0</td>\n",
       "    </tr>\n",
       "  </tbody>\n",
       "</table>\n",
       "</div>"
      ],
      "text/plain": [
       "  Gender Married Dependents Education Self_Employed  ApplicantIncome  \\\n",
       "0   Male      No          0  Graduate            No             5849   \n",
       "1   Male     Yes          1  Graduate            No             4583   \n",
       "\n",
       "   CoapplicantIncome  LoanAmount  Loan_Amount_Term  Credit_History  \\\n",
       "0                0.0         NaN             360.0             1.0   \n",
       "1             1508.0       128.0             360.0             1.0   \n",
       "\n",
       "  Property_Area Loan_Status  no_lam  filled_lam  pa_Rural  pa_Semiurban  \\\n",
       "0         Urban           Y       1  146.412162         0             0   \n",
       "1         Rural           N       0  128.000000         1             0   \n",
       "\n",
       "   pa_Urban  pa_nan lam_bin  lam_Low  lam_Average  lam_High  \n",
       "0         1       0     Low        1            0         0  \n",
       "1         0       0     Low        1            0         0  "
      ]
     },
     "execution_count": 20,
     "metadata": {},
     "output_type": "execute_result"
    }
   ],
   "source": [
    "import pandas as pd\n",
    "with open('/Users/Noah/Documents/My Documents/2018:2019/2. Winter/CIS 399/Assignment2/loan_wrangled_week1.csv', 'r') as f:\n",
    "    loan_table = pd.read_csv(f)\n",
    "loan_table.head(2)"
   ]
  },
  {
   "cell_type": "code",
   "execution_count": 5,
   "metadata": {
    "colab": {},
    "colab_type": "code",
    "id": "CA13cIn9lRPP"
   },
   "outputs": [],
   "source": [
    "pd.set_option('display.max_columns', None)"
   ]
  },
  {
   "cell_type": "code",
   "execution_count": 0,
   "metadata": {
    "colab": {
     "base_uri": "https://localhost:8080/",
     "height": 130
    },
    "colab_type": "code",
    "id": "_t60EbGHlg17",
    "outputId": "a5fa76cb-85ad-49c5-b6b9-988cb731dc21"
   },
   "outputs": [
    {
     "data": {
      "text/html": [
       "<div>\n",
       "<style scoped>\n",
       "    .dataframe tbody tr th:only-of-type {\n",
       "        vertical-align: middle;\n",
       "    }\n",
       "\n",
       "    .dataframe tbody tr th {\n",
       "        vertical-align: top;\n",
       "    }\n",
       "\n",
       "    .dataframe thead th {\n",
       "        text-align: right;\n",
       "    }\n",
       "</style>\n",
       "<table border=\"1\" class=\"dataframe\">\n",
       "  <thead>\n",
       "    <tr style=\"text-align: right;\">\n",
       "      <th></th>\n",
       "      <th>Gender</th>\n",
       "      <th>Married</th>\n",
       "      <th>Dependents</th>\n",
       "      <th>Education</th>\n",
       "      <th>Self_Employed</th>\n",
       "      <th>ApplicantIncome</th>\n",
       "      <th>CoapplicantIncome</th>\n",
       "      <th>LoanAmount</th>\n",
       "      <th>Loan_Amount_Term</th>\n",
       "      <th>Credit_History</th>\n",
       "      <th>Property_Area</th>\n",
       "      <th>Loan_Status</th>\n",
       "      <th>no_lam</th>\n",
       "      <th>filled_lam</th>\n",
       "      <th>pa_Rural</th>\n",
       "      <th>pa_Semiurban</th>\n",
       "      <th>pa_Urban</th>\n",
       "      <th>pa_nan</th>\n",
       "      <th>lam_bin</th>\n",
       "      <th>lam_Low</th>\n",
       "      <th>lam_Average</th>\n",
       "      <th>lam_High</th>\n",
       "    </tr>\n",
       "  </thead>\n",
       "  <tbody>\n",
       "    <tr>\n",
       "      <th>0</th>\n",
       "      <td>Male</td>\n",
       "      <td>No</td>\n",
       "      <td>0</td>\n",
       "      <td>Graduate</td>\n",
       "      <td>No</td>\n",
       "      <td>5849</td>\n",
       "      <td>0.0</td>\n",
       "      <td>NaN</td>\n",
       "      <td>360.0</td>\n",
       "      <td>1.0</td>\n",
       "      <td>Urban</td>\n",
       "      <td>Y</td>\n",
       "      <td>1</td>\n",
       "      <td>146.412162</td>\n",
       "      <td>0</td>\n",
       "      <td>0</td>\n",
       "      <td>1</td>\n",
       "      <td>0</td>\n",
       "      <td>Low</td>\n",
       "      <td>1</td>\n",
       "      <td>0</td>\n",
       "      <td>0</td>\n",
       "    </tr>\n",
       "    <tr>\n",
       "      <th>1</th>\n",
       "      <td>Male</td>\n",
       "      <td>Yes</td>\n",
       "      <td>1</td>\n",
       "      <td>Graduate</td>\n",
       "      <td>No</td>\n",
       "      <td>4583</td>\n",
       "      <td>1508.0</td>\n",
       "      <td>128.0</td>\n",
       "      <td>360.0</td>\n",
       "      <td>1.0</td>\n",
       "      <td>Rural</td>\n",
       "      <td>N</td>\n",
       "      <td>0</td>\n",
       "      <td>128.000000</td>\n",
       "      <td>1</td>\n",
       "      <td>0</td>\n",
       "      <td>0</td>\n",
       "      <td>0</td>\n",
       "      <td>Low</td>\n",
       "      <td>1</td>\n",
       "      <td>0</td>\n",
       "      <td>0</td>\n",
       "    </tr>\n",
       "  </tbody>\n",
       "</table>\n",
       "</div>"
      ],
      "text/plain": [
       "  Gender Married Dependents Education Self_Employed  ApplicantIncome  \\\n",
       "0   Male      No          0  Graduate            No             5849   \n",
       "1   Male     Yes          1  Graduate            No             4583   \n",
       "\n",
       "   CoapplicantIncome  LoanAmount  Loan_Amount_Term  Credit_History  \\\n",
       "0                0.0         NaN             360.0             1.0   \n",
       "1             1508.0       128.0             360.0             1.0   \n",
       "\n",
       "  Property_Area Loan_Status  no_lam  filled_lam  pa_Rural  pa_Semiurban  \\\n",
       "0         Urban           Y       1  146.412162         0             0   \n",
       "1         Rural           N       0  128.000000         1             0   \n",
       "\n",
       "   pa_Urban  pa_nan lam_bin  lam_Low  lam_Average  lam_High  \n",
       "0         1       0     Low        1            0         0  \n",
       "1         0       0     Low        1            0         0  "
      ]
     },
     "execution_count": 3,
     "metadata": {
      "tags": []
     },
     "output_type": "execute_result"
    }
   ],
   "source": [
    "\"\"\"with open('/content/gdrive/My Drive/class_tables/loan_wrangled_week1.csv', 'r') as f:\n",
    "  loan_table = pd.read_csv(f)\n",
    "\n",
    "loan_table.head(2)\"\"\""
   ]
  },
  {
   "cell_type": "markdown",
   "metadata": {
    "colab_type": "text",
    "id": "wZ1TkH5MkLgj"
   },
   "source": [
    "<hr>\n",
    "<h2>\n",
    "Bring in our library\n",
    "</h2>\n",
    "<div class=h1_cell>\n",
    "<p>\n",
    "We built a library at the end of the Titanic notebook this week (week 2). Let's upload it and import it.\n",
    "</div>"
   ]
  },
  {
   "cell_type": "code",
   "execution_count": 12,
   "metadata": {
    "colab": {},
    "colab_type": "code",
    "id": "SP95AIbW0C_r"
   },
   "outputs": [],
   "source": [
    "from library_w19_week2 import*"
   ]
  },
  {
   "cell_type": "code",
   "execution_count": 0,
   "metadata": {
    "colab": {},
    "colab_type": "code",
    "id": "OSPhwJEGkLgk"
   },
   "outputs": [],
   "source": []
  },
  {
   "cell_type": "code",
   "execution_count": 13,
   "metadata": {
    "colab": {
     "base_uri": "https://localhost:8080/",
     "height": 35
    },
    "colab_type": "code",
    "id": "EvTfU0wqmep_",
    "outputId": "a02f2da1-1036-4cd3-c6c6-8480f847aad3"
   },
   "outputs": [
    {
     "name": "stdout",
     "output_type": "stream",
     "text": [
      "accuracy\t f1\t informedness\t predictor_case\t \n"
     ]
    }
   ],
   "source": [
    "#Make sure we get accuracy\t f1\t informedness\t predictor_case\n",
    "%who function"
   ]
  },
  {
   "cell_type": "markdown",
   "metadata": {
    "colab_type": "text",
    "id": "bQwBDLJ_kLg0"
   },
   "source": [
    "<hr>\n",
    "<h1>\n",
    "2: Change column values\n",
    "</h1>\n",
    "<div class=h1_cell>\n",
    "Before getting to building predictors, let's do a bit of wrangling. The column we are trying to predict, `Loan_Status`, is using `Y` and `N` - annoying. Change the values to 1 and 0 instead. And do not generate a new column for the replacement values - change them directly in `Loan_Status`. Note that I have not shown you how to do this. It's your chance to google for answers.\n",
    "</div>"
   ]
  },
  {
   "cell_type": "code",
   "execution_count": 28,
   "metadata": {
    "colab": {
     "base_uri": "https://localhost:8080/",
     "height": 130
    },
    "colab_type": "code",
    "id": "GnQTIJkAkLg1",
    "outputId": "cfbb1708-402a-450a-c688-0cea13395b2d"
   },
   "outputs": [
    {
     "data": {
      "text/html": [
       "<div>\n",
       "<style scoped>\n",
       "    .dataframe tbody tr th:only-of-type {\n",
       "        vertical-align: middle;\n",
       "    }\n",
       "\n",
       "    .dataframe tbody tr th {\n",
       "        vertical-align: top;\n",
       "    }\n",
       "\n",
       "    .dataframe thead th {\n",
       "        text-align: right;\n",
       "    }\n",
       "</style>\n",
       "<table border=\"1\" class=\"dataframe\">\n",
       "  <thead>\n",
       "    <tr style=\"text-align: right;\">\n",
       "      <th></th>\n",
       "      <th>Gender</th>\n",
       "      <th>Married</th>\n",
       "      <th>Dependents</th>\n",
       "      <th>Education</th>\n",
       "      <th>Self_Employed</th>\n",
       "      <th>ApplicantIncome</th>\n",
       "      <th>CoapplicantIncome</th>\n",
       "      <th>LoanAmount</th>\n",
       "      <th>Loan_Amount_Term</th>\n",
       "      <th>Credit_History</th>\n",
       "      <th>Property_Area</th>\n",
       "      <th>Loan_Status</th>\n",
       "      <th>no_lam</th>\n",
       "      <th>filled_lam</th>\n",
       "      <th>pa_Rural</th>\n",
       "      <th>pa_Semiurban</th>\n",
       "      <th>pa_Urban</th>\n",
       "      <th>pa_nan</th>\n",
       "      <th>lam_bin</th>\n",
       "      <th>lam_Low</th>\n",
       "      <th>lam_Average</th>\n",
       "      <th>lam_High</th>\n",
       "    </tr>\n",
       "  </thead>\n",
       "  <tbody>\n",
       "    <tr>\n",
       "      <th>0</th>\n",
       "      <td>Male</td>\n",
       "      <td>No</td>\n",
       "      <td>0</td>\n",
       "      <td>Graduate</td>\n",
       "      <td>No</td>\n",
       "      <td>5849</td>\n",
       "      <td>0.0</td>\n",
       "      <td>NaN</td>\n",
       "      <td>360.0</td>\n",
       "      <td>1.0</td>\n",
       "      <td>Urban</td>\n",
       "      <td>1</td>\n",
       "      <td>1</td>\n",
       "      <td>146.412162</td>\n",
       "      <td>0</td>\n",
       "      <td>0</td>\n",
       "      <td>1</td>\n",
       "      <td>0</td>\n",
       "      <td>Low</td>\n",
       "      <td>1</td>\n",
       "      <td>0</td>\n",
       "      <td>0</td>\n",
       "    </tr>\n",
       "    <tr>\n",
       "      <th>1</th>\n",
       "      <td>Male</td>\n",
       "      <td>Yes</td>\n",
       "      <td>1</td>\n",
       "      <td>Graduate</td>\n",
       "      <td>No</td>\n",
       "      <td>4583</td>\n",
       "      <td>1508.0</td>\n",
       "      <td>128.0</td>\n",
       "      <td>360.0</td>\n",
       "      <td>1.0</td>\n",
       "      <td>Rural</td>\n",
       "      <td>0</td>\n",
       "      <td>0</td>\n",
       "      <td>128.000000</td>\n",
       "      <td>1</td>\n",
       "      <td>0</td>\n",
       "      <td>0</td>\n",
       "      <td>0</td>\n",
       "      <td>Low</td>\n",
       "      <td>1</td>\n",
       "      <td>0</td>\n",
       "      <td>0</td>\n",
       "    </tr>\n",
       "  </tbody>\n",
       "</table>\n",
       "</div>"
      ],
      "text/plain": [
       "  Gender Married Dependents Education Self_Employed  ApplicantIncome  \\\n",
       "0   Male      No          0  Graduate            No             5849   \n",
       "1   Male     Yes          1  Graduate            No             4583   \n",
       "\n",
       "   CoapplicantIncome  LoanAmount  Loan_Amount_Term  Credit_History  \\\n",
       "0                0.0         NaN             360.0             1.0   \n",
       "1             1508.0       128.0             360.0             1.0   \n",
       "\n",
       "  Property_Area  Loan_Status  no_lam  filled_lam  pa_Rural  pa_Semiurban  \\\n",
       "0         Urban            1       1  146.412162         0             0   \n",
       "1         Rural            0       0  128.000000         1             0   \n",
       "\n",
       "   pa_Urban  pa_nan lam_bin  lam_Low  lam_Average  lam_High  \n",
       "0         1       0     Low        1            0         0  \n",
       "1         0       0     Low        1            0         0  "
      ]
     },
     "execution_count": 28,
     "metadata": {},
     "output_type": "execute_result"
    }
   ],
   "source": [
    "\"\"\"for row in loan_table['Loan_Status']:\n",
    "    if row == 'Y':\n",
    "        loan_table['Loan_Status'][row] = 1\n",
    "    else:\n",
    "        row = 0\"\"\"\n",
    "loan_table['Loan_Status'] = loan_table['Loan_Status'].replace('Y', 1)\n",
    "loan_table['Loan_Status'] = loan_table['Loan_Status'].replace('N', 0)\n",
    "\n",
    "loan_table.head(2)"
   ]
  },
  {
   "cell_type": "markdown",
   "metadata": {
    "colab_type": "text",
    "id": "2QR498M8kLg6"
   },
   "source": [
    "<hr>\n",
    "<h1>\n",
    "3: Build a stump using Credit_History\n",
    "</h1>\n",
    "<p>\n",
    "<div class=h1_cell>\n",
    "<p>\n",
    "You may notice that the Credit_History column is already in semi-binary format: float versions of  0 and 1. Do we really have to one-hot encode it? It's a bit of a subjective question. My view is that we should be able to replace a 1 with a Yes/True and a 0 with a No/False. But what is actually being represented is 1 = good and 0 = bad. I think it should be one-hot encoded. And further, I'd like the columns you generate to be `ch_good`, `ch_bad`, `ch_nan`. Let's take it one step at time.\n",
    "  <p>\n",
    "    You may ask, as I did, why Credit_History has float values when it is binary and should be an int. The answer is that if a column contains a `NaN`, you cannot have an `int` type for the column. They are working on the problem. See here: https://stackoverflow.com/questions/11548005/numpy-or-pandas-keeping-array-type-as-integer-while-having-a-nan-value. In particular, there is a method, `to_numeric`, that you can apply to a column to change its type to `int`.  But if you try it on `Credit_History`, it has no effect.\n",
    "<p>\n",
    "Go ahead and one-hot encode the Credit_History column. You should end up wtih `ch_0.0`, `ch_1.0`,  `ch_nan`. \n",
    "\n",
    "</div>"
   ]
  },
  {
   "cell_type": "code",
   "execution_count": 29,
   "metadata": {
    "colab": {},
    "colab_type": "code",
    "id": "QgzAaqzvkLg7"
   },
   "outputs": [],
   "source": [
    "#do one-hot encoding on Credit_History\n",
    "one_hot_ch = pd.get_dummies(loan_table['Credit_History'], prefix='ch', dummy_na=True)\n",
    "loan_table = loan_table.join(one_hot_ch)\n",
    "\n"
   ]
  },
  {
   "cell_type": "code",
   "execution_count": 30,
   "metadata": {
    "colab": {
     "base_uri": "https://localhost:8080/",
     "height": 239
    },
    "colab_type": "code",
    "id": "b7FC7NlYrz0X",
    "outputId": "d3fa1c58-e66c-4a43-bd2f-8e4e2346d9dd"
   },
   "outputs": [
    {
     "data": {
      "text/html": [
       "<div>\n",
       "<style scoped>\n",
       "    .dataframe tbody tr th:only-of-type {\n",
       "        vertical-align: middle;\n",
       "    }\n",
       "\n",
       "    .dataframe tbody tr th {\n",
       "        vertical-align: top;\n",
       "    }\n",
       "\n",
       "    .dataframe thead th {\n",
       "        text-align: right;\n",
       "    }\n",
       "</style>\n",
       "<table border=\"1\" class=\"dataframe\">\n",
       "  <thead>\n",
       "    <tr style=\"text-align: right;\">\n",
       "      <th></th>\n",
       "      <th>Gender</th>\n",
       "      <th>Married</th>\n",
       "      <th>Dependents</th>\n",
       "      <th>Education</th>\n",
       "      <th>Self_Employed</th>\n",
       "      <th>ApplicantIncome</th>\n",
       "      <th>CoapplicantIncome</th>\n",
       "      <th>LoanAmount</th>\n",
       "      <th>Loan_Amount_Term</th>\n",
       "      <th>Credit_History</th>\n",
       "      <th>Property_Area</th>\n",
       "      <th>Loan_Status</th>\n",
       "      <th>no_lam</th>\n",
       "      <th>filled_lam</th>\n",
       "      <th>pa_Rural</th>\n",
       "      <th>pa_Semiurban</th>\n",
       "      <th>pa_Urban</th>\n",
       "      <th>pa_nan</th>\n",
       "      <th>lam_bin</th>\n",
       "      <th>lam_Low</th>\n",
       "      <th>lam_Average</th>\n",
       "      <th>lam_High</th>\n",
       "      <th>ch_0.0</th>\n",
       "      <th>ch_1.0</th>\n",
       "      <th>ch_nan</th>\n",
       "    </tr>\n",
       "  </thead>\n",
       "  <tbody>\n",
       "    <tr>\n",
       "      <th>0</th>\n",
       "      <td>Male</td>\n",
       "      <td>No</td>\n",
       "      <td>0</td>\n",
       "      <td>Graduate</td>\n",
       "      <td>No</td>\n",
       "      <td>5849</td>\n",
       "      <td>0.0</td>\n",
       "      <td>NaN</td>\n",
       "      <td>360.0</td>\n",
       "      <td>1.0</td>\n",
       "      <td>Urban</td>\n",
       "      <td>1</td>\n",
       "      <td>1</td>\n",
       "      <td>146.412162</td>\n",
       "      <td>0</td>\n",
       "      <td>0</td>\n",
       "      <td>1</td>\n",
       "      <td>0</td>\n",
       "      <td>Low</td>\n",
       "      <td>1</td>\n",
       "      <td>0</td>\n",
       "      <td>0</td>\n",
       "      <td>0</td>\n",
       "      <td>1</td>\n",
       "      <td>0</td>\n",
       "    </tr>\n",
       "    <tr>\n",
       "      <th>1</th>\n",
       "      <td>Male</td>\n",
       "      <td>Yes</td>\n",
       "      <td>1</td>\n",
       "      <td>Graduate</td>\n",
       "      <td>No</td>\n",
       "      <td>4583</td>\n",
       "      <td>1508.0</td>\n",
       "      <td>128.0</td>\n",
       "      <td>360.0</td>\n",
       "      <td>1.0</td>\n",
       "      <td>Rural</td>\n",
       "      <td>0</td>\n",
       "      <td>0</td>\n",
       "      <td>128.000000</td>\n",
       "      <td>1</td>\n",
       "      <td>0</td>\n",
       "      <td>0</td>\n",
       "      <td>0</td>\n",
       "      <td>Low</td>\n",
       "      <td>1</td>\n",
       "      <td>0</td>\n",
       "      <td>0</td>\n",
       "      <td>0</td>\n",
       "      <td>1</td>\n",
       "      <td>0</td>\n",
       "    </tr>\n",
       "    <tr>\n",
       "      <th>2</th>\n",
       "      <td>Male</td>\n",
       "      <td>Yes</td>\n",
       "      <td>0</td>\n",
       "      <td>Graduate</td>\n",
       "      <td>Yes</td>\n",
       "      <td>3000</td>\n",
       "      <td>0.0</td>\n",
       "      <td>66.0</td>\n",
       "      <td>360.0</td>\n",
       "      <td>1.0</td>\n",
       "      <td>Urban</td>\n",
       "      <td>1</td>\n",
       "      <td>0</td>\n",
       "      <td>66.000000</td>\n",
       "      <td>0</td>\n",
       "      <td>0</td>\n",
       "      <td>1</td>\n",
       "      <td>0</td>\n",
       "      <td>Low</td>\n",
       "      <td>1</td>\n",
       "      <td>0</td>\n",
       "      <td>0</td>\n",
       "      <td>0</td>\n",
       "      <td>1</td>\n",
       "      <td>0</td>\n",
       "    </tr>\n",
       "    <tr>\n",
       "      <th>3</th>\n",
       "      <td>Male</td>\n",
       "      <td>Yes</td>\n",
       "      <td>0</td>\n",
       "      <td>Not Graduate</td>\n",
       "      <td>No</td>\n",
       "      <td>2583</td>\n",
       "      <td>2358.0</td>\n",
       "      <td>120.0</td>\n",
       "      <td>360.0</td>\n",
       "      <td>1.0</td>\n",
       "      <td>Urban</td>\n",
       "      <td>1</td>\n",
       "      <td>0</td>\n",
       "      <td>120.000000</td>\n",
       "      <td>0</td>\n",
       "      <td>0</td>\n",
       "      <td>1</td>\n",
       "      <td>0</td>\n",
       "      <td>Low</td>\n",
       "      <td>1</td>\n",
       "      <td>0</td>\n",
       "      <td>0</td>\n",
       "      <td>0</td>\n",
       "      <td>1</td>\n",
       "      <td>0</td>\n",
       "    </tr>\n",
       "    <tr>\n",
       "      <th>4</th>\n",
       "      <td>Male</td>\n",
       "      <td>No</td>\n",
       "      <td>0</td>\n",
       "      <td>Graduate</td>\n",
       "      <td>No</td>\n",
       "      <td>6000</td>\n",
       "      <td>0.0</td>\n",
       "      <td>141.0</td>\n",
       "      <td>360.0</td>\n",
       "      <td>1.0</td>\n",
       "      <td>Urban</td>\n",
       "      <td>1</td>\n",
       "      <td>0</td>\n",
       "      <td>141.000000</td>\n",
       "      <td>0</td>\n",
       "      <td>0</td>\n",
       "      <td>1</td>\n",
       "      <td>0</td>\n",
       "      <td>Low</td>\n",
       "      <td>1</td>\n",
       "      <td>0</td>\n",
       "      <td>0</td>\n",
       "      <td>0</td>\n",
       "      <td>1</td>\n",
       "      <td>0</td>\n",
       "    </tr>\n",
       "  </tbody>\n",
       "</table>\n",
       "</div>"
      ],
      "text/plain": [
       "  Gender Married Dependents     Education Self_Employed  ApplicantIncome  \\\n",
       "0   Male      No          0      Graduate            No             5849   \n",
       "1   Male     Yes          1      Graduate            No             4583   \n",
       "2   Male     Yes          0      Graduate           Yes             3000   \n",
       "3   Male     Yes          0  Not Graduate            No             2583   \n",
       "4   Male      No          0      Graduate            No             6000   \n",
       "\n",
       "   CoapplicantIncome  LoanAmount  Loan_Amount_Term  Credit_History  \\\n",
       "0                0.0         NaN             360.0             1.0   \n",
       "1             1508.0       128.0             360.0             1.0   \n",
       "2                0.0        66.0             360.0             1.0   \n",
       "3             2358.0       120.0             360.0             1.0   \n",
       "4                0.0       141.0             360.0             1.0   \n",
       "\n",
       "  Property_Area  Loan_Status  no_lam  filled_lam  pa_Rural  pa_Semiurban  \\\n",
       "0         Urban            1       1  146.412162         0             0   \n",
       "1         Rural            0       0  128.000000         1             0   \n",
       "2         Urban            1       0   66.000000         0             0   \n",
       "3         Urban            1       0  120.000000         0             0   \n",
       "4         Urban            1       0  141.000000         0             0   \n",
       "\n",
       "   pa_Urban  pa_nan lam_bin  lam_Low  lam_Average  lam_High  ch_0.0  ch_1.0  \\\n",
       "0         1       0     Low        1            0         0       0       1   \n",
       "1         0       0     Low        1            0         0       0       1   \n",
       "2         1       0     Low        1            0         0       0       1   \n",
       "3         1       0     Low        1            0         0       0       1   \n",
       "4         1       0     Low        1            0         0       0       1   \n",
       "\n",
       "   ch_nan  \n",
       "0       0  \n",
       "1       0  \n",
       "2       0  \n",
       "3       0  \n",
       "4       0  "
      ]
     },
     "execution_count": 30,
     "metadata": {},
     "output_type": "execute_result"
    }
   ],
   "source": [
    "loan_table.head()"
   ]
  },
  {
   "cell_type": "markdown",
   "metadata": {
    "colab_type": "text",
    "id": "mytgbD5qkLhA"
   },
   "source": [
    "<div class=just_text>\n",
    "Now rename the 2 columns to `ch_bad` and `ch_good`.\n",
    "</div>"
   ]
  },
  {
   "cell_type": "code",
   "execution_count": 32,
   "metadata": {
    "colab": {
     "base_uri": "https://localhost:8080/",
     "height": 99
    },
    "colab_type": "code",
    "id": "_EfbuBfXkLhA",
    "outputId": "2333bf5b-ebb8-4bef-d39a-a2e174823807"
   },
   "outputs": [
    {
     "data": {
      "text/html": [
       "<div>\n",
       "<style scoped>\n",
       "    .dataframe tbody tr th:only-of-type {\n",
       "        vertical-align: middle;\n",
       "    }\n",
       "\n",
       "    .dataframe tbody tr th {\n",
       "        vertical-align: top;\n",
       "    }\n",
       "\n",
       "    .dataframe thead th {\n",
       "        text-align: right;\n",
       "    }\n",
       "</style>\n",
       "<table border=\"1\" class=\"dataframe\">\n",
       "  <thead>\n",
       "    <tr style=\"text-align: right;\">\n",
       "      <th></th>\n",
       "      <th>Gender</th>\n",
       "      <th>Married</th>\n",
       "      <th>Dependents</th>\n",
       "      <th>Education</th>\n",
       "      <th>Self_Employed</th>\n",
       "      <th>ApplicantIncome</th>\n",
       "      <th>CoapplicantIncome</th>\n",
       "      <th>LoanAmount</th>\n",
       "      <th>Loan_Amount_Term</th>\n",
       "      <th>Credit_History</th>\n",
       "      <th>Property_Area</th>\n",
       "      <th>Loan_Status</th>\n",
       "      <th>no_lam</th>\n",
       "      <th>filled_lam</th>\n",
       "      <th>pa_Rural</th>\n",
       "      <th>pa_Semiurban</th>\n",
       "      <th>pa_Urban</th>\n",
       "      <th>pa_nan</th>\n",
       "      <th>lam_bin</th>\n",
       "      <th>lam_Low</th>\n",
       "      <th>lam_Average</th>\n",
       "      <th>lam_High</th>\n",
       "      <th>ch_bad</th>\n",
       "      <th>ch_good</th>\n",
       "      <th>ch_nan</th>\n",
       "    </tr>\n",
       "  </thead>\n",
       "  <tbody>\n",
       "    <tr>\n",
       "      <th>0</th>\n",
       "      <td>Male</td>\n",
       "      <td>No</td>\n",
       "      <td>0</td>\n",
       "      <td>Graduate</td>\n",
       "      <td>No</td>\n",
       "      <td>5849</td>\n",
       "      <td>0.0</td>\n",
       "      <td>NaN</td>\n",
       "      <td>360.0</td>\n",
       "      <td>1.0</td>\n",
       "      <td>Urban</td>\n",
       "      <td>1</td>\n",
       "      <td>1</td>\n",
       "      <td>146.412162</td>\n",
       "      <td>0</td>\n",
       "      <td>0</td>\n",
       "      <td>1</td>\n",
       "      <td>0</td>\n",
       "      <td>Low</td>\n",
       "      <td>1</td>\n",
       "      <td>0</td>\n",
       "      <td>0</td>\n",
       "      <td>0</td>\n",
       "      <td>1</td>\n",
       "      <td>0</td>\n",
       "    </tr>\n",
       "  </tbody>\n",
       "</table>\n",
       "</div>"
      ],
      "text/plain": [
       "  Gender Married Dependents Education Self_Employed  ApplicantIncome  \\\n",
       "0   Male      No          0  Graduate            No             5849   \n",
       "\n",
       "   CoapplicantIncome  LoanAmount  Loan_Amount_Term  Credit_History  \\\n",
       "0                0.0         NaN             360.0             1.0   \n",
       "\n",
       "  Property_Area  Loan_Status  no_lam  filled_lam  pa_Rural  pa_Semiurban  \\\n",
       "0         Urban            1       1  146.412162         0             0   \n",
       "\n",
       "   pa_Urban  pa_nan lam_bin  lam_Low  lam_Average  lam_High  ch_bad  ch_good  \\\n",
       "0         1       0     Low        1            0         0       0        1   \n",
       "\n",
       "   ch_nan  \n",
       "0       0  "
      ]
     },
     "execution_count": 32,
     "metadata": {},
     "output_type": "execute_result"
    }
   ],
   "source": [
    "#rename columns\n",
    "loan_table.rename(columns = {'ch_0.0':'ch_bad'}, inplace = True)\n",
    "loan_table.rename(columns = {'ch_1.0':'ch_good'}, inplace = True)\n",
    "\n",
    "loan_table.head(1)"
   ]
  },
  {
   "cell_type": "markdown",
   "metadata": {
    "colab_type": "text",
    "id": "tyrWyyqzkLhG"
   },
   "source": [
    "<div class=just_text>\n",
    "Now build the predictor using `ch_good` as the single node/question. A good credit history leads to a prediction of 1 else 0.\n",
    "</div>"
   ]
  },
  {
   "cell_type": "code",
   "execution_count": 36,
   "metadata": {
    "colab": {},
    "colab_type": "code",
    "id": "p2asdCuskLhH"
   },
   "outputs": [],
   "source": [
    "#build the predictor - call it loan_predictor_1\n",
    "\n",
    "def loan_predictor_1(row):\n",
    "    if row['ch_good']:\n",
    "        prediction = 1\n",
    "    else:\n",
    "        prediction = 0\n",
    "    return prediction\n"
   ]
  },
  {
   "cell_type": "code",
   "execution_count": 1,
   "metadata": {
    "colab": {},
    "colab_type": "code",
    "id": "BVPLAXXxrH4c"
   },
   "outputs": [
    {
     "ename": "NameError",
     "evalue": "name 'loan_table' is not defined",
     "output_type": "error",
     "traceback": [
      "\u001b[0;31m---------------------------------------------------------------------------\u001b[0m",
      "\u001b[0;31mNameError\u001b[0m                                 Traceback (most recent call last)",
      "\u001b[0;32m<ipython-input-1-a06dd596e3bf>\u001b[0m in \u001b[0;36m<module>\u001b[0;34m\u001b[0m\n\u001b[1;32m      1\u001b[0m \u001b[0;31m#start a results table\u001b[0m\u001b[0;34m\u001b[0m\u001b[0;34m\u001b[0m\u001b[0;34m\u001b[0m\u001b[0m\n\u001b[0;32m----> 2\u001b[0;31m \u001b[0mloan_results\u001b[0m \u001b[0;34m=\u001b[0m \u001b[0mloan_table\u001b[0m\u001b[0;34m[\u001b[0m\u001b[0;34m[\u001b[0m\u001b[0;34m'Loan_Status'\u001b[0m\u001b[0;34m]\u001b[0m\u001b[0;34m]\u001b[0m\u001b[0;34m.\u001b[0m\u001b[0mcopy\u001b[0m\u001b[0;34m(\u001b[0m\u001b[0;34m)\u001b[0m\u001b[0;34m\u001b[0m\u001b[0;34m\u001b[0m\u001b[0m\n\u001b[0m",
      "\u001b[0;31mNameError\u001b[0m: name 'loan_table' is not defined"
     ]
    }
   ],
   "source": [
    "#start a results table\n",
    "loan_results = loan_table[['Loan_Status']].copy()"
   ]
  },
  {
   "cell_type": "code",
   "execution_count": 44,
   "metadata": {
    "colab": {
     "base_uri": "https://localhost:8080/",
     "height": 79
    },
    "colab_type": "code",
    "id": "lnMRuHNYkLhL",
    "outputId": "eb3669de-9a2b-48ca-a21d-b68519112faf"
   },
   "outputs": [
    {
     "data": {
      "text/html": [
       "<div>\n",
       "<style scoped>\n",
       "    .dataframe tbody tr th:only-of-type {\n",
       "        vertical-align: middle;\n",
       "    }\n",
       "\n",
       "    .dataframe tbody tr th {\n",
       "        vertical-align: top;\n",
       "    }\n",
       "\n",
       "    .dataframe thead th {\n",
       "        text-align: right;\n",
       "    }\n",
       "</style>\n",
       "<table border=\"1\" class=\"dataframe\">\n",
       "  <thead>\n",
       "    <tr style=\"text-align: right;\">\n",
       "      <th></th>\n",
       "      <th>Loan_Status</th>\n",
       "      <th>pred_1</th>\n",
       "    </tr>\n",
       "  </thead>\n",
       "  <tbody>\n",
       "    <tr>\n",
       "      <th>0</th>\n",
       "      <td>1</td>\n",
       "      <td>1</td>\n",
       "    </tr>\n",
       "    <tr>\n",
       "      <th>1</th>\n",
       "      <td>0</td>\n",
       "      <td>1</td>\n",
       "    </tr>\n",
       "    <tr>\n",
       "      <th>2</th>\n",
       "      <td>1</td>\n",
       "      <td>1</td>\n",
       "    </tr>\n",
       "    <tr>\n",
       "      <th>3</th>\n",
       "      <td>1</td>\n",
       "      <td>1</td>\n",
       "    </tr>\n",
       "    <tr>\n",
       "      <th>4</th>\n",
       "      <td>1</td>\n",
       "      <td>1</td>\n",
       "    </tr>\n",
       "  </tbody>\n",
       "</table>\n",
       "</div>"
      ],
      "text/plain": [
       "   Loan_Status  pred_1\n",
       "0            1       1\n",
       "1            0       1\n",
       "2            1       1\n",
       "3            1       1\n",
       "4            1       1"
      ]
     },
     "execution_count": 44,
     "metadata": {},
     "output_type": "execute_result"
    }
   ],
   "source": [
    "#create a new column `pred_1` with your predictions\n",
    "loan_results['pred_1'] = loan_table.apply(lambda row: loan_predictor_1(row), axis = 1)\n",
    "\n",
    "\n",
    "loan_results.head()"
   ]
  },
  {
   "cell_type": "markdown",
   "metadata": {
    "colab_type": "text",
    "id": "1aMjF0B0kLhQ"
   },
   "source": [
    "\n",
    "<h2>\n",
    "Classify results\n",
    "</h2>\n",
    "<p>\n",
    "<div class=h1_cell>\n",
    "Build a new column `pred_1_type`.\n",
    "</div>"
   ]
  },
  {
   "cell_type": "code",
   "execution_count": 47,
   "metadata": {
    "colab": {},
    "colab_type": "code",
    "id": "J9q9LCmikLhR"
   },
   "outputs": [],
   "source": [
    "#new pred_1_type column - use predictor_case from your library\n",
    "loan_results['pred_1_type'] = loan_results.apply(lambda row: predictor_case(row, 'pred_1', 'Loan_Status'), axis =1)\n"
   ]
  },
  {
   "cell_type": "code",
   "execution_count": 0,
   "metadata": {
    "colab": {
     "base_uri": "https://localhost:8080/",
     "height": 202
    },
    "colab_type": "code",
    "id": "eU1aMzHpkLhX",
    "outputId": "65cba4a1-6eeb-4055-934e-377450ad8e1a"
   },
   "outputs": [
    {
     "data": {
      "text/html": [
       "<div>\n",
       "<style scoped>\n",
       "    .dataframe tbody tr th:only-of-type {\n",
       "        vertical-align: middle;\n",
       "    }\n",
       "\n",
       "    .dataframe tbody tr th {\n",
       "        vertical-align: top;\n",
       "    }\n",
       "\n",
       "    .dataframe thead th {\n",
       "        text-align: right;\n",
       "    }\n",
       "</style>\n",
       "<table border=\"1\" class=\"dataframe\">\n",
       "  <thead>\n",
       "    <tr style=\"text-align: right;\">\n",
       "      <th></th>\n",
       "      <th>Loan_Status</th>\n",
       "      <th>pred_1</th>\n",
       "      <th>pred_1_type</th>\n",
       "    </tr>\n",
       "  </thead>\n",
       "  <tbody>\n",
       "    <tr>\n",
       "      <th>609</th>\n",
       "      <td>1</td>\n",
       "      <td>1</td>\n",
       "      <td>true_positive</td>\n",
       "    </tr>\n",
       "    <tr>\n",
       "      <th>610</th>\n",
       "      <td>1</td>\n",
       "      <td>1</td>\n",
       "      <td>true_positive</td>\n",
       "    </tr>\n",
       "    <tr>\n",
       "      <th>611</th>\n",
       "      <td>1</td>\n",
       "      <td>1</td>\n",
       "      <td>true_positive</td>\n",
       "    </tr>\n",
       "    <tr>\n",
       "      <th>612</th>\n",
       "      <td>1</td>\n",
       "      <td>1</td>\n",
       "      <td>true_positive</td>\n",
       "    </tr>\n",
       "    <tr>\n",
       "      <th>613</th>\n",
       "      <td>0</td>\n",
       "      <td>0</td>\n",
       "      <td>true_negative</td>\n",
       "    </tr>\n",
       "  </tbody>\n",
       "</table>\n",
       "</div>"
      ],
      "text/plain": [
       "     Loan_Status  pred_1    pred_1_type\n",
       "609            1       1  true_positive\n",
       "610            1       1  true_positive\n",
       "611            1       1  true_positive\n",
       "612            1       1  true_positive\n",
       "613            0       0  true_negative"
      ]
     },
     "execution_count": 15,
     "metadata": {
      "tags": []
     },
     "output_type": "execute_result"
    }
   ],
   "source": [
    "loan_results.tail()"
   ]
  },
  {
   "cell_type": "markdown",
   "metadata": {
    "colab_type": "text",
    "id": "w3m--XVqkLhe"
   },
   "source": [
    "<div class=just_text>\n",
    "Now build the series that contains the count of all 4 types.\n",
    "</div>"
   ]
  },
  {
   "cell_type": "code",
   "execution_count": 48,
   "metadata": {
    "colab": {
     "base_uri": "https://localhost:8080/",
     "height": 104
    },
    "colab_type": "code",
    "id": "7iPIdcmVkLhf",
    "outputId": "2099fc7b-77f7-44a2-ef04-b9d8cff9a766"
   },
   "outputs": [
    {
     "data": {
      "text/plain": [
       "true_positive     378\n",
       "false_positive     97\n",
       "true_negative      95\n",
       "false_negative     44\n",
       "Name: pred_1_type, dtype: int64"
      ]
     },
     "execution_count": 48,
     "metadata": {},
     "output_type": "execute_result"
    }
   ],
   "source": [
    "#new series called p1_types\n",
    "p1_types = loan_results['pred_1_type'].value_counts()\n",
    "\n",
    "p1_types"
   ]
  },
  {
   "cell_type": "code",
   "execution_count": 49,
   "metadata": {
    "colab": {
     "base_uri": "https://localhost:8080/",
     "height": 35
    },
    "colab_type": "code",
    "id": "PBURCmGlk240",
    "outputId": "35b917df-7f4a-4188-d64e-d1ff1a27cac8"
   },
   "outputs": [
    {
     "data": {
      "text/plain": [
       "0.7703583061889251"
      ]
     },
     "execution_count": 49,
     "metadata": {},
     "output_type": "execute_result"
    }
   ],
   "source": [
    "#what is straight accuracy? Use function from your library\n",
    "\n",
    "accuracy(p1_types)"
   ]
  },
  {
   "cell_type": "markdown",
   "metadata": {
    "colab_type": "text",
    "id": "_tfMmF1OkLhk"
   },
   "source": [
    "<hr>\n",
    "<h1>\n",
    "4: Build a more complicated tree\n",
    "</h1>\n",
    "<div class=h1_cell>\n",
    "Here is your target:\n",
    "<p>\n",
    "<img src='https://www.dropbox.com/s/kgj6ms46nacjny5/bushy_loan.png?raw=1'  width=\"400\" height=\"400\">\n",
    "<p>\n",
    "</div>"
   ]
  },
  {
   "cell_type": "code",
   "execution_count": 53,
   "metadata": {
    "colab": {},
    "colab_type": "code",
    "id": "ukxAtcJBkLhl"
   },
   "outputs": [],
   "source": [
    "# build the predictor - call it predictor_2.\n",
    "\n",
    "def loan_predictor_2(row):\n",
    "    if row['ch_good']:\n",
    "        if row['lam_High']:\n",
    "            prediction = 0\n",
    "        else:\n",
    "            prediction = 1\n",
    "    else:\n",
    "        if row['pa_Urban']:\n",
    "            prediction = 1\n",
    "        else:\n",
    "            prediction = 0\n",
    "    return prediction"
   ]
  },
  {
   "cell_type": "code",
   "execution_count": 54,
   "metadata": {
    "colab": {
     "base_uri": "https://localhost:8080/",
     "height": 79
    },
    "colab_type": "code",
    "id": "F3gkUTYnkLhp",
    "outputId": "a87bf35c-b06f-4595-eb02-997adeca4f28"
   },
   "outputs": [
    {
     "data": {
      "text/html": [
       "<div>\n",
       "<style scoped>\n",
       "    .dataframe tbody tr th:only-of-type {\n",
       "        vertical-align: middle;\n",
       "    }\n",
       "\n",
       "    .dataframe tbody tr th {\n",
       "        vertical-align: top;\n",
       "    }\n",
       "\n",
       "    .dataframe thead th {\n",
       "        text-align: right;\n",
       "    }\n",
       "</style>\n",
       "<table border=\"1\" class=\"dataframe\">\n",
       "  <thead>\n",
       "    <tr style=\"text-align: right;\">\n",
       "      <th></th>\n",
       "      <th>Loan_Status</th>\n",
       "      <th>pred_1</th>\n",
       "      <th>pred_1_type</th>\n",
       "      <th>pred_2</th>\n",
       "    </tr>\n",
       "  </thead>\n",
       "  <tbody>\n",
       "    <tr>\n",
       "      <th>0</th>\n",
       "      <td>1</td>\n",
       "      <td>1</td>\n",
       "      <td>true_positive</td>\n",
       "      <td>1</td>\n",
       "    </tr>\n",
       "  </tbody>\n",
       "</table>\n",
       "</div>"
      ],
      "text/plain": [
       "   Loan_Status  pred_1    pred_1_type  pred_2\n",
       "0            1       1  true_positive       1"
      ]
     },
     "execution_count": 54,
     "metadata": {},
     "output_type": "execute_result"
    }
   ],
   "source": [
    "#create a new column `pred_2` with your predictions\n",
    "loan_results['pred_2'] = loan_table.apply(lambda row: loan_predictor_2(row), axis = 1)\n",
    "\n",
    "\n",
    "loan_results.head(1)"
   ]
  },
  {
   "cell_type": "code",
   "execution_count": 55,
   "metadata": {
    "colab": {
     "base_uri": "https://localhost:8080/",
     "height": 79
    },
    "colab_type": "code",
    "id": "hq_5v_kykLht",
    "outputId": "d47d99f4-b8f6-40b6-a349-ef156818c5e8"
   },
   "outputs": [
    {
     "data": {
      "text/html": [
       "<div>\n",
       "<style scoped>\n",
       "    .dataframe tbody tr th:only-of-type {\n",
       "        vertical-align: middle;\n",
       "    }\n",
       "\n",
       "    .dataframe tbody tr th {\n",
       "        vertical-align: top;\n",
       "    }\n",
       "\n",
       "    .dataframe thead th {\n",
       "        text-align: right;\n",
       "    }\n",
       "</style>\n",
       "<table border=\"1\" class=\"dataframe\">\n",
       "  <thead>\n",
       "    <tr style=\"text-align: right;\">\n",
       "      <th></th>\n",
       "      <th>Loan_Status</th>\n",
       "      <th>pred_1</th>\n",
       "      <th>pred_1_type</th>\n",
       "      <th>pred_2</th>\n",
       "      <th>pred_2_type</th>\n",
       "    </tr>\n",
       "  </thead>\n",
       "  <tbody>\n",
       "    <tr>\n",
       "      <th>0</th>\n",
       "      <td>1</td>\n",
       "      <td>1</td>\n",
       "      <td>true_positive</td>\n",
       "      <td>1</td>\n",
       "      <td>true_positive</td>\n",
       "    </tr>\n",
       "  </tbody>\n",
       "</table>\n",
       "</div>"
      ],
      "text/plain": [
       "   Loan_Status  pred_1    pred_1_type  pred_2    pred_2_type\n",
       "0            1       1  true_positive       1  true_positive"
      ]
     },
     "execution_count": 55,
     "metadata": {},
     "output_type": "execute_result"
    }
   ],
   "source": [
    "#build pred_2_type column\n",
    "loan_results['pred_2_type'] = loan_results.apply(lambda row: predictor_case(row, 'pred_2', 'Loan_Status'), axis =1)\n",
    "\n",
    "\n",
    "loan_results.head(1)"
   ]
  },
  {
   "cell_type": "code",
   "execution_count": 57,
   "metadata": {
    "colab": {
     "base_uri": "https://localhost:8080/",
     "height": 104
    },
    "colab_type": "code",
    "id": "_7RH2lDDkLhy",
    "outputId": "f6e97ee6-bc0a-4f4d-8830-cddf60ff89d3"
   },
   "outputs": [
    {
     "data": {
      "text/plain": [
       "true_positive     390\n",
       "false_positive    128\n",
       "true_negative      64\n",
       "false_negative     32\n",
       "Name: pred_2_type, dtype: int64"
      ]
     },
     "execution_count": 57,
     "metadata": {},
     "output_type": "execute_result"
    }
   ],
   "source": [
    "#new series called p2_types\n",
    "p2_types = loan_results['pred_2_type'].value_counts()\n",
    "\n",
    "p2_types"
   ]
  },
  {
   "cell_type": "markdown",
   "metadata": {
    "colab_type": "text",
    "id": "IJd14A5_kLh1"
   },
   "source": [
    "<hr>\n",
    "<h1>\n",
    "5: Compare the 2 predictors\n",
    "</h1>\n",
    "<div class=h1_cell>\n",
    "First, do visualization called for then compute measures.\n",
    "</div>"
   ]
  },
  {
   "cell_type": "markdown",
   "metadata": {
    "colab_type": "text",
    "id": "Wb0ZSEB_kLh3"
   },
   "source": [
    "<h2>\n",
    "Visualize the 2 predictors' results\n",
    "</h2>\n",
    "<p>\n",
    "<div class=h1_cell>\n",
    "Use a pie chart for each.\n",
    "</div>"
   ]
  },
  {
   "cell_type": "code",
   "execution_count": 58,
   "metadata": {
    "colab": {
     "base_uri": "https://localhost:8080/",
     "height": 390
    },
    "colab_type": "code",
    "id": "imZyqSzkkLh4",
    "outputId": "282dc854-1175-47e4-c083-c57faacb7799"
   },
   "outputs": [
    {
     "data": {
      "text/plain": [
       "<matplotlib.axes._subplots.AxesSubplot at 0x11aa287b8>"
      ]
     },
     "execution_count": 58,
     "metadata": {},
     "output_type": "execute_result"
    },
    {
     "data": {
      "image/png": "[encoded data removed]",
      "text/plain": [
       "<Figure size 432x432 with 1 Axes>"
      ]
     },
     "metadata": {},
     "output_type": "display_data"
    }
   ],
   "source": [
    "%matplotlib inline\n",
    "p1_types.plot.pie(title='P1 Accuracy: '+str(accuracy(p1_types)), autopct='%.2f', fontsize=20, figsize=(6, 6))  # need figsize to get correct aspect\n",
    "\n",
    "#First predictor_1\n"
   ]
  },
  {
   "cell_type": "code",
   "execution_count": 59,
   "metadata": {
    "colab": {
     "base_uri": "https://localhost:8080/",
     "height": 390
    },
    "colab_type": "code",
    "id": "Rfmokfq7kLh8",
    "outputId": "631b2775-33b1-4e8a-cf1a-2bdfba203ae0"
   },
   "outputs": [
    {
     "data": {
      "text/plain": [
       "<matplotlib.axes._subplots.AxesSubplot at 0x11ad247f0>"
      ]
     },
     "execution_count": 59,
     "metadata": {},
     "output_type": "execute_result"
    },
    {
     "data": {
      "image/png": "[encoded data removed]",
      "text/plain": [
       "<Figure size 432x432 with 1 Axes>"
      ]
     },
     "metadata": {},
     "output_type": "display_data"
    }
   ],
   "source": [
    "#Next predictor_2\n",
    "p2_types.plot.pie(title='P1 Accuracy: '+str(accuracy(p2_types)), autopct='%.2f', fontsize=20, figsize=(6, 6))  # need figsize to get correct aspect\n"
   ]
  },
  {
   "cell_type": "code",
   "execution_count": 60,
   "metadata": {
    "colab": {
     "base_uri": "https://localhost:8080/",
     "height": 35
    },
    "colab_type": "code",
    "id": "LFGGLdipkLiI",
    "outputId": "9168f846-c378-45ec-d27a-7510aaa3626e"
   },
   "outputs": [
    {
     "data": {
      "text/plain": [
       "0.739413680781759"
      ]
     },
     "execution_count": 60,
     "metadata": {},
     "output_type": "execute_result"
    }
   ],
   "source": [
    "accuracy(p2_types)"
   ]
  },
  {
   "cell_type": "markdown",
   "metadata": {
    "colab_type": "text",
    "id": "IfyzWqrWkLiN"
   },
   "source": [
    "\n",
    "<h2>\n",
    "The accuracy went down\n",
    "</h2>\n",
    "<p>\n",
    "<div class=h1_cell>\n",
    "It's a little counter-intuitive. We add more knowledge to the tree (more splits) but it harms us. In the next module, we will see a means to determine if the new branches we added are the best we can do (punchline: they are not).\n",
    "</div>"
   ]
  },
  {
   "cell_type": "markdown",
   "metadata": {
    "colab_type": "text",
    "id": "1lQNPaxNkLiO"
   },
   "source": [
    "\n",
    "<h2>\n",
    "Compare F1 scores\n",
    "</h2>\n",
    "<p>\n",
    "<div class=h1_cell>\n",
    "As reminder, here is the table to use.\n",
    "<p>\n",
    "\n",
    "<img src='https://www.dropbox.com/s/zubecbzi8zsdzgg/confusion_matrix.png?raw=1'>\n",
    "\n",
    "<div>"
   ]
  },
  {
   "cell_type": "code",
   "execution_count": 61,
   "metadata": {
    "colab": {
     "base_uri": "https://localhost:8080/",
     "height": 35
    },
    "colab_type": "code",
    "id": "DGS9AMKOkLiP",
    "outputId": "1bb7ddb2-4fa3-43d1-b6a8-8dd3a367173e"
   },
   "outputs": [
    {
     "data": {
      "text/plain": [
       "0.842809364548495"
      ]
     },
     "execution_count": 61,
     "metadata": {},
     "output_type": "execute_result"
    }
   ],
   "source": [
    "#compute F1 for the first predictor\n",
    "f1(p1_types)"
   ]
  },
  {
   "cell_type": "code",
   "execution_count": 62,
   "metadata": {
    "colab": {
     "base_uri": "https://localhost:8080/",
     "height": 35
    },
    "colab_type": "code",
    "id": "TiJg6zwvkLiT",
    "outputId": "696cef97-574a-4219-f14c-fc370d70324d"
   },
   "outputs": [
    {
     "data": {
      "text/plain": [
       "0.8297872340425533"
      ]
     },
     "execution_count": 62,
     "metadata": {},
     "output_type": "execute_result"
    }
   ],
   "source": [
    "#compute F1 for the second predictor\n",
    "f1(p2_types)"
   ]
  },
  {
   "cell_type": "markdown",
   "metadata": {
    "colab_type": "text",
    "id": "imkqYlWzkLiY"
   },
   "source": [
    "<div class=just_text>\n",
    "Not much difference in F1 scores.\n",
    "</div>"
   ]
  },
  {
   "cell_type": "markdown",
   "metadata": {
    "colab_type": "text",
    "id": "qE2_mmvnkLia"
   },
   "source": [
    "\n",
    "<h2>\n",
    "Compare informedness scores\n",
    "</h2>\n",
    "<p>\n",
    "<div class=h1_cell>\n",
    "You won't find this measure in the confusion matrix. We defined it while working with Titanic data.\n",
    "<div>"
   ]
  },
  {
   "cell_type": "code",
   "execution_count": 63,
   "metadata": {
    "colab": {
     "base_uri": "https://localhost:8080/",
     "height": 35
    },
    "colab_type": "code",
    "id": "UTeq9qKlkLia",
    "outputId": "f85ddb1e-67e1-4fb0-cf9c-b9d23b1399c1"
   },
   "outputs": [
    {
     "data": {
      "text/plain": [
       "0.3905262638230649"
      ]
     },
     "execution_count": 63,
     "metadata": {},
     "output_type": "execute_result"
    }
   ],
   "source": [
    "#informedness for predictor 1\n",
    "\n",
    "informedness(p1_types)"
   ]
  },
  {
   "cell_type": "code",
   "execution_count": 64,
   "metadata": {
    "colab": {
     "base_uri": "https://localhost:8080/",
     "height": 35
    },
    "colab_type": "code",
    "id": "5652Vk1pkLif",
    "outputId": "c6f60eaa-af85-4d4b-9862-03e7f146048a"
   },
   "outputs": [
    {
     "data": {
      "text/plain": [
       "0.25750394944707744"
      ]
     },
     "execution_count": 64,
     "metadata": {},
     "output_type": "execute_result"
    }
   ],
   "source": [
    "#informedness for predictor 2\n",
    "\n",
    "informedness(p2_types)"
   ]
  },
  {
   "cell_type": "markdown",
   "metadata": {
    "colab_type": "text",
    "id": "dytEk8sGkLik"
   },
   "source": [
    "<div class=just_text>\n",
    "Relatively low for both.\n",
    "</div>"
   ]
  },
  {
   "cell_type": "markdown",
   "metadata": {
    "colab_type": "text",
    "id": "YhhDMF9AkLil"
   },
   "source": [
    "<hr>\n",
    "<h1>\n",
    "6: Write out your tables to file\n",
    "</h1>\n",
    "<div class=h1_cell>\n",
    "We will make use of them in future assignments.\n",
    "</div>"
   ]
  },
  {
   "cell_type": "code",
   "execution_count": 65,
   "metadata": {
    "colab": {
     "base_uri": "https://localhost:8080/",
     "height": 99
    },
    "colab_type": "code",
    "id": "mMZ4ygnukLim",
    "outputId": "dde8d5ff-1bc6-4c63-e1d2-de7e38670c99"
   },
   "outputs": [
    {
     "data": {
      "text/html": [
       "<div>\n",
       "<style scoped>\n",
       "    .dataframe tbody tr th:only-of-type {\n",
       "        vertical-align: middle;\n",
       "    }\n",
       "\n",
       "    .dataframe tbody tr th {\n",
       "        vertical-align: top;\n",
       "    }\n",
       "\n",
       "    .dataframe thead th {\n",
       "        text-align: right;\n",
       "    }\n",
       "</style>\n",
       "<table border=\"1\" class=\"dataframe\">\n",
       "  <thead>\n",
       "    <tr style=\"text-align: right;\">\n",
       "      <th></th>\n",
       "      <th>Gender</th>\n",
       "      <th>Married</th>\n",
       "      <th>Dependents</th>\n",
       "      <th>Education</th>\n",
       "      <th>Self_Employed</th>\n",
       "      <th>ApplicantIncome</th>\n",
       "      <th>CoapplicantIncome</th>\n",
       "      <th>LoanAmount</th>\n",
       "      <th>Loan_Amount_Term</th>\n",
       "      <th>Credit_History</th>\n",
       "      <th>Property_Area</th>\n",
       "      <th>Loan_Status</th>\n",
       "      <th>no_lam</th>\n",
       "      <th>filled_lam</th>\n",
       "      <th>pa_Rural</th>\n",
       "      <th>pa_Semiurban</th>\n",
       "      <th>pa_Urban</th>\n",
       "      <th>pa_nan</th>\n",
       "      <th>lam_bin</th>\n",
       "      <th>lam_Low</th>\n",
       "      <th>lam_Average</th>\n",
       "      <th>lam_High</th>\n",
       "      <th>ch_bad</th>\n",
       "      <th>ch_good</th>\n",
       "      <th>ch_nan</th>\n",
       "    </tr>\n",
       "  </thead>\n",
       "  <tbody>\n",
       "    <tr>\n",
       "      <th>0</th>\n",
       "      <td>Male</td>\n",
       "      <td>No</td>\n",
       "      <td>0</td>\n",
       "      <td>Graduate</td>\n",
       "      <td>No</td>\n",
       "      <td>5849</td>\n",
       "      <td>0.0</td>\n",
       "      <td>NaN</td>\n",
       "      <td>360.0</td>\n",
       "      <td>1.0</td>\n",
       "      <td>Urban</td>\n",
       "      <td>1</td>\n",
       "      <td>1</td>\n",
       "      <td>146.412162</td>\n",
       "      <td>0</td>\n",
       "      <td>0</td>\n",
       "      <td>1</td>\n",
       "      <td>0</td>\n",
       "      <td>Low</td>\n",
       "      <td>1</td>\n",
       "      <td>0</td>\n",
       "      <td>0</td>\n",
       "      <td>0</td>\n",
       "      <td>1</td>\n",
       "      <td>0</td>\n",
       "    </tr>\n",
       "  </tbody>\n",
       "</table>\n",
       "</div>"
      ],
      "text/plain": [
       "  Gender Married Dependents Education Self_Employed  ApplicantIncome  \\\n",
       "0   Male      No          0  Graduate            No             5849   \n",
       "\n",
       "   CoapplicantIncome  LoanAmount  Loan_Amount_Term  Credit_History  \\\n",
       "0                0.0         NaN             360.0             1.0   \n",
       "\n",
       "  Property_Area  Loan_Status  no_lam  filled_lam  pa_Rural  pa_Semiurban  \\\n",
       "0         Urban            1       1  146.412162         0             0   \n",
       "\n",
       "   pa_Urban  pa_nan lam_bin  lam_Low  lam_Average  lam_High  ch_bad  ch_good  \\\n",
       "0         1       0     Low        1            0         0       0        1   \n",
       "\n",
       "   ch_nan  \n",
       "0       0  "
      ]
     },
     "execution_count": 65,
     "metadata": {},
     "output_type": "execute_result"
    }
   ],
   "source": [
    "loan_table.head(1)   # see the columns you are writing out\n"
   ]
  },
  {
   "cell_type": "code",
   "execution_count": 69,
   "metadata": {
    "colab": {},
    "colab_type": "code",
    "id": "8RrMO0oqsm_C"
   },
   "outputs": [],
   "source": [
    "with open('/Users/Noah/Documents/My Documents/2018:2019/2. Winter/CIS 399/Assignment2/loan_wrangled_week2.csv', 'w') as f:\n",
    "  loan_table.to_csv(f, encoding='utf-8', index=False)"
   ]
  },
  {
   "cell_type": "code",
   "execution_count": 70,
   "metadata": {
    "colab": {},
    "colab_type": "code",
    "id": "gp6BoKiitDY4"
   },
   "outputs": [],
   "source": [
    "with open('/Users/Noah/Documents/My Documents/2018:2019/2. Winter/CIS 399/Assignment2/loan_results_week2.csv', 'w') as f:\n",
    "  loan_results.to_csv(f, encoding='utf-8', index=False)"
   ]
  },
  {
   "cell_type": "markdown",
   "metadata": {
    "colab_type": "text",
    "id": "OAkNDXWykLit"
   },
   "source": [
    "<hr>\n",
    "<h1>Next up</h1>\n",
    "<div class=h1_cell>\n",
    "\n",
    "    In the next module, we will turn our attention to measuring the effectiveness of nodes in the tree on an individual basis. We chose sex_female as the root in the two trees above. Why? Is some other question better? We will look at ways of answering this question.\n",
    "</div>"
   ]
  }
 ],
 "metadata": {
  "colab": {
   "collapsed_sections": [],
   "name": "decision_tree_assignment_w19_v2.ipynb",
   "provenance": [],
   "version": "0.3.2"
  },
  "kernelspec": {
   "display_name": "Python 3",
   "language": "python",
   "name": "python3"
  },
  "language_info": {
   "codemirror_mode": {
    "name": "ipython",
    "version": 3
   },
   "file_extension": ".py",
   "mimetype": "text/x-python",
   "name": "python",
   "nbconvert_exporter": "python",
   "pygments_lexer": "ipython3",
   "version": "3.7.1"
  }
 },
 "nbformat": 4,
 "nbformat_minor": 1
}
