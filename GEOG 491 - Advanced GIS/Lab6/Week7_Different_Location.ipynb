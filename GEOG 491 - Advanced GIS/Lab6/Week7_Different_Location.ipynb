{
  "nbformat": 4,
  "nbformat_minor": 0,
  "metadata": {
    "colab": {
      "name": "Week7_Different_Location.ipynb",
      "provenance": [],
      "collapsed_sections": [],
      "toc_visible": true
    },
    "kernelspec": {
      "name": "python3",
      "display_name": "Python 3"
    }
  },
  "cells": [
    {
      "cell_type": "markdown",
      "metadata": {
        "id": "cKo6YpI5gWhg"
      },
      "source": [
        "# Satellite Image Analysis with Earth Engine and Python Open Source Packages\n",
        "\n",
        "This exercise introduces Google Earth Engine and raster satellite image analysis and visualization. Working with data from the Sentinel-2 satellite system:\n",
        "* Assemble images around a specific location and within a specified time period\n",
        " * Query metadata information about the images\n",
        "* View an image statically and with an interactive map\n",
        "* Calculate a 'spectral indice'\n",
        "* Calculate change between two images\n",
        "* Classify an image into statistical clusters\n",
        "* Create a time series dataset from single location from the images\n",
        " * Visualize the time series with an interactive map \n",
        "\n",
        "The exercise can be run without any knowledge of coding, but for some background, you might want to run through the following coloboratory notebooks:\n",
        "\n",
        "1. Earth Engine Python API Colab Setup\n",
        "https://colab.research.google.com/github/google/earthengine-api/blob/master/python/examples/ipynb/ee-api-colab-setup.ipynb\n",
        "\n",
        "2. Google Earth Engine with Python - Developer's Guide\n",
        "https://colab.research.google.com/github/csaybar/EEwPython/blob/dev/1_Introduction.ipynb#scrollTo=5AkUqloUQpXv\n",
        "\n"
      ]
    },
    {
      "cell_type": "markdown",
      "metadata": {
        "id": "jOiThoKvUJjz"
      },
      "source": [
        "## Set up the analysis environment\n",
        "\n",
        "The basic steps to get things set up, using 'python' scripting jargon, are:\n",
        "\n",
        "1.   Install packages\n",
        "2.   Import modules\n",
        "3. 'Authenticate' earth engine\n",
        "4. Define functions\n",
        "\n",
        "Colaboratory comes with a variety of standard scientific computing 'libraries', and many others can be installed fairly easily.  This exercise will use the 'earth engine api', the 'geemap' library for visualizing earth engine data, and a variety of libraries to plot results."
      ]
    },
    {
      "cell_type": "code",
      "metadata": {
        "id": "OT1HuOZJgP-Y",
        "colab": {
          "base_uri": "https://localhost:8080/",
          "height": 1000
        },
        "outputId": "93334ccc-5431-4414-9e25-44ddfe1fe6d3"
      },
      "source": [
        "# install dependencies into virtual machine\n",
        "!pip install geemap\n",
        "#!pip install ee\n",
        "#!pip install earthengine-api\n",
        "!pip install geopandas\n",
        "#!pip install altair\n"
      ],
      "execution_count": 1,
      "outputs": [
        {
          "output_type": "stream",
          "text": [
            "Collecting geemap\n",
            "\u001b[?25l  Downloading https://files.pythonhosted.org/packages/c1/f1/50dc342f3c2844353652d5df007caca6e1df90bbc1bf382aed4d3a952810/geemap-0.8.2-py2.py3-none-any.whl (386kB)\n",
            "\u001b[K     |████████████████████████████████| 389kB 5.3MB/s \n",
            "\u001b[?25hCollecting ipynb-py-convert\n",
            "  Downloading https://files.pythonhosted.org/packages/43/90/37ff1b9f553583e60c327e1ea8cbfea469c38c9d8791ad1f7ee6d3482efa/ipynb-py-convert-0.4.6.tar.gz\n",
            "Collecting mss\n",
            "\u001b[?25l  Downloading https://files.pythonhosted.org/packages/d7/5f/77dece686b8d08a17430e169e936722693712b8cf1ee638caa8b1cb6452b/mss-6.1.0-py3-none-any.whl (76kB)\n",
            "\u001b[K     |████████████████████████████████| 81kB 8.8MB/s \n",
            "\u001b[?25hCollecting bqplot\n",
            "\u001b[?25l  Downloading https://files.pythonhosted.org/packages/f1/cc/bbb3989709ff5f43a75d8cc9989b0cd7215bb50af30f6323ad9bb62e1839/bqplot-0.12.19-py2.py3-none-any.whl (982kB)\n",
            "\u001b[K     |████████████████████████████████| 983kB 14.6MB/s \n",
            "\u001b[?25hCollecting folium>=0.11.0\n",
            "\u001b[?25l  Downloading https://files.pythonhosted.org/packages/a4/f0/44e69d50519880287cc41e7c8a6acc58daa9a9acf5f6afc52bcc70f69a6d/folium-0.11.0-py2.py3-none-any.whl (93kB)\n",
            "\u001b[K     |████████████████████████████████| 102kB 9.5MB/s \n",
            "\u001b[?25hCollecting ipyfilechooser\n",
            "  Downloading https://files.pythonhosted.org/packages/f7/4f/e8d949a6395b6079fe81bf728e5cbae55c63ca9d2fd680f133da679a75a3/ipyfilechooser-0.4.0-py3-none-any.whl\n",
            "Requirement already satisfied: pandas in /usr/local/lib/python3.6/dist-packages (from geemap) (1.1.4)\n",
            "Requirement already satisfied: numpy in /usr/local/lib/python3.6/dist-packages (from geemap) (1.18.5)\n",
            "Collecting voila\n",
            "\u001b[?25l  Downloading https://files.pythonhosted.org/packages/50/7d/ef470f3d3c574162bb8705b264f4cb47eac8c923f6bf1e37283f871ead6a/voila-0.2.4-py3-none-any.whl (1.9MB)\n",
            "\u001b[K     |████████████████████████████████| 1.9MB 19.5MB/s \n",
            "\u001b[?25hCollecting colour\n",
            "  Downloading https://files.pythonhosted.org/packages/74/46/e81907704ab203206769dee1385dc77e1407576ff8f50a0681d0a6b541be/colour-0.1.5-py2.py3-none-any.whl\n",
            "Requirement already satisfied: pillow in /usr/local/lib/python3.6/dist-packages (from geemap) (7.0.0)\n",
            "Collecting ipyleaflet>=0.13.3\n",
            "\u001b[?25l  Downloading https://files.pythonhosted.org/packages/a0/9d/f411b8a9522f1710f278c60b2cd8d26817d8c64b7568de95f9437db6caf0/ipyleaflet-0.13.3-py2.py3-none-any.whl (5.1MB)\n",
            "\u001b[K     |████████████████████████████████| 5.1MB 45.1MB/s \n",
            "\u001b[?25hCollecting geocoder\n",
            "\u001b[?25l  Downloading https://files.pythonhosted.org/packages/4f/6b/13166c909ad2f2d76b929a4227c952630ebaf0d729f6317eb09cbceccbab/geocoder-1.38.1-py2.py3-none-any.whl (98kB)\n",
            "\u001b[K     |████████████████████████████████| 102kB 10.6MB/s \n",
            "\u001b[?25hCollecting geeadd>=0.5.1\n",
            "  Downloading https://files.pythonhosted.org/packages/53/3e/98e4d21b5d06a670a6692272a89cbc1a1f238dbba0c4d3252ea1635ba7a4/geeadd-0.5.2-py3-none-any.whl\n",
            "Requirement already satisfied: click in /usr/local/lib/python3.6/dist-packages (from geemap) (7.1.2)\n",
            "Requirement already satisfied: matplotlib in /usr/local/lib/python3.6/dist-packages (from geemap) (3.2.2)\n",
            "Collecting pyshp\n",
            "\u001b[?25l  Downloading https://files.pythonhosted.org/packages/ca/1f/e9cc2c3fce32e2926581f8b6905831165235464c858ba550b6e9b8ef78c3/pyshp-2.1.2.tar.gz (217kB)\n",
            "\u001b[K     |████████████████████████████████| 225kB 44.9MB/s \n",
            "\u001b[?25hCollecting whitebox\n",
            "\u001b[?25l  Downloading https://files.pythonhosted.org/packages/9e/80/72ddfe55b9fad2909c3befb6360c38b6bf5fb131197c390d01109aaaa6f8/whitebox-1.4.0-py2.py3-none-any.whl (63kB)\n",
            "\u001b[K     |████████████████████████████████| 71kB 8.1MB/s \n",
            "\u001b[?25hRequirement already satisfied: earthengine-api>=0.1.230 in /usr/local/lib/python3.6/dist-packages (from geemap) (0.1.238)\n",
            "Collecting ipytree\n",
            "\u001b[?25l  Downloading https://files.pythonhosted.org/packages/36/2f/f93092e485afc384b4cc39f17ff1cb252380a3745bb4a7e2f6e488e3d0c4/ipytree-0.1.8-py2.py3-none-any.whl (1.1MB)\n",
            "\u001b[K     |████████████████████████████████| 1.1MB 46.0MB/s \n",
            "\u001b[?25hCollecting ffmpeg-python\n",
            "  Downloading https://files.pythonhosted.org/packages/d7/0c/56be52741f75bad4dc6555991fabd2e07b432d333da82c11ad701123888a/ffmpeg_python-0.2.0-py3-none-any.whl\n",
            "Requirement already satisfied: ipywidgets>=7.5.0 in /usr/local/lib/python3.6/dist-packages (from bqplot->geemap) (7.5.1)\n",
            "Collecting traittypes>=0.0.6\n",
            "  Downloading https://files.pythonhosted.org/packages/9c/d1/8d5bd662703cc1764d986f6908a608777305946fa634d34c470cd4a1e729/traittypes-0.2.1-py2.py3-none-any.whl\n",
            "Requirement already satisfied: traitlets>=4.3.0 in /usr/local/lib/python3.6/dist-packages (from bqplot->geemap) (4.3.3)\n",
            "Requirement already satisfied: branca>=0.3.0 in /usr/local/lib/python3.6/dist-packages (from folium>=0.11.0->geemap) (0.4.1)\n",
            "Requirement already satisfied: jinja2>=2.9 in /usr/local/lib/python3.6/dist-packages (from folium>=0.11.0->geemap) (2.11.2)\n",
            "Requirement already satisfied: requests in /usr/local/lib/python3.6/dist-packages (from folium>=0.11.0->geemap) (2.23.0)\n",
            "Requirement already satisfied: pytz>=2017.2 in /usr/local/lib/python3.6/dist-packages (from pandas->geemap) (2018.9)\n",
            "Requirement already satisfied: python-dateutil>=2.7.3 in /usr/local/lib/python3.6/dist-packages (from pandas->geemap) (2.8.1)\n",
            "Collecting jupyter-client<7,>=6.1.3\n",
            "\u001b[?25l  Downloading https://files.pythonhosted.org/packages/dc/41/9fa443d5ae8907dd8f7d12146cb0092dc053afd67b5b57e7e8786a328547/jupyter_client-6.1.7-py3-none-any.whl (108kB)\n",
            "\u001b[K     |████████████████████████████████| 112kB 49.3MB/s \n",
            "\u001b[?25hCollecting nbconvert<7,>=6.0.0\n",
            "\u001b[?25l  Downloading https://files.pythonhosted.org/packages/13/2f/acbe7006548f3914456ee47f97a2033b1b2f3daf921b12ac94105d87c163/nbconvert-6.0.7-py3-none-any.whl (552kB)\n",
            "\u001b[K     |████████████████████████████████| 552kB 44.0MB/s \n",
            "\u001b[?25hRequirement already satisfied: nbclient<0.6,>=0.4.0 in /usr/local/lib/python3.6/dist-packages (from voila->geemap) (0.5.1)\n",
            "Collecting jupyter-server<2.0.0,>=0.3.0\n",
            "\u001b[?25l  Downloading https://files.pythonhosted.org/packages/7f/0d/1eafbdca04feecdf596382d0776603f09ed971562cc41aaf8fc1067b75cc/jupyter_server-1.0.6-py3-none-any.whl (197kB)\n",
            "\u001b[K     |████████████████████████████████| 204kB 40.3MB/s \n",
            "\u001b[?25hCollecting ratelim\n",
            "  Downloading https://files.pythonhosted.org/packages/f2/98/7e6d147fd16a10a5f821db6e25f192265d6ecca3d82957a4fdd592cad49c/ratelim-0.1.6-py2.py3-none-any.whl\n",
            "Requirement already satisfied: future in /usr/local/lib/python3.6/dist-packages (from geocoder->geemap) (0.16.0)\n",
            "Requirement already satisfied: six in /usr/local/lib/python3.6/dist-packages (from geocoder->geemap) (1.15.0)\n",
            "Collecting beautifulsoup4>=4.9.0\n",
            "\u001b[?25l  Downloading https://files.pythonhosted.org/packages/d1/41/e6495bd7d3781cee623ce23ea6ac73282a373088fcd0ddc809a047b18eae/beautifulsoup4-4.9.3-py3-none-any.whl (115kB)\n",
            "\u001b[K     |████████████████████████████████| 122kB 50.0MB/s \n",
            "\u001b[?25hCollecting logzero>=1.5.0\n",
            "  Downloading https://files.pythonhosted.org/packages/7e/f7/369920be5b4e9c1a05f5e10bae62b1eca4e01b0b235541865ff53f4d2b6a/logzero-1.6.3-py2.py3-none-any.whl\n",
            "Requirement already satisfied: kiwisolver>=1.0.1 in /usr/local/lib/python3.6/dist-packages (from matplotlib->geemap) (1.3.1)\n",
            "Requirement already satisfied: cycler>=0.10 in /usr/local/lib/python3.6/dist-packages (from matplotlib->geemap) (0.10.0)\n",
            "Requirement already satisfied: pyparsing!=2.0.4,!=2.1.2,!=2.1.6,>=2.0.1 in /usr/local/lib/python3.6/dist-packages (from matplotlib->geemap) (2.4.7)\n",
            "Requirement already satisfied: google-auth>=1.4.1 in /usr/local/lib/python3.6/dist-packages (from earthengine-api>=0.1.230->geemap) (1.17.2)\n",
            "Requirement already satisfied: httplib2<1dev,>=0.9.2 in /usr/local/lib/python3.6/dist-packages (from earthengine-api>=0.1.230->geemap) (0.17.4)\n",
            "Requirement already satisfied: google-auth-httplib2>=0.0.3 in /usr/local/lib/python3.6/dist-packages (from earthengine-api>=0.1.230->geemap) (0.0.4)\n",
            "Requirement already satisfied: google-api-python-client in /usr/local/lib/python3.6/dist-packages (from earthengine-api>=0.1.230->geemap) (1.7.12)\n",
            "Requirement already satisfied: google-cloud-storage in /usr/local/lib/python3.6/dist-packages (from earthengine-api>=0.1.230->geemap) (1.18.1)\n",
            "Requirement already satisfied: httplib2shim in /usr/local/lib/python3.6/dist-packages (from earthengine-api>=0.1.230->geemap) (0.0.3)\n",
            "Requirement already satisfied: nbformat>=4.2.0 in /usr/local/lib/python3.6/dist-packages (from ipywidgets>=7.5.0->bqplot->geemap) (5.0.8)\n",
            "Requirement already satisfied: ipython>=4.0.0; python_version >= \"3.3\" in /usr/local/lib/python3.6/dist-packages (from ipywidgets>=7.5.0->bqplot->geemap) (5.5.0)\n",
            "Requirement already satisfied: ipykernel>=4.5.1 in /usr/local/lib/python3.6/dist-packages (from ipywidgets>=7.5.0->bqplot->geemap) (4.10.1)\n",
            "Requirement already satisfied: widgetsnbextension~=3.5.0 in /usr/local/lib/python3.6/dist-packages (from ipywidgets>=7.5.0->bqplot->geemap) (3.5.1)\n",
            "Requirement already satisfied: ipython-genutils in /usr/local/lib/python3.6/dist-packages (from traitlets>=4.3.0->bqplot->geemap) (0.2.0)\n",
            "Requirement already satisfied: decorator in /usr/local/lib/python3.6/dist-packages (from traitlets>=4.3.0->bqplot->geemap) (4.4.2)\n",
            "Requirement already satisfied: MarkupSafe>=0.23 in /usr/local/lib/python3.6/dist-packages (from jinja2>=2.9->folium>=0.11.0->geemap) (1.1.1)\n",
            "Requirement already satisfied: certifi>=2017.4.17 in /usr/local/lib/python3.6/dist-packages (from requests->folium>=0.11.0->geemap) (2020.6.20)\n",
            "Requirement already satisfied: idna<3,>=2.5 in /usr/local/lib/python3.6/dist-packages (from requests->folium>=0.11.0->geemap) (2.10)\n",
            "Requirement already satisfied: urllib3!=1.25.0,!=1.25.1,<1.26,>=1.21.1 in /usr/local/lib/python3.6/dist-packages (from requests->folium>=0.11.0->geemap) (1.24.3)\n",
            "Requirement already satisfied: chardet<4,>=3.0.2 in /usr/local/lib/python3.6/dist-packages (from requests->folium>=0.11.0->geemap) (3.0.4)\n",
            "Requirement already satisfied: tornado>=4.1 in /usr/local/lib/python3.6/dist-packages (from jupyter-client<7,>=6.1.3->voila->geemap) (5.1.1)\n",
            "Requirement already satisfied: jupyter-core>=4.6.0 in /usr/local/lib/python3.6/dist-packages (from jupyter-client<7,>=6.1.3->voila->geemap) (4.6.3)\n",
            "Requirement already satisfied: pyzmq>=13 in /usr/local/lib/python3.6/dist-packages (from jupyter-client<7,>=6.1.3->voila->geemap) (19.0.2)\n",
            "Requirement already satisfied: jupyterlab-pygments in /usr/local/lib/python3.6/dist-packages (from nbconvert<7,>=6.0.0->voila->geemap) (0.1.2)\n",
            "Requirement already satisfied: pygments>=2.4.1 in /usr/local/lib/python3.6/dist-packages (from nbconvert<7,>=6.0.0->voila->geemap) (2.6.1)\n",
            "Requirement already satisfied: entrypoints>=0.2.2 in /usr/local/lib/python3.6/dist-packages (from nbconvert<7,>=6.0.0->voila->geemap) (0.3)\n",
            "Requirement already satisfied: pandocfilters>=1.4.1 in /usr/local/lib/python3.6/dist-packages (from nbconvert<7,>=6.0.0->voila->geemap) (1.4.3)\n",
            "Requirement already satisfied: mistune<2,>=0.8.1 in /usr/local/lib/python3.6/dist-packages (from nbconvert<7,>=6.0.0->voila->geemap) (0.8.4)\n",
            "Requirement already satisfied: testpath in /usr/local/lib/python3.6/dist-packages (from nbconvert<7,>=6.0.0->voila->geemap) (0.4.4)\n",
            "Requirement already satisfied: bleach in /usr/local/lib/python3.6/dist-packages (from nbconvert<7,>=6.0.0->voila->geemap) (3.2.1)\n",
            "Requirement already satisfied: defusedxml in /usr/local/lib/python3.6/dist-packages (from nbconvert<7,>=6.0.0->voila->geemap) (0.6.0)\n",
            "Requirement already satisfied: async-generator in /usr/local/lib/python3.6/dist-packages (from nbclient<0.6,>=0.4.0->voila->geemap) (1.10)\n",
            "Requirement already satisfied: nest-asyncio in /usr/local/lib/python3.6/dist-packages (from nbclient<0.6,>=0.4.0->voila->geemap) (1.4.3)\n",
            "Requirement already satisfied: Send2Trash in /usr/local/lib/python3.6/dist-packages (from jupyter-server<2.0.0,>=0.3.0->voila->geemap) (1.5.0)\n",
            "Requirement already satisfied: terminado>=0.8.3 in /usr/local/lib/python3.6/dist-packages (from jupyter-server<2.0.0,>=0.3.0->voila->geemap) (0.9.1)\n",
            "Requirement already satisfied: prometheus-client in /usr/local/lib/python3.6/dist-packages (from jupyter-server<2.0.0,>=0.3.0->voila->geemap) (0.8.0)\n",
            "Collecting soupsieve>1.2; python_version >= \"3.0\"\n",
            "  Downloading https://files.pythonhosted.org/packages/6f/8f/457f4a5390eeae1cc3aeab89deb7724c965be841ffca6cfca9197482e470/soupsieve-2.0.1-py3-none-any.whl\n",
            "Requirement already satisfied: cachetools<5.0,>=2.0.0 in /usr/local/lib/python3.6/dist-packages (from google-auth>=1.4.1->earthengine-api>=0.1.230->geemap) (4.1.1)\n",
            "Requirement already satisfied: rsa<5,>=3.1.4; python_version >= \"3\" in /usr/local/lib/python3.6/dist-packages (from google-auth>=1.4.1->earthengine-api>=0.1.230->geemap) (4.6)\n",
            "Requirement already satisfied: pyasn1-modules>=0.2.1 in /usr/local/lib/python3.6/dist-packages (from google-auth>=1.4.1->earthengine-api>=0.1.230->geemap) (0.2.8)\n",
            "Requirement already satisfied: setuptools>=40.3.0 in /usr/local/lib/python3.6/dist-packages (from google-auth>=1.4.1->earthengine-api>=0.1.230->geemap) (50.3.2)\n",
            "Requirement already satisfied: uritemplate<4dev,>=3.0.0 in /usr/local/lib/python3.6/dist-packages (from google-api-python-client->earthengine-api>=0.1.230->geemap) (3.0.1)\n",
            "Requirement already satisfied: google-resumable-media<0.5.0dev,>=0.3.1 in /usr/local/lib/python3.6/dist-packages (from google-cloud-storage->earthengine-api>=0.1.230->geemap) (0.4.1)\n",
            "Requirement already satisfied: google-cloud-core<2.0dev,>=1.0.0 in /usr/local/lib/python3.6/dist-packages (from google-cloud-storage->earthengine-api>=0.1.230->geemap) (1.0.3)\n",
            "Requirement already satisfied: jsonschema!=2.5.0,>=2.4 in /usr/local/lib/python3.6/dist-packages (from nbformat>=4.2.0->ipywidgets>=7.5.0->bqplot->geemap) (2.6.0)\n",
            "Requirement already satisfied: simplegeneric>0.8 in /usr/local/lib/python3.6/dist-packages (from ipython>=4.0.0; python_version >= \"3.3\"->ipywidgets>=7.5.0->bqplot->geemap) (0.8.1)\n",
            "Requirement already satisfied: prompt-toolkit<2.0.0,>=1.0.4 in /usr/local/lib/python3.6/dist-packages (from ipython>=4.0.0; python_version >= \"3.3\"->ipywidgets>=7.5.0->bqplot->geemap) (1.0.18)\n",
            "Requirement already satisfied: pexpect; sys_platform != \"win32\" in /usr/local/lib/python3.6/dist-packages (from ipython>=4.0.0; python_version >= \"3.3\"->ipywidgets>=7.5.0->bqplot->geemap) (4.8.0)\n",
            "Requirement already satisfied: pickleshare in /usr/local/lib/python3.6/dist-packages (from ipython>=4.0.0; python_version >= \"3.3\"->ipywidgets>=7.5.0->bqplot->geemap) (0.7.5)\n",
            "Requirement already satisfied: notebook>=4.4.1 in /usr/local/lib/python3.6/dist-packages (from widgetsnbextension~=3.5.0->ipywidgets>=7.5.0->bqplot->geemap) (5.3.1)\n",
            "Requirement already satisfied: webencodings in /usr/local/lib/python3.6/dist-packages (from bleach->nbconvert<7,>=6.0.0->voila->geemap) (0.5.1)\n",
            "Requirement already satisfied: packaging in /usr/local/lib/python3.6/dist-packages (from bleach->nbconvert<7,>=6.0.0->voila->geemap) (20.4)\n",
            "Requirement already satisfied: ptyprocess; os_name != \"nt\" in /usr/local/lib/python3.6/dist-packages (from terminado>=0.8.3->jupyter-server<2.0.0,>=0.3.0->voila->geemap) (0.6.0)\n",
            "Requirement already satisfied: pyasn1>=0.1.3 in /usr/local/lib/python3.6/dist-packages (from rsa<5,>=3.1.4; python_version >= \"3\"->google-auth>=1.4.1->earthengine-api>=0.1.230->geemap) (0.4.8)\n",
            "Requirement already satisfied: google-api-core<2.0.0dev,>=1.14.0 in /usr/local/lib/python3.6/dist-packages (from google-cloud-core<2.0dev,>=1.0.0->google-cloud-storage->earthengine-api>=0.1.230->geemap) (1.16.0)\n",
            "Requirement already satisfied: wcwidth in /usr/local/lib/python3.6/dist-packages (from prompt-toolkit<2.0.0,>=1.0.4->ipython>=4.0.0; python_version >= \"3.3\"->ipywidgets>=7.5.0->bqplot->geemap) (0.2.5)\n",
            "Requirement already satisfied: googleapis-common-protos<2.0dev,>=1.6.0 in /usr/local/lib/python3.6/dist-packages (from google-api-core<2.0.0dev,>=1.14.0->google-cloud-core<2.0dev,>=1.0.0->google-cloud-storage->earthengine-api>=0.1.230->geemap) (1.52.0)\n",
            "Requirement already satisfied: protobuf>=3.4.0 in /usr/local/lib/python3.6/dist-packages (from google-api-core<2.0.0dev,>=1.14.0->google-cloud-core<2.0dev,>=1.0.0->google-cloud-storage->earthengine-api>=0.1.230->geemap) (3.12.4)\n",
            "Building wheels for collected packages: ipynb-py-convert, pyshp\n",
            "  Building wheel for ipynb-py-convert (setup.py) ... \u001b[?25l\u001b[?25hdone\n",
            "  Created wheel for ipynb-py-convert: filename=ipynb_py_convert-0.4.6-cp36-none-any.whl size=4625 sha256=6e62156b5452a0686fa2241b9c960f01a2709dd07a75f8dadf19976e9898c85a\n",
            "  Stored in directory: /root/.cache/pip/wheels/80/dc/7c/a7279f7726d66951fe48d5afd45247bcf5bf92c98282e4e78e\n",
            "  Building wheel for pyshp (setup.py) ... \u001b[?25l\u001b[?25hdone\n",
            "  Created wheel for pyshp: filename=pyshp-2.1.2-cp36-none-any.whl size=36216 sha256=12a3260aa94e6852ac6dd31ac7520808f94a3dd2841b06d575bba612f1ab11ed\n",
            "  Stored in directory: /root/.cache/pip/wheels/96/6c/53/4112475adf3b831da97f083163d0f38ee6daac9c1b13f7afea\n",
            "Successfully built ipynb-py-convert pyshp\n",
            "\u001b[31mERROR: datascience 0.10.6 has requirement folium==0.2.1, but you'll have folium 0.11.0 which is incompatible.\u001b[0m\n",
            "Installing collected packages: ipynb-py-convert, mss, traittypes, bqplot, folium, ipyfilechooser, jupyter-client, nbconvert, jupyter-server, voila, colour, ipyleaflet, ratelim, geocoder, soupsieve, beautifulsoup4, logzero, geeadd, pyshp, whitebox, ipytree, ffmpeg-python, geemap\n",
            "  Found existing installation: folium 0.8.3\n",
            "    Uninstalling folium-0.8.3:\n",
            "      Successfully uninstalled folium-0.8.3\n",
            "  Found existing installation: jupyter-client 5.3.5\n",
            "    Uninstalling jupyter-client-5.3.5:\n",
            "      Successfully uninstalled jupyter-client-5.3.5\n",
            "  Found existing installation: nbconvert 5.6.1\n",
            "    Uninstalling nbconvert-5.6.1:\n",
            "      Successfully uninstalled nbconvert-5.6.1\n",
            "  Found existing installation: beautifulsoup4 4.6.3\n",
            "    Uninstalling beautifulsoup4-4.6.3:\n",
            "      Successfully uninstalled beautifulsoup4-4.6.3\n",
            "Successfully installed beautifulsoup4-4.9.3 bqplot-0.12.19 colour-0.1.5 ffmpeg-python-0.2.0 folium-0.11.0 geeadd-0.5.2 geemap-0.8.2 geocoder-1.38.1 ipyfilechooser-0.4.0 ipyleaflet-0.13.3 ipynb-py-convert-0.4.6 ipytree-0.1.8 jupyter-client-6.1.7 jupyter-server-1.0.6 logzero-1.6.3 mss-6.1.0 nbconvert-6.0.7 pyshp-2.1.2 ratelim-0.1.6 soupsieve-2.0.1 traittypes-0.2.1 voila-0.2.4 whitebox-1.4.0\n"
          ],
          "name": "stdout"
        },
        {
          "output_type": "display_data",
          "data": {
            "application/vnd.colab-display-data+json": {
              "pip_warning": {
                "packages": [
                  "jupyter_client"
                ]
              }
            }
          },
          "metadata": {
            "tags": []
          }
        },
        {
          "output_type": "stream",
          "text": [
            "Collecting geopandas\n",
            "\u001b[?25l  Downloading https://files.pythonhosted.org/packages/f7/a4/e66aafbefcbb717813bf3a355c8c4fc3ed04ea1dd7feb2920f2f4f868921/geopandas-0.8.1-py2.py3-none-any.whl (962kB)\n",
            "\u001b[K     |████████████████████████████████| 972kB 4.1MB/s \n",
            "\u001b[?25hCollecting pyproj>=2.2.0\n",
            "\u001b[?25l  Downloading https://files.pythonhosted.org/packages/e4/ab/280e80a67cfc109d15428c0ec56391fc03a65857b7727cf4e6e6f99a4204/pyproj-3.0.0.post1-cp36-cp36m-manylinux2010_x86_64.whl (6.4MB)\n",
            "\u001b[K     |████████████████████████████████| 6.5MB 21.7MB/s \n",
            "\u001b[?25hRequirement already satisfied: pandas>=0.23.0 in /usr/local/lib/python3.6/dist-packages (from geopandas) (1.1.4)\n",
            "Requirement already satisfied: shapely in /usr/local/lib/python3.6/dist-packages (from geopandas) (1.7.1)\n",
            "Collecting fiona\n",
            "\u001b[?25l  Downloading https://files.pythonhosted.org/packages/37/94/4910fd55246c1d963727b03885ead6ef1cd3748a465f7b0239ab25dfc9a3/Fiona-1.8.18-cp36-cp36m-manylinux1_x86_64.whl (14.8MB)\n",
            "\u001b[K     |████████████████████████████████| 14.8MB 328kB/s \n",
            "\u001b[?25hRequirement already satisfied: certifi in /usr/local/lib/python3.6/dist-packages (from pyproj>=2.2.0->geopandas) (2020.6.20)\n",
            "Requirement already satisfied: python-dateutil>=2.7.3 in /usr/local/lib/python3.6/dist-packages (from pandas>=0.23.0->geopandas) (2.8.1)\n",
            "Requirement already satisfied: pytz>=2017.2 in /usr/local/lib/python3.6/dist-packages (from pandas>=0.23.0->geopandas) (2018.9)\n",
            "Requirement already satisfied: numpy>=1.15.4 in /usr/local/lib/python3.6/dist-packages (from pandas>=0.23.0->geopandas) (1.18.5)\n",
            "Requirement already satisfied: six>=1.7 in /usr/local/lib/python3.6/dist-packages (from fiona->geopandas) (1.15.0)\n",
            "Requirement already satisfied: attrs>=17 in /usr/local/lib/python3.6/dist-packages (from fiona->geopandas) (20.2.0)\n",
            "Collecting click-plugins>=1.0\n",
            "  Downloading https://files.pythonhosted.org/packages/e9/da/824b92d9942f4e472702488857914bdd50f73021efea15b4cad9aca8ecef/click_plugins-1.1.1-py2.py3-none-any.whl\n",
            "Collecting munch\n",
            "  Downloading https://files.pythonhosted.org/packages/cc/ab/85d8da5c9a45e072301beb37ad7f833cd344e04c817d97e0cc75681d248f/munch-2.5.0-py2.py3-none-any.whl\n",
            "Collecting cligj>=0.5\n",
            "  Downloading https://files.pythonhosted.org/packages/ba/06/e3440b1f2dc802d35f329f299ba96153e9fcbfdef75e17f4b61f79430c6a/cligj-0.7.0-py3-none-any.whl\n",
            "Requirement already satisfied: click<8,>=4.0 in /usr/local/lib/python3.6/dist-packages (from fiona->geopandas) (7.1.2)\n",
            "Installing collected packages: pyproj, click-plugins, munch, cligj, fiona, geopandas\n",
            "Successfully installed click-plugins-1.1.1 cligj-0.7.0 fiona-1.8.18 geopandas-0.8.1 munch-2.5.0 pyproj-3.0.0.post1\n"
          ],
          "name": "stdout"
        }
      ]
    },
    {
      "cell_type": "markdown",
      "metadata": {
        "id": "qN0iD7wyl9ek"
      },
      "source": [
        "- #### *You may have now have to `RESTART RUNTIME` (with a button in the output above) to properly import the modules in the next step*"
      ]
    },
    {
      "cell_type": "markdown",
      "metadata": {
        "id": "B86uetgZjY9n"
      },
      "source": [
        "### Import modules\n",
        "\n",
        "Plotting, visualization, and data analysis tools"
      ]
    },
    {
      "cell_type": "code",
      "metadata": {
        "id": "6kX969zMjdO6"
      },
      "source": [
        "# earth engine and statistical analysis\n",
        "from IPython.display import Image\n",
        "import ee, datetime\n",
        "import pandas as pd\n",
        "from pylab import *\n",
        "import seaborn as sns\n",
        "\n",
        "# file management\n",
        "import os\n",
        "import glob\n",
        "\n",
        "# geospatial and plotting modules\n",
        "#import geopandas as gpd\n",
        "import geemap.eefolium as geemap\n",
        "\n",
        "import folium\n",
        "import matplotlib.pyplot as plt\n",
        "%matplotlib inline\n",
        "\n",
        "import altair as alt\n"
      ],
      "execution_count": 2,
      "outputs": []
    },
    {
      "cell_type": "markdown",
      "metadata": {
        "id": "kdq6OFNLj8wk"
      },
      "source": [
        "### Authenticate earth engine\n",
        "\n",
        "Since earth engine requires a login, to use it with colaboratory requires 'authenticating' an analysis session. That is, giving permission via a google account. Rinning the cell below will provide a link to a google authentication website, which will ask your permission and then provide a verification code to paste into a box - then hit enter to finish the process."
      ]
    },
    {
      "cell_type": "code",
      "metadata": {
        "id": "kWMh8Ed1g9pV",
        "colab": {
          "base_uri": "https://localhost:8080/"
        },
        "outputId": "831ff5ce-e50d-4198-c67d-c6214aa23fd0"
      },
      "source": [
        "# Trigger the authentication flow.\n",
        "ee.Authenticate()"
      ],
      "execution_count": 3,
      "outputs": [
        {
          "output_type": "stream",
          "text": [
            "To authorize access needed by Earth Engine, open the following URL in a web browser and follow the instructions. If the web browser does not start automatically, please manually browse the URL below.\n",
            "\n",
            "    https://accounts.google.com/o/oauth2/auth?client_id=517222506229-vsmmajv00ul0bs7p89v5m89qs8eb9359.apps.googleusercontent.com&scope=https%3A%2F%2Fwww.googleapis.com%2Fauth%2Fearthengine+https%3A%2F%2Fwww.googleapis.com%2Fauth%2Fdevstorage.full_control&redirect_uri=urn%3Aietf%3Awg%3Aoauth%3A2.0%3Aoob&response_type=code&code_challenge=lHyLTuu9Vp_WwDTQhcRhaNeh5N5B-cAPg79Qo5NGRQY&code_challenge_method=S256\n",
            "\n",
            "The authorization workflow will generate a code, which you should paste in the box below. \n",
            "Enter verification code: 4/1AY0e-g6oTBbMhzZ52oB0NE7Ln8oA4xX-qeAPBSS93G79cqO1T40w31oODrg\n",
            "\n",
            "Successfully saved authorization token.\n"
          ],
          "name": "stdout"
        }
      ]
    },
    {
      "cell_type": "markdown",
      "metadata": {
        "id": "XngSJGgpHDzC"
      },
      "source": [
        "Once it has `Successfully saved authorization token` the session can be 'initialized'"
      ]
    },
    {
      "cell_type": "code",
      "metadata": {
        "id": "xs7O3yZCj6uu"
      },
      "source": [
        "# start up the session\n",
        "ee.Initialize()"
      ],
      "execution_count": 4,
      "outputs": []
    },
    {
      "cell_type": "markdown",
      "metadata": {
        "id": "71GDVaBjkQi3"
      },
      "source": [
        "## Define Functions\n",
        "\n",
        "Functions do something with information. Here are functions to *mask* out clouds and cloud shadows, and to calculate a variety of *spectral indices* from the image data.   Sentinel-2 and Landsat 8 satellite image data are used.\n",
        "\n",
        "- Landsat 8 data is called with `ee.ImageCollection(\"LANDSAT/LC08/C01/T1_SR\")` in the script and described here: https://developers.google.com/earth-engine/datasets/catalog/LANDSAT_LC08_C01_T1_SR\n",
        "\n",
        "- The functions for masking are adapted from here: https://code.earthengine.google.com/?scriptPath=Examples:Datasets/LANDSAT_LC08_C01_T1_SR\n",
        "\n",
        "- Sentinel-2 data is called with `ee.ImageCollection(\"COPERNICUS/S2_SR\")` and described here: https://developers.google.com/earth-engine/datasets/catalog/COPERNICUS_S2\n",
        "\n",
        "**Sentinel-2** image bands used in the functions are:\n",
        "\n",
        "- Band 4 = red\n",
        "- Band 8 = NIR\n",
        "- at 10m pixel resolution\n",
        "\n",
        "**Landsat 8** bands used are:\n",
        "- Band 4 = red\n",
        "- Band 5 = NIR\n",
        "- at 30m pixel resolution\n",
        "\n",
        "The exercise uses Sentinel-2 data, and can be adapted to work with Landsat 8."
      ]
    },
    {
      "cell_type": "markdown",
      "metadata": {
        "id": "aYFr-8AKWksv"
      },
      "source": [
        "### Cloudmask functions\n",
        "\n",
        "These will mask clouds from the image collections to help improve analysis results of the time series data."
      ]
    },
    {
      "cell_type": "code",
      "metadata": {
        "id": "yXX3I9ryPY2a"
      },
      "source": [
        "#function to use QA band to filter clouds\n",
        "#Landsat 8 sr data\n",
        "def maskL8sr(image):\n",
        "  #Bits 3 and 5 are cloud shadow and cloud, respectively.\n",
        "  cloudShadowBitMask = (1 << 3)\n",
        "  cloudsBitMask = (1 << 5)\n",
        "  # Get the pixel QA band.\n",
        "  qa = image.select('pixel_qa')\n",
        "  # Both flags should be set to zero, indicating clear conditions.\n",
        "  mask = qa.bitwiseAnd((cloudShadowBitMask).eq(0)).bitwiseAnd((cloudsBitMask).eq(0))\n",
        "  return image.updateMask(mask)"
      ],
      "execution_count": 5,
      "outputs": []
    },
    {
      "cell_type": "code",
      "metadata": {
        "id": "92eYoXZtl40T"
      },
      "source": [
        "#function to use QA band to filter clouds\n",
        "#Sentinel 2 data\n",
        "def maskS2clouds(image):\n",
        "  qa = image.select('QA60')\n",
        "\n",
        "  #Bits 10 and 11 are clouds and cirrus, respectively.\n",
        "  cloudBitMask = 1 << 10\n",
        "  cirrusBitMask = 1 << 11\n",
        "\n",
        "  #Both flags should be set to zero, indicating clear conditions.\n",
        "  mask = qa.bitwiseAnd(cloudBitMask).eq(0)\n",
        "  mask2 = qa.bitwiseAnd(cirrusBitMask).eq(0)\n",
        "  mask3 = qa.bitwiseAnd(cloudBitMask).eq(0).bitwiseAnd(cirrusBitMask).eq(0)\n",
        "  #cloud_img = image.updateMask(mask)\n",
        "  #cir_img = cloud_img.updateMask(mask2)\n",
        "\n",
        "  return image.updateMask(mask).updateMask(mask2)\n",
        "  #return image.updateMask(mask)"
      ],
      "execution_count": 6,
      "outputs": []
    },
    {
      "cell_type": "markdown",
      "metadata": {
        "id": "O-R07SMCpUsa"
      },
      "source": [
        "### Spectral indices and transformations\n",
        "\n",
        "Spectral indices are designed to combine different wavelengths of energy in order to highlight some materials or features of interest.\n",
        "\n",
        "Code for the Landsat 8 indices was adapted from *renelikestacos* on github. There are quite a few here, and many more have been created.\n",
        "\n",
        "This exercise uses the *NDVI (Normalized Difference Vegetation Index)* as an example. NDVI is [described here](https://earthobservatory.nasa.gov/features/MeasuringVegetation/measuring_vegetation_2.php) in the context of the MODIS sensor system - this exercise uses Sentinel-2 imagery which has 10 meter size pixels.\n",
        "\n",
        "Other indices are described here:\n",
        "- [Landsat 8 Spectral Indices](https://www.usgs.gov/core-science-systems/nli/landsat/landsat-surface-reflectance-derived-spectral-indices?qt-science_support_page_related_con=0#qt-science_support_page_related_con)\n",
        "- [Sentinel-2 indices](https://custom-scripts.sentinel-hub.com/custom-scripts/sentinel-2/indexdb/) On first look-over I thought there was one for \"Macaroni\" but I misread the table."
      ]
    },
    {
      "cell_type": "code",
      "metadata": {
        "id": "_1mdLKQcL4WQ"
      },
      "source": [
        "# Landsat 8 indices\n",
        "def NDVI(image):\n",
        "    return image.normalizedDifference(['B5', 'B4'])\n",
        "\n",
        "def SAM(image):\n",
        "    band1 = image.select(\"B1\")\n",
        "    bandn = image.select(\"B2\",\"B3\",\"B4\",\"B5\",\"B6\",\"B7\",\"B8\",\"B9\");\n",
        "    maxObjSize = 256;\n",
        "    b = band1.divide(bandn);\n",
        "    spectralAngleMap = b.atan();\n",
        "    spectralAngleMap_sin = spectralAngleMap.sin();\n",
        "    spectralAngleMap_cos = spectralAngleMap.cos();\n",
        "    sum_cos = spectralAngleMap_cos.reduce(ee.call(\"Reducer.sum\"));\n",
        "    sum_sin = spectralAngleMap_sin.reduce(ee.call(\"Reducer.sum\"));\n",
        "    return ee.Image.cat(sum_sin, sum_cos, spectralAngleMap_sin, spectralAngleMap_cos);\n",
        "\n",
        "#Enhanced Vegetation Index\n",
        "def EVI(image):\n",
        "    # L(Canopy background)\n",
        "    # C1,C2(Coefficients of aerosol resistance term)\n",
        "    # GainFactor(Gain or scaling factor)\n",
        "    gain_factor = ee.Image(2.5);\n",
        "    coefficient_1 = ee.Image(6);\n",
        "    coefficient_2 = ee.Image(7.5);\n",
        "    l = ee.Image(1);\n",
        "    nir = image.select(\"B5\");\n",
        "    red = image.select(\"B4\");\n",
        "    blue = image.select(\"B2\");\n",
        "    evi = image.expression(\n",
        "        \"Gain_Factor*((NIR-RED)/(NIR+C1*RED-C2*BLUE+L))\",\n",
        "        {\n",
        "            \"Gain_Factor\":gain_factor,\n",
        "            \"NIR\":nir,\n",
        "            \"RED\":red,\n",
        "            \"C1\":coefficient_1,\n",
        "            \"C2\":coefficient_2,\n",
        "            \"BLUE\":blue,\n",
        "            \"L\":l\n",
        "        }\n",
        "    )\n",
        "    return evi\n",
        "\n",
        "#Atmospherically Resistant Vegetation Index\n",
        "def ARVI(image):\n",
        "    red = image.select(\"B4\")\n",
        "    blue = image.select(\"B2\")\n",
        "    nir = image.select(\"B5\")\n",
        "    red_square = red.multiply(red)\n",
        "    arvi = image.expression(\n",
        "        \"NIR - (REDsq - BLUE)/(NIR+(REDsq-BLUE))\",{\n",
        "            \"NIR\": nir,\n",
        "            \"REDsq\": red_square,\n",
        "            \"BLUE\": blue\n",
        "        }\n",
        "    )\n",
        "    return arvi\n",
        "\n",
        "#Leaf Area Index\n",
        "def LAI(image):\n",
        "    nir = image.select(\"B5\")\n",
        "    red = image.select(\"B4\")\n",
        "    coeff1 = ee.Image(0.0305);\n",
        "    coeff2 = ee.Image(1.2640);\n",
        "    lai = image.expression(\n",
        "        \"(((NIR/RED)*COEFF1)+COEFF2)\",\n",
        "        {\n",
        "            \"NIR\":nir,\n",
        "            \"RED\":red,\n",
        "            \"COEFF1\":coeff1,\n",
        "            \"COEFF2\":coeff2\n",
        "        }\n",
        "    )\n",
        "    return lai"
      ],
      "execution_count": 7,
      "outputs": []
    },
    {
      "cell_type": "markdown",
      "metadata": {
        "id": "TpGWwSzRWVQ8"
      },
      "source": [
        "This exercise demonstrates the use of Sentinel-2 image data, so these indices need to be adapted to the different band names in the dataset."
      ]
    },
    {
      "cell_type": "code",
      "metadata": {
        "id": "ftc5lAv_1m7c"
      },
      "source": [
        "# adapted to Sentinel-2\n",
        "\n",
        "# NDVI for Sentinel-2 bands\n",
        "def senNDVI(image):\n",
        "    return image.normalizedDifference(['B8', 'B4'])"
      ],
      "execution_count": 9,
      "outputs": []
    },
    {
      "cell_type": "markdown",
      "metadata": {
        "id": "HvO5VenAkzW8"
      },
      "source": [
        "## Create target areas for analysis\n",
        "\n",
        "A single point will be used to set the initial data search.  \n",
        "\n",
        "Note that this is 'x, y' style (longitude, latitude)\n",
        " - Deschutes National Forest: [-121.2611, 44.0916]\n"
      ]
    },
    {
      "cell_type": "code",
      "metadata": {
        "id": "ljnxUV3SQ4v4"
      },
      "source": [
        "# use the Deschutes National Forest point\n",
        "rnapoint =  [-121.2611, 44.0916]"
      ],
      "execution_count": 10,
      "outputs": []
    },
    {
      "cell_type": "code",
      "metadata": {
        "id": "7lWamfcxlq8B"
      },
      "source": [
        "# Create earth engine point\n",
        "point = {'type':'Point', 'coordinates':rnapoint}"
      ],
      "execution_count": 11,
      "outputs": []
    },
    {
      "cell_type": "markdown",
      "metadata": {
        "id": "NRkBfvLmqfKn"
      },
      "source": [
        "## Create image collection\n",
        "\n",
        "An 'image collection' is a group (or filtered group) of related imagery or other data.\n",
        "\n",
        "- [ImageCollection Overview](https://samapriya.github.io/gee-py/projects/collection_overview/)\n",
        "\n",
        "Images in earth engine are described here.\n",
        "\n",
        "- [Image Overview](https://samapriya.github.io/gee-py/projects/imgoverview/)\n",
        "\n",
        "Collections can be vast, so commonly they are filtered by a geographic area or time period."
      ]
    },
    {
      "cell_type": "markdown",
      "metadata": {
        "id": "EOheguOoSFn3"
      },
      "source": [
        "### Set time period\n",
        "\n",
        "This exercise uses data from early 2015 to the October 10, 2020. The Sentinel-2 image collection frequency increases over this time as a second sensor comes into use.\n",
        "\n",
        "Landsat 8 dataset availability is from April 2013 onwards, so a longer time period could be analysed with this data."
      ]
    },
    {
      "cell_type": "code",
      "metadata": {
        "id": "E4SyNGHuSIfe"
      },
      "source": [
        "# Set start and end date\n",
        "startTime = datetime.datetime(2015, 3, 28)\n",
        "# endTime = datetime.datetime.now()\n",
        "endTime = datetime.datetime(2020, 11, 9)"
      ],
      "execution_count": 12,
      "outputs": []
    },
    {
      "cell_type": "markdown",
      "metadata": {
        "id": "X617_vqWT5j_"
      },
      "source": [
        "### Load Sentinel-2 image collection\n",
        "\n",
        "\n"
      ]
    },
    {
      "cell_type": "code",
      "metadata": {
        "id": "-k3222AZkS7h"
      },
      "source": [
        "# Create Sentinel-2 image collection\n",
        "collection = ee.ImageCollection(\"COPERNICUS/S2\").filterDate(startTime, endTime).filterBounds(point)\n",
        "\n",
        "# Create Landsat 8 image collection\n",
        "#L8collection = ee.ImageCollection(\"LANDSAT/LC08/C01/T1_SR\").filterDate(startTime, endTime).filterBounds(point)"
      ],
      "execution_count": 13,
      "outputs": []
    },
    {
      "cell_type": "markdown",
      "metadata": {
        "id": "XLINtAoq7SNn"
      },
      "source": [
        "### Image Collection Information and Metadata\n",
        "\n",
        "It is usually a good idea to examine the data in the collections created. "
      ]
    },
    {
      "cell_type": "code",
      "metadata": {
        "id": "iLwViKs57a2D",
        "colab": {
          "base_uri": "https://localhost:8080/"
        },
        "outputId": "76e626e2-799a-40a4-a639-794a777dfc1f"
      },
      "source": [
        "# Get the number of images.\n",
        "count = collection.size()\n",
        "print('Count: ', str(count.getInfo())+'\\n')"
      ],
      "execution_count": 14,
      "outputs": [
        {
          "output_type": "stream",
          "text": [
            "Count:  599\n",
            "\n"
          ],
          "name": "stdout"
        }
      ]
    },
    {
      "cell_type": "code",
      "metadata": {
        "id": "bO1qjVV_jYB6",
        "colab": {
          "base_uri": "https://localhost:8080/"
        },
        "outputId": "69843acf-5461-4f2f-addf-75a1d34a70d4"
      },
      "source": [
        "# Get the date range of images in the collection.\n",
        "drange = collection.reduceColumns(ee.Reducer.minMax(), [\"system:time_start\"])\n",
        "mindate = (ee.Date(drange.get('min')).getInfo())\n",
        "maxdate = (ee.Date(drange.get('max')).getInfo())\n",
        "print(f'Sentinel 2 Date range: {mindate} to {maxdate}')"
      ],
      "execution_count": 15,
      "outputs": [
        {
          "output_type": "stream",
          "text": [
            "Sentinel 2 Date range: {'type': 'Date', 'value': 1442602882000} to {'type': 'Date', 'value': 1604862742204}\n"
          ],
          "name": "stdout"
        }
      ]
    },
    {
      "cell_type": "markdown",
      "metadata": {
        "id": "AWCThsh7YvDP"
      },
      "source": [
        "Those dates look a little odd - they are a timestamp (in milliseconds) from Jan 1, 1970 - this is 'UNIX epoch time.' We can convert back to a more human-readable format this way:"
      ]
    },
    {
      "cell_type": "code",
      "metadata": {
        "id": "k1mLPm7RnTSd",
        "colab": {
          "base_uri": "https://localhost:8080/"
        },
        "outputId": "1197fac7-02c8-4821-8514-dc9e1ef7e24e"
      },
      "source": [
        "# divide by 1000 to convert from milliseconds\n",
        "datetime.datetime.fromtimestamp(0/1000)"
      ],
      "execution_count": 16,
      "outputs": [
        {
          "output_type": "execute_result",
          "data": {
            "text/plain": [
              "datetime.datetime(1970, 1, 1, 0, 0)"
            ]
          },
          "metadata": {
            "tags": []
          },
          "execution_count": 16
        }
      ]
    },
    {
      "cell_type": "markdown",
      "metadata": {
        "id": "mIUwJp7Jn07h"
      },
      "source": [
        "So the date / time of the oldest image in this particular collection is:"
      ]
    },
    {
      "cell_type": "code",
      "metadata": {
        "id": "Z4yyv7A3ogQZ",
        "colab": {
          "base_uri": "https://localhost:8080/"
        },
        "outputId": "45d44acc-4914-47e0-9eb2-061ba58696b8"
      },
      "source": [
        "datetime.datetime.fromtimestamp(1445454617457/1000)"
      ],
      "execution_count": 17,
      "outputs": [
        {
          "output_type": "execute_result",
          "data": {
            "text/plain": [
              "datetime.datetime(2015, 10, 21, 19, 10, 17, 457000)"
            ]
          },
          "metadata": {
            "tags": []
          },
          "execution_count": 17
        }
      ]
    },
    {
      "cell_type": "markdown",
      "metadata": {
        "id": "gtKalLVhnf3C"
      },
      "source": [
        "There are many other types of information about the images in the metadata."
      ]
    },
    {
      "cell_type": "code",
      "metadata": {
        "id": "e34kWlb97bBQ",
        "colab": {
          "base_uri": "https://localhost:8080/"
        },
        "outputId": "efc4d6f5-4008-4c82-89ba-0ab33f9f7e49"
      },
      "source": [
        "#Get a list of all metadata properties.\n",
        "properties = collection.propertyNames()\n",
        "print('Metadata properties: '+str(properties.getInfo())) # ee.List of metadata properties"
      ],
      "execution_count": 18,
      "outputs": [
        {
          "output_type": "stream",
          "text": [
            "Metadata properties: ['date_range', 'period', 'system:visualization_0_min', 'type_name', 'system:visualization_0_bands', 'thumb', 'description', 'source_tags', 'system:id', 'visualization_0_max', 'provider_url', 'title', 'sample', 'tags', 'system:visualization_0_max', 'product_tags', 'provider', 'visualization_0_min', 'system:version', 'system:visualization_0_name', 'visualization_0_name', 'visualization_0_bands']\n"
          ],
          "name": "stdout"
        }
      ]
    },
    {
      "cell_type": "markdown",
      "metadata": {
        "id": "r6vF7aAQZSlb"
      },
      "source": [
        "### Metadata for the first image in the collection\n",
        "\n",
        "'Metadata' or standarized information about a dataset, is useful both for human-understanding of the usefulness (or not) of a particular dataset. More information about getting metatdata can be found at these links: \n",
        "- https://developers.google.com/earth-engine/ic_info\n",
        "- https://samapriya.github.io/gee-py/projects/collection_meta/"
      ]
    },
    {
      "cell_type": "code",
      "metadata": {
        "id": "cwNRyRJzq4BJ"
      },
      "source": [
        "# sort the collection by time of image acquisition\n",
        "sorted = collection.sort(\"system:time_start\");\n",
        "\n",
        "# Get the first (oldest) image.\n",
        "scene = sorted.first()"
      ],
      "execution_count": 19,
      "outputs": []
    },
    {
      "cell_type": "code",
      "metadata": {
        "id": "Y51JGW1h0ZGd",
        "colab": {
          "base_uri": "https://localhost:8080/"
        },
        "outputId": "a3757a23-67cc-4c7a-dcd6-bf204bdc452d"
      },
      "source": [
        "#properties of the image\n",
        "properties = scene.propertyNames()\n",
        "print('Metadata properties: '+str(properties.getInfo())) # ee.List of metadata properties"
      ],
      "execution_count": 20,
      "outputs": [
        {
          "output_type": "stream",
          "text": [
            "Metadata properties: ['DATATAKE_IDENTIFIER', 'SPACECRAFT_NAME', 'FORMAT_CORRECTNESS_FLAG', 'system:id', 'MEAN_INCIDENCE_AZIMUTH_ANGLE_B8A', 'MEAN_SOLAR_AZIMUTH_ANGLE', 'system:footprint', 'SOLAR_IRRADIANCE_B12', 'system:version', 'SOLAR_IRRADIANCE_B10', 'SOLAR_IRRADIANCE_B11', 'GENERATION_TIME', 'SOLAR_IRRADIANCE_B8A', 'SENSOR_QUALITY_FLAG', 'CLOUD_COVERAGE_ASSESSMENT', 'system:time_end', 'system:time_start', 'DATASTRIP_ID', 'PROCESSING_BASELINE', 'SENSING_ORBIT_NUMBER', 'GEOMETRIC_QUALITY_FLAG', 'SENSING_ORBIT_DIRECTION', 'GRANULE_ID', 'REFLECTANCE_CONVERSION_CORRECTION', 'MEAN_INCIDENCE_AZIMUTH_ANGLE_B8', 'DATATAKE_TYPE', 'MEAN_INCIDENCE_AZIMUTH_ANGLE_B9', 'MEAN_INCIDENCE_AZIMUTH_ANGLE_B6', 'MEAN_INCIDENCE_AZIMUTH_ANGLE_B7', 'RADIOMETRIC_QUALITY_FLAG', 'MEAN_INCIDENCE_AZIMUTH_ANGLE_B4', 'MEAN_INCIDENCE_ZENITH_ANGLE_B1', 'MEAN_INCIDENCE_AZIMUTH_ANGLE_B5', 'MEAN_INCIDENCE_AZIMUTH_ANGLE_B2', 'MEAN_INCIDENCE_AZIMUTH_ANGLE_B3', 'MEAN_INCIDENCE_ZENITH_ANGLE_B5', 'MEAN_INCIDENCE_AZIMUTH_ANGLE_B1', 'MEAN_INCIDENCE_ZENITH_ANGLE_B4', 'MEAN_INCIDENCE_ZENITH_ANGLE_B3', 'MEAN_INCIDENCE_ZENITH_ANGLE_B2', 'MEAN_INCIDENCE_ZENITH_ANGLE_B9', 'MEAN_INCIDENCE_ZENITH_ANGLE_B8', 'MEAN_INCIDENCE_ZENITH_ANGLE_B7', 'MEAN_INCIDENCE_ZENITH_ANGLE_B6', 'MEAN_SOLAR_ZENITH_ANGLE', 'MEAN_INCIDENCE_ZENITH_ANGLE_B8A', 'MGRS_TILE', 'CLOUDY_PIXEL_PERCENTAGE', 'GENERAL_QUALITY_FLAG', 'PRODUCT_ID', 'MEAN_INCIDENCE_ZENITH_ANGLE_B10', 'SOLAR_IRRADIANCE_B9', 'DEGRADED_MSI_DATA_PERCENTAGE', 'MEAN_INCIDENCE_ZENITH_ANGLE_B11', 'MEAN_INCIDENCE_ZENITH_ANGLE_B12', 'SOLAR_IRRADIANCE_B6', 'MEAN_INCIDENCE_AZIMUTH_ANGLE_B10', 'SOLAR_IRRADIANCE_B5', 'MEAN_INCIDENCE_AZIMUTH_ANGLE_B11', 'SOLAR_IRRADIANCE_B8', 'MEAN_INCIDENCE_AZIMUTH_ANGLE_B12', 'SOLAR_IRRADIANCE_B7', 'SOLAR_IRRADIANCE_B2', 'SOLAR_IRRADIANCE_B1', 'SOLAR_IRRADIANCE_B4', 'SOLAR_IRRADIANCE_B3', 'system:asset_size', 'system:index', 'system:bands', 'system:band_names']\n"
          ],
          "name": "stdout"
        }
      ]
    },
    {
      "cell_type": "code",
      "metadata": {
        "id": "gvpceMb-SxHa",
        "colab": {
          "base_uri": "https://localhost:8080/"
        },
        "outputId": "f44e1be8-a977-4450-af52-53c4138ef9fd"
      },
      "source": [
        "#Get the 'tile' location identifier\n",
        "target = 'MGRS_TILE'\n",
        "meta = scene.get(target).getInfo()\n",
        "print('{} = {}'.format(target, meta))"
      ],
      "execution_count": 21,
      "outputs": [
        {
          "output_type": "stream",
          "text": [
            "MGRS_TILE = 10TFP\n"
          ],
          "name": "stdout"
        }
      ]
    },
    {
      "cell_type": "code",
      "metadata": {
        "id": "djgmo8xe0OXM",
        "colab": {
          "base_uri": "https://localhost:8080/"
        },
        "outputId": "2a88bd7d-2706-48ec-9383-c42ecfbf4e5d"
      },
      "source": [
        "#Get the data id\n",
        "target = 'GRANULE_ID'\n",
        "meta = scene.get(target).getInfo()\n",
        "print('{} = {}'.format(target, meta))"
      ],
      "execution_count": 22,
      "outputs": [
        {
          "output_type": "stream",
          "text": [
            "GRANULE_ID = L1C_T10TFP_A001254_20150918T190122\n"
          ],
          "name": "stdout"
        }
      ]
    },
    {
      "cell_type": "code",
      "metadata": {
        "id": "4943Q7tCMX7m",
        "colab": {
          "base_uri": "https://localhost:8080/"
        },
        "outputId": "c99ce6f9-8662-4d1f-e617-148f4b0cfc7f"
      },
      "source": [
        "#Get estimated cloud cover\n",
        "target = 'CLOUD_COVERAGE_ASSESSMENT'\n",
        "meta = scene.get(target).getInfo()\n",
        "print('{} = {}'.format(target, meta))"
      ],
      "execution_count": 23,
      "outputs": [
        {
          "output_type": "stream",
          "text": [
            "CLOUD_COVERAGE_ASSESSMENT = 2.0484\n"
          ],
          "name": "stdout"
        }
      ]
    },
    {
      "cell_type": "code",
      "metadata": {
        "id": "hGG7TqstsfkY",
        "colab": {
          "base_uri": "https://localhost:8080/"
        },
        "outputId": "7dd0d487-6c10-4657-c57a-afa44c4d4c8d"
      },
      "source": [
        "#Get the timestamp and convert it to a date.\n",
        "date = ee.Date(scene.get('system:time_start')).getInfo()\n",
        "# print(date['value'])\n",
        "x=date['value']\n",
        "print(datetime.datetime.fromtimestamp(x/1000))"
      ],
      "execution_count": 24,
      "outputs": [
        {
          "output_type": "stream",
          "text": [
            "2015-09-18 19:01:22\n"
          ],
          "name": "stdout"
        }
      ]
    },
    {
      "cell_type": "code",
      "metadata": {
        "id": "abaOch96CqWr",
        "colab": {
          "base_uri": "https://localhost:8080/"
        },
        "outputId": "7b760fa4-b84c-4ca7-db32-fdc360a9a172"
      },
      "source": [
        "oldest = collection.sort('system:time_start').limit(1)\n",
        "scene = oldest.first()\n",
        "#Get a specific metadata property.\n",
        "target = 'system:time_start'\n",
        "meta = scene.get(target).getInfo()\n",
        "print('{} = {}'.format(target, meta))\n",
        "\n",
        "#Get the timestamp and convert it to a date.\n",
        "date = ee.Date(scene.get('system:time_start')).getInfo()\n",
        "# print(date['value'])\n",
        "x=date['value']\n",
        "print(datetime.datetime.fromtimestamp(x/1000))"
      ],
      "execution_count": 25,
      "outputs": [
        {
          "output_type": "stream",
          "text": [
            "system:time_start = 1442602882000\n",
            "2015-09-18 19:01:22\n"
          ],
          "name": "stdout"
        }
      ]
    },
    {
      "cell_type": "markdown",
      "metadata": {
        "id": "6hmjqOgWNz8_"
      },
      "source": [
        "# **Assignment: Geog 485**\n",
        "\n",
        "What  does the “MGRS_TILE” metadata mean in the context of the Sentinel-2 image collection - how do we interpret the value ‘10TEP’? Describe how the Sentinel-2 tile system works.\n",
        "\n",
        "Here is the code cell again..."
      ]
    },
    {
      "cell_type": "code",
      "metadata": {
        "id": "CtT5TH81OqdW",
        "colab": {
          "base_uri": "https://localhost:8080/"
        },
        "outputId": "ff23c8ec-dcbb-4257-aafd-89c63504eefe"
      },
      "source": [
        "#Get the 'tile' location identifier\n",
        "target = 'MGRS_TILE'\n",
        "meta = scene.get(target).getInfo()\n",
        "print('{} = {}'.format(target, meta))"
      ],
      "execution_count": null,
      "outputs": [
        {
          "output_type": "stream",
          "text": [
            "MGRS_TILE = 10TEP\n"
          ],
          "name": "stdout"
        }
      ]
    },
    {
      "cell_type": "markdown",
      "metadata": {
        "id": "yvp693sBizOZ"
      },
      "source": [
        "# **Assignment: Geog 491**\n",
        "\n",
        "What data type are the `mindate` and `maxdate` variables? How could the outputof the code below be made to print the following:\n",
        "```\n",
        "Sentinel 2 Date range: 1445454617457 to 1604430749547\n",
        "```\n",
        "instead of:\n",
        "```\n",
        "# Sentinel 2 Date range: {'type': 'Date', 'value': 1445454617457} to {'type': 'Date', 'value': 1604862746318}\n",
        "```\n",
        "\n",
        "\n",
        "\n"
      ]
    },
    {
      "cell_type": "code",
      "metadata": {
        "id": "j37LpNYeq84O",
        "colab": {
          "base_uri": "https://localhost:8080/"
        },
        "outputId": "c49a441b-670c-48c2-c109-eedf3606105d"
      },
      "source": [
        "# this is the code below, mentioned above\n",
        "# Get the date range of images in the collection.\n",
        "drange = collection.reduceColumns(ee.Reducer.minMax(), [\"system:time_start\"])\n",
        "mindate = (ee.Date(drange.get('min')).getInfo()['value']) # datatype is dict so provide the relevant key\n",
        "maxdate = (ee.Date(drange.get('max')).getInfo()['value']) # datatype is dict so provide the relevant key\n",
        "print(f'Sentinel 2 Date range: {mindate} to {maxdate}')"
      ],
      "execution_count": 26,
      "outputs": [
        {
          "output_type": "stream",
          "text": [
            "Sentinel 2 Date range: 1442602882000 to 1604862742204\n"
          ],
          "name": "stdout"
        }
      ]
    },
    {
      "cell_type": "markdown",
      "metadata": {
        "id": "LOmEVXOvtZ6f"
      },
      "source": [
        "# **Assignment: Geog 491**\n",
        "\n",
        "Write a function to convert a timestamp from a date, given a ee image.\n",
        "\n",
        "Adapt the code below, so that given an image, the output will be the date/time in a more human readable format.\n",
        "\n",
        ">The function could start something like this:\n",
        "\n",
        "```\n",
        "def ts_toDate(scene):\n",
        "  # your function here\n",
        "  ``` \n",
        ">\n",
        ">and end up printing output such as:\n",
        ">\n",
        "`2015-10-21 19:10:17.457000`\n",
        "\n",
        "\n",
        "\n"
      ]
    },
    {
      "cell_type": "code",
      "metadata": {
        "id": "JOPg10l-ryO-",
        "colab": {
          "base_uri": "https://localhost:8080/"
        },
        "outputId": "ddb3ab39-a1bb-49c6-cbf8-47b14d954121"
      },
      "source": [
        "def ts_toScene(scene):\n",
        "    #Get the timestamp and convert it to a date.\n",
        "    date = ee.Date(scene.get('system:time_start')).getInfo()\n",
        "    # print(date['value'])\n",
        "    x=date['value']\n",
        "    print(datetime.datetime.fromtimestamp(x/1000))\n",
        "\n",
        "ts_toScene(scene)"
      ],
      "execution_count": 27,
      "outputs": [
        {
          "output_type": "stream",
          "text": [
            "2015-09-18 19:01:22\n"
          ],
          "name": "stdout"
        }
      ]
    },
    {
      "cell_type": "markdown",
      "metadata": {
        "id": "UDnm_7RDkIsv"
      },
      "source": [
        "## View the most recent image\n",
        "\n",
        "The data can be viewed as a static image or with an interactive map. First, the static image - these are handy because you can copy and paste them directly into another document\n"
      ]
    },
    {
      "cell_type": "code",
      "metadata": {
        "id": "Au0RcZYp7a8C",
        "colab": {
          "base_uri": "https://localhost:8080/"
        },
        "outputId": "e2d58827-f989-4e9a-aaff-e534d355c3bc"
      },
      "source": [
        "# Limit the collection to the 1 most recent images.\n",
        "recent = collection.sort('system:time_start', False).limit(1)\n",
        "# pull the image from the collection\n",
        "image = recent.first()\n",
        "print('Recent images: '+str(recent.getInfo())+'\\n')"
      ],
      "execution_count": 28,
      "outputs": [
        {
          "output_type": "stream",
          "text": [
            "Recent images: {'type': 'ImageCollection', 'bands': [], 'id': 'COPERNICUS/S2', 'version': 1605738316041268, 'properties': {'date_range': [1435017600000, 1605571200000], 'period': 0, 'system:visualization_0_min': '0.0', 'type_name': 'ImageCollection', 'system:visualization_0_bands': 'B4,B3,B2', 'thumb': 'https://mw1.google.com/ges/dd/images/sentinel2_thumb.png', 'description': '<p>Sentinel-2 is a wide-swath, high-resolution, multi-spectral\\nimaging mission supporting Copernicus Land Monitoring studies,\\nincluding the monitoring of vegetation, soil and water cover,\\nas well as observation of inland waterways and coastal areas.</p><p>The Sentinel-2 data contain 13 UINT16 spectral bands representing\\nTOA reflectance scaled by 10000. See the <a href=\"https://sentinel.esa.int/documents/247904/685211/Sentinel-2_User_Handbook\">Sentinel-2 User Handbook</a>\\nfor details. In addition, three QA bands are present where one\\n(QA60) is a bitmask band with cloud mask information. For more\\ndetails, <a href=\"https://sentinel.esa.int/web/sentinel/technical-guides/sentinel-2-msi/level-1c/cloud-masks\">see the full explanation of how cloud masks are computed.</a></p><p>Each Sentinel-2 product (zip archive) may contain multiple\\ngranules. Each granule becomes a separate Earth Engine asset.\\nEE asset ids for Sentinel-2 assets have the following format:\\nCOPERNICUS/S2/20151128T002653_20151128T102149_T56MNN. Here the\\nfirst numeric part represents the sensing date and time, the\\nsecond numeric part represents the product generation date and\\ntime, and the final 6-character string is a unique granule identifier\\nindicating its UTM grid reference (see <a href=\"https://en.wikipedia.org/wiki/Military_Grid_Reference_System\">MGRS</a>).</p><p>The Level-2 data produced by ESA can be found in the collection\\n<a href=\"COPERNICUS_S2_SR\">COPERNICUS/S2_SR</a>.</p><p>Clouds can be mostly removed by using\\n<a href=\"COPERNICUS_S2_CLOUD_PROBABILITY\">COPERNICUS/S2_CLOUD_PROBABILITY</a>.</p><p>For more details on Sentinel-2 radiometric resolution, <a href=\"https://earth.esa.int/web/sentinel/user-guides/sentinel-2-msi/resolutions/radiometric\">see this page</a>.</p><p><b>Revisit Interval</b><br>\\n  5 days\\n</p><p><b>Bands</b><table class=\"eecat\"><tr><th scope=\"col\">Name</th><th scope=\"col\">Description</th></tr><tr><td>B1</td><td><p>Aerosols</p></td></tr><tr><td>B2</td><td><p>Blue</p></td></tr><tr><td>B3</td><td><p>Green</p></td></tr><tr><td>B4</td><td><p>Red</p></td></tr><tr><td>B5</td><td><p>Red Edge 1</p></td></tr><tr><td>B6</td><td><p>Red Edge 2</p></td></tr><tr><td>B7</td><td><p>Red Edge 3</p></td></tr><tr><td>B8</td><td><p>NIR</p></td></tr><tr><td>B8A</td><td><p>Red Edge 4</p></td></tr><tr><td>B9</td><td><p>Water vapor</p></td></tr><tr><td>B10</td><td><p>Cirrus</p></td></tr><tr><td>B11</td><td><p>SWIR 1</p></td></tr><tr><td>B12</td><td><p>SWIR 2</p></td></tr><tr><td>QA10</td><td><p>Always empty</p></td></tr><tr><td>QA20</td><td><p>Always empty</p></td></tr><tr><td>QA60</td><td><p>Cloud mask</p></td></tr><tr><td colspan=100>\\n      Bitmask for QA60\\n<ul><li>\\n          Bit 10: Opaque clouds\\n<ul><li>0: No opaque clouds</li><li>1: Opaque clouds present</li></ul></li><li>\\n          Bit 11: Cirrus clouds\\n<ul><li>0: No cirrus clouds</li><li>1: Cirrus clouds present</li></ul></li></ul></td></tr></table><p><b>Image Properties</b><table class=\"eecat\"><tr><th scope=\"col\">Name</th><th scope=\"col\">Type</th><th scope=\"col\">Description</th></tr><tr><td>CLOUDY_PIXEL_PERCENTAGE</td><td>DOUBLE</td><td><p>Granule-specific cloudy pixel percentage taken from the original metadata</p></td></tr><tr><td>CLOUD_COVERAGE_ASSESSMENT</td><td>DOUBLE</td><td><p>Cloudy pixel percentage for the whole archive that contains this granule. Taken from the original metadata</p></td></tr><tr><td>DATASTRIP_ID</td><td>STRING</td><td><p>Unique identifier of the datastrip Product Data Item (PDI)</p></td></tr><tr><td>DATATAKE_IDENTIFIER</td><td>STRING</td><td><p>Uniquely identifies a given Datatake. The ID contains the Sentinel-2 satellite, start date and time, absolute orbit number, and processing baseline.</p></td></tr><tr><td>DATATAKE_TYPE</td><td>STRING</td><td><p>MSI operation mode</p></td></tr><tr><td>DEGRADED_MSI_DATA_PERCENTAGE</td><td>DOUBLE</td><td><p>Percentage of degraded MSI and ancillary data</p></td></tr><tr><td>FORMAT_CORRECTNESS_FLAG</td><td>STRING</td><td><p>Synthesis of the On-Line Quality Control (OLQC) checks performed at granule (Product_Syntax) and datastrip (Product Syntax and DS_Consistency) levels</p></td></tr><tr><td>GENERAL_QUALITY_FLAG</td><td>STRING</td><td><p>Synthesis of the OLQC checks performed at the datastrip level (Relative_Orbit_Number)</p></td></tr><tr><td>GENERATION_TIME</td><td>DOUBLE</td><td><p>Product generation time</p></td></tr><tr><td>GEOMETRIC_QUALITY_FLAG</td><td>STRING</td><td><p>Synthesis of the OLQC checks performed at the datastrip level (Attitude_Quality_Indicator)</p></td></tr><tr><td>GRANULE_ID</td><td>STRING</td><td><p>Unique identifier of the granule PDI (PDI_ID) </p></td></tr><tr><td>MEAN_INCIDENCE_AZIMUTH_ANGLE_B1</td><td>DOUBLE</td><td><p>Mean value containing viewing incidence azimuth angle average for band B1 and for all detectors</p></td></tr><tr><td>MEAN_INCIDENCE_AZIMUTH_ANGLE_B2</td><td>DOUBLE</td><td><p>Mean value containing viewing incidence azimuth angle average for band B2 and for all detectors</p></td></tr><tr><td>MEAN_INCIDENCE_AZIMUTH_ANGLE_B3</td><td>DOUBLE</td><td><p>Mean value containing viewing incidence azimuth angle average for band B3 and for all detectors</p></td></tr><tr><td>MEAN_INCIDENCE_AZIMUTH_ANGLE_B4</td><td>DOUBLE</td><td><p>Mean value containing viewing incidence azimuth angle average for band B4 and for all detectors</p></td></tr><tr><td>MEAN_INCIDENCE_AZIMUTH_ANGLE_B5</td><td>DOUBLE</td><td><p>Mean value containing viewing incidence azimuth angle average for band B5 and for all detectors</p></td></tr><tr><td>MEAN_INCIDENCE_AZIMUTH_ANGLE_B6</td><td>DOUBLE</td><td><p>Mean value containing viewing incidence azimuth angle average for band B6 and for all detectors</p></td></tr><tr><td>MEAN_INCIDENCE_AZIMUTH_ANGLE_B7</td><td>DOUBLE</td><td><p>Mean value containing viewing incidence azimuth angle average for band B7 and for all detectors</p></td></tr><tr><td>MEAN_INCIDENCE_AZIMUTH_ANGLE_B8</td><td>DOUBLE</td><td><p>Mean value containing viewing incidence azimuth angle average for band B8 and for all detectors</p></td></tr><tr><td>MEAN_INCIDENCE_AZIMUTH_ANGLE_B8A</td><td>DOUBLE</td><td><p>Mean value containing viewing incidence azimuth angle average for band B8a and for all detectors</p></td></tr><tr><td>MEAN_INCIDENCE_AZIMUTH_ANGLE_B9</td><td>DOUBLE</td><td><p>Mean value containing viewing incidence azimuth angle average for band B9 and for all detectors</p></td></tr><tr><td>MEAN_INCIDENCE_AZIMUTH_ANGLE_B10</td><td>DOUBLE</td><td><p>Mean value containing viewing incidence azimuth angle average for band B10 and for all detectors</p></td></tr><tr><td>MEAN_INCIDENCE_AZIMUTH_ANGLE_B11</td><td>DOUBLE</td><td><p>Mean value containing viewing incidence azimuth angle average for band B11 and for all detectors</p></td></tr><tr><td>MEAN_INCIDENCE_AZIMUTH_ANGLE_B12</td><td>DOUBLE</td><td><p>Mean value containing viewing incidence azimuth angle average for band B12 and for all detectors</p></td></tr><tr><td>MEAN_INCIDENCE_ZENITH_ANGLE_B1</td><td>DOUBLE</td><td><p>Mean value containing viewing incidence zenith angle average for band B1 and for all detectors</p></td></tr><tr><td>MEAN_INCIDENCE_ZENITH_ANGLE_B2</td><td>DOUBLE</td><td><p>Mean value containing viewing incidence zenith angle average for band B2 and for all detectors</p></td></tr><tr><td>MEAN_INCIDENCE_ZENITH_ANGLE_B3</td><td>DOUBLE</td><td><p>Mean value containing viewing incidence zenith angle average for band B3 and for all detectors</p></td></tr><tr><td>MEAN_INCIDENCE_ZENITH_ANGLE_B4</td><td>DOUBLE</td><td><p>Mean value containing viewing incidence zenith angle average for band B4 and for all detectors</p></td></tr><tr><td>MEAN_INCIDENCE_ZENITH_ANGLE_B5</td><td>DOUBLE</td><td><p>Mean value containing viewing incidence zenith angle average for band B5 and for all detectors</p></td></tr><tr><td>MEAN_INCIDENCE_ZENITH_ANGLE_B6</td><td>DOUBLE</td><td><p>Mean value containing viewing incidence zenith angle average for band B6 and for all detectors</p></td></tr><tr><td>MEAN_INCIDENCE_ZENITH_ANGLE_B7</td><td>DOUBLE</td><td><p>Mean value containing viewing incidence zenith angle average for band B7 and for all detectors</p></td></tr><tr><td>MEAN_INCIDENCE_ZENITH_ANGLE_B8</td><td>DOUBLE</td><td><p>Mean value containing viewing incidence zenith angle average for band B8 and for all detectors</p></td></tr><tr><td>MEAN_INCIDENCE_ZENITH_ANGLE_B8A</td><td>DOUBLE</td><td><p>Mean value containing viewing incidence zenith angle average for band B8a and for all detectors</p></td></tr><tr><td>MEAN_INCIDENCE_ZENITH_ANGLE_B9</td><td>DOUBLE</td><td><p>Mean value containing viewing incidence zenith angle average for band B9 and for all detectors</p></td></tr><tr><td>MEAN_INCIDENCE_ZENITH_ANGLE_B10</td><td>DOUBLE</td><td><p>Mean value containing viewing incidence zenith angle average for band B10 and for all detectors</p></td></tr><tr><td>MEAN_INCIDENCE_ZENITH_ANGLE_B11</td><td>DOUBLE</td><td><p>Mean value containing viewing incidence zenith angle average for band B11 and for all detectors</p></td></tr><tr><td>MEAN_INCIDENCE_ZENITH_ANGLE_B12</td><td>DOUBLE</td><td><p>Mean value containing viewing incidence zenith angle average for band B12 and for all detectors</p></td></tr><tr><td>MEAN_SOLAR_AZIMUTH_ANGLE</td><td>DOUBLE</td><td><p>Mean value containing sun azimuth angle average for all bands and detectors</p></td></tr><tr><td>MEAN_SOLAR_ZENITH_ANGLE</td><td>DOUBLE</td><td><p>Mean value containing sun zenith angle average for all bands and detectors</p></td></tr><tr><td>MGRS_TILE</td><td>STRING</td><td><p>US-Military Grid Reference System (MGRS) tile</p></td></tr><tr><td>PROCESSING_BASELINE</td><td>STRING</td><td><p>Configuration baseline used at the time of the product generation in terms of processor software version and major Ground Image Processing Parameters (GIPP) version</p></td></tr><tr><td>PRODUCT_ID</td><td>STRING</td><td><p>The full id of the original Sentinel-2 product</p></td></tr><tr><td>RADIOMETRIC_QUALITY_FLAG</td><td>STRING</td><td><p>Based on the OLQC reports contained in the Datastrips/QI_DATA with RADIOMETRIC_QUALITY checklist name</p></td></tr><tr><td>REFLECTANCE_CONVERSION_CORRECTION</td><td>DOUBLE</td><td><p>Earth-Sun distance correction factor</p></td></tr><tr><td>SENSING_ORBIT_DIRECTION</td><td>STRING</td><td><p>Imaging orbit direction</p></td></tr><tr><td>SENSING_ORBIT_NUMBER</td><td>DOUBLE</td><td><p>Imaging orbit number</p></td></tr><tr><td>SENSOR_QUALITY_FLAG</td><td>STRING</td><td><p>Synthesis of the OLQC checks performed at granule (Missing_Lines, Corrupted_ISP, and Sensing_Time) and datastrip (Degraded_SAD and Datation_Model) levels</p></td></tr><tr><td>SOLAR_IRRADIANCE_B1</td><td>DOUBLE</td><td><p>Mean solar exoatmospheric irradiance for band B1</p></td></tr><tr><td>SOLAR_IRRADIANCE_B2</td><td>DOUBLE</td><td><p>Mean solar exoatmospheric irradiance for band B2</p></td></tr><tr><td>SOLAR_IRRADIANCE_B3</td><td>DOUBLE</td><td><p>Mean solar exoatmospheric irradiance for band B3</p></td></tr><tr><td>SOLAR_IRRADIANCE_B4</td><td>DOUBLE</td><td><p>Mean solar exoatmospheric irradiance for band B4</p></td></tr><tr><td>SOLAR_IRRADIANCE_B5</td><td>DOUBLE</td><td><p>Mean solar exoatmospheric irradiance for band B5</p></td></tr><tr><td>SOLAR_IRRADIANCE_B6</td><td>DOUBLE</td><td><p>Mean solar exoatmospheric irradiance for band B6</p></td></tr><tr><td>SOLAR_IRRADIANCE_B7</td><td>DOUBLE</td><td><p>Mean solar exoatmospheric irradiance for band B7</p></td></tr><tr><td>SOLAR_IRRADIANCE_B8</td><td>DOUBLE</td><td><p>Mean solar exoatmospheric irradiance for band B8</p></td></tr><tr><td>SOLAR_IRRADIANCE_B8A</td><td>DOUBLE</td><td><p>Mean solar exoatmospheric irradiance for band B8a</p></td></tr><tr><td>SOLAR_IRRADIANCE_B9</td><td>DOUBLE</td><td><p>Mean solar exoatmospheric irradiance for band B9</p></td></tr><tr><td>SOLAR_IRRADIANCE_B10</td><td>DOUBLE</td><td><p>Mean solar exoatmospheric irradiance for band B10</p></td></tr><tr><td>SOLAR_IRRADIANCE_B11</td><td>DOUBLE</td><td><p>Mean solar exoatmospheric irradiance for band B11</p></td></tr><tr><td>SOLAR_IRRADIANCE_B12</td><td>DOUBLE</td><td><p>Mean solar exoatmospheric irradiance for band B12</p></td></tr><tr><td>SPACECRAFT_NAME</td><td>STRING</td><td><p>Sentinel-2 spacecraft name: Sentinel-2A, Sentinel-2B</p></td></tr></table><p><b>Terms of Use</b><br><p>The use of Sentinel data is governed by the <a href=\"https://scihub.copernicus.eu/twiki/pub/SciHubWebPortal/TermsConditions/Sentinel_Data_Terms_and_Conditions.pdf\">Copernicus Sentinel Data Terms and Conditions.</a></p><style>\\n  table.eecat {\\n  border: 1px solid black;\\n  border-collapse: collapse;\\n  font-size: 13px;\\n  }\\n  table.eecat td, tr, th {\\n  text-align: left; vertical-align: top;\\n  border: 1px solid gray; padding: 3px;\\n  }\\n  td.nobreak { white-space: nowrap; }\\n</style>', 'source_tags': ['eu', 'esa', 'copernicus', 'sentinel'], 'visualization_0_max': '3000.0', 'provider_url': 'https://earth.esa.int/web/sentinel/user-guides/sentinel-2-msi/product-types/level-1c', 'title': 'Sentinel-2 MSI: MultiSpectral Instrument, Level-1C', 'sample': 'https://mw1.google.com/ges/dd/images/sentinel2_sample.png', 'tags': ['eu', 'esa', 'copernicus', 'sentinel', 'msi', 'radiance'], 'system:visualization_0_max': '3000.0', 'product_tags': ['msi', 'radiance'], 'provider': 'European Union/ESA/Copernicus', 'visualization_0_min': '0.0', 'system:visualization_0_name': 'RGB', 'visualization_0_name': 'RGB', 'visualization_0_bands': 'B4,B3,B2'}, 'features': [{'type': 'Image', 'bands': [{'id': 'B1', 'data_type': {'type': 'PixelType', 'precision': 'int', 'min': 0, 'max': 65535}, 'dimensions': [1830, 1830], 'crs': 'EPSG:32610', 'crs_transform': [60, 0, 600000, 0, -60, 4900020]}, {'id': 'B2', 'data_type': {'type': 'PixelType', 'precision': 'int', 'min': 0, 'max': 65535}, 'dimensions': [10980, 10980], 'crs': 'EPSG:32610', 'crs_transform': [10, 0, 600000, 0, -10, 4900020]}, {'id': 'B3', 'data_type': {'type': 'PixelType', 'precision': 'int', 'min': 0, 'max': 65535}, 'dimensions': [10980, 10980], 'crs': 'EPSG:32610', 'crs_transform': [10, 0, 600000, 0, -10, 4900020]}, {'id': 'B4', 'data_type': {'type': 'PixelType', 'precision': 'int', 'min': 0, 'max': 65535}, 'dimensions': [10980, 10980], 'crs': 'EPSG:32610', 'crs_transform': [10, 0, 600000, 0, -10, 4900020]}, {'id': 'B5', 'data_type': {'type': 'PixelType', 'precision': 'int', 'min': 0, 'max': 65535}, 'dimensions': [5490, 5490], 'crs': 'EPSG:32610', 'crs_transform': [20, 0, 600000, 0, -20, 4900020]}, {'id': 'B6', 'data_type': {'type': 'PixelType', 'precision': 'int', 'min': 0, 'max': 65535}, 'dimensions': [5490, 5490], 'crs': 'EPSG:32610', 'crs_transform': [20, 0, 600000, 0, -20, 4900020]}, {'id': 'B7', 'data_type': {'type': 'PixelType', 'precision': 'int', 'min': 0, 'max': 65535}, 'dimensions': [5490, 5490], 'crs': 'EPSG:32610', 'crs_transform': [20, 0, 600000, 0, -20, 4900020]}, {'id': 'B8', 'data_type': {'type': 'PixelType', 'precision': 'int', 'min': 0, 'max': 65535}, 'dimensions': [10980, 10980], 'crs': 'EPSG:32610', 'crs_transform': [10, 0, 600000, 0, -10, 4900020]}, {'id': 'B8A', 'data_type': {'type': 'PixelType', 'precision': 'int', 'min': 0, 'max': 65535}, 'dimensions': [5490, 5490], 'crs': 'EPSG:32610', 'crs_transform': [20, 0, 600000, 0, -20, 4900020]}, {'id': 'B9', 'data_type': {'type': 'PixelType', 'precision': 'int', 'min': 0, 'max': 65535}, 'dimensions': [1830, 1830], 'crs': 'EPSG:32610', 'crs_transform': [60, 0, 600000, 0, -60, 4900020]}, {'id': 'B10', 'data_type': {'type': 'PixelType', 'precision': 'int', 'min': 0, 'max': 65535}, 'dimensions': [1830, 1830], 'crs': 'EPSG:32610', 'crs_transform': [60, 0, 600000, 0, -60, 4900020]}, {'id': 'B11', 'data_type': {'type': 'PixelType', 'precision': 'int', 'min': 0, 'max': 65535}, 'dimensions': [5490, 5490], 'crs': 'EPSG:32610', 'crs_transform': [20, 0, 600000, 0, -20, 4900020]}, {'id': 'B12', 'data_type': {'type': 'PixelType', 'precision': 'int', 'min': 0, 'max': 65535}, 'dimensions': [5490, 5490], 'crs': 'EPSG:32610', 'crs_transform': [20, 0, 600000, 0, -20, 4900020]}, {'id': 'QA10', 'data_type': {'type': 'PixelType', 'precision': 'int', 'min': 0, 'max': 65535}, 'dimensions': [10980, 10980], 'crs': 'EPSG:32610', 'crs_transform': [10, 0, 600000, 0, -10, 4900020]}, {'id': 'QA20', 'data_type': {'type': 'PixelType', 'precision': 'int', 'min': 0, 'max': 4294967295}, 'dimensions': [5490, 5490], 'crs': 'EPSG:32610', 'crs_transform': [20, 0, 600000, 0, -20, 4900020]}, {'id': 'QA60', 'data_type': {'type': 'PixelType', 'precision': 'int', 'min': 0, 'max': 65535}, 'dimensions': [1830, 1830], 'crs': 'EPSG:32610', 'crs_transform': [60, 0, 600000, 0, -60, 4900020]}], 'id': 'COPERNICUS/S2/20201108T190619_20201108T190937_T10TFP', 'version': 1604920241676890.0, 'properties': {'DATATAKE_IDENTIFIER': 'GS2B_20201108T190619_019201_N02.09', 'SPACECRAFT_NAME': 'Sentinel-2B', 'MEAN_INCIDENCE_AZIMUTH_ANGLE_B8A': 284.792313133837, 'MEAN_SOLAR_AZIMUTH_ANGLE': 170.244648937501, 'system:footprint': {'type': 'LinearRing', 'coordinates': [[-121.74757589277115, 44.246604960062896], [-121.74764429644014, 44.246572723449894], [-121.75799610395816, 43.75246691189266], [-121.76808723449575, 43.25833670930356], [-121.76803779353911, 43.25829468215943], [-121.76799349958674, 43.25824568945931], [-120.63962902841432, 43.24052238115919], [-120.6376311245292, 43.2408439465603], [-120.6376124476205, 43.240862609579466], [-120.63758072887747, 43.24086147119927], [-120.63755917603842, 43.24087760480723], [-120.6337151766315, 43.244585612964286], [-120.6204383530235, 43.26269071034681], [-120.61401909393248, 43.27553086051658], [-120.50301117260854, 43.530317719883534], [-120.39061957985733, 43.84546380892788], [-120.3886923149878, 43.87820193091755], [-120.37347861895968, 44.223212642829864], [-120.37352780953404, 44.223255250426924], [-120.3735716549609, 44.22330479555918], [-121.74751724483303, 44.2466409211369], [-121.74757589277115, 44.246604960062896]]}, 'SOLAR_IRRADIANCE_B12': 87.75, 'SOLAR_IRRADIANCE_B10': 365.41, 'SENSOR_QUALITY': 'PASSED', 'SOLAR_IRRADIANCE_B11': 247.08, 'GENERATION_TIME': 1604869545000, 'SOLAR_IRRADIANCE_B8A': 953.93, 'FORMAT_CORRECTNESS': 'PASSED', 'CLOUD_COVERAGE_ASSESSMENT': 75.3565, 'system:time_end': 1604862742204, 'system:time_start': 1604862742204, 'DATASTRIP_ID': 'S2B_OPER_MSI_L1C_DS_VGS2_20201108T210545_S20201108T190937_N02.09', 'PROCESSING_BASELINE': '02.09', 'SENSING_ORBIT_NUMBER': 13, 'SENSING_ORBIT_DIRECTION': 'DESCENDING', 'GENERAL_QUALITY': 'PASSED', 'GRANULE_ID': 'L1C_T10TFP_A019201_20201108T190937', 'REFLECTANCE_CONVERSION_CORRECTION': 1.01784208152295, 'MEAN_INCIDENCE_AZIMUTH_ANGLE_B8': 284.530329397006, 'DATATAKE_TYPE': 'INS-NOBS', 'MEAN_INCIDENCE_AZIMUTH_ANGLE_B9': 284.883234852221, 'MEAN_INCIDENCE_AZIMUTH_ANGLE_B6': 284.719718229953, 'MEAN_INCIDENCE_AZIMUTH_ANGLE_B7': 284.740710027664, 'MEAN_INCIDENCE_AZIMUTH_ANGLE_B4': 284.623108377681, 'MEAN_INCIDENCE_ZENITH_ANGLE_B1': 7.78947233647107, 'MEAN_INCIDENCE_AZIMUTH_ANGLE_B5': 284.668373697346, 'RADIOMETRIC_QUALITY': 'PASSED', 'MEAN_INCIDENCE_AZIMUTH_ANGLE_B2': 284.500351369044, 'MEAN_INCIDENCE_AZIMUTH_ANGLE_B3': 284.554110536002, 'MEAN_INCIDENCE_ZENITH_ANGLE_B5': 7.67689611526049, 'MEAN_INCIDENCE_AZIMUTH_ANGLE_B1': 284.826665148782, 'MEAN_INCIDENCE_ZENITH_ANGLE_B4': 7.66048960344613, 'MEAN_INCIDENCE_ZENITH_ANGLE_B3': 7.62345334194863, 'MEAN_INCIDENCE_ZENITH_ANGLE_B2': 7.59832899928678, 'MEAN_INCIDENCE_ZENITH_ANGLE_B9': 7.82828188141706, 'MEAN_INCIDENCE_ZENITH_ANGLE_B8': 7.61143741709223, 'MEAN_INCIDENCE_ZENITH_ANGLE_B7': 7.72971939434139, 'MEAN_INCIDENCE_ZENITH_ANGLE_B6': 7.70388379133188, 'MEAN_SOLAR_ZENITH_ANGLE': 61.1604077379975, 'MEAN_INCIDENCE_ZENITH_ANGLE_B8A': 7.76212518720478, 'MGRS_TILE': '10TFP', 'CLOUDY_PIXEL_PERCENTAGE': 75.3565, 'PRODUCT_ID': 'S2B_MSIL1C_20201108T190619_N0209_R013_T10TFP_20201108T210545', 'MEAN_INCIDENCE_ZENITH_ANGLE_B10': 7.64058366609509, 'SOLAR_IRRADIANCE_B9': 817.58, 'DEGRADED_MSI_DATA_PERCENTAGE': 0, 'MEAN_INCIDENCE_ZENITH_ANGLE_B11': 7.69983692498924, 'MEAN_INCIDENCE_ZENITH_ANGLE_B12': 7.77008512765644, 'SOLAR_IRRADIANCE_B6': 1291.13, 'MEAN_INCIDENCE_AZIMUTH_ANGLE_B10': 284.511833089564, 'SOLAR_IRRADIANCE_B5': 1425.78, 'MEAN_INCIDENCE_AZIMUTH_ANGLE_B11': 284.626027197952, 'SOLAR_IRRADIANCE_B8': 1041.28, 'MEAN_INCIDENCE_AZIMUTH_ANGLE_B12': 284.717780150118, 'SOLAR_IRRADIANCE_B7': 1175.57, 'SOLAR_IRRADIANCE_B2': 1959.75, 'SOLAR_IRRADIANCE_B1': 1874.3, 'SOLAR_IRRADIANCE_B4': 1512.79, 'GEOMETRIC_QUALITY': 'PASSED', 'SOLAR_IRRADIANCE_B3': 1824.93, 'system:asset_size': 1381935871, 'system:index': '20201108T190619_20201108T190937_T10TFP'}}]}\n",
            "\n"
          ],
          "name": "stdout"
        }
      ]
    },
    {
      "cell_type": "code",
      "metadata": {
        "id": "2dFfqmvOjlwW",
        "colab": {
          "base_uri": "https://localhost:8080/",
          "height": 1000
        },
        "outputId": "2e6210c4-e8a6-4b62-9e06-6e3be5158c96"
      },
      "source": [
        "# set the visualization parameters for the output\n",
        "visParams = {'bands': ['B4', 'B3', 'B2'], 'max': 3000, 'dimensions':1000 }\n",
        "\n",
        "# create image thumbnail in earth engine and view\n",
        "thumbnail = image.getThumbUrl(visParams)\n",
        "Image(url=thumbnail)"
      ],
      "execution_count": 29,
      "outputs": [
        {
          "output_type": "execute_result",
          "data": {
            "text/html": [
              "<img src=\"https://earthengine.googleapis.com/v1alpha/projects/earthengine-legacy/thumbnails/6ab844ac1692ca3f6fcf68eccad8cd67-86c46332d926b0b78a25fea69876f9ee:getPixels\"/>"
            ],
            "text/plain": [
              "<IPython.core.display.Image object>"
            ]
          },
          "metadata": {
            "tags": []
          },
          "execution_count": 29
        }
      ]
    },
    {
      "cell_type": "markdown",
      "metadata": {
        "id": "R-nu_-hOsUOS"
      },
      "source": [
        "It is a bit cloudy as of this run. The 'least cloudy' images - there are probably many, can be pulled from the collection using the Quality Assurance band\n",
        "\n",
        "## Get the least cloudy image \n",
        "\n",
        "The metadata for the collection allows the sorting by estimated cloud cover - for now, limit it to the ten least cloudy images\n"
      ]
    },
    {
      "cell_type": "code",
      "metadata": {
        "id": "QV01e3Lwy1zx"
      },
      "source": [
        "sorted = collection.sort('CLOUD_COVERAGE_ASSESSMENT').limit(10)\n",
        "\n",
        "# Get the first (least cloudy) image.\n",
        "image = sorted.first();"
      ],
      "execution_count": 30,
      "outputs": []
    },
    {
      "cell_type": "code",
      "metadata": {
        "id": "QfENkvtmvoaZ",
        "colab": {
          "base_uri": "https://localhost:8080/"
        },
        "outputId": "362ad98f-bd6c-4d2e-bb36-24b197bd4eb3"
      },
      "source": [
        "# Get the number of images.\n",
        "count = sorted.size()\n",
        "print('Count: ', str(count.getInfo())+'\\n')\n",
        "\n",
        "# Get the date range of images in the collection.\n",
        "drange = sorted.reduceColumns(ee.Reducer.minMax(), [\"system:time_start\"])\n",
        "print('Sentinel 2 Date range: ', str(ee.Date(drange.get('min')).getInfo()), str(ee.Date(drange.get('max')).getInfo())+'\\n')"
      ],
      "execution_count": 31,
      "outputs": [
        {
          "output_type": "stream",
          "text": [
            "Count:  10\n",
            "\n",
            "Sentinel 2 Date range:  {'type': 'Date', 'value': 1443466882000} {'type': 'Date', 'value': 1503774719920}\n",
            "\n"
          ],
          "name": "stdout"
        }
      ]
    },
    {
      "cell_type": "code",
      "metadata": {
        "id": "lh2-4ibCIGM8",
        "colab": {
          "base_uri": "https://localhost:8080/"
        },
        "outputId": "e6e5930b-7eae-4955-ac9b-f6a1daca9dcb"
      },
      "source": [
        "#Get the timestamp and convert it to a date.\n",
        "date = ee.Date(image.get('system:time_start')).getInfo()\n",
        "# print(date['value'])\n",
        "x=date['value']\n",
        "print(datetime.datetime.fromtimestamp(x/1000))"
      ],
      "execution_count": 32,
      "outputs": [
        {
          "output_type": "stream",
          "text": [
            "2015-09-28 19:01:22\n"
          ],
          "name": "stdout"
        }
      ]
    },
    {
      "cell_type": "markdown",
      "metadata": {
        "id": "a2vlapShw-Uv"
      },
      "source": [
        "An image from July 2, 2017. View this 'least cloudy' image."
      ]
    },
    {
      "cell_type": "code",
      "metadata": {
        "id": "Mi-rLPs_y-5P",
        "colab": {
          "base_uri": "https://localhost:8080/",
          "height": 1000
        },
        "outputId": "83cc914d-3b4c-4208-a937-263a63dff7fa"
      },
      "source": [
        "visParams = {'bands': ['B4', 'B3', 'B2'], 'max': 3000, 'dimensions':1000}\n",
        "thumbnail = image.getThumbUrl(visParams)\n",
        "Image(url=thumbnail)"
      ],
      "execution_count": 33,
      "outputs": [
        {
          "output_type": "execute_result",
          "data": {
            "text/html": [
              "<img src=\"https://earthengine.googleapis.com/v1alpha/projects/earthengine-legacy/thumbnails/fd85348a31cd24da6be99d9a05ba64df-a88f92c499376e67ac5e6d214f99b06a:getPixels\"/>"
            ],
            "text/plain": [
              "<IPython.core.display.Image object>"
            ]
          },
          "metadata": {
            "tags": []
          },
          "execution_count": 33
        }
      ]
    },
    {
      "cell_type": "markdown",
      "metadata": {
        "id": "_Ixt2tP92gP9"
      },
      "source": [
        "## Calculate and view NDVI\n",
        "\n",
        "This image is much better.\n",
        "\n",
        "The NDVI is calculated with a ratio of two wavelenths of reflected energy - 'red' and 'near-infrared'.\n",
        "\n",
        "Higher NDVI values should correspond to larger amounts of green vegetation. To calculate this, run the Sentinel-2 NDVI function made earlier in the exercise on the existing image."
      ]
    },
    {
      "cell_type": "code",
      "metadata": {
        "id": "nWHUfD1RxeiT"
      },
      "source": [
        "# run the sentinel NDVI function\n",
        "sndvi = senNDVI(image)"
      ],
      "execution_count": 34,
      "outputs": []
    },
    {
      "cell_type": "code",
      "metadata": {
        "id": "PtaX1PdB2JLt",
        "colab": {
          "base_uri": "https://localhost:8080/",
          "height": 1000
        },
        "outputId": "76ca95ce-5f00-4a0a-8d0f-404dad6aa698"
      },
      "source": [
        "# change visualization setting for the NDVI data\n",
        "visParams = {'min':0, 'max': 1, 'dimensions':1000}\n",
        "thumbnail = sndvi.getThumbUrl(visParams)\n",
        "Image(url=thumbnail)"
      ],
      "execution_count": 35,
      "outputs": [
        {
          "output_type": "execute_result",
          "data": {
            "text/html": [
              "<img src=\"https://earthengine.googleapis.com/v1alpha/projects/earthengine-legacy/thumbnails/2e4893cc8223f34b5bec92c4b7f88f77-146a9c1d3559991e51297905273150cb:getPixels\"/>"
            ],
            "text/plain": [
              "<IPython.core.display.Image object>"
            ]
          },
          "metadata": {
            "tags": []
          },
          "execution_count": 35
        }
      ]
    },
    {
      "cell_type": "markdown",
      "metadata": {
        "id": "VxIBiG6xqdp1"
      },
      "source": [
        "Brighter areas in the image should represent areas with higher amounts of growing green vegetation."
      ]
    },
    {
      "cell_type": "markdown",
      "metadata": {
        "id": "5lfQ8NWY2kJW"
      },
      "source": [
        "## View scene interactively\n",
        "\n",
        "To examine whether NDVI is actually showing growing vegetation more closely, an interactive map is useful.  \n",
        "\n",
        "The *folium* python library can be used to view this same data on an interactive map.  Multiple layers and other graphics can also be viewed, ans the visualization saved as an .html file.\n",
        "\n",
        "First, lets get the parameters for visualization set up."
      ]
    },
    {
      "cell_type": "code",
      "metadata": {
        "id": "SKysBp1pJHyu"
      },
      "source": [
        "# visualization settings\n",
        "rgbParams = {'bands': ['B4', 'B3', 'B2'], 'max': 3000, 'gamma': [1.4,1.2, 1.4]}\n",
        "ndviParams = {'min':0, 'max': 1}"
      ],
      "execution_count": 36,
      "outputs": []
    },
    {
      "cell_type": "code",
      "metadata": {
        "id": "PTu6dMAQ_030",
        "colab": {
          "base_uri": "https://localhost:8080/",
          "height": 621
        },
        "outputId": "92aaa3cc-fcd3-4902-876c-bcb9345efe43"
      },
      "source": [
        "# flip the point coordinate to be lat, long (y, x) for folium\n",
        "f = folium.Figure(width=800, height=600)\n",
        "Map = geemap.Map(center=rnapoint[::-1], zoom= 12).add_to(f)\n",
        "Map.addLayer(image, rgbParams, 'Natural Color Sentinel-2');\n",
        "Map.addLayer(sndvi, ndviParams, 'NDVI')\n",
        "Map.addLayerControl()\n",
        "f"
      ],
      "execution_count": 37,
      "outputs": [
        {
          "output_type": "execute_result",
          "data": {
            "text/html": [
              "<iframe src=\"about:blank\" width=\"800\" height=\"600\"style=\"border:none !important;\" data-html=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 onload=\"this.contentDocument.open();this.contentDocument.write(atob(this.getAttribute('data-html')));this.contentDocument.close();\" \"allowfullscreen\" \"webkitallowfullscreen\" \"mozallowfullscreen\"></iframe>"
            ],
            "text/plain": [
              "<branca.element.Figure at 0x7f973d7a9710>"
            ]
          },
          "metadata": {
            "tags": []
          },
          "execution_count": 37
        }
      ]
    },
    {
      "cell_type": "markdown",
      "metadata": {
        "id": "aYNc-zqeN02G"
      },
      "source": [
        "## Find the least cloudy recent image and examine\n",
        "\n",
        "Now, to compare the above image (from 2017) with a more recent, relatively cloud free image."
      ]
    },
    {
      "cell_type": "code",
      "metadata": {
        "id": "OJ87m6QPN8Ob"
      },
      "source": [
        "# Limit the collection to the 10 most recent images.\n",
        "recent = collection.sort('system:time_start', False).limit(10)\n",
        "\n",
        "sorted = recent.sort('CLOUD_COVERAGE_ASSESSMENT')\n",
        "\n",
        "# Get the first (least cloudy) image.\n",
        "recentqa = sorted.first()\n",
        "\n",
        "recentndvi = senNDVI(recentqa) "
      ],
      "execution_count": 38,
      "outputs": []
    },
    {
      "cell_type": "code",
      "metadata": {
        "id": "wmANjmBlwHHg",
        "colab": {
          "base_uri": "https://localhost:8080/"
        },
        "outputId": "391c6fc8-e160-40e0-a00c-ea46368ea1e1"
      },
      "source": [
        "#Get the timestamp and convert it to a date.\n",
        "date = ee.Date(recentqa.get('system:time_start')).getInfo()\n",
        "# print(date['value'])\n",
        "x=date['value']\n",
        "print(datetime.datetime.fromtimestamp(x/1000))"
      ],
      "execution_count": 39,
      "outputs": [
        {
          "output_type": "stream",
          "text": [
            "2020-10-29 19:12:23.587000\n"
          ],
          "name": "stdout"
        }
      ]
    },
    {
      "cell_type": "markdown",
      "metadata": {
        "id": "SgBmzkf21TZi"
      },
      "source": [
        "### An image from October 9, 2020"
      ]
    },
    {
      "cell_type": "markdown",
      "metadata": {
        "id": "W2smfHU_wTlP"
      },
      "source": [
        "In this run, it is Oct. 9th, 2020.\n",
        "\n",
        "Lets look at this data, and add the point used to 'filter' the collection geographically as well."
      ]
    },
    {
      "cell_type": "code",
      "metadata": {
        "id": "-Thp3o4XOZIa",
        "colab": {
          "base_uri": "https://localhost:8080/",
          "height": 621
        },
        "outputId": "69933e8a-ac08-4115-d956-81a98f5cf441"
      },
      "source": [
        "# flip the point coordinate to be lat, long (y, x) for folium\n",
        "f = folium.Figure(width=800, height=600)\n",
        "Map = geemap.Map(center=rnapoint[::-1], zoom= 12).add_to(f)\n",
        "Map.addLayer(image, rgbParams, 'Before Natural Color')\n",
        "Map.addLayer(recentndvi, ndviParams, 'NDVI recently')\n",
        "Map.addLayer(sndvi, ndviParams, 'NDVI before')\n",
        "Map.addLayerControl()\n",
        "folium.Marker(rnapoint[::-1], popup='<i>Deschutes National Forest</i>').add_to(Map) # marker\n",
        "\n",
        "f"
      ],
      "execution_count": 41,
      "outputs": [
        {
          "output_type": "execute_result",
          "data": {
            "text/html": [
              "<iframe src=\"about:blank\" width=\"800\" height=\"600\"style=\"border:none !important;\" data-html=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 onload=\"this.contentDocument.open();this.contentDocument.write(atob(this.getAttribute('data-html')));this.contentDocument.close();\" \"allowfullscreen\" \"webkitallowfullscreen\" \"mozallowfullscreen\"></iframe>"
            ],
            "text/plain": [
              "<branca.element.Figure at 0x7f973d4522b0>"
            ]
          },
          "metadata": {
            "tags": []
          },
          "execution_count": 41
        }
      ]
    },
    {
      "cell_type": "markdown",
      "metadata": {
        "id": "GtNBlIgsXrCs"
      },
      "source": [
        "### Use image math to compare the images\n",
        "\n",
        "Compute a difference image of NDVI between the two dates.\n",
        "\n",
        "Image math is relatively straightforward with earth engine (and it could also be calculated outside earth engine with the 'numpy' and related modules."
      ]
    },
    {
      "cell_type": "code",
      "metadata": {
        "id": "vgqYxxx9XwNn"
      },
      "source": [
        "# create image expression\n",
        "# the 'subtract() mathmatical operator could also be used\n",
        "# dif = recentndvi.subtract(sndvi)\n",
        "dif = image.expression('new-old', {'new': recentndvi, 'old': sndvi})\n",
        "difParams = {'min':-1, 'max': 1, 'palette': ['red', 'grey', 'green']}"
      ],
      "execution_count": 42,
      "outputs": []
    },
    {
      "cell_type": "markdown",
      "metadata": {
        "id": "XQAPA1XKRhqg"
      },
      "source": [
        "Examine the result - redder areas have less green vegation recently compared to 2017, while green areas have more."
      ]
    },
    {
      "cell_type": "code",
      "metadata": {
        "id": "Vwq2xIXuYuIZ",
        "colab": {
          "base_uri": "https://localhost:8080/",
          "height": 621
        },
        "outputId": "73128391-8bb5-412d-dab3-a12a1f6e49cc"
      },
      "source": [
        "# plot the difference image along with the other layers\n",
        "f = folium.Figure(width=800, height=600)\n",
        "# flip the point coordinate to be lat, long (y, x) for folium\n",
        "Map = geemap.Map(center=rnapoint[::-1], zoom= 11).add_to(f)\n",
        "Map.addLayer(image, rgbParams, 'Before Natural Color')\n",
        "Map.addLayer(recentqa, rgbParams, 'Recent Natural Color')\n",
        "Map.addLayer(recentndvi, ndviParams, 'NDVI recently')\n",
        "Map.addLayer(sndvi, ndviParams, 'NDVI before')\n",
        "Map.addLayer(dif, difParams, 'dif')\n",
        "Map.addLayerControl()\n",
        "folium.Marker(rnapoint[::-1], popup='<i>Deschutes National Forest</i>').add_to(Map)\n",
        "\n",
        "f"
      ],
      "execution_count": 43,
      "outputs": [
        {
          "output_type": "execute_result",
          "data": {
            "text/html": [
              "<iframe src=\"about:blank\" width=\"800\" height=\"600\"style=\"border:none !important;\" data-html=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 onload=\"this.contentDocument.open();this.contentDocument.write(atob(this.getAttribute('data-html')));this.contentDocument.close();\" \"allowfullscreen\" \"webkitallowfullscreen\" \"mozallowfullscreen\"></iframe>"
            ],
            "text/plain": [
              "<branca.element.Figure at 0x7f973d617048>"
            ]
          },
          "metadata": {
            "tags": []
          },
          "execution_count": 43
        }
      ]
    },
    {
      "cell_type": "markdown",
      "metadata": {
        "id": "z3WNGzYBhlnK"
      },
      "source": [
        "# Assignment: Geog 485\n",
        "\n",
        "## What explains the changes visible in the NDVI difference image?\n",
        "\n",
        "Greener areas are estimated to have more growing green vegetation recently, while redder areas are estimated to have less. Think about the time difference between the images as well.\n",
        "\n",
        "- seasonality,\n",
        "- atmosphere,\n",
        "- solar orientation,\n",
        "- actual LULC change\n",
        "\n",
        "There is likely more than one factor at play - don't forget to look at the images from the two dates in addition to the NDVI difference image for your answer - and to examine the entire image area using the zoom and pan tools."
      ]
    },
    {
      "cell_type": "markdown",
      "metadata": {
        "id": "_V4T2idqHxcs"
      },
      "source": [
        "## Time Series Analysis \n",
        "\n",
        "Since the collection has hundreds of images of this area since 2015, this data can be used to look at the variation of NDVI over a single point as a time series.\n"
      ]
    },
    {
      "cell_type": "markdown",
      "metadata": {
        "id": "EER3i_akyWPh"
      },
      "source": [
        "### Retrieve information over the collection time period\n",
        "\n",
        "The point used to geographically limit the image collection can be used to gather information from a single area over the entire time period.  The code for this is described [here](https://developers.google.com/earth-engine/apidocs/ee-imagecollection-getregion).  "
      ]
    },
    {
      "cell_type": "code",
      "metadata": {
        "id": "CK2ZYLN3yWPi"
      },
      "source": [
        "info = collection.getRegion(point,10).getInfo()"
      ],
      "execution_count": 60,
      "outputs": []
    },
    {
      "cell_type": "markdown",
      "metadata": {
        "id": "BQJkX18lCWI9"
      },
      "source": [
        "### mask clouds to create a filtered collection\n",
        "\n",
        "We can use the cloud mask function created earlier to remove data that has been identified as cloudy in the collection, to compare with the data above.\n",
        "\n",
        "This new result will be called `dataset`"
      ]
    },
    {
      "cell_type": "code",
      "metadata": {
        "id": "cPZPZwIfCTTQ"
      },
      "source": [
        "# apply the cloud mask to the collection\n",
        "maskeddata = collection.map(maskS2clouds)"
      ],
      "execution_count": 61,
      "outputs": []
    },
    {
      "cell_type": "markdown",
      "metadata": {
        "id": "xuGv6QpJOmkO"
      },
      "source": [
        "Get information about the filtered collection"
      ]
    },
    {
      "cell_type": "code",
      "metadata": {
        "id": "GdNN0KpP9A3W"
      },
      "source": [
        "# get the data for a specific area\n",
        "info_filt = maskeddata.getRegion(point,10).getInfo()"
      ],
      "execution_count": 62,
      "outputs": []
    },
    {
      "cell_type": "markdown",
      "metadata": {
        "id": "fVP-7hxdhTlh"
      },
      "source": [
        "### Compare the unfilitered and the filtered collection\n",
        "\n",
        "Plot the data by turning it into a pandas dataframe and using the seaborn package to visualize it\n",
        "\n",
        "## unfiltered"
      ]
    },
    {
      "cell_type": "code",
      "metadata": {
        "id": "67tnKT4qNWpT",
        "colab": {
          "base_uri": "https://localhost:8080/",
          "height": 407
        },
        "outputId": "b8059b43-95c0-4af8-f6b3-ab7e7e17748e"
      },
      "source": [
        "# plot the ndvi\n",
        "data = info\n",
        "\n",
        "# Reshape image collection \n",
        "header = data[0]\n",
        "data = array(data[1:])\n",
        "\n",
        "iTime = header.index('time')\n",
        "time = [datetime.datetime.fromtimestamp(i/1000) for i in (data[0:,iTime].astype(int))]\n",
        "\n",
        "# List of used image bands\n",
        "#band_list = ['RED',u'NIR']\n",
        "band_list = ['B4',u'B8']\n",
        "\n",
        "iBands = [header.index(b) for b in band_list]\n",
        "yData = data[0:,iBands].astype(np.float)\n",
        "\n",
        "# Calculate NDVI\n",
        "red = yData[:,0]\n",
        "nir = yData[:,1]\n",
        "ndvi = (nir - red) / (nir + red)\n",
        "\n",
        "# reshaoe NDVI into Pandas\n",
        "df = pd.DataFrame(data=ndvi, index=list(range(len(ndvi))), columns=['NDVI'])\n",
        "df = df.interpolate()\n",
        "df['Date'] = pd.Series(time, index=df.index)\n",
        "df = df.set_index(df.Date)\n",
        "df.index = pd.to_datetime(df.index)\n",
        "df['NDVI']=df['NDVI'].fillna(0)\n",
        "\n",
        "sns.set(rc={'figure.figsize':(20, 6)})\n",
        "df['NDVI'].plot(linewidth=0.5, color=\"green\")\n",
        "plt.title('NDVI', color='green')"
      ],
      "execution_count": 63,
      "outputs": [
        {
          "output_type": "execute_result",
          "data": {
            "text/plain": [
              "Text(0.5, 1.0, 'NDVI')"
            ]
          },
          "metadata": {
            "tags": []
          },
          "execution_count": 63
        },
        {
          "output_type": "display_data",
          "data": {
            "image/png": "[encoded data removed]",
            "text/plain": [
              "<Figure size 1440x432 with 1 Axes>"
            ]
          },
          "metadata": {
            "tags": []
          }
        }
      ]
    },
    {
      "cell_type": "markdown",
      "metadata": {
        "id": "MFyjVoYPO6zH"
      },
      "source": [
        "Lots of spikiness - much of it related to cloudy pixels\n",
        "\n",
        "### Plot the filtered data"
      ]
    },
    {
      "cell_type": "code",
      "metadata": {
        "id": "_jkoDBnUxOlr",
        "colab": {
          "base_uri": "https://localhost:8080/",
          "height": 407
        },
        "outputId": "1b0b967d-70c4-480b-e146-0f11f8a7c936"
      },
      "source": [
        "## plot the ndvi\n",
        "data = info_filt\n",
        "\n",
        "# Reshape image collection \n",
        "header = data[0]\n",
        "data = array(data[1:])\n",
        "\n",
        "iTime = header.index('time')\n",
        "time = [datetime.datetime.fromtimestamp(i/1000) for i in (data[0:,iTime].astype(int))]\n",
        "\n",
        "# List of used image bands\n",
        "#band_list = ['RED',u'NIR']\n",
        "band_list = ['B4',u'B8']\n",
        "\n",
        "iBands = [header.index(b) for b in band_list]\n",
        "yData = data[0:,iBands].astype(np.float)\n",
        "\n",
        "# Calculate NDVI\n",
        "red = yData[:,0]\n",
        "nir = yData[:,1]\n",
        "ndvi = (nir - red) / (nir + red)\n",
        "# reshaoe NDVI into Pandas\n",
        "df = pd.DataFrame(data=ndvi, index=list(range(len(ndvi))), columns=['NDVI'])\n",
        "df = df.interpolate()\n",
        "df['Date'] = pd.Series(time, index=df.index)\n",
        "df = df.set_index(df.Date)\n",
        "df.index = pd.to_datetime(df.index)\n",
        "df['NDVI']=df['NDVI'].fillna(0)\n",
        "\n",
        "sns.set(rc={'figure.figsize':(20, 6)})\n",
        "df['NDVI'].plot(linewidth=0.5, color=\"green\")\n",
        "plt.title('NDVI', color='green')"
      ],
      "execution_count": 64,
      "outputs": [
        {
          "output_type": "execute_result",
          "data": {
            "text/plain": [
              "Text(0.5, 1.0, 'NDVI')"
            ]
          },
          "metadata": {
            "tags": []
          },
          "execution_count": 64
        },
        {
          "output_type": "display_data",
          "data": {
            "image/png": "[encoded data removed]",
            "text/plain": [
              "<Figure size 1440x432 with 1 Axes>"
            ]
          },
          "metadata": {
            "tags": []
          }
        }
      ]
    },
    {
      "cell_type": "markdown",
      "metadata": {
        "id": "Z-3lRZ0yPVfV"
      },
      "source": [
        "A little better, now examine the actual filtered data"
      ]
    },
    {
      "cell_type": "code",
      "metadata": {
        "id": "LMjpGefeUoU3",
        "colab": {
          "base_uri": "https://localhost:8080/",
          "height": 235
        },
        "outputId": "860386e4-77e9-4ecb-d22f-f46dc1542118"
      },
      "source": [
        "df.head(5)"
      ],
      "execution_count": 65,
      "outputs": [
        {
          "output_type": "execute_result",
          "data": {
            "text/html": [
              "<div>\n",
              "<style scoped>\n",
              "    .dataframe tbody tr th:only-of-type {\n",
              "        vertical-align: middle;\n",
              "    }\n",
              "\n",
              "    .dataframe tbody tr th {\n",
              "        vertical-align: top;\n",
              "    }\n",
              "\n",
              "    .dataframe thead th {\n",
              "        text-align: right;\n",
              "    }\n",
              "</style>\n",
              "<table border=\"1\" class=\"dataframe\">\n",
              "  <thead>\n",
              "    <tr style=\"text-align: right;\">\n",
              "      <th></th>\n",
              "      <th>NDVI</th>\n",
              "      <th>Date</th>\n",
              "    </tr>\n",
              "    <tr>\n",
              "      <th>Date</th>\n",
              "      <th></th>\n",
              "      <th></th>\n",
              "    </tr>\n",
              "  </thead>\n",
              "  <tbody>\n",
              "    <tr>\n",
              "      <th>2015-09-18 19:01:22.000</th>\n",
              "      <td>-0.025744</td>\n",
              "      <td>2015-09-18 19:01:22.000</td>\n",
              "    </tr>\n",
              "    <tr>\n",
              "      <th>2015-09-18 19:01:22.458</th>\n",
              "      <td>-0.025744</td>\n",
              "      <td>2015-09-18 19:01:22.458</td>\n",
              "    </tr>\n",
              "    <tr>\n",
              "      <th>2015-09-28 19:01:22.000</th>\n",
              "      <td>0.017903</td>\n",
              "      <td>2015-09-28 19:01:22.000</td>\n",
              "    </tr>\n",
              "    <tr>\n",
              "      <th>2015-09-28 19:01:22.459</th>\n",
              "      <td>0.017903</td>\n",
              "      <td>2015-09-28 19:01:22.459</td>\n",
              "    </tr>\n",
              "    <tr>\n",
              "      <th>2015-10-21 19:10:17.457</th>\n",
              "      <td>0.005787</td>\n",
              "      <td>2015-10-21 19:10:17.457</td>\n",
              "    </tr>\n",
              "  </tbody>\n",
              "</table>\n",
              "</div>"
            ],
            "text/plain": [
              "                             NDVI                    Date\n",
              "Date                                                     \n",
              "2015-09-18 19:01:22.000 -0.025744 2015-09-18 19:01:22.000\n",
              "2015-09-18 19:01:22.458 -0.025744 2015-09-18 19:01:22.458\n",
              "2015-09-28 19:01:22.000  0.017903 2015-09-28 19:01:22.000\n",
              "2015-09-28 19:01:22.459  0.017903 2015-09-28 19:01:22.459\n",
              "2015-10-21 19:10:17.457  0.005787 2015-10-21 19:10:17.457"
            ]
          },
          "metadata": {
            "tags": []
          },
          "execution_count": 65
        }
      ]
    },
    {
      "cell_type": "markdown",
      "metadata": {
        "id": "VVXCRfUSNmzu"
      },
      "source": [
        "## Interactive mapping\n",
        "\n",
        "### Make an interactive map with the chart data embedded\n",
        "\n",
        "The information we just plotted can be placed onto the interactive map, using the 'Altair' module for plotting. \n",
        "\n",
        "Altair is designed to quickly make charts that can be displayed online\n",
        "\n",
        "https://altair-viz.github.io/getting_started/overview.html\n",
        "\n",
        "Using the \"NDVI\" and \"Date\" columns, plot the NDVI over time.\n"
      ]
    },
    {
      "cell_type": "code",
      "metadata": {
        "id": "vw1t_cI9A2v2",
        "colab": {
          "base_uri": "https://localhost:8080/",
          "height": 363
        },
        "outputId": "882f8e9f-d89a-4244-d86a-616e94b67142"
      },
      "source": [
        "chart = alt.Chart(df).mark_line().encode(y='NDVI', x='Date')\n",
        "chart"
      ],
      "execution_count": 66,
      "outputs": [
        {
          "output_type": "execute_result",
          "data": {
            "text/plain": [
              "alt.Chart(...)"
            ],
            "text/html": [
              "\n",
              "<div id=\"altair-viz-f10cefd124a64c0dad109c314e18666a\"></div>\n",
              "<script type=\"text/javascript\">\n",
              "  (function(spec, embedOpt){\n",
              "    let outputDiv = document.currentScript.previousElementSibling;\n",
              "    if (outputDiv.id !== \"altair-viz-f10cefd124a64c0dad109c314e18666a\") {\n",
              "      outputDiv = document.getElementById(\"altair-viz-f10cefd124a64c0dad109c314e18666a\");\n",
              "    }\n",
              "    const paths = {\n",
              "      \"vega\": \"https://cdn.jsdelivr.net/npm//vega@5?noext\",\n",
              "      \"vega-lib\": \"https://cdn.jsdelivr.net/npm//vega-lib?noext\",\n",
              "      \"vega-lite\": \"https://cdn.jsdelivr.net/npm//vega-lite@4.8.1?noext\",\n",
              "      \"vega-embed\": \"https://cdn.jsdelivr.net/npm//vega-embed@6?noext\",\n",
              "    };\n",
              "\n",
              "    function loadScript(lib) {\n",
              "      return new Promise(function(resolve, reject) {\n",
              "        var s = document.createElement('script');\n",
              "        s.src = paths[lib];\n",
              "        s.async = true;\n",
              "        s.onload = () => resolve(paths[lib]);\n",
              "        s.onerror = () => reject(`Error loading script: ${paths[lib]}`);\n",
              "        document.getElementsByTagName(\"head\")[0].appendChild(s);\n",
              "      });\n",
              "    }\n",
              "\n",
              "    function showError(err) {\n",
              "      outputDiv.innerHTML = `<div class=\"error\" style=\"color:red;\">${err}</div>`;\n",
              "      throw err;\n",
              "    }\n",
              "\n",
              "    function displayChart(vegaEmbed) {\n",
              "      vegaEmbed(outputDiv, spec, embedOpt)\n",
              "        .catch(err => showError(`Javascript Error: ${err.message}<br>This usually means there's a typo in your chart specification. See the javascript console for the full traceback.`));\n",
              "    }\n",
              "\n",
              "    if(typeof define === \"function\" && define.amd) {\n",
              "      requirejs.config({paths});\n",
              "      require([\"vega-embed\"], displayChart, err => showError(`Error loading script: ${err.message}`));\n",
              "    } else if (typeof vegaEmbed === \"function\") {\n",
              "      displayChart(vegaEmbed);\n",
              "    } else {\n",
              "      loadScript(\"vega\")\n",
              "        .then(() => loadScript(\"vega-lite\"))\n",
              "        .then(() => loadScript(\"vega-embed\"))\n",
              "        .catch(showError)\n",
              "        .then(() => displayChart(vegaEmbed));\n",
              "    }\n",
              "  })({\"config\": {\"view\": {\"continuousWidth\": 400, \"continuousHeight\": 300}}, \"data\": {\"name\": \"data-0d987f99d211509eb19fe7294db0a577\"}, \"mark\": \"line\", \"encoding\": {\"x\": {\"type\": \"temporal\", \"field\": \"Date\"}, \"y\": {\"type\": \"quantitative\", \"field\": \"NDVI\"}}, \"$schema\": \"https://vega.github.io/schema/vega-lite/v4.8.1.json\", \"datasets\": {\"data-0d987f99d211509eb19fe7294db0a577\": [{\"NDVI\": -0.025743564108972758, \"Date\": \"2015-09-18T19:01:22\"}, {\"NDVI\": -0.025743564108972758, \"Date\": \"2015-09-18T19:01:22.458000\"}, {\"NDVI\": 0.017902813299232736, \"Date\": \"2015-09-28T19:01:22\"}, {\"NDVI\": 0.017902813299232736, \"Date\": \"2015-09-28T19:01:22.459000\"}, {\"NDVI\": 0.005787037037037037, \"Date\": \"2015-10-21T19:10:17.457000\"}, {\"NDVI\": 0.005893441294726501, \"Date\": \"2015-11-17T18:56:44\"}, {\"NDVI\": 0.005999845552415965, \"Date\": \"2015-11-17T18:56:44.455000\"}, {\"NDVI\": 0.006106249810105429, \"Date\": \"2015-12-07T19:01:19\"}, {\"NDVI\": 0.006212654067794894, \"Date\": \"2015-12-07T19:01:19.460000\"}, {\"NDVI\": 0.006319058325484357, \"Date\": \"2015-12-07T19:02:42.437000\"}, {\"NDVI\": 0.006425462583173822, \"Date\": \"2015-12-10T19:08:03.462000\"}, {\"NDVI\": 0.006531866840863286, \"Date\": \"2015-12-10T19:08:03.460000\"}, {\"NDVI\": 0.00663827109855275, \"Date\": \"2015-12-10T19:14:36.709000\"}, {\"NDVI\": 0.006744675356242214, \"Date\": \"2015-12-17T19:02:42.438000\"}, {\"NDVI\": 0.0068510796139316784, \"Date\": \"2015-12-17T19:02:42.438000\"}, {\"NDVI\": 0.006957483871621142, \"Date\": \"2015-12-27T19:05:14.180000\"}, {\"NDVI\": 0.007063888129310606, \"Date\": \"2015-12-27T19:05:14.180000\"}, {\"NDVI\": 0.007170292387000071, \"Date\": \"2016-01-06T19:02:41.440000\"}, {\"NDVI\": 0.007276696644689535, \"Date\": \"2016-01-06T19:02:41.440000\"}, {\"NDVI\": 0.007383100902378999, \"Date\": \"2016-01-09T19:14:35.532000\"}, {\"NDVI\": -0.005615504726084171, \"Date\": \"2016-01-09T19:14:35.532000\"}, {\"NDVI\": -0.018614110354547343, \"Date\": \"2016-01-16T19:02:39.438000\"}, {\"NDVI\": -0.03161271598301051, \"Date\": \"2016-01-16T19:02:39.438000\"}, {\"NDVI\": -0.04461132161147368, \"Date\": \"2016-01-26T19:05:08.547000\"}, {\"NDVI\": -0.057609927239936846, \"Date\": \"2016-01-26T19:05:08.547000\"}, {\"NDVI\": -0.07060853286840003, \"Date\": \"2016-02-05T19:01:15.464000\"}, {\"NDVI\": -0.0836071384968632, \"Date\": \"2016-02-05T19:01:15.464000\"}, {\"NDVI\": -0.09660574412532637, \"Date\": \"2016-02-08T19:06:05.324000\"}, {\"NDVI\": -0.08312692312219556, \"Date\": \"2016-02-08T19:06:05.324000\"}, {\"NDVI\": -0.06964810211906476, \"Date\": \"2016-03-09T19:08:57.240000\"}, {\"NDVI\": -0.05616928111593395, \"Date\": \"2016-03-09T19:08:57.240000\"}, {\"NDVI\": -0.04269046011280315, \"Date\": \"2016-03-26T18:57:04.398000\"}, {\"NDVI\": -0.029211639109672338, \"Date\": \"2016-03-26T18:57:04.398000\"}, {\"NDVI\": -0.01573281810654154, \"Date\": \"2016-04-08T19:07:12\"}, {\"NDVI\": -0.01573281810654154, \"Date\": \"2016-04-08T19:07:12.004000\"}, {\"NDVI\": 0.160678355849382, \"Date\": \"2016-04-15T19:01:51\"}, {\"NDVI\": 0.160678355849382, \"Date\": \"2016-04-15T19:01:51.930000\"}, {\"NDVI\": -0.046357615894039736, \"Date\": \"2016-05-08T19:11:01\"}, {\"NDVI\": -0.046357615894039736, \"Date\": \"2016-05-08T19:11:01.371000\"}, {\"NDVI\": -0.03167232628058368, \"Date\": \"2016-05-15T18:53:43\"}, {\"NDVI\": -0.016987036667127628, \"Date\": \"2016-05-15T18:53:43.218000\"}, {\"NDVI\": -0.002301747053671574, \"Date\": \"2016-05-25T19:01:25\"}, {\"NDVI\": 0.01238354255978448, \"Date\": \"2016-05-25T19:01:25.464000\"}, {\"NDVI\": 0.027068832173240527, \"Date\": \"2016-05-28T19:04:38\"}, {\"NDVI\": 0.027068832173240527, \"Date\": \"2016-05-28T19:04:38.948000\"}, {\"NDVI\": 0.023911825811262236, \"Date\": \"2016-06-04T18:54:00\"}, {\"NDVI\": 0.020754819449283948, \"Date\": \"2016-06-04T18:54:00.255000\"}, {\"NDVI\": 0.017597813087305656, \"Date\": \"2016-06-14T19:01:22\"}, {\"NDVI\": 0.017597813087305656, \"Date\": \"2016-06-14T19:01:22.464000\"}, {\"NDVI\": 0.023278267144114424, \"Date\": \"2016-06-17T19:12:06.920000\"}, {\"NDVI\": 0.028958721200923195, \"Date\": \"2016-06-17T19:12:06.919000\"}, {\"NDVI\": 0.03463917525773196, \"Date\": \"2016-06-24T19:02:10.520000\"}, {\"NDVI\": 0.03463917525773196, \"Date\": \"2016-06-24T19:02:10.523000\"}, {\"NDVI\": 0.04016412948896747, \"Date\": \"2016-07-07T19:09:18.353000\"}, {\"NDVI\": 0.04568908372020297, \"Date\": \"2016-07-07T19:09:18.353000\"}, {\"NDVI\": 0.05121403795143848, \"Date\": \"2016-07-14T19:01:30.228000\"}, {\"NDVI\": -0.011042097998619738, \"Date\": \"2016-07-24T19:01:45.102000\"}, {\"NDVI\": -0.015880540412420006, \"Date\": \"2016-07-27T19:11:47.270000\"}, {\"NDVI\": -0.015880540412420006, \"Date\": \"2016-07-27T19:11:47.270000\"}, {\"NDVI\": 0.024960505529225907, \"Date\": \"2016-08-03T19:01:33.839000\"}, {\"NDVI\": 0.020547856172879277, \"Date\": \"2016-08-13T19:01:40.502000\"}, {\"NDVI\": 0.016135206816532646, \"Date\": \"2016-08-13T19:01:40.502000\"}, {\"NDVI\": 0.011722557460186016, \"Date\": \"2016-08-16T19:09:39.996000\"}, {\"NDVI\": 0.007309908103839385, \"Date\": \"2016-08-16T19:09:39.996000\"}, {\"NDVI\": 0.0028972587474927567, \"Date\": \"2016-08-23T18:57:15.690000\"}, {\"NDVI\": 0.0028972587474927567, \"Date\": \"2016-08-23T18:57:15.689000\"}, {\"NDVI\": 0.012558306422676713, \"Date\": \"2016-09-02T19:01:19.460000\"}, {\"NDVI\": 0.012558306422676713, \"Date\": \"2016-09-02T19:01:19.459000\"}, {\"NDVI\": 0.030303030303030304, \"Date\": \"2016-09-05T19:11:42.270000\"}, {\"NDVI\": 0.030303030303030304, \"Date\": \"2016-09-05T19:11:42.268000\"}, {\"NDVI\": -0.002733734281027884, \"Date\": \"2016-09-12T19:01:01.510000\"}, {\"NDVI\": -0.002733734281027884, \"Date\": \"2016-09-12T19:01:01.507000\"}, {\"NDVI\": -0.02664796633941094, \"Date\": \"2016-09-22T19:01:14.460000\"}, {\"NDVI\": -0.02664796633941094, \"Date\": \"2016-09-22T19:01:14.463000\"}, {\"NDVI\": 0.013230900554844216, \"Date\": \"2016-09-25T19:06:12.680000\"}, {\"NDVI\": 0.013230900554844216, \"Date\": \"2016-09-25T19:06:12.685000\"}, {\"NDVI\": 0.021345320211689153, \"Date\": \"2016-10-02T18:54:36.770000\"}, {\"NDVI\": 0.029459739868534094, \"Date\": \"2016-10-02T18:54:36.773000\"}, {\"NDVI\": 0.037574159525379035, \"Date\": \"2016-10-12T19:01:14.460000\"}, {\"NDVI\": 0.037574159525379035, \"Date\": \"2016-10-12T19:01:14.455000\"}, {\"NDVI\": 0.019633923186510537, \"Date\": \"2016-10-15T19:09:28.200000\"}, {\"NDVI\": 0.0016936868476420397, \"Date\": \"2016-10-15T19:09:28.201000\"}, {\"NDVI\": -0.016246549491226454, \"Date\": \"2016-10-22T18:54:48.110000\"}, {\"NDVI\": -0.034186785830094955, \"Date\": \"2016-10-22T18:54:48.106000\"}, {\"NDVI\": -0.05212702216896345, \"Date\": \"2016-11-01T19:01:17.460000\"}, {\"NDVI\": -0.05212702216896345, \"Date\": \"2016-11-01T19:01:17.464000\"}, {\"NDVI\": -0.07416267942583732, \"Date\": \"2016-11-04T19:05:49.460000\"}, {\"NDVI\": -0.07416267942583732, \"Date\": \"2016-11-04T19:05:49.464000\"}, {\"NDVI\": -0.03756641641920563, \"Date\": \"2016-11-11T18:57:23.790000\"}, {\"NDVI\": -0.0009701534125739347, \"Date\": \"2016-11-11T18:57:23.788000\"}, {\"NDVI\": 0.035626109594057764, \"Date\": \"2016-11-14T19:06:40.460000\"}, {\"NDVI\": 0.07222237260068945, \"Date\": \"2016-11-14T19:06:40.463000\"}, {\"NDVI\": 0.10881863560732113, \"Date\": \"2016-11-21T18:57:06.460000\"}, {\"NDVI\": 0.10881863560732113, \"Date\": \"2016-11-21T18:57:06.463000\"}, {\"NDVI\": 0.0832990331436663, \"Date\": \"2016-11-24T19:07:21.460000\"}, {\"NDVI\": 0.05777943068001145, \"Date\": \"2016-11-24T19:07:21.455000\"}, {\"NDVI\": 0.032259828216356604, \"Date\": \"2016-12-01T19:01:36.570000\"}, {\"NDVI\": 0.0067402257527017645, \"Date\": \"2016-12-01T19:01:36.569000\"}, {\"NDVI\": -0.01877937671095309, \"Date\": \"2016-12-11T19:01:15.458000\"}, {\"NDVI\": -0.04429897917460793, \"Date\": \"2016-12-14T19:08:04.459000\"}, {\"NDVI\": -0.06981858163826278, \"Date\": \"2016-12-21T18:58:03.458000\"}, {\"NDVI\": -0.1717171717171717, \"Date\": \"2016-12-24T19:08:07.458000\"}, {\"NDVI\": -0.0758364312267658, \"Date\": \"2016-12-31T19:01:05.060000\"}, {\"NDVI\": 0.022542266750156543, \"Date\": \"2017-01-03T19:09:49.303000\"}, {\"NDVI\": -0.032933802582435, \"Date\": \"2017-01-10T18:57:36.459000\"}, {\"NDVI\": -0.08840987191502656, \"Date\": \"2017-01-23T19:06:53.457000\"}, {\"NDVI\": -0.07029071197875854, \"Date\": \"2017-01-30T18:56:15.456000\"}, {\"NDVI\": -0.052171552042490514, \"Date\": \"2017-02-02T19:06:04.460000\"}, {\"NDVI\": -0.03405239210622249, \"Date\": \"2017-02-09T18:58:31.676000\"}, {\"NDVI\": -0.015933232169954476, \"Date\": \"2017-02-12T19:10:31.161000\"}, {\"NDVI\": -0.025045184611412342, \"Date\": \"2017-02-19T18:54:15.456000\"}, {\"NDVI\": 0.0651840490797546, \"Date\": \"2017-03-01T19:01:12.456000\"}, {\"NDVI\": -0.036528028933092226, \"Date\": \"2017-03-04T19:11:41.409000\"}, {\"NDVI\": -0.029244301995544016, \"Date\": \"2017-03-11T18:59:39.470000\"}, {\"NDVI\": -0.021960575057995806, \"Date\": \"2017-03-21T19:01:12.460000\"}, {\"NDVI\": -0.014676848120447599, \"Date\": \"2017-03-24T19:02:18.910000\"}, {\"NDVI\": -0.007393121182899389, \"Date\": \"2017-03-31T18:58:50.880000\"}, {\"NDVI\": -0.000623535400672507, \"Date\": \"2017-04-10T19:01:18.460000\"}, {\"NDVI\": 0.006146050381554375, \"Date\": \"2017-04-13T19:11:42.270000\"}, {\"NDVI\": 0.012915636163781259, \"Date\": \"2017-04-20T19:02:03.310000\"}, {\"NDVI\": 0.03242813771659382, \"Date\": \"2017-04-30T19:01:32.280000\"}, {\"NDVI\": 0.05194063926940639, \"Date\": \"2017-05-03T19:12:03.300000\"}, {\"NDVI\": 0.012933025404157044, \"Date\": \"2017-05-10T18:59:15.740000\"}, {\"NDVI\": 0.024919155411831845, \"Date\": \"2017-05-20T19:01:54.930000\"}, {\"NDVI\": 0.01934935147778014, \"Date\": \"2017-05-23T19:10:59.370000\"}, {\"NDVI\": 0.03927922020032769, \"Date\": \"2017-05-30T19:01:28.230000\"}, {\"NDVI\": 0.05920908892287525, \"Date\": \"2017-06-12T19:04:49.370000\"}, {\"NDVI\": -0.013733748397729353, \"Date\": \"2017-06-19T18:57:28.120000\"}, {\"NDVI\": 0.01025081788440567, \"Date\": \"2017-06-29T19:01:24.680000\"}, {\"NDVI\": 0.0908597775969623, \"Date\": \"2017-07-02T19:07:08.070000\"}, {\"NDVI\": 0.00997506234413965, \"Date\": \"2017-07-04T18:59:34.390000\"}, {\"NDVI\": 0.056453145789773805, \"Date\": \"2017-07-09T18:53:04.740000\"}, {\"NDVI\": 0.07085346215780998, \"Date\": \"2017-07-14T19:01:19.460000\"}, {\"NDVI\": 0.008035062089116142, \"Date\": \"2017-07-17T19:05:56.920000\"}, {\"NDVI\": 0.02396259497369959, \"Date\": \"2017-07-19T19:01:20.460000\"}, {\"NDVI\": 0.07546454304133485, \"Date\": \"2017-07-22T19:10:32.110000\"}, {\"NDVI\": 0.04112092598233323, \"Date\": \"2017-07-24T18:58:51.090000\"}, {\"NDVI\": 0.03179255918827509, \"Date\": \"2017-07-29T18:58:16.020000\"}, {\"NDVI\": 0.027881814398668332, \"Date\": \"2017-08-03T19:01:18.460000\"}, {\"NDVI\": 0.036945135003363015, \"Date\": \"2017-08-06T19:08:02.190000\"}, {\"NDVI\": 0.0460084556080577, \"Date\": \"2017-08-08T19:01:21.460000\"}, {\"NDVI\": 0.06848425835767608, \"Date\": \"2017-08-11T19:03:05.750000\"}, {\"NDVI\": 0.08211321833433086, \"Date\": \"2017-08-13T18:58:45.490000\"}, {\"NDVI\": 0.09574217831098565, \"Date\": \"2017-08-18T19:00:58.370000\"}, {\"NDVI\": 0.05072497043403164, \"Date\": \"2017-08-23T19:01:15.460000\"}, {\"NDVI\": 0.005707762557077625, \"Date\": \"2017-08-26T19:11:59.920000\"}, {\"NDVI\": 0.057344372891751, \"Date\": \"2017-08-31T19:10:16.690000\"}, {\"NDVI\": 0.012529365700861394, \"Date\": \"2017-09-02T18:58:09.017000\"}, {\"NDVI\": 0.01107399890261508, \"Date\": \"2017-09-07T18:57:37.940000\"}, {\"NDVI\": 0.009618632104368764, \"Date\": \"2017-09-12T19:01:10.460000\"}, {\"NDVI\": 0.00816326530612245, \"Date\": \"2017-09-15T19:05:58.410000\"}, {\"NDVI\": -0.04627522698214893, \"Date\": \"2017-09-17T19:01:15.460000\"}, {\"NDVI\": -0.1007137192704203, \"Date\": \"2017-09-20T19:03:56.070000\"}, {\"NDVI\": -0.05137311979781178, \"Date\": \"2017-09-22T18:56:30.590000\"}, {\"NDVI\": -0.0020325203252032522, \"Date\": \"2017-09-27T18:58:20.740000\"}, {\"NDVI\": 0.13729874776386405, \"Date\": \"2017-10-02T19:01:03.460000\"}, {\"NDVI\": 0.016574585635359115, \"Date\": \"2017-10-05T19:02:25.460000\"}, {\"NDVI\": 0.012315556056676814, \"Date\": \"2017-10-07T19:01:17.460000\"}, {\"NDVI\": 0.008056526477994512, \"Date\": \"2017-10-10T19:11:20.720000\"}, {\"NDVI\": 0.003797496899312209, \"Date\": \"2017-10-12T18:53:10.457000\"}, {\"NDVI\": -0.00046153267937009204, \"Date\": \"2017-10-17T18:59:35.586000\"}, {\"NDVI\": -0.004720562258052393, \"Date\": \"2017-10-22T19:01:06.460000\"}, {\"NDVI\": -0.008979591836734694, \"Date\": \"2017-10-25T19:04:36.460000\"}, {\"NDVI\": -0.009328358208955223, \"Date\": \"2017-10-27T19:01:18.460000\"}, {\"NDVI\": -0.06292352371732816, \"Date\": \"2017-10-30T19:05:22.460000\"}, {\"NDVI\": -0.03197353914002205, \"Date\": \"2017-11-01T18:55:16.460000\"}, {\"NDVI\": -0.030245324703090874, \"Date\": \"2017-11-06T18:55:55.460000\"}, {\"NDVI\": -0.028517110266159697, \"Date\": \"2017-11-11T19:01:05.460000\"}, {\"NDVI\": -0.056105610561056105, \"Date\": \"2017-11-14T19:09:01.590000\"}, {\"NDVI\": -0.05918255581016617, \"Date\": \"2017-11-16T19:01:16.460000\"}, {\"NDVI\": -0.06225950105927623, \"Date\": \"2017-11-19T19:11:59.900000\"}, {\"NDVI\": -0.0653364463083863, \"Date\": \"2017-11-21T18:56:53.460000\"}, {\"NDVI\": -0.06841339155749636, \"Date\": \"2017-11-24T19:07:10.460000\"}, {\"NDVI\": -0.17586649550706032, \"Date\": \"2017-11-26T18:57:19.460000\"}, {\"NDVI\": -0.1367701322906204, \"Date\": \"2017-12-01T19:00:25.240000\"}, {\"NDVI\": -0.0976737690741805, \"Date\": \"2017-12-04T19:07:40.460000\"}, {\"NDVI\": -0.058577405857740586, \"Date\": \"2017-12-06T19:01:14.460000\"}, {\"NDVI\": -0.07700242062270726, \"Date\": \"2017-12-09T19:07:57.460000\"}, {\"NDVI\": -0.09542743538767395, \"Date\": \"2017-12-11T18:59:20.660000\"}, {\"NDVI\": -0.08730555442853086, \"Date\": \"2017-12-14T19:07:57.460000\"}, {\"NDVI\": -0.07918367346938776, \"Date\": \"2017-12-16T18:58:01.460000\"}, {\"NDVI\": -0.11392405063291139, \"Date\": \"2017-12-21T19:00:36.200000\"}, {\"NDVI\": -0.0722353372135618, \"Date\": \"2017-12-24T19:08:01.460000\"}, {\"NDVI\": -0.03054662379421222, \"Date\": \"2017-12-26T19:01:13.460000\"}, {\"NDVI\": -0.04535461271011424, \"Date\": \"2017-12-29T19:08:03.460000\"}, {\"NDVI\": -0.06016260162601626, \"Date\": \"2017-12-31T18:57:53.460000\"}, {\"NDVI\": -0.06071633513862187, \"Date\": \"2018-01-03T19:07:55.460000\"}, {\"NDVI\": -0.06127006865122747, \"Date\": \"2018-01-05T18:57:48.460000\"}, {\"NDVI\": -0.061823802163833076, \"Date\": \"2018-01-10T18:57:36.460000\"}, {\"NDVI\": -0.08646998982706001, \"Date\": \"2018-01-13T19:07:32.460000\"}, {\"NDVI\": -0.06716302841465731, \"Date\": \"2018-01-18T19:07:15.460000\"}, {\"NDVI\": -0.047856067002254594, \"Date\": \"2018-01-20T18:57:04.460000\"}, {\"NDVI\": -0.02854910558985188, \"Date\": \"2018-01-23T19:06:54.460000\"}, {\"NDVI\": -0.009242144177449169, \"Date\": \"2018-01-25T18:56:44.460000\"}, {\"NDVI\": -0.04388808779553086, \"Date\": \"2018-01-30T19:01:24.120000\"}, {\"NDVI\": -0.07853403141361257, \"Date\": \"2018-02-02T19:06:06.460000\"}, {\"NDVI\": -0.03813953488372093, \"Date\": \"2018-02-07T19:05:40.460000\"}, {\"NDVI\": 0.015055852355512385, \"Date\": \"2018-02-09T18:56:14.580000\"}, {\"NDVI\": -0.05545927209705372, \"Date\": \"2018-02-12T19:05:05.460000\"}, {\"NDVI\": -0.043521001346919934, \"Date\": \"2018-02-14T18:58:46.970000\"}, {\"NDVI\": -0.031582730596786145, \"Date\": \"2018-02-17T19:04:36.460000\"}, {\"NDVI\": -0.019644459846652355, \"Date\": \"2018-02-19T18:58:08.960000\"}, {\"NDVI\": -0.007706189096518566, \"Date\": \"2018-02-22T19:10:46.140000\"}, {\"NDVI\": 0.004232081653615223, \"Date\": \"2018-02-24T19:01:11.830000\"}, {\"NDVI\": 0.016170352403749012, \"Date\": \"2018-02-27T19:04:55.040000\"}, {\"NDVI\": 0.0281086231538828, \"Date\": \"2018-03-01T18:53:15.280000\"}, {\"NDVI\": -0.07898516036381044, \"Date\": \"2018-03-04T19:11:07.940000\"}, {\"NDVI\": -0.02285467874083657, \"Date\": \"2018-03-06T18:54:00.040000\"}, {\"NDVI\": -0.014866204162537165, \"Date\": \"2018-03-09T19:09:13.960000\"}, {\"NDVI\": 0.0398796087283672, \"Date\": \"2018-03-11T19:00:28.370000\"}, {\"NDVI\": 0.026811023968057915, \"Date\": \"2018-03-14T19:09:20.860000\"}, {\"NDVI\": 0.013742439207748633, \"Date\": \"2018-03-16T18:52:15.570000\"}, {\"NDVI\": 0.0006738544474393531, \"Date\": \"2018-03-19T19:07:40.320000\"}, {\"NDVI\": -0.0009763936017962709, \"Date\": \"2018-03-21T18:56:28.800000\"}, {\"NDVI\": -0.002626641651031895, \"Date\": \"2018-03-24T19:03:59.320000\"}, {\"NDVI\": -0.0034091634824751985, \"Date\": \"2018-03-26T19:01:16.290000\"}, {\"NDVI\": -0.004191685313918502, \"Date\": \"2018-03-29T19:04:19.830000\"}, {\"NDVI\": -0.0049742071453618055, \"Date\": \"2018-03-31T19:00:22.080000\"}, {\"NDVI\": -0.005756728976805108, \"Date\": \"2018-04-03T19:03:10.360000\"}, {\"NDVI\": -0.006539250808248412, \"Date\": \"2018-04-05T18:58:11.410000\"}, {\"NDVI\": -0.007321772639691715, \"Date\": \"2018-04-08T19:06:36.600000\"}, {\"NDVI\": -0.00021928382164573476, \"Date\": \"2018-04-10T18:58:19.240000\"}, {\"NDVI\": 0.006883204996400246, \"Date\": \"2018-04-13T19:00:12.190000\"}, {\"NDVI\": 0.013985693814446224, \"Date\": \"2018-04-15T18:56:13.350000\"}, {\"NDVI\": 0.02108818263249221, \"Date\": \"2018-04-18T19:06:15.960000\"}, {\"NDVI\": 0.028190671450538187, \"Date\": \"2018-04-20T18:55:52.310000\"}, {\"NDVI\": 0.04169113329418673, \"Date\": \"2018-04-23T19:10:40.940000\"}, {\"NDVI\": 0.03493246390312063, \"Date\": \"2018-04-25T18:58:12.860000\"}, {\"NDVI\": 0.03780255108730386, \"Date\": \"2018-04-28T19:11:52.490000\"}, {\"NDVI\": 0.0406726382714871, \"Date\": \"2018-04-30T18:57:49.340000\"}, {\"NDVI\": 0.04354272545567033, \"Date\": \"2018-05-03T19:06:50.040000\"}, {\"NDVI\": 0.046412812639853564, \"Date\": \"2018-05-05T18:57:31.120000\"}, {\"NDVI\": 0.0492828998240368, \"Date\": \"2018-05-08T19:07:51.760000\"}, {\"NDVI\": 0.052152987008220034, \"Date\": \"2018-05-10T18:54:38.120000\"}, {\"NDVI\": 0.055023074192403265, \"Date\": \"2018-05-13T19:04:31.940000\"}, {\"NDVI\": 0.0671602326811211, \"Date\": \"2018-05-15T19:00:03.210000\"}, {\"NDVI\": -0.011420059582919563, \"Date\": \"2018-05-18T19:09:40.960000\"}, {\"NDVI\": -0.018042658403158163, \"Date\": \"2018-05-20T19:01:45.870000\"}, {\"NDVI\": -0.02466525722339676, \"Date\": \"2018-05-23T19:07:13.290000\"}, {\"NDVI\": 0.027068568993092037, \"Date\": \"2018-05-25T19:00:23.290000\"}, {\"NDVI\": 0.07880239520958084, \"Date\": \"2018-05-28T19:06:15.960000\"}, {\"NDVI\": 0.024745912505523642, \"Date\": \"2018-05-30T19:01:15.010000\"}, {\"NDVI\": 0.048742622403546695, \"Date\": \"2018-06-02T19:10:46.150000\"}, {\"NDVI\": 0.07273933230156976, \"Date\": \"2018-06-04T18:57:31.720000\"}, {\"NDVI\": 0.06117159149818559, \"Date\": \"2018-06-07T19:06:36.610000\"}, {\"NDVI\": 0.04002463722827562, \"Date\": \"2018-06-09T18:59:46.820000\"}, {\"NDVI\": 0.018877682958365657, \"Date\": \"2018-06-12T19:05:40.500000\"}, {\"NDVI\": 0.025416134803256604, \"Date\": \"2018-06-14T19:01:14.400000\"}, {\"NDVI\": 0.03195458664814755, \"Date\": \"2018-06-17T19:02:27.670000\"}, {\"NDVI\": 0.03849303849303849, \"Date\": \"2018-06-19T18:55:37.880000\"}, {\"NDVI\": -0.010638297872340425, \"Date\": \"2018-06-22T19:04:32.940000\"}, {\"NDVI\": 0.030413903498742283, \"Date\": \"2018-06-24T19:01:08.190000\"}, {\"NDVI\": 0.06635195384211906, \"Date\": \"2018-06-27T19:07:20.900000\"}, {\"NDVI\": 0.02542550956083211, \"Date\": \"2018-06-29T18:54:05.080000\"}, {\"NDVI\": -0.030198446937014668, \"Date\": \"2018-07-02T19:07:44.150000\"}, {\"NDVI\": -0.02801034061990717, \"Date\": \"2018-07-04T18:55:45.060000\"}, {\"NDVI\": -0.025822234302799674, \"Date\": \"2018-07-07T19:06:08.750000\"}, {\"NDVI\": 0.03176443310920473, \"Date\": \"2018-07-09T18:59:35.670000\"}, {\"NDVI\": -0.04155918601318429, \"Date\": \"2018-07-12T19:03:05.360000\"}, {\"NDVI\": -0.0028146361077603537, \"Date\": \"2018-07-14T19:01:52.480000\"}, {\"NDVI\": -0.02674952715482302, \"Date\": \"2018-07-17T18:59:17.460000\"}, {\"NDVI\": 0.00026831231553528306, \"Date\": \"2018-07-19T18:59:32.380000\"}, {\"NDVI\": 0.022222222222222223, \"Date\": \"2018-07-22T19:07:53.980000\"}, {\"NDVI\": 0.032640949554896145, \"Date\": \"2018-07-24T18:56:13.350000\"}, {\"NDVI\": 0.02353763691447215, \"Date\": \"2018-07-27T19:10:24.890000\"}, {\"NDVI\": 0.08294096341905106, \"Date\": \"2018-07-29T18:51:02.690000\"}, {\"NDVI\": -0.03104325699745547, \"Date\": \"2018-08-01T19:07:34.610000\"}, {\"NDVI\": 0.04558244231851435, \"Date\": \"2018-08-03T18:52:57.540000\"}, {\"NDVI\": 0.08017759206059023, \"Date\": \"2018-08-06T19:05:53.320000\"}, {\"NDVI\": 0.053686103262265604, \"Date\": \"2018-08-08T19:01:14.010000\"}, {\"NDVI\": 0.0046801872074883, \"Date\": \"2018-08-11T19:03:38.430000\"}, {\"NDVI\": 0.044848484848484846, \"Date\": \"2018-08-13T18:59:18.960000\"}, {\"NDVI\": 0.26458157227387996, \"Date\": \"2018-08-16T19:00:38\"}, {\"NDVI\": 0.09954158480681075, \"Date\": \"2018-08-18T18:58:58.520000\"}, {\"NDVI\": 0.03143093465674111, \"Date\": \"2018-08-21T19:10:13.290000\"}, {\"NDVI\": 0.04055496264674493, \"Date\": \"2018-08-23T18:55:56.930000\"}, {\"NDVI\": 0.02152560913166003, \"Date\": \"2018-08-26T19:05:34.280000\"}, {\"NDVI\": 0.0024962556165751375, \"Date\": \"2018-08-28T18:55:19.510000\"}, {\"NDVI\": 0.0056144728633811605, \"Date\": \"2018-08-31T19:05:33.490000\"}, {\"NDVI\": 0.021049961957900078, \"Date\": \"2018-09-02T18:58:13.020000\"}, {\"NDVI\": 0.004490057729313663, \"Date\": \"2018-09-05T19:05:44.100000\"}, {\"NDVI\": 0.009184883458179634, \"Date\": \"2018-09-07T18:57:08.290000\"}, {\"NDVI\": 0.013879709187045605, \"Date\": \"2018-09-10T19:04:14.690000\"}, {\"NDVI\": 0.005535360211500331, \"Date\": \"2018-09-12T18:54:57.730000\"}, {\"NDVI\": -0.0028089887640449437, \"Date\": \"2018-09-17T18:51:47.660000\"}, {\"NDVI\": -0.05014749262536873, \"Date\": \"2018-09-20T19:04:38.970000\"}, {\"NDVI\": -0.0034303127103366, \"Date\": \"2018-09-22T18:54:40.140000\"}, {\"NDVI\": 0.043286867204695524, \"Date\": \"2018-09-25T19:07:41.880000\"}, {\"NDVI\": 0.018335684062059238, \"Date\": \"2018-09-27T18:53:50.770000\"}, {\"NDVI\": 0.17334554614151593, \"Date\": \"2018-09-30T19:07:52.020000\"}, {\"NDVI\": 0.14138759436889575, \"Date\": \"2018-10-02T18:59:26\"}, {\"NDVI\": 0.10942964259627556, \"Date\": \"2018-10-05T19:04:40.740000\"}, {\"NDVI\": 0.07747169082365538, \"Date\": \"2018-10-07T18:53:19.540000\"}, {\"NDVI\": 0.0455137390510352, \"Date\": \"2018-10-10T19:03:38.320000\"}, {\"NDVI\": 0.013555787278415016, \"Date\": \"2018-10-12T18:58:10.690000\"}, {\"NDVI\": 0.003130434782608696, \"Date\": \"2018-10-15T19:10:45.570000\"}, {\"NDVI\": 0.017580144777662874, \"Date\": \"2018-10-17T18:55:02.010000\"}, {\"NDVI\": -0.04331450094161959, \"Date\": \"2018-10-20T19:05:57.470000\"}, {\"NDVI\": -0.027761370348493797, \"Date\": \"2018-10-22T19:01:30.180000\"}, {\"NDVI\": -0.04539524137413399, \"Date\": \"2018-10-25T19:04:47.460000\"}, {\"NDVI\": -0.06302911239977418, \"Date\": \"2018-10-27T18:57:31.590000\"}, {\"NDVI\": -0.08066298342541436, \"Date\": \"2018-10-30T19:11:47.100000\"}, {\"NDVI\": -0.07214802569568307, \"Date\": \"2018-11-01T18:55:24.460000\"}, {\"NDVI\": -0.06363306796595176, \"Date\": \"2018-11-04T19:07:07.430000\"}, {\"NDVI\": -0.05511811023622047, \"Date\": \"2018-11-06T19:02:22.080000\"}, {\"NDVI\": -0.06115589306277427, \"Date\": \"2018-11-09T19:12:18.150000\"}, {\"NDVI\": -0.06719367588932806, \"Date\": \"2018-11-11T19:02:19.360000\"}, {\"NDVI\": -0.07397985209953498, \"Date\": \"2018-11-14T19:12:14.960000\"}, {\"NDVI\": -0.08076602830974189, \"Date\": \"2018-11-16T19:02:21.680000\"}, {\"NDVI\": -0.06683480453972257, \"Date\": \"2018-11-19T19:12:17.550000\"}, {\"NDVI\": -0.07801022877540746, \"Date\": \"2018-11-21T19:02:17.470000\"}, {\"NDVI\": -0.08918565301109237, \"Date\": \"2018-11-24T19:12:12.900000\"}, {\"NDVI\": -0.10036107724677726, \"Date\": \"2018-11-26T19:02:20.680000\"}, {\"NDVI\": -0.11153650148246216, \"Date\": \"2018-11-29T19:12:16.340000\"}, {\"NDVI\": -0.12271192571814706, \"Date\": \"2018-12-01T19:02:15.930000\"}, {\"NDVI\": -0.13388734995383195, \"Date\": \"2018-12-04T19:12:12.160000\"}, {\"NDVI\": -0.05512909979064899, \"Date\": \"2018-12-06T19:02:19.030000\"}, {\"NDVI\": -0.057880652621501445, \"Date\": \"2018-12-09T19:12:14.530000\"}, {\"NDVI\": -0.060632205452353906, \"Date\": \"2018-12-11T19:02:16.060000\"}, {\"NDVI\": -0.06338375828320636, \"Date\": \"2018-12-14T19:12:12.060000\"}, {\"NDVI\": -0.06613531111405882, \"Date\": \"2018-12-16T19:02:18.760000\"}, {\"NDVI\": -0.06888686394491128, \"Date\": \"2018-12-19T19:12:15.540000\"}, {\"NDVI\": -0.07163841677576373, \"Date\": \"2018-12-21T19:02:16.230000\"}, {\"NDVI\": -0.07438996960661619, \"Date\": \"2018-12-24T19:12:13.050000\"}, {\"NDVI\": -0.07714152243746863, \"Date\": \"2018-12-26T19:02:20.940000\"}, {\"NDVI\": -0.0798930752683211, \"Date\": \"2018-12-29T19:12:17.640000\"}, {\"NDVI\": -0.08264462809917356, \"Date\": \"2018-12-31T19:02:18.350000\"}, {\"NDVI\": -0.08164660580738956, \"Date\": \"2019-01-03T19:12:14.990000\"}, {\"NDVI\": -0.08064858351560555, \"Date\": \"2019-01-05T19:02:22.750000\"}, {\"NDVI\": -0.07965056122382157, \"Date\": \"2019-01-08T19:12:19.280000\"}, {\"NDVI\": -0.07865253893203757, \"Date\": \"2019-01-10T19:02:19.910000\"}, {\"NDVI\": -0.07765451664025357, \"Date\": \"2019-01-13T19:12:16.360000\"}, {\"NDVI\": -0.06962629284060586, \"Date\": \"2019-01-15T19:02:23.950000\"}, {\"NDVI\": -0.061598069040958145, \"Date\": \"2019-01-18T19:12:20.330000\"}, {\"NDVI\": -0.05356984524131043, \"Date\": \"2019-01-20T19:02:20\"}, {\"NDVI\": -0.04554162144166272, \"Date\": \"2019-01-23T19:12:17.210000\"}, {\"NDVI\": -0.03751339764201501, \"Date\": \"2019-01-25T19:02:24\"}, {\"NDVI\": -0.034553402117710796, \"Date\": \"2019-01-28T19:12:20\"}, {\"NDVI\": -0.03159340659340659, \"Date\": \"2019-01-30T19:02:21\"}, {\"NDVI\": -0.031604949672176565, \"Date\": \"2019-02-02T19:12:17\"}, {\"NDVI\": -0.03161649275094653, \"Date\": \"2019-02-04T19:02:24\"}, {\"NDVI\": -0.0316280358297165, \"Date\": \"2019-02-07T19:12:20\"}, {\"NDVI\": -0.03163957890848647, \"Date\": \"2019-02-09T19:02:21\"}, {\"NDVI\": -0.03165112198725644, \"Date\": \"2019-02-12T19:12:13\"}, {\"NDVI\": -0.031662665066026406, \"Date\": \"2019-02-14T19:02:24\"}, {\"NDVI\": -0.03167420814479638, \"Date\": \"2019-02-17T19:12:20\"}, {\"NDVI\": -0.03206461837883602, \"Date\": \"2019-02-19T19:02:20\"}, {\"NDVI\": -0.032455028612875664, \"Date\": \"2019-02-22T19:12:16\"}, {\"NDVI\": -0.032845438846915306, \"Date\": \"2019-02-24T19:02:23\"}, {\"NDVI\": -0.03323584908095495, \"Date\": \"2019-02-27T19:12:19\"}, {\"NDVI\": -0.03362625931499459, \"Date\": \"2019-03-01T19:02:19\"}, {\"NDVI\": -0.034016669549034234, \"Date\": \"2019-03-04T19:12:15\"}, {\"NDVI\": -0.03440707978307388, \"Date\": \"2019-03-06T19:02:21\"}, {\"NDVI\": -0.03479749001711352, \"Date\": \"2019-03-09T19:12:17\"}, {\"NDVI\": -0.01583681743316863, \"Date\": \"2019-03-11T19:02:14\"}, {\"NDVI\": -0.03617363344051447, \"Date\": \"2019-03-14T19:12:16\"}, {\"NDVI\": -0.036867604897597134, \"Date\": \"2019-03-16T19:02:22\"}, {\"NDVI\": -0.037561576354679806, \"Date\": \"2019-03-19T19:12:19\"}, {\"NDVI\": 0.0040869497707441485, \"Date\": \"2019-03-21T19:02:22\"}, {\"NDVI\": 0.04573547589616811, \"Date\": \"2019-03-24T19:12:18\"}, {\"NDVI\": 0.028672796362621707, \"Date\": \"2019-03-26T19:02:25\"}, {\"NDVI\": 0.011610116829075305, \"Date\": \"2019-03-29T19:12:22\"}, {\"NDVI\": -0.0054525627044711015, \"Date\": \"2019-03-31T19:02:24\"}, {\"NDVI\": -0.0035045060386962295, \"Date\": \"2019-04-03T19:12:21\"}, {\"NDVI\": -0.0015564493729213575, \"Date\": \"2019-04-05T19:02:27\"}, {\"NDVI\": 0.0003916072928535144, \"Date\": \"2019-04-08T19:12:24\"}, {\"NDVI\": 0.0023396639586283864, \"Date\": \"2019-04-10T19:02:26\"}, {\"NDVI\": 0.004287720624403259, \"Date\": \"2019-04-13T19:12:22\"}, {\"NDVI\": 0.00623577729017813, \"Date\": \"2019-04-15T19:02:29\"}, {\"NDVI\": 0.008183833955953002, \"Date\": \"2019-04-18T19:12:26\"}, {\"NDVI\": 0.010131890621727875, \"Date\": \"2019-04-20T19:02:27\"}, {\"NDVI\": 0.012079947287502746, \"Date\": \"2019-04-23T19:12:23\"}, {\"NDVI\": -0.000761254965287679, \"Date\": \"2019-04-25T19:02:31\"}, {\"NDVI\": -0.013602457218078104, \"Date\": \"2019-04-28T19:12:27\"}, {\"NDVI\": -0.0111262931875854, \"Date\": \"2019-04-30T19:02:28\"}, {\"NDVI\": 0.01870503597122302, \"Date\": \"2019-05-03T19:12:24\"}, {\"NDVI\": 0.06496815286624204, \"Date\": \"2019-05-05T19:02:32\"}, {\"NDVI\": 0.051238860816892384, \"Date\": \"2019-05-08T19:12:28\"}, {\"NDVI\": 0.03750956876754274, \"Date\": \"2019-05-10T19:02:28\"}, {\"NDVI\": 0.02875765501403419, \"Date\": \"2019-05-13T19:12:24\"}, {\"NDVI\": 0.020005741260525643, \"Date\": \"2019-05-15T19:02:33\"}, {\"NDVI\": 0.011253827507017096, \"Date\": \"2019-05-18T19:12:29\"}, {\"NDVI\": 0.0025019137535085487, \"Date\": \"2019-05-20T19:02:27\"}, {\"NDVI\": -0.00625, \"Date\": \"2019-05-23T19:12:23\"}, {\"NDVI\": 0.03731145805768722, \"Date\": \"2019-05-25T19:02:33\"}, {\"NDVI\": 0.0017793594306049821, \"Date\": \"2019-05-28T19:12:29\"}, {\"NDVI\": 0.003209376045964659, \"Date\": \"2019-05-30T19:02:27\"}, {\"NDVI\": 0.004639392661324336, \"Date\": \"2019-06-02T19:12:22\"}, {\"NDVI\": 0.04676104676104676, \"Date\": \"2019-06-04T19:02:32\"}, {\"NDVI\": 0.059470264867566215, \"Date\": \"2019-06-07T19:12:28\"}, {\"NDVI\": 0.09668227152452677, \"Date\": \"2019-06-09T19:02:27\"}, {\"NDVI\": -0.011971268954509178, \"Date\": \"2019-06-12T19:12:23\"}, {\"NDVI\": 0.06653225806451613, \"Date\": \"2019-06-14T19:02:31\"}, {\"NDVI\": -0.03419622882710131, \"Date\": \"2019-06-17T19:12:28\"}, {\"NDVI\": 0.046638165565487756, \"Date\": \"2019-06-19T19:02:28\"}, {\"NDVI\": 0.0738076205702105, \"Date\": \"2019-06-22T19:12:24\"}, {\"NDVI\": 0.21579232017306652, \"Date\": \"2019-06-24T19:02:32\"}, {\"NDVI\": 0.13011385270781334, \"Date\": \"2019-06-27T19:12:29\"}, {\"NDVI\": 0.04443538524256013, \"Date\": \"2019-06-29T19:02:29\"}, {\"NDVI\": 0.04458874458874459, \"Date\": \"2019-07-02T19:12:25\"}, {\"NDVI\": 0.024839519955344683, \"Date\": \"2019-07-04T19:02:33\"}, {\"NDVI\": 0.038735667802912925, \"Date\": \"2019-07-07T19:12:29\"}, {\"NDVI\": -0.008332700857901824, \"Date\": \"2019-07-09T19:02:29\"}, {\"NDVI\": -0.05540106951871658, \"Date\": \"2019-07-12T19:12:25\"}, {\"NDVI\": 0.026799789805570153, \"Date\": \"2019-07-14T19:02:33\"}, {\"NDVI\": 0.02355072463768116, \"Date\": \"2019-07-17T19:12:29.321000\"}, {\"NDVI\": 0.015789473684210527, \"Date\": \"2019-07-19T19:02:29.608000\"}, {\"NDVI\": -0.028950542822677925, \"Date\": \"2019-07-22T19:12:25.633000\"}, {\"NDVI\": 0.026208503203261502, \"Date\": \"2019-07-24T19:02:32.908000\"}, {\"NDVI\": 0.018335684062059238, \"Date\": \"2019-07-27T19:12:28.827000\"}, {\"NDVI\": -0.01764254666325748, \"Date\": \"2019-07-29T19:02:29.219000\"}, {\"NDVI\": 0.02195306585919758, \"Date\": \"2019-08-01T19:12:25.140000\"}, {\"NDVI\": -0.04467005076142132, \"Date\": \"2019-08-03T19:02:32.188000\"}, {\"NDVI\": 0.06209072300512382, \"Date\": \"2019-08-06T19:12:27.966000\"}, {\"NDVI\": 0.16885149677166894, \"Date\": \"2019-08-08T19:02:28.422000\"}, {\"NDVI\": 0.19516945851188158, \"Date\": \"2019-08-11T19:12:24.209000\"}, {\"NDVI\": -0.009633911368015413, \"Date\": \"2019-08-13T19:02:31.011000\"}, {\"NDVI\": 0.032803180914512925, \"Date\": \"2019-08-16T19:12:21.740000\"}, {\"NDVI\": 0.007927519818799546, \"Date\": \"2019-08-18T19:02:27.250000\"}, {\"NDVI\": 0.005643491152400893, \"Date\": \"2019-08-21T19:12:22.895000\"}, {\"NDVI\": 0.0033594624860022394, \"Date\": \"2019-08-23T19:02:29.440000\"}, {\"NDVI\": 0.056112224448897796, \"Date\": \"2019-08-26T19:12:25.005000\"}, {\"NDVI\": 0.0729967069154775, \"Date\": \"2019-08-28T19:02:25.625000\"}, {\"NDVI\": 0.005923836389280677, \"Date\": \"2019-08-31T19:12:21.174000\"}, {\"NDVI\": 0.02157102157102157, \"Date\": \"2019-09-02T19:02:27.498000\"}, {\"NDVI\": 0.03856786584809696, \"Date\": \"2019-09-05T19:12:22.909000\"}, {\"NDVI\": 0.05556471012517236, \"Date\": \"2019-09-07T19:02:23.555000\"}, {\"NDVI\": 0.07256155440224775, \"Date\": \"2019-09-10T19:12:18.964000\"}, {\"NDVI\": 0.08955839867932315, \"Date\": \"2019-09-12T19:02:25.069000\"}, {\"NDVI\": 0.06750026989184846, \"Date\": \"2019-09-15T19:12:20.378000\"}, {\"NDVI\": 0.04544214110437378, \"Date\": \"2019-09-17T19:02:23.968000\"}, {\"NDVI\": 0.023384012316899086, \"Date\": \"2019-09-20T19:12:20.627000\"}, {\"NDVI\": 0.001325883529424407, \"Date\": \"2019-09-22T19:02:24.009000\"}, {\"NDVI\": -0.020732245258050286, \"Date\": \"2019-09-25T19:12:20.505000\"}, {\"NDVI\": 0.05329815303430079, \"Date\": \"2019-09-27T19:02:25.701000\"}, {\"NDVI\": 0.023169464660229833, \"Date\": \"2019-09-30T19:12:22.231000\"}, {\"NDVI\": -0.006959223713841126, \"Date\": \"2019-10-02T19:02:25.093000\"}, {\"NDVI\": -0.03708791208791209, \"Date\": \"2019-10-05T19:12:21.406000\"}, {\"NDVI\": -0.06622004612541268, \"Date\": \"2019-10-07T19:02:26.902000\"}, {\"NDVI\": -0.09535218016291327, \"Date\": \"2019-10-10T19:12:23.276000\"}, {\"NDVI\": -0.06939508702846549, \"Date\": \"2019-10-12T19:02:25.629000\"}, {\"NDVI\": -0.043437993894017694, \"Date\": \"2019-10-15T19:12:21.801000\"}, {\"NDVI\": -0.0174809007595699, \"Date\": \"2019-10-17T19:02:27.616000\"}, {\"NDVI\": 0.008476192374877886, \"Date\": \"2019-10-20T19:12:23.800000\"}, {\"NDVI\": 0.03443328550932568, \"Date\": \"2019-10-22T19:02:25.591000\"}, {\"NDVI\": -0.025688073394495414, \"Date\": \"2019-10-25T19:12:21.594000\"}, {\"NDVI\": -0.042105263157894736, \"Date\": \"2019-10-27T19:02:27.744000\"}, {\"NDVI\": -0.029177718832891247, \"Date\": \"2019-10-30T19:12:23.765000\"}, {\"NDVI\": -0.0008176614881439084, \"Date\": \"2019-11-01T19:02:24.981000\"}, {\"NDVI\": -0.07117852975495916, \"Date\": \"2019-11-04T19:12:20.760000\"}, {\"NDVI\": -0.05265411129386183, \"Date\": \"2019-11-06T19:02:27.221000\"}, {\"NDVI\": -0.034129692832764506, \"Date\": \"2019-11-09T19:12:23.061000\"}, {\"NDVI\": -0.05135202305169159, \"Date\": \"2019-11-11T19:02:23.715000\"}, {\"NDVI\": -0.06857435327061868, \"Date\": \"2019-11-14T19:12:19.328000\"}, {\"NDVI\": -0.08579668348954578, \"Date\": \"2019-11-16T19:02:26.120000\"}, {\"NDVI\": -0.05930760815403929, \"Date\": \"2019-11-19T19:12:21.738000\"}, {\"NDVI\": -0.032818532818532815, \"Date\": \"2019-11-21T19:02:21.790000\"}, {\"NDVI\": -0.04021022988912897, \"Date\": \"2019-11-24T19:12:17.221000\"}, {\"NDVI\": -0.04760192695972512, \"Date\": \"2019-11-26T19:02:24.362000\"}, {\"NDVI\": -0.05499362403032128, \"Date\": \"2019-11-29T19:12:19.807000\"}, {\"NDVI\": -0.062385321100917435, \"Date\": \"2019-12-01T19:02:19.244000\"}, {\"NDVI\": -0.06431634111481659, \"Date\": \"2019-12-04T19:12:14.505000\"}, {\"NDVI\": -0.06540542685179176, \"Date\": \"2019-12-06T19:02:21.933000\"}, {\"NDVI\": -0.06649451258876694, \"Date\": \"2019-12-09T19:12:17.213000\"}, {\"NDVI\": -0.04785970864508233, \"Date\": \"2019-12-11T19:02:18.795000\"}, {\"NDVI\": -0.029224904701397714, \"Date\": \"2019-12-14T19:12:15.168000\"}, {\"NDVI\": -0.08523206751054853, \"Date\": \"2019-12-16T19:02:18.944000\"}, {\"NDVI\": -0.04229654493738289, \"Date\": \"2019-12-19T19:12:14.532000\"}, {\"NDVI\": 0.0006389776357827476, \"Date\": \"2019-12-21T19:02:19.423000\"}, {\"NDVI\": -0.014053533222862295, \"Date\": \"2019-12-24T19:12:15.637000\"}, {\"NDVI\": -0.028746044081507337, \"Date\": \"2019-12-26T19:02:18.998000\"}, {\"NDVI\": -0.043438554940152384, \"Date\": \"2019-12-29T19:12:15.266000\"}, {\"NDVI\": -0.05813106579879743, \"Date\": \"2019-12-31T19:02:19.518000\"}, {\"NDVI\": -0.07282357665744246, \"Date\": \"2020-01-03T19:12:15.541000\"}, {\"NDVI\": -0.08751608751608751, \"Date\": \"2020-01-05T19:02:18.952000\"}, {\"NDVI\": -0.1098357822739448, \"Date\": \"2020-01-08T19:12:15.011000\"}, {\"NDVI\": -0.1321554770318021, \"Date\": \"2020-01-10T19:02:19.069000\"}, {\"NDVI\": -0.11345037541001059, \"Date\": \"2020-01-13T19:12:14.931000\"}, {\"NDVI\": -0.09474527378821906, \"Date\": \"2020-01-15T19:02:18.533000\"}, {\"NDVI\": -0.07604017216642754, \"Date\": \"2020-01-18T19:12:14.402000\"}, {\"NDVI\": -0.07660018386224703, \"Date\": \"2020-01-20T19:02:18.026000\"}, {\"NDVI\": -0.07716019555806652, \"Date\": \"2020-01-23T19:12:13.759000\"}, {\"NDVI\": -0.07772020725388601, \"Date\": \"2020-01-25T19:02:17.610000\"}, {\"NDVI\": -0.07238364143008139, \"Date\": \"2020-01-28T19:12:13.334000\"}, {\"NDVI\": -0.06704707560627675, \"Date\": \"2020-01-30T19:02:16.831000\"}, {\"NDVI\": -0.0761083068144409, \"Date\": \"2020-02-02T19:12:13.825000\"}, {\"NDVI\": -0.08516953802260507, \"Date\": \"2020-02-04T19:02:16.185000\"}, {\"NDVI\": -0.09423076923076923, \"Date\": \"2020-02-07T19:12:12.592000\"}, {\"NDVI\": -0.06278936580660718, \"Date\": \"2020-02-09T19:02:19.185000\"}, {\"NDVI\": -0.03134796238244514, \"Date\": \"2020-02-12T19:12:15.833000\"}, {\"NDVI\": -0.02421009437833402, \"Date\": \"2020-02-14T19:02:17.990000\"}, {\"NDVI\": -0.10727496917385944, \"Date\": \"2020-02-17T19:12:14.427000\"}, {\"NDVI\": 0.009622501850481125, \"Date\": \"2020-02-19T19:02:20.785000\"}, {\"NDVI\": -0.06005221932114883, \"Date\": \"2020-02-22T19:12:17.296000\"}, {\"NDVI\": -0.0164756446991404, \"Date\": \"2020-02-24T19:02:19.328000\"}, {\"NDVI\": -0.0042158516020236085, \"Date\": \"2020-02-27T19:12:15.771000\"}, {\"NDVI\": -0.4945810440805817, \"Date\": \"2020-02-29T19:02:21.861000\"}, {\"NDVI\": -0.9849462365591398, \"Date\": \"2020-03-03T19:12:18.190000\"}, {\"NDVI\": -0.01046337817638266, \"Date\": \"2020-03-05T19:02:20.280000\"}, {\"NDVI\": -0.03068893080840883, \"Date\": \"2020-03-08T19:12:16.590000\"}, {\"NDVI\": -0.050914483440435, \"Date\": \"2020-03-10T19:02:22.425000\"}, {\"NDVI\": -0.0006285355122564425, \"Date\": \"2020-03-13T19:12:18.590000\"}, {\"NDVI\": -0.005117640938899919, \"Date\": \"2020-03-15T19:02:20.728000\"}, {\"NDVI\": -0.009606746365543397, \"Date\": \"2020-03-18T19:12:16.881000\"}, {\"NDVI\": -0.014095851792186871, \"Date\": \"2020-03-20T19:02:22.449000\"}, {\"NDVI\": -0.010036978341257264, \"Date\": \"2020-03-23T19:12:18.482000\"}, {\"NDVI\": 0.023477337705560052, \"Date\": \"2020-03-25T19:02:20.700000\"}, {\"NDVI\": 0.05699165375237737, \"Date\": \"2020-03-28T19:12:16.677000\"}, {\"NDVI\": 0.09050596979919469, \"Date\": \"2020-03-30T19:02:21.960000\"}, {\"NDVI\": 0.12402028584601199, \"Date\": \"2020-04-02T19:12:17.829000\"}, {\"NDVI\": 0.044971967160771814, \"Date\": \"2020-04-04T19:02:20.966000\"}, {\"NDVI\": -0.034076351524468355, \"Date\": \"2020-04-07T19:12:18.016000\"}, {\"NDVI\": 0.02857142857142857, \"Date\": \"2020-04-09T19:02:20.965000\"}, {\"NDVI\": 0.02626756261453879, \"Date\": \"2020-04-12T19:12:16.663000\"}, {\"NDVI\": -0.049886621315192746, \"Date\": \"2020-04-14T19:02:23.850000\"}, {\"NDVI\": -0.004179985247110892, \"Date\": \"2020-04-17T19:12:20.728000\"}, {\"NDVI\": -0.008863819500402902, \"Date\": \"2020-04-19T19:02:19.406000\"}, {\"NDVI\": -0.01297469036644462, \"Date\": \"2020-04-22T19:12:09.862000\"}, {\"NDVI\": -0.01708556123248634, \"Date\": \"2020-04-22T19:12:16.506000\"}, {\"NDVI\": -0.021196432098528055, \"Date\": \"2020-04-24T19:02:26.273000\"}, {\"NDVI\": -0.025307302964569775, \"Date\": \"2020-04-27T19:12:22.984000\"}, {\"NDVI\": -0.003924791689595308, \"Date\": \"2020-04-29T19:02:20.367000\"}, {\"NDVI\": 0.01745771958537916, \"Date\": \"2020-05-02T19:12:17.226000\"}, {\"NDVI\": 0.0832316329021235, \"Date\": \"2020-05-04T19:02:28.123000\"}, {\"NDVI\": 0.055069480185280496, \"Date\": \"2020-05-07T19:12:24.691000\"}, {\"NDVI\": -0.005361930294906166, \"Date\": \"2020-05-09T19:02:22.692000\"}, {\"NDVI\": 0.013385816614923381, \"Date\": \"2020-05-12T19:12:19.389000\"}, {\"NDVI\": 0.032133563524752926, \"Date\": \"2020-05-14T19:02:29.472000\"}, {\"NDVI\": 0.05088131043458248, \"Date\": \"2020-05-17T19:12:25.875000\"}, {\"NDVI\": 0.06962905734441202, \"Date\": \"2020-05-19T19:02:24.500000\"}, {\"NDVI\": 0.08837680425424158, \"Date\": \"2020-05-22T19:12:21.072000\"}, {\"NDVI\": 0.06967599077960306, \"Date\": \"2020-05-24T19:02:30.365000\"}, {\"NDVI\": 0.050975177304964536, \"Date\": \"2020-05-27T19:12:26.624000\"}, {\"NDVI\": 0.04006080169897776, \"Date\": \"2020-05-29T19:02:25.832000\"}, {\"NDVI\": 0.02914642609299098, \"Date\": \"2020-06-01T19:12:22.239000\"}, {\"NDVI\": 0.023519535114089923, \"Date\": \"2020-06-03T19:02:30.751000\"}, {\"NDVI\": 0.017892644135188866, \"Date\": \"2020-06-06T19:12:26.884000\"}, {\"NDVI\": 0.017627791241877574, \"Date\": \"2020-06-08T19:02:26.677000\"}, {\"NDVI\": 0.01736293834856628, \"Date\": \"2020-06-11T19:12:22.926000\"}, {\"NDVI\": 0.017098085455254992, \"Date\": \"2020-06-13T19:02:30.653000\"}, {\"NDVI\": 0.0168332325619437, \"Date\": \"2020-06-16T19:12:26.637000\"}, {\"NDVI\": 0.016568379668632408, \"Date\": \"2020-06-18T19:02:27\"}, {\"NDVI\": 0.018408941485864562, \"Date\": \"2020-06-21T19:12:23.139000\"}, {\"NDVI\": 0.006665320137345991, \"Date\": \"2020-06-23T19:02:30.156000\"}, {\"NDVI\": -0.03778762930124551, \"Date\": \"2020-06-26T19:12:26.006000\"}, {\"NDVI\": 0.18833301139656172, \"Date\": \"2020-06-28T19:02:26.898000\"}, {\"NDVI\": -0.012809564474807857, \"Date\": \"2020-07-01T19:12:22.897000\"}, {\"NDVI\": -0.013546798029556651, \"Date\": \"2020-07-03T19:02:29.211000\"}, {\"NDVI\": -0.025409130060292853, \"Date\": \"2020-07-06T19:12:24.971000\"}, {\"NDVI\": -0.0005359056806002144, \"Date\": \"2020-07-08T19:02:26.394000\"}, {\"NDVI\": 0.006470165348670022, \"Date\": \"2020-07-11T19:12:22.257000\"}, {\"NDVI\": -0.015021459227467811, \"Date\": \"2020-07-13T19:02:28.949000\"}, {\"NDVI\": 0.02051860202931229, \"Date\": \"2020-07-16T19:12:25.364000\"}, {\"NDVI\": -0.02165944685104965, \"Date\": \"2020-07-18T19:02:25.961000\"}, {\"NDVI\": 0.003766478342749529, \"Date\": \"2020-07-21T19:12:22.467000\"}, {\"NDVI\": 0.049529780564263326, \"Date\": \"2020-07-23T19:02:29.879000\"}, {\"NDVI\": -0.024922118380062305, \"Date\": \"2020-07-26T19:12:26.158000\"}, {\"NDVI\": 0.10249720462169214, \"Date\": \"2020-07-28T19:02:27.055000\"}, {\"NDVI\": 0.01778975741239892, \"Date\": \"2020-07-31T19:12:23.424000\"}, {\"NDVI\": -0.008242664029014177, \"Date\": \"2020-08-02T19:02:30.365000\"}, {\"NDVI\": 0.04089039438664408, \"Date\": \"2020-08-05T19:12:26.543000\"}, {\"NDVI\": -0.016483516483516484, \"Date\": \"2020-08-07T19:02:27.756000\"}, {\"NDVI\": -0.05172413793103448, \"Date\": \"2020-08-10T19:12:23.976000\"}, {\"NDVI\": 0.13420089467263116, \"Date\": \"2020-08-12T19:02:30.406000\"}, {\"NDVI\": 0.035686777920410785, \"Date\": \"2020-08-15T19:12:26.437000\"}, {\"NDVI\": 0.00035497766648436707, \"Date\": \"2020-08-17T19:02:27.995000\"}, {\"NDVI\": -0.03497682258744206, \"Date\": \"2020-08-20T19:12:24.113000\"}, {\"NDVI\": 0.051907719609582965, \"Date\": \"2020-08-22T19:02:30.051000\"}, {\"NDVI\": 0.0632072867789125, \"Date\": \"2020-08-25T19:12:25.934000\"}, {\"NDVI\": -0.05971563981042654, \"Date\": \"2020-08-27T19:02:27.805000\"}, {\"NDVI\": -0.008, \"Date\": \"2020-08-30T19:12:23.795000\"}, {\"NDVI\": -0.03488655769699927, \"Date\": \"2020-09-01T19:02:29.252000\"}, {\"NDVI\": 0.05179501233214579, \"Date\": \"2020-09-04T19:12:25.023000\"}, {\"NDVI\": 0.009054325955734407, \"Date\": \"2020-09-06T19:02:27.223000\"}, {\"NDVI\": 0.015211267605633802, \"Date\": \"2020-09-09T19:12:23.042000\"}, {\"NDVI\": 0.04250120181096769, \"Date\": \"2020-09-11T19:02:28.295000\"}, {\"NDVI\": 0.06979113601630157, \"Date\": \"2020-09-14T19:12:24.806000\"}, {\"NDVI\": 0.027391487568478718, \"Date\": \"2020-09-16T19:02:26.156000\"}, {\"NDVI\": -0.05939524838012959, \"Date\": \"2020-09-19T19:12:22.506000\"}, {\"NDVI\": 0.024296675191815855, \"Date\": \"2020-09-21T19:02:29.486000\"}, {\"NDVI\": 0.00794646591384358, \"Date\": \"2020-09-24T19:12:25.834000\"}, {\"NDVI\": -0.03561808249646263, \"Date\": \"2020-09-26T19:02:27.245000\"}, {\"NDVI\": -0.07918263090676884, \"Date\": \"2020-09-29T19:12:23.660000\"}, {\"NDVI\": -0.005113221329437546, \"Date\": \"2020-10-01T19:02:30.183000\"}, {\"NDVI\": 0.06356198867212083, \"Date\": \"2020-10-04T19:12:26.374000\"}, {\"NDVI\": -0.04198210598761184, \"Date\": \"2020-10-06T19:02:28.063000\"}, {\"NDVI\": -0.01606425702811245, \"Date\": \"2020-10-09T19:12:24.258000\"}, {\"NDVI\": -0.022331269080548288, \"Date\": \"2020-10-11T19:02:30.266000\"}, {\"NDVI\": -0.028598281132984127, \"Date\": \"2020-10-14T19:12:26.305000\"}, {\"NDVI\": -0.03486529318541997, \"Date\": \"2020-10-16T19:02:28.214000\"}, {\"NDVI\": 0.02779984114376489, \"Date\": \"2020-10-19T19:12:24.250000\"}, {\"NDVI\": -0.0008264197202110142, \"Date\": \"2020-10-21T19:02:29.829000\"}, {\"NDVI\": -0.02945268058418692, \"Date\": \"2020-10-24T19:12:25.879000\"}, {\"NDVI\": -0.05807894144816282, \"Date\": \"2020-10-26T19:02:27.736000\"}, {\"NDVI\": -0.08670520231213873, \"Date\": \"2020-10-29T19:12:23.587000\"}, {\"NDVI\": -0.052075471698113204, \"Date\": \"2020-10-31T19:02:29.533000\"}, {\"NDVI\": -0.01995665476797552, \"Date\": \"2020-11-03T19:12:25.412000\"}, {\"NDVI\": 0.012162162162162163, \"Date\": \"2020-11-05T19:02:26.595000\"}, {\"NDVI\": 0.012162162162162163, \"Date\": \"2020-11-08T19:12:22.204000\"}]}}, {\"mode\": \"vega-lite\"});\n",
              "</script>"
            ]
          },
          "metadata": {
            "tags": []
          },
          "execution_count": 66
        }
      ]
    },
    {
      "cell_type": "markdown",
      "metadata": {
        "id": "qutpbwYj_JFu"
      },
      "source": [
        "Fix the size a bit.\n",
        "\n",
        "Chart Size: \n",
        "https://altair-viz.github.io/user_guide/customization.html#adjusting-chart-size"
      ]
    },
    {
      "cell_type": "code",
      "metadata": {
        "id": "urjSDMXjHPn2",
        "colab": {
          "base_uri": "https://localhost:8080/",
          "height": 263
        },
        "outputId": "273bb82d-1f30-475a-a524-a1783bcea2bc"
      },
      "source": [
        "chart = alt.Chart(df).mark_line().encode(y='NDVI', x='Date').properties(width=700, height=200)\n",
        "\n",
        "chart"
      ],
      "execution_count": 67,
      "outputs": [
        {
          "output_type": "execute_result",
          "data": {
            "text/plain": [
              "alt.Chart(...)"
            ],
            "text/html": [
              "\n",
              "<div id=\"altair-viz-1d490abfbd05401b956e4da306ce2e94\"></div>\n",
              "<script type=\"text/javascript\">\n",
              "  (function(spec, embedOpt){\n",
              "    let outputDiv = document.currentScript.previousElementSibling;\n",
              "    if (outputDiv.id !== \"altair-viz-1d490abfbd05401b956e4da306ce2e94\") {\n",
              "      outputDiv = document.getElementById(\"altair-viz-1d490abfbd05401b956e4da306ce2e94\");\n",
              "    }\n",
              "    const paths = {\n",
              "      \"vega\": \"https://cdn.jsdelivr.net/npm//vega@5?noext\",\n",
              "      \"vega-lib\": \"https://cdn.jsdelivr.net/npm//vega-lib?noext\",\n",
              "      \"vega-lite\": \"https://cdn.jsdelivr.net/npm//vega-lite@4.8.1?noext\",\n",
              "      \"vega-embed\": \"https://cdn.jsdelivr.net/npm//vega-embed@6?noext\",\n",
              "    };\n",
              "\n",
              "    function loadScript(lib) {\n",
              "      return new Promise(function(resolve, reject) {\n",
              "        var s = document.createElement('script');\n",
              "        s.src = paths[lib];\n",
              "        s.async = true;\n",
              "        s.onload = () => resolve(paths[lib]);\n",
              "        s.onerror = () => reject(`Error loading script: ${paths[lib]}`);\n",
              "        document.getElementsByTagName(\"head\")[0].appendChild(s);\n",
              "      });\n",
              "    }\n",
              "\n",
              "    function showError(err) {\n",
              "      outputDiv.innerHTML = `<div class=\"error\" style=\"color:red;\">${err}</div>`;\n",
              "      throw err;\n",
              "    }\n",
              "\n",
              "    function displayChart(vegaEmbed) {\n",
              "      vegaEmbed(outputDiv, spec, embedOpt)\n",
              "        .catch(err => showError(`Javascript Error: ${err.message}<br>This usually means there's a typo in your chart specification. See the javascript console for the full traceback.`));\n",
              "    }\n",
              "\n",
              "    if(typeof define === \"function\" && define.amd) {\n",
              "      requirejs.config({paths});\n",
              "      require([\"vega-embed\"], displayChart, err => showError(`Error loading script: ${err.message}`));\n",
              "    } else if (typeof vegaEmbed === \"function\") {\n",
              "      displayChart(vegaEmbed);\n",
              "    } else {\n",
              "      loadScript(\"vega\")\n",
              "        .then(() => loadScript(\"vega-lite\"))\n",
              "        .then(() => loadScript(\"vega-embed\"))\n",
              "        .catch(showError)\n",
              "        .then(() => displayChart(vegaEmbed));\n",
              "    }\n",
              "  })({\"config\": {\"view\": {\"continuousWidth\": 400, \"continuousHeight\": 300}}, \"data\": {\"name\": \"data-0d987f99d211509eb19fe7294db0a577\"}, \"mark\": \"line\", \"encoding\": {\"x\": {\"type\": \"temporal\", \"field\": \"Date\"}, \"y\": {\"type\": \"quantitative\", \"field\": \"NDVI\"}}, \"height\": 200, \"width\": 700, \"$schema\": \"https://vega.github.io/schema/vega-lite/v4.8.1.json\", \"datasets\": {\"data-0d987f99d211509eb19fe7294db0a577\": [{\"NDVI\": -0.025743564108972758, \"Date\": \"2015-09-18T19:01:22\"}, {\"NDVI\": -0.025743564108972758, \"Date\": \"2015-09-18T19:01:22.458000\"}, {\"NDVI\": 0.017902813299232736, \"Date\": \"2015-09-28T19:01:22\"}, {\"NDVI\": 0.017902813299232736, \"Date\": \"2015-09-28T19:01:22.459000\"}, {\"NDVI\": 0.005787037037037037, \"Date\": \"2015-10-21T19:10:17.457000\"}, {\"NDVI\": 0.005893441294726501, \"Date\": \"2015-11-17T18:56:44\"}, {\"NDVI\": 0.005999845552415965, \"Date\": \"2015-11-17T18:56:44.455000\"}, {\"NDVI\": 0.006106249810105429, \"Date\": \"2015-12-07T19:01:19\"}, {\"NDVI\": 0.006212654067794894, \"Date\": \"2015-12-07T19:01:19.460000\"}, {\"NDVI\": 0.006319058325484357, \"Date\": \"2015-12-07T19:02:42.437000\"}, {\"NDVI\": 0.006425462583173822, \"Date\": \"2015-12-10T19:08:03.462000\"}, {\"NDVI\": 0.006531866840863286, \"Date\": \"2015-12-10T19:08:03.460000\"}, {\"NDVI\": 0.00663827109855275, \"Date\": \"2015-12-10T19:14:36.709000\"}, {\"NDVI\": 0.006744675356242214, \"Date\": \"2015-12-17T19:02:42.438000\"}, {\"NDVI\": 0.0068510796139316784, \"Date\": \"2015-12-17T19:02:42.438000\"}, {\"NDVI\": 0.006957483871621142, \"Date\": \"2015-12-27T19:05:14.180000\"}, {\"NDVI\": 0.007063888129310606, \"Date\": \"2015-12-27T19:05:14.180000\"}, {\"NDVI\": 0.007170292387000071, \"Date\": \"2016-01-06T19:02:41.440000\"}, {\"NDVI\": 0.007276696644689535, \"Date\": \"2016-01-06T19:02:41.440000\"}, {\"NDVI\": 0.007383100902378999, \"Date\": \"2016-01-09T19:14:35.532000\"}, {\"NDVI\": -0.005615504726084171, \"Date\": \"2016-01-09T19:14:35.532000\"}, {\"NDVI\": -0.018614110354547343, \"Date\": \"2016-01-16T19:02:39.438000\"}, {\"NDVI\": -0.03161271598301051, \"Date\": \"2016-01-16T19:02:39.438000\"}, {\"NDVI\": -0.04461132161147368, \"Date\": \"2016-01-26T19:05:08.547000\"}, {\"NDVI\": -0.057609927239936846, \"Date\": \"2016-01-26T19:05:08.547000\"}, {\"NDVI\": -0.07060853286840003, \"Date\": \"2016-02-05T19:01:15.464000\"}, {\"NDVI\": -0.0836071384968632, \"Date\": \"2016-02-05T19:01:15.464000\"}, {\"NDVI\": -0.09660574412532637, \"Date\": \"2016-02-08T19:06:05.324000\"}, {\"NDVI\": -0.08312692312219556, \"Date\": \"2016-02-08T19:06:05.324000\"}, {\"NDVI\": -0.06964810211906476, \"Date\": \"2016-03-09T19:08:57.240000\"}, {\"NDVI\": -0.05616928111593395, \"Date\": \"2016-03-09T19:08:57.240000\"}, {\"NDVI\": -0.04269046011280315, \"Date\": \"2016-03-26T18:57:04.398000\"}, {\"NDVI\": -0.029211639109672338, \"Date\": \"2016-03-26T18:57:04.398000\"}, {\"NDVI\": -0.01573281810654154, \"Date\": \"2016-04-08T19:07:12\"}, {\"NDVI\": -0.01573281810654154, \"Date\": \"2016-04-08T19:07:12.004000\"}, {\"NDVI\": 0.160678355849382, \"Date\": \"2016-04-15T19:01:51\"}, {\"NDVI\": 0.160678355849382, \"Date\": \"2016-04-15T19:01:51.930000\"}, {\"NDVI\": -0.046357615894039736, \"Date\": \"2016-05-08T19:11:01\"}, {\"NDVI\": -0.046357615894039736, \"Date\": \"2016-05-08T19:11:01.371000\"}, {\"NDVI\": -0.03167232628058368, \"Date\": \"2016-05-15T18:53:43\"}, {\"NDVI\": -0.016987036667127628, \"Date\": \"2016-05-15T18:53:43.218000\"}, {\"NDVI\": -0.002301747053671574, \"Date\": \"2016-05-25T19:01:25\"}, {\"NDVI\": 0.01238354255978448, \"Date\": \"2016-05-25T19:01:25.464000\"}, {\"NDVI\": 0.027068832173240527, \"Date\": \"2016-05-28T19:04:38\"}, {\"NDVI\": 0.027068832173240527, \"Date\": \"2016-05-28T19:04:38.948000\"}, {\"NDVI\": 0.023911825811262236, \"Date\": \"2016-06-04T18:54:00\"}, {\"NDVI\": 0.020754819449283948, \"Date\": \"2016-06-04T18:54:00.255000\"}, {\"NDVI\": 0.017597813087305656, \"Date\": \"2016-06-14T19:01:22\"}, {\"NDVI\": 0.017597813087305656, \"Date\": \"2016-06-14T19:01:22.464000\"}, {\"NDVI\": 0.023278267144114424, \"Date\": \"2016-06-17T19:12:06.920000\"}, {\"NDVI\": 0.028958721200923195, \"Date\": \"2016-06-17T19:12:06.919000\"}, {\"NDVI\": 0.03463917525773196, \"Date\": \"2016-06-24T19:02:10.520000\"}, {\"NDVI\": 0.03463917525773196, \"Date\": \"2016-06-24T19:02:10.523000\"}, {\"NDVI\": 0.04016412948896747, \"Date\": \"2016-07-07T19:09:18.353000\"}, {\"NDVI\": 0.04568908372020297, \"Date\": \"2016-07-07T19:09:18.353000\"}, {\"NDVI\": 0.05121403795143848, \"Date\": \"2016-07-14T19:01:30.228000\"}, {\"NDVI\": -0.011042097998619738, \"Date\": \"2016-07-24T19:01:45.102000\"}, {\"NDVI\": -0.015880540412420006, \"Date\": \"2016-07-27T19:11:47.270000\"}, {\"NDVI\": -0.015880540412420006, \"Date\": \"2016-07-27T19:11:47.270000\"}, {\"NDVI\": 0.024960505529225907, \"Date\": \"2016-08-03T19:01:33.839000\"}, {\"NDVI\": 0.020547856172879277, \"Date\": \"2016-08-13T19:01:40.502000\"}, {\"NDVI\": 0.016135206816532646, \"Date\": \"2016-08-13T19:01:40.502000\"}, {\"NDVI\": 0.011722557460186016, \"Date\": \"2016-08-16T19:09:39.996000\"}, {\"NDVI\": 0.007309908103839385, \"Date\": \"2016-08-16T19:09:39.996000\"}, {\"NDVI\": 0.0028972587474927567, \"Date\": \"2016-08-23T18:57:15.690000\"}, {\"NDVI\": 0.0028972587474927567, \"Date\": \"2016-08-23T18:57:15.689000\"}, {\"NDVI\": 0.012558306422676713, \"Date\": \"2016-09-02T19:01:19.460000\"}, {\"NDVI\": 0.012558306422676713, \"Date\": \"2016-09-02T19:01:19.459000\"}, {\"NDVI\": 0.030303030303030304, \"Date\": \"2016-09-05T19:11:42.270000\"}, {\"NDVI\": 0.030303030303030304, \"Date\": \"2016-09-05T19:11:42.268000\"}, {\"NDVI\": -0.002733734281027884, \"Date\": \"2016-09-12T19:01:01.510000\"}, {\"NDVI\": -0.002733734281027884, \"Date\": \"2016-09-12T19:01:01.507000\"}, {\"NDVI\": -0.02664796633941094, \"Date\": \"2016-09-22T19:01:14.460000\"}, {\"NDVI\": -0.02664796633941094, \"Date\": \"2016-09-22T19:01:14.463000\"}, {\"NDVI\": 0.013230900554844216, \"Date\": \"2016-09-25T19:06:12.680000\"}, {\"NDVI\": 0.013230900554844216, \"Date\": \"2016-09-25T19:06:12.685000\"}, {\"NDVI\": 0.021345320211689153, \"Date\": \"2016-10-02T18:54:36.770000\"}, {\"NDVI\": 0.029459739868534094, \"Date\": \"2016-10-02T18:54:36.773000\"}, {\"NDVI\": 0.037574159525379035, \"Date\": \"2016-10-12T19:01:14.460000\"}, {\"NDVI\": 0.037574159525379035, \"Date\": \"2016-10-12T19:01:14.455000\"}, {\"NDVI\": 0.019633923186510537, \"Date\": \"2016-10-15T19:09:28.200000\"}, {\"NDVI\": 0.0016936868476420397, \"Date\": \"2016-10-15T19:09:28.201000\"}, {\"NDVI\": -0.016246549491226454, \"Date\": \"2016-10-22T18:54:48.110000\"}, {\"NDVI\": -0.034186785830094955, \"Date\": \"2016-10-22T18:54:48.106000\"}, {\"NDVI\": -0.05212702216896345, \"Date\": \"2016-11-01T19:01:17.460000\"}, {\"NDVI\": -0.05212702216896345, \"Date\": \"2016-11-01T19:01:17.464000\"}, {\"NDVI\": -0.07416267942583732, \"Date\": \"2016-11-04T19:05:49.460000\"}, {\"NDVI\": -0.07416267942583732, \"Date\": \"2016-11-04T19:05:49.464000\"}, {\"NDVI\": -0.03756641641920563, \"Date\": \"2016-11-11T18:57:23.790000\"}, {\"NDVI\": -0.0009701534125739347, \"Date\": \"2016-11-11T18:57:23.788000\"}, {\"NDVI\": 0.035626109594057764, \"Date\": \"2016-11-14T19:06:40.460000\"}, {\"NDVI\": 0.07222237260068945, \"Date\": \"2016-11-14T19:06:40.463000\"}, {\"NDVI\": 0.10881863560732113, \"Date\": \"2016-11-21T18:57:06.460000\"}, {\"NDVI\": 0.10881863560732113, \"Date\": \"2016-11-21T18:57:06.463000\"}, {\"NDVI\": 0.0832990331436663, \"Date\": \"2016-11-24T19:07:21.460000\"}, {\"NDVI\": 0.05777943068001145, \"Date\": \"2016-11-24T19:07:21.455000\"}, {\"NDVI\": 0.032259828216356604, \"Date\": \"2016-12-01T19:01:36.570000\"}, {\"NDVI\": 0.0067402257527017645, \"Date\": \"2016-12-01T19:01:36.569000\"}, {\"NDVI\": -0.01877937671095309, \"Date\": \"2016-12-11T19:01:15.458000\"}, {\"NDVI\": -0.04429897917460793, \"Date\": \"2016-12-14T19:08:04.459000\"}, {\"NDVI\": -0.06981858163826278, \"Date\": \"2016-12-21T18:58:03.458000\"}, {\"NDVI\": -0.1717171717171717, \"Date\": \"2016-12-24T19:08:07.458000\"}, {\"NDVI\": -0.0758364312267658, \"Date\": \"2016-12-31T19:01:05.060000\"}, {\"NDVI\": 0.022542266750156543, \"Date\": \"2017-01-03T19:09:49.303000\"}, {\"NDVI\": -0.032933802582435, \"Date\": \"2017-01-10T18:57:36.459000\"}, {\"NDVI\": -0.08840987191502656, \"Date\": \"2017-01-23T19:06:53.457000\"}, {\"NDVI\": -0.07029071197875854, \"Date\": \"2017-01-30T18:56:15.456000\"}, {\"NDVI\": -0.052171552042490514, \"Date\": \"2017-02-02T19:06:04.460000\"}, {\"NDVI\": -0.03405239210622249, \"Date\": \"2017-02-09T18:58:31.676000\"}, {\"NDVI\": -0.015933232169954476, \"Date\": \"2017-02-12T19:10:31.161000\"}, {\"NDVI\": -0.025045184611412342, \"Date\": \"2017-02-19T18:54:15.456000\"}, {\"NDVI\": 0.0651840490797546, \"Date\": \"2017-03-01T19:01:12.456000\"}, {\"NDVI\": -0.036528028933092226, \"Date\": \"2017-03-04T19:11:41.409000\"}, {\"NDVI\": -0.029244301995544016, \"Date\": \"2017-03-11T18:59:39.470000\"}, {\"NDVI\": -0.021960575057995806, \"Date\": \"2017-03-21T19:01:12.460000\"}, {\"NDVI\": -0.014676848120447599, \"Date\": \"2017-03-24T19:02:18.910000\"}, {\"NDVI\": -0.007393121182899389, \"Date\": \"2017-03-31T18:58:50.880000\"}, {\"NDVI\": -0.000623535400672507, \"Date\": \"2017-04-10T19:01:18.460000\"}, {\"NDVI\": 0.006146050381554375, \"Date\": \"2017-04-13T19:11:42.270000\"}, {\"NDVI\": 0.012915636163781259, \"Date\": \"2017-04-20T19:02:03.310000\"}, {\"NDVI\": 0.03242813771659382, \"Date\": \"2017-04-30T19:01:32.280000\"}, {\"NDVI\": 0.05194063926940639, \"Date\": \"2017-05-03T19:12:03.300000\"}, {\"NDVI\": 0.012933025404157044, \"Date\": \"2017-05-10T18:59:15.740000\"}, {\"NDVI\": 0.024919155411831845, \"Date\": \"2017-05-20T19:01:54.930000\"}, {\"NDVI\": 0.01934935147778014, \"Date\": \"2017-05-23T19:10:59.370000\"}, {\"NDVI\": 0.03927922020032769, \"Date\": \"2017-05-30T19:01:28.230000\"}, {\"NDVI\": 0.05920908892287525, \"Date\": \"2017-06-12T19:04:49.370000\"}, {\"NDVI\": -0.013733748397729353, \"Date\": \"2017-06-19T18:57:28.120000\"}, {\"NDVI\": 0.01025081788440567, \"Date\": \"2017-06-29T19:01:24.680000\"}, {\"NDVI\": 0.0908597775969623, \"Date\": \"2017-07-02T19:07:08.070000\"}, {\"NDVI\": 0.00997506234413965, \"Date\": \"2017-07-04T18:59:34.390000\"}, {\"NDVI\": 0.056453145789773805, \"Date\": \"2017-07-09T18:53:04.740000\"}, {\"NDVI\": 0.07085346215780998, \"Date\": \"2017-07-14T19:01:19.460000\"}, {\"NDVI\": 0.008035062089116142, \"Date\": \"2017-07-17T19:05:56.920000\"}, {\"NDVI\": 0.02396259497369959, \"Date\": \"2017-07-19T19:01:20.460000\"}, {\"NDVI\": 0.07546454304133485, \"Date\": \"2017-07-22T19:10:32.110000\"}, {\"NDVI\": 0.04112092598233323, \"Date\": \"2017-07-24T18:58:51.090000\"}, {\"NDVI\": 0.03179255918827509, \"Date\": \"2017-07-29T18:58:16.020000\"}, {\"NDVI\": 0.027881814398668332, \"Date\": \"2017-08-03T19:01:18.460000\"}, {\"NDVI\": 0.036945135003363015, \"Date\": \"2017-08-06T19:08:02.190000\"}, {\"NDVI\": 0.0460084556080577, \"Date\": \"2017-08-08T19:01:21.460000\"}, {\"NDVI\": 0.06848425835767608, \"Date\": \"2017-08-11T19:03:05.750000\"}, {\"NDVI\": 0.08211321833433086, \"Date\": \"2017-08-13T18:58:45.490000\"}, {\"NDVI\": 0.09574217831098565, \"Date\": \"2017-08-18T19:00:58.370000\"}, {\"NDVI\": 0.05072497043403164, \"Date\": \"2017-08-23T19:01:15.460000\"}, {\"NDVI\": 0.005707762557077625, \"Date\": \"2017-08-26T19:11:59.920000\"}, {\"NDVI\": 0.057344372891751, \"Date\": \"2017-08-31T19:10:16.690000\"}, {\"NDVI\": 0.012529365700861394, \"Date\": \"2017-09-02T18:58:09.017000\"}, {\"NDVI\": 0.01107399890261508, \"Date\": \"2017-09-07T18:57:37.940000\"}, {\"NDVI\": 0.009618632104368764, \"Date\": \"2017-09-12T19:01:10.460000\"}, {\"NDVI\": 0.00816326530612245, \"Date\": \"2017-09-15T19:05:58.410000\"}, {\"NDVI\": -0.04627522698214893, \"Date\": \"2017-09-17T19:01:15.460000\"}, {\"NDVI\": -0.1007137192704203, \"Date\": \"2017-09-20T19:03:56.070000\"}, {\"NDVI\": -0.05137311979781178, \"Date\": \"2017-09-22T18:56:30.590000\"}, {\"NDVI\": -0.0020325203252032522, \"Date\": \"2017-09-27T18:58:20.740000\"}, {\"NDVI\": 0.13729874776386405, \"Date\": \"2017-10-02T19:01:03.460000\"}, {\"NDVI\": 0.016574585635359115, \"Date\": \"2017-10-05T19:02:25.460000\"}, {\"NDVI\": 0.012315556056676814, \"Date\": \"2017-10-07T19:01:17.460000\"}, {\"NDVI\": 0.008056526477994512, \"Date\": \"2017-10-10T19:11:20.720000\"}, {\"NDVI\": 0.003797496899312209, \"Date\": \"2017-10-12T18:53:10.457000\"}, {\"NDVI\": -0.00046153267937009204, \"Date\": \"2017-10-17T18:59:35.586000\"}, {\"NDVI\": -0.004720562258052393, \"Date\": \"2017-10-22T19:01:06.460000\"}, {\"NDVI\": -0.008979591836734694, \"Date\": \"2017-10-25T19:04:36.460000\"}, {\"NDVI\": -0.009328358208955223, \"Date\": \"2017-10-27T19:01:18.460000\"}, {\"NDVI\": -0.06292352371732816, \"Date\": \"2017-10-30T19:05:22.460000\"}, {\"NDVI\": -0.03197353914002205, \"Date\": \"2017-11-01T18:55:16.460000\"}, {\"NDVI\": -0.030245324703090874, \"Date\": \"2017-11-06T18:55:55.460000\"}, {\"NDVI\": -0.028517110266159697, \"Date\": \"2017-11-11T19:01:05.460000\"}, {\"NDVI\": -0.056105610561056105, \"Date\": \"2017-11-14T19:09:01.590000\"}, {\"NDVI\": -0.05918255581016617, \"Date\": \"2017-11-16T19:01:16.460000\"}, {\"NDVI\": -0.06225950105927623, \"Date\": \"2017-11-19T19:11:59.900000\"}, {\"NDVI\": -0.0653364463083863, \"Date\": \"2017-11-21T18:56:53.460000\"}, {\"NDVI\": -0.06841339155749636, \"Date\": \"2017-11-24T19:07:10.460000\"}, {\"NDVI\": -0.17586649550706032, \"Date\": \"2017-11-26T18:57:19.460000\"}, {\"NDVI\": -0.1367701322906204, \"Date\": \"2017-12-01T19:00:25.240000\"}, {\"NDVI\": -0.0976737690741805, \"Date\": \"2017-12-04T19:07:40.460000\"}, {\"NDVI\": -0.058577405857740586, \"Date\": \"2017-12-06T19:01:14.460000\"}, {\"NDVI\": -0.07700242062270726, \"Date\": \"2017-12-09T19:07:57.460000\"}, {\"NDVI\": -0.09542743538767395, \"Date\": \"2017-12-11T18:59:20.660000\"}, {\"NDVI\": -0.08730555442853086, \"Date\": \"2017-12-14T19:07:57.460000\"}, {\"NDVI\": -0.07918367346938776, \"Date\": \"2017-12-16T18:58:01.460000\"}, {\"NDVI\": -0.11392405063291139, \"Date\": \"2017-12-21T19:00:36.200000\"}, {\"NDVI\": -0.0722353372135618, \"Date\": \"2017-12-24T19:08:01.460000\"}, {\"NDVI\": -0.03054662379421222, \"Date\": \"2017-12-26T19:01:13.460000\"}, {\"NDVI\": -0.04535461271011424, \"Date\": \"2017-12-29T19:08:03.460000\"}, {\"NDVI\": -0.06016260162601626, \"Date\": \"2017-12-31T18:57:53.460000\"}, {\"NDVI\": -0.06071633513862187, \"Date\": \"2018-01-03T19:07:55.460000\"}, {\"NDVI\": -0.06127006865122747, \"Date\": \"2018-01-05T18:57:48.460000\"}, {\"NDVI\": -0.061823802163833076, \"Date\": \"2018-01-10T18:57:36.460000\"}, {\"NDVI\": -0.08646998982706001, \"Date\": \"2018-01-13T19:07:32.460000\"}, {\"NDVI\": -0.06716302841465731, \"Date\": \"2018-01-18T19:07:15.460000\"}, {\"NDVI\": -0.047856067002254594, \"Date\": \"2018-01-20T18:57:04.460000\"}, {\"NDVI\": -0.02854910558985188, \"Date\": \"2018-01-23T19:06:54.460000\"}, {\"NDVI\": -0.009242144177449169, \"Date\": \"2018-01-25T18:56:44.460000\"}, {\"NDVI\": -0.04388808779553086, \"Date\": \"2018-01-30T19:01:24.120000\"}, {\"NDVI\": -0.07853403141361257, \"Date\": \"2018-02-02T19:06:06.460000\"}, {\"NDVI\": -0.03813953488372093, \"Date\": \"2018-02-07T19:05:40.460000\"}, {\"NDVI\": 0.015055852355512385, \"Date\": \"2018-02-09T18:56:14.580000\"}, {\"NDVI\": -0.05545927209705372, \"Date\": \"2018-02-12T19:05:05.460000\"}, {\"NDVI\": -0.043521001346919934, \"Date\": \"2018-02-14T18:58:46.970000\"}, {\"NDVI\": -0.031582730596786145, \"Date\": \"2018-02-17T19:04:36.460000\"}, {\"NDVI\": -0.019644459846652355, \"Date\": \"2018-02-19T18:58:08.960000\"}, {\"NDVI\": -0.007706189096518566, \"Date\": \"2018-02-22T19:10:46.140000\"}, {\"NDVI\": 0.004232081653615223, \"Date\": \"2018-02-24T19:01:11.830000\"}, {\"NDVI\": 0.016170352403749012, \"Date\": \"2018-02-27T19:04:55.040000\"}, {\"NDVI\": 0.0281086231538828, \"Date\": \"2018-03-01T18:53:15.280000\"}, {\"NDVI\": -0.07898516036381044, \"Date\": \"2018-03-04T19:11:07.940000\"}, {\"NDVI\": -0.02285467874083657, \"Date\": \"2018-03-06T18:54:00.040000\"}, {\"NDVI\": -0.014866204162537165, \"Date\": \"2018-03-09T19:09:13.960000\"}, {\"NDVI\": 0.0398796087283672, \"Date\": \"2018-03-11T19:00:28.370000\"}, {\"NDVI\": 0.026811023968057915, \"Date\": \"2018-03-14T19:09:20.860000\"}, {\"NDVI\": 0.013742439207748633, \"Date\": \"2018-03-16T18:52:15.570000\"}, {\"NDVI\": 0.0006738544474393531, \"Date\": \"2018-03-19T19:07:40.320000\"}, {\"NDVI\": -0.0009763936017962709, \"Date\": \"2018-03-21T18:56:28.800000\"}, {\"NDVI\": -0.002626641651031895, \"Date\": \"2018-03-24T19:03:59.320000\"}, {\"NDVI\": -0.0034091634824751985, \"Date\": \"2018-03-26T19:01:16.290000\"}, {\"NDVI\": -0.004191685313918502, \"Date\": \"2018-03-29T19:04:19.830000\"}, {\"NDVI\": -0.0049742071453618055, \"Date\": \"2018-03-31T19:00:22.080000\"}, {\"NDVI\": -0.005756728976805108, \"Date\": \"2018-04-03T19:03:10.360000\"}, {\"NDVI\": -0.006539250808248412, \"Date\": \"2018-04-05T18:58:11.410000\"}, {\"NDVI\": -0.007321772639691715, \"Date\": \"2018-04-08T19:06:36.600000\"}, {\"NDVI\": -0.00021928382164573476, \"Date\": \"2018-04-10T18:58:19.240000\"}, {\"NDVI\": 0.006883204996400246, \"Date\": \"2018-04-13T19:00:12.190000\"}, {\"NDVI\": 0.013985693814446224, \"Date\": \"2018-04-15T18:56:13.350000\"}, {\"NDVI\": 0.02108818263249221, \"Date\": \"2018-04-18T19:06:15.960000\"}, {\"NDVI\": 0.028190671450538187, \"Date\": \"2018-04-20T18:55:52.310000\"}, {\"NDVI\": 0.04169113329418673, \"Date\": \"2018-04-23T19:10:40.940000\"}, {\"NDVI\": 0.03493246390312063, \"Date\": \"2018-04-25T18:58:12.860000\"}, {\"NDVI\": 0.03780255108730386, \"Date\": \"2018-04-28T19:11:52.490000\"}, {\"NDVI\": 0.0406726382714871, \"Date\": \"2018-04-30T18:57:49.340000\"}, {\"NDVI\": 0.04354272545567033, \"Date\": \"2018-05-03T19:06:50.040000\"}, {\"NDVI\": 0.046412812639853564, \"Date\": \"2018-05-05T18:57:31.120000\"}, {\"NDVI\": 0.0492828998240368, \"Date\": \"2018-05-08T19:07:51.760000\"}, {\"NDVI\": 0.052152987008220034, \"Date\": \"2018-05-10T18:54:38.120000\"}, {\"NDVI\": 0.055023074192403265, \"Date\": \"2018-05-13T19:04:31.940000\"}, {\"NDVI\": 0.0671602326811211, \"Date\": \"2018-05-15T19:00:03.210000\"}, {\"NDVI\": -0.011420059582919563, \"Date\": \"2018-05-18T19:09:40.960000\"}, {\"NDVI\": -0.018042658403158163, \"Date\": \"2018-05-20T19:01:45.870000\"}, {\"NDVI\": -0.02466525722339676, \"Date\": \"2018-05-23T19:07:13.290000\"}, {\"NDVI\": 0.027068568993092037, \"Date\": \"2018-05-25T19:00:23.290000\"}, {\"NDVI\": 0.07880239520958084, \"Date\": \"2018-05-28T19:06:15.960000\"}, {\"NDVI\": 0.024745912505523642, \"Date\": \"2018-05-30T19:01:15.010000\"}, {\"NDVI\": 0.048742622403546695, \"Date\": \"2018-06-02T19:10:46.150000\"}, {\"NDVI\": 0.07273933230156976, \"Date\": \"2018-06-04T18:57:31.720000\"}, {\"NDVI\": 0.06117159149818559, \"Date\": \"2018-06-07T19:06:36.610000\"}, {\"NDVI\": 0.04002463722827562, \"Date\": \"2018-06-09T18:59:46.820000\"}, {\"NDVI\": 0.018877682958365657, \"Date\": \"2018-06-12T19:05:40.500000\"}, {\"NDVI\": 0.025416134803256604, \"Date\": \"2018-06-14T19:01:14.400000\"}, {\"NDVI\": 0.03195458664814755, \"Date\": \"2018-06-17T19:02:27.670000\"}, {\"NDVI\": 0.03849303849303849, \"Date\": \"2018-06-19T18:55:37.880000\"}, {\"NDVI\": -0.010638297872340425, \"Date\": \"2018-06-22T19:04:32.940000\"}, {\"NDVI\": 0.030413903498742283, \"Date\": \"2018-06-24T19:01:08.190000\"}, {\"NDVI\": 0.06635195384211906, \"Date\": \"2018-06-27T19:07:20.900000\"}, {\"NDVI\": 0.02542550956083211, \"Date\": \"2018-06-29T18:54:05.080000\"}, {\"NDVI\": -0.030198446937014668, \"Date\": \"2018-07-02T19:07:44.150000\"}, {\"NDVI\": -0.02801034061990717, \"Date\": \"2018-07-04T18:55:45.060000\"}, {\"NDVI\": -0.025822234302799674, \"Date\": \"2018-07-07T19:06:08.750000\"}, {\"NDVI\": 0.03176443310920473, \"Date\": \"2018-07-09T18:59:35.670000\"}, {\"NDVI\": -0.04155918601318429, \"Date\": \"2018-07-12T19:03:05.360000\"}, {\"NDVI\": -0.0028146361077603537, \"Date\": \"2018-07-14T19:01:52.480000\"}, {\"NDVI\": -0.02674952715482302, \"Date\": \"2018-07-17T18:59:17.460000\"}, {\"NDVI\": 0.00026831231553528306, \"Date\": \"2018-07-19T18:59:32.380000\"}, {\"NDVI\": 0.022222222222222223, \"Date\": \"2018-07-22T19:07:53.980000\"}, {\"NDVI\": 0.032640949554896145, \"Date\": \"2018-07-24T18:56:13.350000\"}, {\"NDVI\": 0.02353763691447215, \"Date\": \"2018-07-27T19:10:24.890000\"}, {\"NDVI\": 0.08294096341905106, \"Date\": \"2018-07-29T18:51:02.690000\"}, {\"NDVI\": -0.03104325699745547, \"Date\": \"2018-08-01T19:07:34.610000\"}, {\"NDVI\": 0.04558244231851435, \"Date\": \"2018-08-03T18:52:57.540000\"}, {\"NDVI\": 0.08017759206059023, \"Date\": \"2018-08-06T19:05:53.320000\"}, {\"NDVI\": 0.053686103262265604, \"Date\": \"2018-08-08T19:01:14.010000\"}, {\"NDVI\": 0.0046801872074883, \"Date\": \"2018-08-11T19:03:38.430000\"}, {\"NDVI\": 0.044848484848484846, \"Date\": \"2018-08-13T18:59:18.960000\"}, {\"NDVI\": 0.26458157227387996, \"Date\": \"2018-08-16T19:00:38\"}, {\"NDVI\": 0.09954158480681075, \"Date\": \"2018-08-18T18:58:58.520000\"}, {\"NDVI\": 0.03143093465674111, \"Date\": \"2018-08-21T19:10:13.290000\"}, {\"NDVI\": 0.04055496264674493, \"Date\": \"2018-08-23T18:55:56.930000\"}, {\"NDVI\": 0.02152560913166003, \"Date\": \"2018-08-26T19:05:34.280000\"}, {\"NDVI\": 0.0024962556165751375, \"Date\": \"2018-08-28T18:55:19.510000\"}, {\"NDVI\": 0.0056144728633811605, \"Date\": \"2018-08-31T19:05:33.490000\"}, {\"NDVI\": 0.021049961957900078, \"Date\": \"2018-09-02T18:58:13.020000\"}, {\"NDVI\": 0.004490057729313663, \"Date\": \"2018-09-05T19:05:44.100000\"}, {\"NDVI\": 0.009184883458179634, \"Date\": \"2018-09-07T18:57:08.290000\"}, {\"NDVI\": 0.013879709187045605, \"Date\": \"2018-09-10T19:04:14.690000\"}, {\"NDVI\": 0.005535360211500331, \"Date\": \"2018-09-12T18:54:57.730000\"}, {\"NDVI\": -0.0028089887640449437, \"Date\": \"2018-09-17T18:51:47.660000\"}, {\"NDVI\": -0.05014749262536873, \"Date\": \"2018-09-20T19:04:38.970000\"}, {\"NDVI\": -0.0034303127103366, \"Date\": \"2018-09-22T18:54:40.140000\"}, {\"NDVI\": 0.043286867204695524, \"Date\": \"2018-09-25T19:07:41.880000\"}, {\"NDVI\": 0.018335684062059238, \"Date\": \"2018-09-27T18:53:50.770000\"}, {\"NDVI\": 0.17334554614151593, \"Date\": \"2018-09-30T19:07:52.020000\"}, {\"NDVI\": 0.14138759436889575, \"Date\": \"2018-10-02T18:59:26\"}, {\"NDVI\": 0.10942964259627556, \"Date\": \"2018-10-05T19:04:40.740000\"}, {\"NDVI\": 0.07747169082365538, \"Date\": \"2018-10-07T18:53:19.540000\"}, {\"NDVI\": 0.0455137390510352, \"Date\": \"2018-10-10T19:03:38.320000\"}, {\"NDVI\": 0.013555787278415016, \"Date\": \"2018-10-12T18:58:10.690000\"}, {\"NDVI\": 0.003130434782608696, \"Date\": \"2018-10-15T19:10:45.570000\"}, {\"NDVI\": 0.017580144777662874, \"Date\": \"2018-10-17T18:55:02.010000\"}, {\"NDVI\": -0.04331450094161959, \"Date\": \"2018-10-20T19:05:57.470000\"}, {\"NDVI\": -0.027761370348493797, \"Date\": \"2018-10-22T19:01:30.180000\"}, {\"NDVI\": -0.04539524137413399, \"Date\": \"2018-10-25T19:04:47.460000\"}, {\"NDVI\": -0.06302911239977418, \"Date\": \"2018-10-27T18:57:31.590000\"}, {\"NDVI\": -0.08066298342541436, \"Date\": \"2018-10-30T19:11:47.100000\"}, {\"NDVI\": -0.07214802569568307, \"Date\": \"2018-11-01T18:55:24.460000\"}, {\"NDVI\": -0.06363306796595176, \"Date\": \"2018-11-04T19:07:07.430000\"}, {\"NDVI\": -0.05511811023622047, \"Date\": \"2018-11-06T19:02:22.080000\"}, {\"NDVI\": -0.06115589306277427, \"Date\": \"2018-11-09T19:12:18.150000\"}, {\"NDVI\": -0.06719367588932806, \"Date\": \"2018-11-11T19:02:19.360000\"}, {\"NDVI\": -0.07397985209953498, \"Date\": \"2018-11-14T19:12:14.960000\"}, {\"NDVI\": -0.08076602830974189, \"Date\": \"2018-11-16T19:02:21.680000\"}, {\"NDVI\": -0.06683480453972257, \"Date\": \"2018-11-19T19:12:17.550000\"}, {\"NDVI\": -0.07801022877540746, \"Date\": \"2018-11-21T19:02:17.470000\"}, {\"NDVI\": -0.08918565301109237, \"Date\": \"2018-11-24T19:12:12.900000\"}, {\"NDVI\": -0.10036107724677726, \"Date\": \"2018-11-26T19:02:20.680000\"}, {\"NDVI\": -0.11153650148246216, \"Date\": \"2018-11-29T19:12:16.340000\"}, {\"NDVI\": -0.12271192571814706, \"Date\": \"2018-12-01T19:02:15.930000\"}, {\"NDVI\": -0.13388734995383195, \"Date\": \"2018-12-04T19:12:12.160000\"}, {\"NDVI\": -0.05512909979064899, \"Date\": \"2018-12-06T19:02:19.030000\"}, {\"NDVI\": -0.057880652621501445, \"Date\": \"2018-12-09T19:12:14.530000\"}, {\"NDVI\": -0.060632205452353906, \"Date\": \"2018-12-11T19:02:16.060000\"}, {\"NDVI\": -0.06338375828320636, \"Date\": \"2018-12-14T19:12:12.060000\"}, {\"NDVI\": -0.06613531111405882, \"Date\": \"2018-12-16T19:02:18.760000\"}, {\"NDVI\": -0.06888686394491128, \"Date\": \"2018-12-19T19:12:15.540000\"}, {\"NDVI\": -0.07163841677576373, \"Date\": \"2018-12-21T19:02:16.230000\"}, {\"NDVI\": -0.07438996960661619, \"Date\": \"2018-12-24T19:12:13.050000\"}, {\"NDVI\": -0.07714152243746863, \"Date\": \"2018-12-26T19:02:20.940000\"}, {\"NDVI\": -0.0798930752683211, \"Date\": \"2018-12-29T19:12:17.640000\"}, {\"NDVI\": -0.08264462809917356, \"Date\": \"2018-12-31T19:02:18.350000\"}, {\"NDVI\": -0.08164660580738956, \"Date\": \"2019-01-03T19:12:14.990000\"}, {\"NDVI\": -0.08064858351560555, \"Date\": \"2019-01-05T19:02:22.750000\"}, {\"NDVI\": -0.07965056122382157, \"Date\": \"2019-01-08T19:12:19.280000\"}, {\"NDVI\": -0.07865253893203757, \"Date\": \"2019-01-10T19:02:19.910000\"}, {\"NDVI\": -0.07765451664025357, \"Date\": \"2019-01-13T19:12:16.360000\"}, {\"NDVI\": -0.06962629284060586, \"Date\": \"2019-01-15T19:02:23.950000\"}, {\"NDVI\": -0.061598069040958145, \"Date\": \"2019-01-18T19:12:20.330000\"}, {\"NDVI\": -0.05356984524131043, \"Date\": \"2019-01-20T19:02:20\"}, {\"NDVI\": -0.04554162144166272, \"Date\": \"2019-01-23T19:12:17.210000\"}, {\"NDVI\": -0.03751339764201501, \"Date\": \"2019-01-25T19:02:24\"}, {\"NDVI\": -0.034553402117710796, \"Date\": \"2019-01-28T19:12:20\"}, {\"NDVI\": -0.03159340659340659, \"Date\": \"2019-01-30T19:02:21\"}, {\"NDVI\": -0.031604949672176565, \"Date\": \"2019-02-02T19:12:17\"}, {\"NDVI\": -0.03161649275094653, \"Date\": \"2019-02-04T19:02:24\"}, {\"NDVI\": -0.0316280358297165, \"Date\": \"2019-02-07T19:12:20\"}, {\"NDVI\": -0.03163957890848647, \"Date\": \"2019-02-09T19:02:21\"}, {\"NDVI\": -0.03165112198725644, \"Date\": \"2019-02-12T19:12:13\"}, {\"NDVI\": -0.031662665066026406, \"Date\": \"2019-02-14T19:02:24\"}, {\"NDVI\": -0.03167420814479638, \"Date\": \"2019-02-17T19:12:20\"}, {\"NDVI\": -0.03206461837883602, \"Date\": \"2019-02-19T19:02:20\"}, {\"NDVI\": -0.032455028612875664, \"Date\": \"2019-02-22T19:12:16\"}, {\"NDVI\": -0.032845438846915306, \"Date\": \"2019-02-24T19:02:23\"}, {\"NDVI\": -0.03323584908095495, \"Date\": \"2019-02-27T19:12:19\"}, {\"NDVI\": -0.03362625931499459, \"Date\": \"2019-03-01T19:02:19\"}, {\"NDVI\": -0.034016669549034234, \"Date\": \"2019-03-04T19:12:15\"}, {\"NDVI\": -0.03440707978307388, \"Date\": \"2019-03-06T19:02:21\"}, {\"NDVI\": -0.03479749001711352, \"Date\": \"2019-03-09T19:12:17\"}, {\"NDVI\": -0.01583681743316863, \"Date\": \"2019-03-11T19:02:14\"}, {\"NDVI\": -0.03617363344051447, \"Date\": \"2019-03-14T19:12:16\"}, {\"NDVI\": -0.036867604897597134, \"Date\": \"2019-03-16T19:02:22\"}, {\"NDVI\": -0.037561576354679806, \"Date\": \"2019-03-19T19:12:19\"}, {\"NDVI\": 0.0040869497707441485, \"Date\": \"2019-03-21T19:02:22\"}, {\"NDVI\": 0.04573547589616811, \"Date\": \"2019-03-24T19:12:18\"}, {\"NDVI\": 0.028672796362621707, \"Date\": \"2019-03-26T19:02:25\"}, {\"NDVI\": 0.011610116829075305, \"Date\": \"2019-03-29T19:12:22\"}, {\"NDVI\": -0.0054525627044711015, \"Date\": \"2019-03-31T19:02:24\"}, {\"NDVI\": -0.0035045060386962295, \"Date\": \"2019-04-03T19:12:21\"}, {\"NDVI\": -0.0015564493729213575, \"Date\": \"2019-04-05T19:02:27\"}, {\"NDVI\": 0.0003916072928535144, \"Date\": \"2019-04-08T19:12:24\"}, {\"NDVI\": 0.0023396639586283864, \"Date\": \"2019-04-10T19:02:26\"}, {\"NDVI\": 0.004287720624403259, \"Date\": \"2019-04-13T19:12:22\"}, {\"NDVI\": 0.00623577729017813, \"Date\": \"2019-04-15T19:02:29\"}, {\"NDVI\": 0.008183833955953002, \"Date\": \"2019-04-18T19:12:26\"}, {\"NDVI\": 0.010131890621727875, \"Date\": \"2019-04-20T19:02:27\"}, {\"NDVI\": 0.012079947287502746, \"Date\": \"2019-04-23T19:12:23\"}, {\"NDVI\": -0.000761254965287679, \"Date\": \"2019-04-25T19:02:31\"}, {\"NDVI\": -0.013602457218078104, \"Date\": \"2019-04-28T19:12:27\"}, {\"NDVI\": -0.0111262931875854, \"Date\": \"2019-04-30T19:02:28\"}, {\"NDVI\": 0.01870503597122302, \"Date\": \"2019-05-03T19:12:24\"}, {\"NDVI\": 0.06496815286624204, \"Date\": \"2019-05-05T19:02:32\"}, {\"NDVI\": 0.051238860816892384, \"Date\": \"2019-05-08T19:12:28\"}, {\"NDVI\": 0.03750956876754274, \"Date\": \"2019-05-10T19:02:28\"}, {\"NDVI\": 0.02875765501403419, \"Date\": \"2019-05-13T19:12:24\"}, {\"NDVI\": 0.020005741260525643, \"Date\": \"2019-05-15T19:02:33\"}, {\"NDVI\": 0.011253827507017096, \"Date\": \"2019-05-18T19:12:29\"}, {\"NDVI\": 0.0025019137535085487, \"Date\": \"2019-05-20T19:02:27\"}, {\"NDVI\": -0.00625, \"Date\": \"2019-05-23T19:12:23\"}, {\"NDVI\": 0.03731145805768722, \"Date\": \"2019-05-25T19:02:33\"}, {\"NDVI\": 0.0017793594306049821, \"Date\": \"2019-05-28T19:12:29\"}, {\"NDVI\": 0.003209376045964659, \"Date\": \"2019-05-30T19:02:27\"}, {\"NDVI\": 0.004639392661324336, \"Date\": \"2019-06-02T19:12:22\"}, {\"NDVI\": 0.04676104676104676, \"Date\": \"2019-06-04T19:02:32\"}, {\"NDVI\": 0.059470264867566215, \"Date\": \"2019-06-07T19:12:28\"}, {\"NDVI\": 0.09668227152452677, \"Date\": \"2019-06-09T19:02:27\"}, {\"NDVI\": -0.011971268954509178, \"Date\": \"2019-06-12T19:12:23\"}, {\"NDVI\": 0.06653225806451613, \"Date\": \"2019-06-14T19:02:31\"}, {\"NDVI\": -0.03419622882710131, \"Date\": \"2019-06-17T19:12:28\"}, {\"NDVI\": 0.046638165565487756, \"Date\": \"2019-06-19T19:02:28\"}, {\"NDVI\": 0.0738076205702105, \"Date\": \"2019-06-22T19:12:24\"}, {\"NDVI\": 0.21579232017306652, \"Date\": \"2019-06-24T19:02:32\"}, {\"NDVI\": 0.13011385270781334, \"Date\": \"2019-06-27T19:12:29\"}, {\"NDVI\": 0.04443538524256013, \"Date\": \"2019-06-29T19:02:29\"}, {\"NDVI\": 0.04458874458874459, \"Date\": \"2019-07-02T19:12:25\"}, {\"NDVI\": 0.024839519955344683, \"Date\": \"2019-07-04T19:02:33\"}, {\"NDVI\": 0.038735667802912925, \"Date\": \"2019-07-07T19:12:29\"}, {\"NDVI\": -0.008332700857901824, \"Date\": \"2019-07-09T19:02:29\"}, {\"NDVI\": -0.05540106951871658, \"Date\": \"2019-07-12T19:12:25\"}, {\"NDVI\": 0.026799789805570153, \"Date\": \"2019-07-14T19:02:33\"}, {\"NDVI\": 0.02355072463768116, \"Date\": \"2019-07-17T19:12:29.321000\"}, {\"NDVI\": 0.015789473684210527, \"Date\": \"2019-07-19T19:02:29.608000\"}, {\"NDVI\": -0.028950542822677925, \"Date\": \"2019-07-22T19:12:25.633000\"}, {\"NDVI\": 0.026208503203261502, \"Date\": \"2019-07-24T19:02:32.908000\"}, {\"NDVI\": 0.018335684062059238, \"Date\": \"2019-07-27T19:12:28.827000\"}, {\"NDVI\": -0.01764254666325748, \"Date\": \"2019-07-29T19:02:29.219000\"}, {\"NDVI\": 0.02195306585919758, \"Date\": \"2019-08-01T19:12:25.140000\"}, {\"NDVI\": -0.04467005076142132, \"Date\": \"2019-08-03T19:02:32.188000\"}, {\"NDVI\": 0.06209072300512382, \"Date\": \"2019-08-06T19:12:27.966000\"}, {\"NDVI\": 0.16885149677166894, \"Date\": \"2019-08-08T19:02:28.422000\"}, {\"NDVI\": 0.19516945851188158, \"Date\": \"2019-08-11T19:12:24.209000\"}, {\"NDVI\": -0.009633911368015413, \"Date\": \"2019-08-13T19:02:31.011000\"}, {\"NDVI\": 0.032803180914512925, \"Date\": \"2019-08-16T19:12:21.740000\"}, {\"NDVI\": 0.007927519818799546, \"Date\": \"2019-08-18T19:02:27.250000\"}, {\"NDVI\": 0.005643491152400893, \"Date\": \"2019-08-21T19:12:22.895000\"}, {\"NDVI\": 0.0033594624860022394, \"Date\": \"2019-08-23T19:02:29.440000\"}, {\"NDVI\": 0.056112224448897796, \"Date\": \"2019-08-26T19:12:25.005000\"}, {\"NDVI\": 0.0729967069154775, \"Date\": \"2019-08-28T19:02:25.625000\"}, {\"NDVI\": 0.005923836389280677, \"Date\": \"2019-08-31T19:12:21.174000\"}, {\"NDVI\": 0.02157102157102157, \"Date\": \"2019-09-02T19:02:27.498000\"}, {\"NDVI\": 0.03856786584809696, \"Date\": \"2019-09-05T19:12:22.909000\"}, {\"NDVI\": 0.05556471012517236, \"Date\": \"2019-09-07T19:02:23.555000\"}, {\"NDVI\": 0.07256155440224775, \"Date\": \"2019-09-10T19:12:18.964000\"}, {\"NDVI\": 0.08955839867932315, \"Date\": \"2019-09-12T19:02:25.069000\"}, {\"NDVI\": 0.06750026989184846, \"Date\": \"2019-09-15T19:12:20.378000\"}, {\"NDVI\": 0.04544214110437378, \"Date\": \"2019-09-17T19:02:23.968000\"}, {\"NDVI\": 0.023384012316899086, \"Date\": \"2019-09-20T19:12:20.627000\"}, {\"NDVI\": 0.001325883529424407, \"Date\": \"2019-09-22T19:02:24.009000\"}, {\"NDVI\": -0.020732245258050286, \"Date\": \"2019-09-25T19:12:20.505000\"}, {\"NDVI\": 0.05329815303430079, \"Date\": \"2019-09-27T19:02:25.701000\"}, {\"NDVI\": 0.023169464660229833, \"Date\": \"2019-09-30T19:12:22.231000\"}, {\"NDVI\": -0.006959223713841126, \"Date\": \"2019-10-02T19:02:25.093000\"}, {\"NDVI\": -0.03708791208791209, \"Date\": \"2019-10-05T19:12:21.406000\"}, {\"NDVI\": -0.06622004612541268, \"Date\": \"2019-10-07T19:02:26.902000\"}, {\"NDVI\": -0.09535218016291327, \"Date\": \"2019-10-10T19:12:23.276000\"}, {\"NDVI\": -0.06939508702846549, \"Date\": \"2019-10-12T19:02:25.629000\"}, {\"NDVI\": -0.043437993894017694, \"Date\": \"2019-10-15T19:12:21.801000\"}, {\"NDVI\": -0.0174809007595699, \"Date\": \"2019-10-17T19:02:27.616000\"}, {\"NDVI\": 0.008476192374877886, \"Date\": \"2019-10-20T19:12:23.800000\"}, {\"NDVI\": 0.03443328550932568, \"Date\": \"2019-10-22T19:02:25.591000\"}, {\"NDVI\": -0.025688073394495414, \"Date\": \"2019-10-25T19:12:21.594000\"}, {\"NDVI\": -0.042105263157894736, \"Date\": \"2019-10-27T19:02:27.744000\"}, {\"NDVI\": -0.029177718832891247, \"Date\": \"2019-10-30T19:12:23.765000\"}, {\"NDVI\": -0.0008176614881439084, \"Date\": \"2019-11-01T19:02:24.981000\"}, {\"NDVI\": -0.07117852975495916, \"Date\": \"2019-11-04T19:12:20.760000\"}, {\"NDVI\": -0.05265411129386183, \"Date\": \"2019-11-06T19:02:27.221000\"}, {\"NDVI\": -0.034129692832764506, \"Date\": \"2019-11-09T19:12:23.061000\"}, {\"NDVI\": -0.05135202305169159, \"Date\": \"2019-11-11T19:02:23.715000\"}, {\"NDVI\": -0.06857435327061868, \"Date\": \"2019-11-14T19:12:19.328000\"}, {\"NDVI\": -0.08579668348954578, \"Date\": \"2019-11-16T19:02:26.120000\"}, {\"NDVI\": -0.05930760815403929, \"Date\": \"2019-11-19T19:12:21.738000\"}, {\"NDVI\": -0.032818532818532815, \"Date\": \"2019-11-21T19:02:21.790000\"}, {\"NDVI\": -0.04021022988912897, \"Date\": \"2019-11-24T19:12:17.221000\"}, {\"NDVI\": -0.04760192695972512, \"Date\": \"2019-11-26T19:02:24.362000\"}, {\"NDVI\": -0.05499362403032128, \"Date\": \"2019-11-29T19:12:19.807000\"}, {\"NDVI\": -0.062385321100917435, \"Date\": \"2019-12-01T19:02:19.244000\"}, {\"NDVI\": -0.06431634111481659, \"Date\": \"2019-12-04T19:12:14.505000\"}, {\"NDVI\": -0.06540542685179176, \"Date\": \"2019-12-06T19:02:21.933000\"}, {\"NDVI\": -0.06649451258876694, \"Date\": \"2019-12-09T19:12:17.213000\"}, {\"NDVI\": -0.04785970864508233, \"Date\": \"2019-12-11T19:02:18.795000\"}, {\"NDVI\": -0.029224904701397714, \"Date\": \"2019-12-14T19:12:15.168000\"}, {\"NDVI\": -0.08523206751054853, \"Date\": \"2019-12-16T19:02:18.944000\"}, {\"NDVI\": -0.04229654493738289, \"Date\": \"2019-12-19T19:12:14.532000\"}, {\"NDVI\": 0.0006389776357827476, \"Date\": \"2019-12-21T19:02:19.423000\"}, {\"NDVI\": -0.014053533222862295, \"Date\": \"2019-12-24T19:12:15.637000\"}, {\"NDVI\": -0.028746044081507337, \"Date\": \"2019-12-26T19:02:18.998000\"}, {\"NDVI\": -0.043438554940152384, \"Date\": \"2019-12-29T19:12:15.266000\"}, {\"NDVI\": -0.05813106579879743, \"Date\": \"2019-12-31T19:02:19.518000\"}, {\"NDVI\": -0.07282357665744246, \"Date\": \"2020-01-03T19:12:15.541000\"}, {\"NDVI\": -0.08751608751608751, \"Date\": \"2020-01-05T19:02:18.952000\"}, {\"NDVI\": -0.1098357822739448, \"Date\": \"2020-01-08T19:12:15.011000\"}, {\"NDVI\": -0.1321554770318021, \"Date\": \"2020-01-10T19:02:19.069000\"}, {\"NDVI\": -0.11345037541001059, \"Date\": \"2020-01-13T19:12:14.931000\"}, {\"NDVI\": -0.09474527378821906, \"Date\": \"2020-01-15T19:02:18.533000\"}, {\"NDVI\": -0.07604017216642754, \"Date\": \"2020-01-18T19:12:14.402000\"}, {\"NDVI\": -0.07660018386224703, \"Date\": \"2020-01-20T19:02:18.026000\"}, {\"NDVI\": -0.07716019555806652, \"Date\": \"2020-01-23T19:12:13.759000\"}, {\"NDVI\": -0.07772020725388601, \"Date\": \"2020-01-25T19:02:17.610000\"}, {\"NDVI\": -0.07238364143008139, \"Date\": \"2020-01-28T19:12:13.334000\"}, {\"NDVI\": -0.06704707560627675, \"Date\": \"2020-01-30T19:02:16.831000\"}, {\"NDVI\": -0.0761083068144409, \"Date\": \"2020-02-02T19:12:13.825000\"}, {\"NDVI\": -0.08516953802260507, \"Date\": \"2020-02-04T19:02:16.185000\"}, {\"NDVI\": -0.09423076923076923, \"Date\": \"2020-02-07T19:12:12.592000\"}, {\"NDVI\": -0.06278936580660718, \"Date\": \"2020-02-09T19:02:19.185000\"}, {\"NDVI\": -0.03134796238244514, \"Date\": \"2020-02-12T19:12:15.833000\"}, {\"NDVI\": -0.02421009437833402, \"Date\": \"2020-02-14T19:02:17.990000\"}, {\"NDVI\": -0.10727496917385944, \"Date\": \"2020-02-17T19:12:14.427000\"}, {\"NDVI\": 0.009622501850481125, \"Date\": \"2020-02-19T19:02:20.785000\"}, {\"NDVI\": -0.06005221932114883, \"Date\": \"2020-02-22T19:12:17.296000\"}, {\"NDVI\": -0.0164756446991404, \"Date\": \"2020-02-24T19:02:19.328000\"}, {\"NDVI\": -0.0042158516020236085, \"Date\": \"2020-02-27T19:12:15.771000\"}, {\"NDVI\": -0.4945810440805817, \"Date\": \"2020-02-29T19:02:21.861000\"}, {\"NDVI\": -0.9849462365591398, \"Date\": \"2020-03-03T19:12:18.190000\"}, {\"NDVI\": -0.01046337817638266, \"Date\": \"2020-03-05T19:02:20.280000\"}, {\"NDVI\": -0.03068893080840883, \"Date\": \"2020-03-08T19:12:16.590000\"}, {\"NDVI\": -0.050914483440435, \"Date\": \"2020-03-10T19:02:22.425000\"}, {\"NDVI\": -0.0006285355122564425, \"Date\": \"2020-03-13T19:12:18.590000\"}, {\"NDVI\": -0.005117640938899919, \"Date\": \"2020-03-15T19:02:20.728000\"}, {\"NDVI\": -0.009606746365543397, \"Date\": \"2020-03-18T19:12:16.881000\"}, {\"NDVI\": -0.014095851792186871, \"Date\": \"2020-03-20T19:02:22.449000\"}, {\"NDVI\": -0.010036978341257264, \"Date\": \"2020-03-23T19:12:18.482000\"}, {\"NDVI\": 0.023477337705560052, \"Date\": \"2020-03-25T19:02:20.700000\"}, {\"NDVI\": 0.05699165375237737, \"Date\": \"2020-03-28T19:12:16.677000\"}, {\"NDVI\": 0.09050596979919469, \"Date\": \"2020-03-30T19:02:21.960000\"}, {\"NDVI\": 0.12402028584601199, \"Date\": \"2020-04-02T19:12:17.829000\"}, {\"NDVI\": 0.044971967160771814, \"Date\": \"2020-04-04T19:02:20.966000\"}, {\"NDVI\": -0.034076351524468355, \"Date\": \"2020-04-07T19:12:18.016000\"}, {\"NDVI\": 0.02857142857142857, \"Date\": \"2020-04-09T19:02:20.965000\"}, {\"NDVI\": 0.02626756261453879, \"Date\": \"2020-04-12T19:12:16.663000\"}, {\"NDVI\": -0.049886621315192746, \"Date\": \"2020-04-14T19:02:23.850000\"}, {\"NDVI\": -0.004179985247110892, \"Date\": \"2020-04-17T19:12:20.728000\"}, {\"NDVI\": -0.008863819500402902, \"Date\": \"2020-04-19T19:02:19.406000\"}, {\"NDVI\": -0.01297469036644462, \"Date\": \"2020-04-22T19:12:09.862000\"}, {\"NDVI\": -0.01708556123248634, \"Date\": \"2020-04-22T19:12:16.506000\"}, {\"NDVI\": -0.021196432098528055, \"Date\": \"2020-04-24T19:02:26.273000\"}, {\"NDVI\": -0.025307302964569775, \"Date\": \"2020-04-27T19:12:22.984000\"}, {\"NDVI\": -0.003924791689595308, \"Date\": \"2020-04-29T19:02:20.367000\"}, {\"NDVI\": 0.01745771958537916, \"Date\": \"2020-05-02T19:12:17.226000\"}, {\"NDVI\": 0.0832316329021235, \"Date\": \"2020-05-04T19:02:28.123000\"}, {\"NDVI\": 0.055069480185280496, \"Date\": \"2020-05-07T19:12:24.691000\"}, {\"NDVI\": -0.005361930294906166, \"Date\": \"2020-05-09T19:02:22.692000\"}, {\"NDVI\": 0.013385816614923381, \"Date\": \"2020-05-12T19:12:19.389000\"}, {\"NDVI\": 0.032133563524752926, \"Date\": \"2020-05-14T19:02:29.472000\"}, {\"NDVI\": 0.05088131043458248, \"Date\": \"2020-05-17T19:12:25.875000\"}, {\"NDVI\": 0.06962905734441202, \"Date\": \"2020-05-19T19:02:24.500000\"}, {\"NDVI\": 0.08837680425424158, \"Date\": \"2020-05-22T19:12:21.072000\"}, {\"NDVI\": 0.06967599077960306, \"Date\": \"2020-05-24T19:02:30.365000\"}, {\"NDVI\": 0.050975177304964536, \"Date\": \"2020-05-27T19:12:26.624000\"}, {\"NDVI\": 0.04006080169897776, \"Date\": \"2020-05-29T19:02:25.832000\"}, {\"NDVI\": 0.02914642609299098, \"Date\": \"2020-06-01T19:12:22.239000\"}, {\"NDVI\": 0.023519535114089923, \"Date\": \"2020-06-03T19:02:30.751000\"}, {\"NDVI\": 0.017892644135188866, \"Date\": \"2020-06-06T19:12:26.884000\"}, {\"NDVI\": 0.017627791241877574, \"Date\": \"2020-06-08T19:02:26.677000\"}, {\"NDVI\": 0.01736293834856628, \"Date\": \"2020-06-11T19:12:22.926000\"}, {\"NDVI\": 0.017098085455254992, \"Date\": \"2020-06-13T19:02:30.653000\"}, {\"NDVI\": 0.0168332325619437, \"Date\": \"2020-06-16T19:12:26.637000\"}, {\"NDVI\": 0.016568379668632408, \"Date\": \"2020-06-18T19:02:27\"}, {\"NDVI\": 0.018408941485864562, \"Date\": \"2020-06-21T19:12:23.139000\"}, {\"NDVI\": 0.006665320137345991, \"Date\": \"2020-06-23T19:02:30.156000\"}, {\"NDVI\": -0.03778762930124551, \"Date\": \"2020-06-26T19:12:26.006000\"}, {\"NDVI\": 0.18833301139656172, \"Date\": \"2020-06-28T19:02:26.898000\"}, {\"NDVI\": -0.012809564474807857, \"Date\": \"2020-07-01T19:12:22.897000\"}, {\"NDVI\": -0.013546798029556651, \"Date\": \"2020-07-03T19:02:29.211000\"}, {\"NDVI\": -0.025409130060292853, \"Date\": \"2020-07-06T19:12:24.971000\"}, {\"NDVI\": -0.0005359056806002144, \"Date\": \"2020-07-08T19:02:26.394000\"}, {\"NDVI\": 0.006470165348670022, \"Date\": \"2020-07-11T19:12:22.257000\"}, {\"NDVI\": -0.015021459227467811, \"Date\": \"2020-07-13T19:02:28.949000\"}, {\"NDVI\": 0.02051860202931229, \"Date\": \"2020-07-16T19:12:25.364000\"}, {\"NDVI\": -0.02165944685104965, \"Date\": \"2020-07-18T19:02:25.961000\"}, {\"NDVI\": 0.003766478342749529, \"Date\": \"2020-07-21T19:12:22.467000\"}, {\"NDVI\": 0.049529780564263326, \"Date\": \"2020-07-23T19:02:29.879000\"}, {\"NDVI\": -0.024922118380062305, \"Date\": \"2020-07-26T19:12:26.158000\"}, {\"NDVI\": 0.10249720462169214, \"Date\": \"2020-07-28T19:02:27.055000\"}, {\"NDVI\": 0.01778975741239892, \"Date\": \"2020-07-31T19:12:23.424000\"}, {\"NDVI\": -0.008242664029014177, \"Date\": \"2020-08-02T19:02:30.365000\"}, {\"NDVI\": 0.04089039438664408, \"Date\": \"2020-08-05T19:12:26.543000\"}, {\"NDVI\": -0.016483516483516484, \"Date\": \"2020-08-07T19:02:27.756000\"}, {\"NDVI\": -0.05172413793103448, \"Date\": \"2020-08-10T19:12:23.976000\"}, {\"NDVI\": 0.13420089467263116, \"Date\": \"2020-08-12T19:02:30.406000\"}, {\"NDVI\": 0.035686777920410785, \"Date\": \"2020-08-15T19:12:26.437000\"}, {\"NDVI\": 0.00035497766648436707, \"Date\": \"2020-08-17T19:02:27.995000\"}, {\"NDVI\": -0.03497682258744206, \"Date\": \"2020-08-20T19:12:24.113000\"}, {\"NDVI\": 0.051907719609582965, \"Date\": \"2020-08-22T19:02:30.051000\"}, {\"NDVI\": 0.0632072867789125, \"Date\": \"2020-08-25T19:12:25.934000\"}, {\"NDVI\": -0.05971563981042654, \"Date\": \"2020-08-27T19:02:27.805000\"}, {\"NDVI\": -0.008, \"Date\": \"2020-08-30T19:12:23.795000\"}, {\"NDVI\": -0.03488655769699927, \"Date\": \"2020-09-01T19:02:29.252000\"}, {\"NDVI\": 0.05179501233214579, \"Date\": \"2020-09-04T19:12:25.023000\"}, {\"NDVI\": 0.009054325955734407, \"Date\": \"2020-09-06T19:02:27.223000\"}, {\"NDVI\": 0.015211267605633802, \"Date\": \"2020-09-09T19:12:23.042000\"}, {\"NDVI\": 0.04250120181096769, \"Date\": \"2020-09-11T19:02:28.295000\"}, {\"NDVI\": 0.06979113601630157, \"Date\": \"2020-09-14T19:12:24.806000\"}, {\"NDVI\": 0.027391487568478718, \"Date\": \"2020-09-16T19:02:26.156000\"}, {\"NDVI\": -0.05939524838012959, \"Date\": \"2020-09-19T19:12:22.506000\"}, {\"NDVI\": 0.024296675191815855, \"Date\": \"2020-09-21T19:02:29.486000\"}, {\"NDVI\": 0.00794646591384358, \"Date\": \"2020-09-24T19:12:25.834000\"}, {\"NDVI\": -0.03561808249646263, \"Date\": \"2020-09-26T19:02:27.245000\"}, {\"NDVI\": -0.07918263090676884, \"Date\": \"2020-09-29T19:12:23.660000\"}, {\"NDVI\": -0.005113221329437546, \"Date\": \"2020-10-01T19:02:30.183000\"}, {\"NDVI\": 0.06356198867212083, \"Date\": \"2020-10-04T19:12:26.374000\"}, {\"NDVI\": -0.04198210598761184, \"Date\": \"2020-10-06T19:02:28.063000\"}, {\"NDVI\": -0.01606425702811245, \"Date\": \"2020-10-09T19:12:24.258000\"}, {\"NDVI\": -0.022331269080548288, \"Date\": \"2020-10-11T19:02:30.266000\"}, {\"NDVI\": -0.028598281132984127, \"Date\": \"2020-10-14T19:12:26.305000\"}, {\"NDVI\": -0.03486529318541997, \"Date\": \"2020-10-16T19:02:28.214000\"}, {\"NDVI\": 0.02779984114376489, \"Date\": \"2020-10-19T19:12:24.250000\"}, {\"NDVI\": -0.0008264197202110142, \"Date\": \"2020-10-21T19:02:29.829000\"}, {\"NDVI\": -0.02945268058418692, \"Date\": \"2020-10-24T19:12:25.879000\"}, {\"NDVI\": -0.05807894144816282, \"Date\": \"2020-10-26T19:02:27.736000\"}, {\"NDVI\": -0.08670520231213873, \"Date\": \"2020-10-29T19:12:23.587000\"}, {\"NDVI\": -0.052075471698113204, \"Date\": \"2020-10-31T19:02:29.533000\"}, {\"NDVI\": -0.01995665476797552, \"Date\": \"2020-11-03T19:12:25.412000\"}, {\"NDVI\": 0.012162162162162163, \"Date\": \"2020-11-05T19:02:26.595000\"}, {\"NDVI\": 0.012162162162162163, \"Date\": \"2020-11-08T19:12:22.204000\"}]}}, {\"mode\": \"vega-lite\"});\n",
              "</script>"
            ]
          },
          "metadata": {
            "tags": []
          },
          "execution_count": 67
        }
      ]
    },
    {
      "cell_type": "markdown",
      "metadata": {
        "id": "9VpbOjh434zi"
      },
      "source": [
        "This is still pretty spikey.  Much this is probably due to clouds, haze, smoke, or fog in the atmosphere - or snow on the ground."
      ]
    },
    {
      "cell_type": "markdown",
      "metadata": {
        "id": "0Pf1xS_6Ee70"
      },
      "source": [
        "### Embed the chart onto the folium map\n",
        "\n",
        "This rendition of the data can be embedded on the map as a pop up for a point.\n"
      ]
    },
    {
      "cell_type": "code",
      "metadata": {
        "id": "17pFzkpiBAvP",
        "colab": {
          "base_uri": "https://localhost:8080/",
          "height": 621
        },
        "outputId": "80a3b71c-a10b-4495-fabb-c85cf6338238"
      },
      "source": [
        "chart = alt.Chart(df).mark_line().encode(y='NDVI', x='Date').properties(width=500, height=150)\n",
        "vis1 = chart.to_json()\n",
        "\n",
        "f = folium.Figure(width=800, height=600)\n",
        "# flip the point coordinate to be lat, long (y, x) for folium\n",
        "Map = geemap.Map(center=rnapoint[::-1], zoom= 11).add_to(f)\n",
        "#Map.addLayer(image, rgbParams, 'Before Natural Color')\n",
        "Map.addLayer(recentqa, rgbParams, 'Recent Natural Color')\n",
        "#Map.addLayer(recentndvi, ndviParams, 'NDVI recently')\n",
        "#Map.addLayer(sndvi, ndviParams, 'NDVI before')\n",
        "Map.addLayer(dif, difParams, 'dif')\n",
        "Map.addLayerControl()\n",
        "#folium.Marker(rnapoint[::-1], popup='<i>Research Natural Area</i>').add_to(Map)\n",
        "\n",
        "# create a marker, with altair graphic as popup\n",
        "circ_mkr = folium.CircleMarker(\n",
        "    location=rnapoint[::-1],\n",
        "    radius=10,\n",
        "    color='grey',\n",
        "    fill=True,\n",
        "    fill_color='red',\n",
        "    fillOpacity=1.0,\n",
        "    opacity=1.0,\n",
        "    tooltip='NDVI time series',\n",
        "    popup=folium.Popup().add_child(folium.VegaLite(vis1, width=600, height=200)),\n",
        ")\n",
        "\n",
        "# add to map\n",
        "circ_mkr.add_to(Map)\n",
        "\n",
        "#Map.save('testmap.html')\n",
        "f"
      ],
      "execution_count": 68,
      "outputs": [
        {
          "output_type": "execute_result",
          "data": {
            "text/html": [
              "<iframe src=\"about:blank\" width=\"800\" height=\"600\"style=\"border:none !important;\" data-html=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 onload=\"this.contentDocument.open();this.contentDocument.write(atob(this.getAttribute('data-html')));this.contentDocument.close();\" \"allowfullscreen\" \"webkitallowfullscreen\" \"mozallowfullscreen\"></iframe>"
            ],
            "text/plain": [
              "<branca.element.Figure at 0x7f973d221438>"
            ]
          },
          "metadata": {
            "tags": []
          },
          "execution_count": 68
        }
      ]
    },
    {
      "cell_type": "markdown",
      "metadata": {
        "id": "EB3CDijfCD0y"
      },
      "source": [
        "## Unsupervised image classification\n",
        "\n",
        "The image data can also be grouped into clusters based on the spectral similarity of the pixels. One way to do this is with  'Unsupervised Classification' - a common machine learning task.\n",
        "\n",
        "> https://developers.google.com/earth-engine/guides/clustering\n",
        "\n",
        "We will focus the sampling to build the spectral signatures used by the classifier on an area around the Holiday Farm fire of September 2020."
      ]
    },
    {
      "cell_type": "markdown",
      "metadata": {
        "id": "12H1mpC_ClrU"
      },
      "source": [
        "### Classify the Data\n",
        "\n"
      ]
    },
    {
      "cell_type": "code",
      "metadata": {
        "id": "G0KGF_7AbJ8y"
      },
      "source": [
        "# Define a region in which to generate a sample of the input.\n",
        "region = ee.Geometry.Rectangle([-121, 44, -122, 45])\n",
        "\n",
        "# Make the training dataset.\n",
        "#training = recentqa.sample(**{'numPixels':3000})\n",
        "training = recentqa.sample(**{'region': region, 'scale': 10, 'numPixels':2000})\n",
        "\n",
        "# Instantiate the clusterer and train it to identify 5 classes based on the samples.\n",
        "clusterer = ee.Clusterer.wekaKMeans(5).train(training);\n",
        "\n",
        "# Cluster the input using the trained clusterer.\n",
        "result = recentqa.cluster(clusterer);"
      ],
      "execution_count": 90,
      "outputs": []
    },
    {
      "cell_type": "markdown",
      "metadata": {
        "id": "A5u8v5PYEC-o"
      },
      "source": [
        "### Look at the resulting clusters"
      ]
    },
    {
      "cell_type": "code",
      "metadata": {
        "id": "R2WoCq9pFyvm",
        "colab": {
          "base_uri": "https://localhost:8080/",
          "height": 621
        },
        "outputId": "3c3fba0c-a43f-4108-f684-2db95473e997"
      },
      "source": [
        "f = folium.Figure(width=800, height=600)\n",
        "# flip the point coordinate to be lat, long (y, x) for folium\n",
        "Map = geemap.Map(center=rnapoint[::-1], zoom= 11).add_to(f)\n",
        "\n",
        "#Map.addLayer(image, rgbParams, 'Before Natural Color')\n",
        "Map.addLayer(recentqa, rgbParams, 'Recent Natural Color')\n",
        "#Map.addLayer(recentndvi, ndviParams, 'NDVI recently')\n",
        "Map.addLayer(result.randomVisualizer(),{}, 'Cluster')\n",
        "#Map.addLayer(region, {}, 'Polygon')\n",
        "Map.addLayerControl()\n",
        "f"
      ],
      "execution_count": 91,
      "outputs": [
        {
          "output_type": "execute_result",
          "data": {
            "text/html": [
              "<iframe src=\"about:blank\" width=\"800\" height=\"600\"style=\"border:none !important;\" data-html=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 onload=\"this.contentDocument.open();this.contentDocument.write(atob(this.getAttribute('data-html')));this.contentDocument.close();\" \"allowfullscreen\" \"webkitallowfullscreen\" \"mozallowfullscreen\"></iframe>"
            ],
            "text/plain": [
              "<branca.element.Figure at 0x7f9731dd8630>"
            ]
          },
          "metadata": {
            "tags": []
          },
          "execution_count": 91
        }
      ]
    },
    {
      "cell_type": "markdown",
      "metadata": {
        "id": "EB11GyZgV7zl"
      },
      "source": [
        "### Compare the clusters with the difference image"
      ]
    },
    {
      "cell_type": "code",
      "metadata": {
        "id": "TgWbzCoukdjO",
        "colab": {
          "base_uri": "https://localhost:8080/",
          "height": 621
        },
        "outputId": "c1b3e5b8-2bcc-48f7-bf87-dcd077a135ac"
      },
      "source": [
        "f = folium.Figure(width=800, height=600)\n",
        "# flip the point coordinate to be lat, long (y, x) for folium\n",
        "Map = geemap.Map(center=rnapoint[::-1], zoom= 11).add_to(f)\n",
        "#Map.addLayer(image, rgbParams, 'Before Natural Color')\n",
        "Map.addLayer(recentqa, rgbParams, 'Recent Natural Color')\n",
        "#Map.addLayer(recentndvi, ndviParams, 'NDVI recently')\n",
        "Map.addLayer(result.randomVisualizer(),{}, 'Cluster')\n",
        "Map.addLayer(dif, difParams, 'dif')\n",
        "Map.addLayerControl()\n",
        "\n",
        "#Map.save('testmap.html')\n",
        "f"
      ],
      "execution_count": 92,
      "outputs": [
        {
          "output_type": "execute_result",
          "data": {
            "text/html": [
              "<iframe src=\"about:blank\" width=\"800\" height=\"600\"style=\"border:none !important;\" data-html=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 onload=\"this.contentDocument.open();this.contentDocument.write(atob(this.getAttribute('data-html')));this.contentDocument.close();\" \"allowfullscreen\" \"webkitallowfullscreen\" \"mozallowfullscreen\"></iframe>"
            ],
            "text/plain": [
              "<branca.element.Figure at 0x7f973d321160>"
            ]
          },
          "metadata": {
            "tags": []
          },
          "execution_count": 92
        }
      ]
    },
    {
      "cell_type": "markdown",
      "metadata": {
        "id": "CJdY4_Apk4cf"
      },
      "source": [
        "### Apply the same cluster groups to the older image\n",
        "\n",
        " Just for fun, the statistical clusters (training dataset) created from the first image (the 2020 image) can be applied to the older image."
      ]
    },
    {
      "cell_type": "code",
      "metadata": {
        "id": "bhq8Z5dooKU2"
      },
      "source": [
        "# Cluster the older data using the trained clusterer.\n",
        "resultOld = image.cluster(clusterer);"
      ],
      "execution_count": 93,
      "outputs": []
    },
    {
      "cell_type": "code",
      "metadata": {
        "id": "nKuQ6ZRAZod-",
        "colab": {
          "base_uri": "https://localhost:8080/",
          "height": 621
        },
        "outputId": "3b3ba125-3bd6-42d9-9ec5-a4f28ce5de9a"
      },
      "source": [
        "f = folium.Figure(width=800, height=600)\n",
        "# flip the point coordinate to be lat, long (y, x) for folium\n",
        "Map = geemap.Map(center=rnapoint[::-1], zoom= 11).add_to(f)\n",
        "Map.addLayer(image, rgbParams, 'Before Natural Color')\n",
        "Map.addLayer(recentqa, rgbParams, 'Recent Natural Color')\n",
        "#Map.addLayer(recentndvi, ndviParams, 'NDVI recently')\n",
        "Map.addLayer(result.randomVisualizer(),{}, 'Cluster')\n",
        "Map.addLayer(resultOld.randomVisualizer(),{}, 'ClusterOld')\n",
        "\n",
        "Map.addLayerControl()\n",
        "\n",
        "f"
      ],
      "execution_count": 94,
      "outputs": [
        {
          "output_type": "execute_result",
          "data": {
            "text/html": [
              "<iframe src=\"about:blank\" width=\"800\" height=\"600\"style=\"border:none !important;\" data-html=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 onload=\"this.contentDocument.open();this.contentDocument.write(atob(this.getAttribute('data-html')));this.contentDocument.close();\" \"allowfullscreen\" \"webkitallowfullscreen\" \"mozallowfullscreen\"></iframe>"
            ],
            "text/plain": [
              "<branca.element.Figure at 0x7f973d5e2be0>"
            ]
          },
          "metadata": {
            "tags": []
          },
          "execution_count": 94
        }
      ]
    },
    {
      "cell_type": "markdown",
      "metadata": {
        "id": "lj4N8BagZu-6"
      },
      "source": [
        "A difference image between the two classified images can show where the classes have changed."
      ]
    },
    {
      "cell_type": "code",
      "metadata": {
        "id": "kEcYxxrTqc-Z"
      },
      "source": [
        "# calculate the difference\n",
        "difclass = image.expression('recentclass == oldclass', {'recentclass': result, 'oldclass': resultOld})\n",
        "# set colors for difference image: red = expression not true (there is a difference)\n",
        "difcParams = {'min':0, 'max': 1, 'palette': ['red', 'grey']}"
      ],
      "execution_count": 95,
      "outputs": []
    },
    {
      "cell_type": "markdown",
      "metadata": {
        "id": "Q841UUWpHJVa"
      },
      "source": [
        "### Look at the where the clusters are different\n",
        "\n",
        "Visualize the result, with red showing areas of difference and grey for unchanged areas."
      ]
    },
    {
      "cell_type": "code",
      "metadata": {
        "id": "G4bWQ5jzqU-j",
        "colab": {
          "base_uri": "https://localhost:8080/",
          "height": 621
        },
        "outputId": "08770437-5102-46f8-9b4c-4940c5ab9e6b"
      },
      "source": [
        "f = folium.Figure(width=800, height=600)\n",
        "# flip the point coordinate to be lat, long (y, x) for folium\n",
        "Map = geemap.Map(center=rnapoint[::-1], zoom= 11).add_to(f)\n",
        "Map.addLayer(image, rgbParams, 'Before Natural Color')\n",
        "Map.addLayer(recentqa, rgbParams, 'Recent Natural Color')\n",
        "#Map.addLayer(recentndvi, ndviParams, 'NDVI recently')\n",
        "Map.addLayer(result.randomVisualizer(),{}, 'Cluster')\n",
        "Map.addLayer(resultOld.randomVisualizer(),{}, 'ClusterOld')\n",
        "Map.addLayer(dif, difParams, 'NDVI difference')\n",
        "Map.addLayer(difclass, difcParams, 'Cluster Difference')\n",
        "Map.addLayerControl()\n",
        "\n",
        "f"
      ],
      "execution_count": 96,
      "outputs": [
        {
          "output_type": "execute_result",
          "data": {
            "text/html": [
              "<iframe src=\"about:blank\" width=\"800\" height=\"600\"style=\"border:none !important;\" data-html=PCFET0NUWVBFIGh0bWw+CjxoZWFkPiAgICAKICAgIDxtZXRhIGh0dHAtZXF1aXY9ImNvbnRlbnQtdHlwZSIgY29udGVudD0idGV4dC9odG1sOyBjaGFyc2V0PVVURi04IiAvPgogICAgCiAgICAgICAgPHNjcmlwdD4KICAgICAgICAgICAgTF9OT19UT1VDSCA9IGZhbHNlOwogICAgICAgICAgICBMX0RJU0FCTEVfM0QgPSBmYWxzZTsKICAgICAgICA8L3NjcmlwdD4KICAgIAogICAgPHNjcmlwdCBzcmM9Imh0dHBzOi8vY2RuLmpzZGVsaXZyLm5ldC9ucG0vbGVhZmxldEAxLjYuMC9kaXN0L2xlYWZsZXQuanMiPjwvc2NyaXB0PgogICAgPHNjcmlwdCBzcmM9Imh0dHBzOi8vY29kZS5qcXVlcnkuY29tL2pxdWVyeS0xLjEyLjQubWluLmpzIj48L3NjcmlwdD4KICAgIDxzY3JpcHQgc3JjPSJodHRwczovL21heGNkbi5ib290c3RyYXBjZG4uY29tL2Jvb3RzdHJhcC8zLjIuMC9qcy9ib290c3RyYXAubWluLmpzIj48L3NjcmlwdD4KICAgIDxzY3JpcHQgc3JjPSJodHRwczovL2NkbmpzLmNsb3VkZmxhcmUuY29tL2FqYXgvbGlicy9MZWFmbGV0LmF3ZXNvbWUtbWFya2Vycy8yLjAuMi9sZWFmbGV0LmF3ZXNvbWUtbWFya2Vycy5qcyI+PC9zY3JpcHQ+CiAgICA8bGluayByZWw9InN0eWxlc2hlZXQiIGhyZWY9Imh0dHBzOi8vY2RuLmpzZGVsaXZyLm5ldC9ucG0vbGVhZmxldEAxLjYuMC9kaXN0L2xlYWZsZXQuY3NzIi8+CiAgICA8bGluayByZWw9InN0eWxlc2hlZXQiIGhyZWY9Imh0dHBzOi8vbWF4Y2RuLmJvb3RzdHJhcGNkbi5jb20vYm9vdHN0cmFwLzMuMi4wL2Nzcy9ib290c3RyYXAubWluLmNzcyIvPgogICAgPGxpbmsgcmVsPSJzdHlsZXNoZWV0IiBocmVmPSJodHRwczovL21heGNkbi5ib290c3RyYXBjZG4uY29tL2Jvb3RzdHJhcC8zLjIuMC9jc3MvYm9vdHN0cmFwLXRoZW1lLm1pbi5jc3MiLz4KICAgIDxsaW5rIHJlbD0ic3R5bGVzaGVldCIgaHJlZj0iaHR0cHM6Ly9tYXhjZG4uYm9vdHN0cmFwY2RuLmNvbS9mb250LWF3ZXNvbWUvNC42LjMvY3NzL2ZvbnQtYXdlc29tZS5taW4uY3NzIi8+CiAgICA8bGluayByZWw9InN0eWxlc2hlZXQiIGhyZWY9Imh0dHBzOi8vY2RuanMuY2xvdWRmbGFyZS5jb20vYWpheC9saWJzL0xlYWZsZXQuYXdlc29tZS1tYXJrZXJzLzIuMC4yL2xlYWZsZXQuYXdlc29tZS1tYXJrZXJzLmNzcyIvPgogICAgPGxpbmsgcmVsPSJzdHlsZXNoZWV0IiBocmVmPSJodHRwczovL3Jhd2Nkbi5naXRoYWNrLmNvbS9weXRob24tdmlzdWFsaXphdGlvbi9mb2xpdW0vbWFzdGVyL2ZvbGl1bS90ZW1wbGF0ZXMvbGVhZmxldC5hd2Vzb21lLnJvdGF0ZS5jc3MiLz4KICAgIDxzdHlsZT5odG1sLCBib2R5IHt3aWR0aDogMTAwJTtoZWlnaHQ6IDEwMCU7bWFyZ2luOiAwO3BhZGRpbmc6IDA7fTwvc3R5bGU+CiAgICA8c3R5bGU+I21hcCB7cG9zaXRpb246YWJzb2x1dGU7dG9wOjA7Ym90dG9tOjA7cmlnaHQ6MDtsZWZ0OjA7fTwvc3R5bGU+CiAgICAKICAgICAgICAgICAgPG1ldGEgbmFtZT0idmlld3BvcnQiIGNvbnRlbnQ9IndpZHRoPWRldmljZS13aWR0aCwKICAgICAgICAgICAgICAgIGluaXRpYWwtc2NhbGU9MS4wLCBtYXhpbXVtLXNjYWxlPTEuMCwgdXNlci1zY2FsYWJsZT1ubyIgLz4KICAgICAgICAgICAgPHN0eWxlPgogICAgICAgICAgICAgICAgI21hcF9lYzRmZWQ2ZGRlYzY0NjUyYTJlMDdhMjY5NjAyMGQyYSB7CiAgICAgICAgICAgICAgICAgICAgcG9zaXRpb246IHJlbGF0aXZlOwogICAgICAgICAgICAgICAgICAgIHdpZHRoOiAxMDAuMCU7CiAgICAgICAgICAgICAgICAgICAgaGVpZ2h0OiAxMDAuMCU7CiAgICAgICAgICAgICAgICAgICAgbGVmdDogMC4wJTsKICAgICAgICAgICAgICAgICAgICB0b3A6IDAuMCU7CiAgICAgICAgICAgICAgICB9CiAgICAgICAgICAgIDwvc3R5bGU+CiAgICAgICAgCiAgICA8c2NyaXB0IHNyYz0iaHR0cHM6Ly9jZG5qcy5jbG91ZGZsYXJlLmNvbS9hamF4L2xpYnMvbGVhZmxldC5mdWxsc2NyZWVuLzEuNC4yL0NvbnRyb2wuRnVsbFNjcmVlbi5taW4uanMiPjwvc2NyaXB0PgogICAgPGxpbmsgcmVsPSJzdHlsZXNoZWV0IiBocmVmPSJodHRwczovL2NkbmpzLmNsb3VkZmxhcmUuY29tL2FqYXgvbGlicy9sZWFmbGV0LmZ1bGxzY3JlZW4vMS40LjIvQ29udHJvbC5GdWxsU2NyZWVuLm1pbi5jc3MiLz4KPC9oZWFkPgo8Ym9keT4gICAgCiAgICAKICAgICAgICAgICAgPGRpdiBjbGFzcz0iZm9saXVtLW1hcCIgaWQ9Im1hcF9lYzRmZWQ2ZGRlYzY0NjUyYTJlMDdhMjY5NjAyMGQyYSIgPjwvZGl2PgogICAgICAgIAo8L2JvZHk+CjxzY3JpcHQ+ICAgIAogICAgCiAgICAgICAgICAgIHZhciBtYXBfZWM0ZmVkNmRkZWM2NDY1MmEyZTA3YTI2OTYwMjBkMmEgPSBMLm1hcCgKICAgICAgICAgICAgICAgICJtYXBfZWM0ZmVkNmRkZWM2NDY1MmEyZTA3YTI2OTYwMjBkMmEiLAogICAgICAgICAgICAgICAgewogICAgICAgICAgICAgICAgICAgIGNlbnRlcjogWzQ0LjA5MTYsIC0xMjEuMjYxMV0sCiAgICAgICAgICAgICAgICAgICAgY3JzOiBMLkNSUy5FUFNHMzg1NywKICAgICAgICAgICAgICAgICAgICB6b29tOiAxMSwKICAgICAgICAgICAgICAgICAgICB6b29tQ29udHJvbDogdHJ1ZSwKICAgICAgICAgICAgICAgICAgICBwcmVmZXJDYW52YXM6IGZhbHNlLAogICAgICAgICAgICAgICAgICAgIHVzZUVlOiB0cnVlLAogICAgICAgICAgICAgICAgICAgIGVlSW5pdGlhbGl6ZTogdHJ1ZSwKICAgICAgICAgICAgICAgICAgICBhZGRHb29nbGVNYXA6IHRydWUsCiAgICAgICAgICAgICAgICAgICAgcGx1Z2luTGF0bG5ncG9wdXA6IHRydWUsCiAgICAgICAgICAgICAgICAgICAgcGx1Z2luRnVsbHNjcmVlbjogdHJ1ZSwKICAgICAgICAgICAgICAgICAgICBwbHVnaW5EcmF3OiBmYWxzZSwKICAgICAgICAgICAgICAgICAgICBEcmF3RXhwb3J0OiB0cnVlLAogICAgICAgICAgICAgICAgICAgIHBsdWdpbk1pbmltYXA6IGZhbHNlLAogICAgICAgICAgICAgICAgICAgIHBsdWdpbkxheWVyY29udHJvbDogZmFsc2UsCiAgICAgICAgICAgICAgICB9CiAgICAgICAgICAgICk7CgogICAgICAgICAgICAKCiAgICAgICAgCiAgICAKICAgICAgICAgICAgdmFyIHRpbGVfbGF5ZXJfNjhmNGUzNDYxMGVhNGI0ZWI3MjE3Mjc2MWRiZDA1NTAgPSBMLnRpbGVMYXllcigKICAgICAgICAgICAgICAgICJodHRwczovL3tzfS50aWxlLm9wZW5zdHJlZXRtYXAub3JnL3t6fS97eH0ve3l9LnBuZyIsCiAgICAgICAgICAgICAgICB7ImF0dHJpYnV0aW9uIjogIkRhdGEgYnkgXHUwMDI2Y29weTsgXHUwMDNjYSBocmVmPVwiaHR0cDovL29wZW5zdHJlZXRtYXAub3JnXCJcdTAwM2VPcGVuU3RyZWV0TWFwXHUwMDNjL2FcdTAwM2UsIHVuZGVyIFx1MDAzY2EgaHJlZj1cImh0dHA6Ly93d3cub3BlbnN0cmVldG1hcC5vcmcvY29weXJpZ2h0XCJcdTAwM2VPRGJMXHUwMDNjL2FcdTAwM2UuIiwgImRldGVjdFJldGluYSI6IGZhbHNlLCAibWF4TmF0aXZlWm9vbSI6IDE4LCAibWF4Wm9vbSI6IDE4LCAibWluWm9vbSI6IDAsICJub1dyYXAiOiBmYWxzZSwgIm9wYWNpdHkiOiAxLCAic3ViZG9tYWlucyI6ICJhYmMiLCAidG1zIjogZmFsc2V9CiAgICAgICAgICAgICkuYWRkVG8obWFwX2VjNGZlZDZkZGVjNjQ2NTJhMmUwN2EyNjk2MDIwZDJhKTsKICAgICAgICAKICAgIAogICAgICAgICAgICB2YXIgdGlsZV9sYXllcl80ZGNhNTM4ODdlYTQ0Y2Y3OTFhODc3NzZmNjhiNGVmNSA9IEwudGlsZUxheWVyKAogICAgICAgICAgICAgICAgImh0dHBzOi8vbXQxLmdvb2dsZS5jb20vdnQvbHlycz1tXHUwMDI2eD17eH1cdTAwMjZ5PXt5fVx1MDAyNno9e3p9IiwKICAgICAgICAgICAgICAgIHsiYXR0cmlidXRpb24iOiAiR29vZ2xlIiwgImRldGVjdFJldGluYSI6IGZhbHNlLCAibWF4TmF0aXZlWm9vbSI6IDE4LCAibWF4Wm9vbSI6IDE4LCAibWluWm9vbSI6IDAsICJub1dyYXAiOiBmYWxzZSwgIm9wYWNpdHkiOiAxLCAic3ViZG9tYWlucyI6ICJhYmMiLCAidG1zIjogZmFsc2V9CiAgICAgICAgICAgICkuYWRkVG8obWFwX2VjNGZlZDZkZGVjNjQ2NTJhMmUwN2EyNjk2MDIwZDJhKTsKICAgICAgICAKICAgIAogICAgICAgICAgICAgICAgdmFyIGxhdF9sbmdfcG9wdXBfMGFmYjZhOWNjNTdlNDc5N2FmYWZlZDgxNTZmYjk0NjkgPSBMLnBvcHVwKCk7CiAgICAgICAgICAgICAgICBmdW5jdGlvbiBsYXRMbmdQb3AoZSkgewogICAgICAgICAgICAgICAgICAgIGxhdF9sbmdfcG9wdXBfMGFmYjZhOWNjNTdlNDc5N2FmYWZlZDgxNTZmYjk0NjkKICAgICAgICAgICAgICAgICAgICAgICAgLnNldExhdExuZyhlLmxhdGxuZykKICAgICAgICAgICAgICAgICAgICAgICAgLnNldENvbnRlbnQoIkxhdGl0dWRlOiAiICsgZS5sYXRsbmcubGF0LnRvRml4ZWQoNCkgKwogICAgICAgICAgICAgICAgICAgICAgICAgICAgICAgICAgICAiPGJyPkxvbmdpdHVkZTogIiArIGUubGF0bG5nLmxuZy50b0ZpeGVkKDQpKQogICAgICAgICAgICAgICAgICAgICAgICAub3Blbk9uKG1hcF9lYzRmZWQ2ZGRlYzY0NjUyYTJlMDdhMjY5NjAyMGQyYSk7CiAgICAgICAgICAgICAgICAgICAgfQogICAgICAgICAgICAgICAgbWFwX2VjNGZlZDZkZGVjNjQ2NTJhMmUwN2EyNjk2MDIwZDJhLm9uKCdjbGljaycsIGxhdExuZ1BvcCk7CiAgICAgICAgICAgIAogICAgCiAgICAgICAgICAgIEwuY29udHJvbC5mdWxsc2NyZWVuKAogICAgICAgICAgICAgICAgeyJmb3JjZVNlcGFyYXRlQnV0dG9uIjogZmFsc2UsICJwb3NpdGlvbiI6ICJ0b3BsZWZ0IiwgInRpdGxlIjogIkZ1bGwgU2NyZWVuIiwgInRpdGxlQ2FuY2VsIjogIkV4aXQgRnVsbCBTY3JlZW4ifQogICAgICAgICAgICApLmFkZFRvKG1hcF9lYzRmZWQ2ZGRlYzY0NjUyYTJlMDdhMjY5NjAyMGQyYSk7CiAgICAgICAgCiAgICAKICAgICAgICAgICAgbWFwX2VjNGZlZDZkZGVjNjQ2NTJhMmUwN2EyNjk2MDIwZDJhLmZpdEJvdW5kcygKICAgICAgICAgICAgICAgIFtbNDQuMDkxNiwgLTEyMS4yNjExXSwgWzQ0LjA5MTYsIC0xMjEuMjYxMV1dLAogICAgICAgICAgICAgICAgeyJtYXhab29tIjogMTF9CiAgICAgICAgICAgICk7CiAgICAgICAgCiAgICAKICAgICAgICAgICAgdmFyIHRpbGVfbGF5ZXJfYzk4ZGVlYjZhM2VlNGVjODgxZTgxY2EzMWI5N2UwYTggPSBMLnRpbGVMYXllcigKICAgICAgICAgICAgICAgICJodHRwczovL2VhcnRoZW5naW5lLmdvb2dsZWFwaXMuY29tL3YxYWxwaGEvcHJvamVjdHMvZWFydGhlbmdpbmUtbGVnYWN5L21hcHMvMmQ0ODA0YTUxY2IyNmNiZTAyYzMzOWFiMGFkNjkwNTQtNjcwMjg5ODkzYTEzZTU5YTdhMTY3YWYzZWUyYTk2ZjYvdGlsZXMve3p9L3t4fS97eX0iLAogICAgICAgICAgICAgICAgeyJhdHRyaWJ1dGlvbiI6ICJHb29nbGUgRWFydGggRW5naW5lIiwgImRldGVjdFJldGluYSI6IGZhbHNlLCAibWF4TmF0aXZlWm9vbSI6IDE4LCAibWF4Wm9vbSI6IDE4LCAibWluWm9vbSI6IDAsICJub1dyYXAiOiBmYWxzZSwgIm9wYWNpdHkiOiAxLjAsICJzdWJkb21haW5zIjogImFiYyIsICJ0bXMiOiBmYWxzZX0KICAgICAgICAgICAgKS5hZGRUbyhtYXBfZWM0ZmVkNmRkZWM2NDY1MmEyZTA3YTI2OTYwMjBkMmEpOwogICAgICAgIAogICAgCiAgICAgICAgICAgIHZhciB0aWxlX2xheWVyXzk5M2M0YjEwMzIxNTRhODM4YTNmNDc3NGJmMDk1MjEyID0gTC50aWxlTGF5ZXIoCiAgICAgICAgICAgICAgICAiaHR0cHM6Ly9lYXJ0aGVuZ2luZS5nb29nbGVhcGlzLmNvbS92MWFscGhhL3Byb2plY3RzL2VhcnRoZW5naW5lLWxlZ2FjeS9tYXBzLzFkMDcwYjNhNjdlZTA1NDNjN2IyZmEwNzk3NmY0MzM4LTYwYTU5YWY0ZjFmZjMzNWIxZDY5N2QyMzIzMzdhNTVhL3RpbGVzL3t6fS97eH0ve3l9IiwKICAgICAgICAgICAgICAgIHsiYXR0cmlidXRpb24iOiAiR29vZ2xlIEVhcnRoIEVuZ2luZSIsICJkZXRlY3RSZXRpbmEiOiBmYWxzZSwgIm1heE5hdGl2ZVpvb20iOiAxOCwgIm1heFpvb20iOiAxOCwgIm1pblpvb20iOiAwLCAibm9XcmFwIjogZmFsc2UsICJvcGFjaXR5IjogMS4wLCAic3ViZG9tYWlucyI6ICJhYmMiLCAidG1zIjogZmFsc2V9CiAgICAgICAgICAgICkuYWRkVG8obWFwX2VjNGZlZDZkZGVjNjQ2NTJhMmUwN2EyNjk2MDIwZDJhKTsKICAgICAgICAKICAgIAogICAgICAgICAgICB2YXIgdGlsZV9sYXllcl83NGEwZjRjOWE5Y2Q0ZTFiYmQwYTE5NWY4YTdmNjhhNSA9IEwudGlsZUxheWVyKAogICAgICAgICAgICAgICAgImh0dHBzOi8vZWFydGhlbmdpbmUuZ29vZ2xlYXBpcy5jb20vdjFhbHBoYS9wcm9qZWN0cy9lYXJ0aGVuZ2luZS1sZWdhY3kvbWFwcy84YTA3NTJjNDAwMGU5MDY2ZjZmOTI0MDA0YTE1ZDUyZS0xMzgwNDczZDUyNGMzYmRiMzM0MjI3MTFhMWMyODcxNS90aWxlcy97en0ve3h9L3t5fSIsCiAgICAgICAgICAgICAgICB7ImF0dHJpYnV0aW9uIjogIkdvb2dsZSBFYXJ0aCBFbmdpbmUiLCAiZGV0ZWN0UmV0aW5hIjogZmFsc2UsICJtYXhOYXRpdmVab29tIjogMTgsICJtYXhab29tIjogMTgsICJtaW5ab29tIjogMCwgIm5vV3JhcCI6IGZhbHNlLCAib3BhY2l0eSI6IDEuMCwgInN1YmRvbWFpbnMiOiAiYWJjIiwgInRtcyI6IGZhbHNlfQogICAgICAgICAgICApLmFkZFRvKG1hcF9lYzRmZWQ2ZGRlYzY0NjUyYTJlMDdhMjY5NjAyMGQyYSk7CiAgICAgICAgCiAgICAKICAgICAgICAgICAgdmFyIHRpbGVfbGF5ZXJfZTM1N2ExOWM2NzUxNGY5MWE3NWM1OTA5YjRjMGE1NTYgPSBMLnRpbGVMYXllcigKICAgICAgICAgICAgICAgICJodHRwczovL2VhcnRoZW5naW5lLmdvb2dsZWFwaXMuY29tL3YxYWxwaGEvcHJvamVjdHMvZWFydGhlbmdpbmUtbGVnYWN5L21hcHMvYTgyNGExYWY3MWViYTE1YmQ4OTFmYjg2MzcxMzYyN2YtN2I0MDJmMGM4N2M2MmZhYzc3YWFkM2UwNDgwOWFhZWIvdGlsZXMve3p9L3t4fS97eX0iLAogICAgICAgICAgICAgICAgeyJhdHRyaWJ1dGlvbiI6ICJHb29nbGUgRWFydGggRW5naW5lIiwgImRldGVjdFJldGluYSI6IGZhbHNlLCAibWF4TmF0aXZlWm9vbSI6IDE4LCAibWF4Wm9vbSI6IDE4LCAibWluWm9vbSI6IDAsICJub1dyYXAiOiBmYWxzZSwgIm9wYWNpdHkiOiAxLjAsICJzdWJkb21haW5zIjogImFiYyIsICJ0bXMiOiBmYWxzZX0KICAgICAgICAgICAgKS5hZGRUbyhtYXBfZWM0ZmVkNmRkZWM2NDY1MmEyZTA3YTI2OTYwMjBkMmEpOwogICAgICAgIAogICAgCiAgICAgICAgICAgIHZhciB0aWxlX2xheWVyXzVjYWZjMWYwZjdjZTQ1OGM5YzhiYWM2ZTk4MWIxODhiID0gTC50aWxlTGF5ZXIoCiAgICAgICAgICAgICAgICAiaHR0cHM6Ly9lYXJ0aGVuZ2luZS5nb29nbGVhcGlzLmNvbS92MWFscGhhL3Byb2plY3RzL2VhcnRoZW5naW5lLWxlZ2FjeS9tYXBzLzI0MzdiZGNiMGI3N2Y0MGJjOTNlZWU5YWI3MjdmOGZhLTBjYzc5YWFhOGY3NTczOTRlNTAxMDFlNTFkZWFhMjQ4L3RpbGVzL3t6fS97eH0ve3l9IiwKICAgICAgICAgICAgICAgIHsiYXR0cmlidXRpb24iOiAiR29vZ2xlIEVhcnRoIEVuZ2luZSIsICJkZXRlY3RSZXRpbmEiOiBmYWxzZSwgIm1heE5hdGl2ZVpvb20iOiAxOCwgIm1heFpvb20iOiAxOCwgIm1pblpvb20iOiAwLCAibm9XcmFwIjogZmFsc2UsICJvcGFjaXR5IjogMS4wLCAic3ViZG9tYWlucyI6ICJhYmMiLCAidG1zIjogZmFsc2V9CiAgICAgICAgICAgICkuYWRkVG8obWFwX2VjNGZlZDZkZGVjNjQ2NTJhMmUwN2EyNjk2MDIwZDJhKTsKICAgICAgICAKICAgIAogICAgICAgICAgICB2YXIgdGlsZV9sYXllcl9lYzhjZDI3MDBjYTU0NzRkOTBiMmQwNjM0ZDdjNDNkZCA9IEwudGlsZUxheWVyKAogICAgICAgICAgICAgICAgImh0dHBzOi8vZWFydGhlbmdpbmUuZ29vZ2xlYXBpcy5jb20vdjFhbHBoYS9wcm9qZWN0cy9lYXJ0aGVuZ2luZS1sZWdhY3kvbWFwcy80ZWRlODkxMDczMjA0MGM0NThjMDBlYWVmZjg1ZTAxYi03ODkxODdjNGIyNTY4NzEyZWI1YTI2ZGQ2OTdlOTYyYS90aWxlcy97en0ve3h9L3t5fSIsCiAgICAgICAgICAgICAgICB7ImF0dHJpYnV0aW9uIjogIkdvb2dsZSBFYXJ0aCBFbmdpbmUiLCAiZGV0ZWN0UmV0aW5hIjogZmFsc2UsICJtYXhOYXRpdmVab29tIjogMTgsICJtYXhab29tIjogMTgsICJtaW5ab29tIjogMCwgIm5vV3JhcCI6IGZhbHNlLCAib3BhY2l0eSI6IDEuMCwgInN1YmRvbWFpbnMiOiAiYWJjIiwgInRtcyI6IGZhbHNlfQogICAgICAgICAgICApLmFkZFRvKG1hcF9lYzRmZWQ2ZGRlYzY0NjUyYTJlMDdhMjY5NjAyMGQyYSk7CiAgICAgICAgCiAgICAKICAgICAgICAgICAgdmFyIGxheWVyX2NvbnRyb2xfMTU0MTBlNmE5YWJiNDlmMjlkNjc0YjkxOTVkNjllNzIgPSB7CiAgICAgICAgICAgICAgICBiYXNlX2xheWVycyA6IHsKICAgICAgICAgICAgICAgICAgICAib3BlbnN0cmVldG1hcCIgOiB0aWxlX2xheWVyXzY4ZjRlMzQ2MTBlYTRiNGViNzIxNzI3NjFkYmQwNTUwLAogICAgICAgICAgICAgICAgfSwKICAgICAgICAgICAgICAgIG92ZXJsYXlzIDogIHsKICAgICAgICAgICAgICAgICAgICAiR29vZ2xlIE1hcHMiIDogdGlsZV9sYXllcl80ZGNhNTM4ODdlYTQ0Y2Y3OTFhODc3NzZmNjhiNGVmNSwKICAgICAgICAgICAgICAgICAgICAiQmVmb3JlIE5hdHVyYWwgQ29sb3IiIDogdGlsZV9sYXllcl9jOThkZWViNmEzZWU0ZWM4ODFlODFjYTMxYjk3ZTBhOCwKICAgICAgICAgICAgICAgICAgICAiUmVjZW50IE5hdHVyYWwgQ29sb3IiIDogdGlsZV9sYXllcl85OTNjNGIxMDMyMTU0YTgzOGEzZjQ3NzRiZjA5NTIxMiwKICAgICAgICAgICAgICAgICAgICAiQ2x1c3RlciIgOiB0aWxlX2xheWVyXzc0YTBmNGM5YTljZDRlMWJiZDBhMTk1ZjhhN2Y2OGE1LAogICAgICAgICAgICAgICAgICAgICJDbHVzdGVyT2xkIiA6IHRpbGVfbGF5ZXJfZTM1N2ExOWM2NzUxNGY5MWE3NWM1OTA5YjRjMGE1NTYsCiAgICAgICAgICAgICAgICAgICAgIk5EVkkgZGlmZmVyZW5jZSIgOiB0aWxlX2xheWVyXzVjYWZjMWYwZjdjZTQ1OGM5YzhiYWM2ZTk4MWIxODhiLAogICAgICAgICAgICAgICAgICAgICJDbHVzdGVyIERpZmZlcmVuY2UiIDogdGlsZV9sYXllcl9lYzhjZDI3MDBjYTU0NzRkOTBiMmQwNjM0ZDdjNDNkZCwKICAgICAgICAgICAgICAgIH0sCiAgICAgICAgICAgIH07CiAgICAgICAgICAgIEwuY29udHJvbC5sYXllcnMoCiAgICAgICAgICAgICAgICBsYXllcl9jb250cm9sXzE1NDEwZTZhOWFiYjQ5ZjI5ZDY3NGI5MTk1ZDY5ZTcyLmJhc2VfbGF5ZXJzLAogICAgICAgICAgICAgICAgbGF5ZXJfY29udHJvbF8xNTQxMGU2YTlhYmI0OWYyOWQ2NzRiOTE5NWQ2OWU3Mi5vdmVybGF5cywKICAgICAgICAgICAgICAgIHsiYXV0b1pJbmRleCI6IHRydWUsICJjb2xsYXBzZWQiOiB0cnVlLCAicG9zaXRpb24iOiAidG9wcmlnaHQifQogICAgICAgICAgICApLmFkZFRvKG1hcF9lYzRmZWQ2ZGRlYzY0NjUyYTJlMDdhMjY5NjAyMGQyYSk7CiAgICAgICAgCjwvc2NyaXB0Pg== onload=\"this.contentDocument.open();this.contentDocument.write(atob(this.getAttribute('data-html')));this.contentDocument.close();\" \"allowfullscreen\" \"webkitallowfullscreen\" \"mozallowfullscreen\"></iframe>"
            ],
            "text/plain": [
              "<branca.element.Figure at 0x7f9739b622b0>"
            ]
          },
          "metadata": {
            "tags": []
          },
          "execution_count": 96
        }
      ]
    },
    {
      "cell_type": "markdown",
      "metadata": {
        "id": "O9GIQ72Sryew"
      },
      "source": [
        "The area burned by the Holiday Farm fire seems to be identified, but lots of other areas are marked as different in the image. Basically, it looks like mostly water and shadow is not different classed in the unsupervised signatures.\n",
        "\n",
        "# Assignment: Geog 485\n",
        "\n",
        "Comment on the classification and the potential issues with this change analysis. Suggest some ways in which the 'classified' change analysis could be improved by modifying the method of classification used, the choice of spectral bands or image dates, or the use of derived bands or other accompanying types of 'ancillary' data."
      ]
    },
    {
      "cell_type": "markdown",
      "metadata": {
        "id": "mmCJS6lCtXXx"
      },
      "source": [
        "# Assignment Geog 491\n",
        "\n",
        "Choose 2 of the following three options, and turn in a commented notebook (.ipynb format) and PDF printout of that notebook showing the output for each of the 2 options chosen.\n",
        "\n",
        "Options: \n",
        "1. Do the same type of analysis but at another location.\n",
        "2. Do the same type of analysis, but using the Landsat 8 data collection.\n",
        "3. Using either Landsat 8 or Sentinel 2 data, add another spectral indice to the time series analysis or change analysis\n",
        "\n",
        "For each of the 2 options you choose, create a new notebook (you can make a copy of the existing notebook and change the parameters/code). Turn in a copy of each notebook in .ipynb form, and also a PDF printout of each notebook.\n"
      ]
    },
    {
      "cell_type": "markdown",
      "metadata": {
        "id": "CWE62O2dg5Qt"
      },
      "source": [
        "## Other resources for using Python with Google Earth Engine related to the exercise.\n",
        "\n",
        "- [ImageCollection Overview](https://samapriya.github.io/gee-py/projects/collection_overview/)\n",
        "\n",
        "- [Image Overview](https://samapriya.github.io/gee-py/projects/imgoverview/)\n",
        "\n",
        "- [Google Earth Engine Python API Examples](https://github.com/renelikestacos/Google-Earth-Engine-Python-Examples)\n"
      ]
    }
  ]
}