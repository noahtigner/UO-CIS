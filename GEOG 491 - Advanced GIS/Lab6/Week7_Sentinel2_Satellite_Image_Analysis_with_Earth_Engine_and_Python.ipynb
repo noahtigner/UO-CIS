{
  "nbformat": 4,
  "nbformat_minor": 0,
  "metadata": {
    "colab": {
      "name": "Week7_Sentinel2_Satellite_Image_Analysis_with_Earth_Engine_and_Python.ipynb",
      "provenance": [],
      "collapsed_sections": [],
      "toc_visible": true
    },
    "kernelspec": {
      "name": "python3",
      "display_name": "Python 3"
    }
  },
  "cells": [
    {
      "cell_type": "markdown",
      "metadata": {
        "id": "cKo6YpI5gWhg"
      },
      "source": [
        "# Satellite Image Analysis with Earth Engine and Python Open Source Packages\n",
        "\n",
        "This exercise introduces Google Earth Engine and raster satellite image analysis and visualization. Working with data from the Sentinel-2 satellite system:\n",
        "* Assemble images around a specific location and within a specified time period\n",
        " * Query metadata information about the images\n",
        "* View an image statically and with an interactive map\n",
        "* Calculate a 'spectral indice'\n",
        "* Calculate change between two images\n",
        "* Classify an image into statistical clusters\n",
        "* Create a time series dataset from single location from the images\n",
        " * Visualize the time series with an interactive map \n",
        "\n",
        "The exercise can be run without any knowledge of coding, but for some background, you might want to run through the following coloboratory notebooks:\n",
        "\n",
        "1. Earth Engine Python API Colab Setup\n",
        "https://colab.research.google.com/github/google/earthengine-api/blob/master/python/examples/ipynb/ee-api-colab-setup.ipynb\n",
        "\n",
        "2. Google Earth Engine with Python - Developer's Guide\n",
        "https://colab.research.google.com/github/csaybar/EEwPython/blob/dev/1_Introduction.ipynb#scrollTo=5AkUqloUQpXv\n",
        "\n"
      ]
    },
    {
      "cell_type": "markdown",
      "metadata": {
        "id": "jOiThoKvUJjz"
      },
      "source": [
        "## Set up the analysis environment\n",
        "\n",
        "The basic steps to get things set up, using 'python' scripting jargon, are:\n",
        "\n",
        "1.   Install packages\n",
        "2.   Import modules\n",
        "3. 'Authenticate' earth engine\n",
        "4. Define functions\n",
        "\n",
        "Colaboratory comes with a variety of standard scientific computing 'libraries', and many others can be installed fairly easily.  This exercise will use the 'earth engine api', the 'geemap' library for visualizing earth engine data, and a variety of libraries to plot results."
      ]
    },
    {
      "cell_type": "code",
      "metadata": {
        "id": "OT1HuOZJgP-Y",
        "outputId": "29f23a1e-e173-4d14-fcab-127c4e5115c3",
        "colab": {
          "base_uri": "https://localhost:8080/",
          "height": 1000
        }
      },
      "source": [
        "# install dependencies into virtual machine\n",
        "!pip install geemap\n",
        "#!pip install ee\n",
        "#!pip install earthengine-api\n",
        "!pip install geopandas\n",
        "#!pip install altair\n"
      ],
      "execution_count": 1,
      "outputs": [
        {
          "output_type": "stream",
          "text": [
            "Collecting geemap\n",
            "\u001b[?25l  Downloading https://files.pythonhosted.org/packages/c1/f1/50dc342f3c2844353652d5df007caca6e1df90bbc1bf382aed4d3a952810/geemap-0.8.2-py2.py3-none-any.whl (386kB)\n",
            "\u001b[K     |████████████████████████████████| 389kB 6.0MB/s \n",
            "\u001b[?25hCollecting whitebox\n",
            "\u001b[?25l  Downloading https://files.pythonhosted.org/packages/9e/80/72ddfe55b9fad2909c3befb6360c38b6bf5fb131197c390d01109aaaa6f8/whitebox-1.4.0-py2.py3-none-any.whl (63kB)\n",
            "\u001b[K     |████████████████████████████████| 71kB 6.6MB/s \n",
            "\u001b[?25hCollecting voila\n",
            "\u001b[?25l  Downloading https://files.pythonhosted.org/packages/50/7d/ef470f3d3c574162bb8705b264f4cb47eac8c923f6bf1e37283f871ead6a/voila-0.2.4-py3-none-any.whl (1.9MB)\n",
            "\u001b[K     |████████████████████████████████| 1.9MB 35.1MB/s \n",
            "\u001b[?25hRequirement already satisfied: matplotlib in /usr/local/lib/python3.6/dist-packages (from geemap) (3.2.2)\n",
            "Requirement already satisfied: numpy in /usr/local/lib/python3.6/dist-packages (from geemap) (1.18.5)\n",
            "Collecting folium>=0.11.0\n",
            "\u001b[?25l  Downloading https://files.pythonhosted.org/packages/a4/f0/44e69d50519880287cc41e7c8a6acc58daa9a9acf5f6afc52bcc70f69a6d/folium-0.11.0-py2.py3-none-any.whl (93kB)\n",
            "\u001b[K     |████████████████████████████████| 102kB 10.2MB/s \n",
            "\u001b[?25hCollecting ipyleaflet>=0.13.3\n",
            "\u001b[?25l  Downloading https://files.pythonhosted.org/packages/a0/9d/f411b8a9522f1710f278c60b2cd8d26817d8c64b7568de95f9437db6caf0/ipyleaflet-0.13.3-py2.py3-none-any.whl (5.1MB)\n",
            "\u001b[K     |████████████████████████████████| 5.1MB 37.0MB/s \n",
            "\u001b[?25hCollecting mss\n",
            "\u001b[?25l  Downloading https://files.pythonhosted.org/packages/d7/5f/77dece686b8d08a17430e169e936722693712b8cf1ee638caa8b1cb6452b/mss-6.1.0-py3-none-any.whl (76kB)\n",
            "\u001b[K     |████████████████████████████████| 81kB 8.9MB/s \n",
            "\u001b[?25hCollecting colour\n",
            "  Downloading https://files.pythonhosted.org/packages/74/46/e81907704ab203206769dee1385dc77e1407576ff8f50a0681d0a6b541be/colour-0.1.5-py2.py3-none-any.whl\n",
            "Requirement already satisfied: pandas in /usr/local/lib/python3.6/dist-packages (from geemap) (1.1.4)\n",
            "Collecting pyshp\n",
            "\u001b[?25l  Downloading https://files.pythonhosted.org/packages/ca/1f/e9cc2c3fce32e2926581f8b6905831165235464c858ba550b6e9b8ef78c3/pyshp-2.1.2.tar.gz (217kB)\n",
            "\u001b[K     |████████████████████████████████| 225kB 42.1MB/s \n",
            "\u001b[?25hCollecting geeadd>=0.5.1\n",
            "  Downloading https://files.pythonhosted.org/packages/53/3e/98e4d21b5d06a670a6692272a89cbc1a1f238dbba0c4d3252ea1635ba7a4/geeadd-0.5.2-py3-none-any.whl\n",
            "Collecting bqplot\n",
            "\u001b[?25l  Downloading https://files.pythonhosted.org/packages/f1/cc/bbb3989709ff5f43a75d8cc9989b0cd7215bb50af30f6323ad9bb62e1839/bqplot-0.12.19-py2.py3-none-any.whl (982kB)\n",
            "\u001b[K     |████████████████████████████████| 983kB 32.3MB/s \n",
            "\u001b[?25hCollecting geocoder\n",
            "\u001b[?25l  Downloading https://files.pythonhosted.org/packages/4f/6b/13166c909ad2f2d76b929a4227c952630ebaf0d729f6317eb09cbceccbab/geocoder-1.38.1-py2.py3-none-any.whl (98kB)\n",
            "\u001b[K     |████████████████████████████████| 102kB 10.1MB/s \n",
            "\u001b[?25hRequirement already satisfied: pillow in /usr/local/lib/python3.6/dist-packages (from geemap) (7.0.0)\n",
            "Collecting ipytree\n",
            "\u001b[?25l  Downloading https://files.pythonhosted.org/packages/36/2f/f93092e485afc384b4cc39f17ff1cb252380a3745bb4a7e2f6e488e3d0c4/ipytree-0.1.8-py2.py3-none-any.whl (1.1MB)\n",
            "\u001b[K     |████████████████████████████████| 1.1MB 32.6MB/s \n",
            "\u001b[?25hRequirement already satisfied: earthengine-api>=0.1.230 in /usr/local/lib/python3.6/dist-packages (from geemap) (0.1.238)\n",
            "Collecting ipynb-py-convert\n",
            "  Downloading https://files.pythonhosted.org/packages/43/90/37ff1b9f553583e60c327e1ea8cbfea469c38c9d8791ad1f7ee6d3482efa/ipynb-py-convert-0.4.6.tar.gz\n",
            "Requirement already satisfied: click in /usr/local/lib/python3.6/dist-packages (from geemap) (7.1.2)\n",
            "Collecting ipyfilechooser\n",
            "  Downloading https://files.pythonhosted.org/packages/f7/4f/e8d949a6395b6079fe81bf728e5cbae55c63ca9d2fd680f133da679a75a3/ipyfilechooser-0.4.0-py3-none-any.whl\n",
            "Collecting ffmpeg-python\n",
            "  Downloading https://files.pythonhosted.org/packages/d7/0c/56be52741f75bad4dc6555991fabd2e07b432d333da82c11ad701123888a/ffmpeg_python-0.2.0-py3-none-any.whl\n",
            "Requirement already satisfied: nbclient<0.6,>=0.4.0 in /usr/local/lib/python3.6/dist-packages (from voila->geemap) (0.5.1)\n",
            "Collecting nbconvert<7,>=6.0.0\n",
            "\u001b[?25l  Downloading https://files.pythonhosted.org/packages/13/2f/acbe7006548f3914456ee47f97a2033b1b2f3daf921b12ac94105d87c163/nbconvert-6.0.7-py3-none-any.whl (552kB)\n",
            "\u001b[K     |████████████████████████████████| 552kB 33.2MB/s \n",
            "\u001b[?25hCollecting jupyter-client<7,>=6.1.3\n",
            "\u001b[?25l  Downloading https://files.pythonhosted.org/packages/dc/41/9fa443d5ae8907dd8f7d12146cb0092dc053afd67b5b57e7e8786a328547/jupyter_client-6.1.7-py3-none-any.whl (108kB)\n",
            "\u001b[K     |████████████████████████████████| 112kB 35.0MB/s \n",
            "\u001b[?25hCollecting jupyter-server<2.0.0,>=0.3.0\n",
            "\u001b[?25l  Downloading https://files.pythonhosted.org/packages/7f/0d/1eafbdca04feecdf596382d0776603f09ed971562cc41aaf8fc1067b75cc/jupyter_server-1.0.6-py3-none-any.whl (197kB)\n",
            "\u001b[K     |████████████████████████████████| 204kB 37.4MB/s \n",
            "\u001b[?25hRequirement already satisfied: python-dateutil>=2.1 in /usr/local/lib/python3.6/dist-packages (from matplotlib->geemap) (2.8.1)\n",
            "Requirement already satisfied: pyparsing!=2.0.4,!=2.1.2,!=2.1.6,>=2.0.1 in /usr/local/lib/python3.6/dist-packages (from matplotlib->geemap) (2.4.7)\n",
            "Requirement already satisfied: kiwisolver>=1.0.1 in /usr/local/lib/python3.6/dist-packages (from matplotlib->geemap) (1.3.1)\n",
            "Requirement already satisfied: cycler>=0.10 in /usr/local/lib/python3.6/dist-packages (from matplotlib->geemap) (0.10.0)\n",
            "Requirement already satisfied: requests in /usr/local/lib/python3.6/dist-packages (from folium>=0.11.0->geemap) (2.23.0)\n",
            "Requirement already satisfied: jinja2>=2.9 in /usr/local/lib/python3.6/dist-packages (from folium>=0.11.0->geemap) (2.11.2)\n",
            "Requirement already satisfied: branca>=0.3.0 in /usr/local/lib/python3.6/dist-packages (from folium>=0.11.0->geemap) (0.4.1)\n",
            "Collecting traittypes<3,>=0.2.1\n",
            "  Downloading https://files.pythonhosted.org/packages/9c/d1/8d5bd662703cc1764d986f6908a608777305946fa634d34c470cd4a1e729/traittypes-0.2.1-py2.py3-none-any.whl\n",
            "Requirement already satisfied: ipywidgets<8,>=7.5.0 in /usr/local/lib/python3.6/dist-packages (from ipyleaflet>=0.13.3->geemap) (7.5.1)\n",
            "Requirement already satisfied: pytz>=2017.2 in /usr/local/lib/python3.6/dist-packages (from pandas->geemap) (2018.9)\n",
            "Collecting beautifulsoup4>=4.9.0\n",
            "\u001b[?25l  Downloading https://files.pythonhosted.org/packages/d1/41/e6495bd7d3781cee623ce23ea6ac73282a373088fcd0ddc809a047b18eae/beautifulsoup4-4.9.3-py3-none-any.whl (115kB)\n",
            "\u001b[K     |████████████████████████████████| 122kB 40.7MB/s \n",
            "\u001b[?25hCollecting logzero>=1.5.0\n",
            "  Downloading https://files.pythonhosted.org/packages/7e/f7/369920be5b4e9c1a05f5e10bae62b1eca4e01b0b235541865ff53f4d2b6a/logzero-1.6.3-py2.py3-none-any.whl\n",
            "Requirement already satisfied: traitlets>=4.3.0 in /usr/local/lib/python3.6/dist-packages (from bqplot->geemap) (4.3.3)\n",
            "Requirement already satisfied: future in /usr/local/lib/python3.6/dist-packages (from geocoder->geemap) (0.16.0)\n",
            "Collecting ratelim\n",
            "  Downloading https://files.pythonhosted.org/packages/f2/98/7e6d147fd16a10a5f821db6e25f192265d6ecca3d82957a4fdd592cad49c/ratelim-0.1.6-py2.py3-none-any.whl\n",
            "Requirement already satisfied: six in /usr/local/lib/python3.6/dist-packages (from geocoder->geemap) (1.15.0)\n",
            "Requirement already satisfied: google-auth>=1.4.1 in /usr/local/lib/python3.6/dist-packages (from earthengine-api>=0.1.230->geemap) (1.17.2)\n",
            "Requirement already satisfied: google-api-python-client in /usr/local/lib/python3.6/dist-packages (from earthengine-api>=0.1.230->geemap) (1.7.12)\n",
            "Requirement already satisfied: google-cloud-storage in /usr/local/lib/python3.6/dist-packages (from earthengine-api>=0.1.230->geemap) (1.18.1)\n",
            "Requirement already satisfied: httplib2shim in /usr/local/lib/python3.6/dist-packages (from earthengine-api>=0.1.230->geemap) (0.0.3)\n",
            "Requirement already satisfied: google-auth-httplib2>=0.0.3 in /usr/local/lib/python3.6/dist-packages (from earthengine-api>=0.1.230->geemap) (0.0.4)\n",
            "Requirement already satisfied: httplib2<1dev,>=0.9.2 in /usr/local/lib/python3.6/dist-packages (from earthengine-api>=0.1.230->geemap) (0.17.4)\n",
            "Requirement already satisfied: nest-asyncio in /usr/local/lib/python3.6/dist-packages (from nbclient<0.6,>=0.4.0->voila->geemap) (1.4.3)\n",
            "Requirement already satisfied: nbformat>=5.0 in /usr/local/lib/python3.6/dist-packages (from nbclient<0.6,>=0.4.0->voila->geemap) (5.0.8)\n",
            "Requirement already satisfied: async-generator in /usr/local/lib/python3.6/dist-packages (from nbclient<0.6,>=0.4.0->voila->geemap) (1.10)\n",
            "Requirement already satisfied: mistune<2,>=0.8.1 in /usr/local/lib/python3.6/dist-packages (from nbconvert<7,>=6.0.0->voila->geemap) (0.8.4)\n",
            "Requirement already satisfied: testpath in /usr/local/lib/python3.6/dist-packages (from nbconvert<7,>=6.0.0->voila->geemap) (0.4.4)\n",
            "Requirement already satisfied: bleach in /usr/local/lib/python3.6/dist-packages (from nbconvert<7,>=6.0.0->voila->geemap) (3.2.1)\n",
            "Requirement already satisfied: defusedxml in /usr/local/lib/python3.6/dist-packages (from nbconvert<7,>=6.0.0->voila->geemap) (0.6.0)\n",
            "Requirement already satisfied: jupyterlab-pygments in /usr/local/lib/python3.6/dist-packages (from nbconvert<7,>=6.0.0->voila->geemap) (0.1.2)\n",
            "Requirement already satisfied: entrypoints>=0.2.2 in /usr/local/lib/python3.6/dist-packages (from nbconvert<7,>=6.0.0->voila->geemap) (0.3)\n",
            "Requirement already satisfied: jupyter-core in /usr/local/lib/python3.6/dist-packages (from nbconvert<7,>=6.0.0->voila->geemap) (4.6.3)\n",
            "Requirement already satisfied: pygments>=2.4.1 in /usr/local/lib/python3.6/dist-packages (from nbconvert<7,>=6.0.0->voila->geemap) (2.6.1)\n",
            "Requirement already satisfied: pandocfilters>=1.4.1 in /usr/local/lib/python3.6/dist-packages (from nbconvert<7,>=6.0.0->voila->geemap) (1.4.3)\n",
            "Requirement already satisfied: pyzmq>=13 in /usr/local/lib/python3.6/dist-packages (from jupyter-client<7,>=6.1.3->voila->geemap) (19.0.2)\n",
            "Requirement already satisfied: tornado>=4.1 in /usr/local/lib/python3.6/dist-packages (from jupyter-client<7,>=6.1.3->voila->geemap) (5.1.1)\n",
            "Requirement already satisfied: terminado>=0.8.3 in /usr/local/lib/python3.6/dist-packages (from jupyter-server<2.0.0,>=0.3.0->voila->geemap) (0.9.1)\n",
            "Requirement already satisfied: Send2Trash in /usr/local/lib/python3.6/dist-packages (from jupyter-server<2.0.0,>=0.3.0->voila->geemap) (1.5.0)\n",
            "Requirement already satisfied: ipython-genutils in /usr/local/lib/python3.6/dist-packages (from jupyter-server<2.0.0,>=0.3.0->voila->geemap) (0.2.0)\n",
            "Requirement already satisfied: prometheus-client in /usr/local/lib/python3.6/dist-packages (from jupyter-server<2.0.0,>=0.3.0->voila->geemap) (0.8.0)\n",
            "Requirement already satisfied: chardet<4,>=3.0.2 in /usr/local/lib/python3.6/dist-packages (from requests->folium>=0.11.0->geemap) (3.0.4)\n",
            "Requirement already satisfied: certifi>=2017.4.17 in /usr/local/lib/python3.6/dist-packages (from requests->folium>=0.11.0->geemap) (2020.6.20)\n",
            "Requirement already satisfied: urllib3!=1.25.0,!=1.25.1,<1.26,>=1.21.1 in /usr/local/lib/python3.6/dist-packages (from requests->folium>=0.11.0->geemap) (1.24.3)\n",
            "Requirement already satisfied: idna<3,>=2.5 in /usr/local/lib/python3.6/dist-packages (from requests->folium>=0.11.0->geemap) (2.10)\n",
            "Requirement already satisfied: MarkupSafe>=0.23 in /usr/local/lib/python3.6/dist-packages (from jinja2>=2.9->folium>=0.11.0->geemap) (1.1.1)\n",
            "Requirement already satisfied: ipython>=4.0.0; python_version >= \"3.3\" in /usr/local/lib/python3.6/dist-packages (from ipywidgets<8,>=7.5.0->ipyleaflet>=0.13.3->geemap) (5.5.0)\n",
            "Requirement already satisfied: widgetsnbextension~=3.5.0 in /usr/local/lib/python3.6/dist-packages (from ipywidgets<8,>=7.5.0->ipyleaflet>=0.13.3->geemap) (3.5.1)\n",
            "Requirement already satisfied: ipykernel>=4.5.1 in /usr/local/lib/python3.6/dist-packages (from ipywidgets<8,>=7.5.0->ipyleaflet>=0.13.3->geemap) (4.10.1)\n",
            "Collecting soupsieve>1.2; python_version >= \"3.0\"\n",
            "  Downloading https://files.pythonhosted.org/packages/6f/8f/457f4a5390eeae1cc3aeab89deb7724c965be841ffca6cfca9197482e470/soupsieve-2.0.1-py3-none-any.whl\n",
            "Requirement already satisfied: decorator in /usr/local/lib/python3.6/dist-packages (from traitlets>=4.3.0->bqplot->geemap) (4.4.2)\n",
            "Requirement already satisfied: cachetools<5.0,>=2.0.0 in /usr/local/lib/python3.6/dist-packages (from google-auth>=1.4.1->earthengine-api>=0.1.230->geemap) (4.1.1)\n",
            "Requirement already satisfied: pyasn1-modules>=0.2.1 in /usr/local/lib/python3.6/dist-packages (from google-auth>=1.4.1->earthengine-api>=0.1.230->geemap) (0.2.8)\n",
            "Requirement already satisfied: rsa<5,>=3.1.4; python_version >= \"3\" in /usr/local/lib/python3.6/dist-packages (from google-auth>=1.4.1->earthengine-api>=0.1.230->geemap) (4.6)\n",
            "Requirement already satisfied: setuptools>=40.3.0 in /usr/local/lib/python3.6/dist-packages (from google-auth>=1.4.1->earthengine-api>=0.1.230->geemap) (50.3.2)\n",
            "Requirement already satisfied: uritemplate<4dev,>=3.0.0 in /usr/local/lib/python3.6/dist-packages (from google-api-python-client->earthengine-api>=0.1.230->geemap) (3.0.1)\n",
            "Requirement already satisfied: google-cloud-core<2.0dev,>=1.0.0 in /usr/local/lib/python3.6/dist-packages (from google-cloud-storage->earthengine-api>=0.1.230->geemap) (1.0.3)\n",
            "Requirement already satisfied: google-resumable-media<0.5.0dev,>=0.3.1 in /usr/local/lib/python3.6/dist-packages (from google-cloud-storage->earthengine-api>=0.1.230->geemap) (0.4.1)\n",
            "Requirement already satisfied: jsonschema!=2.5.0,>=2.4 in /usr/local/lib/python3.6/dist-packages (from nbformat>=5.0->nbclient<0.6,>=0.4.0->voila->geemap) (2.6.0)\n",
            "Requirement already satisfied: webencodings in /usr/local/lib/python3.6/dist-packages (from bleach->nbconvert<7,>=6.0.0->voila->geemap) (0.5.1)\n",
            "Requirement already satisfied: packaging in /usr/local/lib/python3.6/dist-packages (from bleach->nbconvert<7,>=6.0.0->voila->geemap) (20.4)\n",
            "Requirement already satisfied: ptyprocess; os_name != \"nt\" in /usr/local/lib/python3.6/dist-packages (from terminado>=0.8.3->jupyter-server<2.0.0,>=0.3.0->voila->geemap) (0.6.0)\n",
            "Requirement already satisfied: pickleshare in /usr/local/lib/python3.6/dist-packages (from ipython>=4.0.0; python_version >= \"3.3\"->ipywidgets<8,>=7.5.0->ipyleaflet>=0.13.3->geemap) (0.7.5)\n",
            "Requirement already satisfied: prompt-toolkit<2.0.0,>=1.0.4 in /usr/local/lib/python3.6/dist-packages (from ipython>=4.0.0; python_version >= \"3.3\"->ipywidgets<8,>=7.5.0->ipyleaflet>=0.13.3->geemap) (1.0.18)\n",
            "Requirement already satisfied: pexpect; sys_platform != \"win32\" in /usr/local/lib/python3.6/dist-packages (from ipython>=4.0.0; python_version >= \"3.3\"->ipywidgets<8,>=7.5.0->ipyleaflet>=0.13.3->geemap) (4.8.0)\n",
            "Requirement already satisfied: simplegeneric>0.8 in /usr/local/lib/python3.6/dist-packages (from ipython>=4.0.0; python_version >= \"3.3\"->ipywidgets<8,>=7.5.0->ipyleaflet>=0.13.3->geemap) (0.8.1)\n",
            "Requirement already satisfied: notebook>=4.4.1 in /usr/local/lib/python3.6/dist-packages (from widgetsnbextension~=3.5.0->ipywidgets<8,>=7.5.0->ipyleaflet>=0.13.3->geemap) (5.3.1)\n",
            "Requirement already satisfied: pyasn1<0.5.0,>=0.4.6 in /usr/local/lib/python3.6/dist-packages (from pyasn1-modules>=0.2.1->google-auth>=1.4.1->earthengine-api>=0.1.230->geemap) (0.4.8)\n",
            "Requirement already satisfied: google-api-core<2.0.0dev,>=1.14.0 in /usr/local/lib/python3.6/dist-packages (from google-cloud-core<2.0dev,>=1.0.0->google-cloud-storage->earthengine-api>=0.1.230->geemap) (1.16.0)\n",
            "Requirement already satisfied: wcwidth in /usr/local/lib/python3.6/dist-packages (from prompt-toolkit<2.0.0,>=1.0.4->ipython>=4.0.0; python_version >= \"3.3\"->ipywidgets<8,>=7.5.0->ipyleaflet>=0.13.3->geemap) (0.2.5)\n",
            "Requirement already satisfied: protobuf>=3.4.0 in /usr/local/lib/python3.6/dist-packages (from google-api-core<2.0.0dev,>=1.14.0->google-cloud-core<2.0dev,>=1.0.0->google-cloud-storage->earthengine-api>=0.1.230->geemap) (3.12.4)\n",
            "Requirement already satisfied: googleapis-common-protos<2.0dev,>=1.6.0 in /usr/local/lib/python3.6/dist-packages (from google-api-core<2.0.0dev,>=1.14.0->google-cloud-core<2.0dev,>=1.0.0->google-cloud-storage->earthengine-api>=0.1.230->geemap) (1.52.0)\n",
            "Building wheels for collected packages: pyshp, ipynb-py-convert\n",
            "  Building wheel for pyshp (setup.py) ... \u001b[?25l\u001b[?25hdone\n",
            "  Created wheel for pyshp: filename=pyshp-2.1.2-cp36-none-any.whl size=36216 sha256=ff3e73536131f8af17c2497ab2dfd576b680f7d9f3ec0da741fcb6902febc5c4\n",
            "  Stored in directory: /root/.cache/pip/wheels/96/6c/53/4112475adf3b831da97f083163d0f38ee6daac9c1b13f7afea\n",
            "  Building wheel for ipynb-py-convert (setup.py) ... \u001b[?25l\u001b[?25hdone\n",
            "  Created wheel for ipynb-py-convert: filename=ipynb_py_convert-0.4.6-cp36-none-any.whl size=4625 sha256=cc12b947f4a06835cac0d000a2a14a3672f77850d1c6c05aaf973dfc527d9a16\n",
            "  Stored in directory: /root/.cache/pip/wheels/80/dc/7c/a7279f7726d66951fe48d5afd45247bcf5bf92c98282e4e78e\n",
            "Successfully built pyshp ipynb-py-convert\n",
            "\u001b[31mERROR: datascience 0.10.6 has requirement folium==0.2.1, but you'll have folium 0.11.0 which is incompatible.\u001b[0m\n",
            "Installing collected packages: whitebox, nbconvert, jupyter-client, jupyter-server, voila, folium, traittypes, ipyleaflet, mss, colour, pyshp, soupsieve, beautifulsoup4, logzero, geeadd, bqplot, ratelim, geocoder, ipytree, ipynb-py-convert, ipyfilechooser, ffmpeg-python, geemap\n",
            "  Found existing installation: nbconvert 5.6.1\n",
            "    Uninstalling nbconvert-5.6.1:\n",
            "      Successfully uninstalled nbconvert-5.6.1\n",
            "  Found existing installation: jupyter-client 5.3.5\n",
            "    Uninstalling jupyter-client-5.3.5:\n",
            "      Successfully uninstalled jupyter-client-5.3.5\n",
            "  Found existing installation: folium 0.8.3\n",
            "    Uninstalling folium-0.8.3:\n",
            "      Successfully uninstalled folium-0.8.3\n",
            "  Found existing installation: beautifulsoup4 4.6.3\n",
            "    Uninstalling beautifulsoup4-4.6.3:\n",
            "      Successfully uninstalled beautifulsoup4-4.6.3\n",
            "Successfully installed beautifulsoup4-4.9.3 bqplot-0.12.19 colour-0.1.5 ffmpeg-python-0.2.0 folium-0.11.0 geeadd-0.5.2 geemap-0.8.2 geocoder-1.38.1 ipyfilechooser-0.4.0 ipyleaflet-0.13.3 ipynb-py-convert-0.4.6 ipytree-0.1.8 jupyter-client-6.1.7 jupyter-server-1.0.6 logzero-1.6.3 mss-6.1.0 nbconvert-6.0.7 pyshp-2.1.2 ratelim-0.1.6 soupsieve-2.0.1 traittypes-0.2.1 voila-0.2.4 whitebox-1.4.0\n"
          ],
          "name": "stdout"
        },
        {
          "output_type": "display_data",
          "data": {
            "application/vnd.colab-display-data+json": {
              "pip_warning": {
                "packages": [
                  "jupyter_client"
                ]
              }
            }
          },
          "metadata": {
            "tags": []
          }
        },
        {
          "output_type": "stream",
          "text": [
            "Collecting geopandas\n",
            "\u001b[?25l  Downloading https://files.pythonhosted.org/packages/f7/a4/e66aafbefcbb717813bf3a355c8c4fc3ed04ea1dd7feb2920f2f4f868921/geopandas-0.8.1-py2.py3-none-any.whl (962kB)\n",
            "\u001b[K     |████████████████████████████████| 972kB 4.3MB/s \n",
            "\u001b[?25hRequirement already satisfied: shapely in /usr/local/lib/python3.6/dist-packages (from geopandas) (1.7.1)\n",
            "Requirement already satisfied: pandas>=0.23.0 in /usr/local/lib/python3.6/dist-packages (from geopandas) (1.1.4)\n",
            "Collecting fiona\n",
            "\u001b[?25l  Downloading https://files.pythonhosted.org/packages/37/94/4910fd55246c1d963727b03885ead6ef1cd3748a465f7b0239ab25dfc9a3/Fiona-1.8.18-cp36-cp36m-manylinux1_x86_64.whl (14.8MB)\n",
            "\u001b[K     |████████████████████████████████| 14.8MB 308kB/s \n",
            "\u001b[?25hCollecting pyproj>=2.2.0\n",
            "\u001b[?25l  Downloading https://files.pythonhosted.org/packages/e4/ab/280e80a67cfc109d15428c0ec56391fc03a65857b7727cf4e6e6f99a4204/pyproj-3.0.0.post1-cp36-cp36m-manylinux2010_x86_64.whl (6.4MB)\n",
            "\u001b[K     |████████████████████████████████| 6.5MB 39.8MB/s \n",
            "\u001b[?25hRequirement already satisfied: python-dateutil>=2.7.3 in /usr/local/lib/python3.6/dist-packages (from pandas>=0.23.0->geopandas) (2.8.1)\n",
            "Requirement already satisfied: pytz>=2017.2 in /usr/local/lib/python3.6/dist-packages (from pandas>=0.23.0->geopandas) (2018.9)\n",
            "Requirement already satisfied: numpy>=1.15.4 in /usr/local/lib/python3.6/dist-packages (from pandas>=0.23.0->geopandas) (1.18.5)\n",
            "Collecting cligj>=0.5\n",
            "  Downloading https://files.pythonhosted.org/packages/ba/06/e3440b1f2dc802d35f329f299ba96153e9fcbfdef75e17f4b61f79430c6a/cligj-0.7.0-py3-none-any.whl\n",
            "Collecting click-plugins>=1.0\n",
            "  Downloading https://files.pythonhosted.org/packages/e9/da/824b92d9942f4e472702488857914bdd50f73021efea15b4cad9aca8ecef/click_plugins-1.1.1-py2.py3-none-any.whl\n",
            "Collecting munch\n",
            "  Downloading https://files.pythonhosted.org/packages/cc/ab/85d8da5c9a45e072301beb37ad7f833cd344e04c817d97e0cc75681d248f/munch-2.5.0-py2.py3-none-any.whl\n",
            "Requirement already satisfied: six>=1.7 in /usr/local/lib/python3.6/dist-packages (from fiona->geopandas) (1.15.0)\n",
            "Requirement already satisfied: certifi in /usr/local/lib/python3.6/dist-packages (from fiona->geopandas) (2020.6.20)\n",
            "Requirement already satisfied: attrs>=17 in /usr/local/lib/python3.6/dist-packages (from fiona->geopandas) (20.2.0)\n",
            "Requirement already satisfied: click<8,>=4.0 in /usr/local/lib/python3.6/dist-packages (from fiona->geopandas) (7.1.2)\n",
            "Installing collected packages: cligj, click-plugins, munch, fiona, pyproj, geopandas\n",
            "Successfully installed click-plugins-1.1.1 cligj-0.7.0 fiona-1.8.18 geopandas-0.8.1 munch-2.5.0 pyproj-3.0.0.post1\n"
          ],
          "name": "stdout"
        }
      ]
    },
    {
      "cell_type": "markdown",
      "metadata": {
        "id": "qN0iD7wyl9ek"
      },
      "source": [
        "- #### *You may have now have to `RESTART RUNTIME` (with a button in the output above) to properly import the modules in the next step*"
      ]
    },
    {
      "cell_type": "markdown",
      "metadata": {
        "id": "B86uetgZjY9n"
      },
      "source": [
        "### Import modules\n",
        "\n",
        "Plotting, visualization, and data analysis tools"
      ]
    },
    {
      "cell_type": "code",
      "metadata": {
        "id": "6kX969zMjdO6"
      },
      "source": [
        "# earth engine and statistical analysis\n",
        "from IPython.display import Image\n",
        "import ee, datetime\n",
        "import pandas as pd\n",
        "from pylab import *\n",
        "import seaborn as sns\n",
        "\n",
        "# file management\n",
        "import os\n",
        "import glob\n",
        "\n",
        "# geospatial and plotting modules\n",
        "#import geopandas as gpd\n",
        "import geemap.eefolium as geemap\n",
        "\n",
        "import folium\n",
        "import matplotlib.pyplot as plt\n",
        "%matplotlib inline\n",
        "\n",
        "import altair as alt\n"
      ],
      "execution_count": 2,
      "outputs": []
    },
    {
      "cell_type": "markdown",
      "metadata": {
        "id": "kdq6OFNLj8wk"
      },
      "source": [
        "### Authenticate earth engine\n",
        "\n",
        "Since earth engine requires a login, to use it with colaboratory requires 'authenticating' an analysis session. That is, giving permission via a google account. Rinning the cell below will provide a link to a google authentication website, which will ask your permission and then provide a verification code to paste into a box - then hit enter to finish the process."
      ]
    },
    {
      "cell_type": "code",
      "metadata": {
        "id": "kWMh8Ed1g9pV",
        "outputId": "ab24295b-3884-4685-816b-120a9289cc71",
        "colab": {
          "base_uri": "https://localhost:8080/"
        }
      },
      "source": [
        "# Trigger the authentication flow.\n",
        "ee.Authenticate()"
      ],
      "execution_count": 3,
      "outputs": [
        {
          "output_type": "stream",
          "text": [
            "To authorize access needed by Earth Engine, open the following URL in a web browser and follow the instructions. If the web browser does not start automatically, please manually browse the URL below.\n",
            "\n",
            "    https://accounts.google.com/o/oauth2/auth?client_id=517222506229-vsmmajv00ul0bs7p89v5m89qs8eb9359.apps.googleusercontent.com&scope=https%3A%2F%2Fwww.googleapis.com%2Fauth%2Fearthengine+https%3A%2F%2Fwww.googleapis.com%2Fauth%2Fdevstorage.full_control&redirect_uri=urn%3Aietf%3Awg%3Aoauth%3A2.0%3Aoob&response_type=code&code_challenge=Ibh-CAcTdLHt3E-A5MT2Rl8_EjR7U9_gzjmecvhn104&code_challenge_method=S256\n",
            "\n",
            "The authorization workflow will generate a code, which you should paste in the box below. \n",
            "Enter verification code: 4/1AY0e-g4yChCeu_CwfOmKWwwvArbXAuoEYs2058J_M4qYtst3PSA3nL54JKU\n",
            "\n",
            "Successfully saved authorization token.\n"
          ],
          "name": "stdout"
        }
      ]
    },
    {
      "cell_type": "markdown",
      "metadata": {
        "id": "XngSJGgpHDzC"
      },
      "source": [
        "Once it has `Successfully saved authorization token` the session can be 'initialized'"
      ]
    },
    {
      "cell_type": "code",
      "metadata": {
        "id": "xs7O3yZCj6uu"
      },
      "source": [
        "# start up the session\n",
        "ee.Initialize()"
      ],
      "execution_count": 4,
      "outputs": []
    },
    {
      "cell_type": "markdown",
      "metadata": {
        "id": "71GDVaBjkQi3"
      },
      "source": [
        "## Define Functions\n",
        "\n",
        "Functions do something with information. Here are functions to *mask* out clouds and cloud shadows, and to calculate a variety of *spectral indices* from the image data.   Sentinel-2 and Landsat 8 satellite image data are used.\n",
        "\n",
        "- Landsat 8 data is called with `ee.ImageCollection(\"LANDSAT/LC08/C01/T1_SR\")` in the script and described here: https://developers.google.com/earth-engine/datasets/catalog/LANDSAT_LC08_C01_T1_SR\n",
        "\n",
        "- The functions for masking are adapted from here: https://code.earthengine.google.com/?scriptPath=Examples:Datasets/LANDSAT_LC08_C01_T1_SR\n",
        "\n",
        "- Sentinel-2 data is called with `ee.ImageCollection(\"COPERNICUS/S2_SR\")` and described here: https://developers.google.com/earth-engine/datasets/catalog/COPERNICUS_S2\n",
        "\n",
        "**Sentinel-2** image bands used in the functions are:\n",
        "\n",
        "- Band 4 = red\n",
        "- Band 8 = NIR\n",
        "- at 10m pixel resolution\n",
        "\n",
        "**Landsat 8** bands used are:\n",
        "- Band 4 = red\n",
        "- Band 5 = NIR\n",
        "- at 30m pixel resolution\n",
        "\n",
        "The exercise uses Sentinel-2 data, and can be adapted to work with Landsat 8."
      ]
    },
    {
      "cell_type": "markdown",
      "metadata": {
        "id": "aYFr-8AKWksv"
      },
      "source": [
        "### Cloudmask functions\n",
        "\n",
        "These will mask clouds from the image collections to help improve analysis results of the time series data."
      ]
    },
    {
      "cell_type": "code",
      "metadata": {
        "id": "yXX3I9ryPY2a"
      },
      "source": [
        "#function to use QA band to filter clouds\n",
        "#Landsat 8 sr data\n",
        "def maskL8sr(image):\n",
        "  #Bits 3 and 5 are cloud shadow and cloud, respectively.\n",
        "  cloudShadowBitMask = (1 << 3)\n",
        "  cloudsBitMask = (1 << 5)\n",
        "  # Get the pixel QA band.\n",
        "  qa = image.select('pixel_qa')\n",
        "  # Both flags should be set to zero, indicating clear conditions.\n",
        "  mask = qa.bitwiseAnd((cloudShadowBitMask).eq(0)).bitwiseAnd((cloudsBitMask).eq(0))\n",
        "  return image.updateMask(mask)"
      ],
      "execution_count": 5,
      "outputs": []
    },
    {
      "cell_type": "code",
      "metadata": {
        "id": "92eYoXZtl40T"
      },
      "source": [
        "#function to use QA band to filter clouds\n",
        "#Sentinel 2 data\n",
        "def maskS2clouds(image):\n",
        "  qa = image.select('QA60')\n",
        "\n",
        "  #Bits 10 and 11 are clouds and cirrus, respectively.\n",
        "  cloudBitMask = 1 << 10\n",
        "  cirrusBitMask = 1 << 11\n",
        "\n",
        "  #Both flags should be set to zero, indicating clear conditions.\n",
        "  mask = qa.bitwiseAnd(cloudBitMask).eq(0)\n",
        "  mask2 = qa.bitwiseAnd(cirrusBitMask).eq(0)\n",
        "  mask3 = qa.bitwiseAnd(cloudBitMask).eq(0).bitwiseAnd(cirrusBitMask).eq(0)\n",
        "  #cloud_img = image.updateMask(mask)\n",
        "  #cir_img = cloud_img.updateMask(mask2)\n",
        "\n",
        "  return image.updateMask(mask).updateMask(mask2)\n",
        "  #return image.updateMask(mask)"
      ],
      "execution_count": 6,
      "outputs": []
    },
    {
      "cell_type": "markdown",
      "metadata": {
        "id": "O-R07SMCpUsa"
      },
      "source": [
        "### Spectral indices and transformations\n",
        "\n",
        "Spectral indices are designed to combine different wavelengths of energy in order to highlight some materials or features of interest.\n",
        "\n",
        "Code for the Landsat 8 indices was adapted from *renelikestacos* on github. There are quite a few here, and many more have been created.\n",
        "\n",
        "This exercise uses the *NDVI (Normalized Difference Vegetation Index)* as an example. NDVI is [described here](https://earthobservatory.nasa.gov/features/MeasuringVegetation/measuring_vegetation_2.php) in the context of the MODIS sensor system - this exercise uses Sentinel-2 imagery which has 10 meter size pixels.\n",
        "\n",
        "Other indices are described here:\n",
        "- [Landsat 8 Spectral Indices](https://www.usgs.gov/core-science-systems/nli/landsat/landsat-surface-reflectance-derived-spectral-indices?qt-science_support_page_related_con=0#qt-science_support_page_related_con)\n",
        "- [Sentinel-2 indices](https://custom-scripts.sentinel-hub.com/custom-scripts/sentinel-2/indexdb/) On first look-over I thought there was one for \"Macaroni\" but I misread the table."
      ]
    },
    {
      "cell_type": "code",
      "metadata": {
        "id": "_1mdLKQcL4WQ"
      },
      "source": [
        "# Landsat 8 indices\n",
        "def NDVI(image):\n",
        "    return image.normalizedDifference(['B5', 'B4'])\n",
        "\n",
        "def SAM(image):\n",
        "    band1 = image.select(\"B1\")\n",
        "    bandn = image.select(\"B2\",\"B3\",\"B4\",\"B5\",\"B6\",\"B7\",\"B8\",\"B9\");\n",
        "    maxObjSize = 256;\n",
        "    b = band1.divide(bandn);\n",
        "    spectralAngleMap = b.atan();\n",
        "    spectralAngleMap_sin = spectralAngleMap.sin();\n",
        "    spectralAngleMap_cos = spectralAngleMap.cos();\n",
        "    sum_cos = spectralAngleMap_cos.reduce(ee.call(\"Reducer.sum\"));\n",
        "    sum_sin = spectralAngleMap_sin.reduce(ee.call(\"Reducer.sum\"));\n",
        "    return ee.Image.cat(sum_sin, sum_cos, spectralAngleMap_sin, spectralAngleMap_cos);\n",
        "\n",
        "#Enhanced Vegetation Index\n",
        "def EVI(image):\n",
        "    # L(Canopy background)\n",
        "    # C1,C2(Coefficients of aerosol resistance term)\n",
        "    # GainFactor(Gain or scaling factor)\n",
        "    gain_factor = ee.Image(2.5);\n",
        "    coefficient_1 = ee.Image(6);\n",
        "    coefficient_2 = ee.Image(7.5);\n",
        "    l = ee.Image(1);\n",
        "    nir = image.select(\"B5\");\n",
        "    red = image.select(\"B4\");\n",
        "    blue = image.select(\"B2\");\n",
        "    evi = image.expression(\n",
        "        \"Gain_Factor*((NIR-RED)/(NIR+C1*RED-C2*BLUE+L))\",\n",
        "        {\n",
        "            \"Gain_Factor\":gain_factor,\n",
        "            \"NIR\":nir,\n",
        "            \"RED\":red,\n",
        "            \"C1\":coefficient_1,\n",
        "            \"C2\":coefficient_2,\n",
        "            \"BLUE\":blue,\n",
        "            \"L\":l\n",
        "        }\n",
        "    )\n",
        "    return evi\n",
        "\n",
        "#Atmospherically Resistant Vegetation Index\n",
        "def ARVI(image):\n",
        "    red = image.select(\"B4\")\n",
        "    blue = image.select(\"B2\")\n",
        "    nir = image.select(\"B5\")\n",
        "    red_square = red.multiply(red)\n",
        "    arvi = image.expression(\n",
        "        \"NIR - (REDsq - BLUE)/(NIR+(REDsq-BLUE))\",{\n",
        "            \"NIR\": nir,\n",
        "            \"REDsq\": red_square,\n",
        "            \"BLUE\": blue\n",
        "        }\n",
        "    )\n",
        "    return arvi\n",
        "\n",
        "#Leaf Area Index\n",
        "def LAI(image):\n",
        "    nir = image.select(\"B5\")\n",
        "    red = image.select(\"B4\")\n",
        "    coeff1 = ee.Image(0.0305);\n",
        "    coeff2 = ee.Image(1.2640);\n",
        "    lai = image.expression(\n",
        "        \"(((NIR/RED)*COEFF1)+COEFF2)\",\n",
        "        {\n",
        "            \"NIR\":nir,\n",
        "            \"RED\":red,\n",
        "            \"COEFF1\":coeff1,\n",
        "            \"COEFF2\":coeff2\n",
        "        }\n",
        "    )\n",
        "    return lai"
      ],
      "execution_count": 7,
      "outputs": []
    },
    {
      "cell_type": "markdown",
      "metadata": {
        "id": "TpGWwSzRWVQ8"
      },
      "source": [
        "This exercise demonstrates the use of Sentinel-2 image data, so these indices need to be adapted to the different band names in the dataset."
      ]
    },
    {
      "cell_type": "code",
      "metadata": {
        "id": "ftc5lAv_1m7c"
      },
      "source": [
        "# adapted to Sentinel-2\n",
        "\n",
        "# NDVI for Sentinel-2 bands\n",
        "def senNDVI(image):\n",
        "    return image.normalizedDifference(['B8', 'B4'])"
      ],
      "execution_count": 8,
      "outputs": []
    },
    {
      "cell_type": "markdown",
      "metadata": {
        "id": "HvO5VenAkzW8"
      },
      "source": [
        "## Create target areas for analysis\n",
        "\n",
        "A single point will be used to set the initial data search.  \n",
        "\n",
        "Note that this is 'x, y' style (longitude, latitude)\n",
        " - Hagen Research Natural Area (up the South Fork of Gate Creek): [-122.418960, 44.163945]\n"
      ]
    },
    {
      "cell_type": "code",
      "metadata": {
        "id": "ljnxUV3SQ4v4"
      },
      "source": [
        "# use the Gate Creek point\n",
        "rnapoint = [-122.418960, 44.163945]"
      ],
      "execution_count": 9,
      "outputs": []
    },
    {
      "cell_type": "code",
      "metadata": {
        "id": "7lWamfcxlq8B"
      },
      "source": [
        "# Create earth engine point\n",
        "point = {'type':'Point', 'coordinates':rnapoint}"
      ],
      "execution_count": 10,
      "outputs": []
    },
    {
      "cell_type": "markdown",
      "metadata": {
        "id": "NRkBfvLmqfKn"
      },
      "source": [
        "## Create image collection\n",
        "\n",
        "An 'image collection' is a group (or filtered group) of related imagery or other data.\n",
        "\n",
        "- [ImageCollection Overview](https://samapriya.github.io/gee-py/projects/collection_overview/)\n",
        "\n",
        "Images in earth engine are described here.\n",
        "\n",
        "- [Image Overview](https://samapriya.github.io/gee-py/projects/imgoverview/)\n",
        "\n",
        "Collections can be vast, so commonly they are filtered by a geographic area or time period."
      ]
    },
    {
      "cell_type": "markdown",
      "metadata": {
        "id": "EOheguOoSFn3"
      },
      "source": [
        "### Set time period\n",
        "\n",
        "This exercise uses data from early 2015 to the October 10, 2020. The Sentinel-2 image collection frequency increases over this time as a second sensor comes into use.\n",
        "\n",
        "Landsat 8 dataset availability is from April 2013 onwards, so a longer time period could be analysed with this data."
      ]
    },
    {
      "cell_type": "code",
      "metadata": {
        "id": "E4SyNGHuSIfe"
      },
      "source": [
        "# Set start and end date\n",
        "startTime = datetime.datetime(2015, 3, 28)\n",
        "# endTime = datetime.datetime.now()\n",
        "endTime = datetime.datetime(2020, 11, 9)"
      ],
      "execution_count": 11,
      "outputs": []
    },
    {
      "cell_type": "markdown",
      "metadata": {
        "id": "X617_vqWT5j_"
      },
      "source": [
        "### Load Sentinel-2 image collection\n",
        "\n",
        "\n"
      ]
    },
    {
      "cell_type": "code",
      "metadata": {
        "id": "-k3222AZkS7h"
      },
      "source": [
        "# Create Sentinel-2 image collection\n",
        "collection = ee.ImageCollection(\"COPERNICUS/S2\").filterDate(startTime, endTime).filterBounds(point)\n",
        "\n",
        "# Create Landsat 8 image collection\n",
        "#L8collection = ee.ImageCollection(\"LANDSAT/LC08/C01/T1_SR\").filterDate(startTime, endTime).filterBounds(point)"
      ],
      "execution_count": 12,
      "outputs": []
    },
    {
      "cell_type": "markdown",
      "metadata": {
        "id": "XLINtAoq7SNn"
      },
      "source": [
        "### Image Collection Information and Metadata\n",
        "\n",
        "It is usually a good idea to examine the data in the collections created. "
      ]
    },
    {
      "cell_type": "code",
      "metadata": {
        "id": "iLwViKs57a2D",
        "outputId": "dd76860f-8851-4032-b74e-c3b4ab7ff22e",
        "colab": {
          "base_uri": "https://localhost:8080/"
        }
      },
      "source": [
        "# Get the number of images.\n",
        "count = collection.size()\n",
        "print('Count: ', str(count.getInfo())+'\\n')"
      ],
      "execution_count": 13,
      "outputs": [
        {
          "output_type": "stream",
          "text": [
            "Count:  280\n",
            "\n"
          ],
          "name": "stdout"
        }
      ]
    },
    {
      "cell_type": "code",
      "metadata": {
        "id": "bO1qjVV_jYB6",
        "outputId": "51dd25c1-a90b-4941-a2fe-b4bd5dc5ffd0",
        "colab": {
          "base_uri": "https://localhost:8080/"
        }
      },
      "source": [
        "# Get the date range of images in the collection.\n",
        "drange = collection.reduceColumns(ee.Reducer.minMax(), [\"system:time_start\"])\n",
        "mindate = (ee.Date(drange.get('min')).getInfo())\n",
        "maxdate = (ee.Date(drange.get('max')).getInfo())\n",
        "print(f'Sentinel 2 Date range: {mindate} to {maxdate}')"
      ],
      "execution_count": 14,
      "outputs": [
        {
          "output_type": "stream",
          "text": [
            "Sentinel 2 Date range: {'type': 'Date', 'value': 1445454617457} to {'type': 'Date', 'value': 1604862746318}\n"
          ],
          "name": "stdout"
        }
      ]
    },
    {
      "cell_type": "markdown",
      "metadata": {
        "id": "AWCThsh7YvDP"
      },
      "source": [
        "Those dates look a little odd - they are a timestamp (in milliseconds) from Jan 1, 1970 - this is 'UNIX epoch time.' We can convert back to a more human-readable format this way:"
      ]
    },
    {
      "cell_type": "code",
      "metadata": {
        "id": "k1mLPm7RnTSd",
        "outputId": "f89c1793-6088-4377-b6ce-7032db8bf33a",
        "colab": {
          "base_uri": "https://localhost:8080/"
        }
      },
      "source": [
        "# divide by 1000 to convert from milliseconds\n",
        "datetime.datetime.fromtimestamp(0/1000)"
      ],
      "execution_count": 15,
      "outputs": [
        {
          "output_type": "execute_result",
          "data": {
            "text/plain": [
              "datetime.datetime(1970, 1, 1, 0, 0)"
            ]
          },
          "metadata": {
            "tags": []
          },
          "execution_count": 15
        }
      ]
    },
    {
      "cell_type": "markdown",
      "metadata": {
        "id": "mIUwJp7Jn07h"
      },
      "source": [
        "So the date / time of the oldest image in this particular collection is:"
      ]
    },
    {
      "cell_type": "code",
      "metadata": {
        "id": "Z4yyv7A3ogQZ",
        "outputId": "c9cec2ab-9793-4c21-dca8-5b54d81b67d9",
        "colab": {
          "base_uri": "https://localhost:8080/"
        }
      },
      "source": [
        "datetime.datetime.fromtimestamp(1445454617457/1000)"
      ],
      "execution_count": 16,
      "outputs": [
        {
          "output_type": "execute_result",
          "data": {
            "text/plain": [
              "datetime.datetime(2015, 10, 21, 19, 10, 17, 457000)"
            ]
          },
          "metadata": {
            "tags": []
          },
          "execution_count": 16
        }
      ]
    },
    {
      "cell_type": "markdown",
      "metadata": {
        "id": "gtKalLVhnf3C"
      },
      "source": [
        "There are many other types of information about the images in the metadata."
      ]
    },
    {
      "cell_type": "code",
      "metadata": {
        "id": "e34kWlb97bBQ",
        "outputId": "d0427526-7dd6-493a-e53d-2d8a5e4d4406",
        "colab": {
          "base_uri": "https://localhost:8080/"
        }
      },
      "source": [
        "#Get a list of all metadata properties.\n",
        "properties = collection.propertyNames()\n",
        "print('Metadata properties: '+str(properties.getInfo())) # ee.List of metadata properties"
      ],
      "execution_count": 17,
      "outputs": [
        {
          "output_type": "stream",
          "text": [
            "Metadata properties: ['date_range', 'period', 'system:visualization_0_min', 'type_name', 'system:visualization_0_bands', 'thumb', 'description', 'source_tags', 'system:id', 'visualization_0_max', 'provider_url', 'title', 'sample', 'tags', 'system:visualization_0_max', 'product_tags', 'provider', 'visualization_0_min', 'system:version', 'system:visualization_0_name', 'visualization_0_name', 'visualization_0_bands']\n"
          ],
          "name": "stdout"
        }
      ]
    },
    {
      "cell_type": "markdown",
      "metadata": {
        "id": "r6vF7aAQZSlb"
      },
      "source": [
        "### Metadata for the first image in the collection\n",
        "\n",
        "'Metadata' or standarized information about a dataset, is useful both for human-understanding of the usefulness (or not) of a particular dataset. More information about getting metatdata can be found at these links: \n",
        "- https://developers.google.com/earth-engine/ic_info\n",
        "- https://samapriya.github.io/gee-py/projects/collection_meta/"
      ]
    },
    {
      "cell_type": "code",
      "metadata": {
        "id": "cwNRyRJzq4BJ"
      },
      "source": [
        "# sort the collection by time of image acquisition\n",
        "sorted = collection.sort(\"system:time_start\");\n",
        "\n",
        "# Get the first (oldest) image.\n",
        "scene = sorted.first()"
      ],
      "execution_count": 18,
      "outputs": []
    },
    {
      "cell_type": "code",
      "metadata": {
        "id": "Y51JGW1h0ZGd",
        "outputId": "4f3cc186-1796-4b47-ca60-d62f70055e91",
        "colab": {
          "base_uri": "https://localhost:8080/"
        }
      },
      "source": [
        "#properties of the image\n",
        "properties = scene.propertyNames()\n",
        "print('Metadata properties: '+str(properties.getInfo())) # ee.List of metadata properties"
      ],
      "execution_count": 19,
      "outputs": [
        {
          "output_type": "stream",
          "text": [
            "Metadata properties: ['DATATAKE_IDENTIFIER', 'SPACECRAFT_NAME', 'FORMAT_CORRECTNESS_FLAG', 'IERS_BULLETIN_FILENAME', 'system:id', 'MEAN_INCIDENCE_AZIMUTH_ANGLE_B8A', 'MEAN_SOLAR_AZIMUTH_ANGLE', 'system:footprint', 'SOLAR_IRRADIANCE_B12', 'system:version', 'SOLAR_IRRADIANCE_B10', 'SOLAR_IRRADIANCE_B11', 'GENERATION_TIME', 'SOLAR_IRRADIANCE_B8A', 'PRODUCT_URI', 'SENSOR_QUALITY_FLAG', 'CLOUD_COVERAGE_ASSESSMENT', 'system:time_end', 'system:time_start', 'DATASTRIP_ID', 'PROCESSING_BASELINE', 'SENSING_ORBIT_NUMBER', 'GEOMETRIC_QUALITY_FLAG', 'SENSING_ORBIT_DIRECTION', 'GRANULE_ID', 'REFLECTANCE_CONVERSION_CORRECTION', 'MEAN_INCIDENCE_AZIMUTH_ANGLE_B8', 'DATATAKE_TYPE', 'MEAN_INCIDENCE_AZIMUTH_ANGLE_B9', 'MEAN_INCIDENCE_AZIMUTH_ANGLE_B6', 'MEAN_INCIDENCE_AZIMUTH_ANGLE_B7', 'RADIOMETRIC_QUALITY_FLAG', 'MEAN_INCIDENCE_AZIMUTH_ANGLE_B4', 'MEAN_INCIDENCE_ZENITH_ANGLE_B1', 'MEAN_INCIDENCE_AZIMUTH_ANGLE_B5', 'MEAN_INCIDENCE_AZIMUTH_ANGLE_B2', 'MEAN_INCIDENCE_AZIMUTH_ANGLE_B3', 'MEAN_INCIDENCE_ZENITH_ANGLE_B5', 'MEAN_INCIDENCE_AZIMUTH_ANGLE_B1', 'MEAN_INCIDENCE_ZENITH_ANGLE_B4', 'MEAN_INCIDENCE_ZENITH_ANGLE_B3', 'MEAN_INCIDENCE_ZENITH_ANGLE_B2', 'MEAN_INCIDENCE_ZENITH_ANGLE_B9', 'MEAN_INCIDENCE_ZENITH_ANGLE_B8', 'MEAN_INCIDENCE_ZENITH_ANGLE_B7', 'MEAN_INCIDENCE_ZENITH_ANGLE_B6', 'MEAN_SOLAR_ZENITH_ANGLE', 'MEAN_INCIDENCE_ZENITH_ANGLE_B8A', 'GRI_FILENAME', 'MGRS_TILE', 'PRODUCTION_DEM_TYPE', 'CLOUDY_PIXEL_PERCENTAGE', 'GENERAL_QUALITY_FLAG', 'PRODUCT_ID', 'ECMWF_DATA_REF', 'MEAN_INCIDENCE_ZENITH_ANGLE_B10', 'SOLAR_IRRADIANCE_B9', 'DEGRADED_MSI_DATA_PERCENTAGE', 'MEAN_INCIDENCE_ZENITH_ANGLE_B11', 'MEAN_INCIDENCE_ZENITH_ANGLE_B12', 'SOLAR_IRRADIANCE_B6', 'MEAN_INCIDENCE_AZIMUTH_ANGLE_B10', 'SOLAR_IRRADIANCE_B5', 'MEAN_INCIDENCE_AZIMUTH_ANGLE_B11', 'SOLAR_IRRADIANCE_B8', 'MEAN_INCIDENCE_AZIMUTH_ANGLE_B12', 'SOLAR_IRRADIANCE_B7', 'SOLAR_IRRADIANCE_B2', 'SOLAR_IRRADIANCE_B1', 'SOLAR_IRRADIANCE_B4', 'SOLAR_IRRADIANCE_B3', 'system:asset_size', 'system:index', 'system:bands', 'system:band_names']\n"
          ],
          "name": "stdout"
        }
      ]
    },
    {
      "cell_type": "code",
      "metadata": {
        "id": "gvpceMb-SxHa",
        "outputId": "18c540a8-79dd-48d2-ac15-0a2661f767b8",
        "colab": {
          "base_uri": "https://localhost:8080/"
        }
      },
      "source": [
        "#Get the 'tile' location identifier\n",
        "target = 'MGRS_TILE'\n",
        "meta = scene.get(target).getInfo()\n",
        "print('{} = {}'.format(target, meta))"
      ],
      "execution_count": 20,
      "outputs": [
        {
          "output_type": "stream",
          "text": [
            "MGRS_TILE = 10TEP\n"
          ],
          "name": "stdout"
        }
      ]
    },
    {
      "cell_type": "code",
      "metadata": {
        "id": "djgmo8xe0OXM",
        "outputId": "250712cb-3a81-4ebf-acfa-708782f673a3",
        "colab": {
          "base_uri": "https://localhost:8080/"
        }
      },
      "source": [
        "#Get the data id\n",
        "target = 'GRANULE_ID'\n",
        "meta = scene.get(target).getInfo()\n",
        "print('{} = {}'.format(target, meta))"
      ],
      "execution_count": 21,
      "outputs": [
        {
          "output_type": "stream",
          "text": [
            "GRANULE_ID = S2A_OPER_MSI_L1C_TL_MTI__20160419T053054_A001726_T10TEP_N02.01\n"
          ],
          "name": "stdout"
        }
      ]
    },
    {
      "cell_type": "code",
      "metadata": {
        "id": "4943Q7tCMX7m",
        "outputId": "1a6f5f01-bb6c-4cf2-cdd5-eb248793b276",
        "colab": {
          "base_uri": "https://localhost:8080/"
        }
      },
      "source": [
        "#Get estimated cloud cover\n",
        "target = 'CLOUD_COVERAGE_ASSESSMENT'\n",
        "meta = scene.get(target).getInfo()\n",
        "print('{} = {}'.format(target, meta))"
      ],
      "execution_count": 22,
      "outputs": [
        {
          "output_type": "stream",
          "text": [
            "CLOUD_COVERAGE_ASSESSMENT = 29.30593076923077\n"
          ],
          "name": "stdout"
        }
      ]
    },
    {
      "cell_type": "code",
      "metadata": {
        "id": "hGG7TqstsfkY",
        "outputId": "72fcff16-2f62-47a5-c954-3660f1c737ea",
        "colab": {
          "base_uri": "https://localhost:8080/"
        }
      },
      "source": [
        "#Get the timestamp and convert it to a date.\n",
        "date = ee.Date(scene.get('system:time_start')).getInfo()\n",
        "# print(date['value'])\n",
        "x=date['value']\n",
        "print(datetime.datetime.fromtimestamp(x/1000))"
      ],
      "execution_count": 23,
      "outputs": [
        {
          "output_type": "stream",
          "text": [
            "2015-10-21 19:10:17.457000\n"
          ],
          "name": "stdout"
        }
      ]
    },
    {
      "cell_type": "code",
      "metadata": {
        "id": "abaOch96CqWr",
        "outputId": "18a960a4-d9a3-453b-e2d9-a24f36f87b33",
        "colab": {
          "base_uri": "https://localhost:8080/"
        }
      },
      "source": [
        "oldest = collection.sort('system:time_start').limit(1)\n",
        "scene = oldest.first()\n",
        "#Get a specific metadata property.\n",
        "target = 'system:time_start'\n",
        "meta = scene.get(target).getInfo()\n",
        "print('{} = {}'.format(target, meta))\n",
        "\n",
        "#Get the timestamp and convert it to a date.\n",
        "date = ee.Date(scene.get('system:time_start')).getInfo()\n",
        "# print(date['value'])\n",
        "x=date['value']\n",
        "print(datetime.datetime.fromtimestamp(x/1000))"
      ],
      "execution_count": 24,
      "outputs": [
        {
          "output_type": "stream",
          "text": [
            "system:time_start = 1445454617457\n",
            "2015-10-21 19:10:17.457000\n"
          ],
          "name": "stdout"
        }
      ]
    },
    {
      "cell_type": "markdown",
      "metadata": {
        "id": "6hmjqOgWNz8_"
      },
      "source": [
        "# **Assignment: Geog 485**\n",
        "\n",
        "What  does the “MGRS_TILE” metadata mean in the context of the Sentinel-2 image collection - how do we interpret the value ‘10TEP’? Describe how the Sentinel-2 tile system works.\n",
        "\n",
        "Here is the code cell again..."
      ]
    },
    {
      "cell_type": "code",
      "metadata": {
        "id": "CtT5TH81OqdW",
        "outputId": "ff23c8ec-dcbb-4257-aafd-89c63504eefe",
        "colab": {
          "base_uri": "https://localhost:8080/"
        }
      },
      "source": [
        "#Get the 'tile' location identifier\n",
        "target = 'MGRS_TILE'\n",
        "meta = scene.get(target).getInfo()\n",
        "print('{} = {}'.format(target, meta))"
      ],
      "execution_count": 25,
      "outputs": [
        {
          "output_type": "stream",
          "text": [
            "MGRS_TILE = 10TEP\n"
          ],
          "name": "stdout"
        }
      ]
    },
    {
      "cell_type": "markdown",
      "metadata": {
        "id": "yvp693sBizOZ"
      },
      "source": [
        "# **Assignment: Geog 491**\n",
        "\n",
        "What data type are the `mindate` and `maxdate` variables? How could the outputof the code below be made to print the following:\n",
        "```\n",
        "Sentinel 2 Date range: 1445454617457 to 1604430749547\n",
        "```\n",
        "instead of:\n",
        "```\n",
        "# Sentinel 2 Date range: {'type': 'Date', 'value': 1445454617457} to {'type': 'Date', 'value': 1604862746318}\n",
        "```\n",
        "\n",
        "\n",
        "\n"
      ]
    },
    {
      "cell_type": "code",
      "metadata": {
        "id": "j37LpNYeq84O",
        "outputId": "b183f7e1-5e98-4fe1-8d5a-877f1bb04297",
        "colab": {
          "base_uri": "https://localhost:8080/"
        }
      },
      "source": [
        "# this is the code below, mentioned above\n",
        "# Get the date range of images in the collection.\n",
        "drange = collection.reduceColumns(ee.Reducer.minMax(), [\"system:time_start\"])\n",
        "mindate = (ee.Date(drange.get('min')).getInfo()['value']) # datatype is dict so provide the relevant key\n",
        "maxdate = (ee.Date(drange.get('max')).getInfo()['value']) # datatype is dict so provide the relevant key\n",
        "print(f'Sentinel 2 Date range: {mindate} to {maxdate}')"
      ],
      "execution_count": 25,
      "outputs": [
        {
          "output_type": "stream",
          "text": [
            "Sentinel 2 Date range: 1445454617457 to 1604862746318\n"
          ],
          "name": "stdout"
        }
      ]
    },
    {
      "cell_type": "markdown",
      "metadata": {
        "id": "LOmEVXOvtZ6f"
      },
      "source": [
        "# **Assignment: Geog 491**\n",
        "\n",
        "Write a function to convert a timestamp from a date, given a ee image.\n",
        "\n",
        "Adapt the code below, so that given an image, the output will be the date/time in a more human readable format.\n",
        "\n",
        ">The function could start something like this:\n",
        "\n",
        "```\n",
        "def ts_toDate(scene):\n",
        "  # your function here\n",
        "  ``` \n",
        ">\n",
        ">and end up printing output such as:\n",
        ">\n",
        "`2015-10-21 19:10:17.457000`\n",
        "\n",
        "\n",
        "\n"
      ]
    },
    {
      "cell_type": "code",
      "metadata": {
        "id": "JOPg10l-ryO-",
        "outputId": "5bce7019-16a4-4a3b-ca1e-97661e1d239f",
        "colab": {
          "base_uri": "https://localhost:8080/"
        }
      },
      "source": [
        "def ts_toScene(scene):\n",
        "    #Get the timestamp and convert it to a date.\n",
        "    date = ee.Date(scene.get('system:time_start')).getInfo()\n",
        "    # print(date['value'])\n",
        "    x=date['value']\n",
        "    print(datetime.datetime.fromtimestamp(x/1000))\n",
        "\n",
        "ts_toScene(scene)"
      ],
      "execution_count": 27,
      "outputs": [
        {
          "output_type": "stream",
          "text": [
            "2015-10-21 19:10:17.457000\n"
          ],
          "name": "stdout"
        }
      ]
    },
    {
      "cell_type": "markdown",
      "metadata": {
        "id": "UDnm_7RDkIsv"
      },
      "source": [
        "## View the most recent image\n",
        "\n",
        "The data can be viewed as a static image or with an interactive map. First, the static image - these are handy because you can copy and paste them directly into another document\n"
      ]
    },
    {
      "cell_type": "code",
      "metadata": {
        "id": "Au0RcZYp7a8C",
        "outputId": "cb007efa-7196-46b3-9148-44489862a19f",
        "colab": {
          "base_uri": "https://localhost:8080/"
        }
      },
      "source": [
        "# Limit the collection to the 1 most recent images.\n",
        "recent = collection.sort('system:time_start', False).limit(1)\n",
        "# pull the image from the collection\n",
        "image = recent.first()\n",
        "print('Recent images: '+str(recent.getInfo())+'\\n')"
      ],
      "execution_count": 28,
      "outputs": [
        {
          "output_type": "stream",
          "text": [
            "Recent images: {'type': 'ImageCollection', 'bands': [], 'id': 'COPERNICUS/S2', 'version': 1605737192946217, 'properties': {'date_range': [1435017600000, 1605571200000], 'period': 0, 'system:visualization_0_min': '0.0', 'type_name': 'ImageCollection', 'system:visualization_0_bands': 'B4,B3,B2', 'thumb': 'https://mw1.google.com/ges/dd/images/sentinel2_thumb.png', 'description': '<p>Sentinel-2 is a wide-swath, high-resolution, multi-spectral\\nimaging mission supporting Copernicus Land Monitoring studies,\\nincluding the monitoring of vegetation, soil and water cover,\\nas well as observation of inland waterways and coastal areas.</p><p>The Sentinel-2 data contain 13 UINT16 spectral bands representing\\nTOA reflectance scaled by 10000. See the <a href=\"https://sentinel.esa.int/documents/247904/685211/Sentinel-2_User_Handbook\">Sentinel-2 User Handbook</a>\\nfor details. In addition, three QA bands are present where one\\n(QA60) is a bitmask band with cloud mask information. For more\\ndetails, <a href=\"https://sentinel.esa.int/web/sentinel/technical-guides/sentinel-2-msi/level-1c/cloud-masks\">see the full explanation of how cloud masks are computed.</a></p><p>Each Sentinel-2 product (zip archive) may contain multiple\\ngranules. Each granule becomes a separate Earth Engine asset.\\nEE asset ids for Sentinel-2 assets have the following format:\\nCOPERNICUS/S2/20151128T002653_20151128T102149_T56MNN. Here the\\nfirst numeric part represents the sensing date and time, the\\nsecond numeric part represents the product generation date and\\ntime, and the final 6-character string is a unique granule identifier\\nindicating its UTM grid reference (see <a href=\"https://en.wikipedia.org/wiki/Military_Grid_Reference_System\">MGRS</a>).</p><p>The Level-2 data produced by ESA can be found in the collection\\n<a href=\"COPERNICUS_S2_SR\">COPERNICUS/S2_SR</a>.</p><p>Clouds can be mostly removed by using\\n<a href=\"COPERNICUS_S2_CLOUD_PROBABILITY\">COPERNICUS/S2_CLOUD_PROBABILITY</a>.</p><p>For more details on Sentinel-2 radiometric resolution, <a href=\"https://earth.esa.int/web/sentinel/user-guides/sentinel-2-msi/resolutions/radiometric\">see this page</a>.</p><p><b>Revisit Interval</b><br>\\n  5 days\\n</p><p><b>Bands</b><table class=\"eecat\"><tr><th scope=\"col\">Name</th><th scope=\"col\">Description</th></tr><tr><td>B1</td><td><p>Aerosols</p></td></tr><tr><td>B2</td><td><p>Blue</p></td></tr><tr><td>B3</td><td><p>Green</p></td></tr><tr><td>B4</td><td><p>Red</p></td></tr><tr><td>B5</td><td><p>Red Edge 1</p></td></tr><tr><td>B6</td><td><p>Red Edge 2</p></td></tr><tr><td>B7</td><td><p>Red Edge 3</p></td></tr><tr><td>B8</td><td><p>NIR</p></td></tr><tr><td>B8A</td><td><p>Red Edge 4</p></td></tr><tr><td>B9</td><td><p>Water vapor</p></td></tr><tr><td>B10</td><td><p>Cirrus</p></td></tr><tr><td>B11</td><td><p>SWIR 1</p></td></tr><tr><td>B12</td><td><p>SWIR 2</p></td></tr><tr><td>QA10</td><td><p>Always empty</p></td></tr><tr><td>QA20</td><td><p>Always empty</p></td></tr><tr><td>QA60</td><td><p>Cloud mask</p></td></tr><tr><td colspan=100>\\n      Bitmask for QA60\\n<ul><li>\\n          Bit 10: Opaque clouds\\n<ul><li>0: No opaque clouds</li><li>1: Opaque clouds present</li></ul></li><li>\\n          Bit 11: Cirrus clouds\\n<ul><li>0: No cirrus clouds</li><li>1: Cirrus clouds present</li></ul></li></ul></td></tr></table><p><b>Image Properties</b><table class=\"eecat\"><tr><th scope=\"col\">Name</th><th scope=\"col\">Type</th><th scope=\"col\">Description</th></tr><tr><td>CLOUDY_PIXEL_PERCENTAGE</td><td>DOUBLE</td><td><p>Granule-specific cloudy pixel percentage taken from the original metadata</p></td></tr><tr><td>CLOUD_COVERAGE_ASSESSMENT</td><td>DOUBLE</td><td><p>Cloudy pixel percentage for the whole archive that contains this granule. Taken from the original metadata</p></td></tr><tr><td>DATASTRIP_ID</td><td>STRING</td><td><p>Unique identifier of the datastrip Product Data Item (PDI)</p></td></tr><tr><td>DATATAKE_IDENTIFIER</td><td>STRING</td><td><p>Uniquely identifies a given Datatake. The ID contains the Sentinel-2 satellite, start date and time, absolute orbit number, and processing baseline.</p></td></tr><tr><td>DATATAKE_TYPE</td><td>STRING</td><td><p>MSI operation mode</p></td></tr><tr><td>DEGRADED_MSI_DATA_PERCENTAGE</td><td>DOUBLE</td><td><p>Percentage of degraded MSI and ancillary data</p></td></tr><tr><td>FORMAT_CORRECTNESS_FLAG</td><td>STRING</td><td><p>Synthesis of the On-Line Quality Control (OLQC) checks performed at granule (Product_Syntax) and datastrip (Product Syntax and DS_Consistency) levels</p></td></tr><tr><td>GENERAL_QUALITY_FLAG</td><td>STRING</td><td><p>Synthesis of the OLQC checks performed at the datastrip level (Relative_Orbit_Number)</p></td></tr><tr><td>GENERATION_TIME</td><td>DOUBLE</td><td><p>Product generation time</p></td></tr><tr><td>GEOMETRIC_QUALITY_FLAG</td><td>STRING</td><td><p>Synthesis of the OLQC checks performed at the datastrip level (Attitude_Quality_Indicator)</p></td></tr><tr><td>GRANULE_ID</td><td>STRING</td><td><p>Unique identifier of the granule PDI (PDI_ID) </p></td></tr><tr><td>MEAN_INCIDENCE_AZIMUTH_ANGLE_B1</td><td>DOUBLE</td><td><p>Mean value containing viewing incidence azimuth angle average for band B1 and for all detectors</p></td></tr><tr><td>MEAN_INCIDENCE_AZIMUTH_ANGLE_B2</td><td>DOUBLE</td><td><p>Mean value containing viewing incidence azimuth angle average for band B2 and for all detectors</p></td></tr><tr><td>MEAN_INCIDENCE_AZIMUTH_ANGLE_B3</td><td>DOUBLE</td><td><p>Mean value containing viewing incidence azimuth angle average for band B3 and for all detectors</p></td></tr><tr><td>MEAN_INCIDENCE_AZIMUTH_ANGLE_B4</td><td>DOUBLE</td><td><p>Mean value containing viewing incidence azimuth angle average for band B4 and for all detectors</p></td></tr><tr><td>MEAN_INCIDENCE_AZIMUTH_ANGLE_B5</td><td>DOUBLE</td><td><p>Mean value containing viewing incidence azimuth angle average for band B5 and for all detectors</p></td></tr><tr><td>MEAN_INCIDENCE_AZIMUTH_ANGLE_B6</td><td>DOUBLE</td><td><p>Mean value containing viewing incidence azimuth angle average for band B6 and for all detectors</p></td></tr><tr><td>MEAN_INCIDENCE_AZIMUTH_ANGLE_B7</td><td>DOUBLE</td><td><p>Mean value containing viewing incidence azimuth angle average for band B7 and for all detectors</p></td></tr><tr><td>MEAN_INCIDENCE_AZIMUTH_ANGLE_B8</td><td>DOUBLE</td><td><p>Mean value containing viewing incidence azimuth angle average for band B8 and for all detectors</p></td></tr><tr><td>MEAN_INCIDENCE_AZIMUTH_ANGLE_B8A</td><td>DOUBLE</td><td><p>Mean value containing viewing incidence azimuth angle average for band B8a and for all detectors</p></td></tr><tr><td>MEAN_INCIDENCE_AZIMUTH_ANGLE_B9</td><td>DOUBLE</td><td><p>Mean value containing viewing incidence azimuth angle average for band B9 and for all detectors</p></td></tr><tr><td>MEAN_INCIDENCE_AZIMUTH_ANGLE_B10</td><td>DOUBLE</td><td><p>Mean value containing viewing incidence azimuth angle average for band B10 and for all detectors</p></td></tr><tr><td>MEAN_INCIDENCE_AZIMUTH_ANGLE_B11</td><td>DOUBLE</td><td><p>Mean value containing viewing incidence azimuth angle average for band B11 and for all detectors</p></td></tr><tr><td>MEAN_INCIDENCE_AZIMUTH_ANGLE_B12</td><td>DOUBLE</td><td><p>Mean value containing viewing incidence azimuth angle average for band B12 and for all detectors</p></td></tr><tr><td>MEAN_INCIDENCE_ZENITH_ANGLE_B1</td><td>DOUBLE</td><td><p>Mean value containing viewing incidence zenith angle average for band B1 and for all detectors</p></td></tr><tr><td>MEAN_INCIDENCE_ZENITH_ANGLE_B2</td><td>DOUBLE</td><td><p>Mean value containing viewing incidence zenith angle average for band B2 and for all detectors</p></td></tr><tr><td>MEAN_INCIDENCE_ZENITH_ANGLE_B3</td><td>DOUBLE</td><td><p>Mean value containing viewing incidence zenith angle average for band B3 and for all detectors</p></td></tr><tr><td>MEAN_INCIDENCE_ZENITH_ANGLE_B4</td><td>DOUBLE</td><td><p>Mean value containing viewing incidence zenith angle average for band B4 and for all detectors</p></td></tr><tr><td>MEAN_INCIDENCE_ZENITH_ANGLE_B5</td><td>DOUBLE</td><td><p>Mean value containing viewing incidence zenith angle average for band B5 and for all detectors</p></td></tr><tr><td>MEAN_INCIDENCE_ZENITH_ANGLE_B6</td><td>DOUBLE</td><td><p>Mean value containing viewing incidence zenith angle average for band B6 and for all detectors</p></td></tr><tr><td>MEAN_INCIDENCE_ZENITH_ANGLE_B7</td><td>DOUBLE</td><td><p>Mean value containing viewing incidence zenith angle average for band B7 and for all detectors</p></td></tr><tr><td>MEAN_INCIDENCE_ZENITH_ANGLE_B8</td><td>DOUBLE</td><td><p>Mean value containing viewing incidence zenith angle average for band B8 and for all detectors</p></td></tr><tr><td>MEAN_INCIDENCE_ZENITH_ANGLE_B8A</td><td>DOUBLE</td><td><p>Mean value containing viewing incidence zenith angle average for band B8a and for all detectors</p></td></tr><tr><td>MEAN_INCIDENCE_ZENITH_ANGLE_B9</td><td>DOUBLE</td><td><p>Mean value containing viewing incidence zenith angle average for band B9 and for all detectors</p></td></tr><tr><td>MEAN_INCIDENCE_ZENITH_ANGLE_B10</td><td>DOUBLE</td><td><p>Mean value containing viewing incidence zenith angle average for band B10 and for all detectors</p></td></tr><tr><td>MEAN_INCIDENCE_ZENITH_ANGLE_B11</td><td>DOUBLE</td><td><p>Mean value containing viewing incidence zenith angle average for band B11 and for all detectors</p></td></tr><tr><td>MEAN_INCIDENCE_ZENITH_ANGLE_B12</td><td>DOUBLE</td><td><p>Mean value containing viewing incidence zenith angle average for band B12 and for all detectors</p></td></tr><tr><td>MEAN_SOLAR_AZIMUTH_ANGLE</td><td>DOUBLE</td><td><p>Mean value containing sun azimuth angle average for all bands and detectors</p></td></tr><tr><td>MEAN_SOLAR_ZENITH_ANGLE</td><td>DOUBLE</td><td><p>Mean value containing sun zenith angle average for all bands and detectors</p></td></tr><tr><td>MGRS_TILE</td><td>STRING</td><td><p>US-Military Grid Reference System (MGRS) tile</p></td></tr><tr><td>PROCESSING_BASELINE</td><td>STRING</td><td><p>Configuration baseline used at the time of the product generation in terms of processor software version and major Ground Image Processing Parameters (GIPP) version</p></td></tr><tr><td>PRODUCT_ID</td><td>STRING</td><td><p>The full id of the original Sentinel-2 product</p></td></tr><tr><td>RADIOMETRIC_QUALITY_FLAG</td><td>STRING</td><td><p>Based on the OLQC reports contained in the Datastrips/QI_DATA with RADIOMETRIC_QUALITY checklist name</p></td></tr><tr><td>REFLECTANCE_CONVERSION_CORRECTION</td><td>DOUBLE</td><td><p>Earth-Sun distance correction factor</p></td></tr><tr><td>SENSING_ORBIT_DIRECTION</td><td>STRING</td><td><p>Imaging orbit direction</p></td></tr><tr><td>SENSING_ORBIT_NUMBER</td><td>DOUBLE</td><td><p>Imaging orbit number</p></td></tr><tr><td>SENSOR_QUALITY_FLAG</td><td>STRING</td><td><p>Synthesis of the OLQC checks performed at granule (Missing_Lines, Corrupted_ISP, and Sensing_Time) and datastrip (Degraded_SAD and Datation_Model) levels</p></td></tr><tr><td>SOLAR_IRRADIANCE_B1</td><td>DOUBLE</td><td><p>Mean solar exoatmospheric irradiance for band B1</p></td></tr><tr><td>SOLAR_IRRADIANCE_B2</td><td>DOUBLE</td><td><p>Mean solar exoatmospheric irradiance for band B2</p></td></tr><tr><td>SOLAR_IRRADIANCE_B3</td><td>DOUBLE</td><td><p>Mean solar exoatmospheric irradiance for band B3</p></td></tr><tr><td>SOLAR_IRRADIANCE_B4</td><td>DOUBLE</td><td><p>Mean solar exoatmospheric irradiance for band B4</p></td></tr><tr><td>SOLAR_IRRADIANCE_B5</td><td>DOUBLE</td><td><p>Mean solar exoatmospheric irradiance for band B5</p></td></tr><tr><td>SOLAR_IRRADIANCE_B6</td><td>DOUBLE</td><td><p>Mean solar exoatmospheric irradiance for band B6</p></td></tr><tr><td>SOLAR_IRRADIANCE_B7</td><td>DOUBLE</td><td><p>Mean solar exoatmospheric irradiance for band B7</p></td></tr><tr><td>SOLAR_IRRADIANCE_B8</td><td>DOUBLE</td><td><p>Mean solar exoatmospheric irradiance for band B8</p></td></tr><tr><td>SOLAR_IRRADIANCE_B8A</td><td>DOUBLE</td><td><p>Mean solar exoatmospheric irradiance for band B8a</p></td></tr><tr><td>SOLAR_IRRADIANCE_B9</td><td>DOUBLE</td><td><p>Mean solar exoatmospheric irradiance for band B9</p></td></tr><tr><td>SOLAR_IRRADIANCE_B10</td><td>DOUBLE</td><td><p>Mean solar exoatmospheric irradiance for band B10</p></td></tr><tr><td>SOLAR_IRRADIANCE_B11</td><td>DOUBLE</td><td><p>Mean solar exoatmospheric irradiance for band B11</p></td></tr><tr><td>SOLAR_IRRADIANCE_B12</td><td>DOUBLE</td><td><p>Mean solar exoatmospheric irradiance for band B12</p></td></tr><tr><td>SPACECRAFT_NAME</td><td>STRING</td><td><p>Sentinel-2 spacecraft name: Sentinel-2A, Sentinel-2B</p></td></tr></table><p><b>Terms of Use</b><br><p>The use of Sentinel data is governed by the <a href=\"https://scihub.copernicus.eu/twiki/pub/SciHubWebPortal/TermsConditions/Sentinel_Data_Terms_and_Conditions.pdf\">Copernicus Sentinel Data Terms and Conditions.</a></p><style>\\n  table.eecat {\\n  border: 1px solid black;\\n  border-collapse: collapse;\\n  font-size: 13px;\\n  }\\n  table.eecat td, tr, th {\\n  text-align: left; vertical-align: top;\\n  border: 1px solid gray; padding: 3px;\\n  }\\n  td.nobreak { white-space: nowrap; }\\n</style>', 'source_tags': ['eu', 'esa', 'copernicus', 'sentinel'], 'visualization_0_max': '3000.0', 'provider_url': 'https://earth.esa.int/web/sentinel/user-guides/sentinel-2-msi/product-types/level-1c', 'title': 'Sentinel-2 MSI: MultiSpectral Instrument, Level-1C', 'sample': 'https://mw1.google.com/ges/dd/images/sentinel2_sample.png', 'tags': ['eu', 'esa', 'copernicus', 'sentinel', 'msi', 'radiance'], 'system:visualization_0_max': '3000.0', 'product_tags': ['msi', 'radiance'], 'provider': 'European Union/ESA/Copernicus', 'visualization_0_min': '0.0', 'system:visualization_0_name': 'RGB', 'visualization_0_name': 'RGB', 'visualization_0_bands': 'B4,B3,B2'}, 'features': [{'type': 'Image', 'bands': [{'id': 'B1', 'data_type': {'type': 'PixelType', 'precision': 'int', 'min': 0, 'max': 65535}, 'dimensions': [1830, 1830], 'crs': 'EPSG:32610', 'crs_transform': [60, 0, 499980, 0, -60, 4900020]}, {'id': 'B2', 'data_type': {'type': 'PixelType', 'precision': 'int', 'min': 0, 'max': 65535}, 'dimensions': [10980, 10980], 'crs': 'EPSG:32610', 'crs_transform': [10, 0, 499980, 0, -10, 4900020]}, {'id': 'B3', 'data_type': {'type': 'PixelType', 'precision': 'int', 'min': 0, 'max': 65535}, 'dimensions': [10980, 10980], 'crs': 'EPSG:32610', 'crs_transform': [10, 0, 499980, 0, -10, 4900020]}, {'id': 'B4', 'data_type': {'type': 'PixelType', 'precision': 'int', 'min': 0, 'max': 65535}, 'dimensions': [10980, 10980], 'crs': 'EPSG:32610', 'crs_transform': [10, 0, 499980, 0, -10, 4900020]}, {'id': 'B5', 'data_type': {'type': 'PixelType', 'precision': 'int', 'min': 0, 'max': 65535}, 'dimensions': [5490, 5490], 'crs': 'EPSG:32610', 'crs_transform': [20, 0, 499980, 0, -20, 4900020]}, {'id': 'B6', 'data_type': {'type': 'PixelType', 'precision': 'int', 'min': 0, 'max': 65535}, 'dimensions': [5490, 5490], 'crs': 'EPSG:32610', 'crs_transform': [20, 0, 499980, 0, -20, 4900020]}, {'id': 'B7', 'data_type': {'type': 'PixelType', 'precision': 'int', 'min': 0, 'max': 65535}, 'dimensions': [5490, 5490], 'crs': 'EPSG:32610', 'crs_transform': [20, 0, 499980, 0, -20, 4900020]}, {'id': 'B8', 'data_type': {'type': 'PixelType', 'precision': 'int', 'min': 0, 'max': 65535}, 'dimensions': [10980, 10980], 'crs': 'EPSG:32610', 'crs_transform': [10, 0, 499980, 0, -10, 4900020]}, {'id': 'B8A', 'data_type': {'type': 'PixelType', 'precision': 'int', 'min': 0, 'max': 65535}, 'dimensions': [5490, 5490], 'crs': 'EPSG:32610', 'crs_transform': [20, 0, 499980, 0, -20, 4900020]}, {'id': 'B9', 'data_type': {'type': 'PixelType', 'precision': 'int', 'min': 0, 'max': 65535}, 'dimensions': [1830, 1830], 'crs': 'EPSG:32610', 'crs_transform': [60, 0, 499980, 0, -60, 4900020]}, {'id': 'B10', 'data_type': {'type': 'PixelType', 'precision': 'int', 'min': 0, 'max': 65535}, 'dimensions': [1830, 1830], 'crs': 'EPSG:32610', 'crs_transform': [60, 0, 499980, 0, -60, 4900020]}, {'id': 'B11', 'data_type': {'type': 'PixelType', 'precision': 'int', 'min': 0, 'max': 65535}, 'dimensions': [5490, 5490], 'crs': 'EPSG:32610', 'crs_transform': [20, 0, 499980, 0, -20, 4900020]}, {'id': 'B12', 'data_type': {'type': 'PixelType', 'precision': 'int', 'min': 0, 'max': 65535}, 'dimensions': [5490, 5490], 'crs': 'EPSG:32610', 'crs_transform': [20, 0, 499980, 0, -20, 4900020]}, {'id': 'QA10', 'data_type': {'type': 'PixelType', 'precision': 'int', 'min': 0, 'max': 65535}, 'dimensions': [10980, 10980], 'crs': 'EPSG:32610', 'crs_transform': [10, 0, 499980, 0, -10, 4900020]}, {'id': 'QA20', 'data_type': {'type': 'PixelType', 'precision': 'int', 'min': 0, 'max': 4294967295}, 'dimensions': [5490, 5490], 'crs': 'EPSG:32610', 'crs_transform': [20, 0, 499980, 0, -20, 4900020]}, {'id': 'QA60', 'data_type': {'type': 'PixelType', 'precision': 'int', 'min': 0, 'max': 65535}, 'dimensions': [1830, 1830], 'crs': 'EPSG:32610', 'crs_transform': [60, 0, 499980, 0, -60, 4900020]}], 'id': 'COPERNICUS/S2/20201108T190619_20201108T190937_T10TEP', 'version': 1604918276960954, 'properties': {'DATATAKE_IDENTIFIER': 'GS2B_20201108T190619_019201_N02.09', 'SPACECRAFT_NAME': 'Sentinel-2B', 'MEAN_INCIDENCE_AZIMUTH_ANGLE_B8A': 180.239353779268, 'MEAN_SOLAR_AZIMUTH_ANGLE': 168.916672885333, 'system:footprint': {'type': 'LinearRing', 'coordinates': [[-123.0003751072488, 44.25342882687833], [-123.00037620840668, 44.25341760069833], [-123.00036999996, 43.26497050094295], [-123.0003198495259, 43.264929016326505], [-123.00027712528038, 43.2648832918607], [-123.0002568228857, 43.264880478080165], [-121.64775033380245, 43.256887290360694], [-121.6476925338056, 43.25692314748531], [-121.64762914122437, 43.256953539268814], [-121.64762491121046, 43.25696822838492], [-121.63654761813457, 43.75108243096889], [-121.62518479963921, 44.24514391260382], [-121.62523478144615, 44.245185976099734], [-121.62527716741299, 44.24523223579001], [-121.62529774983632, 44.24523526872674], [-123.00025051304759, 44.25350758414401], [-123.00030848445714, 44.25347101710293], [-123.00037222156104, 44.2534399285842], [-123.0003751072488, 44.25342882687833]]}, 'SOLAR_IRRADIANCE_B12': 87.75, 'SOLAR_IRRADIANCE_B10': 365.41, 'SENSOR_QUALITY': 'PASSED', 'SOLAR_IRRADIANCE_B11': 247.08, 'GENERATION_TIME': 1604869545000, 'SOLAR_IRRADIANCE_B8A': 953.93, 'FORMAT_CORRECTNESS': 'PASSED', 'CLOUD_COVERAGE_ASSESSMENT': 54.7491, 'system:time_end': 1604862746318, 'system:time_start': 1604862746318, 'DATASTRIP_ID': 'S2B_OPER_MSI_L1C_DS_VGS2_20201108T210545_S20201108T190937_N02.09', 'PROCESSING_BASELINE': '02.09', 'SENSING_ORBIT_NUMBER': 13, 'SENSING_ORBIT_DIRECTION': 'DESCENDING', 'GENERAL_QUALITY': 'PASSED', 'GRANULE_ID': 'L1C_T10TEP_A019201_20201108T190937', 'REFLECTANCE_CONVERSION_CORRECTION': 1.01784208152295, 'MEAN_INCIDENCE_AZIMUTH_ANGLE_B8': 183.678766551948, 'DATATAKE_TYPE': 'INS-NOBS', 'MEAN_INCIDENCE_AZIMUTH_ANGLE_B9': 179.949013591163, 'MEAN_INCIDENCE_AZIMUTH_ANGLE_B6': 180.738020526732, 'MEAN_INCIDENCE_AZIMUTH_ANGLE_B7': 180.396468188023, 'MEAN_INCIDENCE_AZIMUTH_ANGLE_B4': 181.488459301848, 'MEAN_INCIDENCE_ZENITH_ANGLE_B1': 3.06096727356728, 'MEAN_INCIDENCE_AZIMUTH_ANGLE_B5': 181.055541343056, 'RADIOMETRIC_QUALITY': 'PASSED', 'MEAN_INCIDENCE_AZIMUTH_ANGLE_B2': 184.987071637604, 'MEAN_INCIDENCE_AZIMUTH_ANGLE_B3': 182.699336178519, 'MEAN_INCIDENCE_ZENITH_ANGLE_B5': 2.71900581098002, 'MEAN_INCIDENCE_AZIMUTH_ANGLE_B1': 180.030943670919, 'MEAN_INCIDENCE_ZENITH_ANGLE_B4': 2.64481690654212, 'MEAN_INCIDENCE_ZENITH_ANGLE_B3': 2.52257794129474, 'MEAN_INCIDENCE_ZENITH_ANGLE_B2': 2.41454621067338, 'MEAN_INCIDENCE_ZENITH_ANGLE_B9': 3.15909757945412, 'MEAN_INCIDENCE_ZENITH_ANGLE_B8': 2.46488763690128, 'MEAN_INCIDENCE_ZENITH_ANGLE_B7': 2.88154446683624, 'MEAN_INCIDENCE_ZENITH_ANGLE_B6': 2.79784385263119, 'MEAN_SOLAR_ZENITH_ANGLE': 61.3349640276014, 'MEAN_INCIDENCE_ZENITH_ANGLE_B8A': 2.96850786633124, 'MGRS_TILE': '10TEP', 'CLOUDY_PIXEL_PERCENTAGE': 54.7491, 'PRODUCT_ID': 'S2B_MSIL1C_20201108T190619_N0209_R013_T10TEP_20201108T210545', 'MEAN_INCIDENCE_ZENITH_ANGLE_B10': 2.61112887044591, 'SOLAR_IRRADIANCE_B9': 817.58, 'DEGRADED_MSI_DATA_PERCENTAGE': 0, 'MEAN_INCIDENCE_ZENITH_ANGLE_B11': 2.788414609212, 'MEAN_INCIDENCE_ZENITH_ANGLE_B12': 2.99096938679987, 'SOLAR_IRRADIANCE_B6': 1291.13, 'MEAN_INCIDENCE_AZIMUTH_ANGLE_B10': 181.650467921773, 'SOLAR_IRRADIANCE_B5': 1425.78, 'MEAN_INCIDENCE_AZIMUTH_ANGLE_B11': 180.765113885832, 'SOLAR_IRRADIANCE_B8': 1041.28, 'MEAN_INCIDENCE_AZIMUTH_ANGLE_B12': 180.297169377253, 'SOLAR_IRRADIANCE_B7': 1175.57, 'SOLAR_IRRADIANCE_B2': 1959.75, 'SOLAR_IRRADIANCE_B1': 1874.3, 'SOLAR_IRRADIANCE_B4': 1512.79, 'GEOMETRIC_QUALITY': 'PASSED', 'SOLAR_IRRADIANCE_B3': 1824.93, 'system:asset_size': 1489683834, 'system:index': '20201108T190619_20201108T190937_T10TEP'}}]}\n",
            "\n"
          ],
          "name": "stdout"
        }
      ]
    },
    {
      "cell_type": "code",
      "metadata": {
        "id": "2dFfqmvOjlwW",
        "outputId": "4b1d4890-e9ef-4c0d-9b67-9e8543a1ab5e",
        "colab": {
          "base_uri": "https://localhost:8080/",
          "height": 1000
        }
      },
      "source": [
        "# set the visualization parameters for the output\n",
        "visParams = {'bands': ['B4', 'B3', 'B2'], 'max': 3000, 'dimensions':1000 }\n",
        "\n",
        "# create image thumbnail in earth engine and view\n",
        "thumbnail = image.getThumbUrl(visParams)\n",
        "Image(url=thumbnail)"
      ],
      "execution_count": 29,
      "outputs": [
        {
          "output_type": "execute_result",
          "data": {
            "text/html": [
              "<img src=\"https://earthengine.googleapis.com/v1alpha/projects/earthengine-legacy/thumbnails/7c4dafdb7b863b71f279be9b9919f081-2d0f97d4f7979fddd7a62604b7385a03:getPixels\"/>"
            ],
            "text/plain": [
              "<IPython.core.display.Image object>"
            ]
          },
          "metadata": {
            "tags": []
          },
          "execution_count": 29
        }
      ]
    },
    {
      "cell_type": "markdown",
      "metadata": {
        "id": "R-nu_-hOsUOS"
      },
      "source": [
        "It is a bit cloudy as of this run. The 'least cloudy' images - there are probably many, can be pulled from the collection using the Quality Assurance band\n",
        "\n",
        "## Get the least cloudy image \n",
        "\n",
        "The metadata for the collection allows the sorting by estimated cloud cover - for now, limit it to the ten least cloudy images\n"
      ]
    },
    {
      "cell_type": "code",
      "metadata": {
        "id": "QV01e3Lwy1zx"
      },
      "source": [
        "sorted = collection.sort('CLOUD_COVERAGE_ASSESSMENT').limit(10)\n",
        "\n",
        "# Get the first (least cloudy) image.\n",
        "image = sorted.first();"
      ],
      "execution_count": 30,
      "outputs": []
    },
    {
      "cell_type": "code",
      "metadata": {
        "id": "QfENkvtmvoaZ",
        "outputId": "6a7cef5f-9236-46d4-a63d-72c4d2d9e034",
        "colab": {
          "base_uri": "https://localhost:8080/"
        }
      },
      "source": [
        "# Get the number of images.\n",
        "count = sorted.size()\n",
        "print('Count: ', str(count.getInfo())+'\\n')\n",
        "\n",
        "# Get the date range of images in the collection.\n",
        "drange = sorted.reduceColumns(ee.Reducer.minMax(), [\"system:time_start\"])\n",
        "print('Sentinel 2 Date range: ', str(ee.Date(drange.get('min')).getInfo()), str(ee.Date(drange.get('max')).getInfo())+'\\n')"
      ],
      "execution_count": 31,
      "outputs": [
        {
          "output_type": "stream",
          "text": [
            "Count:  10\n",
            "\n",
            "Sentinel 2 Date range:  {'type': 'Date', 'value': 1499022428070} {'type': 'Date', 'value': 1539630645570}\n",
            "\n"
          ],
          "name": "stdout"
        }
      ]
    },
    {
      "cell_type": "code",
      "metadata": {
        "id": "lh2-4ibCIGM8",
        "outputId": "26fad0c7-80a6-49b3-ce32-da46c57e4e07",
        "colab": {
          "base_uri": "https://localhost:8080/"
        }
      },
      "source": [
        "#Get the timestamp and convert it to a date.\n",
        "date = ee.Date(image.get('system:time_start')).getInfo()\n",
        "# print(date['value'])\n",
        "x=date['value']\n",
        "print(datetime.datetime.fromtimestamp(x/1000))"
      ],
      "execution_count": 32,
      "outputs": [
        {
          "output_type": "stream",
          "text": [
            "2017-07-02 19:07:08.070000\n"
          ],
          "name": "stdout"
        }
      ]
    },
    {
      "cell_type": "markdown",
      "metadata": {
        "id": "a2vlapShw-Uv"
      },
      "source": [
        "An image from July 2, 2017. View this 'least cloudy' image."
      ]
    },
    {
      "cell_type": "code",
      "metadata": {
        "id": "Mi-rLPs_y-5P",
        "outputId": "bf0cbec4-3505-4cdf-f404-4a568e089a28",
        "colab": {
          "base_uri": "https://localhost:8080/",
          "height": 1000
        }
      },
      "source": [
        "visParams = {'bands': ['B4', 'B3', 'B2'], 'max': 3000, 'dimensions':1000}\n",
        "thumbnail = image.getThumbUrl(visParams)\n",
        "Image(url=thumbnail)"
      ],
      "execution_count": 33,
      "outputs": [
        {
          "output_type": "execute_result",
          "data": {
            "text/html": [
              "<img src=\"https://earthengine.googleapis.com/v1alpha/projects/earthengine-legacy/thumbnails/39a36592a768a643faa69f0dce166123-884d0fdb1981ac14a7c41c9cde700431:getPixels\"/>"
            ],
            "text/plain": [
              "<IPython.core.display.Image object>"
            ]
          },
          "metadata": {
            "tags": []
          },
          "execution_count": 33
        }
      ]
    },
    {
      "cell_type": "markdown",
      "metadata": {
        "id": "_Ixt2tP92gP9"
      },
      "source": [
        "## Calculate and view NDVI\n",
        "\n",
        "This image is much better.\n",
        "\n",
        "The NDVI is calculated with a ratio of two wavelenths of reflected energy - 'red' and 'near-infrared'.\n",
        "\n",
        "Higher NDVI values should correspond to larger amounts of green vegetation. To calculate this, run the Sentinel-2 NDVI function made earlier in the exercise on the existing image."
      ]
    },
    {
      "cell_type": "code",
      "metadata": {
        "id": "nWHUfD1RxeiT"
      },
      "source": [
        "# run the sentinel NDVI function\n",
        "sndvi = senNDVI(image)"
      ],
      "execution_count": 34,
      "outputs": []
    },
    {
      "cell_type": "code",
      "metadata": {
        "id": "PtaX1PdB2JLt",
        "outputId": "15c09dbf-fd04-46a8-82bb-9a987a7cae88",
        "colab": {
          "base_uri": "https://localhost:8080/",
          "height": 1000
        }
      },
      "source": [
        "# change visualization setting for the NDVI data\n",
        "visParams = {'min':0, 'max': 1, 'dimensions':1000}\n",
        "thumbnail = sndvi.getThumbUrl(visParams)\n",
        "Image(url=thumbnail)"
      ],
      "execution_count": 35,
      "outputs": [
        {
          "output_type": "execute_result",
          "data": {
            "text/html": [
              "<img src=\"https://earthengine.googleapis.com/v1alpha/projects/earthengine-legacy/thumbnails/2cb319fb0c1c47b8381c067b69518c18-89e52226d13e11e35ebbc140b401ed39:getPixels\"/>"
            ],
            "text/plain": [
              "<IPython.core.display.Image object>"
            ]
          },
          "metadata": {
            "tags": []
          },
          "execution_count": 35
        }
      ]
    },
    {
      "cell_type": "markdown",
      "metadata": {
        "id": "VxIBiG6xqdp1"
      },
      "source": [
        "Brighter areas in the image should represent areas with higher amounts of growing green vegetation."
      ]
    },
    {
      "cell_type": "markdown",
      "metadata": {
        "id": "5lfQ8NWY2kJW"
      },
      "source": [
        "## View scene interactively\n",
        "\n",
        "To examine whether NDVI is actually showing growing vegetation more closely, an interactive map is useful.  \n",
        "\n",
        "The *folium* python library can be used to view this same data on an interactive map.  Multiple layers and other graphics can also be viewed, ans the visualization saved as an .html file.\n",
        "\n",
        "First, lets get the parameters for visualization set up."
      ]
    },
    {
      "cell_type": "code",
      "metadata": {
        "id": "SKysBp1pJHyu"
      },
      "source": [
        "# visualization settings\n",
        "rgbParams = {'bands': ['B4', 'B3', 'B2'], 'max': 3000, 'gamma': [1.4,1.2, 1.4]}\n",
        "ndviParams = {'min':0, 'max': 1}"
      ],
      "execution_count": 36,
      "outputs": []
    },
    {
      "cell_type": "code",
      "metadata": {
        "id": "PTu6dMAQ_030",
        "outputId": "7238c654-ea2a-495a-ddc5-7d271f3a1594",
        "colab": {
          "base_uri": "https://localhost:8080/",
          "height": 621
        }
      },
      "source": [
        "# flip the point coordinate to be lat, long (y, x) for folium\n",
        "f = folium.Figure(width=800, height=600)\n",
        "Map = geemap.Map(center=rnapoint[::-1], zoom= 12).add_to(f)\n",
        "Map.addLayer(image, rgbParams, 'Natural Color Sentinel-2');\n",
        "Map.addLayer(sndvi, ndviParams, 'NDVI')\n",
        "Map.addLayerControl()\n",
        "f"
      ],
      "execution_count": 37,
      "outputs": [
        {
          "output_type": "execute_result",
          "data": {
            "text/html": [
              "<iframe src=\"about:blank\" width=\"800\" height=\"600\"style=\"border:none !important;\" data-html=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 onload=\"this.contentDocument.open();this.contentDocument.write(atob(this.getAttribute('data-html')));this.contentDocument.close();\" \"allowfullscreen\" \"webkitallowfullscreen\" \"mozallowfullscreen\"></iframe>"
            ],
            "text/plain": [
              "<branca.element.Figure at 0x7fd0368a1710>"
            ]
          },
          "metadata": {
            "tags": []
          },
          "execution_count": 37
        }
      ]
    },
    {
      "cell_type": "markdown",
      "metadata": {
        "id": "aYNc-zqeN02G"
      },
      "source": [
        "## Find the least cloudy recent image and examine\n",
        "\n",
        "Now, to compare the above image (from 2017) with a more recent, relatively cloud free image."
      ]
    },
    {
      "cell_type": "code",
      "metadata": {
        "id": "OJ87m6QPN8Ob"
      },
      "source": [
        "# Limit the collection to the 10 most recent images.\n",
        "recent = collection.sort('system:time_start', False).limit(10)\n",
        "\n",
        "sorted = recent.sort('CLOUD_COVERAGE_ASSESSMENT')\n",
        "\n",
        "# Get the first (least cloudy) image.\n",
        "recentqa = sorted.first()\n",
        "\n",
        "recentndvi = senNDVI(recentqa) "
      ],
      "execution_count": 38,
      "outputs": []
    },
    {
      "cell_type": "code",
      "metadata": {
        "id": "wmANjmBlwHHg",
        "outputId": "6e0f9e09-7a5d-42f9-dfac-aa67426de5ca",
        "colab": {
          "base_uri": "https://localhost:8080/"
        }
      },
      "source": [
        "#Get the timestamp and convert it to a date.\n",
        "date = ee.Date(recentqa.get('system:time_start')).getInfo()\n",
        "# print(date['value'])\n",
        "x=date['value']\n",
        "print(datetime.datetime.fromtimestamp(x/1000))"
      ],
      "execution_count": 39,
      "outputs": [
        {
          "output_type": "stream",
          "text": [
            "2020-10-09 19:12:28.376000\n"
          ],
          "name": "stdout"
        }
      ]
    },
    {
      "cell_type": "markdown",
      "metadata": {
        "id": "SgBmzkf21TZi"
      },
      "source": [
        "### An image from October 9, 2020"
      ]
    },
    {
      "cell_type": "markdown",
      "metadata": {
        "id": "W2smfHU_wTlP"
      },
      "source": [
        "In this run, it is Oct. 9th, 2020.\n",
        "\n",
        "Lets look at this data, and add the point used to 'filter' the collection geographically as well."
      ]
    },
    {
      "cell_type": "code",
      "metadata": {
        "id": "-Thp3o4XOZIa",
        "outputId": "b906ccd1-be0d-4c2f-ef92-68adb594f18d",
        "colab": {
          "base_uri": "https://localhost:8080/",
          "height": 621
        }
      },
      "source": [
        "# flip the point coordinate to be lat, long (y, x) for folium\n",
        "f = folium.Figure(width=800, height=600)\n",
        "Map = geemap.Map(center=rnapoint[::-1], zoom= 12).add_to(f)\n",
        "Map.addLayer(image, rgbParams, 'Before Natural Color')\n",
        "Map.addLayer(recentndvi, ndviParams, 'NDVI recently')\n",
        "Map.addLayer(sndvi, ndviParams, 'NDVI before')\n",
        "Map.addLayerControl()\n",
        "folium.Marker(rnapoint[::-1], popup='<i>Research Natural Area</i>').add_to(Map)\n",
        "\n",
        "f"
      ],
      "execution_count": 40,
      "outputs": [
        {
          "output_type": "execute_result",
          "data": {
            "text/html": [
              "<iframe src=\"about:blank\" width=\"800\" height=\"600\"style=\"border:none !important;\" data-html=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 onload=\"this.contentDocument.open();this.contentDocument.write(atob(this.getAttribute('data-html')));this.contentDocument.close();\" \"allowfullscreen\" \"webkitallowfullscreen\" \"mozallowfullscreen\"></iframe>"
            ],
            "text/plain": [
              "<branca.element.Figure at 0x7fd0366eac50>"
            ]
          },
          "metadata": {
            "tags": []
          },
          "execution_count": 40
        }
      ]
    },
    {
      "cell_type": "markdown",
      "metadata": {
        "id": "GtNBlIgsXrCs"
      },
      "source": [
        "### Use image math to compare the images\n",
        "\n",
        "Compute a difference image of NDVI between the two dates.\n",
        "\n",
        "Image math is relatively straightforward with earth engine (and it could also be calculated outside earth engine with the 'numpy' and related modules."
      ]
    },
    {
      "cell_type": "code",
      "metadata": {
        "id": "vgqYxxx9XwNn"
      },
      "source": [
        "# create image expression\n",
        "# the 'subtract() mathmatical operator could also be used\n",
        "# dif = recentndvi.subtract(sndvi)\n",
        "dif = image.expression('new-old', {'new': recentndvi, 'old': sndvi})\n",
        "difParams = {'min':-1, 'max': 1, 'palette': ['red', 'grey', 'green']}"
      ],
      "execution_count": 41,
      "outputs": []
    },
    {
      "cell_type": "markdown",
      "metadata": {
        "id": "XQAPA1XKRhqg"
      },
      "source": [
        "Examine the result - redder areas have less green vegation recently compared to 2017, while green areas have more."
      ]
    },
    {
      "cell_type": "code",
      "metadata": {
        "id": "Vwq2xIXuYuIZ",
        "outputId": "614d0423-baf8-4de3-e95d-2db0502c656b",
        "colab": {
          "base_uri": "https://localhost:8080/",
          "height": 621
        }
      },
      "source": [
        "# plot the difference image along with the other layers\n",
        "f = folium.Figure(width=800, height=600)\n",
        "# flip the point coordinate to be lat, long (y, x) for folium\n",
        "Map = geemap.Map(center=rnapoint[::-1], zoom= 11).add_to(f)\n",
        "Map.addLayer(image, rgbParams, 'Before Natural Color')\n",
        "Map.addLayer(recentqa, rgbParams, 'Recent Natural Color')\n",
        "Map.addLayer(recentndvi, ndviParams, 'NDVI recently')\n",
        "Map.addLayer(sndvi, ndviParams, 'NDVI before')\n",
        "Map.addLayer(dif, difParams, 'dif')\n",
        "Map.addLayerControl()\n",
        "folium.Marker(rnapoint[::-1], popup='<i>Research Natural Area</i>').add_to(Map)\n",
        "\n",
        "f"
      ],
      "execution_count": 42,
      "outputs": [
        {
          "output_type": "execute_result",
          "data": {
            "text/html": [
              "<iframe src=\"about:blank\" width=\"800\" height=\"600\"style=\"border:none !important;\" data-html=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 onload=\"this.contentDocument.open();this.contentDocument.write(atob(this.getAttribute('data-html')));this.contentDocument.close();\" \"allowfullscreen\" \"webkitallowfullscreen\" \"mozallowfullscreen\"></iframe>"
            ],
            "text/plain": [
              "<branca.element.Figure at 0x7fd0365f2940>"
            ]
          },
          "metadata": {
            "tags": []
          },
          "execution_count": 42
        }
      ]
    },
    {
      "cell_type": "markdown",
      "metadata": {
        "id": "z3WNGzYBhlnK"
      },
      "source": [
        "# Assignment: Geog 485\n",
        "\n",
        "## What explains the changes visible in the NDVI difference image?\n",
        "\n",
        "Greener areas are estimated to have more growing green vegetation recently, while redder areas are estimated to have less. Think about the time difference between the images as well.\n",
        "\n",
        "- seasonality,\n",
        "- atmosphere,\n",
        "- solar orientation,\n",
        "- actual LULC change\n",
        "\n",
        "There is likely more than one factor at play - don't forget to look at the images from the two dates in addition to the NDVI difference image for your answer - and to examine the entire image area using the zoom and pan tools."
      ]
    },
    {
      "cell_type": "markdown",
      "metadata": {
        "id": "_V4T2idqHxcs"
      },
      "source": [
        "## Time Series Analysis \n",
        "\n",
        "Since the collection has hundreds of images of this area since 2015, this data can be used to look at the variation of NDVI over a single point as a time series.\n"
      ]
    },
    {
      "cell_type": "markdown",
      "metadata": {
        "id": "EER3i_akyWPh"
      },
      "source": [
        "### Retrieve information over the collection time period\n",
        "\n",
        "The point used to geographically limit the image collection can be used to gather information from a single area over the entire time period.  The code for this is described [here](https://developers.google.com/earth-engine/apidocs/ee-imagecollection-getregion).  "
      ]
    },
    {
      "cell_type": "code",
      "metadata": {
        "id": "CK2ZYLN3yWPi"
      },
      "source": [
        "info = collection.getRegion(point,10).getInfo()"
      ],
      "execution_count": null,
      "outputs": []
    },
    {
      "cell_type": "markdown",
      "metadata": {
        "id": "BQJkX18lCWI9"
      },
      "source": [
        "### mask clouds to create a filtered collection\n",
        "\n",
        "We can use the cloud mask function created earlier to remove data that has been identified as cloudy in the collection, to compare with the data above.\n",
        "\n",
        "This new result will be called `dataset`"
      ]
    },
    {
      "cell_type": "code",
      "metadata": {
        "id": "cPZPZwIfCTTQ"
      },
      "source": [
        "# apply the cloud mask to the collection\n",
        "maskeddata = collection.map(maskS2clouds)"
      ],
      "execution_count": null,
      "outputs": []
    },
    {
      "cell_type": "markdown",
      "metadata": {
        "id": "xuGv6QpJOmkO"
      },
      "source": [
        "Get information about the filtered collection"
      ]
    },
    {
      "cell_type": "code",
      "metadata": {
        "id": "GdNN0KpP9A3W"
      },
      "source": [
        "# get the data for a specific area\n",
        "info_filt = maskeddata.getRegion(point,10).getInfo()"
      ],
      "execution_count": null,
      "outputs": []
    },
    {
      "cell_type": "markdown",
      "metadata": {
        "id": "fVP-7hxdhTlh"
      },
      "source": [
        "### Compare the unfilitered and the filtered collection\n",
        "\n",
        "Plot the data by turning it into a pandas dataframe and using the seaborn package to visualize it\n",
        "\n",
        "## unfiltered"
      ]
    },
    {
      "cell_type": "code",
      "metadata": {
        "id": "67tnKT4qNWpT"
      },
      "source": [
        "# plot the ndvi\n",
        "data = info\n",
        "\n",
        "# Reshape image collection \n",
        "header = data[0]\n",
        "data = array(data[1:])\n",
        "\n",
        "iTime = header.index('time')\n",
        "time = [datetime.datetime.fromtimestamp(i/1000) for i in (data[0:,iTime].astype(int))]\n",
        "\n",
        "# List of used image bands\n",
        "#band_list = ['RED',u'NIR']\n",
        "band_list = ['B4',u'B8']\n",
        "\n",
        "iBands = [header.index(b) for b in band_list]\n",
        "yData = data[0:,iBands].astype(np.float)\n",
        "\n",
        "# Calculate NDVI\n",
        "red = yData[:,0]\n",
        "nir = yData[:,1]\n",
        "ndvi = (nir - red) / (nir + red)\n",
        "\n",
        "# reshaoe NDVI into Pandas\n",
        "df = pd.DataFrame(data=ndvi, index=list(range(len(ndvi))), columns=['NDVI'])\n",
        "df = df.interpolate()\n",
        "df['Date'] = pd.Series(time, index=df.index)\n",
        "df = df.set_index(df.Date)\n",
        "df.index = pd.to_datetime(df.index)\n",
        "df['NDVI']=df['NDVI'].fillna(0)\n",
        "\n",
        "sns.set(rc={'figure.figsize':(20, 6)})\n",
        "df['NDVI'].plot(linewidth=0.5, color=\"green\")\n",
        "plt.title('NDVI', color='green')"
      ],
      "execution_count": null,
      "outputs": []
    },
    {
      "cell_type": "markdown",
      "metadata": {
        "id": "MFyjVoYPO6zH"
      },
      "source": [
        "Lots of spikiness - much of it related to cloudy pixels\n",
        "\n",
        "### Plot the filtered data"
      ]
    },
    {
      "cell_type": "code",
      "metadata": {
        "id": "_jkoDBnUxOlr"
      },
      "source": [
        "## plot the ndvi\n",
        "data = info_filt\n",
        "\n",
        "# Reshape image collection \n",
        "header = data[0]\n",
        "data = array(data[1:])\n",
        "\n",
        "iTime = header.index('time')\n",
        "time = [datetime.datetime.fromtimestamp(i/1000) for i in (data[0:,iTime].astype(int))]\n",
        "\n",
        "# List of used image bands\n",
        "#band_list = ['RED',u'NIR']\n",
        "band_list = ['B4',u'B8']\n",
        "\n",
        "iBands = [header.index(b) for b in band_list]\n",
        "yData = data[0:,iBands].astype(np.float)\n",
        "\n",
        "# Calculate NDVI\n",
        "red = yData[:,0]\n",
        "nir = yData[:,1]\n",
        "ndvi = (nir - red) / (nir + red)\n",
        "# reshaoe NDVI into Pandas\n",
        "df = pd.DataFrame(data=ndvi, index=list(range(len(ndvi))), columns=['NDVI'])\n",
        "df = df.interpolate()\n",
        "df['Date'] = pd.Series(time, index=df.index)\n",
        "df = df.set_index(df.Date)\n",
        "df.index = pd.to_datetime(df.index)\n",
        "df['NDVI']=df['NDVI'].fillna(0)\n",
        "\n",
        "sns.set(rc={'figure.figsize':(20, 6)})\n",
        "df['NDVI'].plot(linewidth=0.5, color=\"green\")\n",
        "plt.title('NDVI', color='green')"
      ],
      "execution_count": null,
      "outputs": []
    },
    {
      "cell_type": "markdown",
      "metadata": {
        "id": "Z-3lRZ0yPVfV"
      },
      "source": [
        "A little better, now examine the actual filtered data"
      ]
    },
    {
      "cell_type": "code",
      "metadata": {
        "id": "LMjpGefeUoU3"
      },
      "source": [
        "df.head(5)"
      ],
      "execution_count": null,
      "outputs": []
    },
    {
      "cell_type": "markdown",
      "metadata": {
        "id": "VVXCRfUSNmzu"
      },
      "source": [
        "## Interactive mapping\n",
        "\n",
        "### Make an interactive map with the chart data embedded\n",
        "\n",
        "The information we just plotted can be placed onto the interactive map, using the 'Altair' module for plotting. \n",
        "\n",
        "Altair is designed to quickly make charts that can be displayed online\n",
        "\n",
        "https://altair-viz.github.io/getting_started/overview.html\n",
        "\n",
        "Using the \"NDVI\" and \"Date\" columns, plot the NDVI over time.\n"
      ]
    },
    {
      "cell_type": "code",
      "metadata": {
        "id": "vw1t_cI9A2v2"
      },
      "source": [
        "chart = alt.Chart(df).mark_line().encode(y='NDVI', x='Date')\n",
        "chart"
      ],
      "execution_count": null,
      "outputs": []
    },
    {
      "cell_type": "markdown",
      "metadata": {
        "id": "qutpbwYj_JFu"
      },
      "source": [
        "Fix the size a bit.\n",
        "\n",
        "Chart Size: \n",
        "https://altair-viz.github.io/user_guide/customization.html#adjusting-chart-size"
      ]
    },
    {
      "cell_type": "code",
      "metadata": {
        "id": "urjSDMXjHPn2"
      },
      "source": [
        "chart = alt.Chart(df).mark_line().encode(y='NDVI', x='Date').properties(width=700, height=200)\n",
        "\n",
        "chart"
      ],
      "execution_count": null,
      "outputs": []
    },
    {
      "cell_type": "markdown",
      "metadata": {
        "id": "9VpbOjh434zi"
      },
      "source": [
        "This is still pretty spikey.  Much this is probably due to clouds, haze, smoke, or fog in the atmosphere - or snow on the ground."
      ]
    },
    {
      "cell_type": "markdown",
      "metadata": {
        "id": "0Pf1xS_6Ee70"
      },
      "source": [
        "### Embed the chart onto the folium map\n",
        "\n",
        "This rendition of the data can be embedded on the map as a pop up for a point.\n"
      ]
    },
    {
      "cell_type": "code",
      "metadata": {
        "id": "17pFzkpiBAvP"
      },
      "source": [
        "chart = alt.Chart(df).mark_line().encode(y='NDVI', x='Date').properties(width=500, height=150)\n",
        "vis1 = chart.to_json()\n",
        "\n",
        "f = folium.Figure(width=800, height=600)\n",
        "# flip the point coordinate to be lat, long (y, x) for folium\n",
        "Map = geemap.Map(center=rnapoint[::-1], zoom= 11).add_to(f)\n",
        "#Map.addLayer(image, rgbParams, 'Before Natural Color')\n",
        "Map.addLayer(recentqa, rgbParams, 'Recent Natural Color')\n",
        "#Map.addLayer(recentndvi, ndviParams, 'NDVI recently')\n",
        "#Map.addLayer(sndvi, ndviParams, 'NDVI before')\n",
        "Map.addLayer(dif, difParams, 'dif')\n",
        "Map.addLayerControl()\n",
        "#folium.Marker(rnapoint[::-1], popup='<i>Research Natural Area</i>').add_to(Map)\n",
        "\n",
        "# create a marker, with altair graphic as popup\n",
        "circ_mkr = folium.CircleMarker(\n",
        "    location=rnapoint[::-1],\n",
        "    radius=10,\n",
        "    color='grey',\n",
        "    fill=True,\n",
        "    fill_color='red',\n",
        "    fillOpacity=1.0,\n",
        "    opacity=1.0,\n",
        "    tooltip='NDVI time series',\n",
        "    popup=folium.Popup().add_child(folium.VegaLite(vis1, width=600, height=200)),\n",
        ")\n",
        "\n",
        "# add to map\n",
        "circ_mkr.add_to(Map)\n",
        "\n",
        "#Map.save('testmap.html')\n",
        "f"
      ],
      "execution_count": null,
      "outputs": []
    },
    {
      "cell_type": "markdown",
      "metadata": {
        "id": "EB3CDijfCD0y"
      },
      "source": [
        "## Unsupervised image classification\n",
        "\n",
        "The image data can also be grouped into clusters based on the spectral similarity of the pixels. One way to do this is with  'Unsupervised Classification' - a common machine learning task.\n",
        "\n",
        "> https://developers.google.com/earth-engine/guides/clustering\n",
        "\n",
        "We will focus the sampling to build the spectral signatures used by the classifier on an area around the Holiday Farm fire of September 2020."
      ]
    },
    {
      "cell_type": "markdown",
      "metadata": {
        "id": "12H1mpC_ClrU"
      },
      "source": [
        "### Classify the Data\n",
        "\n"
      ]
    },
    {
      "cell_type": "code",
      "metadata": {
        "id": "G0KGF_7AbJ8y"
      },
      "source": [
        "# Define a region in which to generate a sample of the input.\n",
        "region = ee.Geometry.Rectangle([-122.8258, 43.9770, -122.0677, 44.2383])\n",
        "\n",
        "# Make the training dataset.\n",
        "#training = recentqa.sample(**{'numPixels':3000})\n",
        "training = recentqa.sample(**{'region': region, 'scale': 10, 'numPixels':2000})\n",
        "\n",
        "# Instantiate the clusterer and train it to identify 5 classes based on the samples.\n",
        "clusterer = ee.Clusterer.wekaKMeans(5).train(training);\n",
        "\n",
        "# Cluster the input using the trained clusterer.\n",
        "result = recentqa.cluster(clusterer);"
      ],
      "execution_count": null,
      "outputs": []
    },
    {
      "cell_type": "markdown",
      "metadata": {
        "id": "A5u8v5PYEC-o"
      },
      "source": [
        "### Look at the resulting clusters"
      ]
    },
    {
      "cell_type": "code",
      "metadata": {
        "id": "R2WoCq9pFyvm"
      },
      "source": [
        "f = folium.Figure(width=800, height=600)\n",
        "# flip the point coordinate to be lat, long (y, x) for folium\n",
        "Map = geemap.Map(center=rnapoint[::-1], zoom= 11).add_to(f)\n",
        "\n",
        "#Map.addLayer(image, rgbParams, 'Before Natural Color')\n",
        "Map.addLayer(recentqa, rgbParams, 'Recent Natural Color')\n",
        "#Map.addLayer(recentndvi, ndviParams, 'NDVI recently')\n",
        "Map.addLayer(result.randomVisualizer(),{}, 'Cluster')\n",
        "#Map.addLayer(region, {}, 'Polygon')\n",
        "Map.addLayerControl()\n",
        "f"
      ],
      "execution_count": null,
      "outputs": []
    },
    {
      "cell_type": "markdown",
      "metadata": {
        "id": "EB11GyZgV7zl"
      },
      "source": [
        "### Compare the clusters with the difference image"
      ]
    },
    {
      "cell_type": "code",
      "metadata": {
        "id": "TgWbzCoukdjO"
      },
      "source": [
        "f = folium.Figure(width=800, height=600)\n",
        "# flip the point coordinate to be lat, long (y, x) for folium\n",
        "Map = geemap.Map(center=rnapoint[::-1], zoom= 11).add_to(f)\n",
        "#Map.addLayer(image, rgbParams, 'Before Natural Color')\n",
        "Map.addLayer(recentqa, rgbParams, 'Recent Natural Color')\n",
        "#Map.addLayer(recentndvi, ndviParams, 'NDVI recently')\n",
        "Map.addLayer(result.randomVisualizer(),{}, 'Cluster')\n",
        "Map.addLayer(dif, difParams, 'dif')\n",
        "Map.addLayerControl()\n",
        "\n",
        "#Map.save('testmap.html')\n",
        "f"
      ],
      "execution_count": null,
      "outputs": []
    },
    {
      "cell_type": "markdown",
      "metadata": {
        "id": "CJdY4_Apk4cf"
      },
      "source": [
        "### Apply the same cluster groups to the older image\n",
        "\n",
        " Just for fun, the statistical clusters (training dataset) created from the first image (the 2020 image) can be applied to the older image."
      ]
    },
    {
      "cell_type": "code",
      "metadata": {
        "id": "bhq8Z5dooKU2"
      },
      "source": [
        "# Cluster the older data using the trained clusterer.\n",
        "resultOld = image.cluster(clusterer);"
      ],
      "execution_count": null,
      "outputs": []
    },
    {
      "cell_type": "code",
      "metadata": {
        "id": "nKuQ6ZRAZod-"
      },
      "source": [
        "f = folium.Figure(width=800, height=600)\n",
        "# flip the point coordinate to be lat, long (y, x) for folium\n",
        "Map = geemap.Map(center=rnapoint[::-1], zoom= 11).add_to(f)\n",
        "Map.addLayer(image, rgbParams, 'Before Natural Color')\n",
        "Map.addLayer(recentqa, rgbParams, 'Recent Natural Color')\n",
        "#Map.addLayer(recentndvi, ndviParams, 'NDVI recently')\n",
        "Map.addLayer(result.randomVisualizer(),{}, 'Cluster')\n",
        "Map.addLayer(resultOld.randomVisualizer(),{}, 'ClusterOld')\n",
        "\n",
        "Map.addLayerControl()\n",
        "\n",
        "f"
      ],
      "execution_count": null,
      "outputs": []
    },
    {
      "cell_type": "markdown",
      "metadata": {
        "id": "lj4N8BagZu-6"
      },
      "source": [
        "A difference image between the two classified images can show where the classes have changed."
      ]
    },
    {
      "cell_type": "code",
      "metadata": {
        "id": "kEcYxxrTqc-Z"
      },
      "source": [
        "# calculate the difference\n",
        "difclass = image.expression('recentclass == oldclass', {'recentclass': result, 'oldclass': resultOld})\n",
        "# set colors for difference image: red = expression not true (there is a difference)\n",
        "difcParams = {'min':0, 'max': 1, 'palette': ['red', 'grey']}"
      ],
      "execution_count": null,
      "outputs": []
    },
    {
      "cell_type": "markdown",
      "metadata": {
        "id": "Q841UUWpHJVa"
      },
      "source": [
        "### Look at the where the clusters are different\n",
        "\n",
        "Visualize the result, with red showing areas of difference and grey for unchanged areas."
      ]
    },
    {
      "cell_type": "code",
      "metadata": {
        "id": "G4bWQ5jzqU-j"
      },
      "source": [
        "f = folium.Figure(width=800, height=600)\n",
        "# flip the point coordinate to be lat, long (y, x) for folium\n",
        "Map = geemap.Map(center=rnapoint[::-1], zoom= 11).add_to(f)\n",
        "Map.addLayer(image, rgbParams, 'Before Natural Color')\n",
        "Map.addLayer(recentqa, rgbParams, 'Recent Natural Color')\n",
        "#Map.addLayer(recentndvi, ndviParams, 'NDVI recently')\n",
        "Map.addLayer(result.randomVisualizer(),{}, 'Cluster')\n",
        "Map.addLayer(resultOld.randomVisualizer(),{}, 'ClusterOld')\n",
        "Map.addLayer(dif, difParams, 'NDVI difference')\n",
        "Map.addLayer(difclass, difcParams, 'Cluster Difference')\n",
        "Map.addLayerControl()\n",
        "\n",
        "f"
      ],
      "execution_count": null,
      "outputs": []
    },
    {
      "cell_type": "markdown",
      "metadata": {
        "id": "O9GIQ72Sryew"
      },
      "source": [
        "The area burned by the Holiday Farm fire seems to be identified, but lots of other areas are marked as different in the image. Basically, it looks like mostly water and shadow is not different classed in the unsupervised signatures.\n",
        "\n",
        "# Assignment: Geog 485\n",
        "\n",
        "Comment on the classification and the potential issues with this change analysis. Suggest some ways in which the 'classified' change analysis could be improved by modifying the method of classification used, the choice of spectral bands or image dates, or the use of derived bands or other accompanying types of 'ancillary' data."
      ]
    },
    {
      "cell_type": "markdown",
      "metadata": {
        "id": "mmCJS6lCtXXx"
      },
      "source": [
        "# Assignment Geog 491\n",
        "\n",
        "Choose 2 of the following three options, and turn in a commented notebook (.ipynb format) and PDF printout of that notebook showing the output for each of the 2 options chosen.\n",
        "\n",
        "Options: \n",
        "1. Do the same type of analysis but at another location.\n",
        "2. Do the same type of analysis, but using the Landsat 8 data collection.\n",
        "3. Using either Landsat 8 or Sentinel 2 data, add another spectral indice to the time series analysis or change analysis\n",
        "\n",
        "For each of the 2 options you choose, create a new notebook (you can make a copy of the existing notebook and change the parameters/code). Turn in a copy of each notebook in .ipynb form, and also a PDF printout of each notebook.\n"
      ]
    },
    {
      "cell_type": "markdown",
      "metadata": {
        "id": "CWE62O2dg5Qt"
      },
      "source": [
        "## Other resources for using Python with Google Earth Engine related to the exercise.\n",
        "\n",
        "- [ImageCollection Overview](https://samapriya.github.io/gee-py/projects/collection_overview/)\n",
        "\n",
        "- [Image Overview](https://samapriya.github.io/gee-py/projects/imgoverview/)\n",
        "\n",
        "- [Google Earth Engine Python API Examples](https://github.com/renelikestacos/Google-Earth-Engine-Python-Examples)\n"
      ]
    }
  ]
}