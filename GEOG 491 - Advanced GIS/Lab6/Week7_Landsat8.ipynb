{
  "nbformat": 4,
  "nbformat_minor": 0,
  "metadata": {
    "colab": {
      "name": "Week7_Landsat8.ipynb",
      "provenance": [],
      "collapsed_sections": [],
      "toc_visible": true
    },
    "kernelspec": {
      "name": "python3",
      "display_name": "Python 3"
    }
  },
  "cells": [
    {
      "cell_type": "markdown",
      "metadata": {
        "id": "cKo6YpI5gWhg"
      },
      "source": [
        "# Satellite Image Analysis with Earth Engine and Python Open Source Packages\n",
        "\n",
        "This exercise introduces Google Earth Engine and raster satellite image analysis and visualization. Working with data from the Sentinel-2 satellite system:\n",
        "* Assemble images around a specific location and within a specified time period\n",
        " * Query metadata information about the images\n",
        "* View an image statically and with an interactive map\n",
        "* Calculate a 'spectral indice'\n",
        "* Calculate change between two images\n",
        "* Classify an image into statistical clusters\n",
        "* Create a time series dataset from single location from the images\n",
        " * Visualize the time series with an interactive map \n",
        "\n",
        "The exercise can be run without any knowledge of coding, but for some background, you might want to run through the following coloboratory notebooks:\n",
        "\n",
        "1. Earth Engine Python API Colab Setup\n",
        "https://colab.research.google.com/github/google/earthengine-api/blob/master/python/examples/ipynb/ee-api-colab-setup.ipynb\n",
        "\n",
        "2. Google Earth Engine with Python - Developer's Guide\n",
        "https://colab.research.google.com/github/csaybar/EEwPython/blob/dev/1_Introduction.ipynb#scrollTo=5AkUqloUQpXv\n",
        "\n"
      ]
    },
    {
      "cell_type": "markdown",
      "metadata": {
        "id": "jOiThoKvUJjz"
      },
      "source": [
        "## Set up the analysis environment\n",
        "\n",
        "The basic steps to get things set up, using 'python' scripting jargon, are:\n",
        "\n",
        "1.   Install packages\n",
        "2.   Import modules\n",
        "3. 'Authenticate' earth engine\n",
        "4. Define functions\n",
        "\n",
        "Colaboratory comes with a variety of standard scientific computing 'libraries', and many others can be installed fairly easily.  This exercise will use the 'earth engine api', the 'geemap' library for visualizing earth engine data, and a variety of libraries to plot results."
      ]
    },
    {
      "cell_type": "code",
      "metadata": {
        "id": "OT1HuOZJgP-Y",
        "colab": {
          "base_uri": "https://localhost:8080/",
          "height": 1000
        },
        "outputId": "855d6ea0-f9d2-4102-bb95-cc11b48a214c"
      },
      "source": [
        "# install dependencies into virtual machine\n",
        "!pip install geemap\n",
        "#!pip install ee\n",
        "#!pip install earthengine-api\n",
        "!pip install geopandas\n",
        "#!pip install altair\n"
      ],
      "execution_count": 1,
      "outputs": [
        {
          "output_type": "stream",
          "text": [
            "Collecting geemap\n",
            "\u001b[?25l  Downloading https://files.pythonhosted.org/packages/c1/f1/50dc342f3c2844353652d5df007caca6e1df90bbc1bf382aed4d3a952810/geemap-0.8.2-py2.py3-none-any.whl (386kB)\n",
            "\r\u001b[K     |▉                               | 10kB 16.5MB/s eta 0:00:01\r\u001b[K     |█▊                              | 20kB 22.2MB/s eta 0:00:01\r\u001b[K     |██▌                             | 30kB 26.7MB/s eta 0:00:01\r\u001b[K     |███▍                            | 40kB 17.5MB/s eta 0:00:01\r\u001b[K     |████▎                           | 51kB 16.2MB/s eta 0:00:01\r\u001b[K     |█████                           | 61kB 14.1MB/s eta 0:00:01\r\u001b[K     |██████                          | 71kB 14.8MB/s eta 0:00:01\r\u001b[K     |██████▉                         | 81kB 12.8MB/s eta 0:00:01\r\u001b[K     |███████▋                        | 92kB 12.7MB/s eta 0:00:01\r\u001b[K     |████████▌                       | 102kB 11.9MB/s eta 0:00:01\r\u001b[K     |█████████▎                      | 112kB 11.9MB/s eta 0:00:01\r\u001b[K     |██████████▏                     | 122kB 11.9MB/s eta 0:00:01\r\u001b[K     |███████████                     | 133kB 11.9MB/s eta 0:00:01\r\u001b[K     |███████████▉                    | 143kB 11.9MB/s eta 0:00:01\r\u001b[K     |████████████▊                   | 153kB 11.9MB/s eta 0:00:01\r\u001b[K     |█████████████▋                  | 163kB 11.9MB/s eta 0:00:01\r\u001b[K     |██████████████▍                 | 174kB 11.9MB/s eta 0:00:01\r\u001b[K     |███████████████▎                | 184kB 11.9MB/s eta 0:00:01\r\u001b[K     |████████████████                | 194kB 11.9MB/s eta 0:00:01\r\u001b[K     |█████████████████               | 204kB 11.9MB/s eta 0:00:01\r\u001b[K     |█████████████████▉              | 215kB 11.9MB/s eta 0:00:01\r\u001b[K     |██████████████████▋             | 225kB 11.9MB/s eta 0:00:01\r\u001b[K     |███████████████████▌            | 235kB 11.9MB/s eta 0:00:01\r\u001b[K     |████████████████████▍           | 245kB 11.9MB/s eta 0:00:01\r\u001b[K     |█████████████████████▏          | 256kB 11.9MB/s eta 0:00:01\r\u001b[K     |██████████████████████          | 266kB 11.9MB/s eta 0:00:01\r\u001b[K     |██████████████████████▉         | 276kB 11.9MB/s eta 0:00:01\r\u001b[K     |███████████████████████▊        | 286kB 11.9MB/s eta 0:00:01\r\u001b[K     |████████████████████████▋       | 296kB 11.9MB/s eta 0:00:01\r\u001b[K     |█████████████████████████▍      | 307kB 11.9MB/s eta 0:00:01\r\u001b[K     |██████████████████████████▎     | 317kB 11.9MB/s eta 0:00:01\r\u001b[K     |███████████████████████████▏    | 327kB 11.9MB/s eta 0:00:01\r\u001b[K     |████████████████████████████    | 337kB 11.9MB/s eta 0:00:01\r\u001b[K     |████████████████████████████▉   | 348kB 11.9MB/s eta 0:00:01\r\u001b[K     |█████████████████████████████▊  | 358kB 11.9MB/s eta 0:00:01\r\u001b[K     |██████████████████████████████▌ | 368kB 11.9MB/s eta 0:00:01\r\u001b[K     |███████████████████████████████▍| 378kB 11.9MB/s eta 0:00:01\r\u001b[K     |████████████████████████████████| 389kB 11.9MB/s \n",
            "\u001b[?25hRequirement already satisfied: pillow in /usr/local/lib/python3.6/dist-packages (from geemap) (7.0.0)\n",
            "Requirement already satisfied: earthengine-api>=0.1.230 in /usr/local/lib/python3.6/dist-packages (from geemap) (0.1.238)\n",
            "Collecting ipynb-py-convert\n",
            "  Downloading https://files.pythonhosted.org/packages/43/90/37ff1b9f553583e60c327e1ea8cbfea469c38c9d8791ad1f7ee6d3482efa/ipynb-py-convert-0.4.6.tar.gz\n",
            "Collecting ffmpeg-python\n",
            "  Downloading https://files.pythonhosted.org/packages/d7/0c/56be52741f75bad4dc6555991fabd2e07b432d333da82c11ad701123888a/ffmpeg_python-0.2.0-py3-none-any.whl\n",
            "Collecting pyshp\n",
            "\u001b[?25l  Downloading https://files.pythonhosted.org/packages/ca/1f/e9cc2c3fce32e2926581f8b6905831165235464c858ba550b6e9b8ef78c3/pyshp-2.1.2.tar.gz (217kB)\n",
            "\u001b[K     |████████████████████████████████| 225kB 17.3MB/s \n",
            "\u001b[?25hCollecting geocoder\n",
            "\u001b[?25l  Downloading https://files.pythonhosted.org/packages/4f/6b/13166c909ad2f2d76b929a4227c952630ebaf0d729f6317eb09cbceccbab/geocoder-1.38.1-py2.py3-none-any.whl (98kB)\n",
            "\u001b[K     |████████████████████████████████| 102kB 7.0MB/s \n",
            "\u001b[?25hCollecting voila\n",
            "\u001b[?25l  Downloading https://files.pythonhosted.org/packages/50/7d/ef470f3d3c574162bb8705b264f4cb47eac8c923f6bf1e37283f871ead6a/voila-0.2.4-py3-none-any.whl (1.9MB)\n",
            "\u001b[K     |████████████████████████████████| 1.9MB 25.0MB/s \n",
            "\u001b[?25hCollecting geeadd>=0.5.1\n",
            "  Downloading https://files.pythonhosted.org/packages/53/3e/98e4d21b5d06a670a6692272a89cbc1a1f238dbba0c4d3252ea1635ba7a4/geeadd-0.5.2-py3-none-any.whl\n",
            "Collecting ipyfilechooser\n",
            "  Downloading https://files.pythonhosted.org/packages/f7/4f/e8d949a6395b6079fe81bf728e5cbae55c63ca9d2fd680f133da679a75a3/ipyfilechooser-0.4.0-py3-none-any.whl\n",
            "Requirement already satisfied: click in /usr/local/lib/python3.6/dist-packages (from geemap) (7.1.2)\n",
            "Collecting bqplot\n",
            "\u001b[?25l  Downloading https://files.pythonhosted.org/packages/f1/cc/bbb3989709ff5f43a75d8cc9989b0cd7215bb50af30f6323ad9bb62e1839/bqplot-0.12.19-py2.py3-none-any.whl (982kB)\n",
            "\u001b[K     |████████████████████████████████| 983kB 44.6MB/s \n",
            "\u001b[?25hCollecting ipytree\n",
            "\u001b[?25l  Downloading https://files.pythonhosted.org/packages/36/2f/f93092e485afc384b4cc39f17ff1cb252380a3745bb4a7e2f6e488e3d0c4/ipytree-0.1.8-py2.py3-none-any.whl (1.1MB)\n",
            "\u001b[K     |████████████████████████████████| 1.1MB 49.6MB/s \n",
            "\u001b[?25hRequirement already satisfied: matplotlib in /usr/local/lib/python3.6/dist-packages (from geemap) (3.2.2)\n",
            "Collecting ipyleaflet>=0.13.3\n",
            "\u001b[?25l  Downloading https://files.pythonhosted.org/packages/a0/9d/f411b8a9522f1710f278c60b2cd8d26817d8c64b7568de95f9437db6caf0/ipyleaflet-0.13.3-py2.py3-none-any.whl (5.1MB)\n",
            "\u001b[K     |████████████████████████████████| 5.1MB 45.6MB/s \n",
            "\u001b[?25hCollecting mss\n",
            "\u001b[?25l  Downloading https://files.pythonhosted.org/packages/d7/5f/77dece686b8d08a17430e169e936722693712b8cf1ee638caa8b1cb6452b/mss-6.1.0-py3-none-any.whl (76kB)\n",
            "\u001b[K     |████████████████████████████████| 81kB 7.3MB/s \n",
            "\u001b[?25hCollecting folium>=0.11.0\n",
            "\u001b[?25l  Downloading https://files.pythonhosted.org/packages/a4/f0/44e69d50519880287cc41e7c8a6acc58daa9a9acf5f6afc52bcc70f69a6d/folium-0.11.0-py2.py3-none-any.whl (93kB)\n",
            "\u001b[K     |████████████████████████████████| 102kB 9.0MB/s \n",
            "\u001b[?25hRequirement already satisfied: numpy in /usr/local/lib/python3.6/dist-packages (from geemap) (1.18.5)\n",
            "Collecting colour\n",
            "  Downloading https://files.pythonhosted.org/packages/74/46/e81907704ab203206769dee1385dc77e1407576ff8f50a0681d0a6b541be/colour-0.1.5-py2.py3-none-any.whl\n",
            "Requirement already satisfied: pandas in /usr/local/lib/python3.6/dist-packages (from geemap) (1.1.4)\n",
            "Collecting whitebox\n",
            "\u001b[?25l  Downloading https://files.pythonhosted.org/packages/9e/80/72ddfe55b9fad2909c3befb6360c38b6bf5fb131197c390d01109aaaa6f8/whitebox-1.4.0-py2.py3-none-any.whl (63kB)\n",
            "\u001b[K     |████████████████████████████████| 71kB 5.9MB/s \n",
            "\u001b[?25hRequirement already satisfied: google-cloud-storage in /usr/local/lib/python3.6/dist-packages (from earthengine-api>=0.1.230->geemap) (1.18.1)\n",
            "Requirement already satisfied: httplib2<1dev,>=0.9.2 in /usr/local/lib/python3.6/dist-packages (from earthengine-api>=0.1.230->geemap) (0.17.4)\n",
            "Requirement already satisfied: six in /usr/local/lib/python3.6/dist-packages (from earthengine-api>=0.1.230->geemap) (1.15.0)\n",
            "Requirement already satisfied: google-api-python-client in /usr/local/lib/python3.6/dist-packages (from earthengine-api>=0.1.230->geemap) (1.7.12)\n",
            "Requirement already satisfied: future in /usr/local/lib/python3.6/dist-packages (from earthengine-api>=0.1.230->geemap) (0.16.0)\n",
            "Requirement already satisfied: google-auth>=1.4.1 in /usr/local/lib/python3.6/dist-packages (from earthengine-api>=0.1.230->geemap) (1.17.2)\n",
            "Requirement already satisfied: google-auth-httplib2>=0.0.3 in /usr/local/lib/python3.6/dist-packages (from earthengine-api>=0.1.230->geemap) (0.0.4)\n",
            "Requirement already satisfied: httplib2shim in /usr/local/lib/python3.6/dist-packages (from earthengine-api>=0.1.230->geemap) (0.0.3)\n",
            "Collecting ratelim\n",
            "  Downloading https://files.pythonhosted.org/packages/f2/98/7e6d147fd16a10a5f821db6e25f192265d6ecca3d82957a4fdd592cad49c/ratelim-0.1.6-py2.py3-none-any.whl\n",
            "Requirement already satisfied: requests in /usr/local/lib/python3.6/dist-packages (from geocoder->geemap) (2.23.0)\n",
            "Collecting jupyter-server<2.0.0,>=0.3.0\n",
            "\u001b[?25l  Downloading https://files.pythonhosted.org/packages/7f/0d/1eafbdca04feecdf596382d0776603f09ed971562cc41aaf8fc1067b75cc/jupyter_server-1.0.6-py3-none-any.whl (197kB)\n",
            "\u001b[K     |████████████████████████████████| 204kB 35.5MB/s \n",
            "\u001b[?25hCollecting jupyter-client<7,>=6.1.3\n",
            "\u001b[?25l  Downloading https://files.pythonhosted.org/packages/dc/41/9fa443d5ae8907dd8f7d12146cb0092dc053afd67b5b57e7e8786a328547/jupyter_client-6.1.7-py3-none-any.whl (108kB)\n",
            "\u001b[K     |████████████████████████████████| 112kB 50.8MB/s \n",
            "\u001b[?25hCollecting nbconvert<7,>=6.0.0\n",
            "\u001b[?25l  Downloading https://files.pythonhosted.org/packages/13/2f/acbe7006548f3914456ee47f97a2033b1b2f3daf921b12ac94105d87c163/nbconvert-6.0.7-py3-none-any.whl (552kB)\n",
            "\u001b[K     |████████████████████████████████| 552kB 43.1MB/s \n",
            "\u001b[?25hRequirement already satisfied: nbclient<0.6,>=0.4.0 in /usr/local/lib/python3.6/dist-packages (from voila->geemap) (0.5.1)\n",
            "Collecting logzero>=1.5.0\n",
            "  Downloading https://files.pythonhosted.org/packages/7e/f7/369920be5b4e9c1a05f5e10bae62b1eca4e01b0b235541865ff53f4d2b6a/logzero-1.6.3-py2.py3-none-any.whl\n",
            "Collecting beautifulsoup4>=4.9.0\n",
            "\u001b[?25l  Downloading https://files.pythonhosted.org/packages/d1/41/e6495bd7d3781cee623ce23ea6ac73282a373088fcd0ddc809a047b18eae/beautifulsoup4-4.9.3-py3-none-any.whl (115kB)\n",
            "\u001b[K     |████████████████████████████████| 122kB 50.7MB/s \n",
            "\u001b[?25hRequirement already satisfied: ipywidgets in /usr/local/lib/python3.6/dist-packages (from ipyfilechooser->geemap) (7.5.1)\n",
            "Collecting traittypes>=0.0.6\n",
            "  Downloading https://files.pythonhosted.org/packages/9c/d1/8d5bd662703cc1764d986f6908a608777305946fa634d34c470cd4a1e729/traittypes-0.2.1-py2.py3-none-any.whl\n",
            "Requirement already satisfied: traitlets>=4.3.0 in /usr/local/lib/python3.6/dist-packages (from bqplot->geemap) (4.3.3)\n",
            "Requirement already satisfied: kiwisolver>=1.0.1 in /usr/local/lib/python3.6/dist-packages (from matplotlib->geemap) (1.3.1)\n",
            "Requirement already satisfied: cycler>=0.10 in /usr/local/lib/python3.6/dist-packages (from matplotlib->geemap) (0.10.0)\n",
            "Requirement already satisfied: pyparsing!=2.0.4,!=2.1.2,!=2.1.6,>=2.0.1 in /usr/local/lib/python3.6/dist-packages (from matplotlib->geemap) (2.4.7)\n",
            "Requirement already satisfied: python-dateutil>=2.1 in /usr/local/lib/python3.6/dist-packages (from matplotlib->geemap) (2.8.1)\n",
            "Requirement already satisfied: branca<0.5,>=0.3.1 in /usr/local/lib/python3.6/dist-packages (from ipyleaflet>=0.13.3->geemap) (0.4.1)\n",
            "Requirement already satisfied: jinja2>=2.9 in /usr/local/lib/python3.6/dist-packages (from folium>=0.11.0->geemap) (2.11.2)\n",
            "Requirement already satisfied: pytz>=2017.2 in /usr/local/lib/python3.6/dist-packages (from pandas->geemap) (2018.9)\n",
            "Requirement already satisfied: google-cloud-core<2.0dev,>=1.0.0 in /usr/local/lib/python3.6/dist-packages (from google-cloud-storage->earthengine-api>=0.1.230->geemap) (1.0.3)\n",
            "Requirement already satisfied: google-resumable-media<0.5.0dev,>=0.3.1 in /usr/local/lib/python3.6/dist-packages (from google-cloud-storage->earthengine-api>=0.1.230->geemap) (0.4.1)\n",
            "Requirement already satisfied: uritemplate<4dev,>=3.0.0 in /usr/local/lib/python3.6/dist-packages (from google-api-python-client->earthengine-api>=0.1.230->geemap) (3.0.1)\n",
            "Requirement already satisfied: pyasn1-modules>=0.2.1 in /usr/local/lib/python3.6/dist-packages (from google-auth>=1.4.1->earthengine-api>=0.1.230->geemap) (0.2.8)\n",
            "Requirement already satisfied: rsa<5,>=3.1.4; python_version >= \"3\" in /usr/local/lib/python3.6/dist-packages (from google-auth>=1.4.1->earthengine-api>=0.1.230->geemap) (4.6)\n",
            "Requirement already satisfied: setuptools>=40.3.0 in /usr/local/lib/python3.6/dist-packages (from google-auth>=1.4.1->earthengine-api>=0.1.230->geemap) (50.3.2)\n",
            "Requirement already satisfied: cachetools<5.0,>=2.0.0 in /usr/local/lib/python3.6/dist-packages (from google-auth>=1.4.1->earthengine-api>=0.1.230->geemap) (4.1.1)\n",
            "Requirement already satisfied: certifi in /usr/local/lib/python3.6/dist-packages (from httplib2shim->earthengine-api>=0.1.230->geemap) (2020.6.20)\n",
            "Requirement already satisfied: urllib3 in /usr/local/lib/python3.6/dist-packages (from httplib2shim->earthengine-api>=0.1.230->geemap) (1.24.3)\n",
            "Requirement already satisfied: decorator in /usr/local/lib/python3.6/dist-packages (from ratelim->geocoder->geemap) (4.4.2)\n",
            "Requirement already satisfied: chardet<4,>=3.0.2 in /usr/local/lib/python3.6/dist-packages (from requests->geocoder->geemap) (3.0.4)\n",
            "Requirement already satisfied: idna<3,>=2.5 in /usr/local/lib/python3.6/dist-packages (from requests->geocoder->geemap) (2.10)\n",
            "Requirement already satisfied: terminado>=0.8.3 in /usr/local/lib/python3.6/dist-packages (from jupyter-server<2.0.0,>=0.3.0->voila->geemap) (0.9.1)\n",
            "Requirement already satisfied: ipython-genutils in /usr/local/lib/python3.6/dist-packages (from jupyter-server<2.0.0,>=0.3.0->voila->geemap) (0.2.0)\n",
            "Requirement already satisfied: Send2Trash in /usr/local/lib/python3.6/dist-packages (from jupyter-server<2.0.0,>=0.3.0->voila->geemap) (1.5.0)\n",
            "Requirement already satisfied: prometheus-client in /usr/local/lib/python3.6/dist-packages (from jupyter-server<2.0.0,>=0.3.0->voila->geemap) (0.8.0)\n",
            "Requirement already satisfied: nbformat in /usr/local/lib/python3.6/dist-packages (from jupyter-server<2.0.0,>=0.3.0->voila->geemap) (5.0.8)\n",
            "Requirement already satisfied: jupyter-core>=4.4.0 in /usr/local/lib/python3.6/dist-packages (from jupyter-server<2.0.0,>=0.3.0->voila->geemap) (4.6.3)\n",
            "Requirement already satisfied: pyzmq>=17 in /usr/local/lib/python3.6/dist-packages (from jupyter-server<2.0.0,>=0.3.0->voila->geemap) (19.0.2)\n",
            "Requirement already satisfied: tornado>=5.0 in /usr/local/lib/python3.6/dist-packages (from jupyter-server<2.0.0,>=0.3.0->voila->geemap) (5.1.1)\n",
            "Requirement already satisfied: pandocfilters>=1.4.1 in /usr/local/lib/python3.6/dist-packages (from nbconvert<7,>=6.0.0->voila->geemap) (1.4.3)\n",
            "Requirement already satisfied: defusedxml in /usr/local/lib/python3.6/dist-packages (from nbconvert<7,>=6.0.0->voila->geemap) (0.6.0)\n",
            "Requirement already satisfied: mistune<2,>=0.8.1 in /usr/local/lib/python3.6/dist-packages (from nbconvert<7,>=6.0.0->voila->geemap) (0.8.4)\n",
            "Requirement already satisfied: bleach in /usr/local/lib/python3.6/dist-packages (from nbconvert<7,>=6.0.0->voila->geemap) (3.2.1)\n",
            "Requirement already satisfied: testpath in /usr/local/lib/python3.6/dist-packages (from nbconvert<7,>=6.0.0->voila->geemap) (0.4.4)\n",
            "Requirement already satisfied: pygments>=2.4.1 in /usr/local/lib/python3.6/dist-packages (from nbconvert<7,>=6.0.0->voila->geemap) (2.6.1)\n",
            "Requirement already satisfied: jupyterlab-pygments in /usr/local/lib/python3.6/dist-packages (from nbconvert<7,>=6.0.0->voila->geemap) (0.1.2)\n",
            "Requirement already satisfied: entrypoints>=0.2.2 in /usr/local/lib/python3.6/dist-packages (from nbconvert<7,>=6.0.0->voila->geemap) (0.3)\n",
            "Requirement already satisfied: nest-asyncio in /usr/local/lib/python3.6/dist-packages (from nbclient<0.6,>=0.4.0->voila->geemap) (1.4.3)\n",
            "Requirement already satisfied: async-generator in /usr/local/lib/python3.6/dist-packages (from nbclient<0.6,>=0.4.0->voila->geemap) (1.10)\n",
            "Collecting soupsieve>1.2; python_version >= \"3.0\"\n",
            "  Downloading https://files.pythonhosted.org/packages/6f/8f/457f4a5390eeae1cc3aeab89deb7724c965be841ffca6cfca9197482e470/soupsieve-2.0.1-py3-none-any.whl\n",
            "Requirement already satisfied: ipykernel>=4.5.1 in /usr/local/lib/python3.6/dist-packages (from ipywidgets->ipyfilechooser->geemap) (4.10.1)\n",
            "Requirement already satisfied: ipython>=4.0.0; python_version >= \"3.3\" in /usr/local/lib/python3.6/dist-packages (from ipywidgets->ipyfilechooser->geemap) (5.5.0)\n",
            "Requirement already satisfied: widgetsnbextension~=3.5.0 in /usr/local/lib/python3.6/dist-packages (from ipywidgets->ipyfilechooser->geemap) (3.5.1)\n",
            "Requirement already satisfied: MarkupSafe>=0.23 in /usr/local/lib/python3.6/dist-packages (from jinja2>=2.9->folium>=0.11.0->geemap) (1.1.1)\n",
            "Requirement already satisfied: google-api-core<2.0.0dev,>=1.14.0 in /usr/local/lib/python3.6/dist-packages (from google-cloud-core<2.0dev,>=1.0.0->google-cloud-storage->earthengine-api>=0.1.230->geemap) (1.16.0)\n",
            "Requirement already satisfied: pyasn1<0.5.0,>=0.4.6 in /usr/local/lib/python3.6/dist-packages (from pyasn1-modules>=0.2.1->google-auth>=1.4.1->earthengine-api>=0.1.230->geemap) (0.4.8)\n",
            "Requirement already satisfied: ptyprocess; os_name != \"nt\" in /usr/local/lib/python3.6/dist-packages (from terminado>=0.8.3->jupyter-server<2.0.0,>=0.3.0->voila->geemap) (0.6.0)\n",
            "Requirement already satisfied: jsonschema!=2.5.0,>=2.4 in /usr/local/lib/python3.6/dist-packages (from nbformat->jupyter-server<2.0.0,>=0.3.0->voila->geemap) (2.6.0)\n",
            "Requirement already satisfied: packaging in /usr/local/lib/python3.6/dist-packages (from bleach->nbconvert<7,>=6.0.0->voila->geemap) (20.4)\n",
            "Requirement already satisfied: webencodings in /usr/local/lib/python3.6/dist-packages (from bleach->nbconvert<7,>=6.0.0->voila->geemap) (0.5.1)\n",
            "Requirement already satisfied: pickleshare in /usr/local/lib/python3.6/dist-packages (from ipython>=4.0.0; python_version >= \"3.3\"->ipywidgets->ipyfilechooser->geemap) (0.7.5)\n",
            "Requirement already satisfied: pexpect; sys_platform != \"win32\" in /usr/local/lib/python3.6/dist-packages (from ipython>=4.0.0; python_version >= \"3.3\"->ipywidgets->ipyfilechooser->geemap) (4.8.0)\n",
            "Requirement already satisfied: prompt-toolkit<2.0.0,>=1.0.4 in /usr/local/lib/python3.6/dist-packages (from ipython>=4.0.0; python_version >= \"3.3\"->ipywidgets->ipyfilechooser->geemap) (1.0.18)\n",
            "Requirement already satisfied: simplegeneric>0.8 in /usr/local/lib/python3.6/dist-packages (from ipython>=4.0.0; python_version >= \"3.3\"->ipywidgets->ipyfilechooser->geemap) (0.8.1)\n",
            "Requirement already satisfied: notebook>=4.4.1 in /usr/local/lib/python3.6/dist-packages (from widgetsnbextension~=3.5.0->ipywidgets->ipyfilechooser->geemap) (5.3.1)\n",
            "Requirement already satisfied: protobuf>=3.4.0 in /usr/local/lib/python3.6/dist-packages (from google-api-core<2.0.0dev,>=1.14.0->google-cloud-core<2.0dev,>=1.0.0->google-cloud-storage->earthengine-api>=0.1.230->geemap) (3.12.4)\n",
            "Requirement already satisfied: googleapis-common-protos<2.0dev,>=1.6.0 in /usr/local/lib/python3.6/dist-packages (from google-api-core<2.0.0dev,>=1.14.0->google-cloud-core<2.0dev,>=1.0.0->google-cloud-storage->earthengine-api>=0.1.230->geemap) (1.52.0)\n",
            "Requirement already satisfied: wcwidth in /usr/local/lib/python3.6/dist-packages (from prompt-toolkit<2.0.0,>=1.0.4->ipython>=4.0.0; python_version >= \"3.3\"->ipywidgets->ipyfilechooser->geemap) (0.2.5)\n",
            "Building wheels for collected packages: ipynb-py-convert, pyshp\n",
            "  Building wheel for ipynb-py-convert (setup.py) ... \u001b[?25l\u001b[?25hdone\n",
            "  Created wheel for ipynb-py-convert: filename=ipynb_py_convert-0.4.6-cp36-none-any.whl size=4625 sha256=f4bfc533513dda588ca87a9fd8da2cd01b426f15f3d435c5acd4413125904870\n",
            "  Stored in directory: /root/.cache/pip/wheels/80/dc/7c/a7279f7726d66951fe48d5afd45247bcf5bf92c98282e4e78e\n",
            "  Building wheel for pyshp (setup.py) ... \u001b[?25l\u001b[?25hdone\n",
            "  Created wheel for pyshp: filename=pyshp-2.1.2-cp36-none-any.whl size=36216 sha256=ce7f9a646ea6959f10b63caa8c5a4e49a06c8781f5a97ec8bdc1ac77b1168800\n",
            "  Stored in directory: /root/.cache/pip/wheels/96/6c/53/4112475adf3b831da97f083163d0f38ee6daac9c1b13f7afea\n",
            "Successfully built ipynb-py-convert pyshp\n",
            "\u001b[31mERROR: datascience 0.10.6 has requirement folium==0.2.1, but you'll have folium 0.11.0 which is incompatible.\u001b[0m\n",
            "Installing collected packages: ipynb-py-convert, ffmpeg-python, pyshp, ratelim, geocoder, jupyter-client, nbconvert, jupyter-server, voila, logzero, soupsieve, beautifulsoup4, geeadd, ipyfilechooser, traittypes, bqplot, ipytree, ipyleaflet, mss, folium, colour, whitebox, geemap\n",
            "  Found existing installation: jupyter-client 5.3.5\n",
            "    Uninstalling jupyter-client-5.3.5:\n",
            "      Successfully uninstalled jupyter-client-5.3.5\n",
            "  Found existing installation: nbconvert 5.6.1\n",
            "    Uninstalling nbconvert-5.6.1:\n",
            "      Successfully uninstalled nbconvert-5.6.1\n",
            "  Found existing installation: beautifulsoup4 4.6.3\n",
            "    Uninstalling beautifulsoup4-4.6.3:\n",
            "      Successfully uninstalled beautifulsoup4-4.6.3\n",
            "  Found existing installation: folium 0.8.3\n",
            "    Uninstalling folium-0.8.3:\n",
            "      Successfully uninstalled folium-0.8.3\n",
            "Successfully installed beautifulsoup4-4.9.3 bqplot-0.12.19 colour-0.1.5 ffmpeg-python-0.2.0 folium-0.11.0 geeadd-0.5.2 geemap-0.8.2 geocoder-1.38.1 ipyfilechooser-0.4.0 ipyleaflet-0.13.3 ipynb-py-convert-0.4.6 ipytree-0.1.8 jupyter-client-6.1.7 jupyter-server-1.0.6 logzero-1.6.3 mss-6.1.0 nbconvert-6.0.7 pyshp-2.1.2 ratelim-0.1.6 soupsieve-2.0.1 traittypes-0.2.1 voila-0.2.4 whitebox-1.4.0\n"
          ],
          "name": "stdout"
        },
        {
          "output_type": "display_data",
          "data": {
            "application/vnd.colab-display-data+json": {
              "pip_warning": {
                "packages": [
                  "jupyter_client"
                ]
              }
            }
          },
          "metadata": {
            "tags": []
          }
        },
        {
          "output_type": "stream",
          "text": [
            "Collecting geopandas\n",
            "\u001b[?25l  Downloading https://files.pythonhosted.org/packages/f7/a4/e66aafbefcbb717813bf3a355c8c4fc3ed04ea1dd7feb2920f2f4f868921/geopandas-0.8.1-py2.py3-none-any.whl (962kB)\n",
            "\r\u001b[K     |▍                               | 10kB 17.4MB/s eta 0:00:01\r\u001b[K     |▊                               | 20kB 22.7MB/s eta 0:00:01\r\u001b[K     |█                               | 30kB 16.5MB/s eta 0:00:01\r\u001b[K     |█▍                              | 40kB 14.2MB/s eta 0:00:01\r\u001b[K     |█▊                              | 51kB 16.2MB/s eta 0:00:01\r\u001b[K     |██                              | 61kB 17.4MB/s eta 0:00:01\r\u001b[K     |██▍                             | 71kB 14.5MB/s eta 0:00:01\r\u001b[K     |██▊                             | 81kB 13.2MB/s eta 0:00:01\r\u001b[K     |███                             | 92kB 12.4MB/s eta 0:00:01\r\u001b[K     |███▍                            | 102kB 12.4MB/s eta 0:00:01\r\u001b[K     |███▊                            | 112kB 12.4MB/s eta 0:00:01\r\u001b[K     |████                            | 122kB 12.4MB/s eta 0:00:01\r\u001b[K     |████▍                           | 133kB 12.4MB/s eta 0:00:01\r\u001b[K     |████▊                           | 143kB 12.4MB/s eta 0:00:01\r\u001b[K     |█████                           | 153kB 12.4MB/s eta 0:00:01\r\u001b[K     |█████▌                          | 163kB 12.4MB/s eta 0:00:01\r\u001b[K     |█████▉                          | 174kB 12.4MB/s eta 0:00:01\r\u001b[K     |██████▏                         | 184kB 12.4MB/s eta 0:00:01\r\u001b[K     |██████▌                         | 194kB 12.4MB/s eta 0:00:01\r\u001b[K     |██████▉                         | 204kB 12.4MB/s eta 0:00:01\r\u001b[K     |███████▏                        | 215kB 12.4MB/s eta 0:00:01\r\u001b[K     |███████▌                        | 225kB 12.4MB/s eta 0:00:01\r\u001b[K     |███████▉                        | 235kB 12.4MB/s eta 0:00:01\r\u001b[K     |████████▏                       | 245kB 12.4MB/s eta 0:00:01\r\u001b[K     |████████▌                       | 256kB 12.4MB/s eta 0:00:01\r\u001b[K     |████████▉                       | 266kB 12.4MB/s eta 0:00:01\r\u001b[K     |█████████▏                      | 276kB 12.4MB/s eta 0:00:01\r\u001b[K     |█████████▌                      | 286kB 12.4MB/s eta 0:00:01\r\u001b[K     |█████████▉                      | 296kB 12.4MB/s eta 0:00:01\r\u001b[K     |██████████▏                     | 307kB 12.4MB/s eta 0:00:01\r\u001b[K     |██████████▌                     | 317kB 12.4MB/s eta 0:00:01\r\u001b[K     |███████████                     | 327kB 12.4MB/s eta 0:00:01\r\u001b[K     |███████████▎                    | 337kB 12.4MB/s eta 0:00:01\r\u001b[K     |███████████▋                    | 348kB 12.4MB/s eta 0:00:01\r\u001b[K     |████████████                    | 358kB 12.4MB/s eta 0:00:01\r\u001b[K     |████████████▎                   | 368kB 12.4MB/s eta 0:00:01\r\u001b[K     |████████████▋                   | 378kB 12.4MB/s eta 0:00:01\r\u001b[K     |█████████████                   | 389kB 12.4MB/s eta 0:00:01\r\u001b[K     |█████████████▎                  | 399kB 12.4MB/s eta 0:00:01\r\u001b[K     |█████████████▋                  | 409kB 12.4MB/s eta 0:00:01\r\u001b[K     |██████████████                  | 419kB 12.4MB/s eta 0:00:01\r\u001b[K     |██████████████▎                 | 430kB 12.4MB/s eta 0:00:01\r\u001b[K     |██████████████▋                 | 440kB 12.4MB/s eta 0:00:01\r\u001b[K     |███████████████                 | 450kB 12.4MB/s eta 0:00:01\r\u001b[K     |███████████████▎                | 460kB 12.4MB/s eta 0:00:01\r\u001b[K     |███████████████▋                | 471kB 12.4MB/s eta 0:00:01\r\u001b[K     |████████████████                | 481kB 12.4MB/s eta 0:00:01\r\u001b[K     |████████████████▍               | 491kB 12.4MB/s eta 0:00:01\r\u001b[K     |████████████████▊               | 501kB 12.4MB/s eta 0:00:01\r\u001b[K     |█████████████████               | 512kB 12.4MB/s eta 0:00:01\r\u001b[K     |█████████████████▍              | 522kB 12.4MB/s eta 0:00:01\r\u001b[K     |█████████████████▊              | 532kB 12.4MB/s eta 0:00:01\r\u001b[K     |██████████████████              | 542kB 12.4MB/s eta 0:00:01\r\u001b[K     |██████████████████▍             | 552kB 12.4MB/s eta 0:00:01\r\u001b[K     |██████████████████▊             | 563kB 12.4MB/s eta 0:00:01\r\u001b[K     |███████████████████             | 573kB 12.4MB/s eta 0:00:01\r\u001b[K     |███████████████████▍            | 583kB 12.4MB/s eta 0:00:01\r\u001b[K     |███████████████████▊            | 593kB 12.4MB/s eta 0:00:01\r\u001b[K     |████████████████████            | 604kB 12.4MB/s eta 0:00:01\r\u001b[K     |████████████████████▍           | 614kB 12.4MB/s eta 0:00:01\r\u001b[K     |████████████████████▊           | 624kB 12.4MB/s eta 0:00:01\r\u001b[K     |█████████████████████           | 634kB 12.4MB/s eta 0:00:01\r\u001b[K     |█████████████████████▍          | 645kB 12.4MB/s eta 0:00:01\r\u001b[K     |█████████████████████▉          | 655kB 12.4MB/s eta 0:00:01\r\u001b[K     |██████████████████████▏         | 665kB 12.4MB/s eta 0:00:01\r\u001b[K     |██████████████████████▌         | 675kB 12.4MB/s eta 0:00:01\r\u001b[K     |██████████████████████▉         | 686kB 12.4MB/s eta 0:00:01\r\u001b[K     |███████████████████████▏        | 696kB 12.4MB/s eta 0:00:01\r\u001b[K     |███████████████████████▌        | 706kB 12.4MB/s eta 0:00:01\r\u001b[K     |███████████████████████▉        | 716kB 12.4MB/s eta 0:00:01\r\u001b[K     |████████████████████████▏       | 727kB 12.4MB/s eta 0:00:01\r\u001b[K     |████████████████████████▌       | 737kB 12.4MB/s eta 0:00:01\r\u001b[K     |████████████████████████▉       | 747kB 12.4MB/s eta 0:00:01\r\u001b[K     |█████████████████████████▏      | 757kB 12.4MB/s eta 0:00:01\r\u001b[K     |█████████████████████████▌      | 768kB 12.4MB/s eta 0:00:01\r\u001b[K     |█████████████████████████▉      | 778kB 12.4MB/s eta 0:00:01\r\u001b[K     |██████████████████████████▏     | 788kB 12.4MB/s eta 0:00:01\r\u001b[K     |██████████████████████████▌     | 798kB 12.4MB/s eta 0:00:01\r\u001b[K     |██████████████████████████▉     | 808kB 12.4MB/s eta 0:00:01\r\u001b[K     |███████████████████████████▎    | 819kB 12.4MB/s eta 0:00:01\r\u001b[K     |███████████████████████████▋    | 829kB 12.4MB/s eta 0:00:01\r\u001b[K     |████████████████████████████    | 839kB 12.4MB/s eta 0:00:01\r\u001b[K     |████████████████████████████▎   | 849kB 12.4MB/s eta 0:00:01\r\u001b[K     |████████████████████████████▋   | 860kB 12.4MB/s eta 0:00:01\r\u001b[K     |█████████████████████████████   | 870kB 12.4MB/s eta 0:00:01\r\u001b[K     |█████████████████████████████▎  | 880kB 12.4MB/s eta 0:00:01\r\u001b[K     |█████████████████████████████▋  | 890kB 12.4MB/s eta 0:00:01\r\u001b[K     |██████████████████████████████  | 901kB 12.4MB/s eta 0:00:01\r\u001b[K     |██████████████████████████████▎ | 911kB 12.4MB/s eta 0:00:01\r\u001b[K     |██████████████████████████████▋ | 921kB 12.4MB/s eta 0:00:01\r\u001b[K     |███████████████████████████████ | 931kB 12.4MB/s eta 0:00:01\r\u001b[K     |███████████████████████████████▎| 942kB 12.4MB/s eta 0:00:01\r\u001b[K     |███████████████████████████████▋| 952kB 12.4MB/s eta 0:00:01\r\u001b[K     |████████████████████████████████| 962kB 12.4MB/s eta 0:00:01\r\u001b[K     |████████████████████████████████| 972kB 12.4MB/s \n",
            "\u001b[?25hRequirement already satisfied: pandas>=0.23.0 in /usr/local/lib/python3.6/dist-packages (from geopandas) (1.1.4)\n",
            "Requirement already satisfied: shapely in /usr/local/lib/python3.6/dist-packages (from geopandas) (1.7.1)\n",
            "Collecting fiona\n",
            "\u001b[?25l  Downloading https://files.pythonhosted.org/packages/37/94/4910fd55246c1d963727b03885ead6ef1cd3748a465f7b0239ab25dfc9a3/Fiona-1.8.18-cp36-cp36m-manylinux1_x86_64.whl (14.8MB)\n",
            "\u001b[K     |████████████████████████████████| 14.8MB 320kB/s \n",
            "\u001b[?25hCollecting pyproj>=2.2.0\n",
            "\u001b[?25l  Downloading https://files.pythonhosted.org/packages/e4/ab/280e80a67cfc109d15428c0ec56391fc03a65857b7727cf4e6e6f99a4204/pyproj-3.0.0.post1-cp36-cp36m-manylinux2010_x86_64.whl (6.4MB)\n",
            "\u001b[K     |████████████████████████████████| 6.5MB 44.4MB/s \n",
            "\u001b[?25hRequirement already satisfied: numpy>=1.15.4 in /usr/local/lib/python3.6/dist-packages (from pandas>=0.23.0->geopandas) (1.18.5)\n",
            "Requirement already satisfied: python-dateutil>=2.7.3 in /usr/local/lib/python3.6/dist-packages (from pandas>=0.23.0->geopandas) (2.8.1)\n",
            "Requirement already satisfied: pytz>=2017.2 in /usr/local/lib/python3.6/dist-packages (from pandas>=0.23.0->geopandas) (2018.9)\n",
            "Collecting click-plugins>=1.0\n",
            "  Downloading https://files.pythonhosted.org/packages/e9/da/824b92d9942f4e472702488857914bdd50f73021efea15b4cad9aca8ecef/click_plugins-1.1.1-py2.py3-none-any.whl\n",
            "Requirement already satisfied: attrs>=17 in /usr/local/lib/python3.6/dist-packages (from fiona->geopandas) (20.2.0)\n",
            "Requirement already satisfied: six>=1.7 in /usr/local/lib/python3.6/dist-packages (from fiona->geopandas) (1.15.0)\n",
            "Collecting cligj>=0.5\n",
            "  Downloading https://files.pythonhosted.org/packages/ba/06/e3440b1f2dc802d35f329f299ba96153e9fcbfdef75e17f4b61f79430c6a/cligj-0.7.0-py3-none-any.whl\n",
            "Requirement already satisfied: certifi in /usr/local/lib/python3.6/dist-packages (from fiona->geopandas) (2020.6.20)\n",
            "Requirement already satisfied: click<8,>=4.0 in /usr/local/lib/python3.6/dist-packages (from fiona->geopandas) (7.1.2)\n",
            "Collecting munch\n",
            "  Downloading https://files.pythonhosted.org/packages/cc/ab/85d8da5c9a45e072301beb37ad7f833cd344e04c817d97e0cc75681d248f/munch-2.5.0-py2.py3-none-any.whl\n",
            "Installing collected packages: click-plugins, cligj, munch, fiona, pyproj, geopandas\n",
            "Successfully installed click-plugins-1.1.1 cligj-0.7.0 fiona-1.8.18 geopandas-0.8.1 munch-2.5.0 pyproj-3.0.0.post1\n"
          ],
          "name": "stdout"
        }
      ]
    },
    {
      "cell_type": "markdown",
      "metadata": {
        "id": "qN0iD7wyl9ek"
      },
      "source": [
        "- #### *You may have now have to `RESTART RUNTIME` (with a button in the output above) to properly import the modules in the next step*"
      ]
    },
    {
      "cell_type": "markdown",
      "metadata": {
        "id": "B86uetgZjY9n"
      },
      "source": [
        "### Import modules\n",
        "\n",
        "Plotting, visualization, and data analysis tools"
      ]
    },
    {
      "cell_type": "code",
      "metadata": {
        "id": "6kX969zMjdO6"
      },
      "source": [
        "# earth engine and statistical analysis\n",
        "from IPython.display import Image\n",
        "import ee, datetime\n",
        "import pandas as pd\n",
        "from pylab import *\n",
        "import seaborn as sns\n",
        "\n",
        "# file management\n",
        "import os\n",
        "import glob\n",
        "\n",
        "# geospatial and plotting modules\n",
        "#import geopandas as gpd\n",
        "import geemap.eefolium as geemap\n",
        "\n",
        "import folium\n",
        "import matplotlib.pyplot as plt\n",
        "%matplotlib inline\n",
        "\n",
        "import altair as alt\n"
      ],
      "execution_count": 2,
      "outputs": []
    },
    {
      "cell_type": "markdown",
      "metadata": {
        "id": "kdq6OFNLj8wk"
      },
      "source": [
        "### Authenticate earth engine\n",
        "\n",
        "Since earth engine requires a login, to use it with colaboratory requires 'authenticating' an analysis session. That is, giving permission via a google account. Rinning the cell below will provide a link to a google authentication website, which will ask your permission and then provide a verification code to paste into a box - then hit enter to finish the process."
      ]
    },
    {
      "cell_type": "code",
      "metadata": {
        "id": "kWMh8Ed1g9pV",
        "colab": {
          "base_uri": "https://localhost:8080/"
        },
        "outputId": "aa3fab08-c438-4df6-c34c-299b81f0f46c"
      },
      "source": [
        "# Trigger the authentication flow.\n",
        "ee.Authenticate()"
      ],
      "execution_count": 3,
      "outputs": [
        {
          "output_type": "stream",
          "text": [
            "To authorize access needed by Earth Engine, open the following URL in a web browser and follow the instructions. If the web browser does not start automatically, please manually browse the URL below.\n",
            "\n",
            "    https://accounts.google.com/o/oauth2/auth?client_id=517222506229-vsmmajv00ul0bs7p89v5m89qs8eb9359.apps.googleusercontent.com&scope=https%3A%2F%2Fwww.googleapis.com%2Fauth%2Fearthengine+https%3A%2F%2Fwww.googleapis.com%2Fauth%2Fdevstorage.full_control&redirect_uri=urn%3Aietf%3Awg%3Aoauth%3A2.0%3Aoob&response_type=code&code_challenge=OYVoq9lLTqU_KM3piae5BXfLJ3CAVf8YykMiJf1OcBk&code_challenge_method=S256\n",
            "\n",
            "The authorization workflow will generate a code, which you should paste in the box below. \n",
            "Enter verification code: 4/1AY0e-g7ThZ3Q83W_iNEx3Sulf1O9KDxcoL5C6HoXsdTqLAdxLBdyQoBia04\n",
            "\n",
            "Successfully saved authorization token.\n"
          ],
          "name": "stdout"
        }
      ]
    },
    {
      "cell_type": "markdown",
      "metadata": {
        "id": "XngSJGgpHDzC"
      },
      "source": [
        "Once it has `Successfully saved authorization token` the session can be 'initialized'"
      ]
    },
    {
      "cell_type": "code",
      "metadata": {
        "id": "xs7O3yZCj6uu"
      },
      "source": [
        "# start up the session\n",
        "ee.Initialize()"
      ],
      "execution_count": 4,
      "outputs": []
    },
    {
      "cell_type": "markdown",
      "metadata": {
        "id": "71GDVaBjkQi3"
      },
      "source": [
        "## Define Functions\n",
        "\n",
        "Functions do something with information. Here are functions to *mask* out clouds and cloud shadows, and to calculate a variety of *spectral indices* from the image data.   Sentinel-2 and Landsat 8 satellite image data are used.\n",
        "\n",
        "- Landsat 8 data is called with `ee.ImageCollection(\"LANDSAT/LC08/C01/T1_SR\")` in the script and described here: https://developers.google.com/earth-engine/datasets/catalog/LANDSAT_LC08_C01_T1_SR\n",
        "\n",
        "- The functions for masking are adapted from here: https://code.earthengine.google.com/?scriptPath=Examples:Datasets/LANDSAT_LC08_C01_T1_SR\n",
        "\n",
        "- Sentinel-2 data is called with `ee.ImageCollection(\"COPERNICUS/S2_SR\")` and described here: https://developers.google.com/earth-engine/datasets/catalog/COPERNICUS_S2\n",
        "\n",
        "**Sentinel-2** image bands used in the functions are:\n",
        "\n",
        "- Band 4 = red\n",
        "- Band 8 = NIR\n",
        "- at 10m pixel resolution\n",
        "\n",
        "**Landsat 8** bands used are:\n",
        "- Band 4 = red\n",
        "- Band 5 = NIR\n",
        "- at 30m pixel resolution\n",
        "\n",
        "The exercise uses Sentinel-2 data, and can be adapted to work with Landsat 8."
      ]
    },
    {
      "cell_type": "markdown",
      "metadata": {
        "id": "aYFr-8AKWksv"
      },
      "source": [
        "### Cloudmask functions\n",
        "\n",
        "These will mask clouds from the image collections to help improve analysis results of the time series data."
      ]
    },
    {
      "cell_type": "code",
      "metadata": {
        "id": "yXX3I9ryPY2a"
      },
      "source": [
        "#function to use QA band to filter clouds\n",
        "#Landsat 8 sr data\n",
        "def maskL8sr(image):\n",
        "  #Bits 3 and 5 are cloud shadow and cloud, respectively.\n",
        "  cloudShadowBitMask = (1 << 3)\n",
        "  cloudsBitMask = (1 << 5)\n",
        "  # Get the pixel QA band.\n",
        "  qa = image.select('pixel_qa')\n",
        "  # Both flags should be set to zero, indicating clear conditions.\n",
        "  mask = qa.bitwiseAnd(cloudShadowBitMask).bitwiseAnd(cloudsBitMask)\n",
        "  # mask = qa.bitwiseAnd((cloudShadowBitMask).eq(0)).bitwiseAnd((cloudsBitMask).eq(0))  # NOTE: this was not working for landsat8 data and was raising an error\n",
        "  return image.updateMask(mask)"
      ],
      "execution_count": 105,
      "outputs": []
    },
    {
      "cell_type": "code",
      "metadata": {
        "id": "92eYoXZtl40T"
      },
      "source": [
        "#function to use QA band to filter clouds\n",
        "#Sentinel 2 data\n",
        "def maskS2clouds(image):\n",
        "  qa = image.select('QA60')\n",
        "\n",
        "  #Bits 10 and 11 are clouds and cirrus, respectively.\n",
        "  cloudBitMask = 1 << 10\n",
        "  cirrusBitMask = 1 << 11\n",
        "\n",
        "  #Both flags should be set to zero, indicating clear conditions.\n",
        "  mask = qa.bitwiseAnd(cloudBitMask).eq(0)\n",
        "  mask2 = qa.bitwiseAnd(cirrusBitMask).eq(0)\n",
        "  mask3 = qa.bitwiseAnd(cloudBitMask).eq(0).bitwiseAnd(cirrusBitMask).eq(0)\n",
        "  #cloud_img = image.updateMask(mask)\n",
        "  #cir_img = cloud_img.updateMask(mask2)\n",
        "\n",
        "  return image.updateMask(mask).updateMask(mask2)\n",
        "  #return image.updateMask(mask)"
      ],
      "execution_count": 6,
      "outputs": []
    },
    {
      "cell_type": "markdown",
      "metadata": {
        "id": "O-R07SMCpUsa"
      },
      "source": [
        "### Spectral indices and transformations\n",
        "\n",
        "Spectral indices are designed to combine different wavelengths of energy in order to highlight some materials or features of interest.\n",
        "\n",
        "Code for the Landsat 8 indices was adapted from *renelikestacos* on github. There are quite a few here, and many more have been created.\n",
        "\n",
        "This exercise uses the *NDVI (Normalized Difference Vegetation Index)* as an example. NDVI is [described here](https://earthobservatory.nasa.gov/features/MeasuringVegetation/measuring_vegetation_2.php) in the context of the MODIS sensor system - this exercise uses Sentinel-2 imagery which has 10 meter size pixels.\n",
        "\n",
        "Other indices are described here:\n",
        "- [Landsat 8 Spectral Indices](https://www.usgs.gov/core-science-systems/nli/landsat/landsat-surface-reflectance-derived-spectral-indices?qt-science_support_page_related_con=0#qt-science_support_page_related_con)\n",
        "- [Sentinel-2 indices](https://custom-scripts.sentinel-hub.com/custom-scripts/sentinel-2/indexdb/) On first look-over I thought there was one for \"Macaroni\" but I misread the table."
      ]
    },
    {
      "cell_type": "code",
      "metadata": {
        "id": "_1mdLKQcL4WQ"
      },
      "source": [
        "# Landsat 8 indices\n",
        "def NDVI(image):\n",
        "    return image.normalizedDifference(['B5', 'B4'])\n",
        "\n",
        "def SAM(image):\n",
        "    band1 = image.select(\"B1\")\n",
        "    bandn = image.select(\"B2\",\"B3\",\"B4\",\"B5\",\"B6\",\"B7\",\"B8\",\"B9\");\n",
        "    maxObjSize = 256;\n",
        "    b = band1.divide(bandn);\n",
        "    spectralAngleMap = b.atan();\n",
        "    spectralAngleMap_sin = spectralAngleMap.sin();\n",
        "    spectralAngleMap_cos = spectralAngleMap.cos();\n",
        "    sum_cos = spectralAngleMap_cos.reduce(ee.call(\"Reducer.sum\"));\n",
        "    sum_sin = spectralAngleMap_sin.reduce(ee.call(\"Reducer.sum\"));\n",
        "    return ee.Image.cat(sum_sin, sum_cos, spectralAngleMap_sin, spectralAngleMap_cos);\n",
        "\n",
        "#Enhanced Vegetation Index\n",
        "def EVI(image):\n",
        "    # L(Canopy background)\n",
        "    # C1,C2(Coefficients of aerosol resistance term)\n",
        "    # GainFactor(Gain or scaling factor)\n",
        "    gain_factor = ee.Image(2.5);\n",
        "    coefficient_1 = ee.Image(6);\n",
        "    coefficient_2 = ee.Image(7.5);\n",
        "    l = ee.Image(1);\n",
        "    nir = image.select(\"B5\");\n",
        "    red = image.select(\"B4\");\n",
        "    blue = image.select(\"B2\");\n",
        "    evi = image.expression(\n",
        "        \"Gain_Factor*((NIR-RED)/(NIR+C1*RED-C2*BLUE+L))\",\n",
        "        {\n",
        "            \"Gain_Factor\":gain_factor,\n",
        "            \"NIR\":nir,\n",
        "            \"RED\":red,\n",
        "            \"C1\":coefficient_1,\n",
        "            \"C2\":coefficient_2,\n",
        "            \"BLUE\":blue,\n",
        "            \"L\":l\n",
        "        }\n",
        "    )\n",
        "    return evi\n",
        "\n",
        "#Atmospherically Resistant Vegetation Index\n",
        "def ARVI(image):\n",
        "    red = image.select(\"B4\")\n",
        "    blue = image.select(\"B2\")\n",
        "    nir = image.select(\"B5\")\n",
        "    red_square = red.multiply(red)\n",
        "    arvi = image.expression(\n",
        "        \"NIR - (REDsq - BLUE)/(NIR+(REDsq-BLUE))\",{\n",
        "            \"NIR\": nir,\n",
        "            \"REDsq\": red_square,\n",
        "            \"BLUE\": blue\n",
        "        }\n",
        "    )\n",
        "    return arvi\n",
        "\n",
        "#Leaf Area Index\n",
        "def LAI(image):\n",
        "    nir = image.select(\"B5\")\n",
        "    red = image.select(\"B4\")\n",
        "    coeff1 = ee.Image(0.0305);\n",
        "    coeff2 = ee.Image(1.2640);\n",
        "    lai = image.expression(\n",
        "        \"(((NIR/RED)*COEFF1)+COEFF2)\",\n",
        "        {\n",
        "            \"NIR\":nir,\n",
        "            \"RED\":red,\n",
        "            \"COEFF1\":coeff1,\n",
        "            \"COEFF2\":coeff2\n",
        "        }\n",
        "    )\n",
        "    return lai"
      ],
      "execution_count": 7,
      "outputs": []
    },
    {
      "cell_type": "markdown",
      "metadata": {
        "id": "TpGWwSzRWVQ8"
      },
      "source": [
        "This exercise demonstrates the use of Sentinel-2 image data, so these indices need to be adapted to the different band names in the dataset."
      ]
    },
    {
      "cell_type": "code",
      "metadata": {
        "id": "ftc5lAv_1m7c"
      },
      "source": [
        "# adapted to Sentinel-2\n",
        "\n",
        "# NDVI for Sentinel-2 bands\n",
        "def senNDVI(image):\n",
        "    return image.normalizedDifference(['B8', 'B4'])"
      ],
      "execution_count": 8,
      "outputs": []
    },
    {
      "cell_type": "markdown",
      "metadata": {
        "id": "HvO5VenAkzW8"
      },
      "source": [
        "## Create target areas for analysis\n",
        "\n",
        "A single point will be used to set the initial data search.  \n",
        "\n",
        "Note that this is 'x, y' style (longitude, latitude)\n",
        " - Hagen Research Natural Area (up the South Fork of Gate Creek): [-122.418960, 44.163945]\n"
      ]
    },
    {
      "cell_type": "code",
      "metadata": {
        "id": "ljnxUV3SQ4v4"
      },
      "source": [
        "# use the Gate Creek point\n",
        "rnapoint = [-122.418960, 44.163945]"
      ],
      "execution_count": 11,
      "outputs": []
    },
    {
      "cell_type": "code",
      "metadata": {
        "id": "7lWamfcxlq8B"
      },
      "source": [
        "# Create earth engine point\n",
        "point = {'type':'Point', 'coordinates':rnapoint}"
      ],
      "execution_count": 12,
      "outputs": []
    },
    {
      "cell_type": "markdown",
      "metadata": {
        "id": "NRkBfvLmqfKn"
      },
      "source": [
        "## Create image collection\n",
        "\n",
        "An 'image collection' is a group (or filtered group) of related imagery or other data.\n",
        "\n",
        "- [ImageCollection Overview](https://samapriya.github.io/gee-py/projects/collection_overview/)\n",
        "\n",
        "Images in earth engine are described here.\n",
        "\n",
        "- [Image Overview](https://samapriya.github.io/gee-py/projects/imgoverview/)\n",
        "\n",
        "Collections can be vast, so commonly they are filtered by a geographic area or time period."
      ]
    },
    {
      "cell_type": "markdown",
      "metadata": {
        "id": "EOheguOoSFn3"
      },
      "source": [
        "### Set time period\n",
        "\n",
        "This exercise uses data from early 2015 to the October 10, 2020. The Sentinel-2 image collection frequency increases over this time as a second sensor comes into use.\n",
        "\n",
        "Landsat 8 dataset availability is from April 2013 onwards, so a longer time period could be analysed with this data."
      ]
    },
    {
      "cell_type": "code",
      "metadata": {
        "id": "E4SyNGHuSIfe"
      },
      "source": [
        "# Set start and end date\n",
        "startTime = datetime.datetime(2015, 3, 28)\n",
        "# endTime = datetime.datetime.now()\n",
        "endTime = datetime.datetime(2020, 11, 9)"
      ],
      "execution_count": 9,
      "outputs": []
    },
    {
      "cell_type": "markdown",
      "metadata": {
        "id": "X617_vqWT5j_"
      },
      "source": [
        "### Load Landsat8 image collection\n",
        "\n",
        "\n"
      ]
    },
    {
      "cell_type": "code",
      "metadata": {
        "id": "-k3222AZkS7h"
      },
      "source": [
        "# Create Sentinel-2 image collection\n",
        "# collection = ee.ImageCollection(\"COPERNICUS/S2\").filterDate(startTime, endTime).filterBounds(point)\n",
        "\n",
        "# Create Landsat 8 image collection\n",
        "collection = ee.ImageCollection(\"LANDSAT/LC08/C01/T1_SR\").filterDate(startTime, endTime).filterBounds(point)"
      ],
      "execution_count": 64,
      "outputs": []
    },
    {
      "cell_type": "markdown",
      "metadata": {
        "id": "XLINtAoq7SNn"
      },
      "source": [
        "### Image Collection Information and Metadata\n",
        "\n",
        "It is usually a good idea to examine the data in the collections created. "
      ]
    },
    {
      "cell_type": "code",
      "metadata": {
        "id": "iLwViKs57a2D",
        "colab": {
          "base_uri": "https://localhost:8080/"
        },
        "outputId": "8195b9e6-c98a-4943-e52b-1ccc24dc1211"
      },
      "source": [
        "# Get the number of images.\n",
        "count = collection.size()\n",
        "print('Count: ', str(count.getInfo())+'\\n')"
      ],
      "execution_count": 14,
      "outputs": [
        {
          "output_type": "stream",
          "text": [
            "Count:  315\n",
            "\n"
          ],
          "name": "stdout"
        }
      ]
    },
    {
      "cell_type": "code",
      "metadata": {
        "id": "bO1qjVV_jYB6",
        "colab": {
          "base_uri": "https://localhost:8080/"
        },
        "outputId": "14cd0407-5f37-465a-9ef6-8897343f3c4c"
      },
      "source": [
        "# Get the date range of images in the collection.\n",
        "drange = collection.reduceColumns(ee.Reducer.minMax(), [\"system:time_start\"])\n",
        "mindate = (ee.Date(drange.get('min')).getInfo())\n",
        "maxdate = (ee.Date(drange.get('max')).getInfo())\n",
        "print(f'Landsat8 Date range: {mindate} to {maxdate}')"
      ],
      "execution_count": 16,
      "outputs": [
        {
          "output_type": "stream",
          "text": [
            "Landsat8 Date range: {'type': 'Date', 'value': 1427568584510} to {'type': 'Date', 'value': 1603738606703}\n"
          ],
          "name": "stdout"
        }
      ]
    },
    {
      "cell_type": "markdown",
      "metadata": {
        "id": "AWCThsh7YvDP"
      },
      "source": [
        "Those dates look a little odd - they are a timestamp (in milliseconds) from Jan 1, 1970 - this is 'UNIX epoch time.' We can convert back to a more human-readable format this way:"
      ]
    },
    {
      "cell_type": "code",
      "metadata": {
        "id": "k1mLPm7RnTSd",
        "colab": {
          "base_uri": "https://localhost:8080/"
        },
        "outputId": "92e56ea3-f5d7-40c3-dcfc-fa50727453de"
      },
      "source": [
        "# divide by 1000 to convert from milliseconds\n",
        "datetime.datetime.fromtimestamp(0/1000)"
      ],
      "execution_count": 17,
      "outputs": [
        {
          "output_type": "execute_result",
          "data": {
            "text/plain": [
              "datetime.datetime(1970, 1, 1, 0, 0)"
            ]
          },
          "metadata": {
            "tags": []
          },
          "execution_count": 17
        }
      ]
    },
    {
      "cell_type": "markdown",
      "metadata": {
        "id": "mIUwJp7Jn07h"
      },
      "source": [
        "So the date / time of the oldest image in this particular collection is:"
      ]
    },
    {
      "cell_type": "code",
      "metadata": {
        "id": "Z4yyv7A3ogQZ",
        "colab": {
          "base_uri": "https://localhost:8080/"
        },
        "outputId": "1e7e97b7-19a4-4e9b-83ca-cf322ab6417f"
      },
      "source": [
        "datetime.datetime.fromtimestamp(1445454617457/1000)"
      ],
      "execution_count": 18,
      "outputs": [
        {
          "output_type": "execute_result",
          "data": {
            "text/plain": [
              "datetime.datetime(2015, 10, 21, 19, 10, 17, 457000)"
            ]
          },
          "metadata": {
            "tags": []
          },
          "execution_count": 18
        }
      ]
    },
    {
      "cell_type": "markdown",
      "metadata": {
        "id": "gtKalLVhnf3C"
      },
      "source": [
        "There are many other types of information about the images in the metadata."
      ]
    },
    {
      "cell_type": "code",
      "metadata": {
        "id": "e34kWlb97bBQ",
        "colab": {
          "base_uri": "https://localhost:8080/"
        },
        "outputId": "c13d0528-ab67-4d61-c687-6bb54b42c711"
      },
      "source": [
        "#Get a list of all metadata properties.\n",
        "properties = collection.propertyNames()\n",
        "print('Metadata properties: '+str(properties.getInfo())) # ee.List of metadata properties"
      ],
      "execution_count": 19,
      "outputs": [
        {
          "output_type": "stream",
          "text": [
            "Metadata properties: ['system:visualization_0_min', 'type_name', 'visualization_1_bands', 'thumb', 'visualization_1_max', 'description', 'source_tags', 'visualization_1_name', 'system:id', 'visualization_0_max', 'title', 'system:visualization_2_max', 'product_tags', 'provider', 'visualization_1_min', 'system:visualization_2_name', 'visualization_0_min', 'system:version', 'system:visualization_1_bands', 'system:visualization_1_max', 'visualization_0_name', 'date_range', 'visualization_2_bands', 'visualization_2_name', 'period', 'system:visualization_2_min', 'system:visualization_0_bands', 'visualization_2_min', 'provider_url', 'sample', 'system:visualization_1_name', 'tags', 'system:visualization_0_max', 'visualization_2_max', 'system:visualization_2_bands', 'system:visualization_1_min', 'system:visualization_0_name', 'visualization_0_bands']\n"
          ],
          "name": "stdout"
        }
      ]
    },
    {
      "cell_type": "markdown",
      "metadata": {
        "id": "r6vF7aAQZSlb"
      },
      "source": [
        "### Metadata for the first image in the collection\n",
        "\n",
        "'Metadata' or standarized information about a dataset, is useful both for human-understanding of the usefulness (or not) of a particular dataset. More information about getting metatdata can be found at these links: \n",
        "- https://developers.google.com/earth-engine/ic_info\n",
        "- https://samapriya.github.io/gee-py/projects/collection_meta/"
      ]
    },
    {
      "cell_type": "code",
      "metadata": {
        "id": "cwNRyRJzq4BJ"
      },
      "source": [
        "# sort the collection by time of image acquisition\n",
        "sorted = collection.sort(\"system:time_start\");\n",
        "\n",
        "# Get the first (oldest) image.\n",
        "scene = sorted.first()"
      ],
      "execution_count": 20,
      "outputs": []
    },
    {
      "cell_type": "code",
      "metadata": {
        "id": "Y51JGW1h0ZGd",
        "colab": {
          "base_uri": "https://localhost:8080/"
        },
        "outputId": "cc459b64-aa69-4c15-ace4-cdc5f6fb6a37"
      },
      "source": [
        "#properties of the image\n",
        "properties = scene.propertyNames()\n",
        "print('Metadata properties: '+str(properties.getInfo())) # ee.List of metadata properties"
      ],
      "execution_count": 21,
      "outputs": [
        {
          "output_type": "stream",
          "text": [
            "Metadata properties: ['IMAGE_QUALITY_TIRS', 'CLOUD_COVER', 'system:id', 'EARTH_SUN_DISTANCE', 'LANDSAT_ID', 'system:footprint', 'system:version', 'CLOUD_COVER_LAND', 'GEOMETRIC_RMSE_MODEL', 'SR_APP_VERSION', 'SATELLITE', 'SOLAR_AZIMUTH_ANGLE', 'IMAGE_QUALITY_OLI', 'WRS_PATH', 'system:time_start', 'SENSING_TIME', 'ESPA_VERSION', 'SOLAR_ZENITH_ANGLE', 'WRS_ROW', 'GEOMETRIC_RMSE_MODEL_Y', 'LEVEL1_PRODUCTION_DATE', 'GEOMETRIC_RMSE_MODEL_X', 'system:asset_size', 'PIXEL_QA_VERSION', 'system:index', 'system:bands', 'system:band_names']\n"
          ],
          "name": "stdout"
        }
      ]
    },
    {
      "cell_type": "code",
      "metadata": {
        "id": "gvpceMb-SxHa",
        "colab": {
          "base_uri": "https://localhost:8080/"
        },
        "outputId": "cd5ab1ea-aa49-4bad-b3fb-ff11543e39b2"
      },
      "source": [
        "#Get the 'tile' location identifier\n",
        "target = 'MGRS_TILE'\n",
        "meta = scene.get(target).getInfo()\n",
        "print('{} = {}'.format(target, meta))"
      ],
      "execution_count": 22,
      "outputs": [
        {
          "output_type": "stream",
          "text": [
            "MGRS_TILE = None\n"
          ],
          "name": "stdout"
        }
      ]
    },
    {
      "cell_type": "code",
      "metadata": {
        "id": "djgmo8xe0OXM",
        "colab": {
          "base_uri": "https://localhost:8080/"
        },
        "outputId": "f794aac5-b3d0-45a2-d968-76957ccba5e5"
      },
      "source": [
        "#Get the data id\n",
        "target = 'GRANULE_ID'\n",
        "meta = scene.get(target).getInfo()\n",
        "print('{} = {}'.format(target, meta))"
      ],
      "execution_count": 23,
      "outputs": [
        {
          "output_type": "stream",
          "text": [
            "GRANULE_ID = None\n"
          ],
          "name": "stdout"
        }
      ]
    },
    {
      "cell_type": "code",
      "metadata": {
        "id": "4943Q7tCMX7m",
        "colab": {
          "base_uri": "https://localhost:8080/"
        },
        "outputId": "e1e4b1f1-4109-44bb-93cf-ff032299a66d"
      },
      "source": [
        "#Get estimated cloud cover\n",
        "target = 'CLOUD_COVERAGE_ASSESSMENT'\n",
        "meta = scene.get(target).getInfo()\n",
        "print('{} = {}'.format(target, meta))"
      ],
      "execution_count": 24,
      "outputs": [
        {
          "output_type": "stream",
          "text": [
            "CLOUD_COVERAGE_ASSESSMENT = None\n"
          ],
          "name": "stdout"
        }
      ]
    },
    {
      "cell_type": "code",
      "metadata": {
        "id": "hGG7TqstsfkY",
        "colab": {
          "base_uri": "https://localhost:8080/"
        },
        "outputId": "555fa687-8c02-4b1d-8d03-4ee2fc39c179"
      },
      "source": [
        "#Get the timestamp and convert it to a date.\n",
        "date = ee.Date(scene.get('system:time_start')).getInfo()\n",
        "# print(date['value'])\n",
        "x=date['value']\n",
        "print(datetime.datetime.fromtimestamp(x/1000))"
      ],
      "execution_count": 25,
      "outputs": [
        {
          "output_type": "stream",
          "text": [
            "2015-03-28 18:49:44.510000\n"
          ],
          "name": "stdout"
        }
      ]
    },
    {
      "cell_type": "code",
      "metadata": {
        "id": "abaOch96CqWr",
        "colab": {
          "base_uri": "https://localhost:8080/"
        },
        "outputId": "bc1ffc8d-bf86-4fd3-b498-a06b2f8b1408"
      },
      "source": [
        "oldest = collection.sort('system:time_start').limit(1)\n",
        "scene = oldest.first()\n",
        "#Get a specific metadata property.\n",
        "target = 'system:time_start'\n",
        "meta = scene.get(target).getInfo()\n",
        "print('{} = {}'.format(target, meta))\n",
        "\n",
        "#Get the timestamp and convert it to a date.\n",
        "date = ee.Date(scene.get('system:time_start')).getInfo()\n",
        "# print(date['value'])\n",
        "x=date['value']\n",
        "print(datetime.datetime.fromtimestamp(x/1000))"
      ],
      "execution_count": 26,
      "outputs": [
        {
          "output_type": "stream",
          "text": [
            "system:time_start = 1427568584510\n",
            "2015-03-28 18:49:44.510000\n"
          ],
          "name": "stdout"
        }
      ]
    },
    {
      "cell_type": "markdown",
      "metadata": {
        "id": "6hmjqOgWNz8_"
      },
      "source": [
        "# **Assignment: Geog 485**\n",
        "\n",
        "What  does the “MGRS_TILE” metadata mean in the context of the Sentinel-2 image collection - how do we interpret the value ‘10TEP’? Describe how the Sentinel-2 tile system works.\n",
        "\n",
        "Here is the code cell again..."
      ]
    },
    {
      "cell_type": "code",
      "metadata": {
        "id": "CtT5TH81OqdW",
        "colab": {
          "base_uri": "https://localhost:8080/"
        },
        "outputId": "13e52082-3756-45fa-832a-3647fc90ba6c"
      },
      "source": [
        "#Get the 'tile' location identifier\n",
        "target = 'MGRS_TILE'\n",
        "meta = scene.get(target).getInfo()\n",
        "print('{} = {}'.format(target, meta))"
      ],
      "execution_count": 27,
      "outputs": [
        {
          "output_type": "stream",
          "text": [
            "MGRS_TILE = None\n"
          ],
          "name": "stdout"
        }
      ]
    },
    {
      "cell_type": "markdown",
      "metadata": {
        "id": "yvp693sBizOZ"
      },
      "source": [
        "# **Assignment: Geog 491**\n",
        "\n",
        "What data type are the `mindate` and `maxdate` variables? How could the outputof the code below be made to print the following:\n",
        "```\n",
        "Landsat8 Date range: 1445454617457 to 1604430749547\n",
        "```\n",
        "instead of:\n",
        "```\n",
        "# Landsat8 Date range: {'type': 'Date', 'value': 1445454617457} to {'type': 'Date', 'value': 1604862746318}\n",
        "```\n",
        "\n",
        "\n",
        "\n"
      ]
    },
    {
      "cell_type": "code",
      "metadata": {
        "id": "j37LpNYeq84O",
        "colab": {
          "base_uri": "https://localhost:8080/"
        },
        "outputId": "2badf36a-563c-47d4-9adf-24e6dd98178d"
      },
      "source": [
        "# this is the code below, mentioned above\n",
        "# Get the date range of images in the collection.\n",
        "drange = collection.reduceColumns(ee.Reducer.minMax(), [\"system:time_start\"])\n",
        "mindate = (ee.Date(drange.get('min')).getInfo()['value']) # datatype is dict so provide the relevant key\n",
        "maxdate = (ee.Date(drange.get('max')).getInfo()['value']) # datatype is dict so provide the relevant key\n",
        "print(f'Landsat8 Date range: {mindate} to {maxdate}')"
      ],
      "execution_count": 28,
      "outputs": [
        {
          "output_type": "stream",
          "text": [
            "Landsat8 Date range: 1427568584510 to 1603738606703\n"
          ],
          "name": "stdout"
        }
      ]
    },
    {
      "cell_type": "markdown",
      "metadata": {
        "id": "LOmEVXOvtZ6f"
      },
      "source": [
        "# **Assignment: Geog 491**\n",
        "\n",
        "Write a function to convert a timestamp from a date, given a ee image.\n",
        "\n",
        "Adapt the code below, so that given an image, the output will be the date/time in a more human readable format.\n",
        "\n",
        ">The function could start something like this:\n",
        "\n",
        "```\n",
        "def ts_toDate(scene):\n",
        "  # your function here\n",
        "  ``` \n",
        ">\n",
        ">and end up printing output such as:\n",
        ">\n",
        "`2015-10-21 19:10:17.457000`\n",
        "\n",
        "\n",
        "\n"
      ]
    },
    {
      "cell_type": "code",
      "metadata": {
        "id": "JOPg10l-ryO-",
        "colab": {
          "base_uri": "https://localhost:8080/"
        },
        "outputId": "1124c92d-6282-4ad9-de24-7d552a670112"
      },
      "source": [
        "def ts_toScene(scene):\n",
        "    #Get the timestamp and convert it to a date.\n",
        "    date = ee.Date(scene.get('system:time_start')).getInfo()\n",
        "    # print(date['value'])\n",
        "    x=date['value']\n",
        "    print(datetime.datetime.fromtimestamp(x/1000))\n",
        "\n",
        "ts_toScene(scene)"
      ],
      "execution_count": 29,
      "outputs": [
        {
          "output_type": "stream",
          "text": [
            "2015-03-28 18:49:44.510000\n"
          ],
          "name": "stdout"
        }
      ]
    },
    {
      "cell_type": "markdown",
      "metadata": {
        "id": "UDnm_7RDkIsv"
      },
      "source": [
        "## View the most recent image\n",
        "\n",
        "The data can be viewed as a static image or with an interactive map. First, the static image - these are handy because you can copy and paste them directly into another document\n"
      ]
    },
    {
      "cell_type": "code",
      "metadata": {
        "id": "Au0RcZYp7a8C",
        "colab": {
          "base_uri": "https://localhost:8080/"
        },
        "outputId": "1bc268c3-06b4-46a2-e130-9ecca23502bb"
      },
      "source": [
        "# Limit the collection to the 1 most recent images.\n",
        "recent = collection.sort('system:time_start', False).limit(1)\n",
        "# pull the image from the collection\n",
        "image = recent.first()\n",
        "print('Recent images: '+str(recent.getInfo())+'\\n')"
      ],
      "execution_count": 42,
      "outputs": [
        {
          "output_type": "stream",
          "text": [
            "Recent images: {'type': 'ImageCollection', 'bands': [], 'id': 'LANDSAT/LC08/C01/T1_SR', 'version': 1605191934168228, 'properties': {'system:visualization_0_min': '0.0', 'type_name': 'ImageCollection', 'visualization_1_bands': 'B5,B4,B3', 'thumb': 'https://mw1.google.com/ges/dd/images/LANDSAT_SR_thumb.png', 'visualization_1_max': '30000.0', 'description': '<p>This dataset is the atmospherically corrected\\nsurface reflectance from  the Landsat 8 OLI/TIRS sensors.\\nThese images contain 5 visible and near-infrared (VNIR) bands and\\n2 short-wave infrared (SWIR) bands processed to orthorectified surface\\nreflectance, and two thermal infrared (TIR) bands processed to orthorectified\\nbrightness temperature</p><p>These data have been atmospherically corrected using\\n<a href=\"https://prd-wret.s3.us-west-2.amazonaws.com/assets/palladium/production/atoms/files/LSDS-1368_L8_C1-LandSurfaceReflectanceCode-LASRC_ProductGuide-v3.pdf\">LaSRC</a>\\nand includes a cloud, shadow, water and snow mask produced using\\n<a href=\"https://www.usgs.gov/core-science-systems/nli/landsat/cfmask-algorithm\">CFMASK</a>,\\nas well as a per-pixel saturation mask.</p><p>Strips of collected data are packaged into overlapping &quot;scenes&quot; covering approximately\\n170km x 183km using a <a href=\"https://landsat.gsfc.nasa.gov/about/worldwide-reference-system\">standardized reference grid</a>.</p><p>See also <a href=\"https://www.usgs.gov/land-resources/nli/landsat/landsat-surface-reflectance-quality-assessment\">the USGS page on SR QA bands</a>.</p><p>SR can only be produced for Landsat assets processed to the\\n<a href=\"https://www.usgs.gov/land-resources/nli/landsat/landsat-levels-processing\">L1TP level</a></p><p>Data provider notes:\\n<ul><li>Although Surface Reflectance can be processed only from the Operational\\n  Land Imager (OLI) bands, SR requires combined OLI/Thermal Infrared\\n  Sensor (TIRS) product (LC8) input in order to generate the accompanying\\n  cloud mask. Therefore, OLI only (LO8), and TIRS only (LT8) data products\\n  cannot be calculated to SR. </li><li>SR is not run for a scene with a solar zenith angle greater than 76&deg;.</li><li>Users are cautioned to avoid using SR for data acquired\\n  over high latitudes (&gt; 65&deg;).</li><li>The panchromatic band (ETM+ Band 7, OLI Band 8) is not processed to\\n  Surface Reflectance.</li><li>Efficacy of SR correction will be likely reduced in areas\\n  where atmospheric correction is affected by adverse conditions:<ul><li>Hyper-arid or snow-covered regions</li><li>Low sun angle conditions</li><li>Coastal regions where land area is small relative to adjacent water</li><li>Areas with extensive cloud contamination</li></ul></li></ul></p><p>This product is generated by Google using a Docker image supplied by USGS.</p><p><b>Resolution</b><br>30 meters\\n</p><p><b>Revisit Interval</b><br>\\n  16 days\\n</p><p><b>Bands</b><table class=\"eecat\"><tr><th scope=\"col\">Name</th><th scope=\"col\">Units</th><th scope=\"col\">Scale</th><th scope=\"col\">Wavelength</th><th scope=\"col\">Description</th></tr><tr><td>B1</td><td></td><td>0.0001</td><td>0.435-0.451 &mu;m</td><td><p>Band 1 (ultra blue) surface reflectance</p></td></tr><tr><td>B2</td><td></td><td>0.0001</td><td>0.452-0.512 &mu;m</td><td><p>Band 2 (blue) surface reflectance</p></td></tr><tr><td>B3</td><td></td><td>0.0001</td><td>0.533-0.590 &mu;m</td><td><p>Band 3 (green) surface reflectance</p></td></tr><tr><td>B4</td><td></td><td>0.0001</td><td>0.636-0.673 &mu;m</td><td><p>Band 4 (red) surface reflectance</p></td></tr><tr><td>B5</td><td></td><td>0.0001</td><td>0.851-0.879 &mu;m</td><td><p>Band 5 (near infrared) surface reflectance</p></td></tr><tr><td>B6</td><td></td><td>0.0001</td><td>1.566-1.651 &mu;m</td><td><p>Band 6 (shortwave infrared 1) surface reflectance</p></td></tr><tr><td>B7</td><td></td><td>0.0001</td><td>2.107-2.294 &mu;m</td><td><p>Band 7 (shortwave infrared 2) surface reflectance</p></td></tr><tr><td>B10</td><td>Kelvin</td><td>0.1</td><td>10.60-11.19 &mu;m</td><td><p>Band 10 brightness temperature. This band, while originally collected with a resolution of 100m / pixel, has been resampled using cubic convolution to 30m.</p></td></tr><tr><td>B11</td><td>Kelvin</td><td>0.1</td><td>11.50-12.51 &mu;m</td><td><p>Band 11 brightness temperature. This band, while originally collected with a resolution of 100m / pixel, has been resampled using cubic convolution to 30m.</p></td></tr><tr><td>sr_aerosol</td><td></td><td></td><td></td><td><p>Aerosol attributes</p></td></tr><tr><td colspan=100>\\n      Bitmask for sr_aerosol\\n<ul><li>\\n          Bit 0: Fill\\n<ul></ul></li><li>\\n          Bit 1: Aerosol retrieval - valid\\n<ul></ul></li><li>\\n          Bit 2: Aerosol retrieval - interpolated\\n<ul></ul></li><li>\\n          Bit 3: Water pixel\\n<ul></ul></li><li>\\n          Bit 4: Water aerosol retrieval failed - needs interpolated\\n<ul></ul></li><li>\\n          Bit 5: Neighbor of failed aerosol retrieval\\n<ul></ul></li><li>\\n          Bits 6-7: Aerosol content\\n<ul><li>0: Climatology</li><li>1: Low</li><li>2: Medium</li><li>3: High</li></ul></li></ul></td></tr><tr><td>pixel_qa</td><td></td><td></td><td></td><td><p>Pixel quality attributes generated from the CFMASK algorithm.</p></td></tr><tr><td colspan=100>\\n      Bitmask for pixel_qa\\n<ul><li>\\n          Bit 0: Fill\\n<ul></ul></li><li>\\n          Bit 1: Clear\\n<ul></ul></li><li>\\n          Bit 2: Water\\n<ul></ul></li><li>\\n          Bit 3: Cloud Shadow\\n<ul></ul></li><li>\\n          Bit 4: Snow\\n<ul></ul></li><li>\\n          Bit 5: Cloud\\n<ul></ul></li><li>\\n          Bits 6-7: Cloud Confidence\\n<ul><li>0: None</li><li>1: Low</li><li>2: Medium</li><li>3: High</li></ul></li><li>\\n          Bits 8-9: Cirrus Confidence\\n<ul><li>0: None</li><li>1: Low</li><li>2: Medium</li><li>3: High</li></ul></li><li>\\n          Bit 10: Terrain Occlusion\\n<ul></ul></li></ul></td></tr><tr><td>radsat_qa</td><td></td><td></td><td></td><td><p>Radiometric saturation QA</p></td></tr><tr><td colspan=100>\\n      Bitmask for radsat_qa\\n<ul><li>\\n          Bit 0: Data Fill Flag\\n<ul><li>0: Valid data</li><li>1: Invalid data</li></ul></li><li>\\n          Bit 1: Band 1 data saturated\\n<ul></ul></li><li>\\n          Bit 2: Band 2 data saturated\\n<ul></ul></li><li>\\n          Bit 3: Band 3 data saturated\\n<ul></ul></li><li>\\n          Bit 4: Band 4 data saturated\\n<ul></ul></li><li>\\n          Bit 5: Band 5 data saturated\\n<ul></ul></li><li>\\n          Bit 6: Band 6 data saturated\\n<ul></ul></li><li>\\n          Bit 7: Band 7 data saturated\\n<ul></ul></li><li>\\n          Bit 8: Unused\\n<ul></ul></li><li>\\n          Bit 9: Band 9 data saturated\\n<ul></ul></li><li>\\n          Bit 10: Band 10 data saturated\\n<ul></ul></li><li>\\n          Bit 11: Band 11 data saturated\\n<ul></ul></li></ul></td></tr></table><p><b>Image Properties</b><table class=\"eecat\"><tr><th scope=\"col\">Name</th><th scope=\"col\">Type</th><th scope=\"col\">Description</th></tr><tr><td>CLOUD_COVER</td><td>INT</td><td><p>Percentage cloud cover, -1 = not calculated.\\n(Obtained from raw Landsat metadata)</p></td></tr><tr><td>CLOUD_COVER_LAND</td><td>INT</td><td><p>Percentage cloud cover over land, -1 = not calculated.\\n(Obtained from raw Landsat metadata)</p></td></tr><tr><td>EARTH_SUN_DISTANCE</td><td>DOUBLE</td><td><p>Earth-Sun distance (AU)</p></td></tr><tr><td>ESPA_VERSION</td><td>STRING</td><td><p>Internal ESPA image version used to compute SR</p></td></tr><tr><td>GEOMETRIC_RMSE_MODEL</td><td>DOUBLE</td><td><p>Combined RMSE (Root Mean Square Error) of the geometric\\n    residuals (meters) in both across-track and along-track\\n    directions. (Obtained from raw Landsat metadata)</p></td></tr><tr><td>GEOMETRIC_RMSE_MODEL_X</td><td>DOUBLE</td><td><p>RMSE (Root Mean Square Error) of the geometric residuals (meters)\\n    measured on the GCPs (Ground Control Points) used in geometric\\n    precision correction in the across-track direction.\\n    (Obtained from raw Landsat metadata)</p></td></tr><tr><td>GEOMETRIC_RMSE_MODEL_Y</td><td>DOUBLE</td><td><p>RMSE (Root Mean Square Error) of the geometric residuals (meters)\\n    measured on the GCPs (Ground Control Points) used in geometric\\n    precision correction in the along-track direction.\\n    (Obtained from raw Landsat metadata)</p></td></tr><tr><td>IMAGE_QUALITY</td><td>INT</td><td><p>Image quality, 0 = worst, 9 = best, -1 = quality not calculated.\\n(Obtained from raw Landsat metadata)</p></td></tr><tr><td>LANDSAT_ID</td><td>STRING</td><td><p>Landsat Product Identifier (Collection 1)</p></td></tr><tr><td>LEVEL1_PRODUCTION_DATE</td><td>INT</td><td><p>Date of production for raw Level 1 data as ms since epoch</p></td></tr><tr><td>PIXEL_QA_VERSION</td><td>STRING</td><td><p>Version of the software used to produce the &#39;pixel_qa&#39; band</p></td></tr><tr><td>SATELLITE</td><td>STRING</td><td><p>Name of satellite</p></td></tr><tr><td>SENSING_TIME</td><td>STRING</td><td><p>Time of the observations as in ISO 8601 string.\\n(Obtained from raw Landsat metadata)</p></td></tr><tr><td>SOLAR_AZIMUTH_ANGLE</td><td>DOUBLE</td><td><p>Solar azimuth angle</p></td></tr><tr><td>SR_APP_VERSION</td><td>STRING</td><td><p>LaSRC version used to process surface reflectance</p></td></tr><tr><td>WRS_PATH</td><td>INT</td><td><p>WRS path number of scene</p></td></tr><tr><td>WRS_ROW</td><td>INT</td><td><p>WRS row number of scene</p></td></tr></table><style>\\n  table.eecat {\\n  border: 1px solid black;\\n  border-collapse: collapse;\\n  font-size: 13px;\\n  }\\n  table.eecat td, tr, th {\\n  text-align: left; vertical-align: top;\\n  border: 1px solid gray; padding: 3px;\\n  }\\n  td.nobreak { white-space: nowrap; }\\n</style>', 'source_tags': ['landsat', 'usgs'], 'visualization_1_name': 'Near Infrared (543)', 'visualization_0_max': '30000.0', 'title': 'USGS Landsat 8 Surface Reflectance Tier 1', 'system:visualization_2_max': '30000.0', 'product_tags': ['global', 'sr', 'reflectance', 'l8sr', 'cloud', 'fmask', 'cfmask', 'lc08'], 'provider': 'USGS', 'visualization_1_min': '0.0', 'system:visualization_2_name': 'Shortwave Infrared (753)', 'visualization_0_min': '0.0', 'system:visualization_1_bands': 'B5,B4,B3', 'system:visualization_1_max': '30000.0', 'visualization_0_name': 'True Color (432)', 'date_range': [1365638400000, 1604188800000], 'visualization_2_bands': 'B7,B5,B3', 'visualization_2_name': 'Shortwave Infrared (753)', 'period': 0, 'system:visualization_2_min': '0.0', 'system:visualization_0_bands': 'B4,B3,B2', 'visualization_2_min': '0.0', 'provider_url': 'https://www.usgs.gov/core-science-systems/nli/landsat/landsat-surface-reflectance', 'sample': 'https://mw1.google.com/ges/dd/images/LANDSAT_SR_sample.png', 'system:visualization_1_name': 'Near Infrared (543)', 'tags': ['landsat', 'usgs', 'global', 'sr', 'reflectance', 'l8sr', 'cloud', 'fmask', 'cfmask', 'lc08'], 'system:visualization_0_max': '30000.0', 'visualization_2_max': '30000.0', 'system:visualization_2_bands': 'B7,B5,B3', 'system:visualization_1_min': '0.0', 'system:visualization_0_name': 'True Color (432)', 'visualization_0_bands': 'B4,B3,B2'}, 'features': [{'type': 'Image', 'bands': [{'id': 'B1', 'data_type': {'type': 'PixelType', 'precision': 'int', 'min': -32768, 'max': 32767}, 'dimensions': [7791, 7901], 'crs': 'EPSG:32610', 'crs_transform': [30, 0, 392985, 0, -30, 5057415]}, {'id': 'B2', 'data_type': {'type': 'PixelType', 'precision': 'int', 'min': -32768, 'max': 32767}, 'dimensions': [7791, 7901], 'crs': 'EPSG:32610', 'crs_transform': [30, 0, 392985, 0, -30, 5057415]}, {'id': 'B3', 'data_type': {'type': 'PixelType', 'precision': 'int', 'min': -32768, 'max': 32767}, 'dimensions': [7791, 7901], 'crs': 'EPSG:32610', 'crs_transform': [30, 0, 392985, 0, -30, 5057415]}, {'id': 'B4', 'data_type': {'type': 'PixelType', 'precision': 'int', 'min': -32768, 'max': 32767}, 'dimensions': [7791, 7901], 'crs': 'EPSG:32610', 'crs_transform': [30, 0, 392985, 0, -30, 5057415]}, {'id': 'B5', 'data_type': {'type': 'PixelType', 'precision': 'int', 'min': -32768, 'max': 32767}, 'dimensions': [7791, 7901], 'crs': 'EPSG:32610', 'crs_transform': [30, 0, 392985, 0, -30, 5057415]}, {'id': 'B6', 'data_type': {'type': 'PixelType', 'precision': 'int', 'min': -32768, 'max': 32767}, 'dimensions': [7791, 7901], 'crs': 'EPSG:32610', 'crs_transform': [30, 0, 392985, 0, -30, 5057415]}, {'id': 'B7', 'data_type': {'type': 'PixelType', 'precision': 'int', 'min': -32768, 'max': 32767}, 'dimensions': [7791, 7901], 'crs': 'EPSG:32610', 'crs_transform': [30, 0, 392985, 0, -30, 5057415]}, {'id': 'B10', 'data_type': {'type': 'PixelType', 'precision': 'int', 'min': -32768, 'max': 32767}, 'dimensions': [7791, 7901], 'crs': 'EPSG:32610', 'crs_transform': [30, 0, 392985, 0, -30, 5057415]}, {'id': 'B11', 'data_type': {'type': 'PixelType', 'precision': 'int', 'min': -32768, 'max': 32767}, 'dimensions': [7791, 7901], 'crs': 'EPSG:32610', 'crs_transform': [30, 0, 392985, 0, -30, 5057415]}, {'id': 'sr_aerosol', 'data_type': {'type': 'PixelType', 'precision': 'int', 'min': 0, 'max': 255}, 'dimensions': [7791, 7901], 'crs': 'EPSG:32610', 'crs_transform': [30, 0, 392985, 0, -30, 5057415]}, {'id': 'pixel_qa', 'data_type': {'type': 'PixelType', 'precision': 'int', 'min': 0, 'max': 65535}, 'dimensions': [7791, 7901], 'crs': 'EPSG:32610', 'crs_transform': [30, 0, 392985, 0, -30, 5057415]}, {'id': 'radsat_qa', 'data_type': {'type': 'PixelType', 'precision': 'int', 'min': 0, 'max': 65535}, 'dimensions': [7791, 7901], 'crs': 'EPSG:32610', 'crs_transform': [30, 0, 392985, 0, -30, 5057415]}], 'id': 'LANDSAT/LC08/C01/T1_SR/LC08_046029_20201026', 'version': 1604916524096198, 'properties': {'IMAGE_QUALITY_TIRS': 9, 'CLOUD_COVER': 8.38, 'EARTH_SUN_DISTANCE': 0.993879, 'LANDSAT_ID': 'LC08_L1TP_046029_20201026_20201106_01_T1', 'system:footprint': {'type': 'LinearRing', 'coordinates': [[-122.08111388203564, 43.5423210412832], [-122.06857504182058, 43.539932628723264], [-122.05039414700124, 43.58778321212268], [-121.73224511313661, 44.44172436199612], [-121.70662110730574, 44.50949766996702], [-121.51200698019446, 45.02079737698884], [-121.4645363506893, 45.144124023430244], [-121.42516781912519, 45.247002875026084], [-121.42599058381317, 45.247607213388335], [-121.54745111640396, 45.270838841929724], [-123.44514774803491, 45.614054373760965], [-123.73612620636096, 45.6634879661318], [-123.7367361665817, 45.66261266638098], [-123.73974367498188, 45.656085991629475], [-123.74540294802539, 45.64033665060431], [-123.75643756951249, 45.60917408481183], [-124.03848440883566, 44.78136080695789], [-124.31304746075614, 43.95199837821856], [-123.50855029157263, 43.8099998531099], [-122.55015858260994, 43.63250828753629], [-122.08111388203564, 43.5423210412832]]}, 'CLOUD_COVER_LAND': 8.52, 'GEOMETRIC_RMSE_MODEL': 8.34, 'SR_APP_VERSION': 'LaSRC_1.3.0', 'SATELLITE': 'LANDSAT_8', 'SOLAR_AZIMUTH_ANGLE': 163.259567, 'IMAGE_QUALITY_OLI': 9, 'system:time_end': 1603738606703, 'WRS_PATH': 46, 'system:time_start': 1603738606703, 'SENSING_TIME': '2020-10-26T18:56:46.7039020Z', 'ESPA_VERSION': '2_23_0_1b', 'SOLAR_ZENITH_ANGLE': 58.922363, 'WRS_ROW': 29, 'GEOMETRIC_RMSE_MODEL_Y': 6.652, 'LEVEL1_PRODUCTION_DATE': 1604696541000, 'GEOMETRIC_RMSE_MODEL_X': 5.031, 'system:asset_size': 608770960, 'PIXEL_QA_VERSION': 'generate_pixel_qa_1.6.0', 'system:index': 'LC08_046029_20201026'}}]}\n",
            "\n"
          ],
          "name": "stdout"
        }
      ]
    },
    {
      "cell_type": "code",
      "metadata": {
        "id": "2dFfqmvOjlwW",
        "colab": {
          "base_uri": "https://localhost:8080/",
          "height": 1000
        },
        "outputId": "a466d276-7a7c-40ec-f6f1-f5d56ede9e73"
      },
      "source": [
        "# set the visualization parameters for the output\n",
        "visParams = {'bands': ['B4', 'B3', 'B2'], 'max': 3000, 'dimensions':1000 }\n",
        "\n",
        "# create image thumbnail in earth engine and view\n",
        "thumbnail = image.getThumbUrl(visParams)\n",
        "Image(url=thumbnail)"
      ],
      "execution_count": 75,
      "outputs": [
        {
          "output_type": "execute_result",
          "data": {
            "text/html": [
              "<img src=\"https://earthengine.googleapis.com/v1alpha/projects/earthengine-legacy/thumbnails/757d47ba17623e72ca43a744803ea25f-549f05c54a5f30bafa110d4e181e8dff:getPixels\"/>"
            ],
            "text/plain": [
              "<IPython.core.display.Image object>"
            ]
          },
          "metadata": {
            "tags": []
          },
          "execution_count": 75
        }
      ]
    },
    {
      "cell_type": "markdown",
      "metadata": {
        "id": "R-nu_-hOsUOS"
      },
      "source": [
        "It is a bit cloudy as of this run. The 'least cloudy' images - there are probably many, can be pulled from the collection using the Quality Assurance band\n",
        "\n",
        "## Get the least cloudy image \n",
        "\n",
        "The metadata for the collection allows the sorting by estimated cloud cover - for now, limit it to the ten least cloudy images\n"
      ]
    },
    {
      "cell_type": "code",
      "metadata": {
        "id": "QV01e3Lwy1zx"
      },
      "source": [
        "sorted = collection.sort('CLOUD_COVERAGE_ASSESSMENT').limit(10)\n",
        "\n",
        "# Get the first (least cloudy) image.\n",
        "image = sorted.first();"
      ],
      "execution_count": 93,
      "outputs": []
    },
    {
      "cell_type": "code",
      "metadata": {
        "id": "QfENkvtmvoaZ",
        "colab": {
          "base_uri": "https://localhost:8080/"
        },
        "outputId": "7a1b562f-b9a0-4465-9822-049d4ed10227"
      },
      "source": [
        "# Get the number of images.\n",
        "count = sorted.size()\n",
        "print('Count: ', str(count.getInfo())+'\\n')\n",
        "\n",
        "# Get the date range of images in the collection.\n",
        "drange = sorted.reduceColumns(ee.Reducer.minMax(), [\"system:time_start\"])\n",
        "print('Landsat8 Date range: ', str(ee.Date(drange.get('min')).getInfo()), str(ee.Date(drange.get('max')).getInfo())+'\\n')"
      ],
      "execution_count": 94,
      "outputs": [
        {
          "output_type": "stream",
          "text": [
            "Count:  10\n",
            "\n",
            "Landsat8 Date range:  {'type': 'Date', 'value': 1427568584510} {'type': 'Date', 'value': 1440010200918}\n",
            "\n"
          ],
          "name": "stdout"
        }
      ]
    },
    {
      "cell_type": "code",
      "metadata": {
        "id": "lh2-4ibCIGM8",
        "colab": {
          "base_uri": "https://localhost:8080/"
        },
        "outputId": "b90a035e-b580-4483-d233-7df347c5bcaf"
      },
      "source": [
        "#Get the timestamp and convert it to a date.\n",
        "date = ee.Date(image.get('system:time_start')).getInfo()\n",
        "# print(date['value'])\n",
        "x=date['value']\n",
        "print(datetime.datetime.fromtimestamp(x/1000))"
      ],
      "execution_count": 95,
      "outputs": [
        {
          "output_type": "stream",
          "text": [
            "2015-03-28 18:49:44.510000\n"
          ],
          "name": "stdout"
        }
      ]
    },
    {
      "cell_type": "markdown",
      "metadata": {
        "id": "a2vlapShw-Uv"
      },
      "source": [
        "An image from July 2, 2017. View this 'least cloudy' image."
      ]
    },
    {
      "cell_type": "code",
      "metadata": {
        "id": "Mi-rLPs_y-5P",
        "colab": {
          "base_uri": "https://localhost:8080/",
          "height": 1000
        },
        "outputId": "0598d67c-8ba7-42e8-e999-db853e75f359"
      },
      "source": [
        "visParams = {'bands': ['B4', 'B3', 'B2'], 'max': 3000, 'dimensions':1000}\n",
        "thumbnail = image.getThumbUrl(visParams)\n",
        "Image(url=thumbnail)"
      ],
      "execution_count": 96,
      "outputs": [
        {
          "output_type": "execute_result",
          "data": {
            "text/html": [
              "<img src=\"https://earthengine.googleapis.com/v1alpha/projects/earthengine-legacy/thumbnails/c0580f4e59292563e1909856e00a57b1-9ebf82956e69591b85cf1c791ea03b01:getPixels\"/>"
            ],
            "text/plain": [
              "<IPython.core.display.Image object>"
            ]
          },
          "metadata": {
            "tags": []
          },
          "execution_count": 96
        }
      ]
    },
    {
      "cell_type": "markdown",
      "metadata": {
        "id": "_Ixt2tP92gP9"
      },
      "source": [
        "## Calculate and view NDVI\n",
        "\n",
        "This image is much better.\n",
        "\n",
        "The NDVI is calculated with a ratio of two wavelenths of reflected energy - 'red' and 'near-infrared'.\n",
        "\n",
        "Higher NDVI values should correspond to larger amounts of green vegetation. To calculate this, run the Sentinel-2 NDVI function made earlier in the exercise on the existing image."
      ]
    },
    {
      "cell_type": "code",
      "metadata": {
        "id": "nWHUfD1RxeiT"
      },
      "source": [
        "# run the landsat NDVI function\n",
        "ndvi = NDVI(image)"
      ],
      "execution_count": 44,
      "outputs": []
    },
    {
      "cell_type": "code",
      "metadata": {
        "id": "PtaX1PdB2JLt",
        "colab": {
          "base_uri": "https://localhost:8080/",
          "height": 1000
        },
        "outputId": "d5a3de58-05e8-4050-eb2e-34accc656329"
      },
      "source": [
        "# change visualization setting for the NDVI data\n",
        "visParams = {'min':0, 'max': 1, 'dimensions':1000}\n",
        "thumbnail = ndvi.getThumbUrl(visParams)\n",
        "Image(url=thumbnail)"
      ],
      "execution_count": 45,
      "outputs": [
        {
          "output_type": "execute_result",
          "data": {
            "text/html": [
              "<img src=\"https://earthengine.googleapis.com/v1alpha/projects/earthengine-legacy/thumbnails/9efa332ae56766571e0ef029dddbb34a-ed8e53e924a24afc68038b6781f4e786:getPixels\"/>"
            ],
            "text/plain": [
              "<IPython.core.display.Image object>"
            ]
          },
          "metadata": {
            "tags": []
          },
          "execution_count": 45
        }
      ]
    },
    {
      "cell_type": "markdown",
      "metadata": {
        "id": "VxIBiG6xqdp1"
      },
      "source": [
        "Brighter areas in the image should represent areas with higher amounts of growing green vegetation."
      ]
    },
    {
      "cell_type": "markdown",
      "metadata": {
        "id": "5lfQ8NWY2kJW"
      },
      "source": [
        "## View scene interactively\n",
        "\n",
        "To examine whether NDVI is actually showing growing vegetation more closely, an interactive map is useful.  \n",
        "\n",
        "The *folium* python library can be used to view this same data on an interactive map.  Multiple layers and other graphics can also be viewed, ans the visualization saved as an .html file.\n",
        "\n",
        "First, lets get the parameters for visualization set up."
      ]
    },
    {
      "cell_type": "code",
      "metadata": {
        "id": "SKysBp1pJHyu"
      },
      "source": [
        "# visualization settings\n",
        "rgbParams = {'bands': ['B4', 'B3', 'B2'], 'max': 3000, 'gamma': [1.4,1.2, 1.4]}\n",
        "ndviParams = {'min':0, 'max': 1}"
      ],
      "execution_count": 46,
      "outputs": []
    },
    {
      "cell_type": "code",
      "metadata": {
        "id": "PTu6dMAQ_030",
        "colab": {
          "base_uri": "https://localhost:8080/",
          "height": 621
        },
        "outputId": "559a351a-0751-4369-cfcc-5406f80365e1"
      },
      "source": [
        "# flip the point coordinate to be lat, long (y, x) for folium\n",
        "f = folium.Figure(width=800, height=600)\n",
        "Map = geemap.Map(center=rnapoint[::-1], zoom= 12).add_to(f)\n",
        "Map.addLayer(image, rgbParams, 'Natural Color Sentinel-2');\n",
        "Map.addLayer(ndvi, ndviParams, 'NDVI')\n",
        "Map.addLayerControl()\n",
        "f"
      ],
      "execution_count": 47,
      "outputs": [
        {
          "output_type": "execute_result",
          "data": {
            "text/html": [
              "<iframe src=\"about:blank\" width=\"800\" height=\"600\"style=\"border:none !important;\" data-html=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 onload=\"this.contentDocument.open();this.contentDocument.write(atob(this.getAttribute('data-html')));this.contentDocument.close();\" \"allowfullscreen\" \"webkitallowfullscreen\" \"mozallowfullscreen\"></iframe>"
            ],
            "text/plain": [
              "<branca.element.Figure at 0x7fbbc9afa3c8>"
            ]
          },
          "metadata": {
            "tags": []
          },
          "execution_count": 47
        }
      ]
    },
    {
      "cell_type": "markdown",
      "metadata": {
        "id": "aYNc-zqeN02G"
      },
      "source": [
        "## Find the least cloudy recent image and examine\n",
        "\n",
        "Now, to compare the above image (from 2017) with a more recent, relatively cloud free image."
      ]
    },
    {
      "cell_type": "code",
      "metadata": {
        "id": "OJ87m6QPN8Ob"
      },
      "source": [
        "# Limit the collection to the 10 most recent images.\n",
        "recent = collection.sort('system:time_start', False).limit(10)\n",
        "\n",
        "sorted = recent.sort('CLOUD_COVERAGE_ASSESSMENT')\n",
        "\n",
        "# Get the first (least cloudy) image.\n",
        "recentqa = sorted.first()\n",
        "\n",
        "recentndvi = NDVI(recentqa) "
      ],
      "execution_count": 48,
      "outputs": []
    },
    {
      "cell_type": "code",
      "metadata": {
        "id": "wmANjmBlwHHg",
        "colab": {
          "base_uri": "https://localhost:8080/"
        },
        "outputId": "f19246b5-72a3-4487-f38d-1e8b90cfd0e0"
      },
      "source": [
        "#Get the timestamp and convert it to a date.\n",
        "date = ee.Date(recentqa.get('system:time_start')).getInfo()\n",
        "# print(date['value'])\n",
        "x=date['value']\n",
        "print(datetime.datetime.fromtimestamp(x/1000))"
      ],
      "execution_count": 49,
      "outputs": [
        {
          "output_type": "stream",
          "text": [
            "2020-10-26 18:56:46.703000\n"
          ],
          "name": "stdout"
        }
      ]
    },
    {
      "cell_type": "markdown",
      "metadata": {
        "id": "SgBmzkf21TZi"
      },
      "source": [
        "### An image from October 9, 2020"
      ]
    },
    {
      "cell_type": "markdown",
      "metadata": {
        "id": "W2smfHU_wTlP"
      },
      "source": [
        "In this run, it is Oct. 9th, 2020.\n",
        "\n",
        "Lets look at this data, and add the point used to 'filter' the collection geographically as well."
      ]
    },
    {
      "cell_type": "code",
      "metadata": {
        "id": "-Thp3o4XOZIa",
        "colab": {
          "base_uri": "https://localhost:8080/",
          "height": 621
        },
        "outputId": "5a492c96-d7fb-4ec9-ec11-11bfb40c66f8"
      },
      "source": [
        "# flip the point coordinate to be lat, long (y, x) for folium\n",
        "f = folium.Figure(width=800, height=600)\n",
        "Map = geemap.Map(center=rnapoint[::-1], zoom= 12).add_to(f)\n",
        "Map.addLayer(image, rgbParams, 'Before Natural Color')\n",
        "Map.addLayer(recentndvi, ndviParams, 'NDVI recently')\n",
        "Map.addLayer(ndvi, ndviParams, 'NDVI before')\n",
        "Map.addLayerControl()\n",
        "folium.Marker(rnapoint[::-1], popup='<i>Research Natural Area</i>').add_to(Map)\n",
        "\n",
        "f"
      ],
      "execution_count": 50,
      "outputs": [
        {
          "output_type": "execute_result",
          "data": {
            "text/html": [
              "<iframe src=\"about:blank\" width=\"800\" height=\"600\"style=\"border:none !important;\" data-html=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 onload=\"this.contentDocument.open();this.contentDocument.write(atob(this.getAttribute('data-html')));this.contentDocument.close();\" \"allowfullscreen\" \"webkitallowfullscreen\" \"mozallowfullscreen\"></iframe>"
            ],
            "text/plain": [
              "<branca.element.Figure at 0x7fbbc972bc88>"
            ]
          },
          "metadata": {
            "tags": []
          },
          "execution_count": 50
        }
      ]
    },
    {
      "cell_type": "markdown",
      "metadata": {
        "id": "GtNBlIgsXrCs"
      },
      "source": [
        "### Use image math to compare the images\n",
        "\n",
        "Compute a difference image of NDVI between the two dates.\n",
        "\n",
        "Image math is relatively straightforward with earth engine (and it could also be calculated outside earth engine with the 'numpy' and related modules."
      ]
    },
    {
      "cell_type": "code",
      "metadata": {
        "id": "vgqYxxx9XwNn"
      },
      "source": [
        "# create image expression\n",
        "# the 'subtract() mathmatical operator could also be used\n",
        "# dif = recentndvi.subtract(sndvi)\n",
        "dif = image.expression('new-old', {'new': recentndvi, 'old': ndvi})\n",
        "difParams = {'min':-1, 'max': 1, 'palette': ['red', 'grey', 'green']}"
      ],
      "execution_count": 51,
      "outputs": []
    },
    {
      "cell_type": "markdown",
      "metadata": {
        "id": "XQAPA1XKRhqg"
      },
      "source": [
        "Examine the result - redder areas have less green vegation recently compared to 2017, while green areas have more."
      ]
    },
    {
      "cell_type": "code",
      "metadata": {
        "id": "Vwq2xIXuYuIZ",
        "colab": {
          "base_uri": "https://localhost:8080/",
          "height": 621
        },
        "outputId": "b6da658f-5750-441a-a69e-b01eb0dd4304"
      },
      "source": [
        "# plot the difference image along with the other layers\n",
        "f = folium.Figure(width=800, height=600)\n",
        "# flip the point coordinate to be lat, long (y, x) for folium\n",
        "Map = geemap.Map(center=rnapoint[::-1], zoom= 11).add_to(f)\n",
        "Map.addLayer(image, rgbParams, 'Before Natural Color')\n",
        "Map.addLayer(recentqa, rgbParams, 'Recent Natural Color')\n",
        "Map.addLayer(recentndvi, ndviParams, 'NDVI recently')\n",
        "Map.addLayer(ndvi, ndviParams, 'NDVI before')\n",
        "Map.addLayer(dif, difParams, 'dif')\n",
        "Map.addLayerControl()\n",
        "folium.Marker(rnapoint[::-1], popup='<i>Research Natural Area</i>').add_to(Map)\n",
        "\n",
        "f"
      ],
      "execution_count": 52,
      "outputs": [
        {
          "output_type": "execute_result",
          "data": {
            "text/html": [
              "<iframe src=\"about:blank\" width=\"800\" height=\"600\"style=\"border:none !important;\" data-html=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 onload=\"this.contentDocument.open();this.contentDocument.write(atob(this.getAttribute('data-html')));this.contentDocument.close();\" \"allowfullscreen\" \"webkitallowfullscreen\" \"mozallowfullscreen\"></iframe>"
            ],
            "text/plain": [
              "<branca.element.Figure at 0x7fbbc9590f60>"
            ]
          },
          "metadata": {
            "tags": []
          },
          "execution_count": 52
        }
      ]
    },
    {
      "cell_type": "markdown",
      "metadata": {
        "id": "z3WNGzYBhlnK"
      },
      "source": [
        "# Assignment: Geog 485\n",
        "\n",
        "## What explains the changes visible in the NDVI difference image?\n",
        "\n",
        "Greener areas are estimated to have more growing green vegetation recently, while redder areas are estimated to have less. Think about the time difference between the images as well.\n",
        "\n",
        "- seasonality,\n",
        "- atmosphere,\n",
        "- solar orientation,\n",
        "- actual LULC change\n",
        "\n",
        "There is likely more than one factor at play - don't forget to look at the images from the two dates in addition to the NDVI difference image for your answer - and to examine the entire image area using the zoom and pan tools."
      ]
    },
    {
      "cell_type": "markdown",
      "metadata": {
        "id": "_V4T2idqHxcs"
      },
      "source": [
        "## Time Series Analysis \n",
        "\n",
        "Since the collection has hundreds of images of this area since 2015, this data can be used to look at the variation of NDVI over a single point as a time series.\n"
      ]
    },
    {
      "cell_type": "markdown",
      "metadata": {
        "id": "EER3i_akyWPh"
      },
      "source": [
        "### Retrieve information over the collection time period\n",
        "\n",
        "The point used to geographically limit the image collection can be used to gather information from a single area over the entire time period.  The code for this is described [here](https://developers.google.com/earth-engine/apidocs/ee-imagecollection-getregion).  "
      ]
    },
    {
      "cell_type": "code",
      "metadata": {
        "id": "CK2ZYLN3yWPi"
      },
      "source": [
        "info = collection.getRegion(point,10).getInfo()"
      ],
      "execution_count": 67,
      "outputs": []
    },
    {
      "cell_type": "markdown",
      "metadata": {
        "id": "BQJkX18lCWI9"
      },
      "source": [
        "### mask clouds to create a filtered collection\n",
        "\n",
        "We can use the cloud mask function created earlier to remove data that has been identified as cloudy in the collection, to compare with the data above.\n",
        "\n",
        "This new result will be called `dataset`"
      ]
    },
    {
      "cell_type": "code",
      "metadata": {
        "id": "cPZPZwIfCTTQ"
      },
      "source": [
        "# apply the cloud mask to the collection\n",
        "maskeddata = collection.map(maskL8sr)"
      ],
      "execution_count": 106,
      "outputs": []
    },
    {
      "cell_type": "markdown",
      "metadata": {
        "id": "xuGv6QpJOmkO"
      },
      "source": [
        "Get information about the filtered collection"
      ]
    },
    {
      "cell_type": "code",
      "metadata": {
        "id": "GdNN0KpP9A3W"
      },
      "source": [
        "# get the data for a specific area\n",
        "info_filt = maskeddata.getRegion(point,10).getInfo()"
      ],
      "execution_count": 107,
      "outputs": []
    },
    {
      "cell_type": "markdown",
      "metadata": {
        "id": "fVP-7hxdhTlh"
      },
      "source": [
        "### Compare the unfilitered and the filtered collection\n",
        "\n",
        "Plot the data by turning it into a pandas dataframe and using the seaborn package to visualize it\n",
        "\n",
        "## unfiltered"
      ]
    },
    {
      "cell_type": "code",
      "metadata": {
        "id": "67tnKT4qNWpT",
        "colab": {
          "base_uri": "https://localhost:8080/",
          "height": 407
        },
        "outputId": "c14e5e0e-cd86-4f4e-f5f7-9c9abfc27b66"
      },
      "source": [
        "# plot the ndvi\n",
        "data = info\n",
        "\n",
        "# Reshape image collection \n",
        "header = data[0]\n",
        "data = array(data[1:])\n",
        "\n",
        "iTime = header.index('time')\n",
        "time = [datetime.datetime.fromtimestamp(i/1000) for i in (data[0:,iTime].astype(int))]\n",
        "\n",
        "# List of used image bands\n",
        "#band_list = ['RED',u'NIR']\n",
        "band_list = ['B4',u'B5'] # landsat collection doesnt have band 8\n",
        "\n",
        "iBands = [header.index(b) for b in band_list]\n",
        "yData = data[0:,iBands].astype(np.float)\n",
        "\n",
        "# Calculate NDVI\n",
        "red = yData[:,0]\n",
        "nir = yData[:,1]\n",
        "ndvi = (nir - red) / (nir + red)\n",
        "\n",
        "# reshaoe NDVI into Pandas\n",
        "df = pd.DataFrame(data=ndvi, index=list(range(len(ndvi))), columns=['NDVI'])\n",
        "df = df.interpolate()\n",
        "df['Date'] = pd.Series(time, index=df.index)\n",
        "df = df.set_index(df.Date)\n",
        "df.index = pd.to_datetime(df.index)\n",
        "df['NDVI']=df['NDVI'].fillna(0)\n",
        "\n",
        "sns.set(rc={'figure.figsize':(20, 6)})\n",
        "df['NDVI'].plot(linewidth=0.5, color=\"green\")\n",
        "plt.title('NDVI', color='green')"
      ],
      "execution_count": 77,
      "outputs": [
        {
          "output_type": "execute_result",
          "data": {
            "text/plain": [
              "Text(0.5, 1.0, 'NDVI')"
            ]
          },
          "metadata": {
            "tags": []
          },
          "execution_count": 77
        },
        {
          "output_type": "display_data",
          "data": {
            "image/png": "[encoded data removed]",
            "text/plain": [
              "<Figure size 1440x432 with 1 Axes>"
            ]
          },
          "metadata": {
            "tags": []
          }
        }
      ]
    },
    {
      "cell_type": "markdown",
      "metadata": {
        "id": "MFyjVoYPO6zH"
      },
      "source": [
        "Lots of spikiness - much of it related to cloudy pixels\n",
        "\n",
        "### Plot the filtered data"
      ]
    },
    {
      "cell_type": "code",
      "metadata": {
        "id": "_jkoDBnUxOlr",
        "colab": {
          "base_uri": "https://localhost:8080/",
          "height": 407
        },
        "outputId": "d67a248e-07bd-4ac0-83c7-268065e43501"
      },
      "source": [
        "## plot the ndvi\n",
        "data = info_filt\n",
        "\n",
        "# Reshape image collection \n",
        "header = data[0]\n",
        "data = array(data[1:])\n",
        "\n",
        "iTime = header.index('time')\n",
        "time = [datetime.datetime.fromtimestamp(i/1000) for i in (data[0:,iTime].astype(int))]\n",
        "\n",
        "# List of used image bands\n",
        "#band_list = ['RED',u'NIR']\n",
        "band_list = ['B4',u'B5']  # landsat collection doesnt have band 8\n",
        "\n",
        "iBands = [header.index(b) for b in band_list]\n",
        "yData = data[0:,iBands].astype(np.float)\n",
        "\n",
        "# Calculate NDVI\n",
        "red = yData[:,0]\n",
        "nir = yData[:,1]\n",
        "ndvi = (nir - red) / (nir + red)\n",
        "# reshaoe NDVI into Pandas\n",
        "df = pd.DataFrame(data=ndvi, index=list(range(len(ndvi))), columns=['NDVI'])\n",
        "df = df.interpolate()\n",
        "df['Date'] = pd.Series(time, index=df.index)\n",
        "df = df.set_index(df.Date)\n",
        "df.index = pd.to_datetime(df.index)\n",
        "df['NDVI']=df['NDVI'].fillna(0)\n",
        "\n",
        "sns.set(rc={'figure.figsize':(20, 6)})\n",
        "df['NDVI'].plot(linewidth=0.5, color=\"green\")\n",
        "plt.title('NDVI', color='green')"
      ],
      "execution_count": 81,
      "outputs": [
        {
          "output_type": "execute_result",
          "data": {
            "text/plain": [
              "Text(0.5, 1.0, 'NDVI')"
            ]
          },
          "metadata": {
            "tags": []
          },
          "execution_count": 81
        },
        {
          "output_type": "display_data",
          "data": {
            "image/png": "[encoded data removed]",
            "text/plain": [
              "<Figure size 1440x432 with 1 Axes>"
            ]
          },
          "metadata": {
            "tags": []
          }
        }
      ]
    },
    {
      "cell_type": "markdown",
      "metadata": {
        "id": "Z-3lRZ0yPVfV"
      },
      "source": [
        "A little better, now examine the actual filtered data"
      ]
    },
    {
      "cell_type": "code",
      "metadata": {
        "id": "LMjpGefeUoU3",
        "colab": {
          "base_uri": "https://localhost:8080/",
          "height": 235
        },
        "outputId": "46147124-0073-4381-dd8b-b1e3b908df2f"
      },
      "source": [
        "df.head(5)"
      ],
      "execution_count": 79,
      "outputs": [
        {
          "output_type": "execute_result",
          "data": {
            "text/html": [
              "<div>\n",
              "<style scoped>\n",
              "    .dataframe tbody tr th:only-of-type {\n",
              "        vertical-align: middle;\n",
              "    }\n",
              "\n",
              "    .dataframe tbody tr th {\n",
              "        vertical-align: top;\n",
              "    }\n",
              "\n",
              "    .dataframe thead th {\n",
              "        text-align: right;\n",
              "    }\n",
              "</style>\n",
              "<table border=\"1\" class=\"dataframe\">\n",
              "  <thead>\n",
              "    <tr style=\"text-align: right;\">\n",
              "      <th></th>\n",
              "      <th>NDVI</th>\n",
              "      <th>Date</th>\n",
              "    </tr>\n",
              "    <tr>\n",
              "      <th>Date</th>\n",
              "      <th></th>\n",
              "      <th></th>\n",
              "    </tr>\n",
              "  </thead>\n",
              "  <tbody>\n",
              "    <tr>\n",
              "      <th>2015-03-28 18:49:44.510</th>\n",
              "      <td>0.0</td>\n",
              "      <td>2015-03-28 18:49:44.510</td>\n",
              "    </tr>\n",
              "    <tr>\n",
              "      <th>2015-04-13 18:49:39.180</th>\n",
              "      <td>0.0</td>\n",
              "      <td>2015-04-13 18:49:39.180</td>\n",
              "    </tr>\n",
              "    <tr>\n",
              "      <th>2015-04-29 18:49:31.410</th>\n",
              "      <td>0.0</td>\n",
              "      <td>2015-04-29 18:49:31.410</td>\n",
              "    </tr>\n",
              "    <tr>\n",
              "      <th>2015-05-15 18:49:16.660</th>\n",
              "      <td>0.0</td>\n",
              "      <td>2015-05-15 18:49:16.660</td>\n",
              "    </tr>\n",
              "    <tr>\n",
              "      <th>2015-05-31 18:49:22.730</th>\n",
              "      <td>0.0</td>\n",
              "      <td>2015-05-31 18:49:22.730</td>\n",
              "    </tr>\n",
              "  </tbody>\n",
              "</table>\n",
              "</div>"
            ],
            "text/plain": [
              "                         NDVI                    Date\n",
              "Date                                                 \n",
              "2015-03-28 18:49:44.510   0.0 2015-03-28 18:49:44.510\n",
              "2015-04-13 18:49:39.180   0.0 2015-04-13 18:49:39.180\n",
              "2015-04-29 18:49:31.410   0.0 2015-04-29 18:49:31.410\n",
              "2015-05-15 18:49:16.660   0.0 2015-05-15 18:49:16.660\n",
              "2015-05-31 18:49:22.730   0.0 2015-05-31 18:49:22.730"
            ]
          },
          "metadata": {
            "tags": []
          },
          "execution_count": 79
        }
      ]
    },
    {
      "cell_type": "markdown",
      "metadata": {
        "id": "VVXCRfUSNmzu"
      },
      "source": [
        "## Interactive mapping\n",
        "\n",
        "### Make an interactive map with the chart data embedded\n",
        "\n",
        "The information we just plotted can be placed onto the interactive map, using the 'Altair' module for plotting. \n",
        "\n",
        "Altair is designed to quickly make charts that can be displayed online\n",
        "\n",
        "https://altair-viz.github.io/getting_started/overview.html\n",
        "\n",
        "Using the \"NDVI\" and \"Date\" columns, plot the NDVI over time.\n"
      ]
    },
    {
      "cell_type": "code",
      "metadata": {
        "id": "vw1t_cI9A2v2",
        "colab": {
          "base_uri": "https://localhost:8080/",
          "height": 363
        },
        "outputId": "15ab6deb-dbd5-4a69-d65a-808ea1a88199"
      },
      "source": [
        "chart = alt.Chart(df).mark_line().encode(y='NDVI', x='Date')\n",
        "chart"
      ],
      "execution_count": 82,
      "outputs": [
        {
          "output_type": "execute_result",
          "data": {
            "text/plain": [
              "alt.Chart(...)"
            ],
            "text/html": [
              "\n",
              "<div id=\"altair-viz-2fbf65fda9b542debd400df8a7fa9571\"></div>\n",
              "<script type=\"text/javascript\">\n",
              "  (function(spec, embedOpt){\n",
              "    let outputDiv = document.currentScript.previousElementSibling;\n",
              "    if (outputDiv.id !== \"altair-viz-2fbf65fda9b542debd400df8a7fa9571\") {\n",
              "      outputDiv = document.getElementById(\"altair-viz-2fbf65fda9b542debd400df8a7fa9571\");\n",
              "    }\n",
              "    const paths = {\n",
              "      \"vega\": \"https://cdn.jsdelivr.net/npm//vega@5?noext\",\n",
              "      \"vega-lib\": \"https://cdn.jsdelivr.net/npm//vega-lib?noext\",\n",
              "      \"vega-lite\": \"https://cdn.jsdelivr.net/npm//vega-lite@4.8.1?noext\",\n",
              "      \"vega-embed\": \"https://cdn.jsdelivr.net/npm//vega-embed@6?noext\",\n",
              "    };\n",
              "\n",
              "    function loadScript(lib) {\n",
              "      return new Promise(function(resolve, reject) {\n",
              "        var s = document.createElement('script');\n",
              "        s.src = paths[lib];\n",
              "        s.async = true;\n",
              "        s.onload = () => resolve(paths[lib]);\n",
              "        s.onerror = () => reject(`Error loading script: ${paths[lib]}`);\n",
              "        document.getElementsByTagName(\"head\")[0].appendChild(s);\n",
              "      });\n",
              "    }\n",
              "\n",
              "    function showError(err) {\n",
              "      outputDiv.innerHTML = `<div class=\"error\" style=\"color:red;\">${err}</div>`;\n",
              "      throw err;\n",
              "    }\n",
              "\n",
              "    function displayChart(vegaEmbed) {\n",
              "      vegaEmbed(outputDiv, spec, embedOpt)\n",
              "        .catch(err => showError(`Javascript Error: ${err.message}<br>This usually means there's a typo in your chart specification. See the javascript console for the full traceback.`));\n",
              "    }\n",
              "\n",
              "    if(typeof define === \"function\" && define.amd) {\n",
              "      requirejs.config({paths});\n",
              "      require([\"vega-embed\"], displayChart, err => showError(`Error loading script: ${err.message}`));\n",
              "    } else if (typeof vegaEmbed === \"function\") {\n",
              "      displayChart(vegaEmbed);\n",
              "    } else {\n",
              "      loadScript(\"vega\")\n",
              "        .then(() => loadScript(\"vega-lite\"))\n",
              "        .then(() => loadScript(\"vega-embed\"))\n",
              "        .catch(showError)\n",
              "        .then(() => displayChart(vegaEmbed));\n",
              "    }\n",
              "  })({\"config\": {\"view\": {\"continuousWidth\": 400, \"continuousHeight\": 300}}, \"data\": {\"name\": \"data-869f8a86157f96904e1457d985ffc9fa\"}, \"mark\": \"line\", \"encoding\": {\"x\": {\"type\": \"temporal\", \"field\": \"Date\"}, \"y\": {\"type\": \"quantitative\", \"field\": \"NDVI\"}}, \"$schema\": \"https://vega.github.io/schema/vega-lite/v4.8.1.json\", \"datasets\": {\"data-869f8a86157f96904e1457d985ffc9fa\": [{\"NDVI\": 0.0, \"Date\": \"2015-03-28T18:49:44.510000\"}, {\"NDVI\": 0.0, \"Date\": \"2015-04-13T18:49:39.180000\"}, {\"NDVI\": 0.0, \"Date\": \"2015-04-29T18:49:31.410000\"}, {\"NDVI\": 0.0, \"Date\": \"2015-05-15T18:49:16.660000\"}, {\"NDVI\": 0.0, \"Date\": \"2015-05-31T18:49:22.730000\"}, {\"NDVI\": 0.0, \"Date\": \"2015-06-16T18:49:33.820000\"}, {\"NDVI\": 0.0, \"Date\": \"2015-07-02T18:49:40.810000\"}, {\"NDVI\": 0.0, \"Date\": \"2015-07-18T18:49:50.280000\"}, {\"NDVI\": 0.0, \"Date\": \"2015-08-03T18:49:53.400000\"}, {\"NDVI\": 0.0, \"Date\": \"2015-08-19T18:50:00.918000\"}, {\"NDVI\": 0.0, \"Date\": \"2015-09-04T18:50:05.760000\"}, {\"NDVI\": 0.0, \"Date\": \"2015-09-20T18:50:14.370000\"}, {\"NDVI\": 0.0, \"Date\": \"2015-10-06T18:50:17.240000\"}, {\"NDVI\": 0.0, \"Date\": \"2015-10-22T18:50:20.240000\"}, {\"NDVI\": 0.0, \"Date\": \"2015-11-07T18:50:22.920000\"}, {\"NDVI\": 0.0, \"Date\": \"2015-11-23T18:50:25.160000\"}, {\"NDVI\": 0.0, \"Date\": \"2015-12-09T18:50:22.940000\"}, {\"NDVI\": 0.0, \"Date\": \"2016-01-10T18:50:20.400000\"}, {\"NDVI\": 0.0, \"Date\": \"2016-01-26T18:50:20.600000\"}, {\"NDVI\": 0.0, \"Date\": \"2016-02-27T18:50:09.870000\"}, {\"NDVI\": 0.0, \"Date\": \"2016-03-14T18:50:06.200000\"}, {\"NDVI\": 0.0, \"Date\": \"2016-03-30T18:49:55.950000\"}, {\"NDVI\": 0.0, \"Date\": \"2016-04-15T18:49:51.111000\"}, {\"NDVI\": 0.0, \"Date\": \"2016-05-01T18:49:53.300000\"}, {\"NDVI\": 0.0, \"Date\": \"2016-05-17T18:49:50.440000\"}, {\"NDVI\": 0.0, \"Date\": \"2016-06-02T18:49:56.220000\"}, {\"NDVI\": 0.0, \"Date\": \"2016-06-18T18:49:59.370000\"}, {\"NDVI\": 0.0, \"Date\": \"2016-07-04T18:50:08.770000\"}, {\"NDVI\": 0.0, \"Date\": \"2016-07-20T18:50:14.960000\"}, {\"NDVI\": 0.0, \"Date\": \"2016-08-05T18:50:17.710000\"}, {\"NDVI\": 0.0, \"Date\": \"2016-08-21T18:50:23.190000\"}, {\"NDVI\": 0.0, \"Date\": \"2016-09-22T18:50:30.230000\"}, {\"NDVI\": 0.0, \"Date\": \"2016-10-08T18:50:33.810000\"}, {\"NDVI\": 0.0, \"Date\": \"2016-10-24T18:50:37.110000\"}, {\"NDVI\": 0.0, \"Date\": \"2016-11-09T18:50:35.700000\"}, {\"NDVI\": 0.0, \"Date\": \"2016-11-25T18:50:36.550000\"}, {\"NDVI\": 0.0, \"Date\": \"2016-12-27T18:50:30.170000\"}, {\"NDVI\": 0.0, \"Date\": \"2017-01-12T18:50:26.390000\"}, {\"NDVI\": 0.0, \"Date\": \"2017-01-28T18:50:20.390000\"}, {\"NDVI\": 0.0, \"Date\": \"2017-02-13T18:50:12.817000\"}, {\"NDVI\": 0.0, \"Date\": \"2017-03-01T18:50:07.200000\"}, {\"NDVI\": 0.0, \"Date\": \"2017-04-02T18:49:50.020000\"}, {\"NDVI\": 0.0, \"Date\": \"2017-04-18T18:49:41.300000\"}, {\"NDVI\": 0.0, \"Date\": \"2017-05-04T18:49:33.874000\"}, {\"NDVI\": 0.0, \"Date\": \"2017-05-20T18:49:45.760000\"}, {\"NDVI\": 0.0, \"Date\": \"2017-06-05T18:49:54.560000\"}, {\"NDVI\": 0.0, \"Date\": \"2017-06-21T18:50:00.520000\"}, {\"NDVI\": 0.0, \"Date\": \"2017-07-07T18:50:03.920000\"}, {\"NDVI\": 0.0, \"Date\": \"2017-07-23T18:50:10.100000\"}, {\"NDVI\": 0.0, \"Date\": \"2017-08-08T18:50:16.900000\"}, {\"NDVI\": 0.0, \"Date\": \"2017-08-24T18:50:21.300000\"}, {\"NDVI\": 0.0, \"Date\": \"2017-09-09T18:50:22.740000\"}, {\"NDVI\": 0.0, \"Date\": \"2017-09-25T18:50:28.060000\"}, {\"NDVI\": 0.0, \"Date\": \"2017-10-11T18:50:33.040000\"}, {\"NDVI\": 0.0, \"Date\": \"2017-10-27T18:50:34.310000\"}, {\"NDVI\": 0.0, \"Date\": \"2017-11-12T18:50:31.700000\"}, {\"NDVI\": 0.0, \"Date\": \"2017-12-14T18:50:26.390000\"}, {\"NDVI\": 0.0, \"Date\": \"2017-12-30T18:50:25.760000\"}, {\"NDVI\": 0.0, \"Date\": \"2018-01-15T18:50:18.990000\"}, {\"NDVI\": 0.0, \"Date\": \"2018-01-31T18:50:09.200000\"}, {\"NDVI\": 0.0, \"Date\": \"2018-02-16T18:50:04.010000\"}, {\"NDVI\": 0.0, \"Date\": \"2018-03-04T18:49:56.410000\"}, {\"NDVI\": 0.0, \"Date\": \"2018-03-20T18:49:47.970000\"}, {\"NDVI\": 0.0, \"Date\": \"2018-04-21T18:49:31.110000\"}, {\"NDVI\": 0.0, \"Date\": \"2018-05-07T18:49:22.192000\"}, {\"NDVI\": 0.0, \"Date\": \"2018-05-23T18:49:10.410000\"}, {\"NDVI\": 0.0, \"Date\": \"2018-06-08T18:49:04.830000\"}, {\"NDVI\": 0.0, \"Date\": \"2018-06-24T18:49:15.750000\"}, {\"NDVI\": 0.0, \"Date\": \"2018-07-10T18:49:24.210000\"}, {\"NDVI\": 0.0, \"Date\": \"2018-07-26T18:49:30.430000\"}, {\"NDVI\": 0.0, \"Date\": \"2018-08-11T18:49:40.170000\"}, {\"NDVI\": 0.0, \"Date\": \"2018-08-27T18:49:47.740000\"}, {\"NDVI\": 0.0, \"Date\": \"2018-09-12T18:49:52.870000\"}, {\"NDVI\": 0.0, \"Date\": \"2018-09-28T18:49:59.120000\"}, {\"NDVI\": 0.0, \"Date\": \"2018-10-14T18:50:06.280000\"}, {\"NDVI\": 0.0, \"Date\": \"2018-10-30T18:50:10.710000\"}, {\"NDVI\": 0.0, \"Date\": \"2018-11-15T18:50:12.320000\"}, {\"NDVI\": 0.0, \"Date\": \"2018-12-17T18:50:08.460000\"}, {\"NDVI\": 0.0, \"Date\": \"2019-01-02T18:50:08.350000\"}, {\"NDVI\": 0.0, \"Date\": \"2019-01-18T18:50:05.440000\"}, {\"NDVI\": 0.0, \"Date\": \"2019-02-19T18:49:59.690000\"}, {\"NDVI\": 0.0, \"Date\": \"2019-03-07T18:49:54.780000\"}, {\"NDVI\": 0.0, \"Date\": \"2019-03-23T18:49:50.580000\"}, {\"NDVI\": 0.0, \"Date\": \"2019-04-24T18:49:39.540000\"}, {\"NDVI\": 0.0, \"Date\": \"2019-05-10T18:49:47.470000\"}, {\"NDVI\": 0.0, \"Date\": \"2019-05-26T18:49:57.030000\"}, {\"NDVI\": 0.0, \"Date\": \"2019-06-11T18:50:04.320000\"}, {\"NDVI\": 0.0, \"Date\": \"2019-06-27T18:50:09.470000\"}, {\"NDVI\": 0.0, \"Date\": \"2019-07-13T18:50:12.612000\"}, {\"NDVI\": 0.0, \"Date\": \"2019-07-29T18:50:18.289000\"}, {\"NDVI\": 0.0, \"Date\": \"2019-08-14T18:50:24.038000\"}, {\"NDVI\": 0.0, \"Date\": \"2019-08-30T18:50:27.834000\"}, {\"NDVI\": 0.0, \"Date\": \"2019-09-15T18:50:32.804000\"}, {\"NDVI\": 0.0, \"Date\": \"2019-10-01T18:50:37.504000\"}, {\"NDVI\": 0.0, \"Date\": \"2019-10-17T18:50:39.778000\"}, {\"NDVI\": 0.0, \"Date\": \"2019-11-02T18:50:39.351000\"}, {\"NDVI\": 0.0, \"Date\": \"2019-11-18T18:50:35.998000\"}, {\"NDVI\": 0.0, \"Date\": \"2019-12-04T18:50:35.132000\"}, {\"NDVI\": 0.0, \"Date\": \"2020-01-05T18:50:28.346000\"}, {\"NDVI\": 0.0, \"Date\": \"2020-01-21T18:50:24.898000\"}, {\"NDVI\": 0.0, \"Date\": \"2020-02-06T18:50:19.582000\"}, {\"NDVI\": 0.0, \"Date\": \"2020-02-22T18:50:16.253000\"}, {\"NDVI\": 0.0, \"Date\": \"2020-03-09T18:50:10.314000\"}, {\"NDVI\": 0.0, \"Date\": \"2020-03-25T18:50:01.886000\"}, {\"NDVI\": 0.0, \"Date\": \"2020-04-10T18:49:53.959000\"}, {\"NDVI\": 0.0, \"Date\": \"2020-04-26T18:49:46.541000\"}, {\"NDVI\": 0.0, \"Date\": \"2020-05-12T18:49:40.483000\"}, {\"NDVI\": 0.0, \"Date\": \"2020-05-28T18:49:43.620000\"}, {\"NDVI\": 0.0, \"Date\": \"2020-06-29T18:50:02.304000\"}, {\"NDVI\": 0.0, \"Date\": \"2020-07-15T18:50:08.585000\"}, {\"NDVI\": 0.0, \"Date\": \"2020-07-31T18:50:12.900000\"}, {\"NDVI\": 0.0, \"Date\": \"2020-08-16T18:50:17.612000\"}, {\"NDVI\": 0.0, \"Date\": \"2020-09-01T18:50:25.695000\"}, {\"NDVI\": 0.0, \"Date\": \"2020-09-17T18:50:31.626000\"}, {\"NDVI\": 0.0, \"Date\": \"2020-10-03T18:50:35.312000\"}, {\"NDVI\": 0.0, \"Date\": \"2020-10-19T18:50:36.331000\"}, {\"NDVI\": 0.0, \"Date\": \"2015-03-28T18:50:08.400000\"}, {\"NDVI\": 0.0, \"Date\": \"2015-04-13T18:50:03.070000\"}, {\"NDVI\": 0.0, \"Date\": \"2015-04-29T18:49:55.290000\"}, {\"NDVI\": 0.0, \"Date\": \"2015-05-31T18:49:46.620000\"}, {\"NDVI\": 0.0, \"Date\": \"2015-06-16T18:49:57.710000\"}, {\"NDVI\": 0.0, \"Date\": \"2015-07-02T18:50:04.700000\"}, {\"NDVI\": 0.0, \"Date\": \"2015-07-18T18:50:14.170000\"}, {\"NDVI\": 0.0, \"Date\": \"2015-08-03T18:50:17.290000\"}, {\"NDVI\": 0.0, \"Date\": \"2015-08-19T18:50:24.800000\"}, {\"NDVI\": 0.0, \"Date\": \"2015-09-04T18:50:29.640000\"}, {\"NDVI\": 0.0, \"Date\": \"2015-09-20T18:50:38.260000\"}, {\"NDVI\": 0.0, \"Date\": \"2015-10-06T18:50:41.120000\"}, {\"NDVI\": 0.0, \"Date\": \"2015-10-22T18:50:44.120000\"}, {\"NDVI\": 0.0, \"Date\": \"2015-11-07T18:50:46.810000\"}, {\"NDVI\": 0.0, \"Date\": \"2015-11-23T18:50:49.040000\"}, {\"NDVI\": 0.0, \"Date\": \"2015-12-25T18:50:48.110000\"}, {\"NDVI\": 0.0, \"Date\": \"2016-01-10T18:50:44.290000\"}, {\"NDVI\": 0.0, \"Date\": \"2016-01-26T18:50:44.480000\"}, {\"NDVI\": 0.0, \"Date\": \"2016-02-11T18:50:38.400000\"}, {\"NDVI\": 0.0, \"Date\": \"2016-02-27T18:50:33.753000\"}, {\"NDVI\": 0.0, \"Date\": \"2016-03-30T18:50:19.840000\"}, {\"NDVI\": 0.0, \"Date\": \"2016-04-15T18:50:14.989000\"}, {\"NDVI\": 0.0, \"Date\": \"2016-05-01T18:50:17.190000\"}, {\"NDVI\": 0.0, \"Date\": \"2016-05-17T18:50:14.330000\"}, {\"NDVI\": 0.0, \"Date\": \"2016-06-02T18:50:20.100000\"}, {\"NDVI\": 0.0, \"Date\": \"2016-06-18T18:50:23.260000\"}, {\"NDVI\": 0.0, \"Date\": \"2016-07-04T18:50:32.660000\"}, {\"NDVI\": 0.0, \"Date\": \"2016-07-20T18:50:38.840000\"}, {\"NDVI\": 0.0, \"Date\": \"2016-08-05T18:50:41.600000\"}, {\"NDVI\": 0.0, \"Date\": \"2016-08-21T18:50:47.080000\"}, {\"NDVI\": 0.0, \"Date\": \"2016-09-06T18:50:52.610000\"}, {\"NDVI\": 0.0, \"Date\": \"2016-09-22T18:50:54.112000\"}, {\"NDVI\": 0.0, \"Date\": \"2016-10-08T18:50:57.700000\"}, {\"NDVI\": 0.0, \"Date\": \"2016-10-24T18:51:00.990000\"}, {\"NDVI\": 0.0, \"Date\": \"2016-11-09T18:50:59.580000\"}, {\"NDVI\": 0.0, \"Date\": \"2017-01-12T18:50:50.280000\"}, {\"NDVI\": 0.0, \"Date\": \"2017-01-28T18:50:44.280000\"}, {\"NDVI\": 0.0, \"Date\": \"2017-02-13T18:50:36.708000\"}, {\"NDVI\": 0.0, \"Date\": \"2017-03-01T18:50:31.080000\"}, {\"NDVI\": 0.0, \"Date\": \"2017-04-02T18:50:13.900000\"}, {\"NDVI\": 0.0, \"Date\": \"2017-04-18T18:50:05.190000\"}, {\"NDVI\": 0.0, \"Date\": \"2017-05-04T18:49:57.761000\"}, {\"NDVI\": 0.0, \"Date\": \"2017-05-20T18:50:09.650000\"}, {\"NDVI\": 0.0, \"Date\": \"2017-06-05T18:50:18.450000\"}, {\"NDVI\": 0.0, \"Date\": \"2017-06-21T18:50:24.410000\"}, {\"NDVI\": 0.0, \"Date\": \"2017-07-07T18:50:27.800000\"}, {\"NDVI\": 0.0, \"Date\": \"2017-07-23T18:50:33.980000\"}, {\"NDVI\": 0.0, \"Date\": \"2017-08-08T18:50:40.780000\"}, {\"NDVI\": 0.0, \"Date\": \"2017-08-24T18:50:45.190000\"}, {\"NDVI\": 0.0, \"Date\": \"2017-09-09T18:50:46.620000\"}, {\"NDVI\": 0.0, \"Date\": \"2017-09-25T18:50:51.950000\"}, {\"NDVI\": 0.0, \"Date\": \"2017-10-11T18:50:56.930000\"}, {\"NDVI\": 0.0, \"Date\": \"2017-10-27T18:50:58.200000\"}, {\"NDVI\": 0.0, \"Date\": \"2017-11-12T18:50:55.590000\"}, {\"NDVI\": 0.0, \"Date\": \"2017-12-14T18:50:50.280000\"}, {\"NDVI\": 0.0, \"Date\": \"2017-12-30T18:50:49.650000\"}, {\"NDVI\": 0.0, \"Date\": \"2018-01-15T18:50:42.870000\"}, {\"NDVI\": 0.0, \"Date\": \"2018-01-31T18:50:33.080000\"}, {\"NDVI\": 0.0, \"Date\": \"2018-02-16T18:50:27.900000\"}, {\"NDVI\": 0.0, \"Date\": \"2018-03-20T18:50:11.850000\"}, {\"NDVI\": 0.0, \"Date\": \"2018-04-21T18:49:55\"}, {\"NDVI\": 0.0, \"Date\": \"2018-05-07T18:49:46.074000\"}, {\"NDVI\": 0.0, \"Date\": \"2018-05-23T18:49:34.290000\"}, {\"NDVI\": 0.0, \"Date\": \"2018-06-08T18:49:28.720000\"}, {\"NDVI\": 0.0, \"Date\": \"2018-06-24T18:49:39.640000\"}, {\"NDVI\": 0.0, \"Date\": \"2018-07-10T18:49:48.100000\"}, {\"NDVI\": 0.0, \"Date\": \"2018-07-26T18:49:54.320000\"}, {\"NDVI\": 0.0, \"Date\": \"2018-08-11T18:50:04.060000\"}, {\"NDVI\": 0.0, \"Date\": \"2018-08-27T18:50:11.640000\"}, {\"NDVI\": 0.0, \"Date\": \"2018-09-12T18:50:16.760000\"}, {\"NDVI\": 0.0, \"Date\": \"2018-09-28T18:50:23.010000\"}, {\"NDVI\": 0.0, \"Date\": \"2018-10-14T18:50:30.170000\"}, {\"NDVI\": 0.0, \"Date\": \"2018-10-30T18:50:34.590000\"}, {\"NDVI\": 0.0, \"Date\": \"2018-11-15T18:50:36.210000\"}, {\"NDVI\": 0.0, \"Date\": \"2018-12-17T18:50:32.350000\"}, {\"NDVI\": 0.0, \"Date\": \"2019-01-02T18:50:32.240000\"}, {\"NDVI\": 0.0, \"Date\": \"2019-02-03T18:50:25.940000\"}, {\"NDVI\": 0.0, \"Date\": \"2019-02-19T18:50:23.570000\"}, {\"NDVI\": 0.0, \"Date\": \"2019-03-07T18:50:18.660000\"}, {\"NDVI\": 0.0, \"Date\": \"2019-04-24T18:50:03.420000\"}, {\"NDVI\": 0.0, \"Date\": \"2019-05-10T18:50:11.350000\"}, {\"NDVI\": 0.0, \"Date\": \"2019-05-26T18:50:20.910000\"}, {\"NDVI\": 0.0, \"Date\": \"2019-06-11T18:50:28.210000\"}, {\"NDVI\": 0.0, \"Date\": \"2019-06-27T18:50:33.360000\"}, {\"NDVI\": 0.0, \"Date\": \"2019-07-13T18:50:36.503000\"}, {\"NDVI\": 0.0, \"Date\": \"2019-07-29T18:50:42.171000\"}, {\"NDVI\": 0.0, \"Date\": \"2019-08-14T18:50:47.924000\"}, {\"NDVI\": 0.0, \"Date\": \"2019-08-30T18:50:51.725000\"}, {\"NDVI\": 0.0, \"Date\": \"2019-09-15T18:50:56.687000\"}, {\"NDVI\": 0.0, \"Date\": \"2019-10-01T18:51:01.396000\"}, {\"NDVI\": 0.0, \"Date\": \"2019-10-17T18:51:03.661000\"}, {\"NDVI\": 0.0, \"Date\": \"2019-11-02T18:51:03.238000\"}, {\"NDVI\": 0.0, \"Date\": \"2019-11-18T18:50:59.885000\"}, {\"NDVI\": 0.0, \"Date\": \"2019-12-04T18:50:59.015000\"}, {\"NDVI\": 0.0, \"Date\": \"2020-02-22T18:50:40.135000\"}, {\"NDVI\": 0.0, \"Date\": \"2020-03-09T18:50:34.192000\"}, {\"NDVI\": 0.0, \"Date\": \"2020-03-25T18:50:25.769000\"}, {\"NDVI\": 0.0, \"Date\": \"2020-04-10T18:50:17.841000\"}, {\"NDVI\": 0.0, \"Date\": \"2020-04-26T18:50:10.423000\"}, {\"NDVI\": 0.0, \"Date\": \"2020-05-28T18:50:07.511000\"}, {\"NDVI\": 0.0, \"Date\": \"2020-06-29T18:50:26.187000\"}, {\"NDVI\": 0.0, \"Date\": \"2020-07-15T18:50:32.472000\"}, {\"NDVI\": 0.0, \"Date\": \"2020-07-31T18:50:36.783000\"}, {\"NDVI\": 0.0, \"Date\": \"2020-08-16T18:50:41.498000\"}, {\"NDVI\": 0.0, \"Date\": \"2020-09-01T18:50:49.586000\"}, {\"NDVI\": 0.0, \"Date\": \"2020-09-17T18:50:55.517000\"}, {\"NDVI\": 0.0, \"Date\": \"2020-10-03T18:50:59.199000\"}, {\"NDVI\": 0.0, \"Date\": \"2020-10-19T18:51:00.214000\"}, {\"NDVI\": 0.0, \"Date\": \"2015-04-04T18:55:49.560000\"}, {\"NDVI\": 0.0, \"Date\": \"2015-04-20T18:55:49.020000\"}, {\"NDVI\": 0.0, \"Date\": \"2015-05-06T18:55:34.270000\"}, {\"NDVI\": 0.0, \"Date\": \"2015-06-07T18:55:39.710000\"}, {\"NDVI\": 0.0, \"Date\": \"2015-06-23T18:55:46.170000\"}, {\"NDVI\": 0.0, \"Date\": \"2015-07-09T18:55:56.860000\"}, {\"NDVI\": 0.0, \"Date\": \"2015-08-10T18:56:06.930000\"}, {\"NDVI\": 0.0, \"Date\": \"2015-08-26T18:56:14.308000\"}, {\"NDVI\": 0.0, \"Date\": \"2015-09-11T18:56:21.020000\"}, {\"NDVI\": 0.0, \"Date\": \"2015-09-27T18:56:27.240000\"}, {\"NDVI\": 0.0, \"Date\": \"2015-10-13T18:56:27.310000\"}, {\"NDVI\": 0.0, \"Date\": \"2015-11-14T18:56:33.600000\"}, {\"NDVI\": 0.0, \"Date\": \"2016-01-01T18:56:33.080000\"}, {\"NDVI\": 0.0, \"Date\": \"2016-02-02T18:56:29.550000\"}, {\"NDVI\": 0.0, \"Date\": \"2016-03-05T18:56:19.980000\"}, {\"NDVI\": 0.0, \"Date\": \"2016-04-06T18:56:04.970000\"}, {\"NDVI\": 0.0, \"Date\": \"2016-04-22T18:55:58.410000\"}, {\"NDVI\": 0.0, \"Date\": \"2016-05-08T18:56:01.280000\"}, {\"NDVI\": 0.0, \"Date\": \"2016-05-24T18:56:04.310000\"}, {\"NDVI\": 0.0, \"Date\": \"2016-06-25T18:56:14.670000\"}, {\"NDVI\": 0.0, \"Date\": \"2016-07-11T18:56:22.750000\"}, {\"NDVI\": 0.0, \"Date\": \"2016-07-27T18:56:27.290000\"}, {\"NDVI\": 0.0, \"Date\": \"2016-08-12T18:56:29.390000\"}, {\"NDVI\": 0.0, \"Date\": \"2016-08-28T18:56:36.860000\"}, {\"NDVI\": 0.0, \"Date\": \"2016-09-13T18:56:40.680000\"}, {\"NDVI\": 0.0, \"Date\": \"2016-09-29T18:56:40.560000\"}, {\"NDVI\": 0.0, \"Date\": \"2016-10-31T18:56:47.880000\"}, {\"NDVI\": 0.0, \"Date\": \"2016-12-18T18:56:41.860000\"}, {\"NDVI\": 0.0, \"Date\": \"2017-01-03T18:56:39.190000\"}, {\"NDVI\": 0.0, \"Date\": \"2017-01-19T18:56:34.970000\"}, {\"NDVI\": 0.0, \"Date\": \"2017-04-09T18:55:57.430000\"}, {\"NDVI\": 0.0, \"Date\": \"2017-05-27T18:56:00.860000\"}, {\"NDVI\": 0.0, \"Date\": \"2017-06-28T18:56:13.120000\"}, {\"NDVI\": 0.0, \"Date\": \"2017-07-14T18:56:16.030000\"}, {\"NDVI\": 0.0, \"Date\": \"2017-07-30T18:56:24.140000\"}, {\"NDVI\": 0.0, \"Date\": \"2017-08-15T18:56:29.920000\"}, {\"NDVI\": 0.0, \"Date\": \"2017-08-31T18:56:33.150000\"}, {\"NDVI\": 0.0, \"Date\": \"2017-09-16T18:56:34.390000\"}, {\"NDVI\": 0.0, \"Date\": \"2017-10-02T18:56:41.550000\"}, {\"NDVI\": 0.0, \"Date\": \"2017-10-18T18:56:44.870000\"}, {\"NDVI\": 0.0, \"Date\": \"2017-11-03T18:56:44.480000\"}, {\"NDVI\": 0.0, \"Date\": \"2017-11-19T18:56:40.180000\"}, {\"NDVI\": 0.0, \"Date\": \"2017-12-05T18:56:35.750000\"}, {\"NDVI\": 0.0, \"Date\": \"2017-12-21T18:56:39\"}, {\"NDVI\": 0.0, \"Date\": \"2018-01-06T18:56:33.980000\"}, {\"NDVI\": 0.0, \"Date\": \"2018-01-22T18:56:25.880000\"}, {\"NDVI\": 0.0, \"Date\": \"2018-02-07T18:56:17.820000\"}, {\"NDVI\": 0.0, \"Date\": \"2018-02-23T18:56:11.820000\"}, {\"NDVI\": 0.0, \"Date\": \"2018-03-11T18:56:03.040000\"}, {\"NDVI\": 0.0, \"Date\": \"2018-04-28T18:55:38.350000\"}, {\"NDVI\": 0.0, \"Date\": \"2018-05-14T18:55:28.220000\"}, {\"NDVI\": 0.0, \"Date\": \"2018-05-30T18:55:15.250000\"}, {\"NDVI\": 0.0, \"Date\": \"2018-06-15T18:55:20.740000\"}, {\"NDVI\": 0.0, \"Date\": \"2018-07-01T18:55:30.560000\"}, {\"NDVI\": 0.0, \"Date\": \"2018-07-17T18:55:38.030000\"}, {\"NDVI\": 0.0, \"Date\": \"2018-08-02T18:55:45.770000\"}, {\"NDVI\": 0.0, \"Date\": \"2018-08-18T18:55:54.570000\"}, {\"NDVI\": 0.0, \"Date\": \"2018-09-03T18:56:01.050000\"}, {\"NDVI\": 0.0, \"Date\": \"2018-09-19T18:56:05.180000\"}, {\"NDVI\": 0.0, \"Date\": \"2018-10-21T18:56:19.360000\"}, {\"NDVI\": 0.0, \"Date\": \"2018-11-06T18:56:22.610000\"}, {\"NDVI\": 0.0, \"Date\": \"2018-12-08T18:56:20.270000\"}, {\"NDVI\": 0.0, \"Date\": \"2019-01-25T18:56:14.320000\"}, {\"NDVI\": 0.0, \"Date\": \"2019-02-10T18:56:12.150000\"}, {\"NDVI\": 0.0, \"Date\": \"2019-02-26T18:56:08.640000\"}, {\"NDVI\": 0.0, \"Date\": \"2019-03-14T18:56:02.670000\"}, {\"NDVI\": 0.0, \"Date\": \"2019-03-30T18:55:59.850000\"}, {\"NDVI\": 0.0, \"Date\": \"2019-05-01T18:55:52.530000\"}, {\"NDVI\": 0.0, \"Date\": \"2019-06-02T18:56:11.320000\"}, {\"NDVI\": 0.0, \"Date\": \"2019-06-18T18:56:17.650000\"}, {\"NDVI\": 0.0, \"Date\": \"2019-07-04T18:56:21.943000\"}, {\"NDVI\": 0.0, \"Date\": \"2019-07-20T18:56:25.024000\"}, {\"NDVI\": 0.0, \"Date\": \"2019-08-05T18:56:31.878000\"}, {\"NDVI\": 0.0, \"Date\": \"2019-09-06T18:56:39.996000\"}, {\"NDVI\": 0.0, \"Date\": \"2019-10-08T18:56:49.604000\"}, {\"NDVI\": 0.0, \"Date\": \"2019-10-24T18:56:50.756000\"}, {\"NDVI\": 0.0, \"Date\": \"2019-11-09T18:56:49.054000\"}, {\"NDVI\": 0.0, \"Date\": \"2019-11-25T18:56:46.129000\"}, {\"NDVI\": 0.0, \"Date\": \"2020-02-13T18:56:29.252000\"}, {\"NDVI\": 0.0, \"Date\": \"2020-02-29T18:56:24.762000\"}, {\"NDVI\": 0.0, \"Date\": \"2020-03-16T18:56:17.727000\"}, {\"NDVI\": 0.0, \"Date\": \"2020-04-17T18:56:01.826000\"}, {\"NDVI\": 0.0, \"Date\": \"2020-05-03T18:55:53.277000\"}, {\"NDVI\": 0.0, \"Date\": \"2020-06-04T18:55:59.290000\"}, {\"NDVI\": 0.0, \"Date\": \"2020-07-06T18:56:16.138000\"}, {\"NDVI\": 0.0, \"Date\": \"2020-07-22T18:56:21.554000\"}, {\"NDVI\": 0.0, \"Date\": \"2020-08-07T18:56:24.966000\"}, {\"NDVI\": 0.0, \"Date\": \"2020-08-23T18:56:32.219000\"}, {\"NDVI\": 0.0, \"Date\": \"2020-09-08T18:56:39.353000\"}, {\"NDVI\": 0.0, \"Date\": \"2020-09-24T18:56:44.352000\"}, {\"NDVI\": 0.0, \"Date\": \"2020-10-26T18:56:46.703000\"}]}}, {\"mode\": \"vega-lite\"});\n",
              "</script>"
            ]
          },
          "metadata": {
            "tags": []
          },
          "execution_count": 82
        }
      ]
    },
    {
      "cell_type": "markdown",
      "metadata": {
        "id": "qutpbwYj_JFu"
      },
      "source": [
        "Fix the size a bit.\n",
        "\n",
        "Chart Size: \n",
        "https://altair-viz.github.io/user_guide/customization.html#adjusting-chart-size"
      ]
    },
    {
      "cell_type": "code",
      "metadata": {
        "id": "urjSDMXjHPn2",
        "colab": {
          "base_uri": "https://localhost:8080/",
          "height": 263
        },
        "outputId": "28c27c8a-2b5b-4494-9977-ed1ce7056450"
      },
      "source": [
        "chart = alt.Chart(df).mark_line().encode(y='NDVI', x='Date').properties(width=700, height=200)\n",
        "\n",
        "chart"
      ],
      "execution_count": 83,
      "outputs": [
        {
          "output_type": "execute_result",
          "data": {
            "text/plain": [
              "alt.Chart(...)"
            ],
            "text/html": [
              "\n",
              "<div id=\"altair-viz-ff9ba8dc15454717adb2e01a173e0ead\"></div>\n",
              "<script type=\"text/javascript\">\n",
              "  (function(spec, embedOpt){\n",
              "    let outputDiv = document.currentScript.previousElementSibling;\n",
              "    if (outputDiv.id !== \"altair-viz-ff9ba8dc15454717adb2e01a173e0ead\") {\n",
              "      outputDiv = document.getElementById(\"altair-viz-ff9ba8dc15454717adb2e01a173e0ead\");\n",
              "    }\n",
              "    const paths = {\n",
              "      \"vega\": \"https://cdn.jsdelivr.net/npm//vega@5?noext\",\n",
              "      \"vega-lib\": \"https://cdn.jsdelivr.net/npm//vega-lib?noext\",\n",
              "      \"vega-lite\": \"https://cdn.jsdelivr.net/npm//vega-lite@4.8.1?noext\",\n",
              "      \"vega-embed\": \"https://cdn.jsdelivr.net/npm//vega-embed@6?noext\",\n",
              "    };\n",
              "\n",
              "    function loadScript(lib) {\n",
              "      return new Promise(function(resolve, reject) {\n",
              "        var s = document.createElement('script');\n",
              "        s.src = paths[lib];\n",
              "        s.async = true;\n",
              "        s.onload = () => resolve(paths[lib]);\n",
              "        s.onerror = () => reject(`Error loading script: ${paths[lib]}`);\n",
              "        document.getElementsByTagName(\"head\")[0].appendChild(s);\n",
              "      });\n",
              "    }\n",
              "\n",
              "    function showError(err) {\n",
              "      outputDiv.innerHTML = `<div class=\"error\" style=\"color:red;\">${err}</div>`;\n",
              "      throw err;\n",
              "    }\n",
              "\n",
              "    function displayChart(vegaEmbed) {\n",
              "      vegaEmbed(outputDiv, spec, embedOpt)\n",
              "        .catch(err => showError(`Javascript Error: ${err.message}<br>This usually means there's a typo in your chart specification. See the javascript console for the full traceback.`));\n",
              "    }\n",
              "\n",
              "    if(typeof define === \"function\" && define.amd) {\n",
              "      requirejs.config({paths});\n",
              "      require([\"vega-embed\"], displayChart, err => showError(`Error loading script: ${err.message}`));\n",
              "    } else if (typeof vegaEmbed === \"function\") {\n",
              "      displayChart(vegaEmbed);\n",
              "    } else {\n",
              "      loadScript(\"vega\")\n",
              "        .then(() => loadScript(\"vega-lite\"))\n",
              "        .then(() => loadScript(\"vega-embed\"))\n",
              "        .catch(showError)\n",
              "        .then(() => displayChart(vegaEmbed));\n",
              "    }\n",
              "  })({\"config\": {\"view\": {\"continuousWidth\": 400, \"continuousHeight\": 300}}, \"data\": {\"name\": \"data-869f8a86157f96904e1457d985ffc9fa\"}, \"mark\": \"line\", \"encoding\": {\"x\": {\"type\": \"temporal\", \"field\": \"Date\"}, \"y\": {\"type\": \"quantitative\", \"field\": \"NDVI\"}}, \"height\": 200, \"width\": 700, \"$schema\": \"https://vega.github.io/schema/vega-lite/v4.8.1.json\", \"datasets\": {\"data-869f8a86157f96904e1457d985ffc9fa\": [{\"NDVI\": 0.0, \"Date\": \"2015-03-28T18:49:44.510000\"}, {\"NDVI\": 0.0, \"Date\": \"2015-04-13T18:49:39.180000\"}, {\"NDVI\": 0.0, \"Date\": \"2015-04-29T18:49:31.410000\"}, {\"NDVI\": 0.0, \"Date\": \"2015-05-15T18:49:16.660000\"}, {\"NDVI\": 0.0, \"Date\": \"2015-05-31T18:49:22.730000\"}, {\"NDVI\": 0.0, \"Date\": \"2015-06-16T18:49:33.820000\"}, {\"NDVI\": 0.0, \"Date\": \"2015-07-02T18:49:40.810000\"}, {\"NDVI\": 0.0, \"Date\": \"2015-07-18T18:49:50.280000\"}, {\"NDVI\": 0.0, \"Date\": \"2015-08-03T18:49:53.400000\"}, {\"NDVI\": 0.0, \"Date\": \"2015-08-19T18:50:00.918000\"}, {\"NDVI\": 0.0, \"Date\": \"2015-09-04T18:50:05.760000\"}, {\"NDVI\": 0.0, \"Date\": \"2015-09-20T18:50:14.370000\"}, {\"NDVI\": 0.0, \"Date\": \"2015-10-06T18:50:17.240000\"}, {\"NDVI\": 0.0, \"Date\": \"2015-10-22T18:50:20.240000\"}, {\"NDVI\": 0.0, \"Date\": \"2015-11-07T18:50:22.920000\"}, {\"NDVI\": 0.0, \"Date\": \"2015-11-23T18:50:25.160000\"}, {\"NDVI\": 0.0, \"Date\": \"2015-12-09T18:50:22.940000\"}, {\"NDVI\": 0.0, \"Date\": \"2016-01-10T18:50:20.400000\"}, {\"NDVI\": 0.0, \"Date\": \"2016-01-26T18:50:20.600000\"}, {\"NDVI\": 0.0, \"Date\": \"2016-02-27T18:50:09.870000\"}, {\"NDVI\": 0.0, \"Date\": \"2016-03-14T18:50:06.200000\"}, {\"NDVI\": 0.0, \"Date\": \"2016-03-30T18:49:55.950000\"}, {\"NDVI\": 0.0, \"Date\": \"2016-04-15T18:49:51.111000\"}, {\"NDVI\": 0.0, \"Date\": \"2016-05-01T18:49:53.300000\"}, {\"NDVI\": 0.0, \"Date\": \"2016-05-17T18:49:50.440000\"}, {\"NDVI\": 0.0, \"Date\": \"2016-06-02T18:49:56.220000\"}, {\"NDVI\": 0.0, \"Date\": \"2016-06-18T18:49:59.370000\"}, {\"NDVI\": 0.0, \"Date\": \"2016-07-04T18:50:08.770000\"}, {\"NDVI\": 0.0, \"Date\": \"2016-07-20T18:50:14.960000\"}, {\"NDVI\": 0.0, \"Date\": \"2016-08-05T18:50:17.710000\"}, {\"NDVI\": 0.0, \"Date\": \"2016-08-21T18:50:23.190000\"}, {\"NDVI\": 0.0, \"Date\": \"2016-09-22T18:50:30.230000\"}, {\"NDVI\": 0.0, \"Date\": \"2016-10-08T18:50:33.810000\"}, {\"NDVI\": 0.0, \"Date\": \"2016-10-24T18:50:37.110000\"}, {\"NDVI\": 0.0, \"Date\": \"2016-11-09T18:50:35.700000\"}, {\"NDVI\": 0.0, \"Date\": \"2016-11-25T18:50:36.550000\"}, {\"NDVI\": 0.0, \"Date\": \"2016-12-27T18:50:30.170000\"}, {\"NDVI\": 0.0, \"Date\": \"2017-01-12T18:50:26.390000\"}, {\"NDVI\": 0.0, \"Date\": \"2017-01-28T18:50:20.390000\"}, {\"NDVI\": 0.0, \"Date\": \"2017-02-13T18:50:12.817000\"}, {\"NDVI\": 0.0, \"Date\": \"2017-03-01T18:50:07.200000\"}, {\"NDVI\": 0.0, \"Date\": \"2017-04-02T18:49:50.020000\"}, {\"NDVI\": 0.0, \"Date\": \"2017-04-18T18:49:41.300000\"}, {\"NDVI\": 0.0, \"Date\": \"2017-05-04T18:49:33.874000\"}, {\"NDVI\": 0.0, \"Date\": \"2017-05-20T18:49:45.760000\"}, {\"NDVI\": 0.0, \"Date\": \"2017-06-05T18:49:54.560000\"}, {\"NDVI\": 0.0, \"Date\": \"2017-06-21T18:50:00.520000\"}, {\"NDVI\": 0.0, \"Date\": \"2017-07-07T18:50:03.920000\"}, {\"NDVI\": 0.0, \"Date\": \"2017-07-23T18:50:10.100000\"}, {\"NDVI\": 0.0, \"Date\": \"2017-08-08T18:50:16.900000\"}, {\"NDVI\": 0.0, \"Date\": \"2017-08-24T18:50:21.300000\"}, {\"NDVI\": 0.0, \"Date\": \"2017-09-09T18:50:22.740000\"}, {\"NDVI\": 0.0, \"Date\": \"2017-09-25T18:50:28.060000\"}, {\"NDVI\": 0.0, \"Date\": \"2017-10-11T18:50:33.040000\"}, {\"NDVI\": 0.0, \"Date\": \"2017-10-27T18:50:34.310000\"}, {\"NDVI\": 0.0, \"Date\": \"2017-11-12T18:50:31.700000\"}, {\"NDVI\": 0.0, \"Date\": \"2017-12-14T18:50:26.390000\"}, {\"NDVI\": 0.0, \"Date\": \"2017-12-30T18:50:25.760000\"}, {\"NDVI\": 0.0, \"Date\": \"2018-01-15T18:50:18.990000\"}, {\"NDVI\": 0.0, \"Date\": \"2018-01-31T18:50:09.200000\"}, {\"NDVI\": 0.0, \"Date\": \"2018-02-16T18:50:04.010000\"}, {\"NDVI\": 0.0, \"Date\": \"2018-03-04T18:49:56.410000\"}, {\"NDVI\": 0.0, \"Date\": \"2018-03-20T18:49:47.970000\"}, {\"NDVI\": 0.0, \"Date\": \"2018-04-21T18:49:31.110000\"}, {\"NDVI\": 0.0, \"Date\": \"2018-05-07T18:49:22.192000\"}, {\"NDVI\": 0.0, \"Date\": \"2018-05-23T18:49:10.410000\"}, {\"NDVI\": 0.0, \"Date\": \"2018-06-08T18:49:04.830000\"}, {\"NDVI\": 0.0, \"Date\": \"2018-06-24T18:49:15.750000\"}, {\"NDVI\": 0.0, \"Date\": \"2018-07-10T18:49:24.210000\"}, {\"NDVI\": 0.0, \"Date\": \"2018-07-26T18:49:30.430000\"}, {\"NDVI\": 0.0, \"Date\": \"2018-08-11T18:49:40.170000\"}, {\"NDVI\": 0.0, \"Date\": \"2018-08-27T18:49:47.740000\"}, {\"NDVI\": 0.0, \"Date\": \"2018-09-12T18:49:52.870000\"}, {\"NDVI\": 0.0, \"Date\": \"2018-09-28T18:49:59.120000\"}, {\"NDVI\": 0.0, \"Date\": \"2018-10-14T18:50:06.280000\"}, {\"NDVI\": 0.0, \"Date\": \"2018-10-30T18:50:10.710000\"}, {\"NDVI\": 0.0, \"Date\": \"2018-11-15T18:50:12.320000\"}, {\"NDVI\": 0.0, \"Date\": \"2018-12-17T18:50:08.460000\"}, {\"NDVI\": 0.0, \"Date\": \"2019-01-02T18:50:08.350000\"}, {\"NDVI\": 0.0, \"Date\": \"2019-01-18T18:50:05.440000\"}, {\"NDVI\": 0.0, \"Date\": \"2019-02-19T18:49:59.690000\"}, {\"NDVI\": 0.0, \"Date\": \"2019-03-07T18:49:54.780000\"}, {\"NDVI\": 0.0, \"Date\": \"2019-03-23T18:49:50.580000\"}, {\"NDVI\": 0.0, \"Date\": \"2019-04-24T18:49:39.540000\"}, {\"NDVI\": 0.0, \"Date\": \"2019-05-10T18:49:47.470000\"}, {\"NDVI\": 0.0, \"Date\": \"2019-05-26T18:49:57.030000\"}, {\"NDVI\": 0.0, \"Date\": \"2019-06-11T18:50:04.320000\"}, {\"NDVI\": 0.0, \"Date\": \"2019-06-27T18:50:09.470000\"}, {\"NDVI\": 0.0, \"Date\": \"2019-07-13T18:50:12.612000\"}, {\"NDVI\": 0.0, \"Date\": \"2019-07-29T18:50:18.289000\"}, {\"NDVI\": 0.0, \"Date\": \"2019-08-14T18:50:24.038000\"}, {\"NDVI\": 0.0, \"Date\": \"2019-08-30T18:50:27.834000\"}, {\"NDVI\": 0.0, \"Date\": \"2019-09-15T18:50:32.804000\"}, {\"NDVI\": 0.0, \"Date\": \"2019-10-01T18:50:37.504000\"}, {\"NDVI\": 0.0, \"Date\": \"2019-10-17T18:50:39.778000\"}, {\"NDVI\": 0.0, \"Date\": \"2019-11-02T18:50:39.351000\"}, {\"NDVI\": 0.0, \"Date\": \"2019-11-18T18:50:35.998000\"}, {\"NDVI\": 0.0, \"Date\": \"2019-12-04T18:50:35.132000\"}, {\"NDVI\": 0.0, \"Date\": \"2020-01-05T18:50:28.346000\"}, {\"NDVI\": 0.0, \"Date\": \"2020-01-21T18:50:24.898000\"}, {\"NDVI\": 0.0, \"Date\": \"2020-02-06T18:50:19.582000\"}, {\"NDVI\": 0.0, \"Date\": \"2020-02-22T18:50:16.253000\"}, {\"NDVI\": 0.0, \"Date\": \"2020-03-09T18:50:10.314000\"}, {\"NDVI\": 0.0, \"Date\": \"2020-03-25T18:50:01.886000\"}, {\"NDVI\": 0.0, \"Date\": \"2020-04-10T18:49:53.959000\"}, {\"NDVI\": 0.0, \"Date\": \"2020-04-26T18:49:46.541000\"}, {\"NDVI\": 0.0, \"Date\": \"2020-05-12T18:49:40.483000\"}, {\"NDVI\": 0.0, \"Date\": \"2020-05-28T18:49:43.620000\"}, {\"NDVI\": 0.0, \"Date\": \"2020-06-29T18:50:02.304000\"}, {\"NDVI\": 0.0, \"Date\": \"2020-07-15T18:50:08.585000\"}, {\"NDVI\": 0.0, \"Date\": \"2020-07-31T18:50:12.900000\"}, {\"NDVI\": 0.0, \"Date\": \"2020-08-16T18:50:17.612000\"}, {\"NDVI\": 0.0, \"Date\": \"2020-09-01T18:50:25.695000\"}, {\"NDVI\": 0.0, \"Date\": \"2020-09-17T18:50:31.626000\"}, {\"NDVI\": 0.0, \"Date\": \"2020-10-03T18:50:35.312000\"}, {\"NDVI\": 0.0, \"Date\": \"2020-10-19T18:50:36.331000\"}, {\"NDVI\": 0.0, \"Date\": \"2015-03-28T18:50:08.400000\"}, {\"NDVI\": 0.0, \"Date\": \"2015-04-13T18:50:03.070000\"}, {\"NDVI\": 0.0, \"Date\": \"2015-04-29T18:49:55.290000\"}, {\"NDVI\": 0.0, \"Date\": \"2015-05-31T18:49:46.620000\"}, {\"NDVI\": 0.0, \"Date\": \"2015-06-16T18:49:57.710000\"}, {\"NDVI\": 0.0, \"Date\": \"2015-07-02T18:50:04.700000\"}, {\"NDVI\": 0.0, \"Date\": \"2015-07-18T18:50:14.170000\"}, {\"NDVI\": 0.0, \"Date\": \"2015-08-03T18:50:17.290000\"}, {\"NDVI\": 0.0, \"Date\": \"2015-08-19T18:50:24.800000\"}, {\"NDVI\": 0.0, \"Date\": \"2015-09-04T18:50:29.640000\"}, {\"NDVI\": 0.0, \"Date\": \"2015-09-20T18:50:38.260000\"}, {\"NDVI\": 0.0, \"Date\": \"2015-10-06T18:50:41.120000\"}, {\"NDVI\": 0.0, \"Date\": \"2015-10-22T18:50:44.120000\"}, {\"NDVI\": 0.0, \"Date\": \"2015-11-07T18:50:46.810000\"}, {\"NDVI\": 0.0, \"Date\": \"2015-11-23T18:50:49.040000\"}, {\"NDVI\": 0.0, \"Date\": \"2015-12-25T18:50:48.110000\"}, {\"NDVI\": 0.0, \"Date\": \"2016-01-10T18:50:44.290000\"}, {\"NDVI\": 0.0, \"Date\": \"2016-01-26T18:50:44.480000\"}, {\"NDVI\": 0.0, \"Date\": \"2016-02-11T18:50:38.400000\"}, {\"NDVI\": 0.0, \"Date\": \"2016-02-27T18:50:33.753000\"}, {\"NDVI\": 0.0, \"Date\": \"2016-03-30T18:50:19.840000\"}, {\"NDVI\": 0.0, \"Date\": \"2016-04-15T18:50:14.989000\"}, {\"NDVI\": 0.0, \"Date\": \"2016-05-01T18:50:17.190000\"}, {\"NDVI\": 0.0, \"Date\": \"2016-05-17T18:50:14.330000\"}, {\"NDVI\": 0.0, \"Date\": \"2016-06-02T18:50:20.100000\"}, {\"NDVI\": 0.0, \"Date\": \"2016-06-18T18:50:23.260000\"}, {\"NDVI\": 0.0, \"Date\": \"2016-07-04T18:50:32.660000\"}, {\"NDVI\": 0.0, \"Date\": \"2016-07-20T18:50:38.840000\"}, {\"NDVI\": 0.0, \"Date\": \"2016-08-05T18:50:41.600000\"}, {\"NDVI\": 0.0, \"Date\": \"2016-08-21T18:50:47.080000\"}, {\"NDVI\": 0.0, \"Date\": \"2016-09-06T18:50:52.610000\"}, {\"NDVI\": 0.0, \"Date\": \"2016-09-22T18:50:54.112000\"}, {\"NDVI\": 0.0, \"Date\": \"2016-10-08T18:50:57.700000\"}, {\"NDVI\": 0.0, \"Date\": \"2016-10-24T18:51:00.990000\"}, {\"NDVI\": 0.0, \"Date\": \"2016-11-09T18:50:59.580000\"}, {\"NDVI\": 0.0, \"Date\": \"2017-01-12T18:50:50.280000\"}, {\"NDVI\": 0.0, \"Date\": \"2017-01-28T18:50:44.280000\"}, {\"NDVI\": 0.0, \"Date\": \"2017-02-13T18:50:36.708000\"}, {\"NDVI\": 0.0, \"Date\": \"2017-03-01T18:50:31.080000\"}, {\"NDVI\": 0.0, \"Date\": \"2017-04-02T18:50:13.900000\"}, {\"NDVI\": 0.0, \"Date\": \"2017-04-18T18:50:05.190000\"}, {\"NDVI\": 0.0, \"Date\": \"2017-05-04T18:49:57.761000\"}, {\"NDVI\": 0.0, \"Date\": \"2017-05-20T18:50:09.650000\"}, {\"NDVI\": 0.0, \"Date\": \"2017-06-05T18:50:18.450000\"}, {\"NDVI\": 0.0, \"Date\": \"2017-06-21T18:50:24.410000\"}, {\"NDVI\": 0.0, \"Date\": \"2017-07-07T18:50:27.800000\"}, {\"NDVI\": 0.0, \"Date\": \"2017-07-23T18:50:33.980000\"}, {\"NDVI\": 0.0, \"Date\": \"2017-08-08T18:50:40.780000\"}, {\"NDVI\": 0.0, \"Date\": \"2017-08-24T18:50:45.190000\"}, {\"NDVI\": 0.0, \"Date\": \"2017-09-09T18:50:46.620000\"}, {\"NDVI\": 0.0, \"Date\": \"2017-09-25T18:50:51.950000\"}, {\"NDVI\": 0.0, \"Date\": \"2017-10-11T18:50:56.930000\"}, {\"NDVI\": 0.0, \"Date\": \"2017-10-27T18:50:58.200000\"}, {\"NDVI\": 0.0, \"Date\": \"2017-11-12T18:50:55.590000\"}, {\"NDVI\": 0.0, \"Date\": \"2017-12-14T18:50:50.280000\"}, {\"NDVI\": 0.0, \"Date\": \"2017-12-30T18:50:49.650000\"}, {\"NDVI\": 0.0, \"Date\": \"2018-01-15T18:50:42.870000\"}, {\"NDVI\": 0.0, \"Date\": \"2018-01-31T18:50:33.080000\"}, {\"NDVI\": 0.0, \"Date\": \"2018-02-16T18:50:27.900000\"}, {\"NDVI\": 0.0, \"Date\": \"2018-03-20T18:50:11.850000\"}, {\"NDVI\": 0.0, \"Date\": \"2018-04-21T18:49:55\"}, {\"NDVI\": 0.0, \"Date\": \"2018-05-07T18:49:46.074000\"}, {\"NDVI\": 0.0, \"Date\": \"2018-05-23T18:49:34.290000\"}, {\"NDVI\": 0.0, \"Date\": \"2018-06-08T18:49:28.720000\"}, {\"NDVI\": 0.0, \"Date\": \"2018-06-24T18:49:39.640000\"}, {\"NDVI\": 0.0, \"Date\": \"2018-07-10T18:49:48.100000\"}, {\"NDVI\": 0.0, \"Date\": \"2018-07-26T18:49:54.320000\"}, {\"NDVI\": 0.0, \"Date\": \"2018-08-11T18:50:04.060000\"}, {\"NDVI\": 0.0, \"Date\": \"2018-08-27T18:50:11.640000\"}, {\"NDVI\": 0.0, \"Date\": \"2018-09-12T18:50:16.760000\"}, {\"NDVI\": 0.0, \"Date\": \"2018-09-28T18:50:23.010000\"}, {\"NDVI\": 0.0, \"Date\": \"2018-10-14T18:50:30.170000\"}, {\"NDVI\": 0.0, \"Date\": \"2018-10-30T18:50:34.590000\"}, {\"NDVI\": 0.0, \"Date\": \"2018-11-15T18:50:36.210000\"}, {\"NDVI\": 0.0, \"Date\": \"2018-12-17T18:50:32.350000\"}, {\"NDVI\": 0.0, \"Date\": \"2019-01-02T18:50:32.240000\"}, {\"NDVI\": 0.0, \"Date\": \"2019-02-03T18:50:25.940000\"}, {\"NDVI\": 0.0, \"Date\": \"2019-02-19T18:50:23.570000\"}, {\"NDVI\": 0.0, \"Date\": \"2019-03-07T18:50:18.660000\"}, {\"NDVI\": 0.0, \"Date\": \"2019-04-24T18:50:03.420000\"}, {\"NDVI\": 0.0, \"Date\": \"2019-05-10T18:50:11.350000\"}, {\"NDVI\": 0.0, \"Date\": \"2019-05-26T18:50:20.910000\"}, {\"NDVI\": 0.0, \"Date\": \"2019-06-11T18:50:28.210000\"}, {\"NDVI\": 0.0, \"Date\": \"2019-06-27T18:50:33.360000\"}, {\"NDVI\": 0.0, \"Date\": \"2019-07-13T18:50:36.503000\"}, {\"NDVI\": 0.0, \"Date\": \"2019-07-29T18:50:42.171000\"}, {\"NDVI\": 0.0, \"Date\": \"2019-08-14T18:50:47.924000\"}, {\"NDVI\": 0.0, \"Date\": \"2019-08-30T18:50:51.725000\"}, {\"NDVI\": 0.0, \"Date\": \"2019-09-15T18:50:56.687000\"}, {\"NDVI\": 0.0, \"Date\": \"2019-10-01T18:51:01.396000\"}, {\"NDVI\": 0.0, \"Date\": \"2019-10-17T18:51:03.661000\"}, {\"NDVI\": 0.0, \"Date\": \"2019-11-02T18:51:03.238000\"}, {\"NDVI\": 0.0, \"Date\": \"2019-11-18T18:50:59.885000\"}, {\"NDVI\": 0.0, \"Date\": \"2019-12-04T18:50:59.015000\"}, {\"NDVI\": 0.0, \"Date\": \"2020-02-22T18:50:40.135000\"}, {\"NDVI\": 0.0, \"Date\": \"2020-03-09T18:50:34.192000\"}, {\"NDVI\": 0.0, \"Date\": \"2020-03-25T18:50:25.769000\"}, {\"NDVI\": 0.0, \"Date\": \"2020-04-10T18:50:17.841000\"}, {\"NDVI\": 0.0, \"Date\": \"2020-04-26T18:50:10.423000\"}, {\"NDVI\": 0.0, \"Date\": \"2020-05-28T18:50:07.511000\"}, {\"NDVI\": 0.0, \"Date\": \"2020-06-29T18:50:26.187000\"}, {\"NDVI\": 0.0, \"Date\": \"2020-07-15T18:50:32.472000\"}, {\"NDVI\": 0.0, \"Date\": \"2020-07-31T18:50:36.783000\"}, {\"NDVI\": 0.0, \"Date\": \"2020-08-16T18:50:41.498000\"}, {\"NDVI\": 0.0, \"Date\": \"2020-09-01T18:50:49.586000\"}, {\"NDVI\": 0.0, \"Date\": \"2020-09-17T18:50:55.517000\"}, {\"NDVI\": 0.0, \"Date\": \"2020-10-03T18:50:59.199000\"}, {\"NDVI\": 0.0, \"Date\": \"2020-10-19T18:51:00.214000\"}, {\"NDVI\": 0.0, \"Date\": \"2015-04-04T18:55:49.560000\"}, {\"NDVI\": 0.0, \"Date\": \"2015-04-20T18:55:49.020000\"}, {\"NDVI\": 0.0, \"Date\": \"2015-05-06T18:55:34.270000\"}, {\"NDVI\": 0.0, \"Date\": \"2015-06-07T18:55:39.710000\"}, {\"NDVI\": 0.0, \"Date\": \"2015-06-23T18:55:46.170000\"}, {\"NDVI\": 0.0, \"Date\": \"2015-07-09T18:55:56.860000\"}, {\"NDVI\": 0.0, \"Date\": \"2015-08-10T18:56:06.930000\"}, {\"NDVI\": 0.0, \"Date\": \"2015-08-26T18:56:14.308000\"}, {\"NDVI\": 0.0, \"Date\": \"2015-09-11T18:56:21.020000\"}, {\"NDVI\": 0.0, \"Date\": \"2015-09-27T18:56:27.240000\"}, {\"NDVI\": 0.0, \"Date\": \"2015-10-13T18:56:27.310000\"}, {\"NDVI\": 0.0, \"Date\": \"2015-11-14T18:56:33.600000\"}, {\"NDVI\": 0.0, \"Date\": \"2016-01-01T18:56:33.080000\"}, {\"NDVI\": 0.0, \"Date\": \"2016-02-02T18:56:29.550000\"}, {\"NDVI\": 0.0, \"Date\": \"2016-03-05T18:56:19.980000\"}, {\"NDVI\": 0.0, \"Date\": \"2016-04-06T18:56:04.970000\"}, {\"NDVI\": 0.0, \"Date\": \"2016-04-22T18:55:58.410000\"}, {\"NDVI\": 0.0, \"Date\": \"2016-05-08T18:56:01.280000\"}, {\"NDVI\": 0.0, \"Date\": \"2016-05-24T18:56:04.310000\"}, {\"NDVI\": 0.0, \"Date\": \"2016-06-25T18:56:14.670000\"}, {\"NDVI\": 0.0, \"Date\": \"2016-07-11T18:56:22.750000\"}, {\"NDVI\": 0.0, \"Date\": \"2016-07-27T18:56:27.290000\"}, {\"NDVI\": 0.0, \"Date\": \"2016-08-12T18:56:29.390000\"}, {\"NDVI\": 0.0, \"Date\": \"2016-08-28T18:56:36.860000\"}, {\"NDVI\": 0.0, \"Date\": \"2016-09-13T18:56:40.680000\"}, {\"NDVI\": 0.0, \"Date\": \"2016-09-29T18:56:40.560000\"}, {\"NDVI\": 0.0, \"Date\": \"2016-10-31T18:56:47.880000\"}, {\"NDVI\": 0.0, \"Date\": \"2016-12-18T18:56:41.860000\"}, {\"NDVI\": 0.0, \"Date\": \"2017-01-03T18:56:39.190000\"}, {\"NDVI\": 0.0, \"Date\": \"2017-01-19T18:56:34.970000\"}, {\"NDVI\": 0.0, \"Date\": \"2017-04-09T18:55:57.430000\"}, {\"NDVI\": 0.0, \"Date\": \"2017-05-27T18:56:00.860000\"}, {\"NDVI\": 0.0, \"Date\": \"2017-06-28T18:56:13.120000\"}, {\"NDVI\": 0.0, \"Date\": \"2017-07-14T18:56:16.030000\"}, {\"NDVI\": 0.0, \"Date\": \"2017-07-30T18:56:24.140000\"}, {\"NDVI\": 0.0, \"Date\": \"2017-08-15T18:56:29.920000\"}, {\"NDVI\": 0.0, \"Date\": \"2017-08-31T18:56:33.150000\"}, {\"NDVI\": 0.0, \"Date\": \"2017-09-16T18:56:34.390000\"}, {\"NDVI\": 0.0, \"Date\": \"2017-10-02T18:56:41.550000\"}, {\"NDVI\": 0.0, \"Date\": \"2017-10-18T18:56:44.870000\"}, {\"NDVI\": 0.0, \"Date\": \"2017-11-03T18:56:44.480000\"}, {\"NDVI\": 0.0, \"Date\": \"2017-11-19T18:56:40.180000\"}, {\"NDVI\": 0.0, \"Date\": \"2017-12-05T18:56:35.750000\"}, {\"NDVI\": 0.0, \"Date\": \"2017-12-21T18:56:39\"}, {\"NDVI\": 0.0, \"Date\": \"2018-01-06T18:56:33.980000\"}, {\"NDVI\": 0.0, \"Date\": \"2018-01-22T18:56:25.880000\"}, {\"NDVI\": 0.0, \"Date\": \"2018-02-07T18:56:17.820000\"}, {\"NDVI\": 0.0, \"Date\": \"2018-02-23T18:56:11.820000\"}, {\"NDVI\": 0.0, \"Date\": \"2018-03-11T18:56:03.040000\"}, {\"NDVI\": 0.0, \"Date\": \"2018-04-28T18:55:38.350000\"}, {\"NDVI\": 0.0, \"Date\": \"2018-05-14T18:55:28.220000\"}, {\"NDVI\": 0.0, \"Date\": \"2018-05-30T18:55:15.250000\"}, {\"NDVI\": 0.0, \"Date\": \"2018-06-15T18:55:20.740000\"}, {\"NDVI\": 0.0, \"Date\": \"2018-07-01T18:55:30.560000\"}, {\"NDVI\": 0.0, \"Date\": \"2018-07-17T18:55:38.030000\"}, {\"NDVI\": 0.0, \"Date\": \"2018-08-02T18:55:45.770000\"}, {\"NDVI\": 0.0, \"Date\": \"2018-08-18T18:55:54.570000\"}, {\"NDVI\": 0.0, \"Date\": \"2018-09-03T18:56:01.050000\"}, {\"NDVI\": 0.0, \"Date\": \"2018-09-19T18:56:05.180000\"}, {\"NDVI\": 0.0, \"Date\": \"2018-10-21T18:56:19.360000\"}, {\"NDVI\": 0.0, \"Date\": \"2018-11-06T18:56:22.610000\"}, {\"NDVI\": 0.0, \"Date\": \"2018-12-08T18:56:20.270000\"}, {\"NDVI\": 0.0, \"Date\": \"2019-01-25T18:56:14.320000\"}, {\"NDVI\": 0.0, \"Date\": \"2019-02-10T18:56:12.150000\"}, {\"NDVI\": 0.0, \"Date\": \"2019-02-26T18:56:08.640000\"}, {\"NDVI\": 0.0, \"Date\": \"2019-03-14T18:56:02.670000\"}, {\"NDVI\": 0.0, \"Date\": \"2019-03-30T18:55:59.850000\"}, {\"NDVI\": 0.0, \"Date\": \"2019-05-01T18:55:52.530000\"}, {\"NDVI\": 0.0, \"Date\": \"2019-06-02T18:56:11.320000\"}, {\"NDVI\": 0.0, \"Date\": \"2019-06-18T18:56:17.650000\"}, {\"NDVI\": 0.0, \"Date\": \"2019-07-04T18:56:21.943000\"}, {\"NDVI\": 0.0, \"Date\": \"2019-07-20T18:56:25.024000\"}, {\"NDVI\": 0.0, \"Date\": \"2019-08-05T18:56:31.878000\"}, {\"NDVI\": 0.0, \"Date\": \"2019-09-06T18:56:39.996000\"}, {\"NDVI\": 0.0, \"Date\": \"2019-10-08T18:56:49.604000\"}, {\"NDVI\": 0.0, \"Date\": \"2019-10-24T18:56:50.756000\"}, {\"NDVI\": 0.0, \"Date\": \"2019-11-09T18:56:49.054000\"}, {\"NDVI\": 0.0, \"Date\": \"2019-11-25T18:56:46.129000\"}, {\"NDVI\": 0.0, \"Date\": \"2020-02-13T18:56:29.252000\"}, {\"NDVI\": 0.0, \"Date\": \"2020-02-29T18:56:24.762000\"}, {\"NDVI\": 0.0, \"Date\": \"2020-03-16T18:56:17.727000\"}, {\"NDVI\": 0.0, \"Date\": \"2020-04-17T18:56:01.826000\"}, {\"NDVI\": 0.0, \"Date\": \"2020-05-03T18:55:53.277000\"}, {\"NDVI\": 0.0, \"Date\": \"2020-06-04T18:55:59.290000\"}, {\"NDVI\": 0.0, \"Date\": \"2020-07-06T18:56:16.138000\"}, {\"NDVI\": 0.0, \"Date\": \"2020-07-22T18:56:21.554000\"}, {\"NDVI\": 0.0, \"Date\": \"2020-08-07T18:56:24.966000\"}, {\"NDVI\": 0.0, \"Date\": \"2020-08-23T18:56:32.219000\"}, {\"NDVI\": 0.0, \"Date\": \"2020-09-08T18:56:39.353000\"}, {\"NDVI\": 0.0, \"Date\": \"2020-09-24T18:56:44.352000\"}, {\"NDVI\": 0.0, \"Date\": \"2020-10-26T18:56:46.703000\"}]}}, {\"mode\": \"vega-lite\"});\n",
              "</script>"
            ]
          },
          "metadata": {
            "tags": []
          },
          "execution_count": 83
        }
      ]
    },
    {
      "cell_type": "markdown",
      "metadata": {
        "id": "9VpbOjh434zi"
      },
      "source": [
        "This is still pretty spikey.  Much this is probably due to clouds, haze, smoke, or fog in the atmosphere - or snow on the ground."
      ]
    },
    {
      "cell_type": "markdown",
      "metadata": {
        "id": "0Pf1xS_6Ee70"
      },
      "source": [
        "### Embed the chart onto the folium map\n",
        "\n",
        "This rendition of the data can be embedded on the map as a pop up for a point.\n"
      ]
    },
    {
      "cell_type": "code",
      "metadata": {
        "id": "17pFzkpiBAvP",
        "colab": {
          "base_uri": "https://localhost:8080/",
          "height": 621
        },
        "outputId": "cd492805-cc13-4dbd-d01a-173fdc38edb0"
      },
      "source": [
        "chart = alt.Chart(df).mark_line().encode(y='NDVI', x='Date').properties(width=500, height=150)\n",
        "vis1 = chart.to_json()\n",
        "\n",
        "f = folium.Figure(width=800, height=600)\n",
        "# flip the point coordinate to be lat, long (y, x) for folium\n",
        "Map = geemap.Map(center=rnapoint[::-1], zoom= 11).add_to(f)\n",
        "#Map.addLayer(image, rgbParams, 'Before Natural Color')\n",
        "Map.addLayer(recentqa, rgbParams, 'Recent Natural Color')\n",
        "#Map.addLayer(recentndvi, ndviParams, 'NDVI recently')\n",
        "#Map.addLayer(sndvi, ndviParams, 'NDVI before')\n",
        "Map.addLayer(dif, difParams, 'dif')\n",
        "Map.addLayerControl()\n",
        "#folium.Marker(rnapoint[::-1], popup='<i>Research Natural Area</i>').add_to(Map)\n",
        "\n",
        "# create a marker, with altair graphic as popup\n",
        "circ_mkr = folium.CircleMarker(\n",
        "    location=rnapoint[::-1],\n",
        "    radius=10,\n",
        "    color='grey',\n",
        "    fill=True,\n",
        "    fill_color='red',\n",
        "    fillOpacity=1.0,\n",
        "    opacity=1.0,\n",
        "    tooltip='NDVI time series',\n",
        "    popup=folium.Popup().add_child(folium.VegaLite(vis1, width=600, height=200)),\n",
        ")\n",
        "\n",
        "# add to map\n",
        "circ_mkr.add_to(Map)\n",
        "\n",
        "#Map.save('testmap.html')\n",
        "f"
      ],
      "execution_count": 84,
      "outputs": [
        {
          "output_type": "execute_result",
          "data": {
            "text/html": [
              "<iframe src=\"about:blank\" width=\"800\" height=\"600\"style=\"border:none !important;\" data-html=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 onload=\"this.contentDocument.open();this.contentDocument.write(atob(this.getAttribute('data-html')));this.contentDocument.close();\" \"allowfullscreen\" \"webkitallowfullscreen\" \"mozallowfullscreen\"></iframe>"
            ],
            "text/plain": [
              "<branca.element.Figure at 0x7fbbc1a55b70>"
            ]
          },
          "metadata": {
            "tags": []
          },
          "execution_count": 84
        }
      ]
    },
    {
      "cell_type": "markdown",
      "metadata": {
        "id": "EB3CDijfCD0y"
      },
      "source": [
        "## Unsupervised image classification\n",
        "\n",
        "The image data can also be grouped into clusters based on the spectral similarity of the pixels. One way to do this is with  'Unsupervised Classification' - a common machine learning task.\n",
        "\n",
        "> https://developers.google.com/earth-engine/guides/clustering\n",
        "\n",
        "We will focus the sampling to build the spectral signatures used by the classifier on an area around the Holiday Farm fire of September 2020."
      ]
    },
    {
      "cell_type": "markdown",
      "metadata": {
        "id": "12H1mpC_ClrU"
      },
      "source": [
        "### Classify the Data\n",
        "\n"
      ]
    },
    {
      "cell_type": "code",
      "metadata": {
        "id": "G0KGF_7AbJ8y"
      },
      "source": [
        "# Define a region in which to generate a sample of the input.\n",
        "region = ee.Geometry.Rectangle([-122.8258, 43.9770, -122.0677, 44.2383])\n",
        "\n",
        "# Make the training dataset.\n",
        "#training = recentqa.sample(**{'numPixels':3000})\n",
        "training = recentqa.sample(**{'region': region, 'scale': 10, 'numPixels':2000})\n",
        "\n",
        "# Instantiate the clusterer and train it to identify 5 classes based on the samples.\n",
        "clusterer = ee.Clusterer.wekaKMeans(5).train(training);\n",
        "\n",
        "# Cluster the input using the trained clusterer.\n",
        "result = recentqa.cluster(clusterer);"
      ],
      "execution_count": 85,
      "outputs": []
    },
    {
      "cell_type": "markdown",
      "metadata": {
        "id": "A5u8v5PYEC-o"
      },
      "source": [
        "### Look at the resulting clusters"
      ]
    },
    {
      "cell_type": "code",
      "metadata": {
        "id": "R2WoCq9pFyvm",
        "colab": {
          "base_uri": "https://localhost:8080/",
          "height": 621
        },
        "outputId": "fb2cecbb-9eef-4fb5-9862-1c845f0a7e74"
      },
      "source": [
        "f = folium.Figure(width=800, height=600)\n",
        "# flip the point coordinate to be lat, long (y, x) for folium\n",
        "Map = geemap.Map(center=rnapoint[::-1], zoom= 11).add_to(f)\n",
        "\n",
        "#Map.addLayer(image, rgbParams, 'Before Natural Color')\n",
        "Map.addLayer(recentqa, rgbParams, 'Recent Natural Color')\n",
        "#Map.addLayer(recentndvi, ndviParams, 'NDVI recently')\n",
        "Map.addLayer(result.randomVisualizer(),{}, 'Cluster')\n",
        "#Map.addLayer(region, {}, 'Polygon')\n",
        "Map.addLayerControl()\n",
        "f"
      ],
      "execution_count": 86,
      "outputs": [
        {
          "output_type": "execute_result",
          "data": {
            "text/html": [
              "<iframe src=\"about:blank\" width=\"800\" height=\"600\"style=\"border:none !important;\" data-html=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 onload=\"this.contentDocument.open();this.contentDocument.write(atob(this.getAttribute('data-html')));this.contentDocument.close();\" \"allowfullscreen\" \"webkitallowfullscreen\" \"mozallowfullscreen\"></iframe>"
            ],
            "text/plain": [
              "<branca.element.Figure at 0x7fbbbff40e48>"
            ]
          },
          "metadata": {
            "tags": []
          },
          "execution_count": 86
        }
      ]
    },
    {
      "cell_type": "markdown",
      "metadata": {
        "id": "EB11GyZgV7zl"
      },
      "source": [
        "### Compare the clusters with the difference image"
      ]
    },
    {
      "cell_type": "code",
      "metadata": {
        "id": "TgWbzCoukdjO",
        "colab": {
          "base_uri": "https://localhost:8080/",
          "height": 621
        },
        "outputId": "83b34aac-1fe1-4a76-9102-60ed18a0df2c"
      },
      "source": [
        "f = folium.Figure(width=800, height=600)\n",
        "# flip the point coordinate to be lat, long (y, x) for folium\n",
        "Map = geemap.Map(center=rnapoint[::-1], zoom= 11).add_to(f)\n",
        "#Map.addLayer(image, rgbParams, 'Before Natural Color')\n",
        "Map.addLayer(recentqa, rgbParams, 'Recent Natural Color')\n",
        "#Map.addLayer(recentndvi, ndviParams, 'NDVI recently')\n",
        "Map.addLayer(result.randomVisualizer(),{}, 'Cluster')\n",
        "Map.addLayer(dif, difParams, 'dif')\n",
        "Map.addLayerControl()\n",
        "\n",
        "#Map.save('testmap.html')\n",
        "f"
      ],
      "execution_count": 87,
      "outputs": [
        {
          "output_type": "execute_result",
          "data": {
            "text/html": [
              "<iframe src=\"about:blank\" width=\"800\" height=\"600\"style=\"border:none !important;\" data-html=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 onload=\"this.contentDocument.open();this.contentDocument.write(atob(this.getAttribute('data-html')));this.contentDocument.close();\" \"allowfullscreen\" \"webkitallowfullscreen\" \"mozallowfullscreen\"></iframe>"
            ],
            "text/plain": [
              "<branca.element.Figure at 0x7fbbbfd86898>"
            ]
          },
          "metadata": {
            "tags": []
          },
          "execution_count": 87
        }
      ]
    },
    {
      "cell_type": "markdown",
      "metadata": {
        "id": "CJdY4_Apk4cf"
      },
      "source": [
        "### Apply the same cluster groups to the older image\n",
        "\n",
        " Just for fun, the statistical clusters (training dataset) created from the first image (the 2020 image) can be applied to the older image."
      ]
    },
    {
      "cell_type": "code",
      "metadata": {
        "id": "bhq8Z5dooKU2"
      },
      "source": [
        "# Cluster the older data using the trained clusterer.\n",
        "resultOld = image.cluster(clusterer);"
      ],
      "execution_count": 88,
      "outputs": []
    },
    {
      "cell_type": "code",
      "metadata": {
        "id": "nKuQ6ZRAZod-",
        "colab": {
          "base_uri": "https://localhost:8080/",
          "height": 621
        },
        "outputId": "323d95db-7431-4f4e-a1f1-c703466d7edf"
      },
      "source": [
        "f = folium.Figure(width=800, height=600)\n",
        "# flip the point coordinate to be lat, long (y, x) for folium\n",
        "Map = geemap.Map(center=rnapoint[::-1], zoom= 11).add_to(f)\n",
        "Map.addLayer(image, rgbParams, 'Before Natural Color')\n",
        "Map.addLayer(recentqa, rgbParams, 'Recent Natural Color')\n",
        "#Map.addLayer(recentndvi, ndviParams, 'NDVI recently')\n",
        "Map.addLayer(result.randomVisualizer(),{}, 'Cluster')\n",
        "Map.addLayer(resultOld.randomVisualizer(),{}, 'ClusterOld')\n",
        "\n",
        "Map.addLayerControl()\n",
        "\n",
        "f"
      ],
      "execution_count": 89,
      "outputs": [
        {
          "output_type": "execute_result",
          "data": {
            "text/html": [
              "<iframe src=\"about:blank\" width=\"800\" height=\"600\"style=\"border:none !important;\" data-html=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 onload=\"this.contentDocument.open();this.contentDocument.write(atob(this.getAttribute('data-html')));this.contentDocument.close();\" \"allowfullscreen\" \"webkitallowfullscreen\" \"mozallowfullscreen\"></iframe>"
            ],
            "text/plain": [
              "<branca.element.Figure at 0x7fbbbfd3cda0>"
            ]
          },
          "metadata": {
            "tags": []
          },
          "execution_count": 89
        }
      ]
    },
    {
      "cell_type": "markdown",
      "metadata": {
        "id": "lj4N8BagZu-6"
      },
      "source": [
        "A difference image between the two classified images can show where the classes have changed."
      ]
    },
    {
      "cell_type": "code",
      "metadata": {
        "id": "kEcYxxrTqc-Z"
      },
      "source": [
        "# calculate the difference\n",
        "difclass = image.expression('recentclass == oldclass', {'recentclass': result, 'oldclass': resultOld})\n",
        "# set colors for difference image: red = expression not true (there is a difference)\n",
        "difcParams = {'min':0, 'max': 1, 'palette': ['red', 'grey']}"
      ],
      "execution_count": 90,
      "outputs": []
    },
    {
      "cell_type": "markdown",
      "metadata": {
        "id": "Q841UUWpHJVa"
      },
      "source": [
        "### Look at the where the clusters are different\n",
        "\n",
        "Visualize the result, with red showing areas of difference and grey for unchanged areas."
      ]
    },
    {
      "cell_type": "code",
      "metadata": {
        "id": "G4bWQ5jzqU-j",
        "colab": {
          "base_uri": "https://localhost:8080/",
          "height": 621
        },
        "outputId": "dce2e599-648d-4b9e-cda8-bfe269e204c4"
      },
      "source": [
        "f = folium.Figure(width=800, height=600)\n",
        "# flip the point coordinate to be lat, long (y, x) for folium\n",
        "Map = geemap.Map(center=rnapoint[::-1], zoom= 11).add_to(f)\n",
        "Map.addLayer(image, rgbParams, 'Before Natural Color')\n",
        "Map.addLayer(recentqa, rgbParams, 'Recent Natural Color')\n",
        "#Map.addLayer(recentndvi, ndviParams, 'NDVI recently')\n",
        "Map.addLayer(result.randomVisualizer(),{}, 'Cluster')\n",
        "Map.addLayer(resultOld.randomVisualizer(),{}, 'ClusterOld')\n",
        "Map.addLayer(dif, difParams, 'NDVI difference')\n",
        "Map.addLayer(difclass, difcParams, 'Cluster Difference')\n",
        "Map.addLayerControl()\n",
        "\n",
        "f"
      ],
      "execution_count": 91,
      "outputs": [
        {
          "output_type": "execute_result",
          "data": {
            "text/html": [
              "<iframe src=\"about:blank\" width=\"800\" height=\"600\"style=\"border:none !important;\" data-html=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 onload=\"this.contentDocument.open();this.contentDocument.write(atob(this.getAttribute('data-html')));this.contentDocument.close();\" \"allowfullscreen\" \"webkitallowfullscreen\" \"mozallowfullscreen\"></iframe>"
            ],
            "text/plain": [
              "<branca.element.Figure at 0x7fbbc00f0e48>"
            ]
          },
          "metadata": {
            "tags": []
          },
          "execution_count": 91
        }
      ]
    },
    {
      "cell_type": "markdown",
      "metadata": {
        "id": "O9GIQ72Sryew"
      },
      "source": [
        "The area burned by the Holiday Farm fire seems to be identified, but lots of other areas are marked as different in the image. Basically, it looks like mostly water and shadow is not different classed in the unsupervised signatures.\n",
        "\n",
        "# Assignment: Geog 485\n",
        "\n",
        "Comment on the classification and the potential issues with this change analysis. Suggest some ways in which the 'classified' change analysis could be improved by modifying the method of classification used, the choice of spectral bands or image dates, or the use of derived bands or other accompanying types of 'ancillary' data."
      ]
    },
    {
      "cell_type": "markdown",
      "metadata": {
        "id": "mmCJS6lCtXXx"
      },
      "source": [
        "# Assignment Geog 491\n",
        "\n",
        "Choose 2 of the following three options, and turn in a commented notebook (.ipynb format) and PDF printout of that notebook showing the output for each of the 2 options chosen.\n",
        "\n",
        "Options: \n",
        "1. Do the same type of analysis but at another location.\n",
        "2. Do the same type of analysis, but using the Landsat 8 data collection.\n",
        "3. Using either Landsat 8 or Sentinel 2 data, add another spectral indice to the time series analysis or change analysis\n",
        "\n",
        "For each of the 2 options you choose, create a new notebook (you can make a copy of the existing notebook and change the parameters/code). Turn in a copy of each notebook in .ipynb form, and also a PDF printout of each notebook.\n"
      ]
    },
    {
      "cell_type": "markdown",
      "metadata": {
        "id": "CWE62O2dg5Qt"
      },
      "source": [
        "## Other resources for using Python with Google Earth Engine related to the exercise.\n",
        "\n",
        "- [ImageCollection Overview](https://samapriya.github.io/gee-py/projects/collection_overview/)\n",
        "\n",
        "- [Image Overview](https://samapriya.github.io/gee-py/projects/imgoverview/)\n",
        "\n",
        "- [Google Earth Engine Python API Examples](https://github.com/renelikestacos/Google-Earth-Engine-Python-Examples)\n"
      ]
    }
  ]
}