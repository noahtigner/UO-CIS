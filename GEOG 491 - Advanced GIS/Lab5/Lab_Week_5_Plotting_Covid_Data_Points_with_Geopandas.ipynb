{
  "nbformat": 4,
  "nbformat_minor": 0,
  "metadata": {
    "colab": {
      "name": "Lab Week 5 - Plotting Covid Data Points with Geopandas.ipynb",
      "provenance": []
    },
    "kernelspec": {
      "name": "python3",
      "display_name": "Python 3"
    }
  },
  "cells": [
    {
      "cell_type": "markdown",
      "metadata": {
        "id": "V3gkf4gafW1P"
      },
      "source": [
        "# Mapping Covid-19 Data\n",
        "\n",
        "This exercise introduces some basic plotting of geospatial  time series data - Global and US statistics on Covid-19 deaths and confirmed cases.\n",
        "\n",
        "The 'Geopandas' analysis module will be used to download and visualize the data in map and chart form>"
      ]
    },
    {
      "cell_type": "markdown",
      "metadata": {
        "id": "GXZ0qJX12ZwP"
      },
      "source": [
        "## install the needed additional modules\n",
        "\n",
        "The python environment in Colaboratory has many modules for scientific computing already installed, but it is straightforward to add additional modules. For this exercise, we will need the 'Geopandas' module to work with geospatial data."
      ]
    },
    {
      "cell_type": "code",
      "metadata": {
        "id": "kgLNjR3PM9zx"
      },
      "source": [
        "!pip install geopandas"
      ],
      "execution_count": null,
      "outputs": []
    },
    {
      "cell_type": "code",
      "metadata": {
        "id": "CyZRVLDw99u3"
      },
      "source": [
        "import geopandas as gpd\n",
        "import pandas as pd\n",
        "import matplotlib.pyplot as plt\n",
        "import folium"
      ],
      "execution_count": null,
      "outputs": []
    },
    {
      "cell_type": "markdown",
      "metadata": {
        "id": "bzRZ5bsA9hFH"
      },
      "source": [
        "## Get the data\n",
        "\n",
        "We will work with a dataset maintained by John Hopkins University on github. The .csv files online can be directly read in as 'pandas' datasets.\n",
        "\n",
        "\n",
        "> Time Series Datasets - https://github.com/CSSEGISandData/COVID-19/blob/master/csse_covid_19_data/csse_covid_19_time_series/time_series_covid19_deaths_US.csv\n",
        "\n",
        "\n",
        "\n",
        "> Source of the data on github - https://github.com/CSSEGISandData/COVID-19/tree/master/csse_covid_19_dataIndented\n",
        "\n",
        "\n",
        "\n",
        "\n"
      ]
    },
    {
      "cell_type": "code",
      "metadata": {
        "id": "ljVPAPhh9z2V"
      },
      "source": [
        "# needs to point to the 'raw' csv file on github, not the nicely rendered html version\n",
        "url = 'https://raw.githubusercontent.com/CSSEGISandData/COVID-19/master/csse_covid_19_data/csse_covid_19_time_series/time_series_covid19_confirmed_global.csv'\n",
        "usdeathsurl = 'https://raw.githubusercontent.com/CSSEGISandData/COVID-19/master/csse_covid_19_data/csse_covid_19_time_series/time_series_covid19_deaths_US.csv'\n",
        "worlddeathsurl = 'https://raw.githubusercontent.com/CSSEGISandData/COVID-19/master/csse_covid_19_data/csse_covid_19_time_series/time_series_covid19_deaths_global.csv'\n",
        "# Get a nice .csv with ISO3 codes to match later...\n",
        "luurl = \"https://raw.githubusercontent.com/CSSEGISandData/COVID-19/master/csse_covid_19_data/UID_ISO_FIPS_LookUp_Table.csv\"\n",
        "\n",
        "# read in the data\n",
        "usdeaths = pd.read_csv(usdeathsurl)\n",
        "confirmed = pd.read_csv(url)\n",
        "gdeaths = pd.read_csv(worlddeathsurl)\n",
        "lutab = pd.read_csv(luurl)"
      ],
      "execution_count": null,
      "outputs": []
    },
    {
      "cell_type": "markdown",
      "metadata": {
        "id": "Y_uKPEW4ZtX9"
      },
      "source": [
        "## Have a look at the data"
      ]
    },
    {
      "cell_type": "markdown",
      "metadata": {
        "id": "_tJxmilN4QsN"
      },
      "source": [
        "Check out the global confirmed cases globally"
      ]
    },
    {
      "cell_type": "code",
      "metadata": {
        "id": "s3xSWn8qBK-B"
      },
      "source": [
        "confirmed.head(3)"
      ],
      "execution_count": null,
      "outputs": []
    },
    {
      "cell_type": "markdown",
      "metadata": {
        "id": "eE-TQWXq4ZBj"
      },
      "source": [
        "The us deaths by county, etc."
      ]
    },
    {
      "cell_type": "code",
      "metadata": {
        "id": "1lfjUVkBHhZ1"
      },
      "source": [
        "usdeaths.head(3)"
      ],
      "execution_count": null,
      "outputs": []
    },
    {
      "cell_type": "markdown",
      "metadata": {
        "id": "QiM4yFdeJNAP"
      },
      "source": [
        "Global deaths by country, but there are some matching issues later"
      ]
    },
    {
      "cell_type": "code",
      "metadata": {
        "id": "uVkJEjid7u7r"
      },
      "source": [
        "gdeaths.head(3)"
      ],
      "execution_count": null,
      "outputs": []
    },
    {
      "cell_type": "code",
      "metadata": {
        "id": "9CAD6zO93gfr"
      },
      "source": [
        "# look at first 6 fields in the data\n",
        "list(usdeaths)[:6]"
      ],
      "execution_count": null,
      "outputs": []
    },
    {
      "cell_type": "markdown",
      "metadata": {
        "id": "lbJtde-j4lNH"
      },
      "source": [
        "## Make the data geospatial\n",
        "\n",
        "This can be done:\n",
        "- directly into points using the Lat/Long coordinates\n",
        "- by joining the tables to existing polygon data\n",
        "\n",
        "To convert directly into points, create a 'geometry' field from the Lat and Long fields"
      ]
    },
    {
      "cell_type": "code",
      "metadata": {
        "id": "IxLgfTtWBTpW"
      },
      "source": [
        "# make into point geopandas dataframes\n",
        "\n",
        "usdeaths = gpd.GeoDataFrame(usdeaths, crs=('epsg:4326'), geometry=gpd.points_from_xy(usdeaths.Long_, usdeaths.Lat))\n",
        "confirmed = gpd.GeoDataFrame(confirmed, crs=('epsg:4326'), geometry=gpd.points_from_xy(confirmed.Long, confirmed.Lat))\n",
        "gdeaths = gpd.GeoDataFrame(gdeaths, crs=('epsg:4326'), geometry=gpd.points_from_xy(gdeaths.Long, gdeaths.Lat))"
      ],
      "execution_count": null,
      "outputs": []
    },
    {
      "cell_type": "markdown",
      "metadata": {
        "id": "0eYErHjkKafT"
      },
      "source": [
        "A 'geometry' column is at the end of the datasets now"
      ]
    },
    {
      "cell_type": "code",
      "metadata": {
        "id": "aqv_qCC-5IbL"
      },
      "source": [
        "list(gdeaths)[-3:]"
      ],
      "execution_count": null,
      "outputs": []
    },
    {
      "cell_type": "code",
      "metadata": {
        "id": "W-Qkkmav6d5R"
      },
      "source": [
        "list(confirmed)[-3:]"
      ],
      "execution_count": null,
      "outputs": []
    },
    {
      "cell_type": "markdown",
      "metadata": {
        "id": "Vpbe2sndK772"
      },
      "source": [
        "The data on the most recent number of cases or deaths in the the second to last column now"
      ]
    },
    {
      "cell_type": "code",
      "metadata": {
        "id": "uSS_cwqH3kKH"
      },
      "source": [
        "mostrecent = list(usdeaths)[-2] #last item in list is geometry\n",
        "mostrecent"
      ],
      "execution_count": null,
      "outputs": []
    },
    {
      "cell_type": "markdown",
      "metadata": {
        "id": "4OUGB08M_iuA"
      },
      "source": [
        "## Plot the point data\n",
        "- use the most recent deaths to create graduated sizes\n",
        "\n",
        "A basic plot of just the points is easily done, using default colours. The size of the points (markersize) is specified in points?\n",
        "\n",
        "https://stackoverflow.com/questions/14827650/pyplot-scatter-plot-marker-size#:~:text=The%20standard%20size%20of%20points,is%20hence%201%2F72%20inches.&text=If%20you%20are%20interested%20in,data%20units%2C%20check%20this%20answer.\n",
        "\n",
        "https://www.delftstack.com/howto/matplotlib/how-to-set-marker-size-of-scatter-plot-in-matplotlib/\n",
        "\n",
        "Check out the highest value in the most recent data"
      ]
    },
    {
      "cell_type": "code",
      "metadata": {
        "id": "uwieTS8KOBMH"
      },
      "source": [
        "gdeaths[mostrecent].max()"
      ],
      "execution_count": null,
      "outputs": []
    },
    {
      "cell_type": "markdown",
      "metadata": {
        "id": "jJYNHS4dOtFt"
      },
      "source": [
        "May as well look at all the descriptive statisitics."
      ]
    },
    {
      "cell_type": "code",
      "metadata": {
        "id": "LV-bQHP3OgiF"
      },
      "source": [
        "gdeaths.describe()"
      ],
      "execution_count": null,
      "outputs": []
    },
    {
      "cell_type": "markdown",
      "metadata": {
        "id": "U9lH5u1wPJXX"
      },
      "source": [
        "Try dividing the value (of deaths) by 500 to size the points.  Fancier scaling could be done but this works for now"
      ]
    },
    {
      "cell_type": "code",
      "metadata": {
        "id": "rudtP48DD01x"
      },
      "source": [
        "gdeaths.plot(markersize=gdeaths[mostrecent]/500, figsize=(15, 10))"
      ],
      "execution_count": null,
      "outputs": []
    },
    {
      "cell_type": "markdown",
      "metadata": {
        "id": "5pZx5-K1Pj7d"
      },
      "source": [
        "## Add a background map"
      ]
    },
    {
      "cell_type": "code",
      "metadata": {
        "id": "YJD1a-vjP2aP"
      },
      "source": [
        "# get some base data - first, check out the data installed with geopandas\n",
        "# Returns path of a particular map\n",
        "datapath = gpd.datasets.get_path('naturalearth_lowres')\n",
        "# Opens the map as a GeoDataFrame\n",
        "world = gpd.read_file(datapath)"
      ],
      "execution_count": null,
      "outputs": []
    },
    {
      "cell_type": "code",
      "metadata": {
        "id": "WEb3o6ihCUed"
      },
      "source": [
        "ax = world.plot(figsize=(15, 10))\n",
        "gdeaths.plot(ax=ax, color='k', markersize=gdeaths[mostrecent]/500)"
      ],
      "execution_count": null,
      "outputs": []
    },
    {
      "cell_type": "markdown",
      "metadata": {
        "id": "djrFqCr9QLIF"
      },
      "source": [
        "Not the greatest colours or map projection, but we can worrry about that later.\n",
        "\n",
        "Try plotting the global confirmed cases data"
      ]
    },
    {
      "cell_type": "code",
      "metadata": {
        "id": "Sjg2ARgbTScz"
      },
      "source": [
        "ax = world.plot(figsize=(15, 10))\n",
        "confirmed.plot(ax=ax, color='k', markersize=confirmed[mostrecent]/500)"
      ],
      "execution_count": null,
      "outputs": []
    },
    {
      "cell_type": "markdown",
      "metadata": {
        "id": "63e5r4QOTdPb"
      },
      "source": [
        "Probably should adjust the marker size, but that can happen later.\n",
        "\n",
        "Have a look at the us data on deaths."
      ]
    },
    {
      "cell_type": "code",
      "metadata": {
        "id": "VW9z8V_jWae8"
      },
      "source": [
        "# the data table\n",
        "usdeaths.head(3)"
      ],
      "execution_count": null,
      "outputs": []
    },
    {
      "cell_type": "markdown",
      "metadata": {
        "id": "Cf9jayi188hD"
      },
      "source": [
        "Plot the data"
      ]
    },
    {
      "cell_type": "code",
      "metadata": {
        "id": "RCfQ7J1LRqAB"
      },
      "source": [
        "ax = world.plot(figsize=(15, 10))\n",
        "usdeaths.plot(ax=ax, color='k', markersize=usdeaths[mostrecent]/500)"
      ],
      "execution_count": null,
      "outputs": []
    },
    {
      "cell_type": "markdown",
      "metadata": {
        "id": "QyFm1UNTWwz6"
      },
      "source": [
        "## Adjust the map area\n",
        "\n",
        "We can filter the points by latitude and longitude to focus more on North America.\n",
        "\n",
        "https://kanoki.org/2020/01/21/pandas-dataframe-filter-with-multiple-conditions/"
      ]
    },
    {
      "cell_type": "code",
      "metadata": {
        "id": "9guQz20HV4ts"
      },
      "source": [
        "# get only the US points above the equator and west of Greenwich, England\n",
        "nw_world_us = usdeaths.loc[(usdeaths[\"Lat\"]>0) & (usdeaths[\"Long_\"]<0)]\n",
        "\n",
        "nw_world_us.plot()"
      ],
      "execution_count": null,
      "outputs": []
    },
    {
      "cell_type": "markdown",
      "metadata": {
        "id": "RBh1nF8MSk8g"
      },
      "source": [
        "Now plot the data with some background information."
      ]
    },
    {
      "cell_type": "code",
      "metadata": {
        "id": "85uko-9ASrON"
      },
      "source": [
        "# Subsets the world GeoDataFrame\n",
        "usa = world[world.name == \"United States of America\"]\n",
        "\n",
        "# plot, using the subset points first\n",
        "ax = nw_world_us.plot(figsize=(15, 10))\n",
        "usa.plot(ax=ax)\n",
        "#world.plot(ax=ax, color='grey')\n",
        "nw_world_us.plot(ax=ax, color='k', markersize=nw_world_us[mostrecent]/50)"
      ],
      "execution_count": null,
      "outputs": []
    },
    {
      "cell_type": "markdown",
      "metadata": {
        "id": "-7hz-jT9Yq-Q"
      },
      "source": [
        "## A little fancier styling\n",
        "\n",
        "A US Map\n",
        "\n",
        "https://www.earthdatascience.org/courses/scientists-guide-to-plotting-data-in-python/plot-spatial-data/customize-vector-plots/python-change-spatial-extent-of-map-matplotlib-geopandas/\n",
        "\n",
        "Although since the data is lat/long it would be straightforward to set the extent directly with xmin, etc."
      ]
    },
    {
      "cell_type": "code",
      "metadata": {
        "id": "wHQ48dLXZEny"
      },
      "source": [
        "# Get spatial extent  - to zoom in on the map rather than clipping\n",
        "aoi_bounds = nw_world_us.geometry.total_bounds\n",
        "# print(f\"Figure boundary{aoi_bounds}\")\n",
        "\n",
        "# Create x and y min and max objects to use in the plot boundaries\n",
        "xmin, ymin, xmax, ymax = aoi_bounds\n",
        "\n",
        "# Plot the data with a modified spatial extent\n",
        "fig, ax = plt.subplots(figsize = (10,6))\n",
        "\n",
        "xlim = ([xmin,  xmax])\n",
        "ylim = ([ymin,  ymax])\n",
        "\n",
        "ax.set_xlim(xlim)\n",
        "ax.set_ylim(ylim)\n",
        "\n",
        "nw_world_us.plot(color='red', alpha = .5, ax = ax, markersize=nw_world_us[mostrecent]/10)\n",
        "world.plot(color='grey', ax=ax, alpha=.5)\n",
        "\n",
        "ax.set(title='US Deaths from Covid \\n Zoomed into the continental United States')\n",
        "ax.set_axis_off()\n",
        "plt.show()"
      ],
      "execution_count": null,
      "outputs": []
    },
    {
      "cell_type": "markdown",
      "metadata": {
        "id": "3HYvt6-IeNdN"
      },
      "source": [
        "## Styling a global map\n",
        "\n",
        "Now, lets return to the global data, and put some text in the figure.\n",
        "\n",
        "https://matplotlib.org/3.2.2/gallery/pyplots/text_commands.html#sphx-glr-gallery-pyplots-text-commands-py\n"
      ]
    },
    {
      "cell_type": "markdown",
      "metadata": {
        "id": "GuhtR-cumS0Z"
      },
      "source": [
        "### Calculate some statistics for the figure\n",
        "\n",
        "Since the data is there, it is nice to have supporting information for a figure.\n",
        "\n",
        "- maximum deaths \n",
        "- total deaths\n",
        "\n",
        "- maximum confirmed\n",
        "- total confirmed\n",
        "\n",
        "It would be nice to identify the name of the max death and confirmed country also...\n",
        "\n",
        "Use pandas methods to calculate these."
      ]
    },
    {
      "cell_type": "code",
      "metadata": {
        "id": "Z9A97vMjgTjS"
      },
      "source": [
        "gdmax = gdeaths[mostrecent].max()\n",
        "maxdcountry = gdeaths[gdeaths[mostrecent]==gdmax].iloc[0]['Country/Region']\n",
        "gdsum = gdeaths[mostrecent].sum()\n",
        "\n",
        "gcmax = confirmed[mostrecent].max()\n",
        "maxccountry = confirmed[confirmed[mostrecent]==gcmax].iloc[0]['Country/Region']\n",
        "gcsum= confirmed[mostrecent].sum()"
      ],
      "execution_count": null,
      "outputs": []
    },
    {
      "cell_type": "code",
      "metadata": {
        "id": "q-ETLm6CnJru"
      },
      "source": [
        "# check out the country with the recent maximum\n",
        "maxdcountry"
      ],
      "execution_count": null,
      "outputs": []
    },
    {
      "cell_type": "code",
      "metadata": {
        "id": "EO5Dtm_UhRV5"
      },
      "source": [
        "# total global deaths\n",
        "gdsum"
      ],
      "execution_count": null,
      "outputs": []
    },
    {
      "cell_type": "code",
      "metadata": {
        "id": "RDYRUzSZjxR2"
      },
      "source": [
        "# total global cases\n",
        "gcsum"
      ],
      "execution_count": null,
      "outputs": []
    },
    {
      "cell_type": "code",
      "metadata": {
        "id": "dCoKyJtqgTtT"
      },
      "source": [
        "# highest country value confirmed\n",
        "gcmax"
      ],
      "execution_count": null,
      "outputs": []
    },
    {
      "cell_type": "code",
      "metadata": {
        "id": "RarDa1eVmqgP"
      },
      "source": [
        "# most confirmed cases in\n",
        "maxccountry"
      ],
      "execution_count": null,
      "outputs": []
    },
    {
      "cell_type": "code",
      "metadata": {
        "id": "SnWtsZQEcJqH"
      },
      "source": [
        "# Plot the data with a modified spatial extent\n",
        "fig, ax = plt.subplots(figsize = (15,7))\n",
        "\n",
        "fig.suptitle(f'World Deaths from Covid {mostrecent}', fontsize=14, fontweight='bold', color='red', alpha=.5)\n",
        "\n",
        "\n",
        "\n",
        "\n",
        "world.plot(color='grey', ax=ax, alpha=.5)\n",
        "\n",
        "confirmed.plot(ax=ax, color='k', alpha=.5, markersize=confirmed[mostrecent]/1000)\n",
        "\n",
        "gdeaths.plot(color='red', alpha = .5, ax = ax, markersize=gdeaths[mostrecent]/1000)\n",
        "\n",
        "ax.set_title(f'Confirmed Covid Cases {mostrecent}', size=14, fontweight='bold', color='k', alpha=.5)\n",
        "\n",
        "\n",
        "ax.text(0.90, 0.11, f'{gcmax:,} confirmed country highest in {maxdcountry} - {gcsum:,} total cases',\n",
        "        verticalalignment='bottom', horizontalalignment='right',\n",
        "        transform=ax.transAxes,\n",
        "        color='grey', fontsize=15, bbox={'color':'white', 'alpha':0.9, 'pad':2})\n",
        "\n",
        "ax.text(0.90, 0.01, f'{gdmax:,} deaths country highest in {maxccountry} - {gdsum:,} total dead \\n ',\n",
        "        verticalalignment='bottom', horizontalalignment='right',\n",
        "        transform=ax.transAxes,\n",
        "        color='red', fontsize=15, bbox={'color':'white', 'alpha':0.9, 'pad':2})\n",
        "\n",
        "ax.set_axis_off()\n",
        "plt.savefig('CovidPlot.pdf')\n",
        "plt.show()"
      ],
      "execution_count": null,
      "outputs": []
    },
    {
      "cell_type": "markdown",
      "metadata": {
        "id": "QF6_1bR3-UYy"
      },
      "source": [
        "## Make a function\n",
        "\n",
        "That looks okay - now to adapt the code into a function so that any date could be plotted automatically."
      ]
    },
    {
      "cell_type": "code",
      "metadata": {
        "id": "s9_E_f_GrCeq"
      },
      "source": [
        "def plotdate(targ_date):\n",
        "\n",
        "  # calculate values for the text and title\n",
        "  gdmax = gdeaths[targ_date].max()\n",
        "  maxdcountry = gdeaths[gdeaths[targ_date]==gdmax].iloc[0]['Country/Region']\n",
        "  gdsum = gdeaths[targ_date].sum()\n",
        "\n",
        "  gcmax = confirmed[targ_date].max()\n",
        "  maxccountry = confirmed[confirmed[targ_date]==gcmax].iloc[0]['Country/Region']\n",
        "  gcsum= confirmed[targ_date].sum()\n",
        "\n",
        "  # Plot the data \n",
        "  fig, ax = plt.subplots(figsize = (15,7))\n",
        "\n",
        "  # title and subtitle\n",
        "  fig.suptitle(f'World Deaths from Covid {targ_date}', fontsize=14, fontweight='bold', color='red', alpha=.5)\n",
        "\n",
        "  ax.set_title(f'Confirmed Covid Cases {targ_date}', size=14, fontweight='bold', color='k', alpha=.5)\n",
        "\n",
        "  world.plot(color='grey', ax=ax, alpha=.5)\n",
        "\n",
        "  confirmed.plot(ax=ax, color='k', alpha=.5, markersize=confirmed[targ_date]/1000)\n",
        "\n",
        "  gdeaths.plot(color='red', alpha = .5, ax = ax, markersize=gdeaths[targ_date]/1000)\n",
        "\n",
        "  # Text for map statistics\n",
        "  ax.text(0.90, 0.11, f'{gdmax:,} deaths country highest in {maxccountry} - {gdsum:,} total dead \\n ',\n",
        "          verticalalignment='bottom', horizontalalignment='right',\n",
        "          transform=ax.transAxes,\n",
        "          color='red', fontsize=15, bbox={'color':'white', 'alpha':0.9, 'pad':2})\n",
        "  \n",
        "  ax.text(0.90, 0.08, f'{gcmax:,} confirmed country highest in {maxdcountry} - {gcsum:,} total cases',\n",
        "          verticalalignment='bottom', horizontalalignment='right',\n",
        "          transform=ax.transAxes,\n",
        "          color='grey', fontsize=15, bbox={'color':'white', 'alpha':0.9, 'pad':2})\n",
        "\n",
        "  ax.set_axis_off()\n",
        "  plt.show()"
      ],
      "execution_count": null,
      "outputs": []
    },
    {
      "cell_type": "markdown",
      "metadata": {
        "id": "oWULORXg-nZI"
      },
      "source": [
        "Check out to see what is different in the function compared to the code above!\n",
        "\n",
        "Now, see if the function works..."
      ]
    },
    {
      "cell_type": "code",
      "metadata": {
        "id": "fjs6LkImsnhM"
      },
      "source": [
        "plotdate('1/28/20')"
      ],
      "execution_count": null,
      "outputs": []
    },
    {
      "cell_type": "code",
      "metadata": {
        "id": "LX8wkwoLsskV"
      },
      "source": [
        "plotdate('2/28/20')"
      ],
      "execution_count": null,
      "outputs": []
    },
    {
      "cell_type": "markdown",
      "metadata": {
        "id": "kso5rIDX-sid"
      },
      "source": [
        "## Plot a time series from the data\n",
        "\n",
        "Since the data is a time series, we might as well have a look at this aspect as well.\n",
        "\n",
        "The table is convenient, but not formatted for easy plotting over time, so will have to do some manipulations to easily plot a time series for a country."
      ]
    },
    {
      "cell_type": "markdown",
      "metadata": {
        "id": "1442OmaN7agw"
      },
      "source": [
        "https://towardsdatascience.com/how-to-plot-time-series-86b5358197d6"
      ]
    },
    {
      "cell_type": "code",
      "metadata": {
        "id": "iqkX8Ivc5nfG"
      },
      "source": [
        "us = confirmed[confirmed['Country/Region'] == 'US']\n",
        "#confirmed.iloc[]\n",
        "us"
      ],
      "execution_count": null,
      "outputs": []
    },
    {
      "cell_type": "markdown",
      "metadata": {
        "id": "3uaWjq3k-jeG"
      },
      "source": [
        "Now that we have a single country, we can pull the pertinent data is several ways."
      ]
    },
    {
      "cell_type": "code",
      "metadata": {
        "id": "vyHmbVWJ8luZ"
      },
      "source": [
        "# array of values from the columns by index number (selecting rows, then columns)\n",
        "usvalues = us.iloc[0, 4:-1].values"
      ],
      "execution_count": null,
      "outputs": []
    },
    {
      "cell_type": "code",
      "metadata": {
        "id": "AVr7FxY5-emi"
      },
      "source": [
        "usvalues"
      ],
      "execution_count": null,
      "outputs": []
    },
    {
      "cell_type": "code",
      "metadata": {
        "id": "l-L50bxK8TA9"
      },
      "source": [
        "plt.plot(usvalues)"
      ],
      "execution_count": null,
      "outputs": []
    },
    {
      "cell_type": "code",
      "metadata": {
        "id": "tXo0z2jA-LWf"
      },
      "source": [
        "# plot the first row of confirmed data\n",
        "plt.plot(confirmed.iloc[0, 4:-1].values)"
      ],
      "execution_count": null,
      "outputs": []
    },
    {
      "cell_type": "markdown",
      "metadata": {
        "id": "UWfUMRKY0EsH"
      },
      "source": [
        "#### top 5 for a date\n",
        "\n",
        "There are other ways to get this data, and maintain a connection to the 'date' information as well.\n",
        "\n",
        "First, we can get the top 5 (or however many) values for a particular date fairly easily."
      ]
    },
    {
      "cell_type": "code",
      "metadata": {
        "id": "uh20l172yHYG"
      },
      "source": [
        "top5 = confirmed.sort_values(by=['10/1/20'], ascending=False).head(5)\n",
        "top5\n",
        "\n"
      ],
      "execution_count": null,
      "outputs": []
    },
    {
      "cell_type": "markdown",
      "metadata": {
        "id": "M0Is6QYa14l-"
      },
      "source": [
        "Now, access the most recent date and plot the data over time.  The code below creates a new dataframe from the information, drops the unneeded colums, and plots the information."
      ]
    },
    {
      "cell_type": "code",
      "metadata": {
        "id": "6Ho9fWpPzXCM"
      },
      "source": [
        "df = confirmed.sort_values(by=[mostrecent], ascending=False).head(5)\n",
        "df = pd.DataFrame(df.drop(columns=['Lat', 'Long', 'Province/State', 'geometry']))\n",
        "df = df.pivot_table(columns=['Country/Region'])\n",
        "# Converting the index as date\n",
        "df.index = pd.to_datetime(df.index)\n",
        "df.plot(figsize=(15,3))"
      ],
      "execution_count": null,
      "outputs": []
    },
    {
      "cell_type": "markdown",
      "metadata": {
        "id": "nQzRWzVzAQ1x"
      },
      "source": [
        "### Adopt the code above into a function"
      ]
    },
    {
      "cell_type": "code",
      "metadata": {
        "id": "cbVPFaQx2Hc2"
      },
      "source": [
        "def plotdate_chart(targ_date):\n",
        "  import matplotlib.gridspec as gridspec\n",
        "\n",
        "  # calculate values for the text and title\n",
        "  gdmax = gdeaths[targ_date].max()\n",
        "  maxdcountry = gdeaths[gdeaths[targ_date]==gdmax].iloc[0]['Country/Region']\n",
        "  gdsum = gdeaths[targ_date].sum()\n",
        "\n",
        "  gcmax = confirmed[targ_date].max()\n",
        "  maxccountry = confirmed[confirmed[targ_date]==gcmax].iloc[0]['Country/Region']\n",
        "  gcsum= confirmed[targ_date].sum()\n",
        "\n",
        "  #fig, (ax1, ax2) = plt.subplots(2, 1, figsize=(15, 8))\n",
        "  fig = plt.figure(figsize=(12,10))\n",
        "\n",
        "  gs = gridspec.GridSpec(nrows=2, ncols=1, height_ratios=[3, 1])\n",
        "\n",
        "  ax1 = fig.add_subplot(gs[0, 0])\n",
        "  ax2 = fig.add_subplot(gs[1, 0])\n",
        "\n",
        "  #fig = plt.figure()\n",
        "  #ax1 = fig.add_subplot(211)\n",
        "  #ax1.plot([1],[1])\n",
        "  #ax.tick_params(axis=u'both', which=u'both',length=0)\n",
        "  #ax2 = fig.add_subplot(212)\n",
        "\n",
        "\n",
        "\n",
        "  \n",
        "  # Plot the data \n",
        "  #ax1 = fig.add_subplot(2, 1, 1)\n",
        "  #ax2 = fig.add_subplot(2, 1, 2)\n",
        "\n",
        "  #ax2 = fig.add_axes([0.1, 0.1, 0.9, 0.15])\n",
        "  #ax1 = fig.add_axes([0.1, 0.1, 0.9, 0.9])\n",
        "  \n",
        "  # title and subtitle\n",
        "  fig.suptitle(f'World Deaths from Covid {targ_date}', fontsize=14, fontweight='bold', color='red', alpha=.5)\n",
        "\n",
        "  ax1.set_title(f'Confirmed Covid Cases {targ_date}', size=14, fontweight='bold', color='k', alpha=.5)\n",
        "  \n",
        "\n",
        "  world.plot(color='grey', ax=ax1, alpha=.5)\n",
        "\n",
        "  confirmed.plot(ax=ax1, color='k', alpha=.5, markersize=confirmed[targ_date]/1000)\n",
        "\n",
        "  gdeaths.plot(color='red', alpha = .5, ax = ax1, markersize=gdeaths[targ_date]/1000)\n",
        "\n",
        "  # Text for map statistics\n",
        "  ax1.text(0.90, 0.11, f'{gdmax:,} deaths country highest in {maxccountry} - {gdsum:,} total dead \\n ',\n",
        "          verticalalignment='bottom', horizontalalignment='right',\n",
        "          transform=ax1.transAxes,\n",
        "          color='red', fontsize=15, bbox={'color':'white', 'alpha':0.9, 'pad':2})\n",
        "  \n",
        "  ax1.text(0.90, 0.08, f'{gcmax:,} confirmed country highest in {maxdcountry} - {gcsum:,} total cases',\n",
        "          verticalalignment='bottom', horizontalalignment='right',\n",
        "          transform=ax1.transAxes,\n",
        "          color='grey', fontsize=15, bbox={'color':'white', 'alpha':0.9, 'pad':2})\n",
        "\n",
        "  #ax1.set_axis_off()\n",
        "\n",
        "  df = confirmed.sort_values(by=[targ_date], ascending=False).head(5)\n",
        "  df = pd.DataFrame(df.drop(columns=['Lat', 'Long', 'Province/State', 'geometry']))\n",
        "  df = df.rename(columns={'Country/Region':'date'})\n",
        "  df = df.pivot_table(columns=['date']) \n",
        "  # Converting the index as date\n",
        "  df.index = pd.to_datetime(df.index)\n",
        "\n",
        "  # filter the data by date\n",
        "  # df = df.loc[:pd.to_datetime(targ_date)]\n",
        "\n",
        "\n",
        "  df.plot(ax=ax2)\n",
        "  plt.show()"
      ],
      "execution_count": null,
      "outputs": []
    },
    {
      "cell_type": "code",
      "metadata": {
        "id": "cR245S2R3THb"
      },
      "source": [
        "plotdate_chart(mostrecent)"
      ],
      "execution_count": null,
      "outputs": []
    },
    {
      "cell_type": "markdown",
      "metadata": {
        "id": "IMqNGoXV6mm_"
      },
      "source": [
        "https://python4astronomers.github.io/plotting/advanced.html"
      ]
    },
    {
      "cell_type": "code",
      "metadata": {
        "id": "g1ge4PNZgooL"
      },
      "source": [
        "plotdate_chart('6/6/20')"
      ],
      "execution_count": null,
      "outputs": []
    },
    {
      "cell_type": "code",
      "metadata": {
        "id": "XpTOrzmVhMRO"
      },
      "source": [
        "plotdate_chart('4/4/20')"
      ],
      "execution_count": null,
      "outputs": []
    },
    {
      "cell_type": "markdown",
      "metadata": {
        "id": "N48ubM0mFuHm"
      },
      "source": [
        "## Look at it with Folium\n",
        "\n",
        "Another way to look at the data is with an online map.  We an use the 'folium' module to do this. The code may look a bit intimidating, but check it out.\n",
        "\n",
        "You can also look at this article, or search online for more references: \n",
        "\n",
        "- Data Visualization with Python Folium Maps\n",
        "- https://towardsdatascience.com/data-visualization-with-python-folium-maps-a74231de9ef7"
      ]
    },
    {
      "cell_type": "code",
      "metadata": {
        "id": "LTzZKANsea65"
      },
      "source": [
        "# Make an empty map\n",
        "m = folium.Map(width=1000,height=500,location=[20,0], zoom_start=2)\n",
        "\n",
        "date = '10/29/20'\n",
        "loc = 'Covid-19 Confirmed Cases'\n",
        "title_html = '''\n",
        "             <h3 align=\"center\" style=\"font-size:16px\"><b>{}</b> - {}</h3>\n",
        "             '''.format(loc,date)  \n",
        "m.get_root().html.add_child(folium.Element(title_html))\n",
        "\n",
        "# get the data\n",
        "data = confirmed\n",
        "# I can add marker one by one on the map\n",
        "for i in range(0,len(data)):\n",
        "   folium.Circle(\n",
        "      location=[data.iloc[i]['Lat'], data.iloc[i]['Long']],\n",
        "      popup=data.iloc[i]['Country/Region'],\n",
        "      radius=data.iloc[i][date]/10,\n",
        "      color='crimson',\n",
        "      fill=True,\n",
        "      fill_color='crimson'\n",
        "   ).add_to(m)\n",
        " \n",
        "# Save it as html\n",
        "m.save(f'GlobalCovid.html')\n",
        "\n",
        "# view the map\n",
        "m"
      ],
      "execution_count": null,
      "outputs": []
    },
    {
      "cell_type": "markdown",
      "metadata": {
        "id": "YwaNM-YrJjnU"
      },
      "source": [
        "### The End\n",
        "\n",
        "The last command should have also created an html file in your workspace called \"GlobalCovid.html\" - download this and have a look at it.\n",
        "\n",
        "This part of the exercise is over. Your task now is to modify or extend some of the code above to plot the data for the usdeaths instead of for global deaths or global confirmed cases.\n",
        "\n",
        "The folium map could be adapted by adding 'pop-ups' or changing the display."
      ]
    }
  ]
}