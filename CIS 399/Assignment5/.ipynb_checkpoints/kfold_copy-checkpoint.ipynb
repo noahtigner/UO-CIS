{
 "cells": [
  {
   "cell_type": "markdown",
   "metadata": {
    "colab_type": "text",
    "id": "C2pMCaZa6uPJ"
   },
   "source": [
    "<h1>\n",
    "<center>\n",
    "Module 5: Bias-Variance and Cross-Validation\n",
    "</center>\n",
    "</h1>\n",
    "<div class=h1_cell>\n",
    "\n",
    "You will be working with the loan table again.\n",
    "\n",
    "</div>"
   ]
  },
  {
   "cell_type": "code",
   "execution_count": 1,
   "metadata": {
    "colab": {
     "base_uri": "https://localhost:8080/",
     "height": 34
    },
    "colab_type": "code",
    "id": "xqGv8Swz6uPK",
    "outputId": "f5485ad3-02b2-4a4c-f642-2f410a4f743f"
   },
   "outputs": [
    {
     "name": "stdout",
     "output_type": "stream",
     "text": [
      "Drive already mounted at /content/gdrive; to attempt to forcibly remount, call drive.mount(\"/content/gdrive\", force_remount=True).\n"
     ]
    }
   ],
   "source": [
    "import pandas as pd\n",
    "\n",
    "from google.colab import drive\n",
    "drive.mount('/content/gdrive')"
   ]
  },
  {
   "cell_type": "code",
   "execution_count": 2,
   "metadata": {
    "colab": {
     "base_uri": "https://localhost:8080/",
     "height": 155
    },
    "colab_type": "code",
    "id": "v4wxFUgC6uPO",
    "outputId": "dd69b230-8bf7-45c5-a954-379ef77ac76a"
   },
   "outputs": [
    {
     "data": {
      "text/html": [
       "<div>\n",
       "<style scoped>\n",
       "    .dataframe tbody tr th:only-of-type {\n",
       "        vertical-align: middle;\n",
       "    }\n",
       "\n",
       "    .dataframe tbody tr th {\n",
       "        vertical-align: top;\n",
       "    }\n",
       "\n",
       "    .dataframe thead th {\n",
       "        text-align: right;\n",
       "    }\n",
       "</style>\n",
       "<table border=\"1\" class=\"dataframe\">\n",
       "  <thead>\n",
       "    <tr style=\"text-align: right;\">\n",
       "      <th></th>\n",
       "      <th>Gender</th>\n",
       "      <th>Married</th>\n",
       "      <th>Dependents</th>\n",
       "      <th>Education</th>\n",
       "      <th>Self_Employed</th>\n",
       "      <th>ApplicantIncome</th>\n",
       "      <th>CoapplicantIncome</th>\n",
       "      <th>LoanAmount</th>\n",
       "      <th>Loan_Amount_Term</th>\n",
       "      <th>Credit_History</th>\n",
       "      <th>...</th>\n",
       "      <th>lam_Average</th>\n",
       "      <th>lam_High</th>\n",
       "      <th>ch_bad</th>\n",
       "      <th>ch_good</th>\n",
       "      <th>ch_nan</th>\n",
       "      <th>apin_binned</th>\n",
       "      <th>apin_low</th>\n",
       "      <th>apin_average</th>\n",
       "      <th>apin_high</th>\n",
       "      <th>apin_nan</th>\n",
       "    </tr>\n",
       "  </thead>\n",
       "  <tbody>\n",
       "    <tr>\n",
       "      <th>0</th>\n",
       "      <td>Male</td>\n",
       "      <td>No</td>\n",
       "      <td>0</td>\n",
       "      <td>Graduate</td>\n",
       "      <td>No</td>\n",
       "      <td>5849</td>\n",
       "      <td>0.0</td>\n",
       "      <td>NaN</td>\n",
       "      <td>360.0</td>\n",
       "      <td>1.0</td>\n",
       "      <td>...</td>\n",
       "      <td>0</td>\n",
       "      <td>0</td>\n",
       "      <td>0</td>\n",
       "      <td>1</td>\n",
       "      <td>0</td>\n",
       "      <td>low</td>\n",
       "      <td>1</td>\n",
       "      <td>0</td>\n",
       "      <td>0</td>\n",
       "      <td>0</td>\n",
       "    </tr>\n",
       "    <tr>\n",
       "      <th>1</th>\n",
       "      <td>Male</td>\n",
       "      <td>Yes</td>\n",
       "      <td>1</td>\n",
       "      <td>Graduate</td>\n",
       "      <td>No</td>\n",
       "      <td>4583</td>\n",
       "      <td>1508.0</td>\n",
       "      <td>128.0</td>\n",
       "      <td>360.0</td>\n",
       "      <td>1.0</td>\n",
       "      <td>...</td>\n",
       "      <td>0</td>\n",
       "      <td>0</td>\n",
       "      <td>0</td>\n",
       "      <td>1</td>\n",
       "      <td>0</td>\n",
       "      <td>low</td>\n",
       "      <td>1</td>\n",
       "      <td>0</td>\n",
       "      <td>0</td>\n",
       "      <td>0</td>\n",
       "    </tr>\n",
       "  </tbody>\n",
       "</table>\n",
       "<p>2 rows × 30 columns</p>\n",
       "</div>"
      ],
      "text/plain": [
       "  Gender Married Dependents Education Self_Employed  ApplicantIncome  \\\n",
       "0   Male      No          0  Graduate            No             5849   \n",
       "1   Male     Yes          1  Graduate            No             4583   \n",
       "\n",
       "   CoapplicantIncome  LoanAmount  Loan_Amount_Term  Credit_History    ...     \\\n",
       "0                0.0         NaN             360.0             1.0    ...      \n",
       "1             1508.0       128.0             360.0             1.0    ...      \n",
       "\n",
       "  lam_Average  lam_High  ch_bad  ch_good  ch_nan  apin_binned  apin_low  \\\n",
       "0           0         0       0        1       0          low         1   \n",
       "1           0         0       0        1       0          low         1   \n",
       "\n",
       "   apin_average apin_high  apin_nan  \n",
       "0             0         0         0  \n",
       "1             0         0         0  \n",
       "\n",
       "[2 rows x 30 columns]"
      ]
     },
     "execution_count": 2,
     "metadata": {
      "tags": []
     },
     "output_type": "execute_result"
    }
   ],
   "source": [
    "with open('/content/gdrive/My Drive/class_tables/loan_wrangled_week3.csv', 'r') as f:\n",
    "  loan_table = pd.read_csv(f)\n",
    "\n",
    "loan_table.head(2)  #make sure it looks ok - we see the results of our week 2 wrangling"
   ]
  },
  {
   "cell_type": "code",
   "execution_count": 0,
   "metadata": {
    "colab": {},
    "colab_type": "code",
    "id": "8RcFXWfj6uPa",
    "scrolled": true
   },
   "outputs": [],
   "source": [
    "pd.set_option('display.max_columns', None)"
   ]
  },
  {
   "cell_type": "markdown",
   "metadata": {
    "colab_type": "text",
    "id": "xhj82RM_RAA3"
   },
   "source": [
    "<h2>A couple of notes</h2>\n",
    "I added points to assignments to give you an idea of how much of a challenge I think they are. Let me know if I am off base.\n",
    "<p>\n",
    "  Don't load your library yet. Finish problem 1 before importing your library."
   ]
  },
  {
   "cell_type": "markdown",
   "metadata": {
    "colab_type": "text",
    "id": "kmKkY51gCH_F"
   },
   "source": [
    "<hr>\n",
    "<h1>\n",
    "1: Fix our scoring functions (30 points)\n",
    "</h1>\n",
    "<p>\n",
    "<div class=h1_cell>\n",
    "<p>\n",
    "As we defined our scoring functions in week 2, they all assume that the 4 cases have values greater than 0. But this week we will see that is not always the case. And hence you will get an error like this if you try using the scoring functions as is:\n",
    "  <pre>\n",
    "  KeyError: 'false_negative'\n",
    "  </pre>\n",
    "<p>\n",
    "What this means is that there were no false negatives found so the key is also not found. You would find the problem in a statement like this:\n",
    "  <pre>\n",
    "  fn = cases['false_negative']  #key does not exist because no false negatives\n",
    "  </pre>\n",
    "  Your task is to fix up the 3 scoring functions so they handle cases like this. And while you are at it, make sure you never divide by 0. Once you have them working, you can add them to your library for this week. I give you some test cases to code against.\n",
    "  <p>\n",
    " Important: do not import your library before (a) you have all functions below working correctly, and (b) you have replaced the old functions in your library with the new ones.\n",
    "</div>"
   ]
  },
  {
   "cell_type": "code",
   "execution_count": 0,
   "metadata": {
    "colab": {},
    "colab_type": "code",
    "id": "QLciYNSWDF-r"
   },
   "outputs": [],
   "source": [
    "def accuracy(cases):\n"
   ]
  },
  {
   "cell_type": "code",
   "execution_count": 0,
   "metadata": {
    "colab": {
     "base_uri": "https://localhost:8080/",
     "height": 67
    },
    "colab_type": "code",
    "id": "2ZglF8TVD2uL",
    "outputId": "04d6dc72-3f30-4087-a3d4-0c8cffa154e6"
   },
   "outputs": [
    {
     "name": "stdout",
     "output_type": "stream",
     "text": [
      "('should be 0', 0)\n",
      "('should be 0.3', 0.3)\n",
      "('should be 0.2', 0.2222222222222222)\n"
     ]
    }
   ],
   "source": [
    "#test\n",
    "\n",
    "print(('should be 0', accuracy(pd.Series({}))))\n",
    "print(('should be 0.3', accuracy(pd.Series({'true_positive':1, 'true_negative':2, 'false_positive':3, 'false_negative':4}))))\n",
    "print(('should be 0.2', accuracy(pd.Series({'true_negative':2, 'false_positive':3, 'false_negative':4}))))"
   ]
  },
  {
   "cell_type": "code",
   "execution_count": 0,
   "metadata": {
    "colab": {},
    "colab_type": "code",
    "id": "Vgxs3CQHFGCX"
   },
   "outputs": [],
   "source": [
    "def f1(cases):\n"
   ]
  },
  {
   "cell_type": "code",
   "execution_count": 0,
   "metadata": {
    "colab": {
     "base_uri": "https://localhost:8080/",
     "height": 67
    },
    "colab_type": "code",
    "id": "YOjhyJYhGPt0",
    "outputId": "12cd9138-20ae-4acc-f5de-0783c2038b6e"
   },
   "outputs": [
    {
     "name": "stdout",
     "output_type": "stream",
     "text": [
      "('should be 0', 0)\n",
      "('should be 0.2', 0.2222222222222222)\n",
      "('should be 0', 0)\n"
     ]
    }
   ],
   "source": [
    "#test\n",
    "\n",
    "print(('should be 0', f1(pd.Series({}))))\n",
    "print(('should be 0.2', f1(pd.Series({'true_positive':1, 'true_negative':2, 'false_positive':3, 'false_negative':4}))))\n",
    "print(('should be 0', f1(pd.Series({'true_negative':2, 'false_positive':3, 'false_negative':4}))))"
   ]
  },
  {
   "cell_type": "code",
   "execution_count": 0,
   "metadata": {
    "colab": {},
    "colab_type": "code",
    "id": "GQQ2BqeXHNDI"
   },
   "outputs": [],
   "source": [
    "def informedness(cases):\n"
   ]
  },
  {
   "cell_type": "code",
   "execution_count": 0,
   "metadata": {
    "colab": {
     "base_uri": "https://localhost:8080/",
     "height": 67
    },
    "colab_type": "code",
    "id": "MMM0Etf5Hkgc",
    "outputId": "e7033cbe-aa8f-41bf-8753-7ef9906cbf1c"
   },
   "outputs": [
    {
     "name": "stdout",
     "output_type": "stream",
     "text": [
      "('should be -1', -1)\n",
      "('should be -0.39', -0.3999999999999999)\n",
      "('should be -0.6', -0.6)\n"
     ]
    }
   ],
   "source": [
    "#test\n",
    "\n",
    "print(('should be -1', informedness(pd.Series({}))))\n",
    "print(('should be -0.39', informedness(pd.Series({'true_positive':1, 'true_negative':2, 'false_positive':3, 'false_negative':4}))))\n",
    "print(('should be -0.6', informedness(pd.Series({'true_negative':2, 'false_positive':3, 'false_negative':4}))))"
   ]
  },
  {
   "cell_type": "markdown",
   "metadata": {
    "colab_type": "text",
    "id": "yfjDiH1-gHKG"
   },
   "source": [
    "<h1>Ok, now update your library</h1>\n",
    "When you have done that, you are ready to import.\n",
    "<p>\n",
    "  <b>Important note</b>: you may be tempted to skip the step of updating your library before importing. Why do that when you already have the new functions defined above? We are back to that static-scope thing. Your notebook context (namespace) can see your library functions but your library functions cannot see your notebook functions. The library has its own namespace. In summary, `produce_scores` will not see your functions above. Instead it will see the functions in your library. And if you don't update your library, you will be using your old, broken versions. And it does not matter if you import first then define new functions in the notebook. Your notebook functions still will not override your library functions. Whew. So go update your library!"
   ]
  },
  {
   "cell_type": "code",
   "execution_count": 0,
   "metadata": {
    "colab": {},
    "colab_type": "code",
    "id": "YA2LVL6j6uPT"
   },
   "outputs": [],
   "source": [
    "!rm library_w19_week5.py"
   ]
  },
  {
   "cell_type": "code",
   "execution_count": 0,
   "metadata": {
    "colab": {
     "base_uri": "https://localhost:8080/",
     "height": 106,
     "resources": {
      "http://localhost:8080/nbextensions/google.colab/files.js": {
       "data": "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",
       "headers": [
        [
         "content-type",
         "application/javascript"
        ]
       ],
       "ok": true,
       "status": 200,
       "status_text": ""
      }
     }
    },
    "colab_type": "code",
    "id": "oy4fWQH47nfH",
    "outputId": "c9fbeb21-4ea8-47bf-b558-149f00b7dd7a"
   },
   "outputs": [
    {
     "data": {
      "text/html": [
       "\n",
       "     <input type=\"file\" id=\"files-f958bf9b-3e67-4369-8482-413468681238\" name=\"files[]\" multiple disabled />\n",
       "     <output id=\"result-f958bf9b-3e67-4369-8482-413468681238\">\n",
       "      Upload widget is only available when the cell has been executed in the\n",
       "      current browser session. Please rerun this cell to enable.\n",
       "      </output>\n",
       "      <script src=\"/nbextensions/google.colab/files.js\"></script> "
      ],
      "text/plain": [
       "<IPython.core.display.HTML object>"
      ]
     },
     "metadata": {
      "tags": []
     },
     "output_type": "display_data"
    },
    {
     "name": "stdout",
     "output_type": "stream",
     "text": [
      "Saving library_w19_week5.py to library_w19_week5.py\n"
     ]
    },
    {
     "data": {
      "text/plain": [
       "{'library_w19_week5.py': b'import pandas as pd\\nimport numpy as np\\nfrom functools import reduce\\n\\ndef predictor_case(row, pred, target):\\n\\tcase_dict = {(0,0): \\'true_negative\\', (1,1): \\'true_positive\\', (0,1): \\'false_negative\\', (1,0): \\'false_positive\\'}\\n\\tactual = row[target]\\n\\tprediction = row[pred]\\n\\tcase = case_dict[(prediction, actual)]\\n\\treturn case\\n\\ndef accuracy(cases):\\n    tp = cases[\\'true_positive\\'] if \\'true_positive\\' in cases else 0\\n    tn = cases[\\'true_negative\\'] if \\'true_negative\\' in cases else 0\\n    fp = cases[\\'false_positive\\'] if \\'false_positive\\' in cases else 0\\n    fn = cases[\\'false_negative\\'] if \\'false_negative\\' in cases else 0\\n\\n    result = (tp + tn)/(tp+tn+fp+fn) if (tp+tn+fp+fn) != 0 else 0\\n    return result\\n\\ndef f1(cases):\\n    #the heart of the matrix\\n    tp = cases[\\'true_positive\\'] if \\'true_positive\\' in cases else 0\\n    tn = cases[\\'true_negative\\'] if \\'true_negative\\' in cases else 0\\n    fp = cases[\\'false_positive\\'] if \\'false_positive\\' in cases else 0\\n    fn = cases[\\'false_negative\\'] if \\'false_negative\\' in cases else 0\\n    \\n    #other measures we can derive\\n    recall = tp/(tp+fn)  if (tp+fn) != 0 else 0 # positive correct divided by total positive in the table\\n    precision = tp/(tp+fp) if (tp+fp) != 0 else 0 # positive correct divided by all positive predictions made\\n    \\n    #now for the one we want\\n    recall_div = 1/recall if recall != 0 else 0\\n    precision_div = 1/precision if precision != 0 else 0\\n    f1 = 2/(recall_div + precision_div) if (recall_div + precision_div) != 0 else 0\\n    \\n    return f1\\n\\ndef informedness(cases):\\n    tp = cases[\\'true_positive\\'] if \\'true_positive\\' in cases else 0\\n    tn = cases[\\'true_negative\\'] if \\'true_negative\\' in cases else 0\\n    fp = cases[\\'false_positive\\'] if \\'false_positive\\' in cases else 0\\n    fn = cases[\\'false_negative\\'] if \\'false_negative\\' in cases else 0\\n\\n    recall = tp/(tp+fn)  if (tp+fn) != 0 else 0 # positive correct divided by total positive in the table\\n    specificty = tn/(tn+fp) if (tn+fp) != 0 else 0# negative correct divided by total negative in the table\\n    J = (recall + specificty) - 1\\n    return J\\n\\n#starting week 3\\n\\ndef probabilities(counts):\\n    count_0 = 0 if 0 not in counts else counts[0]  #could have no 0 values\\n    count_1 = 0 if 1 not in counts else counts[1]\\n    total = count_0 + count_1\\n    probs = (0,0) if total == 0 else (count_0/total, count_1/total)  #build 2-tuple\\n    return probs\\n\\ndef gini(counts):\\n    (p0,p1) = probabilities(counts)\\n    sum_probs = p0**2 + p1**2\\n    gini = 1 - sum_probs\\n    return gini\\n\\ndef gig(starting_table, split_column, target_column):\\n    \\n    #split into two branches, i.e., two sub-tables\\n    true_table = starting_table.loc[starting_table[split_column] == 1]\\n    false_table = starting_table.loc[starting_table[split_column] == 0]\\n    \\n    #Now see how the target column is divided up in each sub-table (and the starting table)\\n    true_counts = true_table[target_column].value_counts()  # Note using true_table and not starting_table\\n    false_counts = false_table[target_column].value_counts()  # Note using false_table and not starting_table\\n    starting_counts = starting_table[target_column].value_counts() \\n    \\n    #compute the gini impurity for the 3 tables\\n    starting_gini = gini(starting_counts)\\n    true_gini = gini(true_counts)\\n    false_gini = gini(false_counts)\\n\\n    #compute the weights\\n    starting_size = len(starting_table.index)\\n    true_weight = 0.0 if starting_size == 0 else len(true_table.index)/starting_size\\n    false_weight = 0.0 if starting_size == 0 else len(false_table.index)/starting_size\\n    \\n    #wrap it up and put on a bow\\n    gig = starting_gini - (true_weight * true_gini + false_weight * false_gini)\\n    \\n    return gig\\n\\n\\'\\'\\'\\ndef entropy(counts):\\n    (p0, p1) = probabilities(counts)\\n    term1 = -p0*math.log(p0,2) if p0 > 0 else 0\\n    term2 = -p1*math.log(p1,2) if p1 > 0 else 0\\n    entropy = term1 + term2\\n    return entropy\\n\\ndef IGain(starting_table, split_column, target_column):\\n    \\n    #split into two branches, i.e., two sub-tables\\n    true_table = starting_table.loc[starting_table[split_column] == 1]\\n    false_table = starting_table.loc[starting_table[split_column] == 0]\\n    \\n    #Now see how the target column is divided up in each sub-table (and the starting table)\\n    true_counts = true_table[target_column].value_counts()\\n    false_counts = false_table[target_column].value_counts()  # Note using true_table and not titanic_table\\n    starting_counts = starting_table[target_column].value_counts() \\n    \\n    #compute the entropy for the 3 tables\\n    starting_e = entropy(starting_counts)\\n    true_e = entropy(true_counts)\\n    false_e = entropy(false_counts)\\n\\n    #compute the weights\\n    starting_size = len(starting_table.index)\\n    true_weight = 0.0 if starting_size == 0 else 1.0*len(true_table.index)/starting_size\\n    false_weight = 0.0 if starting_size == 0 else 1.0*len(false_table.index)/starting_size\\n    \\n    #wrap it up and put on a bow\\n    infogain = starting_e - (true_weight * true_e + false_weight * false_e)\\n    \\n    return infogain\\n\\'\\'\\'\\n\\n#week 4\\n\\ndef build_pred(column, branch):\\n    return lambda row: row[column] == branch\\n\\ndef find_best_splitter(table, choice_list, target):\\n  \\n    assert (len(table)>0),\"Cannot split empty table\"\\n    assert (target in table),\"Target must be column in table\"\\n    \\n    gig_scores = map(lambda col: (col, gig(table, col, target)), choice_list)  #compute tuple (col, gig) for each column\\n    gig_sorted = sorted(gig_scores, key=lambda item: item[1], reverse=True)  # sort on gig\\n    return gig_sorted\\n\\nfrom functools import reduce\\n\\ndef generate_table(table, conjunction):\\n  \\n    assert (len(table)>0),\"Cannot generate from empty table\"\\n\\n    sub_table = reduce(lambda subtable, pair: subtable.loc[pair[1]], conjunction, table)\\n    return sub_table\\n\\ndef compute_prediction(table, target):\\n  \\n    assert (len(table)>0),\"Cannot predict from empty table\"\\n    assert (target in table),\"Target must be column in table\"\\n    \\n    counts = table[target].value_counts()  # counts looks like {0: v1, 1: v2}\\n\\n    if 0 not in counts:\\n        prediction = 1\\n    elif 1 not in counts:\\n        prediction = 0\\n    elif counts[1] > counts[0]:  # ties go to 0 (negative)\\n        prediction = 1\\n    else:\\n        prediction = 0\\n\\n    return prediction\\n\\ndef build_tree_iter(table, choices, target, hypers={} ):\\n\\n    assert (len(choices)>0),\"Must have at least one column in choices\"\\n    assert (target in table), \"Target column not in table\"\\n    assert (len(table) > 1), \"Table must have more than 1 row\"\\n\\n    hyper_keys = [*hypers]\\n    target_set = set([\\'max-depth\\',\\'gig-cutoff\\'])\\n    diff_set = set(hyper_keys) - target_set\\n    if diff_set: print(\\'WARNING: unrecognized hyper parameters \\' + str(diff_set))\\n    \\n    k = hypers[\\'max-depth\\'] if \\'max-depth\\' in hypers else min(4, len(choices))\\n    gig_cutoff = hypers[\\'gig-cutoff\\'] if \\'gig-cutoff\\' in hypers else 0.0\\n    \\n    def iterative_build(k):\\n        columns_sorted = find_best_splitter(table, choices, target)\\n        (best_column, gig_value) = columns_sorted[0]\\n        \\n        #Note I add _1 or _0 to make it more readable for debugging\\n        current_paths = [{\\'conjunction\\': [(best_column+\\'_1\\', build_pred(best_column, 1))],\\n                          \\'prediction\\': None,\\n                          \\'gig_score\\': gig_value},\\n                         {\\'conjunction\\': [(best_column+\\'_0\\', build_pred(best_column, 0))],\\n                          \\'prediction\\': None,\\n                          \\'gig_score\\': gig_value}\\n                        ]\\n        k -= 1  # we just built a level as seed so subtract 1 from k\\n        tree_paths = []  # add completed paths here\\n        \\n        while k>0:\\n            new_paths = []\\n            for path in current_paths:\\n                old_conjunction = path[\\'conjunction\\']  # a list of (name, lambda)\\n                before_table = generate_table(table, old_conjunction)  #the subtable the current conjunct leads to\\n                columns_sorted = find_best_splitter(before_table, choices, target)\\n                (best_column, gig_value) = columns_sorted[0]\\n                if gig_value > gig_cutoff:\\n                    new_path_1 = {\\'conjunction\\': old_conjunction + [(best_column+\\'_1\\', build_pred(best_column, 1))],\\n                                \\'prediction\\': None,\\n                                 \\'gig_score\\': gig_value}\\n                    new_paths.append( new_path_1 ) #true\\n                    new_path_0 = {\\'conjunction\\': old_conjunction + [(best_column+\\'_0\\', build_pred(best_column, 0))],\\n                                \\'prediction\\': None,\\n                                 \\'gig_score\\': gig_value}\\n                    new_paths.append( new_path_0 ) #false\\n                else:\\n                    #not worth splitting so complete the path with a prediction\\n                    path[\\'prediction\\'] = compute_prediction(before_table, target)\\n                    tree_paths.append(path)\\n            #end for loop\\n            \\n            current_paths = new_paths\\n            if current_paths != []:\\n                k -= 1\\n            else:\\n                break  # nothing left to extend so have copied all paths to tree_paths\\n        #end while loop\\n\\n        #Generate predictions for all paths that have None\\n        for path in current_paths:\\n            conjunction = path[\\'conjunction\\']\\n            before_table = generate_table(table, conjunction)\\n            path[\\'prediction\\'] = compute_prediction(before_table, target)\\n            tree_paths.append(path)\\n        return tree_paths\\n\\n    return {\\'paths\\': iterative_build(k), \\'weight\\': None}\\n\\ndef tree_predictor(row, tree):\\n  \\n    assert (len(tree[\\'paths\\']) > 0), \"Tree must have at least one path\"\\n    \\n    #go through each path, one by one (could use a map instead of for loop?)\\n    for path in tree[\\'paths\\']:\\n        conjuncts = path[\\'conjunction\\']\\n        result = map(lambda tuple: tuple[1](row), conjuncts)  # potential to be parallelized\\n        if all(result):\\n            return path[\\'prediction\\']\\n    raise LookupError(\\'No true paths found for row: \\' + str(row))\\n\\n#============== Week 4 version b\\n\\ndef path_id(row, tree):\\n  \\n    assert (len(tree[\\'paths\\']) > 0), \"Tree must have at least one path\"\\n    \\n    #go through each path, one by one (could use a map instead of for loop?)\\n    for i, path in enumerate( tree[\\'paths\\']):\\n        conjuncts = path[\\'conjunction\\']\\n        result = map(lambda tup: tup[1](row), conjuncts)  # potential to be parallelized\\n        if all(result):\\n            return i\\n    raise LookupError(\\'No true paths found for row: \\' + str(row))\\n\\ndef reorder_paths(table, tree):\\n  \\n    new_paths = []\\n    paths = tree[\\'paths\\']\\n\\n    tempcounts = table.apply(lambda row: path_id(row, tree), axis=1)\\n    valcounts= tempcounts.value_counts()\\n    dictcounts = dict(valcounts)\\n    listcounts = list(dictcounts.items())\\n    sortedcounts = sorted(listcounts, key=lambda x: x[1], reverse=True)\\n    print(sortedcounts)\\n    \\n    for tup in sortedcounts:\\n        new_paths.append(paths[tup[0]])\\n        \\n    return new_paths\\n\\n#============== Week 5\\n\\ndef produce_scores(table, tree, target):\\n    scratch_table = pd.DataFrame(columns=[\\'prediction\\', \\'actual\\'])\\n    scratch_table[\\'prediction\\'] = table.apply(lambda row: tree_predictor(row, tree), axis=1)\\n    scratch_table[\\'actual\\'] = table[target]  # just copy the target column\\n    cases = scratch_table.apply(lambda row: predictor_case(row, pred=\\'prediction\\', target=\\'actual\\'), axis=1)\\n    vc = cases.value_counts()\\n    return [accuracy(vc), f1(vc), informedness(vc)]\\n\\ndef compute_training(slices, left_out):\\n    training_slices = []\\n    for i,slice in enumerate(slices):\\n        if i == left_out:\\n            continue\\n        training_slices.append(slices[i])\\n    return pd.concat(training_slices)  # note we are returning a table (DataFrame)\\n\\ndef k_fold(table, k, target, hypers, candidate_columns):\\n\\n    result_columns = [\\'name\\',  \\'accuracy\\', \\'f1\\', \\'informedness\\']\\n    k_fold_results_table = pd.DataFrame(columns=result_columns)\\n    \\n    total_len = len(table.index)\\n    slice_size = int(total_len/(1.0*k))\\n\\n    #generate the slices\\n    slices = []\\n    for i in range(k-1):\\n        a_slice =  table[i*slice_size:(i+1)*slice_size]\\n        slices.append( a_slice )\\n    slices.append( table[(k-1)*slice_size:] )  # whatever is left\\n    \\n    #do cross validation\\n    all_scores = []\\n    for i in range(k):\\n        test_table = slices[i]\\n        train_table = compute_training(slices, i)\\n        fold_tree = build_tree_iter(train_table, candidate_columns, target, hypers)  # train\\n        scores = produce_scores(test_table, fold_tree, target)  # test\\n        result_row = {\\'name\\':\\'fold_\\'+str(i), \\'accuracy\\':scores[0], \\'f1\\':scores[1], \\'informedness\\':scores[2]}\\n        k_fold_results_table = k_fold_results_table.append(result_row,ignore_index=True)\\n        all_scores.append(scores)\\n        \\n    #compute the average\\n    average = list(reduce(np.add, all_scores[1:], all_scores[0])/k)\\n    result_row = {\\'name\\':\\'average\\', \\'accuracy\\':average[0], \\'f1\\':average[1], \\'informedness\\':average[2]}\\n    k_fold_results_table = k_fold_results_table.append(result_row,ignore_index=True)\\n    \\n    return k_fold_results_table\\n\\ndef foo ():\\n    fum(10)\\n\\n'}"
      ]
     },
     "execution_count": 3,
     "metadata": {
      "tags": []
     },
     "output_type": "execute_result"
    }
   ],
   "source": [
    "from google.colab import files\n",
    "files.upload()"
   ]
  },
  {
   "cell_type": "code",
   "execution_count": 0,
   "metadata": {
    "colab": {
     "base_uri": "https://localhost:8080/",
     "height": 67
    },
    "colab_type": "code",
    "id": "NKKiXDAP72Cs",
    "outputId": "ddcbae7f-eaa6-4f68-c6d0-f42bc00471e0"
   },
   "outputs": [
    {
     "name": "stdout",
     "output_type": "stream",
     "text": [
      "accuracy\t build_pred\t build_tree_iter\t compute_prediction\t compute_training\t f1\t find_best_splitter\t foo\t generate_table\t \n",
      "gig\t gini\t informedness\t k_fold\t path_id\t predictor_case\t probabilities\t produce_scores\t reorder_paths\t \n",
      "tree_predictor\t \n"
     ]
    }
   ],
   "source": [
    "from library_w19_week5 import *\n",
    "\n",
    "%who function\n"
   ]
  },
  {
   "cell_type": "markdown",
   "metadata": {
    "colab_type": "text",
    "id": "Z6qJLQjp6uPv"
   },
   "source": [
    "<hr>\n",
    "<h1>\n",
    "2: Explore depth parameter with 10-folding (10 points)\n",
    "</h1>\n",
    "<p>\n",
    "<div class=h1_cell>\n",
    "<p>\n",
    "In the week 4 module you were asked to explore depths from 1 to 5 without any cross-validation. Go ahead and do it again but using K-folding with K=10.\n",
    "<p>\n",
    "First, define the columns to use. I do that for you below.\n",
    "</div>"
   ]
  },
  {
   "cell_type": "code",
   "execution_count": 0,
   "metadata": {
    "colab": {},
    "colab_type": "code",
    "id": "OdL8BLMW6uPw"
   },
   "outputs": [],
   "source": [
    "splitter_columns = [\n",
    "        #ApplicantIncome\n",
    "       'apin_low', 'apin_high', 'apin_average',\n",
    "        #Property_Area\n",
    "        'pa_Rural', 'pa_Semiurban','pa_Urban',\n",
    "        #LoanAmount\n",
    "        'lam_Low', 'lam_Average', 'lam_High',\n",
    "        #Credit_History\n",
    "        'ch_bad', 'ch_good']"
   ]
  },
  {
   "cell_type": "markdown",
   "metadata": {
    "colab_type": "text",
    "id": "Iut2ZAKT6uP0"
   },
   "source": [
    "<hr>\n",
    "<h2>\n",
    "Show your results below\n",
    "</h2>\n",
    "<p>\n",
    "<div class=h1_cell>\n",
    "<p>\n",
    "Explore depths 1-5 with 10-folding. You can leave the gig cutoff as default value.\n",
    "</div>"
   ]
  },
  {
   "cell_type": "code",
   "execution_count": 0,
   "metadata": {
    "colab": {
     "base_uri": "https://localhost:8080/",
     "height": 373
    },
    "colab_type": "code",
    "id": "87IS1HvC6uP6",
    "outputId": "23fafd0d-5a9d-4887-eaa8-bb5d7a5920f1"
   },
   "outputs": [
    {
     "data": {
      "text/html": [
       "<div>\n",
       "<style scoped>\n",
       "    .dataframe tbody tr th:only-of-type {\n",
       "        vertical-align: middle;\n",
       "    }\n",
       "\n",
       "    .dataframe tbody tr th {\n",
       "        vertical-align: top;\n",
       "    }\n",
       "\n",
       "    .dataframe thead th {\n",
       "        text-align: right;\n",
       "    }\n",
       "</style>\n",
       "<table border=\"1\" class=\"dataframe\">\n",
       "  <thead>\n",
       "    <tr style=\"text-align: right;\">\n",
       "      <th></th>\n",
       "      <th>name</th>\n",
       "      <th>accuracy</th>\n",
       "      <th>f1</th>\n",
       "      <th>informedness</th>\n",
       "    </tr>\n",
       "  </thead>\n",
       "  <tbody>\n",
       "    <tr>\n",
       "      <th>0</th>\n",
       "      <td>fold_0</td>\n",
       "      <td>0.770492</td>\n",
       "      <td>0.847826</td>\n",
       "      <td>0.363636</td>\n",
       "    </tr>\n",
       "    <tr>\n",
       "      <th>1</th>\n",
       "      <td>fold_1</td>\n",
       "      <td>0.852459</td>\n",
       "      <td>0.905263</td>\n",
       "      <td>0.500000</td>\n",
       "    </tr>\n",
       "    <tr>\n",
       "      <th>2</th>\n",
       "      <td>fold_2</td>\n",
       "      <td>0.754098</td>\n",
       "      <td>0.835165</td>\n",
       "      <td>0.330952</td>\n",
       "    </tr>\n",
       "    <tr>\n",
       "      <th>3</th>\n",
       "      <td>fold_3</td>\n",
       "      <td>0.770492</td>\n",
       "      <td>0.860000</td>\n",
       "      <td>0.212567</td>\n",
       "    </tr>\n",
       "    <tr>\n",
       "      <th>4</th>\n",
       "      <td>fold_4</td>\n",
       "      <td>0.803279</td>\n",
       "      <td>0.875000</td>\n",
       "      <td>0.365633</td>\n",
       "    </tr>\n",
       "    <tr>\n",
       "      <th>5</th>\n",
       "      <td>fold_5</td>\n",
       "      <td>0.803279</td>\n",
       "      <td>0.877551</td>\n",
       "      <td>0.330214</td>\n",
       "    </tr>\n",
       "    <tr>\n",
       "      <th>6</th>\n",
       "      <td>fold_6</td>\n",
       "      <td>0.836066</td>\n",
       "      <td>0.886364</td>\n",
       "      <td>0.545455</td>\n",
       "    </tr>\n",
       "    <tr>\n",
       "      <th>7</th>\n",
       "      <td>fold_7</td>\n",
       "      <td>0.868852</td>\n",
       "      <td>0.914894</td>\n",
       "      <td>0.565508</td>\n",
       "    </tr>\n",
       "    <tr>\n",
       "      <th>8</th>\n",
       "      <td>fold_8</td>\n",
       "      <td>0.786885</td>\n",
       "      <td>0.865979</td>\n",
       "      <td>0.310078</td>\n",
       "    </tr>\n",
       "    <tr>\n",
       "      <th>9</th>\n",
       "      <td>fold_9</td>\n",
       "      <td>0.846154</td>\n",
       "      <td>0.895833</td>\n",
       "      <td>0.545455</td>\n",
       "    </tr>\n",
       "    <tr>\n",
       "      <th>10</th>\n",
       "      <td>average</td>\n",
       "      <td>0.809206</td>\n",
       "      <td>0.876388</td>\n",
       "      <td>0.406950</td>\n",
       "    </tr>\n",
       "  </tbody>\n",
       "</table>\n",
       "</div>"
      ],
      "text/plain": [
       "       name  accuracy        f1  informedness\n",
       "0    fold_0  0.770492  0.847826      0.363636\n",
       "1    fold_1  0.852459  0.905263      0.500000\n",
       "2    fold_2  0.754098  0.835165      0.330952\n",
       "3    fold_3  0.770492  0.860000      0.212567\n",
       "4    fold_4  0.803279  0.875000      0.365633\n",
       "5    fold_5  0.803279  0.877551      0.330214\n",
       "6    fold_6  0.836066  0.886364      0.545455\n",
       "7    fold_7  0.868852  0.914894      0.565508\n",
       "8    fold_8  0.786885  0.865979      0.310078\n",
       "9    fold_9  0.846154  0.895833      0.545455\n",
       "10  average  0.809206  0.876388      0.406950"
      ]
     },
     "execution_count": 22,
     "metadata": {
      "tags": []
     },
     "output_type": "execute_result"
    }
   ],
   "source": [
    "table10_1 = \n",
    "table10_1"
   ]
  },
  {
   "cell_type": "code",
   "execution_count": 0,
   "metadata": {
    "colab": {
     "base_uri": "https://localhost:8080/",
     "height": 373
    },
    "colab_type": "code",
    "id": "OaQ698XY6uQA",
    "outputId": "d95c55e8-1b9d-4d79-dc64-14f7d8b66296"
   },
   "outputs": [
    {
     "data": {
      "text/html": [
       "<div>\n",
       "<style scoped>\n",
       "    .dataframe tbody tr th:only-of-type {\n",
       "        vertical-align: middle;\n",
       "    }\n",
       "\n",
       "    .dataframe tbody tr th {\n",
       "        vertical-align: top;\n",
       "    }\n",
       "\n",
       "    .dataframe thead th {\n",
       "        text-align: right;\n",
       "    }\n",
       "</style>\n",
       "<table border=\"1\" class=\"dataframe\">\n",
       "  <thead>\n",
       "    <tr style=\"text-align: right;\">\n",
       "      <th></th>\n",
       "      <th>name</th>\n",
       "      <th>accuracy</th>\n",
       "      <th>f1</th>\n",
       "      <th>informedness</th>\n",
       "    </tr>\n",
       "  </thead>\n",
       "  <tbody>\n",
       "    <tr>\n",
       "      <th>0</th>\n",
       "      <td>fold_0</td>\n",
       "      <td>0.770492</td>\n",
       "      <td>0.847826</td>\n",
       "      <td>0.363636</td>\n",
       "    </tr>\n",
       "    <tr>\n",
       "      <th>1</th>\n",
       "      <td>fold_1</td>\n",
       "      <td>0.852459</td>\n",
       "      <td>0.905263</td>\n",
       "      <td>0.500000</td>\n",
       "    </tr>\n",
       "    <tr>\n",
       "      <th>2</th>\n",
       "      <td>fold_2</td>\n",
       "      <td>0.754098</td>\n",
       "      <td>0.835165</td>\n",
       "      <td>0.330952</td>\n",
       "    </tr>\n",
       "    <tr>\n",
       "      <th>3</th>\n",
       "      <td>fold_3</td>\n",
       "      <td>0.770492</td>\n",
       "      <td>0.860000</td>\n",
       "      <td>0.212567</td>\n",
       "    </tr>\n",
       "    <tr>\n",
       "      <th>4</th>\n",
       "      <td>fold_4</td>\n",
       "      <td>0.803279</td>\n",
       "      <td>0.875000</td>\n",
       "      <td>0.365633</td>\n",
       "    </tr>\n",
       "    <tr>\n",
       "      <th>5</th>\n",
       "      <td>fold_5</td>\n",
       "      <td>0.803279</td>\n",
       "      <td>0.877551</td>\n",
       "      <td>0.330214</td>\n",
       "    </tr>\n",
       "    <tr>\n",
       "      <th>6</th>\n",
       "      <td>fold_6</td>\n",
       "      <td>0.819672</td>\n",
       "      <td>0.876404</td>\n",
       "      <td>0.500000</td>\n",
       "    </tr>\n",
       "    <tr>\n",
       "      <th>7</th>\n",
       "      <td>fold_7</td>\n",
       "      <td>0.868852</td>\n",
       "      <td>0.914894</td>\n",
       "      <td>0.565508</td>\n",
       "    </tr>\n",
       "    <tr>\n",
       "      <th>8</th>\n",
       "      <td>fold_8</td>\n",
       "      <td>0.786885</td>\n",
       "      <td>0.865979</td>\n",
       "      <td>0.310078</td>\n",
       "    </tr>\n",
       "    <tr>\n",
       "      <th>9</th>\n",
       "      <td>fold_9</td>\n",
       "      <td>0.846154</td>\n",
       "      <td>0.895833</td>\n",
       "      <td>0.545455</td>\n",
       "    </tr>\n",
       "    <tr>\n",
       "      <th>10</th>\n",
       "      <td>average</td>\n",
       "      <td>0.807566</td>\n",
       "      <td>0.875392</td>\n",
       "      <td>0.402404</td>\n",
       "    </tr>\n",
       "  </tbody>\n",
       "</table>\n",
       "</div>"
      ],
      "text/plain": [
       "       name  accuracy        f1  informedness\n",
       "0    fold_0  0.770492  0.847826      0.363636\n",
       "1    fold_1  0.852459  0.905263      0.500000\n",
       "2    fold_2  0.754098  0.835165      0.330952\n",
       "3    fold_3  0.770492  0.860000      0.212567\n",
       "4    fold_4  0.803279  0.875000      0.365633\n",
       "5    fold_5  0.803279  0.877551      0.330214\n",
       "6    fold_6  0.819672  0.876404      0.500000\n",
       "7    fold_7  0.868852  0.914894      0.565508\n",
       "8    fold_8  0.786885  0.865979      0.310078\n",
       "9    fold_9  0.846154  0.895833      0.545455\n",
       "10  average  0.807566  0.875392      0.402404"
      ]
     },
     "execution_count": 23,
     "metadata": {
      "tags": []
     },
     "output_type": "execute_result"
    }
   ],
   "source": [
    "table10_2 = \n",
    "table10_2"
   ]
  },
  {
   "cell_type": "code",
   "execution_count": 0,
   "metadata": {
    "colab": {
     "base_uri": "https://localhost:8080/",
     "height": 373
    },
    "colab_type": "code",
    "id": "fe9hIraT6uQH",
    "outputId": "6f3dff2c-f399-4c89-eceb-c0abbd53533d"
   },
   "outputs": [
    {
     "data": {
      "text/html": [
       "<div>\n",
       "<style scoped>\n",
       "    .dataframe tbody tr th:only-of-type {\n",
       "        vertical-align: middle;\n",
       "    }\n",
       "\n",
       "    .dataframe tbody tr th {\n",
       "        vertical-align: top;\n",
       "    }\n",
       "\n",
       "    .dataframe thead th {\n",
       "        text-align: right;\n",
       "    }\n",
       "</style>\n",
       "<table border=\"1\" class=\"dataframe\">\n",
       "  <thead>\n",
       "    <tr style=\"text-align: right;\">\n",
       "      <th></th>\n",
       "      <th>name</th>\n",
       "      <th>accuracy</th>\n",
       "      <th>f1</th>\n",
       "      <th>informedness</th>\n",
       "    </tr>\n",
       "  </thead>\n",
       "  <tbody>\n",
       "    <tr>\n",
       "      <th>0</th>\n",
       "      <td>fold_0</td>\n",
       "      <td>0.770492</td>\n",
       "      <td>0.847826</td>\n",
       "      <td>0.363636</td>\n",
       "    </tr>\n",
       "    <tr>\n",
       "      <th>1</th>\n",
       "      <td>fold_1</td>\n",
       "      <td>0.852459</td>\n",
       "      <td>0.905263</td>\n",
       "      <td>0.500000</td>\n",
       "    </tr>\n",
       "    <tr>\n",
       "      <th>2</th>\n",
       "      <td>fold_2</td>\n",
       "      <td>0.721311</td>\n",
       "      <td>0.808989</td>\n",
       "      <td>0.280952</td>\n",
       "    </tr>\n",
       "    <tr>\n",
       "      <th>3</th>\n",
       "      <td>fold_3</td>\n",
       "      <td>0.770492</td>\n",
       "      <td>0.860000</td>\n",
       "      <td>0.212567</td>\n",
       "    </tr>\n",
       "    <tr>\n",
       "      <th>4</th>\n",
       "      <td>fold_4</td>\n",
       "      <td>0.803279</td>\n",
       "      <td>0.875000</td>\n",
       "      <td>0.365633</td>\n",
       "    </tr>\n",
       "    <tr>\n",
       "      <th>5</th>\n",
       "      <td>fold_5</td>\n",
       "      <td>0.803279</td>\n",
       "      <td>0.877551</td>\n",
       "      <td>0.330214</td>\n",
       "    </tr>\n",
       "    <tr>\n",
       "      <th>6</th>\n",
       "      <td>fold_6</td>\n",
       "      <td>0.819672</td>\n",
       "      <td>0.876404</td>\n",
       "      <td>0.500000</td>\n",
       "    </tr>\n",
       "    <tr>\n",
       "      <th>7</th>\n",
       "      <td>fold_7</td>\n",
       "      <td>0.868852</td>\n",
       "      <td>0.914894</td>\n",
       "      <td>0.565508</td>\n",
       "    </tr>\n",
       "    <tr>\n",
       "      <th>8</th>\n",
       "      <td>fold_8</td>\n",
       "      <td>0.786885</td>\n",
       "      <td>0.865979</td>\n",
       "      <td>0.310078</td>\n",
       "    </tr>\n",
       "    <tr>\n",
       "      <th>9</th>\n",
       "      <td>fold_9</td>\n",
       "      <td>0.846154</td>\n",
       "      <td>0.895833</td>\n",
       "      <td>0.545455</td>\n",
       "    </tr>\n",
       "    <tr>\n",
       "      <th>10</th>\n",
       "      <td>average</td>\n",
       "      <td>0.804288</td>\n",
       "      <td>0.872774</td>\n",
       "      <td>0.397404</td>\n",
       "    </tr>\n",
       "  </tbody>\n",
       "</table>\n",
       "</div>"
      ],
      "text/plain": [
       "       name  accuracy        f1  informedness\n",
       "0    fold_0  0.770492  0.847826      0.363636\n",
       "1    fold_1  0.852459  0.905263      0.500000\n",
       "2    fold_2  0.721311  0.808989      0.280952\n",
       "3    fold_3  0.770492  0.860000      0.212567\n",
       "4    fold_4  0.803279  0.875000      0.365633\n",
       "5    fold_5  0.803279  0.877551      0.330214\n",
       "6    fold_6  0.819672  0.876404      0.500000\n",
       "7    fold_7  0.868852  0.914894      0.565508\n",
       "8    fold_8  0.786885  0.865979      0.310078\n",
       "9    fold_9  0.846154  0.895833      0.545455\n",
       "10  average  0.804288  0.872774      0.397404"
      ]
     },
     "execution_count": 24,
     "metadata": {
      "tags": []
     },
     "output_type": "execute_result"
    }
   ],
   "source": [
    "table10_3 = \n",
    "table10_3"
   ]
  },
  {
   "cell_type": "code",
   "execution_count": 0,
   "metadata": {
    "colab": {
     "base_uri": "https://localhost:8080/",
     "height": 373
    },
    "colab_type": "code",
    "id": "U5_csX796uQN",
    "outputId": "ff8fdc42-63cd-45b1-9f87-349faa8ede8e"
   },
   "outputs": [
    {
     "data": {
      "text/html": [
       "<div>\n",
       "<style scoped>\n",
       "    .dataframe tbody tr th:only-of-type {\n",
       "        vertical-align: middle;\n",
       "    }\n",
       "\n",
       "    .dataframe tbody tr th {\n",
       "        vertical-align: top;\n",
       "    }\n",
       "\n",
       "    .dataframe thead th {\n",
       "        text-align: right;\n",
       "    }\n",
       "</style>\n",
       "<table border=\"1\" class=\"dataframe\">\n",
       "  <thead>\n",
       "    <tr style=\"text-align: right;\">\n",
       "      <th></th>\n",
       "      <th>name</th>\n",
       "      <th>accuracy</th>\n",
       "      <th>f1</th>\n",
       "      <th>informedness</th>\n",
       "    </tr>\n",
       "  </thead>\n",
       "  <tbody>\n",
       "    <tr>\n",
       "      <th>0</th>\n",
       "      <td>fold_0</td>\n",
       "      <td>0.770492</td>\n",
       "      <td>0.847826</td>\n",
       "      <td>0.363636</td>\n",
       "    </tr>\n",
       "    <tr>\n",
       "      <th>1</th>\n",
       "      <td>fold_1</td>\n",
       "      <td>0.852459</td>\n",
       "      <td>0.905263</td>\n",
       "      <td>0.500000</td>\n",
       "    </tr>\n",
       "    <tr>\n",
       "      <th>2</th>\n",
       "      <td>fold_2</td>\n",
       "      <td>0.737705</td>\n",
       "      <td>0.822222</td>\n",
       "      <td>0.305952</td>\n",
       "    </tr>\n",
       "    <tr>\n",
       "      <th>3</th>\n",
       "      <td>fold_3</td>\n",
       "      <td>0.770492</td>\n",
       "      <td>0.860000</td>\n",
       "      <td>0.212567</td>\n",
       "    </tr>\n",
       "    <tr>\n",
       "      <th>4</th>\n",
       "      <td>fold_4</td>\n",
       "      <td>0.803279</td>\n",
       "      <td>0.875000</td>\n",
       "      <td>0.365633</td>\n",
       "    </tr>\n",
       "    <tr>\n",
       "      <th>5</th>\n",
       "      <td>fold_5</td>\n",
       "      <td>0.803279</td>\n",
       "      <td>0.875000</td>\n",
       "      <td>0.366310</td>\n",
       "    </tr>\n",
       "    <tr>\n",
       "      <th>6</th>\n",
       "      <td>fold_6</td>\n",
       "      <td>0.819672</td>\n",
       "      <td>0.876404</td>\n",
       "      <td>0.500000</td>\n",
       "    </tr>\n",
       "    <tr>\n",
       "      <th>7</th>\n",
       "      <td>fold_7</td>\n",
       "      <td>0.868852</td>\n",
       "      <td>0.914894</td>\n",
       "      <td>0.565508</td>\n",
       "    </tr>\n",
       "    <tr>\n",
       "      <th>8</th>\n",
       "      <td>fold_8</td>\n",
       "      <td>0.786885</td>\n",
       "      <td>0.865979</td>\n",
       "      <td>0.310078</td>\n",
       "    </tr>\n",
       "    <tr>\n",
       "      <th>9</th>\n",
       "      <td>fold_9</td>\n",
       "      <td>0.846154</td>\n",
       "      <td>0.895833</td>\n",
       "      <td>0.545455</td>\n",
       "    </tr>\n",
       "    <tr>\n",
       "      <th>10</th>\n",
       "      <td>average</td>\n",
       "      <td>0.805927</td>\n",
       "      <td>0.873842</td>\n",
       "      <td>0.403514</td>\n",
       "    </tr>\n",
       "  </tbody>\n",
       "</table>\n",
       "</div>"
      ],
      "text/plain": [
       "       name  accuracy        f1  informedness\n",
       "0    fold_0  0.770492  0.847826      0.363636\n",
       "1    fold_1  0.852459  0.905263      0.500000\n",
       "2    fold_2  0.737705  0.822222      0.305952\n",
       "3    fold_3  0.770492  0.860000      0.212567\n",
       "4    fold_4  0.803279  0.875000      0.365633\n",
       "5    fold_5  0.803279  0.875000      0.366310\n",
       "6    fold_6  0.819672  0.876404      0.500000\n",
       "7    fold_7  0.868852  0.914894      0.565508\n",
       "8    fold_8  0.786885  0.865979      0.310078\n",
       "9    fold_9  0.846154  0.895833      0.545455\n",
       "10  average  0.805927  0.873842      0.403514"
      ]
     },
     "execution_count": 25,
     "metadata": {
      "tags": []
     },
     "output_type": "execute_result"
    }
   ],
   "source": [
    "table10_4 = \n",
    "table10_4"
   ]
  },
  {
   "cell_type": "code",
   "execution_count": 0,
   "metadata": {
    "colab": {
     "base_uri": "https://localhost:8080/",
     "height": 373
    },
    "colab_type": "code",
    "id": "2FWHU0vR6uQZ",
    "outputId": "1d8bb424-6d4a-4400-ec40-67864eafe5c9"
   },
   "outputs": [
    {
     "data": {
      "text/html": [
       "<div>\n",
       "<style scoped>\n",
       "    .dataframe tbody tr th:only-of-type {\n",
       "        vertical-align: middle;\n",
       "    }\n",
       "\n",
       "    .dataframe tbody tr th {\n",
       "        vertical-align: top;\n",
       "    }\n",
       "\n",
       "    .dataframe thead th {\n",
       "        text-align: right;\n",
       "    }\n",
       "</style>\n",
       "<table border=\"1\" class=\"dataframe\">\n",
       "  <thead>\n",
       "    <tr style=\"text-align: right;\">\n",
       "      <th></th>\n",
       "      <th>name</th>\n",
       "      <th>accuracy</th>\n",
       "      <th>f1</th>\n",
       "      <th>informedness</th>\n",
       "    </tr>\n",
       "  </thead>\n",
       "  <tbody>\n",
       "    <tr>\n",
       "      <th>0</th>\n",
       "      <td>fold_0</td>\n",
       "      <td>0.770492</td>\n",
       "      <td>0.847826</td>\n",
       "      <td>0.363636</td>\n",
       "    </tr>\n",
       "    <tr>\n",
       "      <th>1</th>\n",
       "      <td>fold_1</td>\n",
       "      <td>0.852459</td>\n",
       "      <td>0.905263</td>\n",
       "      <td>0.500000</td>\n",
       "    </tr>\n",
       "    <tr>\n",
       "      <th>2</th>\n",
       "      <td>fold_2</td>\n",
       "      <td>0.754098</td>\n",
       "      <td>0.835165</td>\n",
       "      <td>0.330952</td>\n",
       "    </tr>\n",
       "    <tr>\n",
       "      <th>3</th>\n",
       "      <td>fold_3</td>\n",
       "      <td>0.770492</td>\n",
       "      <td>0.860000</td>\n",
       "      <td>0.212567</td>\n",
       "    </tr>\n",
       "    <tr>\n",
       "      <th>4</th>\n",
       "      <td>fold_4</td>\n",
       "      <td>0.803279</td>\n",
       "      <td>0.875000</td>\n",
       "      <td>0.365633</td>\n",
       "    </tr>\n",
       "    <tr>\n",
       "      <th>5</th>\n",
       "      <td>fold_5</td>\n",
       "      <td>0.803279</td>\n",
       "      <td>0.875000</td>\n",
       "      <td>0.366310</td>\n",
       "    </tr>\n",
       "    <tr>\n",
       "      <th>6</th>\n",
       "      <td>fold_6</td>\n",
       "      <td>0.836066</td>\n",
       "      <td>0.886364</td>\n",
       "      <td>0.545455</td>\n",
       "    </tr>\n",
       "    <tr>\n",
       "      <th>7</th>\n",
       "      <td>fold_7</td>\n",
       "      <td>0.868852</td>\n",
       "      <td>0.914894</td>\n",
       "      <td>0.565508</td>\n",
       "    </tr>\n",
       "    <tr>\n",
       "      <th>8</th>\n",
       "      <td>fold_8</td>\n",
       "      <td>0.754098</td>\n",
       "      <td>0.842105</td>\n",
       "      <td>0.263566</td>\n",
       "    </tr>\n",
       "    <tr>\n",
       "      <th>9</th>\n",
       "      <td>fold_9</td>\n",
       "      <td>0.846154</td>\n",
       "      <td>0.895833</td>\n",
       "      <td>0.545455</td>\n",
       "    </tr>\n",
       "    <tr>\n",
       "      <th>10</th>\n",
       "      <td>average</td>\n",
       "      <td>0.805927</td>\n",
       "      <td>0.873745</td>\n",
       "      <td>0.405908</td>\n",
       "    </tr>\n",
       "  </tbody>\n",
       "</table>\n",
       "</div>"
      ],
      "text/plain": [
       "       name  accuracy        f1  informedness\n",
       "0    fold_0  0.770492  0.847826      0.363636\n",
       "1    fold_1  0.852459  0.905263      0.500000\n",
       "2    fold_2  0.754098  0.835165      0.330952\n",
       "3    fold_3  0.770492  0.860000      0.212567\n",
       "4    fold_4  0.803279  0.875000      0.365633\n",
       "5    fold_5  0.803279  0.875000      0.366310\n",
       "6    fold_6  0.836066  0.886364      0.545455\n",
       "7    fold_7  0.868852  0.914894      0.565508\n",
       "8    fold_8  0.754098  0.842105      0.263566\n",
       "9    fold_9  0.846154  0.895833      0.545455\n",
       "10  average  0.805927  0.873745      0.405908"
      ]
     },
     "execution_count": 26,
     "metadata": {
      "tags": []
     },
     "output_type": "execute_result"
    }
   ],
   "source": [
    "table10_5 = \n",
    "table10_5"
   ]
  },
  {
   "cell_type": "markdown",
   "metadata": {
    "colab_type": "text",
    "id": "onzdITMo6uQf"
   },
   "source": [
    "<hr>\n",
    "<h1>\n",
    "What does it look like to you?\n",
    "</h1>\n",
    "<p>\n",
    "<div class=h1_cell>\n",
    "<p>\n",
    "To me it looks like the stump is best! As we add depth I don't see an improvement. And it looks like results from depth 4 and 5 the same. What I would try next is the gig cutoff and bringing more columns into play (e.g., Gender, Married) by applying ohe to them.\n",
    "</div>"
   ]
  },
  {
   "cell_type": "markdown",
   "metadata": {
    "colab_type": "text",
    "id": "8hRUbj7i6uQh"
   },
   "source": [
    "<hr>\n",
    "<h1>\n",
    "4: Random slices (60 points)\n",
    "</h1>\n",
    "<p>\n",
    "<div class=h1_cell>\n",
    "<p>\n",
    "I'd like you to try one more thing. The `k_fold` function takes slices sequentially. I'd like you to write a function `k_fold_random` that takes random slices *without replacement*. Without replacement means that each slice should have a unique set of rows, i.e., no slices share a row\n",
    "<p>\n",
    "Each slice should be roughly 1/k percent of the entire table.\n",
    "<p>\n",
    "To solve this problem, I found it easiest to play around with loops in a notebook cell before trying to replace code in `k_fold`. My target was the equivalent of this but now with random slices:\n",
    "<pre>\n",
    "<code>\n",
    "    total_len = len(table.index)\n",
    "    slice_size = int(total_len/(1.0`*`k))\n",
    "    slices = []\n",
    "\n",
    "    #generate the slices\n",
    "    for i in range(k-1):\n",
    "        a_slice =  table[i`*`slice_size:(i+1)`*`slice_size]\n",
    "        slices.append( a_slice )\n",
    "    slices.append( table[(k-1)`*`slice_size:] )\n",
    "    \n",
    "    verify_unique(slices)  # I ask you to define this debugging function below\n",
    "</code>\n",
    "</pre>\n",
    "<p>\n",
    "I copied this code into a cell and then started to play around with various ideas until I got one I liked.\n",
    "<p>\n",
    "</div>"
   ]
  },
  {
   "cell_type": "markdown",
   "metadata": {
    "colab_type": "text",
    "id": "2ZFj-lzb_r7I"
   },
   "source": [
    "<h2>Help with debugging</h2>\n",
    "I'll define a debugging function that will take a list of slices and do a pairwise comparison. For each pair, it will print the set intersection between the 2 slices. I give you a few test cases to try."
   ]
  },
  {
   "cell_type": "code",
   "execution_count": 0,
   "metadata": {
    "colab": {},
    "colab_type": "code",
    "id": "4vKnpmzU6uQi"
   },
   "outputs": [],
   "source": [
    "#Determine if slices are mutually exclusive\n",
    "def verify_unique(slices):\n",
    "    print(('total length all slices', sum([len(s) for s in slices])))\n",
    "    for i, a_slice in enumerate(slices[:-1]):\n",
    "        a_set = set(a_slice.index)\n",
    "        for j, b_slice in enumerate(slices[i+1:]):\n",
    "            b_set = set(b_slice.index)\n",
    "            int_set = a_set.intersection(b_set)  # should be empty set as result\n",
    "            print((i,j+i+1,int_set))\n",
    "    return None"
   ]
  },
  {
   "cell_type": "code",
   "execution_count": 0,
   "metadata": {
    "colab": {
     "base_uri": "https://localhost:8080/",
     "height": 84
    },
    "colab_type": "code",
    "id": "B39CV9Zz6uQl",
    "outputId": "56119023-fb54-4a2d-a070-8aedd094ba81"
   },
   "outputs": [
    {
     "name": "stdout",
     "output_type": "stream",
     "text": [
      "('total length all slices', 5)\n",
      "(0, 1, set())\n",
      "(0, 2, set())\n",
      "(1, 2, set())\n"
     ]
    }
   ],
   "source": [
    "#test\n",
    "\n",
    "verify_unique([loan_table[0:2], loan_table[2:4], loan_table[4:5]])  #looks good - enpty set for each pair"
   ]
  },
  {
   "cell_type": "code",
   "execution_count": 0,
   "metadata": {
    "colab": {
     "base_uri": "https://localhost:8080/",
     "height": 84
    },
    "colab_type": "code",
    "id": "OnanZoGm_PSP",
    "outputId": "00df748c-1b60-4626-e7ef-805e246f5017"
   },
   "outputs": [
    {
     "name": "stdout",
     "output_type": "stream",
     "text": [
      "('total length all slices', 9)\n",
      "(0, 1, {1})\n",
      "(0, 2, {1})\n",
      "(1, 2, {1, 2, 3})\n"
     ]
    }
   ],
   "source": [
    "#test\n",
    "\n",
    "verify_unique([loan_table[0:2], loan_table[1:4], loan_table[1:5]])  #not so good, finds intersection between all 3 pairs"
   ]
  },
  {
   "cell_type": "code",
   "execution_count": 0,
   "metadata": {
    "colab": {},
    "colab_type": "code",
    "id": "u4_VZceV6uQt"
   },
   "outputs": [],
   "source": [
    "# here is sequential slice code from k_fold if you want to use it as base.\n",
    "# modify it to produce slices with random rows in each slice.\n",
    "\n",
    "table = loan_table\n",
    "k = 10\n",
    "\n",
    "total_len = len(table.index)\n",
    "split_size = int(total_len/(1.0*k))\n",
    "slices = []\n",
    "\n",
    "#generate the slices\n",
    "for i in range(k-1):\n",
    "    a_slice =  table[i*split_size:(i+1)*split_size]\n",
    "    slices.append( a_slice )\n",
    "slices.append( table[(k-1)*split_size:] )\n",
    "\n",
    "verify_unique(slices)  # should see 614 length and empty sets all the way down\n"
   ]
  },
  {
   "cell_type": "markdown",
   "metadata": {
    "colab_type": "text",
    "id": "_2N8lTi06uQw"
   },
   "source": [
    "<h2>\n",
    "Plug your code in\n",
    "</h2>\n",
    "<p>\n",
    "<div class=h1_cell>\n",
    "<p>\n",
    "Once you are generating slices randomly, you will have k test slices. You can go ahead and place your code into `k_fold_random`. You should now be good to go.\n",
    "<p>\n",
    "One problem with doing random selections is that we will get different results every time we run our code. We will see a way to get repeatable results in next module. For now, you may find that you are not matching my fold results.\n",
    "</div>"
   ]
  },
  {
   "cell_type": "code",
   "execution_count": 0,
   "metadata": {
    "colab": {},
    "colab_type": "code",
    "id": "J4dkFQwb6uQw"
   },
   "outputs": [],
   "source": [
    "def k_fold_random(table, k, target, hypers, candidate_columns):\n",
    "\n"
   ]
  },
  {
   "cell_type": "code",
   "execution_count": 0,
   "metadata": {
    "colab": {
     "base_uri": "https://localhost:8080/",
     "height": 1146
    },
    "colab_type": "code",
    "id": "JgzsHe8z6uQ0",
    "outputId": "dc76946f-4a0b-4c73-f345-6914986fb660"
   },
   "outputs": [
    {
     "name": "stdout",
     "output_type": "stream",
     "text": [
      "('total length all slices', 614)\n",
      "(0, 1, set())\n",
      "(0, 2, set())\n",
      "(0, 3, set())\n",
      "(0, 4, set())\n",
      "(0, 5, set())\n",
      "(0, 6, set())\n",
      "(0, 7, set())\n",
      "(0, 8, set())\n",
      "(0, 9, set())\n",
      "(1, 2, set())\n",
      "(1, 3, set())\n",
      "(1, 4, set())\n",
      "(1, 5, set())\n",
      "(1, 6, set())\n",
      "(1, 7, set())\n",
      "(1, 8, set())\n",
      "(1, 9, set())\n",
      "(2, 3, set())\n",
      "(2, 4, set())\n",
      "(2, 5, set())\n",
      "(2, 6, set())\n",
      "(2, 7, set())\n",
      "(2, 8, set())\n",
      "(2, 9, set())\n",
      "(3, 4, set())\n",
      "(3, 5, set())\n",
      "(3, 6, set())\n",
      "(3, 7, set())\n",
      "(3, 8, set())\n",
      "(3, 9, set())\n",
      "(4, 5, set())\n",
      "(4, 6, set())\n",
      "(4, 7, set())\n",
      "(4, 8, set())\n",
      "(4, 9, set())\n",
      "(5, 6, set())\n",
      "(5, 7, set())\n",
      "(5, 8, set())\n",
      "(5, 9, set())\n",
      "(6, 7, set())\n",
      "(6, 8, set())\n",
      "(6, 9, set())\n",
      "(7, 8, set())\n",
      "(7, 9, set())\n",
      "(8, 9, set())\n"
     ]
    },
    {
     "data": {
      "text/html": [
       "<div>\n",
       "<style scoped>\n",
       "    .dataframe tbody tr th:only-of-type {\n",
       "        vertical-align: middle;\n",
       "    }\n",
       "\n",
       "    .dataframe tbody tr th {\n",
       "        vertical-align: top;\n",
       "    }\n",
       "\n",
       "    .dataframe thead th {\n",
       "        text-align: right;\n",
       "    }\n",
       "</style>\n",
       "<table border=\"1\" class=\"dataframe\">\n",
       "  <thead>\n",
       "    <tr style=\"text-align: right;\">\n",
       "      <th></th>\n",
       "      <th>name</th>\n",
       "      <th>accuracy</th>\n",
       "      <th>f1</th>\n",
       "      <th>informedness</th>\n",
       "    </tr>\n",
       "  </thead>\n",
       "  <tbody>\n",
       "    <tr>\n",
       "      <th>0</th>\n",
       "      <td>fold_0</td>\n",
       "      <td>0.819672</td>\n",
       "      <td>0.899083</td>\n",
       "      <td>0.083333</td>\n",
       "    </tr>\n",
       "    <tr>\n",
       "      <th>1</th>\n",
       "      <td>fold_1</td>\n",
       "      <td>0.770492</td>\n",
       "      <td>0.844444</td>\n",
       "      <td>0.391304</td>\n",
       "    </tr>\n",
       "    <tr>\n",
       "      <th>2</th>\n",
       "      <td>fold_2</td>\n",
       "      <td>0.852459</td>\n",
       "      <td>0.896552</td>\n",
       "      <td>0.601220</td>\n",
       "    </tr>\n",
       "    <tr>\n",
       "      <th>3</th>\n",
       "      <td>fold_3</td>\n",
       "      <td>0.770492</td>\n",
       "      <td>0.860000</td>\n",
       "      <td>0.212567</td>\n",
       "    </tr>\n",
       "    <tr>\n",
       "      <th>4</th>\n",
       "      <td>fold_4</td>\n",
       "      <td>0.754098</td>\n",
       "      <td>0.838710</td>\n",
       "      <td>0.318182</td>\n",
       "    </tr>\n",
       "    <tr>\n",
       "      <th>5</th>\n",
       "      <td>fold_5</td>\n",
       "      <td>0.704918</td>\n",
       "      <td>0.790698</td>\n",
       "      <td>0.304444</td>\n",
       "    </tr>\n",
       "    <tr>\n",
       "      <th>6</th>\n",
       "      <td>fold_6</td>\n",
       "      <td>0.918033</td>\n",
       "      <td>0.947368</td>\n",
       "      <td>0.711594</td>\n",
       "    </tr>\n",
       "    <tr>\n",
       "      <th>7</th>\n",
       "      <td>fold_7</td>\n",
       "      <td>0.819672</td>\n",
       "      <td>0.873563</td>\n",
       "      <td>0.521739</td>\n",
       "    </tr>\n",
       "    <tr>\n",
       "      <th>8</th>\n",
       "      <td>fold_8</td>\n",
       "      <td>0.786885</td>\n",
       "      <td>0.863158</td>\n",
       "      <td>0.350000</td>\n",
       "    </tr>\n",
       "    <tr>\n",
       "      <th>9</th>\n",
       "      <td>fold_9</td>\n",
       "      <td>0.892308</td>\n",
       "      <td>0.933333</td>\n",
       "      <td>0.580000</td>\n",
       "    </tr>\n",
       "    <tr>\n",
       "      <th>10</th>\n",
       "      <td>average</td>\n",
       "      <td>0.808903</td>\n",
       "      <td>0.874691</td>\n",
       "      <td>0.407438</td>\n",
       "    </tr>\n",
       "  </tbody>\n",
       "</table>\n",
       "</div>"
      ],
      "text/plain": [
       "       name  accuracy        f1  informedness\n",
       "0    fold_0  0.819672  0.899083      0.083333\n",
       "1    fold_1  0.770492  0.844444      0.391304\n",
       "2    fold_2  0.852459  0.896552      0.601220\n",
       "3    fold_3  0.770492  0.860000      0.212567\n",
       "4    fold_4  0.754098  0.838710      0.318182\n",
       "5    fold_5  0.704918  0.790698      0.304444\n",
       "6    fold_6  0.918033  0.947368      0.711594\n",
       "7    fold_7  0.819672  0.873563      0.521739\n",
       "8    fold_8  0.786885  0.863158      0.350000\n",
       "9    fold_9  0.892308  0.933333      0.580000\n",
       "10  average  0.808903  0.874691      0.407438"
      ]
     },
     "execution_count": 51,
     "metadata": {
      "tags": []
     },
     "output_type": "execute_result"
    }
   ],
   "source": [
    "k_fold_random(loan_table, 10, 'Loan_Status', {'max-depth': 1}, splitter_columns)\n"
   ]
  },
  {
   "cell_type": "markdown",
   "metadata": {
    "colab_type": "text",
    "id": "eCRnBm7yLs6n"
   },
   "source": [
    "What we got with prior sequential split at depth 1: \n",
    "<pre>\n",
    "10\taverage\t0.809206\t0.876388\t0.406950\n",
    "</pre>"
   ]
  },
  {
   "cell_type": "code",
   "execution_count": 0,
   "metadata": {
    "colab": {
     "base_uri": "https://localhost:8080/",
     "height": 1146
    },
    "colab_type": "code",
    "id": "Ymk6TWaf6uQ3",
    "outputId": "bcabdd58-7f8a-4d1b-c7b2-804baf0d17c1"
   },
   "outputs": [
    {
     "name": "stdout",
     "output_type": "stream",
     "text": [
      "('total length all slices', 614)\n",
      "(0, 1, set())\n",
      "(0, 2, set())\n",
      "(0, 3, set())\n",
      "(0, 4, set())\n",
      "(0, 5, set())\n",
      "(0, 6, set())\n",
      "(0, 7, set())\n",
      "(0, 8, set())\n",
      "(0, 9, set())\n",
      "(1, 2, set())\n",
      "(1, 3, set())\n",
      "(1, 4, set())\n",
      "(1, 5, set())\n",
      "(1, 6, set())\n",
      "(1, 7, set())\n",
      "(1, 8, set())\n",
      "(1, 9, set())\n",
      "(2, 3, set())\n",
      "(2, 4, set())\n",
      "(2, 5, set())\n",
      "(2, 6, set())\n",
      "(2, 7, set())\n",
      "(2, 8, set())\n",
      "(2, 9, set())\n",
      "(3, 4, set())\n",
      "(3, 5, set())\n",
      "(3, 6, set())\n",
      "(3, 7, set())\n",
      "(3, 8, set())\n",
      "(3, 9, set())\n",
      "(4, 5, set())\n",
      "(4, 6, set())\n",
      "(4, 7, set())\n",
      "(4, 8, set())\n",
      "(4, 9, set())\n",
      "(5, 6, set())\n",
      "(5, 7, set())\n",
      "(5, 8, set())\n",
      "(5, 9, set())\n",
      "(6, 7, set())\n",
      "(6, 8, set())\n",
      "(6, 9, set())\n",
      "(7, 8, set())\n",
      "(7, 9, set())\n",
      "(8, 9, set())\n"
     ]
    },
    {
     "data": {
      "text/html": [
       "<div>\n",
       "<style scoped>\n",
       "    .dataframe tbody tr th:only-of-type {\n",
       "        vertical-align: middle;\n",
       "    }\n",
       "\n",
       "    .dataframe tbody tr th {\n",
       "        vertical-align: top;\n",
       "    }\n",
       "\n",
       "    .dataframe thead th {\n",
       "        text-align: right;\n",
       "    }\n",
       "</style>\n",
       "<table border=\"1\" class=\"dataframe\">\n",
       "  <thead>\n",
       "    <tr style=\"text-align: right;\">\n",
       "      <th></th>\n",
       "      <th>name</th>\n",
       "      <th>accuracy</th>\n",
       "      <th>f1</th>\n",
       "      <th>informedness</th>\n",
       "    </tr>\n",
       "  </thead>\n",
       "  <tbody>\n",
       "    <tr>\n",
       "      <th>0</th>\n",
       "      <td>fold_0</td>\n",
       "      <td>0.836066</td>\n",
       "      <td>0.891304</td>\n",
       "      <td>0.500000</td>\n",
       "    </tr>\n",
       "    <tr>\n",
       "      <th>1</th>\n",
       "      <td>fold_1</td>\n",
       "      <td>0.803279</td>\n",
       "      <td>0.853659</td>\n",
       "      <td>0.532222</td>\n",
       "    </tr>\n",
       "    <tr>\n",
       "      <th>2</th>\n",
       "      <td>fold_2</td>\n",
       "      <td>0.754098</td>\n",
       "      <td>0.845361</td>\n",
       "      <td>0.239348</td>\n",
       "    </tr>\n",
       "    <tr>\n",
       "      <th>3</th>\n",
       "      <td>fold_3</td>\n",
       "      <td>0.786885</td>\n",
       "      <td>0.876190</td>\n",
       "      <td>0.112179</td>\n",
       "    </tr>\n",
       "    <tr>\n",
       "      <th>4</th>\n",
       "      <td>fold_4</td>\n",
       "      <td>0.672131</td>\n",
       "      <td>0.782609</td>\n",
       "      <td>0.164760</td>\n",
       "    </tr>\n",
       "    <tr>\n",
       "      <th>5</th>\n",
       "      <td>fold_5</td>\n",
       "      <td>0.868852</td>\n",
       "      <td>0.911111</td>\n",
       "      <td>0.600000</td>\n",
       "    </tr>\n",
       "    <tr>\n",
       "      <th>6</th>\n",
       "      <td>fold_6</td>\n",
       "      <td>0.786885</td>\n",
       "      <td>0.857143</td>\n",
       "      <td>0.403571</td>\n",
       "    </tr>\n",
       "    <tr>\n",
       "      <th>7</th>\n",
       "      <td>fold_7</td>\n",
       "      <td>0.885246</td>\n",
       "      <td>0.926316</td>\n",
       "      <td>0.588235</td>\n",
       "    </tr>\n",
       "    <tr>\n",
       "      <th>8</th>\n",
       "      <td>fold_8</td>\n",
       "      <td>0.803279</td>\n",
       "      <td>0.877551</td>\n",
       "      <td>0.333333</td>\n",
       "    </tr>\n",
       "    <tr>\n",
       "      <th>9</th>\n",
       "      <td>fold_9</td>\n",
       "      <td>0.876923</td>\n",
       "      <td>0.924528</td>\n",
       "      <td>0.500000</td>\n",
       "    </tr>\n",
       "    <tr>\n",
       "      <th>10</th>\n",
       "      <td>average</td>\n",
       "      <td>0.807364</td>\n",
       "      <td>0.874577</td>\n",
       "      <td>0.397365</td>\n",
       "    </tr>\n",
       "  </tbody>\n",
       "</table>\n",
       "</div>"
      ],
      "text/plain": [
       "       name  accuracy        f1  informedness\n",
       "0    fold_0  0.836066  0.891304      0.500000\n",
       "1    fold_1  0.803279  0.853659      0.532222\n",
       "2    fold_2  0.754098  0.845361      0.239348\n",
       "3    fold_3  0.786885  0.876190      0.112179\n",
       "4    fold_4  0.672131  0.782609      0.164760\n",
       "5    fold_5  0.868852  0.911111      0.600000\n",
       "6    fold_6  0.786885  0.857143      0.403571\n",
       "7    fold_7  0.885246  0.926316      0.588235\n",
       "8    fold_8  0.803279  0.877551      0.333333\n",
       "9    fold_9  0.876923  0.924528      0.500000\n",
       "10  average  0.807364  0.874577      0.397365"
      ]
     },
     "execution_count": 52,
     "metadata": {
      "tags": []
     },
     "output_type": "execute_result"
    }
   ],
   "source": [
    "k_fold_random(loan_table, 10, 'Loan_Status', {'max-depth': 2}, splitter_columns)\n"
   ]
  },
  {
   "cell_type": "markdown",
   "metadata": {
    "colab_type": "text",
    "id": "xtgk7PomMKEt"
   },
   "source": [
    "What we got in sequential at depth 2:\n",
    "<pre>\n",
    "10\taverage\t0.807566\t0.875392\t0.402404\n",
    "</pre>\n",
    "Let's try one more."
   ]
  },
  {
   "cell_type": "code",
   "execution_count": 0,
   "metadata": {
    "colab": {
     "base_uri": "https://localhost:8080/",
     "height": 1146
    },
    "colab_type": "code",
    "id": "fUl9_QCa6uQ6",
    "outputId": "a7c3f247-80e1-4128-b963-78196c7c87ea"
   },
   "outputs": [
    {
     "name": "stdout",
     "output_type": "stream",
     "text": [
      "('total length all slices', 614)\n",
      "(0, 1, set())\n",
      "(0, 2, set())\n",
      "(0, 3, set())\n",
      "(0, 4, set())\n",
      "(0, 5, set())\n",
      "(0, 6, set())\n",
      "(0, 7, set())\n",
      "(0, 8, set())\n",
      "(0, 9, set())\n",
      "(1, 2, set())\n",
      "(1, 3, set())\n",
      "(1, 4, set())\n",
      "(1, 5, set())\n",
      "(1, 6, set())\n",
      "(1, 7, set())\n",
      "(1, 8, set())\n",
      "(1, 9, set())\n",
      "(2, 3, set())\n",
      "(2, 4, set())\n",
      "(2, 5, set())\n",
      "(2, 6, set())\n",
      "(2, 7, set())\n",
      "(2, 8, set())\n",
      "(2, 9, set())\n",
      "(3, 4, set())\n",
      "(3, 5, set())\n",
      "(3, 6, set())\n",
      "(3, 7, set())\n",
      "(3, 8, set())\n",
      "(3, 9, set())\n",
      "(4, 5, set())\n",
      "(4, 6, set())\n",
      "(4, 7, set())\n",
      "(4, 8, set())\n",
      "(4, 9, set())\n",
      "(5, 6, set())\n",
      "(5, 7, set())\n",
      "(5, 8, set())\n",
      "(5, 9, set())\n",
      "(6, 7, set())\n",
      "(6, 8, set())\n",
      "(6, 9, set())\n",
      "(7, 8, set())\n",
      "(7, 9, set())\n",
      "(8, 9, set())\n"
     ]
    },
    {
     "data": {
      "text/html": [
       "<div>\n",
       "<style scoped>\n",
       "    .dataframe tbody tr th:only-of-type {\n",
       "        vertical-align: middle;\n",
       "    }\n",
       "\n",
       "    .dataframe tbody tr th {\n",
       "        vertical-align: top;\n",
       "    }\n",
       "\n",
       "    .dataframe thead th {\n",
       "        text-align: right;\n",
       "    }\n",
       "</style>\n",
       "<table border=\"1\" class=\"dataframe\">\n",
       "  <thead>\n",
       "    <tr style=\"text-align: right;\">\n",
       "      <th></th>\n",
       "      <th>name</th>\n",
       "      <th>accuracy</th>\n",
       "      <th>f1</th>\n",
       "      <th>informedness</th>\n",
       "    </tr>\n",
       "  </thead>\n",
       "  <tbody>\n",
       "    <tr>\n",
       "      <th>0</th>\n",
       "      <td>fold_0</td>\n",
       "      <td>0.786885</td>\n",
       "      <td>0.857143</td>\n",
       "      <td>0.409091</td>\n",
       "    </tr>\n",
       "    <tr>\n",
       "      <th>1</th>\n",
       "      <td>fold_1</td>\n",
       "      <td>0.819672</td>\n",
       "      <td>0.867470</td>\n",
       "      <td>0.556064</td>\n",
       "    </tr>\n",
       "    <tr>\n",
       "      <th>2</th>\n",
       "      <td>fold_2</td>\n",
       "      <td>0.786885</td>\n",
       "      <td>0.853933</td>\n",
       "      <td>0.434783</td>\n",
       "    </tr>\n",
       "    <tr>\n",
       "      <th>3</th>\n",
       "      <td>fold_3</td>\n",
       "      <td>0.754098</td>\n",
       "      <td>0.851485</td>\n",
       "      <td>0.143056</td>\n",
       "    </tr>\n",
       "    <tr>\n",
       "      <th>4</th>\n",
       "      <td>fold_4</td>\n",
       "      <td>0.754098</td>\n",
       "      <td>0.835165</td>\n",
       "      <td>0.330952</td>\n",
       "    </tr>\n",
       "    <tr>\n",
       "      <th>5</th>\n",
       "      <td>fold_5</td>\n",
       "      <td>0.721311</td>\n",
       "      <td>0.804598</td>\n",
       "      <td>0.332222</td>\n",
       "    </tr>\n",
       "    <tr>\n",
       "      <th>6</th>\n",
       "      <td>fold_6</td>\n",
       "      <td>0.836066</td>\n",
       "      <td>0.893617</td>\n",
       "      <td>0.483957</td>\n",
       "    </tr>\n",
       "    <tr>\n",
       "      <th>7</th>\n",
       "      <td>fold_7</td>\n",
       "      <td>0.786885</td>\n",
       "      <td>0.868687</td>\n",
       "      <td>0.277778</td>\n",
       "    </tr>\n",
       "    <tr>\n",
       "      <th>8</th>\n",
       "      <td>fold_8</td>\n",
       "      <td>0.852459</td>\n",
       "      <td>0.910891</td>\n",
       "      <td>0.400000</td>\n",
       "    </tr>\n",
       "    <tr>\n",
       "      <th>9</th>\n",
       "      <td>fold_9</td>\n",
       "      <td>0.938462</td>\n",
       "      <td>0.963636</td>\n",
       "      <td>0.666667</td>\n",
       "    </tr>\n",
       "    <tr>\n",
       "      <th>10</th>\n",
       "      <td>average</td>\n",
       "      <td>0.803682</td>\n",
       "      <td>0.870662</td>\n",
       "      <td>0.403457</td>\n",
       "    </tr>\n",
       "  </tbody>\n",
       "</table>\n",
       "</div>"
      ],
      "text/plain": [
       "       name  accuracy        f1  informedness\n",
       "0    fold_0  0.786885  0.857143      0.409091\n",
       "1    fold_1  0.819672  0.867470      0.556064\n",
       "2    fold_2  0.786885  0.853933      0.434783\n",
       "3    fold_3  0.754098  0.851485      0.143056\n",
       "4    fold_4  0.754098  0.835165      0.330952\n",
       "5    fold_5  0.721311  0.804598      0.332222\n",
       "6    fold_6  0.836066  0.893617      0.483957\n",
       "7    fold_7  0.786885  0.868687      0.277778\n",
       "8    fold_8  0.852459  0.910891      0.400000\n",
       "9    fold_9  0.938462  0.963636      0.666667\n",
       "10  average  0.803682  0.870662      0.403457"
      ]
     },
     "execution_count": 53,
     "metadata": {
      "tags": []
     },
     "output_type": "execute_result"
    }
   ],
   "source": [
    "k_fold_random(loan_table, 10, 'Loan_Status', {'max-depth': 3}, splitter_columns)"
   ]
  },
  {
   "cell_type": "markdown",
   "metadata": {
    "colab_type": "text",
    "id": "CI5vixoGNGYA"
   },
   "source": [
    "What we got in sequential at depth 3:\n",
    "<pre>\n",
    "10\taverage\t0.804288\t0.872774\t0.397404\n",
    "</pre>\n",
    "Random looks very close to sequential. With this small a dataset, I could see that happening. In general, random is prefered. With sequential you might be picking up some funny ordering of the rows. Maybe they listed the best applicants first."
   ]
  },
  {
   "cell_type": "markdown",
   "metadata": {
    "colab_type": "text",
    "collapsed": true,
    "id": "R2CUaYb26uRI"
   },
   "source": [
    "<hr>\n",
    "<h1>Did not change loan table</h1>\n",
    "<div class=h1_cell>\n",
    "<p>\n",
    "No need to write it out.\n",
    "</div>"
   ]
  },
  {
   "cell_type": "markdown",
   "metadata": {
    "colab_type": "text",
    "id": "uosFosUkPydB"
   },
   "source": [
    "<hr>\n",
    "<h1>We did change library</h1>\n",
    "<div class=h1_cell>\n",
    "<p>\n",
    "We added `verify_unique` and `k_fold_random`. Add them to your library and call new file `library_w19_5b.py`. I added the `b` to differentiate it from functions we added in intro notebook and top of this one.\n",
    "</div>"
   ]
  },
  {
   "cell_type": "code",
   "execution_count": 0,
   "metadata": {
    "colab": {},
    "colab_type": "code",
    "id": "cErmWPPZmgig"
   },
   "outputs": [],
   "source": []
  }
 ],
 "metadata": {
  "colab": {
   "collapsed_sections": [],
   "name": "kfold_assignment_w19.ipynb",
   "provenance": [],
   "version": "0.3.2"
  },
  "kernelspec": {
   "display_name": "Python 3",
   "language": "python",
   "name": "python3"
  },
  "language_info": {
   "codemirror_mode": {
    "name": "ipython",
    "version": 3
   },
   "file_extension": ".py",
   "mimetype": "text/x-python",
   "name": "python",
   "nbconvert_exporter": "python",
   "pygments_lexer": "ipython3",
   "version": "3.7.1"
  }
 },
 "nbformat": 4,
 "nbformat_minor": 1
}
