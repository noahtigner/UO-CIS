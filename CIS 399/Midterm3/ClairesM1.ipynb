{
  "nbformat": 4,
  "nbformat_minor": 0,
  "metadata": {
    "colab": {
      "name": "midterm1_w19.ipynb",
      "version": "0.3.2",
      "provenance": [],
      "collapsed_sections": []
    },
    "kernelspec": {
      "display_name": "Python 3",
      "language": "python",
      "name": "python3"
    }
  },
  "cells": [
    {
      "metadata": {
        "colab_type": "text",
        "id": "KNw3ZQHrnW7C"
      },
      "cell_type": "markdown",
      "source": [
        "<h1>\n",
        "<center>\n",
        "Midterm 1\n",
        "</center>\n",
        "</h1>\n",
        "<div class=h1_cell>\n",
        "\n",
        "You will be working with a new table. It contains data from movies.\n",
        "  <p>\n",
        "Note I am trying something new to help you check your answers against mine. I am putting my answers into the text cell that introduces the question. Once you get your answer you can scroll up to see if matches my answer.\n",
        "</div>"
      ]
    },
    {
      "metadata": {
        "colab_type": "code",
        "id": "xMcG-rA1nW7D",
        "outputId": "3818146f-47a3-4021-d56e-e70a0780e2c6",
        "colab": {
          "base_uri": "https://localhost:8080/",
          "height": 34
        }
      },
      "cell_type": "code",
      "source": [
        "import pandas as pd\n",
        "import os\n",
        "\n",
        "url = 'https://docs.google.com/spreadsheets/d/e/2PACX-1vTST3CURFkC0lHSfR9mGzBAvCmLWl06kw9NSBC3UuD9hA1SlPjh807BRxfnvhq5hrFyRz5ZCTGrs7fr/pub?output=csv'\n",
        "movie_table = pd.read_csv(url)\n",
        "len(movie_table)"
      ],
      "execution_count": 1,
      "outputs": [
        {
          "output_type": "execute_result",
          "data": {
            "text/plain": [
              "5043"
            ]
          },
          "metadata": {
            "tags": []
          },
          "execution_count": 1
        }
      ]
    },
    {
      "metadata": {
        "colab_type": "code",
        "id": "Ep4klhp43yKD",
        "colab": {
          "base_uri": "https://localhost:8080/",
          "height": 34
        },
        "outputId": "0edc8798-fc2c-4cc2-b6fe-fe0444905587"
      },
      "cell_type": "code",
      "source": [
        "!rm library_w19_week4b.py"
      ],
      "execution_count": 2,
      "outputs": [
        {
          "output_type": "stream",
          "text": [
            "rm: cannot remove 'library_w19_week4b.py': No such file or directory\n"
          ],
          "name": "stdout"
        }
      ]
    },
    {
      "metadata": {
        "colab_type": "code",
        "id": "Ymq7yHk4nW7M",
        "outputId": "72c20808-80c6-44f1-f8d3-22fce242704b",
        "colab": {
          "resources": {
            "http://localhost:8080/nbextensions/google.colab/files.js": {
              "data": "Ly8gQ29weXJpZ2h0IDIwMTcgR29vZ2xlIExMQwovLwovLyBMaWNlbnNlZCB1bmRlciB0aGUgQXBhY2hlIExpY2Vuc2UsIFZlcnNpb24gMi4wICh0aGUgIkxpY2Vuc2UiKTsKLy8geW91IG1heSBub3QgdXNlIHRoaXMgZmlsZSBleGNlcHQgaW4gY29tcGxpYW5jZSB3aXRoIHRoZSBMaWNlbnNlLgovLyBZb3UgbWF5IG9idGFpbiBhIGNvcHkgb2YgdGhlIExpY2Vuc2UgYXQKLy8KLy8gICAgICBodHRwOi8vd3d3LmFwYWNoZS5vcmcvbGljZW5zZXMvTElDRU5TRS0yLjAKLy8KLy8gVW5sZXNzIHJlcXVpcmVkIGJ5IGFwcGxpY2FibGUgbGF3IG9yIGFncmVlZCB0byBpbiB3cml0aW5nLCBzb2Z0d2FyZQovLyBkaXN0cmlidXRlZCB1bmRlciB0aGUgTGljZW5zZSBpcyBkaXN0cmlidXRlZCBvbiBhbiAiQVMgSVMiIEJBU0lTLAovLyBXSVRIT1VUIFdBUlJBTlRJRVMgT1IgQ09ORElUSU9OUyBPRiBBTlkgS0lORCwgZWl0aGVyIGV4cHJlc3Mgb3IgaW1wbGllZC4KLy8gU2VlIHRoZSBMaWNlbnNlIGZvciB0aGUgc3BlY2lmaWMgbGFuZ3VhZ2UgZ292ZXJuaW5nIHBlcm1pc3Npb25zIGFuZAovLyBsaW1pdGF0aW9ucyB1bmRlciB0aGUgTGljZW5zZS4KCi8qKgogKiBAZmlsZW92ZXJ2aWV3IEhlbHBlcnMgZm9yIGdvb2dsZS5jb2xhYiBQeXRob24gbW9kdWxlLgogKi8KKGZ1bmN0aW9uKHNjb3BlKSB7CmZ1bmN0aW9uIHNwYW4odGV4dCwgc3R5bGVBdHRyaWJ1dGVzID0ge30pIHsKICBjb25zdCBlbGVtZW50ID0gZG9jdW1lbnQuY3JlYXRlRWxlbWVudCgnc3BhbicpOwogIGVsZW1lbnQudGV4dENvbnRlbnQgPSB0ZXh0OwogIGZvciAoY29uc3Qga2V5IG9mIE9iamVjdC5rZXlzKHN0eWxlQXR0cmlidXRlcykpIHsKICAgIGVsZW1lbnQuc3R5bGVba2V5XSA9IHN0eWxlQXR0cmlidXRlc1trZXldOwogIH0KICByZXR1cm4gZWxlbWVudDsKfQoKLy8gTWF4IG51bWJlciBvZiBieXRlcyB3aGljaCB3aWxsIGJlIHVwbG9hZGVkIGF0IGEgdGltZS4KY29uc3QgTUFYX1BBWUxPQURfU0laRSA9IDEwMCAqIDEwMjQ7Ci8vIE1heCBhbW91bnQgb2YgdGltZSB0byBibG9jayB3YWl0aW5nIGZvciB0aGUgdXNlci4KY29uc3QgRklMRV9DSEFOR0VfVElNRU9VVF9NUyA9IDMwICogMTAwMDsKCmZ1bmN0aW9uIF91cGxvYWRGaWxlcyhpbnB1dElkLCBvdXRwdXRJZCkgewogIGNvbnN0IHN0ZXBzID0gdXBsb2FkRmlsZXNTdGVwKGlucHV0SWQsIG91dHB1dElkKTsKICBjb25zdCBvdXRwdXRFbGVtZW50ID0gZG9jdW1lbnQuZ2V0RWxlbWVudEJ5SWQob3V0cHV0SWQpOwogIC8vIENhY2hlIHN0ZXBzIG9uIHRoZSBvdXRwdXRFbGVtZW50IHRvIG1ha2UgaXQgYXZhaWxhYmxlIGZvciB0aGUgbmV4dCBjYWxsCiAgLy8gdG8gdXBsb2FkRmlsZXNDb250aW51ZSBmcm9tIFB5dGhvbi4KICBvdXRwdXRFbGVtZW50LnN0ZXBzID0gc3RlcHM7CgogIHJldHVybiBfdXBsb2FkRmlsZXNDb250aW51ZShvdXRwdXRJZCk7Cn0KCi8vIFRoaXMgaXMgcm91Z2hseSBhbiBhc3luYyBnZW5lcmF0b3IgKG5vdCBzdXBwb3J0ZWQgaW4gdGhlIGJyb3dzZXIgeWV0KSwKLy8gd2hlcmUgdGhlcmUgYXJlIG11bHRpcGxlIGFzeW5jaHJvbm91cyBzdGVwcyBhbmQgdGhlIFB5dGhvbiBzaWRlIGlzIGdvaW5nCi8vIHRvIHBvbGwgZm9yIGNvbXBsZXRpb24gb2YgZWFjaCBzdGVwLgovLyBUaGlzIHVzZXMgYSBQcm9taXNlIHRvIGJsb2NrIHRoZSBweXRob24gc2lkZSBvbiBjb21wbGV0aW9uIG9mIGVhY2ggc3RlcCwKLy8gdGhlbiBwYXNzZXMgdGhlIHJlc3VsdCBvZiB0aGUgcHJldmlvdXMgc3RlcCBhcyB0aGUgaW5wdXQgdG8gdGhlIG5leHQgc3RlcC4KZnVuY3Rpb24gX3VwbG9hZEZpbGVzQ29udGludWUob3V0cHV0SWQpIHsKICBjb25zdCBvdXRwdXRFbGVtZW50ID0gZG9jdW1lbnQuZ2V0RWxlbWVudEJ5SWQob3V0cHV0SWQpOwogIGNvbnN0IHN0ZXBzID0gb3V0cHV0RWxlbWVudC5zdGVwczsKCiAgY29uc3QgbmV4dCA9IHN0ZXBzLm5leHQob3V0cHV0RWxlbWVudC5sYXN0UHJvbWlzZVZhbHVlKTsKICByZXR1cm4gUHJvbWlzZS5yZXNvbHZlKG5leHQudmFsdWUucHJvbWlzZSkudGhlbigodmFsdWUpID0+IHsKICAgIC8vIENhY2hlIHRoZSBsYXN0IHByb21pc2UgdmFsdWUgdG8gbWFrZSBpdCBhdmFpbGFibGUgdG8gdGhlIG5leHQKICAgIC8vIHN0ZXAgb2YgdGhlIGdlbmVyYXRvci4KICAgIG91dHB1dEVsZW1lbnQubGFzdFByb21pc2VWYWx1ZSA9IHZhbHVlOwogICAgcmV0dXJuIG5leHQudmFsdWUucmVzcG9uc2U7CiAgfSk7Cn0KCi8qKgogKiBHZW5lcmF0b3IgZnVuY3Rpb24gd2hpY2ggaXMgY2FsbGVkIGJldHdlZW4gZWFjaCBhc3luYyBzdGVwIG9mIHRoZSB1cGxvYWQKICogcHJvY2Vzcy4KICogQHBhcmFtIHtzdHJpbmd9IGlucHV0SWQgRWxlbWVudCBJRCBvZiB0aGUgaW5wdXQgZmlsZSBwaWNrZXIgZWxlbWVudC4KICogQHBhcmFtIHtzdHJpbmd9IG91dHB1dElkIEVsZW1lbnQgSUQgb2YgdGhlIG91dHB1dCBkaXNwbGF5LgogKiBAcmV0dXJuIHshSXRlcmFibGU8IU9iamVjdD59IEl0ZXJhYmxlIG9mIG5leHQgc3RlcHMuCiAqLwpmdW5jdGlvbiogdXBsb2FkRmlsZXNTdGVwKGlucHV0SWQsIG91dHB1dElkKSB7CiAgY29uc3QgaW5wdXRFbGVtZW50ID0gZG9jdW1lbnQuZ2V0RWxlbWVudEJ5SWQoaW5wdXRJZCk7CiAgaW5wdXRFbGVtZW50LmRpc2FibGVkID0gZmFsc2U7CgogIGNvbnN0IG91dHB1dEVsZW1lbnQgPSBkb2N1bWVudC5nZXRFbGVtZW50QnlJZChvdXRwdXRJZCk7CiAgb3V0cHV0RWxlbWVudC5pbm5lckhUTUwgPSAnJzsKCiAgY29uc3QgcGlja2VkUHJvbWlzZSA9IG5ldyBQcm9taXNlKChyZXNvbHZlKSA9PiB7CiAgICBpbnB1dEVsZW1lbnQuYWRkRXZlbnRMaXN0ZW5lcignY2hhbmdlJywgKGUpID0+IHsKICAgICAgcmVzb2x2ZShlLnRhcmdldC5maWxlcyk7CiAgICB9KTsKICB9KTsKCiAgY29uc3QgY2FuY2VsID0gZG9jdW1lbnQuY3JlYXRlRWxlbWVudCgnYnV0dG9uJyk7CiAgaW5wdXRFbGVtZW50LnBhcmVudEVsZW1lbnQuYXBwZW5kQ2hpbGQoY2FuY2VsKTsKICBjYW5jZWwudGV4dENvbnRlbnQgPSAnQ2FuY2VsIHVwbG9hZCc7CiAgY29uc3QgY2FuY2VsUHJvbWlzZSA9IG5ldyBQcm9taXNlKChyZXNvbHZlKSA9PiB7CiAgICBjYW5jZWwub25jbGljayA9ICgpID0+IHsKICAgICAgcmVzb2x2ZShudWxsKTsKICAgIH07CiAgfSk7CgogIC8vIENhbmNlbCB1cGxvYWQgaWYgdXNlciBoYXNuJ3QgcGlja2VkIGFueXRoaW5nIGluIHRpbWVvdXQuCiAgY29uc3QgdGltZW91dFByb21pc2UgPSBuZXcgUHJvbWlzZSgocmVzb2x2ZSkgPT4gewogICAgc2V0VGltZW91dCgoKSA9PiB7CiAgICAgIHJlc29sdmUobnVsbCk7CiAgICB9LCBGSUxFX0NIQU5HRV9USU1FT1VUX01TKTsKICB9KTsKCiAgLy8gV2FpdCBmb3IgdGhlIHVzZXIgdG8gcGljayB0aGUgZmlsZXMuCiAgY29uc3QgZmlsZXMgPSB5aWVsZCB7CiAgICBwcm9taXNlOiBQcm9taXNlLnJhY2UoW3BpY2tlZFByb21pc2UsIHRpbWVvdXRQcm9taXNlLCBjYW5jZWxQcm9taXNlXSksCiAgICByZXNwb25zZTogewogICAgICBhY3Rpb246ICdzdGFydGluZycsCiAgICB9CiAgfTsKCiAgaWYgKCFmaWxlcykgewogICAgcmV0dXJuIHsKICAgICAgcmVzcG9uc2U6IHsKICAgICAgICBhY3Rpb246ICdjb21wbGV0ZScsCiAgICAgIH0KICAgIH07CiAgfQoKICBjYW5jZWwucmVtb3ZlKCk7CgogIC8vIERpc2FibGUgdGhlIGlucHV0IGVsZW1lbnQgc2luY2UgZnVydGhlciBwaWNrcyBhcmUgbm90IGFsbG93ZWQuCiAgaW5wdXRFbGVtZW50LmRpc2FibGVkID0gdHJ1ZTsKCiAgZm9yIChjb25zdCBmaWxlIG9mIGZpbGVzKSB7CiAgICBjb25zdCBsaSA9IGRvY3VtZW50LmNyZWF0ZUVsZW1lbnQoJ2xpJyk7CiAgICBsaS5hcHBlbmQoc3BhbihmaWxlLm5hbWUsIHtmb250V2VpZ2h0OiAnYm9sZCd9KSk7CiAgICBsaS5hcHBlbmQoc3BhbigKICAgICAgICBgKCR7ZmlsZS50eXBlIHx8ICduL2EnfSkgLSAke2ZpbGUuc2l6ZX0gYnl0ZXMsIGAgKwogICAgICAgIGBsYXN0IG1vZGlmaWVkOiAkewogICAgICAgICAgICBmaWxlLmxhc3RNb2RpZmllZERhdGUgPyBmaWxlLmxhc3RNb2RpZmllZERhdGUudG9Mb2NhbGVEYXRlU3RyaW5nKCkgOgogICAgICAgICAgICAgICAgICAgICAgICAgICAgICAgICAgICAnbi9hJ30gLSBgKSk7CiAgICBjb25zdCBwZXJjZW50ID0gc3BhbignMCUgZG9uZScpOwogICAgbGkuYXBwZW5kQ2hpbGQocGVyY2VudCk7CgogICAgb3V0cHV0RWxlbWVudC5hcHBlbmRDaGlsZChsaSk7CgogICAgY29uc3QgZmlsZURhdGFQcm9taXNlID0gbmV3IFByb21pc2UoKHJlc29sdmUpID0+IHsKICAgICAgY29uc3QgcmVhZGVyID0gbmV3IEZpbGVSZWFkZXIoKTsKICAgICAgcmVhZGVyLm9ubG9hZCA9IChlKSA9PiB7CiAgICAgICAgcmVzb2x2ZShlLnRhcmdldC5yZXN1bHQpOwogICAgICB9OwogICAgICByZWFkZXIucmVhZEFzQXJyYXlCdWZmZXIoZmlsZSk7CiAgICB9KTsKICAgIC8vIFdhaXQgZm9yIHRoZSBkYXRhIHRvIGJlIHJlYWR5LgogICAgbGV0IGZpbGVEYXRhID0geWllbGQgewogICAgICBwcm9taXNlOiBmaWxlRGF0YVByb21pc2UsCiAgICAgIHJlc3BvbnNlOiB7CiAgICAgICAgYWN0aW9uOiAnY29udGludWUnLAogICAgICB9CiAgICB9OwoKICAgIC8vIFVzZSBhIGNodW5rZWQgc2VuZGluZyB0byBhdm9pZCBtZXNzYWdlIHNpemUgbGltaXRzLiBTZWUgYi82MjExNTY2MC4KICAgIGxldCBwb3NpdGlvbiA9IDA7CiAgICB3aGlsZSAocG9zaXRpb24gPCBmaWxlRGF0YS5ieXRlTGVuZ3RoKSB7CiAgICAgIGNvbnN0IGxlbmd0aCA9IE1hdGgubWluKGZpbGVEYXRhLmJ5dGVMZW5ndGggLSBwb3NpdGlvbiwgTUFYX1BBWUxPQURfU0laRSk7CiAgICAgIGNvbnN0IGNodW5rID0gbmV3IFVpbnQ4QXJyYXkoZmlsZURhdGEsIHBvc2l0aW9uLCBsZW5ndGgpOwogICAgICBwb3NpdGlvbiArPSBsZW5ndGg7CgogICAgICBjb25zdCBiYXNlNjQgPSBidG9hKFN0cmluZy5mcm9tQ2hhckNvZGUuYXBwbHkobnVsbCwgY2h1bmspKTsKICAgICAgeWllbGQgewogICAgICAgIHJlc3BvbnNlOiB7CiAgICAgICAgICBhY3Rpb246ICdhcHBlbmQnLAogICAgICAgICAgZmlsZTogZmlsZS5uYW1lLAogICAgICAgICAgZGF0YTogYmFzZTY0LAogICAgICAgIH0sCiAgICAgIH07CiAgICAgIHBlcmNlbnQudGV4dENvbnRlbnQgPQogICAgICAgICAgYCR7TWF0aC5yb3VuZCgocG9zaXRpb24gLyBmaWxlRGF0YS5ieXRlTGVuZ3RoKSAqIDEwMCl9JSBkb25lYDsKICAgIH0KICB9CgogIC8vIEFsbCBkb25lLgogIHlpZWxkIHsKICAgIHJlc3BvbnNlOiB7CiAgICAgIGFjdGlvbjogJ2NvbXBsZXRlJywKICAgIH0KICB9Owp9CgpzY29wZS5nb29nbGUgPSBzY29wZS5nb29nbGUgfHwge307CnNjb3BlLmdvb2dsZS5jb2xhYiA9IHNjb3BlLmdvb2dsZS5jb2xhYiB8fCB7fTsKc2NvcGUuZ29vZ2xlLmNvbGFiLl9maWxlcyA9IHsKICBfdXBsb2FkRmlsZXMsCiAgX3VwbG9hZEZpbGVzQ29udGludWUsCn07Cn0pKHNlbGYpOwo=",
              "ok": true,
              "headers": [
                [
                  "content-type",
                  "application/javascript"
                ]
              ],
              "status": 200,
              "status_text": ""
            }
          },
          "base_uri": "https://localhost:8080/",
          "height": 106
        }
      },
      "cell_type": "code",
      "source": [
        "#load the lbirary from week 4\n",
        "from google.colab import files\n",
        "files.upload()"
      ],
      "execution_count": 3,
      "outputs": [
        {
          "output_type": "display_data",
          "data": {
            "text/html": [
              "\n",
              "     <input type=\"file\" id=\"files-b1f41cce-50f1-40ef-a560-9a2203a190b2\" name=\"files[]\" multiple disabled />\n",
              "     <output id=\"result-b1f41cce-50f1-40ef-a560-9a2203a190b2\">\n",
              "      Upload widget is only available when the cell has been executed in the\n",
              "      current browser session. Please rerun this cell to enable.\n",
              "      </output>\n",
              "      <script src=\"/nbextensions/google.colab/files.js\"></script> "
            ],
            "text/plain": [
              "<IPython.core.display.HTML object>"
            ]
          },
          "metadata": {
            "tags": []
          }
        },
        {
          "output_type": "stream",
          "text": [
            "Saving library_w19_week4b.py to library_w19_week4b.py\n"
          ],
          "name": "stdout"
        },
        {
          "output_type": "execute_result",
          "data": {
            "text/plain": [
              "{'library_w19_week4b.py': b'def predictor_case(row, pred, target):\\n  case_dict = {(0,0): \\'true_negative\\', (1,1): \\'true_positive\\', (0,1): \\'false_negative\\', (1,0): \\'false_positive\\'}\\n  actual = row[target]\\n  prediction = row[pred]\\n  case = case_dict[(prediction, actual)]\\n  return case\\n\\ndef accuracy(cases):\\n    tp = cases[\\'true_positive\\']\\n    tn = cases[\\'true_negative\\']\\n    fp = cases[\\'false_positive\\']\\n    fn = cases[\\'false_negative\\']\\n    return (tp + tn)/(tp+tn+fp+fn)\\n\\ndef f1(cases):\\n    \\n    #the heart of the matrix\\n    tp = cases[\\'true_positive\\']\\n    fn = cases[\\'false_negative\\']\\n    tn = cases[\\'true_negative\\']\\n    fp = cases[\\'false_positive\\']\\n    \\n    #other measures we can derive\\n    recall = 1.0*tp/(tp+fn)  # positive correct divided by total positive in the table\\n    precision = 1.0*tp/(tp+fp) # positive correct divided by all positive predictions made\\n    \\n    #now for the one we want\\n    f1 = 2/(1/recall + 1/precision)\\n    \\n    return f1\\n\\ndef informedness(cases):\\n    tp = cases[\\'true_positive\\']\\n    fn = cases[\\'false_negative\\']\\n    tn = cases[\\'true_negative\\']\\n    fp = cases[\\'false_positive\\']\\n    recall = 1.0*tp/(tp+fn)  # positive correct divided by total positive in the table\\n    specificty = 1.0*tn/(tn+fp) # negative correct divided by total negative in the table\\n    J = (recall + specificty) - 1\\n    return J\\n\\ndef probabilities(counts):\\n    count_0 = 0 if 0 not in counts else counts[0]  #could have no 0 values\\n    count_1 = 0 if 1 not in counts else counts[1]\\n    total = count_0 + count_1\\n    probs = (0,0) if total == 0 else (count_0/total, count_1/total)  #build 2-tuple\\n    return probs\\n\\ndef gini(counts):\\n    (p0,p1) = probabilities(counts)\\n    sum_probs = p0**2 + p1**2\\n    gini = 1 - sum_probs\\n    return gini\\n\\ndef gig(starting_table, split_column, target_column):\\n    \\n    #split into two branches, i.e., two sub-tables\\n    true_table = starting_table.loc[starting_table[split_column] == 1]\\n    false_table = starting_table.loc[starting_table[split_column] == 0]\\n    \\n    #Now see how the target column is divided up in each sub-table (and the starting table)\\n    true_counts = true_table[target_column].value_counts()  # Note using true_table and not starting_table\\n    false_counts = false_table[target_column].value_counts()  # Note using false_table and not starting_table\\n    starting_counts = starting_table[target_column].value_counts() \\n    \\n    #compute the gini impurity for the 3 tables\\n    starting_gini = gini(starting_counts)\\n    true_gini = gini(true_counts)\\n    false_gini = gini(false_counts)\\n\\n    #compute the weights\\n    starting_size = len(starting_table.index)\\n    true_weight = 0.0 if starting_size == 0 else len(true_table.index)/starting_size\\n    false_weight = 0.0 if starting_size == 0 else len(false_table.index)/starting_size\\n    \\n    #wrap it up and put on a bow\\n    gig = starting_gini - (true_weight * true_gini + false_weight * false_gini)\\n    \\n    return gig\\n    \\ndef build_pred(column, branch):\\n    return lambda row: row[column] == branch\\n\\ndef find_best_splitter(table, choice_list, target):\\n  \\n    assert (len(table)>0),\"Cannot split empty table\"\\n    assert (target in table),\"Target must be column in table\"\\n    \\n    gig_scores = map(lambda col: (col, gig(table, col, target)), choice_list)  #compute tuple (col, gig) for each column\\n    gig_sorted = sorted(gig_scores, key=lambda item: item[1], reverse=True)  # sort on gig\\n    return gig_sorted\\n\\nfrom functools import reduce\\n\\ndef generate_table(table, conjunction):\\n  \\n    assert (len(table)>0),\"Cannot generate from empty table\"\\n\\n    sub_table = reduce(lambda subtable, pair: subtable.loc[pair[1]], conjunction, table)\\n    return sub_table\\n\\ndef compute_prediction(table, target):\\n  \\n    assert (len(table)>0),\"Cannot predict from empty table\"\\n    assert (target in table),\"Target must be column in table\"\\n    \\n    counts = table[target].value_counts()  # counts looks like {0: v1, 1: v2}\\n\\n    if 0 not in counts:\\n        prediction = 1\\n    elif 1 not in counts:\\n        prediction = 0\\n    elif counts[1] > counts[0]:  # ties go to 0 (negative)\\n        prediction = 1\\n    else:\\n        prediction = 0\\n\\n    return prediction\\n  \\n\\ndef build_tree_iter(table, choices, target, hypers={} ):\\n\\n    assert (len(choices)>0),\"Must have at least one column in choices\"\\n    assert (target in table), \"Target column not in table\"\\n    assert (len(table) > 1), \"Table must have more than 1 row\"\\n    \\n    k = hypers[\\'max-depth\\'] if \\'max-depth\\' in hypers else min(4, len(choices))\\n    gig_cutoff = hypers[\\'gig-cutoff\\'] if \\'gig-cutoff\\' in hypers else 0.0\\n    \\n    def iterative_build(k):\\n        columns_sorted = find_best_splitter(table, choices, target)\\n        (best_column, gig_value) = columns_sorted[0]\\n        \\n        #Note I add _1 or _0 to make it more readable for debugging\\n        current_paths = [{\\'conjunction\\': [(best_column+\\'_1\\', build_pred(best_column, 1))],\\n                          \\'prediction\\': None,\\n                          \\'gig_score\\': gig_value},\\n                         {\\'conjunction\\': [(best_column+\\'_0\\', build_pred(best_column, 0))],\\n                          \\'prediction\\': None,\\n                          \\'gig_score\\': gig_value}\\n                        ]\\n        k -= 1  # we just built a level as seed so subtract 1 from k\\n        tree_paths = []  # add completed paths here\\n        \\n        while k>0:\\n            new_paths = []\\n            for path in current_paths:\\n                old_conjunction = path[\\'conjunction\\']  # a list of (name, lambda)\\n                before_table = generate_table(table, old_conjunction)  #the subtable the current conjunct leads to\\n                columns_sorted = find_best_splitter(before_table, choices, target)\\n                (best_column, gig_value) = columns_sorted[0]\\n                if gig_value > gig_cutoff:\\n                    new_path_1 = {\\'conjunction\\': old_conjunction + [(best_column+\\'_1\\', build_pred(best_column, 1))],\\n                                \\'prediction\\': None,\\n                                 \\'gig_score\\': gig_value}\\n                    new_paths.append( new_path_1 ) #true\\n                    new_path_0 = {\\'conjunction\\': old_conjunction + [(best_column+\\'_0\\', build_pred(best_column, 0))],\\n                                \\'prediction\\': None,\\n                                 \\'gig_score\\': gig_value}\\n                    new_paths.append( new_path_0 ) #false\\n                else:\\n                    #not worth splitting so complete the path with a prediction\\n                    path[\\'prediction\\'] = compute_prediction(before_table, target)\\n                    tree_paths.append(path)\\n            #end for loop\\n            \\n            current_paths = new_paths\\n            if current_paths != []:\\n                k -= 1\\n            else:\\n                break  # nothing left to extend so have copied all paths to tree_paths\\n        #end while loop\\n\\n        #Generate predictions for all paths that have None\\n        for path in current_paths:\\n            conjunction = path[\\'conjunction\\']\\n            before_table = generate_table(table, conjunction)\\n            path[\\'prediction\\'] = compute_prediction(before_table, target)\\n            tree_paths.append(path)\\n        return tree_paths\\n\\n    return {\\'paths\\': iterative_build(k), \\'weight\\': None}\\n\\n\\ndef tree_predictor(row, tree):\\n    \\n    #go through each path, one by one (could use a map instead of for loop?)\\n    for path in tree[\\'paths\\']:\\n        conjuncts = path[\\'conjunction\\']\\n        result = map(lambda tuple: tuple[1](row), conjuncts)  # potential to be parallelized\\n        if all(result):\\n            return path[\\'prediction\\']\\n    raise LookupError(\\'No true paths found for row: \\' + str(row))\\n\\ndef path_id(row, tree):\\n  assert (len(tree[\\'paths\\']) > 0), \"Tree must have at least one path\"\\n  counter = 0 # a counter to keep track of current index\\n  for path in tree[\\'paths\\']: \\n    boolean_list = map(lambda pair: pair[1](row), path[\\'conjunction\\'])\\n    b = list(boolean_list)\\n    if (all(b)): \\n      return counter\\n    else: counter+=1\\n\\ndef reorder_paths(table, tree):\\n  count = table.apply(lambda row: path_id(row, tree), axis=1)  # get the counts\\n  pdict = dict(count.value_counts())#convert to dict\\n  newl = list(pdict.items())#convert to list\\n  newl.sort(key=lambda tup: tup[1],reverse=True) #sort the list of paths\\n  paths = map(lambda f: tree[\\'paths\\'][f[0]] , newl)\\n  return(list(paths))\\n\\n'}"
            ]
          },
          "metadata": {
            "tags": []
          },
          "execution_count": 3
        }
      ]
    },
    {
      "metadata": {
        "colab_type": "code",
        "id": "iuYUFdX_3_FJ",
        "outputId": "5edb45e1-5e40-4c8a-998a-d3baf04b6d39",
        "colab": {
          "base_uri": "https://localhost:8080/",
          "height": 71
        }
      },
      "cell_type": "code",
      "source": [
        "from library_w19_week4b import *\n",
        "%who function"
      ],
      "execution_count": 4,
      "outputs": [
        {
          "output_type": "stream",
          "text": [
            "accuracy\t build_pred\t build_tree_iter\t compute_prediction\t f1\t find_best_splitter\t generate_table\t gig\t gini\t \n",
            "informedness\t path_id\t predictor_case\t probabilities\t reorder_paths\t tree_predictor\t \n"
          ],
          "name": "stdout"
        }
      ]
    },
    {
      "metadata": {
        "colab_type": "text",
        "id": "iYSJMcJsnW7c"
      },
      "cell_type": "markdown",
      "source": [
        "<div class=h1_cell>\n",
        "\n",
        "Roughly 5000 rows x 29 columns.\n",
        "\n",
        "</div>"
      ]
    },
    {
      "metadata": {
        "colab_type": "text",
        "id": "YzKyXI9inW7h"
      },
      "cell_type": "markdown",
      "source": [
        "<div class=h1_cell>\n",
        "\n",
        "Let's drop columns we will not be using in this practice midterm.\n",
        "\n",
        "</div>"
      ]
    },
    {
      "metadata": {
        "colab_type": "code",
        "id": "2yxgStHInW7j",
        "colab": {}
      },
      "cell_type": "code",
      "source": [
        "drop_list = [\n",
        "     'director_name',\n",
        "     'num_critic_for_reviews',\n",
        "     'duration',\n",
        "     'director_facebook_likes',\n",
        "     'actor_3_facebook_likes',\n",
        "     'actor_2_name',\n",
        "     'actor_1_facebook_likes',\n",
        "     'gross',\n",
        "     'actor_1_name',\n",
        "     'movie_title',\n",
        "     'num_voted_users',\n",
        "     'cast_total_facebook_likes',\n",
        "     'actor_3_name',\n",
        "     'facenumber_in_poster',\n",
        "     'plot_keywords',\n",
        "     'movie_imdb_link',\n",
        "     'num_user_for_reviews',\n",
        "     'language',\n",
        "     'content_rating',\n",
        "     'title_year',\n",
        "     'actor_2_facebook_likes',\n",
        "     'aspect_ratio',\n",
        "     'movie_facebook_likes'\n",
        "]"
      ],
      "execution_count": 0,
      "outputs": []
    },
    {
      "metadata": {
        "colab_type": "code",
        "id": "7f7XphKFnW7m",
        "outputId": "dca9d8ea-021c-480c-a4a5-1e9f61d1b70f",
        "colab": {
          "base_uri": "https://localhost:8080/",
          "height": 204
        }
      },
      "cell_type": "code",
      "source": [
        "movie_table = movie_table.drop(drop_list, axis=1)\n",
        "movie_table.head()"
      ],
      "execution_count": 6,
      "outputs": [
        {
          "output_type": "execute_result",
          "data": {
            "text/html": [
              "<div>\n",
              "<style scoped>\n",
              "    .dataframe tbody tr th:only-of-type {\n",
              "        vertical-align: middle;\n",
              "    }\n",
              "\n",
              "    .dataframe tbody tr th {\n",
              "        vertical-align: top;\n",
              "    }\n",
              "\n",
              "    .dataframe thead th {\n",
              "        text-align: right;\n",
              "    }\n",
              "</style>\n",
              "<table border=\"1\" class=\"dataframe\">\n",
              "  <thead>\n",
              "    <tr style=\"text-align: right;\">\n",
              "      <th></th>\n",
              "      <th>color</th>\n",
              "      <th>genres</th>\n",
              "      <th>country</th>\n",
              "      <th>budget</th>\n",
              "      <th>imdb_score</th>\n",
              "    </tr>\n",
              "  </thead>\n",
              "  <tbody>\n",
              "    <tr>\n",
              "      <th>0</th>\n",
              "      <td>Color</td>\n",
              "      <td>Action|Adventure|Fantasy|Sci-Fi</td>\n",
              "      <td>USA</td>\n",
              "      <td>237000000.0</td>\n",
              "      <td>7.9</td>\n",
              "    </tr>\n",
              "    <tr>\n",
              "      <th>1</th>\n",
              "      <td>Color</td>\n",
              "      <td>Action|Adventure|Fantasy</td>\n",
              "      <td>USA</td>\n",
              "      <td>300000000.0</td>\n",
              "      <td>7.1</td>\n",
              "    </tr>\n",
              "    <tr>\n",
              "      <th>2</th>\n",
              "      <td>Color</td>\n",
              "      <td>Action|Adventure|Thriller</td>\n",
              "      <td>UK</td>\n",
              "      <td>245000000.0</td>\n",
              "      <td>6.8</td>\n",
              "    </tr>\n",
              "    <tr>\n",
              "      <th>3</th>\n",
              "      <td>Color</td>\n",
              "      <td>Action|Thriller</td>\n",
              "      <td>USA</td>\n",
              "      <td>250000000.0</td>\n",
              "      <td>8.5</td>\n",
              "    </tr>\n",
              "    <tr>\n",
              "      <th>4</th>\n",
              "      <td>NaN</td>\n",
              "      <td>Documentary</td>\n",
              "      <td>NaN</td>\n",
              "      <td>NaN</td>\n",
              "      <td>7.1</td>\n",
              "    </tr>\n",
              "  </tbody>\n",
              "</table>\n",
              "</div>"
            ],
            "text/plain": [
              "   color                           genres country       budget  imdb_score\n",
              "0  Color  Action|Adventure|Fantasy|Sci-Fi     USA  237000000.0         7.9\n",
              "1  Color         Action|Adventure|Fantasy     USA  300000000.0         7.1\n",
              "2  Color        Action|Adventure|Thriller      UK  245000000.0         6.8\n",
              "3  Color                  Action|Thriller     USA  250000000.0         8.5\n",
              "4    NaN                      Documentary     NaN          NaN         7.1"
            ]
          },
          "metadata": {
            "tags": []
          },
          "execution_count": 6
        }
      ]
    },
    {
      "metadata": {
        "colab_type": "code",
        "id": "SDgxSMYfnW7R",
        "scrolled": true,
        "colab": {}
      },
      "cell_type": "code",
      "source": [
        "pd.set_option('display.max_columns', None)\n"
      ],
      "execution_count": 0,
      "outputs": []
    },
    {
      "metadata": {
        "colab_type": "code",
        "id": "uxQQ3S24nW7X",
        "outputId": "2df58085-11b9-4c9b-c275-b3945c491eaa",
        "colab": {
          "base_uri": "https://localhost:8080/",
          "height": 390
        }
      },
      "cell_type": "code",
      "source": [
        "movie_table.describe(include='all')"
      ],
      "execution_count": 8,
      "outputs": [
        {
          "output_type": "execute_result",
          "data": {
            "text/html": [
              "<div>\n",
              "<style scoped>\n",
              "    .dataframe tbody tr th:only-of-type {\n",
              "        vertical-align: middle;\n",
              "    }\n",
              "\n",
              "    .dataframe tbody tr th {\n",
              "        vertical-align: top;\n",
              "    }\n",
              "\n",
              "    .dataframe thead th {\n",
              "        text-align: right;\n",
              "    }\n",
              "</style>\n",
              "<table border=\"1\" class=\"dataframe\">\n",
              "  <thead>\n",
              "    <tr style=\"text-align: right;\">\n",
              "      <th></th>\n",
              "      <th>color</th>\n",
              "      <th>genres</th>\n",
              "      <th>country</th>\n",
              "      <th>budget</th>\n",
              "      <th>imdb_score</th>\n",
              "    </tr>\n",
              "  </thead>\n",
              "  <tbody>\n",
              "    <tr>\n",
              "      <th>count</th>\n",
              "      <td>5024</td>\n",
              "      <td>5043</td>\n",
              "      <td>5038</td>\n",
              "      <td>4.551000e+03</td>\n",
              "      <td>5043.000000</td>\n",
              "    </tr>\n",
              "    <tr>\n",
              "      <th>unique</th>\n",
              "      <td>2</td>\n",
              "      <td>914</td>\n",
              "      <td>65</td>\n",
              "      <td>NaN</td>\n",
              "      <td>NaN</td>\n",
              "    </tr>\n",
              "    <tr>\n",
              "      <th>top</th>\n",
              "      <td>Color</td>\n",
              "      <td>Drama</td>\n",
              "      <td>USA</td>\n",
              "      <td>NaN</td>\n",
              "      <td>NaN</td>\n",
              "    </tr>\n",
              "    <tr>\n",
              "      <th>freq</th>\n",
              "      <td>4815</td>\n",
              "      <td>236</td>\n",
              "      <td>3807</td>\n",
              "      <td>NaN</td>\n",
              "      <td>NaN</td>\n",
              "    </tr>\n",
              "    <tr>\n",
              "      <th>mean</th>\n",
              "      <td>NaN</td>\n",
              "      <td>NaN</td>\n",
              "      <td>NaN</td>\n",
              "      <td>3.975262e+07</td>\n",
              "      <td>6.442138</td>\n",
              "    </tr>\n",
              "    <tr>\n",
              "      <th>std</th>\n",
              "      <td>NaN</td>\n",
              "      <td>NaN</td>\n",
              "      <td>NaN</td>\n",
              "      <td>2.061149e+08</td>\n",
              "      <td>1.125116</td>\n",
              "    </tr>\n",
              "    <tr>\n",
              "      <th>min</th>\n",
              "      <td>NaN</td>\n",
              "      <td>NaN</td>\n",
              "      <td>NaN</td>\n",
              "      <td>2.180000e+02</td>\n",
              "      <td>1.600000</td>\n",
              "    </tr>\n",
              "    <tr>\n",
              "      <th>25%</th>\n",
              "      <td>NaN</td>\n",
              "      <td>NaN</td>\n",
              "      <td>NaN</td>\n",
              "      <td>6.000000e+06</td>\n",
              "      <td>5.800000</td>\n",
              "    </tr>\n",
              "    <tr>\n",
              "      <th>50%</th>\n",
              "      <td>NaN</td>\n",
              "      <td>NaN</td>\n",
              "      <td>NaN</td>\n",
              "      <td>2.000000e+07</td>\n",
              "      <td>6.600000</td>\n",
              "    </tr>\n",
              "    <tr>\n",
              "      <th>75%</th>\n",
              "      <td>NaN</td>\n",
              "      <td>NaN</td>\n",
              "      <td>NaN</td>\n",
              "      <td>4.500000e+07</td>\n",
              "      <td>7.200000</td>\n",
              "    </tr>\n",
              "    <tr>\n",
              "      <th>max</th>\n",
              "      <td>NaN</td>\n",
              "      <td>NaN</td>\n",
              "      <td>NaN</td>\n",
              "      <td>1.221550e+10</td>\n",
              "      <td>9.500000</td>\n",
              "    </tr>\n",
              "  </tbody>\n",
              "</table>\n",
              "</div>"
            ],
            "text/plain": [
              "        color genres country        budget   imdb_score\n",
              "count    5024   5043    5038  4.551000e+03  5043.000000\n",
              "unique      2    914      65           NaN          NaN\n",
              "top     Color  Drama     USA           NaN          NaN\n",
              "freq     4815    236    3807           NaN          NaN\n",
              "mean      NaN    NaN     NaN  3.975262e+07     6.442138\n",
              "std       NaN    NaN     NaN  2.061149e+08     1.125116\n",
              "min       NaN    NaN     NaN  2.180000e+02     1.600000\n",
              "25%       NaN    NaN     NaN  6.000000e+06     5.800000\n",
              "50%       NaN    NaN     NaN  2.000000e+07     6.600000\n",
              "75%       NaN    NaN     NaN  4.500000e+07     7.200000\n",
              "max       NaN    NaN     NaN  1.221550e+10     9.500000"
            ]
          },
          "metadata": {
            "tags": []
          },
          "execution_count": 8
        }
      ]
    },
    {
      "metadata": {
        "colab_type": "text",
        "collapsed": true,
        "id": "nU4YPvy4nW7r"
      },
      "cell_type": "markdown",
      "source": [
        "<hr>\n",
        "<h1>\n",
        "1: Produce new target column (10 points)\n",
        "</h1>\n",
        "<p>\n",
        "<div class=h1_cell>\n",
        "<p>\n",
        "I'd like a new binary column that will act as our target. Call the new column `winner`. Set its value as follows:\n",
        "if `imdb_score >= 7.5` the value is `1` else `0`.\n",
        "<p>\n",
        "</div>"
      ]
    },
    {
      "metadata": {
        "colab_type": "text",
        "id": "grVms5PdjyTG"
      },
      "cell_type": "markdown",
      "source": [
        "<hr>\n",
        "<center><h3>My output to use as target</h3></center>\n",
        "<DIV ALIGN=RIGHT>\n",
        "<img src='https://www.dropbox.com/s/zuqw01czvet00jv/q1.png?raw=1'>\n",
        "  </div>\n",
        "<hr>"
      ]
    },
    {
      "metadata": {
        "colab_type": "code",
        "id": "Zekjylx9nW7t",
        "scrolled": true,
        "colab": {}
      },
      "cell_type": "code",
      "source": [
        "#Your code here\n",
        "movie_table['winner'] = movie_table.apply(lambda row: 1 if row['imdb_score'] >= 7.5 else 0, axis = 1)"
      ],
      "execution_count": 0,
      "outputs": []
    },
    {
      "metadata": {
        "colab_type": "code",
        "id": "ZaEf4qJdnW7y",
        "outputId": "30ed3e10-6f38-43d8-c1bc-becc0d2fba81",
        "colab": {
          "base_uri": "https://localhost:8080/",
          "height": 204
        }
      },
      "cell_type": "code",
      "source": [
        "movie_table.head()  #check your answer against above"
      ],
      "execution_count": 10,
      "outputs": [
        {
          "output_type": "execute_result",
          "data": {
            "text/html": [
              "<div>\n",
              "<style scoped>\n",
              "    .dataframe tbody tr th:only-of-type {\n",
              "        vertical-align: middle;\n",
              "    }\n",
              "\n",
              "    .dataframe tbody tr th {\n",
              "        vertical-align: top;\n",
              "    }\n",
              "\n",
              "    .dataframe thead th {\n",
              "        text-align: right;\n",
              "    }\n",
              "</style>\n",
              "<table border=\"1\" class=\"dataframe\">\n",
              "  <thead>\n",
              "    <tr style=\"text-align: right;\">\n",
              "      <th></th>\n",
              "      <th>color</th>\n",
              "      <th>genres</th>\n",
              "      <th>country</th>\n",
              "      <th>budget</th>\n",
              "      <th>imdb_score</th>\n",
              "      <th>winner</th>\n",
              "    </tr>\n",
              "  </thead>\n",
              "  <tbody>\n",
              "    <tr>\n",
              "      <th>0</th>\n",
              "      <td>Color</td>\n",
              "      <td>Action|Adventure|Fantasy|Sci-Fi</td>\n",
              "      <td>USA</td>\n",
              "      <td>237000000.0</td>\n",
              "      <td>7.9</td>\n",
              "      <td>1</td>\n",
              "    </tr>\n",
              "    <tr>\n",
              "      <th>1</th>\n",
              "      <td>Color</td>\n",
              "      <td>Action|Adventure|Fantasy</td>\n",
              "      <td>USA</td>\n",
              "      <td>300000000.0</td>\n",
              "      <td>7.1</td>\n",
              "      <td>0</td>\n",
              "    </tr>\n",
              "    <tr>\n",
              "      <th>2</th>\n",
              "      <td>Color</td>\n",
              "      <td>Action|Adventure|Thriller</td>\n",
              "      <td>UK</td>\n",
              "      <td>245000000.0</td>\n",
              "      <td>6.8</td>\n",
              "      <td>0</td>\n",
              "    </tr>\n",
              "    <tr>\n",
              "      <th>3</th>\n",
              "      <td>Color</td>\n",
              "      <td>Action|Thriller</td>\n",
              "      <td>USA</td>\n",
              "      <td>250000000.0</td>\n",
              "      <td>8.5</td>\n",
              "      <td>1</td>\n",
              "    </tr>\n",
              "    <tr>\n",
              "      <th>4</th>\n",
              "      <td>NaN</td>\n",
              "      <td>Documentary</td>\n",
              "      <td>NaN</td>\n",
              "      <td>NaN</td>\n",
              "      <td>7.1</td>\n",
              "      <td>0</td>\n",
              "    </tr>\n",
              "  </tbody>\n",
              "</table>\n",
              "</div>"
            ],
            "text/plain": [
              "   color                           genres country       budget  imdb_score  \\\n",
              "0  Color  Action|Adventure|Fantasy|Sci-Fi     USA  237000000.0         7.9   \n",
              "1  Color         Action|Adventure|Fantasy     USA  300000000.0         7.1   \n",
              "2  Color        Action|Adventure|Thriller      UK  245000000.0         6.8   \n",
              "3  Color                  Action|Thriller     USA  250000000.0         8.5   \n",
              "4    NaN                      Documentary     NaN          NaN         7.1   \n",
              "\n",
              "   winner  \n",
              "0       1  \n",
              "1       0  \n",
              "2       0  \n",
              "3       1  \n",
              "4       0  "
            ]
          },
          "metadata": {
            "tags": []
          },
          "execution_count": 10
        }
      ]
    },
    {
      "metadata": {
        "colab_type": "text",
        "id": "RfRH54XbnW73"
      },
      "cell_type": "markdown",
      "source": [
        "<hr>\n",
        "<h1>\n",
        "2: Bin `budget` then one hot encode (20 points)\n",
        "</h1>\n",
        "<p>\n",
        "<div class=h1_cell>\n",
        "<p>\n",
        "Use bins ['low', 'medium', 'high'].\n",
        "<p>\n",
        "  <b>Important</b>: produce equal sized bins in terms of rows in those bins. `qcut` will do this for you.\n",
        "<p>\n",
        "</div>"
      ]
    },
    {
      "metadata": {
        "colab_type": "text",
        "id": "xyAbry0jlSbd"
      },
      "cell_type": "markdown",
      "source": [
        "<hr>\n",
        "<center><h3>My output to use as target</h3></center>\n",
        "<DIV ALIGN=RIGHT>\n",
        "<img src='https://www.dropbox.com/s/vr78cq4fo9z2tem/q2.png?raw=1'>\n",
        "  </div>\n",
        "<hr>"
      ]
    },
    {
      "metadata": {
        "colab_type": "code",
        "id": "aacyowSanW73",
        "colab": {}
      },
      "cell_type": "code",
      "source": [
        "#your binning code here - remember the qcut\n",
        "bins = 3\n",
        "bin_names = ['low', 'medium','high']\n",
        "movie_table['budget_bin'] = pd.qcut(movie_table['budget'], bins, labels = bin_names)"
      ],
      "execution_count": 0,
      "outputs": []
    },
    {
      "metadata": {
        "colab_type": "code",
        "id": "pQ9E60MSnW78",
        "outputId": "ed16db44-cb50-494e-ba0e-e9049da6cd2f",
        "scrolled": true,
        "colab": {
          "base_uri": "https://localhost:8080/",
          "height": 204
        }
      },
      "cell_type": "code",
      "source": [
        "movie_table.head()  #check against above budget_bin column"
      ],
      "execution_count": 13,
      "outputs": [
        {
          "output_type": "execute_result",
          "data": {
            "text/html": [
              "<div>\n",
              "<style scoped>\n",
              "    .dataframe tbody tr th:only-of-type {\n",
              "        vertical-align: middle;\n",
              "    }\n",
              "\n",
              "    .dataframe tbody tr th {\n",
              "        vertical-align: top;\n",
              "    }\n",
              "\n",
              "    .dataframe thead th {\n",
              "        text-align: right;\n",
              "    }\n",
              "</style>\n",
              "<table border=\"1\" class=\"dataframe\">\n",
              "  <thead>\n",
              "    <tr style=\"text-align: right;\">\n",
              "      <th></th>\n",
              "      <th>color</th>\n",
              "      <th>genres</th>\n",
              "      <th>country</th>\n",
              "      <th>budget</th>\n",
              "      <th>imdb_score</th>\n",
              "      <th>winner</th>\n",
              "      <th>budget_bin</th>\n",
              "    </tr>\n",
              "  </thead>\n",
              "  <tbody>\n",
              "    <tr>\n",
              "      <th>0</th>\n",
              "      <td>Color</td>\n",
              "      <td>Action|Adventure|Fantasy|Sci-Fi</td>\n",
              "      <td>USA</td>\n",
              "      <td>237000000.0</td>\n",
              "      <td>7.9</td>\n",
              "      <td>1</td>\n",
              "      <td>high</td>\n",
              "    </tr>\n",
              "    <tr>\n",
              "      <th>1</th>\n",
              "      <td>Color</td>\n",
              "      <td>Action|Adventure|Fantasy</td>\n",
              "      <td>USA</td>\n",
              "      <td>300000000.0</td>\n",
              "      <td>7.1</td>\n",
              "      <td>0</td>\n",
              "      <td>high</td>\n",
              "    </tr>\n",
              "    <tr>\n",
              "      <th>2</th>\n",
              "      <td>Color</td>\n",
              "      <td>Action|Adventure|Thriller</td>\n",
              "      <td>UK</td>\n",
              "      <td>245000000.0</td>\n",
              "      <td>6.8</td>\n",
              "      <td>0</td>\n",
              "      <td>high</td>\n",
              "    </tr>\n",
              "    <tr>\n",
              "      <th>3</th>\n",
              "      <td>Color</td>\n",
              "      <td>Action|Thriller</td>\n",
              "      <td>USA</td>\n",
              "      <td>250000000.0</td>\n",
              "      <td>8.5</td>\n",
              "      <td>1</td>\n",
              "      <td>high</td>\n",
              "    </tr>\n",
              "    <tr>\n",
              "      <th>4</th>\n",
              "      <td>NaN</td>\n",
              "      <td>Documentary</td>\n",
              "      <td>NaN</td>\n",
              "      <td>NaN</td>\n",
              "      <td>7.1</td>\n",
              "      <td>0</td>\n",
              "      <td>NaN</td>\n",
              "    </tr>\n",
              "  </tbody>\n",
              "</table>\n",
              "</div>"
            ],
            "text/plain": [
              "   color                           genres country       budget  imdb_score  \\\n",
              "0  Color  Action|Adventure|Fantasy|Sci-Fi     USA  237000000.0         7.9   \n",
              "1  Color         Action|Adventure|Fantasy     USA  300000000.0         7.1   \n",
              "2  Color        Action|Adventure|Thriller      UK  245000000.0         6.8   \n",
              "3  Color                  Action|Thriller     USA  250000000.0         8.5   \n",
              "4    NaN                      Documentary     NaN          NaN         7.1   \n",
              "\n",
              "   winner budget_bin  \n",
              "0       1       high  \n",
              "1       0       high  \n",
              "2       0       high  \n",
              "3       1       high  \n",
              "4       0        NaN  "
            ]
          },
          "metadata": {
            "tags": []
          },
          "execution_count": 13
        }
      ]
    },
    {
      "metadata": {
        "colab_type": "text",
        "id": "6WCE5gtPpMnk"
      },
      "cell_type": "markdown",
      "source": [
        "Get value counts and compare with mine:\n",
        "<pre>\n",
        "low       1592\n",
        "high      1508\n",
        "medium    1451\n",
        "</pre>"
      ]
    },
    {
      "metadata": {
        "colab_type": "code",
        "id": "PFjAJ7U6nW8A",
        "outputId": "8b6e6a5e-408e-4d46-9b0f-1d11071e9474",
        "colab": {
          "base_uri": "https://localhost:8080/",
          "height": 85
        }
      },
      "cell_type": "code",
      "source": [
        "#compute value counts and compare with above\n",
        "movie_table['budget_bin'].value_counts()"
      ],
      "execution_count": 14,
      "outputs": [
        {
          "output_type": "execute_result",
          "data": {
            "text/plain": [
              "low       1592\n",
              "high      1508\n",
              "medium    1451\n",
              "Name: budget_bin, dtype: int64"
            ]
          },
          "metadata": {
            "tags": []
          },
          "execution_count": 14
        }
      ]
    },
    {
      "metadata": {
        "colab_type": "text",
        "id": "RR8Gz4d7nW8F"
      },
      "cell_type": "markdown",
      "source": [
        "Now ohe the `budget_bin` column using `budget` as the prefix. Check against above."
      ]
    },
    {
      "metadata": {
        "colab_type": "code",
        "id": "0kXiSBepnW8I",
        "colab": {}
      },
      "cell_type": "code",
      "source": [
        "#your code here\n",
        "one_hot_budget = pd.get_dummies(movie_table['budget_bin'], prefix='budget',dummy_na=True)\n",
        "movie_table = movie_table.join(one_hot_budget)"
      ],
      "execution_count": 0,
      "outputs": []
    },
    {
      "metadata": {
        "colab_type": "code",
        "id": "7JpSQs7snjtW",
        "outputId": "52f9598a-a0cb-4676-8c84-98b9fea5cff1",
        "colab": {
          "base_uri": "https://localhost:8080/",
          "height": 241
        }
      },
      "cell_type": "code",
      "source": [
        "movie_table.head()  #check against above"
      ],
      "execution_count": 16,
      "outputs": [
        {
          "output_type": "execute_result",
          "data": {
            "text/html": [
              "<div>\n",
              "<style scoped>\n",
              "    .dataframe tbody tr th:only-of-type {\n",
              "        vertical-align: middle;\n",
              "    }\n",
              "\n",
              "    .dataframe tbody tr th {\n",
              "        vertical-align: top;\n",
              "    }\n",
              "\n",
              "    .dataframe thead th {\n",
              "        text-align: right;\n",
              "    }\n",
              "</style>\n",
              "<table border=\"1\" class=\"dataframe\">\n",
              "  <thead>\n",
              "    <tr style=\"text-align: right;\">\n",
              "      <th></th>\n",
              "      <th>color</th>\n",
              "      <th>genres</th>\n",
              "      <th>country</th>\n",
              "      <th>budget</th>\n",
              "      <th>imdb_score</th>\n",
              "      <th>winner</th>\n",
              "      <th>budget_bin</th>\n",
              "      <th>budget_low</th>\n",
              "      <th>budget_medium</th>\n",
              "      <th>budget_high</th>\n",
              "      <th>budget_nan</th>\n",
              "    </tr>\n",
              "  </thead>\n",
              "  <tbody>\n",
              "    <tr>\n",
              "      <th>0</th>\n",
              "      <td>Color</td>\n",
              "      <td>Action|Adventure|Fantasy|Sci-Fi</td>\n",
              "      <td>USA</td>\n",
              "      <td>237000000.0</td>\n",
              "      <td>7.9</td>\n",
              "      <td>1</td>\n",
              "      <td>high</td>\n",
              "      <td>0</td>\n",
              "      <td>0</td>\n",
              "      <td>1</td>\n",
              "      <td>0</td>\n",
              "    </tr>\n",
              "    <tr>\n",
              "      <th>1</th>\n",
              "      <td>Color</td>\n",
              "      <td>Action|Adventure|Fantasy</td>\n",
              "      <td>USA</td>\n",
              "      <td>300000000.0</td>\n",
              "      <td>7.1</td>\n",
              "      <td>0</td>\n",
              "      <td>high</td>\n",
              "      <td>0</td>\n",
              "      <td>0</td>\n",
              "      <td>1</td>\n",
              "      <td>0</td>\n",
              "    </tr>\n",
              "    <tr>\n",
              "      <th>2</th>\n",
              "      <td>Color</td>\n",
              "      <td>Action|Adventure|Thriller</td>\n",
              "      <td>UK</td>\n",
              "      <td>245000000.0</td>\n",
              "      <td>6.8</td>\n",
              "      <td>0</td>\n",
              "      <td>high</td>\n",
              "      <td>0</td>\n",
              "      <td>0</td>\n",
              "      <td>1</td>\n",
              "      <td>0</td>\n",
              "    </tr>\n",
              "    <tr>\n",
              "      <th>3</th>\n",
              "      <td>Color</td>\n",
              "      <td>Action|Thriller</td>\n",
              "      <td>USA</td>\n",
              "      <td>250000000.0</td>\n",
              "      <td>8.5</td>\n",
              "      <td>1</td>\n",
              "      <td>high</td>\n",
              "      <td>0</td>\n",
              "      <td>0</td>\n",
              "      <td>1</td>\n",
              "      <td>0</td>\n",
              "    </tr>\n",
              "    <tr>\n",
              "      <th>4</th>\n",
              "      <td>NaN</td>\n",
              "      <td>Documentary</td>\n",
              "      <td>NaN</td>\n",
              "      <td>NaN</td>\n",
              "      <td>7.1</td>\n",
              "      <td>0</td>\n",
              "      <td>NaN</td>\n",
              "      <td>0</td>\n",
              "      <td>0</td>\n",
              "      <td>0</td>\n",
              "      <td>1</td>\n",
              "    </tr>\n",
              "  </tbody>\n",
              "</table>\n",
              "</div>"
            ],
            "text/plain": [
              "   color                           genres country       budget  imdb_score  \\\n",
              "0  Color  Action|Adventure|Fantasy|Sci-Fi     USA  237000000.0         7.9   \n",
              "1  Color         Action|Adventure|Fantasy     USA  300000000.0         7.1   \n",
              "2  Color        Action|Adventure|Thriller      UK  245000000.0         6.8   \n",
              "3  Color                  Action|Thriller     USA  250000000.0         8.5   \n",
              "4    NaN                      Documentary     NaN          NaN         7.1   \n",
              "\n",
              "   winner budget_bin  budget_low  budget_medium  budget_high  budget_nan  \n",
              "0       1       high           0              0            1           0  \n",
              "1       0       high           0              0            1           0  \n",
              "2       0       high           0              0            1           0  \n",
              "3       1       high           0              0            1           0  \n",
              "4       0        NaN           0              0            0           1  "
            ]
          },
          "metadata": {
            "tags": []
          },
          "execution_count": 16
        }
      ]
    },
    {
      "metadata": {
        "colab_type": "text",
        "id": "S1PjmhrSnW8N"
      },
      "cell_type": "markdown",
      "source": [
        "<hr>\n",
        "<h1>\n",
        "3: Create a new column for thrillers (5 points)\n",
        "</h1>\n",
        "<p>\n",
        "<div class=h1_cell>\n",
        "<p>\n",
        "Create a new colum `thriller`. Its value is 1 if the `genres` column contains the word Thriller else 0.\n",
        "<p>\n",
        "</div>"
      ]
    },
    {
      "metadata": {
        "colab_type": "text",
        "id": "E3AIQDL3mfpK"
      },
      "cell_type": "markdown",
      "source": [
        "<hr>\n",
        "<center><h3>My output to use as target</h3></center>\n",
        "<DIV ALIGN=RIGHT>\n",
        "<img src='https://www.dropbox.com/s/if2vpz0o1pa9bo6/q3.png?raw=1'>\n",
        "  </div>\n",
        "<hr>\n"
      ]
    },
    {
      "metadata": {
        "colab_type": "code",
        "id": "GPtFNVRknW8P",
        "colab": {}
      },
      "cell_type": "code",
      "source": [
        "#your code goes here\n",
        "movie_table['thriller'] = movie_table.apply(lambda row: 1 if 'Thriller' in row['genres'] else 0, axis = 1)\n"
      ],
      "execution_count": 0,
      "outputs": []
    },
    {
      "metadata": {
        "colab_type": "code",
        "id": "lHA-7hkhnW8S",
        "outputId": "3a1a503d-4658-43a2-cb80-97e12494f1fc",
        "scrolled": false,
        "colab": {
          "base_uri": "https://localhost:8080/",
          "height": 241
        }
      },
      "cell_type": "code",
      "source": [
        "movie_table.head()  #check against my answer"
      ],
      "execution_count": 18,
      "outputs": [
        {
          "output_type": "execute_result",
          "data": {
            "text/html": [
              "<div>\n",
              "<style scoped>\n",
              "    .dataframe tbody tr th:only-of-type {\n",
              "        vertical-align: middle;\n",
              "    }\n",
              "\n",
              "    .dataframe tbody tr th {\n",
              "        vertical-align: top;\n",
              "    }\n",
              "\n",
              "    .dataframe thead th {\n",
              "        text-align: right;\n",
              "    }\n",
              "</style>\n",
              "<table border=\"1\" class=\"dataframe\">\n",
              "  <thead>\n",
              "    <tr style=\"text-align: right;\">\n",
              "      <th></th>\n",
              "      <th>color</th>\n",
              "      <th>genres</th>\n",
              "      <th>country</th>\n",
              "      <th>budget</th>\n",
              "      <th>imdb_score</th>\n",
              "      <th>winner</th>\n",
              "      <th>budget_bin</th>\n",
              "      <th>budget_low</th>\n",
              "      <th>budget_medium</th>\n",
              "      <th>budget_high</th>\n",
              "      <th>budget_nan</th>\n",
              "      <th>thriller</th>\n",
              "    </tr>\n",
              "  </thead>\n",
              "  <tbody>\n",
              "    <tr>\n",
              "      <th>0</th>\n",
              "      <td>Color</td>\n",
              "      <td>Action|Adventure|Fantasy|Sci-Fi</td>\n",
              "      <td>USA</td>\n",
              "      <td>237000000.0</td>\n",
              "      <td>7.9</td>\n",
              "      <td>1</td>\n",
              "      <td>high</td>\n",
              "      <td>0</td>\n",
              "      <td>0</td>\n",
              "      <td>1</td>\n",
              "      <td>0</td>\n",
              "      <td>0</td>\n",
              "    </tr>\n",
              "    <tr>\n",
              "      <th>1</th>\n",
              "      <td>Color</td>\n",
              "      <td>Action|Adventure|Fantasy</td>\n",
              "      <td>USA</td>\n",
              "      <td>300000000.0</td>\n",
              "      <td>7.1</td>\n",
              "      <td>0</td>\n",
              "      <td>high</td>\n",
              "      <td>0</td>\n",
              "      <td>0</td>\n",
              "      <td>1</td>\n",
              "      <td>0</td>\n",
              "      <td>0</td>\n",
              "    </tr>\n",
              "    <tr>\n",
              "      <th>2</th>\n",
              "      <td>Color</td>\n",
              "      <td>Action|Adventure|Thriller</td>\n",
              "      <td>UK</td>\n",
              "      <td>245000000.0</td>\n",
              "      <td>6.8</td>\n",
              "      <td>0</td>\n",
              "      <td>high</td>\n",
              "      <td>0</td>\n",
              "      <td>0</td>\n",
              "      <td>1</td>\n",
              "      <td>0</td>\n",
              "      <td>1</td>\n",
              "    </tr>\n",
              "    <tr>\n",
              "      <th>3</th>\n",
              "      <td>Color</td>\n",
              "      <td>Action|Thriller</td>\n",
              "      <td>USA</td>\n",
              "      <td>250000000.0</td>\n",
              "      <td>8.5</td>\n",
              "      <td>1</td>\n",
              "      <td>high</td>\n",
              "      <td>0</td>\n",
              "      <td>0</td>\n",
              "      <td>1</td>\n",
              "      <td>0</td>\n",
              "      <td>1</td>\n",
              "    </tr>\n",
              "    <tr>\n",
              "      <th>4</th>\n",
              "      <td>NaN</td>\n",
              "      <td>Documentary</td>\n",
              "      <td>NaN</td>\n",
              "      <td>NaN</td>\n",
              "      <td>7.1</td>\n",
              "      <td>0</td>\n",
              "      <td>NaN</td>\n",
              "      <td>0</td>\n",
              "      <td>0</td>\n",
              "      <td>0</td>\n",
              "      <td>1</td>\n",
              "      <td>0</td>\n",
              "    </tr>\n",
              "  </tbody>\n",
              "</table>\n",
              "</div>"
            ],
            "text/plain": [
              "   color                           genres country       budget  imdb_score  \\\n",
              "0  Color  Action|Adventure|Fantasy|Sci-Fi     USA  237000000.0         7.9   \n",
              "1  Color         Action|Adventure|Fantasy     USA  300000000.0         7.1   \n",
              "2  Color        Action|Adventure|Thriller      UK  245000000.0         6.8   \n",
              "3  Color                  Action|Thriller     USA  250000000.0         8.5   \n",
              "4    NaN                      Documentary     NaN          NaN         7.1   \n",
              "\n",
              "   winner budget_bin  budget_low  budget_medium  budget_high  budget_nan  \\\n",
              "0       1       high           0              0            1           0   \n",
              "1       0       high           0              0            1           0   \n",
              "2       0       high           0              0            1           0   \n",
              "3       1       high           0              0            1           0   \n",
              "4       0        NaN           0              0            0           1   \n",
              "\n",
              "   thriller  \n",
              "0         0  \n",
              "1         0  \n",
              "2         1  \n",
              "3         1  \n",
              "4         0  "
            ]
          },
          "metadata": {
            "tags": []
          },
          "execution_count": 18
        }
      ]
    },
    {
      "metadata": {
        "colab_type": "text",
        "id": "WsWhMbK4nW8W"
      },
      "cell_type": "markdown",
      "source": [
        "<hr>\n",
        "<h1>\n",
        "4: New column usa_made (5 points)\n",
        "</h1>\n",
        "<p>\n",
        "<div class=h1_cell>\n",
        "<p>\n",
        "Create a new column `usa_made` that has 1 if the `country` column is USA and 0 otherwise.\n",
        "<p>\n",
        "</div>"
      ]
    },
    {
      "metadata": {
        "colab_type": "text",
        "id": "SJmtvMQhsP-_"
      },
      "cell_type": "markdown",
      "source": [
        "<hr>\n",
        "<center><h3>My output to use as target</h3></center>\n",
        "<DIV ALIGN=RIGHT>\n",
        "<img src='https://www.dropbox.com/s/jhhlwqbtkzoy09l/q4.png?raw=1'>\n",
        "  </div>\n",
        "<hr>\n"
      ]
    },
    {
      "metadata": {
        "colab_type": "code",
        "id": "yLHy8pHinW8X",
        "colab": {}
      },
      "cell_type": "code",
      "source": [
        "#your code goes here\n",
        "movie_table['usa_made'] = movie_table.apply(lambda row: 1 if row['country'] == 'USA' else 0, axis=1)\n"
      ],
      "execution_count": 0,
      "outputs": []
    },
    {
      "metadata": {
        "colab_type": "code",
        "id": "zYisgV0InW8e",
        "outputId": "6abb2843-df2b-4cec-cc8c-88f1e323e832",
        "scrolled": true,
        "colab": {
          "base_uri": "https://localhost:8080/",
          "height": 241
        }
      },
      "cell_type": "code",
      "source": [
        "movie_table.head() #check against my answer"
      ],
      "execution_count": 20,
      "outputs": [
        {
          "output_type": "execute_result",
          "data": {
            "text/html": [
              "<div>\n",
              "<style scoped>\n",
              "    .dataframe tbody tr th:only-of-type {\n",
              "        vertical-align: middle;\n",
              "    }\n",
              "\n",
              "    .dataframe tbody tr th {\n",
              "        vertical-align: top;\n",
              "    }\n",
              "\n",
              "    .dataframe thead th {\n",
              "        text-align: right;\n",
              "    }\n",
              "</style>\n",
              "<table border=\"1\" class=\"dataframe\">\n",
              "  <thead>\n",
              "    <tr style=\"text-align: right;\">\n",
              "      <th></th>\n",
              "      <th>color</th>\n",
              "      <th>genres</th>\n",
              "      <th>country</th>\n",
              "      <th>budget</th>\n",
              "      <th>imdb_score</th>\n",
              "      <th>winner</th>\n",
              "      <th>budget_bin</th>\n",
              "      <th>budget_low</th>\n",
              "      <th>budget_medium</th>\n",
              "      <th>budget_high</th>\n",
              "      <th>budget_nan</th>\n",
              "      <th>thriller</th>\n",
              "      <th>usa_made</th>\n",
              "    </tr>\n",
              "  </thead>\n",
              "  <tbody>\n",
              "    <tr>\n",
              "      <th>0</th>\n",
              "      <td>Color</td>\n",
              "      <td>Action|Adventure|Fantasy|Sci-Fi</td>\n",
              "      <td>USA</td>\n",
              "      <td>237000000.0</td>\n",
              "      <td>7.9</td>\n",
              "      <td>1</td>\n",
              "      <td>high</td>\n",
              "      <td>0</td>\n",
              "      <td>0</td>\n",
              "      <td>1</td>\n",
              "      <td>0</td>\n",
              "      <td>0</td>\n",
              "      <td>1</td>\n",
              "    </tr>\n",
              "    <tr>\n",
              "      <th>1</th>\n",
              "      <td>Color</td>\n",
              "      <td>Action|Adventure|Fantasy</td>\n",
              "      <td>USA</td>\n",
              "      <td>300000000.0</td>\n",
              "      <td>7.1</td>\n",
              "      <td>0</td>\n",
              "      <td>high</td>\n",
              "      <td>0</td>\n",
              "      <td>0</td>\n",
              "      <td>1</td>\n",
              "      <td>0</td>\n",
              "      <td>0</td>\n",
              "      <td>1</td>\n",
              "    </tr>\n",
              "    <tr>\n",
              "      <th>2</th>\n",
              "      <td>Color</td>\n",
              "      <td>Action|Adventure|Thriller</td>\n",
              "      <td>UK</td>\n",
              "      <td>245000000.0</td>\n",
              "      <td>6.8</td>\n",
              "      <td>0</td>\n",
              "      <td>high</td>\n",
              "      <td>0</td>\n",
              "      <td>0</td>\n",
              "      <td>1</td>\n",
              "      <td>0</td>\n",
              "      <td>1</td>\n",
              "      <td>0</td>\n",
              "    </tr>\n",
              "    <tr>\n",
              "      <th>3</th>\n",
              "      <td>Color</td>\n",
              "      <td>Action|Thriller</td>\n",
              "      <td>USA</td>\n",
              "      <td>250000000.0</td>\n",
              "      <td>8.5</td>\n",
              "      <td>1</td>\n",
              "      <td>high</td>\n",
              "      <td>0</td>\n",
              "      <td>0</td>\n",
              "      <td>1</td>\n",
              "      <td>0</td>\n",
              "      <td>1</td>\n",
              "      <td>1</td>\n",
              "    </tr>\n",
              "    <tr>\n",
              "      <th>4</th>\n",
              "      <td>NaN</td>\n",
              "      <td>Documentary</td>\n",
              "      <td>NaN</td>\n",
              "      <td>NaN</td>\n",
              "      <td>7.1</td>\n",
              "      <td>0</td>\n",
              "      <td>NaN</td>\n",
              "      <td>0</td>\n",
              "      <td>0</td>\n",
              "      <td>0</td>\n",
              "      <td>1</td>\n",
              "      <td>0</td>\n",
              "      <td>0</td>\n",
              "    </tr>\n",
              "  </tbody>\n",
              "</table>\n",
              "</div>"
            ],
            "text/plain": [
              "   color                           genres country       budget  imdb_score  \\\n",
              "0  Color  Action|Adventure|Fantasy|Sci-Fi     USA  237000000.0         7.9   \n",
              "1  Color         Action|Adventure|Fantasy     USA  300000000.0         7.1   \n",
              "2  Color        Action|Adventure|Thriller      UK  245000000.0         6.8   \n",
              "3  Color                  Action|Thriller     USA  250000000.0         8.5   \n",
              "4    NaN                      Documentary     NaN          NaN         7.1   \n",
              "\n",
              "   winner budget_bin  budget_low  budget_medium  budget_high  budget_nan  \\\n",
              "0       1       high           0              0            1           0   \n",
              "1       0       high           0              0            1           0   \n",
              "2       0       high           0              0            1           0   \n",
              "3       1       high           0              0            1           0   \n",
              "4       0        NaN           0              0            0           1   \n",
              "\n",
              "   thriller  usa_made  \n",
              "0         0         1  \n",
              "1         0         1  \n",
              "2         1         0  \n",
              "3         1         1  \n",
              "4         0         0  "
            ]
          },
          "metadata": {
            "tags": []
          },
          "execution_count": 20
        }
      ]
    },
    {
      "metadata": {
        "colab_type": "text",
        "id": "KUrXxHwLsvCv"
      },
      "cell_type": "markdown",
      "source": [
        "<hr>\n",
        "<h1>\n",
        "5: OHE `color` (10 points)\n",
        "</h1>\n",
        "<p>\n",
        "<div class=h1_cell>\n",
        "<p>\n",
        "ohe the column `color` using `film_type` as the prefix.\n",
        "<p>\n",
        "</div>"
      ]
    },
    {
      "metadata": {
        "colab_type": "text",
        "id": "KY-EDHaRtI8S"
      },
      "cell_type": "markdown",
      "source": [
        "<hr>\n",
        "<center><h3>My output to use as target</h3></center>\n",
        "<DIV ALIGN=RIGHT>\n",
        "<img src='https://www.dropbox.com/s/td5k13eiwg4yw11/q5.png?raw=1'>\n",
        "  </div>\n",
        "<hr>"
      ]
    },
    {
      "metadata": {
        "colab_type": "code",
        "id": "IHq_KKfXnW8j",
        "colab": {}
      },
      "cell_type": "code",
      "source": [
        "#your code here\n",
        "one_hot_color = pd.get_dummies(movie_table['color'], prefix='film_type', dummy_na = True)\n",
        "movie_table = movie_table.join(one_hot_color)\n",
        "\n"
      ],
      "execution_count": 0,
      "outputs": []
    },
    {
      "metadata": {
        "colab_type": "code",
        "id": "6eeI92Q2tqgS",
        "outputId": "6149dd2d-50b3-4649-d27e-c29db662ae6d",
        "colab": {
          "base_uri": "https://localhost:8080/",
          "height": 258
        }
      },
      "cell_type": "code",
      "source": [
        "movie_table.head()  #check against above (only shows the last 3 columns)"
      ],
      "execution_count": 23,
      "outputs": [
        {
          "output_type": "execute_result",
          "data": {
            "text/html": [
              "<div>\n",
              "<style scoped>\n",
              "    .dataframe tbody tr th:only-of-type {\n",
              "        vertical-align: middle;\n",
              "    }\n",
              "\n",
              "    .dataframe tbody tr th {\n",
              "        vertical-align: top;\n",
              "    }\n",
              "\n",
              "    .dataframe thead th {\n",
              "        text-align: right;\n",
              "    }\n",
              "</style>\n",
              "<table border=\"1\" class=\"dataframe\">\n",
              "  <thead>\n",
              "    <tr style=\"text-align: right;\">\n",
              "      <th></th>\n",
              "      <th>color</th>\n",
              "      <th>genres</th>\n",
              "      <th>country</th>\n",
              "      <th>budget</th>\n",
              "      <th>imdb_score</th>\n",
              "      <th>winner</th>\n",
              "      <th>budget_bin</th>\n",
              "      <th>budget_low</th>\n",
              "      <th>budget_medium</th>\n",
              "      <th>budget_high</th>\n",
              "      <th>budget_nan</th>\n",
              "      <th>thriller</th>\n",
              "      <th>usa_made</th>\n",
              "      <th>film_type_Black and White</th>\n",
              "      <th>film_type_Color</th>\n",
              "      <th>film_type_nan</th>\n",
              "    </tr>\n",
              "  </thead>\n",
              "  <tbody>\n",
              "    <tr>\n",
              "      <th>0</th>\n",
              "      <td>Color</td>\n",
              "      <td>Action|Adventure|Fantasy|Sci-Fi</td>\n",
              "      <td>USA</td>\n",
              "      <td>237000000.0</td>\n",
              "      <td>7.9</td>\n",
              "      <td>1</td>\n",
              "      <td>high</td>\n",
              "      <td>0</td>\n",
              "      <td>0</td>\n",
              "      <td>1</td>\n",
              "      <td>0</td>\n",
              "      <td>0</td>\n",
              "      <td>1</td>\n",
              "      <td>0</td>\n",
              "      <td>1</td>\n",
              "      <td>0</td>\n",
              "    </tr>\n",
              "    <tr>\n",
              "      <th>1</th>\n",
              "      <td>Color</td>\n",
              "      <td>Action|Adventure|Fantasy</td>\n",
              "      <td>USA</td>\n",
              "      <td>300000000.0</td>\n",
              "      <td>7.1</td>\n",
              "      <td>0</td>\n",
              "      <td>high</td>\n",
              "      <td>0</td>\n",
              "      <td>0</td>\n",
              "      <td>1</td>\n",
              "      <td>0</td>\n",
              "      <td>0</td>\n",
              "      <td>1</td>\n",
              "      <td>0</td>\n",
              "      <td>1</td>\n",
              "      <td>0</td>\n",
              "    </tr>\n",
              "    <tr>\n",
              "      <th>2</th>\n",
              "      <td>Color</td>\n",
              "      <td>Action|Adventure|Thriller</td>\n",
              "      <td>UK</td>\n",
              "      <td>245000000.0</td>\n",
              "      <td>6.8</td>\n",
              "      <td>0</td>\n",
              "      <td>high</td>\n",
              "      <td>0</td>\n",
              "      <td>0</td>\n",
              "      <td>1</td>\n",
              "      <td>0</td>\n",
              "      <td>1</td>\n",
              "      <td>0</td>\n",
              "      <td>0</td>\n",
              "      <td>1</td>\n",
              "      <td>0</td>\n",
              "    </tr>\n",
              "    <tr>\n",
              "      <th>3</th>\n",
              "      <td>Color</td>\n",
              "      <td>Action|Thriller</td>\n",
              "      <td>USA</td>\n",
              "      <td>250000000.0</td>\n",
              "      <td>8.5</td>\n",
              "      <td>1</td>\n",
              "      <td>high</td>\n",
              "      <td>0</td>\n",
              "      <td>0</td>\n",
              "      <td>1</td>\n",
              "      <td>0</td>\n",
              "      <td>1</td>\n",
              "      <td>1</td>\n",
              "      <td>0</td>\n",
              "      <td>1</td>\n",
              "      <td>0</td>\n",
              "    </tr>\n",
              "    <tr>\n",
              "      <th>4</th>\n",
              "      <td>NaN</td>\n",
              "      <td>Documentary</td>\n",
              "      <td>NaN</td>\n",
              "      <td>NaN</td>\n",
              "      <td>7.1</td>\n",
              "      <td>0</td>\n",
              "      <td>NaN</td>\n",
              "      <td>0</td>\n",
              "      <td>0</td>\n",
              "      <td>0</td>\n",
              "      <td>1</td>\n",
              "      <td>0</td>\n",
              "      <td>0</td>\n",
              "      <td>0</td>\n",
              "      <td>0</td>\n",
              "      <td>1</td>\n",
              "    </tr>\n",
              "  </tbody>\n",
              "</table>\n",
              "</div>"
            ],
            "text/plain": [
              "   color                           genres country       budget  imdb_score  \\\n",
              "0  Color  Action|Adventure|Fantasy|Sci-Fi     USA  237000000.0         7.9   \n",
              "1  Color         Action|Adventure|Fantasy     USA  300000000.0         7.1   \n",
              "2  Color        Action|Adventure|Thriller      UK  245000000.0         6.8   \n",
              "3  Color                  Action|Thriller     USA  250000000.0         8.5   \n",
              "4    NaN                      Documentary     NaN          NaN         7.1   \n",
              "\n",
              "   winner budget_bin  budget_low  budget_medium  budget_high  budget_nan  \\\n",
              "0       1       high           0              0            1           0   \n",
              "1       0       high           0              0            1           0   \n",
              "2       0       high           0              0            1           0   \n",
              "3       1       high           0              0            1           0   \n",
              "4       0        NaN           0              0            0           1   \n",
              "\n",
              "   thriller  usa_made  film_type_Black and White  film_type_Color  \\\n",
              "0         0         1                          0                1   \n",
              "1         0         1                          0                1   \n",
              "2         1         0                          0                1   \n",
              "3         1         1                          0                1   \n",
              "4         0         0                          0                0   \n",
              "\n",
              "   film_type_nan  \n",
              "0              0  \n",
              "1              0  \n",
              "2              0  \n",
              "3              0  \n",
              "4              1  "
            ]
          },
          "metadata": {
            "tags": []
          },
          "execution_count": 23
        }
      ]
    },
    {
      "metadata": {
        "colab_type": "text",
        "id": "m8Rgh0Q4nW8m"
      },
      "cell_type": "markdown",
      "source": [
        "<hr>\n",
        "<h1>\n",
        "6: Build a tree with depth 3 and default gig-cutoff (5 points)\n",
        "</h1>\n",
        "<p>\n",
        "<div class=h1_cell>\n",
        "<p>\n",
        "Call your tree `tree1`. I'll give you the splitter column candidates to use below. Use `winner` as the target column.\n",
        "<p>\n",
        "</div>"
      ]
    },
    {
      "metadata": {
        "colab_type": "text",
        "id": "Jx-x-UM4u6ET"
      },
      "cell_type": "markdown",
      "source": [
        "<hr>\n",
        "<center><h3>My output to use as target</h3></center>\n",
        "<DIV ALIGN=RIGHT>\n",
        "<img src='https://www.dropbox.com/s/ap24g3bpau2i10z/q6.png?raw=1'>\n",
        "  </div>\n",
        "<hr>\n",
        "\n"
      ]
    },
    {
      "metadata": {
        "colab_type": "code",
        "id": "u4sGvCiEnW8n",
        "colab": {}
      },
      "cell_type": "code",
      "source": [
        "column_candidates = [\n",
        "        'thriller',\n",
        "        'budget_low', 'budget_medium', 'budget_high', 'budget_nan',\n",
        "        'usa_made',\n",
        "        'film_type_Color', 'film_type_Black and White', 'film_type_nan'\n",
        "]"
      ],
      "execution_count": 0,
      "outputs": []
    },
    {
      "metadata": {
        "colab_type": "code",
        "id": "PbJZ9zz_nW8s",
        "scrolled": true,
        "colab": {}
      },
      "cell_type": "code",
      "source": [
        "#your code here\n",
        "tree1 = build_tree_iter(movie_table, column_candidates, 'winner', {'max-depth': 3})"
      ],
      "execution_count": 0,
      "outputs": []
    },
    {
      "metadata": {
        "colab_type": "code",
        "id": "-83DfwnMuOv4",
        "outputId": "db577078-e3ff-44da-aeb4-c4ad3237114a",
        "colab": {
          "base_uri": "https://localhost:8080/",
          "height": 952
        }
      },
      "cell_type": "code",
      "source": [
        "print(len(tree1['paths']))  #check against my answer\n",
        "tree1['paths']"
      ],
      "execution_count": 26,
      "outputs": [
        {
          "output_type": "stream",
          "text": [
            "8\n"
          ],
          "name": "stdout"
        },
        {
          "output_type": "execute_result",
          "data": {
            "text/plain": [
              "[{'conjunction': [('film_type_Black and White_1',\n",
              "    <function library_w19_week4b.build_pred.<locals>.<lambda>>),\n",
              "   ('budget_low_1',\n",
              "    <function library_w19_week4b.build_pred.<locals>.<lambda>>),\n",
              "   ('thriller_1', <function library_w19_week4b.build_pred.<locals>.<lambda>>)],\n",
              "  'gig_score': 0.005303667858896077,\n",
              "  'prediction': 1},\n",
              " {'conjunction': [('film_type_Black and White_1',\n",
              "    <function library_w19_week4b.build_pred.<locals>.<lambda>>),\n",
              "   ('budget_low_1',\n",
              "    <function library_w19_week4b.build_pred.<locals>.<lambda>>),\n",
              "   ('thriller_0', <function library_w19_week4b.build_pred.<locals>.<lambda>>)],\n",
              "  'gig_score': 0.005303667858896077,\n",
              "  'prediction': 1},\n",
              " {'conjunction': [('film_type_Black and White_1',\n",
              "    <function library_w19_week4b.build_pred.<locals>.<lambda>>),\n",
              "   ('budget_low_0',\n",
              "    <function library_w19_week4b.build_pred.<locals>.<lambda>>),\n",
              "   ('usa_made_1', <function library_w19_week4b.build_pred.<locals>.<lambda>>)],\n",
              "  'gig_score': 0.019071756174530274,\n",
              "  'prediction': 0},\n",
              " {'conjunction': [('film_type_Black and White_1',\n",
              "    <function library_w19_week4b.build_pred.<locals>.<lambda>>),\n",
              "   ('budget_low_0',\n",
              "    <function library_w19_week4b.build_pred.<locals>.<lambda>>),\n",
              "   ('usa_made_0', <function library_w19_week4b.build_pred.<locals>.<lambda>>)],\n",
              "  'gig_score': 0.019071756174530274,\n",
              "  'prediction': 0},\n",
              " {'conjunction': [('film_type_Black and White_0',\n",
              "    <function library_w19_week4b.build_pred.<locals>.<lambda>>),\n",
              "   ('usa_made_1', <function library_w19_week4b.build_pred.<locals>.<lambda>>),\n",
              "   ('budget_nan_1',\n",
              "    <function library_w19_week4b.build_pred.<locals>.<lambda>>)],\n",
              "  'gig_score': 0.0010395942970248817,\n",
              "  'prediction': 0},\n",
              " {'conjunction': [('film_type_Black and White_0',\n",
              "    <function library_w19_week4b.build_pred.<locals>.<lambda>>),\n",
              "   ('usa_made_1', <function library_w19_week4b.build_pred.<locals>.<lambda>>),\n",
              "   ('budget_nan_0',\n",
              "    <function library_w19_week4b.build_pred.<locals>.<lambda>>)],\n",
              "  'gig_score': 0.0010395942970248817,\n",
              "  'prediction': 0},\n",
              " {'conjunction': [('film_type_Black and White_0',\n",
              "    <function library_w19_week4b.build_pred.<locals>.<lambda>>),\n",
              "   ('usa_made_0', <function library_w19_week4b.build_pred.<locals>.<lambda>>),\n",
              "   ('thriller_1', <function library_w19_week4b.build_pred.<locals>.<lambda>>)],\n",
              "  'gig_score': 0.0045063979136308885,\n",
              "  'prediction': 0},\n",
              " {'conjunction': [('film_type_Black and White_0',\n",
              "    <function library_w19_week4b.build_pred.<locals>.<lambda>>),\n",
              "   ('usa_made_0', <function library_w19_week4b.build_pred.<locals>.<lambda>>),\n",
              "   ('thriller_0', <function library_w19_week4b.build_pred.<locals>.<lambda>>)],\n",
              "  'gig_score': 0.0045063979136308885,\n",
              "  'prediction': 0}]"
            ]
          },
          "metadata": {
            "tags": []
          },
          "execution_count": 26
        }
      ]
    },
    {
      "metadata": {
        "colab_type": "text",
        "id": "cQ6OZy2vnW8w"
      },
      "cell_type": "markdown",
      "source": [
        "<hr>\n",
        "<h1>\n",
        "7: Compute scores for tree1 (5 points)\n",
        "</h1>\n",
        "<p>\n",
        "<div class=h1_cell>\n",
        "<p>\n",
        "Print accuracy, f1 and informedness scores.\n",
        "<p>\n",
        "</div>\n"
      ]
    },
    {
      "metadata": {
        "colab_type": "text",
        "id": "uBdWVjcYJ-YP"
      },
      "cell_type": "markdown",
      "source": [
        "<hr>\n",
        "<center><h3>My output to use as target</h3></center>\n",
        "<DIV ALIGN=left>\n",
        "<pre>\n",
        "true_negative     4104\n",
        "false_negative     827\n",
        "true_positive       60\n",
        "false_positive      52\n",
        "(0.825698988697204, 0.12012012012012013, 0.055131712154931733)\n",
        "</pre>\n",
        "  </div>\n",
        "<hr>"
      ]
    },
    {
      "metadata": {
        "colab_type": "code",
        "id": "gvp92mn4nW8x",
        "colab": {}
      },
      "cell_type": "code",
      "source": [
        "#your code here\n",
        "movie_results = movie_table[['winner']].copy()\n",
        "movie_results['tree_1'] = movie_table.apply(lambda row: tree_predictor(row, tree1), axis= 1)\n",
        "movie_results['tree_1_type'] = movie_results.apply(lambda row: predictor_case(row, pred='tree_1', target='winner'), axis=1)\n",
        "tree_1_types = movie_results['tree_1_type'].value_counts()"
      ],
      "execution_count": 0,
      "outputs": []
    },
    {
      "metadata": {
        "colab_type": "code",
        "id": "3DQdmZPUnW82",
        "outputId": "a3471090-a29f-41f1-f320-a747eac59cf7",
        "colab": {
          "base_uri": "https://localhost:8080/",
          "height": 102
        }
      },
      "cell_type": "code",
      "source": [
        "tree_1_types  #check against above"
      ],
      "execution_count": 33,
      "outputs": [
        {
          "output_type": "execute_result",
          "data": {
            "text/plain": [
              "true_negative     4104\n",
              "false_negative     827\n",
              "true_positive       60\n",
              "false_positive      52\n",
              "Name: tree_1_type, dtype: int64"
            ]
          },
          "metadata": {
            "tags": []
          },
          "execution_count": 33
        }
      ]
    },
    {
      "metadata": {
        "colab_type": "code",
        "id": "TzWOr04anW85",
        "outputId": "bde79c88-e4e4-443d-fd16-d4c259d82578",
        "colab": {
          "base_uri": "https://localhost:8080/",
          "height": 34
        }
      },
      "cell_type": "code",
      "source": [
        "print((accuracy(tree_1_types), f1(tree_1_types), informedness(tree_1_types))) # (0.825698988697204, 0.12012012012012013, 0.055131712154931733)"
      ],
      "execution_count": 34,
      "outputs": [
        {
          "output_type": "stream",
          "text": [
            "(0.825698988697204, 0.12012012012012013, 0.055131712154931733)\n"
          ],
          "name": "stdout"
        }
      ]
    },
    {
      "metadata": {
        "colab_type": "text",
        "id": "txDtnfXznW88"
      },
      "cell_type": "markdown",
      "source": [
        "<hr>\n",
        "<h1>\n",
        "8. Do the same for tree2 (10 points)\n",
        "</h1>\n",
        "<p>\n",
        "<div class=h1_cell>\n",
        "<p>\n",
        "Build a tree with depth of 4 and then print accuracy, f1 and informedness scores.\n",
        "<p>\n",
        "</div>"
      ]
    },
    {
      "metadata": {
        "colab_type": "text",
        "id": "QO_Sys5YK05u"
      },
      "cell_type": "markdown",
      "source": [
        "<hr>\n",
        "<center><h3>My output to use as target</h3></center>\n",
        "<DIV ALIGN=left>\n",
        "<pre>\n",
        "true_negative     4108\n",
        "false_negative     826\n",
        "true_positive       61\n",
        "false_positive      48\n",
        "(0.8266904620265715, 0.12248995983935741, 0.05722157177843146)\n",
        "</pre>\n",
        "  </div>\n",
        "<hr>"
      ]
    },
    {
      "metadata": {
        "colab_type": "code",
        "id": "p9xvyZ7QnW9D",
        "colab": {}
      },
      "cell_type": "code",
      "source": [
        "#your code here for building tree2\n",
        "tree2 = build_tree_iter(movie_table, column_candidates, 'winner', {'max-depth': 4})\n"
      ],
      "execution_count": 0,
      "outputs": []
    },
    {
      "metadata": {
        "colab_type": "code",
        "id": "s0eoTOqcLNT8",
        "outputId": "9185a25f-98f2-4b1a-8652-b9ccd8ca828e",
        "colab": {
          "base_uri": "https://localhost:8080/",
          "height": 34
        }
      },
      "cell_type": "code",
      "source": [
        "print(len(tree2['paths']))  #should be 16\n",
        "#tree2['paths']"
      ],
      "execution_count": 36,
      "outputs": [
        {
          "output_type": "stream",
          "text": [
            "16\n"
          ],
          "name": "stdout"
        }
      ]
    },
    {
      "metadata": {
        "colab_type": "code",
        "id": "vh0BeufJnW9H",
        "colab": {}
      },
      "cell_type": "code",
      "source": [
        "#your code here for generating scores\n",
        "movie_results['tree_2'] = movie_table.apply(lambda row: tree_predictor(row, tree2), axis= 1)\n",
        "movie_results['tree_2_type'] = movie_results.apply(lambda row: predictor_case(row, pred='tree_2', target='winner'), axis=1)\n",
        "tree_2_types = movie_results['tree_2_type'].value_counts()\n"
      ],
      "execution_count": 0,
      "outputs": []
    },
    {
      "metadata": {
        "colab_type": "code",
        "id": "AvyN6Yw7nW9K",
        "outputId": "ee1289da-faaa-45b6-fc01-4f1b9023e585",
        "colab": {
          "base_uri": "https://localhost:8080/",
          "height": 102
        }
      },
      "cell_type": "code",
      "source": [
        "tree_2_types  #check against above"
      ],
      "execution_count": 38,
      "outputs": [
        {
          "output_type": "execute_result",
          "data": {
            "text/plain": [
              "true_negative     4108\n",
              "false_negative     826\n",
              "true_positive       61\n",
              "false_positive      48\n",
              "Name: tree_2_type, dtype: int64"
            ]
          },
          "metadata": {
            "tags": []
          },
          "execution_count": 38
        }
      ]
    },
    {
      "metadata": {
        "colab_type": "code",
        "id": "-E4CUt1bnW9P",
        "outputId": "44ede04b-b506-439e-d49a-5d7840e44f8d",
        "colab": {
          "base_uri": "https://localhost:8080/",
          "height": 34
        }
      },
      "cell_type": "code",
      "source": [
        "print((accuracy(tree_2_types), f1(tree_2_types), informedness(tree_2_types))) #(0.8266904620265715, 0.12248995983935741, 0.05722157177843146)"
      ],
      "execution_count": 39,
      "outputs": [
        {
          "output_type": "stream",
          "text": [
            "(0.8266904620265715, 0.12248995983935741, 0.05722157177843146)\n"
          ],
          "name": "stdout"
        }
      ]
    },
    {
      "metadata": {
        "colab_type": "text",
        "id": "eCAjefJqnW9T"
      },
      "cell_type": "markdown",
      "source": [
        "<hr>\n",
        "<h1>\n",
        "9: Write a function to find out how many times a column is used in a tree (30 points)\n",
        "</h1>\n",
        "<p>\n",
        "<div class=h1_cell>\n",
        "<p>\n",
        "For a specific tree, which columns actually get used when building the tree? And how many times do they appear? Write a function `column_counts` that takes a tree in as input and produces a dictionary of columns that the tree uses as keys and how often as values. Test it on tree1 and tree2.\n",
        "  <p>\n",
        "    Note that this has nothing to do with a table. It is just an analysis of the structure of the tree.\n",
        "<p>\n",
        "Here are my results for tree1:\n",
        "<p>\n",
        "<pre>\n",
        "{'budget_low': 4,\n",
        " 'budget_nan': 2,\n",
        " 'film_type_Black and White': 8,\n",
        " 'thriller': 4,\n",
        " 'usa_made': 6}\n",
        "</pre>\n",
        "<p>\n",
        "</div>"
      ]
    },
    {
      "metadata": {
        "colab_type": "code",
        "id": "NoPUC5aRnW9T",
        "colab": {}
      },
      "cell_type": "code",
      "source": [
        "#define function here\n",
        "\n",
        "def column_counts(tree):\n",
        "  assert (len(tree['paths']) > 0), \"Tree must have at least one path\"\n",
        "  columns = {}\n",
        "  for path in tree['paths']: \n",
        "    conjunct = path['conjunction'] #pull out the conjunction \n",
        "    cols = map(lambda tuple: tuple[0], conjunct) # get a list of all the columns\n",
        "    for column in cols:  \n",
        "      column = column[:-2] # remove the _X\n",
        "      if columns.get(column) == None: # if column not in the dict already set value to 1\n",
        "        columns[column] = 1\n",
        "      else: # else increment the value\n",
        "        columns[column]+=1\n",
        "  return columns\n",
        "    \n"
      ],
      "execution_count": 0,
      "outputs": []
    },
    {
      "metadata": {
        "colab_type": "code",
        "id": "b_nRhcounW9W",
        "outputId": "edc54b6c-d242-4491-c586-281988163943",
        "colab": {
          "base_uri": "https://localhost:8080/",
          "height": 102
        }
      },
      "cell_type": "code",
      "source": [
        "column_counts(tree1)  #check results against above"
      ],
      "execution_count": 47,
      "outputs": [
        {
          "output_type": "execute_result",
          "data": {
            "text/plain": [
              "{'budget_low': 4,\n",
              " 'budget_nan': 2,\n",
              " 'film_type_Black and White': 8,\n",
              " 'thriller': 4,\n",
              " 'usa_made': 6}"
            ]
          },
          "metadata": {
            "tags": []
          },
          "execution_count": 47
        }
      ]
    },
    {
      "metadata": {
        "colab_type": "text",
        "id": "KH_BuQUqnW9b"
      },
      "cell_type": "markdown",
      "source": [
        "<div class=h1_cell>\n",
        "\n",
        "Here are my results for tree2:\n",
        "<p>\n",
        "<pre>\n",
        "{'budget_high': 4,\n",
        " 'budget_low': 8,\n",
        " 'budget_nan': 6,\n",
        " 'film_type_Black and White': 16,\n",
        " 'thriller': 14,\n",
        " 'usa_made': 16}\n",
        "</pre>\n",
        "<p>\n",
        "</div>"
      ]
    },
    {
      "metadata": {
        "colab_type": "code",
        "id": "R9BD5I3VnW9b",
        "outputId": "50ec5171-d6e7-4324-8334-5dc84ac59d03",
        "colab": {
          "base_uri": "https://localhost:8080/",
          "height": 119
        }
      },
      "cell_type": "code",
      "source": [
        "column_counts(tree2)  #check against above"
      ],
      "execution_count": 48,
      "outputs": [
        {
          "output_type": "execute_result",
          "data": {
            "text/plain": [
              "{'budget_high': 4,\n",
              " 'budget_low': 8,\n",
              " 'budget_nan': 6,\n",
              " 'film_type_Black and White': 16,\n",
              " 'thriller': 14,\n",
              " 'usa_made': 16}"
            ]
          },
          "metadata": {
            "tags": []
          },
          "execution_count": 48
        }
      ]
    },
    {
      "metadata": {
        "colab_type": "text",
        "id": "V6bgNPGNnW9h"
      },
      "cell_type": "markdown",
      "source": [
        "<hr>\n",
        "<h1>\n",
        "Extra credit: Find shortest path in tree\n",
        "</h1>\n",
        "<p>\n",
        "<div class=h1_cell>\n",
        "<p>\n",
        "Write a function to find the shortest paths in a tree. If there is a unique shortest path then your list will just have one path. If there are ties, the list will include all that tied.\n",
        "<p>\n",
        "</div>"
      ]
    },
    {
      "metadata": {
        "colab_type": "code",
        "id": "RASCYprunW9i",
        "colab": {}
      },
      "cell_type": "code",
      "source": [
        "#your function here\n",
        "def list_of_shortest(tree):\n",
        "  shortest = []\n",
        "  slength = 0\n",
        "  for path in tree['paths']:\n",
        "    conjunct = path['conjunction'] #pull out the conjunction \n",
        "    if slength == 0: \n",
        "      slength = len(conjunct)\n",
        "      shortest.append(path)\n",
        "    else: \n",
        "      if len(conjunct) <= slength: \n",
        "        if len(conjunct) < slength:\n",
        "          shortest.clear()\n",
        "        shortest.append(path)\n",
        "  return shortest"
      ],
      "execution_count": 0,
      "outputs": []
    },
    {
      "metadata": {
        "colab_type": "text",
        "id": "3plt6AjNnW9l"
      },
      "cell_type": "markdown",
      "source": [
        "<hr>\n",
        "<h1>\n",
        "Here is some testing code\n",
        "</h1>\n",
        "<p>\n",
        "<div class=h1_cell>\n",
        "<p>\n",
        "I am making a copy of tree1 then manipulating the first path, i.e., I am slicing it. I can slice it down to one predicate, 2 predicates, etc.\n",
        "<p>\n",
        "You can change the value of n from 1 to longest path. For each value of n run your function to make sure you get correct result.\n",
        "<p>\n",
        "</div>"
      ]
    },
    {
      "metadata": {
        "colab_type": "code",
        "id": "9a-6BipinW9o",
        "colab": {}
      },
      "cell_type": "code",
      "source": [
        "import copy\n",
        "\n",
        "def path_tester(tree, n):\n",
        "  tree_test = copy.deepcopy(tree)\n",
        "  slice = tree_test['paths'][0:n]  #slice\n",
        "  tree_test['paths'] = slice\n",
        "  print(('length of paths considered', len(slice)))\n",
        "  return list_of_shortest(tree_test)"
      ],
      "execution_count": 0,
      "outputs": []
    },
    {
      "metadata": {
        "colab_type": "code",
        "id": "axD949YlnW9q",
        "outputId": "c6cda7a7-6c05-46f1-908b-2b30671641b0",
        "colab": {
          "base_uri": "https://localhost:8080/",
          "height": 153
        }
      },
      "cell_type": "code",
      "source": [
        "path_tester(tree1, 1)  #list of one path of length 3"
      ],
      "execution_count": 55,
      "outputs": [
        {
          "output_type": "stream",
          "text": [
            "('length of paths considered', 1)\n"
          ],
          "name": "stdout"
        },
        {
          "output_type": "execute_result",
          "data": {
            "text/plain": [
              "[{'conjunction': [('film_type_Black and White_1',\n",
              "    <function library_w19_week4b.build_pred.<locals>.<lambda>>),\n",
              "   ('budget_low_1',\n",
              "    <function library_w19_week4b.build_pred.<locals>.<lambda>>),\n",
              "   ('thriller_1', <function library_w19_week4b.build_pred.<locals>.<lambda>>)],\n",
              "  'gig_score': 0.005303667858896077,\n",
              "  'prediction': 1}]"
            ]
          },
          "metadata": {
            "tags": []
          },
          "execution_count": 55
        }
      ]
    },
    {
      "metadata": {
        "colab_type": "code",
        "id": "vMf_GhCIdaVy",
        "outputId": "3d08cb1b-3b69-44ce-fb3c-c7c3519dd0fd",
        "colab": {
          "base_uri": "https://localhost:8080/",
          "height": 272
        }
      },
      "cell_type": "code",
      "source": [
        "path_tester(tree1, 2)  #list of 2 paths of length 3"
      ],
      "execution_count": 56,
      "outputs": [
        {
          "output_type": "stream",
          "text": [
            "('length of paths considered', 2)\n"
          ],
          "name": "stdout"
        },
        {
          "output_type": "execute_result",
          "data": {
            "text/plain": [
              "[{'conjunction': [('film_type_Black and White_1',\n",
              "    <function library_w19_week4b.build_pred.<locals>.<lambda>>),\n",
              "   ('budget_low_1',\n",
              "    <function library_w19_week4b.build_pred.<locals>.<lambda>>),\n",
              "   ('thriller_1', <function library_w19_week4b.build_pred.<locals>.<lambda>>)],\n",
              "  'gig_score': 0.005303667858896077,\n",
              "  'prediction': 1},\n",
              " {'conjunction': [('film_type_Black and White_1',\n",
              "    <function library_w19_week4b.build_pred.<locals>.<lambda>>),\n",
              "   ('budget_low_1',\n",
              "    <function library_w19_week4b.build_pred.<locals>.<lambda>>),\n",
              "   ('thriller_0', <function library_w19_week4b.build_pred.<locals>.<lambda>>)],\n",
              "  'gig_score': 0.005303667858896077,\n",
              "  'prediction': 1}]"
            ]
          },
          "metadata": {
            "tags": []
          },
          "execution_count": 56
        }
      ]
    },
    {
      "metadata": {
        "colab_type": "code",
        "id": "Bj4ssDMbhe5s",
        "outputId": "ca35f0bf-1b6c-421d-f21c-da0c8d89462a",
        "colab": {
          "base_uri": "https://localhost:8080/",
          "height": 391
        }
      },
      "cell_type": "code",
      "source": [
        "path_tester(tree1, 3)  #list of 3 paths of length 3"
      ],
      "execution_count": 57,
      "outputs": [
        {
          "output_type": "stream",
          "text": [
            "('length of paths considered', 3)\n"
          ],
          "name": "stdout"
        },
        {
          "output_type": "execute_result",
          "data": {
            "text/plain": [
              "[{'conjunction': [('film_type_Black and White_1',\n",
              "    <function library_w19_week4b.build_pred.<locals>.<lambda>>),\n",
              "   ('budget_low_1',\n",
              "    <function library_w19_week4b.build_pred.<locals>.<lambda>>),\n",
              "   ('thriller_1', <function library_w19_week4b.build_pred.<locals>.<lambda>>)],\n",
              "  'gig_score': 0.005303667858896077,\n",
              "  'prediction': 1},\n",
              " {'conjunction': [('film_type_Black and White_1',\n",
              "    <function library_w19_week4b.build_pred.<locals>.<lambda>>),\n",
              "   ('budget_low_1',\n",
              "    <function library_w19_week4b.build_pred.<locals>.<lambda>>),\n",
              "   ('thriller_0', <function library_w19_week4b.build_pred.<locals>.<lambda>>)],\n",
              "  'gig_score': 0.005303667858896077,\n",
              "  'prediction': 1},\n",
              " {'conjunction': [('film_type_Black and White_1',\n",
              "    <function library_w19_week4b.build_pred.<locals>.<lambda>>),\n",
              "   ('budget_low_0',\n",
              "    <function library_w19_week4b.build_pred.<locals>.<lambda>>),\n",
              "   ('usa_made_1', <function library_w19_week4b.build_pred.<locals>.<lambda>>)],\n",
              "  'gig_score': 0.019071756174530274,\n",
              "  'prediction': 0}]"
            ]
          },
          "metadata": {
            "tags": []
          },
          "execution_count": 57
        }
      ]
    },
    {
      "metadata": {
        "colab_type": "code",
        "id": "-Zv7VV3EhznY",
        "outputId": "ef49aa36-1e28-4e86-8b01-9a73adcc87e4",
        "colab": {
          "base_uri": "https://localhost:8080/",
          "height": 952
        }
      },
      "cell_type": "code",
      "source": [
        "path_tester(tree1, len(tree1['paths']))  #list of 8 paths of length 3"
      ],
      "execution_count": 58,
      "outputs": [
        {
          "output_type": "stream",
          "text": [
            "('length of paths considered', 8)\n"
          ],
          "name": "stdout"
        },
        {
          "output_type": "execute_result",
          "data": {
            "text/plain": [
              "[{'conjunction': [('film_type_Black and White_1',\n",
              "    <function library_w19_week4b.build_pred.<locals>.<lambda>>),\n",
              "   ('budget_low_1',\n",
              "    <function library_w19_week4b.build_pred.<locals>.<lambda>>),\n",
              "   ('thriller_1', <function library_w19_week4b.build_pred.<locals>.<lambda>>)],\n",
              "  'gig_score': 0.005303667858896077,\n",
              "  'prediction': 1},\n",
              " {'conjunction': [('film_type_Black and White_1',\n",
              "    <function library_w19_week4b.build_pred.<locals>.<lambda>>),\n",
              "   ('budget_low_1',\n",
              "    <function library_w19_week4b.build_pred.<locals>.<lambda>>),\n",
              "   ('thriller_0', <function library_w19_week4b.build_pred.<locals>.<lambda>>)],\n",
              "  'gig_score': 0.005303667858896077,\n",
              "  'prediction': 1},\n",
              " {'conjunction': [('film_type_Black and White_1',\n",
              "    <function library_w19_week4b.build_pred.<locals>.<lambda>>),\n",
              "   ('budget_low_0',\n",
              "    <function library_w19_week4b.build_pred.<locals>.<lambda>>),\n",
              "   ('usa_made_1', <function library_w19_week4b.build_pred.<locals>.<lambda>>)],\n",
              "  'gig_score': 0.019071756174530274,\n",
              "  'prediction': 0},\n",
              " {'conjunction': [('film_type_Black and White_1',\n",
              "    <function library_w19_week4b.build_pred.<locals>.<lambda>>),\n",
              "   ('budget_low_0',\n",
              "    <function library_w19_week4b.build_pred.<locals>.<lambda>>),\n",
              "   ('usa_made_0', <function library_w19_week4b.build_pred.<locals>.<lambda>>)],\n",
              "  'gig_score': 0.019071756174530274,\n",
              "  'prediction': 0},\n",
              " {'conjunction': [('film_type_Black and White_0',\n",
              "    <function library_w19_week4b.build_pred.<locals>.<lambda>>),\n",
              "   ('usa_made_1', <function library_w19_week4b.build_pred.<locals>.<lambda>>),\n",
              "   ('budget_nan_1',\n",
              "    <function library_w19_week4b.build_pred.<locals>.<lambda>>)],\n",
              "  'gig_score': 0.0010395942970248817,\n",
              "  'prediction': 0},\n",
              " {'conjunction': [('film_type_Black and White_0',\n",
              "    <function library_w19_week4b.build_pred.<locals>.<lambda>>),\n",
              "   ('usa_made_1', <function library_w19_week4b.build_pred.<locals>.<lambda>>),\n",
              "   ('budget_nan_0',\n",
              "    <function library_w19_week4b.build_pred.<locals>.<lambda>>)],\n",
              "  'gig_score': 0.0010395942970248817,\n",
              "  'prediction': 0},\n",
              " {'conjunction': [('film_type_Black and White_0',\n",
              "    <function library_w19_week4b.build_pred.<locals>.<lambda>>),\n",
              "   ('usa_made_0', <function library_w19_week4b.build_pred.<locals>.<lambda>>),\n",
              "   ('thriller_1', <function library_w19_week4b.build_pred.<locals>.<lambda>>)],\n",
              "  'gig_score': 0.0045063979136308885,\n",
              "  'prediction': 0},\n",
              " {'conjunction': [('film_type_Black and White_0',\n",
              "    <function library_w19_week4b.build_pred.<locals>.<lambda>>),\n",
              "   ('usa_made_0', <function library_w19_week4b.build_pred.<locals>.<lambda>>),\n",
              "   ('thriller_0', <function library_w19_week4b.build_pred.<locals>.<lambda>>)],\n",
              "  'gig_score': 0.0045063979136308885,\n",
              "  'prediction': 0}]"
            ]
          },
          "metadata": {
            "tags": []
          },
          "execution_count": 58
        }
      ]
    }
  ]
}