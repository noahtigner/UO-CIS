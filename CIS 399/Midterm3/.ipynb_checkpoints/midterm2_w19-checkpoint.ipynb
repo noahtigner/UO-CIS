{
 "cells": [
  {
   "cell_type": "markdown",
   "metadata": {
    "colab_type": "text",
    "id": "CcejYk1YkV0f"
   },
   "source": [
    "<h1>\n",
    "<center>\n",
    "Midterm 2\n",
    "</center>\n",
    "</h1>\n",
    "<div class=h1_cell>\n",
    "<p>\n",
    "There are 2 parts on the midterm, 50 points each. Each part has 3 questions. There is also an extra credit problem at the end.\n",
    "<p>\n",
    "We will use the Titanic table for this midterm. I have a wrangled version of it on google sheets that I set up for you.\n",
    "<p>\n",
    "</div>"
   ]
  },
  {
   "cell_type": "code",
   "execution_count": 1,
   "metadata": {
    "colab": {},
    "colab_type": "code",
    "id": "vkh1bqA3kV0m"
   },
   "outputs": [],
   "source": [
    "import pandas as pd\n",
    "\n",
    "\n",
    "titanic_table = pd.read_csv('https://docs.google.com/spreadsheets/d/e/2PACX-1vR2XbLnUuYlxaFMdS8_bBX3iKUIDEii6Lg5Rxesf-Oh8a6z8-vAN6UDGejaOrBg5130h4O_dLkecKWQ/pub?output=csv')\n",
    "\n"
   ]
  },
  {
   "cell_type": "code",
   "execution_count": 2,
   "metadata": {
    "colab": {},
    "colab_type": "code",
    "id": "uScGH6USkV0r"
   },
   "outputs": [],
   "source": [
    "pd.set_option('display.max_columns', None)"
   ]
  },
  {
   "cell_type": "code",
   "execution_count": 3,
   "metadata": {
    "colab": {
     "base_uri": "https://localhost:8080/",
     "height": 147
    },
    "colab_type": "code",
    "id": "5AEsijjqF3JH",
    "outputId": "e3eee669-a97b-4b40-cc8d-8de675996699"
   },
   "outputs": [
    {
     "data": {
      "text/html": [
       "<div>\n",
       "<style scoped>\n",
       "    .dataframe tbody tr th:only-of-type {\n",
       "        vertical-align: middle;\n",
       "    }\n",
       "\n",
       "    .dataframe tbody tr th {\n",
       "        vertical-align: top;\n",
       "    }\n",
       "\n",
       "    .dataframe thead th {\n",
       "        text-align: right;\n",
       "    }\n",
       "</style>\n",
       "<table border=\"1\" class=\"dataframe\">\n",
       "  <thead>\n",
       "    <tr style=\"text-align: right;\">\n",
       "      <th></th>\n",
       "      <th>Survived</th>\n",
       "      <th>Pclass</th>\n",
       "      <th>Name</th>\n",
       "      <th>Sex</th>\n",
       "      <th>Age</th>\n",
       "      <th>SibSp</th>\n",
       "      <th>Parch</th>\n",
       "      <th>Ticket</th>\n",
       "      <th>Fare</th>\n",
       "      <th>Cabin</th>\n",
       "      <th>Embarked</th>\n",
       "      <th>no_age</th>\n",
       "      <th>filled_age</th>\n",
       "      <th>emb_C</th>\n",
       "      <th>emb_Q</th>\n",
       "      <th>emb_S</th>\n",
       "      <th>emb_nan</th>\n",
       "      <th>age_bin</th>\n",
       "      <th>age_Child</th>\n",
       "      <th>age_Adult</th>\n",
       "      <th>age_Senior</th>\n",
       "      <th>sex_female</th>\n",
       "      <th>sex_male</th>\n",
       "      <th>ok_child</th>\n",
       "      <th>pclass_1</th>\n",
       "      <th>pclass_2</th>\n",
       "      <th>pclass_3</th>\n",
       "      <th>pclass_nan</th>\n",
       "    </tr>\n",
       "  </thead>\n",
       "  <tbody>\n",
       "    <tr>\n",
       "      <th>0</th>\n",
       "      <td>0</td>\n",
       "      <td>3</td>\n",
       "      <td>Braund, Mr. Owen Harris</td>\n",
       "      <td>male</td>\n",
       "      <td>22.0</td>\n",
       "      <td>1</td>\n",
       "      <td>0</td>\n",
       "      <td>A/5 21171</td>\n",
       "      <td>7.25</td>\n",
       "      <td>NaN</td>\n",
       "      <td>S</td>\n",
       "      <td>0</td>\n",
       "      <td>22.0</td>\n",
       "      <td>0</td>\n",
       "      <td>0</td>\n",
       "      <td>1</td>\n",
       "      <td>0</td>\n",
       "      <td>Child</td>\n",
       "      <td>1</td>\n",
       "      <td>0</td>\n",
       "      <td>0</td>\n",
       "      <td>0</td>\n",
       "      <td>1</td>\n",
       "      <td>0</td>\n",
       "      <td>0</td>\n",
       "      <td>0</td>\n",
       "      <td>1</td>\n",
       "      <td>0</td>\n",
       "    </tr>\n",
       "  </tbody>\n",
       "</table>\n",
       "</div>"
      ],
      "text/plain": [
       "   Survived  Pclass                     Name   Sex   Age  SibSp  Parch  \\\n",
       "0         0       3  Braund, Mr. Owen Harris  male  22.0      1      0   \n",
       "\n",
       "      Ticket  Fare Cabin Embarked  no_age  filled_age  emb_C  emb_Q  emb_S  \\\n",
       "0  A/5 21171  7.25   NaN        S       0        22.0      0      0      1   \n",
       "\n",
       "   emb_nan age_bin  age_Child  age_Adult  age_Senior  sex_female  sex_male  \\\n",
       "0        0   Child          1          0           0           0         1   \n",
       "\n",
       "   ok_child  pclass_1  pclass_2  pclass_3  pclass_nan  \n",
       "0         0         0         0         1           0  "
      ]
     },
     "execution_count": 3,
     "metadata": {},
     "output_type": "execute_result"
    }
   ],
   "source": [
    "titanic_table.head(1)"
   ]
  },
  {
   "cell_type": "code",
   "execution_count": 95,
   "metadata": {},
   "outputs": [],
   "source": [
    "#rm library_w19_week7.py"
   ]
  },
  {
   "cell_type": "code",
   "execution_count": 4,
   "metadata": {
    "colab": {
     "base_uri": "https://localhost:8080/",
     "height": 84
    },
    "colab_type": "code",
    "id": "Il6HlbWggzMB",
    "outputId": "5ef510fe-e7f5-403c-ba37-d51b4c5cc354"
   },
   "outputs": [
    {
     "name": "stdout",
     "output_type": "stream",
     "text": [
      "accuracy\t build_pred\t build_tree_iter\t compute_prediction\t compute_training\t euclidean_distance\t f1\t find_best_splitter\t forest_builder\t \n",
      "forest_scores\t generate_table\t gig\t gini\t informedness\t k_fold\t k_fold_random\t knn\t knn_tester\t \n",
      "path_id\t predictor_case\t probabilities\t produce_scores\t reorder_paths\t tree_predictor\t verify_unique\t vote_taker\t \n"
     ]
    }
   ],
   "source": [
    "from library_w19_week7 import *\n",
    "\n",
    "%who function"
   ]
  },
  {
   "cell_type": "markdown",
   "metadata": {
    "colab_type": "text",
    "id": "mYPJRcSZsznx"
   },
   "source": [
    "<h2>Columns used in all questions</h2>\n",
    "\n",
    "We will use 14 columns from the table to make predictions on `Survived`."
   ]
  },
  {
   "cell_type": "code",
   "execution_count": 5,
   "metadata": {
    "colab": {},
    "colab_type": "code",
    "id": "3TDm9WllKCAv"
   },
   "outputs": [],
   "source": [
    "usable_columns = [\n",
    " 'emb_C',\n",
    " 'emb_Q',\n",
    " 'emb_S',\n",
    " 'emb_nan',\n",
    " 'age_Child',\n",
    " 'age_Adult',\n",
    " 'age_Senior',\n",
    " 'no_age',\n",
    " 'ok_child',\n",
    " 'sex_female',\n",
    " 'pclass_1',\n",
    " 'pclass_2',\n",
    " 'pclass_3',\n",
    " 'pclass_nan'\n",
    "]\n",
    "\n",
    "target = 'Survived'"
   ]
  },
  {
   "cell_type": "markdown",
   "metadata": {
    "colab_type": "text",
    "id": "843csVX-py7C"
   },
   "source": [
    "<h1>\n",
    "Part 1. Explore random forest behavior\n",
    "</h1>\n",
    "<div class=h1_cell>\n",
    "<p>\n",
    "For prediction purposes, we have been treating a forest as a single predictor. It does call on its trees to get a prediction, but we don't see that. All we see is the final prediction. I'd like to dig deeper into individual tree behavior. I'll ask you to complete a set of programming problems to do this.\n",
    "</div>"
   ]
  },
  {
   "cell_type": "markdown",
   "metadata": {
    "colab_type": "text",
    "id": "l9S58jH5py7D"
   },
   "source": [
    "<h2>\n",
    "Problem 1. Build a matrix of tree predictions (10 points)\n",
    "</h2>\n",
    "<div class=h1_cell>\n",
    "<p>\n",
    "The matrix will be a list of lists. Let's say the forest we are working with has 11 trees. Then the first list will be the predictions of the 11 trees for row 0 of the Titanic table, i.e., it will be a list of 11 binary values. The next list will be the 11 predictions for row 1 of the Titanic table. Given that we have 891 rows in the Titanic table, we will have 891 lists in our outer list.\n",
    "<p>\n",
    "Let's say I store my matrix in `all_trees`. Then `all_trees[i][j]` will represent the vote of the jth tree for row i.\n",
    "  <p>\n",
    "    Here is what you should see for the first 10 rows.\n",
    "<p>\n",
    "<pre>\n",
    "[[0, 0, 0, 0, 0, 0, 0, 0, 0, 0, 0],\n",
    " [1, 1, 1, 0, 1, 1, 0, 1, 1, 0, 1],\n",
    " [0, 1, 0, 0, 1, 0, 1, 0, 0, 0, 0],\n",
    " [1, 1, 1, 0, 1, 0, 1, 1, 0, 1, 1],\n",
    " [0, 0, 0, 0, 0, 0, 0, 0, 0, 0, 0],\n",
    " [0, 0, 0, 0, 0, 0, 0, 0, 0, 0, 0],\n",
    " [1, 0, 0, 0, 0, 0, 0, 0, 0, 1, 0],\n",
    " [0, 0, 1, 0, 0, 1, 0, 0, 1, 0, 0],\n",
    " [0, 1, 0, 0, 1, 0, 1, 0, 0, 0, 0],\n",
    " [1, 1, 1, 1, 1, 1, 1, 0, 1, 0, 1]]\n",
    " </pre>\n",
    "\n",
    "</div>"
   ]
  },
  {
   "cell_type": "markdown",
   "metadata": {
    "colab_type": "text",
    "id": "kr4hJ08Tpy7D"
   },
   "source": [
    "<h2>\n",
    "Here is forest to test on\n",
    "</h2>\n",
    "<div class=h1_cell>\n",
    "<p>\n",
    "  But first set random seeds so you get same results as mine.\n",
    "</div>"
   ]
  },
  {
   "cell_type": "code",
   "execution_count": 6,
   "metadata": {
    "colab": {},
    "colab_type": "code",
    "id": "NN01O5OJqioB"
   },
   "outputs": [],
   "source": [
    "import random\n",
    "\n",
    "rng = np.random.RandomState(24)  #Will pass as arg to pandas sample method\n",
    "random.seed(2000)"
   ]
  },
  {
   "cell_type": "code",
   "execution_count": 7,
   "metadata": {
    "colab": {
     "base_uri": "https://localhost:8080/",
     "height": 34
    },
    "colab_type": "code",
    "id": "GysL7AY8py7N",
    "outputId": "6f821a0c-eb81-4a20-b74e-15baff2667fa"
   },
   "outputs": [
    {
     "data": {
      "text/plain": [
       "11"
      ]
     },
     "execution_count": 7,
     "metadata": {},
     "output_type": "execute_result"
    }
   ],
   "source": [
    "forest11 = forest_builder(titanic_table, usable_columns, target, hypers={'total-trees':11, 'random-state':rng})\n",
    "len(forest11)"
   ]
  },
  {
   "cell_type": "markdown",
   "metadata": {
    "colab_type": "text",
    "id": "IHHWb3Vj2xns"
   },
   "source": [
    "Now build the matrix and check your results against mine above."
   ]
  },
  {
   "cell_type": "code",
   "execution_count": 14,
   "metadata": {
    "colab": {
     "base_uri": "https://localhost:8080/",
     "height": 185
    },
    "colab_type": "code",
    "id": "UjMSCnflpy7R",
    "outputId": "ee9ec139-16b1-4071-bc29-07adc8462c09"
   },
   "outputs": [
    {
     "data": {
      "text/plain": [
       "[[0, 0, 0, 0, 0, 0, 0, 0, 0, 0, 0],\n",
       " [1, 1, 1, 0, 1, 1, 0, 1, 1, 0, 1],\n",
       " [0, 1, 0, 0, 1, 0, 1, 0, 0, 0, 0],\n",
       " [1, 1, 1, 0, 1, 0, 1, 1, 0, 1, 1],\n",
       " [0, 0, 0, 0, 0, 0, 0, 0, 0, 0, 0],\n",
       " [0, 0, 0, 0, 0, 0, 0, 0, 0, 0, 0],\n",
       " [1, 0, 0, 0, 0, 0, 0, 0, 0, 1, 0],\n",
       " [0, 0, 1, 0, 0, 1, 0, 0, 1, 0, 0],\n",
       " [0, 1, 0, 0, 1, 0, 1, 0, 0, 0, 0],\n",
       " [1, 1, 1, 1, 1, 1, 1, 0, 1, 0, 1]]"
      ]
     },
     "execution_count": 14,
     "metadata": {},
     "output_type": "execute_result"
    }
   ],
   "source": [
    "all_trees = []\n",
    "for i in range(len(titanic_table)):    #for row in table\n",
    "    row_prediction = [];\n",
    "    \n",
    "    #could use enumerate\n",
    "    for m in forest11:                 #for tree in forest\n",
    "        row_prediction.append(tree_predictor(titanic_table.loc[i], m))    #tree_predictor(row, tree)\n",
    "    all_trees.append(row_prediction)\n",
    "\n",
    "all_trees[:10]"
   ]
  },
  {
   "cell_type": "markdown",
   "metadata": {
    "colab_type": "text",
    "id": "Jci-WoYQkV1E"
   },
   "source": [
    "<h1>\n",
    "Problem 2: The most correct tree (10 points)\n",
    "</h1>\n",
    "<div class=h1_cell>\n",
    "<p>\n",
    "Produce an ordered list, from most correct to least correct, of the 11 trees taken over the 891 rows. A tree is correct if its prediction matches the `Survived` column in the target row. Here are my results.\n",
    "  <pre>\n",
    "[(2, 707),\n",
    " (1, 701),\n",
    " (10, 701),\n",
    " (4, 674),\n",
    " (6, 643),\n",
    " (7, 637),\n",
    " (3, 613),\n",
    " (0, 595),\n",
    " (5, 581),\n",
    " (8, 577),\n",
    " (9, 574)]\n",
    " </pre>\n",
    "  The winner is tree2. It was correct 707 out of 891 times.\n",
    "</div>"
   ]
  },
  {
   "cell_type": "code",
   "execution_count": 23,
   "metadata": {
    "colab": {
     "base_uri": "https://localhost:8080/",
     "height": 202
    },
    "colab_type": "code",
    "id": "qOQr56-AWICk",
    "outputId": "ccfc34b8-de52-41b2-ae56-1282ea6c8de2",
    "scrolled": true
   },
   "outputs": [
    {
     "data": {
      "text/plain": [
       "[(2, 707),\n",
       " (1, 701),\n",
       " (10, 701),\n",
       " (4, 674),\n",
       " (6, 643),\n",
       " (7, 637),\n",
       " (3, 613),\n",
       " (0, 595),\n",
       " (5, 581),\n",
       " (8, 577),\n",
       " (9, 574)]"
      ]
     },
     "execution_count": 23,
     "metadata": {},
     "output_type": "execute_result"
    }
   ],
   "source": [
    "correctness = {}\n",
    "\n",
    "# initialize the dict to 0 for each tree's correctness count\n",
    "for i in range(len(forest11)):\n",
    "    correctness[i] = 0\n",
    "    \n",
    "for i in range(len(titanic_table)):\n",
    "    row_predictions = all_trees[i]\n",
    "    row_in_table = titanic_table.loc[i]\n",
    "    target_value = row_in_table[target]\n",
    "    for j in range(len(row_predictions)):\n",
    "        if (row_predictions[j] == target_value):\n",
    "            correctness[j]+=1\n",
    "\n",
    "correctness = sorted(correctness.items(), key=lambda pair: pair[1], reverse=True)\n",
    "correctness"
   ]
  },
  {
   "cell_type": "markdown",
   "metadata": {
    "colab_type": "text",
    "id": "7e4hXgK9So7t"
   },
   "source": [
    "<h1>\n",
    "Problem 3: voting blocks (30 points)\n",
    "</h1>\n",
    "<div class=h1_cell>\n",
    "<p>\n",
    "Taking trees pairwise, produce an ordered list of which trees vote the same (right or wrong) most often.\n",
    "  <p>\n",
    "    For each specific row:\n",
    "    <pre>\n",
    " 1. if (tree1,tree2) vote the same then I record that.\n",
    " 2. if (tree1,tree3) vote the same then I record that.\n",
    " etc\n",
    "</pre>\n",
    "I do that for the entire table. Here is first part of sorted list I got for forest11.\n",
    "<pre>\n",
    "[[((5, 8), 887),\n",
    " ((2, 10), 863),\n",
    " ((7, 10), 815),\n",
    " ((1, 4), 810),\n",
    " ((3, 10), 797),\n",
    " ((2, 7), 787),\n",
    " ((1, 6), 785),\n",
    " ((4, 6), 780),\n",
    " ((2, 3), 769),\n",
    " ((7, 9), 754)]\n",
    "</pre>\n",
    "  So tree5 and tree8 vote the same (right or wrong) 887 out of 891 times.\n",
    "</div>"
   ]
  },
  {
   "cell_type": "code",
   "execution_count": 24,
   "metadata": {
    "colab": {
     "base_uri": "https://localhost:8080/",
     "height": 185
    },
    "colab_type": "code",
    "id": "6GbkATeMdZZE",
    "outputId": "79a7b091-2872-4f7b-cb4e-9ff5d5703cd9"
   },
   "outputs": [
    {
     "data": {
      "text/plain": [
       "[((5, 8), 887),\n",
       " ((2, 10), 863),\n",
       " ((7, 10), 815),\n",
       " ((1, 4), 810),\n",
       " ((3, 10), 797),\n",
       " ((2, 7), 787),\n",
       " ((1, 6), 785),\n",
       " ((4, 6), 780),\n",
       " ((2, 3), 769),\n",
       " ((7, 9), 754),\n",
       " ((1, 10), 747),\n",
       " ((3, 7), 721),\n",
       " ((1, 2), 719),\n",
       " ((6, 10), 711),\n",
       " ((2, 6), 695),\n",
       " ((3, 6), 685),\n",
       " ((4, 10), 680),\n",
       " ((9, 10), 680),\n",
       " ((3, 9), 678),\n",
       " ((5, 7), 675),\n",
       " ((1, 7), 671),\n",
       " ((7, 8), 671),\n",
       " ((2, 9), 668),\n",
       " ((0, 10), 661),\n",
       " ((2, 4), 656),\n",
       " ((0, 2), 655),\n",
       " ((1, 3), 653),\n",
       " ((2, 8), 651),\n",
       " ((2, 5), 647),\n",
       " ((6, 7), 643),\n",
       " ((3, 5), 633),\n",
       " ((3, 8), 629),\n",
       " ((5, 10), 627),\n",
       " ((8, 10), 623),\n",
       " ((0, 9), 610),\n",
       " ((4, 5), 610),\n",
       " ((4, 8), 606),\n",
       " ((4, 7), 604),\n",
       " ((6, 9), 598),\n",
       " ((3, 4), 596),\n",
       " ((0, 7), 585),\n",
       " ((8, 9), 568),\n",
       " ((0, 3), 567),\n",
       " ((6, 8), 565),\n",
       " ((5, 9), 564),\n",
       " ((5, 6), 561),\n",
       " ((1, 5), 553),\n",
       " ((1, 8), 549),\n",
       " ((1, 9), 546),\n",
       " ((0, 4), 538),\n",
       " ((0, 5), 521),\n",
       " ((0, 1), 517),\n",
       " ((0, 8), 517),\n",
       " ((0, 6), 505),\n",
       " ((4, 9), 493)]"
      ]
     },
     "execution_count": 24,
     "metadata": {},
     "output_type": "execute_result"
    }
   ],
   "source": [
    "from itertools import combinations_with_replacement\n",
    "#create combinations of the trees\n",
    "combos = list(combinations_with_replacement((0,1,2,3,4,5,6,7,8,9,10),2))\n",
    "\n",
    "#add them to a dict with the initialized value as 0 \n",
    "voting_blocks = {}\n",
    "for i in range(len(combos)):\n",
    "    voting_blocks[combos[i]] = 0\n",
    "    \n",
    "#delete the values where its the same row, i.e. {((0,0):0)}\n",
    "for i in range(len(forest11)):\n",
    "    del voting_blocks[(i,i)]\n",
    "    \n",
    "# build dict\n",
    "for i in range(len(titanic_table)):\n",
    "    row = all_trees[i]\n",
    "    for com in voting_blocks:\n",
    "        if(row[com[0]] == row[com[1]]):\n",
    "            voting_blocks[com]+=1\n",
    "\n",
    "sorted(voting_blocks.items(), key=lambda pair: pair[1], reverse=True)"
   ]
  },
  {
   "cell_type": "markdown",
   "metadata": {
    "colab_type": "text",
    "id": "uDz3NazI3upr"
   },
   "source": [
    "It looks like for 891 rows, trees 5 and 8 vote the same in 887 of them. So they vote the same except for 4 rows."
   ]
  },
  {
   "cell_type": "markdown",
   "metadata": {
    "colab_type": "text",
    "id": "pGLaWlIMhMoP"
   },
   "source": [
    "<h1>\n",
    "Part 2. Explore knn behavior\n",
    "</h1>\n",
    "<div class=h1_cell>\n",
    "<p>\n",
    "I'd like more information on how the rows are selected and how they vote.\n",
    "  <p>\n",
    "    Note for each of these problems I do not care what the actual prediction is. I am not computing accuracy but instead the internal working of the rows in voting.\n",
    "    <p>\n",
    "      <p>\n",
    "Given the constrained time of the midterm, I am going to slice off 100 rows and just work with that.\n",
    "</div>"
   ]
  },
  {
   "cell_type": "code",
   "execution_count": 25,
   "metadata": {
    "colab": {},
    "colab_type": "code",
    "id": "3ipjCjQb4Fjp"
   },
   "outputs": [],
   "source": [
    "small_titanic = titanic_table[:100]  #use this slice in your code to cut down on computing time"
   ]
  },
  {
   "cell_type": "markdown",
   "metadata": {
    "colab_type": "text",
    "id": "a8T3WbkRp6ko"
   },
   "source": [
    "<h1>\n",
    "Problem 4: A row's top-k counts (20 points)\n",
    "</h1>\n",
    "<div class=h1_cell>\n",
    "<p>\n",
    "For each row, count how many times it made the top-k. Store your answer in top_list in sorted fashion. Here are the first part of my results\n",
    "  <pre>\n",
    "[(0, 30),\n",
    " (12, 28),\n",
    " (4, 27),\n",
    " (13, 27),\n",
    " (37, 27),\n",
    " (8, 19),\n",
    " (29, 19),\n",
    " (45, 19),\n",
    " (51, 19),\n",
    " (59, 19)]\n",
    " </pre>\n",
    "  So row 0 was among the top-k chosen 30 times out of 100 rows.\n",
    "</div>"
   ]
  },
  {
   "cell_type": "markdown",
   "metadata": {
    "colab_type": "text",
    "id": "bI89hxwnq6Oi"
   },
   "source": [
    "<h3>Hint</h3>\n",
    "\n",
    "For this problem, and really most of the problems dealing with KNN, I started with the knn function and then modified it to do what is called for. For this problem, what is called for is a modified version of knn that does not return a prediction but instead the k rows selected to vote, i.e. the top k.\n",
    "<p>\n",
    "  Once I had the modified function, I called it in a loop that iterated over all the row indices of the Titanic table. The loop body updated a global data structure. At the end I got it in sorted list form and was finished."
   ]
  },
  {
   "cell_type": "code",
   "execution_count": 61,
   "metadata": {
    "colab": {
     "base_uri": "https://localhost:8080/",
     "height": 185
    },
    "colab_type": "code",
    "id": "erJ1mb-s4sak",
    "outputId": "1eb27882-c416-4050-f600-25e130d98ab5"
   },
   "outputs": [],
   "source": [
    "def knn_topk(row_index, table, columns,k, target):\n",
    "    length = len(table) # get the length of the table\n",
    "    t = table[columns]\n",
    "\n",
    "    distance = []\n",
    "    for i in range(len(t)): \n",
    "        #append the indexes and their distances\n",
    "        distance.append(tuple([i, euclidean_distance(list(t.iloc[row_index]), list(t.iloc[i]))]))\n",
    "\n",
    "    # sort the distances   \n",
    "    sorted_dist = sorted(distance,key = lambda i: i[1])\n",
    "    top_k = []\n",
    "    #find the top k and increment their counts\n",
    "    for key,item in enumerate(sorted_dist):\n",
    "        if (key > k):\n",
    "            break\n",
    "        top_k.append(item[0])\n",
    "    return top_k "
   ]
  },
  {
   "cell_type": "code",
   "execution_count": 65,
   "metadata": {},
   "outputs": [
    {
     "data": {
      "text/plain": [
       "[(0, 31),\n",
       " (12, 29),\n",
       " (4, 28),\n",
       " (13, 28),\n",
       " (37, 28),\n",
       " (8, 20),\n",
       " (29, 20),\n",
       " (45, 20),\n",
       " (51, 20),\n",
       " (59, 20)]"
      ]
     },
     "execution_count": 65,
     "metadata": {},
     "output_type": "execute_result"
    }
   ],
   "source": [
    "topk = {}\n",
    "for i in range(len(small_titanic)):\n",
    "    topk[i] = 0\n",
    "for i in range(len(small_titanic)):\n",
    "    top_k = knn_topk(i, small_titanic, usable_columns, 10, target)\n",
    "    # top_k is a list of the indices of the top k rows\n",
    "    for ind in top_k:\n",
    "        topk[ind]+=1\n",
    "srt = sorted(topk.items(), key=lambda pair: pair[1], reverse=True)\n",
    "srt[:10]"
   ]
  },
  {
   "cell_type": "markdown",
   "metadata": {
    "colab_type": "text",
    "id": "GRGbsp05_2JW"
   },
   "source": [
    "<h1>\n",
    "Problem 5: A row's correct count (20 points)\n",
    "</h1>\n",
    "<div class=h1_cell>\n",
    "<p>\n",
    "For each row, count how many times it was correct. Store your result in correct_list, in sorted fashion. Here are the first part of my results.\n",
    "  <pre>\n",
    "[(0, 25),\n",
    " (12, 25),\n",
    " (37, 25),\n",
    " (4, 19),\n",
    " (13, 19),\n",
    " (51, 19),\n",
    " (59, 19),\n",
    " (67, 18),\n",
    " (69, 14),\n",
    " (8, 13)]\n",
    " </pre>\n",
    "  So when row 0 was in the top-k, it was correct 25 times.\n",
    "</div>"
   ]
  },
  {
   "cell_type": "code",
   "execution_count": 67,
   "metadata": {
    "colab": {
     "base_uri": "https://localhost:8080/",
     "height": 185
    },
    "colab_type": "code",
    "id": "3I7M9aHDD0bT",
    "outputId": "f6edc6ae-331c-4e70-8f4d-e3f1eb512d17"
   },
   "outputs": [],
   "source": [
    "def knn3(row_index, table, columns,k, target):\n",
    "    length = len(table) # get the length of the table\n",
    "    \n",
    "    t = table[columns]\n",
    "    \n",
    "    distance = []\n",
    "    for i in range(len(t)): \n",
    "        #append the indexes and their distances\n",
    "        distance.append(tuple([i, euclidean_distance(list(t.iloc[row_index]), list(t.iloc[i]))]))\n",
    "\n",
    "    sorted_dist = sorted(distance,key = lambda i: i[1])\n",
    "  \n",
    "    votes = {}\n",
    "  \n",
    "    #gather votes from k rows \n",
    "    for key,item in enumerate(sorted_dist):\n",
    "        if (key > k):\n",
    "            break\n",
    "        row = table.iloc[item[0]]\n",
    "        vote = row[target]\n",
    "        votes[item[0]] = vote\n",
    "    return votes"
   ]
  },
  {
   "cell_type": "code",
   "execution_count": 69,
   "metadata": {},
   "outputs": [
    {
     "data": {
      "text/plain": [
       "[(0, 26),\n",
       " (12, 26),\n",
       " (37, 26),\n",
       " (4, 20),\n",
       " (13, 20),\n",
       " (51, 20),\n",
       " (59, 20),\n",
       " (67, 19),\n",
       " (69, 15),\n",
       " (8, 14)]"
      ]
     },
     "execution_count": 69,
     "metadata": {},
     "output_type": "execute_result"
    }
   ],
   "source": [
    "participant_pairs = {} # a list  of tuples (index,times correct)\n",
    "for i in range(len(small_titanic)):\n",
    "    participant_pairs[i] = 0\n",
    "participant_pairs\n",
    "for i in range(len(small_titanic)):\n",
    "    row = small_titanic.loc[i]\n",
    "    targ = row[target]\n",
    "    votes = knn3(i, small_titanic, usable_columns, 10, target)\n",
    "    for ind,val in votes.items():\n",
    "        if (val == targ):\n",
    "            participant_pairs[ind]+=1\n",
    "  \n",
    "pairs = participant_pairs.items()\n",
    "sorted(pairs, key=lambda pair: pair[1], reverse=True)[:10]"
   ]
  },
  {
   "cell_type": "markdown",
   "metadata": {
    "colab_type": "text",
    "id": "dhkbicwyCE4-"
   },
   "source": [
    "<h1>\n",
    "Problem 6: Put them together to get each row's \"batting average\" (10 points)\n",
    "</h1>\n",
    "<div class=h1_cell>\n",
    "<p>\n",
    "Use `top_list` and `correct_list` to compute what percentage each row was correct, i.e., divide times correct by total times in top-k. Then sort the list by highest average. When I did that I got results below taken from the slice ` [50:80]`.  I am showing my results more toward the middle to  give you a better answer to shoot for. REMEMBER: this is for items 50:80.\n",
    "  <pre>\n",
    "[(82, 0.6),\n",
    " (85, 0.6),\n",
    " (62, 0.5833333333333334),\n",
    " (7, 0.5714285714285714),\n",
    " (31, 0.5714285714285714),\n",
    " (48, 0.5714285714285714),\n",
    " (92, 0.5714285714285714),\n",
    " (20, 0.5625),\n",
    " (53, 0.5555555555555556),\n",
    " (66, 0.5555555555555556),\n",
    " (1, 0.5454545454545454),\n",
    " (68, 0.5454545454545454),\n",
    " (30, 0.5),\n",
    " (34, 0.5),\n",
    " (35, 0.5),\n",
    " (64, 0.5),\n",
    " (83, 0.5),\n",
    " (88, 0.5),\n",
    " (96, 0.5),\n",
    " (98, 0.5),\n",
    " (70, 0.4444444444444444),\n",
    " (99, 0.4444444444444444),\n",
    " (11, 0.42857142857142855),\n",
    " (5, 0.4),\n",
    " (21, 0.4),\n",
    " (27, 0.4),\n",
    " (40, 0.4),\n",
    " (46, 0.4),\n",
    " (71, 0.4),\n",
    " (23, 0.375)]\n",
    " </pre>\n",
    "  So row 82 is batting 60%. When I divide the number of times it voted correctly (in `correct_list`) by the number of times it made the top-k (in `top_list`), it was correct .6 (60%) of the time. It has a 600 batting average!\n",
    "</div>"
   ]
  },
  {
   "cell_type": "markdown",
   "metadata": {
    "colab_type": "text",
    "id": "AjAbRlxnsag0"
   },
   "source": [
    "<h3>Hint</h3>\n",
    "\n",
    "For this problem I did not define a new function. I just figured out a way to get info out of top_list and correct_list to get what I wanted."
   ]
  },
  {
   "cell_type": "code",
   "execution_count": 114,
   "metadata": {
    "colab": {
     "base_uri": "https://localhost:8080/",
     "height": 521
    },
    "colab_type": "code",
    "id": "Fr0Wl2D8EAlg",
    "outputId": "a6bf2592-5cd1-4a97-dc75-4792ff96e6e4"
   },
   "outputs": [
    {
     "ename": "IndexError",
     "evalue": "list index out of range",
     "output_type": "error",
     "traceback": [
      "\u001b[0;31m---------------------------------------------------------------------------\u001b[0m",
      "\u001b[0;31mIndexError\u001b[0m                                Traceback (most recent call last)",
      "\u001b[0;32m<ipython-input-114-911ab9d59223>\u001b[0m in \u001b[0;36m<module>\u001b[0;34m\u001b[0m\n\u001b[1;32m      1\u001b[0m \u001b[0;31m#remember that you should show rows 50:80\u001b[0m\u001b[0;34m\u001b[0m\u001b[0;34m\u001b[0m\u001b[0;34m\u001b[0m\u001b[0m\n\u001b[1;32m      2\u001b[0m \u001b[0;32mfor\u001b[0m \u001b[0mi\u001b[0m \u001b[0;32min\u001b[0m \u001b[0mrange\u001b[0m\u001b[0;34m(\u001b[0m\u001b[0mlen\u001b[0m\u001b[0;34m(\u001b[0m\u001b[0msmall_titanic\u001b[0m\u001b[0;34m)\u001b[0m\u001b[0;34m)\u001b[0m\u001b[0;34m:\u001b[0m\u001b[0;34m\u001b[0m\u001b[0;34m\u001b[0m\u001b[0m\n\u001b[0;32m----> 3\u001b[0;31m     \u001b[0mprint\u001b[0m\u001b[0;34m(\u001b[0m\u001b[0;34m(\u001b[0m\u001b[0mtop_list\u001b[0m\u001b[0;34m[\u001b[0m\u001b[0mi\u001b[0m\u001b[0;34m]\u001b[0m\u001b[0;34m,\u001b[0m \u001b[0mcorrect_list\u001b[0m\u001b[0;34m[\u001b[0m\u001b[0mi\u001b[0m\u001b[0;34m]\u001b[0m\u001b[0;34m)\u001b[0m\u001b[0;34m)\u001b[0m\u001b[0;34m\u001b[0m\u001b[0;34m\u001b[0m\u001b[0m\n\u001b[0m",
      "\u001b[0;31mIndexError\u001b[0m: list index out of range"
     ]
    }
   ],
   "source": [
    "#remember that you should show rows 50:80\n",
    "for i in range(len(small_titanic)):\n",
    "    print((top_list[i], correct_list[i]))"
   ]
  },
  {
   "cell_type": "markdown",
   "metadata": {
    "colab_type": "text",
    "id": "HBDW7kqMkV1F"
   },
   "source": [
    "<h2>\n",
    "Extra Credit: razor-thin majority\n",
    "</h2>\n",
    "<div class=h1_cell>\n",
    "<p>\n",
    "Find what target rows were decided by either 1 vote or were a tie. \n",
    "</div>"
   ]
  },
  {
   "cell_type": "markdown",
   "metadata": {
    "colab_type": "text",
    "id": "Lfvy__LRs-vP"
   },
   "source": [
    "<h3>Hint</h3>\n",
    "\n",
    "I went back to modifying knn for this problem. I replaced the knn function with a razor_thin function. It did much of the same work as knn, but instead of returning a prediction, it returned True or False. True if there was razor thin majority (or tie vote) and False otherwise. I then kept track of what rows I got a True for and sorted the list and was done.\n",
    "<p>\n",
    "  Caveat: I found no razor-thin votes so had an empty list. I even tried with entire titanic table and still got no razor thins. I wonder if I can put this off to \"group think\". Never seems to be a close call."
   ]
  },
  {
   "cell_type": "code",
   "execution_count": 0,
   "metadata": {
    "colab": {
     "base_uri": "https://localhost:8080/",
     "height": 34
    },
    "colab_type": "code",
    "id": "ubUqJMuQs0Kx",
    "outputId": "0810851f-7d28-4781-fd73-986d64eef894"
   },
   "outputs": [
    {
     "name": "stdout",
     "output_type": "stream",
     "text": [
      "None\n"
     ]
    }
   ],
   "source": []
  }
 ],
 "metadata": {
  "colab": {
   "collapsed_sections": [],
   "name": "midterm2_w19.ipynb",
   "provenance": [],
   "version": "0.3.2"
  },
  "kernelspec": {
   "display_name": "Python 3",
   "language": "python",
   "name": "python3"
  },
  "language_info": {
   "codemirror_mode": {
    "name": "ipython",
    "version": 3
   },
   "file_extension": ".py",
   "mimetype": "text/x-python",
   "name": "python",
   "nbconvert_exporter": "python",
   "pygments_lexer": "ipython3",
   "version": "3.7.1"
  }
 },
 "nbformat": 4,
 "nbformat_minor": 1
}
