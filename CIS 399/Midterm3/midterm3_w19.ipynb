{
 "cells": [
  {
   "cell_type": "markdown",
   "metadata": {
    "colab_type": "text",
    "id": "CcejYk1YkV0f"
   },
   "source": [
    "<h1>\n",
    "<center>\n",
    "Midterm 3\n",
    "</center>\n",
    "</h1>\n",
    "<div class=h1_cell>\n",
    "<p>\n",
    "There are 2 parts on the midterm, 50 points each. Each part has 3 questions.\n",
    "<p>\n",
    "We will use the Titanic table for this midterm. I have a wrangled version of it on google sheets that I set up for you.\n",
    "<p>\n",
    "</div>"
   ]
  },
  {
   "cell_type": "code",
   "execution_count": 1,
   "metadata": {
    "colab": {},
    "colab_type": "code",
    "id": "vkh1bqA3kV0m"
   },
   "outputs": [],
   "source": [
    "import pandas as pd\n",
    "\n",
    "\n",
    "titanic_table = pd.read_csv('https://docs.google.com/spreadsheets/d/e/2PACX-1vR2XbLnUuYlxaFMdS8_bBX3iKUIDEii6Lg5Rxesf-Oh8a6z8-vAN6UDGejaOrBg5130h4O_dLkecKWQ/pub?output=csv')\n",
    "\n"
   ]
  },
  {
   "cell_type": "code",
   "execution_count": 2,
   "metadata": {
    "colab": {},
    "colab_type": "code",
    "id": "uScGH6USkV0r"
   },
   "outputs": [],
   "source": [
    "pd.set_option('display.max_columns', None)"
   ]
  },
  {
   "cell_type": "code",
   "execution_count": 3,
   "metadata": {
    "colab": {
     "base_uri": "https://localhost:8080/",
     "height": 147
    },
    "colab_type": "code",
    "id": "5AEsijjqF3JH",
    "outputId": "e56777c1-2a7e-4f6f-e5c1-20758aad517a"
   },
   "outputs": [
    {
     "data": {
      "text/html": [
       "<div>\n",
       "<style scoped>\n",
       "    .dataframe tbody tr th:only-of-type {\n",
       "        vertical-align: middle;\n",
       "    }\n",
       "\n",
       "    .dataframe tbody tr th {\n",
       "        vertical-align: top;\n",
       "    }\n",
       "\n",
       "    .dataframe thead th {\n",
       "        text-align: right;\n",
       "    }\n",
       "</style>\n",
       "<table border=\"1\" class=\"dataframe\">\n",
       "  <thead>\n",
       "    <tr style=\"text-align: right;\">\n",
       "      <th></th>\n",
       "      <th>Survived</th>\n",
       "      <th>Pclass</th>\n",
       "      <th>Name</th>\n",
       "      <th>Sex</th>\n",
       "      <th>Age</th>\n",
       "      <th>SibSp</th>\n",
       "      <th>Parch</th>\n",
       "      <th>Ticket</th>\n",
       "      <th>Fare</th>\n",
       "      <th>Cabin</th>\n",
       "      <th>Embarked</th>\n",
       "      <th>no_age</th>\n",
       "      <th>filled_age</th>\n",
       "      <th>emb_C</th>\n",
       "      <th>emb_Q</th>\n",
       "      <th>emb_S</th>\n",
       "      <th>emb_nan</th>\n",
       "      <th>age_bin</th>\n",
       "      <th>age_Child</th>\n",
       "      <th>age_Adult</th>\n",
       "      <th>age_Senior</th>\n",
       "      <th>sex_female</th>\n",
       "      <th>sex_male</th>\n",
       "      <th>ok_child</th>\n",
       "      <th>pclass_1</th>\n",
       "      <th>pclass_2</th>\n",
       "      <th>pclass_3</th>\n",
       "      <th>pclass_nan</th>\n",
       "    </tr>\n",
       "  </thead>\n",
       "  <tbody>\n",
       "    <tr>\n",
       "      <th>0</th>\n",
       "      <td>0</td>\n",
       "      <td>3</td>\n",
       "      <td>Braund, Mr. Owen Harris</td>\n",
       "      <td>male</td>\n",
       "      <td>22.0</td>\n",
       "      <td>1</td>\n",
       "      <td>0</td>\n",
       "      <td>A/5 21171</td>\n",
       "      <td>7.25</td>\n",
       "      <td>NaN</td>\n",
       "      <td>S</td>\n",
       "      <td>0</td>\n",
       "      <td>22.0</td>\n",
       "      <td>0</td>\n",
       "      <td>0</td>\n",
       "      <td>1</td>\n",
       "      <td>0</td>\n",
       "      <td>Child</td>\n",
       "      <td>1</td>\n",
       "      <td>0</td>\n",
       "      <td>0</td>\n",
       "      <td>0</td>\n",
       "      <td>1</td>\n",
       "      <td>0</td>\n",
       "      <td>0</td>\n",
       "      <td>0</td>\n",
       "      <td>1</td>\n",
       "      <td>0</td>\n",
       "    </tr>\n",
       "  </tbody>\n",
       "</table>\n",
       "</div>"
      ],
      "text/plain": [
       "   Survived  Pclass                     Name   Sex   Age  SibSp  Parch  \\\n",
       "0         0       3  Braund, Mr. Owen Harris  male  22.0      1      0   \n",
       "\n",
       "      Ticket  Fare Cabin Embarked  no_age  filled_age  emb_C  emb_Q  emb_S  \\\n",
       "0  A/5 21171  7.25   NaN        S       0        22.0      0      0      1   \n",
       "\n",
       "   emb_nan age_bin  age_Child  age_Adult  age_Senior  sex_female  sex_male  \\\n",
       "0        0   Child          1          0           0           0         1   \n",
       "\n",
       "   ok_child  pclass_1  pclass_2  pclass_3  pclass_nan  \n",
       "0         0         0         0         1           0  "
      ]
     },
     "execution_count": 3,
     "metadata": {},
     "output_type": "execute_result"
    }
   ],
   "source": [
    "titanic_table.head(1)"
   ]
  },
  {
   "cell_type": "code",
   "execution_count": 0,
   "metadata": {
    "colab": {
     "base_uri": "https://localhost:8080/",
     "height": 34
    },
    "colab_type": "code",
    "id": "k8aUB0VpgqXA",
    "outputId": "223413ab-36f4-4c0c-abb1-db96b79a0470"
   },
   "outputs": [
    {
     "name": "stdout",
     "output_type": "stream",
     "text": [
      "rm: cannot remove 'library_w19_week7.py': No such file or directory\n"
     ]
    }
   ],
   "source": [
    "#!rm library_w19_week7.py"
   ]
  },
  {
   "cell_type": "code",
   "execution_count": 4,
   "metadata": {
    "colab": {
     "base_uri": "https://localhost:8080/",
     "height": 107,
     "resources": {
      "http://localhost:8080/nbextensions/google.colab/files.js": {
       "data": "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",
       "headers": [
        [
         "content-type",
         "application/javascript"
        ]
       ],
       "ok": true,
       "status": 200,
       "status_text": ""
      }
     }
    },
    "colab_type": "code",
    "id": "dnHr-TA6gvK5",
    "outputId": "67f9d66a-3e7f-487d-efbf-2e73e81e77d2"
   },
   "outputs": [],
   "source": [
    "#from google.colab import files\n",
    "#files.upload()"
   ]
  },
  {
   "cell_type": "code",
   "execution_count": 5,
   "metadata": {
    "colab": {
     "base_uri": "https://localhost:8080/",
     "height": 84
    },
    "colab_type": "code",
    "id": "Il6HlbWggzMB",
    "outputId": "b649259b-eb43-4b54-d71f-e2a79bb79541"
   },
   "outputs": [
    {
     "name": "stdout",
     "output_type": "stream",
     "text": [
      "accuracy\t build_pred\t build_tree_iter\t compute_prediction\t compute_training\t euclidean_distance\t f1\t find_best_splitter\t forest_builder\t \n",
      "forest_scores\t generate_table\t gig\t gini\t informedness\t k_fold\t k_fold_random\t knn\t knn_tester\t \n",
      "path_id\t predictor_case\t probabilities\t produce_scores\t reorder_paths\t tree_predictor\t verify_unique\t vote_taker\t \n"
     ]
    }
   ],
   "source": [
    "from library_w19_week7 import *\n",
    "\n",
    "%who function"
   ]
  },
  {
   "cell_type": "markdown",
   "metadata": {
    "colab_type": "text",
    "id": "mYPJRcSZsznx"
   },
   "source": [
    "<h2>Columns used in all questions</h2>\n",
    "\n",
    "We will use 14 columns from the table to make predictions on `Survived`."
   ]
  },
  {
   "cell_type": "code",
   "execution_count": 6,
   "metadata": {
    "colab": {},
    "colab_type": "code",
    "id": "3TDm9WllKCAv"
   },
   "outputs": [],
   "source": [
    "usable_columns = [\n",
    " 'emb_C',\n",
    " 'emb_Q',\n",
    " 'emb_S',\n",
    " 'emb_nan',\n",
    " 'age_Child',\n",
    " 'age_Adult',\n",
    " 'age_Senior',\n",
    " 'no_age',\n",
    " 'ok_child',\n",
    " 'sex_female',\n",
    " 'pclass_1',\n",
    " 'pclass_2',\n",
    " 'pclass_3',\n",
    " 'pclass_nan'\n",
    "]\n",
    "\n",
    "target = 'Survived'"
   ]
  },
  {
   "cell_type": "markdown",
   "metadata": {
    "colab_type": "text",
    "id": "843csVX-py7C"
   },
   "source": [
    "<h1>\n",
    "Part 1. Explore random forest behavior\n",
    "</h1>\n",
    "<div class=h1_cell>\n",
    "<p>\n",
    "For prediction purposes, we have been treating a forest as a single predictor. It does call on its trees to get a prediction, but we don't see that. All we see is the final prediction. I'd like to dig deeper into individual tree behavior. I'll ask you to complete a set of programming problems to do this.\n",
    "</div>"
   ]
  },
  {
   "cell_type": "markdown",
   "metadata": {
    "colab_type": "text",
    "id": "l9S58jH5py7D"
   },
   "source": [
    "<h2>\n",
    "Problem 1. Build a matrix of tree predictions (5 points)\n",
    "</h2>\n",
    "<div class=h1_cell>\n",
    "<p>\n",
    "The matrix will be a list of lists. Let's say the forest we are working with has 13 trees. Then the first list will be the predictions of the 13 trees for row 0 of the Titanic table, i.e., it will be a list of 13 binary values. The next list will be the 13 predictions for row 1 of the Titanic table. Given that we have 891 rows in the Titanic table, we will have 891 lists in our outer list.\n",
    "<p>\n",
    "Let's say I store my matrix in `all_trees`. Then `all_trees[i][j]` will represent the vote of the jth tree for row i.\n",
    "  <p>\n",
    "    Here is what you should see for the first 10 rows.\n",
    "<p>\n",
    "<pre>\n",
    "[[0, 0, 0, 0, 0, 0, 0, 0, 0, 0, 0, 0, 0],\n",
    " [1, 1, 1, 0, 1, 1, 0, 1, 1, 0, 1, 1, 1],\n",
    " [0, 1, 0, 0, 1, 0, 1, 0, 0, 0, 0, 1, 0],\n",
    " [1, 1, 1, 0, 1, 0, 1, 1, 0, 1, 1, 1, 0],\n",
    " [0, 0, 0, 0, 0, 0, 0, 0, 0, 0, 0, 0, 0],\n",
    " [0, 0, 0, 0, 0, 0, 0, 0, 0, 0, 0, 0, 0],\n",
    " [1, 0, 0, 0, 0, 0, 0, 0, 0, 1, 0, 1, 0],\n",
    " [0, 0, 1, 0, 0, 1, 0, 0, 1, 0, 0, 0, 1],\n",
    " [0, 1, 0, 0, 1, 0, 1, 0, 0, 0, 0, 1, 0],\n",
    " [1, 1, 1, 1, 1, 1, 1, 0, 1, 0, 1, 1, 1]]\n",
    " </pre>\n",
    "\n",
    "</div>"
   ]
  },
  {
   "cell_type": "markdown",
   "metadata": {
    "colab_type": "text",
    "id": "kr4hJ08Tpy7D"
   },
   "source": [
    "<h2>\n",
    "Here is forest to test on\n",
    "</h2>\n",
    "<div class=h1_cell>\n",
    "<p>\n",
    "  But first set random seeds so you get same results as mine.\n",
    "</div>"
   ]
  },
  {
   "cell_type": "code",
   "execution_count": 7,
   "metadata": {
    "colab": {},
    "colab_type": "code",
    "id": "NN01O5OJqioB"
   },
   "outputs": [],
   "source": [
    "import random\n",
    "\n",
    "rng = np.random.RandomState(24)  #Will pass as arg to pandas sample method\n",
    "random.seed(2000)"
   ]
  },
  {
   "cell_type": "code",
   "execution_count": 8,
   "metadata": {
    "colab": {
     "base_uri": "https://localhost:8080/",
     "height": 34
    },
    "colab_type": "code",
    "id": "GysL7AY8py7N",
    "outputId": "efca1f51-9470-48d0-b86f-76a23bb88e6d"
   },
   "outputs": [
    {
     "data": {
      "text/plain": [
       "13"
      ]
     },
     "execution_count": 8,
     "metadata": {},
     "output_type": "execute_result"
    }
   ],
   "source": [
    "forest13 = forest_builder(titanic_table, usable_columns, target, hypers={'total-trees':13, 'random-state':rng})\n",
    "len(forest13)"
   ]
  },
  {
   "cell_type": "markdown",
   "metadata": {
    "colab_type": "text",
    "id": "IHHWb3Vj2xns"
   },
   "source": [
    "\n",
    "Build the voting matrix for the 13 trees. "
   ]
  },
  {
   "cell_type": "code",
   "execution_count": 11,
   "metadata": {
    "colab": {
     "base_uri": "https://localhost:8080/",
     "height": 185
    },
    "colab_type": "code",
    "id": "UjMSCnflpy7R",
    "outputId": "814c3903-226c-47fc-cca3-ac903959a766"
   },
   "outputs": [
    {
     "data": {
      "text/plain": [
       "[[0, 0, 0, 0, 0, 0, 0, 0, 0, 0, 0, 0, 0],\n",
       " [1, 1, 1, 0, 1, 1, 0, 1, 1, 0, 1, 1, 1],\n",
       " [0, 1, 0, 0, 1, 0, 1, 0, 0, 0, 0, 1, 0],\n",
       " [1, 1, 1, 0, 1, 0, 1, 1, 0, 1, 1, 1, 0],\n",
       " [0, 0, 0, 0, 0, 0, 0, 0, 0, 0, 0, 0, 0],\n",
       " [0, 0, 0, 0, 0, 0, 0, 0, 0, 0, 0, 0, 0],\n",
       " [1, 0, 0, 0, 0, 0, 0, 0, 0, 1, 0, 1, 0],\n",
       " [0, 0, 1, 0, 0, 1, 0, 0, 1, 0, 0, 0, 1],\n",
       " [0, 1, 0, 0, 1, 0, 1, 0, 0, 0, 0, 1, 0],\n",
       " [1, 1, 1, 1, 1, 1, 1, 0, 1, 0, 1, 1, 1]]"
      ]
     },
     "execution_count": 11,
     "metadata": {},
     "output_type": "execute_result"
    }
   ],
   "source": [
    "trees = []\n",
    "for i in range(len(titanic_table)):    #for row in table\n",
    "    row_prediction = [];\n",
    "    \n",
    "    #could use enumerate\n",
    "    for j in forest13:                 #for tree in forest\n",
    "        row_prediction.append(tree_predictor(titanic_table.loc[i], j))    #tree_predictor(row, tree)\n",
    "    trees.append(row_prediction)\n",
    "\n",
    "all_trees[:10]"
   ]
  },
  {
   "cell_type": "markdown",
   "metadata": {
    "colab_type": "text",
    "id": "Jci-WoYQkV1E"
   },
   "source": [
    "<h1>\n",
    "Problem 2: most incorrect tree (15 points)\n",
    "</h1>\n",
    "<div class=h1_cell>\n",
    "<p>\n",
    "Produce an ordered list, from most incorrect to least incorrect, of the 13 trees taken over the 891 rows. A tree is incorrect if its prediction is a mismatch with the `Survived` column in the target row. Here are my results.\n",
    "  <pre>\n",
    "[(9, 317),\n",
    " (8, 314),\n",
    " (5, 310),\n",
    " (12, 304),\n",
    " (0, 296),\n",
    " (11, 296),\n",
    " (3, 278),\n",
    " (7, 254),\n",
    " (6, 248),\n",
    " (4, 217),\n",
    " (1, 190),\n",
    " (10, 190),\n",
    " (2, 184)]\n",
    " </pre>\n",
    "  The loser is tree9. It was incorrect 317 out of 891 times.\n",
    "</div>"
   ]
  },
  {
   "cell_type": "code",
   "execution_count": 19,
   "metadata": {
    "colab": {
     "base_uri": "https://localhost:8080/",
     "height": 235
    },
    "colab_type": "code",
    "id": "qOQr56-AWICk",
    "outputId": "e97c374f-c72d-42a9-b224-23d2454ed7c2"
   },
   "outputs": [
    {
     "data": {
      "text/plain": [
       "[(9, 317),\n",
       " (8, 314),\n",
       " (5, 310),\n",
       " (12, 304),\n",
       " (0, 296),\n",
       " (11, 296),\n",
       " (3, 278),\n",
       " (7, 254),\n",
       " (6, 248),\n",
       " (4, 217),\n",
       " (1, 190),\n",
       " (10, 190),\n",
       " (2, 184)]"
      ]
     },
     "execution_count": 19,
     "metadata": {},
     "output_type": "execute_result"
    }
   ],
   "source": [
    "incorrect = {}   #dict of 0s\n",
    "for i in range(len(forest13)):\n",
    "    incorrect[i] = 0\n",
    "    \n",
    "for j in range(len(titanic_table)):\n",
    "    predictions = all_trees[j]\n",
    "    row = titanic_table.loc[j]\n",
    "    target_value = row[target]\n",
    "    \n",
    "    for k in range(len(row_predictions)):\n",
    "        #increment if predictions doesnt match actual\n",
    "        if (predictions[k] != target_value):\n",
    "            incorrect[k] += 1\n",
    "\n",
    "incorrect = sorted(incorrect.items(), key = lambda pair: pair[1], reverse = True)\n",
    "incorrect"
   ]
  },
  {
   "cell_type": "markdown",
   "metadata": {
    "colab_type": "text",
    "id": "7e4hXgK9So7t"
   },
   "source": [
    "<h1>\n",
    "Problem 3: voting blocks (30 points)\n",
    "</h1>\n",
    "<div class=h1_cell>\n",
    "<p>\n",
    "Taking trees as triples, produce an ordered list of which trees vote the same (right or wrong) most often.\n",
    "  <p>\n",
    "    For each specific row:\n",
    "    <pre>\n",
    " 1. if (tree1,tree2, tree3) vote the same then I record that.\n",
    " 2. if (tree1,tree2, tree4) vote the same then I record that.\n",
    " etc\n",
    "</pre>\n",
    "I do that for the entire table. Here is first part of sorted list I got for forest13.\n",
    "<pre>\n",
    "[((5, 8, 12), 849),\n",
    " ((2, 7, 10), 787),\n",
    " ((2, 3, 10), 769),\n",
    " ((1, 4, 6), 742),\n",
    " ((3, 7, 10), 721),\n",
    " ((1, 2, 10), 719),\n",
    " ((2, 3, 7), 693),\n",
    " ((2, 6, 10), 689),\n",
    " ((7, 9, 10), 679),\n",
    " ((1, 6, 10), 676)]\n",
    "</pre>\n",
    "  So tree5 and tree8 and tree12 vote the same (right or wrong) 849 out of 891 times.\n",
    "</div>"
   ]
  },
  {
   "cell_type": "code",
   "execution_count": 80,
   "metadata": {
    "colab": {
     "base_uri": "https://localhost:8080/",
     "height": 185
    },
    "colab_type": "code",
    "id": "1Tv7gzhjSsdZ",
    "outputId": "04ed4679-b36b-4b32-d418-1249613bbaf0"
   },
   "outputs": [
    {
     "ename": "TypeError",
     "evalue": "'range' object does not support item assignment",
     "output_type": "error",
     "traceback": [
      "\u001b[0;31m---------------------------------------------------------------------------\u001b[0m",
      "\u001b[0;31mTypeError\u001b[0m                                 Traceback (most recent call last)",
      "\u001b[0;32m<ipython-input-80-ca31a294b37d>\u001b[0m in \u001b[0;36m<module>\u001b[0;34m\u001b[0m\n\u001b[1;32m     18\u001b[0m         \u001b[0;32myield\u001b[0m \u001b[0mtuple\u001b[0m\u001b[0;34m(\u001b[0m\u001b[0mpool\u001b[0m\u001b[0;34m[\u001b[0m\u001b[0mi\u001b[0m\u001b[0;34m]\u001b[0m \u001b[0;32mfor\u001b[0m \u001b[0mi\u001b[0m \u001b[0;32min\u001b[0m \u001b[0mindices\u001b[0m\u001b[0;34m)\u001b[0m\u001b[0;34m\u001b[0m\u001b[0;34m\u001b[0m\u001b[0m\n\u001b[1;32m     19\u001b[0m \u001b[0;34m\u001b[0m\u001b[0m\n\u001b[0;32m---> 20\u001b[0;31m \u001b[0mcombos\u001b[0m \u001b[0;34m=\u001b[0m \u001b[0mlist\u001b[0m\u001b[0;34m(\u001b[0m\u001b[0mcombinations\u001b[0m\u001b[0;34m(\u001b[0m\u001b[0mrange\u001b[0m\u001b[0;34m(\u001b[0m\u001b[0mlen\u001b[0m\u001b[0;34m(\u001b[0m\u001b[0mforest13\u001b[0m\u001b[0;34m)\u001b[0m\u001b[0;34m)\u001b[0m\u001b[0;34m,\u001b[0m \u001b[0;36m2\u001b[0m\u001b[0;34m)\u001b[0m\u001b[0;34m)\u001b[0m\u001b[0;34m\u001b[0m\u001b[0;34m\u001b[0m\u001b[0m\n\u001b[0m\u001b[1;32m     21\u001b[0m \u001b[0mvoting\u001b[0m \u001b[0;34m=\u001b[0m \u001b[0;34m{\u001b[0m\u001b[0;34m}\u001b[0m    \u001b[0;31m#dict of 0s\u001b[0m\u001b[0;34m\u001b[0m\u001b[0;34m\u001b[0m\u001b[0m\n\u001b[1;32m     22\u001b[0m \u001b[0;32mfor\u001b[0m \u001b[0mi\u001b[0m \u001b[0;32min\u001b[0m \u001b[0mrange\u001b[0m\u001b[0;34m(\u001b[0m\u001b[0mlen\u001b[0m\u001b[0;34m(\u001b[0m\u001b[0mcombos\u001b[0m\u001b[0;34m)\u001b[0m\u001b[0;34m)\u001b[0m\u001b[0;34m:\u001b[0m\u001b[0;34m\u001b[0m\u001b[0;34m\u001b[0m\u001b[0m\n",
      "\u001b[0;32m<ipython-input-80-ca31a294b37d>\u001b[0m in \u001b[0;36mcombinations\u001b[0;34m(iterable, r)\u001b[0m\n\u001b[1;32m     13\u001b[0m         \u001b[0;32melse\u001b[0m\u001b[0;34m:\u001b[0m\u001b[0;34m\u001b[0m\u001b[0;34m\u001b[0m\u001b[0m\n\u001b[1;32m     14\u001b[0m             \u001b[0;32mreturn\u001b[0m\u001b[0;34m\u001b[0m\u001b[0;34m\u001b[0m\u001b[0m\n\u001b[0;32m---> 15\u001b[0;31m         \u001b[0mindices\u001b[0m\u001b[0;34m[\u001b[0m\u001b[0mi\u001b[0m\u001b[0;34m]\u001b[0m \u001b[0;34m+=\u001b[0m \u001b[0;36m1\u001b[0m\u001b[0;34m\u001b[0m\u001b[0;34m\u001b[0m\u001b[0m\n\u001b[0m\u001b[1;32m     16\u001b[0m         \u001b[0;32mfor\u001b[0m \u001b[0mj\u001b[0m \u001b[0;32min\u001b[0m \u001b[0mrange\u001b[0m\u001b[0;34m(\u001b[0m\u001b[0mi\u001b[0m\u001b[0;34m+\u001b[0m\u001b[0;36m1\u001b[0m\u001b[0;34m,\u001b[0m \u001b[0mr\u001b[0m\u001b[0;34m)\u001b[0m\u001b[0;34m:\u001b[0m\u001b[0;34m\u001b[0m\u001b[0;34m\u001b[0m\u001b[0m\n\u001b[1;32m     17\u001b[0m             \u001b[0mindices\u001b[0m\u001b[0;34m[\u001b[0m\u001b[0mj\u001b[0m\u001b[0;34m]\u001b[0m \u001b[0;34m=\u001b[0m \u001b[0mindices\u001b[0m\u001b[0;34m[\u001b[0m\u001b[0mj\u001b[0m\u001b[0;34m-\u001b[0m\u001b[0;36m1\u001b[0m\u001b[0;34m]\u001b[0m \u001b[0;34m+\u001b[0m \u001b[0;36m1\u001b[0m\u001b[0;34m\u001b[0m\u001b[0;34m\u001b[0m\u001b[0m\n",
      "\u001b[0;31mTypeError\u001b[0m: 'range' object does not support item assignment"
     ]
    }
   ],
   "source": [
    "def combinations(iterable, r):\n",
    "    #from python documentation\n",
    "    pool = tuple(iterable)\n",
    "    n = len(pool)\n",
    "    if r > n:\n",
    "        return\n",
    "    indices = range(r)\n",
    "    yield tuple(pool[i] for i in indices)\n",
    "    while True:\n",
    "        for i in reversed(range(r)):\n",
    "            if indices[i] != i + n - r:\n",
    "                break\n",
    "        else:\n",
    "            return\n",
    "        indices[i] += 1\n",
    "        for j in range(i+1, r):\n",
    "            indices[j] = indices[j-1] + 1\n",
    "        yield tuple(pool[i] for i in indices)\n",
    "        \n",
    "        \n",
    "        \n",
    "combos = list(combinations(range(len(forest13)), 2))\n",
    "voting = {}    #dict of 0s\n",
    "for i in range(len(combos)):\n",
    "    voting[combos[i]] = 0\n",
    "    \n",
    "for i in range(len(forest13)):\n",
    "    del voting[(i, i, i)]\n",
    "    \n",
    "for i in range(len(titanic_table)):\n",
    "    row = trees[i]\n",
    "    for j in voting:\n",
    "        if(row[j[0]] == row[j[1]] == row[j[1]]):\n",
    "            voting[j]+=1\n",
    "\n",
    "block3_list = sorted(voting_blocks.items(), key=lambda pair: pair[1], reverse=True)      \n",
    "block3_list[:10]"
   ]
  },
  {
   "cell_type": "markdown",
   "metadata": {
    "colab_type": "text",
    "id": "uDz3NazI3upr"
   },
   "source": [
    "It looks like for 891 rows, trees 5 and 8 and 12 vote the same 849 times."
   ]
  },
  {
   "cell_type": "markdown",
   "metadata": {
    "colab_type": "text",
    "id": "pGLaWlIMhMoP"
   },
   "source": [
    "<h1>\n",
    "Part 2. Explore knn behavior\n",
    "</h1>\n",
    "<div class=h1_cell>\n",
    "<p>\n",
    "If I set k=10, then I take the 10 rows with the smallest distance as voters. You all know that. But the value for k is somewhat arbitrary. What if I chose k=11? Would it matter?\n",
    "  <p>\n",
    "So what I am interested in is if I set k=10, what about the 11th row? It is the one that just missed the cut. Maybe it has useful info to offer but I keep cutting it off. I am going to ask you to explore the set of just left out rows, e.g., the 11th row when k=10. If we find that the 11th row is usually correct, we can increment k to be 11.\n",
    "    <p>\n",
    "      I'll ask you to do exploration in a set of 3 problems.\n",
    "</div>"
   ]
  },
  {
   "cell_type": "code",
   "execution_count": 27,
   "metadata": {
    "colab": {},
    "colab_type": "code",
    "id": "3ipjCjQb4Fjp"
   },
   "outputs": [],
   "source": [
    "small_titanic = titanic_table[:100]  #use this slice in your code to cut down on computing time"
   ]
  },
  {
   "cell_type": "markdown",
   "metadata": {
    "colab_type": "text",
    "id": "a8T3WbkRp6ko"
   },
   "source": [
    "<h1>\n",
    "Problem 4: A row's just-missed counts (15 points)\n",
    "</h1>\n",
    "<div class=h1_cell>\n",
    "<p>\n",
    "  Loop through all the rows in the small titanic table and compute the sorted list of differences for each. For now, I don't care about the first k. All I want is the index of the k+1 item in the sorted distances, i.e., the row that almost made the cut but not quite.\n",
    "For instance, if k is 10, I want to know the index of 11th item (actually the 10th item with 0-indexing). Record the 11th item's index. When finished print out how many times each row was just missed. Here are the first part of my results. I will use k=10 for all the questions in this part.\n",
    "  <pre>\n",
    "[(91, 11),\n",
    " (51, 8),\n",
    " (2, 7),\n",
    " (76, 7),\n",
    " (5, 6),\n",
    " (21, 6),\n",
    " (64, 5),\n",
    " (17, 4),\n",
    " (23, 4),\n",
    " (26, 4)]\n",
    " </pre>\n",
    "  So row 51 just missed being in the top-10 8 times.\n",
    "</div>"
   ]
  },
  {
   "cell_type": "code",
   "execution_count": 81,
   "metadata": {
    "colab": {
     "base_uri": "https://localhost:8080/",
     "height": 185
    },
    "colab_type": "code",
    "id": "erJ1mb-s4sak",
    "outputId": "b99be9c5-ebdb-4653-d079-379ca6713c1d"
   },
   "outputs": [
    {
     "data": {
      "text/plain": [
       "[(0, 31),\n",
       " (12, 29),\n",
       " (4, 28),\n",
       " (13, 28),\n",
       " (37, 28),\n",
       " (8, 20),\n",
       " (29, 20),\n",
       " (45, 20),\n",
       " (51, 20),\n",
       " (59, 20)]"
      ]
     },
     "execution_count": 81,
     "metadata": {},
     "output_type": "execute_result"
    }
   ],
   "source": [
    "def knn_missed(row_index, table, columns, k, target):\n",
    "    length = len(table) # get the length of the table\n",
    "    t = table[columns]\n",
    "\n",
    "    distance = []\n",
    "    for i in range(len(t)): \n",
    "        #append the indexes and their distances\n",
    "        distance.append(tuple([i, euclidean_distance(list(t.iloc[row_index]), list(t.iloc[i]))]))\n",
    "\n",
    "    # sort the distances   \n",
    "    sorted_dist = sorted(distance,key = lambda i: i[1])\n",
    "    missed_k = []\n",
    "\n",
    "    \n",
    "    #find second to max\n",
    "    for key, item in enumerate(sorted_dist):\n",
    "        #print(item)\n",
    "        if (key > k):\n",
    "            break\n",
    "        missed_k.append(item[0])\n",
    "    \"\"\"\n",
    "    #find second to max\n",
    "    for i in range(len(sorted_dist)):\n",
    "        #print(max(sorted_dist[i]))\n",
    "        missed_k.append(sorted_dist[-2])    #second largest\n",
    "    \"\"\"\n",
    "    \n",
    "    return missed_k\n",
    "\n",
    "almost = {}\n",
    "for i in range(len(small_titanic)):\n",
    "    almost[i] = 0\n",
    "    \n",
    "for i in range(len(small_titanic)):\n",
    "    missed = knn_missed(i, small_titanic, usable_columns, 10, target)\n",
    "    for j in missed:\n",
    "        #print(j)\n",
    "        almost[j]+=1\n",
    "        \n",
    "just_missed_list = sorted(topk.items(), key=lambda pair: pair[1], reverse=True)\n",
    "just_missed_list[:10]"
   ]
  },
  {
   "cell_type": "markdown",
   "metadata": {
    "colab_type": "text",
    "id": "GRGbsp05_2JW"
   },
   "source": [
    "<h1>\n",
    "Problem 5: Just missed was correct (15 points)\n",
    "</h1>\n",
    "<div class=h1_cell>\n",
    "<p>\n",
    "Let's delve a little deeper into the k+1 rows. I'd like to know how many times they were correct. If k=10 then count how many times the 11th row was correct. Store your result in missed_correct_list, in sorted fashion. Here are the first part of my results.\n",
    "  <pre>\n",
    "[(91, 11),\n",
    " (5, 6),\n",
    " (51, 6),\n",
    " (2, 5),\n",
    " (69, 4),\n",
    " (17, 3),\n",
    " (64, 3),\n",
    " (76, 3),\n",
    " (10, 2),\n",
    " (21, 2)]\n",
    " </pre>\n",
    "  So when row 51 was in the top-10, it was correct 6 times.\n",
    "</div>"
   ]
  },
  {
   "cell_type": "code",
   "execution_count": 82,
   "metadata": {
    "colab": {
     "base_uri": "https://localhost:8080/",
     "height": 185
    },
    "colab_type": "code",
    "id": "3I7M9aHDD0bT",
    "outputId": "4ae570f8-ae19-413a-9477-4b291b7d3511"
   },
   "outputs": [
    {
     "data": {
      "text/plain": [
       "[(0, 52),\n",
       " (12, 52),\n",
       " (37, 52),\n",
       " (4, 40),\n",
       " (13, 40),\n",
       " (51, 40),\n",
       " (59, 40),\n",
       " (67, 38),\n",
       " (69, 30),\n",
       " (8, 28)]"
      ]
     },
     "execution_count": 82,
     "metadata": {},
     "output_type": "execute_result"
    }
   ],
   "source": [
    "def missed_correct(row_index, table, columns,k, target):\n",
    "    tab = table[columns]\n",
    "    \n",
    "    distance = []\n",
    "    for i in range(len(tab)): \n",
    "        #append the indexes and their distances\n",
    "        distance.append(tuple([i, euclidean_distance(list(tab.iloc[row_index]), list(tab.iloc[i]))]))\n",
    "\n",
    "    sorted_dist = sorted(distance,key = lambda i: i[1])\n",
    "  \n",
    "    votes = {}\n",
    "  \n",
    "    #gather votes from k rows \n",
    "    for key, item in enumerate(sorted_dist):\n",
    "        if (key > k):\n",
    "            break\n",
    "        row = table.iloc[item[0]]\n",
    "        vote = row[target]\n",
    "        votes[item[0]] = vote\n",
    "    return votes\n",
    "\n",
    "pairs = {}\n",
    "for i in range(len(small_titanic)):\n",
    "    pairs[i] = 0\n",
    "\n",
    "for i in range(len(small_titanic)):\n",
    "    row = small_titanic.loc[i]\n",
    "    #targ = row[target]\n",
    "    votes = missed_correct(i, small_titanic, usable_columns, 10, target)\n",
    "    for n, v in votes.items():\n",
    "        if (v == row[target]):\n",
    "            participant_pairs[n]+=1\n",
    "\n",
    "correct_missed_list = sorted(participant_pairs.items(), key=lambda pair: pair[1], reverse=True)\n",
    "correct_missed_list[:10]"
   ]
  },
  {
   "cell_type": "markdown",
   "metadata": {
    "colab_type": "text",
    "id": "dhkbicwyCE4-"
   },
   "source": [
    "<h1>\n",
    "Problem 6: Tip the scales (20 points)\n",
    "</h1>\n",
    "<div class=h1_cell>\n",
    "<p>\n",
    "Ok, finally to the question I really want to answer. If I am going to start including the 11th row by making k=11, I want to know if adding the row makes a difference. Would it have tipped the scales? As usual, go through all 891 rows and get the sorted distances for each. But now go ahead and get the votes of the top 10. Once you count the 10 votes, you will come up with a prediction as normal. What I want to know is whether the 11th vote would have tipped the scales. If you took just the 10, you get one result. If you add in the 11th vote you get a different result. Give me a sorted list of rows that tipped the scales acting as the 11th voter.\n",
    "  <pre>\n",
    "[(2, 4),\n",
    " (23, 3),\n",
    " (53, 2),\n",
    " (65, 1),\n",
    " (84, 1),\n",
    " (0, 0),\n",
    " (1, 0),\n",
    " (3, 0),\n",
    " (4, 0),\n",
    " (5, 0)]\n",
    " </pre>\n",
    "  So row 2. acting as the k+1 voter, switched the outcome of the vote 4 times. Looking at this list, I would probably give up adding an 11th voter (i.e., changing k=11). Only a small number of examples where it actually makes a difference.\n",
    "</div>"
   ]
  },
  {
   "cell_type": "code",
   "execution_count": 78,
   "metadata": {
    "colab": {
     "base_uri": "https://localhost:8080/",
     "height": 185
    },
    "colab_type": "code",
    "id": "e9H6bXVIm_uh",
    "outputId": "e77734d9-20e8-4157-c5fd-3fb0e0ee3339"
   },
   "outputs": [
    {
     "name": "stdout",
     "output_type": "stream",
     "text": [
      "0\n",
      "0\n"
     ]
    },
    {
     "data": {
      "text/plain": [
       "[(3, 1),\n",
       " (39, 1),\n",
       " (0, 0),\n",
       " (1, 0),\n",
       " (2, 0),\n",
       " (4, 0),\n",
       " (5, 0),\n",
       " (6, 0),\n",
       " (7, 0),\n",
       " (8, 0)]"
      ]
     },
     "execution_count": 78,
     "metadata": {},
     "output_type": "execute_result"
    }
   ],
   "source": [
    "prediction_table = []\n",
    "for i in range(len(titanic_table)):\n",
    "    prediction_table.append((i,0))\n",
    "    \n",
    "for i in range(len(titanic_table)):\n",
    "    if(knn(i, titanic_table , usable_columns, 10, target) != knn(i, titanic_table , usable_columns, 11, target)):\n",
    "        #not finding all of the differences for some reason\n",
    "        #prediction_table[i][1] += 1\n",
    "        pred = list(prediction_table[i])\n",
    "        pred[1] += 1\n",
    "        prediction_table[i] = tuple(pred)\n",
    "\n",
    "scale_tipper_list = sorted(prediction_table, key=lambda pair: pair[1], reverse=True)\n",
    "scale_tipper_list[:10]"
   ]
  },
  {
   "cell_type": "code",
   "execution_count": null,
   "metadata": {},
   "outputs": [],
   "source": []
  }
 ],
 "metadata": {
  "colab": {
   "collapsed_sections": [],
   "name": "midterm3_w19.ipynb",
   "provenance": [],
   "version": "0.3.2"
  },
  "kernelspec": {
   "display_name": "Python 3",
   "language": "python",
   "name": "python3"
  },
  "language_info": {
   "codemirror_mode": {
    "name": "ipython",
    "version": 3
   },
   "file_extension": ".py",
   "mimetype": "text/x-python",
   "name": "python",
   "nbconvert_exporter": "python",
   "pygments_lexer": "ipython3",
   "version": "3.7.1"
  }
 },
 "nbformat": 4,
 "nbformat_minor": 1
}
