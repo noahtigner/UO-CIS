{
 "cells": [
  {
   "cell_type": "markdown",
   "metadata": {
    "colab_type": "text",
    "id": "0-tWg0DJ2Tus"
   },
   "source": [
    "<h1>\n",
    "<center>\n",
    "Module 4: Tree Building assignment\n",
    "</center>\n",
    "</h1>\n",
    "<div class=h1_cell>\n",
    "\n",
    "You will be working with the loan table again.\n",
    "\n",
    "</div>"
   ]
  },
  {
   "cell_type": "code",
   "execution_count": 32,
   "metadata": {
    "colab": {
     "base_uri": "https://localhost:8080/",
     "height": 121
    },
    "colab_type": "code",
    "id": "Qae_5pV22Tuu",
    "outputId": "0b8e6dd0-4ede-4b92-e759-ffc9670499d4"
   },
   "outputs": [],
   "source": [
    "import pandas as pd\n",
    "\n",
    "with open('/Users/Noah/Documents/My Documents/2018:2019/2. Winter/CIS 399/Assignment4/loan_wrangled_week3.csv', 'r') as f:\n",
    "    loan_table = pd.read_csv(f)\n",
    "    \n",
    "with open('/Users/Noah/Documents/My Documents/2018:2019/2. Winter/CIS 399/Assignment4/loan_results_week2.csv', 'r') as f:\n",
    "    loan_results = pd.read_csv(f)\n"
   ]
  },
  {
   "cell_type": "code",
   "execution_count": 57,
   "metadata": {
    "colab": {
     "base_uri": "https://localhost:8080/",
     "height": 50
    },
    "colab_type": "code",
    "id": "_5bTdr8qf63i",
    "outputId": "6299eff4-f2ff-492c-ddfd-828a20657cc3"
   },
   "outputs": [
    {
     "name": "stdout",
     "output_type": "stream",
     "text": [
      "accuracy\t build_pred\t build_tree_iter\t compute_prediction\t f1\t find_best_splitter\t generate_table\t gig\t gini\t \n",
      "informedness\t predictor_case\t probabilities\t tree_predictor\t \n"
     ]
    }
   ],
   "source": [
    "from library_w19_week4 import *\n",
    "%who function"
   ]
  },
  {
   "cell_type": "code",
   "execution_count": 34,
   "metadata": {
    "colab": {
     "base_uri": "https://localhost:8080/",
     "height": 232
    },
    "colab_type": "code",
    "id": "ztfR-1BO2Tu8",
    "outputId": "bb5500cc-5836-4940-c602-38aa2ba848a7",
    "scrolled": true
   },
   "outputs": [
    {
     "data": {
      "text/html": [
       "<div>\n",
       "<style scoped>\n",
       "    .dataframe tbody tr th:only-of-type {\n",
       "        vertical-align: middle;\n",
       "    }\n",
       "\n",
       "    .dataframe tbody tr th {\n",
       "        vertical-align: top;\n",
       "    }\n",
       "\n",
       "    .dataframe thead th {\n",
       "        text-align: right;\n",
       "    }\n",
       "</style>\n",
       "<table border=\"1\" class=\"dataframe\">\n",
       "  <thead>\n",
       "    <tr style=\"text-align: right;\">\n",
       "      <th></th>\n",
       "      <th>Gender</th>\n",
       "      <th>Married</th>\n",
       "      <th>Dependents</th>\n",
       "      <th>Education</th>\n",
       "      <th>Self_Employed</th>\n",
       "      <th>ApplicantIncome</th>\n",
       "      <th>CoapplicantIncome</th>\n",
       "      <th>LoanAmount</th>\n",
       "      <th>Loan_Amount_Term</th>\n",
       "      <th>Credit_History</th>\n",
       "      <th>Property_Area</th>\n",
       "      <th>Loan_Status</th>\n",
       "      <th>no_lam</th>\n",
       "      <th>filled_lam</th>\n",
       "      <th>pa_Rural</th>\n",
       "      <th>pa_Semiurban</th>\n",
       "      <th>pa_Urban</th>\n",
       "      <th>pa_nan</th>\n",
       "      <th>lam_bin</th>\n",
       "      <th>lam_Low</th>\n",
       "      <th>lam_Average</th>\n",
       "      <th>lam_High</th>\n",
       "      <th>ch_bad</th>\n",
       "      <th>ch_good</th>\n",
       "      <th>ch_nan</th>\n",
       "      <th>apin_bin</th>\n",
       "      <th>apin_low</th>\n",
       "      <th>apin_average</th>\n",
       "      <th>apin_high</th>\n",
       "      <th>apin_nan</th>\n",
       "    </tr>\n",
       "  </thead>\n",
       "  <tbody>\n",
       "    <tr>\n",
       "      <th>0</th>\n",
       "      <td>Male</td>\n",
       "      <td>No</td>\n",
       "      <td>0</td>\n",
       "      <td>Graduate</td>\n",
       "      <td>No</td>\n",
       "      <td>5849</td>\n",
       "      <td>0.0</td>\n",
       "      <td>NaN</td>\n",
       "      <td>360.0</td>\n",
       "      <td>1.0</td>\n",
       "      <td>Urban</td>\n",
       "      <td>1</td>\n",
       "      <td>1</td>\n",
       "      <td>146.412162</td>\n",
       "      <td>0</td>\n",
       "      <td>0</td>\n",
       "      <td>1</td>\n",
       "      <td>0</td>\n",
       "      <td>Low</td>\n",
       "      <td>1</td>\n",
       "      <td>0</td>\n",
       "      <td>0</td>\n",
       "      <td>0</td>\n",
       "      <td>1</td>\n",
       "      <td>0</td>\n",
       "      <td>low</td>\n",
       "      <td>1</td>\n",
       "      <td>0</td>\n",
       "      <td>0</td>\n",
       "      <td>0</td>\n",
       "    </tr>\n",
       "    <tr>\n",
       "      <th>1</th>\n",
       "      <td>Male</td>\n",
       "      <td>Yes</td>\n",
       "      <td>1</td>\n",
       "      <td>Graduate</td>\n",
       "      <td>No</td>\n",
       "      <td>4583</td>\n",
       "      <td>1508.0</td>\n",
       "      <td>128.0</td>\n",
       "      <td>360.0</td>\n",
       "      <td>1.0</td>\n",
       "      <td>Rural</td>\n",
       "      <td>0</td>\n",
       "      <td>0</td>\n",
       "      <td>128.000000</td>\n",
       "      <td>1</td>\n",
       "      <td>0</td>\n",
       "      <td>0</td>\n",
       "      <td>0</td>\n",
       "      <td>Low</td>\n",
       "      <td>1</td>\n",
       "      <td>0</td>\n",
       "      <td>0</td>\n",
       "      <td>0</td>\n",
       "      <td>1</td>\n",
       "      <td>0</td>\n",
       "      <td>low</td>\n",
       "      <td>1</td>\n",
       "      <td>0</td>\n",
       "      <td>0</td>\n",
       "      <td>0</td>\n",
       "    </tr>\n",
       "    <tr>\n",
       "      <th>2</th>\n",
       "      <td>Male</td>\n",
       "      <td>Yes</td>\n",
       "      <td>0</td>\n",
       "      <td>Graduate</td>\n",
       "      <td>Yes</td>\n",
       "      <td>3000</td>\n",
       "      <td>0.0</td>\n",
       "      <td>66.0</td>\n",
       "      <td>360.0</td>\n",
       "      <td>1.0</td>\n",
       "      <td>Urban</td>\n",
       "      <td>1</td>\n",
       "      <td>0</td>\n",
       "      <td>66.000000</td>\n",
       "      <td>0</td>\n",
       "      <td>0</td>\n",
       "      <td>1</td>\n",
       "      <td>0</td>\n",
       "      <td>Low</td>\n",
       "      <td>1</td>\n",
       "      <td>0</td>\n",
       "      <td>0</td>\n",
       "      <td>0</td>\n",
       "      <td>1</td>\n",
       "      <td>0</td>\n",
       "      <td>low</td>\n",
       "      <td>1</td>\n",
       "      <td>0</td>\n",
       "      <td>0</td>\n",
       "      <td>0</td>\n",
       "    </tr>\n",
       "    <tr>\n",
       "      <th>3</th>\n",
       "      <td>Male</td>\n",
       "      <td>Yes</td>\n",
       "      <td>0</td>\n",
       "      <td>Not Graduate</td>\n",
       "      <td>No</td>\n",
       "      <td>2583</td>\n",
       "      <td>2358.0</td>\n",
       "      <td>120.0</td>\n",
       "      <td>360.0</td>\n",
       "      <td>1.0</td>\n",
       "      <td>Urban</td>\n",
       "      <td>1</td>\n",
       "      <td>0</td>\n",
       "      <td>120.000000</td>\n",
       "      <td>0</td>\n",
       "      <td>0</td>\n",
       "      <td>1</td>\n",
       "      <td>0</td>\n",
       "      <td>Low</td>\n",
       "      <td>1</td>\n",
       "      <td>0</td>\n",
       "      <td>0</td>\n",
       "      <td>0</td>\n",
       "      <td>1</td>\n",
       "      <td>0</td>\n",
       "      <td>low</td>\n",
       "      <td>1</td>\n",
       "      <td>0</td>\n",
       "      <td>0</td>\n",
       "      <td>0</td>\n",
       "    </tr>\n",
       "    <tr>\n",
       "      <th>4</th>\n",
       "      <td>Male</td>\n",
       "      <td>No</td>\n",
       "      <td>0</td>\n",
       "      <td>Graduate</td>\n",
       "      <td>No</td>\n",
       "      <td>6000</td>\n",
       "      <td>0.0</td>\n",
       "      <td>141.0</td>\n",
       "      <td>360.0</td>\n",
       "      <td>1.0</td>\n",
       "      <td>Urban</td>\n",
       "      <td>1</td>\n",
       "      <td>0</td>\n",
       "      <td>141.000000</td>\n",
       "      <td>0</td>\n",
       "      <td>0</td>\n",
       "      <td>1</td>\n",
       "      <td>0</td>\n",
       "      <td>Low</td>\n",
       "      <td>1</td>\n",
       "      <td>0</td>\n",
       "      <td>0</td>\n",
       "      <td>0</td>\n",
       "      <td>1</td>\n",
       "      <td>0</td>\n",
       "      <td>low</td>\n",
       "      <td>1</td>\n",
       "      <td>0</td>\n",
       "      <td>0</td>\n",
       "      <td>0</td>\n",
       "    </tr>\n",
       "  </tbody>\n",
       "</table>\n",
       "</div>"
      ],
      "text/plain": [
       "  Gender Married Dependents     Education Self_Employed  ApplicantIncome  \\\n",
       "0   Male      No          0      Graduate            No             5849   \n",
       "1   Male     Yes          1      Graduate            No             4583   \n",
       "2   Male     Yes          0      Graduate           Yes             3000   \n",
       "3   Male     Yes          0  Not Graduate            No             2583   \n",
       "4   Male      No          0      Graduate            No             6000   \n",
       "\n",
       "   CoapplicantIncome  LoanAmount  Loan_Amount_Term  Credit_History  \\\n",
       "0                0.0         NaN             360.0             1.0   \n",
       "1             1508.0       128.0             360.0             1.0   \n",
       "2                0.0        66.0             360.0             1.0   \n",
       "3             2358.0       120.0             360.0             1.0   \n",
       "4                0.0       141.0             360.0             1.0   \n",
       "\n",
       "  Property_Area  Loan_Status  no_lam  filled_lam  pa_Rural  pa_Semiurban  \\\n",
       "0         Urban            1       1  146.412162         0             0   \n",
       "1         Rural            0       0  128.000000         1             0   \n",
       "2         Urban            1       0   66.000000         0             0   \n",
       "3         Urban            1       0  120.000000         0             0   \n",
       "4         Urban            1       0  141.000000         0             0   \n",
       "\n",
       "   pa_Urban  pa_nan lam_bin  lam_Low  lam_Average  lam_High  ch_bad  ch_good  \\\n",
       "0         1       0     Low        1            0         0       0        1   \n",
       "1         0       0     Low        1            0         0       0        1   \n",
       "2         1       0     Low        1            0         0       0        1   \n",
       "3         1       0     Low        1            0         0       0        1   \n",
       "4         1       0     Low        1            0         0       0        1   \n",
       "\n",
       "   ch_nan apin_bin  apin_low  apin_average  apin_high  apin_nan  \n",
       "0       0      low         1             0          0         0  \n",
       "1       0      low         1             0          0         0  \n",
       "2       0      low         1             0          0         0  \n",
       "3       0      low         1             0          0         0  \n",
       "4       0      low         1             0          0         0  "
      ]
     },
     "execution_count": 34,
     "metadata": {},
     "output_type": "execute_result"
    }
   ],
   "source": [
    "pd.set_option('display.max_columns', None)\n",
    "loan_table.head()"
   ]
  },
  {
   "cell_type": "code",
   "execution_count": 35,
   "metadata": {
    "colab": {
     "base_uri": "https://localhost:8080/",
     "height": 134
    },
    "colab_type": "code",
    "id": "y_BkESex2TvB",
    "outputId": "94677e72-d870-4823-ba6c-53c15fb099fc"
   },
   "outputs": [
    {
     "data": {
      "text/plain": [
       "array(['Gender', 'Married', 'Dependents', 'Education', 'Self_Employed',\n",
       "       'ApplicantIncome', 'CoapplicantIncome', 'LoanAmount',\n",
       "       'Loan_Amount_Term', 'Credit_History', 'Property_Area',\n",
       "       'Loan_Status', 'no_lam', 'filled_lam', 'pa_Rural', 'pa_Semiurban',\n",
       "       'pa_Urban', 'pa_nan', 'lam_bin', 'lam_Low', 'lam_Average',\n",
       "       'lam_High', 'ch_bad', 'ch_good', 'ch_nan', 'apin_bin', 'apin_low',\n",
       "       'apin_average', 'apin_high', 'apin_nan'], dtype=object)"
      ]
     },
     "execution_count": 35,
     "metadata": {},
     "output_type": "execute_result"
    }
   ],
   "source": [
    "loan_table.columns.values"
   ]
  },
  {
   "cell_type": "markdown",
   "metadata": {
    "colab_type": "text",
    "id": "hgqAyLO6SLSP"
   },
   "source": [
    "<hr>\n",
    "<h1>\n",
    "1: OHE Dependents\n",
    "</h1>\n",
    "If you take a look at the Dependents column below, you will see that it is viewed as a categorical column with 4 unique values. So we should be able to use get_dummies on it."
   ]
  },
  {
   "cell_type": "code",
   "execution_count": 36,
   "metadata": {
    "colab": {
     "base_uri": "https://localhost:8080/",
     "height": 393
    },
    "colab_type": "code",
    "id": "dksdERWQRoXx",
    "outputId": "0069f59d-5ed6-411c-f831-b2a41042a7c6"
   },
   "outputs": [
    {
     "data": {
      "text/html": [
       "<div>\n",
       "<style scoped>\n",
       "    .dataframe tbody tr th:only-of-type {\n",
       "        vertical-align: middle;\n",
       "    }\n",
       "\n",
       "    .dataframe tbody tr th {\n",
       "        vertical-align: top;\n",
       "    }\n",
       "\n",
       "    .dataframe thead th {\n",
       "        text-align: right;\n",
       "    }\n",
       "</style>\n",
       "<table border=\"1\" class=\"dataframe\">\n",
       "  <thead>\n",
       "    <tr style=\"text-align: right;\">\n",
       "      <th></th>\n",
       "      <th>Gender</th>\n",
       "      <th>Married</th>\n",
       "      <th>Dependents</th>\n",
       "      <th>Education</th>\n",
       "      <th>Self_Employed</th>\n",
       "      <th>ApplicantIncome</th>\n",
       "      <th>CoapplicantIncome</th>\n",
       "      <th>LoanAmount</th>\n",
       "      <th>Loan_Amount_Term</th>\n",
       "      <th>Credit_History</th>\n",
       "      <th>Property_Area</th>\n",
       "      <th>Loan_Status</th>\n",
       "      <th>no_lam</th>\n",
       "      <th>filled_lam</th>\n",
       "      <th>pa_Rural</th>\n",
       "      <th>pa_Semiurban</th>\n",
       "      <th>pa_Urban</th>\n",
       "      <th>pa_nan</th>\n",
       "      <th>lam_bin</th>\n",
       "      <th>lam_Low</th>\n",
       "      <th>lam_Average</th>\n",
       "      <th>lam_High</th>\n",
       "      <th>ch_bad</th>\n",
       "      <th>ch_good</th>\n",
       "      <th>ch_nan</th>\n",
       "      <th>apin_bin</th>\n",
       "      <th>apin_low</th>\n",
       "      <th>apin_average</th>\n",
       "      <th>apin_high</th>\n",
       "      <th>apin_nan</th>\n",
       "    </tr>\n",
       "  </thead>\n",
       "  <tbody>\n",
       "    <tr>\n",
       "      <th>count</th>\n",
       "      <td>601</td>\n",
       "      <td>611</td>\n",
       "      <td>599</td>\n",
       "      <td>614</td>\n",
       "      <td>582</td>\n",
       "      <td>614.000000</td>\n",
       "      <td>614.000000</td>\n",
       "      <td>592.000000</td>\n",
       "      <td>600.00000</td>\n",
       "      <td>564.000000</td>\n",
       "      <td>614</td>\n",
       "      <td>614.000000</td>\n",
       "      <td>614.000000</td>\n",
       "      <td>614.000000</td>\n",
       "      <td>614.000000</td>\n",
       "      <td>614.000000</td>\n",
       "      <td>614.000000</td>\n",
       "      <td>614.0</td>\n",
       "      <td>614</td>\n",
       "      <td>614.000000</td>\n",
       "      <td>614.000000</td>\n",
       "      <td>614.000000</td>\n",
       "      <td>614.000000</td>\n",
       "      <td>614.000000</td>\n",
       "      <td>614.000000</td>\n",
       "      <td>614</td>\n",
       "      <td>614.000000</td>\n",
       "      <td>614.000000</td>\n",
       "      <td>614.000000</td>\n",
       "      <td>614.0</td>\n",
       "    </tr>\n",
       "    <tr>\n",
       "      <th>unique</th>\n",
       "      <td>2</td>\n",
       "      <td>2</td>\n",
       "      <td>4</td>\n",
       "      <td>2</td>\n",
       "      <td>2</td>\n",
       "      <td>NaN</td>\n",
       "      <td>NaN</td>\n",
       "      <td>NaN</td>\n",
       "      <td>NaN</td>\n",
       "      <td>NaN</td>\n",
       "      <td>3</td>\n",
       "      <td>NaN</td>\n",
       "      <td>NaN</td>\n",
       "      <td>NaN</td>\n",
       "      <td>NaN</td>\n",
       "      <td>NaN</td>\n",
       "      <td>NaN</td>\n",
       "      <td>NaN</td>\n",
       "      <td>3</td>\n",
       "      <td>NaN</td>\n",
       "      <td>NaN</td>\n",
       "      <td>NaN</td>\n",
       "      <td>NaN</td>\n",
       "      <td>NaN</td>\n",
       "      <td>NaN</td>\n",
       "      <td>3</td>\n",
       "      <td>NaN</td>\n",
       "      <td>NaN</td>\n",
       "      <td>NaN</td>\n",
       "      <td>NaN</td>\n",
       "    </tr>\n",
       "    <tr>\n",
       "      <th>top</th>\n",
       "      <td>Male</td>\n",
       "      <td>Yes</td>\n",
       "      <td>0</td>\n",
       "      <td>Graduate</td>\n",
       "      <td>No</td>\n",
       "      <td>NaN</td>\n",
       "      <td>NaN</td>\n",
       "      <td>NaN</td>\n",
       "      <td>NaN</td>\n",
       "      <td>NaN</td>\n",
       "      <td>Semiurban</td>\n",
       "      <td>NaN</td>\n",
       "      <td>NaN</td>\n",
       "      <td>NaN</td>\n",
       "      <td>NaN</td>\n",
       "      <td>NaN</td>\n",
       "      <td>NaN</td>\n",
       "      <td>NaN</td>\n",
       "      <td>Low</td>\n",
       "      <td>NaN</td>\n",
       "      <td>NaN</td>\n",
       "      <td>NaN</td>\n",
       "      <td>NaN</td>\n",
       "      <td>NaN</td>\n",
       "      <td>NaN</td>\n",
       "      <td>low</td>\n",
       "      <td>NaN</td>\n",
       "      <td>NaN</td>\n",
       "      <td>NaN</td>\n",
       "      <td>NaN</td>\n",
       "    </tr>\n",
       "    <tr>\n",
       "      <th>freq</th>\n",
       "      <td>489</td>\n",
       "      <td>398</td>\n",
       "      <td>345</td>\n",
       "      <td>480</td>\n",
       "      <td>500</td>\n",
       "      <td>NaN</td>\n",
       "      <td>NaN</td>\n",
       "      <td>NaN</td>\n",
       "      <td>NaN</td>\n",
       "      <td>NaN</td>\n",
       "      <td>233</td>\n",
       "      <td>NaN</td>\n",
       "      <td>NaN</td>\n",
       "      <td>NaN</td>\n",
       "      <td>NaN</td>\n",
       "      <td>NaN</td>\n",
       "      <td>NaN</td>\n",
       "      <td>NaN</td>\n",
       "      <td>556</td>\n",
       "      <td>NaN</td>\n",
       "      <td>NaN</td>\n",
       "      <td>NaN</td>\n",
       "      <td>NaN</td>\n",
       "      <td>NaN</td>\n",
       "      <td>NaN</td>\n",
       "      <td>607</td>\n",
       "      <td>NaN</td>\n",
       "      <td>NaN</td>\n",
       "      <td>NaN</td>\n",
       "      <td>NaN</td>\n",
       "    </tr>\n",
       "    <tr>\n",
       "      <th>mean</th>\n",
       "      <td>NaN</td>\n",
       "      <td>NaN</td>\n",
       "      <td>NaN</td>\n",
       "      <td>NaN</td>\n",
       "      <td>NaN</td>\n",
       "      <td>5403.459283</td>\n",
       "      <td>1621.245798</td>\n",
       "      <td>146.412162</td>\n",
       "      <td>342.00000</td>\n",
       "      <td>0.842199</td>\n",
       "      <td>NaN</td>\n",
       "      <td>0.687296</td>\n",
       "      <td>0.035831</td>\n",
       "      <td>146.412162</td>\n",
       "      <td>0.291531</td>\n",
       "      <td>0.379479</td>\n",
       "      <td>0.328990</td>\n",
       "      <td>0.0</td>\n",
       "      <td>NaN</td>\n",
       "      <td>0.905537</td>\n",
       "      <td>0.074919</td>\n",
       "      <td>0.019544</td>\n",
       "      <td>0.144951</td>\n",
       "      <td>0.773616</td>\n",
       "      <td>0.081433</td>\n",
       "      <td>NaN</td>\n",
       "      <td>0.988599</td>\n",
       "      <td>0.008143</td>\n",
       "      <td>0.003257</td>\n",
       "      <td>0.0</td>\n",
       "    </tr>\n",
       "    <tr>\n",
       "      <th>std</th>\n",
       "      <td>NaN</td>\n",
       "      <td>NaN</td>\n",
       "      <td>NaN</td>\n",
       "      <td>NaN</td>\n",
       "      <td>NaN</td>\n",
       "      <td>6109.041673</td>\n",
       "      <td>2926.248369</td>\n",
       "      <td>85.587325</td>\n",
       "      <td>65.12041</td>\n",
       "      <td>0.364878</td>\n",
       "      <td>NaN</td>\n",
       "      <td>0.463973</td>\n",
       "      <td>0.186019</td>\n",
       "      <td>84.037468</td>\n",
       "      <td>0.454838</td>\n",
       "      <td>0.485653</td>\n",
       "      <td>0.470229</td>\n",
       "      <td>0.0</td>\n",
       "      <td>NaN</td>\n",
       "      <td>0.292710</td>\n",
       "      <td>0.263475</td>\n",
       "      <td>0.138540</td>\n",
       "      <td>0.352339</td>\n",
       "      <td>0.418832</td>\n",
       "      <td>0.273722</td>\n",
       "      <td>NaN</td>\n",
       "      <td>0.106250</td>\n",
       "      <td>0.089945</td>\n",
       "      <td>0.057026</td>\n",
       "      <td>0.0</td>\n",
       "    </tr>\n",
       "    <tr>\n",
       "      <th>min</th>\n",
       "      <td>NaN</td>\n",
       "      <td>NaN</td>\n",
       "      <td>NaN</td>\n",
       "      <td>NaN</td>\n",
       "      <td>NaN</td>\n",
       "      <td>150.000000</td>\n",
       "      <td>0.000000</td>\n",
       "      <td>9.000000</td>\n",
       "      <td>12.00000</td>\n",
       "      <td>0.000000</td>\n",
       "      <td>NaN</td>\n",
       "      <td>0.000000</td>\n",
       "      <td>0.000000</td>\n",
       "      <td>9.000000</td>\n",
       "      <td>0.000000</td>\n",
       "      <td>0.000000</td>\n",
       "      <td>0.000000</td>\n",
       "      <td>0.0</td>\n",
       "      <td>NaN</td>\n",
       "      <td>0.000000</td>\n",
       "      <td>0.000000</td>\n",
       "      <td>0.000000</td>\n",
       "      <td>0.000000</td>\n",
       "      <td>0.000000</td>\n",
       "      <td>0.000000</td>\n",
       "      <td>NaN</td>\n",
       "      <td>0.000000</td>\n",
       "      <td>0.000000</td>\n",
       "      <td>0.000000</td>\n",
       "      <td>0.0</td>\n",
       "    </tr>\n",
       "    <tr>\n",
       "      <th>25%</th>\n",
       "      <td>NaN</td>\n",
       "      <td>NaN</td>\n",
       "      <td>NaN</td>\n",
       "      <td>NaN</td>\n",
       "      <td>NaN</td>\n",
       "      <td>2877.500000</td>\n",
       "      <td>0.000000</td>\n",
       "      <td>100.000000</td>\n",
       "      <td>360.00000</td>\n",
       "      <td>1.000000</td>\n",
       "      <td>NaN</td>\n",
       "      <td>0.000000</td>\n",
       "      <td>0.000000</td>\n",
       "      <td>100.250000</td>\n",
       "      <td>0.000000</td>\n",
       "      <td>0.000000</td>\n",
       "      <td>0.000000</td>\n",
       "      <td>0.0</td>\n",
       "      <td>NaN</td>\n",
       "      <td>1.000000</td>\n",
       "      <td>0.000000</td>\n",
       "      <td>0.000000</td>\n",
       "      <td>0.000000</td>\n",
       "      <td>1.000000</td>\n",
       "      <td>0.000000</td>\n",
       "      <td>NaN</td>\n",
       "      <td>1.000000</td>\n",
       "      <td>0.000000</td>\n",
       "      <td>0.000000</td>\n",
       "      <td>0.0</td>\n",
       "    </tr>\n",
       "    <tr>\n",
       "      <th>50%</th>\n",
       "      <td>NaN</td>\n",
       "      <td>NaN</td>\n",
       "      <td>NaN</td>\n",
       "      <td>NaN</td>\n",
       "      <td>NaN</td>\n",
       "      <td>3812.500000</td>\n",
       "      <td>1188.500000</td>\n",
       "      <td>128.000000</td>\n",
       "      <td>360.00000</td>\n",
       "      <td>1.000000</td>\n",
       "      <td>NaN</td>\n",
       "      <td>1.000000</td>\n",
       "      <td>0.000000</td>\n",
       "      <td>129.000000</td>\n",
       "      <td>0.000000</td>\n",
       "      <td>0.000000</td>\n",
       "      <td>0.000000</td>\n",
       "      <td>0.0</td>\n",
       "      <td>NaN</td>\n",
       "      <td>1.000000</td>\n",
       "      <td>0.000000</td>\n",
       "      <td>0.000000</td>\n",
       "      <td>0.000000</td>\n",
       "      <td>1.000000</td>\n",
       "      <td>0.000000</td>\n",
       "      <td>NaN</td>\n",
       "      <td>1.000000</td>\n",
       "      <td>0.000000</td>\n",
       "      <td>0.000000</td>\n",
       "      <td>0.0</td>\n",
       "    </tr>\n",
       "    <tr>\n",
       "      <th>75%</th>\n",
       "      <td>NaN</td>\n",
       "      <td>NaN</td>\n",
       "      <td>NaN</td>\n",
       "      <td>NaN</td>\n",
       "      <td>NaN</td>\n",
       "      <td>5795.000000</td>\n",
       "      <td>2297.250000</td>\n",
       "      <td>168.000000</td>\n",
       "      <td>360.00000</td>\n",
       "      <td>1.000000</td>\n",
       "      <td>NaN</td>\n",
       "      <td>1.000000</td>\n",
       "      <td>0.000000</td>\n",
       "      <td>164.750000</td>\n",
       "      <td>1.000000</td>\n",
       "      <td>1.000000</td>\n",
       "      <td>1.000000</td>\n",
       "      <td>0.0</td>\n",
       "      <td>NaN</td>\n",
       "      <td>1.000000</td>\n",
       "      <td>0.000000</td>\n",
       "      <td>0.000000</td>\n",
       "      <td>0.000000</td>\n",
       "      <td>1.000000</td>\n",
       "      <td>0.000000</td>\n",
       "      <td>NaN</td>\n",
       "      <td>1.000000</td>\n",
       "      <td>0.000000</td>\n",
       "      <td>0.000000</td>\n",
       "      <td>0.0</td>\n",
       "    </tr>\n",
       "    <tr>\n",
       "      <th>max</th>\n",
       "      <td>NaN</td>\n",
       "      <td>NaN</td>\n",
       "      <td>NaN</td>\n",
       "      <td>NaN</td>\n",
       "      <td>NaN</td>\n",
       "      <td>81000.000000</td>\n",
       "      <td>41667.000000</td>\n",
       "      <td>700.000000</td>\n",
       "      <td>480.00000</td>\n",
       "      <td>1.000000</td>\n",
       "      <td>NaN</td>\n",
       "      <td>1.000000</td>\n",
       "      <td>1.000000</td>\n",
       "      <td>700.000000</td>\n",
       "      <td>1.000000</td>\n",
       "      <td>1.000000</td>\n",
       "      <td>1.000000</td>\n",
       "      <td>0.0</td>\n",
       "      <td>NaN</td>\n",
       "      <td>1.000000</td>\n",
       "      <td>1.000000</td>\n",
       "      <td>1.000000</td>\n",
       "      <td>1.000000</td>\n",
       "      <td>1.000000</td>\n",
       "      <td>1.000000</td>\n",
       "      <td>NaN</td>\n",
       "      <td>1.000000</td>\n",
       "      <td>1.000000</td>\n",
       "      <td>1.000000</td>\n",
       "      <td>0.0</td>\n",
       "    </tr>\n",
       "  </tbody>\n",
       "</table>\n",
       "</div>"
      ],
      "text/plain": [
       "       Gender Married Dependents Education Self_Employed  ApplicantIncome  \\\n",
       "count     601     611        599       614           582       614.000000   \n",
       "unique      2       2          4         2             2              NaN   \n",
       "top      Male     Yes          0  Graduate            No              NaN   \n",
       "freq      489     398        345       480           500              NaN   \n",
       "mean      NaN     NaN        NaN       NaN           NaN      5403.459283   \n",
       "std       NaN     NaN        NaN       NaN           NaN      6109.041673   \n",
       "min       NaN     NaN        NaN       NaN           NaN       150.000000   \n",
       "25%       NaN     NaN        NaN       NaN           NaN      2877.500000   \n",
       "50%       NaN     NaN        NaN       NaN           NaN      3812.500000   \n",
       "75%       NaN     NaN        NaN       NaN           NaN      5795.000000   \n",
       "max       NaN     NaN        NaN       NaN           NaN     81000.000000   \n",
       "\n",
       "        CoapplicantIncome  LoanAmount  Loan_Amount_Term  Credit_History  \\\n",
       "count          614.000000  592.000000         600.00000      564.000000   \n",
       "unique                NaN         NaN               NaN             NaN   \n",
       "top                   NaN         NaN               NaN             NaN   \n",
       "freq                  NaN         NaN               NaN             NaN   \n",
       "mean          1621.245798  146.412162         342.00000        0.842199   \n",
       "std           2926.248369   85.587325          65.12041        0.364878   \n",
       "min              0.000000    9.000000          12.00000        0.000000   \n",
       "25%              0.000000  100.000000         360.00000        1.000000   \n",
       "50%           1188.500000  128.000000         360.00000        1.000000   \n",
       "75%           2297.250000  168.000000         360.00000        1.000000   \n",
       "max          41667.000000  700.000000         480.00000        1.000000   \n",
       "\n",
       "       Property_Area  Loan_Status      no_lam  filled_lam    pa_Rural  \\\n",
       "count            614   614.000000  614.000000  614.000000  614.000000   \n",
       "unique             3          NaN         NaN         NaN         NaN   \n",
       "top        Semiurban          NaN         NaN         NaN         NaN   \n",
       "freq             233          NaN         NaN         NaN         NaN   \n",
       "mean             NaN     0.687296    0.035831  146.412162    0.291531   \n",
       "std              NaN     0.463973    0.186019   84.037468    0.454838   \n",
       "min              NaN     0.000000    0.000000    9.000000    0.000000   \n",
       "25%              NaN     0.000000    0.000000  100.250000    0.000000   \n",
       "50%              NaN     1.000000    0.000000  129.000000    0.000000   \n",
       "75%              NaN     1.000000    0.000000  164.750000    1.000000   \n",
       "max              NaN     1.000000    1.000000  700.000000    1.000000   \n",
       "\n",
       "        pa_Semiurban    pa_Urban  pa_nan lam_bin     lam_Low  lam_Average  \\\n",
       "count     614.000000  614.000000   614.0     614  614.000000   614.000000   \n",
       "unique           NaN         NaN     NaN       3         NaN          NaN   \n",
       "top              NaN         NaN     NaN     Low         NaN          NaN   \n",
       "freq             NaN         NaN     NaN     556         NaN          NaN   \n",
       "mean        0.379479    0.328990     0.0     NaN    0.905537     0.074919   \n",
       "std         0.485653    0.470229     0.0     NaN    0.292710     0.263475   \n",
       "min         0.000000    0.000000     0.0     NaN    0.000000     0.000000   \n",
       "25%         0.000000    0.000000     0.0     NaN    1.000000     0.000000   \n",
       "50%         0.000000    0.000000     0.0     NaN    1.000000     0.000000   \n",
       "75%         1.000000    1.000000     0.0     NaN    1.000000     0.000000   \n",
       "max         1.000000    1.000000     0.0     NaN    1.000000     1.000000   \n",
       "\n",
       "          lam_High      ch_bad     ch_good      ch_nan apin_bin    apin_low  \\\n",
       "count   614.000000  614.000000  614.000000  614.000000      614  614.000000   \n",
       "unique         NaN         NaN         NaN         NaN        3         NaN   \n",
       "top            NaN         NaN         NaN         NaN      low         NaN   \n",
       "freq           NaN         NaN         NaN         NaN      607         NaN   \n",
       "mean      0.019544    0.144951    0.773616    0.081433      NaN    0.988599   \n",
       "std       0.138540    0.352339    0.418832    0.273722      NaN    0.106250   \n",
       "min       0.000000    0.000000    0.000000    0.000000      NaN    0.000000   \n",
       "25%       0.000000    0.000000    1.000000    0.000000      NaN    1.000000   \n",
       "50%       0.000000    0.000000    1.000000    0.000000      NaN    1.000000   \n",
       "75%       0.000000    0.000000    1.000000    0.000000      NaN    1.000000   \n",
       "max       1.000000    1.000000    1.000000    1.000000      NaN    1.000000   \n",
       "\n",
       "        apin_average   apin_high  apin_nan  \n",
       "count     614.000000  614.000000     614.0  \n",
       "unique           NaN         NaN       NaN  \n",
       "top              NaN         NaN       NaN  \n",
       "freq             NaN         NaN       NaN  \n",
       "mean        0.008143    0.003257       0.0  \n",
       "std         0.089945    0.057026       0.0  \n",
       "min         0.000000    0.000000       0.0  \n",
       "25%         0.000000    0.000000       0.0  \n",
       "50%         0.000000    0.000000       0.0  \n",
       "75%         0.000000    0.000000       0.0  \n",
       "max         1.000000    1.000000       0.0  "
      ]
     },
     "execution_count": 36,
     "metadata": {},
     "output_type": "execute_result"
    }
   ],
   "source": [
    "loan_table.describe(include='all')"
   ]
  },
  {
   "cell_type": "markdown",
   "metadata": {
    "colab_type": "text",
    "id": "T88CzBhRVDhY"
   },
   "source": [
    "Go ahead and ohe the `Dependents` column - use `dep` as prefix. And look at above to see the count. It has empties, right? So set the appropriate flag."
   ]
  },
  {
   "cell_type": "code",
   "execution_count": 44,
   "metadata": {
    "colab": {},
    "colab_type": "code",
    "id": "yVs4uNuT2TvR"
   },
   "outputs": [
    {
     "ename": "ValueError",
     "evalue": "columns overlap but no suffix specified: Index(['dep_0', 'dep_1', 'dep_2', 'dep_3+', 'dep_nan'], dtype='object')",
     "output_type": "error",
     "traceback": [
      "\u001b[0;31m---------------------------------------------------------------------------\u001b[0m",
      "\u001b[0;31mValueError\u001b[0m                                Traceback (most recent call last)",
      "\u001b[0;32m<ipython-input-44-0cb040191193>\u001b[0m in \u001b[0;36m<module>\u001b[0;34m\u001b[0m\n\u001b[1;32m      2\u001b[0m \u001b[0;34m\u001b[0m\u001b[0m\n\u001b[1;32m      3\u001b[0m \u001b[0mone_hot_dep\u001b[0m \u001b[0;34m=\u001b[0m \u001b[0mpd\u001b[0m\u001b[0;34m.\u001b[0m\u001b[0mget_dummies\u001b[0m\u001b[0;34m(\u001b[0m\u001b[0mloan_table\u001b[0m\u001b[0;34m[\u001b[0m\u001b[0;34m\"Dependents\"\u001b[0m\u001b[0;34m]\u001b[0m\u001b[0;34m,\u001b[0m \u001b[0mprefix\u001b[0m\u001b[0;34m=\u001b[0m\u001b[0;34m\"dep\"\u001b[0m\u001b[0;34m,\u001b[0m \u001b[0mdummy_na\u001b[0m \u001b[0;34m=\u001b[0m \u001b[0;32mTrue\u001b[0m\u001b[0;34m)\u001b[0m\u001b[0;34m\u001b[0m\u001b[0;34m\u001b[0m\u001b[0m\n\u001b[0;32m----> 4\u001b[0;31m \u001b[0mloan_table\u001b[0m \u001b[0;34m=\u001b[0m \u001b[0mloan_table\u001b[0m\u001b[0;34m.\u001b[0m\u001b[0mjoin\u001b[0m\u001b[0;34m(\u001b[0m\u001b[0mone_hot_dep\u001b[0m\u001b[0;34m)\u001b[0m\u001b[0;34m\u001b[0m\u001b[0;34m\u001b[0m\u001b[0m\n\u001b[0m",
      "\u001b[0;32m/Applications/anaconda3/lib/python3.7/site-packages/pandas/core/frame.py\u001b[0m in \u001b[0;36mjoin\u001b[0;34m(self, other, on, how, lsuffix, rsuffix, sort)\u001b[0m\n\u001b[1;32m   6334\u001b[0m         \u001b[0;31m# For SparseDataFrame's benefit\u001b[0m\u001b[0;34m\u001b[0m\u001b[0;34m\u001b[0m\u001b[0;34m\u001b[0m\u001b[0m\n\u001b[1;32m   6335\u001b[0m         return self._join_compat(other, on=on, how=how, lsuffix=lsuffix,\n\u001b[0;32m-> 6336\u001b[0;31m                                  rsuffix=rsuffix, sort=sort)\n\u001b[0m\u001b[1;32m   6337\u001b[0m \u001b[0;34m\u001b[0m\u001b[0m\n\u001b[1;32m   6338\u001b[0m     def _join_compat(self, other, on=None, how='left', lsuffix='', rsuffix='',\n",
      "\u001b[0;32m/Applications/anaconda3/lib/python3.7/site-packages/pandas/core/frame.py\u001b[0m in \u001b[0;36m_join_compat\u001b[0;34m(self, other, on, how, lsuffix, rsuffix, sort)\u001b[0m\n\u001b[1;32m   6349\u001b[0m             return merge(self, other, left_on=on, how=how,\n\u001b[1;32m   6350\u001b[0m                          \u001b[0mleft_index\u001b[0m\u001b[0;34m=\u001b[0m\u001b[0mon\u001b[0m \u001b[0;32mis\u001b[0m \u001b[0;32mNone\u001b[0m\u001b[0;34m,\u001b[0m \u001b[0mright_index\u001b[0m\u001b[0;34m=\u001b[0m\u001b[0;32mTrue\u001b[0m\u001b[0;34m,\u001b[0m\u001b[0;34m\u001b[0m\u001b[0;34m\u001b[0m\u001b[0m\n\u001b[0;32m-> 6351\u001b[0;31m                          suffixes=(lsuffix, rsuffix), sort=sort)\n\u001b[0m\u001b[1;32m   6352\u001b[0m         \u001b[0;32melse\u001b[0m\u001b[0;34m:\u001b[0m\u001b[0;34m\u001b[0m\u001b[0;34m\u001b[0m\u001b[0m\n\u001b[1;32m   6353\u001b[0m             \u001b[0;32mif\u001b[0m \u001b[0mon\u001b[0m \u001b[0;32mis\u001b[0m \u001b[0;32mnot\u001b[0m \u001b[0;32mNone\u001b[0m\u001b[0;34m:\u001b[0m\u001b[0;34m\u001b[0m\u001b[0;34m\u001b[0m\u001b[0m\n",
      "\u001b[0;32m/Applications/anaconda3/lib/python3.7/site-packages/pandas/core/reshape/merge.py\u001b[0m in \u001b[0;36mmerge\u001b[0;34m(left, right, how, on, left_on, right_on, left_index, right_index, sort, suffixes, copy, indicator, validate)\u001b[0m\n\u001b[1;32m     60\u001b[0m                          \u001b[0mcopy\u001b[0m\u001b[0;34m=\u001b[0m\u001b[0mcopy\u001b[0m\u001b[0;34m,\u001b[0m \u001b[0mindicator\u001b[0m\u001b[0;34m=\u001b[0m\u001b[0mindicator\u001b[0m\u001b[0;34m,\u001b[0m\u001b[0;34m\u001b[0m\u001b[0;34m\u001b[0m\u001b[0m\n\u001b[1;32m     61\u001b[0m                          validate=validate)\n\u001b[0;32m---> 62\u001b[0;31m     \u001b[0;32mreturn\u001b[0m \u001b[0mop\u001b[0m\u001b[0;34m.\u001b[0m\u001b[0mget_result\u001b[0m\u001b[0;34m(\u001b[0m\u001b[0;34m)\u001b[0m\u001b[0;34m\u001b[0m\u001b[0;34m\u001b[0m\u001b[0m\n\u001b[0m\u001b[1;32m     63\u001b[0m \u001b[0;34m\u001b[0m\u001b[0m\n\u001b[1;32m     64\u001b[0m \u001b[0;34m\u001b[0m\u001b[0m\n",
      "\u001b[0;32m/Applications/anaconda3/lib/python3.7/site-packages/pandas/core/reshape/merge.py\u001b[0m in \u001b[0;36mget_result\u001b[0;34m(self)\u001b[0m\n\u001b[1;32m    572\u001b[0m \u001b[0;34m\u001b[0m\u001b[0m\n\u001b[1;32m    573\u001b[0m         llabels, rlabels = items_overlap_with_suffix(ldata.items, lsuf,\n\u001b[0;32m--> 574\u001b[0;31m                                                      rdata.items, rsuf)\n\u001b[0m\u001b[1;32m    575\u001b[0m \u001b[0;34m\u001b[0m\u001b[0m\n\u001b[1;32m    576\u001b[0m         \u001b[0mlindexers\u001b[0m \u001b[0;34m=\u001b[0m \u001b[0;34m{\u001b[0m\u001b[0;36m1\u001b[0m\u001b[0;34m:\u001b[0m \u001b[0mleft_indexer\u001b[0m\u001b[0;34m}\u001b[0m \u001b[0;32mif\u001b[0m \u001b[0mleft_indexer\u001b[0m \u001b[0;32mis\u001b[0m \u001b[0;32mnot\u001b[0m \u001b[0;32mNone\u001b[0m \u001b[0;32melse\u001b[0m \u001b[0;34m{\u001b[0m\u001b[0;34m}\u001b[0m\u001b[0;34m\u001b[0m\u001b[0;34m\u001b[0m\u001b[0m\n",
      "\u001b[0;32m/Applications/anaconda3/lib/python3.7/site-packages/pandas/core/internals.py\u001b[0m in \u001b[0;36mitems_overlap_with_suffix\u001b[0;34m(left, lsuffix, right, rsuffix)\u001b[0m\n\u001b[1;32m   5242\u001b[0m         \u001b[0;32mif\u001b[0m \u001b[0;32mnot\u001b[0m \u001b[0mlsuffix\u001b[0m \u001b[0;32mand\u001b[0m \u001b[0;32mnot\u001b[0m \u001b[0mrsuffix\u001b[0m\u001b[0;34m:\u001b[0m\u001b[0;34m\u001b[0m\u001b[0;34m\u001b[0m\u001b[0m\n\u001b[1;32m   5243\u001b[0m             raise ValueError('columns overlap but no suffix specified: '\n\u001b[0;32m-> 5244\u001b[0;31m                              '{rename}'.format(rename=to_rename))\n\u001b[0m\u001b[1;32m   5245\u001b[0m \u001b[0;34m\u001b[0m\u001b[0m\n\u001b[1;32m   5246\u001b[0m         \u001b[0;32mdef\u001b[0m \u001b[0mlrenamer\u001b[0m\u001b[0;34m(\u001b[0m\u001b[0mx\u001b[0m\u001b[0;34m)\u001b[0m\u001b[0;34m:\u001b[0m\u001b[0;34m\u001b[0m\u001b[0;34m\u001b[0m\u001b[0m\n",
      "\u001b[0;31mValueError\u001b[0m: columns overlap but no suffix specified: Index(['dep_0', 'dep_1', 'dep_2', 'dep_3+', 'dep_nan'], dtype='object')"
     ]
    }
   ],
   "source": [
    "#ohe code here\n",
    "\n",
    "one_hot_dep = pd.get_dummies(loan_table[\"Dependents\"], prefix=\"dep\", dummy_na = True)\n",
    "loan_table = loan_table.join(one_hot_dep)"
   ]
  },
  {
   "cell_type": "code",
   "execution_count": 45,
   "metadata": {
    "colab": {
     "base_uri": "https://localhost:8080/",
     "height": 97
    },
    "colab_type": "code",
    "id": "kEYo8s892TvT",
    "outputId": "56cf2e2b-5b19-438a-d079-50a5b358cb9d"
   },
   "outputs": [
    {
     "data": {
      "text/html": [
       "<div>\n",
       "<style scoped>\n",
       "    .dataframe tbody tr th:only-of-type {\n",
       "        vertical-align: middle;\n",
       "    }\n",
       "\n",
       "    .dataframe tbody tr th {\n",
       "        vertical-align: top;\n",
       "    }\n",
       "\n",
       "    .dataframe thead th {\n",
       "        text-align: right;\n",
       "    }\n",
       "</style>\n",
       "<table border=\"1\" class=\"dataframe\">\n",
       "  <thead>\n",
       "    <tr style=\"text-align: right;\">\n",
       "      <th></th>\n",
       "      <th>Gender</th>\n",
       "      <th>Married</th>\n",
       "      <th>Dependents</th>\n",
       "      <th>Education</th>\n",
       "      <th>Self_Employed</th>\n",
       "      <th>ApplicantIncome</th>\n",
       "      <th>CoapplicantIncome</th>\n",
       "      <th>LoanAmount</th>\n",
       "      <th>Loan_Amount_Term</th>\n",
       "      <th>Credit_History</th>\n",
       "      <th>Property_Area</th>\n",
       "      <th>Loan_Status</th>\n",
       "      <th>no_lam</th>\n",
       "      <th>filled_lam</th>\n",
       "      <th>pa_Rural</th>\n",
       "      <th>pa_Semiurban</th>\n",
       "      <th>pa_Urban</th>\n",
       "      <th>pa_nan</th>\n",
       "      <th>lam_bin</th>\n",
       "      <th>lam_Low</th>\n",
       "      <th>lam_Average</th>\n",
       "      <th>lam_High</th>\n",
       "      <th>ch_bad</th>\n",
       "      <th>ch_good</th>\n",
       "      <th>ch_nan</th>\n",
       "      <th>apin_bin</th>\n",
       "      <th>apin_low</th>\n",
       "      <th>apin_average</th>\n",
       "      <th>apin_high</th>\n",
       "      <th>apin_nan</th>\n",
       "      <th>dep_0</th>\n",
       "      <th>dep_1</th>\n",
       "      <th>dep_2</th>\n",
       "      <th>dep_3+</th>\n",
       "      <th>dep_nan</th>\n",
       "    </tr>\n",
       "  </thead>\n",
       "  <tbody>\n",
       "    <tr>\n",
       "      <th>0</th>\n",
       "      <td>Male</td>\n",
       "      <td>No</td>\n",
       "      <td>0</td>\n",
       "      <td>Graduate</td>\n",
       "      <td>No</td>\n",
       "      <td>5849</td>\n",
       "      <td>0.0</td>\n",
       "      <td>NaN</td>\n",
       "      <td>360.0</td>\n",
       "      <td>1.0</td>\n",
       "      <td>Urban</td>\n",
       "      <td>1</td>\n",
       "      <td>1</td>\n",
       "      <td>146.412162</td>\n",
       "      <td>0</td>\n",
       "      <td>0</td>\n",
       "      <td>1</td>\n",
       "      <td>0</td>\n",
       "      <td>Low</td>\n",
       "      <td>1</td>\n",
       "      <td>0</td>\n",
       "      <td>0</td>\n",
       "      <td>0</td>\n",
       "      <td>1</td>\n",
       "      <td>0</td>\n",
       "      <td>low</td>\n",
       "      <td>1</td>\n",
       "      <td>0</td>\n",
       "      <td>0</td>\n",
       "      <td>0</td>\n",
       "      <td>1</td>\n",
       "      <td>0</td>\n",
       "      <td>0</td>\n",
       "      <td>0</td>\n",
       "      <td>0</td>\n",
       "    </tr>\n",
       "  </tbody>\n",
       "</table>\n",
       "</div>"
      ],
      "text/plain": [
       "  Gender Married Dependents Education Self_Employed  ApplicantIncome  \\\n",
       "0   Male      No          0  Graduate            No             5849   \n",
       "\n",
       "   CoapplicantIncome  LoanAmount  Loan_Amount_Term  Credit_History  \\\n",
       "0                0.0         NaN             360.0             1.0   \n",
       "\n",
       "  Property_Area  Loan_Status  no_lam  filled_lam  pa_Rural  pa_Semiurban  \\\n",
       "0         Urban            1       1  146.412162         0             0   \n",
       "\n",
       "   pa_Urban  pa_nan lam_bin  lam_Low  lam_Average  lam_High  ch_bad  ch_good  \\\n",
       "0         1       0     Low        1            0         0       0        1   \n",
       "\n",
       "   ch_nan apin_bin  apin_low  apin_average  apin_high  apin_nan  dep_0  dep_1  \\\n",
       "0       0      low         1             0          0         0      1      0   \n",
       "\n",
       "   dep_2  dep_3+  dep_nan  \n",
       "0      0       0        0  "
      ]
     },
     "execution_count": 45,
     "metadata": {},
     "output_type": "execute_result"
    }
   ],
   "source": [
    "loan_table.head(1)"
   ]
  },
  {
   "cell_type": "markdown",
   "metadata": {
    "colab_type": "text",
    "id": "w7je4s_D2Tvb"
   },
   "source": [
    "<hr>\n",
    "<h1>\n",
    "2: Find the best depth\n",
    "</h1>\n",
    "<p>\n",
    "<div class=h1_cell>\n",
    "<p>\n",
    "Explore depths from 1 to 5. Build a tree for each depth and test it. Plot the results.\n",
    "<p>\n",
    "First, define the columns to use. I do that for you below.\n",
    "</div>"
   ]
  },
  {
   "cell_type": "code",
   "execution_count": 58,
   "metadata": {
    "colab": {},
    "colab_type": "code",
    "id": "adKCxRIv2Tve"
   },
   "outputs": [],
   "source": [
    "column_candidates = [\n",
    "        #Dependents\n",
    "        'dep_0', 'dep_1', 'dep_2', 'dep_3+',\n",
    "        #ApplicantIncome\n",
    "       'apin_low', 'apin_high', 'apin_average',\n",
    "        #Property_Area\n",
    "        'pa_Rural', 'pa_Semiurban','pa_Urban',\n",
    "        #LoanAmount\n",
    "        'lam_Low', 'lam_Average', 'lam_High',\n",
    "        #Credit_History\n",
    "        'ch_bad', 'ch_good']"
   ]
  },
  {
   "cell_type": "code",
   "execution_count": 59,
   "metadata": {
    "colab": {
     "base_uri": "https://localhost:8080/",
     "height": 168
    },
    "colab_type": "code",
    "id": "Z59ByCSt2Tvk",
    "outputId": "6b5e41af-f403-4656-8f76-41fbda1c9cb8"
   },
   "outputs": [
    {
     "name": "stdout",
     "output_type": "stream",
     "text": [
      "2\n"
     ]
    },
    {
     "data": {
      "text/plain": [
       "[{'conjunction': [('ch_bad_1',\n",
       "    <function library_w19_week4.build_pred.<locals>.<lambda>(row)>)],\n",
       "  'prediction': 0,\n",
       "  'gig_score': 0.12559965113188631},\n",
       " {'conjunction': [('ch_bad_0',\n",
       "    <function library_w19_week4.build_pred.<locals>.<lambda>(row)>)],\n",
       "  'prediction': 1,\n",
       "  'gig_score': 0.12559965113188631}]"
      ]
     },
     "execution_count": 59,
     "metadata": {},
     "output_type": "execute_result"
    }
   ],
   "source": [
    "tree1 = build_tree_iter(loan_table, column_candidates, 'Loan_Status', {'max-depth': 1}) # should get 2 paths\n",
    "print(len(tree1['paths']))\n",
    "tree1['paths']"
   ]
  },
  {
   "cell_type": "markdown",
   "metadata": {
    "colab_type": "text",
    "id": "N_S4mM6I2Tvo"
   },
   "source": [
    "<div class=h1_cell>\n",
    "<p>\n",
    "As reminder, a tree with only one splitter node is called a stump. You can see that `ch_bad` is the best splitter with only one node. Thought question: As we build deeper trees below, is it possible for the root node to be something other than `ch_bad`?\n",
    "</div>"
   ]
  },
  {
   "cell_type": "code",
   "execution_count": 60,
   "metadata": {
    "colab": {
     "base_uri": "https://localhost:8080/",
     "height": 437
    },
    "colab_type": "code",
    "id": "w7cv_V162Tvp",
    "outputId": "84831ade-69fc-482d-d1a4-c0d9366e2bb6"
   },
   "outputs": [
    {
     "name": "stdout",
     "output_type": "stream",
     "text": [
      "4\n"
     ]
    },
    {
     "data": {
      "text/plain": [
       "[{'conjunction': [('ch_bad_1',\n",
       "    <function library_w19_week4.build_pred.<locals>.<lambda>(row)>),\n",
       "   ('apin_average_1',\n",
       "    <function library_w19_week4.build_pred.<locals>.<lambda>(row)>)],\n",
       "  'prediction': 1,\n",
       "  'gig_score': 0.019292789018833467},\n",
       " {'conjunction': [('ch_bad_1',\n",
       "    <function library_w19_week4.build_pred.<locals>.<lambda>(row)>),\n",
       "   ('apin_average_0',\n",
       "    <function library_w19_week4.build_pred.<locals>.<lambda>(row)>)],\n",
       "  'prediction': 0,\n",
       "  'gig_score': 0.019292789018833467},\n",
       " {'conjunction': [('ch_bad_0',\n",
       "    <function library_w19_week4.build_pred.<locals>.<lambda>(row)>),\n",
       "   ('pa_Semiurban_1',\n",
       "    <function library_w19_week4.build_pred.<locals>.<lambda>(row)>)],\n",
       "  'prediction': 1,\n",
       "  'gig_score': 0.006462619030620731},\n",
       " {'conjunction': [('ch_bad_0',\n",
       "    <function library_w19_week4.build_pred.<locals>.<lambda>(row)>),\n",
       "   ('pa_Semiurban_0',\n",
       "    <function library_w19_week4.build_pred.<locals>.<lambda>(row)>)],\n",
       "  'prediction': 1,\n",
       "  'gig_score': 0.006462619030620731}]"
      ]
     },
     "execution_count": 60,
     "metadata": {},
     "output_type": "execute_result"
    }
   ],
   "source": [
    "tree2 = build_tree_iter(loan_table, column_candidates, 'Loan_Status', {'max-depth': 2}) # should get 4 paths\n",
    "print(len(tree2['paths']))\n",
    "tree2['paths']"
   ]
  },
  {
   "cell_type": "code",
   "execution_count": 61,
   "metadata": {
    "colab": {
     "base_uri": "https://localhost:8080/",
     "height": 874
    },
    "colab_type": "code",
    "id": "8jIhyyWb2Tvu",
    "outputId": "f1c8c456-848e-4f71-aa06-1cf06062fa46"
   },
   "outputs": [
    {
     "name": "stdout",
     "output_type": "stream",
     "text": [
      "7\n"
     ]
    },
    {
     "data": {
      "text/plain": [
       "[{'conjunction': [('ch_bad_1',\n",
       "    <function library_w19_week4.build_pred.<locals>.<lambda>(row)>),\n",
       "   ('apin_average_1',\n",
       "    <function library_w19_week4.build_pred.<locals>.<lambda>(row)>)],\n",
       "  'prediction': 1,\n",
       "  'gig_score': 0.019292789018833467},\n",
       " {'conjunction': [('ch_bad_1',\n",
       "    <function library_w19_week4.build_pred.<locals>.<lambda>(row)>),\n",
       "   ('apin_average_0',\n",
       "    <function library_w19_week4.build_pred.<locals>.<lambda>(row)>),\n",
       "   ('pa_Urban_1',\n",
       "    <function library_w19_week4.build_pred.<locals>.<lambda>(row)>)],\n",
       "  'prediction': 0,\n",
       "  'gig_score': 0.0014037192421204325},\n",
       " {'conjunction': [('ch_bad_1',\n",
       "    <function library_w19_week4.build_pred.<locals>.<lambda>(row)>),\n",
       "   ('apin_average_0',\n",
       "    <function library_w19_week4.build_pred.<locals>.<lambda>(row)>),\n",
       "   ('pa_Urban_0',\n",
       "    <function library_w19_week4.build_pred.<locals>.<lambda>(row)>)],\n",
       "  'prediction': 0,\n",
       "  'gig_score': 0.0014037192421204325},\n",
       " {'conjunction': [('ch_bad_0',\n",
       "    <function library_w19_week4.build_pred.<locals>.<lambda>(row)>),\n",
       "   ('pa_Semiurban_1',\n",
       "    <function library_w19_week4.build_pred.<locals>.<lambda>(row)>),\n",
       "   ('lam_Average_1',\n",
       "    <function library_w19_week4.build_pred.<locals>.<lambda>(row)>)],\n",
       "  'prediction': 1,\n",
       "  'gig_score': 0.0052148575352743975},\n",
       " {'conjunction': [('ch_bad_0',\n",
       "    <function library_w19_week4.build_pred.<locals>.<lambda>(row)>),\n",
       "   ('pa_Semiurban_1',\n",
       "    <function library_w19_week4.build_pred.<locals>.<lambda>(row)>),\n",
       "   ('lam_Average_0',\n",
       "    <function library_w19_week4.build_pred.<locals>.<lambda>(row)>)],\n",
       "  'prediction': 1,\n",
       "  'gig_score': 0.0052148575352743975},\n",
       " {'conjunction': [('ch_bad_0',\n",
       "    <function library_w19_week4.build_pred.<locals>.<lambda>(row)>),\n",
       "   ('pa_Semiurban_0',\n",
       "    <function library_w19_week4.build_pred.<locals>.<lambda>(row)>),\n",
       "   ('dep_2_1',\n",
       "    <function library_w19_week4.build_pred.<locals>.<lambda>(row)>)],\n",
       "  'prediction': 1,\n",
       "  'gig_score': 0.0021858669417437193},\n",
       " {'conjunction': [('ch_bad_0',\n",
       "    <function library_w19_week4.build_pred.<locals>.<lambda>(row)>),\n",
       "   ('pa_Semiurban_0',\n",
       "    <function library_w19_week4.build_pred.<locals>.<lambda>(row)>),\n",
       "   ('dep_2_0',\n",
       "    <function library_w19_week4.build_pred.<locals>.<lambda>(row)>)],\n",
       "  'prediction': 1,\n",
       "  'gig_score': 0.0021858669417437193}]"
      ]
     },
     "execution_count": 61,
     "metadata": {},
     "output_type": "execute_result"
    }
   ],
   "source": [
    "tree3 = build_tree_iter(loan_table, column_candidates, 'Loan_Status', {'max-depth': 3}) # should get 7 paths\n",
    "print(len(tree3['paths']))\n",
    "tree3['paths']"
   ]
  },
  {
   "cell_type": "code",
   "execution_count": 62,
   "metadata": {
    "colab": {
     "base_uri": "https://localhost:8080/",
     "height": 34
    },
    "colab_type": "code",
    "id": "YbKPxh7r2Tvy",
    "outputId": "227e4583-1b4a-42a6-bf78-54d970602769"
   },
   "outputs": [
    {
     "name": "stdout",
     "output_type": "stream",
     "text": [
      "13\n"
     ]
    },
    {
     "data": {
      "text/plain": [
       "[{'conjunction': [('ch_bad_1',\n",
       "    <function library_w19_week4.build_pred.<locals>.<lambda>(row)>),\n",
       "   ('apin_average_1',\n",
       "    <function library_w19_week4.build_pred.<locals>.<lambda>(row)>)],\n",
       "  'prediction': 1,\n",
       "  'gig_score': 0.019292789018833467},\n",
       " {'conjunction': [('ch_bad_1',\n",
       "    <function library_w19_week4.build_pred.<locals>.<lambda>(row)>),\n",
       "   ('apin_average_0',\n",
       "    <function library_w19_week4.build_pred.<locals>.<lambda>(row)>),\n",
       "   ('pa_Urban_1',\n",
       "    <function library_w19_week4.build_pred.<locals>.<lambda>(row)>),\n",
       "   ('dep_3+_1',\n",
       "    <function library_w19_week4.build_pred.<locals>.<lambda>(row)>)],\n",
       "  'prediction': 0,\n",
       "  'gig_score': 0.01942421089143239},\n",
       " {'conjunction': [('ch_bad_1',\n",
       "    <function library_w19_week4.build_pred.<locals>.<lambda>(row)>),\n",
       "   ('apin_average_0',\n",
       "    <function library_w19_week4.build_pred.<locals>.<lambda>(row)>),\n",
       "   ('pa_Urban_1',\n",
       "    <function library_w19_week4.build_pred.<locals>.<lambda>(row)>),\n",
       "   ('dep_3+_0',\n",
       "    <function library_w19_week4.build_pred.<locals>.<lambda>(row)>)],\n",
       "  'prediction': 0,\n",
       "  'gig_score': 0.01942421089143239},\n",
       " {'conjunction': [('ch_bad_1',\n",
       "    <function library_w19_week4.build_pred.<locals>.<lambda>(row)>),\n",
       "   ('apin_average_0',\n",
       "    <function library_w19_week4.build_pred.<locals>.<lambda>(row)>),\n",
       "   ('pa_Urban_0',\n",
       "    <function library_w19_week4.build_pred.<locals>.<lambda>(row)>),\n",
       "   ('dep_3+_1',\n",
       "    <function library_w19_week4.build_pred.<locals>.<lambda>(row)>)],\n",
       "  'prediction': 0,\n",
       "  'gig_score': 0.0021545090797169264},\n",
       " {'conjunction': [('ch_bad_1',\n",
       "    <function library_w19_week4.build_pred.<locals>.<lambda>(row)>),\n",
       "   ('apin_average_0',\n",
       "    <function library_w19_week4.build_pred.<locals>.<lambda>(row)>),\n",
       "   ('pa_Urban_0',\n",
       "    <function library_w19_week4.build_pred.<locals>.<lambda>(row)>),\n",
       "   ('dep_3+_0',\n",
       "    <function library_w19_week4.build_pred.<locals>.<lambda>(row)>)],\n",
       "  'prediction': 0,\n",
       "  'gig_score': 0.0021545090797169264},\n",
       " {'conjunction': [('ch_bad_0',\n",
       "    <function library_w19_week4.build_pred.<locals>.<lambda>(row)>),\n",
       "   ('pa_Semiurban_1',\n",
       "    <function library_w19_week4.build_pred.<locals>.<lambda>(row)>),\n",
       "   ('lam_Average_1',\n",
       "    <function library_w19_week4.build_pred.<locals>.<lambda>(row)>),\n",
       "   ('apin_low_1',\n",
       "    <function library_w19_week4.build_pred.<locals>.<lambda>(row)>)],\n",
       "  'prediction': 1,\n",
       "  'gig_score': 0.06302083333333325},\n",
       " {'conjunction': [('ch_bad_0',\n",
       "    <function library_w19_week4.build_pred.<locals>.<lambda>(row)>),\n",
       "   ('pa_Semiurban_1',\n",
       "    <function library_w19_week4.build_pred.<locals>.<lambda>(row)>),\n",
       "   ('lam_Average_1',\n",
       "    <function library_w19_week4.build_pred.<locals>.<lambda>(row)>),\n",
       "   ('apin_low_0',\n",
       "    <function library_w19_week4.build_pred.<locals>.<lambda>(row)>)],\n",
       "  'prediction': 0,\n",
       "  'gig_score': 0.06302083333333325},\n",
       " {'conjunction': [('ch_bad_0',\n",
       "    <function library_w19_week4.build_pred.<locals>.<lambda>(row)>),\n",
       "   ('pa_Semiurban_1',\n",
       "    <function library_w19_week4.build_pred.<locals>.<lambda>(row)>),\n",
       "   ('lam_Average_0',\n",
       "    <function library_w19_week4.build_pred.<locals>.<lambda>(row)>),\n",
       "   ('ch_good_1',\n",
       "    <function library_w19_week4.build_pred.<locals>.<lambda>(row)>)],\n",
       "  'prediction': 1,\n",
       "  'gig_score': 0.004285404703975482},\n",
       " {'conjunction': [('ch_bad_0',\n",
       "    <function library_w19_week4.build_pred.<locals>.<lambda>(row)>),\n",
       "   ('pa_Semiurban_1',\n",
       "    <function library_w19_week4.build_pred.<locals>.<lambda>(row)>),\n",
       "   ('lam_Average_0',\n",
       "    <function library_w19_week4.build_pred.<locals>.<lambda>(row)>),\n",
       "   ('ch_good_0',\n",
       "    <function library_w19_week4.build_pred.<locals>.<lambda>(row)>)],\n",
       "  'prediction': 1,\n",
       "  'gig_score': 0.004285404703975482},\n",
       " {'conjunction': [('ch_bad_0',\n",
       "    <function library_w19_week4.build_pred.<locals>.<lambda>(row)>),\n",
       "   ('pa_Semiurban_0',\n",
       "    <function library_w19_week4.build_pred.<locals>.<lambda>(row)>),\n",
       "   ('dep_2_1', <function library_w19_week4.build_pred.<locals>.<lambda>(row)>),\n",
       "   ('lam_Low_1',\n",
       "    <function library_w19_week4.build_pred.<locals>.<lambda>(row)>)],\n",
       "  'prediction': 1,\n",
       "  'gig_score': 0.00809580030359236},\n",
       " {'conjunction': [('ch_bad_0',\n",
       "    <function library_w19_week4.build_pred.<locals>.<lambda>(row)>),\n",
       "   ('pa_Semiurban_0',\n",
       "    <function library_w19_week4.build_pred.<locals>.<lambda>(row)>),\n",
       "   ('dep_2_1', <function library_w19_week4.build_pred.<locals>.<lambda>(row)>),\n",
       "   ('lam_Low_0',\n",
       "    <function library_w19_week4.build_pred.<locals>.<lambda>(row)>)],\n",
       "  'prediction': 1,\n",
       "  'gig_score': 0.00809580030359236},\n",
       " {'conjunction': [('ch_bad_0',\n",
       "    <function library_w19_week4.build_pred.<locals>.<lambda>(row)>),\n",
       "   ('pa_Semiurban_0',\n",
       "    <function library_w19_week4.build_pred.<locals>.<lambda>(row)>),\n",
       "   ('dep_2_0', <function library_w19_week4.build_pred.<locals>.<lambda>(row)>),\n",
       "   ('lam_Low_1',\n",
       "    <function library_w19_week4.build_pred.<locals>.<lambda>(row)>)],\n",
       "  'prediction': 1,\n",
       "  'gig_score': 0.004269047273928739},\n",
       " {'conjunction': [('ch_bad_0',\n",
       "    <function library_w19_week4.build_pred.<locals>.<lambda>(row)>),\n",
       "   ('pa_Semiurban_0',\n",
       "    <function library_w19_week4.build_pred.<locals>.<lambda>(row)>),\n",
       "   ('dep_2_0', <function library_w19_week4.build_pred.<locals>.<lambda>(row)>),\n",
       "   ('lam_Low_0',\n",
       "    <function library_w19_week4.build_pred.<locals>.<lambda>(row)>)],\n",
       "  'prediction': 1,\n",
       "  'gig_score': 0.004269047273928739}]"
      ]
     },
     "execution_count": 62,
     "metadata": {},
     "output_type": "execute_result"
    }
   ],
   "source": [
    "tree4 = build_tree_iter(loan_table, column_candidates, 'Loan_Status', {'max-depth': 4}) # should get 13 paths\n",
    "print(len(tree4['paths']))\n",
    "tree4['paths']"
   ]
  },
  {
   "cell_type": "code",
   "execution_count": 63,
   "metadata": {
    "colab": {
     "base_uri": "https://localhost:8080/",
     "height": 34
    },
    "colab_type": "code",
    "id": "kWbdEnEn2Tv4",
    "outputId": "b4eb2a1a-c0e2-49e6-acf2-8d9c944bf969"
   },
   "outputs": [
    {
     "name": "stdout",
     "output_type": "stream",
     "text": [
      "20\n"
     ]
    }
   ],
   "source": [
    "tree5 = build_tree_iter(loan_table, column_candidates, 'Loan_Status', {'max-depth': 5}) # should get 20 paths\n",
    "print(len(tree5['paths']))\n",
    "#tree5['paths']"
   ]
  },
  {
   "cell_type": "markdown",
   "metadata": {
    "colab_type": "text",
    "id": "xeYnFsNu2Tv7"
   },
   "source": [
    "<div class=h1_cell>\n",
    "  <h1>You have your 5 trees</h1>\n",
    "<p>\n",
    "Add them to your results table.\n",
    "</div>"
   ]
  },
  {
   "cell_type": "code",
   "execution_count": 77,
   "metadata": {
    "colab": {
     "base_uri": "https://localhost:8080/",
     "height": 77
    },
    "colab_type": "code",
    "id": "VLY_eAw52Tv9",
    "outputId": "80b72a7f-bd55-45bb-acf1-cbd82720c292"
   },
   "outputs": [
    {
     "data": {
      "text/html": [
       "<div>\n",
       "<style scoped>\n",
       "    .dataframe tbody tr th:only-of-type {\n",
       "        vertical-align: middle;\n",
       "    }\n",
       "\n",
       "    .dataframe tbody tr th {\n",
       "        vertical-align: top;\n",
       "    }\n",
       "\n",
       "    .dataframe thead th {\n",
       "        text-align: right;\n",
       "    }\n",
       "</style>\n",
       "<table border=\"1\" class=\"dataframe\">\n",
       "  <thead>\n",
       "    <tr style=\"text-align: right;\">\n",
       "      <th></th>\n",
       "      <th>Loan_Status</th>\n",
       "      <th>pred_1</th>\n",
       "      <th>pred_1_type</th>\n",
       "      <th>pred_2</th>\n",
       "      <th>pred_2_type</th>\n",
       "      <th>tree_1</th>\n",
       "      <th>tree_1_type</th>\n",
       "    </tr>\n",
       "  </thead>\n",
       "  <tbody>\n",
       "    <tr>\n",
       "      <th>0</th>\n",
       "      <td>1</td>\n",
       "      <td>1</td>\n",
       "      <td>true_positive</td>\n",
       "      <td>1</td>\n",
       "      <td>true_positive</td>\n",
       "      <td>1</td>\n",
       "      <td>true_positive</td>\n",
       "    </tr>\n",
       "  </tbody>\n",
       "</table>\n",
       "</div>"
      ],
      "text/plain": [
       "   Loan_Status  pred_1    pred_1_type  pred_2    pred_2_type  tree_1  \\\n",
       "0            1       1  true_positive       1  true_positive       1   \n",
       "\n",
       "     tree_1_type  \n",
       "0  true_positive  "
      ]
     },
     "execution_count": 77,
     "metadata": {},
     "output_type": "execute_result"
    }
   ],
   "source": [
    "loan_results['tree_1'] = loan_table.apply(lambda row: tree_predictor(row, tree1), axis=1)\n",
    "loan_results['tree_1_type'] = loan_results.apply(lambda row: predictor_case(row, pred=\"tree_1\", target=\"Loan_Status\"), axis=1)\n",
    "loan_results.head(1)"
   ]
  },
  {
   "cell_type": "code",
   "execution_count": 82,
   "metadata": {
    "colab": {
     "base_uri": "https://localhost:8080/",
     "height": 77
    },
    "colab_type": "code",
    "id": "-Zwqkovw2TwC",
    "outputId": "74014efd-9a15-417c-a84c-06fc64f082db"
   },
   "outputs": [
    {
     "data": {
      "text/html": [
       "<div>\n",
       "<style scoped>\n",
       "    .dataframe tbody tr th:only-of-type {\n",
       "        vertical-align: middle;\n",
       "    }\n",
       "\n",
       "    .dataframe tbody tr th {\n",
       "        vertical-align: top;\n",
       "    }\n",
       "\n",
       "    .dataframe thead th {\n",
       "        text-align: right;\n",
       "    }\n",
       "</style>\n",
       "<table border=\"1\" class=\"dataframe\">\n",
       "  <thead>\n",
       "    <tr style=\"text-align: right;\">\n",
       "      <th></th>\n",
       "      <th>Loan_Status</th>\n",
       "      <th>pred_1</th>\n",
       "      <th>pred_1_type</th>\n",
       "      <th>pred_2</th>\n",
       "      <th>pred_2_type</th>\n",
       "      <th>tree_1</th>\n",
       "      <th>tree_1_type</th>\n",
       "      <th>tree_3</th>\n",
       "      <th>tree_3_type</th>\n",
       "      <th>tree_4</th>\n",
       "      <th>tree_4_type</th>\n",
       "      <th>tree_5</th>\n",
       "      <th>tree_5_type</th>\n",
       "      <th>tree_2</th>\n",
       "      <th>tree_2_type</th>\n",
       "    </tr>\n",
       "  </thead>\n",
       "  <tbody>\n",
       "    <tr>\n",
       "      <th>0</th>\n",
       "      <td>1</td>\n",
       "      <td>1</td>\n",
       "      <td>true_positive</td>\n",
       "      <td>1</td>\n",
       "      <td>true_positive</td>\n",
       "      <td>1</td>\n",
       "      <td>true_positive</td>\n",
       "      <td>1</td>\n",
       "      <td>true_positive</td>\n",
       "      <td>1</td>\n",
       "      <td>true_positive</td>\n",
       "      <td>1</td>\n",
       "      <td>true_positive</td>\n",
       "      <td>1</td>\n",
       "      <td>true_positive</td>\n",
       "    </tr>\n",
       "  </tbody>\n",
       "</table>\n",
       "</div>"
      ],
      "text/plain": [
       "   Loan_Status  pred_1    pred_1_type  pred_2    pred_2_type  tree_1  \\\n",
       "0            1       1  true_positive       1  true_positive       1   \n",
       "\n",
       "     tree_1_type  tree_3    tree_3_type  tree_4    tree_4_type  tree_5  \\\n",
       "0  true_positive       1  true_positive       1  true_positive       1   \n",
       "\n",
       "     tree_5_type  tree_2    tree_2_type  \n",
       "0  true_positive       1  true_positive  "
      ]
     },
     "execution_count": 82,
     "metadata": {},
     "output_type": "execute_result"
    }
   ],
   "source": [
    "loan_results['tree_2'] = loan_table.apply(lambda row: tree_predictor(row, tree2), axis=1)\n",
    "loan_results['tree_2_type'] = loan_results.apply(lambda row: predictor_case(row, pred=\"tree_2\", target=\"Loan_Status\"), axis=1)\n",
    "loan_results.head(1)"
   ]
  },
  {
   "cell_type": "code",
   "execution_count": 83,
   "metadata": {
    "colab": {
     "base_uri": "https://localhost:8080/",
     "height": 77
    },
    "colab_type": "code",
    "id": "yY74Vkkq2TwG",
    "outputId": "5fec0bac-7c5a-424a-c16d-6bfd718ffb57"
   },
   "outputs": [
    {
     "data": {
      "text/html": [
       "<div>\n",
       "<style scoped>\n",
       "    .dataframe tbody tr th:only-of-type {\n",
       "        vertical-align: middle;\n",
       "    }\n",
       "\n",
       "    .dataframe tbody tr th {\n",
       "        vertical-align: top;\n",
       "    }\n",
       "\n",
       "    .dataframe thead th {\n",
       "        text-align: right;\n",
       "    }\n",
       "</style>\n",
       "<table border=\"1\" class=\"dataframe\">\n",
       "  <thead>\n",
       "    <tr style=\"text-align: right;\">\n",
       "      <th></th>\n",
       "      <th>Loan_Status</th>\n",
       "      <th>pred_1</th>\n",
       "      <th>pred_1_type</th>\n",
       "      <th>pred_2</th>\n",
       "      <th>pred_2_type</th>\n",
       "      <th>tree_1</th>\n",
       "      <th>tree_1_type</th>\n",
       "      <th>tree_3</th>\n",
       "      <th>tree_3_type</th>\n",
       "      <th>tree_4</th>\n",
       "      <th>tree_4_type</th>\n",
       "      <th>tree_5</th>\n",
       "      <th>tree_5_type</th>\n",
       "      <th>tree_2</th>\n",
       "      <th>tree_2_type</th>\n",
       "    </tr>\n",
       "  </thead>\n",
       "  <tbody>\n",
       "    <tr>\n",
       "      <th>0</th>\n",
       "      <td>1</td>\n",
       "      <td>1</td>\n",
       "      <td>true_positive</td>\n",
       "      <td>1</td>\n",
       "      <td>true_positive</td>\n",
       "      <td>1</td>\n",
       "      <td>true_positive</td>\n",
       "      <td>1</td>\n",
       "      <td>true_positive</td>\n",
       "      <td>1</td>\n",
       "      <td>true_positive</td>\n",
       "      <td>1</td>\n",
       "      <td>true_positive</td>\n",
       "      <td>1</td>\n",
       "      <td>true_positive</td>\n",
       "    </tr>\n",
       "  </tbody>\n",
       "</table>\n",
       "</div>"
      ],
      "text/plain": [
       "   Loan_Status  pred_1    pred_1_type  pred_2    pred_2_type  tree_1  \\\n",
       "0            1       1  true_positive       1  true_positive       1   \n",
       "\n",
       "     tree_1_type  tree_3    tree_3_type  tree_4    tree_4_type  tree_5  \\\n",
       "0  true_positive       1  true_positive       1  true_positive       1   \n",
       "\n",
       "     tree_5_type  tree_2    tree_2_type  \n",
       "0  true_positive       1  true_positive  "
      ]
     },
     "execution_count": 83,
     "metadata": {},
     "output_type": "execute_result"
    }
   ],
   "source": [
    "loan_results['tree_3'] = loan_table.apply(lambda row: tree_predictor(row, tree3), axis=1)\n",
    "loan_results['tree_3_type'] = loan_results.apply(lambda row: predictor_case(row, pred=\"tree_3\", target=\"Loan_Status\"), axis=1)\n",
    "loan_results.head(1)"
   ]
  },
  {
   "cell_type": "code",
   "execution_count": 84,
   "metadata": {
    "colab": {
     "base_uri": "https://localhost:8080/",
     "height": 77
    },
    "colab_type": "code",
    "id": "l9Xa9tRD2TwK",
    "outputId": "c0759724-f7b7-464b-a419-305f0527586c"
   },
   "outputs": [
    {
     "data": {
      "text/html": [
       "<div>\n",
       "<style scoped>\n",
       "    .dataframe tbody tr th:only-of-type {\n",
       "        vertical-align: middle;\n",
       "    }\n",
       "\n",
       "    .dataframe tbody tr th {\n",
       "        vertical-align: top;\n",
       "    }\n",
       "\n",
       "    .dataframe thead th {\n",
       "        text-align: right;\n",
       "    }\n",
       "</style>\n",
       "<table border=\"1\" class=\"dataframe\">\n",
       "  <thead>\n",
       "    <tr style=\"text-align: right;\">\n",
       "      <th></th>\n",
       "      <th>Loan_Status</th>\n",
       "      <th>pred_1</th>\n",
       "      <th>pred_1_type</th>\n",
       "      <th>pred_2</th>\n",
       "      <th>pred_2_type</th>\n",
       "      <th>tree_1</th>\n",
       "      <th>tree_1_type</th>\n",
       "      <th>tree_3</th>\n",
       "      <th>tree_3_type</th>\n",
       "      <th>tree_4</th>\n",
       "      <th>tree_4_type</th>\n",
       "      <th>tree_5</th>\n",
       "      <th>tree_5_type</th>\n",
       "      <th>tree_2</th>\n",
       "      <th>tree_2_type</th>\n",
       "    </tr>\n",
       "  </thead>\n",
       "  <tbody>\n",
       "    <tr>\n",
       "      <th>0</th>\n",
       "      <td>1</td>\n",
       "      <td>1</td>\n",
       "      <td>true_positive</td>\n",
       "      <td>1</td>\n",
       "      <td>true_positive</td>\n",
       "      <td>1</td>\n",
       "      <td>true_positive</td>\n",
       "      <td>1</td>\n",
       "      <td>true_positive</td>\n",
       "      <td>1</td>\n",
       "      <td>true_positive</td>\n",
       "      <td>1</td>\n",
       "      <td>true_positive</td>\n",
       "      <td>1</td>\n",
       "      <td>true_positive</td>\n",
       "    </tr>\n",
       "  </tbody>\n",
       "</table>\n",
       "</div>"
      ],
      "text/plain": [
       "   Loan_Status  pred_1    pred_1_type  pred_2    pred_2_type  tree_1  \\\n",
       "0            1       1  true_positive       1  true_positive       1   \n",
       "\n",
       "     tree_1_type  tree_3    tree_3_type  tree_4    tree_4_type  tree_5  \\\n",
       "0  true_positive       1  true_positive       1  true_positive       1   \n",
       "\n",
       "     tree_5_type  tree_2    tree_2_type  \n",
       "0  true_positive       1  true_positive  "
      ]
     },
     "execution_count": 84,
     "metadata": {},
     "output_type": "execute_result"
    }
   ],
   "source": [
    "loan_results['tree_4'] = loan_table.apply(lambda row: tree_predictor(row, tree4), axis=1)\n",
    "loan_results['tree_4_type'] = loan_results.apply(lambda row: predictor_case(row, pred=\"tree_4\", target=\"Loan_Status\"), axis=1)\n",
    "loan_results.head(1)"
   ]
  },
  {
   "cell_type": "code",
   "execution_count": 85,
   "metadata": {
    "colab": {
     "base_uri": "https://localhost:8080/",
     "height": 77
    },
    "colab_type": "code",
    "id": "CiUbsy8t2TwO",
    "outputId": "57a0e4fc-86c4-44c7-d49d-15946beb1b36"
   },
   "outputs": [
    {
     "data": {
      "text/html": [
       "<div>\n",
       "<style scoped>\n",
       "    .dataframe tbody tr th:only-of-type {\n",
       "        vertical-align: middle;\n",
       "    }\n",
       "\n",
       "    .dataframe tbody tr th {\n",
       "        vertical-align: top;\n",
       "    }\n",
       "\n",
       "    .dataframe thead th {\n",
       "        text-align: right;\n",
       "    }\n",
       "</style>\n",
       "<table border=\"1\" class=\"dataframe\">\n",
       "  <thead>\n",
       "    <tr style=\"text-align: right;\">\n",
       "      <th></th>\n",
       "      <th>Loan_Status</th>\n",
       "      <th>pred_1</th>\n",
       "      <th>pred_1_type</th>\n",
       "      <th>pred_2</th>\n",
       "      <th>pred_2_type</th>\n",
       "      <th>tree_1</th>\n",
       "      <th>tree_1_type</th>\n",
       "      <th>tree_3</th>\n",
       "      <th>tree_3_type</th>\n",
       "      <th>tree_4</th>\n",
       "      <th>tree_4_type</th>\n",
       "      <th>tree_5</th>\n",
       "      <th>tree_5_type</th>\n",
       "      <th>tree_2</th>\n",
       "      <th>tree_2_type</th>\n",
       "    </tr>\n",
       "  </thead>\n",
       "  <tbody>\n",
       "    <tr>\n",
       "      <th>0</th>\n",
       "      <td>1</td>\n",
       "      <td>1</td>\n",
       "      <td>true_positive</td>\n",
       "      <td>1</td>\n",
       "      <td>true_positive</td>\n",
       "      <td>1</td>\n",
       "      <td>true_positive</td>\n",
       "      <td>1</td>\n",
       "      <td>true_positive</td>\n",
       "      <td>1</td>\n",
       "      <td>true_positive</td>\n",
       "      <td>1</td>\n",
       "      <td>true_positive</td>\n",
       "      <td>1</td>\n",
       "      <td>true_positive</td>\n",
       "    </tr>\n",
       "  </tbody>\n",
       "</table>\n",
       "</div>"
      ],
      "text/plain": [
       "   Loan_Status  pred_1    pred_1_type  pred_2    pred_2_type  tree_1  \\\n",
       "0            1       1  true_positive       1  true_positive       1   \n",
       "\n",
       "     tree_1_type  tree_3    tree_3_type  tree_4    tree_4_type  tree_5  \\\n",
       "0  true_positive       1  true_positive       1  true_positive       1   \n",
       "\n",
       "     tree_5_type  tree_2    tree_2_type  \n",
       "0  true_positive       1  true_positive  "
      ]
     },
     "execution_count": 85,
     "metadata": {},
     "output_type": "execute_result"
    }
   ],
   "source": [
    "loan_results['tree_5'] = loan_table.apply(lambda row: tree_predictor(row, tree5), axis=1)\n",
    "loan_results['tree_5_type'] = loan_results.apply(lambda row: predictor_case(row, pred=\"tree_5\", target=\"Loan_Status\"), axis=1)\n",
    "loan_results.head(1)"
   ]
  },
  {
   "cell_type": "markdown",
   "metadata": {
    "colab_type": "text",
    "id": "iF3d8mIvkxzZ"
   },
   "source": [
    "Get the value counts on each tree."
   ]
  },
  {
   "cell_type": "code",
   "execution_count": 86,
   "metadata": {
    "colab": {},
    "colab_type": "code",
    "id": "A6NU_F1X2TwS"
   },
   "outputs": [],
   "source": [
    "tree_1_types = loan_results['tree_1_type'].value_counts()\n",
    "tree_2_types = loan_results['tree_2_type'].value_counts()\n",
    "tree_3_types = loan_results['tree_3_type'].value_counts()\n",
    "tree_4_types = loan_results['tree_4_type'].value_counts()\n",
    "tree_5_types = loan_results['tree_5_type'].value_counts()"
   ]
  },
  {
   "cell_type": "markdown",
   "metadata": {
    "colab_type": "text",
    "id": "XjohqjUXkrvm"
   },
   "source": [
    "ok, ready to check out our measures."
   ]
  },
  {
   "cell_type": "code",
   "execution_count": 87,
   "metadata": {
    "colab": {
     "base_uri": "https://localhost:8080/",
     "height": 34
    },
    "colab_type": "code",
    "id": "gRDeEg032TwZ",
    "outputId": "b1fb7ab2-2e02-4c2a-fe2c-04e45d456985",
    "scrolled": true
   },
   "outputs": [
    {
     "name": "stdout",
     "output_type": "stream",
     "text": [
      "(0.8094462540716613, 0.8764519535374868, 0.4104956556082149)\n"
     ]
    }
   ],
   "source": [
    "print((accuracy(tree_1_types), f1(tree_1_types), informedness(tree_1_types)))"
   ]
  },
  {
   "cell_type": "code",
   "execution_count": 88,
   "metadata": {
    "colab": {
     "base_uri": "https://localhost:8080/",
     "height": 34
    },
    "colab_type": "code",
    "id": "dimYyqDN2Twe",
    "outputId": "a2b5ee2b-019e-4a33-8181-7f5c9c6b2104"
   },
   "outputs": [
    {
     "name": "stdout",
     "output_type": "stream",
     "text": [
      "(0.8110749185667753, 0.8776371308016878, 0.41286532385466024)\n"
     ]
    }
   ],
   "source": [
    "print((accuracy(tree_2_types), f1(tree_2_types), informedness(tree_2_types)))"
   ]
  },
  {
   "cell_type": "code",
   "execution_count": 89,
   "metadata": {
    "colab": {
     "base_uri": "https://localhost:8080/",
     "height": 34
    },
    "colab_type": "code",
    "id": "dqa69nZJ2Twi",
    "outputId": "f106fb39-24bb-4a39-e650-4fb5d0ae60b7"
   },
   "outputs": [
    {
     "name": "stdout",
     "output_type": "stream",
     "text": [
      "(0.8110749185667753, 0.8776371308016878, 0.41286532385466024)\n"
     ]
    }
   ],
   "source": [
    "print((accuracy(tree_3_types), f1(tree_3_types), informedness(tree_3_types)))"
   ]
  },
  {
   "cell_type": "code",
   "execution_count": 90,
   "metadata": {
    "colab": {
     "base_uri": "https://localhost:8080/",
     "height": 34
    },
    "colab_type": "code",
    "id": "BMi_jWrB2Twm",
    "outputId": "0dec0ac2-8fb2-4bf4-cca4-caff70f8e73f"
   },
   "outputs": [
    {
     "name": "stdout",
     "output_type": "stream",
     "text": [
      "(0.8127035830618893, 0.8785638859556495, 0.4180736571879937)\n"
     ]
    }
   ],
   "source": [
    "print((accuracy(tree_4_types), f1(tree_4_types), informedness(tree_4_types)))"
   ]
  },
  {
   "cell_type": "code",
   "execution_count": 91,
   "metadata": {
    "colab": {
     "base_uri": "https://localhost:8080/",
     "height": 34
    },
    "colab_type": "code",
    "id": "IkmLIVhd2Twp",
    "outputId": "ca2a9643-e1bb-4b3a-946a-0a7bc70901ba"
   },
   "outputs": [
    {
     "name": "stdout",
     "output_type": "stream",
     "text": [
      "(0.8192182410423453, 0.8802588996763754, 0.46161631121642976)\n"
     ]
    }
   ],
   "source": [
    "print((accuracy(tree_5_types), f1(tree_5_types), informedness(tree_5_types)))"
   ]
  },
  {
   "cell_type": "markdown",
   "metadata": {
    "colab_type": "text",
    "id": "oaeHxhZZ2Twy"
   },
   "source": [
    "<div class=h1_cell>\n",
    "<p>\n",
    "Should we stop at 5? It looks like our measures are continuing to go up. I'll let you stop here but in practice it would be good to find where depth is optimal.\n",
    "  <p>\n",
    "Let's try at least one change to the gig cutoff. Use `0.01` and level 5.\n",
    "</div>"
   ]
  },
  {
   "cell_type": "code",
   "execution_count": 126,
   "metadata": {
    "colab": {
     "base_uri": "https://localhost:8080/",
     "height": 34
    },
    "colab_type": "code",
    "id": "6sUQDSrLY6S-",
    "outputId": "4ba20b58-a514-48b2-bc97-30be94515f17"
   },
   "outputs": [
    {
     "name": "stdout",
     "output_type": "stream",
     "text": [
      "3\n"
     ]
    }
   ],
   "source": [
    "tree6 = build_tree_iter(loan_table, column_candidates, 'Loan_Status', {'max-depth':5, 'gig-cutoff': .01})\n",
    "tree6['paths']\n",
    "print(len(tree6['paths']))"
   ]
  },
  {
   "cell_type": "markdown",
   "metadata": {
    "colab_type": "text",
    "id": "-1cpk1ECZto2"
   },
   "source": [
    "Wow. We went from 20 paths to 3 by using gig-cutoff. See how tree6 does."
   ]
  },
  {
   "cell_type": "code",
   "execution_count": 97,
   "metadata": {
    "colab": {
     "base_uri": "https://localhost:8080/",
     "height": 77
    },
    "colab_type": "code",
    "id": "9ruuZ7vNZ0nn",
    "outputId": "cfa2d77e-b722-4b41-d454-21a62c89e66e"
   },
   "outputs": [
    {
     "data": {
      "text/html": [
       "<div>\n",
       "<style scoped>\n",
       "    .dataframe tbody tr th:only-of-type {\n",
       "        vertical-align: middle;\n",
       "    }\n",
       "\n",
       "    .dataframe tbody tr th {\n",
       "        vertical-align: top;\n",
       "    }\n",
       "\n",
       "    .dataframe thead th {\n",
       "        text-align: right;\n",
       "    }\n",
       "</style>\n",
       "<table border=\"1\" class=\"dataframe\">\n",
       "  <thead>\n",
       "    <tr style=\"text-align: right;\">\n",
       "      <th></th>\n",
       "      <th>Loan_Status</th>\n",
       "      <th>pred_1</th>\n",
       "      <th>pred_1_type</th>\n",
       "      <th>pred_2</th>\n",
       "      <th>pred_2_type</th>\n",
       "      <th>tree_1</th>\n",
       "      <th>tree_1_type</th>\n",
       "      <th>tree_3</th>\n",
       "      <th>tree_3_type</th>\n",
       "      <th>tree_4</th>\n",
       "      <th>tree_4_type</th>\n",
       "      <th>tree_5</th>\n",
       "      <th>tree_5_type</th>\n",
       "      <th>tree_2</th>\n",
       "      <th>tree_2_type</th>\n",
       "      <th>tree_6</th>\n",
       "      <th>tree_6_type</th>\n",
       "    </tr>\n",
       "  </thead>\n",
       "  <tbody>\n",
       "    <tr>\n",
       "      <th>0</th>\n",
       "      <td>1</td>\n",
       "      <td>1</td>\n",
       "      <td>true_positive</td>\n",
       "      <td>1</td>\n",
       "      <td>true_positive</td>\n",
       "      <td>1</td>\n",
       "      <td>true_positive</td>\n",
       "      <td>1</td>\n",
       "      <td>true_positive</td>\n",
       "      <td>1</td>\n",
       "      <td>true_positive</td>\n",
       "      <td>1</td>\n",
       "      <td>true_positive</td>\n",
       "      <td>1</td>\n",
       "      <td>true_positive</td>\n",
       "      <td>1</td>\n",
       "      <td>true_positive</td>\n",
       "    </tr>\n",
       "  </tbody>\n",
       "</table>\n",
       "</div>"
      ],
      "text/plain": [
       "   Loan_Status  pred_1    pred_1_type  pred_2    pred_2_type  tree_1  \\\n",
       "0            1       1  true_positive       1  true_positive       1   \n",
       "\n",
       "     tree_1_type  tree_3    tree_3_type  tree_4    tree_4_type  tree_5  \\\n",
       "0  true_positive       1  true_positive       1  true_positive       1   \n",
       "\n",
       "     tree_5_type  tree_2    tree_2_type  tree_6    tree_6_type  \n",
       "0  true_positive       1  true_positive       1  true_positive  "
      ]
     },
     "execution_count": 97,
     "metadata": {},
     "output_type": "execute_result"
    }
   ],
   "source": [
    "loan_results['tree_6'] = loan_table.apply(lambda row: tree_predictor(row, tree6), axis=1)\n",
    "loan_results['tree_6_type'] = loan_results.apply(lambda row: predictor_case(row, pred=\"tree_6\", target=\"Loan_Status\"), axis=1)\n",
    "loan_results.head(1)"
   ]
  },
  {
   "cell_type": "code",
   "execution_count": 98,
   "metadata": {
    "colab": {
     "base_uri": "https://localhost:8080/",
     "height": 34
    },
    "colab_type": "code",
    "id": "LC8KtbZcaBZt",
    "outputId": "f9496294-0e6a-40de-9ec6-723a6deba413"
   },
   "outputs": [
    {
     "name": "stdout",
     "output_type": "stream",
     "text": [
      "(0.8110749185667753, 0.8776371308016878, 0.41286532385466024)\n"
     ]
    }
   ],
   "source": [
    "tree_6_types = loan_results['tree_6_type'].value_counts()\n",
    "print((accuracy(tree_6_types), f1(tree_6_types), informedness(tree_6_types)))\n"
   ]
  },
  {
   "cell_type": "markdown",
   "metadata": {
    "colab_type": "text",
    "id": "mfctNHKOagYs"
   },
   "source": [
    "Same as tree3 but with 4 fewer paths: 3 instead of 7."
   ]
  },
  {
   "cell_type": "markdown",
   "metadata": {
    "colab_type": "text",
    "id": "6mAOfwOo2Twz"
   },
   "source": [
    "<hr>\n",
    "<h1>\n",
    "3: Order the paths in a tree according to most used\n",
    "</h1>\n",
    "<p>\n",
    "<div class=h1_cell>\n",
    "<p>\n",
    "One of the cool things about building our own code for doing predictions with decision trees is that we can explore various options directly. Let's do that now. Look at this code in `tree_predictor`:\n",
    "<p>\n",
    "```\n",
    "for path in tree['paths']:\n",
    "```\n",
    "<p>\n",
    "It is doing a sequential and ordered enumeration of the paths in a tree. We can gain some efficiency by ordering the paths, right? If we can determine which paths are most likely to succeed, we can try those paths first. In practice, this means reordeing the list of dictionaries in tree['paths'] so most used path is first, and least used path is last. I'd like you to write some code that will reorder `tree['paths']` on this basis of most used.\n",
    "<p>\n",
    "I'll break it up into pieces. First, define a function `path_id` that accepts a row and a tree and returns the index of the path that succeeded. So if the first path in tree['paths'] succeeded, you would return its index 0.\n",
    "</div>"
   ]
  },
  {
   "cell_type": "code",
   "execution_count": 106,
   "metadata": {
    "colab": {},
    "colab_type": "code",
    "id": "0FclMVm12Tw0"
   },
   "outputs": [],
   "source": [
    "def path_id(row, tree):\n",
    "  \n",
    "    assert (len(tree['paths']) > 0), \"Tree must have at least one path\"\n",
    "    i = 0\n",
    "    for path in tree[\"paths\"]:\n",
    "        conjuncts = path['conjunction']\n",
    "        result = map(lambda tuple: tuple[1](row), conjuncts)\n",
    "        if all(result):\n",
    "            return i\n",
    "        i+=1"
   ]
  },
  {
   "cell_type": "markdown",
   "metadata": {
    "colab_type": "text",
    "id": "JRAIJBF_2Tw2"
   },
   "source": [
    "<div class=h1_cell>\n",
    "\n",
    "Now apply the function against the loan table using tree1 and produce a series called `pcounts1`. Remember that tree1 has only 2 paths.\n",
    "</div>"
   ]
  },
  {
   "cell_type": "code",
   "execution_count": 108,
   "metadata": {
    "colab": {
     "base_uri": "https://localhost:8080/",
     "height": 67
    },
    "colab_type": "code",
    "id": "XyRe_pxg2Tw4",
    "outputId": "328aab45-7ce2-41e9-9436-ad1c488eab80"
   },
   "outputs": [
    {
     "data": {
      "text/plain": [
       "1    525\n",
       "0     89\n",
       "dtype: int64"
      ]
     },
     "execution_count": 108,
     "metadata": {},
     "output_type": "execute_result"
    }
   ],
   "source": [
    "pcounts1 = loan_table.apply(lambda row: path_id(row, tree1), axis=1)\n",
    "\n",
    "pcounts1.value_counts()"
   ]
  },
  {
   "cell_type": "markdown",
   "metadata": {
    "colab_type": "text",
    "id": "B4MHw1kc2Tw_"
   },
   "source": [
    "<div class=h1_cell>\n",
    "Looks like path 1 (i.e., `tree1['paths'][1]`) is the big winner.\n",
    "  <p>\n",
    "    Let's see what tree2 looks like. It has 4 paths.\n",
    "</div>"
   ]
  },
  {
   "cell_type": "code",
   "execution_count": 109,
   "metadata": {
    "colab": {
     "base_uri": "https://localhost:8080/",
     "height": 101
    },
    "colab_type": "code",
    "id": "UUXnlh7a2Tw_",
    "outputId": "392244c2-4e5f-404e-ae82-ff4a46d075be"
   },
   "outputs": [
    {
     "data": {
      "text/plain": [
       "3    322\n",
       "2    203\n",
       "1     88\n",
       "0      1\n",
       "dtype: int64"
      ]
     },
     "execution_count": 109,
     "metadata": {},
     "output_type": "execute_result"
    }
   ],
   "source": [
    "pcounts2 = loan_table.apply(lambda row: path_id(row, tree2), axis=1)\n",
    "\n",
    "pcounts2.value_counts()"
   ]
  },
  {
   "cell_type": "markdown",
   "metadata": {
    "colab_type": "text",
    "id": "jgJJhv_82TxD"
   },
   "source": [
    "<div class=h1_cell>\n",
    "  Looks like path 0 should definitely be tried last. In fact, it looks like the list is in exactly reverse order in terms of path usage.\n",
    "  <p>\n",
    "Let's look at tree3.\n",
    "</div>"
   ]
  },
  {
   "cell_type": "code",
   "execution_count": 110,
   "metadata": {
    "colab": {
     "base_uri": "https://localhost:8080/",
     "height": 151
    },
    "colab_type": "code",
    "id": "yhcZddAc2TxE",
    "outputId": "1d5dc07f-8c6c-4758-bfda-126548ef0c59"
   },
   "outputs": [
    {
     "data": {
      "text/plain": [
       "6    267\n",
       "4    187\n",
       "2     57\n",
       "5     55\n",
       "1     31\n",
       "3     16\n",
       "0      1\n",
       "dtype: int64"
      ]
     },
     "execution_count": 110,
     "metadata": {},
     "output_type": "execute_result"
    }
   ],
   "source": [
    "pcounts3 = loan_table.apply(lambda row: path_id(row, tree3), axis=1)\n",
    "\n",
    "pcounts3.value_counts()"
   ]
  },
  {
   "cell_type": "markdown",
   "metadata": {
    "colab_type": "text",
    "id": "HJN-D18r2TxM"
   },
   "source": [
    "<div class=h1_cell>\n",
    "\n",
    "Let's use `tree3` (i.e., `pcounts3`) as our focus. Turn `pcounts3.value_counts()` into a dictionary.\n",
    "</div>"
   ]
  },
  {
   "cell_type": "code",
   "execution_count": 117,
   "metadata": {
    "colab": {
     "base_uri": "https://localhost:8080/",
     "height": 34
    },
    "colab_type": "code",
    "id": "lgC6Seuw2TxM",
    "outputId": "b87f0a94-5f73-493b-eba0-f400d7eba91c"
   },
   "outputs": [
    {
     "data": {
      "text/plain": [
       "{6: 267, 4: 187, 2: 57, 5: 55, 1: 31, 3: 16, 0: 1}"
      ]
     },
     "execution_count": 117,
     "metadata": {},
     "output_type": "execute_result"
    }
   ],
   "source": [
    "pdict3 = dict(pcounts3.value_counts())\n",
    "pdict3"
   ]
  },
  {
   "cell_type": "markdown",
   "metadata": {
    "colab_type": "text",
    "id": "hCsgLqEG2TxS"
   },
   "source": [
    "<div class=h1_cell>\n",
    "\n",
    "Now turn the dictionary into a list of tuples. Be careful. Generators can bite you.\n",
    "</div>"
   ]
  },
  {
   "cell_type": "code",
   "execution_count": 118,
   "metadata": {
    "colab": {
     "base_uri": "https://localhost:8080/",
     "height": 34
    },
    "colab_type": "code",
    "id": "jhvdPWHV2TxT",
    "outputId": "6429e79d-cb57-4b79-9d17-1ac6f9de8ab5"
   },
   "outputs": [
    {
     "data": {
      "text/plain": [
       "[(6, 267), (4, 187), (2, 57), (5, 55), (1, 31), (3, 16), (0, 1)]"
      ]
     },
     "execution_count": 118,
     "metadata": {},
     "output_type": "execute_result"
    }
   ],
   "source": [
    "plist3 = list(pdict3.items())\n",
    "plist3"
   ]
  },
  {
   "cell_type": "markdown",
   "metadata": {
    "colab_type": "text",
    "id": "qZpnH48B2TxZ"
   },
   "source": [
    "<div class=h1_cell>\n",
    "This is kind of odd. It appears that converting to a list of tuples has also sorted the list by value in reverse order. I cannot find any documentation that says this should happen. So I am not taking chances. I am going to go ahead and sort `plist3` in a separate function. You shoud too unless you can point me to documentation that says pulling tuples from a dictionary does sorting.\n",
    "</div>"
   ]
  },
  {
   "cell_type": "code",
   "execution_count": 144,
   "metadata": {
    "colab": {
     "base_uri": "https://localhost:8080/",
     "height": 34
    },
    "colab_type": "code",
    "id": "Pi7qLB0s2Txb",
    "outputId": "1c5e1220-fae1-4c08-b08b-8b7c701578af"
   },
   "outputs": [
    {
     "data": {
      "text/plain": [
       "[(6, 267), (4, 187), (2, 57), (5, 55), (1, 31), (3, 16), (0, 1)]"
      ]
     },
     "execution_count": 144,
     "metadata": {},
     "output_type": "execute_result"
    }
   ],
   "source": [
    "from operator import itemgetter #from StackOverflow\n",
    "plist3 = list(reversed(sorted(plist3,key=itemgetter(1))))\n",
    "#plist3 = list(reversed(sorted(plist3))) #returns exactly what it was, used just to be safe\n",
    "plist3"
   ]
  },
  {
   "cell_type": "markdown",
   "metadata": {
    "colab_type": "text",
    "id": "p2haHa8n2Txe"
   },
   "source": [
    "<div class=h1_cell>\n",
    "Finally, build a new path list using plist3 as a guide.\n",
    "</div>"
   ]
  },
  {
   "cell_type": "code",
   "execution_count": 147,
   "metadata": {
    "colab": {
     "base_uri": "https://localhost:8080/",
     "height": 857
    },
    "colab_type": "code",
    "id": "tdW55urt2Txf",
    "outputId": "7e6ed259-33ff-48ff-dc6d-330d13c2de69"
   },
   "outputs": [
    {
     "data": {
      "text/plain": [
       "[{'conjunction': [('ch_bad_0',\n",
       "    <function library_w19_week4.build_pred.<locals>.<lambda>(row)>),\n",
       "   ('pa_Semiurban_0',\n",
       "    <function library_w19_week4.build_pred.<locals>.<lambda>(row)>),\n",
       "   ('dep_2_0',\n",
       "    <function library_w19_week4.build_pred.<locals>.<lambda>(row)>)],\n",
       "  'prediction': 1,\n",
       "  'gig_score': 0.0021858669417437193},\n",
       " {'conjunction': [('ch_bad_0',\n",
       "    <function library_w19_week4.build_pred.<locals>.<lambda>(row)>),\n",
       "   ('pa_Semiurban_1',\n",
       "    <function library_w19_week4.build_pred.<locals>.<lambda>(row)>),\n",
       "   ('lam_Average_0',\n",
       "    <function library_w19_week4.build_pred.<locals>.<lambda>(row)>)],\n",
       "  'prediction': 1,\n",
       "  'gig_score': 0.0052148575352743975},\n",
       " {'conjunction': [('ch_bad_1',\n",
       "    <function library_w19_week4.build_pred.<locals>.<lambda>(row)>),\n",
       "   ('apin_average_0',\n",
       "    <function library_w19_week4.build_pred.<locals>.<lambda>(row)>),\n",
       "   ('pa_Urban_0',\n",
       "    <function library_w19_week4.build_pred.<locals>.<lambda>(row)>)],\n",
       "  'prediction': 0,\n",
       "  'gig_score': 0.0014037192421204325},\n",
       " {'conjunction': [('ch_bad_0',\n",
       "    <function library_w19_week4.build_pred.<locals>.<lambda>(row)>),\n",
       "   ('pa_Semiurban_0',\n",
       "    <function library_w19_week4.build_pred.<locals>.<lambda>(row)>),\n",
       "   ('dep_2_1',\n",
       "    <function library_w19_week4.build_pred.<locals>.<lambda>(row)>)],\n",
       "  'prediction': 1,\n",
       "  'gig_score': 0.0021858669417437193},\n",
       " {'conjunction': [('ch_bad_1',\n",
       "    <function library_w19_week4.build_pred.<locals>.<lambda>(row)>),\n",
       "   ('apin_average_0',\n",
       "    <function library_w19_week4.build_pred.<locals>.<lambda>(row)>),\n",
       "   ('pa_Urban_1',\n",
       "    <function library_w19_week4.build_pred.<locals>.<lambda>(row)>)],\n",
       "  'prediction': 0,\n",
       "  'gig_score': 0.0014037192421204325},\n",
       " {'conjunction': [('ch_bad_0',\n",
       "    <function library_w19_week4.build_pred.<locals>.<lambda>(row)>),\n",
       "   ('pa_Semiurban_1',\n",
       "    <function library_w19_week4.build_pred.<locals>.<lambda>(row)>),\n",
       "   ('lam_Average_1',\n",
       "    <function library_w19_week4.build_pred.<locals>.<lambda>(row)>)],\n",
       "  'prediction': 1,\n",
       "  'gig_score': 0.0052148575352743975},\n",
       " {'conjunction': [('ch_bad_1',\n",
       "    <function library_w19_week4.build_pred.<locals>.<lambda>(row)>),\n",
       "   ('apin_average_1',\n",
       "    <function library_w19_week4.build_pred.<locals>.<lambda>(row)>)],\n",
       "  'prediction': 1,\n",
       "  'gig_score': 0.019292789018833467}]"
      ]
     },
     "execution_count": 147,
     "metadata": {},
     "output_type": "execute_result"
    }
   ],
   "source": [
    "new_paths = []\n",
    "for path in plist3:\n",
    "    #print(path[0])\n",
    "    new_paths.append(tree3[\"paths\"][path[0]])\n",
    "new_paths"
   ]
  },
  {
   "cell_type": "markdown",
   "metadata": {
    "colab_type": "text",
    "id": "1mOxu2TweS0P"
   },
   "source": [
    "I can now reset `tree3[\"paths\"]` to `new_paths`. Cool."
   ]
  },
  {
   "cell_type": "markdown",
   "metadata": {
    "colab_type": "text",
    "id": "sgub6M2D2Txj"
   },
   "source": [
    "<hr>\n",
    "<h2>\n",
    "Put it all together in a function\n",
    "</h2>\n",
    "<p>\n",
    "<div class=h1_cell>\n",
    "<p>\n",
    "Please write `reorder_paths` to produce a list of paths that is sorted on most frequently used. You can use the output of the function as:\n",
    "<p>\n",
    "<pre>\n",
    "    ordered_paths3 = reorder_paths(loan_table, tree3)\n",
    "    tree3['paths'] = ordered_paths3\n",
    "</pre>\n",
    "<p>\n",
    "I'll give you some examples below that you can test on - match my output. Note that I am printing some debugging info from inside my function. I am printing the sorted list I come up with. You do not have to print this but it is useful for debugging.\n",
    "</div>"
   ]
  },
  {
   "cell_type": "code",
   "execution_count": 159,
   "metadata": {
    "colab": {},
    "colab_type": "code",
    "id": "Pn0UCmmk2Txm"
   },
   "outputs": [],
   "source": [
    "from operator import itemgetter\n",
    "\n",
    "def reorder_paths(table, tree):\n",
    "    pcounts = loan_table.apply(lambda row: path_id(row, tree), axis=1)\n",
    "    pdict = dict(pcounts.value_counts())\n",
    "    plist = list(pdict.items())\n",
    "    plist = list(reversed(sorted(plist,key=itemgetter(1))))\n",
    "    print(plist)\n",
    "    new_paths = []\n",
    "    for path in plist:\n",
    "        new_paths.append(tree[\"paths\"][path[0]])\n",
    "    return new_paths"
   ]
  },
  {
   "cell_type": "code",
   "execution_count": 160,
   "metadata": {
    "colab": {
     "base_uri": "https://localhost:8080/",
     "height": 151
    },
    "colab_type": "code",
    "id": "1b1zM4a22Txq",
    "outputId": "70936bde-4178-4464-a9da-2d71ed9ee813"
   },
   "outputs": [
    {
     "data": {
      "text/plain": [
       "[{'conjunction': [('ch_bad_1',\n",
       "    <function library_w19_week4.build_pred.<locals>.<lambda>(row)>)],\n",
       "  'prediction': 0,\n",
       "  'gig_score': 0.12559965113188631},\n",
       " {'conjunction': [('ch_bad_0',\n",
       "    <function library_w19_week4.build_pred.<locals>.<lambda>(row)>)],\n",
       "  'prediction': 1,\n",
       "  'gig_score': 0.12559965113188631}]"
      ]
     },
     "execution_count": 160,
     "metadata": {},
     "output_type": "execute_result"
    }
   ],
   "source": [
    "tree1['paths']  #before we reorder"
   ]
  },
  {
   "cell_type": "code",
   "execution_count": 161,
   "metadata": {
    "colab": {
     "base_uri": "https://localhost:8080/",
     "height": 168
    },
    "colab_type": "code",
    "id": "eglNNQDv2Txt",
    "outputId": "a3967dd4-c894-4703-d0ed-9f7fe695c89f"
   },
   "outputs": [
    {
     "name": "stdout",
     "output_type": "stream",
     "text": [
      "[(1, 525), (0, 89)]\n"
     ]
    },
    {
     "data": {
      "text/plain": [
       "[{'conjunction': [('ch_bad_0',\n",
       "    <function library_w19_week4.build_pred.<locals>.<lambda>(row)>)],\n",
       "  'prediction': 1,\n",
       "  'gig_score': 0.12559965113188631},\n",
       " {'conjunction': [('ch_bad_1',\n",
       "    <function library_w19_week4.build_pred.<locals>.<lambda>(row)>)],\n",
       "  'prediction': 0,\n",
       "  'gig_score': 0.12559965113188631}]"
      ]
     },
     "execution_count": 161,
     "metadata": {},
     "output_type": "execute_result"
    }
   ],
   "source": [
    "reorder_paths(loan_table, tree1)  # First line printed is just for debugging"
   ]
  },
  {
   "cell_type": "code",
   "execution_count": 162,
   "metadata": {
    "colab": {
     "base_uri": "https://localhost:8080/",
     "height": 420
    },
    "colab_type": "code",
    "id": "3D0q0_s9gxxd",
    "outputId": "fd4061e9-6fe8-4744-a480-b848127b287e"
   },
   "outputs": [
    {
     "data": {
      "text/plain": [
       "[{'conjunction': [('ch_bad_1',\n",
       "    <function library_w19_week4.build_pred.<locals>.<lambda>(row)>),\n",
       "   ('apin_average_1',\n",
       "    <function library_w19_week4.build_pred.<locals>.<lambda>(row)>)],\n",
       "  'prediction': 1,\n",
       "  'gig_score': 0.019292789018833467},\n",
       " {'conjunction': [('ch_bad_1',\n",
       "    <function library_w19_week4.build_pred.<locals>.<lambda>(row)>),\n",
       "   ('apin_average_0',\n",
       "    <function library_w19_week4.build_pred.<locals>.<lambda>(row)>)],\n",
       "  'prediction': 0,\n",
       "  'gig_score': 0.019292789018833467},\n",
       " {'conjunction': [('ch_bad_0',\n",
       "    <function library_w19_week4.build_pred.<locals>.<lambda>(row)>),\n",
       "   ('pa_Semiurban_1',\n",
       "    <function library_w19_week4.build_pred.<locals>.<lambda>(row)>)],\n",
       "  'prediction': 1,\n",
       "  'gig_score': 0.006462619030620731},\n",
       " {'conjunction': [('ch_bad_0',\n",
       "    <function library_w19_week4.build_pred.<locals>.<lambda>(row)>),\n",
       "   ('pa_Semiurban_0',\n",
       "    <function library_w19_week4.build_pred.<locals>.<lambda>(row)>)],\n",
       "  'prediction': 1,\n",
       "  'gig_score': 0.006462619030620731}]"
      ]
     },
     "execution_count": 162,
     "metadata": {},
     "output_type": "execute_result"
    }
   ],
   "source": [
    "tree2['paths']  #before we reorder"
   ]
  },
  {
   "cell_type": "code",
   "execution_count": 163,
   "metadata": {
    "colab": {
     "base_uri": "https://localhost:8080/",
     "height": 437
    },
    "colab_type": "code",
    "id": "LEGh7Tez2Txw",
    "outputId": "639bde55-8e09-463c-89c4-ba4556305315"
   },
   "outputs": [
    {
     "name": "stdout",
     "output_type": "stream",
     "text": [
      "[(3, 322), (2, 203), (1, 88), (0, 1)]\n"
     ]
    },
    {
     "data": {
      "text/plain": [
       "[{'conjunction': [('ch_bad_0',\n",
       "    <function library_w19_week4.build_pred.<locals>.<lambda>(row)>),\n",
       "   ('pa_Semiurban_0',\n",
       "    <function library_w19_week4.build_pred.<locals>.<lambda>(row)>)],\n",
       "  'prediction': 1,\n",
       "  'gig_score': 0.006462619030620731},\n",
       " {'conjunction': [('ch_bad_0',\n",
       "    <function library_w19_week4.build_pred.<locals>.<lambda>(row)>),\n",
       "   ('pa_Semiurban_1',\n",
       "    <function library_w19_week4.build_pred.<locals>.<lambda>(row)>)],\n",
       "  'prediction': 1,\n",
       "  'gig_score': 0.006462619030620731},\n",
       " {'conjunction': [('ch_bad_1',\n",
       "    <function library_w19_week4.build_pred.<locals>.<lambda>(row)>),\n",
       "   ('apin_average_0',\n",
       "    <function library_w19_week4.build_pred.<locals>.<lambda>(row)>)],\n",
       "  'prediction': 0,\n",
       "  'gig_score': 0.019292789018833467},\n",
       " {'conjunction': [('ch_bad_1',\n",
       "    <function library_w19_week4.build_pred.<locals>.<lambda>(row)>),\n",
       "   ('apin_average_1',\n",
       "    <function library_w19_week4.build_pred.<locals>.<lambda>(row)>)],\n",
       "  'prediction': 1,\n",
       "  'gig_score': 0.019292789018833467}]"
      ]
     },
     "execution_count": 163,
     "metadata": {},
     "output_type": "execute_result"
    }
   ],
   "source": [
    "reorder_paths(loan_table, tree2)"
   ]
  },
  {
   "cell_type": "code",
   "execution_count": 164,
   "metadata": {
    "colab": {
     "base_uri": "https://localhost:8080/",
     "height": 874
    },
    "colab_type": "code",
    "id": "hkKC-xsP2Tx1",
    "outputId": "fc5a9830-435a-4616-f660-059667d9ecf6"
   },
   "outputs": [
    {
     "name": "stdout",
     "output_type": "stream",
     "text": [
      "[(6, 267), (4, 187), (2, 57), (5, 55), (1, 31), (3, 16), (0, 1)]\n"
     ]
    },
    {
     "data": {
      "text/plain": [
       "[{'conjunction': [('ch_bad_0',\n",
       "    <function library_w19_week4.build_pred.<locals>.<lambda>(row)>),\n",
       "   ('pa_Semiurban_0',\n",
       "    <function library_w19_week4.build_pred.<locals>.<lambda>(row)>),\n",
       "   ('dep_2_0',\n",
       "    <function library_w19_week4.build_pred.<locals>.<lambda>(row)>)],\n",
       "  'prediction': 1,\n",
       "  'gig_score': 0.0021858669417437193},\n",
       " {'conjunction': [('ch_bad_0',\n",
       "    <function library_w19_week4.build_pred.<locals>.<lambda>(row)>),\n",
       "   ('pa_Semiurban_1',\n",
       "    <function library_w19_week4.build_pred.<locals>.<lambda>(row)>),\n",
       "   ('lam_Average_0',\n",
       "    <function library_w19_week4.build_pred.<locals>.<lambda>(row)>)],\n",
       "  'prediction': 1,\n",
       "  'gig_score': 0.0052148575352743975},\n",
       " {'conjunction': [('ch_bad_1',\n",
       "    <function library_w19_week4.build_pred.<locals>.<lambda>(row)>),\n",
       "   ('apin_average_0',\n",
       "    <function library_w19_week4.build_pred.<locals>.<lambda>(row)>),\n",
       "   ('pa_Urban_0',\n",
       "    <function library_w19_week4.build_pred.<locals>.<lambda>(row)>)],\n",
       "  'prediction': 0,\n",
       "  'gig_score': 0.0014037192421204325},\n",
       " {'conjunction': [('ch_bad_0',\n",
       "    <function library_w19_week4.build_pred.<locals>.<lambda>(row)>),\n",
       "   ('pa_Semiurban_0',\n",
       "    <function library_w19_week4.build_pred.<locals>.<lambda>(row)>),\n",
       "   ('dep_2_1',\n",
       "    <function library_w19_week4.build_pred.<locals>.<lambda>(row)>)],\n",
       "  'prediction': 1,\n",
       "  'gig_score': 0.0021858669417437193},\n",
       " {'conjunction': [('ch_bad_1',\n",
       "    <function library_w19_week4.build_pred.<locals>.<lambda>(row)>),\n",
       "   ('apin_average_0',\n",
       "    <function library_w19_week4.build_pred.<locals>.<lambda>(row)>),\n",
       "   ('pa_Urban_1',\n",
       "    <function library_w19_week4.build_pred.<locals>.<lambda>(row)>)],\n",
       "  'prediction': 0,\n",
       "  'gig_score': 0.0014037192421204325},\n",
       " {'conjunction': [('ch_bad_0',\n",
       "    <function library_w19_week4.build_pred.<locals>.<lambda>(row)>),\n",
       "   ('pa_Semiurban_1',\n",
       "    <function library_w19_week4.build_pred.<locals>.<lambda>(row)>),\n",
       "   ('lam_Average_1',\n",
       "    <function library_w19_week4.build_pred.<locals>.<lambda>(row)>)],\n",
       "  'prediction': 1,\n",
       "  'gig_score': 0.0052148575352743975},\n",
       " {'conjunction': [('ch_bad_1',\n",
       "    <function library_w19_week4.build_pred.<locals>.<lambda>(row)>),\n",
       "   ('apin_average_1',\n",
       "    <function library_w19_week4.build_pred.<locals>.<lambda>(row)>)],\n",
       "  'prediction': 1,\n",
       "  'gig_score': 0.019292789018833467}]"
      ]
     },
     "execution_count": 164,
     "metadata": {},
     "output_type": "execute_result"
    }
   ],
   "source": [
    "reorder_paths(loan_table, tree3)"
   ]
  },
  {
   "cell_type": "markdown",
   "metadata": {
    "colab_type": "text",
    "collapsed": true,
    "id": "ji-VXUTc2Tx4"
   },
   "source": [
    "<hr>\n",
    "<h1>Write it out</h1>\n",
    "<div class=h1_cell>\n",
    "\n",
    "We changed both loan_table and loan results. Write them out.\n",
    "</div>"
   ]
  },
  {
   "cell_type": "code",
   "execution_count": 165,
   "metadata": {
    "colab": {},
    "colab_type": "code",
    "id": "HZakuDB42Tx4"
   },
   "outputs": [],
   "source": [
    "with open('/Users/Noah/Documents/My Documents/2018:2019/2. Winter/CIS 399/Assignment4/loan_table_week4.csv', 'w') as f:\n",
    "  loan_table.to_csv(f, encoding='utf-8', index=False)\n",
    "  \n",
    "with open('/Users/Noah/Documents/My Documents/2018:2019/2. Winter/CIS 399/Assignment4/loan_results_week4.csv', 'w') as f:\n",
    "  loan_results.to_csv(f, encoding='utf-8', index=False)"
   ]
  },
  {
   "cell_type": "markdown",
   "metadata": {
    "colab_type": "text",
    "id": "eyLXfBnWhXb3"
   },
   "source": [
    "<hr>\n",
    "<h1>Don't forget library functions</h1>\n",
    "<div class=h1_cell>\n",
    "\n",
    "Add them to `library_w19_week4b.py`. You defined `library_w19_week4.py` in intro module. You are now defining a new version of it with functions from this notebook. I added the `b` to keep them clear.\n",
    "</div>"
   ]
  }
 ],
 "metadata": {
  "colab": {
   "collapsed_sections": [],
   "name": "tree_building_assignment_w19.ipynb",
   "provenance": [],
   "version": "0.3.2"
  },
  "kernelspec": {
   "display_name": "Python 3",
   "language": "python",
   "name": "python3"
  },
  "language_info": {
   "codemirror_mode": {
    "name": "ipython",
    "version": 3
   },
   "file_extension": ".py",
   "mimetype": "text/x-python",
   "name": "python",
   "nbconvert_exporter": "python",
   "pygments_lexer": "ipython3",
   "version": "3.7.1"
  }
 },
 "nbformat": 4,
 "nbformat_minor": 1
}
