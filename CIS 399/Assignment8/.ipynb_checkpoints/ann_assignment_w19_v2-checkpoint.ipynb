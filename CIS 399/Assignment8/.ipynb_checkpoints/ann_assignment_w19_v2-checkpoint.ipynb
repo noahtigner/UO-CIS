{
 "cells": [
  {
   "cell_type": "markdown",
   "metadata": {
    "colab_type": "text",
    "id": "Rh4uU7eob-bc"
   },
   "source": [
    "<h1>\n",
    "<center>\n",
    "Module 8: Artifical Neural Nets Assignment\n",
    "</center>\n",
    "</h1>\n",
    "<div class=h1_cell>\n",
    "<p>\n",
    "I think it would be fun to try something out. Let's apply our ANN method to predicting loans. We have been using what are termed \"shallow\" machine learning methods to this point. Let's see what we can do with an ANN.\n",
    "</div>"
   ]
  },
  {
   "cell_type": "code",
   "execution_count": 387,
   "metadata": {
    "colab": {
     "base_uri": "https://localhost:8080/",
     "height": 34
    },
    "colab_type": "code",
    "id": "zn2536_DVRFX",
    "outputId": "25a2b74d-ed59-4293-a054-04d45e392e34"
   },
   "outputs": [],
   "source": [
    "import pandas as pd"
   ]
  },
  {
   "cell_type": "code",
   "execution_count": 388,
   "metadata": {
    "colab": {},
    "colab_type": "code",
    "id": "8IP18ATeIua5"
   },
   "outputs": [],
   "source": [
    "with open('/Users/Noah/Documents/My Documents/2018:2019/2. Winter/CIS 399/Assignment8/loan_table_week4.csv', 'r') as f:\n",
    "  loan_table = pd.read_csv(f)"
   ]
  },
  {
   "cell_type": "code",
   "execution_count": 389,
   "metadata": {
    "colab": {
     "base_uri": "https://localhost:8080/",
     "height": 34
    },
    "colab_type": "code",
    "id": "3FbjstFWI8XJ",
    "outputId": "17ef69bc-f945-4efa-fd11-0796088b1be0"
   },
   "outputs": [
    {
     "name": "stdout",
     "output_type": "stream",
     "text": [
      "ann_predictor\t ann_simple\t ann_simple_batch\t ann_tester\t from_scratch\t from_scratch_batch\t mse\t mse_der\t sigmoid\t \n",
      "sigmoid_der\t \n"
     ]
    }
   ],
   "source": [
    "from library_w19_deep_1 import *\n",
    "\n",
    "%who function"
   ]
  },
  {
   "cell_type": "code",
   "execution_count": 390,
   "metadata": {
    "colab": {},
    "colab_type": "code",
    "id": "q2rlz-NCnVwf"
   },
   "outputs": [],
   "source": [
    "import numpy as np"
   ]
  },
  {
   "cell_type": "markdown",
   "metadata": {
    "colab_type": "text",
    "id": "BitfuGKOnd1r"
   },
   "source": [
    "<h2>Challenge 1: connect Loan Table to simple ANN (30 points)</h2>\n",
    "\n",
    "Choose 3 columns from loan_table and wrangle them into shape so we can feed our simple ANN."
   ]
  },
  {
   "cell_type": "markdown",
   "metadata": {
    "colab_type": "text",
    "id": "JJP5W7PQ5yB7"
   },
   "source": [
    "<h2>Reminder of what we are working with</h2>\n",
    "\n",
    "I'm saying we can choose 3 columns from the loan table and use the values for the 3 inputs x1,x2,x3.\n",
    "\n",
    "<img src='https://www.dropbox.com/s/09vo4h9mufmo6tn/Screenshot%202019-02-01%2015.23.42.png?raw=1'>"
   ]
  },
  {
   "cell_type": "markdown",
   "metadata": {
    "colab_type": "text",
    "id": "bI53b4Fd6wtG"
   },
   "source": [
    "<h2>Choice of our 3 columns</h2>\n",
    "\n",
    "Here are the columns we have to choose from."
   ]
  },
  {
   "cell_type": "code",
   "execution_count": 391,
   "metadata": {
    "colab": {
     "base_uri": "https://localhost:8080/",
     "height": 126
    },
    "colab_type": "code",
    "id": "Z-9MMsJgOoGz",
    "outputId": "a9bc55b3-7759-4cac-a38f-0d5639c7ef53"
   },
   "outputs": [
    {
     "data": {
      "text/html": [
       "<div>\n",
       "<style scoped>\n",
       "    .dataframe tbody tr th:only-of-type {\n",
       "        vertical-align: middle;\n",
       "    }\n",
       "\n",
       "    .dataframe tbody tr th {\n",
       "        vertical-align: top;\n",
       "    }\n",
       "\n",
       "    .dataframe thead th {\n",
       "        text-align: right;\n",
       "    }\n",
       "</style>\n",
       "<table border=\"1\" class=\"dataframe\">\n",
       "  <thead>\n",
       "    <tr style=\"text-align: right;\">\n",
       "      <th></th>\n",
       "      <th>Gender</th>\n",
       "      <th>Married</th>\n",
       "      <th>Dependents</th>\n",
       "      <th>Education</th>\n",
       "      <th>Self_Employed</th>\n",
       "      <th>ApplicantIncome</th>\n",
       "      <th>CoapplicantIncome</th>\n",
       "      <th>LoanAmount</th>\n",
       "      <th>Loan_Amount_Term</th>\n",
       "      <th>Credit_History</th>\n",
       "      <th>...</th>\n",
       "      <th>apin_bin</th>\n",
       "      <th>apin_low</th>\n",
       "      <th>apin_average</th>\n",
       "      <th>apin_high</th>\n",
       "      <th>apin_nan</th>\n",
       "      <th>dep_0</th>\n",
       "      <th>dep_1</th>\n",
       "      <th>dep_2</th>\n",
       "      <th>dep_3+</th>\n",
       "      <th>dep_nan</th>\n",
       "    </tr>\n",
       "  </thead>\n",
       "  <tbody>\n",
       "    <tr>\n",
       "      <th>0</th>\n",
       "      <td>Male</td>\n",
       "      <td>No</td>\n",
       "      <td>0</td>\n",
       "      <td>Graduate</td>\n",
       "      <td>No</td>\n",
       "      <td>5849</td>\n",
       "      <td>0.0</td>\n",
       "      <td>NaN</td>\n",
       "      <td>360.0</td>\n",
       "      <td>1.0</td>\n",
       "      <td>...</td>\n",
       "      <td>low</td>\n",
       "      <td>1</td>\n",
       "      <td>0</td>\n",
       "      <td>0</td>\n",
       "      <td>0</td>\n",
       "      <td>1</td>\n",
       "      <td>0</td>\n",
       "      <td>0</td>\n",
       "      <td>0</td>\n",
       "      <td>0</td>\n",
       "    </tr>\n",
       "  </tbody>\n",
       "</table>\n",
       "<p>1 rows × 35 columns</p>\n",
       "</div>"
      ],
      "text/plain": [
       "  Gender Married Dependents Education Self_Employed  ApplicantIncome  \\\n",
       "0   Male      No          0  Graduate            No             5849   \n",
       "\n",
       "   CoapplicantIncome  LoanAmount  Loan_Amount_Term  Credit_History   ...     \\\n",
       "0                0.0         NaN             360.0             1.0   ...      \n",
       "\n",
       "  apin_bin  apin_low  apin_average  apin_high  apin_nan  dep_0  dep_1  dep_2  \\\n",
       "0      low         1             0          0         0      1      0      0   \n",
       "\n",
       "  dep_3+  dep_nan  \n",
       "0      0        0  \n",
       "\n",
       "[1 rows x 35 columns]"
      ]
     },
     "execution_count": 391,
     "metadata": {},
     "output_type": "execute_result"
    }
   ],
   "source": [
    "loan_table.head(1)"
   ]
  },
  {
   "cell_type": "code",
   "execution_count": 392,
   "metadata": {
    "colab": {
     "base_uri": "https://localhost:8080/",
     "height": 422
    },
    "colab_type": "code",
    "id": "679pQCGkPVLe",
    "outputId": "206b1e57-5c77-4b64-f247-4ba30c10ce12"
   },
   "outputs": [
    {
     "data": {
      "text/html": [
       "<div>\n",
       "<style scoped>\n",
       "    .dataframe tbody tr th:only-of-type {\n",
       "        vertical-align: middle;\n",
       "    }\n",
       "\n",
       "    .dataframe tbody tr th {\n",
       "        vertical-align: top;\n",
       "    }\n",
       "\n",
       "    .dataframe thead th {\n",
       "        text-align: right;\n",
       "    }\n",
       "</style>\n",
       "<table border=\"1\" class=\"dataframe\">\n",
       "  <thead>\n",
       "    <tr style=\"text-align: right;\">\n",
       "      <th></th>\n",
       "      <th>Gender</th>\n",
       "      <th>Married</th>\n",
       "      <th>Dependents</th>\n",
       "      <th>Education</th>\n",
       "      <th>Self_Employed</th>\n",
       "      <th>ApplicantIncome</th>\n",
       "      <th>CoapplicantIncome</th>\n",
       "      <th>LoanAmount</th>\n",
       "      <th>Loan_Amount_Term</th>\n",
       "      <th>Credit_History</th>\n",
       "      <th>...</th>\n",
       "      <th>apin_bin</th>\n",
       "      <th>apin_low</th>\n",
       "      <th>apin_average</th>\n",
       "      <th>apin_high</th>\n",
       "      <th>apin_nan</th>\n",
       "      <th>dep_0</th>\n",
       "      <th>dep_1</th>\n",
       "      <th>dep_2</th>\n",
       "      <th>dep_3+</th>\n",
       "      <th>dep_nan</th>\n",
       "    </tr>\n",
       "  </thead>\n",
       "  <tbody>\n",
       "    <tr>\n",
       "      <th>count</th>\n",
       "      <td>601</td>\n",
       "      <td>611</td>\n",
       "      <td>599</td>\n",
       "      <td>614</td>\n",
       "      <td>582</td>\n",
       "      <td>614.000000</td>\n",
       "      <td>614.000000</td>\n",
       "      <td>592.000000</td>\n",
       "      <td>600.00000</td>\n",
       "      <td>564.000000</td>\n",
       "      <td>...</td>\n",
       "      <td>614</td>\n",
       "      <td>614.000000</td>\n",
       "      <td>614.000000</td>\n",
       "      <td>614.000000</td>\n",
       "      <td>614.0</td>\n",
       "      <td>614.000000</td>\n",
       "      <td>614.000000</td>\n",
       "      <td>614.000000</td>\n",
       "      <td>614.000000</td>\n",
       "      <td>614.000000</td>\n",
       "    </tr>\n",
       "    <tr>\n",
       "      <th>unique</th>\n",
       "      <td>2</td>\n",
       "      <td>2</td>\n",
       "      <td>4</td>\n",
       "      <td>2</td>\n",
       "      <td>2</td>\n",
       "      <td>NaN</td>\n",
       "      <td>NaN</td>\n",
       "      <td>NaN</td>\n",
       "      <td>NaN</td>\n",
       "      <td>NaN</td>\n",
       "      <td>...</td>\n",
       "      <td>3</td>\n",
       "      <td>NaN</td>\n",
       "      <td>NaN</td>\n",
       "      <td>NaN</td>\n",
       "      <td>NaN</td>\n",
       "      <td>NaN</td>\n",
       "      <td>NaN</td>\n",
       "      <td>NaN</td>\n",
       "      <td>NaN</td>\n",
       "      <td>NaN</td>\n",
       "    </tr>\n",
       "    <tr>\n",
       "      <th>top</th>\n",
       "      <td>Male</td>\n",
       "      <td>Yes</td>\n",
       "      <td>0</td>\n",
       "      <td>Graduate</td>\n",
       "      <td>No</td>\n",
       "      <td>NaN</td>\n",
       "      <td>NaN</td>\n",
       "      <td>NaN</td>\n",
       "      <td>NaN</td>\n",
       "      <td>NaN</td>\n",
       "      <td>...</td>\n",
       "      <td>low</td>\n",
       "      <td>NaN</td>\n",
       "      <td>NaN</td>\n",
       "      <td>NaN</td>\n",
       "      <td>NaN</td>\n",
       "      <td>NaN</td>\n",
       "      <td>NaN</td>\n",
       "      <td>NaN</td>\n",
       "      <td>NaN</td>\n",
       "      <td>NaN</td>\n",
       "    </tr>\n",
       "    <tr>\n",
       "      <th>freq</th>\n",
       "      <td>489</td>\n",
       "      <td>398</td>\n",
       "      <td>345</td>\n",
       "      <td>480</td>\n",
       "      <td>500</td>\n",
       "      <td>NaN</td>\n",
       "      <td>NaN</td>\n",
       "      <td>NaN</td>\n",
       "      <td>NaN</td>\n",
       "      <td>NaN</td>\n",
       "      <td>...</td>\n",
       "      <td>607</td>\n",
       "      <td>NaN</td>\n",
       "      <td>NaN</td>\n",
       "      <td>NaN</td>\n",
       "      <td>NaN</td>\n",
       "      <td>NaN</td>\n",
       "      <td>NaN</td>\n",
       "      <td>NaN</td>\n",
       "      <td>NaN</td>\n",
       "      <td>NaN</td>\n",
       "    </tr>\n",
       "    <tr>\n",
       "      <th>mean</th>\n",
       "      <td>NaN</td>\n",
       "      <td>NaN</td>\n",
       "      <td>NaN</td>\n",
       "      <td>NaN</td>\n",
       "      <td>NaN</td>\n",
       "      <td>5403.459283</td>\n",
       "      <td>1621.245798</td>\n",
       "      <td>146.412162</td>\n",
       "      <td>342.00000</td>\n",
       "      <td>0.842199</td>\n",
       "      <td>...</td>\n",
       "      <td>NaN</td>\n",
       "      <td>0.988599</td>\n",
       "      <td>0.008143</td>\n",
       "      <td>0.003257</td>\n",
       "      <td>0.0</td>\n",
       "      <td>0.561889</td>\n",
       "      <td>0.166124</td>\n",
       "      <td>0.164495</td>\n",
       "      <td>0.083062</td>\n",
       "      <td>0.024430</td>\n",
       "    </tr>\n",
       "    <tr>\n",
       "      <th>std</th>\n",
       "      <td>NaN</td>\n",
       "      <td>NaN</td>\n",
       "      <td>NaN</td>\n",
       "      <td>NaN</td>\n",
       "      <td>NaN</td>\n",
       "      <td>6109.041673</td>\n",
       "      <td>2926.248369</td>\n",
       "      <td>85.587325</td>\n",
       "      <td>65.12041</td>\n",
       "      <td>0.364878</td>\n",
       "      <td>...</td>\n",
       "      <td>NaN</td>\n",
       "      <td>0.106250</td>\n",
       "      <td>0.089945</td>\n",
       "      <td>0.057026</td>\n",
       "      <td>0.0</td>\n",
       "      <td>0.496559</td>\n",
       "      <td>0.372495</td>\n",
       "      <td>0.371027</td>\n",
       "      <td>0.276201</td>\n",
       "      <td>0.154506</td>\n",
       "    </tr>\n",
       "    <tr>\n",
       "      <th>min</th>\n",
       "      <td>NaN</td>\n",
       "      <td>NaN</td>\n",
       "      <td>NaN</td>\n",
       "      <td>NaN</td>\n",
       "      <td>NaN</td>\n",
       "      <td>150.000000</td>\n",
       "      <td>0.000000</td>\n",
       "      <td>9.000000</td>\n",
       "      <td>12.00000</td>\n",
       "      <td>0.000000</td>\n",
       "      <td>...</td>\n",
       "      <td>NaN</td>\n",
       "      <td>0.000000</td>\n",
       "      <td>0.000000</td>\n",
       "      <td>0.000000</td>\n",
       "      <td>0.0</td>\n",
       "      <td>0.000000</td>\n",
       "      <td>0.000000</td>\n",
       "      <td>0.000000</td>\n",
       "      <td>0.000000</td>\n",
       "      <td>0.000000</td>\n",
       "    </tr>\n",
       "    <tr>\n",
       "      <th>25%</th>\n",
       "      <td>NaN</td>\n",
       "      <td>NaN</td>\n",
       "      <td>NaN</td>\n",
       "      <td>NaN</td>\n",
       "      <td>NaN</td>\n",
       "      <td>2877.500000</td>\n",
       "      <td>0.000000</td>\n",
       "      <td>100.000000</td>\n",
       "      <td>360.00000</td>\n",
       "      <td>1.000000</td>\n",
       "      <td>...</td>\n",
       "      <td>NaN</td>\n",
       "      <td>1.000000</td>\n",
       "      <td>0.000000</td>\n",
       "      <td>0.000000</td>\n",
       "      <td>0.0</td>\n",
       "      <td>0.000000</td>\n",
       "      <td>0.000000</td>\n",
       "      <td>0.000000</td>\n",
       "      <td>0.000000</td>\n",
       "      <td>0.000000</td>\n",
       "    </tr>\n",
       "    <tr>\n",
       "      <th>50%</th>\n",
       "      <td>NaN</td>\n",
       "      <td>NaN</td>\n",
       "      <td>NaN</td>\n",
       "      <td>NaN</td>\n",
       "      <td>NaN</td>\n",
       "      <td>3812.500000</td>\n",
       "      <td>1188.500000</td>\n",
       "      <td>128.000000</td>\n",
       "      <td>360.00000</td>\n",
       "      <td>1.000000</td>\n",
       "      <td>...</td>\n",
       "      <td>NaN</td>\n",
       "      <td>1.000000</td>\n",
       "      <td>0.000000</td>\n",
       "      <td>0.000000</td>\n",
       "      <td>0.0</td>\n",
       "      <td>1.000000</td>\n",
       "      <td>0.000000</td>\n",
       "      <td>0.000000</td>\n",
       "      <td>0.000000</td>\n",
       "      <td>0.000000</td>\n",
       "    </tr>\n",
       "    <tr>\n",
       "      <th>75%</th>\n",
       "      <td>NaN</td>\n",
       "      <td>NaN</td>\n",
       "      <td>NaN</td>\n",
       "      <td>NaN</td>\n",
       "      <td>NaN</td>\n",
       "      <td>5795.000000</td>\n",
       "      <td>2297.250000</td>\n",
       "      <td>168.000000</td>\n",
       "      <td>360.00000</td>\n",
       "      <td>1.000000</td>\n",
       "      <td>...</td>\n",
       "      <td>NaN</td>\n",
       "      <td>1.000000</td>\n",
       "      <td>0.000000</td>\n",
       "      <td>0.000000</td>\n",
       "      <td>0.0</td>\n",
       "      <td>1.000000</td>\n",
       "      <td>0.000000</td>\n",
       "      <td>0.000000</td>\n",
       "      <td>0.000000</td>\n",
       "      <td>0.000000</td>\n",
       "    </tr>\n",
       "    <tr>\n",
       "      <th>max</th>\n",
       "      <td>NaN</td>\n",
       "      <td>NaN</td>\n",
       "      <td>NaN</td>\n",
       "      <td>NaN</td>\n",
       "      <td>NaN</td>\n",
       "      <td>81000.000000</td>\n",
       "      <td>41667.000000</td>\n",
       "      <td>700.000000</td>\n",
       "      <td>480.00000</td>\n",
       "      <td>1.000000</td>\n",
       "      <td>...</td>\n",
       "      <td>NaN</td>\n",
       "      <td>1.000000</td>\n",
       "      <td>1.000000</td>\n",
       "      <td>1.000000</td>\n",
       "      <td>0.0</td>\n",
       "      <td>1.000000</td>\n",
       "      <td>1.000000</td>\n",
       "      <td>1.000000</td>\n",
       "      <td>1.000000</td>\n",
       "      <td>1.000000</td>\n",
       "    </tr>\n",
       "  </tbody>\n",
       "</table>\n",
       "<p>11 rows × 35 columns</p>\n",
       "</div>"
      ],
      "text/plain": [
       "       Gender Married Dependents Education Self_Employed  ApplicantIncome  \\\n",
       "count     601     611        599       614           582       614.000000   \n",
       "unique      2       2          4         2             2              NaN   \n",
       "top      Male     Yes          0  Graduate            No              NaN   \n",
       "freq      489     398        345       480           500              NaN   \n",
       "mean      NaN     NaN        NaN       NaN           NaN      5403.459283   \n",
       "std       NaN     NaN        NaN       NaN           NaN      6109.041673   \n",
       "min       NaN     NaN        NaN       NaN           NaN       150.000000   \n",
       "25%       NaN     NaN        NaN       NaN           NaN      2877.500000   \n",
       "50%       NaN     NaN        NaN       NaN           NaN      3812.500000   \n",
       "75%       NaN     NaN        NaN       NaN           NaN      5795.000000   \n",
       "max       NaN     NaN        NaN       NaN           NaN     81000.000000   \n",
       "\n",
       "        CoapplicantIncome  LoanAmount  Loan_Amount_Term  Credit_History  \\\n",
       "count          614.000000  592.000000         600.00000      564.000000   \n",
       "unique                NaN         NaN               NaN             NaN   \n",
       "top                   NaN         NaN               NaN             NaN   \n",
       "freq                  NaN         NaN               NaN             NaN   \n",
       "mean          1621.245798  146.412162         342.00000        0.842199   \n",
       "std           2926.248369   85.587325          65.12041        0.364878   \n",
       "min              0.000000    9.000000          12.00000        0.000000   \n",
       "25%              0.000000  100.000000         360.00000        1.000000   \n",
       "50%           1188.500000  128.000000         360.00000        1.000000   \n",
       "75%           2297.250000  168.000000         360.00000        1.000000   \n",
       "max          41667.000000  700.000000         480.00000        1.000000   \n",
       "\n",
       "           ...     apin_bin    apin_low  apin_average   apin_high  apin_nan  \\\n",
       "count      ...          614  614.000000    614.000000  614.000000     614.0   \n",
       "unique     ...            3         NaN           NaN         NaN       NaN   \n",
       "top        ...          low         NaN           NaN         NaN       NaN   \n",
       "freq       ...          607         NaN           NaN         NaN       NaN   \n",
       "mean       ...          NaN    0.988599      0.008143    0.003257       0.0   \n",
       "std        ...          NaN    0.106250      0.089945    0.057026       0.0   \n",
       "min        ...          NaN    0.000000      0.000000    0.000000       0.0   \n",
       "25%        ...          NaN    1.000000      0.000000    0.000000       0.0   \n",
       "50%        ...          NaN    1.000000      0.000000    0.000000       0.0   \n",
       "75%        ...          NaN    1.000000      0.000000    0.000000       0.0   \n",
       "max        ...          NaN    1.000000      1.000000    1.000000       0.0   \n",
       "\n",
       "             dep_0       dep_1       dep_2      dep_3+     dep_nan  \n",
       "count   614.000000  614.000000  614.000000  614.000000  614.000000  \n",
       "unique         NaN         NaN         NaN         NaN         NaN  \n",
       "top            NaN         NaN         NaN         NaN         NaN  \n",
       "freq           NaN         NaN         NaN         NaN         NaN  \n",
       "mean      0.561889    0.166124    0.164495    0.083062    0.024430  \n",
       "std       0.496559    0.372495    0.371027    0.276201    0.154506  \n",
       "min       0.000000    0.000000    0.000000    0.000000    0.000000  \n",
       "25%       0.000000    0.000000    0.000000    0.000000    0.000000  \n",
       "50%       1.000000    0.000000    0.000000    0.000000    0.000000  \n",
       "75%       1.000000    0.000000    0.000000    0.000000    0.000000  \n",
       "max       1.000000    1.000000    1.000000    1.000000    1.000000  \n",
       "\n",
       "[11 rows x 35 columns]"
      ]
     },
     "execution_count": 392,
     "metadata": {},
     "output_type": "execute_result"
    }
   ],
   "source": [
    "loan_table.describe(include='all')"
   ]
  },
  {
   "cell_type": "markdown",
   "metadata": {
    "colab_type": "text",
    "id": "qPXkQTsdNuWk"
   },
   "source": [
    "I like `Credit_History` in its raw form - not ohe form. No need to use ohe with the ANN.\n",
    "<p>\n",
    "  I like `ApplicantIncome` in its raw form. Again, no need to bin or ohe this column. In essence, we are asking the ANN to find the bins that are most useful. You will have to normalize this column.\n",
    "  <p>\n",
    "    I like `Married` but we will have to transform into 0 and 1.\n",
    "    <p>\n",
    "      I am not going to mess around with rows that have an empty value in one of the 3 columns. I am just going to throw them out.\n",
    "      <p>\n",
    "        "
   ]
  },
  {
   "cell_type": "markdown",
   "metadata": {
    "colab_type": "text",
    "id": "Z7RezJLro0r1"
   },
   "source": [
    "<h2>My way</h2>\n",
    "\n",
    "I'll give you the steps I followed. However, you don't have to follow these steps. If you can get to the goal some other way, please feel free. What is our goal? To have the variables `feature_set` and `labels` set up so we can call `from_scratch` as shown below.\n",
    "\n",
    "<img src='https://www.dropbox.com/s/h6vjn99ybtsozjn/Screenshot%202019-02-19%2008.45.31.png?raw=1'><br>\n",
    "<img src='https://www.dropbox.com/s/7irwbe327c4tv8y/Screenshot%202019-02-19%2008.46.02.png?raw=1'><br>\n",
    "<img src='https://www.dropbox.com/s/wokpipqobpkg83a/Screenshot%202019-02-19%2008.46.27.png?raw=1'>\n",
    "<p>\n",
    "  And here are my results:\n",
    "  <p>\n",
    "    <img src='https://www.dropbox.com/s/uvs3ni7vwa3s2ai/Screenshot%202019-02-24%2010.24.03.png?raw=1'>"
   ]
  },
  {
   "cell_type": "markdown",
   "metadata": {
    "colab_type": "text",
    "id": "_XkI5YlLq3cs"
   },
   "source": [
    "<h3>My way: step 1</h3>\n",
    "\n",
    "Build a new table that only has the 3 columns plus the target column."
   ]
  },
  {
   "cell_type": "code",
   "execution_count": 393,
   "metadata": {
    "colab": {
     "base_uri": "https://localhost:8080/",
     "height": 126
    },
    "colab_type": "code",
    "id": "T0znzmqZDWfR",
    "outputId": "337f1caa-4775-4f22-93b2-61eddf507b7f"
   },
   "outputs": [
    {
     "data": {
      "text/html": [
       "<div>\n",
       "<style scoped>\n",
       "    .dataframe tbody tr th:only-of-type {\n",
       "        vertical-align: middle;\n",
       "    }\n",
       "\n",
       "    .dataframe tbody tr th {\n",
       "        vertical-align: top;\n",
       "    }\n",
       "\n",
       "    .dataframe thead th {\n",
       "        text-align: right;\n",
       "    }\n",
       "</style>\n",
       "<table border=\"1\" class=\"dataframe\">\n",
       "  <thead>\n",
       "    <tr style=\"text-align: right;\">\n",
       "      <th></th>\n",
       "      <th>Gender</th>\n",
       "      <th>Married</th>\n",
       "      <th>Dependents</th>\n",
       "      <th>Education</th>\n",
       "      <th>Self_Employed</th>\n",
       "      <th>ApplicantIncome</th>\n",
       "      <th>CoapplicantIncome</th>\n",
       "      <th>LoanAmount</th>\n",
       "      <th>Loan_Amount_Term</th>\n",
       "      <th>Credit_History</th>\n",
       "      <th>...</th>\n",
       "      <th>apin_bin</th>\n",
       "      <th>apin_low</th>\n",
       "      <th>apin_average</th>\n",
       "      <th>apin_high</th>\n",
       "      <th>apin_nan</th>\n",
       "      <th>dep_0</th>\n",
       "      <th>dep_1</th>\n",
       "      <th>dep_2</th>\n",
       "      <th>dep_3+</th>\n",
       "      <th>dep_nan</th>\n",
       "    </tr>\n",
       "  </thead>\n",
       "  <tbody>\n",
       "    <tr>\n",
       "      <th>0</th>\n",
       "      <td>Male</td>\n",
       "      <td>No</td>\n",
       "      <td>0</td>\n",
       "      <td>Graduate</td>\n",
       "      <td>No</td>\n",
       "      <td>5849</td>\n",
       "      <td>0.0</td>\n",
       "      <td>NaN</td>\n",
       "      <td>360.0</td>\n",
       "      <td>1.0</td>\n",
       "      <td>...</td>\n",
       "      <td>low</td>\n",
       "      <td>1</td>\n",
       "      <td>0</td>\n",
       "      <td>0</td>\n",
       "      <td>0</td>\n",
       "      <td>1</td>\n",
       "      <td>0</td>\n",
       "      <td>0</td>\n",
       "      <td>0</td>\n",
       "      <td>0</td>\n",
       "    </tr>\n",
       "  </tbody>\n",
       "</table>\n",
       "<p>1 rows × 35 columns</p>\n",
       "</div>"
      ],
      "text/plain": [
       "  Gender Married Dependents Education Self_Employed  ApplicantIncome  \\\n",
       "0   Male      No          0  Graduate            No             5849   \n",
       "\n",
       "   CoapplicantIncome  LoanAmount  Loan_Amount_Term  Credit_History   ...     \\\n",
       "0                0.0         NaN             360.0             1.0   ...      \n",
       "\n",
       "  apin_bin  apin_low  apin_average  apin_high  apin_nan  dep_0  dep_1  dep_2  \\\n",
       "0      low         1             0          0         0      1      0      0   \n",
       "\n",
       "  dep_3+  dep_nan  \n",
       "0      0        0  \n",
       "\n",
       "[1 rows x 35 columns]"
      ]
     },
     "execution_count": 393,
     "metadata": {},
     "output_type": "execute_result"
    }
   ],
   "source": [
    "raw_table =  loan_table.copy()  #just made a copy\n",
    "raw_table.head(1)"
   ]
  },
  {
   "cell_type": "code",
   "execution_count": 394,
   "metadata": {
    "colab": {
     "base_uri": "https://localhost:8080/",
     "height": 77
    },
    "colab_type": "code",
    "id": "bcSkxV5qp2WA",
    "outputId": "94cafe43-632a-4528-8f34-a591bb87f33d"
   },
   "outputs": [
    {
     "data": {
      "text/html": [
       "<div>\n",
       "<style scoped>\n",
       "    .dataframe tbody tr th:only-of-type {\n",
       "        vertical-align: middle;\n",
       "    }\n",
       "\n",
       "    .dataframe tbody tr th {\n",
       "        vertical-align: top;\n",
       "    }\n",
       "\n",
       "    .dataframe thead th {\n",
       "        text-align: right;\n",
       "    }\n",
       "</style>\n",
       "<table border=\"1\" class=\"dataframe\">\n",
       "  <thead>\n",
       "    <tr style=\"text-align: right;\">\n",
       "      <th></th>\n",
       "      <th>Credit_History</th>\n",
       "      <th>ApplicantIncome</th>\n",
       "      <th>Married</th>\n",
       "      <th>Loan_Status</th>\n",
       "    </tr>\n",
       "  </thead>\n",
       "  <tbody>\n",
       "    <tr>\n",
       "      <th>0</th>\n",
       "      <td>1.0</td>\n",
       "      <td>5849</td>\n",
       "      <td>No</td>\n",
       "      <td>1</td>\n",
       "    </tr>\n",
       "  </tbody>\n",
       "</table>\n",
       "</div>"
      ],
      "text/plain": [
       "   Credit_History  ApplicantIncome Married  Loan_Status\n",
       "0             1.0             5849      No            1"
      ]
     },
     "execution_count": 394,
     "metadata": {},
     "output_type": "execute_result"
    }
   ],
   "source": [
    "ann_table = pd.DataFrame()\n",
    "ann_table[\"Credit_History\"] = raw_table[\"Credit_History\"]\n",
    "ann_table[\"ApplicantIncome\"] = raw_table[\"ApplicantIncome\"]\n",
    "ann_table[\"Married\"] = raw_table[\"Married\"]\n",
    "ann_table[\"Loan_Status\"] = raw_table[\"Loan_Status\"]\n",
    "ann_table.head(1)"
   ]
  },
  {
   "cell_type": "markdown",
   "metadata": {
    "colab_type": "text",
    "id": "VFTy07ddreJ0"
   },
   "source": [
    "<h3>My way: step 2</h3>\n",
    "\n",
    "Drop all rows with a NaN."
   ]
  },
  {
   "cell_type": "code",
   "execution_count": 395,
   "metadata": {
    "colab": {},
    "colab_type": "code",
    "id": "ougRAZE1RZIp"
   },
   "outputs": [],
   "source": [
    "ann_table = ann_table.dropna()\n"
   ]
  },
  {
   "cell_type": "code",
   "execution_count": 396,
   "metadata": {
    "colab": {
     "base_uri": "https://localhost:8080/",
     "height": 373
    },
    "colab_type": "code",
    "id": "QwV70OW9RrEe",
    "outputId": "8f1b01e3-0dae-41a9-a682-d30ad3e37206"
   },
   "outputs": [
    {
     "data": {
      "text/html": [
       "<div>\n",
       "<style scoped>\n",
       "    .dataframe tbody tr th:only-of-type {\n",
       "        vertical-align: middle;\n",
       "    }\n",
       "\n",
       "    .dataframe tbody tr th {\n",
       "        vertical-align: top;\n",
       "    }\n",
       "\n",
       "    .dataframe thead th {\n",
       "        text-align: right;\n",
       "    }\n",
       "</style>\n",
       "<table border=\"1\" class=\"dataframe\">\n",
       "  <thead>\n",
       "    <tr style=\"text-align: right;\">\n",
       "      <th></th>\n",
       "      <th>Credit_History</th>\n",
       "      <th>ApplicantIncome</th>\n",
       "      <th>Married</th>\n",
       "      <th>Loan_Status</th>\n",
       "    </tr>\n",
       "  </thead>\n",
       "  <tbody>\n",
       "    <tr>\n",
       "      <th>count</th>\n",
       "      <td>561.000000</td>\n",
       "      <td>561.000000</td>\n",
       "      <td>561</td>\n",
       "      <td>561.000000</td>\n",
       "    </tr>\n",
       "    <tr>\n",
       "      <th>unique</th>\n",
       "      <td>NaN</td>\n",
       "      <td>NaN</td>\n",
       "      <td>2</td>\n",
       "      <td>NaN</td>\n",
       "    </tr>\n",
       "    <tr>\n",
       "      <th>top</th>\n",
       "      <td>NaN</td>\n",
       "      <td>NaN</td>\n",
       "      <td>Yes</td>\n",
       "      <td>NaN</td>\n",
       "    </tr>\n",
       "    <tr>\n",
       "      <th>freq</th>\n",
       "      <td>NaN</td>\n",
       "      <td>NaN</td>\n",
       "      <td>362</td>\n",
       "      <td>NaN</td>\n",
       "    </tr>\n",
       "    <tr>\n",
       "      <th>mean</th>\n",
       "      <td>0.841355</td>\n",
       "      <td>5462.475936</td>\n",
       "      <td>NaN</td>\n",
       "      <td>0.680927</td>\n",
       "    </tr>\n",
       "    <tr>\n",
       "      <th>std</th>\n",
       "      <td>0.365671</td>\n",
       "      <td>6284.680488</td>\n",
       "      <td>NaN</td>\n",
       "      <td>0.466533</td>\n",
       "    </tr>\n",
       "    <tr>\n",
       "      <th>min</th>\n",
       "      <td>0.000000</td>\n",
       "      <td>150.000000</td>\n",
       "      <td>NaN</td>\n",
       "      <td>0.000000</td>\n",
       "    </tr>\n",
       "    <tr>\n",
       "      <th>25%</th>\n",
       "      <td>1.000000</td>\n",
       "      <td>2889.000000</td>\n",
       "      <td>NaN</td>\n",
       "      <td>0.000000</td>\n",
       "    </tr>\n",
       "    <tr>\n",
       "      <th>50%</th>\n",
       "      <td>1.000000</td>\n",
       "      <td>3813.000000</td>\n",
       "      <td>NaN</td>\n",
       "      <td>1.000000</td>\n",
       "    </tr>\n",
       "    <tr>\n",
       "      <th>75%</th>\n",
       "      <td>1.000000</td>\n",
       "      <td>5800.000000</td>\n",
       "      <td>NaN</td>\n",
       "      <td>1.000000</td>\n",
       "    </tr>\n",
       "    <tr>\n",
       "      <th>max</th>\n",
       "      <td>1.000000</td>\n",
       "      <td>81000.000000</td>\n",
       "      <td>NaN</td>\n",
       "      <td>1.000000</td>\n",
       "    </tr>\n",
       "  </tbody>\n",
       "</table>\n",
       "</div>"
      ],
      "text/plain": [
       "        Credit_History  ApplicantIncome Married  Loan_Status\n",
       "count       561.000000       561.000000     561   561.000000\n",
       "unique             NaN              NaN       2          NaN\n",
       "top                NaN              NaN     Yes          NaN\n",
       "freq               NaN              NaN     362          NaN\n",
       "mean          0.841355      5462.475936     NaN     0.680927\n",
       "std           0.365671      6284.680488     NaN     0.466533\n",
       "min           0.000000       150.000000     NaN     0.000000\n",
       "25%           1.000000      2889.000000     NaN     0.000000\n",
       "50%           1.000000      3813.000000     NaN     1.000000\n",
       "75%           1.000000      5800.000000     NaN     1.000000\n",
       "max           1.000000     81000.000000     NaN     1.000000"
      ]
     },
     "execution_count": 396,
     "metadata": {},
     "output_type": "execute_result"
    }
   ],
   "source": [
    "ann_table.describe(include='all')"
   ]
  },
  {
   "cell_type": "markdown",
   "metadata": {
    "colab_type": "text",
    "id": "4T_CmJQrQFEn"
   },
   "source": [
    "<h3>My way: step 3</h3>\n",
    "\n",
    "Wrangle the Married column into binary form."
   ]
  },
  {
   "cell_type": "code",
   "execution_count": 397,
   "metadata": {
    "colab": {},
    "colab_type": "code",
    "id": "eLh3tyB5QdTs"
   },
   "outputs": [
    {
     "name": "stderr",
     "output_type": "stream",
     "text": [
      "/Applications/anaconda3/lib/python3.7/site-packages/ipykernel_launcher.py:2: SettingWithCopyWarning: \n",
      "A value is trying to be set on a copy of a slice from a DataFrame\n",
      "\n",
      "See the caveats in the documentation: http://pandas.pydata.org/pandas-docs/stable/indexing.html#indexing-view-versus-copy\n",
      "  \n"
     ]
    }
   ],
   "source": [
    "ann_table.Married[ann_table.Married == 'Yes'] = 1\n",
    "ann_table.Married[ann_table.Married == 'No'] = 0"
   ]
  },
  {
   "cell_type": "code",
   "execution_count": 398,
   "metadata": {
    "colab": {
     "base_uri": "https://localhost:8080/",
     "height": 77
    },
    "colab_type": "code",
    "id": "NOkpTElTQPXl",
    "outputId": "2256e88a-cd8c-4b82-9097-b46e716c011d"
   },
   "outputs": [
    {
     "data": {
      "text/html": [
       "<div>\n",
       "<style scoped>\n",
       "    .dataframe tbody tr th:only-of-type {\n",
       "        vertical-align: middle;\n",
       "    }\n",
       "\n",
       "    .dataframe tbody tr th {\n",
       "        vertical-align: top;\n",
       "    }\n",
       "\n",
       "    .dataframe thead th {\n",
       "        text-align: right;\n",
       "    }\n",
       "</style>\n",
       "<table border=\"1\" class=\"dataframe\">\n",
       "  <thead>\n",
       "    <tr style=\"text-align: right;\">\n",
       "      <th></th>\n",
       "      <th>Credit_History</th>\n",
       "      <th>ApplicantIncome</th>\n",
       "      <th>Married</th>\n",
       "      <th>Loan_Status</th>\n",
       "    </tr>\n",
       "  </thead>\n",
       "  <tbody>\n",
       "    <tr>\n",
       "      <th>0</th>\n",
       "      <td>1.0</td>\n",
       "      <td>5849</td>\n",
       "      <td>0</td>\n",
       "      <td>1</td>\n",
       "    </tr>\n",
       "  </tbody>\n",
       "</table>\n",
       "</div>"
      ],
      "text/plain": [
       "   Credit_History  ApplicantIncome Married  Loan_Status\n",
       "0             1.0             5849       0            1"
      ]
     },
     "execution_count": 398,
     "metadata": {},
     "output_type": "execute_result"
    }
   ],
   "source": [
    "ann_table.head(1)"
   ]
  },
  {
   "cell_type": "markdown",
   "metadata": {
    "colab_type": "text",
    "id": "QRjX73ASTl6y"
   },
   "source": [
    "<h3>My way: step 4</h3>\n",
    "\n",
    "Normalize the ApplicantIncome column.\n"
   ]
  },
  {
   "cell_type": "code",
   "execution_count": 399,
   "metadata": {
    "colab": {},
    "colab_type": "code",
    "id": "XVcynZsjD7Fe"
   },
   "outputs": [],
   "source": [
    "ann_table[\"apin_normed\"]=(ann_table[\"ApplicantIncome\"]-ann_table[\"ApplicantIncome\"].min())/(ann_table[\"ApplicantIncome\"].max()-ann_table[\"ApplicantIncome\"].min())"
   ]
  },
  {
   "cell_type": "code",
   "execution_count": 400,
   "metadata": {
    "colab": {
     "base_uri": "https://localhost:8080/",
     "height": 195
    },
    "colab_type": "code",
    "id": "jgucPOhOJB0r",
    "outputId": "ca9e0036-afcb-4ecf-891c-389263777049"
   },
   "outputs": [
    {
     "data": {
      "text/html": [
       "<div>\n",
       "<style scoped>\n",
       "    .dataframe tbody tr th:only-of-type {\n",
       "        vertical-align: middle;\n",
       "    }\n",
       "\n",
       "    .dataframe tbody tr th {\n",
       "        vertical-align: top;\n",
       "    }\n",
       "\n",
       "    .dataframe thead th {\n",
       "        text-align: right;\n",
       "    }\n",
       "</style>\n",
       "<table border=\"1\" class=\"dataframe\">\n",
       "  <thead>\n",
       "    <tr style=\"text-align: right;\">\n",
       "      <th></th>\n",
       "      <th>Credit_History</th>\n",
       "      <th>Married</th>\n",
       "      <th>Loan_Status</th>\n",
       "      <th>apin_normed</th>\n",
       "    </tr>\n",
       "  </thead>\n",
       "  <tbody>\n",
       "    <tr>\n",
       "      <th>0</th>\n",
       "      <td>1.0</td>\n",
       "      <td>0</td>\n",
       "      <td>1</td>\n",
       "      <td>0.070489</td>\n",
       "    </tr>\n",
       "    <tr>\n",
       "      <th>1</th>\n",
       "      <td>1.0</td>\n",
       "      <td>1</td>\n",
       "      <td>0</td>\n",
       "      <td>0.054830</td>\n",
       "    </tr>\n",
       "    <tr>\n",
       "      <th>2</th>\n",
       "      <td>1.0</td>\n",
       "      <td>1</td>\n",
       "      <td>1</td>\n",
       "      <td>0.035250</td>\n",
       "    </tr>\n",
       "    <tr>\n",
       "      <th>3</th>\n",
       "      <td>1.0</td>\n",
       "      <td>1</td>\n",
       "      <td>1</td>\n",
       "      <td>0.030093</td>\n",
       "    </tr>\n",
       "    <tr>\n",
       "      <th>4</th>\n",
       "      <td>1.0</td>\n",
       "      <td>0</td>\n",
       "      <td>1</td>\n",
       "      <td>0.072356</td>\n",
       "    </tr>\n",
       "  </tbody>\n",
       "</table>\n",
       "</div>"
      ],
      "text/plain": [
       "   Credit_History Married  Loan_Status  apin_normed\n",
       "0             1.0       0            1     0.070489\n",
       "1             1.0       1            0     0.054830\n",
       "2             1.0       1            1     0.035250\n",
       "3             1.0       1            1     0.030093\n",
       "4             1.0       0            1     0.072356"
      ]
     },
     "execution_count": 400,
     "metadata": {},
     "output_type": "execute_result"
    }
   ],
   "source": [
    "ann_table = ann_table.drop(columns=\"ApplicantIncome\")\n",
    "ann_table.head()"
   ]
  },
  {
   "cell_type": "markdown",
   "metadata": {
    "colab_type": "text",
    "id": "JmhiwocGOicV"
   },
   "source": [
    "<h3>Most of way to having feature set</h3>\n",
    "\n",
    "At this point I have the following table.<br>\n",
    "<img src='https://www.dropbox.com/s/4yq0hbputlh8gt9/Screenshot%202019-02-19%2008.58.12.png?raw=1'>"
   ]
  },
  {
   "cell_type": "markdown",
   "metadata": {
    "colab_type": "text",
    "id": "FUadHVjmtAaw"
   },
   "source": [
    "<h3>My way: step 5</h3>\n",
    "\n",
    "Turning attention to labels. Pull them out of table and get them into numpy array of correct shape, i.e., (561, 1)."
   ]
  },
  {
   "cell_type": "code",
   "execution_count": 401,
   "metadata": {
    "colab": {
     "base_uri": "https://localhost:8080/",
     "height": 34
    },
    "colab_type": "code",
    "id": "gMQ15eouPK3L",
    "outputId": "9a436080-9a2f-419c-f54b-8d7cd5b488a3"
   },
   "outputs": [
    {
     "name": "stdout",
     "output_type": "stream",
     "text": [
      "(561,)\n"
     ]
    }
   ],
   "source": [
    "labels = np.array(ann_table[\"Loan_Status\"])\n",
    "print(labels.shape)"
   ]
  },
  {
   "cell_type": "code",
   "execution_count": 402,
   "metadata": {
    "colab": {},
    "colab_type": "code",
    "id": "xQhjRfkkOwRi"
   },
   "outputs": [
    {
     "name": "stdout",
     "output_type": "stream",
     "text": [
      "(561, 1)\n"
     ]
    }
   ],
   "source": [
    "labels = np.expand_dims(labels, axis=1)\n",
    "print(labels.shape)\n",
    "ann_table = ann_table.drop(columns=\"Loan_Status\")"
   ]
  },
  {
   "cell_type": "code",
   "execution_count": 403,
   "metadata": {
    "colab": {
     "base_uri": "https://localhost:8080/",
     "height": 195
    },
    "colab_type": "code",
    "id": "bmmXE7t8OnD3",
    "outputId": "5485d79b-8f82-44a6-de30-721b43649759"
   },
   "outputs": [
    {
     "data": {
      "text/html": [
       "<div>\n",
       "<style scoped>\n",
       "    .dataframe tbody tr th:only-of-type {\n",
       "        vertical-align: middle;\n",
       "    }\n",
       "\n",
       "    .dataframe tbody tr th {\n",
       "        vertical-align: top;\n",
       "    }\n",
       "\n",
       "    .dataframe thead th {\n",
       "        text-align: right;\n",
       "    }\n",
       "</style>\n",
       "<table border=\"1\" class=\"dataframe\">\n",
       "  <thead>\n",
       "    <tr style=\"text-align: right;\">\n",
       "      <th></th>\n",
       "      <th>Credit_History</th>\n",
       "      <th>Married</th>\n",
       "      <th>apin_normed</th>\n",
       "    </tr>\n",
       "  </thead>\n",
       "  <tbody>\n",
       "    <tr>\n",
       "      <th>0</th>\n",
       "      <td>1.0</td>\n",
       "      <td>0</td>\n",
       "      <td>0.070489</td>\n",
       "    </tr>\n",
       "    <tr>\n",
       "      <th>1</th>\n",
       "      <td>1.0</td>\n",
       "      <td>1</td>\n",
       "      <td>0.054830</td>\n",
       "    </tr>\n",
       "    <tr>\n",
       "      <th>2</th>\n",
       "      <td>1.0</td>\n",
       "      <td>1</td>\n",
       "      <td>0.035250</td>\n",
       "    </tr>\n",
       "    <tr>\n",
       "      <th>3</th>\n",
       "      <td>1.0</td>\n",
       "      <td>1</td>\n",
       "      <td>0.030093</td>\n",
       "    </tr>\n",
       "    <tr>\n",
       "      <th>4</th>\n",
       "      <td>1.0</td>\n",
       "      <td>0</td>\n",
       "      <td>0.072356</td>\n",
       "    </tr>\n",
       "  </tbody>\n",
       "</table>\n",
       "</div>"
      ],
      "text/plain": [
       "   Credit_History Married  apin_normed\n",
       "0             1.0       0     0.070489\n",
       "1             1.0       1     0.054830\n",
       "2             1.0       1     0.035250\n",
       "3             1.0       1     0.030093\n",
       "4             1.0       0     0.072356"
      ]
     },
     "execution_count": 403,
     "metadata": {},
     "output_type": "execute_result"
    }
   ],
   "source": [
    "ann_table.head()"
   ]
  },
  {
   "cell_type": "markdown",
   "metadata": {
    "colab_type": "text",
    "id": "xtYIpi8MteL0"
   },
   "source": [
    "<h3>My way: step 6</h3>\n",
    "\n",
    "After dropping the Loan_Status column, all I need to do is turn my table into a list of lists. And then turn that into a numpy array."
   ]
  },
  {
   "cell_type": "code",
   "execution_count": 404,
   "metadata": {
    "colab": {},
    "colab_type": "code",
    "id": "IzvEqhQhKPSE"
   },
   "outputs": [],
   "source": [
    "feature_set = ann_table.values.tolist()\n",
    "feature_set = np.array(feature_set)"
   ]
  },
  {
   "cell_type": "code",
   "execution_count": 405,
   "metadata": {
    "colab": {
     "base_uri": "https://localhost:8080/",
     "height": 50
    },
    "colab_type": "code",
    "id": "ZzWKRykGM5Vk",
    "outputId": "1b4ac96f-4217-46e1-c4bd-d91fce08f9e3"
   },
   "outputs": [
    {
     "name": "stdout",
     "output_type": "stream",
     "text": [
      "(561, 3)\n"
     ]
    },
    {
     "data": {
      "text/plain": [
       "array([1.        , 0.        , 0.07048856])"
      ]
     },
     "execution_count": 405,
     "metadata": {},
     "output_type": "execute_result"
    }
   ],
   "source": [
    "print(feature_set.shape)\n",
    "feature_set[0]"
   ]
  },
  {
   "cell_type": "markdown",
   "metadata": {
    "colab_type": "text",
    "id": "R36GXPh7t8E4"
   },
   "source": [
    "<h3>I am good to go</h3>\n",
    "\n",
    "I have `feature_set` and `labels` set up. Ready to call `from_scratch`."
   ]
  },
  {
   "cell_type": "code",
   "execution_count": 24,
   "metadata": {
    "colab": {
     "base_uri": "https://localhost:8080/",
     "height": 252
    },
    "colab_type": "code",
    "id": "DbnFXQWLPoto",
    "outputId": "c4f74936-07ae-4586-da29-13f3f5db2446"
   },
   "outputs": [
    {
     "name": "stdout",
     "output_type": "stream",
     "text": [
      "(0, array([0.20333324]))\n",
      "(1000, array([0.15038707]))\n",
      "(2000, array([0.15023847]))\n",
      "(3000, array([0.15023937]))\n",
      "(4000, array([0.1502394]))\n",
      "(5000, array([0.1502394]))\n",
      "(6000, array([0.1502394]))\n",
      "(7000, array([0.1502394]))\n",
      "(8000, array([0.1502394]))\n",
      "(9000, array([0.1502394]))\n",
      "(10000, array([0.1502394]))\n"
     ]
    },
    {
     "data": {
      "text/plain": [
       "(array([[ 4.16472464],\n",
       "        [ 0.57575124],\n",
       "        [-0.74786424]]), array([-2.88273643]))"
      ]
     },
     "execution_count": 24,
     "metadata": {},
     "output_type": "execute_result"
    }
   ],
   "source": [
    "from_scratch(feature_set, labels, hypers={'epochs':10000, 'cost-reporting':1000, 'learning-rate': .05}) #can take awhile"
   ]
  },
  {
   "cell_type": "code",
   "execution_count": 25,
   "metadata": {
    "colab": {
     "base_uri": "https://localhost:8080/",
     "height": 34
    },
    "colab_type": "code",
    "id": "eMeilVyD2WA0",
    "outputId": "f0a27a85-ea5e-4f67-da93-b6c6292d4e55"
   },
   "outputs": [
    {
     "data": {
      "text/plain": [
       "0.8146167557932263"
      ]
     },
     "execution_count": 25,
     "metadata": {},
     "output_type": "execute_result"
    }
   ],
   "source": [
    "#copied and pasted from above results\n",
    "\n",
    "ann_tester(feature_set, labels, [[ 4.16472838], [ 0.57575141], [-0.74925534]], [-2.88134978])"
   ]
  },
  {
   "cell_type": "markdown",
   "metadata": {
    "colab_type": "text",
    "id": "7RJBLZIX86TG"
   },
   "source": [
    "<h2>Not bad</h2>\n",
    "\n",
    "With just 4 weights we are able to significantly improve over the accuracy we got from random forests."
   ]
  },
  {
   "cell_type": "markdown",
   "metadata": {
    "colab_type": "text",
    "id": "gfEEge4Qhuqx"
   },
   "source": [
    "<h2>Can we do better by adjusting the learning rate?</h2>\n",
    "​\n",
    "Let's see if we can do better by decreasing the learning rate. We might be in a local minima/valley and can crawl out with smaller steps.\n"
   ]
  },
  {
   "cell_type": "code",
   "execution_count": 26,
   "metadata": {
    "colab": {
     "base_uri": "https://localhost:8080/",
     "height": 252
    },
    "colab_type": "code",
    "id": "dzjVxkYJP1Pd",
    "outputId": "d4b5973f-3af5-44d6-d44c-47f8265aee38"
   },
   "outputs": [
    {
     "name": "stdout",
     "output_type": "stream",
     "text": [
      "(0, array([0.21049601]))\n",
      "(1000, array([0.15100095]))\n",
      "(2000, array([0.15010167]))\n",
      "(3000, array([0.15008389]))\n",
      "(4000, array([0.15008281]))\n",
      "(5000, array([0.15008501]))\n",
      "(6000, array([0.15008688]))\n",
      "(7000, array([0.15008801]))\n",
      "(8000, array([0.15008862]))\n",
      "(9000, array([0.15008893]))\n",
      "(10000, array([0.15008908]))\n"
     ]
    },
    {
     "data": {
      "text/plain": [
       "(array([[ 4.14912596],\n",
       "        [ 0.56890076],\n",
       "        [-0.74108265]]), array([-2.87222201]))"
      ]
     },
     "execution_count": 26,
     "metadata": {},
     "output_type": "execute_result"
    }
   ],
   "source": [
    "from_scratch(feature_set, labels, hypers={'epochs':10000, 'cost-reporting':1000, 'learning-rate': .01}) #can take awhile"
   ]
  },
  {
   "cell_type": "code",
   "execution_count": 27,
   "metadata": {
    "colab": {
     "base_uri": "https://localhost:8080/",
     "height": 34
    },
    "colab_type": "code",
    "id": "ivRl9cVFLHpn",
    "outputId": "65031c0e-068c-4415-8b3a-6bb3b0eff67d"
   },
   "outputs": [
    {
     "data": {
      "text/plain": [
       "0.8146167557932263"
      ]
     },
     "execution_count": 27,
     "metadata": {},
     "output_type": "execute_result"
    }
   ],
   "source": [
    "#copied and pasted from above results\n",
    "\n",
    "ann_tester(feature_set, labels, [[ 4.14912334], [ 0.56890032], [-0.74241646]], [-2.87084687])"
   ]
  },
  {
   "cell_type": "markdown",
   "metadata": {
    "colab_type": "text",
    "id": "smJr9ritRuuc"
   },
   "source": [
    "No help. Same as with learning rate of `.05`. I could continue to play with the learning rate but am going to switch to another strategy: add another feature."
   ]
  },
  {
   "cell_type": "markdown",
   "metadata": {
    "colab_type": "text",
    "id": "dFe14VjhyBkM"
   },
   "source": [
    "<h1>Challenge 2: add a 4th column (20 points)</h1>\n",
    "\n",
    "Build a feature set that has 4 values taken from ['Credit_History', 'ApplicantIncome', 'Married', 'Education']. You will have to wrangle `Education`.\n",
    "<p>\n",
    "Build your ANN using from_scratch and these hypers: hypers={'epochs':10000, 'cost-reporting':1000, 'learning-rate': .05}.\n",
    "  <p>\n",
    "    Test it with ann_tester. "
   ]
  },
  {
   "cell_type": "code",
   "execution_count": 406,
   "metadata": {
    "colab": {},
    "colab_type": "code",
    "id": "5R6FdMPJwjey"
   },
   "outputs": [
    {
     "name": "stderr",
     "output_type": "stream",
     "text": [
      "/Applications/anaconda3/lib/python3.7/site-packages/ipykernel_launcher.py:2: SettingWithCopyWarning: \n",
      "A value is trying to be set on a copy of a slice from a DataFrame\n",
      "\n",
      "See the caveats in the documentation: http://pandas.pydata.org/pandas-docs/stable/indexing.html#indexing-view-versus-copy\n",
      "  \n",
      "/Applications/anaconda3/lib/python3.7/site-packages/ipykernel_launcher.py:3: SettingWithCopyWarning: \n",
      "A value is trying to be set on a copy of a slice from a DataFrame\n",
      "\n",
      "See the caveats in the documentation: http://pandas.pydata.org/pandas-docs/stable/indexing.html#indexing-view-versus-copy\n",
      "  This is separate from the ipykernel package so we can avoid doing imports until\n"
     ]
    }
   ],
   "source": [
    "ann_table[\"Education\"] = raw_table[\"Education\"]\n",
    "ann_table.Education[ann_table.Education == 'Graduate'] = 1\n",
    "ann_table.Education[ann_table.Education == 'Not Graduate'] = 0\n",
    "fs = ann_table.values.tolist()\n",
    "fs = np.array(fs)\n",
    "\n",
    "lab = labels"
   ]
  },
  {
   "cell_type": "code",
   "execution_count": 407,
   "metadata": {
    "colab": {
     "base_uri": "https://localhost:8080/",
     "height": 34
    },
    "colab_type": "code",
    "id": "6FCXDKSzw4fO",
    "outputId": "b46d89b3-3db8-431c-f81b-cbda81926e26"
   },
   "outputs": [
    {
     "data": {
      "text/plain": [
       "(561, 4)"
      ]
     },
     "execution_count": 407,
     "metadata": {},
     "output_type": "execute_result"
    }
   ],
   "source": [
    "fs.shape"
   ]
  },
  {
   "cell_type": "code",
   "execution_count": 408,
   "metadata": {
    "colab": {
     "base_uri": "https://localhost:8080/",
     "height": 34
    },
    "colab_type": "code",
    "id": "LY_tGzKdw7-z",
    "outputId": "5a99c349-14c5-46e7-d9ee-6162c0def8c2"
   },
   "outputs": [
    {
     "data": {
      "text/plain": [
       "(561, 1)"
      ]
     },
     "execution_count": 408,
     "metadata": {},
     "output_type": "execute_result"
    }
   ],
   "source": [
    "lab.shape"
   ]
  },
  {
   "cell_type": "code",
   "execution_count": null,
   "metadata": {
    "colab": {
     "base_uri": "https://localhost:8080/",
     "height": 269
    },
    "colab_type": "code",
    "id": "D2cLFV8Nc2wr",
    "outputId": "6c0eec56-a889-4aad-a47e-53b8ba357614"
   },
   "outputs": [
    {
     "name": "stdout",
     "output_type": "stream",
     "text": [
      "(0, array([0.20235387]))\n"
     ]
    }
   ],
   "source": [
    "from_scratch(fs, lab, hypers={'epochs':10000, 'cost-reporting':1000, 'learning-rate': .05}) #can take awhile"
   ]
  },
  {
   "cell_type": "markdown",
   "metadata": {
    "colab_type": "text",
    "id": "6jknHlWrRm6v"
   },
   "source": [
    "Looks like our ending cost is about the same than with just 3 columns. That should lead to roughly same accuracy than with 3 columns, i.e., `0.8146`. Let's see."
   ]
  },
  {
   "cell_type": "code",
   "execution_count": 310,
   "metadata": {
    "colab": {
     "base_uri": "https://localhost:8080/",
     "height": 34
    },
    "colab_type": "code",
    "id": "xlaKSbHbIq1w",
    "outputId": "2342e514-0c07-4c9e-882b-911ef8cb55f7"
   },
   "outputs": [
    {
     "data": {
      "text/plain": [
       "0.8146167557932263"
      ]
     },
     "execution_count": 310,
     "metadata": {},
     "output_type": "execute_result"
    }
   ],
   "source": [
    "ann_tester(fs, lab, [[ 4.11293303], [-0.5402908 ], [ 0.34635578], [-0.96150273]], [-2.53688187])"
   ]
  },
  {
   "cell_type": "markdown",
   "metadata": {
    "colab_type": "text",
    "id": "qi-49WEgSTpr"
   },
   "source": [
    "The same.\n",
    "<p>\n",
    "  From here we could try different combos of columns and also adjust the hyper-parameters. This is exactly where most of the time is spent in deep learning. It is easy to build the models but hard to find really good parameter settings."
   ]
  },
  {
   "cell_type": "markdown",
   "metadata": {
    "colab_type": "text",
    "id": "jZMfY7kNgRpX"
   },
   "source": [
    "<h1>Challenge 3: Batch it (50 points)</h1>\n",
    "\n",
    "I have mentioned the term \"batch\" in several places but never really defined it. Batch has to do with the slice of samples we take before updating weights. We have been using a batch size of 1; we take 1 sample and then do backprop and update the weights. This is also referred to as online learning or pure stochastic gradient descent.\n",
    "<p>\n",
    "  What are other options? We could delay updating weights until after we have seen n samples. If n is the length of entire feature set, it is called batch learning. If n is less than that length, it is called mini-batch.\n",
    "  <p>\n",
    "This is how it works. Let's say the batch size is set to H, half the length of the entire feature set. We do normal back propogation of each sample. We compute the changes to be made to each weight. But now we keep a running total for each weight. We don't actually change the weight until we are done with H samples. Once we have seen H samples, we then update each weight with its running total divided by H.\n",
    "    <p>\n",
    "      At this point we have seen the first H samples. Now we get setup to take the next H samples and do the same.\n",
    "      <p>\n",
    "        Once we have run through all samples in the feature set, we are done with one epoch.\n",
    "        <p>\n",
    "The extremes of batch learning are (a) batch = full feature set, i.e., accumulate weight changes until very end then do just one weight adjustment, and (b) batch size = 1, i.e., what we have been doing. Between the extremes is mini-batch where batch size is less than full feature set and greater than 1.\n",
    "<p>\n",
    "I'd like you to write a new function, ann_simple_batch, that has this header:\n",
    "  <pre>\n",
    " def ann_simple_batch(all_samples, labels, weights, bias, hypers={}):\n",
    "  \n",
    "  '''\n",
    "  Can build an ANN with n input nodes and one output node.\n",
    "  Uses sigmoid and mse.\n",
    "  '''\n",
    "  \n",
    "  input_n = all_samples.shape[1]  #number of inputs in each sample\n",
    "  \n",
    "  assert weights.shape == (input_n,1), 'weights needs to have same shape as sample'\n",
    "  assert all_samples.shape[0] >= 1, 'all_samples must represent 1 or more samples'\n",
    "  assert bias.shape == (1,) , 'a single bias weight for output node'\n",
    "  assert labels.shape[1] == 1, 'actual value for the 1 output node'\n",
    "  assert labels.shape[0] == all_samples.shape[0], 'labels must match up with samples'\n",
    "  \n",
    "  hyper_keys = [*hypers]  #fails on 2.7\n",
    "  target_set = set(['epochs', 'cost-reporting', 'learning-rate', 'batch-size'])  #might add more later\n",
    "  diff_set = set(hyper_keys) - target_set\n",
    "  if diff_set: print('WARNING: unrecognized hyper parameters ' + str(diff_set))\n",
    "\n",
    "  max_epochs = hypers['epochs'] if 'epochs' in hypers else 100\n",
    "  cost_reporting = hypers['cost-reporting'] if 'cost-reporting' in hypers else 100  #how often to report epoch cost\n",
    "  alpha = hypers['learning-rate'] if 'learning-rate' in hypers else .05  #learning rate\n",
    "batch_n = min(hypers['batch-size'],len(all_samples))  if 'batch-size' in hypers else 1  #batch size defaults to 1\n",
    "  </pre>"
   ]
  },
  {
   "cell_type": "code",
   "execution_count": 369,
   "metadata": {
    "colab": {},
    "colab_type": "code",
    "id": "l3WUUoQtgd1p"
   },
   "outputs": [],
   "source": [
    "def ann_simple_batch(all_samples, labels, weights, bias, hypers={}):\n",
    "  \n",
    "    '''\n",
    "    Can build an ANN with n input nodes and one output node.\n",
    "    Uses sigmoid and mse.\n",
    "    '''\n",
    "  \n",
    "    input_n = all_samples.shape[1]  #number of inputs in each sample\n",
    "  \n",
    "    assert weights.shape == (input_n,1), 'weights needs to have same shape as sample'\n",
    "    assert all_samples.shape[0] >= 1, 'all_samples must represent 1 or more samples'\n",
    "    assert bias.shape == (1,) , 'a single bias weight for output node'\n",
    "    assert labels.shape[1] == 1, 'actual value for the 1 output node'\n",
    "    assert labels.shape[0] == all_samples.shape[0], 'labels must match up with samples'\n",
    "  \n",
    "    hyper_keys = [*hypers]  #fails on 2.7\n",
    "    target_set = set(['epochs', 'cost-reporting', 'learning-rate', 'batch-size'])  #might add more later\n",
    "    diff_set = set(hyper_keys) - target_set\n",
    "    if diff_set: print('WARNING: unrecognized hyper parameters ' + str(diff_set))\n",
    "\n",
    "    max_epochs = hypers['epochs'] if 'epochs' in hypers else 100\n",
    "    cost_reporting = hypers['cost-reporting'] if 'cost-reporting' in hypers else 100  #how often to report epoch cost\n",
    "    alpha = hypers['learning-rate'] if 'learning-rate' in hypers else .05  #learning rate\n",
    "    batch_n = min(hypers['batch-size'],len(all_samples))  if 'batch-size' in hypers else 1  #batch size\n",
    "\n",
    "    #*****************************************#\n",
    "\n",
    "    cost_accumulator = [0, 0]  #[count, sum] use to print out costs now and then\n",
    "\n",
    "    #print(batch_n)\n",
    "    for i in range(max_epochs):\n",
    "        \n",
    "        length_samples = len(all_samples)\n",
    "        length_weights = len(weights)\n",
    "        temp_weights = [0.0] * length_weights\n",
    "        temp_bias = 0.0\n",
    "\n",
    "        #Go through each sample forward and backward\n",
    "        for j in range(length_samples):\n",
    "            \n",
    "            #do forward propogation\n",
    "            sample = np.expand_dims(all_samples[j], axis=1) #transform to match up with weight shape\n",
    "            XW = np.multiply(sample, weights)\n",
    "            XW_sum = np.sum(XW, axis=0)\n",
    "            raw_output = XW_sum + bias\n",
    "            z = sigmoid(raw_output)  #what we are predicting\n",
    "\n",
    "            #compute error\n",
    "            cost = mse(z, labels[j])\n",
    "            cost_accumulator[0] += 1  #use to print out\n",
    "            cost_accumulator[1] += cost  #use to print out\n",
    "\n",
    "            #back propogation\n",
    "            mse_deriv_value = mse_der(z, labels[j])\n",
    "            sigmoid_deriv_value = sigmoid_der(raw_output)\n",
    "            z_delta = mse_deriv_value * sigmoid_deriv_value\n",
    "        \n",
    "            #accumulate weight change\n",
    "            for k in range(length_weights):\n",
    "                temp_weights[k] += alpha * all_samples[j][k] * z_delta\n",
    "            \n",
    "            #accumulate bias change\n",
    "            temp_bias += 1.0*z_delta\n",
    "\n",
    "            #Standard\n",
    "            if(batch_n==1):\n",
    "                for k in range(length_weights):\n",
    "                    weights[k][0] -= alpha * all_samples[j][k] * z_delta\n",
    "                bias -= 1.0*z_delta\n",
    "            \n",
    "            #Mini Batch\n",
    "            elif(batch_n<length_samples and j%batch_n==0):\n",
    "                for k in range(length_weights):\n",
    "                    weights[k][0] -= temp_weights[k]/batch_n\n",
    "                    temp_weights[k] = 0.0\n",
    "                bias -= temp_bias/batch_n\n",
    "                temp_bias = 0.0\n",
    "               \n",
    "            #elif(batch_n<length_samples and length_samples-(j+\n",
    "            \n",
    "            #Batch\n",
    "            elif(j==length_samples-1):\n",
    "                for k in range(length_weights):\n",
    "                    weights[k][0] -= temp_weights[k]/batch_n\n",
    "                    temp_weights[k] = 0.0\n",
    "                bias -= temp_bias/batch_n\n",
    "                temp_bias = 0.0\n",
    "            \n",
    "            #count remainder for division   \n",
    "            #mini = length_samples%batch_n\n",
    "                \n",
    "        #Clean up \n",
    "        for k in range(length_weights):\n",
    "            #Should add in all accumulated weights left, but messes them up\n",
    "            \"\"\"\n",
    "            if mini!=0:\n",
    "                weights[k][0] -= temp_weights[k]/mini\n",
    "                bias -= temp_bias/mini\n",
    "            \"\"\"\n",
    "            temp_weights[k] = 0.0\n",
    "            temp_bias = 0.0\n",
    "        \n",
    "        #print ith cost value\n",
    "        if i%cost_reporting == 0:\n",
    "            average_cost = cost_accumulator[1]/cost_accumulator[0]  #really mse where n is cost_reporting epochs\n",
    "            print((i,average_cost))\n",
    "            cost_accumulator = [0, 0]  #reset\n",
    "\n",
    "        #end epoch loop\n",
    "\n",
    "    if cost_accumulator[0]:\n",
    "        average_cost = cost_accumulator[1]/cost_accumulator[0]  #really mse where n is cost_reporting epochs\n",
    "        print((max_epochs,average_cost))\n",
    "\n",
    "    return (weights,bias)  #don't lose these! They are the whole model."
   ]
  },
  {
   "cell_type": "code",
   "execution_count": 370,
   "metadata": {
    "colab": {},
    "colab_type": "code",
    "id": "Nk48PiKQcyOU"
   },
   "outputs": [],
   "source": [
    "#I'll give you this one - it calls your new batch function\n",
    "\n",
    "def from_scratch_batch(samples, labels, hypers):\n",
    "  \n",
    "  input_n = samples.shape[1]\n",
    "  \n",
    "  #reset weights to initial values. Seed of 42 guarantees same random values\n",
    "  np.random.seed(42)\n",
    "  weights = np.random.rand(input_n,1)\n",
    "  bias = np.random.rand(1)\n",
    "  \n",
    "  return ann_simple_batch(samples, labels, weights, bias, hypers)"
   ]
  },
  {
   "cell_type": "code",
   "execution_count": 371,
   "metadata": {
    "colab": {
     "base_uri": "https://localhost:8080/",
     "height": 252
    },
    "colab_type": "code",
    "id": "raiLrkoZdlol",
    "outputId": "6ac96fad-b50c-47c0-cbac-876825ab8e7b"
   },
   "outputs": [
    {
     "name": "stdout",
     "output_type": "stream",
     "text": [
      "(0, array([0.2252507]))\n",
      "(1000, array([0.18963359]))\n",
      "(2000, array([0.16724566]))\n",
      "(3000, array([0.15781835]))\n",
      "(4000, array([0.15358892]))\n",
      "(5000, array([0.15142295]))\n",
      "(6000, array([0.15018053]))\n",
      "(7000, array([0.14940384]))\n",
      "(8000, array([0.14888593]))\n",
      "(9000, array([0.14852327]))\n",
      "(10000, array([0.14825964]))\n"
     ]
    },
    {
     "data": {
      "text/plain": [
       "(array([[3.08766439],\n",
       "        [0.44287756],\n",
       "        [0.63808357]]), array([-2.11198922]))"
      ]
     },
     "execution_count": 371,
     "metadata": {},
     "output_type": "execute_result"
    }
   ],
   "source": [
    "#full batch on 3 columns\n",
    "\n",
    "from_scratch_batch(feature_set, labels, hypers={'epochs':10000, 'cost-reporting':1000, 'learning-rate': .05, 'batch-size': len(feature_set)})"
   ]
  },
  {
   "cell_type": "markdown",
   "metadata": {
    "colab_type": "text",
    "id": "561y9M3Wh0ur"
   },
   "source": [
    "Roughly the same weights as challenge 1. Let's check out accuracy."
   ]
  },
  {
   "cell_type": "code",
   "execution_count": 352,
   "metadata": {
    "colab": {
     "base_uri": "https://localhost:8080/",
     "height": 34
    },
    "colab_type": "code",
    "id": "MTSrg1aawizU",
    "outputId": "255d763b-43f3-4871-ad8b-4345820346df"
   },
   "outputs": [
    {
     "data": {
      "text/plain": [
       "0.8146167557932263"
      ]
     },
     "execution_count": 352,
     "metadata": {},
     "output_type": "execute_result"
    }
   ],
   "source": [
    "#trying to meet or beat the results from challenge 1: 0.8146167557932263\n",
    "\n",
    "ann_tester(feature_set, labels, [[3.08764862], [0.44288226], [0.63812674]], [-2.11309206])"
   ]
  },
  {
   "cell_type": "markdown",
   "metadata": {
    "colab_type": "text",
    "id": "bdAoylIi5zG-"
   },
   "source": [
    "No change in accuracy. As reminder, with full batch we only update the weights every epoch. In our case we average one weight change over 561 samples. Even though are results are same as with challenge 1, here is more on why full-batch may not be the best approach: https://www.researchgate.net/post/How_to_update_weights_in_Batch_update_method_of_backpropagation. also see this https://datascience.stackexchange.com/questions/16807/why-mini-batch-size-is-better-than-one-single-batch-with-all-training-data\n",
    "<p>\n",
    "  Let's try batch size of 1. This is same as in challenge 1 so should get same results."
   ]
  },
  {
   "cell_type": "code",
   "execution_count": 372,
   "metadata": {
    "colab": {
     "base_uri": "https://localhost:8080/",
     "height": 252
    },
    "colab_type": "code",
    "id": "NQg7Bv_ixF0W",
    "outputId": "0c8c03d2-8e23-4d51-f136-2303521b27e9"
   },
   "outputs": [
    {
     "name": "stdout",
     "output_type": "stream",
     "text": [
      "(0, array([0.20333324]))\n",
      "(1000, array([0.15038707]))\n",
      "(2000, array([0.15023847]))\n",
      "(3000, array([0.15023937]))\n",
      "(4000, array([0.1502394]))\n",
      "(5000, array([0.1502394]))\n",
      "(6000, array([0.1502394]))\n",
      "(7000, array([0.1502394]))\n",
      "(8000, array([0.1502394]))\n",
      "(9000, array([0.1502394]))\n",
      "(10000, array([0.1502394]))\n"
     ]
    },
    {
     "data": {
      "text/plain": [
       "(array([[ 4.16472464],\n",
       "        [ 0.57575124],\n",
       "        [-0.74786424]]), array([-2.88273643]))"
      ]
     },
     "execution_count": 372,
     "metadata": {},
     "output_type": "execute_result"
    }
   ],
   "source": [
    "#batch size of 1 - should be same as seen in challenge 1: (array([[ 4.16472838], [ 0.57575141], [-0.74925534]]), array([-2.88134978]))\n",
    "\n",
    "from_scratch_batch(feature_set, labels, hypers={'epochs':10000, 'cost-reporting':1000, 'learning-rate': .05, 'batch-size': 1})"
   ]
  },
  {
   "cell_type": "markdown",
   "metadata": {
    "colab_type": "text",
    "id": "n-_DrdI0j5M7"
   },
   "source": [
    "Same weights, as we expected."
   ]
  },
  {
   "cell_type": "markdown",
   "metadata": {
    "colab_type": "text",
    "id": "FyTeJP_s3Gwd"
   },
   "source": [
    "<h3>Let's try mini-batch</h3>\n",
    "\n",
    "I am using 32 because that is the current common wisdom in the deep learning community. This paper discusses, more generally, good values to choose for deep learning hyper-parameters: https://www.dropbox.com/s/h1wo6gajtlihdnw/setting_hypers.pdf?dl=0."
   ]
  },
  {
   "cell_type": "code",
   "execution_count": 373,
   "metadata": {
    "colab": {
     "base_uri": "https://localhost:8080/",
     "height": 252
    },
    "colab_type": "code",
    "id": "85qc8bN7yh9t",
    "outputId": "658b2677-a874-4c18-fc14-7f0742c77999"
   },
   "outputs": [
    {
     "name": "stdout",
     "output_type": "stream",
     "text": [
      "(0, array([0.21894132]))\n",
      "(1000, array([0.1527709]))\n",
      "(2000, array([0.14738656]))\n",
      "(3000, array([0.14727544]))\n",
      "(4000, array([0.14724679]))\n",
      "(5000, array([0.14723211]))\n",
      "(6000, array([0.14722179]))\n",
      "(7000, array([0.14721361]))\n",
      "(8000, array([0.14720689]))\n",
      "(9000, array([0.14720129]))\n",
      "(10000, array([0.14719662]))\n"
     ]
    },
    {
     "data": {
      "text/plain": [
       "(array([[3.94445382],\n",
       "        [0.56322239],\n",
       "        [0.02895353]]), array([-2.92489458]))"
      ]
     },
     "execution_count": 373,
     "metadata": {},
     "output_type": "execute_result"
    }
   ],
   "source": [
    "from_scratch_batch(feature_set, labels, hypers={'epochs':10000, 'cost-reporting':1000, 'learning-rate': .05, 'batch-size': 32})"
   ]
  },
  {
   "cell_type": "code",
   "execution_count": 255,
   "metadata": {
    "colab": {
     "base_uri": "https://localhost:8080/",
     "height": 34
    },
    "colab_type": "code",
    "id": "okWW2Hzy1Yi8",
    "outputId": "0a3c4843-7297-4361-f8bf-6fda1df21e0d"
   },
   "outputs": [
    {
     "data": {
      "text/plain": [
       "0.8146167557932263"
      ]
     },
     "execution_count": 255,
     "metadata": {},
     "output_type": "execute_result"
    }
   ],
   "source": [
    "ann_tester(feature_set, labels, [[3.95638668], [0.5550847 ], [0.05681819]], [-2.92605609])"
   ]
  },
  {
   "cell_type": "markdown",
   "metadata": {
    "colab_type": "text",
    "id": "O-IM9WjM2NnA"
   },
   "source": [
    "Same as with batch size = 1. In general, the larger the batch size the better. Why? Less weight updating. For the size of our problem it will be a negligible savings.\n",
    "<p>\n",
    "  But batch size has another important effect. It is a bit like the learning rate tamping down large swings of direction. Maybe you can guess why. In essence we are averaging weight changes over a batch. So it tends to smooth things out. I'll leave you with a pointer if you are interested in following up: https://stats.stackexchange.com/a/183990."
   ]
  },
  {
   "cell_type": "markdown",
   "metadata": {
    "colab_type": "text",
    "id": "bp-LYv6Pw_7r"
   },
   "source": [
    "<h1>Extra Credit: </h2>\n",
    "\n",
    "Try out `from_scratch_batch` on the Titanic data. See if you can beat the best score from the decision tree we built in week 4.\n",
    "<p>\n",
    "  I would include as many columns as you can. You can use Age directly - no binning necessary. Might be better to use ohe version of Pclass.\n",
    "  <p>\n",
    "    Remeber that `from_scratch_batch` will \"stretch\" the input weights to match your sample size. So I don't think you have to change any code. I think the main challenge is just wrangling `feature_set` and `labels` to get in shape for training."
   ]
  },
  {
   "cell_type": "code",
   "execution_count": 0,
   "metadata": {
    "colab": {},
    "colab_type": "code",
    "id": "SAyRL8LE8IrM"
   },
   "outputs": [],
   "source": [
    "#I'll give you a wrangled titanic table to get started with.\n",
    "\n",
    "titanic_table = pd.read_csv('https://docs.google.com/spreadsheets/d/e/2PACX-1vR2XbLnUuYlxaFMdS8_bBX3iKUIDEii6Lg5Rxesf-Oh8a6z8-vAN6UDGejaOrBg5130h4O_dLkecKWQ/pub?output=csv')\n",
    "titanic_table.head(1)"
   ]
  },
  {
   "cell_type": "code",
   "execution_count": 0,
   "metadata": {
    "colab": {},
    "colab_type": "code",
    "id": "NyuRQc2Q9ha8"
   },
   "outputs": [],
   "source": [
    "fs.shape"
   ]
  },
  {
   "cell_type": "code",
   "execution_count": 0,
   "metadata": {
    "colab": {},
    "colab_type": "code",
    "id": "QFNPuSU49kMM"
   },
   "outputs": [],
   "source": [
    "lab.shape"
   ]
  },
  {
   "cell_type": "code",
   "execution_count": 0,
   "metadata": {
    "colab": {},
    "colab_type": "code",
    "id": "gmRhN7Pd9nEL"
   },
   "outputs": [],
   "source": [
    "#I just used ['Age', 'Sex', 'Pclass'] as input (i.e., 3 nodes). Bet you can do better with more columns.\n",
    "\n",
    "from_scratch_batch(fs, lab, hypers={'epochs':10000, 'cost-reporting':1000, 'learning-rate': .05, 'batch-size': 32})"
   ]
  },
  {
   "cell_type": "markdown",
   "metadata": {
    "colab_type": "text",
    "id": "ceOJcSWxEQJ-"
   },
   "source": [
    "<hr>\n",
    "<h1>Write it out</h1>\n",
    "<div class=h1_cell>\n",
    "\n",
    "You defined some new functions so add them to  `library_w19_deep_1b.py`.\n",
    "<p>\n",
    "\n",
    "</div>"
   ]
  },
  {
   "cell_type": "code",
   "execution_count": 374,
   "metadata": {
    "colab": {},
    "colab_type": "code",
    "id": "WE_oeN0oiWHB"
   },
   "outputs": [],
   "source": [
    "\n",
    "output_array = (feature_set.tolist(), labels.tolist())\n",
    "import pickle\n",
    "\n",
    "with open('/Users/Noah/Documents/My Documents/2018:2019/2. Winter/CIS 399/Assignment8/loan_labels_ann', 'wb') as fp:\n",
    "    pickle.dump(output_array, fp)"
   ]
  },
  {
   "cell_type": "code",
   "execution_count": 375,
   "metadata": {
    "colab": {},
    "colab_type": "code",
    "id": "tOhkOGHQkjyo"
   },
   "outputs": [],
   "source": [
    "with open ('/Users/Noah/Documents/My Documents/2018:2019/2. Winter/CIS 399/Assignment8/loan_labels_ann', 'rb') as fp:\n",
    "    test_out = pickle.load(fp)"
   ]
  },
  {
   "cell_type": "code",
   "execution_count": 376,
   "metadata": {
    "colab": {},
    "colab_type": "code",
    "id": "RJoCIgc1lTk_"
   },
   "outputs": [],
   "source": [
    "fset = test_out[0]\n",
    "labs = test_out[1]"
   ]
  },
  {
   "cell_type": "code",
   "execution_count": 377,
   "metadata": {
    "colab": {},
    "colab_type": "code",
    "id": "HwCQ0RWXlejD"
   },
   "outputs": [
    {
     "data": {
      "text/plain": [
       "True"
      ]
     },
     "execution_count": 377,
     "metadata": {},
     "output_type": "execute_result"
    }
   ],
   "source": [
    "nfset = np.array(fset)\n",
    "(nfset == feature_set).all()"
   ]
  },
  {
   "cell_type": "code",
   "execution_count": 378,
   "metadata": {
    "colab": {},
    "colab_type": "code",
    "id": "o4i91Z_UmHrS"
   },
   "outputs": [
    {
     "data": {
      "text/plain": [
       "True"
      ]
     },
     "execution_count": 378,
     "metadata": {},
     "output_type": "execute_result"
    }
   ],
   "source": [
    "nlabs = np.array(labs)\n",
    "(nlabs == labels).all()"
   ]
  },
  {
   "cell_type": "code",
   "execution_count": 379,
   "metadata": {
    "colab": {},
    "colab_type": "code",
    "id": "6Ks-2OD6mTdS"
   },
   "outputs": [
    {
     "name": "stdout",
     "output_type": "stream",
     "text": [
      "(561, 3)\n",
      "(561, 1)\n"
     ]
    }
   ],
   "source": [
    "print(nfset.shape)\n",
    "print(nlabs.shape)"
   ]
  },
  {
   "cell_type": "code",
   "execution_count": 380,
   "metadata": {
    "colab": {},
    "colab_type": "code",
    "id": "Ee4YfcNEodrj"
   },
   "outputs": [
    {
     "name": "stdout",
     "output_type": "stream",
     "text": [
      "(0, array([0.20333324]))\n",
      "(100, array([0.15167822]))\n",
      "(200, array([0.15028916]))\n",
      "(300, array([0.15025866]))\n",
      "(400, array([0.15024222]))\n",
      "(500, array([0.15023467]))\n",
      "(600, array([0.1502322]))\n",
      "(700, array([0.15023221]))\n",
      "(800, array([0.15023323]))\n",
      "(900, array([0.1502345]))\n",
      "(1000, array([0.15023566]))\n"
     ]
    },
    {
     "data": {
      "text/plain": [
       "(array([[ 4.15999099],\n",
       "        [ 0.57509469],\n",
       "        [-0.69123216]]), array([-2.88193287]))"
      ]
     },
     "execution_count": 380,
     "metadata": {},
     "output_type": "execute_result"
    }
   ],
   "source": [
    "#should get (900, array([0.20541425]))\n",
    "\n",
    "from_scratch(nfset, nlabs, hypers={'epochs':1000, 'cost-reporting':100, 'learning-rate': .05})"
   ]
  },
  {
   "cell_type": "code",
   "execution_count": 382,
   "metadata": {
    "colab": {},
    "colab_type": "code",
    "id": "YmWasxyDXoRM"
   },
   "outputs": [],
   "source": [
    "with open('/Users/Noah/Documents/My Documents/2018:2019/2. Winter/CIS 399/Assignment8/loan_labels_ann.txt', 'w') as f:\n",
    "  np.savetxt(f, labels)"
   ]
  },
  {
   "cell_type": "code",
   "execution_count": 383,
   "metadata": {
    "colab": {},
    "colab_type": "code",
    "id": "R37aLIvLZksy"
   },
   "outputs": [
    {
     "data": {
      "text/plain": [
       "((561,), (561, 1))"
      ]
     },
     "execution_count": 383,
     "metadata": {},
     "output_type": "execute_result"
    }
   ],
   "source": [
    "with open('/Users/Noah/Documents/My Documents/2018:2019/2. Winter/CIS 399/Assignment8/loan_labels_ann.txt', 'r') as f:\n",
    "  check_labs = np.loadtxt(f)\n",
    "(check_labs.shape, labels.shape)  #have to reestablish 2nd index of 1 - it is lost on writing"
   ]
  },
  {
   "cell_type": "code",
   "execution_count": 384,
   "metadata": {
    "colab": {},
    "colab_type": "code",
    "id": "InYh4DAcXp5M"
   },
   "outputs": [],
   "source": [
    "with open('/Users/Noah/Documents/My Documents/2018:2019/2. Winter/CIS 399/Assignment8/loan_input_ann.txt', 'w') as f:\n",
    "  np.savetxt(f, feature_set)"
   ]
  },
  {
   "cell_type": "code",
   "execution_count": 385,
   "metadata": {
    "colab": {},
    "colab_type": "code",
    "id": "rtdvnZ-sZ8NB"
   },
   "outputs": [
    {
     "data": {
      "text/plain": [
       "((561, 3), (561, 3))"
      ]
     },
     "execution_count": 385,
     "metadata": {},
     "output_type": "execute_result"
    }
   ],
   "source": [
    "with open('/Users/Noah/Documents/My Documents/2018:2019/2. Winter/CIS 399/Assignment8/loan_input_ann.txt', 'r') as f:\n",
    "  check_input = np.loadtxt(f)\n",
    "(check_input.shape,feature_set.shape)"
   ]
  },
  {
   "cell_type": "markdown",
   "metadata": {
    "colab_type": "text",
    "id": "ROmN7g-JZke8"
   },
   "source": []
  },
  {
   "cell_type": "code",
   "execution_count": 386,
   "metadata": {
    "colab": {},
    "colab_type": "code",
    "id": "GaRjwO7pK4eq"
   },
   "outputs": [
    {
     "data": {
      "text/plain": [
       "(561, 3)"
      ]
     },
     "execution_count": 386,
     "metadata": {},
     "output_type": "execute_result"
    }
   ],
   "source": [
    "feature_set.shape"
   ]
  },
  {
   "cell_type": "code",
   "execution_count": null,
   "metadata": {},
   "outputs": [],
   "source": []
  }
 ],
 "metadata": {
  "colab": {
   "collapsed_sections": [],
   "name": "ann_assignment_w19_v2.ipynb",
   "provenance": [],
   "version": "0.3.2"
  },
  "kernelspec": {
   "display_name": "Python 3",
   "language": "python",
   "name": "python3"
  },
  "language_info": {
   "codemirror_mode": {
    "name": "ipython",
    "version": 3
   },
   "file_extension": ".py",
   "mimetype": "text/x-python",
   "name": "python",
   "nbconvert_exporter": "python",
   "pygments_lexer": "ipython3",
   "version": "3.7.1"
  }
 },
 "nbformat": 4,
 "nbformat_minor": 1
}
