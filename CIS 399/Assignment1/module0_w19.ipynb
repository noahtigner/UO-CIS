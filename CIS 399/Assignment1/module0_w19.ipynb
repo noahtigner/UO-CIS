{
 "cells": [
  {
   "cell_type": "markdown",
   "metadata": {
    "colab_type": "text",
    "id": "uYrKGy1QZbfW"
   },
   "source": [
    "<hr>\n",
    "\n",
    "# Warm-up 1: Take a look at the tutorial notebook and do some computing\n",
    "\n",
    "<p>\n",
    "&nbsp;&nbsp;&nbsp;&nbsp;An important point to note is that I am creating notebooks for the class in google colab and also running my code from colab. I suggest you do the same. It is true that I have anaconda downloaded to all of my own computers. And that I can run a notebook server from each so I don't technically need the server profided by colab. But colab is cloud based so I can access it from any computer. And it gives me file storage (using Google Drive). And I can easily move notebooks from it to my local computer and vice versa. And it gives me access to a GPU. And it is free.\n",
    "<p>\n",
    "&nbsp;&nbsp;&nbsp;&nbsp;Here is a tutorial notebook that comes with colab - go ahead and open it then come back here. https://colab.research.google.com/notebooks/basic_features_overview.ipynb. You shold now have 2 tabs that you can switch between for this exercise.\n",
    "<p>\n",
    "&nbsp;&nbsp;&nbsp;&nbsp;For the most part, what is desribed in the tutorial notebook also applies to running a notebook server on your own computer. But there are differences: colab gives you features not found in anaconda jupyter; anaconda jupyter gives you features not found in colab. I'll point these out during the quarter.\n",
    "  <p>\n",
    "&nbsp;&nbsp;&nbsp;&nbsp;Go ahead and at least skim the tutorial notebook now then come back here to do some work.\n",
    "<p>\n",
    "&nbsp;&nbsp;&nbsp;&nbsp;For your first warm-up, add a code cell below to compute this: $\\sqrt{3x-1}+(1+x)^2,$ where x = 1. You should see 5.414213562373095 as output. You should be able to do it without importing any packages. If you cannot figure it out, google for solution!\n",
    "</div>"
   ]
  },
  {
   "cell_type": "code",
   "execution_count": 6,
   "metadata": {},
   "outputs": [
    {
     "name": "stdout",
     "output_type": "stream",
     "text": [
      "5.414213562373095\n"
     ]
    }
   ],
   "source": [
    "x = 1\n",
    "print((3*x - 1)**(1/2) + (1 + x)**2)"
   ]
  },
  {
   "cell_type": "markdown",
   "metadata": {
    "colab_type": "text",
    "id": "E6NYiPcPxl9u"
   },
   "source": [
    "<hr>\n",
    "&nbsp;&nbsp;&nbsp;&nbsp;Once you have the new cell working, time to think about saving. Because I am on colab, I have several options given to me once I click the File tab:\n",
    "<ul>\n",
    "  <li>Save a copy in Drive\n",
    "  <li>Save a copy as a github gist\n",
    "  <li>Save a copy in github\n",
    "  <li>**Save**\n",
    "  <li>Save and pin revision\n",
    "</ul>\n",
    "&nbsp;&nbsp;&nbsp;&nbsp;I am going to use Save because it is the simplest. This will store the notebook in colab (actually in a folder called Colab Notebooks in Drive). It will <b>not</b> overwrite the file but instead make a new version. Cool. You can see all your versions with a menu option under File called Revision History.\n",
    "<p>\n",
    "&nbsp;&nbsp;&nbsp;&nbsp;If you want to link up with your github account, please do. During the quarter for homework and exams, all I want for turn-in is a notebook uploaded to Canvas. What environment you use, where you save notebooks, where you run notebooks is up to you.\n",
    "  <hr>"
   ]
  },
  {
   "cell_type": "markdown",
   "metadata": {
    "colab_type": "text",
    "id": "O5CWV-QZjSAk"
   },
   "source": [
    "\n",
    "\n",
    "# Warm-up 2: Things not as they seem\n",
    "\n",
    "<p>\n",
    "&nbsp;&nbsp;&nbsp;&nbsp;You have to be careful of the type of object you have in Python. All Python objects will support the print function. But print does a bit of pretty printing that might lead you astray. Let's check it out."
   ]
  },
  {
   "cell_type": "code",
   "execution_count": 2,
   "metadata": {
    "colab": {
     "base_uri": "https://localhost:8080/",
     "height": 35
    },
    "colab_type": "code",
    "id": "kPKj9dcc9u-U",
    "outputId": "c3091625-8f20-4d05-9b41-a9a07ae9c196"
   },
   "outputs": [
    {
     "name": "stdout",
     "output_type": "stream",
     "text": [
      "['sample_data']\n"
     ]
    }
   ],
   "source": [
    "files = !ls  # Note the coolness of this. I am invoking a shell command and getting output back here in notebook.\n",
    "\n",
    "print(files)\n"
   ]
  },
  {
   "cell_type": "markdown",
   "metadata": {
    "colab_type": "text",
    "id": "n_odyRhE8OHk"
   },
   "source": [
    "Looks like a list, right? Look a little closer."
   ]
  },
  {
   "cell_type": "code",
   "execution_count": 11,
   "metadata": {
    "colab": {
     "base_uri": "https://localhost:8080/",
     "height": 52
    },
    "colab_type": "code",
    "id": "ptE1ZhCU869Y",
    "outputId": "ea931e95-5c16-4a98-d37b-7ceb4ef60d8b"
   },
   "outputs": [
    {
     "name": "stdout",
     "output_type": "stream",
     "text": [
      "True\n",
      "False\n"
     ]
    }
   ],
   "source": [
    "print(type(['sample_data']) == list)\n",
    "\n",
    "print(type(files) == list)  # files is not a list even though it prints like one"
   ]
  },
  {
   "cell_type": "markdown",
   "metadata": {
    "colab_type": "text",
    "id": "bukuKNIM9djr"
   },
   "source": [
    "FInd out what the type of files is. Then lookup the Class definition on the web. Then convert files to a list that cotains a PosixPath object."
   ]
  },
  {
   "cell_type": "code",
   "execution_count": 14,
   "metadata": {
    "colab": {
     "base_uri": "https://localhost:8080/",
     "height": 35
    },
    "colab_type": "code",
    "id": "5NZgz8Se8fIP",
    "outputId": "d7772047-0483-4c81-d5c4-c01bfe669993"
   },
   "outputs": [
    {
     "name": "stdout",
     "output_type": "stream",
     "text": [
      "<class 'list'>\n",
      "[PosixPath('04.pptx'), PosixPath('04b (1).pptx'), PosixPath('04b.pptx'), PosixPath('05.pptx'), PosixPath('05b.pptx'), PosixPath('06.pptx'), PosixPath('06b.pptx'), PosixPath('06c.pptx'), PosixPath('2501.docx'), PosixPath('314Midterm.docx'), PosixPath('56685751915__02EEE6C2-1D98-4CCF-8089-31DA42DE5E46 (1).jpeg'), PosixPath('56685751915__02EEE6C2-1D98-4CCF-8089-31DA42DE5E46.jpeg'), PosixPath('56685775812__1A13A6D8-8AE1-463F-A4F0-BE48D149A80C.jpeg'), PosixPath('CISCommon (1).vdi'), PosixPath('CUSTOMER_INFO_SHEET.xls'), PosixPath('December 10, 2018.pdf'), PosixPath('FILE_2193.pdf'), PosixPath('FILE_9210.pdf'), PosixPath('IMG_4358 (2).jpg'), PosixPath('Imogen Heap - Headlock (Official Acapella).mp3'), PosixPath('Lost or Expired Check Form July 2015.pdf'), PosixPath('Screenshot 2018-11-16 13.06.47.png'), PosixPath('eagle-cap-wilderness-loop.gpx'), PosixPath('module0_w19.ipynb'), PosixPath('~$_FOR_02_05_Lab_Instructions.doc'), PosixPath('~$_FOR_02_11_Lab_Instructions.doc'), PosixPath('~$_FOR_03_04_Lab_Instructions (1).doc'), PosixPath('~$_FOR_03_08_Lab_Instructions.doc')]\n"
     ]
    }
   ],
   "source": [
    "#your answer goes here\n",
    "files = !ls\n",
    "print(type(files.paths))\n",
    "print(files.paths)\n",
    "\n"
   ]
  },
  {
   "cell_type": "markdown",
   "metadata": {
    "colab_type": "text",
    "id": "tMcHPhVm_dM9"
   },
   "source": [
    "Let's try another in next warm-up."
   ]
  },
  {
   "cell_type": "markdown",
   "metadata": {
    "colab_type": "text",
    "collapsed": true,
    "id": "YafwE49AZbfY"
   },
   "source": [
    "<hr>\n",
    "\n",
    "# Warm-up 3: Another subtle use of objects\n",
    "\n",
    "<p>\n",
    "&nbsp;&nbsp;&nbsp;&nbsp;We sometimes want to take 2 lists and interleave them. So given `x` and `y`, we want target` as seen below. I give you 4 ways that should do the trick. Please make all the print statements True. Hint: figure out the type of each result.\n",
    "<P>\n",
    "FYI: if you are running with 2.7, you will see 4 True values printed. When you run with 3.6, you will only see one True printed. Something changed between 2.7 and 3.6.\n",
    "</div>"
   ]
  },
  {
   "cell_type": "code",
   "execution_count": 20,
   "metadata": {
    "colab": {
     "base_uri": "https://localhost:8080/",
     "height": 87
    },
    "colab_type": "code",
    "id": "9ZNLcig6ZbfZ",
    "outputId": "cb9619fa-0be1-4167-b1af-1e0520b25969"
   },
   "outputs": [
    {
     "name": "stdout",
     "output_type": "stream",
     "text": [
      "<class 'list'>\n",
      "True\n",
      "True\n",
      "True\n",
      "True\n"
     ]
    }
   ],
   "source": [
    "x = [1,2,3,4,5,6]\n",
    "\n",
    "y = ['a', 'b', 'c', 'd', 'e', 'f']\n",
    "\n",
    "target = [(1,'a'), (2, 'b'), (3, 'c'), (4, 'd'), (5, 'e'), (6, 'f')]\n",
    "\n",
    "#Here are 4 alternative ways that should give us the target.\n",
    "\n",
    "z1 = list(zip(x,y))\n",
    "#print(type(z1))\n",
    "\n",
    "z2 = [(x[i], y[i]) for i in range(len(x))]\n",
    "\n",
    "z3 = list(map(lambda a,b: (a,b), x, y))\n",
    "print(type(z3))\n",
    "\n",
    "def foo(a,b): return (a,b)\n",
    "z4 = list(map(foo, x, y))\n",
    "\n",
    "\n",
    "print(z1==target)\n",
    "print(z2==target)\n",
    "print(z3==target)\n",
    "print(z4==target)\n"
   ]
  },
  {
   "cell_type": "markdown",
   "metadata": {
    "colab_type": "text",
    "id": "AuKOvA40Zbfe"
   },
   "source": [
    "<hr>\n",
    "\n",
    "# Warm-up 4: Functions are first class\n",
    "\n",
    "<p>\n",
    "&nbsp;&nbsp;&nbsp;&nbsp;We will be using functions as data in various data-structures we build. Here is a warm-up.\n",
    "<p>\n",
    "Define a function `func1` of one argument, a list of integers. The function returns a list of functions of one argument. Each function in the list adds the corresponding integer to its argument. Here is my answer when setting base to 10:\n",
    "<pre>\n",
    "14\n",
    "16\n",
    "12\n",
    "18\n",
    "20\n",
    "</pre>\n",
    "</div>"
   ]
  },
  {
   "cell_type": "code",
   "execution_count": 26,
   "metadata": {
    "colab": {
     "base_uri": "https://localhost:8080/",
     "height": 104
    },
    "colab_type": "code",
    "id": "cJi2SIFcZbfg",
    "outputId": "33db2f1d-ef8c-4532-d057-d41a1069ed53"
   },
   "outputs": [
    {
     "ename": "TypeError",
     "evalue": "'int' object is not subscriptable",
     "output_type": "error",
     "traceback": [
      "\u001b[0;31m---------------------------------------------------------------------------\u001b[0m",
      "\u001b[0;31mTypeError\u001b[0m                                 Traceback (most recent call last)",
      "\u001b[0;32m<ipython-input-26-e2d86afbd3bb>\u001b[0m in \u001b[0;36m<module>\u001b[0;34m\u001b[0m\n\u001b[1;32m     14\u001b[0m \u001b[0mbase\u001b[0m \u001b[0;34m=\u001b[0m \u001b[0;36m10\u001b[0m\u001b[0;34m\u001b[0m\u001b[0;34m\u001b[0m\u001b[0m\n\u001b[1;32m     15\u001b[0m \u001b[0;34m\u001b[0m\u001b[0m\n\u001b[0;32m---> 16\u001b[0;31m \u001b[0;32mfor\u001b[0m \u001b[0mitem\u001b[0m \u001b[0;32min\u001b[0m \u001b[0mmap\u001b[0m\u001b[0;34m(\u001b[0m\u001b[0;32mlambda\u001b[0m \u001b[0mf\u001b[0m\u001b[0;34m:\u001b[0m \u001b[0mf\u001b[0m\u001b[0;34m(\u001b[0m\u001b[0mbase\u001b[0m\u001b[0;34m)\u001b[0m\u001b[0;34m,\u001b[0m \u001b[0mfns\u001b[0m\u001b[0;34m)\u001b[0m\u001b[0;34m:\u001b[0m\u001b[0;34m\u001b[0m\u001b[0;34m\u001b[0m\u001b[0m\n\u001b[0m\u001b[1;32m     17\u001b[0m     \u001b[0mprint\u001b[0m\u001b[0;34m(\u001b[0m\u001b[0mitem\u001b[0m\u001b[0;34m)\u001b[0m\u001b[0;34m\u001b[0m\u001b[0;34m\u001b[0m\u001b[0m\n",
      "\u001b[0;32m<ipython-input-26-e2d86afbd3bb>\u001b[0m in \u001b[0;36m<lambda>\u001b[0;34m(f)\u001b[0m\n\u001b[1;32m     14\u001b[0m \u001b[0mbase\u001b[0m \u001b[0;34m=\u001b[0m \u001b[0;36m10\u001b[0m\u001b[0;34m\u001b[0m\u001b[0;34m\u001b[0m\u001b[0m\n\u001b[1;32m     15\u001b[0m \u001b[0;34m\u001b[0m\u001b[0m\n\u001b[0;32m---> 16\u001b[0;31m \u001b[0;32mfor\u001b[0m \u001b[0mitem\u001b[0m \u001b[0;32min\u001b[0m \u001b[0mmap\u001b[0m\u001b[0;34m(\u001b[0m\u001b[0;32mlambda\u001b[0m \u001b[0mf\u001b[0m\u001b[0;34m:\u001b[0m \u001b[0mf\u001b[0m\u001b[0;34m(\u001b[0m\u001b[0mbase\u001b[0m\u001b[0;34m)\u001b[0m\u001b[0;34m,\u001b[0m \u001b[0mfns\u001b[0m\u001b[0;34m)\u001b[0m\u001b[0;34m:\u001b[0m\u001b[0;34m\u001b[0m\u001b[0;34m\u001b[0m\u001b[0m\n\u001b[0m\u001b[1;32m     17\u001b[0m     \u001b[0mprint\u001b[0m\u001b[0;34m(\u001b[0m\u001b[0mitem\u001b[0m\u001b[0;34m)\u001b[0m\u001b[0;34m\u001b[0m\u001b[0;34m\u001b[0m\u001b[0m\n",
      "\u001b[0;32m<ipython-input-26-e2d86afbd3bb>\u001b[0m in \u001b[0;36m<lambda>\u001b[0;34m(s)\u001b[0m\n\u001b[1;32m      5\u001b[0m     \u001b[0mg\u001b[0m \u001b[0;34m=\u001b[0m \u001b[0;34m[\u001b[0m\u001b[0;34m]\u001b[0m\u001b[0;34m\u001b[0m\u001b[0;34m\u001b[0m\u001b[0m\n\u001b[1;32m      6\u001b[0m     \u001b[0;32mfor\u001b[0m \u001b[0mi\u001b[0m \u001b[0;32min\u001b[0m \u001b[0mrange\u001b[0m\u001b[0;34m(\u001b[0m\u001b[0mlen\u001b[0m\u001b[0;34m(\u001b[0m\u001b[0ms\u001b[0m\u001b[0;34m)\u001b[0m\u001b[0;34m)\u001b[0m\u001b[0;34m:\u001b[0m\u001b[0;34m\u001b[0m\u001b[0;34m\u001b[0m\u001b[0m\n\u001b[0;32m----> 7\u001b[0;31m         \u001b[0mg\u001b[0m\u001b[0;34m.\u001b[0m\u001b[0mappend\u001b[0m\u001b[0;34m(\u001b[0m\u001b[0;32mlambda\u001b[0m \u001b[0ms\u001b[0m\u001b[0;34m:\u001b[0m \u001b[0ms\u001b[0m\u001b[0;34m[\u001b[0m\u001b[0mi\u001b[0m\u001b[0;34m]\u001b[0m \u001b[0;34m+\u001b[0m \u001b[0mbase\u001b[0m\u001b[0;34m)\u001b[0m\u001b[0;34m\u001b[0m\u001b[0;34m\u001b[0m\u001b[0m\n\u001b[0m\u001b[1;32m      8\u001b[0m     \u001b[0;32mreturn\u001b[0m \u001b[0mg\u001b[0m\u001b[0;34m\u001b[0m\u001b[0;34m\u001b[0m\u001b[0m\n\u001b[1;32m      9\u001b[0m \u001b[0;34m\u001b[0m\u001b[0m\n",
      "\u001b[0;31mTypeError\u001b[0m: 'int' object is not subscriptable"
     ]
    }
   ],
   "source": [
    "q = [4, 6, 2, 8, 10]  # sample list of integers\n",
    "\n",
    "def func1(s):\n",
    "  #fill in body of this function\n",
    "    g = []\n",
    "    for i in range(len(s)):\n",
    "        g.append(lambda s: s[i] + base)\n",
    "    return g\n",
    "\n",
    "#don't change code below\n",
    "\n",
    "fns = func1(q)\n",
    "\n",
    "base = 10\n",
    "\n",
    "for item in map(lambda f: f(base), fns):\n",
    "    print(item)\n"
   ]
  },
  {
   "cell_type": "markdown",
   "metadata": {
    "colab_type": "text",
    "id": "K1hM2oiaZbfm"
   },
   "source": [
    "<hr>\n",
    "\n",
    "# Warm-up 5: Dictionaries and lists will be used frequently\n",
    "\n",
    "<p>\n",
    "&nbsp;&nbsp;&nbsp;&nbsp;Things get nested! Make sure you can access items nested in a tangled data structure. And note that a dictionary key can be any immutable object, e.g., number, string, tuple.\n",
    "</div>"
   ]
  },
  {
   "cell_type": "code",
   "execution_count": 0,
   "metadata": {
    "colab": {},
    "colab_type": "code",
    "id": "G2MtLEmbZbfm"
   },
   "outputs": [],
   "source": [
    "tangled = [\n",
    "            {(0,1): [ {0:'zero'}, {1:'one'} ],\n",
    "             (2,3): [ {2:'two'}, {3:'three'} ],\n",
    "             (4,5): [ {4:'four'}, {5:'five'} ]},\n",
    "            {(6,7): [ {0:'zerob'}, {1:'oneb'} ],\n",
    "             (8,9): [ {2:'twob'}, {3:'threeb'} ]}\n",
    "          ]\n"
   ]
  },
  {
   "cell_type": "code",
   "execution_count": 34,
   "metadata": {
    "colab": {
     "base_uri": "https://localhost:8080/",
     "height": 35
    },
    "colab_type": "code",
    "id": "321bso4_J2Gg",
    "outputId": "d2207f94-bc79-4668-e117-9ea395e75051"
   },
   "outputs": [
    {
     "name": "stdout",
     "output_type": "stream",
     "text": [
      "oneb\n"
     ]
    }
   ],
   "source": [
    "#pull out oneb\n",
    "\n",
    "tangled = [\n",
    "            {(0,1): [ {0:'zero'}, {1:'one'} ],\n",
    "             (2,3): [ {2:'two'}, {3:'three'} ],\n",
    "             (4,5): [ {4:'four'}, {5:'five'} ]},\n",
    "            {(6,7): [ {0:'zerob'}, {1:'oneb'} ],\n",
    "             (8,9): [ {2:'twob'}, {3:'threeb'} ]}\n",
    "          ]\n",
    "print(tangled[1][6,7][1][1])\n"
   ]
  },
  {
   "cell_type": "code",
   "execution_count": 38,
   "metadata": {
    "colab": {
     "base_uri": "https://localhost:8080/",
     "height": 35
    },
    "colab_type": "code",
    "id": "013A_d2GKo4f",
    "outputId": "d86a8f65-4c71-4297-f03d-64fa218d565e"
   },
   "outputs": [
    {
     "name": "stdout",
     "output_type": "stream",
     "text": [
      "four\n"
     ]
    }
   ],
   "source": [
    "#pull out four\n",
    "tangled = [\n",
    "            {(0,1): [ {0:'zero'}, {1:'one'} ],\n",
    "             (2,3): [ {2:'two'}, {3:'three'} ],\n",
    "             (4,5): [ {4:'four'}, {5:'five'} ]},\n",
    "            {(6,7): [ {0:'zerob'}, {1:'oneb'} ],\n",
    "             (8,9): [ {2:'twob'}, {3:'threeb'} ]}\n",
    "          ]\n",
    "\n",
    "print(tangled[0][4,5][0][4])\n",
    "\n"
   ]
  },
  {
   "cell_type": "markdown",
   "metadata": {
    "colab_type": "text",
    "id": "eShc3kuA6vVz"
   },
   "source": [
    "%%html\n",
    "<style>\n",
    ".h1_cell, .just_text {\n",
    "    box-sizing: border-box;\n",
    "    padding-top:5px;\n",
    "    padding-bottom:5px;\n",
    "    font-family: \"Times New Roman\", \"Georgia\", \"Serif\";\n",
    "    font-size: 125%;\n",
    "    line-height: 22px; /* 5px +12px + 5px */\n",
    "    text-indent: 15px;\n",
    "    background-color: #fbfbea; //#e6e6e6;\n",
    "    padding: 10px;\n",
    "}\n",
    "\n",
    "hr { \n",
    "    display: block;\n",
    "    margin-top: 0.5em;\n",
    "    margin-bottom: 0.5em;\n",
    "    margin-left: auto;\n",
    "    margin-right: auto;\n",
    "    border-style: inset;\n",
    "    border-width: 2px;\n",
    "}\n",
    "</style>"
   ]
  },
  {
   "cell_type": "markdown",
   "metadata": {
    "colab_type": "text",
    "id": "_VSGZ-0PZbfs"
   },
   "source": [
    "<hr>\n",
    "<h1>\n",
    "Reminder - none of this will be graded\n",
    "</h1>\n",
    "<div class=h1_cell>\n",
    "<p>\n",
    "Just gives you a chance to practice skills you will see later in the course.\n",
    "</div>"
   ]
  },
  {
   "cell_type": "markdown",
   "metadata": {
    "colab_type": "text",
    "id": "uuUhJH64LS3F"
   },
   "source": [
    "<hr>\n",
    "\n",
    "# A few things I found that do *not* work in colab\n",
    "\n",
    "<p>\n",
    "&nbsp;&nbsp;&nbsp;&nbsp;They work in anaconda jupyter but not in colab. I found one reason is that each colab cell is a full iframe. So difficult to do notebook wide modification unless you use colab special built-ins. So these are some of the downsides of using google colab.\n",
    "  <p>\n",
    "    Note in all these cases, I did not get an error. Things just did not work.\n",
    "</div>"
   ]
  },
  {
   "cell_type": "markdown",
   "metadata": {
    "colab_type": "text",
    "id": "-sYTKvDOPFyd"
   },
   "source": [
    "You want themes? Sorry."
   ]
  },
  {
   "cell_type": "code",
   "execution_count": 0,
   "metadata": {
    "colab": {},
    "colab_type": "code",
    "id": "YOZ7_OMSB-Cu"
   },
   "outputs": [],
   "source": [
    "#Once uncommented, the install works. But the change of theme does nothing while in colab. It appears themes have been disabled on the colab server. See https://github.com/googlecolab/colabtools/issues/90.\n",
    "\n",
    "#!pip install jupyterthemes\n",
    "#!jt -t chesterish\n"
   ]
  },
  {
   "cell_type": "markdown",
   "metadata": {
    "colab_type": "text",
    "id": "JcP5DucWPJdn"
   },
   "source": [
    "You want some of those cool extensions? No can do."
   ]
  },
  {
   "cell_type": "code",
   "execution_count": 0,
   "metadata": {
    "colab": {},
    "colab_type": "code",
    "id": "yd_jtvL_ChzR"
   },
   "outputs": [],
   "source": [
    "#This succeeds in colab but has no effect.\n",
    "#!pip install jupyter_contrib_nbextensions && jupyter contrib nbextension install\n"
   ]
  },
  {
   "cell_type": "markdown",
   "metadata": {
    "colab_type": "text",
    "id": "8iJTCJNhPPn-"
   },
   "source": [
    "Widgets look cool to you. Won't work."
   ]
  },
  {
   "cell_type": "code",
   "execution_count": 0,
   "metadata": {
    "colab": {},
    "colab_type": "code",
    "id": "JwWWTrxRGSG-"
   },
   "outputs": [],
   "source": [
    "#This succeeds but widgets don't run\n",
    "\n",
    "#!jupyter nbextension enable --py widgetsnbextension\n",
    "#from ipywidgets import interact\n",
    "#import ipywidgets as widgets\n",
    "\n",
    "'''\n",
    "def f(x):\n",
    "    return x\n",
    "  \n",
    "# Generate a slider \n",
    "interact(f, x=10,);\n",
    "'''\n"
   ]
  },
  {
   "cell_type": "code",
   "execution_count": 27,
   "metadata": {
    "colab": {
     "base_uri": "https://localhost:8080/",
     "height": 35
    },
    "colab_type": "code",
    "id": "HhamfObNIct5",
    "outputId": "c816cc00-315d-42f8-84da-d21be76a5445"
   },
   "outputs": [
    {
     "data": {
      "application/vnd.jupyter.widget-view+json": {
       "model_id": "af7a57bbde4e4ae1960ce28413203b77",
       "version_major": 2,
       "version_minor": 0
      },
      "text/plain": [
       "HBox(children=(Play(value=50, description='Press play'), IntSlider(value=0)))"
      ]
     },
     "metadata": {
      "tags": []
     },
     "output_type": "display_data"
    }
   ],
   "source": [
    "play = widgets.Play(\n",
    "    # interval=10,\n",
    "    value=50,\n",
    "    min=0,\n",
    "    max=100,\n",
    "    step=1,\n",
    "    description=\"Press play\",\n",
    "    disabled=False\n",
    ")\n",
    "slider = widgets.IntSlider()\n",
    "widgets.jslink((play, 'value'), (slider, 'value'))\n",
    "widgets.HBox([play, slider])"
   ]
  }
 ],
 "metadata": {
  "colab": {
   "collapsed_sections": [],
   "name": "module0_w19.ipynb",
   "provenance": [],
   "toc_visible": true,
   "version": "0.3.2"
  },
  "kernelspec": {
   "display_name": "Python 3",
   "language": "python",
   "name": "python3"
  },
  "language_info": {
   "codemirror_mode": {
    "name": "ipython",
    "version": 3
   },
   "file_extension": ".py",
   "mimetype": "text/x-python",
   "name": "python",
   "nbconvert_exporter": "python",
   "pygments_lexer": "ipython3",
   "version": "3.7.1"
  },
  "toc": {
   "base_numbering": 1,
   "nav_menu": {},
   "number_sections": true,
   "sideBar": true,
   "skip_h1_title": false,
   "title_cell": "Table of Contents",
   "title_sidebar": "Contents",
   "toc_cell": false,
   "toc_position": {},
   "toc_section_display": true,
   "toc_window_display": false
  }
 },
 "nbformat": 4,
 "nbformat_minor": 1
}
